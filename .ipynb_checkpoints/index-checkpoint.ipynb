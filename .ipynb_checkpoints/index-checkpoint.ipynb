{
 "cells": [
  {
   "cell_type": "markdown",
   "metadata": {},
   "source": [
    "# Wissenschaftstheoretische Aspekte der Digital Humanities\n",
    "\n",
    " "
   ]
  },
  {
   "cell_type": "markdown",
   "metadata": {},
   "source": [
    "Die Vorlesung behandelt das breite Spektrum methodischer Aspekte der *computational humanities*. Die neuen computergestützten Hilfsmittel erlauben den Fächern der Geistes- und Kulturwissenschaften, ihre fachspezifischen Fragenstellungen methodisch neu zu bearbeiten. Die Vorlesung deckt weiter Bereiche der geisteswissenschaftlichen Datenerhebung und -bearbeitung ab. Moderne Methoden der historischen Datenerhebung, Bildverarbeitung, Merkmalsidentifikation, Klassifikation von Objekten, Textanalyse und linguistische Texterschließung werden ebenso behandelt wie die Identifikation von kausaler Redeweise in großen Textkorpora.\n",
    "\n",
    "Teilnehmer der Vorlesung werden angeregt, selbst eine Arbeitsumgebung für die Nutzung von Jupyter Notebooks und der Python-Programmiersprache einzurichten. In dieser Arbeitsumgebung können die Notebooks angeschaut und bearbeitet werden, allerdings werden Änderungen nach einer Stunde ohne Aktivität wieder gelöscht. Bearbeitete Notebooks sollten daher auf einen anderen Datenspeicher geladen werden.  \n",
    "\n",
    "Die Vorlesung richtet sich an Interessierte der Geisteswissenschaften und reflektiert ihre wissenschaftstheoretischen Voraussetzungen und Möglichkeiten. Computerkenntnisse jenseits der Handhabung von Office-Programmen und Webbrowsern sind nicht erforderlich. Die Sprache Python wird für die Vorlesung benutzt und mit kleinen Übungen beispielhaft angewendet."
   ]
  },
  {
   "cell_type": "markdown",
   "metadata": {},
   "source": [
    "## Rezepte der computational humanities"
   ]
  },
  {
   "cell_type": "markdown",
   "metadata": {},
   "source": [
    "### Mittelalterliche Diagramme"
   ]
  },
  {
   "cell_type": "markdown",
   "metadata": {},
   "source": [
    "Einige der ältesten Diagramme zu planetaren Ereignissen finden sich in mittelalterlichen Manuskripten von Calcidius, Cappela, Macrobius und Plinius. Um Kopierbeziehungen herstellen zu können, werden Facsimilie der Diagramme, erstellt aus der Eastwood Microfilm Sammlung, in Merkmals-Kategorien eingeordnet. Durch die Analyse des Hinzufügens oder Weglassens von Merkmalen, können Abstammungsbäume (Dendrogramme) erstellt werden.\n",
    "\n",
    "Das Notebook zu [interaktiven Dendrogrammen](./Notebooks/DendrogramAnalysis_Interactive.ipynb) zeigt den Nutzen von interaktiven Widgets für das Einlesen von Daten und den Vergleich von Dendrogrammen."
   ]
  },
  {
   "cell_type": "markdown",
   "metadata": {},
   "source": [
    "### Bild-Eigenschaftserkennung"
   ]
  }
 ],
 "metadata": {
  "anaconda-cloud": {},
  "kernelspec": {
   "display_name": "Python 3",
   "language": "python",
   "name": "python3"
  },
  "language_info": {
   "codemirror_mode": {
    "name": "ipython",
    "version": 3
   },
   "file_extension": ".py",
   "mimetype": "text/x-python",
   "name": "python",
   "nbconvert_exporter": "python",
   "pygments_lexer": "ipython3",
   "version": "3.5.2"
  },
  "latex_envs": {
   "bibliofile": "biblio.bib",
   "cite_by": "apalike",
   "current_citInitial": 1,
   "eqLabelWithNumbers": true,
   "eqNumInitial": 0
  },
  "nav_menu": {},
  "toc": {
   "navigate_menu": true,
   "number_sections": true,
   "sideBar": true,
   "threshold": 6,
   "toc_cell": false,
   "toc_section_display": "block",
   "toc_window_display": false
  }
 },
 "nbformat": 4,
 "nbformat_minor": 0
}
