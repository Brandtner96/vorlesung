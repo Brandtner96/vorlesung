{
 "cells": [
  {
   "cell_type": "markdown",
   "metadata": {},
   "source": [
    "# Vorlesung: Arbeiten mit Webseiten als Quellen\n",
    "\n",
    "Viele Datenbank verfügen über eine Webseite, die eine Textsuche erlaubt. Das Result einer solchen Suche kann über das Python Paket beautifulsoup ausgelesen und in einen Dataframe geschrieben werden. \n",
    "Aufgrund dieser Daten kann dann weiter gearbeitet werden, sei es mit regulären Ausdrücken oder NLTK. "
   ]
  },
  {
   "cell_type": "code",
   "execution_count": 5,
   "metadata": {
    "collapsed": true
   },
   "outputs": [],
   "source": [
    "import json\n",
    "import re\n",
    "import pandas as pd\n",
    "\n",
    "import requests\n",
    "from bs4 import BeautifulSoup"
   ]
  },
  {
   "cell_type": "markdown",
   "metadata": {},
   "source": [
    "## Stellen einer Suchanfrage: Jordanus\n",
    "\n",
    "Als erstes muss in der Suchmaske der Webseite eine Suche gestartet werden. Einige Datenbanken bieten auch eine sogenannte API an. \n",
    "Diese kann dazu genutzt werden, direkt ohne Umweg über ein Browser-Tab eine Suchanfrage zu stellen.\n",
    "\n",
    "In diesem Beispiel ergibt die Suchanfrage einen Webseiten String, der einer Datenbank-Abfrage entspricht. Nun kann über das requests Paket eine Abfrage der Webseite gestartet werden und\n",
    "das Resultat wird mittels BeautifulSoup in eine \"Textsuppe\" umgewandelt."
   ]
  },
  {
   "cell_type": "code",
   "execution_count": 2,
   "metadata": {
    "collapsed": false
   },
   "outputs": [],
   "source": [
    "url = 'http://jordanus.badw.de/cgi-bin/lrz_jord-search.pl?sprache=en&datenbank=ptolemaeus&ausgabe=dhstext&ausdateiformat=txt&listpos=0&listen=keine&listlet=keiner&fn=t52a56.f&fi=Martianus+Capella'\n",
    "    \n",
    "r  = requests.get(url)\n",
    "\n",
    "data = r.text\n",
    "\n",
    "soup = BeautifulSoup(data,'lxml')"
   ]
  },
  {
   "cell_type": "markdown",
   "metadata": {},
   "source": [
    "## Beautiful Soup Basics\n",
    "\n"
   ]
  },
  {
   "cell_type": "markdown",
   "metadata": {},
   "source": [
    "Get the title of the html page"
   ]
  },
  {
   "cell_type": "code",
   "execution_count": 3,
   "metadata": {
    "collapsed": false
   },
   "outputs": [
    {
     "data": {
      "text/plain": [
       "<title>Search result</title>"
      ]
     },
     "execution_count": 3,
     "metadata": {},
     "output_type": "execute_result"
    }
   ],
   "source": [
    "soup.title"
   ]
  },
  {
   "cell_type": "markdown",
   "metadata": {},
   "source": [
    "Find all paragraphs"
   ]
  },
  {
   "cell_type": "code",
   "execution_count": 4,
   "metadata": {
    "collapsed": false
   },
   "outputs": [
    {
     "data": {
      "text/plain": [
       "[<p>\n",
       " </p>]"
      ]
     },
     "execution_count": 4,
     "metadata": {},
     "output_type": "execute_result"
    }
   ],
   "source": [
    "soup.findAll('p')"
   ]
  },
  {
   "cell_type": "markdown",
   "metadata": {},
   "source": [
    "Find all links"
   ]
  },
  {
   "cell_type": "code",
   "execution_count": 5,
   "metadata": {
    "collapsed": false
   },
   "outputs": [
    {
     "data": {
      "text/plain": [
       "[<a href=\"http://jordanus.badw.de/cgi-bin/lrz_jord-form.pl?sprache=en\"><font color=\"#8A2020\" size=\"+1\">New search</font>\n",
       " </a>,\n",
       " <a href=\"http://jordanus.badw.de/cgi-bin/lrz_jord-search.pl?sprache=en&amp;datenbank=ptolemaeus&amp;ausgabe=dhs&amp;ausdateiformat=txt&amp;listpos=0&amp;listen=keine&amp;listlet=keiner&amp;fn=t52a56.f&amp;fi=Martianus+Capella\"><b>ACAPR00001/48</b></a>,\n",
       " <a href=\"http://jordanus.badw.de/cgi-bin/lrz_jord-search.pl?sprache=en&amp;datenbank=ptolemaeus&amp;ausgabe=dhs&amp;ausdateiformat=txt&amp;listpos=0&amp;listen=keine&amp;listlet=keiner&amp;fn=t52a56.f&amp;fi=Martianus+Capella\"><b>ANEYHC3970726/02</b></a>,\n",
       " <a href=\"http://jordanus.badw.de/cgi-bin/lrz_jord-search.pl?sprache=en&amp;datenbank=ptolemaeus&amp;ausgabe=dhs&amp;ausdateiformat=txt&amp;listpos=0&amp;listen=keine&amp;listlet=keiner&amp;fn=t52a56.f&amp;fi=Martianus+Capella\"><b>BBRGS0424/04</b></a>]"
      ]
     },
     "execution_count": 5,
     "metadata": {},
     "output_type": "execute_result"
    }
   ],
   "source": [
    "soup.findAll('a')[:4]"
   ]
  },
  {
   "cell_type": "markdown",
   "metadata": {},
   "source": [
    "Die so erhaltenen Daten können nun je nach Struktur der Webseite nach Merkmalen durchsucht werden. Bei der Jordanus Webseite (http://jordanus.badw.de/) werden die Daten als Tabelle dargestellt. \n",
    "Deshalb wird nun nach dem Wort \"table\" gesucht. Jede Tabelle ist mit Zeilen (\"tr\") und Spalten (\"td\") strukturiert. Der Inhalt jeder Zeile wird in ein Schlüssel:Wert Paar umgewandelt und in eine Liste geschrieben.   "
   ]
  },
  {
   "cell_type": "code",
   "execution_count": 6,
   "metadata": {
    "collapsed": false
   },
   "outputs": [],
   "source": [
    "data = []\n",
    "tables = soup.find_all('table')\n",
    "\n",
    "for table in tables:\n",
    "    item = {}\n",
    "    table_body = table.find_all('tr')\n",
    "    for row in table_body:\n",
    "        cols = row.find_all('td')\n",
    "        cols = [ele.text.strip() for ele in cols]\n",
    "        if cols:\n",
    "            item[cols[0]] = cols[1]\n",
    "    data.append(item) "
   ]
  },
  {
   "cell_type": "code",
   "execution_count": 7,
   "metadata": {
    "collapsed": false
   },
   "outputs": [
    {
     "data": {
      "text/plain": [
       "[{'Search expr.:': 'Author = Martianus Capella'},\n",
       " {'Number of records found: \\n82': 'New search'},\n",
       " {},\n",
       " {'2. Incipit': 'Item Machrobius. Luna item circuli',\n",
       "  '2/48': 'ACAPR00001/48',\n",
       "  'Add. numbers': 'Gen. Sci. 1',\n",
       "  'Author standard': 'Macrobius\\nMartianus Capella',\n",
       "  'Century': '12\\n13\\n14\\n15',\n",
       "  'City': 'San Juan Capistrano',\n",
       "  'Condition': '(152-154): these leaves are slit and rather crudely repaired. Apart from these three leaves the whole of this manuscript is in fine condition\\nUse of a piece of parchment from an English language bill of conveyance to repair (150)',\n",
       "  'Contents': 'Comm. 1.20.14 (p. 81, line 10) to 1.20.32 (p.84, line 27); extract from Felix Capella; (80r) Macrobius. Eratostenes philosophus ideoque geometra (...)',\n",
       "  'Country': 'USA',\n",
       "  'Cover': 'Bound in 15th century calf\\nBound in old English calf',\n",
       "  'Decorations': '(152v-154v) Colour drawings of constellations\\n(152-154) contain 30 remarkable English pen-drawings of the early 13th century; initials mainly in red; with diagrams, tables, etc.\\n(33r) Diagrams of four regions',\n",
       "  'Folio no.': '79r-80v',\n",
       "  'Height x width': '240 x 150\\n238 x 150',\n",
       "  'Incipit': '(79r) In omni orbe et spera',\n",
       "  'Initials etc': '(2r) no rubric; (3v, 4r-v) rubrics; (51r-55v) very handsomely rubricated',\n",
       "  'Language': 'Latin',\n",
       "  'Library': 'The Library of Robert B. Honeyman Jr.',\n",
       "  'Material': 'Membr.',\n",
       "  'No. of hands': '1',\n",
       "  'No. of leaves': '222\\n219',\n",
       "  'Old Shelfmarks': 'Nr. 12145 (Sir Thomas Philipps at Ford Abbey sale, 1846).- Nr. 76 (W.H. Robinson, cat. 81); Honeyman Ms. 50',\n",
       "  'Other notes': '(1r-v): table of contents in a 15th century hand. Since the list only goes up to the work which begins on (126v), it is likely that the rest of the ms. was added later',\n",
       "  \"Owner's notes\": 'Early note of ownership erased\\nThe name of a medieval (15th century) owner has been completely erased: (1v) Liber ... habet tam pro isto plura reportat in magno spisso papiro de meis. But the English provenance of the ms. is shown by a royal writ to the sherrif of Middlessex (34), the signature of a certain John Huntly (157v)',\n",
       "  'Place of origin': 'England',\n",
       "  'Previous owners': 'Early note of ownership erased; inscribed, \"251 Ford Abbey\": to Sir Thomas Philipps at Ford Abbey sale, 1846 (Ms. 12145); W.H. Robinson, cat. 81, no. 76.- Purchased from Zeitlin & Ver Brugge, 1955\\nPurchased by Sir Thomas Philipps in 1846 at the sale of the Ford Abbey manuscripts\\nThe ms. was purchased by Philipps at the Ford Abbey sale in 1846. It was acquired by the present owner, Robert B. Honeyman, Jr., from Zeitlin & Ver Brugge in 1955. The name of a medieval owner has been completely erased, but the English provenance of the ms. is shown by a royal writ to the sherrif of Middlesex (34), the signature of a certain John Huntly (157v)',\n",
       "  'Printed catalogs': 'Faye, C.U./Bond, W.H.: Supplement to the Census of medieval and renaissance manuscripts in the United States and Canada (New York 1962), 19\\nRobinson, L.: Catalogue 81: A remarkable collection of medieval scientific texts with early 13th century English pen-drawings (?), no. 76',\n",
       "  'Region, Province': 'California',\n",
       "  'Shelfmark': '1',\n",
       "  'Short title st.': 'Selections from Macrobius (part.)',\n",
       "  'Source': 'Faye/Bond (1962)\\nAuktionskatalog Robinson\\nN.N. (Robinson?)\\nFolkerts',\n",
       "  'Stype of writing': '(1-128) written in a very fine book-hand, the remainder in other hands\\nEnglish handwriting',\n",
       "  'T & K': 'TK 699',\n",
       "  'Type of source': 'cat.\\ncat.\\nts. pvt. notes\\nts. pvt. notes'}]"
      ]
     },
     "execution_count": 7,
     "metadata": {},
     "output_type": "execute_result"
    }
   ],
   "source": [
    "data[:4]"
   ]
  },
  {
   "cell_type": "markdown",
   "metadata": {
    "collapsed": false
   },
   "source": [
    "## Erzeugung des Dataframes\n",
    "\n",
    "Der Dataframe kann nun einfach erstellt werden. In einem ersten Schritt sind aber noch zu viele Schlüssel enthalten, die keine auswertbare Information ergeben. "
   ]
  },
  {
   "cell_type": "code",
   "execution_count": 8,
   "metadata": {
    "collapsed": false
   },
   "outputs": [
    {
     "name": "stdout",
     "output_type": "stream",
     "text": [
      "(85, 182)\n"
     ]
    },
    {
     "data": {
      "text/plain": [
       "Index(['10/3', '11/2', '12/3', '12/4', '13/2', '13/4', '13/5', '13/6', '14/3',\n",
       "       '15/9',\n",
       "       ...\n",
       "       'Source', 'Source's source', 'Stype of writing', 'Subject 1',\n",
       "       'Subject 2', 'T & K', 'Type of ms. 2', 'Type of source', 'Watermarks',\n",
       "       'Width of columns'],\n",
       "      dtype='object', length=182)"
      ]
     },
     "execution_count": 8,
     "metadata": {},
     "output_type": "execute_result"
    }
   ],
   "source": [
    "df = pd.DataFrame(data)\n",
    "print(df.shape)\n",
    "df.keys()"
   ]
  },
  {
   "cell_type": "markdown",
   "metadata": {},
   "source": [
    "Um eine Untermenge des Dataframes auszuwählen, können wir reguläre Ausdrücke nutzen. Alle Schlüssel der Form \"[Zahlen]/[Zahlen]\" sollen nicht angezeigt werden. Einge neue Liste mit sinnvollen Schlüsseln wird erzeugt und als Auswahlkriterium an den Dataframe übergeben.  "
   ]
  },
  {
   "cell_type": "code",
   "execution_count": 9,
   "metadata": {
    "collapsed": false
   },
   "outputs": [],
   "source": [
    "keyList = [x for x in df.keys() if not re.findall('\\d+/\\d+',x)]"
   ]
  },
  {
   "cell_type": "code",
   "execution_count": 10,
   "metadata": {
    "collapsed": false
   },
   "outputs": [
    {
     "data": {
      "text/plain": [
       "(85, 75)"
      ]
     },
     "execution_count": 10,
     "metadata": {},
     "output_type": "execute_result"
    }
   ],
   "source": [
    "dfReducedCapella= df[keyList].dropna(axis=1,how='all')\n",
    "dfReducedCapella.shape"
   ]
  },
  {
   "cell_type": "code",
   "execution_count": 11,
   "metadata": {
    "collapsed": false
   },
   "outputs": [
    {
     "data": {
      "text/html": [
       "<div>\n",
       "<table border=\"1\" class=\"dataframe\">\n",
       "  <thead>\n",
       "    <tr style=\"text-align: right;\">\n",
       "      <th></th>\n",
       "      <th>2. Incipit</th>\n",
       "      <th>Add. numbers</th>\n",
       "      <th>Addit. Names</th>\n",
       "      <th>Addit. copies</th>\n",
       "      <th>Addit. inform.</th>\n",
       "      <th>Addit. remarks</th>\n",
       "      <th>Additional Texts</th>\n",
       "      <th>Additional parts</th>\n",
       "      <th>Author standard</th>\n",
       "      <th>Autor ms.</th>\n",
       "      <th>...</th>\n",
       "      <th>Source</th>\n",
       "      <th>Source's source</th>\n",
       "      <th>Stype of writing</th>\n",
       "      <th>Subject 1</th>\n",
       "      <th>Subject 2</th>\n",
       "      <th>T &amp; K</th>\n",
       "      <th>Type of ms. 2</th>\n",
       "      <th>Type of source</th>\n",
       "      <th>Watermarks</th>\n",
       "      <th>Width of columns</th>\n",
       "    </tr>\n",
       "  </thead>\n",
       "  <tbody>\n",
       "    <tr>\n",
       "      <th>0</th>\n",
       "      <td>NaN</td>\n",
       "      <td>NaN</td>\n",
       "      <td>NaN</td>\n",
       "      <td>NaN</td>\n",
       "      <td>NaN</td>\n",
       "      <td>NaN</td>\n",
       "      <td>NaN</td>\n",
       "      <td>NaN</td>\n",
       "      <td>NaN</td>\n",
       "      <td>NaN</td>\n",
       "      <td>...</td>\n",
       "      <td>NaN</td>\n",
       "      <td>NaN</td>\n",
       "      <td>NaN</td>\n",
       "      <td>NaN</td>\n",
       "      <td>NaN</td>\n",
       "      <td>NaN</td>\n",
       "      <td>NaN</td>\n",
       "      <td>NaN</td>\n",
       "      <td>NaN</td>\n",
       "      <td>NaN</td>\n",
       "    </tr>\n",
       "    <tr>\n",
       "      <th>1</th>\n",
       "      <td>NaN</td>\n",
       "      <td>NaN</td>\n",
       "      <td>NaN</td>\n",
       "      <td>NaN</td>\n",
       "      <td>NaN</td>\n",
       "      <td>NaN</td>\n",
       "      <td>NaN</td>\n",
       "      <td>NaN</td>\n",
       "      <td>NaN</td>\n",
       "      <td>NaN</td>\n",
       "      <td>...</td>\n",
       "      <td>NaN</td>\n",
       "      <td>NaN</td>\n",
       "      <td>NaN</td>\n",
       "      <td>NaN</td>\n",
       "      <td>NaN</td>\n",
       "      <td>NaN</td>\n",
       "      <td>NaN</td>\n",
       "      <td>NaN</td>\n",
       "      <td>NaN</td>\n",
       "      <td>NaN</td>\n",
       "    </tr>\n",
       "    <tr>\n",
       "      <th>2</th>\n",
       "      <td>NaN</td>\n",
       "      <td>NaN</td>\n",
       "      <td>NaN</td>\n",
       "      <td>NaN</td>\n",
       "      <td>NaN</td>\n",
       "      <td>NaN</td>\n",
       "      <td>NaN</td>\n",
       "      <td>NaN</td>\n",
       "      <td>NaN</td>\n",
       "      <td>NaN</td>\n",
       "      <td>...</td>\n",
       "      <td>NaN</td>\n",
       "      <td>NaN</td>\n",
       "      <td>NaN</td>\n",
       "      <td>NaN</td>\n",
       "      <td>NaN</td>\n",
       "      <td>NaN</td>\n",
       "      <td>NaN</td>\n",
       "      <td>NaN</td>\n",
       "      <td>NaN</td>\n",
       "      <td>NaN</td>\n",
       "    </tr>\n",
       "    <tr>\n",
       "      <th>3</th>\n",
       "      <td>Item Machrobius. Luna item circuli</td>\n",
       "      <td>Gen. Sci. 1</td>\n",
       "      <td>NaN</td>\n",
       "      <td>NaN</td>\n",
       "      <td>NaN</td>\n",
       "      <td>NaN</td>\n",
       "      <td>NaN</td>\n",
       "      <td>NaN</td>\n",
       "      <td>Macrobius\\nMartianus Capella</td>\n",
       "      <td>NaN</td>\n",
       "      <td>...</td>\n",
       "      <td>Faye/Bond (1962)\\nAuktionskatalog Robinson\\nN....</td>\n",
       "      <td>NaN</td>\n",
       "      <td>(1-128) written in a very fine book-hand, the ...</td>\n",
       "      <td>NaN</td>\n",
       "      <td>NaN</td>\n",
       "      <td>TK 699</td>\n",
       "      <td>NaN</td>\n",
       "      <td>cat.\\ncat.\\nts. pvt. notes\\nts. pvt. notes</td>\n",
       "      <td>NaN</td>\n",
       "      <td>NaN</td>\n",
       "    </tr>\n",
       "    <tr>\n",
       "      <th>4</th>\n",
       "      <td>NaN</td>\n",
       "      <td>NaN</td>\n",
       "      <td>NaN</td>\n",
       "      <td>NaN</td>\n",
       "      <td>NaN</td>\n",
       "      <td>Liber VIII: De astronomia</td>\n",
       "      <td>NaN</td>\n",
       "      <td>NaN</td>\n",
       "      <td>Martianus Capella\\nMacrobius (attrib.)</td>\n",
       "      <td>NaN</td>\n",
       "      <td>...</td>\n",
       "      <td>Faulhaber (1983)</td>\n",
       "      <td>NaN</td>\n",
       "      <td>Minute gothic minuscule hand</td>\n",
       "      <td>NaN</td>\n",
       "      <td>NaN</td>\n",
       "      <td>TK 1183</td>\n",
       "      <td>NaN</td>\n",
       "      <td>cat.</td>\n",
       "      <td>w : (inner ff.II., older than outer ones) crow...</td>\n",
       "      <td>166 x 86, first line below top ruling</td>\n",
       "    </tr>\n",
       "  </tbody>\n",
       "</table>\n",
       "<p>5 rows × 75 columns</p>\n",
       "</div>"
      ],
      "text/plain": [
       "                           2. Incipit Add. numbers Addit. Names Addit. copies  \\\n",
       "0                                 NaN          NaN          NaN           NaN   \n",
       "1                                 NaN          NaN          NaN           NaN   \n",
       "2                                 NaN          NaN          NaN           NaN   \n",
       "3  Item Machrobius. Luna item circuli  Gen. Sci. 1          NaN           NaN   \n",
       "4                                 NaN          NaN          NaN           NaN   \n",
       "\n",
       "  Addit. inform.             Addit. remarks Additional Texts Additional parts  \\\n",
       "0            NaN                        NaN              NaN              NaN   \n",
       "1            NaN                        NaN              NaN              NaN   \n",
       "2            NaN                        NaN              NaN              NaN   \n",
       "3            NaN                        NaN              NaN              NaN   \n",
       "4            NaN  Liber VIII: De astronomia              NaN              NaN   \n",
       "\n",
       "                          Author standard Autor ms.  \\\n",
       "0                                     NaN       NaN   \n",
       "1                                     NaN       NaN   \n",
       "2                                     NaN       NaN   \n",
       "3            Macrobius\\nMartianus Capella       NaN   \n",
       "4  Martianus Capella\\nMacrobius (attrib.)       NaN   \n",
       "\n",
       "                   ...                    \\\n",
       "0                  ...                     \n",
       "1                  ...                     \n",
       "2                  ...                     \n",
       "3                  ...                     \n",
       "4                  ...                     \n",
       "\n",
       "                                              Source Source's source  \\\n",
       "0                                                NaN             NaN   \n",
       "1                                                NaN             NaN   \n",
       "2                                                NaN             NaN   \n",
       "3  Faye/Bond (1962)\\nAuktionskatalog Robinson\\nN....             NaN   \n",
       "4                                   Faulhaber (1983)             NaN   \n",
       "\n",
       "                                    Stype of writing Subject 1 Subject 2  \\\n",
       "0                                                NaN       NaN       NaN   \n",
       "1                                                NaN       NaN       NaN   \n",
       "2                                                NaN       NaN       NaN   \n",
       "3  (1-128) written in a very fine book-hand, the ...       NaN       NaN   \n",
       "4                       Minute gothic minuscule hand       NaN       NaN   \n",
       "\n",
       "     T & K Type of ms. 2                              Type of source  \\\n",
       "0      NaN           NaN                                         NaN   \n",
       "1      NaN           NaN                                         NaN   \n",
       "2      NaN           NaN                                         NaN   \n",
       "3   TK 699           NaN  cat.\\ncat.\\nts. pvt. notes\\nts. pvt. notes   \n",
       "4  TK 1183           NaN                                        cat.   \n",
       "\n",
       "                                          Watermarks  \\\n",
       "0                                                NaN   \n",
       "1                                                NaN   \n",
       "2                                                NaN   \n",
       "3                                                NaN   \n",
       "4  w : (inner ff.II., older than outer ones) crow...   \n",
       "\n",
       "                        Width of columns  \n",
       "0                                    NaN  \n",
       "1                                    NaN  \n",
       "2                                    NaN  \n",
       "3                                    NaN  \n",
       "4  166 x 86, first line below top ruling  \n",
       "\n",
       "[5 rows x 75 columns]"
      ]
     },
     "execution_count": 11,
     "metadata": {},
     "output_type": "execute_result"
    }
   ],
   "source": [
    "dfReducedCapella.head(5)"
   ]
  },
  {
   "cell_type": "markdown",
   "metadata": {},
   "source": [
    "Die gewünschten Schlüssel können auch direkt als Liste übergeben werden und so eine noch reduziertere Form des Dataframes erzeugen."
   ]
  },
  {
   "cell_type": "code",
   "execution_count": 12,
   "metadata": {
    "collapsed": false
   },
   "outputs": [
    {
     "data": {
      "text/html": [
       "<div>\n",
       "<table border=\"1\" class=\"dataframe\">\n",
       "  <thead>\n",
       "    <tr style=\"text-align: right;\">\n",
       "      <th></th>\n",
       "      <th>Author standard</th>\n",
       "      <th>Short title</th>\n",
       "      <th>Short title st.</th>\n",
       "      <th>Library</th>\n",
       "      <th>Language</th>\n",
       "      <th>Folio no.</th>\n",
       "      <th>City</th>\n",
       "      <th>Country</th>\n",
       "      <th>Century</th>\n",
       "    </tr>\n",
       "  </thead>\n",
       "  <tbody>\n",
       "    <tr>\n",
       "      <th>0</th>\n",
       "      <td>Macrobius\\nMartianus Capella</td>\n",
       "      <td>NaN</td>\n",
       "      <td>Selections from Macrobius (part.)</td>\n",
       "      <td>The Library of Robert B. Honeyman Jr.</td>\n",
       "      <td>Latin</td>\n",
       "      <td>79r-80v</td>\n",
       "      <td>San Juan Capistrano</td>\n",
       "      <td>USA</td>\n",
       "      <td>12\\n13\\n14\\n15</td>\n",
       "    </tr>\n",
       "    <tr>\n",
       "      <th>1</th>\n",
       "      <td>Martianus Capella\\nMacrobius (attrib.)</td>\n",
       "      <td>NaN</td>\n",
       "      <td>De nuptiis Philologiae et Mercurii (part.)</td>\n",
       "      <td>Library of the Hispanic Society of America</td>\n",
       "      <td>Latin</td>\n",
       "      <td>1r-6v</td>\n",
       "      <td>New York</td>\n",
       "      <td>USA</td>\n",
       "      <td>NaN</td>\n",
       "    </tr>\n",
       "    <tr>\n",
       "      <th>2</th>\n",
       "      <td>Martianus Capella</td>\n",
       "      <td>NaN</td>\n",
       "      <td>Annotations de genre divers</td>\n",
       "      <td>Stedelijke Openbare Bibliotheek</td>\n",
       "      <td>Latin</td>\n",
       "      <td>309r-311r</td>\n",
       "      <td>Brugge</td>\n",
       "      <td>Belgium</td>\n",
       "      <td>14</td>\n",
       "    </tr>\n",
       "    <tr>\n",
       "      <th>3</th>\n",
       "      <td>Martianus Capella</td>\n",
       "      <td>Recueil de traités scientifiques</td>\n",
       "      <td>De nuptiis Philologiae et Mercurii</td>\n",
       "      <td>Bibliothèque Royale</td>\n",
       "      <td>Latin</td>\n",
       "      <td>13v-196v</td>\n",
       "      <td>Bruxelles</td>\n",
       "      <td>Belgium</td>\n",
       "      <td>10</td>\n",
       "    </tr>\n",
       "    <tr>\n",
       "      <th>4</th>\n",
       "      <td>Martianus Capella</td>\n",
       "      <td>NaN</td>\n",
       "      <td>De nuptiis Philologiae et Mercurii (part., inc.)</td>\n",
       "      <td>Staatsbibliothek</td>\n",
       "      <td>Latin</td>\n",
       "      <td>65r-79r</td>\n",
       "      <td>Bamberg</td>\n",
       "      <td>Germany</td>\n",
       "      <td>10</td>\n",
       "    </tr>\n",
       "  </tbody>\n",
       "</table>\n",
       "</div>"
      ],
      "text/plain": [
       "                          Author standard                       Short title  \\\n",
       "0            Macrobius\\nMartianus Capella                               NaN   \n",
       "1  Martianus Capella\\nMacrobius (attrib.)                               NaN   \n",
       "2                       Martianus Capella                               NaN   \n",
       "3                       Martianus Capella  Recueil de traités scientifiques   \n",
       "4                       Martianus Capella                               NaN   \n",
       "\n",
       "                                    Short title st.  \\\n",
       "0                 Selections from Macrobius (part.)   \n",
       "1        De nuptiis Philologiae et Mercurii (part.)   \n",
       "2                       Annotations de genre divers   \n",
       "3                De nuptiis Philologiae et Mercurii   \n",
       "4  De nuptiis Philologiae et Mercurii (part., inc.)   \n",
       "\n",
       "                                      Library Language  Folio no.  \\\n",
       "0       The Library of Robert B. Honeyman Jr.    Latin    79r-80v   \n",
       "1  Library of the Hispanic Society of America    Latin      1r-6v   \n",
       "2             Stedelijke Openbare Bibliotheek    Latin  309r-311r   \n",
       "3                         Bibliothèque Royale    Latin   13v-196v   \n",
       "4                            Staatsbibliothek    Latin    65r-79r   \n",
       "\n",
       "                  City  Country         Century  \n",
       "0  San Juan Capistrano      USA  12\\n13\\n14\\n15  \n",
       "1             New York      USA             NaN  \n",
       "2               Brugge  Belgium              14  \n",
       "3            Bruxelles  Belgium              10  \n",
       "4              Bamberg  Germany              10  "
      ]
     },
     "execution_count": 12,
     "metadata": {},
     "output_type": "execute_result"
    }
   ],
   "source": [
    "smallList = ['Author standard','Short title','Short title st.','Library','Language','Folio no.','City','Country','Century']\n",
    "df[smallList].dropna(how='all').reset_index(drop=True).head(5)"
   ]
  },
  {
   "cell_type": "markdown",
   "metadata": {},
   "source": [
    "## Suchanfrage II: isisCB explore\n",
    "\n",
    "Die Webseite für das isisCB explore Tool der \"Isis Bibliography of the History of Science\" ist strukturell anders. Hier werden Suchergebnisse über eine Link-Liste dargestellt. \n",
    "In der Liste werden einzelne Ergebnisse in paragraphen sortiert (mit dem tag `<p>`) . Wir generieren eine Unterliste aller paragraphen die das Word `Article` oder `Book` enthalten. "
   ]
  },
  {
   "cell_type": "code",
   "execution_count": 13,
   "metadata": {
    "collapsed": true
   },
   "outputs": [],
   "source": [
    "url2 = 'https://data.isiscb.org/isis/?q=copernicus&models=isisdata.citation&sort_order_citation=publication_date_for_sort&sort_order_dir_citation=descend&sort_order_dir_authority=ascend&selected_facets=citation_subject_ids_exact:CBA000021037'\n",
    "\n",
    "r2  = requests.get(url2)\n",
    "\n",
    "data2 = r2.text\n",
    "\n",
    "soup2 = BeautifulSoup(data2,'lxml')"
   ]
  },
  {
   "cell_type": "code",
   "execution_count": 14,
   "metadata": {
    "collapsed": true
   },
   "outputs": [],
   "source": [
    "baseURL = 'https://data.isiscb.org/'"
   ]
  },
  {
   "cell_type": "markdown",
   "metadata": {},
   "source": [
    "Suche alle Paragraphen, die im Text das Wort Article oder Book enthalten."
   ]
  },
  {
   "cell_type": "code",
   "execution_count": 15,
   "metadata": {
    "collapsed": false
   },
   "outputs": [],
   "source": [
    "plist = soup2.findAll('p')\n",
    "queListe = [x for x in plist if \"Article\" in x.text or \"Book\" in x.text]"
   ]
  },
  {
   "cell_type": "markdown",
   "metadata": {},
   "source": [
    "Für alle gefundenen Datensätze müssen wir nun einem weiteren Link folgen. Dieser wird über den tag `<a>` gesucht, mit der Option `href=True`.\n",
    "Mit dem requests Paket wird eine Anfrage `GET` an die URL gesendet, die sich aus der Basis-URL und dem gefundenen Link zusammensetzt. \n",
    "\n",
    "Das Resultat wird in eine Soup verwandelt. In der neuen Webseite werden die Informationen zu einem Artikel oder Buch über das Element `div` mit der Klasse `class=col-sm 5` dargestellt. \n",
    "In einem solchen Element stehen die Informationen wieder in Paragraphen, die in eine Untermenge eingetragen werden."
   ]
  },
  {
   "cell_type": "code",
   "execution_count": 16,
   "metadata": {
    "collapsed": false
   },
   "outputs": [],
   "source": [
    "resultList = []\n",
    "for x in queListe:\n",
    "    links = x.findAll('a',href=True)\n",
    "    for link in links:\n",
    "        scndLevel = baseURL + link['href']\n",
    "        scndRes = requests.get(scndLevel)\n",
    "        dataTemp = scndRes.text\n",
    "        soupTemp = BeautifulSoup(dataTemp,'lxml')\n",
    "        x = soupTemp.findAll('div',class_='col-sm-5')\n",
    "        pListTemp = x[0].findAll('p')\n",
    "        subList = []\n",
    "        for parag in pListTemp:\n",
    "            res = parag.text\n",
    "            subList.append(res)\n",
    "        resultList.append(subList)    "
   ]
  },
  {
   "cell_type": "markdown",
   "metadata": {},
   "source": [
    "Mittels regex wird aus der Menge aller Resultate eine Menge von Dictionaries gebaut, vorraus wir einen sortierten Dataframe erhalten."
   ]
  },
  {
   "cell_type": "code",
   "execution_count": 17,
   "metadata": {
    "collapsed": false
   },
   "outputs": [],
   "source": [
    "dictList = []\n",
    "for i in range(len(resultList)):\n",
    "    subDict = {}\n",
    "    for k in range(len(resultList[i])):\n",
    "        keys = re.findall('.+?(?=:)',resultList[i][k])\n",
    "        value =re.findall('(?<=:).+',resultList[i][k]) \n",
    "        if keys:\n",
    "            if value:\n",
    "                subDict[keys[0]] = value[0]#resultList[i][k]\n",
    "    dictList.append(subDict)"
   ]
  },
  {
   "cell_type": "code",
   "execution_count": 18,
   "metadata": {
    "collapsed": false
   },
   "outputs": [
    {
     "data": {
      "text/html": [
       "<div>\n",
       "<table border=\"1\" class=\"dataframe\">\n",
       "  <thead>\n",
       "    <tr style=\"text-align: right;\">\n",
       "      <th></th>\n",
       "      <th>http</th>\n",
       "      <th>Adventures in the Bone Trade</th>\n",
       "      <th>Lee De Forest</th>\n",
       "      <th>Secrets of the Old One</th>\n",
       "      <th>Abstract</th>\n",
       "      <th>Authors &amp; Contributors</th>\n",
       "      <th>Description</th>\n",
       "      <th>Publication Date</th>\n",
       "    </tr>\n",
       "  </thead>\n",
       "  <tbody>\n",
       "    <tr>\n",
       "      <th>0</th>\n",
       "      <td>//data.isiscb.org/isis/citation/CBB001551118/</td>\n",
       "      <td>NaN</td>\n",
       "      <td>NaN</td>\n",
       "      <td>NaN</td>\n",
       "      <td>The contributors to Making of Copernicus exam...</td>\n",
       "      <td>Neuber, Wolfgang (Author) ; Rahn, Thomas (Aut...</td>\n",
       "      <td>NaN</td>\n",
       "      <td>2015</td>\n",
       "    </tr>\n",
       "    <tr>\n",
       "      <th>1</th>\n",
       "      <td>//data.isiscb.org/isis/citation/CBB001551912/</td>\n",
       "      <td>NaN</td>\n",
       "      <td>NaN</td>\n",
       "      <td>NaN</td>\n",
       "      <td>At the center of this article is an iconograp...</td>\n",
       "      <td>Gaulke, Karsten (Author) ;</td>\n",
       "      <td>NaN</td>\n",
       "      <td>2015</td>\n",
       "    </tr>\n",
       "    <tr>\n",
       "      <th>2</th>\n",
       "      <td>//data.isiscb.org/isis/citation/CBB001451084/</td>\n",
       "      <td>NaN</td>\n",
       "      <td>NaN</td>\n",
       "      <td>NaN</td>\n",
       "      <td>Copernicus makes his dislike of the equant kn...</td>\n",
       "      <td>Blåsjö, Viktor (Author) ;</td>\n",
       "      <td>NaN</td>\n",
       "      <td>2014</td>\n",
       "    </tr>\n",
       "    <tr>\n",
       "      <th>3</th>\n",
       "      <td>//data.isiscb.org/isis/citation/CBB001510107/</td>\n",
       "      <td>NaN</td>\n",
       "      <td>NaN</td>\n",
       "      <td>NaN</td>\n",
       "      <td>Is science more rational or objective than an...</td>\n",
       "      <td>Parsons, Keith M. (Author) ;</td>\n",
       "      <td>NaN</td>\n",
       "      <td>2014</td>\n",
       "    </tr>\n",
       "    <tr>\n",
       "      <th>4</th>\n",
       "      <td>//data.isiscb.org/isis/citation/CBB001420393/</td>\n",
       "      <td>NaN</td>\n",
       "      <td>NaN</td>\n",
       "      <td>NaN</td>\n",
       "      <td>During the two decades before the turning poi...</td>\n",
       "      <td>Blumenthal, Geoffrey (Author) ;</td>\n",
       "      <td>NaN</td>\n",
       "      <td>2014</td>\n",
       "    </tr>\n",
       "  </tbody>\n",
       "</table>\n",
       "</div>"
      ],
      "text/plain": [
       "                                            http  \\\n",
       "0  //data.isiscb.org/isis/citation/CBB001551118/   \n",
       "1  //data.isiscb.org/isis/citation/CBB001551912/   \n",
       "2  //data.isiscb.org/isis/citation/CBB001451084/   \n",
       "3  //data.isiscb.org/isis/citation/CBB001510107/   \n",
       "4  //data.isiscb.org/isis/citation/CBB001420393/   \n",
       "\n",
       "    Adventures in the Bone Trade   Lee De Forest   Secrets of the Old One  \\\n",
       "0                            NaN             NaN                      NaN   \n",
       "1                            NaN             NaN                      NaN   \n",
       "2                            NaN             NaN                      NaN   \n",
       "3                            NaN             NaN                      NaN   \n",
       "4                            NaN             NaN                      NaN   \n",
       "\n",
       "                                            Abstract  \\\n",
       "0   The contributors to Making of Copernicus exam...   \n",
       "1   At the center of this article is an iconograp...   \n",
       "2   Copernicus makes his dislike of the equant kn...   \n",
       "3   Is science more rational or objective than an...   \n",
       "4   During the two decades before the turning poi...   \n",
       "\n",
       "                              Authors & Contributors Description  \\\n",
       "0   Neuber, Wolfgang (Author) ; Rahn, Thomas (Aut...         NaN   \n",
       "1                         Gaulke, Karsten (Author) ;         NaN   \n",
       "2                          Blåsjö, Viktor (Author) ;         NaN   \n",
       "3                       Parsons, Keith M. (Author) ;         NaN   \n",
       "4                    Blumenthal, Geoffrey (Author) ;         NaN   \n",
       "\n",
       "  Publication Date  \n",
       "0             2015  \n",
       "1             2015  \n",
       "2             2014  \n",
       "3             2014  \n",
       "4             2014  "
      ]
     },
     "execution_count": 18,
     "metadata": {},
     "output_type": "execute_result"
    }
   ],
   "source": [
    "dfISISTemp = pd.DataFrame(dictList)\n",
    "dfISISTemp.head(5)"
   ]
  },
  {
   "cell_type": "markdown",
   "metadata": {},
   "source": [
    "Um den Dataframe zu bereinigen, verwerfen wir alle Spalten in denen weniger als zwei Werte ungleich NaN sind. Zudem verwerfen wir alle Zeilen, die nur NaN Einträge enthalten."
   ]
  },
  {
   "cell_type": "code",
   "execution_count": 19,
   "metadata": {
    "collapsed": false
   },
   "outputs": [
    {
     "data": {
      "text/html": [
       "<div>\n",
       "<table border=\"1\" class=\"dataframe\">\n",
       "  <thead>\n",
       "    <tr style=\"text-align: right;\">\n",
       "      <th></th>\n",
       "      <th>http</th>\n",
       "      <th>Abstract</th>\n",
       "      <th>Authors &amp; Contributors</th>\n",
       "      <th>Publication Date</th>\n",
       "    </tr>\n",
       "  </thead>\n",
       "  <tbody>\n",
       "    <tr>\n",
       "      <th>0</th>\n",
       "      <td>//data.isiscb.org/isis/citation/CBB001551118/</td>\n",
       "      <td>The contributors to Making of Copernicus exam...</td>\n",
       "      <td>Neuber, Wolfgang (Author) ; Rahn, Thomas (Aut...</td>\n",
       "      <td>2015</td>\n",
       "    </tr>\n",
       "    <tr>\n",
       "      <th>1</th>\n",
       "      <td>//data.isiscb.org/isis/citation/CBB001551912/</td>\n",
       "      <td>At the center of this article is an iconograp...</td>\n",
       "      <td>Gaulke, Karsten (Author) ;</td>\n",
       "      <td>2015</td>\n",
       "    </tr>\n",
       "    <tr>\n",
       "      <th>2</th>\n",
       "      <td>//data.isiscb.org/isis/citation/CBB001451084/</td>\n",
       "      <td>Copernicus makes his dislike of the equant kn...</td>\n",
       "      <td>Blåsjö, Viktor (Author) ;</td>\n",
       "      <td>2014</td>\n",
       "    </tr>\n",
       "    <tr>\n",
       "      <th>3</th>\n",
       "      <td>//data.isiscb.org/isis/citation/CBB001510107/</td>\n",
       "      <td>Is science more rational or objective than an...</td>\n",
       "      <td>Parsons, Keith M. (Author) ;</td>\n",
       "      <td>2014</td>\n",
       "    </tr>\n",
       "    <tr>\n",
       "      <th>4</th>\n",
       "      <td>//data.isiscb.org/isis/citation/CBB001420393/</td>\n",
       "      <td>During the two decades before the turning poi...</td>\n",
       "      <td>Blumenthal, Geoffrey (Author) ;</td>\n",
       "      <td>2014</td>\n",
       "    </tr>\n",
       "    <tr>\n",
       "      <th>5</th>\n",
       "      <td>//data.isiscb.org/isis/citation/CBB001422065/</td>\n",
       "      <td>With exoplanets being discovered daily, Earth...</td>\n",
       "      <td>Gingerich, Owen (Author) ;</td>\n",
       "      <td>2014</td>\n",
       "    </tr>\n",
       "    <tr>\n",
       "      <th>6</th>\n",
       "      <td>//data.isiscb.org/isis/citation/CBB001321204/</td>\n",
       "      <td>This essay studies Moses Galeano, a Jewish sc...</td>\n",
       "      <td>Morrison, Robert (Author) ;</td>\n",
       "      <td>2014</td>\n",
       "    </tr>\n",
       "    <tr>\n",
       "      <th>7</th>\n",
       "      <td>//data.isiscb.org/isis/citation/CBB001500389/</td>\n",
       "      <td>William Shakespeare lived at a remarkable tim...</td>\n",
       "      <td>Falk, Dan (Author) ;</td>\n",
       "      <td>2014</td>\n",
       "    </tr>\n",
       "    <tr>\n",
       "      <th>8</th>\n",
       "      <td>//data.isiscb.org/isis/citation/CBB001510030/</td>\n",
       "      <td>This volume brings John Milton's Paradise Los...</td>\n",
       "      <td>Danielson, Dennis Richard (Author) ;</td>\n",
       "      <td>2014</td>\n",
       "    </tr>\n",
       "    <tr>\n",
       "      <th>9</th>\n",
       "      <td>//data.isiscb.org/isis/citation/CBB001213931/</td>\n",
       "      <td>In Copernicus in the Cultural Debates of the ...</td>\n",
       "      <td>Omodeo, Pietro Daniel (Author) ;</td>\n",
       "      <td>2014</td>\n",
       "    </tr>\n",
       "    <tr>\n",
       "      <th>10</th>\n",
       "      <td>//data.isiscb.org/isis/citation/CBB001213869/</td>\n",
       "      <td>The period that separates comproehendunt from...</td>\n",
       "      <td>Segonds, Alain-Philippe (Author) ; Luna, Conc...</td>\n",
       "      <td>2013</td>\n",
       "    </tr>\n",
       "    <tr>\n",
       "      <th>11</th>\n",
       "      <td>//data.isiscb.org/isis/citation/CBB001252571/</td>\n",
       "      <td>NaN</td>\n",
       "      <td>Blumenthal, Geoffrey (Author) ;</td>\n",
       "      <td>2013</td>\n",
       "    </tr>\n",
       "    <tr>\n",
       "      <th>12</th>\n",
       "      <td>//data.isiscb.org/isis/citation/CBB001212614/</td>\n",
       "      <td>Im Jahre 1618 editierte und publizierte Joann...</td>\n",
       "      <td>Chroboczek, Jan (Author) ;</td>\n",
       "      <td>2013</td>\n",
       "    </tr>\n",
       "    <tr>\n",
       "      <th>13</th>\n",
       "      <td>//data.isiscb.org/isis/citation/CBB001320811/</td>\n",
       "      <td>The Ptolemy-Copernicus transition is analyzed...</td>\n",
       "      <td>Nugayev, Rinat M. (Author) ;</td>\n",
       "      <td>2013</td>\n",
       "    </tr>\n",
       "    <tr>\n",
       "      <th>14</th>\n",
       "      <td>//data.isiscb.org/isis/citation/CBB001200853/</td>\n",
       "      <td>NaN</td>\n",
       "      <td>Barker, Peter (Author) ;</td>\n",
       "      <td>2013</td>\n",
       "    </tr>\n",
       "    <tr>\n",
       "      <th>15</th>\n",
       "      <td>//data.isiscb.org/isis/citation/CBB001320808/</td>\n",
       "      <td>In 1454 Georg Peurbach teaches astronomy at t...</td>\n",
       "      <td>Malpangotto, Michela (Author) ;</td>\n",
       "      <td>2013</td>\n",
       "    </tr>\n",
       "    <tr>\n",
       "      <th>16</th>\n",
       "      <td>//data.isiscb.org/isis/citation/CBB001252174/</td>\n",
       "      <td>The Copernican Question advances a radical re...</td>\n",
       "      <td>Westman, Robert S. (Author) ;</td>\n",
       "      <td>2013</td>\n",
       "    </tr>\n",
       "    <tr>\n",
       "      <th>17</th>\n",
       "      <td>//data.isiscb.org/isis/citation/CBB001200855/</td>\n",
       "      <td>NaN</td>\n",
       "      <td>Graney, Christopher M. (Author) ;</td>\n",
       "      <td>2013</td>\n",
       "    </tr>\n",
       "    <tr>\n",
       "      <th>18</th>\n",
       "      <td>//data.isiscb.org/isis/citation/CBB001250442/</td>\n",
       "      <td>NaN</td>\n",
       "      <td>Richards, Ted (Author) ;</td>\n",
       "      <td>2012</td>\n",
       "    </tr>\n",
       "  </tbody>\n",
       "</table>\n",
       "</div>"
      ],
      "text/plain": [
       "                                             http  \\\n",
       "0   //data.isiscb.org/isis/citation/CBB001551118/   \n",
       "1   //data.isiscb.org/isis/citation/CBB001551912/   \n",
       "2   //data.isiscb.org/isis/citation/CBB001451084/   \n",
       "3   //data.isiscb.org/isis/citation/CBB001510107/   \n",
       "4   //data.isiscb.org/isis/citation/CBB001420393/   \n",
       "5   //data.isiscb.org/isis/citation/CBB001422065/   \n",
       "6   //data.isiscb.org/isis/citation/CBB001321204/   \n",
       "7   //data.isiscb.org/isis/citation/CBB001500389/   \n",
       "8   //data.isiscb.org/isis/citation/CBB001510030/   \n",
       "9   //data.isiscb.org/isis/citation/CBB001213931/   \n",
       "10  //data.isiscb.org/isis/citation/CBB001213869/   \n",
       "11  //data.isiscb.org/isis/citation/CBB001252571/   \n",
       "12  //data.isiscb.org/isis/citation/CBB001212614/   \n",
       "13  //data.isiscb.org/isis/citation/CBB001320811/   \n",
       "14  //data.isiscb.org/isis/citation/CBB001200853/   \n",
       "15  //data.isiscb.org/isis/citation/CBB001320808/   \n",
       "16  //data.isiscb.org/isis/citation/CBB001252174/   \n",
       "17  //data.isiscb.org/isis/citation/CBB001200855/   \n",
       "18  //data.isiscb.org/isis/citation/CBB001250442/   \n",
       "\n",
       "                                             Abstract  \\\n",
       "0    The contributors to Making of Copernicus exam...   \n",
       "1    At the center of this article is an iconograp...   \n",
       "2    Copernicus makes his dislike of the equant kn...   \n",
       "3    Is science more rational or objective than an...   \n",
       "4    During the two decades before the turning poi...   \n",
       "5    With exoplanets being discovered daily, Earth...   \n",
       "6    This essay studies Moses Galeano, a Jewish sc...   \n",
       "7    William Shakespeare lived at a remarkable tim...   \n",
       "8    This volume brings John Milton's Paradise Los...   \n",
       "9    In Copernicus in the Cultural Debates of the ...   \n",
       "10   The period that separates comproehendunt from...   \n",
       "11                                                NaN   \n",
       "12   Im Jahre 1618 editierte und publizierte Joann...   \n",
       "13   The Ptolemy-Copernicus transition is analyzed...   \n",
       "14                                                NaN   \n",
       "15   In 1454 Georg Peurbach teaches astronomy at t...   \n",
       "16   The Copernican Question advances a radical re...   \n",
       "17                                                NaN   \n",
       "18                                                NaN   \n",
       "\n",
       "                               Authors & Contributors Publication Date  \n",
       "0    Neuber, Wolfgang (Author) ; Rahn, Thomas (Aut...             2015  \n",
       "1                          Gaulke, Karsten (Author) ;             2015  \n",
       "2                           Blåsjö, Viktor (Author) ;             2014  \n",
       "3                        Parsons, Keith M. (Author) ;             2014  \n",
       "4                     Blumenthal, Geoffrey (Author) ;             2014  \n",
       "5                          Gingerich, Owen (Author) ;             2014  \n",
       "6                         Morrison, Robert (Author) ;             2014  \n",
       "7                                Falk, Dan (Author) ;             2014  \n",
       "8                Danielson, Dennis Richard (Author) ;             2014  \n",
       "9                    Omodeo, Pietro Daniel (Author) ;             2014  \n",
       "10   Segonds, Alain-Philippe (Author) ; Luna, Conc...             2013  \n",
       "11                    Blumenthal, Geoffrey (Author) ;             2013  \n",
       "12                         Chroboczek, Jan (Author) ;             2013  \n",
       "13                       Nugayev, Rinat M. (Author) ;             2013  \n",
       "14                           Barker, Peter (Author) ;             2013  \n",
       "15                    Malpangotto, Michela (Author) ;             2013  \n",
       "16                      Westman, Robert S. (Author) ;             2013  \n",
       "17                  Graney, Christopher M. (Author) ;             2013  \n",
       "18                           Richards, Ted (Author) ;             2012  "
      ]
     },
     "execution_count": 19,
     "metadata": {},
     "output_type": "execute_result"
    }
   ],
   "source": [
    "dfISIS = dfISISTemp.dropna(axis=1,thresh=2)\n",
    "dfISIS = dfISIS.dropna(axis=0,how='all')\n",
    "dfISIS"
   ]
  },
  {
   "cell_type": "markdown",
   "metadata": {},
   "source": [
    "## Suchanfrage III: Newtons Gesammelte Werke \n",
    "\n",
    "Die Homepage des Newton Projects der University of Sussex, http://www.newtonproject.sussex.ac.uk/, bietet besser strukturierte Inhalte. \n",
    "Hier können die Informationen mit passenden Klassennamen sinnvoll ausgelesen werden. \n",
    "\n",
    "Die genauen Spezifikation sind als PDF verfügbar: http://www.newtonproject.sussex.ac.uk/resources/pdfs/techspec.pdf"
   ]
  },
  {
   "cell_type": "code",
   "execution_count": 3,
   "metadata": {
    "collapsed": false
   },
   "outputs": [],
   "source": [
    "url3 = 'http://www.newtonproject.sussex.ac.uk/prism.php?id=43'\n",
    "\n",
    "r3  = requests.get(url3)\n",
    "\n",
    "data3 = r3.text\n",
    "\n",
    "soup3 = BeautifulSoup(data3,'lxml')"
   ]
  },
  {
   "cell_type": "code",
   "execution_count": 4,
   "metadata": {
    "collapsed": true
   },
   "outputs": [],
   "source": [
    "baseURLNewton = 'http://www.newtonproject.sussex.ac.uk'"
   ]
  },
  {
   "cell_type": "markdown",
   "metadata": {},
   "source": [
    "Die Einträge werden in einer Table mit der Klasse `record` ausgegeben. "
   ]
  },
  {
   "cell_type": "code",
   "execution_count": 5,
   "metadata": {
    "collapsed": true
   },
   "outputs": [],
   "source": [
    "allrecords = soup3.findAll('td',class_='record')"
   ]
  },
  {
   "cell_type": "markdown",
   "metadata": {},
   "source": [
    "Der Title eines Eintrags:"
   ]
  },
  {
   "cell_type": "code",
   "execution_count": 6,
   "metadata": {
    "collapsed": false
   },
   "outputs": [
    {
     "data": {
      "text/plain": [
       "\"Fair copies of the 'Short Chronicle' and 'Chronology of Ancient Kingdoms Amended'\""
      ]
     },
     "execution_count": 6,
     "metadata": {},
     "output_type": "execute_result"
    }
   ],
   "source": [
    "allrecords[0].findAll('p',class_='title')[0].text"
   ]
  },
  {
   "cell_type": "markdown",
   "metadata": {},
   "source": [
    "den Author erhalten wir über "
   ]
  },
  {
   "cell_type": "code",
   "execution_count": 7,
   "metadata": {
    "collapsed": false
   },
   "outputs": [
    {
     "data": {
      "text/plain": [
       "'Author: Isaac Newton'"
      ]
     },
     "execution_count": 7,
     "metadata": {},
     "output_type": "execute_result"
    }
   ],
   "source": [
    "allrecords[0].findAll('p',class_='author')[0].text"
   ]
  },
  {
   "cell_type": "markdown",
   "metadata": {},
   "source": [
    "ebenso verfahren wir mit metadata, source, links und primary_key. Wieder wird eine Liste mit Sub-Dictionaries erzeugt und daraus ein Dataframe gebaut. \n",
    "\n",
    "Um den normalisierten Volltext zu erhalten, folgen wir wieder einem Link auf die Unterseite und extrahieren dort den Text. Dieser ist eindeutig markiert mit der id `tei`\n",
    "Über den Befehl `.text` erhalten wir den Text ohne die HTML-Struktur."
   ]
  },
  {
   "cell_type": "markdown",
   "metadata": {},
   "source": [
    "**Achtung:**\n",
    "\n",
    "Das Abfragen von allen Einträgen dauert etwas länger. Daher werden unten nur die ersten 10 Einträge abgefragt (`[:10]`) um den Server der Uni Sussex nicht zu überlasten. Wenn die Texte mit NLTK weiter bearbeitet werden sollen, bietet es sich daher an, den resultierenden Dataframe als Pickle abzuspeichern. "
   ]
  },
  {
   "cell_type": "code",
   "execution_count": 332,
   "metadata": {
    "collapsed": false
   },
   "outputs": [],
   "source": [
    "dictListNewton = []\n",
    "for record in soup3.findAll('td',class_='record')[:10]:\n",
    "    subDict = {}\n",
    "    for keyClass in ['title', 'author','metadata','source','primary_key']:\n",
    "        try:\n",
    "            value = record.findAll('p',class_=keyClass)[0].text\n",
    "            subDict[keyClass] = value\n",
    "        except:\n",
    "            subDict[keyClass] = None\n",
    "    links = record.findAll('a',href=True,text='Normalized\\xa0Text')\n",
    "    if links:\n",
    "        scndLevel = baseURLNewton + links[0]['href']\n",
    "        scndRes = requests.get(scndLevel)\n",
    "        dataTemp = scndRes.text\n",
    "        soupTemp = BeautifulSoup(dataTemp,'lxml')\n",
    "        text = soupTemp.findAll('div',id='tei')\n",
    "        subDict['norm_text'] = text[0]\n",
    "    dictListNewton.append(subDict)    "
   ]
  },
  {
   "cell_type": "code",
   "execution_count": 333,
   "metadata": {
    "collapsed": false
   },
   "outputs": [
    {
     "data": {
      "text/html": [
       "<div>\n",
       "<table border=\"1\" class=\"dataframe\">\n",
       "  <thead>\n",
       "    <tr style=\"text-align: right;\">\n",
       "      <th></th>\n",
       "      <th>author</th>\n",
       "      <th>metadata</th>\n",
       "      <th>norm_text</th>\n",
       "      <th>primary_key</th>\n",
       "      <th>source</th>\n",
       "      <th>title</th>\n",
       "    </tr>\n",
       "  </thead>\n",
       "  <tbody>\n",
       "    <tr>\n",
       "      <th>0</th>\n",
       "      <td>Author: Isaac Newton</td>\n",
       "      <td>Metadata: in English, c. 86,051 words, 120 ff.</td>\n",
       "      <td>&lt;div id=\"tei\"&gt;\n",
       "&lt;div&gt;\n",
       "&lt;span class=\"pagenumber\" ...</td>\n",
       "      <td>Newton Catalogue ID: THEM00090</td>\n",
       "      <td>Source: MS Add. 3988, Cambridge University Lib...</td>\n",
       "      <td>Fair copies of the 'Short Chronicle' and 'Chro...</td>\n",
       "    </tr>\n",
       "    <tr>\n",
       "      <th>1</th>\n",
       "      <td>Author: Isaac Newton</td>\n",
       "      <td>Metadata: in Latin, c. 6,207 words, 21 pp. on ...</td>\n",
       "      <td>&lt;div id=\"tei\"&gt;\n",
       "&lt;div&gt;\n",
       "&lt;span class=\"pagenumber\" ...</td>\n",
       "      <td>Newton Catalogue ID: THEM00046</td>\n",
       "      <td>Source: Yahuda Ms. 3, National Library of Isra...</td>\n",
       "      <td>'Introductio. Continens Apocalypseos rationem ...</td>\n",
       "    </tr>\n",
       "    <tr>\n",
       "      <th>2</th>\n",
       "      <td>Author: Isaac Newton</td>\n",
       "      <td>Metadata: mainly in Latin with some English, G...</td>\n",
       "      <td>&lt;div id=\"tei\"&gt;\n",
       "&lt;div&gt;\n",
       "&lt;span class=\"pagenumber\" ...</td>\n",
       "      <td>Newton Catalogue ID: THEM00056</td>\n",
       "      <td>Source: Yahuda Ms. 13, National Library of Isr...</td>\n",
       "      <td>Miscellaneous theological extracts and notes</td>\n",
       "    </tr>\n",
       "  </tbody>\n",
       "</table>\n",
       "</div>"
      ],
      "text/plain": [
       "                 author                                           metadata  \\\n",
       "0  Author: Isaac Newton     Metadata: in English, c. 86,051 words, 120 ff.   \n",
       "1  Author: Isaac Newton  Metadata: in Latin, c. 6,207 words, 21 pp. on ...   \n",
       "2  Author: Isaac Newton  Metadata: mainly in Latin with some English, G...   \n",
       "\n",
       "                                           norm_text  \\\n",
       "0  <div id=\"tei\">\n",
       "<div>\n",
       "<span class=\"pagenumber\" ...   \n",
       "1  <div id=\"tei\">\n",
       "<div>\n",
       "<span class=\"pagenumber\" ...   \n",
       "2  <div id=\"tei\">\n",
       "<div>\n",
       "<span class=\"pagenumber\" ...   \n",
       "\n",
       "                      primary_key  \\\n",
       "0  Newton Catalogue ID: THEM00090   \n",
       "1  Newton Catalogue ID: THEM00046   \n",
       "2  Newton Catalogue ID: THEM00056   \n",
       "\n",
       "                                              source  \\\n",
       "0  Source: MS Add. 3988, Cambridge University Lib...   \n",
       "1  Source: Yahuda Ms. 3, National Library of Isra...   \n",
       "2  Source: Yahuda Ms. 13, National Library of Isr...   \n",
       "\n",
       "                                               title  \n",
       "0  Fair copies of the 'Short Chronicle' and 'Chro...  \n",
       "1  'Introductio. Continens Apocalypseos rationem ...  \n",
       "2       Miscellaneous theological extracts and notes  "
      ]
     },
     "execution_count": 333,
     "metadata": {},
     "output_type": "execute_result"
    }
   ],
   "source": [
    "dfNewton = pd.DataFrame(dictListNewton)\n",
    "dfNewton.head(3)"
   ]
  },
  {
   "cell_type": "code",
   "execution_count": 334,
   "metadata": {
    "collapsed": false
   },
   "outputs": [
    {
     "data": {
      "text/plain": [
       "(250, 6)"
      ]
     },
     "execution_count": 334,
     "metadata": {},
     "output_type": "execute_result"
    }
   ],
   "source": [
    "dfNewton.shape"
   ]
  },
  {
   "cell_type": "markdown",
   "metadata": {},
   "source": [
    "### Speichern und Laden von Dataframes\n",
    "\n",
    "Die Struktur von Dataframes bietet es an, diese als JSON zu speichern. Das erfolgt einfach mit df.to_json('Dateiname'). Über die normale Einleseroutine von JSONs kann dann der Dataframe aus der Datei wieder hergestellt werden. Die bereits vorhandene JSON Datei enthält alle 250 Einträge zu Newton."
   ]
  },
  {
   "cell_type": "code",
   "execution_count": 335,
   "metadata": {
    "collapsed": false
   },
   "outputs": [],
   "source": [
    "# Save dataframe to json file on disk\n",
    "#dfNewton.to_json('./newton_metadata_frame.json')"
   ]
  },
  {
   "cell_type": "code",
   "execution_count": 329,
   "metadata": {
    "collapsed": false
   },
   "outputs": [],
   "source": [
    "# Load by using\n",
    "# with open('./newton_metadata_frame.json') as NewtonData:\n",
    "#     newtonJson = json.load(NewtonData)\n",
    "#     dfTest = pd.DataFrame(newtonJson)"
   ]
  },
  {
   "cell_type": "markdown",
   "metadata": {},
   "source": [
    "### Weitere Struktur: Paragraphen je Kapitel je Text\n",
    "\n",
    "Um eine weitergehende Textanalyse durchzuführen, bietet es sich an, die Texte nach Paragraphen zu strukturieren und dann darauf Anlysemethoden anzuwenden."
   ]
  },
  {
   "cell_type": "code",
   "execution_count": 336,
   "metadata": {
    "collapsed": false
   },
   "outputs": [],
   "source": [
    "chpStructure = []\n",
    "for i in range(len(dfNewton)):\n",
    "    title = str(i) + ': ' +  dfNewton['title'].iloc[i]\n",
    "    try:\n",
    "        #Konstruiere Liste aller Kapitel\n",
    "        chps = dfNewton['norm_text'].iloc[i].findAll('div')\n",
    "    except:\n",
    "        pass\n",
    "    if chps:\n",
    "        for chp in range(len(chps)):\n",
    "            pgsTemp = {}\n",
    "            chKey = str(chp)\n",
    "            # Konstruiere Liste aller Absätze\n",
    "            paras = chps[chp].findAll('p')\n",
    "            for pg in range(len(paras)):\n",
    "                #print('Chp:{0},Para:{1}'.format(chp,pg))\n",
    "                keyTemp = str(pg)\n",
    "                valueTemp = paras[pg].text\n",
    "                # Speichere den Text des Paragraphen mit Buch,Kapitel, und Paragraphennummer als tuple\n",
    "                triple = (title,chp,pg,valueTemp)\n",
    "                chpStructure.append(triple)"
   ]
  },
  {
   "cell_type": "code",
   "execution_count": 345,
   "metadata": {
    "collapsed": false
   },
   "outputs": [
    {
     "name": "stdout",
     "output_type": "stream",
     "text": [
      "Anzahl der Paragraphen aller Newton Texte: 33170\n"
     ]
    },
    {
     "data": {
      "text/html": [
       "<div>\n",
       "<table border=\"1\" class=\"dataframe\">\n",
       "  <thead>\n",
       "    <tr style=\"text-align: right;\">\n",
       "      <th></th>\n",
       "      <th></th>\n",
       "      <th>paragraph</th>\n",
       "      <th>paragraph_text</th>\n",
       "    </tr>\n",
       "    <tr>\n",
       "      <th>title</th>\n",
       "      <th>chapter</th>\n",
       "      <th></th>\n",
       "      <th></th>\n",
       "    </tr>\n",
       "  </thead>\n",
       "  <tbody>\n",
       "    <tr>\n",
       "      <th rowspan=\"5\" valign=\"top\">0: Fair copies of the 'Short Chronicle' and 'Chronology of Ancient Kingdoms Amended'</th>\n",
       "      <th>0</th>\n",
       "      <td>0</td>\n",
       "      <td>This is the original manuscript from which Sir...</td>\n",
       "    </tr>\n",
       "    <tr>\n",
       "      <th>0</th>\n",
       "      <td>1</td>\n",
       "      <td>Iohn Conduitt.</td>\n",
       "    </tr>\n",
       "    <tr>\n",
       "      <th>1</th>\n",
       "      <td>0</td>\n",
       "      <td>The Greek Antiquities are full of poetical fic...</td>\n",
       "    </tr>\n",
       "    <tr>\n",
       "      <th>1</th>\n",
       "      <td>1</td>\n",
       "      <td>So then a little after the death of Alexander ...</td>\n",
       "    </tr>\n",
       "    <tr>\n",
       "      <th>1</th>\n",
       "      <td>2</td>\n",
       "      <td>But how uncertain their Chronology is, &amp; how d...</td>\n",
       "    </tr>\n",
       "  </tbody>\n",
       "</table>\n",
       "</div>"
      ],
      "text/plain": [
       "                                                            paragraph  \\\n",
       "title                                              chapter              \n",
       "0: Fair copies of the 'Short Chronicle' and 'Ch... 0                0   \n",
       "                                                   0                1   \n",
       "                                                   1                0   \n",
       "                                                   1                1   \n",
       "                                                   1                2   \n",
       "\n",
       "                                                                                               paragraph_text  \n",
       "title                                              chapter                                                     \n",
       "0: Fair copies of the 'Short Chronicle' and 'Ch... 0        This is the original manuscript from which Sir...  \n",
       "                                                   0                                           Iohn Conduitt.  \n",
       "                                                   1        The Greek Antiquities are full of poetical fic...  \n",
       "                                                   1        So then a little after the death of Alexander ...  \n",
       "                                                   1        But how uncertain their Chronology is, & how d...  "
      ]
     },
     "execution_count": 345,
     "metadata": {},
     "output_type": "execute_result"
    }
   ],
   "source": [
    "dfNewtonParagraphs = pd.DataFrame.from_dict(chpStructure)\n",
    "dfNewtonParagraphs.set_index(0, inplace=True) # Setze Text-Titel als Index\n",
    "dfNewtonParagraphs.set_index(1, append=True, inplace=True) # Ergänze Kaptitel als zweite Ebene Index\n",
    "dfNewtonParagraphs.index.rename(['title','chapter'], inplace=True)\n",
    "dfNewtonParagraphs.columns = ['paragraph','paragraph_text'] # Benenne Spalten um\n",
    "print('Anzahl der Paragraphen aller Newton Texte: {}'.format(dfNewtonParagraphs.shape[0]))\n",
    "dfNewtonParagraphs.head()"
   ]
  },
  {
   "cell_type": "code",
   "execution_count": 351,
   "metadata": {
    "collapsed": false
   },
   "outputs": [],
   "source": [
    "#dfNewtonParagraphs.reset_index().to_json('./newton_paragraphs_frame.json')"
   ]
  },
  {
   "cell_type": "code",
   "execution_count": 349,
   "metadata": {
    "collapsed": true
   },
   "outputs": [],
   "source": [
    "# Load by using\n",
    "#with open('./newton_paragraphs_frame.json') as NewtonParaData:\n",
    "#    newtonParaJson = json.load(NewtonParaData)\n",
    "#    dfTestPara = pd.DataFrame(newtonParaJson)\n",
    "#dfTestPara"
   ]
  },
  {
   "cell_type": "markdown",
   "metadata": {},
   "source": [
    "# Aus externeren JSON Daten\n",
    "\n",
    "Auch mit Dritt-Programmen erstellte JSON Dateien können die Grundlage für eine Websuche bilden. Eine Liste mit 1000 Publikation zur Kalten Fusion dient hier als Beispiel."
   ]
  },
  {
   "cell_type": "code",
   "execution_count": 6,
   "metadata": {
    "collapsed": false
   },
   "outputs": [],
   "source": [
    "with open('./PoPCites.json','r',encoding='utf-8-sig') as coldFusionData:\n",
    "    coldFusionJson = json.load(coldFusionData)"
   ]
  },
  {
   "cell_type": "code",
   "execution_count": 7,
   "metadata": {
    "collapsed": false
   },
   "outputs": [],
   "source": [
    "dfColdFusion = pd.DataFrame(coldFusionJson)"
   ]
  },
  {
   "cell_type": "code",
   "execution_count": 8,
   "metadata": {
    "collapsed": false
   },
   "outputs": [
    {
     "data": {
      "text/plain": [
       "Index(['article_url', 'authors', 'cites', 'cites_url', 'ecc', 'publisher',\n",
       "       'rank', 'source', 'title', 'type', 'use', 'year'],\n",
       "      dtype='object')"
      ]
     },
     "execution_count": 8,
     "metadata": {},
     "output_type": "execute_result"
    }
   ],
   "source": [
    "dfColdFusion.keys()"
   ]
  },
  {
   "cell_type": "code",
   "execution_count": 21,
   "metadata": {
    "collapsed": false
   },
   "outputs": [
    {
     "data": {
      "text/html": [
       "<div>\n",
       "<table border=\"1\" class=\"dataframe\">\n",
       "  <thead>\n",
       "    <tr style=\"text-align: right;\">\n",
       "      <th></th>\n",
       "      <th>article_url</th>\n",
       "      <th>authors</th>\n",
       "      <th>cites</th>\n",
       "      <th>cites_url</th>\n",
       "      <th>ecc</th>\n",
       "      <th>publisher</th>\n",
       "      <th>rank</th>\n",
       "      <th>source</th>\n",
       "      <th>title</th>\n",
       "      <th>type</th>\n",
       "      <th>use</th>\n",
       "      <th>year</th>\n",
       "    </tr>\n",
       "  </thead>\n",
       "  <tbody>\n",
       "    <tr>\n",
       "      <th>500</th>\n",
       "      <td>http://www.jstor.org/stable/42577264</td>\n",
       "      <td>[R Wanderer]</td>\n",
       "      <td>NaN</td>\n",
       "      <td>NaN</td>\n",
       "      <td>NaN</td>\n",
       "      <td>JSTOR</td>\n",
       "      <td>501</td>\n",
       "      <td>ETC: A Review of General Semantics</td>\n",
       "      <td>Cold Fusion: A Profusion of Illusion, Confusio...</td>\n",
       "      <td>NaN</td>\n",
       "      <td>True</td>\n",
       "      <td>1990</td>\n",
       "    </tr>\n",
       "    <tr>\n",
       "      <th>812</th>\n",
       "      <td>NaN</td>\n",
       "      <td>[LL Zahm, AC Klein, SE Binney, JN Reyes, ...]</td>\n",
       "      <td>12.0</td>\n",
       "      <td>https://scholar.google.com/scholar?cites=70272...</td>\n",
       "      <td>12.0</td>\n",
       "      <td>Elsevier</td>\n",
       "      <td>813</td>\n",
       "      <td>… chemistry and interfacial …</td>\n",
       "      <td>Experimental investigations of the electrolysi...</td>\n",
       "      <td>CITATION</td>\n",
       "      <td>True</td>\n",
       "      <td>1990</td>\n",
       "    </tr>\n",
       "    <tr>\n",
       "      <th>391</th>\n",
       "      <td>https://inis.iaea.org/search/search.aspx?orig_...</td>\n",
       "      <td>[Z Wilhelmi, Z Szeflinski, J Tarasiuk, A Turow...</td>\n",
       "      <td>1.0</td>\n",
       "      <td>https://scholar.google.com/scholar?cites=37188...</td>\n",
       "      <td>1.0</td>\n",
       "      <td>inis.iaea.org</td>\n",
       "      <td>392</td>\n",
       "      <td>Nukleonika</td>\n",
       "      <td>Search for neutron emission in the deuterium-p...</td>\n",
       "      <td>NaN</td>\n",
       "      <td>True</td>\n",
       "      <td>1990</td>\n",
       "    </tr>\n",
       "    <tr>\n",
       "      <th>816</th>\n",
       "      <td>http://en.cnki.com.cn/Article_en/CJFDTOTAL-HJB...</td>\n",
       "      <td>[QINJWLY Dingpu]</td>\n",
       "      <td>3.0</td>\n",
       "      <td>https://scholar.google.com/scholar?cites=43233...</td>\n",
       "      <td>3.0</td>\n",
       "      <td>en.cnki.com.cn</td>\n",
       "      <td>817</td>\n",
       "      <td>Nuclear Fusion and Plasma Physics</td>\n",
       "      <td>HYSTERESIS BIFURCATION AND MULTILEVEL JUMP IN ...</td>\n",
       "      <td>CITATION</td>\n",
       "      <td>True</td>\n",
       "      <td>1990</td>\n",
       "    </tr>\n",
       "    <tr>\n",
       "      <th>393</th>\n",
       "      <td>http://www.tandfonline.com/doi/abs/10.1080/188...</td>\n",
       "      <td>[I Yamamoto, A Kanagawa]</td>\n",
       "      <td>47.0</td>\n",
       "      <td>https://scholar.google.com/scholar?cites=11976...</td>\n",
       "      <td>47.0</td>\n",
       "      <td>Taylor &amp; Francis</td>\n",
       "      <td>394</td>\n",
       "      <td>… of Nuclear Science and Technology</td>\n",
       "      <td>Possibility of remarkable enhancement of separ...</td>\n",
       "      <td>NaN</td>\n",
       "      <td>True</td>\n",
       "      <td>1990</td>\n",
       "    </tr>\n",
       "    <tr>\n",
       "      <th>394</th>\n",
       "      <td>http://www.ans.org/pubs/journals/nse/a_27466</td>\n",
       "      <td>[FH Coensgen, TA Casper, DL Correll, ...]</td>\n",
       "      <td>26.0</td>\n",
       "      <td>https://scholar.google.com/scholar?cites=17170...</td>\n",
       "      <td>26.0</td>\n",
       "      <td>ans.org</td>\n",
       "      <td>395</td>\n",
       "      <td>Nuclear Science and …</td>\n",
       "      <td>High-Performance Beam-Plasma neutron sources f...</td>\n",
       "      <td>NaN</td>\n",
       "      <td>True</td>\n",
       "      <td>1990</td>\n",
       "    </tr>\n",
       "    <tr>\n",
       "      <th>814</th>\n",
       "      <td>http://oai.dtic.mil/oai/oai?verb=getRecord&amp;met...</td>\n",
       "      <td>[DR Lawson, MJ Tierney, IF Cheng, LS Van Dyke,...</td>\n",
       "      <td>NaN</td>\n",
       "      <td>NaN</td>\n",
       "      <td>NaN</td>\n",
       "      <td>DTIC Document</td>\n",
       "      <td>815</td>\n",
       "      <td>NaN</td>\n",
       "      <td>Coulometric Assay of Deuterium Loading Levels ...</td>\n",
       "      <td>NaN</td>\n",
       "      <td>True</td>\n",
       "      <td>1990</td>\n",
       "    </tr>\n",
       "    <tr>\n",
       "      <th>813</th>\n",
       "      <td>http://www.tandfonline.com/doi/abs/10.1080/009...</td>\n",
       "      <td>[JG Patterson]</td>\n",
       "      <td>1.0</td>\n",
       "      <td>https://scholar.google.com/scholar?cites=15270...</td>\n",
       "      <td>1.0</td>\n",
       "      <td>Taylor &amp; Francis</td>\n",
       "      <td>814</td>\n",
       "      <td>Energy sources</td>\n",
       "      <td>Global change in carbon combustion: trends in ...</td>\n",
       "      <td>NaN</td>\n",
       "      <td>True</td>\n",
       "      <td>1990</td>\n",
       "    </tr>\n",
       "    <tr>\n",
       "      <th>399</th>\n",
       "      <td>http://link.springer.com/article/10.1007/BF015...</td>\n",
       "      <td>[GS Collins, JS Walker, JW Norbury]</td>\n",
       "      <td>1.0</td>\n",
       "      <td>https://scholar.google.com/scholar?cites=16609...</td>\n",
       "      <td>1.0</td>\n",
       "      <td>Springer</td>\n",
       "      <td>400</td>\n",
       "      <td>Journal of Fusion Energy</td>\n",
       "      <td>Deuteron tunneling at electron-volt energies</td>\n",
       "      <td>NaN</td>\n",
       "      <td>True</td>\n",
       "      <td>1990</td>\n",
       "    </tr>\n",
       "    <tr>\n",
       "      <th>810</th>\n",
       "      <td>http://journals.aps.org/prc/abstract/10.1103/P...</td>\n",
       "      <td>[SE Koonin, M Mukerjee]</td>\n",
       "      <td>19.0</td>\n",
       "      <td>https://scholar.google.com/scholar?cites=14787...</td>\n",
       "      <td>19.0</td>\n",
       "      <td>APS</td>\n",
       "      <td>811</td>\n",
       "      <td>Physical Review C</td>\n",
       "      <td>Branching ratios in low-energy deuteron-induce...</td>\n",
       "      <td>NaN</td>\n",
       "      <td>True</td>\n",
       "      <td>1990</td>\n",
       "    </tr>\n",
       "  </tbody>\n",
       "</table>\n",
       "</div>"
      ],
      "text/plain": [
       "                                           article_url  \\\n",
       "500               http://www.jstor.org/stable/42577264   \n",
       "812                                                NaN   \n",
       "391  https://inis.iaea.org/search/search.aspx?orig_...   \n",
       "816  http://en.cnki.com.cn/Article_en/CJFDTOTAL-HJB...   \n",
       "393  http://www.tandfonline.com/doi/abs/10.1080/188...   \n",
       "394       http://www.ans.org/pubs/journals/nse/a_27466   \n",
       "814  http://oai.dtic.mil/oai/oai?verb=getRecord&met...   \n",
       "813  http://www.tandfonline.com/doi/abs/10.1080/009...   \n",
       "399  http://link.springer.com/article/10.1007/BF015...   \n",
       "810  http://journals.aps.org/prc/abstract/10.1103/P...   \n",
       "\n",
       "                                               authors  cites  \\\n",
       "500                                       [R Wanderer]    NaN   \n",
       "812      [LL Zahm, AC Klein, SE Binney, JN Reyes, ...]   12.0   \n",
       "391  [Z Wilhelmi, Z Szeflinski, J Tarasiuk, A Turow...    1.0   \n",
       "816                                   [QINJWLY Dingpu]    3.0   \n",
       "393                           [I Yamamoto, A Kanagawa]   47.0   \n",
       "394          [FH Coensgen, TA Casper, DL Correll, ...]   26.0   \n",
       "814  [DR Lawson, MJ Tierney, IF Cheng, LS Van Dyke,...    NaN   \n",
       "813                                     [JG Patterson]    1.0   \n",
       "399                [GS Collins, JS Walker, JW Norbury]    1.0   \n",
       "810                            [SE Koonin, M Mukerjee]   19.0   \n",
       "\n",
       "                                             cites_url   ecc  \\\n",
       "500                                                NaN   NaN   \n",
       "812  https://scholar.google.com/scholar?cites=70272...  12.0   \n",
       "391  https://scholar.google.com/scholar?cites=37188...   1.0   \n",
       "816  https://scholar.google.com/scholar?cites=43233...   3.0   \n",
       "393  https://scholar.google.com/scholar?cites=11976...  47.0   \n",
       "394  https://scholar.google.com/scholar?cites=17170...  26.0   \n",
       "814                                                NaN   NaN   \n",
       "813  https://scholar.google.com/scholar?cites=15270...   1.0   \n",
       "399  https://scholar.google.com/scholar?cites=16609...   1.0   \n",
       "810  https://scholar.google.com/scholar?cites=14787...  19.0   \n",
       "\n",
       "            publisher  rank                               source  \\\n",
       "500             JSTOR   501   ETC: A Review of General Semantics   \n",
       "812          Elsevier   813        … chemistry and interfacial …   \n",
       "391     inis.iaea.org   392                           Nukleonika   \n",
       "816    en.cnki.com.cn   817    Nuclear Fusion and Plasma Physics   \n",
       "393  Taylor & Francis   394  … of Nuclear Science and Technology   \n",
       "394           ans.org   395                Nuclear Science and …   \n",
       "814     DTIC Document   815                                  NaN   \n",
       "813  Taylor & Francis   814                       Energy sources   \n",
       "399          Springer   400             Journal of Fusion Energy   \n",
       "810               APS   811                    Physical Review C   \n",
       "\n",
       "                                                 title      type   use  year  \n",
       "500  Cold Fusion: A Profusion of Illusion, Confusio...       NaN  True  1990  \n",
       "812  Experimental investigations of the electrolysi...  CITATION  True  1990  \n",
       "391  Search for neutron emission in the deuterium-p...       NaN  True  1990  \n",
       "816  HYSTERESIS BIFURCATION AND MULTILEVEL JUMP IN ...  CITATION  True  1990  \n",
       "393  Possibility of remarkable enhancement of separ...       NaN  True  1990  \n",
       "394  High-Performance Beam-Plasma neutron sources f...       NaN  True  1990  \n",
       "814  Coulometric Assay of Deuterium Loading Levels ...       NaN  True  1990  \n",
       "813  Global change in carbon combustion: trends in ...       NaN  True  1990  \n",
       "399       Deuteron tunneling at electron-volt energies       NaN  True  1990  \n",
       "810  Branching ratios in low-energy deuteron-induce...       NaN  True  1990  "
      ]
     },
     "execution_count": 21,
     "metadata": {},
     "output_type": "execute_result"
    }
   ],
   "source": [
    "dfColdFusion.sort_values(['year'],ascending=False).head(10)"
   ]
  },
  {
   "cell_type": "code",
   "execution_count": 23,
   "metadata": {
    "collapsed": false
   },
   "outputs": [
    {
     "data": {
      "text/plain": [
       "'http://www.tandfonline.com/doi/abs/10.1080/18811248.1990.9731176'"
      ]
     },
     "execution_count": 23,
     "metadata": {},
     "output_type": "execute_result"
    }
   ],
   "source": [
    "dfColdFusion['article_url'].iloc[393]"
   ]
  },
  {
   "cell_type": "markdown",
   "metadata": {},
   "source": [
    "Die meisten Artikel verfügen über eine URL Angabe, die aber teilweise auf nicht mehr funktionierende Seiten führt. \n",
    "\n",
    "Große Verlage, wie zB. Physical Review Letters, blockieren zudem die automatisierte PDF-Suche durch Captchas. \n",
    "Für wissenschaftliche Arbeiten kann teilweise ein extra Zugang zu Daten beantragt werden."
   ]
  },
  {
   "cell_type": "markdown",
   "metadata": {},
   "source": [
    "Ist das PDF per Hand herunter geladen, kann mittels PyPDF2 der Text extrahiert werden. \n",
    "Je nach Verarbeitung des PDFs sind allerdings die resultierenden Strukturen sehr unterschiedlich.\n",
    "\n",
    "In unterem Beispiel wird die erste Seite ausgenommen, da sie Metadaten des Download-Zeitpunktes enthält und keinen extrahierbaren Text."
   ]
  },
  {
   "cell_type": "code",
   "execution_count": 36,
   "metadata": {
    "collapsed": false
   },
   "outputs": [
    {
     "name": "stdout",
     "output_type": "stream",
     "text": [
      "Number of pages: 7\n"
     ]
    },
    {
     "data": {
      "text/plain": [
       "'Journal of NUCLEAR SCIENCE and TECHNOLOGY, 27[3), pp. 250-255 (March 1990). Possibility of Remarkable Enhancement of Separation Factor by \"Cryogenic-Wall\" Thermal Diffusion Column Ichiro YAMAMOTO and Akira KANAGA W A \\nDepartment of Nuclear Engineering, Faculty of Engineering, Nagoya University* Received july 3, 1989 From a view point that the maximum separation factor (af3lmax attainable in total reflux operation of thermal diffusion column depends on temperature difference JT between hot Th and cold Tc surfaces in the form of JT/Tc as (a ) =ex [_&7\\'_ ___ __ /{l-E_· 4+3ln_o_·}] (3 max P Tc 2lnilv\\'15(lno)2+56lnil+53 Tc 4lno(l+lno) , where il C==rhfrc) is the ratio of hot wire to cold-wall radii, ar the thermal diffusion factor and zŁ (==.Zfrc) the normalized column height, remarkable enhancement of separation factor is expected through an adoption of \"Cryogenic-Wall\" (ex. 77.35 K) instead of \"Ordinary wall\" (ex. Tc=288.15 K). The effect of \"Cryogenic-Wall\" was analyzed on the basis of mate formulae involving explicitly design parameters for the column constants. In the case \\nwhere rc=l.5 em, Z=150 em and JT=1,000 K, (af3lmax for H2-HT through \"Ordinary Cold-wall\" TO column is 63.4, while that through \"Cryogenic-Wall\" TO column is 885, for which JT= 2,430 K is required in the \"Ordinary Cold-wall\" TO column and it is impossible for the hot-wire to be at so high temperature because of its melting. The magnitude of enhancement is, ever, smaller than that expected from the ratio of JT/Tc, because (1) the value of ar decreases in lower temperature region, and (2) the argument of the exponential function for (af3lmax is not proportional directly to ar·&T/Tc but to ar·&T;\\'f, where Tis the reference mean temperature higher than Tc. The optimum pressure of \"Cryogenic-Wall\" TO column is considerably smaller (0.024 MPa for the case above) than that of \"Ordinary Cold-wall\" TO column (0.103 MPa). KEYWORDS: thermal diffusion column, separation factor, ergogenic wall, perature difference, temperature dependence, optimum pressure, thermal diffusion factor, tritium, nuclear fusion fuel cycle, tritium purification I. INTRODUCTION Thermal diffusion<ll-<Ł> is not suitable for large scale production because of low dynamic efficiency. Gas phase thermal sion of hydrogen is, however, a convenient method for the separation of the isotopes of hydrogen on a small scale to moderate scale<Ł>, because the process has advantages such as small tritium inventory, high separation factors in apparatus of moderate size and a relatively simple system. The process, therefore, attracts attention to purification of tnttum in tion system and recovery of tritium from used gas mixture of hydrogen isotopes in fusion fuel cycle. At the Tritium Process Laboratory (TPL) in the Japan Atomic Energy Research Institute, the thermal diffusion process is plied for recovery and enrichment of tritium, which is diluted and mixed with other drogen isotopes in the other experiments<Ł>. In previous papers<n-<Ł>, we have reported results for H2-HT isotope separation; (1) an * Furo-cho, Chikusa-ku, Nagoya 46 4-01. -58-'"
      ]
     },
     "execution_count": 36,
     "metadata": {},
     "output_type": "execute_result"
    }
   ],
   "source": [
    "import PyPDF2\n",
    "\n",
    "pdfText = []\n",
    "\n",
    "with open('./Possibility of Remarkable Enhancement of Separation Factor by Cryogenic Wall Thermal Diffusion Column.pdf','rb') as pdfDaten:\n",
    "    pdfReader = PyPDF2.PdfFileReader(pdfDaten)\n",
    "    print('Number of pages: {}'.format(pdfReader.numPages))\n",
    "    for num in range(1,pdfReader.numPages):\n",
    "        pageObj = pdfReader.getPage(num)\n",
    "        ts=pageObj.extractText()\n",
    "        pdfText.append(ts)\n",
    "pdfText[0]"
   ]
  },
  {
   "cell_type": "markdown",
   "metadata": {},
   "source": [
    "Wenn die Struktur der einzelnen Seiten nicht von Bedeutung ist, können alle Seiten zusammengefasst werden und dann Abschnitte mittels Regex gesucht werden."
   ]
  },
  {
   "cell_type": "code",
   "execution_count": 38,
   "metadata": {
    "collapsed": false
   },
   "outputs": [],
   "source": [
    "pdfString = ' '.join(pdfText)"
   ]
  },
  {
   "cell_type": "markdown",
   "metadata": {},
   "source": [
    "Authoren haben in diesem Journals das Format Vorname NACHNAME. Mittels regex können wir also die Authoren extrahieren."
   ]
  },
  {
   "cell_type": "code",
   "execution_count": 57,
   "metadata": {
    "collapsed": false
   },
   "outputs": [
    {
     "data": {
      "text/plain": [
       "['Ichiro YAMAMOTO', 'Akira KANAGA']"
      ]
     },
     "execution_count": 57,
     "metadata": {},
     "output_type": "execute_result"
    }
   ],
   "source": [
    "re.findall('[A-Z][a-z]{3,10} [A-Z]{3,10}',pdfString)"
   ]
  },
  {
   "cell_type": "markdown",
   "metadata": {},
   "source": [
    "Das bedeutet aber auch, dass die Abschnitte des PDFs nicht die einzigen Wörter mit Großbuchstaben sind. Insbesondere sind die Referenzen ein Problem. Daher wird der PDF string in drei Abschnitte geteilt: Header, Haupttext und Referenzen. "
   ]
  },
  {
   "cell_type": "code",
   "execution_count": 69,
   "metadata": {
    "collapsed": false
   },
   "outputs": [],
   "source": [
    "refs = pdfString.split('REFERENCES')[1]\n",
    "tmp = pdfString.split('REFERENCES')[0]\n",
    "head = tmp.split('KEYWORDS')[0]\n",
    "main = tmp.split('KEYWORDS')[1]"
   ]
  },
  {
   "cell_type": "markdown",
   "metadata": {},
   "source": [
    "Nun können alle Abschnitt-Überschriften des Haupttextes gefunden werden. "
   ]
  },
  {
   "cell_type": "code",
   "execution_count": 102,
   "metadata": {
    "collapsed": false
   },
   "outputs": [],
   "source": [
    "capitalWords = re.findall('[A-Z]{5,15}',main)"
   ]
  },
  {
   "cell_type": "code",
   "execution_count": 103,
   "metadata": {
    "collapsed": false
   },
   "outputs": [
    {
     "data": {
      "text/plain": [
       "['INTRODUCTION',\n",
       " 'OPTIMUM',\n",
       " 'PRESSURE',\n",
       " 'MAXIMUM',\n",
       " 'SEPARATION',\n",
       " 'FACTOR',\n",
       " 'RESULTS',\n",
       " 'DISCUSSION',\n",
       " 'UIOCI',\n",
       " 'CONCLUSION',\n",
       " 'ACKNOWLEDGMENT']"
      ]
     },
     "execution_count": 103,
     "metadata": {},
     "output_type": "execute_result"
    }
   ],
   "source": [
    "capitalWords"
   ]
  },
  {
   "cell_type": "markdown",
   "metadata": {},
   "source": [
    "Um die einzelnen Abschnitte automatisiert zu erhalten, ergänzen wir die Liste mit der Überschrift 'References' und extrahieren dann mit regex den string zwischen zwei Überschriften. \n",
    "Ist dieser Text länger als 10 Zeichen, hängen wir das Ergebnis an die sections Liste an. "
   ]
  },
  {
   "cell_type": "code",
   "execution_count": 109,
   "metadata": {
    "collapsed": false
   },
   "outputs": [],
   "source": [
    "sections = []\n",
    "\n",
    "capitalWords.append('REFERENCES')\n",
    "\n",
    "for i in range(len(capitalWords)-1): \n",
    "    sW = capitalWords[i]\n",
    "    eW = capitalWords[i+1]\n",
    "    #pat = re.compile('(?<=INTRODUCTION).+(?=OPTIMUM PRESSURE)',flags=re.DOTALL)\n",
    "    pat = re.compile('(?<={0}).+(?={1})'.format(sW,eW),flags=re.DOTALL)\n",
    "    res = re.findall(pat,pdfString)\n",
    "    if res and len(res[0]) > 10:\n",
    "        sections.append(res[0])"
   ]
  },
  {
   "cell_type": "code",
   "execution_count": 116,
   "metadata": {
    "collapsed": false
   },
   "outputs": [
    {
     "data": {
      "text/plain": [
       "' Thermal diffusion<ll-<Ł> is not suitable for large scale production because of low dynamic efficiency. Gas phase thermal sion of hydrogen is, however, a convenient method for the separation of the isotopes of hydrogen on a small scale to moderate scale<Ł>, because the process has advantages such as small tritium inventory, high separation factors in apparatus of moderate size and a relatively simple system. The process, therefore, attracts attention to purification of tnttum in tion system and recovery of tritium from used gas mixture of hydrogen isotopes in fusion fuel cycle. At the Tritium Process Laboratory (TPL) in the Japan Atomic Energy Research Institute, the thermal diffusion process is plied for recovery and enrichment of tritium, which is diluted and mixed with other drogen isotopes in the other experiments<Ł>. In previous papers<n-<Ł>, we have reported results for H2-HT isotope separation; (1) an * Furo-cho, Chikusa-ku, Nagoya 46 4-01. -58- Vol. 27, No. 3 (Mar. 1990) experimental apparatus<\\'0> including flow and/ or cut control, temperature regulation and measurement of tritium activity and results of stable separation with continuous feed and draw-offs<n, (2) rough estimate of thermal diffusion factor for H2-HT isotopic mixture<a> through comparison of experimental results with analytical results based on a Newton iterative numerical solution of two-dimensional flow equations<\">02> as well as diffusion equation<13>, and (3) pressure ences of separative characteristics<9>. Thus, the validity of the two-dimensional separative analysis is proved, but computational time required for the analysis is so large that the analysis is not suitable for parametrical survey for conceptual design. An approximate one-dimensional analysis<2>-<Ł> has usually been used for such a problem, but the analysis is not so simple and requires inevitably \\nnumerical calculations with computers. Recently, we have, therefore, derived approximate column constants0Ł> involving explicitly design eters of hot-wire thermal diffusion column through further approximating traditional analysis at the sacrifice of minute accuracy. We have pursued a simpler analysis that is easy to operate analytically as the second step of the study<15> for obtaining a \"rule of thumb\" allowing an immediate estimate of an optimal dimension and/or operational condition of the column in terms of physical properties of gases to be separated. As the first application, optimum operating pressure at total reflux<\\'Ł> was obtained in addition to the maximum separation factor attainable at the optimum pressure. Observation of the expression of maximum separation factor leads to a bility of remarkable enhancement of separation factor in the case where the temperature of the cold wall is very low. It is because the temperature difference .:1 T between hot Th and cold T, surfaces affects separation factor in the form of t1T/T,. The present concept of \"Cryogenic-Wall\" thermal diffusion column is the first fruitful finding from the simple analysis with the approximate column stants. ll. '"
      ]
     },
     "execution_count": 116,
     "metadata": {},
     "output_type": "execute_result"
    }
   ],
   "source": [
    "sections[0]"
   ]
  },
  {
   "cell_type": "markdown",
   "metadata": {},
   "source": [
    "Bis auf einen Abschnitt (2 und 3 sind eigentlich ein Abschnitt) werden alle Einheiten gut erkannt. "
   ]
  },
  {
   "cell_type": "markdown",
   "metadata": {},
   "source": [
    "# Geographische Daten\n",
    "\n",
    "Antike Orte in dem Projekt https://pleiades.stoa.org/ können über eine API abgefragt werden: http://api.pleiades.stoa.org/"
   ]
  },
  {
   "cell_type": "markdown",
   "metadata": {},
   "source": [
    "Zeige den aktuellen Zustand des Projekts"
   ]
  },
  {
   "cell_type": "code",
   "execution_count": 418,
   "metadata": {
    "collapsed": false
   },
   "outputs": [
    {
     "data": {
      "text/plain": [
       "{'num_locations': 39363, 'num_names': 31012, 'num_places': 35204}"
      ]
     },
     "execution_count": 418,
     "metadata": {},
     "output_type": "execute_result"
    }
   ],
   "source": [
    "res = requests.get('http://api.pleiades.stoa.org/status')\n",
    "res.json()"
   ]
  },
  {
   "cell_type": "markdown",
   "metadata": {},
   "source": [
    "Erhalte Informationen zu einer bestimmten Stadt, kodiert durch ID."
   ]
  },
  {
   "cell_type": "code",
   "execution_count": 419,
   "metadata": {
    "collapsed": false
   },
   "outputs": [],
   "source": [
    "res2 = requests.get('http://pleiades.stoa.org/places/423025/json')\n",
    "jsonRes = res2.json()"
   ]
  },
  {
   "cell_type": "code",
   "execution_count": 420,
   "metadata": {
    "collapsed": false
   },
   "outputs": [
    {
     "data": {
      "text/plain": [
       "dict_keys(['names', 'features', 'uri', '@type', 'id', 'description', 'rights', 'type', 'references', 'details', 'provenance', 'title', 'placeTypes', 'created', '@context', 'contributors', 'subject', 'bbox', 'creators', 'review_state', 'history', 'connectsWith', 'locations', 'reprPoint'])"
      ]
     },
     "execution_count": 420,
     "metadata": {},
     "output_type": "execute_result"
    }
   ],
   "source": [
    "jsonRes.keys()"
   ]
  },
  {
   "cell_type": "code",
   "execution_count": 421,
   "metadata": {
    "collapsed": false
   },
   "outputs": [
    {
     "data": {
      "text/html": [
       "<div>\n",
       "<table border=\"1\" class=\"dataframe\">\n",
       "  <thead>\n",
       "    <tr style=\"text-align: right;\">\n",
       "      <th></th>\n",
       "      <th>@context</th>\n",
       "      <th>@type</th>\n",
       "      <th>bbox</th>\n",
       "      <th>connectsWith</th>\n",
       "      <th>contributors</th>\n",
       "      <th>created</th>\n",
       "      <th>creators</th>\n",
       "      <th>description</th>\n",
       "      <th>details</th>\n",
       "      <th>features</th>\n",
       "      <th>...</th>\n",
       "      <th>placeTypes</th>\n",
       "      <th>provenance</th>\n",
       "      <th>references</th>\n",
       "      <th>reprPoint</th>\n",
       "      <th>review_state</th>\n",
       "      <th>rights</th>\n",
       "      <th>subject</th>\n",
       "      <th>title</th>\n",
       "      <th>type</th>\n",
       "      <th>uri</th>\n",
       "    </tr>\n",
       "  </thead>\n",
       "  <tbody>\n",
       "    <tr>\n",
       "      <th>0</th>\n",
       "      <td>{'created': 'dcterms:created', 'subject': 'dct...</td>\n",
       "      <td>Place</td>\n",
       "      <td>[12.486137, 41.8917, 12.4862, 41.891775]</td>\n",
       "      <td>[https://pleiades.stoa.org/places/303999556, h...</td>\n",
       "      <td>[{'username': None, 'name': 'DARMC'}, {'userna...</td>\n",
       "      <td>2010-11-10T22:33:36Z</td>\n",
       "      <td>[{'username': None, 'name': 'L. Quilici'}, {'u...</td>\n",
       "      <td>The capital of the Roman Republic and Empire.</td>\n",
       "      <td>&lt;p&gt;The Barrington Atlas Directory notes: Roma/...</td>\n",
       "      <td>[{'properties': {'location_precision': 'precis...</td>\n",
       "      <td>...</td>\n",
       "      <td>[urban, settlement, temple-2]</td>\n",
       "      <td>Barrington Atlas: BAtlas 43 B2 Roma</td>\n",
       "      <td>[{'type': 'seeFurther', 'otherIdentifier': ' '...</td>\n",
       "      <td>[12.4861685, 41.891737500000005]</td>\n",
       "      <td>published</td>\n",
       "      <td>Copyright © The Contributors. Sharing and remi...</td>\n",
       "      <td>[dare:major=1, dare:feature=major settlement, ...</td>\n",
       "      <td>Roma</td>\n",
       "      <td>FeatureCollection</td>\n",
       "      <td>https://pleiades.stoa.org/places/423025</td>\n",
       "    </tr>\n",
       "  </tbody>\n",
       "</table>\n",
       "<p>1 rows × 24 columns</p>\n",
       "</div>"
      ],
      "text/plain": [
       "                                            @context  @type  \\\n",
       "0  {'created': 'dcterms:created', 'subject': 'dct...  Place   \n",
       "\n",
       "                                       bbox  \\\n",
       "0  [12.486137, 41.8917, 12.4862, 41.891775]   \n",
       "\n",
       "                                        connectsWith  \\\n",
       "0  [https://pleiades.stoa.org/places/303999556, h...   \n",
       "\n",
       "                                        contributors               created  \\\n",
       "0  [{'username': None, 'name': 'DARMC'}, {'userna...  2010-11-10T22:33:36Z   \n",
       "\n",
       "                                            creators  \\\n",
       "0  [{'username': None, 'name': 'L. Quilici'}, {'u...   \n",
       "\n",
       "                                     description  \\\n",
       "0  The capital of the Roman Republic and Empire.   \n",
       "\n",
       "                                             details  \\\n",
       "0  <p>The Barrington Atlas Directory notes: Roma/...   \n",
       "\n",
       "                                            features  \\\n",
       "0  [{'properties': {'location_precision': 'precis...   \n",
       "\n",
       "                    ...                                        placeTypes  \\\n",
       "0                   ...                     [urban, settlement, temple-2]   \n",
       "\n",
       "                            provenance  \\\n",
       "0  Barrington Atlas: BAtlas 43 B2 Roma   \n",
       "\n",
       "                                          references  \\\n",
       "0  [{'type': 'seeFurther', 'otherIdentifier': ' '...   \n",
       "\n",
       "                          reprPoint review_state  \\\n",
       "0  [12.4861685, 41.891737500000005]    published   \n",
       "\n",
       "                                              rights  \\\n",
       "0  Copyright © The Contributors. Sharing and remi...   \n",
       "\n",
       "                                             subject title               type  \\\n",
       "0  [dare:major=1, dare:feature=major settlement, ...  Roma  FeatureCollection   \n",
       "\n",
       "                                       uri  \n",
       "0  https://pleiades.stoa.org/places/423025  \n",
       "\n",
       "[1 rows x 24 columns]"
      ]
     },
     "execution_count": 421,
     "metadata": {},
     "output_type": "execute_result"
    }
   ],
   "source": [
    "dfRoma = pd.DataFrame([jsonRes])\n",
    "dfRoma"
   ]
  },
  {
   "cell_type": "markdown",
   "metadata": {},
   "source": [
    "Zeige verknüpfte Straßen zu dem Hauptort. Hierzu wird für jede Adresse in der Liste `dfRoma[connectsWith]` eine Anfrage gestellt und aus dem resultierenden JSON der Titel ausgelesen. \n",
    "\n",
    "In diesem Beispiel werden nur die ersten 20 Links abgefragt. "
   ]
  },
  {
   "cell_type": "code",
   "execution_count": 422,
   "metadata": {
    "collapsed": false
   },
   "outputs": [],
   "source": [
    "connectedStreets = []\n",
    "for i in (dfRoma['connectsWith'].iloc[0])[:20]:\n",
    "    res = requests.get(i + '/json')\n",
    "    try:\n",
    "        jsonRes = res.json()\n",
    "        title = jsonRes['title']\n",
    "        connectedStreets.append(title)\n",
    "    except:\n",
    "        pass"
   ]
  },
  {
   "cell_type": "code",
   "execution_count": 423,
   "metadata": {
    "collapsed": false
   },
   "outputs": [
    {
     "data": {
      "text/plain": [
       "['Via Portuensis?',\n",
       " 'Via Aemilia Scauri',\n",
       " 'Via Latina',\n",
       " 'Via Cornelia',\n",
       " 'Via Nomentana',\n",
       " 'Via Ostiensis',\n",
       " 'Via Ardeatina',\n",
       " 'Via Tiburtina',\n",
       " 'Via Collatina',\n",
       " 'Via Appia',\n",
       " 'Via Clodia',\n",
       " 'Via Aurelia',\n",
       " 'Via Cassia',\n",
       " 'Via Salaria',\n",
       " 'Via Flaminia',\n",
       " 'Via Praenestina',\n",
       " 'Tiberis (river)',\n",
       " 'Via Triumphalis',\n",
       " 'Via Sublacensis']"
      ]
     },
     "execution_count": 423,
     "metadata": {},
     "output_type": "execute_result"
    }
   ],
   "source": [
    "connectedStreets"
   ]
  },
  {
   "cell_type": "code",
   "execution_count": null,
   "metadata": {
    "collapsed": true
   },
   "outputs": [],
   "source": []
  }
 ],
 "metadata": {
  "anaconda-cloud": {},
  "kernelspec": {
   "display_name": "Python [Root]",
   "language": "python",
   "name": "Python [Root]"
  },
  "language_info": {
   "codemirror_mode": {
    "name": "ipython",
    "version": 3
   },
   "file_extension": ".py",
   "mimetype": "text/x-python",
   "name": "python",
   "nbconvert_exporter": "python",
   "pygments_lexer": "ipython3",
   "version": "3.5.2"
  },
  "latex_envs": {
   "bibliofile": "biblio.bib",
   "cite_by": "apalike",
   "current_citInitial": 1,
   "eqLabelWithNumbers": true,
   "eqNumInitial": 0
  },
  "nav_menu": {},
  "toc": {
   "navigate_menu": true,
   "number_sections": true,
   "sideBar": true,
   "threshold": 6,
   "toc_cell": false,
   "toc_section_display": "block",
   "toc_window_display": true
  }
 },
 "nbformat": 4,
 "nbformat_minor": 0
}
