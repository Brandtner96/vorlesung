{
 "cells": [
  {
   "cell_type": "code",
   "execution_count": 1,
   "metadata": {
    "collapsed": true
   },
   "outputs": [],
   "source": [
    "import json\n",
    "import re\n",
    "import string\n",
    "from collections import OrderedDict"
   ]
  },
  {
   "cell_type": "code",
   "execution_count": 2,
   "metadata": {
    "collapsed": false
   },
   "outputs": [],
   "source": [
    "with open('Bibliographie_der_astronomischen_Literatur_bis_1700_v1604.content.txt','r') as bibAstrLit:\n",
    "    data=bibAstrLit.read()\n",
    "    \n",
    "    data1 = re.sub('-{16}Page \\(\\d{1,4}\\) Break-{16}', '', data)\n",
    "    #\n",
    "    patLetter = re.compile('A\\@.+B\\@', flags=re.DOTALL)\n",
    "    retLetter = re.findall(patLetter,data1)\n",
    "    #\n",
    "    patNames = re.compile('A[A-Z]{2,30}[\\, .+\\:|\\:|\\;]', flags=re.DOTALL)\n",
    "    retNames = re.findall(patNames,retLetter[0]) \n",
    "    #\n",
    "    pat = re.compile('(?<={0}).+?(?={1})'.format(retNames[0],retNames[1]),flags=re.DOTALL)"
   ]
  },
  {
   "cell_type": "code",
   "execution_count": 5,
   "metadata": {
    "collapsed": true
   },
   "outputs": [],
   "source": [
    "def constructDict(letterStart, letterEnd):\n",
    "    patLetter = re.compile('{0}\\@[^,].+(?={1}\\@)'.format(letterStart,letterEnd), flags=re.DOTALL)\n",
    "    retLetter = re.findall(patLetter,data1)\n",
    "    if retLetter:\n",
    "        #\n",
    "        patNames = re.compile('{0}[A-Z]+?(?=[\\,|\\:|\\;])'.format(letterStart), flags=re.DOTALL)\n",
    "        retNames = re.findall(patNames,retLetter[0]) \n",
    "        #\n",
    "        # create dict\n",
    "        subDict = OrderedDict()\n",
    "        #\n",
    "        for i in range(len(retNames)-1):\n",
    "            #print(retNames[i])\n",
    "            pat = re.compile('(?<={0}[\\, .+\\:|\\:|\\;]).+?(?={1})'.format(retNames[i],retNames[i+1]),flags=re.DOTALL)\n",
    "            m = re.search(pat,retLetter[0])\n",
    "            #print(m.group(0))\n",
    "            res = m.group(0)\n",
    "            subDict[retNames[i]] = res\n",
    "        # Last element\n",
    "        patLast = re.compile('(?<={0}[\\, .+\\:|\\:|\\;]).+?'.format(retNames[-1]),flags=re.DOTALL)\n",
    "        mLast = re.search(patLast,retLetter[0])\n",
    "        resLast = mLast.group(0)\n",
    "        #\n",
    "        subDict[retNames[-1]] = resLast\n",
    "        #\n",
    "        return subDict"
   ]
  },
  {
   "cell_type": "code",
   "execution_count": 6,
   "metadata": {
    "collapsed": false,
    "scrolled": true
   },
   "outputs": [],
   "source": [
    "listLetter = [x for x in string.ascii_uppercase]\n",
    "fullDict = OrderedDict()\n",
    "with open('Bibliographie_der_astronomischen_Literatur_bis_1700_v1604.content.txt','r') as bibAstrLit:\n",
    "    data=bibAstrLit.read()\n",
    "    data1 = re.sub('-{16}Page \\(\\d{1,4}\\) Break-{16}', '', data)\n",
    "    for i in range(len(listLetter)-1):\n",
    "        res = constructDict(listLetter[i],listLetter[i+1])\n",
    "        fullDict[listLetter[i]] = res"
   ]
  },
  {
   "cell_type": "code",
   "execution_count": 7,
   "metadata": {
    "collapsed": false
   },
   "outputs": [
    {
     "data": {
      "text/plain": [
       "odict_keys(['ABBEUILLE', 'ABBILDUNG', 'AB', 'ABBOT', 'ABDRUCK', 'ABELIUS', 'ABESSER', 'ABIOSUS', 'ABMERKUNG', 'ABRISS', 'AAB', 'ACTA', 'ACKERMANN', 'ACOLUTHUS', 'ACQUAVIVA', 'ADERLASSKALENDER', 'ADOLPHUS', 'AENETIUS', 'AFFENSCHMALZ', 'AGERIUS', 'AGNOSTON', 'AGRICOLA', 'AGRIPPA', 'AGUILERA', 'AIGENLER', 'ALAUDA', 'ALBATEGNIUS', 'ALBERT', 'ALBINUS', 'ALBOHALI', 'ALY', 'ALBRECHT', 'ALBUBATER', 'ALBUMASAR', 'ALCHABITIUS', 'ALDEY', 'ALEMANY', 'ALEXANDER', 'ALFRAGANUS', 'AIBANI', 'ALISCHER', 'ALKINDUS', 'ALLAEUS', 'ALLARD', 'ALMANACH', 'ALMANACHPARODIE', 'ALMANSOR', 'ALOUETE', 'ALPETRAGIUS', 'ALSTED', 'ALUNNO', 'AMERBACH', 'AMPSING', 'AMSDORFF', 'ANDERMANN', 'ANDREAE', 'ANDREAS', 'ANDRELINUS', 'ANGELUS', 'ANIANUS', 'ANLAITUNG', 'ANMERKUNG', 'ANNUS', 'ANONYMUS', 'ANORDNUNG', 'ANTIQUITAS', 'ANTIST', 'ANTWORT', 'APIANUS', 'APIAN', 'ARCAN', 'ARCHIMEDES', 'ARENSEHE', 'ARGOLI', 'ARISTARCH', 'ARISTOTELES', 'ARNESTUS', 'ARNOLD', 'ARNOLDI', 'AROSELIUS', 'ARTHUS', 'ARTIS', 'ASCHHAUSEN', 'ASCOLI', 'ASKHAM', 'ASSEMBLEA', 'ASTROLABIUM', 'ASTROLOGIA', 'ASTROLOGICA', 'ASTRONOMIA', 'ASTRONOMICA', 'AUERBACH', 'AUFFMERCKUNG', 'AUGUSTINUS', 'AURELIUS', 'AURIFABER', 'AUSLEGER', 'AUSLEGUNG', 'AUSZUG', 'AUTHAEUS', 'AUTOLYCUS', 'AUZOUT', 'AVALAR', 'AVENARIS', 'AVIANUS'])"
      ]
     },
     "execution_count": 7,
     "metadata": {},
     "output_type": "execute_result"
    }
   ],
   "source": [
    "fullDict['A'].keys()"
   ]
  },
  {
   "cell_type": "code",
   "execution_count": 8,
   "metadata": {
    "collapsed": false
   },
   "outputs": [
    {
     "data": {
      "text/plain": [
       "' IP 10  \\n–: Eigentliche Abbildung/ deß erschröcklichen Comet=Sterns/ so sich anfänglich den 16./26. \\nDecembris  deß  durch  Gottes  Gnaden  zurückgelegten  1664.  Jahrs  in  Franckfurt  am  Mayn \\nsehen lassen. Frankfurt a. M.: Johann Thomas Theiner, o.J. Einbl. – VD 17: 7:691693T \\n \\n–:  Wahre  eigentliche  Abbildung/  des  allhier  zu  Nürnberg  und  andern  Orten  Osten=wärths \\nneu=erscheinenden  wahrgenommen  Cometen/  Und  Göttlichen  Warnungs=Propheten.  Um \\nOesterliche  Zeit  und  zu  verschiedenen  Tagen  hernacher  bis  zu  Ende  des  Monats  Aprilis/ \\n1677. [Nürnberg, 1677]. Einbl. Blattmaß 30 x 18,5 cm, Satzspiegel 29 x 17 cm, Kupferstich / \\nMezzotinto 11 x 17 cm  \\nMünchen BSB: Einbl. VIII,12 q  \\n–:  Abbildung  und  Beschreibung  deß  wunderwürdigen  unvergleichlichen  Cometen.  Der \\nerstmals zu Anfang deß Wintermonats vor Aufgang der Sonnen erschienen/ und anjetzt nach \\nderselben  Untergang  sich  entsetzlich  sehen  lässet. Nürnberg:  Johann  Jakob  Schollenberger, \\n1680. Einbl., Blattmaß 39 x 28 cm  \\nMünchen BSB: Einbl. VIII,12 s  \\n\\n                                                                                                                            2 \\n \\n–:  Eigendliche  Abbildung/  deß  den  16.  und  26.  Decembr.  1680.  erschienenen  und  biß  dato \\nnoch  am  Himmel  stehenden  schrecklichen  Cometen.  Frankfurt  a.M.,  o.J.  Einbl.  –  VD  17: \\n3:303241W \\nHalle ULB: AB 154 554 (5)  \\n–: Eygentliche Abbildung Des unerhört=grossen Comet=Sternen/ Welcher sich in dem Monat \\nDecembr. 1680. hat sehen lassen. Straßburg [1681?]. Einbl. – VD 17: 14:072938T \\nDresden SLUB: Astr. 578.20  \\n–:  Eigentliche  Abbildung/  daß  am  Himmel  widerum  herfürleuchtenden  Comet=  und  Wun-\\nder=Sterns/  wie  solcher  den  19.  29.  Augusti/  dises 1682.  Jahrs/  früh  gegen  Tag/  ist  anzu-\\nschauen  gewesen.  Augsburg:  Jakob  Koppmayer,  [1682].  Einbl.  Blattmaß  39,5  x  29  cm, \\nSatzspiegel 39 x 27,5 cm, Radierung 15,5 x 23 cm \\nMünchen BSB: Einbl. VIII,21 fk  \\n–: Wahre Abbildung und Stand des Cometen/ wie solcher über Franckfurt am Mayn den 15. \\n17. und 21. Augusti in der Nacht von 9. biß Morgens halb vier Vhr/ Nord=Osten zu/ dieses \\n1682.  Jahrs/  vnd  im  Zeichen  deß  Krebs/  unter  der  fordern  Pfodten  deß  grossen  Beers/  nach \\nAstronomischen Observation, erschienen. Frankfurt a. M.: Johann Georg Walther, o.J. [1682]. \\nEinbl. – VD 17: 3:303251C  \\n–: Wahre Abbildung des Cometen wie solcher über Rom den 2 Decemb[ris] Montags in der \\nNacht in diesem 1680 Jahr erschienen u[nd] im Zeichen der Jungfrauen des 13 Grads gesehen \\nworden. Nürnberg: Georg Scheurer, [1680]. Einbl. Blattmaß 19 x 24,5 cm, Satzspiegel 11,5 x \\n22 cm, Kupferstich 8 x 22 cm  \\nMünchen BSB: Res/Slg.Faust 45  \\nABBOT;  George:  Explicatio  sex  illustrium  quaestionum:  I.  De  mendacio.  II.  De  circumci-\\nsione et baptismo. III. De astrologia. ... Frankfurt a. M.: Jonas Rosa, 1616. 4°, 4 Bl., 174 S., 5 \\nBl. – VD 17: 14:001679F  \\nABDRUCK:  Abtruck  der  anzeyg  vnd  Protestation/  so  auff  Sontag  den  17.  Junij/  vnd  neu \\nnechsten Montag Demnach/ Anno 1584. stylo nouo, zu Augspurg in den Kirchen Augspurgi-\\nscher Confession verlesen worden [betr. Kalenderreform]. o.O. 1584. 4°, 8 Bl. – VD 16 A 17, \\nZ 00 \\nGotha UFB: Math. 4°173/1 (3)  \\nABELIUS,  Michael:  Eclipseos  Solaris  die  XXI.  Jvlii ...  ac  reliquos  Inclytae  Academiae \\nFrancofordianae precedere ... consideratio. Frankfurt/O.: [Andreas Eichorn], 1590. 4°, 4 Bl. – \\nVD 16 A 22, Z 00 \\nHalle MarienB: Q 3.106  \\nABESSER, Melchior, s. Aenetius, Theophilus  \\nABIOSUS,  Johannes  Baptista:  Dialogus  in  astrologiae  defensionem  cum  vaticinio  a  diluvio \\nusque ad Christi annos 1702. Venedig: Franciscus Lapicida, 1494. 4°. – GW 6 \\nMünchen BSB: 4° Inc. c.a. 1052  \\nABMERKUNG:  Abmerckung  Zweyer  Cometen/  So  sich  bey  ablauffendem  1664.  Jahre  im \\n\\n                                                                                                                            3 \\n \\nDecembr.  erstmals  erzeiget  haben.  o.O.,  1665.  4°,  4  Bl.  –  VD  17:  35:714853S,  23:287735P \\n(Variante: im Titel „Decemb.“), Barockdrucke A 972  \\nABRAHAM  Avenaris:  Abrahe  Avenaris  Iudei  astrologi  peritissimi  in  re  iudiciali  opera. \\nVenedig: Petrus Liechtenstein, 1507. 4°, 96 Bl.  \\nJena UB: 4 Math. VII,10 (3)  \\ns.a. Ganivet, Jean  \\nABRAHAM bar Chija han-Nasi: Sphaera mvndi describens figuram terrae dispositionemque \\norbium  coelestium  &  motus  stellarum.  Basel:  Henricus  Petri,  1546.  4°,  4  Bl.,  351  S.,  6  Bl., \\n207 S. – VD 16 A 44, Z 1891  \\nDresden  SLUB:  Astr.  204;  Jena  UB:  4  Rabb.  II,63;  Rostock  UB:  C  I  c-5230  u.  5230a; \\nWittenberg SemB: NW q 52   \\nABRAHAM Ben-Ezra: s. Ibn Esra   \\nABRAHAM Judaeus: s. Abraham ben Ezra, Taisnier, Johannes \\n \\nABRISS: Abriß und Beschreibung des erschrecklichen und langen Cometen, Welcher in dem \\nallbereit zurück gelegten 1680sten Jahre ... erschienen. o.O. 1681. 4°, 4 Bl. \\nPotsdam Stw.: 33,33   \\n–: Abriß und Beschreibung/ Deß in dem abgelauffenen/ 1680. Jahre/ im Monat Novemb. und \\nDecmb. erschienenen sehr langen und erschrecklichen Cometen. o.O. 1681. Einbl. – VD 17: \\n14:073224X \\nDresden SLUB: Astr. 438hd (10)  \\n–: Abriß und Beschreibung Deß in dem allbereit zurück gelegten 1680sten Jahre in Nov. und \\nDec.  erschienenen  sehr  langen  und  erschrecklichen  Cometen.  o.O.  1681.  Einbl.  –  VD  17: \\n39:122659A \\nGotha UFB: Math. 4°127 (03a)  \\n–: Abriß und Beschreibung/ Des in diesem noch lauffenden 1680sten Jahre in Novemb. und \\nDecemb.   erschienenen   sehr   langen   und   erschrecklichen   Cometen.   Hamburg:   Thomas \\nWiering, [1680?]. Einbl. – VD 17: 23:647333X \\nSchwerin LB: Qd VI 270  \\n–:  Dunckeler  Abriß/  Und  Kurtze  Beschreibung/  Des  fast  niemals  erhörten  grossen  neuen \\nCometens/ Welcher erschienen im Christmonat/ des 1680 Jahrs. o.O., 1681. Einbl. – VD 17: \\n12:644483X, 39:128556F (Variante) \\nDresden  SLUB:  Astr.  438hd  ,  Astr.  454  ,  Astr.  578; Gotha  UFB:  Math.  4°123;  Hamburg \\nSUB: Scrin. A 143 (7); München BSB: 4 Astr. p. 522,11 (1); Weimar '"
      ]
     },
     "execution_count": 8,
     "metadata": {},
     "output_type": "execute_result"
    }
   ],
   "source": [
    "fullDict['A']['AB']"
   ]
  },
  {
   "cell_type": "code",
   "execution_count": 9,
   "metadata": {
    "collapsed": true
   },
   "outputs": [],
   "source": [
    "with open('./BiblioAstroLib.json','w') as output:\n",
    "    json.dump(fullDict,output)"
   ]
  },
  {
   "cell_type": "code",
   "execution_count": null,
   "metadata": {
    "collapsed": true
   },
   "outputs": [],
   "source": []
  }
 ],
 "metadata": {
  "anaconda-cloud": {},
  "kernelspec": {
   "display_name": "Python [Root]",
   "language": "python",
   "name": "Python [Root]"
  },
  "language_info": {
   "codemirror_mode": {
    "name": "ipython",
    "version": 3
   },
   "file_extension": ".py",
   "mimetype": "text/x-python",
   "name": "python",
   "nbconvert_exporter": "python",
   "pygments_lexer": "ipython3",
   "version": "3.5.2"
  },
  "latex_envs": {
   "bibliofile": "biblio.bib",
   "cite_by": "apalike",
   "current_citInitial": 1,
   "eqLabelWithNumbers": true,
   "eqNumInitial": 0
  },
  "nav_menu": {},
  "toc": {
   "navigate_menu": true,
   "number_sections": true,
   "sideBar": true,
   "threshold": 6,
   "toc_cell": false,
   "toc_section_display": "block",
   "toc_window_display": false
  }
 },
 "nbformat": 4,
 "nbformat_minor": 0
}
