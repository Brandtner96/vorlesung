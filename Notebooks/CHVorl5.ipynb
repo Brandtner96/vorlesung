{
 "cells": [
  {
   "cell_type": "markdown",
   "metadata": {
    "button": false,
    "deletable": true,
    "new_sheet": false,
    "run_control": {
     "read_only": false
    }
   },
   "source": [
    "# Vorlesung 5: Strukturen von Texten, Chunking\n",
    "\n",
    "Reguläre Ausdrücke: http://www.regexe.de/hilfe.jsp\n",
    "                    https://pymotw.com/2/re\n",
    "\n",
    "Pandas: http://www.data-analysis-in-python.org/3_pandas.html\n",
    "      : https://bitbucket.org/hrojas/learn-pandas\n",
    "      \n",
    "## Hintergrund     \n",
    "     \n",
    "NLTK: http://www.nltk.org/book/ch05.html\n",
    "    : http://www.nltk.org/book/ch07.html\n",
    "\n",
    "Chunking: https://www.eecis.udel.edu/~trnka/CISC889-11S/lectures/dongqing-chunking.pdf\n"
   ]
  },
  {
   "cell_type": "code",
   "execution_count": 1,
   "metadata": {
    "button": false,
    "collapsed": false,
    "deletable": true,
    "new_sheet": false,
    "run_control": {
     "read_only": false
    }
   },
   "outputs": [],
   "source": [
    "import json\n",
    "import pandas as pd\n",
    "import re\n",
    "import numpy as np\n",
    "import requests"
   ]
  },
  {
   "cell_type": "markdown",
   "metadata": {},
   "source": [
    "## Construct Dataframe from full Poleis data"
   ]
  },
  {
   "cell_type": "code",
   "execution_count": 2,
   "metadata": {
    "collapsed": false
   },
   "outputs": [
    {
     "data": {
      "text/plain": [
       "dict_keys(['Makedonia', 'Boiotia', 'Cyprus', 'Thrace from Strymon to Nestos', 'Phokis', 'The South Coast of Asia Minor (Pamphylia Kilikia)', 'Thrace from Nestos to Hebros', 'Aiolis and South-western Mysia', 'Thessalia and Adjacent Regions', 'West Lokris', 'The Black Sea Area', 'The Propontic Coast of Asia Minor', 'The Aegean', 'Troas', 'Akarnania and Adjacent Areas', 'Elis', 'Inland Thrace', 'Propontic Thrace', 'Lesbos', 'Doris', 'Attika', 'Epeiros', 'The Saronic Gulf', 'Karia', 'Spain and France (including Corsica)', 'Achaia', 'Sikelia', 'Thracian Chersonesos', 'Rhodos', 'East Lokris', 'The Adriatic', 'Thrace from Axios to Strymon', 'Crete', 'Lakedaimon', 'Italia and Kampania', 'Ionia', 'Megaris, Korinthia, Sikyonia', 'Triphylia', 'Arkadia', 'Aitolia', 'Argolis', 'Lykia', 'Euboia', 'Messenia'])"
      ]
     },
     "execution_count": 2,
     "metadata": {},
     "output_type": "execute_result"
    }
   ],
   "source": [
    "PoleisDataOnline2 = requests.get('http://repository.edition-topoi.org/MISC/ReposMISC/MISC00005/secondVersion.json')\n",
    "PoleisRawData2 = PoleisDataOnline2.json()\n",
    "PoleisRawData2.keys()"
   ]
  },
  {
   "cell_type": "code",
   "execution_count": 3,
   "metadata": {
    "collapsed": false
   },
   "outputs": [
    {
     "data": {
      "text/html": [
       "<div>\n",
       "<table border=\"1\" class=\"dataframe\">\n",
       "  <thead>\n",
       "    <tr style=\"text-align: right;\">\n",
       "      <th></th>\n",
       "      <th>Beschreibung</th>\n",
       "      <th>region</th>\n",
       "      <th>city</th>\n",
       "    </tr>\n",
       "  </thead>\n",
       "  <tbody>\n",
       "    <tr>\n",
       "      <th>0</th>\n",
       "      <td>Identifier: 233. , (Ascheieus) Unlocated.  Typ...</td>\n",
       "      <td>Achaia</td>\n",
       "      <td>Ascheion</td>\n",
       "    </tr>\n",
       "    <tr>\n",
       "      <th>1</th>\n",
       "      <td>Identifier: 235. , (Bourios) Map  58.  Lat. 38...</td>\n",
       "      <td>Achaia</td>\n",
       "      <td>Boura</td>\n",
       "    </tr>\n",
       "    <tr>\n",
       "      <th>2</th>\n",
       "      <td>Identifier: 236. , (Helikeus) Map  58.  Lat. 3...</td>\n",
       "      <td>Achaia</td>\n",
       "      <td>Helike</td>\n",
       "    </tr>\n",
       "    <tr>\n",
       "      <th>3</th>\n",
       "      <td>Identifier: 237. , (Keryneus) Map  58.  Lat. 3...</td>\n",
       "      <td>Achaia</td>\n",
       "      <td>Keryneia</td>\n",
       "    </tr>\n",
       "    <tr>\n",
       "      <th>4</th>\n",
       "      <td>Identifier: 238. , (Leontesios) Map  58.Lat.38...</td>\n",
       "      <td>Achaia</td>\n",
       "      <td>Leontion</td>\n",
       "    </tr>\n",
       "  </tbody>\n",
       "</table>\n",
       "</div>"
      ],
      "text/plain": [
       "                                        Beschreibung  region      city\n",
       "0  Identifier: 233. , (Ascheieus) Unlocated.  Typ...  Achaia  Ascheion\n",
       "1  Identifier: 235. , (Bourios) Map  58.  Lat. 38...  Achaia     Boura\n",
       "2  Identifier: 236. , (Helikeus) Map  58.  Lat. 3...  Achaia    Helike\n",
       "3  Identifier: 237. , (Keryneus) Map  58.  Lat. 3...  Achaia  Keryneia\n",
       "4  Identifier: 238. , (Leontesios) Map  58.Lat.38...  Achaia  Leontion"
      ]
     },
     "execution_count": 3,
     "metadata": {},
     "output_type": "execute_result"
    }
   ],
   "source": [
    "# Read Json into a normalized form, yields ~500 columns with region.city keys\n",
    "dfPoleisGesamt = pd.io.json.json_normalize(PoleisRawData2)\n",
    "\n",
    "# rotate and rename dataframe\n",
    "dfPoleisGesamt= dfPoleisGesamt.transpose()\n",
    "dfPoleisGesamt.columns=['Beschreibung']\n",
    "dfPoleisGesamt.head(4)\n",
    "\n",
    "# reset to new index, return old index as column 'index'\n",
    "dfPoleisGesamt= dfPoleisGesamt.reset_index()\n",
    "dfPoleisGesamt.head()\n",
    "\n",
    "# split entries in column 'index' into region and city part\n",
    "dfPoleisGesamt['indexSplit'] = dfPoleisGesamt['index'].str.split('.')\n",
    "\n",
    "# generate new columns out of split index\n",
    "dfPoleisGesamt['region'] = dfPoleisGesamt['indexSplit'].apply(lambda raw: raw[0])\n",
    "dfPoleisGesamt['city'] = dfPoleisGesamt['indexSplit'].apply(lambda raw: raw[1])\n",
    "dfPoleisGesamt.head()\n",
    "\n",
    "# remove columns 'index' and 'indexSplit', since they contain redundant information\n",
    "dfPoleisGesamt = dfPoleisGesamt.drop('index', 1)\n",
    "dfPoleisGesamt = dfPoleisGesamt.drop('indexSplit', 1)\n",
    "dfPoleisGesamt.head()"
   ]
  },
  {
   "cell_type": "markdown",
   "metadata": {},
   "source": [
    "## Textmustersuche zur Beschreibung einer Polis"
   ]
  },
  {
   "cell_type": "markdown",
   "metadata": {},
   "source": [
    "### Geographische Koordinaten"
   ]
  },
  {
   "cell_type": "code",
   "execution_count": 4,
   "metadata": {
    "collapsed": false
   },
   "outputs": [],
   "source": [
    "def ListePattern(string,pattern):\n",
    "    x = re.findall(pattern,string)\n",
    "    if x:\n",
    "        return(x)"
   ]
  },
  {
   "cell_type": "markdown",
   "metadata": {},
   "source": [
    "Example for geographical coordinates:\n",
    "\n",
    "- (?<=Lat\\.\\s)  Group (?...) Passive (non-capturing) group\n",
    "- ?<= Lookbehind assertion\n",
    "- Lat\\.\\s   das string muster: \"Lat. \" mit \".\" und \" \" als escape\n",
    "- \\s?\\d+\\.\\d+ : space[optional wegen ?]digit[1 oder 2 wegen +].[escaped]digit[1 oder 2]\n",
    "\n",
    "Code::\n",
    "\n",
    "    dfPoleisGesamt['Latitude'] = dfPoleisGesamt['Beschreibung'].apply(lambda raw: ListePattern(raw,\"(?<=Lat\\.\\s)\\d+\\.\\d+\"))"
   ]
  },
  {
   "cell_type": "markdown",
   "metadata": {},
   "source": [
    "### Zitatnachweise, Namen, Jahreszahlen"
   ]
  },
  {
   "cell_type": "code",
   "execution_count": 5,
   "metadata": {
    "collapsed": false
   },
   "outputs": [
    {
     "data": {
      "text/plain": [
       "\"Identifier: 236. , (Helikeus) Map  58.  Lat. 38.15,long.  22.10.  Size of  territory: 1  or 2.  Type:  A.  Paus. 7.24.5  locates  Helike  40 stades  from  Aigion  (no. 231),  while  Strabo  8.7.2  (following Herakleides)  places  it  12  stades  from  the  sea.  This  should  put it  between  the  rivers  Selinous  and  Kerynitis  (Morgan  and Hall ( 1996)  175;  Barr.).  The  city,  which  was  overwhelmed  by a  tidal  wave  occasioned  by  an  earthquake  in  373  (Diod. 15.48.1\\xad49.4;  Polyb. 2.41.7;Strabo 8.7.2;  Paus. 7.24.6;Ael.  NA 11.19),  was  normally  supposed  to  lie  under  water  (cf.  Ov. Met. 15.293\\xad95),  but  sonar  investigation  suggests  that  it  may actually  lie  inland  under  massive  sedimentary  deposits  in the  vicinity  of  Nea  Keryneia  (Petropoulos  ( 1983);  cf.  Ptol. Geog. 3.14.36,  who  lists  Helike  among  the  inland  cities  of Achaia).  However,  Rizakis  ( 1995)  203\\xad4  finds all candidates for  ancient  Helike  unconvincing.  The  toponym  is  usually `,  (Hom.  Il. 2.575;  SEG 36  718  (C 5e);  Hdt. 1.145)  or `  (Syll. ³90.12),  though  Theophr.  Phys.  Op. 12.122  cites a  verse  which  gives  the  toponym  as  `.  The  city- ethnic  is  `  (Diod. 15.49.3). Helike  is  called  a  polis  in  the  urban  sense  in  Heraclid. Pont.  fr. 46a  (r 373)  and  Theophr.  Phys.  op. 12.122  (r 373),but  is absent  from  Ps.-Skylax's  list  of  Achaian  poleis  ( 42),  which may  suggest  that  this  chapter  was  composed  after  373. Retrospective  evidence  is  provided  by  Polyb. 2.41.7  (rC 4), who  calls  it  a  polis  in  the  political  sense,  and  by  Diod. 15.48.3 (r 373),  who  describes  it  as  a  polis  in  the  urban  sense.  The internal  collective  use  of  the  city-ethnic  is  probably  found (abbreviated)  on  C 4  coins  (infra),  and  the  external  collective use  is  found  in  Diod. 15.49.3  (r  ante 373).  A  citizen  of  Helike served  as  Delphic  theorodokos  in  C 5l  (Syll. ³90.12).According to Polyb. 2.41.6\\xad7  (rC 4),  Helike  had  been  a  member  of  the Achaian  Confederacy. The  early  physical  existence  of  Helike  is  attested  in  Hom. Il. 2.575  and  in  a  C 5e  inscription  (SEG 36  718;  see  also  Soter and  Katsonopoulou  ( 1999)).  Archaeological  investigations have  revealed  the  foundations  of  two  small  temples,  one Archaic,  the  other  Classical,  at  Nea  Keryneia,  which  may possibly  be  associated  with  the  acropolis  of  ancient  Helike (Petropoulos  ( 1990)).  The  most  important  sanctuary  at Helike  was,  however,  that  of  Poseidon  Helikonios  (Hom.  Il. 8.203;Diod.  15.49.2\\xad3;Strabo  8.7.2;  Paus. 7.24.5\\xad6),  and  it  is quite  likely  that  this  sanctuary  acted  as  a  common  place  of union  for  the  Achaians  prior  to  the  destruction  of Helike,  when  that  function  was  assumed  by  the  sanctuary of  Zeus  Homarios  near  Aigion  (Morgan  and  Hall  ( 1996) 195\\xad96,  contra  Aymard  ( 1938)  286\\xad87,  293;  Walbank ( 2000)). According  to  Strabo  6.1.13,  Is  of  Helike  was  the  founder  of Sybaris  (no. 70)  in  South  Italy.  The  reading  (  '  &lt;...  &gt; `) is,  however,  unsure,  and Bérard  ( 1957)  141  n. 2  proposed  either  &lt; &gt;  or &lt; &gt;. A  series  of  bronze  coins,  dating  to  C 4f,  depicts  obv.  head of  Poseidon.  Legend: (retr.).  Rev.  trident  between dolphins  in  wreath  (Head,  HN ²414). 236. \""
      ]
     },
     "execution_count": 5,
     "metadata": {},
     "output_type": "execute_result"
    }
   ],
   "source": [
    "dfPoleisGesamt[\"Beschreibung\"].iloc[2] # icloc is a method to refer to local index position"
   ]
  },
  {
   "cell_type": "markdown",
   "metadata": {},
   "source": [
    "## Muster (Pattern) zur Erkennung der Literaturreferenzen\n",
    "\n",
    "- Primärquellen\n",
    "\n",
    "(Polyb. 1.18.2)\n",
    "(Diod. 13.85.4  (r 406))\n",
    "(Diod. 13.108.2)\n",
    "(Hdt. 7.165;  IGDS  no. 182a)\n",
    "(Pind.  Pyth. 6)\n",
    "(Thuc. 6.4.4: µµ  )\n",
    "(Xanthos  (FGrHist 765)  fr. 33;  Arist.  fr. 865)\n",
    "\n",
    "- Sekundärquellen\n",
    "\n",
    "(Karlsson  ( 1995)  161\n",
    "(Waele  ( 1971) 195;  Hinz  ( 1998)  79)\n",
    "\n",
    "- Jahreszahlen\n",
    "( dddd)"
   ]
  },
  {
   "cell_type": "markdown",
   "metadata": {},
   "source": [
    "### Mehrere reguläre Ausdrücke nötig, um alle Zitate zu finden"
   ]
  },
  {
   "cell_type": "markdown",
   "metadata": {},
   "source": [
    "Finde alle Ausdrücke wie oben, denen ein Punkt folgt, mit anschließenden Zifferfolgen der Form [Ziffern][Punkt][Ziffern][Punkt][Ziffern]"
   ]
  },
  {
   "cell_type": "code",
   "execution_count": 6,
   "metadata": {
    "collapsed": false
   },
   "outputs": [
    {
     "data": {
      "text/plain": [
       "['Paus. 7.24.5',\n",
       " 'Diod. 15.48.1',\n",
       " 'Polyb. 2.41.7',\n",
       " 'Paus. 7.24.6',\n",
       " 'Geog. 3.14.36',\n",
       " 'Diod. 15.49.3',\n",
       " 'Polyb. 2.41.7',\n",
       " 'Diod. 15.48.3',\n",
       " 'Diod. 15.49.3',\n",
       " 'Polyb. 2.41.6',\n",
       " 'Paus. 7.24.5']"
      ]
     },
     "execution_count": 6,
     "metadata": {},
     "output_type": "execute_result"
    }
   ],
   "source": [
    "dfPoleisGesamt['Beschreibung'].apply(lambda raw: ListePattern(raw,'[A-Z][a-z]{1,10}\\. \\d{1,3}\\.\\d{1,3}\\.\\d{1,3}'))[2]"
   ]
  },
  {
   "cell_type": "markdown",
   "metadata": {},
   "source": [
    "Finde alle Ausdrücke wie oben, wobei statt des Punktes nach den kleinen Buchstaben zwei Leerzeichen und eine runde Klammer und vier Ziffern folgen können"
   ]
  },
  {
   "cell_type": "code",
   "execution_count": 7,
   "metadata": {
    "collapsed": false
   },
   "outputs": [
    {
     "data": {
      "text/plain": [
       "['Hall ( 1996)',\n",
       " 'Petropoulos  ( 1983)',\n",
       " 'Rizakis  ( 1995)',\n",
       " 'Katsonopoulou  ( 1999)',\n",
       " 'Petropoulos  ( 1990)',\n",
       " 'Hall  ( 1996)',\n",
       " 'Aymard  ( 1938)',\n",
       " 'Walbank ( 2000)']"
      ]
     },
     "execution_count": 7,
     "metadata": {},
     "output_type": "execute_result"
    }
   ],
   "source": [
    "dfPoleisGesamt['Beschreibung'].apply(lambda raw: ListePattern(raw,'[A-Z][a-z]{1,15}\\s{0,2}\\(\\s*\\d{4}\\)'))[2]"
   ]
  },
  {
   "cell_type": "markdown",
   "metadata": {},
   "source": [
    "Finde alle Authoren, gefolgt von einem oder mehreren Leerzeichen und ([Ziffer][Punkt][Ziffern][Punkt][Ziffern])"
   ]
  },
  {
   "cell_type": "code",
   "execution_count": 8,
   "metadata": {
    "collapsed": false
   },
   "outputs": [],
   "source": [
    "dfPoleisGesamt['Beschreibung'].apply(lambda raw: ListePattern(raw,'[A-Z][a-z]{1,15}\\s{0,2}\\(\\s*\\d{1,2}\\.\\d{1,2}\\.\\d{1,2}\\)'))[2]"
   ]
  },
  {
   "cell_type": "markdown",
   "metadata": {},
   "source": [
    "Wie oben nur ohne Klammern."
   ]
  },
  {
   "cell_type": "code",
   "execution_count": 9,
   "metadata": {
    "collapsed": false
   },
   "outputs": [
    {
     "data": {
      "text/plain": [
       "['Strabo  8.7.2', 'Strabo 8.7.2', 'Strabo  8.7.2', 'Strabo  6.1.13']"
      ]
     },
     "execution_count": 9,
     "metadata": {},
     "output_type": "execute_result"
    }
   ],
   "source": [
    "dfPoleisGesamt['Beschreibung'].apply(lambda raw: ListePattern(raw,'[A-Z][a-z]{1,15}\\s{0,2}\\s*\\d{1,2}\\.\\d{1,2}\\.\\d{1,2}'))[2]"
   ]
  },
  {
   "cell_type": "code",
   "execution_count": 10,
   "metadata": {
    "collapsed": false
   },
   "outputs": [
    {
     "data": {
      "text/plain": [
       "['Theophr.  Phys.  Op. 12.122', 'Theophr.  Phys.  op. 12.122']"
      ]
     },
     "execution_count": 10,
     "metadata": {},
     "output_type": "execute_result"
    }
   ],
   "source": [
    "dfPoleisGesamt['Beschreibung'].apply(lambda raw: ListePattern(raw,'[A-Z][a-z]{1,15}\\.\\s+[A-Z][a-z]{1,10}\\.\\s+[A-Za-z]{1,10}\\.\\s+\\d{1,3}\\.\\d{1,3}'))[2]"
   ]
  },
  {
   "cell_type": "code",
   "execution_count": 11,
   "metadata": {
    "collapsed": false
   },
   "outputs": [
    {
     "data": {
      "text/plain": [
       "['Ov. Met. 15.293',\n",
       " 'Ptol. Geog. 3.14',\n",
       " 'Hom.  Il. 2.575',\n",
       " 'Phys.  Op. 12.122',\n",
       " 'Hom. Il. 2.575',\n",
       " 'Hom.  Il. 8.203']"
      ]
     },
     "execution_count": 11,
     "metadata": {},
     "output_type": "execute_result"
    }
   ],
   "source": [
    "dfPoleisGesamt['Beschreibung'].apply(lambda raw: ListePattern(raw,'[A-Z][a-z]{1,15}\\.\\s+[A-Z][a-z]{1,10}\\.\\s+\\d{1,3}\\.\\d{1,3}'))[2]"
   ]
  },
  {
   "cell_type": "code",
   "execution_count": 26,
   "metadata": {
    "collapsed": false
   },
   "outputs": [
    {
     "data": {
      "text/plain": [
       "['Paus. 7.24.5',\n",
       " 'Strabo  8.7.2',\n",
       " 'Hall ( 1996)',\n",
       " 'Diod. 15.48.1',\n",
       " 'Polyb. 2.41.7',\n",
       " 'Strabo 8.7.2',\n",
       " 'Paus. 7.24.6',\n",
       " 'Ov. Met. 15.293',\n",
       " 'Petropoulos  ( 1983)',\n",
       " 'Ptol. Geog. 3.14',\n",
       " 'Rizakis  ( 1995)',\n",
       " 'Hom.  Il. 2.575',\n",
       " 'Theophr.  Phys.  Op. 12.122',\n",
       " 'Diod. 15.49.3',\n",
       " 'Polyb. 2.41.7',\n",
       " 'Diod. 15.48.3',\n",
       " 'Diod. 15.49.3',\n",
       " 'Polyb. 2.41.6',\n",
       " 'Hom. Il. 2.575',\n",
       " 'Katsonopoulou  ( 1999)',\n",
       " 'Petropoulos  ( 1990)',\n",
       " 'Hom.  Il. 8.203',\n",
       " 'Strabo  8.7.2',\n",
       " 'Paus. 7.24.5',\n",
       " 'Hall  ( 1996)',\n",
       " 'Aymard  ( 1938)',\n",
       " 'Walbank ( 2000)',\n",
       " 'Strabo  6.1.13']"
      ]
     },
     "execution_count": 26,
     "metadata": {},
     "output_type": "execute_result"
    }
   ],
   "source": [
    "# Zusammenfassen von zwei Bedingungen: kompilieren des regulären Ausdrucks beschleunigt den Suchprozess\n",
    "\n",
    "pat = re.compile('([A-Z][a-z]{1,10}\\. \\d{1,3}\\.\\d{1,3}\\.\\d{1,3}|[A-Z][a-z]{1,15}\\s{0,2}\\(\\s*\\d{4}\\)|[A-Z][a-z]{1,15}\\s{0,2}\\(\\s*\\d{1,2}\\.\\d{1,2}\\.\\d{1,2}\\)|[A-Z][a-z]{1,15}\\s{0,2}\\s*\\d{1,2}\\.\\d{1,2}\\.\\d{1,2}|[A-Z][a-z]{1,15}\\.\\s+[A-Z][a-z]{1,10}\\.\\s+[A-Z][a-z]{1,10}\\.\\s+\\d{1,3}\\.\\d{1,3}|[A-Z][a-z]{1,15}\\.\\s+[A-Z][a-z]{1,10}\\.\\s+\\d{1,3}\\.\\d{1,3})')\n",
    "\n",
    "dfPoleisGesamt['Beschreibung'].apply(lambda raw: ListePattern(raw,pat))[2]"
   ]
  },
  {
   "cell_type": "code",
   "execution_count": 39,
   "metadata": {
    "collapsed": false
   },
   "outputs": [],
   "source": [
    "pat = re.compile('([A-Z][a-z]{1,10}\\. \\d{1,3}\\.\\d{1,3}\\.\\d{1,3}|[A-Z][a-z]{1,15}\\s{0,2}\\(\\s*\\d{4}\\)|[A-Z][a-z]{1,15}\\s{0,2}\\(\\s*\\d{1,2}\\.\\d{1,2}\\.\\d{1,2}\\)|[A-Z][a-z]{1,15}\\s{0,2}\\s*\\d{1,2}\\.\\d{1,2}\\.\\d{1,2}|[A-Z][a-z]{1,15}\\.\\s+[A-Z][a-z]{1,10}\\.\\s+[A-Z][a-z]{1,10}\\.\\s+\\d{1,3}\\.\\d{1,3}|[A-Z][a-z]{1,15}\\.\\s+[A-Z][a-z]{1,10}\\.\\s+\\d{1,3}\\.\\d{1,3}|[A-Z][a-z]{1,10}.?\\s+[¹²³]\\d+\\.\\d+|[A-Z][a-z]{1,10}.?\\s+[¹²³]\\d+|[A-Z][a-z]{1,10}.?\\s+\\d+\\s+\\d+)')\n",
    "\n",
    "dfPoleisGesamt['Quellen'] = dfPoleisGesamt['Beschreibung'].apply(lambda raw: ListePattern(raw,pat))"
   ]
  },
  {
   "cell_type": "code",
   "execution_count": 40,
   "metadata": {
    "collapsed": false
   },
   "outputs": [
    {
     "data": {
      "text/html": [
       "<div>\n",
       "<table border=\"1\" class=\"dataframe\">\n",
       "  <thead>\n",
       "    <tr style=\"text-align: right;\">\n",
       "      <th></th>\n",
       "      <th>Beschreibung</th>\n",
       "      <th>region</th>\n",
       "      <th>city</th>\n",
       "      <th>Quellen</th>\n",
       "    </tr>\n",
       "  </thead>\n",
       "  <tbody>\n",
       "    <tr>\n",
       "      <th>0</th>\n",
       "      <td>Identifier: 233. , (Ascheieus) Unlocated.  Typ...</td>\n",
       "      <td>Achaia</td>\n",
       "      <td>Ascheion</td>\n",
       "      <td>None</td>\n",
       "    </tr>\n",
       "    <tr>\n",
       "      <th>1</th>\n",
       "      <td>Identifier: 235. , (Bourios) Map  58.  Lat. 38...</td>\n",
       "      <td>Achaia</td>\n",
       "      <td>Boura</td>\n",
       "      <td>[Paus. 7.25.8, Strabo  8.7.5, Hall  ( 1996), R...</td>\n",
       "    </tr>\n",
       "    <tr>\n",
       "      <th>2</th>\n",
       "      <td>Identifier: 236. , (Helikeus) Map  58.  Lat. 3...</td>\n",
       "      <td>Achaia</td>\n",
       "      <td>Helike</td>\n",
       "      <td>[Paus. 7.24.5, Strabo  8.7.2, Hall ( 1996), Di...</td>\n",
       "    </tr>\n",
       "    <tr>\n",
       "      <th>3</th>\n",
       "      <td>Identifier: 237. , (Keryneus) Map  58.  Lat. 3...</td>\n",
       "      <td>Achaia</td>\n",
       "      <td>Keryneia</td>\n",
       "      <td>[Paus. 7.25.5, Rizakis  ( 1995), Paus. 7.25.5,...</td>\n",
       "    </tr>\n",
       "    <tr>\n",
       "      <th>4</th>\n",
       "      <td>Identifier: 238. , (Leontesios) Map  58.Lat.38...</td>\n",
       "      <td>Achaia</td>\n",
       "      <td>Leontion</td>\n",
       "      <td>[Lauffer  ( 1989), Polyb. 2.41.7, Strabo  8.7....</td>\n",
       "    </tr>\n",
       "    <tr>\n",
       "      <th>5</th>\n",
       "      <td>Identifier: 241. , (Olenios) Map  58.  Lat. 38...</td>\n",
       "      <td>Achaia</td>\n",
       "      <td>Olenos</td>\n",
       "      <td>[Paus. 7.18.1, Strabo  8.7.4, Rizakis  ( 1995)...</td>\n",
       "    </tr>\n",
       "    <tr>\n",
       "      <th>6</th>\n",
       "      <td>Identifier: 244. , (Pharaieus) Map  58.  Lat. ...</td>\n",
       "      <td>Achaia</td>\n",
       "      <td>Pharai</td>\n",
       "      <td>[Paus. 7.22.1, Rizakis ( 1995), Polyb. 2.41.8,...</td>\n",
       "    </tr>\n",
       "    <tr>\n",
       "      <th>7</th>\n",
       "      <td>Identifier: hall, (Tritaieus) Map  58.Lat.37.5...</td>\n",
       "      <td>Achaia</td>\n",
       "      <td>Tritaia</td>\n",
       "      <td>[Paus. 7.22.6, Rizakis  ( 1995), Polyb. 2.41.8...</td>\n",
       "    </tr>\n",
       "    <tr>\n",
       "      <th>8</th>\n",
       "      <td>Identifier: 801. , (Adramytenos) Map  56.  Lat...</td>\n",
       "      <td>Aiolis and South-western Mysia</td>\n",
       "      <td>Adramyttion</td>\n",
       "      <td>[Hdt. 7.42.1, Xen.  An. 7.8, Thuc. 5.1.1, Foss...</td>\n",
       "    </tr>\n",
       "    <tr>\n",
       "      <th>9</th>\n",
       "      <td>Identifier: 802. , (Aigaieus) Map  56.  Lat. 3...</td>\n",
       "      <td>Aiolis and South-western Mysia</td>\n",
       "      <td>Aigai(ai)</td>\n",
       "      <td>[Hdt. 1.149.1, Strabo 13.3.5, Xen.  Hell. 4.8,...</td>\n",
       "    </tr>\n",
       "  </tbody>\n",
       "</table>\n",
       "</div>"
      ],
      "text/plain": [
       "                                        Beschreibung  \\\n",
       "0  Identifier: 233. , (Ascheieus) Unlocated.  Typ...   \n",
       "1  Identifier: 235. , (Bourios) Map  58.  Lat. 38...   \n",
       "2  Identifier: 236. , (Helikeus) Map  58.  Lat. 3...   \n",
       "3  Identifier: 237. , (Keryneus) Map  58.  Lat. 3...   \n",
       "4  Identifier: 238. , (Leontesios) Map  58.Lat.38...   \n",
       "5  Identifier: 241. , (Olenios) Map  58.  Lat. 38...   \n",
       "6  Identifier: 244. , (Pharaieus) Map  58.  Lat. ...   \n",
       "7  Identifier: hall, (Tritaieus) Map  58.Lat.37.5...   \n",
       "8  Identifier: 801. , (Adramytenos) Map  56.  Lat...   \n",
       "9  Identifier: 802. , (Aigaieus) Map  56.  Lat. 3...   \n",
       "\n",
       "                           region         city  \\\n",
       "0                          Achaia     Ascheion   \n",
       "1                          Achaia        Boura   \n",
       "2                          Achaia       Helike   \n",
       "3                          Achaia     Keryneia   \n",
       "4                          Achaia     Leontion   \n",
       "5                          Achaia       Olenos   \n",
       "6                          Achaia       Pharai   \n",
       "7                          Achaia      Tritaia   \n",
       "8  Aiolis and South-western Mysia  Adramyttion   \n",
       "9  Aiolis and South-western Mysia    Aigai(ai)   \n",
       "\n",
       "                                             Quellen  \n",
       "0                                               None  \n",
       "1  [Paus. 7.25.8, Strabo  8.7.5, Hall  ( 1996), R...  \n",
       "2  [Paus. 7.24.5, Strabo  8.7.2, Hall ( 1996), Di...  \n",
       "3  [Paus. 7.25.5, Rizakis  ( 1995), Paus. 7.25.5,...  \n",
       "4  [Lauffer  ( 1989), Polyb. 2.41.7, Strabo  8.7....  \n",
       "5  [Paus. 7.18.1, Strabo  8.7.4, Rizakis  ( 1995)...  \n",
       "6  [Paus. 7.22.1, Rizakis ( 1995), Polyb. 2.41.8,...  \n",
       "7  [Paus. 7.22.6, Rizakis  ( 1995), Polyb. 2.41.8...  \n",
       "8  [Hdt. 7.42.1, Xen.  An. 7.8, Thuc. 5.1.1, Foss...  \n",
       "9  [Hdt. 1.149.1, Strabo 13.3.5, Xen.  Hell. 4.8,...  "
      ]
     },
     "execution_count": 40,
     "metadata": {},
     "output_type": "execute_result"
    }
   ],
   "source": [
    "dfPoleisGesamt.head(10)"
   ]
  },
  {
   "cell_type": "markdown",
   "metadata": {},
   "source": [
    "# Datenvalidierung"
   ]
  },
  {
   "cell_type": "markdown",
   "metadata": {},
   "source": [
    "## Bewertung des Modells mit Performanz- (Konfusions-)matrix"
   ]
  },
  {
   "cell_type": "markdown",
   "metadata": {},
   "source": [
    "Volle beschreibung für eine Stadt. Quellen per Hand markiert."
   ]
  },
  {
   "cell_type": "code",
   "execution_count": 41,
   "metadata": {
    "collapsed": false
   },
   "outputs": [],
   "source": [
    "#dfPoleisGesamt['Beschreibung'].iloc[2]"
   ]
  },
  {
   "cell_type": "markdown",
   "metadata": {},
   "source": [
    "\"Identifier: 236. , (Helikeus) Map  58.  Lat. 38.15,long.  22.10.  Size of  territory: 1  or 2.  Type:  A.  **Paus. 7.24.5**  locates  Helike  40 stades  from  Aigion  (no. 231),  while  **Strabo  8.7.2**  (following Herakleides)  places  it  12  stades  from  the  sea.  This  should  put it  between  the  rivers  Selinous  and  Kerynitis  (**Morgan  and Hall ( 1996)  175;  Barr.)**.  The  city,  which  was  overwhelmed  by a  tidal  wave  occasioned  by  an  earthquake  in  373  (**Diod. 15.48.1\\xad49.4;  Polyb. 2.41.7;Strabo 8.7.2;  Paus. 7.24.6;Ael.  NA 11.19**),  was  normally  supposed  to  lie  under  water  (cf.  **Ov. Met. 15.293\\xad95**),  but  sonar  investigation  suggests  that  it  may actually  lie  inland  under  massive  sedimentary  deposits  in the  vicinity  of  Nea  Keryneia  (**Petropoulos  ( 1983);  cf.  Ptol. Geog. 3.14.36**,  who  lists  Helike  among  the  inland  cities  of Achaia).  However,  **Rizakis  ( 1995)  203\\xad4**  finds all candidates for  ancient  Helike  unconvincing.  The  toponym  is  usually **`,  (Hom.  Il. 2.575;  SEG 36  718  (C 5e);  Hdt. 1.145)  or `  (Syll. ³90.12)**,  though  **Theophr.  Phys.  Op. 12.122**  cites a  verse  which  gives  the  toponym  as  `.  The  city- ethnic  is  `  **(Diod. 15.49.3)**. Helike  is  called  a  polis  in  the  urban  sense  in  **Heraclid. Pont.  fr. 46a  (r 373)**  and  **Theophr.  Phys.  op. 12.122  (r 373)**,but  is absent  from  Ps.-Skylax's  list  of  Achaian  poleis  ( 42),  which may  suggest  that  this  chapter  was  composed  after  373. Retrospective  evidence  is  provided  by  **Polyb. 2.41.7  (rC 4)**, who  calls  it  a  polis  in  the  political  sense,  and  by  **Diod. 15.48.3 (r 373)**,  who  describes  it  as  a  polis  in  the  urban  sense.  The internal  collective  use  of  the  city-ethnic  is  probably  found (abbreviated)  on  C 4  coins  (infra),  and  the  external  collective use  is  found  in  **Diod. 15.49.3**  (r  ante 373).  A  citizen  of  Helike served  as  Delphic  theorodokos  in  C 5l  **(Syll. ³90.12)**.According to **Polyb. 2.41.6\\xad7**  (rC 4),  Helike  had  been  a  member  of  the Achaian  Confederacy. The  early  physical  existence  of  Helike  is  attested  in  **Hom. Il. 2.575**  and  in  a  C 5e  inscription  (**SEG 36  718**;  see  also  **Soter and  Katsonopoulou  ( 1999)**).  Archaeological  investigations have  revealed  the  foundations  of  two  small  temples,  one Archaic,  the  other  Classical,  at  Nea  Keryneia,  which  may possibly  be  associated  with  the  acropolis  of  ancient  **Helike (Petropoulos  ( 1990)**).  The  most  important  sanctuary  at Helike  was,  however,  that  of  Poseidon  Helikonios  **(Hom.  Il. 8.203;Diod.  15.49.2\\xad3;Strabo  8.7.2;  Paus. 7.24.5\\xad6)**,  and  it  is quite  likely  that  this  sanctuary  acted  as  a  common  place  of union  for  the  Achaians  prior  to  the  destruction  of Helike,  when  that  function  was  assumed  by  the  sanctuary of  Zeus  Homarios  near  Aigion  **(Morgan  and  Hall  ( 1996) 195\\xad96,  contra  Aymard  ( 1938)  286\\xad87,  293;  Walbank ( 2000))**. According  to  **Strabo  6.1.13**,  Is  of  Helike  was  the  founder  of Sybaris  (no. 70)  in  South  Italy.  The  reading  (  '  &lt;...  &gt; ) is,  however,  unsure,  and **Bérard  ( 1957)**  141  n. 2  proposed  either  &lt; &gt;  or &lt; &gt;. A  series  of  bronze  coins,  dating  to  C 4f,  depicts  obv.  head of  Poseidon.  Legend: (retr.).  Rev.  trident  between dolphins  in  wreath  **(Head,  HN ²414)**. 236. \""
   ]
  },
  {
   "cell_type": "markdown",
   "metadata": {},
   "source": [
    "Gefundene Quellen"
   ]
  },
  {
   "cell_type": "code",
   "execution_count": 42,
   "metadata": {
    "collapsed": false
   },
   "outputs": [
    {
     "data": {
      "text/plain": [
       "['Paus. 7.24.5',\n",
       " 'Strabo  8.7.2',\n",
       " 'Hall ( 1996)',\n",
       " 'Diod. 15.48.1',\n",
       " 'Polyb. 2.41.7',\n",
       " 'Strabo 8.7.2',\n",
       " 'Paus. 7.24.6',\n",
       " 'Ov. Met. 15.293',\n",
       " 'Petropoulos  ( 1983)',\n",
       " 'Ptol. Geog. 3.14',\n",
       " 'Rizakis  ( 1995)',\n",
       " 'Hom.  Il. 2.575',\n",
       " 'Syll. ³90.12',\n",
       " 'Theophr.  Phys.  Op. 12.122',\n",
       " 'Diod. 15.49.3',\n",
       " 'Polyb. 2.41.7',\n",
       " 'Diod. 15.48.3',\n",
       " 'Diod. 15.49.3',\n",
       " 'Syll. ³90.12',\n",
       " 'Polyb. 2.41.6',\n",
       " 'Hom. Il. 2.575',\n",
       " 'Katsonopoulou  ( 1999)',\n",
       " 'Petropoulos  ( 1990)',\n",
       " 'Hom.  Il. 8.203',\n",
       " 'Strabo  8.7.2',\n",
       " 'Paus. 7.24.5',\n",
       " 'Hall  ( 1996)',\n",
       " 'Aymard  ( 1938)',\n",
       " 'Walbank ( 2000)',\n",
       " 'Strabo  6.1.13']"
      ]
     },
     "execution_count": 42,
     "metadata": {},
     "output_type": "execute_result"
    }
   ],
   "source": [
    "dfPoleisGesamt['Quellen'].iloc[2]"
   ]
  },
  {
   "cell_type": "markdown",
   "metadata": {},
   "source": [
    "Diskussion der Performanzmatrix: vier Fälle\n",
    "- soll match vs. tatsächlicher match\n",
    "- nicht soll match vs. tatsächlich\n",
    "- soll match vs. nicht tatsächlich\n",
    "- nicht soll vs. nicht tatsächlich"
   ]
  },
  {
   "cell_type": "markdown",
   "metadata": {},
   "source": [
    "While 29 citations are found, 10 are neglected. \n",
    "Structures not yet captured are\n",
    "- citations with several capital letters (e.g. SEG 36  718)\n",
    "- citations with sepcial characters (e.g. Syll. ³90.12)"
   ]
  },
  {
   "cell_type": "markdown",
   "metadata": {},
   "source": [
    "2 Structures wrongly captured are\n",
    "- citations with several authors are captured under one name only"
   ]
  },
  {
   "cell_type": "markdown",
   "metadata": {},
   "source": [
    "To extend the search string, we used"
   ]
  },
  {
   "cell_type": "code",
   "execution_count": 43,
   "metadata": {
    "collapsed": false
   },
   "outputs": [
    {
     "data": {
      "text/plain": [
       "['SEG 36  718', 'Syll. ³90.12', 'Syll. ³90.12', 'SEG 36  718', 'HN ²414']"
      ]
     },
     "execution_count": 43,
     "metadata": {},
     "output_type": "execute_result"
    }
   ],
   "source": [
    "re.findall('([A-Za-z]{1,10}.?\\s+[¹²³]\\d+\\.\\d+|[A-Za-z]{1,10}.?\\s+[¹²³]\\d+|[A-Za-z]{1,10}.?\\s+\\d+\\s+\\d+)',dfPoleisGesamt['Beschreibung'].iloc[2])"
   ]
  },
  {
   "cell_type": "markdown",
   "metadata": {},
   "source": [
    "## Wertverteilungen, Test auf Dopplungen"
   ]
  },
  {
   "cell_type": "markdown",
   "metadata": {},
   "source": [
    "Lese Werte der Spalte Quellen als Liste aus und reduziere Unterlisten auf eine Gesamtliste. "
   ]
  },
  {
   "cell_type": "code",
   "execution_count": 44,
   "metadata": {
    "collapsed": false
   },
   "outputs": [],
   "source": [
    "mainList = dfPoleisGesamt['Quellen'].values.tolist()\n",
    "\n",
    "quellenListe = []\n",
    "for sublist in mainList:\n",
    "    if sublist:\n",
    "        for k in sublist:\n",
    "            quellenListe.append(k)"
   ]
  },
  {
   "cell_type": "code",
   "execution_count": 45,
   "metadata": {
    "collapsed": false
   },
   "outputs": [
    {
     "data": {
      "text/plain": [
       "['Paus. 7.25.8',\n",
       " 'Strabo  8.7.5',\n",
       " 'Hall  ( 1996)',\n",
       " 'Rizakis ( 1995)',\n",
       " 'Polyb. 2.41.13',\n",
       " 'Tzetz.  Chil. 37.179',\n",
       " 'Paus. 7.25.8',\n",
       " 'Polyb. 2.41.7',\n",
       " 'Diod. 15.48.3',\n",
       " 'Paus. 7.25.8']"
      ]
     },
     "execution_count": 45,
     "metadata": {},
     "output_type": "execute_result"
    }
   ],
   "source": [
    "quellenListe[:10]"
   ]
  },
  {
   "cell_type": "markdown",
   "metadata": {},
   "source": [
    "Zähle die Häufigkeit der verschiedenen Quellen und speichere als Dictionary."
   ]
  },
  {
   "cell_type": "code",
   "execution_count": 46,
   "metadata": {
    "collapsed": false
   },
   "outputs": [
    {
     "data": {
      "text/plain": [
       "2"
      ]
     },
     "execution_count": 46,
     "metadata": {},
     "output_type": "execute_result"
    }
   ],
   "source": [
    "quellenVerteilung = {x:quellenListe.count(x) for x in quellenListe}\n",
    "quellenVerteilung['Diod. 14.90.3']"
   ]
  },
  {
   "cell_type": "markdown",
   "metadata": {},
   "source": [
    "Erzeuge DataFrame, mit neuem Index und Namen der Spalten. Sortiere diesen Nach der Häufigkeit der Quelle."
   ]
  },
  {
   "cell_type": "code",
   "execution_count": 47,
   "metadata": {
    "collapsed": false
   },
   "outputs": [
    {
     "data": {
      "text/html": [
       "<div>\n",
       "<table border=\"1\" class=\"dataframe\">\n",
       "  <thead>\n",
       "    <tr style=\"text-align: right;\">\n",
       "      <th></th>\n",
       "      <th>0</th>\n",
       "    </tr>\n",
       "  </thead>\n",
       "  <tbody>\n",
       "    <tr>\n",
       "      <th>Abmeier  ( 1990)</th>\n",
       "      <td>1</td>\n",
       "    </tr>\n",
       "    <tr>\n",
       "      <th>Accame  ( 1941)</th>\n",
       "      <td>1</td>\n",
       "    </tr>\n",
       "    <tr>\n",
       "      <th>Achaians.  Solin. 2.10</th>\n",
       "      <td>1</td>\n",
       "    </tr>\n",
       "    <tr>\n",
       "      <th>Adamesteanu  ( 1970)</th>\n",
       "      <td>3</td>\n",
       "    </tr>\n",
       "    <tr>\n",
       "      <th>Adamesteanu  ( 1973)</th>\n",
       "      <td>1</td>\n",
       "    </tr>\n",
       "    <tr>\n",
       "      <th>Adamesteanu  ( 1974)</th>\n",
       "      <td>4</td>\n",
       "    </tr>\n",
       "    <tr>\n",
       "      <th>Adamesteanu  ( 1976)</th>\n",
       "      <td>1</td>\n",
       "    </tr>\n",
       "    <tr>\n",
       "      <th>Adamesteanu  ( 1979)</th>\n",
       "      <td>1</td>\n",
       "    </tr>\n",
       "    <tr>\n",
       "      <th>Adamesteanu  ( 1982)</th>\n",
       "      <td>1</td>\n",
       "    </tr>\n",
       "    <tr>\n",
       "      <th>Adamesteanu  ( 1986)</th>\n",
       "      <td>1</td>\n",
       "    </tr>\n",
       "    <tr>\n",
       "      <th>Adamesteanu ( 1979)</th>\n",
       "      <td>1</td>\n",
       "    </tr>\n",
       "    <tr>\n",
       "      <th>Adiego ( 1993)</th>\n",
       "      <td>1</td>\n",
       "    </tr>\n",
       "    <tr>\n",
       "      <th>Adler  ( 1919)</th>\n",
       "      <td>1</td>\n",
       "    </tr>\n",
       "    <tr>\n",
       "      <th>Ael.  Arist. 172.7</th>\n",
       "      <td>2</td>\n",
       "    </tr>\n",
       "    <tr>\n",
       "      <th>Aen.  Tact. 10.22</th>\n",
       "      <td>1</td>\n",
       "    </tr>\n",
       "    <tr>\n",
       "      <th>Aen.  Tact. 11.15</th>\n",
       "      <td>1</td>\n",
       "    </tr>\n",
       "    <tr>\n",
       "      <th>Aen.  Tact. 11.3</th>\n",
       "      <td>1</td>\n",
       "    </tr>\n",
       "    <tr>\n",
       "      <th>Aen.  Tact. 11.6</th>\n",
       "      <td>1</td>\n",
       "    </tr>\n",
       "    <tr>\n",
       "      <th>Aen.  Tact. 12.3</th>\n",
       "      <td>5</td>\n",
       "    </tr>\n",
       "    <tr>\n",
       "      <th>Aen.  Tact. 17.5</th>\n",
       "      <td>2</td>\n",
       "    </tr>\n",
       "    <tr>\n",
       "      <th>Aen.  Tact. 18.13</th>\n",
       "      <td>2</td>\n",
       "    </tr>\n",
       "    <tr>\n",
       "      <th>Aen.  Tact. 18.16</th>\n",
       "      <td>1</td>\n",
       "    </tr>\n",
       "    <tr>\n",
       "      <th>Aen.  Tact. 2.2</th>\n",
       "      <td>2</td>\n",
       "    </tr>\n",
       "    <tr>\n",
       "      <th>Aen.  Tact. 20.4</th>\n",
       "      <td>4</td>\n",
       "    </tr>\n",
       "    <tr>\n",
       "      <th>Aen.  Tact. 20.5</th>\n",
       "      <td>1</td>\n",
       "    </tr>\n",
       "    <tr>\n",
       "      <th>Aen.  Tact. 22.20</th>\n",
       "      <td>1</td>\n",
       "    </tr>\n",
       "    <tr>\n",
       "      <th>Aen.  Tact. 24.12</th>\n",
       "      <td>1</td>\n",
       "    </tr>\n",
       "    <tr>\n",
       "      <th>Aen.  Tact. 24.4</th>\n",
       "      <td>1</td>\n",
       "    </tr>\n",
       "    <tr>\n",
       "      <th>Aen.  Tact. 24.8</th>\n",
       "      <td>1</td>\n",
       "    </tr>\n",
       "    <tr>\n",
       "      <th>Aen.  Tact. 28.5</th>\n",
       "      <td>5</td>\n",
       "    </tr>\n",
       "    <tr>\n",
       "      <th>...</th>\n",
       "      <td>...</td>\n",
       "    </tr>\n",
       "    <tr>\n",
       "      <th>Yalouris  ( 1986)</th>\n",
       "      <td>1</td>\n",
       "    </tr>\n",
       "    <tr>\n",
       "      <th>Yalouris  ( 1994)</th>\n",
       "      <td>2</td>\n",
       "    </tr>\n",
       "    <tr>\n",
       "      <th>Yalouris ( 1973)</th>\n",
       "      <td>1</td>\n",
       "    </tr>\n",
       "    <tr>\n",
       "      <th>Yannikouri  ( 1999)</th>\n",
       "      <td>1</td>\n",
       "    </tr>\n",
       "    <tr>\n",
       "      <th>Yarkin  ( 1975)</th>\n",
       "      <td>2</td>\n",
       "    </tr>\n",
       "    <tr>\n",
       "      <th>Yarkin  ( 1977)</th>\n",
       "      <td>1</td>\n",
       "    </tr>\n",
       "    <tr>\n",
       "      <th>Yarkin  ( 1978)</th>\n",
       "      <td>1</td>\n",
       "    </tr>\n",
       "    <tr>\n",
       "      <th>Yon ( 1993)</th>\n",
       "      <td>1</td>\n",
       "    </tr>\n",
       "    <tr>\n",
       "      <th>Yorke  ( 1896)</th>\n",
       "      <td>1</td>\n",
       "    </tr>\n",
       "    <tr>\n",
       "      <th>Yorke ( 1896)</th>\n",
       "      <td>1</td>\n",
       "    </tr>\n",
       "    <tr>\n",
       "      <th>Young ( 1949)</th>\n",
       "      <td>1</td>\n",
       "    </tr>\n",
       "    <tr>\n",
       "      <th>Zaginajlo  ( 1974)</th>\n",
       "      <td>3</td>\n",
       "    </tr>\n",
       "    <tr>\n",
       "      <th>Zahle  ( 1972)</th>\n",
       "      <td>1</td>\n",
       "    </tr>\n",
       "    <tr>\n",
       "      <th>Zahou  ( 1986)</th>\n",
       "      <td>1</td>\n",
       "    </tr>\n",
       "    <tr>\n",
       "      <th>Zahrnt  ( 1971)</th>\n",
       "      <td>21</td>\n",
       "    </tr>\n",
       "    <tr>\n",
       "      <th>Zahrnt  ( 1993)</th>\n",
       "      <td>2</td>\n",
       "    </tr>\n",
       "    <tr>\n",
       "      <th>Zahrnt ( 1971)</th>\n",
       "      <td>6</td>\n",
       "    </tr>\n",
       "    <tr>\n",
       "      <th>Zambon  ( 2000)</th>\n",
       "      <td>1</td>\n",
       "    </tr>\n",
       "    <tr>\n",
       "      <th>Zapheiropoulou  ( 1987)</th>\n",
       "      <td>1</td>\n",
       "    </tr>\n",
       "    <tr>\n",
       "      <th>Zapheiropoulou  ( 1989)</th>\n",
       "      <td>1</td>\n",
       "    </tr>\n",
       "    <tr>\n",
       "      <th>Zavvou  ( 1999)</th>\n",
       "      <td>1</td>\n",
       "    </tr>\n",
       "    <tr>\n",
       "      <th>Zervoudaki  ( 1988)</th>\n",
       "      <td>1</td>\n",
       "    </tr>\n",
       "    <tr>\n",
       "      <th>Zheku  ( 1972)</th>\n",
       "      <td>2</td>\n",
       "    </tr>\n",
       "    <tr>\n",
       "      <th>Ziegler  ( 1934)</th>\n",
       "      <td>3</td>\n",
       "    </tr>\n",
       "    <tr>\n",
       "      <th>Ziegler  ( 1943)</th>\n",
       "      <td>1</td>\n",
       "    </tr>\n",
       "    <tr>\n",
       "      <th>Ziegler ( 1943)</th>\n",
       "      <td>1</td>\n",
       "    </tr>\n",
       "    <tr>\n",
       "      <th>Ziehen  ( 1929)</th>\n",
       "      <td>1</td>\n",
       "    </tr>\n",
       "    <tr>\n",
       "      <th>Zimmermann  ( 1981)</th>\n",
       "      <td>1</td>\n",
       "    </tr>\n",
       "    <tr>\n",
       "      <th>Zschietzschmann  ( 1931)</th>\n",
       "      <td>2</td>\n",
       "    </tr>\n",
       "    <tr>\n",
       "      <th>Zuntz  ( 1971)</th>\n",
       "      <td>1</td>\n",
       "    </tr>\n",
       "  </tbody>\n",
       "</table>\n",
       "<p>8056 rows × 1 columns</p>\n",
       "</div>"
      ],
      "text/plain": [
       "                           0\n",
       "Abmeier  ( 1990)           1\n",
       "Accame  ( 1941)            1\n",
       "Achaians.  Solin. 2.10     1\n",
       "Adamesteanu  ( 1970)       3\n",
       "Adamesteanu  ( 1973)       1\n",
       "Adamesteanu  ( 1974)       4\n",
       "Adamesteanu  ( 1976)       1\n",
       "Adamesteanu  ( 1979)       1\n",
       "Adamesteanu  ( 1982)       1\n",
       "Adamesteanu  ( 1986)       1\n",
       "Adamesteanu ( 1979)        1\n",
       "Adiego ( 1993)             1\n",
       "Adler  ( 1919)             1\n",
       "Ael.  Arist. 172.7         2\n",
       "Aen.  Tact. 10.22          1\n",
       "Aen.  Tact. 11.15          1\n",
       "Aen.  Tact. 11.3           1\n",
       "Aen.  Tact. 11.6           1\n",
       "Aen.  Tact. 12.3           5\n",
       "Aen.  Tact. 17.5           2\n",
       "Aen.  Tact. 18.13          2\n",
       "Aen.  Tact. 18.16          1\n",
       "Aen.  Tact. 2.2            2\n",
       "Aen.  Tact. 20.4           4\n",
       "Aen.  Tact. 20.5           1\n",
       "Aen.  Tact. 22.20          1\n",
       "Aen.  Tact. 24.12          1\n",
       "Aen.  Tact. 24.4           1\n",
       "Aen.  Tact. 24.8           1\n",
       "Aen.  Tact. 28.5           5\n",
       "...                       ..\n",
       "Yalouris  ( 1986)          1\n",
       "Yalouris  ( 1994)          2\n",
       "Yalouris ( 1973)           1\n",
       "Yannikouri  ( 1999)        1\n",
       "Yarkin  ( 1975)            2\n",
       "Yarkin  ( 1977)            1\n",
       "Yarkin  ( 1978)            1\n",
       "Yon ( 1993)                1\n",
       "Yorke  ( 1896)             1\n",
       "Yorke ( 1896)              1\n",
       "Young ( 1949)              1\n",
       "Zaginajlo  ( 1974)         3\n",
       "Zahle  ( 1972)             1\n",
       "Zahou  ( 1986)             1\n",
       "Zahrnt  ( 1971)           21\n",
       "Zahrnt  ( 1993)            2\n",
       "Zahrnt ( 1971)             6\n",
       "Zambon  ( 2000)            1\n",
       "Zapheiropoulou  ( 1987)    1\n",
       "Zapheiropoulou  ( 1989)    1\n",
       "Zavvou  ( 1999)            1\n",
       "Zervoudaki  ( 1988)        1\n",
       "Zheku  ( 1972)             2\n",
       "Ziegler  ( 1934)           3\n",
       "Ziegler  ( 1943)           1\n",
       "Ziegler ( 1943)            1\n",
       "Ziehen  ( 1929)            1\n",
       "Zimmermann  ( 1981)        1\n",
       "Zschietzschmann  ( 1931)   2\n",
       "Zuntz  ( 1971)             1\n",
       "\n",
       "[8056 rows x 1 columns]"
      ]
     },
     "execution_count": 47,
     "metadata": {},
     "output_type": "execute_result"
    }
   ],
   "source": [
    "dfQuellenVerteilung = pd.DataFrame([quellenVerteilung]).T\n",
    "dfQuellenVerteilung"
   ]
  },
  {
   "cell_type": "code",
   "execution_count": 48,
   "metadata": {
    "collapsed": false
   },
   "outputs": [
    {
     "data": {
      "text/html": [
       "<div>\n",
       "<table border=\"1\" class=\"dataframe\">\n",
       "  <thead>\n",
       "    <tr style=\"text-align: right;\">\n",
       "      <th></th>\n",
       "      <th>index</th>\n",
       "      <th>0</th>\n",
       "    </tr>\n",
       "  </thead>\n",
       "  <tbody>\n",
       "    <tr>\n",
       "      <th>0</th>\n",
       "      <td>Abmeier  ( 1990)</td>\n",
       "      <td>1</td>\n",
       "    </tr>\n",
       "    <tr>\n",
       "      <th>1</th>\n",
       "      <td>Accame  ( 1941)</td>\n",
       "      <td>1</td>\n",
       "    </tr>\n",
       "    <tr>\n",
       "      <th>2</th>\n",
       "      <td>Achaians.  Solin. 2.10</td>\n",
       "      <td>1</td>\n",
       "    </tr>\n",
       "    <tr>\n",
       "      <th>3</th>\n",
       "      <td>Adamesteanu  ( 1970)</td>\n",
       "      <td>3</td>\n",
       "    </tr>\n",
       "    <tr>\n",
       "      <th>4</th>\n",
       "      <td>Adamesteanu  ( 1973)</td>\n",
       "      <td>1</td>\n",
       "    </tr>\n",
       "  </tbody>\n",
       "</table>\n",
       "</div>"
      ],
      "text/plain": [
       "                    index  0\n",
       "0        Abmeier  ( 1990)  1\n",
       "1         Accame  ( 1941)  1\n",
       "2  Achaians.  Solin. 2.10  1\n",
       "3    Adamesteanu  ( 1970)  3\n",
       "4    Adamesteanu  ( 1973)  1"
      ]
     },
     "execution_count": 48,
     "metadata": {},
     "output_type": "execute_result"
    }
   ],
   "source": [
    "dfQuellenVerteilung = dfQuellenVerteilung.reset_index()\n",
    "dfQuellenVerteilung.head()"
   ]
  },
  {
   "cell_type": "code",
   "execution_count": 49,
   "metadata": {
    "collapsed": false
   },
   "outputs": [
    {
     "data": {
      "text/html": [
       "<div>\n",
       "<table border=\"1\" class=\"dataframe\">\n",
       "  <thead>\n",
       "    <tr style=\"text-align: right;\">\n",
       "      <th></th>\n",
       "      <th>Quelle</th>\n",
       "      <th>Häufigkeit</th>\n",
       "    </tr>\n",
       "  </thead>\n",
       "  <tbody>\n",
       "    <tr>\n",
       "      <th>0</th>\n",
       "      <td>Abmeier  ( 1990)</td>\n",
       "      <td>1</td>\n",
       "    </tr>\n",
       "    <tr>\n",
       "      <th>1</th>\n",
       "      <td>Accame  ( 1941)</td>\n",
       "      <td>1</td>\n",
       "    </tr>\n",
       "    <tr>\n",
       "      <th>2</th>\n",
       "      <td>Achaians.  Solin. 2.10</td>\n",
       "      <td>1</td>\n",
       "    </tr>\n",
       "    <tr>\n",
       "      <th>3</th>\n",
       "      <td>Adamesteanu  ( 1970)</td>\n",
       "      <td>3</td>\n",
       "    </tr>\n",
       "    <tr>\n",
       "      <th>4</th>\n",
       "      <td>Adamesteanu  ( 1973)</td>\n",
       "      <td>1</td>\n",
       "    </tr>\n",
       "  </tbody>\n",
       "</table>\n",
       "</div>"
      ],
      "text/plain": [
       "                   Quelle  Häufigkeit\n",
       "0        Abmeier  ( 1990)           1\n",
       "1         Accame  ( 1941)           1\n",
       "2  Achaians.  Solin. 2.10           1\n",
       "3    Adamesteanu  ( 1970)           3\n",
       "4    Adamesteanu  ( 1973)           1"
      ]
     },
     "execution_count": 49,
     "metadata": {},
     "output_type": "execute_result"
    }
   ],
   "source": [
    "dfQuellenVerteilung = dfQuellenVerteilung.rename(columns={'index': 'Quelle', 0:'Häufigkeit'})\n",
    "dfQuellenVerteilung.head()"
   ]
  },
  {
   "cell_type": "code",
   "execution_count": 50,
   "metadata": {
    "collapsed": false
   },
   "outputs": [
    {
     "data": {
      "text/html": [
       "<div>\n",
       "<table border=\"1\" class=\"dataframe\">\n",
       "  <thead>\n",
       "    <tr style=\"text-align: right;\">\n",
       "      <th></th>\n",
       "      <th>Quelle</th>\n",
       "      <th>Häufigkeit</th>\n",
       "    </tr>\n",
       "  </thead>\n",
       "  <tbody>\n",
       "    <tr>\n",
       "      <th>3169</th>\n",
       "      <td>Jost  ( 1985)</td>\n",
       "      <td>71</td>\n",
       "    </tr>\n",
       "    <tr>\n",
       "      <th>7951</th>\n",
       "      <td>Xen.  Hell. 3.2</td>\n",
       "      <td>63</td>\n",
       "    </tr>\n",
       "    <tr>\n",
       "      <th>7950</th>\n",
       "      <td>Xen.  Hell. 3.1</td>\n",
       "      <td>59</td>\n",
       "    </tr>\n",
       "    <tr>\n",
       "      <th>3102</th>\n",
       "      <td>Isaac  ( 1986)</td>\n",
       "      <td>57</td>\n",
       "    </tr>\n",
       "    <tr>\n",
       "      <th>6700</th>\n",
       "      <td>Svoronos  ( 1890)</td>\n",
       "      <td>55</td>\n",
       "    </tr>\n",
       "    <tr>\n",
       "      <th>5266</th>\n",
       "      <td>Rider  ( 1966)</td>\n",
       "      <td>55</td>\n",
       "    </tr>\n",
       "    <tr>\n",
       "      <th>1870</th>\n",
       "      <td>Fossey  ( 1988)</td>\n",
       "      <td>52</td>\n",
       "    </tr>\n",
       "    <tr>\n",
       "      <th>7969</th>\n",
       "      <td>Xen.  Hell. 6.5</td>\n",
       "      <td>51</td>\n",
       "    </tr>\n",
       "    <tr>\n",
       "      <th>7960</th>\n",
       "      <td>Xen.  Hell. 4.8</td>\n",
       "      <td>48</td>\n",
       "    </tr>\n",
       "    <tr>\n",
       "      <th>7964</th>\n",
       "      <td>Xen.  Hell. 5.4</td>\n",
       "      <td>47</td>\n",
       "    </tr>\n",
       "  </tbody>\n",
       "</table>\n",
       "</div>"
      ],
      "text/plain": [
       "                 Quelle  Häufigkeit\n",
       "3169      Jost  ( 1985)          71\n",
       "7951    Xen.  Hell. 3.2          63\n",
       "7950    Xen.  Hell. 3.1          59\n",
       "3102     Isaac  ( 1986)          57\n",
       "6700  Svoronos  ( 1890)          55\n",
       "5266     Rider  ( 1966)          55\n",
       "1870    Fossey  ( 1988)          52\n",
       "7969    Xen.  Hell. 6.5          51\n",
       "7960    Xen.  Hell. 4.8          48\n",
       "7964    Xen.  Hell. 5.4          47"
      ]
     },
     "execution_count": 50,
     "metadata": {},
     "output_type": "execute_result"
    }
   ],
   "source": [
    "dfQuellenVerteilung.sort_values(by='Häufigkeit',ascending=False).head(10)"
   ]
  }
 ],
 "metadata": {
  "anaconda-cloud": {},
  "kernelspec": {
   "display_name": "Python 3",
   "language": "python",
   "name": "python3"
  },
  "language_info": {
   "codemirror_mode": {
    "name": "ipython",
    "version": 3
   },
   "file_extension": ".py",
   "mimetype": "text/x-python",
   "name": "python",
   "nbconvert_exporter": "python",
   "pygments_lexer": "ipython3",
   "version": "3.5.2+"
  },
  "latex_envs": {
   "bibliofile": "biblio.bib",
   "cite_by": "apalike",
   "current_citInitial": 1,
   "eqLabelWithNumbers": true,
   "eqNumInitial": 0
  },
  "nav_menu": {},
  "toc": {
   "navigate_menu": true,
   "number_sections": true,
   "sideBar": true,
   "threshold": 6,
   "toc_cell": false,
   "toc_section_display": "block",
   "toc_window_display": false
  }
 },
 "nbformat": 4,
 "nbformat_minor": 0
}
