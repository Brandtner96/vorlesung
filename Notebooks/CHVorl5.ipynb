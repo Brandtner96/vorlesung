{
 "cells": [
  {
   "cell_type": "markdown",
   "metadata": {
    "button": false,
    "deletable": true,
    "new_sheet": false,
    "run_control": {
     "read_only": false
    }
   },
   "source": [
    "# Vorlesung 5: Strukturen von Texten, Chunking\n",
    "\n",
    "Reguläre Ausdrücke: http://www.regexe.de/hilfe.jsp\n",
    "                    https://pymotw.com/2/re\n",
    "\n",
    "Pandas: http://www.data-analysis-in-python.org/3_pandas.html\n",
    "      : https://bitbucket.org/hrojas/learn-pandas\n",
    "      \n",
    "## Hintergrund     \n",
    "     \n",
    "NLTK: http://www.nltk.org/book/ch05.html\n",
    "    : http://www.nltk.org/book/ch07.html\n",
    "\n",
    "Chunking: https://www.eecis.udel.edu/~trnka/CISC889-11S/lectures/dongqing-chunking.pdf\n"
   ]
  },
  {
   "cell_type": "code",
   "execution_count": 228,
   "metadata": {
    "button": false,
    "collapsed": false,
    "deletable": true,
    "new_sheet": false,
    "run_control": {
     "read_only": false
    }
   },
   "outputs": [],
   "source": [
    "import json\n",
    "import pandas as pd\n",
    "import re\n",
    "import numpy as np\n",
    "import requests"
   ]
  },
  {
   "cell_type": "markdown",
   "metadata": {},
   "source": [
    "## Construct Dataframe from full Poleis data"
   ]
  },
  {
   "cell_type": "code",
   "execution_count": 229,
   "metadata": {
    "collapsed": false
   },
   "outputs": [
    {
     "data": {
      "text/plain": [
       "dict_keys(['Aiolis and South-western Mysia', 'Rhodos', 'Thrace from Strymon to Nestos', 'Crete', 'The Saronic Gulf', 'Inland Thrace', 'Sikelia', 'Arkadia', 'Euboia', 'Lykia', 'Aitolia', 'Italia and Kampania', 'East Lokris', 'Attika', 'Cyprus', 'Karia', 'Achaia', 'Spain and France (including Corsica)', 'The Propontic Coast of Asia Minor', 'Troas', 'The Black Sea Area', 'Lesbos', 'Thrace from Nestos to Hebros', 'Makedonia', 'Ionia', 'Akarnania and Adjacent Areas', 'Doris', 'The Aegean', 'Epeiros', 'Megaris, Korinthia, Sikyonia', 'Messenia', 'Argolis', 'Thessalia and Adjacent Regions', 'Lakedaimon', 'Triphylia', 'Elis', 'Boiotia', 'Thrace from Axios to Strymon', 'Propontic Thrace', 'The South Coast of Asia Minor (Pamphylia Kilikia)', 'West Lokris', 'The Adriatic', 'Phokis', 'Thracian Chersonesos'])"
      ]
     },
     "execution_count": 229,
     "metadata": {},
     "output_type": "execute_result"
    }
   ],
   "source": [
    "PoleisDataOnline2 = requests.get('http://repository.edition-topoi.org/MISC/ReposMISC/MISC00005/secondVersion.json')\n",
    "PoleisRawData2 = PoleisDataOnline2.json()\n",
    "PoleisRawData2.keys()"
   ]
  },
  {
   "cell_type": "code",
   "execution_count": 230,
   "metadata": {
    "collapsed": false
   },
   "outputs": [
    {
     "data": {
      "text/html": [
       "<div>\n",
       "<table border=\"1\" class=\"dataframe\">\n",
       "  <thead>\n",
       "    <tr style=\"text-align: right;\">\n",
       "      <th></th>\n",
       "      <th>Beschreibung</th>\n",
       "      <th>region</th>\n",
       "      <th>city</th>\n",
       "    </tr>\n",
       "  </thead>\n",
       "  <tbody>\n",
       "    <tr>\n",
       "      <th>0</th>\n",
       "      <td>Identifier: 233. , (Ascheieus) Unlocated.  Typ...</td>\n",
       "      <td>Achaia</td>\n",
       "      <td>Ascheion</td>\n",
       "    </tr>\n",
       "    <tr>\n",
       "      <th>1</th>\n",
       "      <td>Identifier: 235. , (Bourios) Map  58.  Lat. 38...</td>\n",
       "      <td>Achaia</td>\n",
       "      <td>Boura</td>\n",
       "    </tr>\n",
       "    <tr>\n",
       "      <th>2</th>\n",
       "      <td>Identifier: 236. , (Helikeus) Map  58.  Lat. 3...</td>\n",
       "      <td>Achaia</td>\n",
       "      <td>Helike</td>\n",
       "    </tr>\n",
       "    <tr>\n",
       "      <th>3</th>\n",
       "      <td>Identifier: 237. , (Keryneus) Map  58.  Lat. 3...</td>\n",
       "      <td>Achaia</td>\n",
       "      <td>Keryneia</td>\n",
       "    </tr>\n",
       "    <tr>\n",
       "      <th>4</th>\n",
       "      <td>Identifier: 238. , (Leontesios) Map  58.Lat.38...</td>\n",
       "      <td>Achaia</td>\n",
       "      <td>Leontion</td>\n",
       "    </tr>\n",
       "  </tbody>\n",
       "</table>\n",
       "</div>"
      ],
      "text/plain": [
       "                                        Beschreibung  region      city\n",
       "0  Identifier: 233. , (Ascheieus) Unlocated.  Typ...  Achaia  Ascheion\n",
       "1  Identifier: 235. , (Bourios) Map  58.  Lat. 38...  Achaia     Boura\n",
       "2  Identifier: 236. , (Helikeus) Map  58.  Lat. 3...  Achaia    Helike\n",
       "3  Identifier: 237. , (Keryneus) Map  58.  Lat. 3...  Achaia  Keryneia\n",
       "4  Identifier: 238. , (Leontesios) Map  58.Lat.38...  Achaia  Leontion"
      ]
     },
     "execution_count": 230,
     "metadata": {},
     "output_type": "execute_result"
    }
   ],
   "source": [
    "# Read Json into a normalized form, yields ~500 columns with region.city keys\n",
    "dfPoleisGesamt = pd.io.json.json_normalize(PoleisRawData2)\n",
    "\n",
    "# rotate and rename dataframe\n",
    "dfPoleisGesamt= dfPoleisGesamt.transpose()\n",
    "dfPoleisGesamt.columns=['Beschreibung']\n",
    "dfPoleisGesamt.head(4)\n",
    "\n",
    "# reset to new index, return old index as column 'index'\n",
    "dfPoleisGesamt= dfPoleisGesamt.reset_index()\n",
    "dfPoleisGesamt.head()\n",
    "\n",
    "# split entries in column 'index' into region and city part\n",
    "dfPoleisGesamt['indexSplit'] = dfPoleisGesamt['index'].str.split('.')\n",
    "\n",
    "# generate new columns out of split index\n",
    "dfPoleisGesamt['region'] = dfPoleisGesamt['indexSplit'].apply(lambda raw: raw[0])\n",
    "dfPoleisGesamt['city'] = dfPoleisGesamt['indexSplit'].apply(lambda raw: raw[1])\n",
    "dfPoleisGesamt.head()\n",
    "\n",
    "# remove columns 'index' and 'indexSplit', since they contain redundant information\n",
    "dfPoleisGesamt = dfPoleisGesamt.drop('index', 1)\n",
    "dfPoleisGesamt = dfPoleisGesamt.drop('indexSplit', 1)\n",
    "dfPoleisGesamt.head()"
   ]
  },
  {
   "cell_type": "markdown",
   "metadata": {},
   "source": [
    "## Textmustersuche zur Beschreibung einer Polis"
   ]
  },
  {
   "cell_type": "markdown",
   "metadata": {},
   "source": [
    "### Geographische Koordinaten"
   ]
  },
  {
   "cell_type": "code",
   "execution_count": 231,
   "metadata": {
    "collapsed": false
   },
   "outputs": [],
   "source": [
    "def ListePattern(string,pattern):\n",
    "    x = re.findall(pattern,string)\n",
    "    if x:\n",
    "        return(x)"
   ]
  },
  {
   "cell_type": "markdown",
   "metadata": {},
   "source": [
    "Example for geographical coordinates:\n",
    "\n",
    "- (?<=Lat\\.\\s)  Group (?...) Passive (non-capturing) group\n",
    "- ?<= Lookbehind assertion\n",
    "- Lat\\.\\s   das string muster: \"Lat. \" mit \".\" und \" \" als escape\n",
    "- \\s?\\d+\\.\\d+ : space[optional wegen ?]digit[1 oder 2 wegen +].[escaped]digit[1 oder 2]\n",
    "\n",
    "Code::\n",
    "\n",
    "    dfPoleisGesamt['Latitude'] = dfPoleisGesamt['Beschreibung'].apply(lambda raw: ListePattern(raw,\"(?<=Lat\\.\\s)\\d+\\.\\d+\"))"
   ]
  },
  {
   "cell_type": "markdown",
   "metadata": {},
   "source": [
    "### Zitatnachweise, Namen, Jahreszahlen"
   ]
  },
  {
   "cell_type": "code",
   "execution_count": 232,
   "metadata": {
    "collapsed": false
   },
   "outputs": [
    {
     "data": {
      "text/plain": [
       "\"Identifier: 236. , (Helikeus) Map  58.  Lat. 38.15,long.  22.10.  Size of  territory: 1  or 2.  Type:  A.  Paus. 7.24.5  locates  Helike  40 stades  from  Aigion  (no. 231),  while  Strabo  8.7.2  (following Herakleides)  places  it  12  stades  from  the  sea.  This  should  put it  between  the  rivers  Selinous  and  Kerynitis  (Morgan  and Hall ( 1996)  175;  Barr.).  The  city,  which  was  overwhelmed  by a  tidal  wave  occasioned  by  an  earthquake  in  373  (Diod. 15.48.1\\xad49.4;  Polyb. 2.41.7;Strabo 8.7.2;  Paus. 7.24.6;Ael.  NA 11.19),  was  normally  supposed  to  lie  under  water  (cf.  Ov. Met. 15.293\\xad95),  but  sonar  investigation  suggests  that  it  may actually  lie  inland  under  massive  sedimentary  deposits  in the  vicinity  of  Nea  Keryneia  (Petropoulos  ( 1983);  cf.  Ptol. Geog. 3.14.36,  who  lists  Helike  among  the  inland  cities  of Achaia).  However,  Rizakis  ( 1995)  203\\xad4  finds all candidates for  ancient  Helike  unconvincing.  The  toponym  is  usually `,  (Hom.  Il. 2.575;  SEG 36  718  (C 5e);  Hdt. 1.145)  or `  (Syll. ³90.12),  though  Theophr.  Phys.  Op. 12.122  cites a  verse  which  gives  the  toponym  as  `.  The  city- ethnic  is  `  (Diod. 15.49.3). Helike  is  called  a  polis  in  the  urban  sense  in  Heraclid. Pont.  fr. 46a  (r 373)  and  Theophr.  Phys.  op. 12.122  (r 373),but  is absent  from  Ps.-Skylax's  list  of  Achaian  poleis  ( 42),  which may  suggest  that  this  chapter  was  composed  after  373. Retrospective  evidence  is  provided  by  Polyb. 2.41.7  (rC 4), who  calls  it  a  polis  in  the  political  sense,  and  by  Diod. 15.48.3 (r 373),  who  describes  it  as  a  polis  in  the  urban  sense.  The internal  collective  use  of  the  city-ethnic  is  probably  found (abbreviated)  on  C 4  coins  (infra),  and  the  external  collective use  is  found  in  Diod. 15.49.3  (r  ante 373).  A  citizen  of  Helike served  as  Delphic  theorodokos  in  C 5l  (Syll. ³90.12).According to Polyb. 2.41.6\\xad7  (rC 4),  Helike  had  been  a  member  of  the Achaian  Confederacy. The  early  physical  existence  of  Helike  is  attested  in  Hom. Il. 2.575  and  in  a  C 5e  inscription  (SEG 36  718;  see  also  Soter and  Katsonopoulou  ( 1999)).  Archaeological  investigations have  revealed  the  foundations  of  two  small  temples,  one Archaic,  the  other  Classical,  at  Nea  Keryneia,  which  may possibly  be  associated  with  the  acropolis  of  ancient  Helike (Petropoulos  ( 1990)).  The  most  important  sanctuary  at Helike  was,  however,  that  of  Poseidon  Helikonios  (Hom.  Il. 8.203;Diod.  15.49.2\\xad3;Strabo  8.7.2;  Paus. 7.24.5\\xad6),  and  it  is quite  likely  that  this  sanctuary  acted  as  a  common  place  of union  for  the  Achaians  prior  to  the  destruction  of Helike,  when  that  function  was  assumed  by  the  sanctuary of  Zeus  Homarios  near  Aigion  (Morgan  and  Hall  ( 1996) 195\\xad96,  contra  Aymard  ( 1938)  286\\xad87,  293;  Walbank ( 2000)). According  to  Strabo  6.1.13,  Is  of  Helike  was  the  founder  of Sybaris  (no. 70)  in  South  Italy.  The  reading  (  '  &lt;...  &gt; `) is,  however,  unsure,  and Bérard  ( 1957)  141  n. 2  proposed  either  &lt; &gt;  or &lt; &gt;. A  series  of  bronze  coins,  dating  to  C 4f,  depicts  obv.  head of  Poseidon.  Legend: (retr.).  Rev.  trident  between dolphins  in  wreath  (Head,  HN ²414). 236. \""
      ]
     },
     "execution_count": 232,
     "metadata": {},
     "output_type": "execute_result"
    }
   ],
   "source": [
    "dfPoleisGesamt[\"Beschreibung\"].iloc[2] # icloc is a method to refer to local index position"
   ]
  },
  {
   "cell_type": "markdown",
   "metadata": {},
   "source": [
    "## Muster (Pattern) zur Erkennung der Literaturreferenzen\n",
    "\n",
    "- Primärquellen\n",
    "\n",
    "(Polyb. 1.18.2)\n",
    "(Diod. 13.85.4  (r 406))\n",
    "(Diod. 13.108.2)\n",
    "(Hdt. 7.165;  IGDS  no. 182a)\n",
    "(Pind.  Pyth. 6)\n",
    "(Thuc. 6.4.4: µµ  )\n",
    "(Xanthos  (FGrHist 765)  fr. 33;  Arist.  fr. 865)\n",
    "\n",
    "- Sekundärquellen\n",
    "\n",
    "(Karlsson  ( 1995)  161\n",
    "(Waele  ( 1971) 195;  Hinz  ( 1998)  79)\n",
    "\n",
    "- Jahreszahlen\n",
    "( dddd)"
   ]
  },
  {
   "cell_type": "markdown",
   "metadata": {},
   "source": [
    "### Mehrere reguläre Ausdrücke nötig, um alle Zitate zu finden"
   ]
  },
  {
   "cell_type": "markdown",
   "metadata": {},
   "source": [
    "Finde alle Ausdrücke wie oben, denen ein Punkt folgt, mit anschließenden Zifferfolgen der Form [Ziffern][Punkt][Ziffern][Punkt][Ziffern]"
   ]
  },
  {
   "cell_type": "code",
   "execution_count": 233,
   "metadata": {
    "collapsed": false
   },
   "outputs": [
    {
     "data": {
      "text/plain": [
       "['Paus. 7.24.5',\n",
       " 'Diod. 15.48.1',\n",
       " 'Polyb. 2.41.7',\n",
       " 'Paus. 7.24.6',\n",
       " 'Geog. 3.14.36',\n",
       " 'Diod. 15.49.3',\n",
       " 'Polyb. 2.41.7',\n",
       " 'Diod. 15.48.3',\n",
       " 'Diod. 15.49.3',\n",
       " 'Polyb. 2.41.6',\n",
       " 'Paus. 7.24.5']"
      ]
     },
     "execution_count": 233,
     "metadata": {},
     "output_type": "execute_result"
    }
   ],
   "source": [
    "dfPoleisGesamt['Beschreibung'].apply(lambda raw: ListePattern(raw,'[A-Z][a-z]{1,10}\\. \\d{1,3}\\.\\d{1,3}\\.\\d{1,3}'))[2]"
   ]
  },
  {
   "cell_type": "markdown",
   "metadata": {},
   "source": [
    "Finde alle Ausdrücke wie oben, wobei statt des Punktes nach den kleinen Buchstaben zwei Leerzeichen und eine runde Klammer und vier Ziffern folgen können"
   ]
  },
  {
   "cell_type": "code",
   "execution_count": 234,
   "metadata": {
    "collapsed": false
   },
   "outputs": [
    {
     "data": {
      "text/plain": [
       "['Hall ( 1996)',\n",
       " 'Petropoulos  ( 1983)',\n",
       " 'Rizakis  ( 1995)',\n",
       " 'Katsonopoulou  ( 1999)',\n",
       " 'Petropoulos  ( 1990)',\n",
       " 'Hall  ( 1996)',\n",
       " 'Aymard  ( 1938)',\n",
       " 'Walbank ( 2000)']"
      ]
     },
     "execution_count": 234,
     "metadata": {},
     "output_type": "execute_result"
    }
   ],
   "source": [
    "dfPoleisGesamt['Beschreibung'].apply(lambda raw: ListePattern(raw,'[A-Z][a-z]{1,15}\\s{0,2}\\(\\s*\\d{4}\\)'))[2]"
   ]
  },
  {
   "cell_type": "markdown",
   "metadata": {},
   "source": [
    "Finde alle Authoren, gefolgt von einem oder mehreren Leerzeichen und ([Ziffer][Punkt][Ziffern][Punkt][Ziffern])"
   ]
  },
  {
   "cell_type": "code",
   "execution_count": 235,
   "metadata": {
    "collapsed": false
   },
   "outputs": [],
   "source": [
    "dfPoleisGesamt['Beschreibung'].apply(lambda raw: ListePattern(raw,'[A-Z][a-z]{1,15}\\s{0,2}\\(\\s*\\d{1,2}\\.\\d{1,2}\\.\\d{1,2}\\)'))[2]"
   ]
  },
  {
   "cell_type": "markdown",
   "metadata": {},
   "source": [
    "Wie oben nur ohne Klammern."
   ]
  },
  {
   "cell_type": "code",
   "execution_count": 236,
   "metadata": {
    "collapsed": false
   },
   "outputs": [
    {
     "data": {
      "text/plain": [
       "['Strabo  8.7.2', 'Strabo 8.7.2', 'Strabo  8.7.2', 'Strabo  6.1.13']"
      ]
     },
     "execution_count": 236,
     "metadata": {},
     "output_type": "execute_result"
    }
   ],
   "source": [
    "dfPoleisGesamt['Beschreibung'].apply(lambda raw: ListePattern(raw,'[A-Z][a-z]{1,15}\\s{0,2}\\s*\\d{1,2}\\.\\d{1,2}\\.\\d{1,2}'))[2]"
   ]
  },
  {
   "cell_type": "code",
   "execution_count": 237,
   "metadata": {
    "collapsed": false
   },
   "outputs": [
    {
     "data": {
      "text/plain": [
       "['Theophr.  Phys.  Op. 12.122', 'Theophr.  Phys.  op. 12.122']"
      ]
     },
     "execution_count": 237,
     "metadata": {},
     "output_type": "execute_result"
    }
   ],
   "source": [
    "dfPoleisGesamt['Beschreibung'].apply(lambda raw: ListePattern(raw,'[A-Z][a-z]{1,15}\\.\\s+[A-Z][a-z]{1,10}\\.\\s+[A-Za-z]{1,10}\\.\\s+\\d{1,3}\\.\\d{1,3}'))[2]"
   ]
  },
  {
   "cell_type": "code",
   "execution_count": 238,
   "metadata": {
    "collapsed": false
   },
   "outputs": [
    {
     "data": {
      "text/plain": [
       "['Ov. Met. 15.293',\n",
       " 'Ptol. Geog. 3.14',\n",
       " 'Hom.  Il. 2.575',\n",
       " 'Phys.  Op. 12.122',\n",
       " 'Hom. Il. 2.575',\n",
       " 'Hom.  Il. 8.203']"
      ]
     },
     "execution_count": 238,
     "metadata": {},
     "output_type": "execute_result"
    }
   ],
   "source": [
    "dfPoleisGesamt['Beschreibung'].apply(lambda raw: ListePattern(raw,'[A-Z][a-z]{1,15}\\.\\s+[A-Z][a-z]{1,10}\\.\\s+\\d{1,3}\\.\\d{1,3}'))[2]"
   ]
  },
  {
   "cell_type": "code",
   "execution_count": 239,
   "metadata": {
    "collapsed": false
   },
   "outputs": [
    {
     "data": {
      "text/plain": [
       "['Paus. 7.24.5',\n",
       " 'Strabo  8.7.2',\n",
       " 'Hall ( 1996)',\n",
       " 'Diod. 15.48.1',\n",
       " 'Polyb. 2.41.7',\n",
       " 'Strabo 8.7.2',\n",
       " 'Paus. 7.24.6',\n",
       " 'Ov. Met. 15.293',\n",
       " 'Petropoulos  ( 1983)',\n",
       " 'Ptol. Geog. 3.14',\n",
       " 'Rizakis  ( 1995)',\n",
       " 'Hom.  Il. 2.575',\n",
       " 'Theophr.  Phys.  Op. 12.122',\n",
       " 'Diod. 15.49.3',\n",
       " 'Theophr.  Phys.  op. 12.122',\n",
       " 'Polyb. 2.41.7',\n",
       " 'Diod. 15.48.3',\n",
       " 'Diod. 15.49.3',\n",
       " 'Polyb. 2.41.6',\n",
       " 'Hom. Il. 2.575',\n",
       " 'Katsonopoulou  ( 1999)',\n",
       " 'Petropoulos  ( 1990)',\n",
       " 'Hom.  Il. 8.203',\n",
       " 'Strabo  8.7.2',\n",
       " 'Paus. 7.24.5',\n",
       " 'Hall  ( 1996)',\n",
       " 'Aymard  ( 1938)',\n",
       " 'Walbank ( 2000)',\n",
       " 'Strabo  6.1.13']"
      ]
     },
     "execution_count": 239,
     "metadata": {},
     "output_type": "execute_result"
    }
   ],
   "source": [
    "# Zusammenfassen von zwei Bedingungen: kompilieren des regulären Ausdrucks beschleunigt den Suchprozess\n",
    "\n",
    "pat = re.compile('([A-Z][a-z]{1,10}\\. \\d{1,3}\\.\\d{1,3}\\.\\d{1,3}|[A-Z][a-z]{1,15}\\s{0,2}\\(\\s*\\d{4}\\)|[A-Z][a-z]{1,15}\\s{0,2}\\(\\s*\\d{1,2}\\.\\d{1,2}\\.\\d{1,2}\\)|[A-Z][a-z]{1,15}\\s{0,2}\\s*\\d{1,2}\\.\\d{1,2}\\.\\d{1,2}|[A-Z][a-z]{1,15}\\.\\s+[A-Z][a-z]{1,10}\\.\\s+[A-Za-z]{1,10}\\.\\s+\\d{1,3}\\.\\d{1,3}|[A-Z][a-z]{1,15}\\.\\s+[A-Z][a-z]{1,10}\\.\\s+\\d{1,3}\\.\\d{1,3})')\n",
    "\n",
    "dfPoleisGesamt['Beschreibung'].apply(lambda raw: ListePattern(raw,pat))[2]"
   ]
  },
  {
   "cell_type": "code",
   "execution_count": 240,
   "metadata": {
    "collapsed": false
   },
   "outputs": [],
   "source": [
    "pat = re.compile('([A-Z][a-z]{1,10}\\. \\d{1,3}\\.\\d{1,3}\\.\\d{1,3}|[A-Z][a-z]{1,15}\\s{0,2}\\(\\s*\\d{4}\\)|[A-Z][a-z]{1,15}\\s{0,2}\\(\\s*\\d{1,2}\\.\\d{1,2}\\.\\d{1,2}\\)|[A-Z][a-z]{1,15}\\s{0,2}\\s*\\d{1,2}\\.\\d{1,2}\\.\\d{1,2}|[A-Z][a-z]{1,15}\\.\\s+[A-Z][a-z]{1,10}\\.\\s+[A-Za-z]{1,10}\\.\\s+\\d{1,3}\\.\\d{1,3}|[A-Z][a-z]{1,15}\\.\\s+[A-Z][a-z]{1,10}\\.\\s+\\d{1,3}\\.\\d{1,3}[A-Za-z]{1,10}.?\\s+[¹²³]\\d+\\.\\d+|[A-Za-z]{1,10}.?\\s+[¹²³]\\d+|[A-Za-z]{1,10}.?\\s+\\d+\\s+\\d+)')\n",
    "\n",
    "dfPoleisGesamt['Quellen'] = dfPoleisGesamt['Beschreibung'].apply(lambda raw: ListePattern(raw,pat))"
   ]
  },
  {
   "cell_type": "code",
   "execution_count": 241,
   "metadata": {
    "collapsed": false
   },
   "outputs": [
    {
     "data": {
      "text/html": [
       "<div>\n",
       "<table border=\"1\" class=\"dataframe\">\n",
       "  <thead>\n",
       "    <tr style=\"text-align: right;\">\n",
       "      <th></th>\n",
       "      <th>Beschreibung</th>\n",
       "      <th>region</th>\n",
       "      <th>city</th>\n",
       "      <th>Quellen</th>\n",
       "    </tr>\n",
       "  </thead>\n",
       "  <tbody>\n",
       "    <tr>\n",
       "      <th>0</th>\n",
       "      <td>Identifier: 233. , (Ascheieus) Unlocated.  Typ...</td>\n",
       "      <td>Achaia</td>\n",
       "      <td>Ascheion</td>\n",
       "      <td>None</td>\n",
       "    </tr>\n",
       "    <tr>\n",
       "      <th>1</th>\n",
       "      <td>Identifier: 235. , (Bourios) Map  58.  Lat. 38...</td>\n",
       "      <td>Achaia</td>\n",
       "      <td>Boura</td>\n",
       "      <td>[Paus. 7.25.8, Strabo  8.7.5, Hall  ( 1996), R...</td>\n",
       "    </tr>\n",
       "    <tr>\n",
       "      <th>2</th>\n",
       "      <td>Identifier: 236. , (Helikeus) Map  58.  Lat. 3...</td>\n",
       "      <td>Achaia</td>\n",
       "      <td>Helike</td>\n",
       "      <td>[Paus. 7.24.5, Strabo  8.7.2, Hall ( 1996), Di...</td>\n",
       "    </tr>\n",
       "    <tr>\n",
       "      <th>3</th>\n",
       "      <td>Identifier: 237. , (Keryneus) Map  58.  Lat. 3...</td>\n",
       "      <td>Achaia</td>\n",
       "      <td>Keryneia</td>\n",
       "      <td>[Paus. 7.25.5, Rizakis  ( 1995), Paus. 7.25.5,...</td>\n",
       "    </tr>\n",
       "    <tr>\n",
       "      <th>4</th>\n",
       "      <td>Identifier: 238. , (Leontesios) Map  58.Lat.38...</td>\n",
       "      <td>Achaia</td>\n",
       "      <td>Leontion</td>\n",
       "      <td>[Lauffer  ( 1989), SEG 15  254, Polyb. 2.41.7,...</td>\n",
       "    </tr>\n",
       "    <tr>\n",
       "      <th>5</th>\n",
       "      <td>Identifier: 241. , (Olenios) Map  58.  Lat. 38...</td>\n",
       "      <td>Achaia</td>\n",
       "      <td>Olenos</td>\n",
       "      <td>[Paus. 7.18.1, Strabo  8.7.4, Rizakis  ( 1995)...</td>\n",
       "    </tr>\n",
       "    <tr>\n",
       "      <th>6</th>\n",
       "      <td>Identifier: 244. , (Pharaieus) Map  58.  Lat. ...</td>\n",
       "      <td>Achaia</td>\n",
       "      <td>Pharai</td>\n",
       "      <td>[Paus. 7.22.1, Rizakis ( 1995), Polyb. 2.41.8,...</td>\n",
       "    </tr>\n",
       "    <tr>\n",
       "      <th>7</th>\n",
       "      <td>Identifier: hall, (Tritaieus) Map  58.Lat.37.5...</td>\n",
       "      <td>Achaia</td>\n",
       "      <td>Tritaia</td>\n",
       "      <td>[Paus. 7.22.6, Rizakis  ( 1995), Polyb. 2.41.8...</td>\n",
       "    </tr>\n",
       "    <tr>\n",
       "      <th>8</th>\n",
       "      <td>Identifier: 801. , (Adramytenos) Map  56.  Lat...</td>\n",
       "      <td>Aiolis and South-western Mysia</td>\n",
       "      <td>Adramyttion</td>\n",
       "      <td>[Hdt. 7.42.1, An. 7.8.8, Thuc. 5.1.1, Fossey  ...</td>\n",
       "    </tr>\n",
       "    <tr>\n",
       "      <th>9</th>\n",
       "      <td>Identifier: 802. , (Aigaieus) Map  56.  Lat. 3...</td>\n",
       "      <td>Aiolis and South-western Mysia</td>\n",
       "      <td>Aigai(ai)</td>\n",
       "      <td>[Hdt. 1.149.1, Strabo 13.3.5, Hell. 4.8.5, HN ...</td>\n",
       "    </tr>\n",
       "  </tbody>\n",
       "</table>\n",
       "</div>"
      ],
      "text/plain": [
       "                                        Beschreibung  \\\n",
       "0  Identifier: 233. , (Ascheieus) Unlocated.  Typ...   \n",
       "1  Identifier: 235. , (Bourios) Map  58.  Lat. 38...   \n",
       "2  Identifier: 236. , (Helikeus) Map  58.  Lat. 3...   \n",
       "3  Identifier: 237. , (Keryneus) Map  58.  Lat. 3...   \n",
       "4  Identifier: 238. , (Leontesios) Map  58.Lat.38...   \n",
       "5  Identifier: 241. , (Olenios) Map  58.  Lat. 38...   \n",
       "6  Identifier: 244. , (Pharaieus) Map  58.  Lat. ...   \n",
       "7  Identifier: hall, (Tritaieus) Map  58.Lat.37.5...   \n",
       "8  Identifier: 801. , (Adramytenos) Map  56.  Lat...   \n",
       "9  Identifier: 802. , (Aigaieus) Map  56.  Lat. 3...   \n",
       "\n",
       "                           region         city  \\\n",
       "0                          Achaia     Ascheion   \n",
       "1                          Achaia        Boura   \n",
       "2                          Achaia       Helike   \n",
       "3                          Achaia     Keryneia   \n",
       "4                          Achaia     Leontion   \n",
       "5                          Achaia       Olenos   \n",
       "6                          Achaia       Pharai   \n",
       "7                          Achaia      Tritaia   \n",
       "8  Aiolis and South-western Mysia  Adramyttion   \n",
       "9  Aiolis and South-western Mysia    Aigai(ai)   \n",
       "\n",
       "                                             Quellen  \n",
       "0                                               None  \n",
       "1  [Paus. 7.25.8, Strabo  8.7.5, Hall  ( 1996), R...  \n",
       "2  [Paus. 7.24.5, Strabo  8.7.2, Hall ( 1996), Di...  \n",
       "3  [Paus. 7.25.5, Rizakis  ( 1995), Paus. 7.25.5,...  \n",
       "4  [Lauffer  ( 1989), SEG 15  254, Polyb. 2.41.7,...  \n",
       "5  [Paus. 7.18.1, Strabo  8.7.4, Rizakis  ( 1995)...  \n",
       "6  [Paus. 7.22.1, Rizakis ( 1995), Polyb. 2.41.8,...  \n",
       "7  [Paus. 7.22.6, Rizakis  ( 1995), Polyb. 2.41.8...  \n",
       "8  [Hdt. 7.42.1, An. 7.8.8, Thuc. 5.1.1, Fossey  ...  \n",
       "9  [Hdt. 1.149.1, Strabo 13.3.5, Hell. 4.8.5, HN ...  "
      ]
     },
     "execution_count": 241,
     "metadata": {},
     "output_type": "execute_result"
    }
   ],
   "source": [
    "dfPoleisGesamt.head(10)"
   ]
  },
  {
   "cell_type": "markdown",
   "metadata": {},
   "source": [
    "# Datenvalidierung"
   ]
  },
  {
   "cell_type": "markdown",
   "metadata": {},
   "source": [
    "## Bewertung des Modells mit Performanz- (Konfusions-)matrix"
   ]
  },
  {
   "cell_type": "markdown",
   "metadata": {},
   "source": [
    "Volle beschreibung für eine Stadt. Quellen per Hand markiert."
   ]
  },
  {
   "cell_type": "code",
   "execution_count": 242,
   "metadata": {
    "collapsed": false
   },
   "outputs": [],
   "source": [
    "#dfPoleisGesamt['Beschreibung'].iloc[2]"
   ]
  },
  {
   "cell_type": "markdown",
   "metadata": {},
   "source": [
    "\"Identifier: 236. , (Helikeus) Map  58.  Lat. 38.15,long.  22.10.  Size of  territory: 1  or 2.  Type:  A.  **Paus. 7.24.5**  locates  Helike  40 stades  from  Aigion  (no. 231),  while  **Strabo  8.7.2**  (following Herakleides)  places  it  12  stades  from  the  sea.  This  should  put it  between  the  rivers  Selinous  and  Kerynitis  (**Morgan  and Hall ( 1996)  175;  Barr.)**.  The  city,  which  was  overwhelmed  by a  tidal  wave  occasioned  by  an  earthquake  in  373  (**Diod. 15.48.1\\xad49.4;  Polyb. 2.41.7;Strabo 8.7.2;  Paus. 7.24.6;Ael.  NA 11.19**),  was  normally  supposed  to  lie  under  water  (cf.  **Ov. Met. 15.293\\xad95**),  but  sonar  investigation  suggests  that  it  may actually  lie  inland  under  massive  sedimentary  deposits  in the  vicinity  of  Nea  Keryneia  (**Petropoulos  ( 1983);  cf.  Ptol. Geog. 3.14.36**,  who  lists  Helike  among  the  inland  cities  of Achaia).  However,  **Rizakis  ( 1995)  203\\xad4**  finds all candidates for  ancient  Helike  unconvincing.  The  toponym  is  usually **`,  (Hom.  Il. 2.575;  SEG 36  718  (C 5e);  Hdt. 1.145)  or `  (Syll. ³90.12)**,  though  **Theophr.  Phys.  Op. 12.122**  cites a  verse  which  gives  the  toponym  as  `.  The  city- ethnic  is  `  **(Diod. 15.49.3)**. Helike  is  called  a  polis  in  the  urban  sense  in  **Heraclid. Pont.  fr. 46a  (r 373)**  and  **Theophr.  Phys.  op. 12.122  (r 373)**,but  is absent  from  Ps.-Skylax's  list  of  Achaian  poleis  ( 42),  which may  suggest  that  this  chapter  was  composed  after  373. Retrospective  evidence  is  provided  by  **Polyb. 2.41.7  (rC 4)**, who  calls  it  a  polis  in  the  political  sense,  and  by  **Diod. 15.48.3 (r 373)**,  who  describes  it  as  a  polis  in  the  urban  sense.  The internal  collective  use  of  the  city-ethnic  is  probably  found (abbreviated)  on  C 4  coins  (infra),  and  the  external  collective use  is  found  in  **Diod. 15.49.3**  (r  ante 373).  A  citizen  of  Helike served  as  Delphic  theorodokos  in  C 5l  **(Syll. ³90.12)**.According to **Polyb. 2.41.6\\xad7**  (rC 4),  Helike  had  been  a  member  of  the Achaian  Confederacy. The  early  physical  existence  of  Helike  is  attested  in  **Hom. Il. 2.575**  and  in  a  C 5e  inscription  (**SEG 36  718**;  see  also  **Soter and  Katsonopoulou  ( 1999)**).  Archaeological  investigations have  revealed  the  foundations  of  two  small  temples,  one Archaic,  the  other  Classical,  at  Nea  Keryneia,  which  may possibly  be  associated  with  the  acropolis  of  ancient  **Helike (Petropoulos  ( 1990)**).  The  most  important  sanctuary  at Helike  was,  however,  that  of  Poseidon  Helikonios  **(Hom.  Il. 8.203;Diod.  15.49.2\\xad3;Strabo  8.7.2;  Paus. 7.24.5\\xad6)**,  and  it  is quite  likely  that  this  sanctuary  acted  as  a  common  place  of union  for  the  Achaians  prior  to  the  destruction  of Helike,  when  that  function  was  assumed  by  the  sanctuary of  Zeus  Homarios  near  Aigion  **(Morgan  and  Hall  ( 1996) 195\\xad96,  contra  Aymard  ( 1938)  286\\xad87,  293;  Walbank ( 2000))**. According  to  **Strabo  6.1.13**,  Is  of  Helike  was  the  founder  of Sybaris  (no. 70)  in  South  Italy.  The  reading  (  '  &lt;...  &gt; ) is,  however,  unsure,  and **Bérard  ( 1957)**  141  n. 2  proposed  either  &lt; &gt;  or &lt; &gt;. A  series  of  bronze  coins,  dating  to  C 4f,  depicts  obv.  head of  Poseidon.  Legend: (retr.).  Rev.  trident  between dolphins  in  wreath  **(Head,  HN ²414)**. 236. \""
   ]
  },
  {
   "cell_type": "markdown",
   "metadata": {},
   "source": [
    "Gefundene Quellen"
   ]
  },
  {
   "cell_type": "code",
   "execution_count": 243,
   "metadata": {
    "collapsed": false
   },
   "outputs": [
    {
     "data": {
      "text/plain": [
       "['Paus. 7.24.5',\n",
       " 'Strabo  8.7.2',\n",
       " 'Hall ( 1996)',\n",
       " 'Diod. 15.48.1',\n",
       " 'Polyb. 2.41.7',\n",
       " 'Strabo 8.7.2',\n",
       " 'Paus. 7.24.6',\n",
       " 'Petropoulos  ( 1983)',\n",
       " 'Geog. 3.14.36',\n",
       " 'Rizakis  ( 1995)',\n",
       " 'SEG 36  718',\n",
       " 'Syll. ³90',\n",
       " 'Theophr.  Phys.  Op. 12.122',\n",
       " 'Diod. 15.49.3',\n",
       " 'Theophr.  Phys.  op. 12.122',\n",
       " 'Polyb. 2.41.7',\n",
       " 'Diod. 15.48.3',\n",
       " 'Diod. 15.49.3',\n",
       " 'Syll. ³90',\n",
       " 'Polyb. 2.41.6',\n",
       " 'SEG 36  718',\n",
       " 'Katsonopoulou  ( 1999)',\n",
       " 'Petropoulos  ( 1990)',\n",
       " 'Strabo  8.7.2',\n",
       " 'Paus. 7.24.5',\n",
       " 'Hall  ( 1996)',\n",
       " 'Aymard  ( 1938)',\n",
       " 'Walbank ( 2000)',\n",
       " 'Strabo  6.1.13',\n",
       " 'HN ²414']"
      ]
     },
     "execution_count": 243,
     "metadata": {},
     "output_type": "execute_result"
    }
   ],
   "source": [
    "dfPoleisGesamt['Quellen'].iloc[2]"
   ]
  },
  {
   "cell_type": "markdown",
   "metadata": {},
   "source": [
    "Diskussion der Performanzmatrix: vier Fälle\n",
    "- soll match vs. tatsächlicher match\n",
    "- nicht soll match vs. tatsächlich\n",
    "- soll match vs. nicht tatsächlich\n",
    "- nicht soll vs. nicht tatsächlich"
   ]
  },
  {
   "cell_type": "markdown",
   "metadata": {},
   "source": [
    "While 29 citations are found, 10 are neglected. \n",
    "Structures not yet captured are\n",
    "- citations with several capital letters (e.g. SEG 36  718)\n",
    "- citations with sepcial characters (e.g. Syll. ³90.12)"
   ]
  },
  {
   "cell_type": "markdown",
   "metadata": {},
   "source": [
    "2 Structures wrongly captured are\n",
    "- citations with several authors are captured under one name only"
   ]
  },
  {
   "cell_type": "markdown",
   "metadata": {},
   "source": [
    "To extend the search string, we used"
   ]
  },
  {
   "cell_type": "code",
   "execution_count": 244,
   "metadata": {
    "collapsed": false
   },
   "outputs": [
    {
     "data": {
      "text/plain": [
       "['SEG 36  718', 'Syll. ³90.12', 'Syll. ³90.12', 'SEG 36  718', 'HN ²414']"
      ]
     },
     "execution_count": 244,
     "metadata": {},
     "output_type": "execute_result"
    }
   ],
   "source": [
    "re.findall('([A-Za-z]{1,10}.?\\s+[¹²³]\\d+\\.\\d+|[A-Za-z]{1,10}.?\\s+[¹²³]\\d+|[A-Za-z]{1,10}.?\\s+\\d+\\s+\\d+)',dfPoleisGesamt['Beschreibung'].iloc[2])"
   ]
  },
  {
   "cell_type": "markdown",
   "metadata": {},
   "source": [
    "## Wertverteilungen, Test auf Dopplungen"
   ]
  },
  {
   "cell_type": "markdown",
   "metadata": {},
   "source": [
    "Lese Werte der Spalte Quellen als Liste aus und reduziere Unterlisten auf eine Gesamtliste. "
   ]
  },
  {
   "cell_type": "code",
   "execution_count": 245,
   "metadata": {
    "collapsed": false
   },
   "outputs": [],
   "source": [
    "mainList = dfPoleisGesamt['Quellen'].values.tolist()\n",
    "\n",
    "quellenListe = []\n",
    "for sublist in mainList:\n",
    "    if sublist:\n",
    "        for k in sublist:\n",
    "            quellenListe.append(k)"
   ]
  },
  {
   "cell_type": "code",
   "execution_count": 246,
   "metadata": {
    "collapsed": false
   },
   "outputs": [
    {
     "data": {
      "text/plain": [
       "['Paus. 7.25.8',\n",
       " 'Strabo  8.7.5',\n",
       " 'Hall  ( 1996)',\n",
       " 'Rizakis ( 1995)',\n",
       " 'Polyb. 2.41.13',\n",
       " 'Paus. 7.25.8',\n",
       " 'Theophr.  Phys.  op. 12.122',\n",
       " 'Polyb. 2.41.7',\n",
       " 'Diod. 15.48.3',\n",
       " 'Paus. 7.25.8']"
      ]
     },
     "execution_count": 246,
     "metadata": {},
     "output_type": "execute_result"
    }
   ],
   "source": [
    "quellenListe[:10]"
   ]
  },
  {
   "cell_type": "markdown",
   "metadata": {},
   "source": [
    "Zähle die Häufigkeit der verschiedenen Quellen und speichere als Dictionary."
   ]
  },
  {
   "cell_type": "code",
   "execution_count": 247,
   "metadata": {
    "collapsed": false
   },
   "outputs": [
    {
     "data": {
      "text/plain": [
       "2"
      ]
     },
     "execution_count": 247,
     "metadata": {},
     "output_type": "execute_result"
    }
   ],
   "source": [
    "quellenVerteilung = {x:quellenListe.count(x) for x in quellenListe}\n",
    "quellenVerteilung['Diod. 14.90.3']"
   ]
  },
  {
   "cell_type": "markdown",
   "metadata": {},
   "source": [
    "Erzeuge DataFrame, mit neuem Index und Namen der Spalten. Sortiere diesen Nach der Häufigkeit der Quelle."
   ]
  },
  {
   "cell_type": "code",
   "execution_count": 248,
   "metadata": {
    "collapsed": false
   },
   "outputs": [
    {
     "data": {
      "text/html": [
       "<div>\n",
       "<table border=\"1\" class=\"dataframe\">\n",
       "  <thead>\n",
       "    <tr style=\"text-align: right;\">\n",
       "      <th></th>\n",
       "      <th>0</th>\n",
       "    </tr>\n",
       "  </thead>\n",
       "  <tbody>\n",
       "    <tr>\n",
       "      <th>Abmeier  ( 1990)</th>\n",
       "      <td>1</td>\n",
       "    </tr>\n",
       "    <tr>\n",
       "      <th>Accame  ( 1941)</th>\n",
       "      <td>1</td>\n",
       "    </tr>\n",
       "    <tr>\n",
       "      <th>Adamesteanu  ( 1970)</th>\n",
       "      <td>3</td>\n",
       "    </tr>\n",
       "    <tr>\n",
       "      <th>Adamesteanu  ( 1973)</th>\n",
       "      <td>1</td>\n",
       "    </tr>\n",
       "    <tr>\n",
       "      <th>Adamesteanu  ( 1974)</th>\n",
       "      <td>4</td>\n",
       "    </tr>\n",
       "    <tr>\n",
       "      <th>Adamesteanu  ( 1976)</th>\n",
       "      <td>1</td>\n",
       "    </tr>\n",
       "    <tr>\n",
       "      <th>Adamesteanu  ( 1979)</th>\n",
       "      <td>1</td>\n",
       "    </tr>\n",
       "    <tr>\n",
       "      <th>Adamesteanu  ( 1982)</th>\n",
       "      <td>1</td>\n",
       "    </tr>\n",
       "    <tr>\n",
       "      <th>Adamesteanu  ( 1986)</th>\n",
       "      <td>1</td>\n",
       "    </tr>\n",
       "    <tr>\n",
       "      <th>Adamesteanu ( 1979)</th>\n",
       "      <td>1</td>\n",
       "    </tr>\n",
       "    <tr>\n",
       "      <th>Adiego ( 1993)</th>\n",
       "      <td>1</td>\n",
       "    </tr>\n",
       "    <tr>\n",
       "      <th>Adler  ( 1919)</th>\n",
       "      <td>1</td>\n",
       "    </tr>\n",
       "    <tr>\n",
       "      <th>Aeth. 5.18.3</th>\n",
       "      <td>1</td>\n",
       "    </tr>\n",
       "    <tr>\n",
       "      <th>Aeth. 5.22.5</th>\n",
       "      <td>1</td>\n",
       "    </tr>\n",
       "    <tr>\n",
       "      <th>Agata  ( 1989)</th>\n",
       "      <td>2</td>\n",
       "    </tr>\n",
       "    <tr>\n",
       "      <th>Agata  ( 1999)</th>\n",
       "      <td>4</td>\n",
       "    </tr>\n",
       "    <tr>\n",
       "      <th>Agata  ( 2000)</th>\n",
       "      <td>1</td>\n",
       "    </tr>\n",
       "    <tr>\n",
       "      <th>Agata ( 1999)</th>\n",
       "      <td>1</td>\n",
       "    </tr>\n",
       "    <tr>\n",
       "      <th>Ager  ( 1989)</th>\n",
       "      <td>1</td>\n",
       "    </tr>\n",
       "    <tr>\n",
       "      <th>Ager  ( 1991)</th>\n",
       "      <td>2</td>\n",
       "    </tr>\n",
       "    <tr>\n",
       "      <th>Ager  ( 1996)</th>\n",
       "      <td>6</td>\n",
       "    </tr>\n",
       "    <tr>\n",
       "      <th>Ager  ( 2001)</th>\n",
       "      <td>3</td>\n",
       "    </tr>\n",
       "    <tr>\n",
       "      <th>Ager ( 1996)</th>\n",
       "      <td>9</td>\n",
       "    </tr>\n",
       "    <tr>\n",
       "      <th>Ager ( 2001)</th>\n",
       "      <td>1</td>\n",
       "    </tr>\n",
       "    <tr>\n",
       "      <th>Agostino  ( 1996)</th>\n",
       "      <td>1</td>\n",
       "    </tr>\n",
       "    <tr>\n",
       "      <th>Ainian  ( 1993)</th>\n",
       "      <td>1</td>\n",
       "    </tr>\n",
       "    <tr>\n",
       "      <th>Ainian  ( 1996)</th>\n",
       "      <td>1</td>\n",
       "    </tr>\n",
       "    <tr>\n",
       "      <th>Ainian  ( 1997)</th>\n",
       "      <td>4</td>\n",
       "    </tr>\n",
       "    <tr>\n",
       "      <th>Ainian  ( 1998)</th>\n",
       "      <td>3</td>\n",
       "    </tr>\n",
       "    <tr>\n",
       "      <th>Ainian ( 1997)</th>\n",
       "      <td>1</td>\n",
       "    </tr>\n",
       "    <tr>\n",
       "      <th>...</th>\n",
       "      <td>...</td>\n",
       "    </tr>\n",
       "    <tr>\n",
       "      <th>makedonia  801 536</th>\n",
       "      <td>1</td>\n",
       "    </tr>\n",
       "    <tr>\n",
       "      <th>measures  160 40</th>\n",
       "      <td>1</td>\n",
       "    </tr>\n",
       "    <tr>\n",
       "      <th>measures  190  100</th>\n",
       "      <td>1</td>\n",
       "    </tr>\n",
       "    <tr>\n",
       "      <th>measures  200 70</th>\n",
       "      <td>1</td>\n",
       "    </tr>\n",
       "    <tr>\n",
       "      <th>measures  425  160</th>\n",
       "      <td>1</td>\n",
       "    </tr>\n",
       "    <tr>\n",
       "      <th>measures  44  30</th>\n",
       "      <td>1</td>\n",
       "    </tr>\n",
       "    <tr>\n",
       "      <th>measures  800  65</th>\n",
       "      <td>1</td>\n",
       "    </tr>\n",
       "    <tr>\n",
       "      <th>measuring  200  200</th>\n",
       "      <td>1</td>\n",
       "    </tr>\n",
       "    <tr>\n",
       "      <th>measuring  240 120</th>\n",
       "      <td>1</td>\n",
       "    </tr>\n",
       "    <tr>\n",
       "      <th>measuring 120  40</th>\n",
       "      <td>1</td>\n",
       "    </tr>\n",
       "    <tr>\n",
       "      <th>minor  983 1024</th>\n",
       "      <td>1</td>\n",
       "    </tr>\n",
       "    <tr>\n",
       "      <th>minor  993 71</th>\n",
       "      <td>1</td>\n",
       "    </tr>\n",
       "    <tr>\n",
       "      <th>no. 23  1</th>\n",
       "      <td>1</td>\n",
       "    </tr>\n",
       "    <tr>\n",
       "      <th>of 450 200</th>\n",
       "      <td>1</td>\n",
       "    </tr>\n",
       "    <tr>\n",
       "      <th>of 52 102</th>\n",
       "      <td>1</td>\n",
       "    </tr>\n",
       "    <tr>\n",
       "      <th>of 6 12</th>\n",
       "      <td>1</td>\n",
       "    </tr>\n",
       "    <tr>\n",
       "      <th>phokis  409 10</th>\n",
       "      <td>1</td>\n",
       "    </tr>\n",
       "    <tr>\n",
       "      <th>phokis  425 192</th>\n",
       "      <td>1</td>\n",
       "    </tr>\n",
       "    <tr>\n",
       "      <th>pl. 71  43</th>\n",
       "      <td>1</td>\n",
       "    </tr>\n",
       "    <tr>\n",
       "      <th>proximately  450  200</th>\n",
       "      <td>1</td>\n",
       "    </tr>\n",
       "    <tr>\n",
       "      <th>regions  695 4</th>\n",
       "      <td>1</td>\n",
       "    </tr>\n",
       "    <tr>\n",
       "      <th>regions  713 434</th>\n",
       "      <td>1</td>\n",
       "    </tr>\n",
       "    <tr>\n",
       "      <th>rhodos  1205 8</th>\n",
       "      <td>1</td>\n",
       "    </tr>\n",
       "    <tr>\n",
       "      <th>stoa, 6  26</th>\n",
       "      <td>1</td>\n",
       "    </tr>\n",
       "    <tr>\n",
       "      <th>strymon  829 578</th>\n",
       "      <td>1</td>\n",
       "    </tr>\n",
       "    <tr>\n",
       "      <th>strymon  841 607</th>\n",
       "      <td>1</td>\n",
       "    </tr>\n",
       "    <tr>\n",
       "      <th>suppl. 29  5</th>\n",
       "      <td>1</td>\n",
       "    </tr>\n",
       "    <tr>\n",
       "      <th>suppl. 29 5</th>\n",
       "      <td>1</td>\n",
       "    </tr>\n",
       "    <tr>\n",
       "      <th>xii  1  1036</th>\n",
       "      <td>1</td>\n",
       "    </tr>\n",
       "    <tr>\n",
       "      <th>xii  5 242</th>\n",
       "      <td>1</td>\n",
       "    </tr>\n",
       "  </tbody>\n",
       "</table>\n",
       "<p>8283 rows × 1 columns</p>\n",
       "</div>"
      ],
      "text/plain": [
       "                       0\n",
       "Abmeier  ( 1990)       1\n",
       "Accame  ( 1941)        1\n",
       "Adamesteanu  ( 1970)   3\n",
       "Adamesteanu  ( 1973)   1\n",
       "Adamesteanu  ( 1974)   4\n",
       "Adamesteanu  ( 1976)   1\n",
       "Adamesteanu  ( 1979)   1\n",
       "Adamesteanu  ( 1982)   1\n",
       "Adamesteanu  ( 1986)   1\n",
       "Adamesteanu ( 1979)    1\n",
       "Adiego ( 1993)         1\n",
       "Adler  ( 1919)         1\n",
       "Aeth. 5.18.3           1\n",
       "Aeth. 5.22.5           1\n",
       "Agata  ( 1989)         2\n",
       "Agata  ( 1999)         4\n",
       "Agata  ( 2000)         1\n",
       "Agata ( 1999)          1\n",
       "Ager  ( 1989)          1\n",
       "Ager  ( 1991)          2\n",
       "Ager  ( 1996)          6\n",
       "Ager  ( 2001)          3\n",
       "Ager ( 1996)           9\n",
       "Ager ( 2001)           1\n",
       "Agostino  ( 1996)      1\n",
       "Ainian  ( 1993)        1\n",
       "Ainian  ( 1996)        1\n",
       "Ainian  ( 1997)        4\n",
       "Ainian  ( 1998)        3\n",
       "Ainian ( 1997)         1\n",
       "...                   ..\n",
       "makedonia  801 536     1\n",
       "measures  160 40       1\n",
       "measures  190  100     1\n",
       "measures  200 70       1\n",
       "measures  425  160     1\n",
       "measures  44  30       1\n",
       "measures  800  65      1\n",
       "measuring  200  200    1\n",
       "measuring  240 120     1\n",
       "measuring 120  40      1\n",
       "minor  983 1024        1\n",
       "minor  993 71          1\n",
       "no. 23  1              1\n",
       "of 450 200             1\n",
       "of 52 102              1\n",
       "of 6 12                1\n",
       "phokis  409 10         1\n",
       "phokis  425 192        1\n",
       "pl. 71  43             1\n",
       "proximately  450  200  1\n",
       "regions  695 4         1\n",
       "regions  713 434       1\n",
       "rhodos  1205 8         1\n",
       "stoa, 6  26            1\n",
       "strymon  829 578       1\n",
       "strymon  841 607       1\n",
       "suppl. 29  5           1\n",
       "suppl. 29 5            1\n",
       "xii  1  1036           1\n",
       "xii  5 242             1\n",
       "\n",
       "[8283 rows x 1 columns]"
      ]
     },
     "execution_count": 248,
     "metadata": {},
     "output_type": "execute_result"
    }
   ],
   "source": [
    "dfQuellenVerteilung = pd.DataFrame([quellenVerteilung]).T\n",
    "dfQuellenVerteilung"
   ]
  },
  {
   "cell_type": "code",
   "execution_count": 249,
   "metadata": {
    "collapsed": false
   },
   "outputs": [
    {
     "data": {
      "text/html": [
       "<div>\n",
       "<table border=\"1\" class=\"dataframe\">\n",
       "  <thead>\n",
       "    <tr style=\"text-align: right;\">\n",
       "      <th></th>\n",
       "      <th>index</th>\n",
       "      <th>0</th>\n",
       "    </tr>\n",
       "  </thead>\n",
       "  <tbody>\n",
       "    <tr>\n",
       "      <th>0</th>\n",
       "      <td>Abmeier  ( 1990)</td>\n",
       "      <td>1</td>\n",
       "    </tr>\n",
       "    <tr>\n",
       "      <th>1</th>\n",
       "      <td>Accame  ( 1941)</td>\n",
       "      <td>1</td>\n",
       "    </tr>\n",
       "    <tr>\n",
       "      <th>2</th>\n",
       "      <td>Adamesteanu  ( 1970)</td>\n",
       "      <td>3</td>\n",
       "    </tr>\n",
       "    <tr>\n",
       "      <th>3</th>\n",
       "      <td>Adamesteanu  ( 1973)</td>\n",
       "      <td>1</td>\n",
       "    </tr>\n",
       "    <tr>\n",
       "      <th>4</th>\n",
       "      <td>Adamesteanu  ( 1974)</td>\n",
       "      <td>4</td>\n",
       "    </tr>\n",
       "  </tbody>\n",
       "</table>\n",
       "</div>"
      ],
      "text/plain": [
       "                  index  0\n",
       "0      Abmeier  ( 1990)  1\n",
       "1       Accame  ( 1941)  1\n",
       "2  Adamesteanu  ( 1970)  3\n",
       "3  Adamesteanu  ( 1973)  1\n",
       "4  Adamesteanu  ( 1974)  4"
      ]
     },
     "execution_count": 249,
     "metadata": {},
     "output_type": "execute_result"
    }
   ],
   "source": [
    "dfQuellenVerteilung = dfQuellenVerteilung.reset_index()\n",
    "dfQuellenVerteilung.head()"
   ]
  },
  {
   "cell_type": "code",
   "execution_count": 250,
   "metadata": {
    "collapsed": false
   },
   "outputs": [
    {
     "data": {
      "text/html": [
       "<div>\n",
       "<table border=\"1\" class=\"dataframe\">\n",
       "  <thead>\n",
       "    <tr style=\"text-align: right;\">\n",
       "      <th></th>\n",
       "      <th>Quelle</th>\n",
       "      <th>Häufigkeit</th>\n",
       "    </tr>\n",
       "  </thead>\n",
       "  <tbody>\n",
       "    <tr>\n",
       "      <th>0</th>\n",
       "      <td>Abmeier  ( 1990)</td>\n",
       "      <td>1</td>\n",
       "    </tr>\n",
       "    <tr>\n",
       "      <th>1</th>\n",
       "      <td>Accame  ( 1941)</td>\n",
       "      <td>1</td>\n",
       "    </tr>\n",
       "    <tr>\n",
       "      <th>2</th>\n",
       "      <td>Adamesteanu  ( 1970)</td>\n",
       "      <td>3</td>\n",
       "    </tr>\n",
       "    <tr>\n",
       "      <th>3</th>\n",
       "      <td>Adamesteanu  ( 1973)</td>\n",
       "      <td>1</td>\n",
       "    </tr>\n",
       "    <tr>\n",
       "      <th>4</th>\n",
       "      <td>Adamesteanu  ( 1974)</td>\n",
       "      <td>4</td>\n",
       "    </tr>\n",
       "  </tbody>\n",
       "</table>\n",
       "</div>"
      ],
      "text/plain": [
       "                 Quelle  Häufigkeit\n",
       "0      Abmeier  ( 1990)           1\n",
       "1       Accame  ( 1941)           1\n",
       "2  Adamesteanu  ( 1970)           3\n",
       "3  Adamesteanu  ( 1973)           1\n",
       "4  Adamesteanu  ( 1974)           4"
      ]
     },
     "execution_count": 250,
     "metadata": {},
     "output_type": "execute_result"
    }
   ],
   "source": [
    "dfQuellenVerteilung = dfQuellenVerteilung.rename(columns={'index': 'Quelle', 0:'Häufigkeit'})\n",
    "dfQuellenVerteilung.head()"
   ]
  },
  {
   "cell_type": "code",
   "execution_count": 251,
   "metadata": {
    "collapsed": false
   },
   "outputs": [
    {
     "data": {
      "text/html": [
       "<div>\n",
       "<table border=\"1\" class=\"dataframe\">\n",
       "  <thead>\n",
       "    <tr style=\"text-align: right;\">\n",
       "      <th></th>\n",
       "      <th>Quelle</th>\n",
       "      <th>Häufigkeit</th>\n",
       "    </tr>\n",
       "  </thead>\n",
       "  <tbody>\n",
       "    <tr>\n",
       "      <th>3458</th>\n",
       "      <td>Jost  ( 1985)</td>\n",
       "      <td>71</td>\n",
       "    </tr>\n",
       "    <tr>\n",
       "      <th>3399</th>\n",
       "      <td>Isaac  ( 1986)</td>\n",
       "      <td>57</td>\n",
       "    </tr>\n",
       "    <tr>\n",
       "      <th>5328</th>\n",
       "      <td>Rider  ( 1966)</td>\n",
       "      <td>55</td>\n",
       "    </tr>\n",
       "    <tr>\n",
       "      <th>6999</th>\n",
       "      <td>Svoronos  ( 1890)</td>\n",
       "      <td>55</td>\n",
       "    </tr>\n",
       "    <tr>\n",
       "      <th>1776</th>\n",
       "      <td>Fossey  ( 1988)</td>\n",
       "      <td>52</td>\n",
       "    </tr>\n",
       "    <tr>\n",
       "      <th>2378</th>\n",
       "      <td>Hansen  ( 1996)</td>\n",
       "      <td>44</td>\n",
       "    </tr>\n",
       "    <tr>\n",
       "      <th>4880</th>\n",
       "      <td>Perlman  ( 2000)</td>\n",
       "      <td>42</td>\n",
       "    </tr>\n",
       "    <tr>\n",
       "      <th>5705</th>\n",
       "      <td>SEG 23  189</td>\n",
       "      <td>40</td>\n",
       "    </tr>\n",
       "    <tr>\n",
       "      <th>3647</th>\n",
       "      <td>Kraay  ( 1976)</td>\n",
       "      <td>37</td>\n",
       "    </tr>\n",
       "    <tr>\n",
       "      <th>3596</th>\n",
       "      <td>Knoepfler ( 1997)</td>\n",
       "      <td>36</td>\n",
       "    </tr>\n",
       "  </tbody>\n",
       "</table>\n",
       "</div>"
      ],
      "text/plain": [
       "                 Quelle  Häufigkeit\n",
       "3458      Jost  ( 1985)          71\n",
       "3399     Isaac  ( 1986)          57\n",
       "5328     Rider  ( 1966)          55\n",
       "6999  Svoronos  ( 1890)          55\n",
       "1776    Fossey  ( 1988)          52\n",
       "2378    Hansen  ( 1996)          44\n",
       "4880   Perlman  ( 2000)          42\n",
       "5705        SEG 23  189          40\n",
       "3647     Kraay  ( 1976)          37\n",
       "3596  Knoepfler ( 1997)          36"
      ]
     },
     "execution_count": 251,
     "metadata": {},
     "output_type": "execute_result"
    }
   ],
   "source": [
    "dfQuellenVerteilung.sort_values(by='Häufigkeit',ascending=False).head(10)"
   ]
  }
 ],
 "metadata": {
  "anaconda-cloud": {},
  "kernelspec": {
   "display_name": "Python [Root]",
   "language": "python",
   "name": "Python [Root]"
  },
  "language_info": {
   "codemirror_mode": {
    "name": "ipython",
    "version": 3
   },
   "file_extension": ".py",
   "mimetype": "text/x-python",
   "name": "python",
   "nbconvert_exporter": "python",
   "pygments_lexer": "ipython3",
   "version": "3.5.2"
  },
  "latex_envs": {
   "bibliofile": "biblio.bib",
   "cite_by": "apalike",
   "current_citInitial": 1,
   "eqLabelWithNumbers": true,
   "eqNumInitial": 0
  },
  "nav_menu": {},
  "toc": {
   "navigate_menu": true,
   "number_sections": true,
   "sideBar": true,
   "threshold": 6,
   "toc_cell": false,
   "toc_section_display": "block",
   "toc_window_display": false
  }
 },
 "nbformat": 4,
 "nbformat_minor": 0
}
