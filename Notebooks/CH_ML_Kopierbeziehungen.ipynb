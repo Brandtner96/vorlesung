{
 "cells": [
  {
   "cell_type": "markdown",
   "metadata": {},
   "source": [
    "# Vorlesung: Kopierbeziehungen und machine learning"
   ]
  },
  {
   "cell_type": "code",
   "execution_count": 2,
   "metadata": {
    "collapsed": true
   },
   "outputs": [],
   "source": [
    "import pandas as pd\n",
    "import numpy as np\n",
    "from random import random,randrange\n",
    "import matplotlib.pyplot as plt \n",
    "import itertools\n",
    "from IPython.display import HTML\n",
    "import pygraphviz as pgv\n",
    "\n",
    "from sklearn.model_selection import train_test_split\n",
    "from sklearn import metrics\n",
    "from sklearn.model_selection import cross_val_score"
   ]
  },
  {
   "cell_type": "code",
   "execution_count": 3,
   "metadata": {
    "collapsed": true
   },
   "outputs": [],
   "source": [
    "def show2images(pnglist,width):\n",
    "    res = ''.join(['<iframe src={} width={}% height=400></iframe>'.format(png,width) for png in pnglist])\n",
    "    return HTML(res)"
   ]
  },
  {
   "cell_type": "code",
   "execution_count": null,
   "metadata": {
    "collapsed": true
   },
   "outputs": [],
   "source": [
    "def crossProbabilities(model,source,node1,node2):\n",
    "    index1 = [key for key in index2kanten.keys() if (index2kanten[key][0] in [node1,node2]) & (index2kanten[key][1] in [node1,node2])]\n",
    "    index2 = [key for key in dictIndex.keys() if (dictIndex[key] in index1)]\n",
    "    comp_proba = model.predict_proba(source)\n",
    "    res = [comp_proba[x] for x in index2]\n",
    "    return res"
   ]
  },
  {
   "cell_type": "code",
   "execution_count": null,
   "metadata": {
    "collapsed": true
   },
   "outputs": [],
   "source": [
    "def plot_confusion_matrix(cm, classes,\n",
    "                          normalize=False,\n",
    "                          title='Confusion matrix',\n",
    "                          cmap=plt.cm.Blues):\n",
    "    \"\"\"\n",
    "    This function prints and plots the confusion matrix.\n",
    "    Normalization can be applied by setting `normalize=True`.\n",
    "    \"\"\"\n",
    "    plt.imshow(cm, interpolation='nearest', cmap=cmap)\n",
    "    plt.title(title)\n",
    "    plt.colorbar()\n",
    "    tick_marks = np.arange(len(classes))\n",
    "    plt.xticks(tick_marks, classes, rotation=45)\n",
    "    plt.yticks(tick_marks, classes)\n",
    "\n",
    "    if normalize:\n",
    "        cm = cm.astype('float') / cm.sum(axis=1)[:, np.newaxis]\n",
    "        print(\"Normalized confusion matrix\")\n",
    "    else:\n",
    "        print('Confusion matrix, without normalization')\n",
    "\n",
    "    print(cm)\n",
    "\n",
    "    thresh = cm.max() / 2.\n",
    "    for i, j in itertools.product(range(cm.shape[0]), range(cm.shape[1])):\n",
    "        plt.text(j, i, cm[i, j],\n",
    "                 horizontalalignment=\"center\",\n",
    "                 color=\"white\" if cm[i, j] > thresh else \"black\")\n",
    "\n",
    "    plt.tight_layout()\n",
    "    plt.ylabel('True label')\n",
    "    plt.xlabel('Predicted label')"
   ]
  },
  {
   "cell_type": "markdown",
   "metadata": {},
   "source": [
    "# Konstruktion Kopierbaum\n",
    "\n",
    "## Initialisierung"
   ]
  },
  {
   "cell_type": "code",
   "execution_count": 4,
   "metadata": {
    "collapsed": true
   },
   "outputs": [],
   "source": [
    "NMerkmale=20\n",
    "NTexte=15"
   ]
  },
  {
   "cell_type": "markdown",
   "metadata": {},
   "source": [
    "Die Wurzel beschreibt die Merkmale der grundlegenden Kopiervorlage."
   ]
  },
  {
   "cell_type": "code",
   "execution_count": 5,
   "metadata": {
    "collapsed": false
   },
   "outputs": [
    {
     "data": {
      "text/plain": [
       "[0, 1, 1, 1, 0, 0, 1, 1, 0, 0, 0, 0, 1, 1, 1, 0, 1, 1, 0, 1]"
      ]
     },
     "execution_count": 5,
     "metadata": {},
     "output_type": "execute_result"
    }
   ],
   "source": [
    "def MWurzel(N):\n",
    "    return([randrange(2) for i in range(N)])\n",
    "NM=MWurzel(NMerkmale)\n",
    "NM"
   ]
  },
  {
   "cell_type": "code",
   "execution_count": 7,
   "metadata": {
    "collapsed": false
   },
   "outputs": [
    {
     "data": {
      "text/plain": [
       "[0, 1, 0, 1, 1, 0, 0, 1, 1, 1, 1, 1, 0, 0, 1, 1, 0, 1, 1, 1]"
      ]
     },
     "execution_count": 7,
     "metadata": {},
     "output_type": "execute_result"
    }
   ],
   "source": [
    "NM2=MWurzel(NMerkmale)\n",
    "NM2"
   ]
  },
  {
   "cell_type": "markdown",
   "metadata": {},
   "source": [
    "## Modell der Merkmalskopie\n",
    "\n",
    "Eingabe ist ein Vektor mit Merkmalen. Angegeben wird die Wahrscheinlichkeit, wie ein Merkmal mit binären Werten kopiert wird.\n",
    "\n",
    " Angenommen wird, dass die Wahrscheinlichkeit für die Umwandlung einer null in einer 1 p ist, während die Verwandlung von einem Merkmal mit eins in einen null mit der Häufigkeit q auftritt.\n",
    " \n",
    " http://stackoverflow.com/questions/10803135/weighted-choice-short-and-simple"
   ]
  },
  {
   "cell_type": "code",
   "execution_count": 8,
   "metadata": {
    "collapsed": false
   },
   "outputs": [],
   "source": [
    "# mit den wahrscheinlichkeiten p und q werden die Merkmale 0,1 verändert\n",
    "def Binaerkopie(m,p,q):\n",
    "    rd=random()\n",
    "    if m==0:\n",
    "        if rd<p:\n",
    "            w=1\n",
    "        else:\n",
    "            w=0\n",
    "    else:\n",
    "        if rd<q:\n",
    "            w=0\n",
    "        else:\n",
    "            w=1\n",
    "    return(w)"
   ]
  },
  {
   "cell_type": "code",
   "execution_count": 9,
   "metadata": {
    "collapsed": true
   },
   "outputs": [],
   "source": [
    "def ModelKopie(M,p,q):\n",
    "    copy=[Binaerkopie(M[i],p,q) for i in range(len(M))]\n",
    "    return(copy)"
   ]
  },
  {
   "cell_type": "code",
   "execution_count": 10,
   "metadata": {
    "collapsed": false
   },
   "outputs": [
    {
     "data": {
      "text/plain": [
       "[0, 1, 0, 1, 0, 0, 0, 1, 0, 0, 1, 0, 1, 1, 1, 0, 1, 1, 0, 1]"
      ]
     },
     "execution_count": 10,
     "metadata": {},
     "output_type": "execute_result"
    }
   ],
   "source": [
    "# Kopie aus dem Wurzelvektor, mit einer Wahrscheinlichkeit der Merkmalsveränderung von p=0.015 für das Merkmal 0 und prob=0.3 für 1 (Verhältnis: 1/95)\n",
    "p=0.06\n",
    "q=0.3\n",
    "ModelKopie(NM,p,q)"
   ]
  },
  {
   "cell_type": "markdown",
   "metadata": {},
   "source": [
    "# Generierung von Kopierbäumen, mit Aufzeichnung der Kopierpaare\n",
    "\n",
    "Baut einen direkted graph auf mittels NetworkX Bibliothek."
   ]
  },
  {
   "cell_type": "code",
   "execution_count": 11,
   "metadata": {
    "collapsed": false
   },
   "outputs": [],
   "source": [
    "# dictionary mit allen objekten ID:Merkmalsvektor\n",
    "d={0:NM}\n",
    "#paare=[]\n",
    "G=pgv.AGraph(compound=True,directed=True)  \n",
    "for i in range(1,NTexte):\n",
    "    # Zufallsauswahl eines Textes\n",
    "    pos=randrange(len(d))\n",
    "    Tsel=d[pos]\n",
    "    # Kopie des ausgewählen Textes, d[i] ist Merkmalsvektor des i-ten Objekts\n",
    "    d[i]=ModelKopie(Tsel,p,q)\n",
    "    # Kopierpaare\n",
    "    #paare.append({pos:i})\n",
    "    # Aufbau des Graphen, nodes are not needed when added with edge\n",
    "    # G.add_node(pos)\n",
    "    # G.add_node(i)\n",
    "    G.add_edge(pos,i)"
   ]
  },
  {
   "cell_type": "markdown",
   "metadata": {
    "collapsed": true
   },
   "source": [
    "Um die trainierten Klassifizierer zu testen, generieren wir einen neuen Kopierbaum aus einer anderen Wurzel."
   ]
  },
  {
   "cell_type": "code",
   "execution_count": 12,
   "metadata": {
    "collapsed": false
   },
   "outputs": [],
   "source": [
    "test_d={0:NM2}\n",
    "#paare=[]\n",
    "G_test=pgv.AGraph(compound=True,directed=True)  \n",
    "for i in range(1,NTexte):\n",
    "    # Zufallsauswahl eines Textes\n",
    "    pos=randrange(len(test_d))\n",
    "    Tsel=test_d[pos]\n",
    "    # Kopie des ausgewählen Textes, d[i] ist Merkmalsvektor des i-ten Objekts\n",
    "    test_d[i]=ModelKopie(Tsel,p,q)\n",
    "    # Kopierpaare\n",
    "    #paare.append({pos:i})\n",
    "    # Aufbau des Graphen, nodes are not needed when added with edge\n",
    "    # G.add_node(pos)\n",
    "    # G.add_node(i)\n",
    "    G_test.add_edge(pos,i)"
   ]
  },
  {
   "cell_type": "code",
   "execution_count": 13,
   "metadata": {
    "collapsed": false
   },
   "outputs": [
    {
     "data": {
      "text/plain": [
       "[0, 1, 1, 1, 0, 0, 1, 1, 0, 0, 0, 0, 1, 1, 1, 0, 1, 1, 0, 1]"
      ]
     },
     "execution_count": 13,
     "metadata": {},
     "output_type": "execute_result"
    }
   ],
   "source": [
    "# das dict aller Objekte mit Merkmalsvektoren ist d\n",
    "d[0]"
   ]
  },
  {
   "cell_type": "code",
   "execution_count": 14,
   "metadata": {
    "collapsed": false
   },
   "outputs": [
    {
     "data": {
      "text/plain": [
       "dict_keys([0, 1, 2, 3, 4, 5, 6, 7, 8, 9, 10, 11, 12, 13, 14])"
      ]
     },
     "execution_count": 14,
     "metadata": {},
     "output_type": "execute_result"
    }
   ],
   "source": [
    "d.keys()"
   ]
  },
  {
   "cell_type": "code",
   "execution_count": 15,
   "metadata": {
    "collapsed": false
   },
   "outputs": [
    {
     "data": {
      "text/plain": [
       "[('0', '1'),\n",
       " ('0', '4'),\n",
       " ('0', '6'),\n",
       " ('0', '9'),\n",
       " ('1', '2'),\n",
       " ('1', '3'),\n",
       " ('2', '10'),\n",
       " ('4', '5'),\n",
       " ('4', '13'),\n",
       " ('5', '7')]"
      ]
     },
     "execution_count": 15,
     "metadata": {},
     "output_type": "execute_result"
    }
   ],
   "source": [
    "# die gerichteten Kanten sind\n",
    "Kanten=G.edges()\n",
    "Kanten[:10]"
   ]
  },
  {
   "cell_type": "code",
   "execution_count": 16,
   "metadata": {
    "collapsed": true
   },
   "outputs": [],
   "source": [
    "G.draw('g.png',prog='dot')"
   ]
  },
  {
   "cell_type": "code",
   "execution_count": 17,
   "metadata": {
    "collapsed": true
   },
   "outputs": [],
   "source": [
    "G_test.draw('g_test.png',prog='dot')"
   ]
  },
  {
   "cell_type": "code",
   "execution_count": 18,
   "metadata": {
    "collapsed": false
   },
   "outputs": [
    {
     "data": {
      "text/html": [
       "<iframe src=g.png width=50% height=400></iframe><iframe src=g_test.png width=50% height=400></iframe>"
      ],
      "text/plain": [
       "<IPython.core.display.HTML object>"
      ]
     },
     "execution_count": 18,
     "metadata": {},
     "output_type": "execute_result"
    }
   ],
   "source": [
    "show2images(['g.png','g_test.png'],50)"
   ]
  },
  {
   "cell_type": "markdown",
   "metadata": {},
   "source": [
    "# Klassifikationsaufgabe\n",
    "\n",
    "Klassifikationsaufgaben besteht darin, aus den möglichen Kombinationen aller Knoten die gerichteten Kanten zu identifizieren. Die Lernmenge für  die Klassifikation wird deshalb darin bestehen, aus der Menge der Kombinationen solche Label mit einer direkten Verbindung mit einer eins zu kennzeichnen, während alle anderen Kombinationen eine null erhalten.\n",
    "\n",
    "Die Merkmale für die Klassifikation besteht aus der Differenz der Merkmalvektor beider gerichteter Paare. Es ergeben sich insgesamt vier Werte, die für jedes Merkmal berechnet werden müssen.\n",
    "\n",
    "In der Liste Kanten sind alle Kanten. Die Merkmalliste der Objekte haben alle die gleiche Länge. Die Menge alle betrachteten möglichen Kopierpaare ist die Kombination der Objekte mit allen anderen ausser sich selbst. Bei n Objekten ergeben sich somit n*(n-1) Paare."
   ]
  },
  {
   "cell_type": "code",
   "execution_count": 19,
   "metadata": {
    "collapsed": true
   },
   "outputs": [],
   "source": [
    "def diffv(d,i,j): # vergleich zweier Merkmalsvektoren i und j\n",
    "    d1=d[i] # vektor des ersten objekts\n",
    "    d2=d[j] # vektor des zweiten objekts\n",
    "    diffv1=[]\n",
    "    for u in range(len(d1)): # vergleich der Vektoren\n",
    "        if d1[u]==0 and d2[u]==0:\n",
    "            dv=0\n",
    "        if d1[u]==1 and d2[u]==0:\n",
    "            dv=1\n",
    "        if d1[u]==0 and d2[u]==1:\n",
    "            dv=2\n",
    "        if d1[u]==1 and d2[u]==1:\n",
    "            dv=3\n",
    "        diffv1.append(dv)\n",
    "    return(diffv1)\n",
    "\n",
    "def categorie(i,j,Kanten):\n",
    "    if (str(i),str(j)) in Kanten:\n",
    "        res = 1\n",
    "    elif (str(j),str(i)) in Kanten:\n",
    "        res = 2\n",
    "    else:\n",
    "        res = 0\n",
    "    return res\n",
    "\n",
    "def Vergleich(d,i,j,Kanten): # vergleich zweier Objekte\n",
    "    dd=(i,j,diffv(d,i,j),categorie(i,j,Kanten))\n",
    "    return(dd)"
   ]
  },
  {
   "cell_type": "code",
   "execution_count": 20,
   "metadata": {
    "collapsed": false
   },
   "outputs": [],
   "source": [
    "l=[]\n",
    "for j in range(len(d)):\n",
    "    for k in range(len(d)):\n",
    "        if k!=j:\n",
    "            l.append(Vergleich(d,j,k,Kanten))"
   ]
  },
  {
   "cell_type": "markdown",
   "metadata": {},
   "source": [
    "Um die Qualität des Klassifierers zu testen, benötigen wir einen zweiten Kopierbaum aus einer anderen Wurzel. Mit diesem können wir dann überprüfen, ob Knoten in untrainierten Daten gefunden werden."
   ]
  },
  {
   "cell_type": "code",
   "execution_count": 21,
   "metadata": {
    "collapsed": false
   },
   "outputs": [],
   "source": [
    "test_l = []\n",
    "for j in range(len(test_d)):\n",
    "    for k in range(len(test_d)):\n",
    "        if k!=j:\n",
    "            test_l.append(Vergleich(test_d,j,k,Kanten))"
   ]
  },
  {
   "cell_type": "code",
   "execution_count": 22,
   "metadata": {
    "collapsed": false
   },
   "outputs": [],
   "source": [
    "dfTest = pd.DataFrame(test_l)\n",
    "dfTest = dfTest.rename(columns={0:'dia1',1:'dia2',2:'diff', 3:'kopie'})"
   ]
  },
  {
   "cell_type": "code",
   "execution_count": 23,
   "metadata": {
    "collapsed": false
   },
   "outputs": [],
   "source": [
    "diffTest = dfTest['diff'].apply(pd.Series)"
   ]
  },
  {
   "cell_type": "code",
   "execution_count": 24,
   "metadata": {
    "collapsed": false
   },
   "outputs": [],
   "source": [
    "dfTestAlgo = dfTest.merge(diffTest,left_index=True, right_index=True, how='outer')\n",
    "dfTestAlgo = dfTestAlgo.drop('diff',axis=1)"
   ]
  },
  {
   "cell_type": "code",
   "execution_count": 25,
   "metadata": {
    "collapsed": true
   },
   "outputs": [],
   "source": [
    "dfKanT= list(zip(dfTestAlgo['dia1'],dfTestAlgo['dia2']))\n",
    "dfKanT = pd.DataFrame([dfKanT]).transpose().rename(columns={0:'Kanten'})\n",
    "preT = dfKanT.to_dict()\n",
    "\n",
    "index2kantenTest = preT['Kanten']"
   ]
  },
  {
   "cell_type": "code",
   "execution_count": 26,
   "metadata": {
    "collapsed": false
   },
   "outputs": [],
   "source": [
    "XT = dfTestAlgo.drop('kopie',axis=1).drop('dia1',axis=1).drop('dia2',axis=1)"
   ]
  },
  {
   "cell_type": "code",
   "execution_count": 27,
   "metadata": {
    "collapsed": false
   },
   "outputs": [],
   "source": [
    "yT = dfTestAlgo['kopie']"
   ]
  },
  {
   "cell_type": "markdown",
   "metadata": {},
   "source": [
    "## Datensatz erstellen"
   ]
  },
  {
   "cell_type": "code",
   "execution_count": 28,
   "metadata": {
    "collapsed": false
   },
   "outputs": [
    {
     "data": {
      "text/html": [
       "<div>\n",
       "<table border=\"1\" class=\"dataframe\">\n",
       "  <thead>\n",
       "    <tr style=\"text-align: right;\">\n",
       "      <th></th>\n",
       "      <th>dia1</th>\n",
       "      <th>dia2</th>\n",
       "      <th>diff</th>\n",
       "      <th>kopie</th>\n",
       "    </tr>\n",
       "  </thead>\n",
       "  <tbody>\n",
       "    <tr>\n",
       "      <th>0</th>\n",
       "      <td>0</td>\n",
       "      <td>1</td>\n",
       "      <td>[0, 3, 3, 1, 0, 0, 3, 3, 0, 2, 0, 2, 3, 3, 3, ...</td>\n",
       "      <td>1</td>\n",
       "    </tr>\n",
       "    <tr>\n",
       "      <th>1</th>\n",
       "      <td>0</td>\n",
       "      <td>2</td>\n",
       "      <td>[0, 1, 3, 1, 0, 0, 3, 3, 0, 2, 0, 2, 3, 3, 1, ...</td>\n",
       "      <td>0</td>\n",
       "    </tr>\n",
       "    <tr>\n",
       "      <th>2</th>\n",
       "      <td>0</td>\n",
       "      <td>3</td>\n",
       "      <td>[0, 3, 3, 1, 0, 0, 3, 3, 0, 2, 0, 2, 3, 3, 3, ...</td>\n",
       "      <td>0</td>\n",
       "    </tr>\n",
       "  </tbody>\n",
       "</table>\n",
       "</div>"
      ],
      "text/plain": [
       "   dia1  dia2                                               diff  kopie\n",
       "0     0     1  [0, 3, 3, 1, 0, 0, 3, 3, 0, 2, 0, 2, 3, 3, 3, ...      1\n",
       "1     0     2  [0, 1, 3, 1, 0, 0, 3, 3, 0, 2, 0, 2, 3, 3, 1, ...      0\n",
       "2     0     3  [0, 3, 3, 1, 0, 0, 3, 3, 0, 2, 0, 2, 3, 3, 3, ...      0"
      ]
     },
     "execution_count": 28,
     "metadata": {},
     "output_type": "execute_result"
    }
   ],
   "source": [
    "df = pd.DataFrame(l)\n",
    "df = df.rename(columns={0:'dia1',1:'dia2',2:'diff', 3:'kopie'})\n",
    "df.head(3)"
   ]
  },
  {
   "cell_type": "code",
   "execution_count": 29,
   "metadata": {
    "collapsed": false
   },
   "outputs": [
    {
     "data": {
      "text/html": [
       "<div>\n",
       "<table border=\"1\" class=\"dataframe\">\n",
       "  <thead>\n",
       "    <tr style=\"text-align: right;\">\n",
       "      <th></th>\n",
       "      <th>0</th>\n",
       "      <th>1</th>\n",
       "      <th>2</th>\n",
       "      <th>3</th>\n",
       "      <th>4</th>\n",
       "      <th>5</th>\n",
       "      <th>6</th>\n",
       "      <th>7</th>\n",
       "      <th>8</th>\n",
       "      <th>9</th>\n",
       "      <th>10</th>\n",
       "      <th>11</th>\n",
       "      <th>12</th>\n",
       "      <th>13</th>\n",
       "      <th>14</th>\n",
       "      <th>15</th>\n",
       "      <th>16</th>\n",
       "      <th>17</th>\n",
       "      <th>18</th>\n",
       "      <th>19</th>\n",
       "    </tr>\n",
       "  </thead>\n",
       "  <tbody>\n",
       "    <tr>\n",
       "      <th>0</th>\n",
       "      <td>0</td>\n",
       "      <td>3</td>\n",
       "      <td>3</td>\n",
       "      <td>1</td>\n",
       "      <td>0</td>\n",
       "      <td>0</td>\n",
       "      <td>3</td>\n",
       "      <td>3</td>\n",
       "      <td>0</td>\n",
       "      <td>2</td>\n",
       "      <td>0</td>\n",
       "      <td>2</td>\n",
       "      <td>3</td>\n",
       "      <td>3</td>\n",
       "      <td>3</td>\n",
       "      <td>0</td>\n",
       "      <td>3</td>\n",
       "      <td>1</td>\n",
       "      <td>0</td>\n",
       "      <td>3</td>\n",
       "    </tr>\n",
       "    <tr>\n",
       "      <th>1</th>\n",
       "      <td>0</td>\n",
       "      <td>1</td>\n",
       "      <td>3</td>\n",
       "      <td>1</td>\n",
       "      <td>0</td>\n",
       "      <td>0</td>\n",
       "      <td>3</td>\n",
       "      <td>3</td>\n",
       "      <td>0</td>\n",
       "      <td>2</td>\n",
       "      <td>0</td>\n",
       "      <td>2</td>\n",
       "      <td>3</td>\n",
       "      <td>3</td>\n",
       "      <td>1</td>\n",
       "      <td>0</td>\n",
       "      <td>3</td>\n",
       "      <td>1</td>\n",
       "      <td>0</td>\n",
       "      <td>3</td>\n",
       "    </tr>\n",
       "    <tr>\n",
       "      <th>2</th>\n",
       "      <td>0</td>\n",
       "      <td>3</td>\n",
       "      <td>3</td>\n",
       "      <td>1</td>\n",
       "      <td>0</td>\n",
       "      <td>0</td>\n",
       "      <td>3</td>\n",
       "      <td>3</td>\n",
       "      <td>0</td>\n",
       "      <td>2</td>\n",
       "      <td>0</td>\n",
       "      <td>2</td>\n",
       "      <td>3</td>\n",
       "      <td>3</td>\n",
       "      <td>3</td>\n",
       "      <td>0</td>\n",
       "      <td>3</td>\n",
       "      <td>1</td>\n",
       "      <td>0</td>\n",
       "      <td>1</td>\n",
       "    </tr>\n",
       "  </tbody>\n",
       "</table>\n",
       "</div>"
      ],
      "text/plain": [
       "   0   1   2   3   4   5   6   7   8   9   10  11  12  13  14  15  16  17  18  \\\n",
       "0   0   3   3   1   0   0   3   3   0   2   0   2   3   3   3   0   3   1   0   \n",
       "1   0   1   3   1   0   0   3   3   0   2   0   2   3   3   1   0   3   1   0   \n",
       "2   0   3   3   1   0   0   3   3   0   2   0   2   3   3   3   0   3   1   0   \n",
       "\n",
       "   19  \n",
       "0   3  \n",
       "1   3  \n",
       "2   1  "
      ]
     },
     "execution_count": 29,
     "metadata": {},
     "output_type": "execute_result"
    }
   ],
   "source": [
    "diff = df['diff'].apply(pd.Series)\n",
    "diff.head(3)"
   ]
  },
  {
   "cell_type": "code",
   "execution_count": 30,
   "metadata": {
    "collapsed": false
   },
   "outputs": [
    {
     "data": {
      "text/html": [
       "<div>\n",
       "<table border=\"1\" class=\"dataframe\">\n",
       "  <thead>\n",
       "    <tr style=\"text-align: right;\">\n",
       "      <th></th>\n",
       "      <th>dia1</th>\n",
       "      <th>dia2</th>\n",
       "      <th>kopie</th>\n",
       "      <th>0</th>\n",
       "      <th>1</th>\n",
       "      <th>2</th>\n",
       "      <th>3</th>\n",
       "      <th>4</th>\n",
       "      <th>5</th>\n",
       "      <th>6</th>\n",
       "      <th>...</th>\n",
       "      <th>10</th>\n",
       "      <th>11</th>\n",
       "      <th>12</th>\n",
       "      <th>13</th>\n",
       "      <th>14</th>\n",
       "      <th>15</th>\n",
       "      <th>16</th>\n",
       "      <th>17</th>\n",
       "      <th>18</th>\n",
       "      <th>19</th>\n",
       "    </tr>\n",
       "  </thead>\n",
       "  <tbody>\n",
       "    <tr>\n",
       "      <th>0</th>\n",
       "      <td>0</td>\n",
       "      <td>1</td>\n",
       "      <td>1</td>\n",
       "      <td>0</td>\n",
       "      <td>3</td>\n",
       "      <td>3</td>\n",
       "      <td>1</td>\n",
       "      <td>0</td>\n",
       "      <td>0</td>\n",
       "      <td>3</td>\n",
       "      <td>...</td>\n",
       "      <td>0</td>\n",
       "      <td>2</td>\n",
       "      <td>3</td>\n",
       "      <td>3</td>\n",
       "      <td>3</td>\n",
       "      <td>0</td>\n",
       "      <td>3</td>\n",
       "      <td>1</td>\n",
       "      <td>0</td>\n",
       "      <td>3</td>\n",
       "    </tr>\n",
       "    <tr>\n",
       "      <th>1</th>\n",
       "      <td>0</td>\n",
       "      <td>2</td>\n",
       "      <td>0</td>\n",
       "      <td>0</td>\n",
       "      <td>1</td>\n",
       "      <td>3</td>\n",
       "      <td>1</td>\n",
       "      <td>0</td>\n",
       "      <td>0</td>\n",
       "      <td>3</td>\n",
       "      <td>...</td>\n",
       "      <td>0</td>\n",
       "      <td>2</td>\n",
       "      <td>3</td>\n",
       "      <td>3</td>\n",
       "      <td>1</td>\n",
       "      <td>0</td>\n",
       "      <td>3</td>\n",
       "      <td>1</td>\n",
       "      <td>0</td>\n",
       "      <td>3</td>\n",
       "    </tr>\n",
       "    <tr>\n",
       "      <th>2</th>\n",
       "      <td>0</td>\n",
       "      <td>3</td>\n",
       "      <td>0</td>\n",
       "      <td>0</td>\n",
       "      <td>3</td>\n",
       "      <td>3</td>\n",
       "      <td>1</td>\n",
       "      <td>0</td>\n",
       "      <td>0</td>\n",
       "      <td>3</td>\n",
       "      <td>...</td>\n",
       "      <td>0</td>\n",
       "      <td>2</td>\n",
       "      <td>3</td>\n",
       "      <td>3</td>\n",
       "      <td>3</td>\n",
       "      <td>0</td>\n",
       "      <td>3</td>\n",
       "      <td>1</td>\n",
       "      <td>0</td>\n",
       "      <td>1</td>\n",
       "    </tr>\n",
       "  </tbody>\n",
       "</table>\n",
       "<p>3 rows × 23 columns</p>\n",
       "</div>"
      ],
      "text/plain": [
       "   dia1  dia2  kopie  0  1  2  3  4  5  6 ...  10  11  12  13  14  15  16  17  \\\n",
       "0     0     1      1  0  3  3  1  0  0  3 ...   0   2   3   3   3   0   3   1   \n",
       "1     0     2      0  0  1  3  1  0  0  3 ...   0   2   3   3   1   0   3   1   \n",
       "2     0     3      0  0  3  3  1  0  0  3 ...   0   2   3   3   3   0   3   1   \n",
       "\n",
       "   18  19  \n",
       "0   0   3  \n",
       "1   0   3  \n",
       "2   0   1  \n",
       "\n",
       "[3 rows x 23 columns]"
      ]
     },
     "execution_count": 30,
     "metadata": {},
     "output_type": "execute_result"
    }
   ],
   "source": [
    "dfTrain = df.merge(diff,left_index=True, right_index=True, how='outer')\n",
    "dfTrain = dfTrain.drop('diff',axis=1)\n",
    "dfTrain.head(3)"
   ]
  },
  {
   "cell_type": "markdown",
   "metadata": {},
   "source": [
    "# ML\n",
    "\n",
    "* Aufteilung der Simulationsklasse\n",
    "* Lernen\n",
    "* Vorhersagen\n",
    "* Bewerten\n",
    "* Crossvalidation"
   ]
  },
  {
   "cell_type": "markdown",
   "metadata": {},
   "source": [
    "## Trainings- und Test-Datensatz erstellen\n"
   ]
  },
  {
   "cell_type": "markdown",
   "metadata": {},
   "source": [
    "Zur Rekonstruktion der Baumstruktur generieren wir ein Dict aller möglicher Kanten. Später wird das mit den vorhergesagten Kanten verglichen und daraus eine Baumdarstellung generiert. "
   ]
  },
  {
   "cell_type": "code",
   "execution_count": 31,
   "metadata": {
    "collapsed": false
   },
   "outputs": [],
   "source": [
    "dfKan= list(zip(dfTrain['dia1'],dfTrain['dia2']))\n",
    "dfKan = pd.DataFrame([dfKan]).transpose().rename(columns={0:'Kanten'})\n",
    "pre = dfKan.to_dict()\n",
    "index2kanten = pre['Kanten']"
   ]
  },
  {
   "cell_type": "markdown",
   "metadata": {},
   "source": [
    "Das Ziel des Trainings ist es, zu entscheiden, ob eine Kopierbeziehung vorliegt oder nicht. Daher trennen wir die Spalte mit der Einordnung ob eine Kopie vorliegt oder nicht, als Label-Vektor ab."
   ]
  },
  {
   "cell_type": "code",
   "execution_count": 32,
   "metadata": {
    "collapsed": false
   },
   "outputs": [
    {
     "data": {
      "text/plain": [
       "0    1\n",
       "1    0\n",
       "2    0\n",
       "3    1\n",
       "4    0\n",
       "Name: kopie, dtype: int64"
      ]
     },
     "execution_count": 32,
     "metadata": {},
     "output_type": "execute_result"
    }
   ],
   "source": [
    "y = dfTrain['kopie']\n",
    "y.head()"
   ]
  },
  {
   "cell_type": "markdown",
   "metadata": {},
   "source": [
    "Da die Namen der Vektoren für die Klassifizierung nicht von Bedeutung sind, schneiden wir diese Spalten ab."
   ]
  },
  {
   "cell_type": "code",
   "execution_count": 33,
   "metadata": {
    "collapsed": false
   },
   "outputs": [
    {
     "data": {
      "text/html": [
       "<div>\n",
       "<table border=\"1\" class=\"dataframe\">\n",
       "  <thead>\n",
       "    <tr style=\"text-align: right;\">\n",
       "      <th></th>\n",
       "      <th>0</th>\n",
       "      <th>1</th>\n",
       "      <th>2</th>\n",
       "      <th>3</th>\n",
       "      <th>4</th>\n",
       "      <th>5</th>\n",
       "      <th>6</th>\n",
       "      <th>7</th>\n",
       "      <th>8</th>\n",
       "      <th>9</th>\n",
       "      <th>10</th>\n",
       "      <th>11</th>\n",
       "      <th>12</th>\n",
       "      <th>13</th>\n",
       "      <th>14</th>\n",
       "      <th>15</th>\n",
       "      <th>16</th>\n",
       "      <th>17</th>\n",
       "      <th>18</th>\n",
       "      <th>19</th>\n",
       "    </tr>\n",
       "  </thead>\n",
       "  <tbody>\n",
       "    <tr>\n",
       "      <th>0</th>\n",
       "      <td>0</td>\n",
       "      <td>3</td>\n",
       "      <td>3</td>\n",
       "      <td>1</td>\n",
       "      <td>0</td>\n",
       "      <td>0</td>\n",
       "      <td>3</td>\n",
       "      <td>3</td>\n",
       "      <td>0</td>\n",
       "      <td>2</td>\n",
       "      <td>0</td>\n",
       "      <td>2</td>\n",
       "      <td>3</td>\n",
       "      <td>3</td>\n",
       "      <td>3</td>\n",
       "      <td>0</td>\n",
       "      <td>3</td>\n",
       "      <td>1</td>\n",
       "      <td>0</td>\n",
       "      <td>3</td>\n",
       "    </tr>\n",
       "    <tr>\n",
       "      <th>1</th>\n",
       "      <td>0</td>\n",
       "      <td>1</td>\n",
       "      <td>3</td>\n",
       "      <td>1</td>\n",
       "      <td>0</td>\n",
       "      <td>0</td>\n",
       "      <td>3</td>\n",
       "      <td>3</td>\n",
       "      <td>0</td>\n",
       "      <td>2</td>\n",
       "      <td>0</td>\n",
       "      <td>2</td>\n",
       "      <td>3</td>\n",
       "      <td>3</td>\n",
       "      <td>1</td>\n",
       "      <td>0</td>\n",
       "      <td>3</td>\n",
       "      <td>1</td>\n",
       "      <td>0</td>\n",
       "      <td>3</td>\n",
       "    </tr>\n",
       "    <tr>\n",
       "      <th>2</th>\n",
       "      <td>0</td>\n",
       "      <td>3</td>\n",
       "      <td>3</td>\n",
       "      <td>1</td>\n",
       "      <td>0</td>\n",
       "      <td>0</td>\n",
       "      <td>3</td>\n",
       "      <td>3</td>\n",
       "      <td>0</td>\n",
       "      <td>2</td>\n",
       "      <td>0</td>\n",
       "      <td>2</td>\n",
       "      <td>3</td>\n",
       "      <td>3</td>\n",
       "      <td>3</td>\n",
       "      <td>0</td>\n",
       "      <td>3</td>\n",
       "      <td>1</td>\n",
       "      <td>0</td>\n",
       "      <td>1</td>\n",
       "    </tr>\n",
       "  </tbody>\n",
       "</table>\n",
       "</div>"
      ],
      "text/plain": [
       "   0   1   2   3   4   5   6   7   8   9   10  11  12  13  14  15  16  17  18  \\\n",
       "0   0   3   3   1   0   0   3   3   0   2   0   2   3   3   3   0   3   1   0   \n",
       "1   0   1   3   1   0   0   3   3   0   2   0   2   3   3   1   0   3   1   0   \n",
       "2   0   3   3   1   0   0   3   3   0   2   0   2   3   3   3   0   3   1   0   \n",
       "\n",
       "   19  \n",
       "0   3  \n",
       "1   3  \n",
       "2   1  "
      ]
     },
     "execution_count": 33,
     "metadata": {},
     "output_type": "execute_result"
    }
   ],
   "source": [
    "X = dfTrain.drop('kopie',axis=1).drop('dia1',axis=1).drop('dia2',axis=1)\n",
    "X.head(3)"
   ]
  },
  {
   "cell_type": "markdown",
   "metadata": {},
   "source": [
    "### Balanced datasets\n",
    "\n",
    "Einige Algorithmen benötigen für das Lernen einen Datensatz mit ausgeglichener Anzahl von Samples für jede Ziel-Klasse (0,1,2). Dieses wird hier erzeugt"
   ]
  },
  {
   "cell_type": "code",
   "execution_count": 74,
   "metadata": {
    "collapsed": false
   },
   "outputs": [],
   "source": [
    "dfsample_1_2 = dfTrain[(dfTrain['kopie'] == 1) | (dfTrain['kopie'] == 2)]"
   ]
  },
  {
   "cell_type": "code",
   "execution_count": 75,
   "metadata": {
    "collapsed": true
   },
   "outputs": [],
   "source": [
    "dfsample_0 = dfTrain[dfTrain['kopie'] == 0].sample(frac=1).iloc[0:len(dfsample_1_2)]"
   ]
  },
  {
   "cell_type": "code",
   "execution_count": 76,
   "metadata": {
    "collapsed": false
   },
   "outputs": [],
   "source": [
    "dfTrain_balanced = pd.concat([dfsample_1_2,dfsample_0]).sample(frac=1)"
   ]
  },
  {
   "cell_type": "code",
   "execution_count": 83,
   "metadata": {
    "collapsed": false
   },
   "outputs": [
    {
     "data": {
      "text/plain": [
       "29     2\n",
       "0      1\n",
       "114    0\n",
       "Name: kopie, dtype: int64"
      ]
     },
     "execution_count": 83,
     "metadata": {},
     "output_type": "execute_result"
    }
   ],
   "source": [
    "y_balanced = dfTrain_balanced['kopie']\n",
    "y_balanced.head(3)"
   ]
  },
  {
   "cell_type": "code",
   "execution_count": 84,
   "metadata": {
    "collapsed": false
   },
   "outputs": [
    {
     "data": {
      "text/html": [
       "<div>\n",
       "<table border=\"1\" class=\"dataframe\">\n",
       "  <thead>\n",
       "    <tr style=\"text-align: right;\">\n",
       "      <th></th>\n",
       "      <th>0</th>\n",
       "      <th>1</th>\n",
       "      <th>2</th>\n",
       "      <th>3</th>\n",
       "      <th>4</th>\n",
       "      <th>5</th>\n",
       "      <th>6</th>\n",
       "      <th>7</th>\n",
       "      <th>8</th>\n",
       "      <th>9</th>\n",
       "      <th>10</th>\n",
       "      <th>11</th>\n",
       "      <th>12</th>\n",
       "      <th>13</th>\n",
       "      <th>14</th>\n",
       "      <th>15</th>\n",
       "      <th>16</th>\n",
       "      <th>17</th>\n",
       "      <th>18</th>\n",
       "      <th>19</th>\n",
       "    </tr>\n",
       "  </thead>\n",
       "  <tbody>\n",
       "    <tr>\n",
       "      <th>29</th>\n",
       "      <td>0</td>\n",
       "      <td>2</td>\n",
       "      <td>3</td>\n",
       "      <td>0</td>\n",
       "      <td>0</td>\n",
       "      <td>0</td>\n",
       "      <td>3</td>\n",
       "      <td>3</td>\n",
       "      <td>0</td>\n",
       "      <td>3</td>\n",
       "      <td>0</td>\n",
       "      <td>3</td>\n",
       "      <td>3</td>\n",
       "      <td>3</td>\n",
       "      <td>2</td>\n",
       "      <td>0</td>\n",
       "      <td>3</td>\n",
       "      <td>0</td>\n",
       "      <td>0</td>\n",
       "      <td>3</td>\n",
       "    </tr>\n",
       "    <tr>\n",
       "      <th>0</th>\n",
       "      <td>0</td>\n",
       "      <td>3</td>\n",
       "      <td>3</td>\n",
       "      <td>1</td>\n",
       "      <td>0</td>\n",
       "      <td>0</td>\n",
       "      <td>3</td>\n",
       "      <td>3</td>\n",
       "      <td>0</td>\n",
       "      <td>2</td>\n",
       "      <td>0</td>\n",
       "      <td>2</td>\n",
       "      <td>3</td>\n",
       "      <td>3</td>\n",
       "      <td>3</td>\n",
       "      <td>0</td>\n",
       "      <td>3</td>\n",
       "      <td>1</td>\n",
       "      <td>0</td>\n",
       "      <td>3</td>\n",
       "    </tr>\n",
       "    <tr>\n",
       "      <th>114</th>\n",
       "      <td>0</td>\n",
       "      <td>0</td>\n",
       "      <td>2</td>\n",
       "      <td>0</td>\n",
       "      <td>0</td>\n",
       "      <td>0</td>\n",
       "      <td>2</td>\n",
       "      <td>2</td>\n",
       "      <td>0</td>\n",
       "      <td>2</td>\n",
       "      <td>0</td>\n",
       "      <td>2</td>\n",
       "      <td>2</td>\n",
       "      <td>2</td>\n",
       "      <td>0</td>\n",
       "      <td>0</td>\n",
       "      <td>2</td>\n",
       "      <td>0</td>\n",
       "      <td>0</td>\n",
       "      <td>3</td>\n",
       "    </tr>\n",
       "  </tbody>\n",
       "</table>\n",
       "</div>"
      ],
      "text/plain": [
       "     0   1   2   3   4   5   6   7   8   9   10  11  12  13  14  15  16  17  \\\n",
       "29    0   2   3   0   0   0   3   3   0   3   0   3   3   3   2   0   3   0   \n",
       "0     0   3   3   1   0   0   3   3   0   2   0   2   3   3   3   0   3   1   \n",
       "114   0   0   2   0   0   0   2   2   0   2   0   2   2   2   0   0   2   0   \n",
       "\n",
       "     18  19  \n",
       "29    0   3  \n",
       "0     0   3  \n",
       "114   0   3  "
      ]
     },
     "execution_count": 84,
     "metadata": {},
     "output_type": "execute_result"
    }
   ],
   "source": [
    "X_balanced = dfTrain_balanced.drop('kopie',axis=1).drop('dia1',axis=1).drop('dia2',axis=1)\n",
    "X_balanced.head(3)"
   ]
  },
  {
   "cell_type": "markdown",
   "metadata": {},
   "source": [
    "### Aufteilen in Training- und Test-Set"
   ]
  },
  {
   "cell_type": "markdown",
   "metadata": {},
   "source": [
    "Die Routine train_test_split trennt den vollen Datensatz in Trainings und Test-Datensätze X mit den jeweiligen Label-Vektoren y ab."
   ]
  },
  {
   "cell_type": "code",
   "execution_count": 39,
   "metadata": {
    "collapsed": false
   },
   "outputs": [],
   "source": [
    "X_train, X_test, y_train, y_test = train_test_split(X,y,test_size=0.3)"
   ]
  },
  {
   "cell_type": "code",
   "execution_count": 40,
   "metadata": {
    "collapsed": false
   },
   "outputs": [
    {
     "data": {
      "text/plain": [
       "(147, 20)"
      ]
     },
     "execution_count": 40,
     "metadata": {},
     "output_type": "execute_result"
    }
   ],
   "source": [
    "X_train.shape"
   ]
  },
  {
   "cell_type": "markdown",
   "metadata": {},
   "source": [
    "Das Trainingsset hat jetzt keine geordneten Index mehr."
   ]
  },
  {
   "cell_type": "code",
   "execution_count": 41,
   "metadata": {
    "collapsed": false
   },
   "outputs": [
    {
     "data": {
      "text/html": [
       "<div>\n",
       "<table border=\"1\" class=\"dataframe\">\n",
       "  <thead>\n",
       "    <tr style=\"text-align: right;\">\n",
       "      <th></th>\n",
       "      <th>0</th>\n",
       "      <th>1</th>\n",
       "      <th>2</th>\n",
       "      <th>3</th>\n",
       "      <th>4</th>\n",
       "      <th>5</th>\n",
       "      <th>6</th>\n",
       "      <th>7</th>\n",
       "      <th>8</th>\n",
       "      <th>9</th>\n",
       "      <th>10</th>\n",
       "      <th>11</th>\n",
       "      <th>12</th>\n",
       "      <th>13</th>\n",
       "      <th>14</th>\n",
       "      <th>15</th>\n",
       "      <th>16</th>\n",
       "      <th>17</th>\n",
       "      <th>18</th>\n",
       "      <th>19</th>\n",
       "    </tr>\n",
       "  </thead>\n",
       "  <tbody>\n",
       "    <tr>\n",
       "      <th>186</th>\n",
       "      <td>0</td>\n",
       "      <td>0</td>\n",
       "      <td>3</td>\n",
       "      <td>3</td>\n",
       "      <td>0</td>\n",
       "      <td>0</td>\n",
       "      <td>3</td>\n",
       "      <td>0</td>\n",
       "      <td>0</td>\n",
       "      <td>0</td>\n",
       "      <td>0</td>\n",
       "      <td>1</td>\n",
       "      <td>3</td>\n",
       "      <td>0</td>\n",
       "      <td>2</td>\n",
       "      <td>0</td>\n",
       "      <td>3</td>\n",
       "      <td>3</td>\n",
       "      <td>0</td>\n",
       "      <td>3</td>\n",
       "    </tr>\n",
       "    <tr>\n",
       "      <th>191</th>\n",
       "      <td>0</td>\n",
       "      <td>2</td>\n",
       "      <td>1</td>\n",
       "      <td>3</td>\n",
       "      <td>0</td>\n",
       "      <td>0</td>\n",
       "      <td>3</td>\n",
       "      <td>2</td>\n",
       "      <td>0</td>\n",
       "      <td>0</td>\n",
       "      <td>0</td>\n",
       "      <td>1</td>\n",
       "      <td>3</td>\n",
       "      <td>2</td>\n",
       "      <td>0</td>\n",
       "      <td>0</td>\n",
       "      <td>1</td>\n",
       "      <td>1</td>\n",
       "      <td>0</td>\n",
       "      <td>3</td>\n",
       "    </tr>\n",
       "    <tr>\n",
       "      <th>12</th>\n",
       "      <td>0</td>\n",
       "      <td>1</td>\n",
       "      <td>3</td>\n",
       "      <td>3</td>\n",
       "      <td>0</td>\n",
       "      <td>0</td>\n",
       "      <td>3</td>\n",
       "      <td>1</td>\n",
       "      <td>0</td>\n",
       "      <td>0</td>\n",
       "      <td>0</td>\n",
       "      <td>2</td>\n",
       "      <td>3</td>\n",
       "      <td>1</td>\n",
       "      <td>1</td>\n",
       "      <td>0</td>\n",
       "      <td>3</td>\n",
       "      <td>3</td>\n",
       "      <td>0</td>\n",
       "      <td>3</td>\n",
       "    </tr>\n",
       "  </tbody>\n",
       "</table>\n",
       "</div>"
      ],
      "text/plain": [
       "     0   1   2   3   4   5   6   7   8   9   10  11  12  13  14  15  16  17  \\\n",
       "186   0   0   3   3   0   0   3   0   0   0   0   1   3   0   2   0   3   3   \n",
       "191   0   2   1   3   0   0   3   2   0   0   0   1   3   2   0   0   1   1   \n",
       "12    0   1   3   3   0   0   3   1   0   0   0   2   3   1   1   0   3   3   \n",
       "\n",
       "     18  19  \n",
       "186   0   3  \n",
       "191   0   3  \n",
       "12    0   3  "
      ]
     },
     "execution_count": 41,
     "metadata": {},
     "output_type": "execute_result"
    }
   ],
   "source": [
    "X_train.head(3)"
   ]
  },
  {
   "cell_type": "code",
   "execution_count": 42,
   "metadata": {
    "collapsed": false
   },
   "outputs": [
    {
     "data": {
      "text/plain": [
       "(63, 20)"
      ]
     },
     "execution_count": 42,
     "metadata": {},
     "output_type": "execute_result"
    }
   ],
   "source": [
    "X_test.shape"
   ]
  },
  {
   "cell_type": "markdown",
   "metadata": {},
   "source": [
    "## k-nearest Neighbor Classifier\n",
    "\n",
    "Parameters and method definition : http://scikit-learn.org/stable/modules/generated/sklearn.neighbors.KNeighborsClassifier.html#sklearn.neighbors.KNeighborsClassifier"
   ]
  },
  {
   "cell_type": "code",
   "execution_count": 43,
   "metadata": {
    "collapsed": true
   },
   "outputs": [],
   "source": [
    "from sklearn.neighbors import KNeighborsClassifier"
   ]
  },
  {
   "cell_type": "markdown",
   "metadata": {},
   "source": [
    "Possible metrics include hamming,canberra, braycurtis for integer valued vectors."
   ]
  },
  {
   "cell_type": "code",
   "execution_count": 265,
   "metadata": {
    "collapsed": true
   },
   "outputs": [],
   "source": [
    "X_train, X_test, y_train, y_test = train_test_split(X,y,test_size=0.3)"
   ]
  },
  {
   "cell_type": "code",
   "execution_count": 266,
   "metadata": {
    "collapsed": false
   },
   "outputs": [
    {
     "data": {
      "text/plain": [
       "KNeighborsClassifier(algorithm='auto', leaf_size=25, metric='minkowski',\n",
       "           metric_params=None, n_jobs=1, n_neighbors=4, p=3,\n",
       "           weights='distance')"
      ]
     },
     "execution_count": 266,
     "metadata": {},
     "output_type": "execute_result"
    }
   ],
   "source": [
    "neigh = KNeighborsClassifier(n_neighbors=4, weights='distance',metric='minkowski',p=3,leaf_size=25)\n",
    "\n",
    "neigh.fit(X_train,y_train)"
   ]
  },
  {
   "cell_type": "code",
   "execution_count": 267,
   "metadata": {
    "collapsed": false
   },
   "outputs": [
    {
     "data": {
      "text/plain": [
       "0.15873015873015872"
      ]
     },
     "execution_count": 267,
     "metadata": {},
     "output_type": "execute_result"
    }
   ],
   "source": [
    "metrics.mean_absolute_error(y_test, neigh.predict(X_test))"
   ]
  },
  {
   "cell_type": "code",
   "execution_count": 268,
   "metadata": {
    "collapsed": false
   },
   "outputs": [],
   "source": [
    "scores_neigh = cross_val_score(neigh, X, y, cv=5)#,scoring='accuracy')"
   ]
  },
  {
   "cell_type": "code",
   "execution_count": 269,
   "metadata": {
    "collapsed": false
   },
   "outputs": [
    {
     "data": {
      "text/plain": [
       "array([ 0.86046512,  0.8372093 ,  0.83333333,  0.85714286,  0.825     ])"
      ]
     },
     "execution_count": 269,
     "metadata": {},
     "output_type": "execute_result"
    }
   ],
   "source": [
    "scores_neigh"
   ]
  },
  {
   "cell_type": "code",
   "execution_count": 270,
   "metadata": {
    "collapsed": false
   },
   "outputs": [
    {
     "name": "stdout",
     "output_type": "stream",
     "text": [
      "Accuracy: 0.84 (+/- 0.03)\n"
     ]
    }
   ],
   "source": [
    "print(\"Accuracy: %0.2f (+/- %0.2f)\" % (scores_neigh.mean(), scores_neigh.std() * 2))"
   ]
  },
  {
   "cell_type": "code",
   "execution_count": 271,
   "metadata": {
    "collapsed": false
   },
   "outputs": [
    {
     "name": "stdout",
     "output_type": "stream",
     "text": [
      "31\n"
     ]
    }
   ],
   "source": [
    "testNeigh=pgv.AGraph(compound=True,directed=True)  \n",
    "\n",
    "predictionSource = X\n",
    "dcIndex = predictionSource.index\n",
    "dictIndex = {i:dcIndex[i] for i in range(len(list(dcIndex)))}\n",
    "\n",
    "comp = neigh.predict(predictionSource)\n",
    "#comp = y\n",
    "print(comp.sum())\n",
    "\n",
    "for i in range(len(comp)):\n",
    "    if comp[i] == 1:\n",
    "        key1 = dictIndex[i]\n",
    "        testNeigh.add_edge(index2kanten[key1])\n",
    "    elif comp[i] == 2:\n",
    "        key1 = dictIndex[i]\n",
    "        order = index2kanten[key1]\n",
    "        testNeigh.add_edge((order[1],order[0]))\n",
    "    else:\n",
    "        pass"
   ]
  },
  {
   "cell_type": "code",
   "execution_count": 272,
   "metadata": {
    "collapsed": false
   },
   "outputs": [],
   "source": [
    "testNeigh.draw('testNeigh.png',prog='dot')"
   ]
  },
  {
   "cell_type": "code",
   "execution_count": 273,
   "metadata": {
    "collapsed": false
   },
   "outputs": [
    {
     "data": {
      "text/html": [
       "<iframe src=testNeigh.png width=50% height=400></iframe><iframe src=g.png width=50% height=400></iframe>"
      ],
      "text/plain": [
       "<IPython.core.display.HTML object>"
      ]
     },
     "execution_count": 273,
     "metadata": {},
     "output_type": "execute_result"
    }
   ],
   "source": [
    "show2images(['testNeigh.png','g.png'],50)"
   ]
  },
  {
   "cell_type": "markdown",
   "metadata": {},
   "source": [
    "### Nicht entscheidbare Fälle\n",
    "\n",
    "Bei manchen Graphen gibt Fälle von Kopierbeziehungen, bei denen der Algorithmus nicht entscheiden kann, welche Kopier-Richtung vorliegt.\n",
    "Dies ist mit zwei entgegengesezten Pfeilen kenntlich gemacht.\n",
    "Wir können uns die Wahrscheinlichkeiten des trainierten Modells mit neigh.predict_proba(X) ausgeben lassen."
   ]
  },
  {
   "cell_type": "code",
   "execution_count": 275,
   "metadata": {
    "collapsed": false
   },
   "outputs": [
    {
     "data": {
      "text/plain": [
       "[array([ 0.,  0.,  1.]), array([ 0.,  0.,  1.])]"
      ]
     },
     "execution_count": 275,
     "metadata": {},
     "output_type": "execute_result"
    }
   ],
   "source": [
    "crossProbabilities(neigh,X,7,8)"
   ]
  },
  {
   "cell_type": "markdown",
   "metadata": {},
   "source": [
    "Findet der Algorithmus für beide Richtunge eine 50/50 Wahrscheinlichkeit, liegen vermutlich identische Vektoren vor. Dies kann anhand des dictionaries der Vektoren überprüft werden.  "
   ]
  },
  {
   "cell_type": "code",
   "execution_count": 276,
   "metadata": {
    "collapsed": false
   },
   "outputs": [
    {
     "data": {
      "text/plain": [
       "[0, 0, 0, 0, 0, 0, 0, 0, 0, 0, 0, 0, 0, 0, 0, 0, 0, 0, 0, 1]"
      ]
     },
     "execution_count": 276,
     "metadata": {},
     "output_type": "execute_result"
    }
   ],
   "source": [
    "d[8]"
   ]
  },
  {
   "cell_type": "code",
   "execution_count": 277,
   "metadata": {
    "collapsed": false
   },
   "outputs": [
    {
     "data": {
      "text/plain": [
       "[0, 0, 0, 0, 0, 0, 0, 0, 0, 0, 0, 0, 0, 0, 0, 0, 0, 0, 0, 1]"
      ]
     },
     "execution_count": 277,
     "metadata": {},
     "output_type": "execute_result"
    }
   ],
   "source": [
    "d[7]"
   ]
  },
  {
   "cell_type": "markdown",
   "metadata": {},
   "source": [
    "## Decision Tree Classifier\n",
    "\n",
    "Decision Tree Classifieres: Create biased trees if some classes dominate. -> Balance dataset"
   ]
  },
  {
   "cell_type": "code",
   "execution_count": 278,
   "metadata": {
    "collapsed": true
   },
   "outputs": [],
   "source": [
    "from sklearn.tree import DecisionTreeClassifier, export_graphviz"
   ]
  },
  {
   "cell_type": "code",
   "execution_count": 279,
   "metadata": {
    "collapsed": false
   },
   "outputs": [],
   "source": [
    "X_train, X_test, y_train, y_test = train_test_split(X,y,test_size=0.3)"
   ]
  },
  {
   "cell_type": "code",
   "execution_count": 280,
   "metadata": {
    "collapsed": false
   },
   "outputs": [],
   "source": [
    "dtree = DecisionTreeClassifier(max_depth=10,max_features=5,criterion='gini',splitter='random',class_weight={0:0.99,1:1.02,2:1.02})"
   ]
  },
  {
   "cell_type": "code",
   "execution_count": 281,
   "metadata": {
    "collapsed": false
   },
   "outputs": [
    {
     "data": {
      "text/plain": [
       "DecisionTreeClassifier(class_weight={0: 0.99, 1: 1.02, 2: 1.02},\n",
       "            criterion='gini', max_depth=10, max_features=5,\n",
       "            max_leaf_nodes=None, min_impurity_split=1e-07,\n",
       "            min_samples_leaf=1, min_samples_split=2,\n",
       "            min_weight_fraction_leaf=0.0, presort=False, random_state=None,\n",
       "            splitter='random')"
      ]
     },
     "execution_count": 281,
     "metadata": {},
     "output_type": "execute_result"
    }
   ],
   "source": [
    "dtree.fit(X_train, y_train)"
   ]
  },
  {
   "cell_type": "code",
   "execution_count": 282,
   "metadata": {
    "collapsed": false
   },
   "outputs": [],
   "source": [
    "export_graphviz(dtree, feature_names=X_train.columns,out_file='tree.dot')"
   ]
  },
  {
   "cell_type": "code",
   "execution_count": 283,
   "metadata": {
    "collapsed": true
   },
   "outputs": [],
   "source": [
    "!dot -Tpng tree.dot -o tree.png"
   ]
  },
  {
   "cell_type": "code",
   "execution_count": 284,
   "metadata": {
    "collapsed": false
   },
   "outputs": [
    {
     "data": {
      "text/html": [
       "<iframe src=tree.png width=70% height=400></iframe>"
      ],
      "text/plain": [
       "<IPython.core.display.HTML object>"
      ]
     },
     "execution_count": 284,
     "metadata": {},
     "output_type": "execute_result"
    }
   ],
   "source": [
    "show2images([\"tree.png\"],70)"
   ]
  },
  {
   "cell_type": "code",
   "execution_count": 285,
   "metadata": {
    "collapsed": false
   },
   "outputs": [
    {
     "data": {
      "text/plain": [
       "0.23809523809523808"
      ]
     },
     "execution_count": 285,
     "metadata": {},
     "output_type": "execute_result"
    }
   ],
   "source": [
    "metrics.mean_absolute_error(y_test, dtree.predict(X_test))"
   ]
  },
  {
   "cell_type": "code",
   "execution_count": 286,
   "metadata": {
    "collapsed": false
   },
   "outputs": [
    {
     "data": {
      "text/plain": [
       "array([ 0.79069767,  0.74418605,  0.69047619,  0.76190476,  0.825     ])"
      ]
     },
     "execution_count": 286,
     "metadata": {},
     "output_type": "execute_result"
    }
   ],
   "source": [
    "scores_dtree = cross_val_score(dtree, X, y, cv=5)\n",
    "scores_dtree"
   ]
  },
  {
   "cell_type": "code",
   "execution_count": 287,
   "metadata": {
    "collapsed": false
   },
   "outputs": [
    {
     "name": "stdout",
     "output_type": "stream",
     "text": [
      "Accuracy: 0.76 (+/- 0.09)\n"
     ]
    }
   ],
   "source": [
    "print(\"Accuracy: %0.2f (+/- %0.2f)\" % (scores_dtree.mean(), scores_dtree.std() * 2))"
   ]
  },
  {
   "cell_type": "code",
   "execution_count": 288,
   "metadata": {
    "collapsed": false
   },
   "outputs": [
    {
     "name": "stdout",
     "output_type": "stream",
     "text": [
      "33\n"
     ]
    }
   ],
   "source": [
    "testDtree=pgv.AGraph(compound=True,directed=True)  \n",
    "\n",
    "predictionSource = X\n",
    "dcIndex = predictionSource.index\n",
    "dictIndex = {i:dcIndex[i] for i in range(len(list(dcIndex)))}\n",
    "\n",
    "compDtree = dtree.predict(predictionSource)\n",
    "print(compDtree.sum())\n",
    "\n",
    "for i in range(len(compDtree)):\n",
    "    if compDtree[i] == 1:\n",
    "        key1 = dictIndex[i]\n",
    "        testDtree.add_edge(index2kanten[key1])\n",
    "    elif compDtree[i] == 2:\n",
    "        key1 = dictIndex[i]\n",
    "        order = index2kanten[key1]\n",
    "        testDtree.add_edge((order[1],order[0]))\n",
    "    else:\n",
    "        pass"
   ]
  },
  {
   "cell_type": "code",
   "execution_count": 289,
   "metadata": {
    "collapsed": false
   },
   "outputs": [],
   "source": [
    "testDtree.draw('testDtree.png',prog='dot')"
   ]
  },
  {
   "cell_type": "code",
   "execution_count": 290,
   "metadata": {
    "collapsed": false
   },
   "outputs": [
    {
     "data": {
      "text/html": [
       "<iframe src=testDtree.png width=50% height=400></iframe><iframe src=g.png width=50% height=400></iframe>"
      ],
      "text/plain": [
       "<IPython.core.display.HTML object>"
      ]
     },
     "execution_count": 290,
     "metadata": {},
     "output_type": "execute_result"
    }
   ],
   "source": [
    "show2images(['testDtree.png','g.png'],50)"
   ]
  },
  {
   "cell_type": "code",
   "execution_count": 291,
   "metadata": {
    "collapsed": false
   },
   "outputs": [
    {
     "data": {
      "text/plain": [
       "[array([ 0.,  1.,  0.]), array([ 0.,  1.,  0.])]"
      ]
     },
     "execution_count": 291,
     "metadata": {},
     "output_type": "execute_result"
    }
   ],
   "source": [
    "crossProbabilities(dtree,X,0,9)"
   ]
  },
  {
   "cell_type": "code",
   "execution_count": 292,
   "metadata": {
    "collapsed": false
   },
   "outputs": [
    {
     "data": {
      "text/plain": [
       "[0, 1, 1, 1, 0, 0, 1, 1, 0, 0, 0, 0, 1, 1, 1, 0, 1, 1, 0, 1]"
      ]
     },
     "execution_count": 292,
     "metadata": {},
     "output_type": "execute_result"
    }
   ],
   "source": [
    "d[0]"
   ]
  },
  {
   "cell_type": "code",
   "execution_count": 293,
   "metadata": {
    "collapsed": false
   },
   "outputs": [
    {
     "data": {
      "text/plain": [
       "[0, 1, 0, 1, 0, 0, 1, 1, 0, 0, 0, 0, 1, 1, 0, 0, 0, 0, 0, 1]"
      ]
     },
     "execution_count": 293,
     "metadata": {},
     "output_type": "execute_result"
    }
   ],
   "source": [
    "d[9]"
   ]
  },
  {
   "cell_type": "code",
   "execution_count": 294,
   "metadata": {
    "collapsed": false
   },
   "outputs": [
    {
     "name": "stdout",
     "output_type": "stream",
     "text": [
      "Model Score 0.84 \n",
      "\n",
      "Confusion Matrix\n"
     ]
    },
    {
     "data": {
      "text/plain": [
       "array([[179,   2,   1],\n",
       "       [  3,  10,   1],\n",
       "       [  5,   1,   8]])"
      ]
     },
     "execution_count": 294,
     "metadata": {},
     "output_type": "execute_result"
    }
   ],
   "source": [
    "model_score = dtree.score(X_test, y_test)\n",
    "print (\"Model Score %.2f \\n\" % (model_score))\n",
    "\n",
    "y_predict = dtree.predict(X)\n",
    "\n",
    "print (\"Confusion Matrix\")\n",
    "confusion_matrix = metrics.confusion_matrix(y, y_predict)\n",
    "confusion_matrix"
   ]
  },
  {
   "cell_type": "markdown",
   "metadata": {},
   "source": [
    "## Random Forest Classifier"
   ]
  },
  {
   "cell_type": "code",
   "execution_count": 295,
   "metadata": {
    "collapsed": true
   },
   "outputs": [],
   "source": [
    "from sklearn.ensemble import RandomForestClassifier"
   ]
  },
  {
   "cell_type": "code",
   "execution_count": 477,
   "metadata": {
    "collapsed": true
   },
   "outputs": [],
   "source": [
    "X_train, X_test, y_train, y_test = train_test_split(X,y,test_size=0.3)"
   ]
  },
  {
   "cell_type": "code",
   "execution_count": 478,
   "metadata": {
    "collapsed": false
   },
   "outputs": [],
   "source": [
    "rf = RandomForestClassifier(n_estimators=35, criterion='gini', n_jobs=4, max_depth=None,max_features=5,oob_score=True,class_weight={0:0.99,1:1.02,2:1.02})"
   ]
  },
  {
   "cell_type": "code",
   "execution_count": 479,
   "metadata": {
    "collapsed": false
   },
   "outputs": [
    {
     "data": {
      "text/plain": [
       "RandomForestClassifier(bootstrap=True,\n",
       "            class_weight={0: 0.99, 1: 1.02, 2: 1.02}, criterion='gini',\n",
       "            max_depth=None, max_features=5, max_leaf_nodes=None,\n",
       "            min_impurity_split=1e-07, min_samples_leaf=1,\n",
       "            min_samples_split=2, min_weight_fraction_leaf=0.0,\n",
       "            n_estimators=35, n_jobs=4, oob_score=True, random_state=None,\n",
       "            verbose=0, warm_start=False)"
      ]
     },
     "execution_count": 479,
     "metadata": {},
     "output_type": "execute_result"
    }
   ],
   "source": [
    "rf.fit(X_train,y_train)"
   ]
  },
  {
   "cell_type": "code",
   "execution_count": 480,
   "metadata": {
    "collapsed": false
   },
   "outputs": [
    {
     "data": {
      "text/plain": [
       "0.15873015873015872"
      ]
     },
     "execution_count": 480,
     "metadata": {},
     "output_type": "execute_result"
    }
   ],
   "source": [
    "metrics.mean_absolute_error(y_test, rf.predict(X_test))"
   ]
  },
  {
   "cell_type": "markdown",
   "metadata": {},
   "source": [
    "Cross-validation dauert bei Random forest etwas. Ca. 30sec."
   ]
  },
  {
   "cell_type": "code",
   "execution_count": 481,
   "metadata": {
    "collapsed": false
   },
   "outputs": [
    {
     "name": "stderr",
     "output_type": "stream",
     "text": [
      "/root/anaconda3/lib/python3.5/site-packages/sklearn/model_selection/_split.py:581: Warning: The least populated class in y has only 3 members, which is too few. The minimum number of groups for any class cannot be less than n_splits=5.\n",
      "  % (min_groups, self.n_splits)), Warning)\n"
     ]
    }
   ],
   "source": [
    "scores_rf = cross_val_score(rf, X_test, y_test, cv=5)"
   ]
  },
  {
   "cell_type": "code",
   "execution_count": 482,
   "metadata": {
    "collapsed": false
   },
   "outputs": [
    {
     "data": {
      "text/plain": [
       "array([ 0.78571429,  0.84615385,  0.84615385,  0.91666667,  1.        ])"
      ]
     },
     "execution_count": 482,
     "metadata": {},
     "output_type": "execute_result"
    }
   ],
   "source": [
    "scores_rf"
   ]
  },
  {
   "cell_type": "code",
   "execution_count": 483,
   "metadata": {
    "collapsed": false
   },
   "outputs": [
    {
     "name": "stdout",
     "output_type": "stream",
     "text": [
      "Accuracy: 0.88 (+/- 0.15)\n"
     ]
    }
   ],
   "source": [
    "print(\"Accuracy: %0.2f (+/- %0.2f)\" % (scores_rf.mean(), scores_rf.std() * 2))"
   ]
  },
  {
   "cell_type": "code",
   "execution_count": 492,
   "metadata": {
    "collapsed": false
   },
   "outputs": [],
   "source": [
    "testRandomF=pgv.AGraph(compound=True,directed=True)  \n",
    "\n",
    "predictionSource = X_test\n",
    "dcIndex = predictionSource.index\n",
    "dictIndex = {i:dcIndex[i] for i in range(len(list(dcIndex)))}\n",
    "\n",
    "compRandomF = rf.predict(predictionSource)\n",
    "\n",
    "for i in range(len(compRandomF)):\n",
    "    if compRandomF[i] ==1:\n",
    "        iList.append(i)\n",
    "        testRandomF.add_edge(index2kanten[dictIndex[i]])\n",
    "    elif compRandomF[i] == 2:\n",
    "        key1 = dictIndex[i]\n",
    "        order = index2kanten[key1]\n",
    "        testRandomF.add_edge((order[1],order[0]))\n",
    "    else:\n",
    "        pass"
   ]
  },
  {
   "cell_type": "code",
   "execution_count": 493,
   "metadata": {
    "collapsed": false
   },
   "outputs": [
    {
     "data": {
      "text/plain": [
       "6"
      ]
     },
     "execution_count": 493,
     "metadata": {},
     "output_type": "execute_result"
    }
   ],
   "source": [
    "compRandomF.sum()"
   ]
  },
  {
   "cell_type": "code",
   "execution_count": 494,
   "metadata": {
    "collapsed": false
   },
   "outputs": [],
   "source": [
    "testRandomF.draw('testRandomF.png',prog='dot')"
   ]
  },
  {
   "cell_type": "code",
   "execution_count": 495,
   "metadata": {
    "collapsed": false
   },
   "outputs": [
    {
     "data": {
      "text/html": [
       "<iframe src=testRandomF.png width=50% height=400></iframe><iframe src=g.png width=50% height=400></iframe>"
      ],
      "text/plain": [
       "<IPython.core.display.HTML object>"
      ]
     },
     "execution_count": 495,
     "metadata": {},
     "output_type": "execute_result"
    }
   ],
   "source": [
    "show2images(['testRandomF.png','g.png'],50)"
   ]
  },
  {
   "cell_type": "markdown",
   "metadata": {},
   "source": [
    "### Bewertung der Klassifizierung über Confusions Matrix"
   ]
  },
  {
   "cell_type": "code",
   "execution_count": 488,
   "metadata": {
    "collapsed": false
   },
   "outputs": [
    {
     "name": "stdout",
     "output_type": "stream",
     "text": [
      "Model Score 0.87 \n",
      "\n",
      "Confusion Matrix\n"
     ]
    },
    {
     "data": {
      "text/plain": [
       "array([[55,  0,  1],\n",
       "       [ 3,  0,  1],\n",
       "       [ 1,  2,  0]])"
      ]
     },
     "execution_count": 488,
     "metadata": {},
     "output_type": "execute_result"
    }
   ],
   "source": [
    "model_score = rf.score(X_test, y_test)\n",
    "print (\"Model Score %.2f \\n\" % (model_score))\n",
    "\n",
    "y_predict = rf.predict(X_test)\n",
    "\n",
    "print (\"Confusion Matrix\")\n",
    "confusion_matrix = metrics.confusion_matrix(y_test, y_predict)\n",
    "confusion_matrix"
   ]
  },
  {
   "cell_type": "code",
   "execution_count": 489,
   "metadata": {
    "collapsed": true
   },
   "outputs": [],
   "source": [
    "%matplotlib notebook"
   ]
  },
  {
   "cell_type": "code",
   "execution_count": 491,
   "metadata": {
    "collapsed": false
   },
   "outputs": [
    {
     "data": {
      "application/javascript": [
       "/* Put everything inside the global mpl namespace */\n",
       "window.mpl = {};\n",
       "\n",
       "mpl.get_websocket_type = function() {\n",
       "    if (typeof(WebSocket) !== 'undefined') {\n",
       "        return WebSocket;\n",
       "    } else if (typeof(MozWebSocket) !== 'undefined') {\n",
       "        return MozWebSocket;\n",
       "    } else {\n",
       "        alert('Your browser does not have WebSocket support.' +\n",
       "              'Please try Chrome, Safari or Firefox ≥ 6. ' +\n",
       "              'Firefox 4 and 5 are also supported but you ' +\n",
       "              'have to enable WebSockets in about:config.');\n",
       "    };\n",
       "}\n",
       "\n",
       "mpl.figure = function(figure_id, websocket, ondownload, parent_element) {\n",
       "    this.id = figure_id;\n",
       "\n",
       "    this.ws = websocket;\n",
       "\n",
       "    this.supports_binary = (this.ws.binaryType != undefined);\n",
       "\n",
       "    if (!this.supports_binary) {\n",
       "        var warnings = document.getElementById(\"mpl-warnings\");\n",
       "        if (warnings) {\n",
       "            warnings.style.display = 'block';\n",
       "            warnings.textContent = (\n",
       "                \"This browser does not support binary websocket messages. \" +\n",
       "                    \"Performance may be slow.\");\n",
       "        }\n",
       "    }\n",
       "\n",
       "    this.imageObj = new Image();\n",
       "\n",
       "    this.context = undefined;\n",
       "    this.message = undefined;\n",
       "    this.canvas = undefined;\n",
       "    this.rubberband_canvas = undefined;\n",
       "    this.rubberband_context = undefined;\n",
       "    this.format_dropdown = undefined;\n",
       "\n",
       "    this.image_mode = 'full';\n",
       "\n",
       "    this.root = $('<div/>');\n",
       "    this._root_extra_style(this.root)\n",
       "    this.root.attr('style', 'display: inline-block');\n",
       "\n",
       "    $(parent_element).append(this.root);\n",
       "\n",
       "    this._init_header(this);\n",
       "    this._init_canvas(this);\n",
       "    this._init_toolbar(this);\n",
       "\n",
       "    var fig = this;\n",
       "\n",
       "    this.waiting = false;\n",
       "\n",
       "    this.ws.onopen =  function () {\n",
       "            fig.send_message(\"supports_binary\", {value: fig.supports_binary});\n",
       "            fig.send_message(\"send_image_mode\", {});\n",
       "            fig.send_message(\"refresh\", {});\n",
       "        }\n",
       "\n",
       "    this.imageObj.onload = function() {\n",
       "            if (fig.image_mode == 'full') {\n",
       "                // Full images could contain transparency (where diff images\n",
       "                // almost always do), so we need to clear the canvas so that\n",
       "                // there is no ghosting.\n",
       "                fig.context.clearRect(0, 0, fig.canvas.width, fig.canvas.height);\n",
       "            }\n",
       "            fig.context.drawImage(fig.imageObj, 0, 0);\n",
       "        };\n",
       "\n",
       "    this.imageObj.onunload = function() {\n",
       "        this.ws.close();\n",
       "    }\n",
       "\n",
       "    this.ws.onmessage = this._make_on_message_function(this);\n",
       "\n",
       "    this.ondownload = ondownload;\n",
       "}\n",
       "\n",
       "mpl.figure.prototype._init_header = function() {\n",
       "    var titlebar = $(\n",
       "        '<div class=\"ui-dialog-titlebar ui-widget-header ui-corner-all ' +\n",
       "        'ui-helper-clearfix\"/>');\n",
       "    var titletext = $(\n",
       "        '<div class=\"ui-dialog-title\" style=\"width: 100%; ' +\n",
       "        'text-align: center; padding: 3px;\"/>');\n",
       "    titlebar.append(titletext)\n",
       "    this.root.append(titlebar);\n",
       "    this.header = titletext[0];\n",
       "}\n",
       "\n",
       "\n",
       "\n",
       "mpl.figure.prototype._canvas_extra_style = function(canvas_div) {\n",
       "\n",
       "}\n",
       "\n",
       "\n",
       "mpl.figure.prototype._root_extra_style = function(canvas_div) {\n",
       "\n",
       "}\n",
       "\n",
       "mpl.figure.prototype._init_canvas = function() {\n",
       "    var fig = this;\n",
       "\n",
       "    var canvas_div = $('<div/>');\n",
       "\n",
       "    canvas_div.attr('style', 'position: relative; clear: both; outline: 0');\n",
       "\n",
       "    function canvas_keyboard_event(event) {\n",
       "        return fig.key_event(event, event['data']);\n",
       "    }\n",
       "\n",
       "    canvas_div.keydown('key_press', canvas_keyboard_event);\n",
       "    canvas_div.keyup('key_release', canvas_keyboard_event);\n",
       "    this.canvas_div = canvas_div\n",
       "    this._canvas_extra_style(canvas_div)\n",
       "    this.root.append(canvas_div);\n",
       "\n",
       "    var canvas = $('<canvas/>');\n",
       "    canvas.addClass('mpl-canvas');\n",
       "    canvas.attr('style', \"left: 0; top: 0; z-index: 0; outline: 0\")\n",
       "\n",
       "    this.canvas = canvas[0];\n",
       "    this.context = canvas[0].getContext(\"2d\");\n",
       "\n",
       "    var rubberband = $('<canvas/>');\n",
       "    rubberband.attr('style', \"position: absolute; left: 0; top: 0; z-index: 1;\")\n",
       "\n",
       "    var pass_mouse_events = true;\n",
       "\n",
       "    canvas_div.resizable({\n",
       "        start: function(event, ui) {\n",
       "            pass_mouse_events = false;\n",
       "        },\n",
       "        resize: function(event, ui) {\n",
       "            fig.request_resize(ui.size.width, ui.size.height);\n",
       "        },\n",
       "        stop: function(event, ui) {\n",
       "            pass_mouse_events = true;\n",
       "            fig.request_resize(ui.size.width, ui.size.height);\n",
       "        },\n",
       "    });\n",
       "\n",
       "    function mouse_event_fn(event) {\n",
       "        if (pass_mouse_events)\n",
       "            return fig.mouse_event(event, event['data']);\n",
       "    }\n",
       "\n",
       "    rubberband.mousedown('button_press', mouse_event_fn);\n",
       "    rubberband.mouseup('button_release', mouse_event_fn);\n",
       "    // Throttle sequential mouse events to 1 every 20ms.\n",
       "    rubberband.mousemove('motion_notify', mouse_event_fn);\n",
       "\n",
       "    rubberband.mouseenter('figure_enter', mouse_event_fn);\n",
       "    rubberband.mouseleave('figure_leave', mouse_event_fn);\n",
       "\n",
       "    canvas_div.on(\"wheel\", function (event) {\n",
       "        event = event.originalEvent;\n",
       "        event['data'] = 'scroll'\n",
       "        if (event.deltaY < 0) {\n",
       "            event.step = 1;\n",
       "        } else {\n",
       "            event.step = -1;\n",
       "        }\n",
       "        mouse_event_fn(event);\n",
       "    });\n",
       "\n",
       "    canvas_div.append(canvas);\n",
       "    canvas_div.append(rubberband);\n",
       "\n",
       "    this.rubberband = rubberband;\n",
       "    this.rubberband_canvas = rubberband[0];\n",
       "    this.rubberband_context = rubberband[0].getContext(\"2d\");\n",
       "    this.rubberband_context.strokeStyle = \"#000000\";\n",
       "\n",
       "    this._resize_canvas = function(width, height) {\n",
       "        // Keep the size of the canvas, canvas container, and rubber band\n",
       "        // canvas in synch.\n",
       "        canvas_div.css('width', width)\n",
       "        canvas_div.css('height', height)\n",
       "\n",
       "        canvas.attr('width', width);\n",
       "        canvas.attr('height', height);\n",
       "\n",
       "        rubberband.attr('width', width);\n",
       "        rubberband.attr('height', height);\n",
       "    }\n",
       "\n",
       "    // Set the figure to an initial 600x600px, this will subsequently be updated\n",
       "    // upon first draw.\n",
       "    this._resize_canvas(600, 600);\n",
       "\n",
       "    // Disable right mouse context menu.\n",
       "    $(this.rubberband_canvas).bind(\"contextmenu\",function(e){\n",
       "        return false;\n",
       "    });\n",
       "\n",
       "    function set_focus () {\n",
       "        canvas.focus();\n",
       "        canvas_div.focus();\n",
       "    }\n",
       "\n",
       "    window.setTimeout(set_focus, 100);\n",
       "}\n",
       "\n",
       "mpl.figure.prototype._init_toolbar = function() {\n",
       "    var fig = this;\n",
       "\n",
       "    var nav_element = $('<div/>')\n",
       "    nav_element.attr('style', 'width: 100%');\n",
       "    this.root.append(nav_element);\n",
       "\n",
       "    // Define a callback function for later on.\n",
       "    function toolbar_event(event) {\n",
       "        return fig.toolbar_button_onclick(event['data']);\n",
       "    }\n",
       "    function toolbar_mouse_event(event) {\n",
       "        return fig.toolbar_button_onmouseover(event['data']);\n",
       "    }\n",
       "\n",
       "    for(var toolbar_ind in mpl.toolbar_items) {\n",
       "        var name = mpl.toolbar_items[toolbar_ind][0];\n",
       "        var tooltip = mpl.toolbar_items[toolbar_ind][1];\n",
       "        var image = mpl.toolbar_items[toolbar_ind][2];\n",
       "        var method_name = mpl.toolbar_items[toolbar_ind][3];\n",
       "\n",
       "        if (!name) {\n",
       "            // put a spacer in here.\n",
       "            continue;\n",
       "        }\n",
       "        var button = $('<button/>');\n",
       "        button.addClass('ui-button ui-widget ui-state-default ui-corner-all ' +\n",
       "                        'ui-button-icon-only');\n",
       "        button.attr('role', 'button');\n",
       "        button.attr('aria-disabled', 'false');\n",
       "        button.click(method_name, toolbar_event);\n",
       "        button.mouseover(tooltip, toolbar_mouse_event);\n",
       "\n",
       "        var icon_img = $('<span/>');\n",
       "        icon_img.addClass('ui-button-icon-primary ui-icon');\n",
       "        icon_img.addClass(image);\n",
       "        icon_img.addClass('ui-corner-all');\n",
       "\n",
       "        var tooltip_span = $('<span/>');\n",
       "        tooltip_span.addClass('ui-button-text');\n",
       "        tooltip_span.html(tooltip);\n",
       "\n",
       "        button.append(icon_img);\n",
       "        button.append(tooltip_span);\n",
       "\n",
       "        nav_element.append(button);\n",
       "    }\n",
       "\n",
       "    var fmt_picker_span = $('<span/>');\n",
       "\n",
       "    var fmt_picker = $('<select/>');\n",
       "    fmt_picker.addClass('mpl-toolbar-option ui-widget ui-widget-content');\n",
       "    fmt_picker_span.append(fmt_picker);\n",
       "    nav_element.append(fmt_picker_span);\n",
       "    this.format_dropdown = fmt_picker[0];\n",
       "\n",
       "    for (var ind in mpl.extensions) {\n",
       "        var fmt = mpl.extensions[ind];\n",
       "        var option = $(\n",
       "            '<option/>', {selected: fmt === mpl.default_extension}).html(fmt);\n",
       "        fmt_picker.append(option)\n",
       "    }\n",
       "\n",
       "    // Add hover states to the ui-buttons\n",
       "    $( \".ui-button\" ).hover(\n",
       "        function() { $(this).addClass(\"ui-state-hover\");},\n",
       "        function() { $(this).removeClass(\"ui-state-hover\");}\n",
       "    );\n",
       "\n",
       "    var status_bar = $('<span class=\"mpl-message\"/>');\n",
       "    nav_element.append(status_bar);\n",
       "    this.message = status_bar[0];\n",
       "}\n",
       "\n",
       "mpl.figure.prototype.request_resize = function(x_pixels, y_pixels) {\n",
       "    // Request matplotlib to resize the figure. Matplotlib will then trigger a resize in the client,\n",
       "    // which will in turn request a refresh of the image.\n",
       "    this.send_message('resize', {'width': x_pixels, 'height': y_pixels});\n",
       "}\n",
       "\n",
       "mpl.figure.prototype.send_message = function(type, properties) {\n",
       "    properties['type'] = type;\n",
       "    properties['figure_id'] = this.id;\n",
       "    this.ws.send(JSON.stringify(properties));\n",
       "}\n",
       "\n",
       "mpl.figure.prototype.send_draw_message = function() {\n",
       "    if (!this.waiting) {\n",
       "        this.waiting = true;\n",
       "        this.ws.send(JSON.stringify({type: \"draw\", figure_id: this.id}));\n",
       "    }\n",
       "}\n",
       "\n",
       "\n",
       "mpl.figure.prototype.handle_save = function(fig, msg) {\n",
       "    var format_dropdown = fig.format_dropdown;\n",
       "    var format = format_dropdown.options[format_dropdown.selectedIndex].value;\n",
       "    fig.ondownload(fig, format);\n",
       "}\n",
       "\n",
       "\n",
       "mpl.figure.prototype.handle_resize = function(fig, msg) {\n",
       "    var size = msg['size'];\n",
       "    if (size[0] != fig.canvas.width || size[1] != fig.canvas.height) {\n",
       "        fig._resize_canvas(size[0], size[1]);\n",
       "        fig.send_message(\"refresh\", {});\n",
       "    };\n",
       "}\n",
       "\n",
       "mpl.figure.prototype.handle_rubberband = function(fig, msg) {\n",
       "    var x0 = msg['x0'];\n",
       "    var y0 = fig.canvas.height - msg['y0'];\n",
       "    var x1 = msg['x1'];\n",
       "    var y1 = fig.canvas.height - msg['y1'];\n",
       "    x0 = Math.floor(x0) + 0.5;\n",
       "    y0 = Math.floor(y0) + 0.5;\n",
       "    x1 = Math.floor(x1) + 0.5;\n",
       "    y1 = Math.floor(y1) + 0.5;\n",
       "    var min_x = Math.min(x0, x1);\n",
       "    var min_y = Math.min(y0, y1);\n",
       "    var width = Math.abs(x1 - x0);\n",
       "    var height = Math.abs(y1 - y0);\n",
       "\n",
       "    fig.rubberband_context.clearRect(\n",
       "        0, 0, fig.canvas.width, fig.canvas.height);\n",
       "\n",
       "    fig.rubberband_context.strokeRect(min_x, min_y, width, height);\n",
       "}\n",
       "\n",
       "mpl.figure.prototype.handle_figure_label = function(fig, msg) {\n",
       "    // Updates the figure title.\n",
       "    fig.header.textContent = msg['label'];\n",
       "}\n",
       "\n",
       "mpl.figure.prototype.handle_cursor = function(fig, msg) {\n",
       "    var cursor = msg['cursor'];\n",
       "    switch(cursor)\n",
       "    {\n",
       "    case 0:\n",
       "        cursor = 'pointer';\n",
       "        break;\n",
       "    case 1:\n",
       "        cursor = 'default';\n",
       "        break;\n",
       "    case 2:\n",
       "        cursor = 'crosshair';\n",
       "        break;\n",
       "    case 3:\n",
       "        cursor = 'move';\n",
       "        break;\n",
       "    }\n",
       "    fig.rubberband_canvas.style.cursor = cursor;\n",
       "}\n",
       "\n",
       "mpl.figure.prototype.handle_message = function(fig, msg) {\n",
       "    fig.message.textContent = msg['message'];\n",
       "}\n",
       "\n",
       "mpl.figure.prototype.handle_draw = function(fig, msg) {\n",
       "    // Request the server to send over a new figure.\n",
       "    fig.send_draw_message();\n",
       "}\n",
       "\n",
       "mpl.figure.prototype.handle_image_mode = function(fig, msg) {\n",
       "    fig.image_mode = msg['mode'];\n",
       "}\n",
       "\n",
       "mpl.figure.prototype.updated_canvas_event = function() {\n",
       "    // Called whenever the canvas gets updated.\n",
       "    this.send_message(\"ack\", {});\n",
       "}\n",
       "\n",
       "// A function to construct a web socket function for onmessage handling.\n",
       "// Called in the figure constructor.\n",
       "mpl.figure.prototype._make_on_message_function = function(fig) {\n",
       "    return function socket_on_message(evt) {\n",
       "        if (evt.data instanceof Blob) {\n",
       "            /* FIXME: We get \"Resource interpreted as Image but\n",
       "             * transferred with MIME type text/plain:\" errors on\n",
       "             * Chrome.  But how to set the MIME type?  It doesn't seem\n",
       "             * to be part of the websocket stream */\n",
       "            evt.data.type = \"image/png\";\n",
       "\n",
       "            /* Free the memory for the previous frames */\n",
       "            if (fig.imageObj.src) {\n",
       "                (window.URL || window.webkitURL).revokeObjectURL(\n",
       "                    fig.imageObj.src);\n",
       "            }\n",
       "\n",
       "            fig.imageObj.src = (window.URL || window.webkitURL).createObjectURL(\n",
       "                evt.data);\n",
       "            fig.updated_canvas_event();\n",
       "            fig.waiting = false;\n",
       "            return;\n",
       "        }\n",
       "        else if (typeof evt.data === 'string' && evt.data.slice(0, 21) == \"data:image/png;base64\") {\n",
       "            fig.imageObj.src = evt.data;\n",
       "            fig.updated_canvas_event();\n",
       "            fig.waiting = false;\n",
       "            return;\n",
       "        }\n",
       "\n",
       "        var msg = JSON.parse(evt.data);\n",
       "        var msg_type = msg['type'];\n",
       "\n",
       "        // Call the  \"handle_{type}\" callback, which takes\n",
       "        // the figure and JSON message as its only arguments.\n",
       "        try {\n",
       "            var callback = fig[\"handle_\" + msg_type];\n",
       "        } catch (e) {\n",
       "            console.log(\"No handler for the '\" + msg_type + \"' message type: \", msg);\n",
       "            return;\n",
       "        }\n",
       "\n",
       "        if (callback) {\n",
       "            try {\n",
       "                // console.log(\"Handling '\" + msg_type + \"' message: \", msg);\n",
       "                callback(fig, msg);\n",
       "            } catch (e) {\n",
       "                console.log(\"Exception inside the 'handler_\" + msg_type + \"' callback:\", e, e.stack, msg);\n",
       "            }\n",
       "        }\n",
       "    };\n",
       "}\n",
       "\n",
       "// from http://stackoverflow.com/questions/1114465/getting-mouse-location-in-canvas\n",
       "mpl.findpos = function(e) {\n",
       "    //this section is from http://www.quirksmode.org/js/events_properties.html\n",
       "    var targ;\n",
       "    if (!e)\n",
       "        e = window.event;\n",
       "    if (e.target)\n",
       "        targ = e.target;\n",
       "    else if (e.srcElement)\n",
       "        targ = e.srcElement;\n",
       "    if (targ.nodeType == 3) // defeat Safari bug\n",
       "        targ = targ.parentNode;\n",
       "\n",
       "    // jQuery normalizes the pageX and pageY\n",
       "    // pageX,Y are the mouse positions relative to the document\n",
       "    // offset() returns the position of the element relative to the document\n",
       "    var x = e.pageX - $(targ).offset().left;\n",
       "    var y = e.pageY - $(targ).offset().top;\n",
       "\n",
       "    return {\"x\": x, \"y\": y};\n",
       "};\n",
       "\n",
       "/*\n",
       " * return a copy of an object with only non-object keys\n",
       " * we need this to avoid circular references\n",
       " * http://stackoverflow.com/a/24161582/3208463\n",
       " */\n",
       "function simpleKeys (original) {\n",
       "  return Object.keys(original).reduce(function (obj, key) {\n",
       "    if (typeof original[key] !== 'object')\n",
       "        obj[key] = original[key]\n",
       "    return obj;\n",
       "  }, {});\n",
       "}\n",
       "\n",
       "mpl.figure.prototype.mouse_event = function(event, name) {\n",
       "    var canvas_pos = mpl.findpos(event)\n",
       "\n",
       "    if (name === 'button_press')\n",
       "    {\n",
       "        this.canvas.focus();\n",
       "        this.canvas_div.focus();\n",
       "    }\n",
       "\n",
       "    var x = canvas_pos.x;\n",
       "    var y = canvas_pos.y;\n",
       "\n",
       "    this.send_message(name, {x: x, y: y, button: event.button,\n",
       "                             step: event.step,\n",
       "                             guiEvent: simpleKeys(event)});\n",
       "\n",
       "    /* This prevents the web browser from automatically changing to\n",
       "     * the text insertion cursor when the button is pressed.  We want\n",
       "     * to control all of the cursor setting manually through the\n",
       "     * 'cursor' event from matplotlib */\n",
       "    event.preventDefault();\n",
       "    return false;\n",
       "}\n",
       "\n",
       "mpl.figure.prototype._key_event_extra = function(event, name) {\n",
       "    // Handle any extra behaviour associated with a key event\n",
       "}\n",
       "\n",
       "mpl.figure.prototype.key_event = function(event, name) {\n",
       "\n",
       "    // Prevent repeat events\n",
       "    if (name == 'key_press')\n",
       "    {\n",
       "        if (event.which === this._key)\n",
       "            return;\n",
       "        else\n",
       "            this._key = event.which;\n",
       "    }\n",
       "    if (name == 'key_release')\n",
       "        this._key = null;\n",
       "\n",
       "    var value = '';\n",
       "    if (event.ctrlKey && event.which != 17)\n",
       "        value += \"ctrl+\";\n",
       "    if (event.altKey && event.which != 18)\n",
       "        value += \"alt+\";\n",
       "    if (event.shiftKey && event.which != 16)\n",
       "        value += \"shift+\";\n",
       "\n",
       "    value += 'k';\n",
       "    value += event.which.toString();\n",
       "\n",
       "    this._key_event_extra(event, name);\n",
       "\n",
       "    this.send_message(name, {key: value,\n",
       "                             guiEvent: simpleKeys(event)});\n",
       "    return false;\n",
       "}\n",
       "\n",
       "mpl.figure.prototype.toolbar_button_onclick = function(name) {\n",
       "    if (name == 'download') {\n",
       "        this.handle_save(this, null);\n",
       "    } else {\n",
       "        this.send_message(\"toolbar_button\", {name: name});\n",
       "    }\n",
       "};\n",
       "\n",
       "mpl.figure.prototype.toolbar_button_onmouseover = function(tooltip) {\n",
       "    this.message.textContent = tooltip;\n",
       "};\n",
       "mpl.toolbar_items = [[\"Home\", \"Reset original view\", \"fa fa-home icon-home\", \"home\"], [\"Back\", \"Back to  previous view\", \"fa fa-arrow-left icon-arrow-left\", \"back\"], [\"Forward\", \"Forward to next view\", \"fa fa-arrow-right icon-arrow-right\", \"forward\"], [\"\", \"\", \"\", \"\"], [\"Pan\", \"Pan axes with left mouse, zoom with right\", \"fa fa-arrows icon-move\", \"pan\"], [\"Zoom\", \"Zoom to rectangle\", \"fa fa-square-o icon-check-empty\", \"zoom\"], [\"\", \"\", \"\", \"\"], [\"Download\", \"Download plot\", \"fa fa-floppy-o icon-save\", \"download\"]];\n",
       "\n",
       "mpl.extensions = [\"eps\", \"jpeg\", \"pdf\", \"png\", \"ps\", \"raw\", \"svg\", \"tif\"];\n",
       "\n",
       "mpl.default_extension = \"png\";var comm_websocket_adapter = function(comm) {\n",
       "    // Create a \"websocket\"-like object which calls the given IPython comm\n",
       "    // object with the appropriate methods. Currently this is a non binary\n",
       "    // socket, so there is still some room for performance tuning.\n",
       "    var ws = {};\n",
       "\n",
       "    ws.close = function() {\n",
       "        comm.close()\n",
       "    };\n",
       "    ws.send = function(m) {\n",
       "        //console.log('sending', m);\n",
       "        comm.send(m);\n",
       "    };\n",
       "    // Register the callback with on_msg.\n",
       "    comm.on_msg(function(msg) {\n",
       "        //console.log('receiving', msg['content']['data'], msg);\n",
       "        // Pass the mpl event to the overriden (by mpl) onmessage function.\n",
       "        ws.onmessage(msg['content']['data'])\n",
       "    });\n",
       "    return ws;\n",
       "}\n",
       "\n",
       "mpl.mpl_figure_comm = function(comm, msg) {\n",
       "    // This is the function which gets called when the mpl process\n",
       "    // starts-up an IPython Comm through the \"matplotlib\" channel.\n",
       "\n",
       "    var id = msg.content.data.id;\n",
       "    // Get hold of the div created by the display call when the Comm\n",
       "    // socket was opened in Python.\n",
       "    var element = $(\"#\" + id);\n",
       "    var ws_proxy = comm_websocket_adapter(comm)\n",
       "\n",
       "    function ondownload(figure, format) {\n",
       "        window.open(figure.imageObj.src);\n",
       "    }\n",
       "\n",
       "    var fig = new mpl.figure(id, ws_proxy,\n",
       "                           ondownload,\n",
       "                           element.get(0));\n",
       "\n",
       "    // Call onopen now - mpl needs it, as it is assuming we've passed it a real\n",
       "    // web socket which is closed, not our websocket->open comm proxy.\n",
       "    ws_proxy.onopen();\n",
       "\n",
       "    fig.parent_element = element.get(0);\n",
       "    fig.cell_info = mpl.find_output_cell(\"<div id='\" + id + \"'></div>\");\n",
       "    if (!fig.cell_info) {\n",
       "        console.error(\"Failed to find cell for figure\", id, fig);\n",
       "        return;\n",
       "    }\n",
       "\n",
       "    var output_index = fig.cell_info[2]\n",
       "    var cell = fig.cell_info[0];\n",
       "\n",
       "};\n",
       "\n",
       "mpl.figure.prototype.handle_close = function(fig, msg) {\n",
       "    fig.root.unbind('remove')\n",
       "\n",
       "    // Update the output cell to use the data from the current canvas.\n",
       "    fig.push_to_output();\n",
       "    var dataURL = fig.canvas.toDataURL();\n",
       "    // Re-enable the keyboard manager in IPython - without this line, in FF,\n",
       "    // the notebook keyboard shortcuts fail.\n",
       "    IPython.keyboard_manager.enable()\n",
       "    $(fig.parent_element).html('<img src=\"' + dataURL + '\">');\n",
       "    fig.close_ws(fig, msg);\n",
       "}\n",
       "\n",
       "mpl.figure.prototype.close_ws = function(fig, msg){\n",
       "    fig.send_message('closing', msg);\n",
       "    // fig.ws.close()\n",
       "}\n",
       "\n",
       "mpl.figure.prototype.push_to_output = function(remove_interactive) {\n",
       "    // Turn the data on the canvas into data in the output cell.\n",
       "    var dataURL = this.canvas.toDataURL();\n",
       "    this.cell_info[1]['text/html'] = '<img src=\"' + dataURL + '\">';\n",
       "}\n",
       "\n",
       "mpl.figure.prototype.updated_canvas_event = function() {\n",
       "    // Tell IPython that the notebook contents must change.\n",
       "    IPython.notebook.set_dirty(true);\n",
       "    this.send_message(\"ack\", {});\n",
       "    var fig = this;\n",
       "    // Wait a second, then push the new image to the DOM so\n",
       "    // that it is saved nicely (might be nice to debounce this).\n",
       "    setTimeout(function () { fig.push_to_output() }, 1000);\n",
       "}\n",
       "\n",
       "mpl.figure.prototype._init_toolbar = function() {\n",
       "    var fig = this;\n",
       "\n",
       "    var nav_element = $('<div/>')\n",
       "    nav_element.attr('style', 'width: 100%');\n",
       "    this.root.append(nav_element);\n",
       "\n",
       "    // Define a callback function for later on.\n",
       "    function toolbar_event(event) {\n",
       "        return fig.toolbar_button_onclick(event['data']);\n",
       "    }\n",
       "    function toolbar_mouse_event(event) {\n",
       "        return fig.toolbar_button_onmouseover(event['data']);\n",
       "    }\n",
       "\n",
       "    for(var toolbar_ind in mpl.toolbar_items){\n",
       "        var name = mpl.toolbar_items[toolbar_ind][0];\n",
       "        var tooltip = mpl.toolbar_items[toolbar_ind][1];\n",
       "        var image = mpl.toolbar_items[toolbar_ind][2];\n",
       "        var method_name = mpl.toolbar_items[toolbar_ind][3];\n",
       "\n",
       "        if (!name) { continue; };\n",
       "\n",
       "        var button = $('<button class=\"btn btn-default\" href=\"#\" title=\"' + name + '\"><i class=\"fa ' + image + ' fa-lg\"></i></button>');\n",
       "        button.click(method_name, toolbar_event);\n",
       "        button.mouseover(tooltip, toolbar_mouse_event);\n",
       "        nav_element.append(button);\n",
       "    }\n",
       "\n",
       "    // Add the status bar.\n",
       "    var status_bar = $('<span class=\"mpl-message\" style=\"text-align:right; float: right;\"/>');\n",
       "    nav_element.append(status_bar);\n",
       "    this.message = status_bar[0];\n",
       "\n",
       "    // Add the close button to the window.\n",
       "    var buttongrp = $('<div class=\"btn-group inline pull-right\"></div>');\n",
       "    var button = $('<button class=\"btn btn-mini btn-primary\" href=\"#\" title=\"Stop Interaction\"><i class=\"fa fa-power-off icon-remove icon-large\"></i></button>');\n",
       "    button.click(function (evt) { fig.handle_close(fig, {}); } );\n",
       "    button.mouseover('Stop Interaction', toolbar_mouse_event);\n",
       "    buttongrp.append(button);\n",
       "    var titlebar = this.root.find($('.ui-dialog-titlebar'));\n",
       "    titlebar.prepend(buttongrp);\n",
       "}\n",
       "\n",
       "mpl.figure.prototype._root_extra_style = function(el){\n",
       "    var fig = this\n",
       "    el.on(\"remove\", function(){\n",
       "\tfig.close_ws(fig, {});\n",
       "    });\n",
       "}\n",
       "\n",
       "mpl.figure.prototype._canvas_extra_style = function(el){\n",
       "    // this is important to make the div 'focusable\n",
       "    el.attr('tabindex', 0)\n",
       "    // reach out to IPython and tell the keyboard manager to turn it's self\n",
       "    // off when our div gets focus\n",
       "\n",
       "    // location in version 3\n",
       "    if (IPython.notebook.keyboard_manager) {\n",
       "        IPython.notebook.keyboard_manager.register_events(el);\n",
       "    }\n",
       "    else {\n",
       "        // location in version 2\n",
       "        IPython.keyboard_manager.register_events(el);\n",
       "    }\n",
       "\n",
       "}\n",
       "\n",
       "mpl.figure.prototype._key_event_extra = function(event, name) {\n",
       "    var manager = IPython.notebook.keyboard_manager;\n",
       "    if (!manager)\n",
       "        manager = IPython.keyboard_manager;\n",
       "\n",
       "    // Check for shift+enter\n",
       "    if (event.shiftKey && event.which == 13) {\n",
       "        this.canvas_div.blur();\n",
       "        event.shiftKey = false;\n",
       "        // Send a \"J\" for go to next cell\n",
       "        event.which = 74;\n",
       "        event.keyCode = 74;\n",
       "        manager.command_mode();\n",
       "        manager.handle_keydown(event);\n",
       "    }\n",
       "}\n",
       "\n",
       "mpl.figure.prototype.handle_save = function(fig, msg) {\n",
       "    fig.ondownload(fig, null);\n",
       "}\n",
       "\n",
       "\n",
       "mpl.find_output_cell = function(html_output) {\n",
       "    // Return the cell and output element which can be found *uniquely* in the notebook.\n",
       "    // Note - this is a bit hacky, but it is done because the \"notebook_saving.Notebook\"\n",
       "    // IPython event is triggered only after the cells have been serialised, which for\n",
       "    // our purposes (turning an active figure into a static one), is too late.\n",
       "    var cells = IPython.notebook.get_cells();\n",
       "    var ncells = cells.length;\n",
       "    for (var i=0; i<ncells; i++) {\n",
       "        var cell = cells[i];\n",
       "        if (cell.cell_type === 'code'){\n",
       "            for (var j=0; j<cell.output_area.outputs.length; j++) {\n",
       "                var data = cell.output_area.outputs[j];\n",
       "                if (data.data) {\n",
       "                    // IPython >= 3 moved mimebundle to data attribute of output\n",
       "                    data = data.data;\n",
       "                }\n",
       "                if (data['text/html'] == html_output) {\n",
       "                    return [cell, data, j];\n",
       "                }\n",
       "            }\n",
       "        }\n",
       "    }\n",
       "}\n",
       "\n",
       "// Register the function which deals with the matplotlib target/channel.\n",
       "// The kernel may be null if the page has been refreshed.\n",
       "if (IPython.notebook.kernel != null) {\n",
       "    IPython.notebook.kernel.comm_manager.register_target('matplotlib', mpl.mpl_figure_comm);\n",
       "}\n"
      ],
      "text/plain": [
       "<IPython.core.display.Javascript object>"
      ]
     },
     "metadata": {},
     "output_type": "display_data"
    },
    {
     "data": {
      "text/html": [
       "<img src=\"data:image/png;base64,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\">"
      ],
      "text/plain": [
       "<IPython.core.display.HTML object>"
      ]
     },
     "metadata": {},
     "output_type": "display_data"
    },
    {
     "name": "stdout",
     "output_type": "stream",
     "text": [
      "Confusion matrix, without normalization\n",
      "[[55  0  1]\n",
      " [ 3  0  1]\n",
      " [ 1  2  0]]\n"
     ]
    }
   ],
   "source": [
    "plot_confusion_matrix(confusion_matrix, classes=['keine','A->B','B->A'])"
   ]
  },
  {
   "cell_type": "markdown",
   "metadata": {},
   "source": [
    "## Testen des trainierten Klassifizierers an neuem Kopierbaum (mit unterschiedlicher Wurzel!)"
   ]
  },
  {
   "cell_type": "code",
   "execution_count": 497,
   "metadata": {
    "collapsed": false
   },
   "outputs": [
    {
     "data": {
      "text/html": [
       "<iframe src=testRandomFTest.png width=50% height=400></iframe><iframe src=g_test.png width=50% height=400></iframe>"
      ],
      "text/plain": [
       "<IPython.core.display.HTML object>"
      ]
     },
     "execution_count": 497,
     "metadata": {},
     "output_type": "execute_result"
    }
   ],
   "source": [
    "testRandomFTest = pgv.AGraph(compound=True,directed=True)  \n",
    "iList = []\n",
    "\n",
    "predictionSource = XT\n",
    "dcIndex = predictionSource.index\n",
    "dictIndex = {i:dcIndex[i] for i in range(len(list(dcIndex)))}\n",
    "\n",
    "compRandomFTest = rf.predict(predictionSource)\n",
    "\n",
    "for i in range(len(compRandomFTest)):\n",
    "    if compRandomFTest[i] ==1:\n",
    "        iList.append(i)\n",
    "        testRandomFTest.add_edge(index2kantenTest[dictIndex[i]])\n",
    "    elif compRandomFTest[i] == 2:\n",
    "        key1 = dictIndex[i]\n",
    "        order = index2kantenTest[key1]\n",
    "        testRandomFTest.add_edge((order[1],order[0]))\n",
    "    else:\n",
    "        pass\n",
    "    \n",
    "testRandomFTest.draw('testRandomFTest.png',prog='dot')\n",
    "\n",
    "show2images(['testRandomFTest.png','g_test.png'],50)"
   ]
  },
  {
   "cell_type": "markdown",
   "metadata": {},
   "source": [
    "## Suport vector machines"
   ]
  },
  {
   "cell_type": "code",
   "execution_count": 498,
   "metadata": {
    "collapsed": true
   },
   "outputs": [],
   "source": [
    "from sklearn.svm import SVC"
   ]
  },
  {
   "cell_type": "code",
   "execution_count": 553,
   "metadata": {
    "collapsed": true
   },
   "outputs": [],
   "source": [
    "X_train, X_test, y_train, y_test = train_test_split(X,y,test_size=0.2)"
   ]
  },
  {
   "cell_type": "code",
   "execution_count": 560,
   "metadata": {
    "collapsed": true
   },
   "outputs": [],
   "source": [
    "svc_rbf = SVC(class_weight='balanced')"
   ]
  },
  {
   "cell_type": "code",
   "execution_count": 561,
   "metadata": {
    "collapsed": false
   },
   "outputs": [
    {
     "data": {
      "text/plain": [
       "SVC(C=1.0, cache_size=200, class_weight='balanced', coef0=0.0,\n",
       "  decision_function_shape=None, degree=3, gamma='auto', kernel='rbf',\n",
       "  max_iter=-1, probability=False, random_state=None, shrinking=True,\n",
       "  tol=0.001, verbose=False)"
      ]
     },
     "execution_count": 561,
     "metadata": {},
     "output_type": "execute_result"
    }
   ],
   "source": [
    "svc_rbf.fit(X_train,y_train)"
   ]
  },
  {
   "cell_type": "code",
   "execution_count": 562,
   "metadata": {
    "collapsed": false
   },
   "outputs": [
    {
     "name": "stdout",
     "output_type": "stream",
     "text": [
      "Model Score 0.74 \n",
      "\n"
     ]
    }
   ],
   "source": [
    "model_score = svc_rbf.score(X_test,y_test)\n",
    "print (\"Model Score %.2f \\n\" % (model_score))"
   ]
  },
  {
   "cell_type": "code",
   "execution_count": 563,
   "metadata": {
    "collapsed": false
   },
   "outputs": [
    {
     "data": {
      "text/plain": [
       "0.33333333333333331"
      ]
     },
     "execution_count": 563,
     "metadata": {},
     "output_type": "execute_result"
    }
   ],
   "source": [
    "metrics.mean_absolute_error(y_test, svc_rbf.predict(X_test))"
   ]
  },
  {
   "cell_type": "code",
   "execution_count": 567,
   "metadata": {
    "collapsed": true
   },
   "outputs": [],
   "source": [
    "testSVC=pgv.AGraph(compound=True,directed=True)  \n",
    "\n",
    "predictionSource = X_test\n",
    "dcIndex = predictionSource.index\n",
    "dictIndex = {i:dcIndex[i] for i in range(len(list(dcIndex)))}\n",
    "\n",
    "compSVC = svc_rbf.predict(predictionSource)\n",
    "\n",
    "for i in range(len(compSVC)):\n",
    "    if compSVC[i] ==1:\n",
    "        iList.append(i)\n",
    "        testSVC.add_edge(index2kanten[dictIndex[i]])\n",
    "    elif compSVC[i] == 2:\n",
    "        key1 = dictIndex[i]\n",
    "        order = index2kanten[key1]\n",
    "        testSVC.add_edge((order[1],order[0]))\n",
    "    else:\n",
    "        pass"
   ]
  },
  {
   "cell_type": "code",
   "execution_count": 568,
   "metadata": {
    "collapsed": false
   },
   "outputs": [
    {
     "data": {
      "text/plain": [
       "array([0, 1, 1, 0, 0, 1, 2, 0, 0, 1, 0, 0, 0, 1, 0, 0, 2, 0, 0, 0, 0, 1, 0,\n",
       "       0, 1, 0, 2, 0, 0, 0, 1, 0, 0, 0, 2, 0, 1, 0, 0, 0, 0, 0])"
      ]
     },
     "execution_count": 568,
     "metadata": {},
     "output_type": "execute_result"
    }
   ],
   "source": [
    "compSVC"
   ]
  },
  {
   "cell_type": "code",
   "execution_count": 569,
   "metadata": {
    "collapsed": false
   },
   "outputs": [
    {
     "data": {
      "text/html": [
       "<iframe src=testSVC.png width=50% height=400></iframe><iframe src=g.png width=50% height=400></iframe>"
      ],
      "text/plain": [
       "<IPython.core.display.HTML object>"
      ]
     },
     "execution_count": 569,
     "metadata": {},
     "output_type": "execute_result"
    }
   ],
   "source": [
    "testSVC.draw('testSVC.png',prog='dot')\n",
    "\n",
    "show2images(['testSVC.png','g.png'],50)"
   ]
  },
  {
   "cell_type": "code",
   "execution_count": null,
   "metadata": {
    "collapsed": true
   },
   "outputs": [],
   "source": []
  }
 ],
 "metadata": {
  "anaconda-cloud": {},
  "kernelspec": {
   "display_name": "Python 3",
   "language": "python",
   "name": "python3"
  },
  "language_info": {
   "codemirror_mode": {
    "name": "ipython",
    "version": 3
   },
   "file_extension": ".py",
   "mimetype": "text/x-python",
   "name": "python",
   "nbconvert_exporter": "python",
   "pygments_lexer": "ipython3",
   "version": "3.5.2"
  },
  "latex_envs": {
   "bibliofile": "biblio.bib",
   "cite_by": "apalike",
   "current_citInitial": 1,
   "eqLabelWithNumbers": true,
   "eqNumInitial": 0
  },
  "nav_menu": {},
  "toc": {
   "navigate_menu": true,
   "number_sections": true,
   "sideBar": true,
   "threshold": 6,
   "toc_cell": false,
   "toc_section_display": "block",
   "toc_window_display": false
  }
 },
 "nbformat": 4,
 "nbformat_minor": 0
}
