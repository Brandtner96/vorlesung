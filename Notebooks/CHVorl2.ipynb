{
 "cells": [
  {
   "cell_type": "markdown",
   "metadata": {
    "button": false,
    "deletable": true,
    "new_sheet": false,
    "run_control": {
     "read_only": false
    }
   },
   "source": [
    "# Vorlesung 2: Gruppen von Individuen \n",
    "## Data mit Pandas Dataframes\n",
    "\n"
   ]
  },
  {
   "cell_type": "markdown",
   "metadata": {
    "button": false,
    "deletable": true,
    "new_sheet": false,
    "run_control": {
     "read_only": false
    }
   },
   "source": [
    "## Pandas Dataframes"
   ]
  },
  {
   "cell_type": "code",
   "execution_count": 97,
   "metadata": {
    "button": false,
    "collapsed": false,
    "deletable": true,
    "new_sheet": false,
    "run_control": {
     "read_only": false
    }
   },
   "outputs": [],
   "source": [
    "import json\n",
    "import pandas as pd\n",
    "import re\n",
    "import numpy as np\n",
    "import matplotlib.pyplot as plt"
   ]
  },
  {
   "cell_type": "code",
   "execution_count": 2,
   "metadata": {
    "button": false,
    "collapsed": false,
    "deletable": true,
    "new_sheet": false,
    "run_control": {
     "read_only": false
    }
   },
   "outputs": [],
   "source": [
    "# json.load erzeugt ein dictionary der JSON Daten\n",
    "with open('chapter1.json') as json_data:\n",
    "    PoleisRawData = json.load(json_data)"
   ]
  },
  {
   "cell_type": "code",
   "execution_count": 3,
   "metadata": {
    "button": false,
    "collapsed": false,
    "deletable": true,
    "new_sheet": false,
    "run_control": {
     "read_only": false
    }
   },
   "outputs": [
    {
     "data": {
      "text/plain": [
       "dict"
      ]
     },
     "execution_count": 3,
     "metadata": {},
     "output_type": "execute_result"
    }
   ],
   "source": [
    "# Abfrage des Datentyps\n",
    "type(PoleisRawData)"
   ]
  },
  {
   "cell_type": "code",
   "execution_count": 4,
   "metadata": {
    "button": false,
    "collapsed": false,
    "deletable": true,
    "new_sheet": false,
    "run_control": {
     "read_only": false
    }
   },
   "outputs": [
    {
     "data": {
      "text/plain": [
       "['42. Petra ',\n",
       " '44. Selinous ',\n",
       " '32. Kephaloidion ',\n",
       " '26 *Imachara ',\n",
       " '47. Syrakousai ',\n",
       " '13. Apollonia ',\n",
       " '40. Nakone ',\n",
       " '10. Akrai ',\n",
       " '5. Abakainon ',\n",
       " '49. Tyndaris ',\n",
       " '30. Katane ',\n",
       " '46. (Stielanaioi)',\n",
       " '11. Alaisa ',\n",
       " '37. Morgantina ',\n",
       " '34. Lipara ',\n",
       " '18. Heloron ',\n",
       " '9. Akragas ',\n",
       " '19. Henna ',\n",
       " '6. Adranon ',\n",
       " '29. Kasmenai ',\n",
       " '36. Megara ',\n",
       " '43. Piakos ',\n",
       " '25. Hippana ',\n",
       " '41. Naxos ',\n",
       " '51. Zankle ',\n",
       " '20. Herakleia 1',\n",
       " '16. Galeria ',\n",
       " '33. Leontinoi ',\n",
       " '27. Kallipolis ',\n",
       " '35. *Longane ',\n",
       " '14. Engyon ',\n",
       " '8. Aitna ',\n",
       " '50. (Tyrrhenoi)',\n",
       " '28. Kamarina ',\n",
       " '7. Agyrion ',\n",
       " '39. Mytistratos ',\n",
       " '24. Himera ',\n",
       " '12. Alontion ',\n",
       " '31. Kentoripa ',\n",
       " '21. Herakleia 2 ',\n",
       " '17. Gela ',\n",
       " '48. Tauromenion ',\n",
       " '15. Euboia ',\n",
       " '23. Herbita ',\n",
       " '45. (Sileraioi)',\n",
       " '38. Mylai ',\n",
       " '22. Herbes(s)os ']"
      ]
     },
     "execution_count": 4,
     "metadata": {},
     "output_type": "execute_result"
    }
   ],
   "source": [
    "# list() erstellt eine Liste der keys\n",
    "PoleisKeyList = list(PoleisRawData)\n",
    "PoleisKeyList"
   ]
  },
  {
   "cell_type": "code",
   "execution_count": 5,
   "metadata": {
    "button": false,
    "collapsed": false,
    "deletable": true,
    "new_sheet": false,
    "run_control": {
     "read_only": false
    }
   },
   "outputs": [
    {
     "data": {
      "text/plain": [
       "'44. Selinous '"
      ]
     },
     "execution_count": 5,
     "metadata": {},
     "output_type": "execute_result"
    }
   ],
   "source": [
    "# Listenelemente werden mit eckigen Klammern ausgewählt. Eine Index-Zahl gibt die n-Stelle der Liste aus\n",
    "PoleisKeyList[1]"
   ]
  },
  {
   "cell_type": "code",
   "execution_count": 6,
   "metadata": {
    "button": false,
    "collapsed": false,
    "deletable": true,
    "new_sheet": false,
    "run_control": {
     "read_only": false
    }
   },
   "outputs": [
    {
     "name": "stdout",
     "output_type": "stream",
     "text": [
      "44. Selinous \n",
      "47. Syrakousai \n",
      "46. (Stielanaioi)\n",
      "18. Heloron \n",
      "36. Megara \n",
      "33. Leontinoi \n",
      "15. Euboia \n"
     ]
    }
   ],
   "source": [
    "for i in PoleisKeyList:\n",
    "    if \"Megara\" in PoleisRawData[i]:\n",
    "        print(i)"
   ]
  },
  {
   "cell_type": "code",
   "execution_count": 7,
   "metadata": {
    "button": false,
    "collapsed": false,
    "deletable": true,
    "new_sheet": false,
    "run_control": {
     "read_only": false
    }
   },
   "outputs": [
    {
     "data": {
      "text/plain": [
       "'(Syrakosios) Map  47.  Lat. 37.05,long. 15.15.  Size  of  territory: 5.  Type:  A: .  The  toponym  is (),  (Hecat.  fr. 74;  Thuc. 5.4.3;  IG iv².195.i.39 ( 356/5))  or  (Hdt. 7.156.1);  Pind.  Ol. 6.6  and Bacchyl.  Ep. 5.104  have  ;  is  found at  Pind.  Pyth. 2.1.  The  city-ethnic  is  (C 5  coins, infra;  Thuc. 3.103.1;  IGDS  no. 94  ( 474))  and   (Hdt. 7.155.2).  Also  spelled  (C 6l\\xadC5e  coins, infra;  IGDS  no. 93  (c. 480);  cf.  IG v.1217  (C 5e): [ ]). Syracuse  is  called  a  polis  both  in  the  urban  sense  (Hdt. 7.155.2;  Thuc. 6.65.3;  Ps.-Skylax 13)  and  in  the  political  sense (Hdt. 7.154.2;  Thuc. 6.36.2  and  Xen.  Hell. 1.1.28).  Its  politeia was  described  by  Aristotle  (Arist.  fr. 602.1).  Politeuesthai  is found  at  Arist.  Pol. 1312b9,polites  at  Arist.  Pol. 1303a38,politeu- ma  at  Arist.  Pol. 1303b26,  damosios  at  SEG 38  368  (c. 475),  and demos  at  Thuc. 6.35.1.  Astoi  referring  to  the  citizens  is  found at  Pind.  Pyth. 3.71  and  asty  referring  to  the  city  occurs  in  AG 13.15  (C 4e).  For  Patris,  see  Thuc. 6.68.8;  69.3  and  Isoc. 3.23. The  internal  collective  use  of  the  city-ethnic  is  attested  on coins  from  C 6l  onwards  (infra);  the  external  collective use  is found  in  IvO 661  (C 6),  IGDS  no. 89  ( 485\\xad470),  Hdt. 3.125.2 and  Thuc. 3.103.1.  The  external  individual  use  is  attested  in Egypt-Delta i694/511  (C 6\\xadC5),  IvO 266  (c. 480),  Thuc. 4.58, IG ii²  101.2  ( 372/1)  and  CID ii  4.i.40  ( 360). Syracuse  was  founded  by  Archias,  a  Heraklid  from Corinth  (no. 227;  Thuc. 6.3.2;  cf.  Strabo  8.6.22).According  to Strabo  6.2.4  and  Ps.-Skymnos  279\\xad82  the  founders  included a  group  of  Dorians  who  had  come  to  found  Megara  (no. 36) but  fell  out  with  the  other  colonists  and  then  joined  the Corinthian  founders  of  Syracuse.  The  exact  date  of  the foundation,  as  well  as  its  date  relative  to  those  of  the  other early  colonies  in  Sicily,  is  much  debated:  according  to  Thuc. 6.3.1  (probably  based  on  Antiochos  of  Syracuse),  the  city  was founded  only  a  year  after  Naxos,  the  earliest  of  the  Sicilian colonies.  On  the  other  hand,  Ephor.  fr. 137a  (apud  Strabo 6.2.2)  stated  that  Naxos  (no. 41)  and  Megara  (no. 36)  were the  earliest  colonies,  and  the  unemended  text  of  Strabo  6.2.4 presupposes  that  Megara  was  founded  shortly  before Syracuse.  Thuc. 6.3.2  gives  the  foundation  date  as  733/2  (sup- ported  by  Eusebios,  cf.  Bérard  ( 1957)  120  with  refs.). However,  a date c.C 8m  is  indicated  by  Marmor  Parium (FGrHist 239)  A  31,  which  places  Archias  seven  generations after  Temenos  and  the  return  of  the  Herakleidai. The  name  of  the  territory  was  (Thuc. 6.52.2);  it  is  termed  at  Thuc. 7.42.6  and at 6.45. After  its  foundation,  Syracuse  quickly  expanded  its  territo- ry;  by C 8l  it  extended  as  far  to  the  south-west  as  Heloron (no. 18),  a  Syracusan  colony  founded  in  C 8l\\xadC7e;  by  664  it extended  inland  as  far  as  Akrai  (no. 10),  a  colony  founded  in that  year  (Thuc. 6.5.2);  by  C 7s  it  had  expanded  further  west- wards  to  Kasmenai  (no. 29),  a  colony  founded  in  644  (Thuc. 6.5.3).  To  the  north,  Thapsos  formed  the  border  with Megara  (no. 36);  Kamarina  (no. 28)  was  founded  in  598  on the  border  between  the  areas  of  influence of  Syracuse  and Gela  (Di  Vita  ( 1956),  ( 1987)).  Heloron,  Akrai  and  Kasmenai were  possibly  constituted  as  dependent  poleis  in  the  territo- ry  of  Syracuse  (see  the  respective  entries);  Kamarina  was also  in  one  way  or  another  dependent  on  Syracuse. Herodotos  reports  that  Kamarina  of  old  belonged  to Syracuse  ( 7.154.3),  and  Thucydides  refers  to  a  C 6m  apostasis from  Syracuse  by  Kamarina  ( 6.5.3).  The  C 7\\xadC6  Syracusan dominion  comprised  an  area  of  about  3,000\\xad3,500  km ². During  the  C 5f  rule  of  the  Deinomenidai,  Syracuse incorporated  or  exercised  influence o ver  the  territories  of Kamarina,  Megara,  Leontinoi  and  Naxos;  by  440  all  native communities  were  ruled  by  Syracuse  (Diod. 12.29.2\\xad4);  after Dionysios  I\\'s  peace  with  Carthage  in  392,  Syracuse  ruled over  all  of  central  and  eastern  Sicily  (Karlsson  ( 1992)  map 2.a),  and  over  parts  of  South  Italy  including  Rhegion  (no. 68)  and  southern  Calabria. The  size  of  the  population  is  unknown,  and  it  must  have been  subject  to  constant  changes  due  to  the  many  reloca- tions  carried  out  during  the  Classical  period.  The  known incorporations  of  foreign  groups  into  the  Syracusan  citizen body  are  the  following:  ( 1)  Gelon  transplanted  and  granted Syracusan  citizenship  to  (a)  all  the  Kamarinaians,  (b)  half  of the  Geloans,  (c)  the  pachees  of  Megara,  (d)  the  pachees  of  the city  of  Euboia  (Hdt. 7.156.2\\xad3);  (e)  he  also  granted  citizen- ship  to  more  than  10,000  mercenaries  (Diod. 11.72.3).  ( 2) After  the  congress  in  Gela  in  424,  the  dynatoi  of  Leontinoi were  relocated  to  Syracuse  and  were  granted  citizenship (Thuc. 5.4.2;  cf.  Xen.  Hell. 2.3.5).  ( 3)  Dionysios  I  enlarged  the citizen  body  by  enrolling  (a)  eleutheromenoi  as  neopolitai (Diod. 14.7.4);  (b)  the  inhabitants  of  Leontinoi,  who  were granted  citizenship  (Diod. 14.15.4);  (c)  the  inhabitants  of Italian  Kaulonia,  who  were  granted  citizenship  and  ateleia for  five y ears  (Diod. 14.106.3);  (d)  the  inhabitants  of  Italian Hipponion  (though  it  is  not  specified at Diod. 14.107.2  that these  received  citizenship).  ( 4)  Timoleon  (a)  made  the  peo- ple  of  Agyrion  (and  possibly  Kentoripa)  citizens  of  Syracuse (Diod. 16.82.4);  (b)  relocated  the  population  of  Leontinoi  to sikelia  225 Syracuse  (and  presumably  granted  them  citizenship, though  this  is  not  specified at Diod. 16.82.7);  (c)  settled  5,000 new  colonists  (Diod. 16.82.3;  cf.  Plut.  Tim. 23);  and  (d)  later several  myriads  more  ( 40,000  according  to Diod. 16.82.5; perhaps  60,000  according  to  Athanis  (FGrHist 562)  fr. 2;  cf. Talbert  ( 1974)  30).  In  the  Classical  period,  Syracuse  was  the largest  city  of  Sicily  (Hecat.  fr. 74;  Thuc. 7.58.4),in  extent  sec- ond  only  to  Akragas,  for  which  city  Diod. 13.84.3  (r 406)  gives the  figure of 20,000  citizens.  Drögemüller  ( 1969)  100  sug- gests  an  urban  population  of 40,000\\xad45,000  for  Syracuse,  a guesstimate  which  may  be  a  little  on  the  high  side  in  view  of the  size  of  the  C 5  habitation  area,  c. 150  ha  (infra).  It  is  impos- sible  to  estimate  the  number  of  citizens  from  the  few  hints given  by  Thucydides  about  the  size  of  the  Syracusan  army  in 415  ( 6.67.2: µ  ,  number  of  cavalry  given  as  1,200). Treaties  of  C 6m  with  Megara,  Enna  (Kasmenai?  cf.  the entry  for  Kasmenai)  and  presumably  Gela  are  strongly implied  by  Philistos  (FGrHist 556)  fr. 5,  who  refers  to a  war between  Syracuse  and  Kamarina  and  their  allies.  In  492  a treaty  with  Hippokrates  of  Gela  after  his  defeat  of  the Syracusans  came  about  through  arbitration  by  Corinth  (no. 227)  and  Korkyra  (no. 123)  (Hdt. 7.154.3;  cf.  Thuc. 6.5.3). Gelon\\'s  victory  at  Himera  induced  nearly  all  the  cities  of Sicily  to  recognise  his  power  and  to  enter  into  a  symmachia with  him  (Diod. 11.26.2).  Syracuse  was  a  party  to  the  pan- Sicilian  agreement  concluded  at  the  Congress  of  Gela  in  424 by  which  it  ceded  Morgantina  (no. 37)  to  Kamarina  (no. 28) in  return  for  a  specified payment ( Thuc. 4.65.1).  During  the war  with  Leontinoi  (no. 33)  in  the  420s,Syracuse  had  treaties of  symmachia  with  the  Dorian  cities  of  Sicily  (except  for Kamarina)  and  with  Italian  Lokroi  (no. 59;  Thuc. 3.86.2\\xad3) and  Lipara  (no. 34)  (Thuc. 3.88.3),  and  it  ruled  a  number  of Sikel  communities  kata  kratos  ( 103.1),  receiving  aparche from  them  (Thuc. 6.20.4). Numerous  Syracusan  exiles  are  on  record;  the  earliest  are the  Myletidai  mentioned  at  Thuc. 6.5.1  who  joined  the Zanklaians  (no. 51)  in  founding  Himera  (no. 24)  in  648. Exiles  are  attested  under  Deinomenid  rule  (Diod. 11.67.5), and  in  C 5m  several  sentences  of  exile  were  decreed  by  petal- ismos  (Diod. 11.87.4  (rC 5m)).  Exiles  collaborated  with  the Athenians  during  their  attack  (Thuc. 6.64.1).  A  collective sentence  of  exile  was  passed  on  the  strategoi  after  the  battle of  Kyzikos  (Xen.  Hell. 1.1.27).  In  406  a  general  recall  of  exiles was  voted  by  the  assembly  (Diod. 13.92.4\\xad7). The  city  waged  numerous  wars;  the  earliest  known  is  the  C 6m  war  with  its  colony  Kamarina  in  which  both  were supported  by  allies  (Philistos  (FGrHist 556)  fr. 5).Apart  from the  military  victories  of  the  Deinomenidai,  the  most  spec- tacular  triumph  was  that  of  the  democracy  which,  eventual- ly  joined  by  all  Sicilian  poleis  except  Akragas  (no. 9)  (Thuc. 7.33,  58),  defeated  the  invading  Athenians  (Thuc. 6\\xad7).  The Deinomenidai  raised  huge  armies,  but  these  can  hardly  have been  recruited  from  Syracuse  alone,  and  Deinomenid employment  of  mercenaries  was  extensive (Parke ( 1933) 10\\xad13);  in  480  Gelon  raised  50,000  foot  and  5,000  horse (Diod. 11.21);  Thrasyboulos  raised  15,000  soldiers  (Diod. 11.67.7  (r 466))  and  controlled  a  navy  (Diod. 11.68.3  (r 466)). But  even  during  Deinomenid  rule  there  are  references  to civic  forces  proper  (Diod. 11.67.5:  politikai  dynameis).  In  471, 2,000  Syracusans  fell  in  battle  against  Akragas  (Diod. 11.53.5). In 439,  the  democracy  had  100  triremes  constructed (Diod. 12.30.1),  and  Thucydides  twice  refers  to  eighty  ships in  action  ( 7.22.1,  38.1).  Trierarchoi  are  attested  at  Xen.  Hell. 1.1.28  (cf.  IG ii²  105.37  ( 368/7)),  naval  commanders  at  Thuc. 7.25.1,  and  a  nauarchos  at  Diod. 11.88.4  (r 453).  Navies  are mentioned  also  at  e.g.  Thuc. 7.52.1  (seventy-six  ships);  Xen. Hell. 1.2.10  (twenty-five ships),  and  Diod. 13.13.1  (r 413)  (sev- enty-four  ships).  Hoplites  are  mentioned  at  Thuc. 6.67.2, (pandemei,  but  no  figure);  a  corps  of 600  epilektoi  is  attested for 461  (Diod. 11.76.2;  cf.  Thuc. 6.96.3  for 600  logades hoplites)  and  3,000  stratiotai  epilektoi  are  attested  for  409 (Diod. 13.59.1).  Akontistai  are  attested  at  Thuc. 6.67.2  and psiloi  at 6.52.2,  7.78.3.  Hippeis  are  mentioned  at  e.g.  Thuc. 6.67.2,where  they  are  said  to  number  not  less  than  1,200.The democracy  too  hired  mercenaries  (Thuc. 7.48.5).During  the democracy  the  board  of  strategoi  had  fifteen members (five from  each  tribe?),  but  during  the  Athenian  invasion  it  was reduced to  three strategoi  autokratores  (Thuc. 6.73.1), perhaps  one  from  each  tribe.  Strategoi  are  referred  to also  at e.g.  Thuc. 6.40.2;Xen.  Hell. 1.1.27;  IG ii²  105.36  ( 368/7);  and Diod. 11.91.2  (r 451).  Dionysios  I  in  405  raised 30,000  foot, 1,000  horse  and  50  ships  (Diod. 13.109.2). Sending  of  envoys  is  attested  at  Diod. 11.68.1  (r 466),  Thuc. 4.58  (Congress  of  Gela), 73.2,  75.2;  reception  of  envoys  is attested  at  Diod. 12.8.4  ( 446)  and  13.44.4  (r 410).  A  grant  of proxeny  by Delphi  (no. 177)  to  a  citizen  of  Syracuse  is  record- ed  by F.Delphes iii.1437  ( 331/30);  IG ii²  101  ( 373/2)  is  an  hon- orific decree for a citizen of  Syracuse  by Athens  (no. 361).The inhabitants  of  Antandros  (no. 767)  decreed  honorific citi- zenship  to  the  citizens  of  Syracuse  in  recognition  of  military help  (Xen.  Hell. 1.1.26).For  block  grants  of  Syracusan  citizen- ship,  see  above.  A  citizen  of  Syracuse  served  as  theorodokos  of Epidauros  (no. 348)  in  356/5  (IG iv².195.i.39;  cf. ii.61). The  constitution  of  Syracuse  is  known almost  exclusively from  literary  sources,  and  the  only  relevant  inscriptions  are 226 fischer-hansen,  nielsen  and  ampolo a  few  dedications  found  in  Olympia  and  Delphi  (infra). Hippys  of  Rhegion  (FGrHist 554)  fr. 4  refers  to a  Pollis  Argeios describing  him  as  having  been  king  ( ) of Syracuse,  presumably  before  C 5  (Carlier  ( 1984)  467;  he  is described  as  tyrannos  in  Arist.  fr. 602.1).  However,  the  origi- nal  constitution  of  the  city  was  an  aristocracy  of  Gamoroi (Marmor  Parium  (FGrHist 239)  36  (rC 7l\\xadC6e);cf.also  IGDS no. 219  with  Dubois\\'  comm.;  Diod. 8.11),  who  ruled  both  the demos  (Hdt. 7.155.2)  and  a  serf  population  called  the Kyllyrioi  (ibid.  and  Arist.  fr. 603).  In  C 5e  the  Gamoroi  were expelled  by the  demos  and  retired  to  the  Syracusan  colony  of Kasmenai  (no. 29),  whence  they  were  brought  back  by Gelon,  to  whom  the  demos  handed  over  both  itself  and  the polis  (see  E.  W.  Robinson  ( 1997)  120\\xad22  with  Arist.  Pol. 1302b31\\xad32  for  democracy  at  Syracuse  at  this  stage).  Gelon moved  his  seat  from  Gela  (no. 17)  to  Syracuse,  and  from  that point  the  city  was  ruled  by  the  tyrant  dynasty  of  the Deinomenidai:  Gelon  ( 485\\xad478/7;  see  Berve  ( 1967)  142\\xad47), Hieron ( 478\\xad466;  see  Berve  ( 1967)  147\\xad52),  and Thrasyboulos  ( 466/5).  The  assembly  is  attested  during Gelon\\'s  reign  (Diod. 11.26.6).The  tyranny  was  brought  to  an end  in  466/5,  when  the  Syracusans  revolted  against Thrasyboulos  (Arist.  Pol. 1312b10\\xad16)  and  expelled  him  in collaboration  with  forces  from  Gela  (no. 17),  Akragas  (no. 9),  Selinous  (no. 44)  and  Himera  (no. 24)  (Diod. 11.67.5\\xad68.5);  Arist.  Pol. 1312a10\\xad11  suggests  that  the Deinomenidai  may  have  been  weakened  by  internal  rivalry. Democracy  was  now  reintroduced  (Arist.  Pol. 1316a32\\xad33; Diod. 11.68.6),  and  at  least  some  of  the  population  reloca- tions  carried  out  by  Gelon  were  reversed  (Diod. 11.76.3\\xad5; Strabo  6.2.3).  The  assembly  (ekklesia)  passed  a  decree (epsephisanto)  to  the  effect  that  only  archaioi  politai  were entitled  to  hold  office (Diod. 11.72.2).  Seven  thousand  of  the mercenaries  enfranchised  by Gelon  were thus  excluded from  office (Diod. 11.73.1),  though  they  remained  citizens (Arist.  Pol. 1303b1);  this  led  to  civil  war  (ibid.),  which  the mercenaries  lost  (Diod. 11.76.2;  cf.  Arist.  Pol. 1303a38ff).  A koinon  dogma  by  all  the  poleis  of  Sicily  then  reversed  all population  relocations  of  C 5f  and  assigned  Messana  (no. 51) to  the  mercenaries  (Diod. 11.76.5  (r 460)).  The  democracy lasted  until  the  tyranny  of  Dionysios  I  (for  the  democracy  in this  period,  see  Rutter  ( 2000));  during  the  democracy,  the working  of  the  assembly  is  attested  (Thuc. 6.32.3,  72.1;Diod. 11.72,  92.2;  cf.  Thuc. 6.35.  2  for  a  demou  prostates  and  Diod. 11.92.2  (r 451)  for  a  hint  of  the  procedure  of  probouleusis (Rutter  ( 2000)  145)),  and  foreign  policy  was  among  its responsibilities  (Thuc. 7.2.1);  magistracies  were originally filled b y election  (Diod. 11.73.1);  Thuc. 6.38.5  suggests  that  a law  specified a minimum age for office  holding.  The  proce- dure  of  petalismos  was  instituted  in  imitation  of  Athenian ostracism  to  prevent  the  appearance  of  new  tyrants;  it  led  to several  banishments,  but  had  to  be  revoked  because  it  alien- ated  the  upper  class  (Diod. 11.86\\xad87;  Rutter  ( 2000)  146\\xad48). After  the  victory  over  Athens  the  demos  assumed  still  greater power  (Arist.  Pol. 1304a27\\xad29: µ  ...    µ µ).An important revision of  the  leg- islative  code  took  place  in  this  period  ( 412/11)  according  to Diodorus:  a  commission  of  nomothetai  presided  over  by Diokles  drew  up  the  so-called  Laws  of  Diokles  ( 13.35);  one reform  changed  the  procedure  for  appointing  magistrates from  election  to  sortition  ( 13.34.6).  Tyranny  returned  to Syracuse  with  Dionysios  I,  who  ruled  the  city  from  his appointment  as  strategos  autokrator  in 406  (Diod. 13.95.1)  to his  death  in  367  (see  further  Caven  ( 1990)).  Dionysios  pre- sumably  carried  out  a     µ  to  consolidate  his grip  on  power (Diod. 14.7.4\\xad5  (r 404)).  IG ii²  105.35\\xad37 ( 368/7)  suggests  that  in  formal  terms  the  democratic  consti- tution  remained  in  existence  during  Dionysios\\'  reign  (cf.  Arist.  Oec. 1349a14,  26,  34  for  the  ekklesia  during  his reign).  After  his  death  several  tyrants  were  in  power  until  the intervention  of  Timoleon  in  344  put  an  end  to  a  period  of unrest  and  reintroduced  democracy  (see  Talbert  ( 1974)).  By the  later  C 4  the  city  was  ruled  by  \"the  oligarchy  of  the  Six Hundred\"  until  tyranny  returned  once  more  with Agathokles  (see  Wickert  in  RE ²  iv. 2.  1518\\xad23). Syracuse  experienced  perhaps  more  staseis  than  any  other Greek polis:  Berger  ( 1992)  34\\xad49  studies  nineteen  cases  from the  Archaic  period  down  to  the  age  of  Timoleon.  One  stasis occurred  prior  to  the  foundation  of  Himera  in  648:  Thuc. 6.5.1  mentions  that  a  group  of  phygades  from  Syracuse    joined  the  Zanklaians  in  founding Himera  (Berger  ( 1992)  34).  Another  stasis  occurred  \"in ancient  times\"  and  developed  from  a  conflict between office-holders into a c onflict involving all citizens;  it  led  to  a change  in  the  constitution  (Arist.  Pol. 1303b20\\xad26;  cf.  Berger ( 1992)  35).  Plut.  Mor. 825C,  relating  this  event,  mentions  a convened  to  solve  the  political  differences. One  of  the  earliest  known  public  enactments  is  a  law regulating  funerary  expenses  which  is  attested  during Gelon\\'s  reign  (Diod. 11.38.2).  A  death  sentence  and  execu- tion  are  recorded  by  Diod. 11.91.2  (r 451);  confiscation of property  of  convicts  is  attested  by  Diod. 13.93.2  (r 406). An  eponymous  epipolos  is  attested  from  the  time  of Timoleon  onwards  (Diod. 16.70.6  (r 344)).  Arist.  Pol. 1303b23 has  a  general  reference  to archai\"in  ancient  times\";  the  boule is  attested  in  the  same  period  (by  Plut.  Mor. 825C  (supra)) sikelia  227 and  is  mentioned  in  IG ii²  105.36  ( 368/7).  Thucydides  pro- vides  some  general  references  to officials ( 7.73.3:    ;  7.73.4:    ); and  Diod. 11.92.2  (r 451)  has  a general  reference  to archontes  convening  the  assembly  (cf. 13.91.4  (r 406)).  IG ii²  105.35  ( 368/7)  also  provides  a  general reference  to archontes. A  system  of  phylai  is  attested  by  Thuc. 6.100.1;  it  served inter  alia  as  the  basis  for  the  army  organisation  (cf.  Plut.  Nic. 14.6).The  number  of  strategoi  indicates  that  there  were  three phylai;  they  were  presumably  the  traditional  Dorian  set  of Hylleis,  Dymanes  and  Pamphyloi  (Jones,  POAG 173\\xad76).  A roster  of  all  Syracusan  citizens  as  organised  into  their  phylai was  stored  in  the  Olympieion  (Plut.  Nic. 14.6  (r 415),  see  229). Eisphora  is  attested  during  the  reign  of  Dionysios  I  (Arist. Pol. 1313b26ff,  Oec. 1349b6);  tribute  received  from  subjected natives  is  attested  in  Thuc. 6.20.4.According  to  Diod. 14.46.1 (r 398),  a  sizeable  body  of  Carthaginians  lived  in  Syracuse  as free  non-citizens. The  splendidly  celebrated  Panhellenic  victories  of  Hieron (Olympionikai 221,  234,  246;  Pind.  Ol. 1,  Pyth. 1\\xad3;Bacchyl. Ep. 3\\xad5;cf.Harrell  ( 2002))  were  not  the  only  victories  won  by Syracusans;  see  Olympionikai 51  ( 648),  219  ( 476),  248  ( 468), and 334  ( 420).  In  C 5f,  Astylos  of  Kroton  was  proclaimed  a Syrakosios  at  several  of  his  Olympic  victories  (Olympionikai 186\\xad87),  and  Diod. 11.1.2  describes  him  as  such.  Dikon  of Kaulonia  must  have  been  among  the  Kaulonians  relocated to  Syracuse  by  Dionysios  I  (supra);  he  was  proclaimed  a Syrakosios  at  his  subsequent  victories  (Olympionikai 388\\xad89)  and  is  described  as  such  by  Diod. 15.14.1  (cf. Stylianou  ( 1998)  ad  loc.).  For  a  C 4l  victor  in  the  Arkadian Lykaia,see IG  V. 2550.20. The  principal  divinities  of  Syracuse  seem  to  have  been Apollo,  Artemis,  Athena  and  Zeus  (Olympios),  to  all  of whom  temples  were  erected  in  the  Archaic  period  (infra). All  preserved  communal  dedications  are  of  C 5.  IG v.1217 is  presumably  a  C 5f  dedication  by  Syracuse  at  Sparta  (no. 345).  Whereas  Gelon  dedicated  spoils  from  the  battle  of Himera  ( 480)  at  Delphi  in  his  own  name  (ML  28  IGDS  no. 93;  cf.  Diod. 11.26.7;  for  the  structure:  Krumeich  ( 1991)), spoils  from  the  victory  at  Kyme  in  474  were  dedicated  joint- ly  at  Olympia  by  µ   (ML 29  IGDS  no. 94;  cf.  Horos 1  ( 1983)  59; Yalouris  ( 1980)  14\\xad15;  O.  Hansen  ( 1990);  Harrell  ( 2002)).  A treasury  was  built  at  Olympia  from  the  spoils  of  Himera (Paus. 6.19.7:  ;  for  the  structural remains:  Mallwitz  ( 1956\\xad58));  in  it  were  housed  offerings  by,  presumably,  \"Gelon  and  the  Syracusans\"  (ibid.).  For  a dedication  at  Olympia  by  the  Syracusans  of  spoils  taken from  Akragas,  see  IGDS  no. 95;Yalouris  ( 1980)  16;  and  SEG 11 1212a  (cf.  SEG 15  252).  A  herald\\'s  staff  was  also  dedicated  at Olympia  (SEG 38  368  (c. 475)).At  Delphi  a  treasury  was  con- structed  from  the  spoils  taken  from  the  defeated  Athenians (Paus. 10.11.5).  For  attempts  to  identify  both  an  Archaic  and a  Classical  treasury  of  the  Syracusans  in  the  architectural remains  at  Delphi,  see  Partida  ( 2000)  77\\xad80,  135\\xad46. The  town  was  founded  on  the  island  of  Ortygia,  an  ideal site  with  harbours  on  either  side:  in  the  east  the  Lakkios,  the Small  Harbour,  in  the  west  the  Great  Harbour  (for  a  geo- morphological  survey  of  settlement  and  territory,  see Mirisola  and  Polacco  ( 1996)).  Traces  of  Sikel  habitation  confirm the t radition  that  the  first G reek  settlers  ousted  the original  inhabitants  (Thuc. 6.3.2;  cf.  Martin  et al.( 1979) 655\\xad57;  Frasca  ( 1983)). Archaeological  evidence  confirms a C 8s  foundation  date, and  C 8  habitation  remains  on  Ortygia  are  similar  to  con- temporary  remains  from  Megara  and  Naxos.  A  north\\xadsouth artery,  joining  the  major  sanctuaries,  and  with  orthogonally laid  out  stenopoi,  has  an  early  origin  (Pelagatti  ( 1982)  135\\xad38; Voza ( 1984\\xad85)  669\\xad72,(1993\\xad94)  1283\\xad87).  The  city expanded  on  to  the  mainland,  the  coastal  plain  of Achradina,  from  C 8  (Voza  ( 1976\\xad77)  551\\xad53),  and  from C 7l\\xadC6e  a  narrow  isthmus  may  have  joined  Ortygia  with  its hinterland  (cf.  Strabo  1.3.18;  Kapitän  ( 1967\\xad68)).  The  main east-west  plateia  of  the  Achradina  originated  in  the  C 8\\xadC7 as  a  route  linking  Ortygia  with  the  Fusco  cemetery.  There  is C 5\\xadC4  evidence  of  orthogonal  town planning  (Voza ( 1976\\xad77)  551\\xad61,(1980\\xad81)  681\\xad82).  Ortygia  and  the  inner Achradina  comprised  an  area  of  c. 50  ha. The  C 4  extension  of  the  city  northwards--obliterating the  C 7\\xadC4  cemeteries  and  joining  the  areas  of  the  Achradina and  Neapolis--is probably t o  be  connected  with  the Timoleontic  settlement  of  new  colonists  (Diod. 16.82.3). The  periphery  of  the  city  was  taken  up  with  public  build- ings,  and  the  outskirts  of  the  Neapolis  by  theatres.  Tyche, located  to  the  east,  with  the  sanctuary  of  Tyche  and  the upper  plateau  of  Epipolai,  were  not  urbanised;  however, from  the  time  of  the  conflict w ith  Athens,  the  size  of  the  city was  about  150  ha,  and  in  the  Hellenistic  period  as  much  as 200  ha. The  island  of  Ortygia  and  the  coastal  plain  of  Achradina were  probably  fortified during the A rchaic  period  (implied by  the  mention  of  a  siege  by  Hippokrates  of  Gela  in  the  490s (Hdt. 7.154.2)  and  by  the  mention  of  walls  during  the  revolt against  Thrasyboulos  in  465  (Diod. 11.67.8;  see  also  11.73.1)); however,  the  archaeological  evidence  is  poor  (Drögemüller 228 fischer-hansen,  nielsen  and  ampolo ( 1969)  47\\xad48,  55\\xad56).  From  the  reign  of  Dionysios  I,  Ortygia served  as  a  strongly  fortified palace of  the  tyrants  (Diod. 14.7.2\\xad4;  cf.  Hansen  and  Fischer-Hansen  ( 1994)  29;for remains  of  a  circuit  wall,  see  Martin  et al.( 1979)  666; Karlsson  ( 1992)  22\\xad23),  a  palace  later  razed  to  the  ground  by Timoleon  (Diod. 16.70.4). The  plateau  of  Epipolai  was  probably  not  fortified before forts  were  laid  out  there  by  the  Athenians,  and  the  various counter  walls  and  cross  walls  were  raised  by  the  Syracusans during  the  war  of 414/13  (Thuc. 6.99\\xad100,  7.4\\xad7).  Dionysios I  fortified E pipolai,  first along the northern scarp (Diod. 14.18.2\\xad8  (r 401)),  later  along  the  southern  scarp;  it  was  a  cir- cuit  wall  running  for  c. 9  km,  and  according  to Diod. 15.13.5 the  \"greatest  possessed  by  a  Greek  city\"  (Winter  ( 1971) 314\\xad15;  Karlsson  ( 1992)  21,fig.  1,  23\\xad38,  71).  The  west  gate  and the  Euryalos  fort  were probably  begun  by Dionysios,  but  the fully  developed  system  of  bastions  and  ditches  belong  to  the time  of  Timoleon,  with  the  final c omplex  from  C 3m (Winter  ( 1963);  Lawrence  ( 1979)  295\\xad99). The  Archaic  agora  has  with  some  uncertainty  been  locat- ed  west  of  the  Athenaion  (modern  Piazza  del  Duomo) (Pelagatti  ( 1982)  136\\xad37).  A  Classical  (and  Roman)  agora  is normally  taken  for  granted  in  the  southern  part  of  the Achradina  (modern  Piazza  Marconi/Foro  Siracusano),  but the  evidence  is  inconclusive (Bernabò  Brea  ( 1947);  Martin  et al.( 1979)  675). The  island  of  Ortygia  was  the  seat  of  at  least  three  major sanctuaries:  (a)  in  the  north,  the  sanctuary  of  Apollo,  with  a C 6e  Doric  temple  (Cultera  ( 1951);  Barletta  ( 1983)  72\\xad78), with  a  history  going  back  to C 8;  (b)  the  so-called  C 6l  Ionic temple  is  located  on  the  elevated  central  part  of  the  island (G.V.  Gentili  ( 1967);  Barletta  ( 1983)  86\\xad90);  it  is  uncertain  to whom  the  temple  was  dedicated  (G.  V.  Gentili  ( 1967)  80  sug- gests  Artemis);  it  was  not  completed,  perhaps  as  a  result  of  a revision  of  building  programmes  by  the  Deinomenidai, who  initiated  instead  the  construction  of  the  adjacent Athenaion;  (c)  the  Doric  temple  of  c. 480\\xad470,now incorpo- rated  into  the  Renaissance  cathedral,  probably  built  by Gelon  to  replace  earlier  structures  (Orsi  ( 1919);  T.  Van Compernolle  ( 1989)  45\\xad48,(1992)  51\\xad55).  It  is  normally taken  for  granted  that  this  is  the  temple  dedicated  to  Athena (Cic.  Verr. 2.4.124\\xad25),  and  according  to  Gras  ( 1990)  the  two temples  mentioned  in  Gelon\\'s  treaty  with  the  Carthaginians (Diod. 11.26.2)  were  temples  of  Athena  in  Syracuse  and  in Himera.  Remains  from  the  temenos  include  traces  of  a stepped  altar,  parapet  and  architectural  fragments  in  Ionic style  (Barletta  ( 1983)  78\\xad86).  Investigations  have  recently revealed  a  monumental  entrance  to  the  temenos  and evidence  of  a  C 7l\\xadC6e  naiskos(?),  altar  and  votive  pits  south of  the  Athenaion  (Voza  ( 1993\\xad94)  1286\\xad87).  A  sanctuary  of Olympian  Earth  was  located  on  the  tip  of  Ortygia  (Ath. 462B). Large  quantities  of  C 5l\\xadC4e  votive  deposits  (Martin  et al. ( 1979)  680\\xad86;  Hinz  ( 1998)  102\\xad7)  found  in  the  mainland Achradina  district  (modern  Piazza  Victoria)  provide  evi- dence  of  a  sanctuary  of  Demeter  and  Persephone,  perhaps the  one  embellished  with  two  temples  by  Gelon  after  the  vic- tory  at  Himera  in  480  (Diod. 11.26.7),  located  in  the  suburbs (proasteion)  and  destroyed  by  the  Carthaginians  in  396 (Diod. 14.70.4).  A  C 4  graffito w ith  a  dedication  to  Artemis Pheraia  points  to  a  cult  also  of  Artemis  in  this  sanctuary (Voza  ( 1973c)  106\\xad7).  A  proasteion  is  not  compatible  with  a location  so  near  the  city  centre  according  to  Polacco  ( 1986) 23  n. 6,  who  suggests  that  the  Demeter  sanctuary  should rather  be  located  west  of  the  city  near  the  Olympieion.  An Apollo  sanctuary  was  located  near  the  theatre  in  the Temenites,  a  locality  on  the  outskirts  of  Achradina  (Thuc. 6.75.1,  7.75.1;  for  history  and  terminology:  Drogemüller ( 1969)  48  n. 36,  56\\xad57).  The  sanctuary  is  now  tentatively identified w ith  the  remains  of  an  Archaic  temple  laid  out  on a  terrace  above  the  theatre  (Voza  ( 1993\\xad94)  1289\\xad90). After  the  fall  of  the  tyranny,  the  Syracusans  raised  a  statue of  Zeus  Eleutherios  and  founded  an  annual  festival  of eleutheria  (Diod. 11.72.2  with  Barrett  ( 1973)  30  n. 20;for a survey  of  other  festivals,  see  Trojani  in  Polacco  and  Anti ( 1981)  26\\xad29).  The  major  suburban  cult  was  that  of  Zeus Olympios  west  of  the  river  Anapos  (Diod. 10.28.1  (r 491)). The  extant  remains  are  those  of  a  C 6m  gigantic  Doric  tem- ple,  with  evidence  of  a  C 7  predecessor  (Orsi  ( 1903);  Lissi ( 1958)).A  neighbouring  hamlet,  Polichene  at  Thuc. 7.4.6  but Polichne  at  Diod. 13.7.6,  was  fortified b y  the  Athenians  in 414.  A  suburban  Artemis  sanctuary  was  located  on  the north-east  outskirts  of  the  Epipolai  plateau,  at  the Hexapylon  gate  leading  northwards  to  Megara  and  Katane (Orsi  ( 1900)). Two  Greek  theatres  are  known  at  Syracuse.  ( 1)  The  larger is  situated  on  the  outskirts  of  the  Neapolis  district,  the Temenites,  on  the  slope  of  the  Epipolai.  In  its  main  construction  phase,  the  period  of  Hieron  II  ( 271\\xad216),  it  had a  seating  capacity  of 14,000\\xad17,000;  earlier  Archaic  or Classical  phases  have  not  been  demonstrated  convincingly (Polacco  and  Anti  ( 1981);  Polacco  ( 1990)).  However,  literary sources  attest  to  an  earlier  phase  of  this  theatre  at  least  from C 5e,  and  at  least  from  C 4m  it  was  built  of  stone  (Trojani  in Polacco  and  Anti  ( 1981)  41\\xad43  with  refs.).  A  C 5s  architect  by the  name  of  Damokopos  was  associated  with  the  building  of sikelia  229 the  theatre  (cf.  Eust.  Od. 3.68),  and  Aischylos  produced  the Women  of  Aitna  for  Hieron  in  476  (see  Trojani  in  Polacco and  Anti  ( 1981)  34\\xad36  with  refs.).  A  theatre  is  mentioned  by Diod. 13.94.1  (r 406),  and  was  used  as  ekklesiasterion  in 336 (Plut.  Tim. 34.3,  38.3).  ( 2)  About  100  m  to the  west,  rock  cut- tings  from  a  rectangular  structure  are  evidence  of  a  theatron with  rectangular  seating  and  a  cavea  with  a  diameter  of 27.5 m;  its  seating  capacity  was  about  1,000.  Its  chronology  is uncertain,  though  possibly  C 6l\\xadC5e  (G.  V.  Gentili  ( 1952); Drögemüller  ( 1969)  48\\xad49);  according  to  Bernabò  Brea ( 1967)  99,the  interpretation  of  the  rectangular  structure  as  a predecessor  of  the  large  theatre is  quite  uncertain,  and  it cannot  be  excluded  that  this  building  served  as  the  meeting place  for  smaller  political  bodies  or  even  as  a  bouleuterion (Ginouvès  ( 1972)  61\\xad62;  Kolb  ( 1981)  92).  A  prison  is  attested in  Diod. 11.86.5  (rC 5m)  and  in  Plut.  Dio 57.3  (Hansen  ( 2002) 36\\xad37). The  earliest,  Fusco,  cemetery  laid  out  east  of  the  city  was later  followed  by  an  arc  of  cemeteries  lying  around  the  city from  there  to  Tyche  in  the  west.  The  Archaic  cemeteries  in the  outer  Achradina  district  were  taken  over  by  habitation when  the  Classical  city  expanded,  pushing  the  Hellenistic cemeteries  further  out.  (For  a  survey  with  bibliography: Lanza  ( 1989);  add  Voza  ( 1993\\xad94)  1292;  Shepherd  ( 1995) 52\\xad56;  see  also  Frederiksen  ( 1999)). Minting  began  about  510/500  (C.  Boehringer  ( 1984\\xad85) 122\\xad24)  with  coins  on  the  Euboic\\xadAttic  standard  and  the tetradrachm  as  the  main  denomination:  obv.  quadriga,  leg- end: or ;  rev.  an  incuse  mill-sail design  with  a  female  head,  probably  the  nymph  Arethusa,  in the  centre  (SNG  Cop.  Sicily 614;  standard  corpus  of Syracusan  coins  until  c. 425:  E.  Boehringer  ( 1929);  recent  sur- vey:  Rutter ( 1997)  114\\xad16,  121\\xad29).  The  lower  denomination is  a  didrachm  with  obv.  rider  and  side-horse;  rev.  similar  to the  tetradrachm  issue  (C.  Boehringer  ( 1984\\xad85)  pl. 13.8\\xad9). A  new  issue  was  probably  introduced  by  Gelon  c. 480  with basically  the  same  types  though  more  developed  in  design: the  charioteer  crowned  by  a  Nike,  and  Arethusa  on  the  rev. occupying  the  whole  field and surrounded b y  four  dolphins, legend: / (Rutter  ( 1997)  124  fig. 121;  SNG Cop.  Sicily 617\\xad18;  SNG  Cop.  Suppl. 74;C5f  chronology, followed  here:  Rutter  ( 1998)).  Lower  denominations (didrachms  and  drachms):  obv.  horseman;  rev.  Arethusa (SNG.  Cop.  Sicily 615\\xad16).  The  next  phase,  from  shortly before  470,  saw  a  rich  issue  of  tetradrachms  with  the  now canonical  types;  types  of  the  lower  denominations: drachms,  obv.  horseman,  rev.Arethusa;  obols,  obv.Arethusa, rev.  four-spoked  wheel  (with  between  the  spokes); litrai,  obv.  Arethusa,  legend: ,  rev.  Cuttlefish ( SNG Cop.  Sicily 620\\xad34).  This  issue  culminated  in  a  series  of tetradrachms  and  an  innovative  issue  of  decadrachms,  now dated  470\\xadc.466  and  no  longer  connected  with  the  480 victory  of  Gelon  at  Himera  in  480:  obv.  as  above  but  with lion  in  exergue,  rev.  Arethusa  wearing  wreath,  legend: (Rutter  ( 1993),  ( 1998)  pl. 67.3\\xad4).  From c. 460  the  obv.  type  carried  ketos  in  exergue  (SNG  Cop.  Sicily 635\\xad51).  The  Attic  weight  standard  and  the  obv.  design  came to  exert  great  influence on the c oinages  of  the  neigbouring cities  of  Gela,  Katane  and  Leontinoi  (Kraay  ( 1976)  210\\xad11; Rutter ( 1998)). By C 5l,  tetradrachms  with  the  canonical  types  in  a  free style  were  produced  by  workshops  at  times  operating  with engravers  who  signed  their  dies  (Rutter  ( 1997)  144\\xad46;  SNG Cop.  Sicily 666).  One  issue  of  the  die-cutter  Kimon  has  two letters  on  the  obv.: ,  possibly  a  reference  to a  cult  of Arethousa  Soteira  (Cahn  ( 1993)).  C 5l  also  saw  large  issues  of smaller  denominations;  of  special  interest  are  drachms  with rev.  type  showing  the  legendary  Sikanian  hero  Leukaspis (SNG  Cop.  Sicily 665,  673).  Before  400  the  standard  legend becomes  (Head,  HN ²175;  SNG  Cop. Sicily 674,681,etc.).Bronze  and  gold  issues  belong  to  the  end of  C 5  and  should  be  seen  in  the  light  of  first the A thenian and  later  the  Carthaginian  invasions  under  Dionysios  I, with  high  denominations  in  silver,  decadrachms  signed  by engravers  (C.  Boehringer  ( 1993);  Rutter  ( 1997)  146\\xad47, 154\\xad58;  bronzes:  Morcom  ( 1998);  SNG  Cop.  Sicily 683\\xad700, 720\\xad22).100-litrai  electrum  coins  were  minted  by  Dionysios I  and  II:  obv.  Apollo;  rev.  Artemis,  legend: ; smaller  denominations  were  minted  as  well  (SNG  Cop.  Sicily 701\\xad10).  Under  Timoleon  the  Corinthian  connection  is underlined  by  Corinthian-type  pegasi  minted  at  Syracuse (SNG  Cop.  Sicily 711\\xad12);  later  the  Zeus  Eleutherios  and  the free  horse  types  become  common  for  the  cities  under Timoleon\\'s hegemony  (Talbert  ( 1974)  182\\xad90;  Karlsson ( 1995);  SNG  Cop.  Sicily 725). Syracuse  founded  several  colonies.  The  earliest  was Heloron  (no. 18),  founded  in  C 8l\\xadC7e.  Akrai  (no. 10)  was founded  in  664,  and  Kasmenai  (no. 29)  in  644  (Thuc. 6.5.2). Kamarina  (no. 28)  was  founded  c. 598  (Thuc. 6.5.3),  and within  a  few  decades  waged  war  on  its  metropolis  (Philistos (FGrHist 556)  fr. 5).  The  tyrant  Hieron  founded  the  city  of Aitna  (no. 8)  in  476  (Diod. 11.49.1\\xad2);  and  Dionysios  I founded  Adranon  (no. 6)  (Diod. 14.37.5  (r 399)),  probably Adria  (no. 75),  possibly  Ankon  (no. 76),  certainly  Issa  (no. 81);  cf.  Stylianou  ( 1998)  ad 13.4\\xad5  at  p. 196),  Lissos  (no. 82) (Diod. 15.13.4  (r  c. 385);  see  Stylianou  ( 1998)  ad  loc.),  and 230 fischer-hansen,  nielsen  and  ampolo Tyndaris  (no. 49).  Tauromenion  (no. 48)  too  may  possibly be  a  Dionysian  foundation.'"
      ]
     },
     "execution_count": 7,
     "metadata": {},
     "output_type": "execute_result"
    }
   ],
   "source": [
    "# Der key in eckigen Klammern gibt den Wert des Elements mit dem Key aus\n",
    "PoleisRawData[PoleisKeyList[4]]"
   ]
  },
  {
   "cell_type": "code",
   "execution_count": 8,
   "metadata": {
    "button": false,
    "collapsed": false,
    "deletable": true,
    "new_sheet": false,
    "run_control": {
     "read_only": false
    }
   },
   "outputs": [
    {
     "data": {
      "text/html": [
       "<div>\n",
       "<table border=\"1\" class=\"dataframe\">\n",
       "  <thead>\n",
       "    <tr style=\"text-align: right;\">\n",
       "      <th></th>\n",
       "      <th>0</th>\n",
       "    </tr>\n",
       "  </thead>\n",
       "  <tbody>\n",
       "    <tr>\n",
       "      <th>10. Akrai</th>\n",
       "      <td>(Akraios) Map  47.  Lat. 37.05,long.  14.55.  ...</td>\n",
       "    </tr>\n",
       "    <tr>\n",
       "      <th>11. Alaisa</th>\n",
       "      <td>(Alaisinos) Map  47.  Lat. 38.00,long.  14.15....</td>\n",
       "    </tr>\n",
       "    <tr>\n",
       "      <th>12. Alontion</th>\n",
       "      <td>(Alontinos) Map  47.  Lat. 38.05,long.  14.40....</td>\n",
       "    </tr>\n",
       "    <tr>\n",
       "      <th>13. Apollonia</th>\n",
       "      <td>(Apolloniates) Map  47.  Lat. 38.00,long. 14.3...</td>\n",
       "    </tr>\n",
       "  </tbody>\n",
       "</table>\n",
       "</div>"
      ],
      "text/plain": [
       "                                                                0\n",
       "10. Akrai       (Akraios) Map  47.  Lat. 37.05,long.  14.55.  ...\n",
       "11. Alaisa      (Alaisinos) Map  47.  Lat. 38.00,long.  14.15....\n",
       "12. Alontion    (Alontinos) Map  47.  Lat. 38.05,long.  14.40....\n",
       "13. Apollonia   (Apolloniates) Map  47.  Lat. 38.00,long. 14.3..."
      ]
     },
     "execution_count": 8,
     "metadata": {},
     "output_type": "execute_result"
    }
   ],
   "source": [
    "# Liest das Dictionary als Dataframe ein. Namen der Poleis werden als Index benutzt.\n",
    "dfPoleis = pd.DataFrame([PoleisRawData]).transpose()\n",
    "dfPoleis.head(4)"
   ]
  },
  {
   "cell_type": "markdown",
   "metadata": {},
   "source": [
    "# Konstruktion neuer Merkmale\n",
    "## Textmuster mit regulären Ausdrücken\n",
    "\n",
    "http://www.regexe.de/hilfe.jsp \n",
    "https://www.cheatography.com/davechild/cheat-sheets/regular-expressions/\n",
    "\n",
    "http://www.coli.uni-saarland.de/courses/python1-10/folien/PythonI10-07.pdf"
   ]
  },
  {
   "cell_type": "code",
   "execution_count": 9,
   "metadata": {
    "button": false,
    "collapsed": false,
    "deletable": true,
    "new_sheet": false,
    "run_control": {
     "read_only": false
    }
   },
   "outputs": [
    {
     "data": {
      "text/html": [
       "<div>\n",
       "<table border=\"1\" class=\"dataframe\">\n",
       "  <thead>\n",
       "    <tr style=\"text-align: right;\">\n",
       "      <th></th>\n",
       "      <th>Beschreibung</th>\n",
       "    </tr>\n",
       "  </thead>\n",
       "  <tbody>\n",
       "    <tr>\n",
       "      <th>10. Akrai</th>\n",
       "      <td>(Akraios) Map  47.  Lat. 37.05,long.  14.55.  ...</td>\n",
       "    </tr>\n",
       "    <tr>\n",
       "      <th>11. Alaisa</th>\n",
       "      <td>(Alaisinos) Map  47.  Lat. 38.00,long.  14.15....</td>\n",
       "    </tr>\n",
       "    <tr>\n",
       "      <th>12. Alontion</th>\n",
       "      <td>(Alontinos) Map  47.  Lat. 38.05,long.  14.40....</td>\n",
       "    </tr>\n",
       "    <tr>\n",
       "      <th>13. Apollonia</th>\n",
       "      <td>(Apolloniates) Map  47.  Lat. 38.00,long. 14.3...</td>\n",
       "    </tr>\n",
       "    <tr>\n",
       "      <th>14. Engyon</th>\n",
       "      <td>(Engyinos)  Map  47.  Lat. 37.45,long.  14.35....</td>\n",
       "    </tr>\n",
       "  </tbody>\n",
       "</table>\n",
       "</div>"
      ],
      "text/plain": [
       "                                                     Beschreibung\n",
       "10. Akrai       (Akraios) Map  47.  Lat. 37.05,long.  14.55.  ...\n",
       "11. Alaisa      (Alaisinos) Map  47.  Lat. 38.00,long.  14.15....\n",
       "12. Alontion    (Alontinos) Map  47.  Lat. 38.05,long.  14.40....\n",
       "13. Apollonia   (Apolloniates) Map  47.  Lat. 38.00,long. 14.3...\n",
       "14. Engyon      (Engyinos)  Map  47.  Lat. 37.45,long.  14.35...."
      ]
     },
     "execution_count": 9,
     "metadata": {},
     "output_type": "execute_result"
    }
   ],
   "source": [
    "# Umnennen der Spalte von 0 zu 'full_text'\n",
    "dfPoleis = dfPoleis.rename(columns={0: 'Beschreibung'})\n",
    "dfPoleis.head()"
   ]
  },
  {
   "cell_type": "code",
   "execution_count": 10,
   "metadata": {
    "collapsed": false
   },
   "outputs": [
    {
     "data": {
      "text/plain": [
       "['Akrai ',\n",
       " 'Alaisa ',\n",
       " 'Alontion ',\n",
       " 'Apollonia ',\n",
       " 'Engyon ',\n",
       " 'Euboia ',\n",
       " 'Galeria ',\n",
       " 'Gela ',\n",
       " 'Heloron ',\n",
       " 'Henna ',\n",
       " 'Herakleia 1',\n",
       " 'Herakleia 2 ',\n",
       " 'Herbes(s)os ',\n",
       " 'Herbita ',\n",
       " 'Himera ',\n",
       " 'Hippana ',\n",
       " 'Imachara ',\n",
       " 'Kallipolis ',\n",
       " 'Kamarina ',\n",
       " 'Kasmenai ',\n",
       " 'Katane ',\n",
       " 'Kentoripa ',\n",
       " 'Kephaloidion ',\n",
       " 'Leontinoi ',\n",
       " 'Lipara ',\n",
       " '*Longane ',\n",
       " 'Megara ',\n",
       " 'Morgantina ',\n",
       " 'Mylai ',\n",
       " 'Mytistratos ',\n",
       " 'Nakone ',\n",
       " 'Naxos ',\n",
       " 'Petra ',\n",
       " 'Piakos ',\n",
       " 'Selinous ',\n",
       " '(Sileraioi)',\n",
       " '(Stielanaioi)',\n",
       " 'Syrakousai ',\n",
       " 'Tauromenion ',\n",
       " 'Tyndaris ',\n",
       " 'bakainon ',\n",
       " '(Tyrrhenoi)',\n",
       " 'Zankle ',\n",
       " 'dranon ',\n",
       " 'gyrion ',\n",
       " 'itna ',\n",
       " 'kragas ']"
      ]
     },
     "execution_count": 10,
     "metadata": {},
     "output_type": "execute_result"
    }
   ],
   "source": [
    "# Konstruktion einer Liste mit sogenannten List-Comprehensions\n",
    "ListCities = [x[4:] for x in dfPoleis.index]\n",
    "ListCities"
   ]
  },
  {
   "cell_type": "code",
   "execution_count": 11,
   "metadata": {
    "collapsed": false
   },
   "outputs": [],
   "source": [
    "# Extrahiere Name der Polis aus Index\n",
    "dfPoleis['city'] = [x[4:] for x in dfPoleis.index]"
   ]
  },
  {
   "cell_type": "code",
   "execution_count": 12,
   "metadata": {
    "collapsed": false
   },
   "outputs": [],
   "source": [
    "# Extrahiere Nummer des Polis Eintrags\n",
    "dfPoleis['city_index'] = [int(re.findall('\\d{1,2}', x)[0]) for x in dfPoleis.index]"
   ]
  },
  {
   "cell_type": "code",
   "execution_count": 13,
   "metadata": {
    "collapsed": false
   },
   "outputs": [],
   "source": [
    "# Sortiere die Zeilen nach der Spalte \n",
    "dfPoleis = dfPoleis.sort_values(by='city_index')"
   ]
  },
  {
   "cell_type": "code",
   "execution_count": 14,
   "metadata": {
    "button": false,
    "collapsed": false,
    "deletable": true,
    "new_sheet": false,
    "run_control": {
     "read_only": false
    }
   },
   "outputs": [],
   "source": [
    "# Nutze neuen Index (startet bei 0)\n",
    "#dfPoleis = dfPoleis.reset_index(drop=True)"
   ]
  },
  {
   "cell_type": "code",
   "execution_count": 15,
   "metadata": {
    "button": false,
    "collapsed": false,
    "deletable": true,
    "new_sheet": false,
    "run_control": {
     "read_only": false
    }
   },
   "outputs": [
    {
     "data": {
      "text/html": [
       "<div>\n",
       "<table border=\"1\" class=\"dataframe\">\n",
       "  <thead>\n",
       "    <tr style=\"text-align: right;\">\n",
       "      <th></th>\n",
       "      <th>Beschreibung</th>\n",
       "      <th>city</th>\n",
       "      <th>city_index</th>\n",
       "    </tr>\n",
       "  </thead>\n",
       "  <tbody>\n",
       "    <tr>\n",
       "      <th>5. Abakainon</th>\n",
       "      <td>(Abakaininos) Map  47.  Lat. 38.05,long. 15.05...</td>\n",
       "      <td>bakainon</td>\n",
       "      <td>5</td>\n",
       "    </tr>\n",
       "    <tr>\n",
       "      <th>6. Adranon</th>\n",
       "      <td>(Adranites) Map  47.  Lat. 37.40,long.  14.50....</td>\n",
       "      <td>dranon</td>\n",
       "      <td>6</td>\n",
       "    </tr>\n",
       "    <tr>\n",
       "      <th>7. Agyrion</th>\n",
       "      <td>(Agyrinaios) Map  47.  Lat. 37.40,long.  14.30...</td>\n",
       "      <td>gyrion</td>\n",
       "      <td>7</td>\n",
       "    </tr>\n",
       "    <tr>\n",
       "      <th>8. Aitna</th>\n",
       "      <td>(Aitnaios) Map  47.Location  of  Aitna  I  as ...</td>\n",
       "      <td>itna</td>\n",
       "      <td>8</td>\n",
       "    </tr>\n",
       "  </tbody>\n",
       "</table>\n",
       "</div>"
      ],
      "text/plain": [
       "                                                    Beschreibung       city  \\\n",
       "5. Abakainon   (Abakaininos) Map  47.  Lat. 38.05,long. 15.05...  bakainon    \n",
       "6. Adranon     (Adranites) Map  47.  Lat. 37.40,long.  14.50....    dranon    \n",
       "7. Agyrion     (Agyrinaios) Map  47.  Lat. 37.40,long.  14.30...    gyrion    \n",
       "8. Aitna       (Aitnaios) Map  47.Location  of  Aitna  I  as ...      itna    \n",
       "\n",
       "               city_index  \n",
       "5. Abakainon            5  \n",
       "6. Adranon              6  \n",
       "7. Agyrion              7  \n",
       "8. Aitna                8  "
      ]
     },
     "execution_count": 15,
     "metadata": {},
     "output_type": "execute_result"
    }
   ],
   "source": [
    "dfPoleis.head(4)"
   ]
  },
  {
   "cell_type": "markdown",
   "metadata": {},
   "source": [
    "## Textmustersuche in der Beschreibung einer Polis\n",
    "### Neue Funktionen"
   ]
  },
  {
   "cell_type": "code",
   "execution_count": 16,
   "metadata": {
    "collapsed": false
   },
   "outputs": [],
   "source": [
    "def ListePattern(value,pattern):\n",
    "    x = re.findall(pattern, value)\n",
    "    if x:\n",
    "        return(x[0][-5:])"
   ]
  },
  {
   "cell_type": "markdown",
   "metadata": {},
   "source": [
    "### Geographische Koordinaten"
   ]
  },
  {
   "cell_type": "code",
   "execution_count": 17,
   "metadata": {
    "collapsed": false
   },
   "outputs": [
    {
     "data": {
      "text/plain": [
       "'38.05'"
      ]
     },
     "execution_count": 17,
     "metadata": {},
     "output_type": "execute_result"
    }
   ],
   "source": [
    "# nicht alle haben geographische Koordinaten\n",
    "listLat=ListePattern(value=dfPoleis['Beschreibung'].iloc[0],pattern=\"Lat\\.\\s?\\d+\\.\\d+\")\n",
    "listLat"
   ]
  },
  {
   "cell_type": "code",
   "execution_count": 18,
   "metadata": {
    "collapsed": false
   },
   "outputs": [
    {
     "data": {
      "text/plain": [
       "'15.05'"
      ]
     },
     "execution_count": 18,
     "metadata": {},
     "output_type": "execute_result"
    }
   ],
   "source": [
    "# gleiches auch für long.\n",
    "listLong=ListePattern(value=dfPoleis['Beschreibung'].iloc[0],pattern=\"long\\.\\s*\\d+\\.\\d+\")\n",
    "listLong"
   ]
  },
  {
   "cell_type": "code",
   "execution_count": 19,
   "metadata": {
    "collapsed": false
   },
   "outputs": [],
   "source": [
    "dfPoleis['Latitude'] = dfPoleis['Beschreibung'].apply(ListePattern,pattern=(\"Lat\\.\\s?\\d+\\.\\d+\")).astype(float)\n",
    "\n",
    "dfPoleis['Longitude'] = dfPoleis['Beschreibung'].apply(ListePattern,pattern=(\"long\\.\\s*\\d+\\.\\d+\")).astype(float)"
   ]
  },
  {
   "cell_type": "code",
   "execution_count": 20,
   "metadata": {
    "collapsed": false
   },
   "outputs": [
    {
     "data": {
      "text/html": [
       "<div>\n",
       "<table border=\"1\" class=\"dataframe\">\n",
       "  <thead>\n",
       "    <tr style=\"text-align: right;\">\n",
       "      <th></th>\n",
       "      <th>Beschreibung</th>\n",
       "      <th>city</th>\n",
       "      <th>city_index</th>\n",
       "      <th>Latitude</th>\n",
       "      <th>Longitude</th>\n",
       "    </tr>\n",
       "  </thead>\n",
       "  <tbody>\n",
       "    <tr>\n",
       "      <th>5. Abakainon</th>\n",
       "      <td>(Abakaininos) Map  47.  Lat. 38.05,long. 15.05...</td>\n",
       "      <td>bakainon</td>\n",
       "      <td>5</td>\n",
       "      <td>38.05</td>\n",
       "      <td>15.05</td>\n",
       "    </tr>\n",
       "    <tr>\n",
       "      <th>6. Adranon</th>\n",
       "      <td>(Adranites) Map  47.  Lat. 37.40,long.  14.50....</td>\n",
       "      <td>dranon</td>\n",
       "      <td>6</td>\n",
       "      <td>37.40</td>\n",
       "      <td>14.50</td>\n",
       "    </tr>\n",
       "    <tr>\n",
       "      <th>7. Agyrion</th>\n",
       "      <td>(Agyrinaios) Map  47.  Lat. 37.40,long.  14.30...</td>\n",
       "      <td>gyrion</td>\n",
       "      <td>7</td>\n",
       "      <td>37.40</td>\n",
       "      <td>14.30</td>\n",
       "    </tr>\n",
       "    <tr>\n",
       "      <th>8. Aitna</th>\n",
       "      <td>(Aitnaios) Map  47.Location  of  Aitna  I  as ...</td>\n",
       "      <td>itna</td>\n",
       "      <td>8</td>\n",
       "      <td>NaN</td>\n",
       "      <td>NaN</td>\n",
       "    </tr>\n",
       "    <tr>\n",
       "      <th>9. Akragas</th>\n",
       "      <td>(Akragantinos) Map  47.  Lat. 37.20,long.  13....</td>\n",
       "      <td>kragas</td>\n",
       "      <td>9</td>\n",
       "      <td>37.20</td>\n",
       "      <td>13.35</td>\n",
       "    </tr>\n",
       "    <tr>\n",
       "      <th>10. Akrai</th>\n",
       "      <td>(Akraios) Map  47.  Lat. 37.05,long.  14.55.  ...</td>\n",
       "      <td>Akrai</td>\n",
       "      <td>10</td>\n",
       "      <td>37.05</td>\n",
       "      <td>14.55</td>\n",
       "    </tr>\n",
       "    <tr>\n",
       "      <th>11. Alaisa</th>\n",
       "      <td>(Alaisinos) Map  47.  Lat. 38.00,long.  14.15....</td>\n",
       "      <td>Alaisa</td>\n",
       "      <td>11</td>\n",
       "      <td>38.00</td>\n",
       "      <td>14.15</td>\n",
       "    </tr>\n",
       "    <tr>\n",
       "      <th>12. Alontion</th>\n",
       "      <td>(Alontinos) Map  47.  Lat. 38.05,long.  14.40....</td>\n",
       "      <td>Alontion</td>\n",
       "      <td>12</td>\n",
       "      <td>38.05</td>\n",
       "      <td>14.40</td>\n",
       "    </tr>\n",
       "    <tr>\n",
       "      <th>13. Apollonia</th>\n",
       "      <td>(Apolloniates) Map  47.  Lat. 38.00,long. 14.3...</td>\n",
       "      <td>Apollonia</td>\n",
       "      <td>13</td>\n",
       "      <td>38.00</td>\n",
       "      <td>14.35</td>\n",
       "    </tr>\n",
       "    <tr>\n",
       "      <th>14. Engyon</th>\n",
       "      <td>(Engyinos)  Map  47.  Lat. 37.45,long.  14.35....</td>\n",
       "      <td>Engyon</td>\n",
       "      <td>14</td>\n",
       "      <td>37.45</td>\n",
       "      <td>14.35</td>\n",
       "    </tr>\n",
       "    <tr>\n",
       "      <th>15. Euboia</th>\n",
       "      <td>(Euboeus)  Map  47.  Unlocated.  Type:  C: .Th...</td>\n",
       "      <td>Euboia</td>\n",
       "      <td>15</td>\n",
       "      <td>NaN</td>\n",
       "      <td>NaN</td>\n",
       "    </tr>\n",
       "    <tr>\n",
       "      <th>16. Galeria</th>\n",
       "      <td>(Galarinos) Map  47.Unlocated  (Manni  ( 1981)...</td>\n",
       "      <td>Galeria</td>\n",
       "      <td>16</td>\n",
       "      <td>NaN</td>\n",
       "      <td>NaN</td>\n",
       "    </tr>\n",
       "    <tr>\n",
       "      <th>17. Gela</th>\n",
       "      <td>(Geloios,  Geloaios) Map  47.  Lat. 37.05,long...</td>\n",
       "      <td>Gela</td>\n",
       "      <td>17</td>\n",
       "      <td>37.05</td>\n",
       "      <td>14.15</td>\n",
       "    </tr>\n",
       "    <tr>\n",
       "      <th>18. Heloron</th>\n",
       "      <td>(Ailoros) Map  47.  Lat. 36.50,long.  15.05.  ...</td>\n",
       "      <td>Heloron</td>\n",
       "      <td>18</td>\n",
       "      <td>36.50</td>\n",
       "      <td>15.05</td>\n",
       "    </tr>\n",
       "    <tr>\n",
       "      <th>19. Henna</th>\n",
       "      <td>(Hennaios) Map  47.  Lat. 37.35,long.  14.15. ...</td>\n",
       "      <td>Henna</td>\n",
       "      <td>19</td>\n",
       "      <td>37.35</td>\n",
       "      <td>14.15</td>\n",
       "    </tr>\n",
       "    <tr>\n",
       "      <th>20. Herakleia 1</th>\n",
       "      <td>(Herakleotes) Map  47.  Lat. 37.25,long. 13.15...</td>\n",
       "      <td>Herakleia 1</td>\n",
       "      <td>20</td>\n",
       "      <td>37.25</td>\n",
       "      <td>13.15</td>\n",
       "    </tr>\n",
       "    <tr>\n",
       "      <th>21. Herakleia 2</th>\n",
       "      <td>Map 47.Unlocated  site  in  western  Sicily, i...</td>\n",
       "      <td>Herakleia 2</td>\n",
       "      <td>21</td>\n",
       "      <td>NaN</td>\n",
       "      <td>NaN</td>\n",
       "    </tr>\n",
       "    <tr>\n",
       "      <th>22. Herbes(s)os</th>\n",
       "      <td>(Herbessinos) Map  47.  Unlocated,  but presum...</td>\n",
       "      <td>Herbes(s)os</td>\n",
       "      <td>22</td>\n",
       "      <td>NaN</td>\n",
       "      <td>NaN</td>\n",
       "    </tr>\n",
       "    <tr>\n",
       "      <th>23. Herbita</th>\n",
       "      <td>(Herbitaios) Map  47.Unlocated  (cf.  C.  Boeh...</td>\n",
       "      <td>Herbita</td>\n",
       "      <td>23</td>\n",
       "      <td>NaN</td>\n",
       "      <td>NaN</td>\n",
       "    </tr>\n",
       "    <tr>\n",
       "      <th>24. Himera</th>\n",
       "      <td>(Himeraios) Map  47.  Lat. 37.55,long.  13.50....</td>\n",
       "      <td>Himera</td>\n",
       "      <td>24</td>\n",
       "      <td>37.55</td>\n",
       "      <td>13.50</td>\n",
       "    </tr>\n",
       "    <tr>\n",
       "      <th>25. Hippana</th>\n",
       "      <td>(Hipanatas)  Map  47.  Lat. 37.40,long.  13.25...</td>\n",
       "      <td>Hippana</td>\n",
       "      <td>25</td>\n",
       "      <td>37.40</td>\n",
       "      <td>13.25</td>\n",
       "    </tr>\n",
       "    <tr>\n",
       "      <th>26 *Imachara</th>\n",
       "      <td>(Imacharaios) Map  47.  Unlocated.  Barr. tent...</td>\n",
       "      <td>Imachara</td>\n",
       "      <td>26</td>\n",
       "      <td>NaN</td>\n",
       "      <td>14.20</td>\n",
       "    </tr>\n",
       "    <tr>\n",
       "      <th>27. Kallipolis</th>\n",
       "      <td>(Kallipolites)  Map  47.  Unlocated.  Type:  A...</td>\n",
       "      <td>Kallipolis</td>\n",
       "      <td>27</td>\n",
       "      <td>NaN</td>\n",
       "      <td>NaN</td>\n",
       "    </tr>\n",
       "    <tr>\n",
       "      <th>28. Kamarina</th>\n",
       "      <td>(Kamarinaios) Map  47.  Lat. 36.50,long. 14.25...</td>\n",
       "      <td>Kamarina</td>\n",
       "      <td>28</td>\n",
       "      <td>36.50</td>\n",
       "      <td>14.25</td>\n",
       "    </tr>\n",
       "    <tr>\n",
       "      <th>29. Kasmenai</th>\n",
       "      <td>(Kasmenaios) Map  47.  Lat. 37.05,long. 14.50....</td>\n",
       "      <td>Kasmenai</td>\n",
       "      <td>29</td>\n",
       "      <td>37.05</td>\n",
       "      <td>14.50</td>\n",
       "    </tr>\n",
       "    <tr>\n",
       "      <th>30. Katane</th>\n",
       "      <td>(Katanaios) Map  47.  Lat. 37.30,long.  15.05....</td>\n",
       "      <td>Katane</td>\n",
       "      <td>30</td>\n",
       "      <td>37.30</td>\n",
       "      <td>15.05</td>\n",
       "    </tr>\n",
       "    <tr>\n",
       "      <th>31. Kentoripa</th>\n",
       "      <td>(Kentoripinos) Map  47.  Lat. 37.35,long. 14.4...</td>\n",
       "      <td>Kentoripa</td>\n",
       "      <td>31</td>\n",
       "      <td>37.35</td>\n",
       "      <td>14.45</td>\n",
       "    </tr>\n",
       "    <tr>\n",
       "      <th>32. Kephaloidion</th>\n",
       "      <td>(Kephaloiditas) Map  47.  Lat. 38.00, long. 14...</td>\n",
       "      <td>Kephaloidion</td>\n",
       "      <td>32</td>\n",
       "      <td>38.00</td>\n",
       "      <td>14.00</td>\n",
       "    </tr>\n",
       "    <tr>\n",
       "      <th>33. Leontinoi</th>\n",
       "      <td>(Leontinos) Map  47.  Lat. 37.15,long.  15.00....</td>\n",
       "      <td>Leontinoi</td>\n",
       "      <td>33</td>\n",
       "      <td>37.15</td>\n",
       "      <td>15.00</td>\n",
       "    </tr>\n",
       "    <tr>\n",
       "      <th>34. Lipara</th>\n",
       "      <td>(Liparaios) Map  47.  Lat. 38.30  long. 14.55....</td>\n",
       "      <td>Lipara</td>\n",
       "      <td>34</td>\n",
       "      <td>38.30</td>\n",
       "      <td>14.55</td>\n",
       "    </tr>\n",
       "    <tr>\n",
       "      <th>35. *Longane</th>\n",
       "      <td>(Longenaios) Map  47.  Lat. 38.05,long. 15.10....</td>\n",
       "      <td>*Longane</td>\n",
       "      <td>35</td>\n",
       "      <td>38.05</td>\n",
       "      <td>15.10</td>\n",
       "    </tr>\n",
       "    <tr>\n",
       "      <th>36. Megara</th>\n",
       "      <td>(Megareus) Map  47.  Lat. 37.10,long.  15.10. ...</td>\n",
       "      <td>Megara</td>\n",
       "      <td>36</td>\n",
       "      <td>37.10</td>\n",
       "      <td>15.10</td>\n",
       "    </tr>\n",
       "    <tr>\n",
       "      <th>37. Morgantina</th>\n",
       "      <td>(Morgantinos) Map  47.  Lat. 37.25,long. 14.30...</td>\n",
       "      <td>Morgantina</td>\n",
       "      <td>37</td>\n",
       "      <td>37.25</td>\n",
       "      <td>14.30</td>\n",
       "    </tr>\n",
       "    <tr>\n",
       "      <th>38. Mylai</th>\n",
       "      <td>(Mylaios) Map  47.  Lat. 38.15,  long  15.15. ...</td>\n",
       "      <td>Mylai</td>\n",
       "      <td>38</td>\n",
       "      <td>38.15</td>\n",
       "      <td>NaN</td>\n",
       "    </tr>\n",
       "    <tr>\n",
       "      <th>39. Mytistratos</th>\n",
       "      <td>(Mytiseratinos) Map  47.  Lat. 37.35,long. 14....</td>\n",
       "      <td>Mytistratos</td>\n",
       "      <td>39</td>\n",
       "      <td>37.35</td>\n",
       "      <td>14.00</td>\n",
       "    </tr>\n",
       "    <tr>\n",
       "      <th>40. Nakone</th>\n",
       "      <td>(Nakonaios)  Map  47.  Unlocated  (Tegon ( 199...</td>\n",
       "      <td>Nakone</td>\n",
       "      <td>40</td>\n",
       "      <td>NaN</td>\n",
       "      <td>NaN</td>\n",
       "    </tr>\n",
       "    <tr>\n",
       "      <th>41. Naxos</th>\n",
       "      <td>(Naxios) Map  47.  Lat. 37.50,long.  15.15.  S...</td>\n",
       "      <td>Naxos</td>\n",
       "      <td>41</td>\n",
       "      <td>37.50</td>\n",
       "      <td>15.15</td>\n",
       "    </tr>\n",
       "    <tr>\n",
       "      <th>42. Petra</th>\n",
       "      <td>(Petrinos) Map  47.  Unlocated  (cf.  Bejor  (...</td>\n",
       "      <td>Petra</td>\n",
       "      <td>42</td>\n",
       "      <td>NaN</td>\n",
       "      <td>NaN</td>\n",
       "    </tr>\n",
       "    <tr>\n",
       "      <th>43. Piakos</th>\n",
       "      <td>(Piakinos) Map  47.  Unlocated,  but  possibly...</td>\n",
       "      <td>Piakos</td>\n",
       "      <td>43</td>\n",
       "      <td>NaN</td>\n",
       "      <td>NaN</td>\n",
       "    </tr>\n",
       "    <tr>\n",
       "      <th>44. Selinous</th>\n",
       "      <td>(Selinousios) Map  47.  Lat. 37.35,long.  12.5...</td>\n",
       "      <td>Selinous</td>\n",
       "      <td>44</td>\n",
       "      <td>37.35</td>\n",
       "      <td>12.50</td>\n",
       "    </tr>\n",
       "    <tr>\n",
       "      <th>45. (Sileraioi)</th>\n",
       "      <td>Map 47.  Unlocated  (cf.  Manni  ( 1981)  225)...</td>\n",
       "      <td>(Sileraioi)</td>\n",
       "      <td>45</td>\n",
       "      <td>NaN</td>\n",
       "      <td>NaN</td>\n",
       "    </tr>\n",
       "    <tr>\n",
       "      <th>46. (Stielanaioi)</th>\n",
       "      <td>Map 47.  Lat. 37.10,long.  14.55:  the  loca- ...</td>\n",
       "      <td>(Stielanaioi)</td>\n",
       "      <td>46</td>\n",
       "      <td>37.10</td>\n",
       "      <td>14.55</td>\n",
       "    </tr>\n",
       "    <tr>\n",
       "      <th>47. Syrakousai</th>\n",
       "      <td>(Syrakosios) Map  47.  Lat. 37.05,long. 15.15....</td>\n",
       "      <td>Syrakousai</td>\n",
       "      <td>47</td>\n",
       "      <td>37.05</td>\n",
       "      <td>15.15</td>\n",
       "    </tr>\n",
       "    <tr>\n",
       "      <th>48. Tauromenion</th>\n",
       "      <td>(Tauromenitas) Map  47.  Lat. 37.50, long. 15....</td>\n",
       "      <td>Tauromenion</td>\n",
       "      <td>48</td>\n",
       "      <td>37.50</td>\n",
       "      <td>15.15</td>\n",
       "    </tr>\n",
       "    <tr>\n",
       "      <th>49. Tyndaris</th>\n",
       "      <td>(Tyndarites) Map  47.  Lat. 38.10,long.  15.05...</td>\n",
       "      <td>Tyndaris</td>\n",
       "      <td>49</td>\n",
       "      <td>38.10</td>\n",
       "      <td>15.05</td>\n",
       "    </tr>\n",
       "    <tr>\n",
       "      <th>50. (Tyrrhenoi)</th>\n",
       "      <td>Map 47.  Unlocated.  Type:  C: .The  Tyr- rhen...</td>\n",
       "      <td>(Tyrrhenoi)</td>\n",
       "      <td>50</td>\n",
       "      <td>NaN</td>\n",
       "      <td>NaN</td>\n",
       "    </tr>\n",
       "    <tr>\n",
       "      <th>51. Zankle</th>\n",
       "      <td>(Zanklaios)/Messana</td>\n",
       "      <td>Zankle</td>\n",
       "      <td>51</td>\n",
       "      <td>NaN</td>\n",
       "      <td>NaN</td>\n",
       "    </tr>\n",
       "  </tbody>\n",
       "</table>\n",
       "</div>"
      ],
      "text/plain": [
       "                                                        Beschreibung  \\\n",
       "5. Abakainon       (Abakaininos) Map  47.  Lat. 38.05,long. 15.05...   \n",
       "6. Adranon         (Adranites) Map  47.  Lat. 37.40,long.  14.50....   \n",
       "7. Agyrion         (Agyrinaios) Map  47.  Lat. 37.40,long.  14.30...   \n",
       "8. Aitna           (Aitnaios) Map  47.Location  of  Aitna  I  as ...   \n",
       "9. Akragas         (Akragantinos) Map  47.  Lat. 37.20,long.  13....   \n",
       "10. Akrai          (Akraios) Map  47.  Lat. 37.05,long.  14.55.  ...   \n",
       "11. Alaisa         (Alaisinos) Map  47.  Lat. 38.00,long.  14.15....   \n",
       "12. Alontion       (Alontinos) Map  47.  Lat. 38.05,long.  14.40....   \n",
       "13. Apollonia      (Apolloniates) Map  47.  Lat. 38.00,long. 14.3...   \n",
       "14. Engyon         (Engyinos)  Map  47.  Lat. 37.45,long.  14.35....   \n",
       "15. Euboia         (Euboeus)  Map  47.  Unlocated.  Type:  C: .Th...   \n",
       "16. Galeria        (Galarinos) Map  47.Unlocated  (Manni  ( 1981)...   \n",
       "17. Gela           (Geloios,  Geloaios) Map  47.  Lat. 37.05,long...   \n",
       "18. Heloron        (Ailoros) Map  47.  Lat. 36.50,long.  15.05.  ...   \n",
       "19. Henna          (Hennaios) Map  47.  Lat. 37.35,long.  14.15. ...   \n",
       "20. Herakleia 1    (Herakleotes) Map  47.  Lat. 37.25,long. 13.15...   \n",
       "21. Herakleia 2    Map 47.Unlocated  site  in  western  Sicily, i...   \n",
       "22. Herbes(s)os    (Herbessinos) Map  47.  Unlocated,  but presum...   \n",
       "23. Herbita        (Herbitaios) Map  47.Unlocated  (cf.  C.  Boeh...   \n",
       "24. Himera         (Himeraios) Map  47.  Lat. 37.55,long.  13.50....   \n",
       "25. Hippana        (Hipanatas)  Map  47.  Lat. 37.40,long.  13.25...   \n",
       "26 *Imachara       (Imacharaios) Map  47.  Unlocated.  Barr. tent...   \n",
       "27. Kallipolis     (Kallipolites)  Map  47.  Unlocated.  Type:  A...   \n",
       "28. Kamarina       (Kamarinaios) Map  47.  Lat. 36.50,long. 14.25...   \n",
       "29. Kasmenai       (Kasmenaios) Map  47.  Lat. 37.05,long. 14.50....   \n",
       "30. Katane         (Katanaios) Map  47.  Lat. 37.30,long.  15.05....   \n",
       "31. Kentoripa      (Kentoripinos) Map  47.  Lat. 37.35,long. 14.4...   \n",
       "32. Kephaloidion   (Kephaloiditas) Map  47.  Lat. 38.00, long. 14...   \n",
       "33. Leontinoi      (Leontinos) Map  47.  Lat. 37.15,long.  15.00....   \n",
       "34. Lipara         (Liparaios) Map  47.  Lat. 38.30  long. 14.55....   \n",
       "35. *Longane       (Longenaios) Map  47.  Lat. 38.05,long. 15.10....   \n",
       "36. Megara         (Megareus) Map  47.  Lat. 37.10,long.  15.10. ...   \n",
       "37. Morgantina     (Morgantinos) Map  47.  Lat. 37.25,long. 14.30...   \n",
       "38. Mylai          (Mylaios) Map  47.  Lat. 38.15,  long  15.15. ...   \n",
       "39. Mytistratos    (Mytiseratinos) Map  47.  Lat. 37.35,long. 14....   \n",
       "40. Nakone         (Nakonaios)  Map  47.  Unlocated  (Tegon ( 199...   \n",
       "41. Naxos          (Naxios) Map  47.  Lat. 37.50,long.  15.15.  S...   \n",
       "42. Petra          (Petrinos) Map  47.  Unlocated  (cf.  Bejor  (...   \n",
       "43. Piakos         (Piakinos) Map  47.  Unlocated,  but  possibly...   \n",
       "44. Selinous       (Selinousios) Map  47.  Lat. 37.35,long.  12.5...   \n",
       "45. (Sileraioi)    Map 47.  Unlocated  (cf.  Manni  ( 1981)  225)...   \n",
       "46. (Stielanaioi)  Map 47.  Lat. 37.10,long.  14.55:  the  loca- ...   \n",
       "47. Syrakousai     (Syrakosios) Map  47.  Lat. 37.05,long. 15.15....   \n",
       "48. Tauromenion    (Tauromenitas) Map  47.  Lat. 37.50, long. 15....   \n",
       "49. Tyndaris       (Tyndarites) Map  47.  Lat. 38.10,long.  15.05...   \n",
       "50. (Tyrrhenoi)    Map 47.  Unlocated.  Type:  C: .The  Tyr- rhen...   \n",
       "51. Zankle                                      (Zanklaios)/Messana    \n",
       "\n",
       "                            city  city_index  Latitude  Longitude  \n",
       "5. Abakainon           bakainon            5     38.05      15.05  \n",
       "6. Adranon               dranon            6     37.40      14.50  \n",
       "7. Agyrion               gyrion            7     37.40      14.30  \n",
       "8. Aitna                   itna            8       NaN        NaN  \n",
       "9. Akragas               kragas            9     37.20      13.35  \n",
       "10. Akrai                 Akrai           10     37.05      14.55  \n",
       "11. Alaisa               Alaisa           11     38.00      14.15  \n",
       "12. Alontion           Alontion           12     38.05      14.40  \n",
       "13. Apollonia         Apollonia           13     38.00      14.35  \n",
       "14. Engyon               Engyon           14     37.45      14.35  \n",
       "15. Euboia               Euboia           15       NaN        NaN  \n",
       "16. Galeria             Galeria           16       NaN        NaN  \n",
       "17. Gela                   Gela           17     37.05      14.15  \n",
       "18. Heloron             Heloron           18     36.50      15.05  \n",
       "19. Henna                 Henna           19     37.35      14.15  \n",
       "20. Herakleia 1      Herakleia 1          20     37.25      13.15  \n",
       "21. Herakleia 2     Herakleia 2           21       NaN        NaN  \n",
       "22. Herbes(s)os     Herbes(s)os           22       NaN        NaN  \n",
       "23. Herbita             Herbita           23       NaN        NaN  \n",
       "24. Himera               Himera           24     37.55      13.50  \n",
       "25. Hippana             Hippana           25     37.40      13.25  \n",
       "26 *Imachara           Imachara           26       NaN      14.20  \n",
       "27. Kallipolis       Kallipolis           27       NaN        NaN  \n",
       "28. Kamarina           Kamarina           28     36.50      14.25  \n",
       "29. Kasmenai           Kasmenai           29     37.05      14.50  \n",
       "30. Katane               Katane           30     37.30      15.05  \n",
       "31. Kentoripa         Kentoripa           31     37.35      14.45  \n",
       "32. Kephaloidion   Kephaloidion           32     38.00      14.00  \n",
       "33. Leontinoi         Leontinoi           33     37.15      15.00  \n",
       "34. Lipara               Lipara           34     38.30      14.55  \n",
       "35. *Longane           *Longane           35     38.05      15.10  \n",
       "36. Megara               Megara           36     37.10      15.10  \n",
       "37. Morgantina       Morgantina           37     37.25      14.30  \n",
       "38. Mylai                 Mylai           38     38.15        NaN  \n",
       "39. Mytistratos     Mytistratos           39     37.35      14.00  \n",
       "40. Nakone               Nakone           40       NaN        NaN  \n",
       "41. Naxos                 Naxos           41     37.50      15.15  \n",
       "42. Petra                 Petra           42       NaN        NaN  \n",
       "43. Piakos               Piakos           43       NaN        NaN  \n",
       "44. Selinous           Selinous           44     37.35      12.50  \n",
       "45. (Sileraioi)      (Sileraioi)          45       NaN        NaN  \n",
       "46. (Stielanaioi)  (Stielanaioi)          46     37.10      14.55  \n",
       "47. Syrakousai       Syrakousai           47     37.05      15.15  \n",
       "48. Tauromenion     Tauromenion           48     37.50      15.15  \n",
       "49. Tyndaris           Tyndaris           49     38.10      15.05  \n",
       "50. (Tyrrhenoi)      (Tyrrhenoi)          50       NaN        NaN  \n",
       "51. Zankle               Zankle           51       NaN        NaN  "
      ]
     },
     "execution_count": 20,
     "metadata": {},
     "output_type": "execute_result"
    }
   ],
   "source": [
    "dfPoleis"
   ]
  },
  {
   "cell_type": "markdown",
   "metadata": {},
   "source": [
    "### Zitatnachweise, Namen, Jahreszahlen"
   ]
  },
  {
   "cell_type": "code",
   "execution_count": 21,
   "metadata": {
    "collapsed": false
   },
   "outputs": [
    {
     "data": {
      "text/plain": [
       "'(Abakaininos) Map  47.  Lat. 38.05,long. 15.05.  Size  of  territory:  ?  Type:  B: .  The  toponym  is ,  (Diod. 14.90.3)  or  ,  (Diod. 19.65.6;  Steph.  Byz. 2.11).  The  city-ethnic  is   (C 4s  coins,  infra;Diod. 14.78.5;  Steph.  Byz. 2.15). Abakainon  is  called  a  polis  in  the  urban  and  political  sens- es  at  Diod. 14.90.3  (r 393)  and  19.65.6  (r 315),  and  in  the  urban sense  at  14.90.4  (r 393).  The  passage  at  14.90.3  describes  it  as  a polis  symmachis  of  Magon,  and  in  a  later  period  it  was  part  of the  symmachia  of  Agathokles,  alongside  such  poleis  as Kamarina,  Leontinoi,  Katane  and  Messana  (Diod. 19.65.6 (r 315),  19.110.4  (r 311)).  The  internal  collective  use  of  the  city- ethnic  is  found  on  coins  struck  c. 400  (infra),  and  the  exter- nal  collective use  is  found  in  Diod. 19.110.4  (r 311). In 396,  Dionysios  I  deprived  Abakainon  of  a  part  of  its chora,  which  was  handed  over  to  his  new  foundation, Tyndaris  (no. 49;Diod.  14.77.5).  Abakainon  was  situated south-east  of  Tyndaris,  at  modern  Tripi.  The  ancient  city, destroyed  by  the  modern,  is  poorly  known.  However, Diodorus\\'  report  ( 14.90.3)  that  in  393  Carthaginian  troops ²²  For  an  analysis  of  the  conflicts,  see  Manni  ( 1976a)  201\\xad4. 182 fischer-hansen,  nielsen  and  ampolo defeated  by  Dionysios  took  refuge  in  the  city  (  ) suggests that by this date it was fortified.  There are  sporadic  Greek  remains  from  C 6,  and  substantial  Greek remains  from  C 4  (Villard  ( 1954));  the  investigation  of  the extensive  cemetery  north  of  the  city  has  brought  to  light  also monumental  C 4  tombs  of  the  type  known  from  Leontinoi (Bacci  and  Spigo  ( 1997\\xad98));  the  city  minted  a  Greek-style coinage  from  C 5m  (infra). Abakainon  struck  silver  coins  (litra,  hemilitron)  from c.C 5m:  obv.  laureate  head,  bearded  (an  indigenous  god assimilated  to  Zeus)  or  beardless  (assimilated  to  Apollo),  or, on  later  coinage,  female  head  (nymph,  or  Demeter  or Persephone);  rev.  wild  boar  and  acorn,  at  times  a  grain  of barley  or  sow  and  piglet,  legend: ,  (above acorn)  (below), (on  obv.) (on  rev.), (Head,  HN ²  118;  Bertino  ( 1975);  SNG Cop.  Sicily 1\\xad6).  In  C 4s,  the  city  struck  in  bronze:  ( 1) Probably  from  the  time  of  Timoleon:  obv.  female  head;  rev. forepart  of  bull,  or  forepart  of  man-headed  bull,  legend: ,  [],  (Head, HN ²  118;  Bertino  ( 1975)  124\\xad26;  SNG  Cop.  Sicily 7);  ( 2) c. 344\\xad338:  obv.  head  of  Dioskouros,  legend: ;  rev.\"free horse\",  legend: ;  the  obv.  type  may  indicate  influence from  the  mint  of  Tyndaris  or,  more  generally,  from  southern Italy  (Bertino  ( 1975)  124\\xad26).'"
      ]
     },
     "execution_count": 21,
     "metadata": {},
     "output_type": "execute_result"
    }
   ],
   "source": [
    "dfPoleis[\"Beschreibung\"].iloc[0]"
   ]
  },
  {
   "cell_type": "markdown",
   "metadata": {},
   "source": [
    "## Muster (Pattern) zur Erkennung der Literaturreferenzen\n",
    "\n",
    "- Primärquellen\n",
    "\n",
    "(Polyb. 1.18.2)\n",
    "(Diod. 13.85.4  (r 406))\n",
    "(Diod. 13.108.2)\n",
    "(Hdt. 7.165;  IGDS  no. 182a)\n",
    "(Pind.  Pyth. 6)\n",
    "(Thuc. 6.4.4: µµ  )\n",
    "(Xanthos  (FGrHist 765)  fr. 33;  Arist.  fr. 865)\n",
    "\n",
    "- Sekundärquellen\n",
    "\n",
    "(Karlsson  ( 1995)  161\n",
    "(Waele  ( 1971) 195\\xad99;  Hinz  ( 1998)  79\\xad90)\n",
    "\n",
    "- Jahreszahlen\n",
    "( dddd)"
   ]
  },
  {
   "cell_type": "code",
   "execution_count": 22,
   "metadata": {
    "collapsed": false
   },
   "outputs": [],
   "source": [
    "# Definiere Funktion die reguläre Ausdrücke auf den DataFrame anwendet.\n",
    "def ListePatternFull(value,pattern):\n",
    "    x = re.findall(pattern, value)\n",
    "    if x:\n",
    "        return(x)"
   ]
  },
  {
   "cell_type": "markdown",
   "metadata": {},
   "source": [
    "### Testen der regulären Ausdrücke"
   ]
  },
  {
   "cell_type": "code",
   "execution_count": 23,
   "metadata": {
    "collapsed": false
   },
   "outputs": [
    {
     "data": {
      "text/plain": [
       "'(Abakaininos) Map  47.  Lat. 38.05,long. 15.05.  Size  of  territory:  ?  Type:  B: .  The  toponym  is ,  (Diod. 14.90.3)  or  ,  (Diod. 19.65.6;  Steph.  Byz. 2.11).  The  city-ethnic  is   (C 4s  coins,  infra;Diod. 14.78.5;  Steph.  Byz. 2.15). Abakainon  is  called  a  polis  in  the  urban  and  political  sens- es  at  Diod. 14.90.3  (r 393)  and  19.65.6  (r 315),  and  in  the  urban sense  at  14.90.4  (r 393).  The  passage  at  14.90.3  describes  it  as  a polis  symmachis  of  Magon,  and  in  a  later  period  it  was  part  of the  symmachia  of  Agathokles,  alongside  such  poleis  as Kamarina,  Leontinoi,  Katane  and  Messana  (Diod. 19.65.6 (r 315),  19.110.4  (r 311)).  The  internal  collective  use  of  the  city- ethnic  is  found  on  coins  struck  c. 400  (infra),  and  the  exter- nal  collective use  is  found  in  Diod. 19.110.4  (r 311). In 396,  Dionysios  I  deprived  Abakainon  of  a  part  of  its chora,  which  was  handed  over  to  his  new  foundation, Tyndaris  (no. 49;Diod.  14.77.5).  Abakainon  was  situated south-east  of  Tyndaris,  at  modern  Tripi.  The  ancient  city, destroyed  by  the  modern,  is  poorly  known.  However, Diodorus\\'  report  ( 14.90.3)  that  in  393  Carthaginian  troops ²²  For  an  analysis  of  the  conflicts,  see  Manni  ( 1976a)  201\\xad4. 182 fischer-hansen,  nielsen  and  ampolo defeated  by  Dionysios  took  refuge  in  the  city  (  ) suggests that by this date it was fortified.  There are  sporadic  Greek  remains  from  C 6,  and  substantial  Greek remains  from  C 4  (Villard  ( 1954));  the  investigation  of  the extensive  cemetery  north  of  the  city  has  brought  to  light  also monumental  C 4  tombs  of  the  type  known  from  Leontinoi (Bacci  and  Spigo  ( 1997\\xad98));  the  city  minted  a  Greek-style coinage  from  C 5m  (infra). Abakainon  struck  silver  coins  (litra,  hemilitron)  from c.C 5m:  obv.  laureate  head,  bearded  (an  indigenous  god assimilated  to  Zeus)  or  beardless  (assimilated  to  Apollo),  or, on  later  coinage,  female  head  (nymph,  or  Demeter  or Persephone);  rev.  wild  boar  and  acorn,  at  times  a  grain  of barley  or  sow  and  piglet,  legend: ,  (above acorn)  (below), (on  obv.) (on  rev.), (Head,  HN ²  118;  Bertino  ( 1975);  SNG Cop.  Sicily 1\\xad6).  In  C 4s,  the  city  struck  in  bronze:  ( 1) Probably  from  the  time  of  Timoleon:  obv.  female  head;  rev. forepart  of  bull,  or  forepart  of  man-headed  bull,  legend: ,  [],  (Head, HN ²  118;  Bertino  ( 1975)  124\\xad26;  SNG  Cop.  Sicily 7);  ( 2) c. 344\\xad338:  obv.  head  of  Dioskouros,  legend: ;  rev.\"free horse\",  legend: ;  the  obv.  type  may  indicate  influence from  the  mint  of  Tyndaris  or,  more  generally,  from  southern Italy  (Bertino  ( 1975)  124\\xad26).'"
      ]
     },
     "execution_count": 23,
     "metadata": {},
     "output_type": "execute_result"
    }
   ],
   "source": [
    "dfPoleis['Beschreibung'].iloc[0]"
   ]
  },
  {
   "cell_type": "markdown",
   "metadata": {},
   "source": [
    "Finde alle groß-geschriebenen Wörter mit mindestens 3 nachfolgenden kleinen Buchstaben."
   ]
  },
  {
   "cell_type": "code",
   "execution_count": 24,
   "metadata": {
    "collapsed": false
   },
   "outputs": [
    {
     "data": {
      "text/plain": [
       "['Abakaininos',\n",
       " 'Size',\n",
       " 'Type',\n",
       " 'Diod',\n",
       " 'Diod',\n",
       " 'Steph',\n",
       " 'Diod',\n",
       " 'Steph',\n",
       " 'Abakainon',\n",
       " 'Diod',\n",
       " 'Magon',\n",
       " 'Agathokles',\n",
       " 'Kamarina',\n",
       " 'Leontinoi',\n",
       " 'Katane',\n",
       " 'Messana',\n",
       " 'Diod',\n",
       " 'Diod',\n",
       " 'Dionysios',\n",
       " 'Abakainon',\n",
       " 'Tyndaris',\n",
       " 'Diod',\n",
       " 'Abakainon',\n",
       " 'Tyndaris',\n",
       " 'Tripi',\n",
       " 'However',\n",
       " 'Diodorus',\n",
       " 'Carthaginia',\n",
       " 'Manni',\n",
       " 'Dionysios',\n",
       " 'There',\n",
       " 'Greek',\n",
       " 'Greek',\n",
       " 'Villard',\n",
       " 'Leontinoi',\n",
       " 'Bacci',\n",
       " 'Spigo',\n",
       " 'Greek',\n",
       " 'Abakainon',\n",
       " 'Zeus',\n",
       " 'Apollo',\n",
       " 'Demeter',\n",
       " 'Persephone',\n",
       " 'Head',\n",
       " 'Bertino',\n",
       " 'Sicily',\n",
       " 'Probably',\n",
       " 'Timoleon',\n",
       " 'Head',\n",
       " 'Bertino',\n",
       " 'Sicily',\n",
       " 'Dioskouros',\n",
       " 'Tyndaris',\n",
       " 'Italy',\n",
       " 'Bertino']"
      ]
     },
     "execution_count": 24,
     "metadata": {},
     "output_type": "execute_result"
    }
   ],
   "source": [
    "re.findall('[A-Z][a-z]{3,10}',dfPoleis['Beschreibung'].iloc[0])"
   ]
  },
  {
   "cell_type": "markdown",
   "metadata": {},
   "source": [
    "Finde alle Ausdrücke wie oben, denen ein Punkt folgt, mit anschließenden Zifferfolgen der Form [Ziffern][Punkt][Ziffern][Punkt][Ziffern]"
   ]
  },
  {
   "cell_type": "code",
   "execution_count": 25,
   "metadata": {
    "collapsed": false
   },
   "outputs": [
    {
     "data": {
      "text/plain": [
       "['Diod. 14.90.3',\n",
       " 'Diod. 19.65.6',\n",
       " 'Diod. 14.78.5',\n",
       " 'Diod. 14.90.3',\n",
       " 'Diod. 19.65.6',\n",
       " 'Diod. 19.110.4']"
      ]
     },
     "execution_count": 25,
     "metadata": {},
     "output_type": "execute_result"
    }
   ],
   "source": [
    "re.findall('[A-Z][a-z]{1,10}\\. \\d{1,3}\\.\\d{1,3}\\.\\d{1,3}',dfPoleis['Beschreibung'].iloc[0])"
   ]
  },
  {
   "cell_type": "markdown",
   "metadata": {},
   "source": [
    "Finde alle Ausdrücke wie oben, wobei statt des Punktes nach den kleinen Buchstaben auch zwei Leerzeichen und eine runde Klammer folgen können"
   ]
  },
  {
   "cell_type": "code",
   "execution_count": 26,
   "metadata": {
    "collapsed": false
   },
   "outputs": [
    {
     "data": {
      "text/plain": [
       "['Diod. 14.90.3',\n",
       " 'Diod. 19.65.6',\n",
       " 'Diod. 14.78.5',\n",
       " 'Diod. 14.90.3',\n",
       " 'Diod. 19.65.6',\n",
       " 'Diod. 19.110.4',\n",
       " 'Manni  ( 1976',\n",
       " 'Villard  ( 1954)',\n",
       " 'Spigo  ( 1997',\n",
       " 'Bertino  ( 1975)',\n",
       " 'Bertino  ( 1975)',\n",
       " 'Bertino  ( 1975)']"
      ]
     },
     "execution_count": 26,
     "metadata": {},
     "output_type": "execute_result"
    }
   ],
   "source": [
    "re.findall('[A-Z][a-z]{1,10}[\\.| ] [(|\\d{0,4}][\\d{1,4}| ][\\.|\\d{}]\\d{1,3}[\\.|\\d][\\d|)]',dfPoleis['Beschreibung'].iloc[0])"
   ]
  },
  {
   "cell_type": "code",
   "execution_count": 27,
   "metadata": {
    "collapsed": false
   },
   "outputs": [],
   "source": [
    "#Alternativ kann man auch Gruppen definieren zB. (A(B|C)) \n",
    "#re.findall('([A-Z][a-z]{1,10}(\\. \\d{1,3}\\.\\d{1,3}\\.\\d{1,3}|\\s{2}\\(\\s\\d{4}))',dfPoleis['Beschreibung'].iloc[0])"
   ]
  },
  {
   "cell_type": "code",
   "execution_count": 28,
   "metadata": {
    "collapsed": false
   },
   "outputs": [],
   "source": [
    "dfPoleis['Namen'] = dfPoleis['Beschreibung'].apply(ListePatternFull,pattern=('[A-Z][a-z]{3,10}'))"
   ]
  },
  {
   "cell_type": "code",
   "execution_count": 29,
   "metadata": {
    "collapsed": false
   },
   "outputs": [],
   "source": [
    "dfPoleis['Quellen'] = dfPoleis['Beschreibung'].apply(ListePatternFull,pattern=('[A-Z][a-z]{1,10}[\\.| ] [(|\\d{0,4}][\\d{1,4}| ][\\.|\\d{}]\\d{1,3}[\\.|\\d][\\d|)]'))"
   ]
  },
  {
   "cell_type": "code",
   "execution_count": 30,
   "metadata": {
    "collapsed": false
   },
   "outputs": [
    {
     "data": {
      "text/html": [
       "<div>\n",
       "<table border=\"1\" class=\"dataframe\">\n",
       "  <thead>\n",
       "    <tr style=\"text-align: right;\">\n",
       "      <th></th>\n",
       "      <th>Beschreibung</th>\n",
       "      <th>city</th>\n",
       "      <th>city_index</th>\n",
       "      <th>Latitude</th>\n",
       "      <th>Longitude</th>\n",
       "      <th>Namen</th>\n",
       "      <th>Quellen</th>\n",
       "    </tr>\n",
       "  </thead>\n",
       "  <tbody>\n",
       "    <tr>\n",
       "      <th>5. Abakainon</th>\n",
       "      <td>(Abakaininos) Map  47.  Lat. 38.05,long. 15.05...</td>\n",
       "      <td>bakainon</td>\n",
       "      <td>5</td>\n",
       "      <td>38.05</td>\n",
       "      <td>15.05</td>\n",
       "      <td>[Abakaininos, Size, Type, Diod, Diod, Steph, D...</td>\n",
       "      <td>[Diod. 14.90.3, Diod. 19.65.6, Diod. 14.78.5, ...</td>\n",
       "    </tr>\n",
       "    <tr>\n",
       "      <th>6. Adranon</th>\n",
       "      <td>(Adranites) Map  47.  Lat. 37.40,long.  14.50....</td>\n",
       "      <td>dranon</td>\n",
       "      <td>6</td>\n",
       "      <td>37.40</td>\n",
       "      <td>14.50</td>\n",
       "      <td>[Adranites, Size, Type, Diod, Steph, Diod, Adr...</td>\n",
       "      <td>[Diod. 14.37.5, Diod. 16.68.9, Diod. 14.37.5, ...</td>\n",
       "    </tr>\n",
       "    <tr>\n",
       "      <th>7. Agyrion</th>\n",
       "      <td>(Agyrinaios) Map  47.  Lat. 37.40,long.  14.30...</td>\n",
       "      <td>gyrion</td>\n",
       "      <td>7</td>\n",
       "      <td>37.40</td>\n",
       "      <td>14.30</td>\n",
       "      <td>[Agyrinaios, Size, Type, Diod, Ptol, Geog, Ste...</td>\n",
       "      <td>[Byz. 23.19), Diod. 16.82.4, Moggi  ( 1976), D...</td>\n",
       "    </tr>\n",
       "    <tr>\n",
       "      <th>8. Aitna</th>\n",
       "      <td>(Aitnaios) Map  47.Location  of  Aitna  I  as ...</td>\n",
       "      <td>itna</td>\n",
       "      <td>8</td>\n",
       "      <td>NaN</td>\n",
       "      <td>NaN</td>\n",
       "      <td>[Aitnaios, Location, Aitna, Katane, Aitna, Dio...</td>\n",
       "      <td>[Diod. 11.49.1, Diod. 11.49.1, Diod. 11.66.4, ...</td>\n",
       "    </tr>\n",
       "  </tbody>\n",
       "</table>\n",
       "</div>"
      ],
      "text/plain": [
       "                                                    Beschreibung       city  \\\n",
       "5. Abakainon   (Abakaininos) Map  47.  Lat. 38.05,long. 15.05...  bakainon    \n",
       "6. Adranon     (Adranites) Map  47.  Lat. 37.40,long.  14.50....    dranon    \n",
       "7. Agyrion     (Agyrinaios) Map  47.  Lat. 37.40,long.  14.30...    gyrion    \n",
       "8. Aitna       (Aitnaios) Map  47.Location  of  Aitna  I  as ...      itna    \n",
       "\n",
       "               city_index  Latitude  Longitude  \\\n",
       "5. Abakainon            5     38.05      15.05   \n",
       "6. Adranon              6     37.40      14.50   \n",
       "7. Agyrion              7     37.40      14.30   \n",
       "8. Aitna                8       NaN        NaN   \n",
       "\n",
       "                                                           Namen  \\\n",
       "5. Abakainon   [Abakaininos, Size, Type, Diod, Diod, Steph, D...   \n",
       "6. Adranon     [Adranites, Size, Type, Diod, Steph, Diod, Adr...   \n",
       "7. Agyrion     [Agyrinaios, Size, Type, Diod, Ptol, Geog, Ste...   \n",
       "8. Aitna       [Aitnaios, Location, Aitna, Katane, Aitna, Dio...   \n",
       "\n",
       "                                                         Quellen  \n",
       "5. Abakainon   [Diod. 14.90.3, Diod. 19.65.6, Diod. 14.78.5, ...  \n",
       "6. Adranon     [Diod. 14.37.5, Diod. 16.68.9, Diod. 14.37.5, ...  \n",
       "7. Agyrion     [Byz. 23.19), Diod. 16.82.4, Moggi  ( 1976), D...  \n",
       "8. Aitna       [Diod. 11.49.1, Diod. 11.49.1, Diod. 11.66.4, ...  "
      ]
     },
     "execution_count": 30,
     "metadata": {},
     "output_type": "execute_result"
    }
   ],
   "source": [
    "dfPoleis.head(4)"
   ]
  },
  {
   "cell_type": "code",
   "execution_count": 31,
   "metadata": {
    "collapsed": false
   },
   "outputs": [],
   "source": [
    "#dfBesp = dfPoleis['Beschreibung'].str.replace('(','\\n(').str.replace(')',')\\n')"
   ]
  },
  {
   "cell_type": "code",
   "execution_count": 32,
   "metadata": {
    "collapsed": false
   },
   "outputs": [],
   "source": [
    "#print(dfBesp.iloc[0])"
   ]
  },
  {
   "cell_type": "markdown",
   "metadata": {},
   "source": [
    "## Muster zur Erkennung von Namen\n",
    "\n",
    "Empedokles  ( 496)\n",
    "Theron  ( 476)\n",
    "Timoleon  c. 338"
   ]
  },
  {
   "cell_type": "code",
   "execution_count": 33,
   "metadata": {
    "collapsed": false
   },
   "outputs": [],
   "source": [
    "# MALTE: RE für die Primärquellen; Sekundärquellen; Namen entwickeln und an df anhängen."
   ]
  },
  {
   "cell_type": "markdown",
   "metadata": {},
   "source": [
    "# Datenvalidierung"
   ]
  },
  {
   "cell_type": "markdown",
   "metadata": {},
   "source": [
    "## Wertverteilungen, Test auf Dopplungen"
   ]
  },
  {
   "cell_type": "markdown",
   "metadata": {},
   "source": [
    "Lese Werte der Spalte Quellen als Liste aus. "
   ]
  },
  {
   "cell_type": "code",
   "execution_count": 58,
   "metadata": {
    "collapsed": true
   },
   "outputs": [],
   "source": [
    "mainList = dfPoleis['Quellen'].values.tolist()"
   ]
  },
  {
   "cell_type": "markdown",
   "metadata": {},
   "source": [
    "Reduziere Unterlisten auf eine Gesamtliste."
   ]
  },
  {
   "cell_type": "code",
   "execution_count": 76,
   "metadata": {
    "collapsed": true
   },
   "outputs": [],
   "source": [
    "quellenListe = []\n",
    "for sublist in mainList:\n",
    "    if sublist:\n",
    "        for k in range(len(sublist)):\n",
    "            quellenListe.append(sublist[k])"
   ]
  },
  {
   "cell_type": "code",
   "execution_count": 78,
   "metadata": {
    "collapsed": false
   },
   "outputs": [
    {
     "data": {
      "text/plain": [
       "['Diod. 14.90.3',\n",
       " 'Diod. 19.65.6',\n",
       " 'Diod. 14.78.5',\n",
       " 'Diod. 14.90.3',\n",
       " 'Diod. 19.65.6',\n",
       " 'Diod. 19.110.4',\n",
       " 'Manni  ( 1976',\n",
       " 'Villard  ( 1954)',\n",
       " 'Spigo  ( 1997',\n",
       " 'Bertino  ( 1975)']"
      ]
     },
     "execution_count": 78,
     "metadata": {},
     "output_type": "execute_result"
    }
   ],
   "source": [
    "quellenListe[:10]"
   ]
  },
  {
   "cell_type": "markdown",
   "metadata": {},
   "source": [
    "Zähle die Häufigkeit der verschiedenen Quellen und speichere als Dictionary."
   ]
  },
  {
   "cell_type": "code",
   "execution_count": 81,
   "metadata": {
    "collapsed": false
   },
   "outputs": [
    {
     "data": {
      "text/plain": [
       "2"
      ]
     },
     "execution_count": 81,
     "metadata": {},
     "output_type": "execute_result"
    }
   ],
   "source": [
    "quellenVerteilung = {x:quellenListe.count(x) for x in quellenListe}\n",
    "quellenVerteilung['Diod. 14.90.3']"
   ]
  },
  {
   "cell_type": "markdown",
   "metadata": {},
   "source": [
    "Erzeuge DataFrame, mit neuem Index und Namen der Spalten. Sortiere diesen Nach der Häufigkeit der Quelle."
   ]
  },
  {
   "cell_type": "code",
   "execution_count": 122,
   "metadata": {
    "collapsed": true
   },
   "outputs": [],
   "source": [
    "dfQuellenVerteilung = pd.DataFrame([quellenVerteilung])"
   ]
  },
  {
   "cell_type": "code",
   "execution_count": 123,
   "metadata": {
    "collapsed": false
   },
   "outputs": [],
   "source": [
    "dfQuellenVerteilung = dfQuellenVerteilung.transpose().reset_index()"
   ]
  },
  {
   "cell_type": "code",
   "execution_count": 124,
   "metadata": {
    "collapsed": false
   },
   "outputs": [],
   "source": [
    "dfQuellenVerteilung = dfQuellenVerteilung.rename(columns={'index': 'Quelle', 0:'Häufigkeit'})"
   ]
  },
  {
   "cell_type": "code",
   "execution_count": 127,
   "metadata": {
    "collapsed": false
   },
   "outputs": [
    {
     "data": {
      "text/html": [
       "<div>\n",
       "<table border=\"1\" class=\"dataframe\">\n",
       "  <thead>\n",
       "    <tr style=\"text-align: right;\">\n",
       "      <th></th>\n",
       "      <th>Quelle</th>\n",
       "      <th>Häufigkeit</th>\n",
       "    </tr>\n",
       "  </thead>\n",
       "  <tbody>\n",
       "    <tr>\n",
       "      <th>382</th>\n",
       "      <td>Manganaro  ( 1996</td>\n",
       "      <td>15</td>\n",
       "    </tr>\n",
       "    <tr>\n",
       "      <th>331</th>\n",
       "      <td>Hinz  ( 1998)</td>\n",
       "      <td>13</td>\n",
       "    </tr>\n",
       "    <tr>\n",
       "      <th>509</th>\n",
       "      <td>Talbert  ( 1974)</td>\n",
       "      <td>13</td>\n",
       "    </tr>\n",
       "    <tr>\n",
       "      <th>83</th>\n",
       "      <td>Cavalier  ( 1991)</td>\n",
       "      <td>11</td>\n",
       "    </tr>\n",
       "    <tr>\n",
       "      <th>344</th>\n",
       "      <td>Karlsson  ( 1995)</td>\n",
       "      <td>9</td>\n",
       "    </tr>\n",
       "    <tr>\n",
       "      <th>226</th>\n",
       "      <td>Diod. 14.78.7</td>\n",
       "      <td>9</td>\n",
       "    </tr>\n",
       "    <tr>\n",
       "      <th>113</th>\n",
       "      <td>Diod. 11.49.2</td>\n",
       "      <td>9</td>\n",
       "    </tr>\n",
       "    <tr>\n",
       "      <th>47</th>\n",
       "      <td>Boehringer  ( 1998)</td>\n",
       "      <td>8</td>\n",
       "    </tr>\n",
       "    <tr>\n",
       "      <th>478</th>\n",
       "      <td>Rutter  ( 1997)</td>\n",
       "      <td>8</td>\n",
       "    </tr>\n",
       "    <tr>\n",
       "      <th>327</th>\n",
       "      <td>Hansen  ( 2000)</td>\n",
       "      <td>8</td>\n",
       "    </tr>\n",
       "  </tbody>\n",
       "</table>\n",
       "</div>"
      ],
      "text/plain": [
       "                  Quelle  Häufigkeit\n",
       "382    Manganaro  ( 1996          15\n",
       "331        Hinz  ( 1998)          13\n",
       "509     Talbert  ( 1974)          13\n",
       "83     Cavalier  ( 1991)          11\n",
       "344    Karlsson  ( 1995)           9\n",
       "226        Diod. 14.78.7           9\n",
       "113        Diod. 11.49.2           9\n",
       "47   Boehringer  ( 1998)           8\n",
       "478      Rutter  ( 1997)           8\n",
       "327      Hansen  ( 2000)           8"
      ]
     },
     "execution_count": 127,
     "metadata": {},
     "output_type": "execute_result"
    }
   ],
   "source": [
    "dfQuellenVerteilung.sort_values(by='Häufigkeit',ascending=False).head(10)"
   ]
  },
  {
   "cell_type": "markdown",
   "metadata": {},
   "source": [
    "## Visualisierungen"
   ]
  },
  {
   "cell_type": "markdown",
   "metadata": {},
   "source": [
    "Zeige die Verteilung der Häufigkeiten als Histogram. Um auch Häufigkeiten zu erkennen, die nicht so oft auftreten, kann man in die Darstellung zoomen. Das Haus-Symbol zeigt wieder den ursprünglichen Zustand der Figur."
   ]
  },
  {
   "cell_type": "code",
   "execution_count": 112,
   "metadata": {
    "collapsed": true
   },
   "outputs": [],
   "source": [
    "%matplotlib notebook"
   ]
  },
  {
   "cell_type": "code",
   "execution_count": 128,
   "metadata": {
    "collapsed": false
   },
   "outputs": [
    {
     "data": {
      "application/javascript": [
       "/* Put everything inside the global mpl namespace */\n",
       "window.mpl = {};\n",
       "\n",
       "mpl.get_websocket_type = function() {\n",
       "    if (typeof(WebSocket) !== 'undefined') {\n",
       "        return WebSocket;\n",
       "    } else if (typeof(MozWebSocket) !== 'undefined') {\n",
       "        return MozWebSocket;\n",
       "    } else {\n",
       "        alert('Your browser does not have WebSocket support.' +\n",
       "              'Please try Chrome, Safari or Firefox ≥ 6. ' +\n",
       "              'Firefox 4 and 5 are also supported but you ' +\n",
       "              'have to enable WebSockets in about:config.');\n",
       "    };\n",
       "}\n",
       "\n",
       "mpl.figure = function(figure_id, websocket, ondownload, parent_element) {\n",
       "    this.id = figure_id;\n",
       "\n",
       "    this.ws = websocket;\n",
       "\n",
       "    this.supports_binary = (this.ws.binaryType != undefined);\n",
       "\n",
       "    if (!this.supports_binary) {\n",
       "        var warnings = document.getElementById(\"mpl-warnings\");\n",
       "        if (warnings) {\n",
       "            warnings.style.display = 'block';\n",
       "            warnings.textContent = (\n",
       "                \"This browser does not support binary websocket messages. \" +\n",
       "                    \"Performance may be slow.\");\n",
       "        }\n",
       "    }\n",
       "\n",
       "    this.imageObj = new Image();\n",
       "\n",
       "    this.context = undefined;\n",
       "    this.message = undefined;\n",
       "    this.canvas = undefined;\n",
       "    this.rubberband_canvas = undefined;\n",
       "    this.rubberband_context = undefined;\n",
       "    this.format_dropdown = undefined;\n",
       "\n",
       "    this.image_mode = 'full';\n",
       "\n",
       "    this.root = $('<div/>');\n",
       "    this._root_extra_style(this.root)\n",
       "    this.root.attr('style', 'display: inline-block');\n",
       "\n",
       "    $(parent_element).append(this.root);\n",
       "\n",
       "    this._init_header(this);\n",
       "    this._init_canvas(this);\n",
       "    this._init_toolbar(this);\n",
       "\n",
       "    var fig = this;\n",
       "\n",
       "    this.waiting = false;\n",
       "\n",
       "    this.ws.onopen =  function () {\n",
       "            fig.send_message(\"supports_binary\", {value: fig.supports_binary});\n",
       "            fig.send_message(\"send_image_mode\", {});\n",
       "            fig.send_message(\"refresh\", {});\n",
       "        }\n",
       "\n",
       "    this.imageObj.onload = function() {\n",
       "            if (fig.image_mode == 'full') {\n",
       "                // Full images could contain transparency (where diff images\n",
       "                // almost always do), so we need to clear the canvas so that\n",
       "                // there is no ghosting.\n",
       "                fig.context.clearRect(0, 0, fig.canvas.width, fig.canvas.height);\n",
       "            }\n",
       "            fig.context.drawImage(fig.imageObj, 0, 0);\n",
       "        };\n",
       "\n",
       "    this.imageObj.onunload = function() {\n",
       "        this.ws.close();\n",
       "    }\n",
       "\n",
       "    this.ws.onmessage = this._make_on_message_function(this);\n",
       "\n",
       "    this.ondownload = ondownload;\n",
       "}\n",
       "\n",
       "mpl.figure.prototype._init_header = function() {\n",
       "    var titlebar = $(\n",
       "        '<div class=\"ui-dialog-titlebar ui-widget-header ui-corner-all ' +\n",
       "        'ui-helper-clearfix\"/>');\n",
       "    var titletext = $(\n",
       "        '<div class=\"ui-dialog-title\" style=\"width: 100%; ' +\n",
       "        'text-align: center; padding: 3px;\"/>');\n",
       "    titlebar.append(titletext)\n",
       "    this.root.append(titlebar);\n",
       "    this.header = titletext[0];\n",
       "}\n",
       "\n",
       "\n",
       "\n",
       "mpl.figure.prototype._canvas_extra_style = function(canvas_div) {\n",
       "\n",
       "}\n",
       "\n",
       "\n",
       "mpl.figure.prototype._root_extra_style = function(canvas_div) {\n",
       "\n",
       "}\n",
       "\n",
       "mpl.figure.prototype._init_canvas = function() {\n",
       "    var fig = this;\n",
       "\n",
       "    var canvas_div = $('<div/>');\n",
       "\n",
       "    canvas_div.attr('style', 'position: relative; clear: both; outline: 0');\n",
       "\n",
       "    function canvas_keyboard_event(event) {\n",
       "        return fig.key_event(event, event['data']);\n",
       "    }\n",
       "\n",
       "    canvas_div.keydown('key_press', canvas_keyboard_event);\n",
       "    canvas_div.keyup('key_release', canvas_keyboard_event);\n",
       "    this.canvas_div = canvas_div\n",
       "    this._canvas_extra_style(canvas_div)\n",
       "    this.root.append(canvas_div);\n",
       "\n",
       "    var canvas = $('<canvas/>');\n",
       "    canvas.addClass('mpl-canvas');\n",
       "    canvas.attr('style', \"left: 0; top: 0; z-index: 0; outline: 0\")\n",
       "\n",
       "    this.canvas = canvas[0];\n",
       "    this.context = canvas[0].getContext(\"2d\");\n",
       "\n",
       "    var rubberband = $('<canvas/>');\n",
       "    rubberband.attr('style', \"position: absolute; left: 0; top: 0; z-index: 1;\")\n",
       "\n",
       "    var pass_mouse_events = true;\n",
       "\n",
       "    canvas_div.resizable({\n",
       "        start: function(event, ui) {\n",
       "            pass_mouse_events = false;\n",
       "        },\n",
       "        resize: function(event, ui) {\n",
       "            fig.request_resize(ui.size.width, ui.size.height);\n",
       "        },\n",
       "        stop: function(event, ui) {\n",
       "            pass_mouse_events = true;\n",
       "            fig.request_resize(ui.size.width, ui.size.height);\n",
       "        },\n",
       "    });\n",
       "\n",
       "    function mouse_event_fn(event) {\n",
       "        if (pass_mouse_events)\n",
       "            return fig.mouse_event(event, event['data']);\n",
       "    }\n",
       "\n",
       "    rubberband.mousedown('button_press', mouse_event_fn);\n",
       "    rubberband.mouseup('button_release', mouse_event_fn);\n",
       "    // Throttle sequential mouse events to 1 every 20ms.\n",
       "    rubberband.mousemove('motion_notify', mouse_event_fn);\n",
       "\n",
       "    rubberband.mouseenter('figure_enter', mouse_event_fn);\n",
       "    rubberband.mouseleave('figure_leave', mouse_event_fn);\n",
       "\n",
       "    canvas_div.on(\"wheel\", function (event) {\n",
       "        event = event.originalEvent;\n",
       "        event['data'] = 'scroll'\n",
       "        if (event.deltaY < 0) {\n",
       "            event.step = 1;\n",
       "        } else {\n",
       "            event.step = -1;\n",
       "        }\n",
       "        mouse_event_fn(event);\n",
       "    });\n",
       "\n",
       "    canvas_div.append(canvas);\n",
       "    canvas_div.append(rubberband);\n",
       "\n",
       "    this.rubberband = rubberband;\n",
       "    this.rubberband_canvas = rubberband[0];\n",
       "    this.rubberband_context = rubberband[0].getContext(\"2d\");\n",
       "    this.rubberband_context.strokeStyle = \"#000000\";\n",
       "\n",
       "    this._resize_canvas = function(width, height) {\n",
       "        // Keep the size of the canvas, canvas container, and rubber band\n",
       "        // canvas in synch.\n",
       "        canvas_div.css('width', width)\n",
       "        canvas_div.css('height', height)\n",
       "\n",
       "        canvas.attr('width', width);\n",
       "        canvas.attr('height', height);\n",
       "\n",
       "        rubberband.attr('width', width);\n",
       "        rubberband.attr('height', height);\n",
       "    }\n",
       "\n",
       "    // Set the figure to an initial 600x600px, this will subsequently be updated\n",
       "    // upon first draw.\n",
       "    this._resize_canvas(600, 600);\n",
       "\n",
       "    // Disable right mouse context menu.\n",
       "    $(this.rubberband_canvas).bind(\"contextmenu\",function(e){\n",
       "        return false;\n",
       "    });\n",
       "\n",
       "    function set_focus () {\n",
       "        canvas.focus();\n",
       "        canvas_div.focus();\n",
       "    }\n",
       "\n",
       "    window.setTimeout(set_focus, 100);\n",
       "}\n",
       "\n",
       "mpl.figure.prototype._init_toolbar = function() {\n",
       "    var fig = this;\n",
       "\n",
       "    var nav_element = $('<div/>')\n",
       "    nav_element.attr('style', 'width: 100%');\n",
       "    this.root.append(nav_element);\n",
       "\n",
       "    // Define a callback function for later on.\n",
       "    function toolbar_event(event) {\n",
       "        return fig.toolbar_button_onclick(event['data']);\n",
       "    }\n",
       "    function toolbar_mouse_event(event) {\n",
       "        return fig.toolbar_button_onmouseover(event['data']);\n",
       "    }\n",
       "\n",
       "    for(var toolbar_ind in mpl.toolbar_items) {\n",
       "        var name = mpl.toolbar_items[toolbar_ind][0];\n",
       "        var tooltip = mpl.toolbar_items[toolbar_ind][1];\n",
       "        var image = mpl.toolbar_items[toolbar_ind][2];\n",
       "        var method_name = mpl.toolbar_items[toolbar_ind][3];\n",
       "\n",
       "        if (!name) {\n",
       "            // put a spacer in here.\n",
       "            continue;\n",
       "        }\n",
       "        var button = $('<button/>');\n",
       "        button.addClass('ui-button ui-widget ui-state-default ui-corner-all ' +\n",
       "                        'ui-button-icon-only');\n",
       "        button.attr('role', 'button');\n",
       "        button.attr('aria-disabled', 'false');\n",
       "        button.click(method_name, toolbar_event);\n",
       "        button.mouseover(tooltip, toolbar_mouse_event);\n",
       "\n",
       "        var icon_img = $('<span/>');\n",
       "        icon_img.addClass('ui-button-icon-primary ui-icon');\n",
       "        icon_img.addClass(image);\n",
       "        icon_img.addClass('ui-corner-all');\n",
       "\n",
       "        var tooltip_span = $('<span/>');\n",
       "        tooltip_span.addClass('ui-button-text');\n",
       "        tooltip_span.html(tooltip);\n",
       "\n",
       "        button.append(icon_img);\n",
       "        button.append(tooltip_span);\n",
       "\n",
       "        nav_element.append(button);\n",
       "    }\n",
       "\n",
       "    var fmt_picker_span = $('<span/>');\n",
       "\n",
       "    var fmt_picker = $('<select/>');\n",
       "    fmt_picker.addClass('mpl-toolbar-option ui-widget ui-widget-content');\n",
       "    fmt_picker_span.append(fmt_picker);\n",
       "    nav_element.append(fmt_picker_span);\n",
       "    this.format_dropdown = fmt_picker[0];\n",
       "\n",
       "    for (var ind in mpl.extensions) {\n",
       "        var fmt = mpl.extensions[ind];\n",
       "        var option = $(\n",
       "            '<option/>', {selected: fmt === mpl.default_extension}).html(fmt);\n",
       "        fmt_picker.append(option)\n",
       "    }\n",
       "\n",
       "    // Add hover states to the ui-buttons\n",
       "    $( \".ui-button\" ).hover(\n",
       "        function() { $(this).addClass(\"ui-state-hover\");},\n",
       "        function() { $(this).removeClass(\"ui-state-hover\");}\n",
       "    );\n",
       "\n",
       "    var status_bar = $('<span class=\"mpl-message\"/>');\n",
       "    nav_element.append(status_bar);\n",
       "    this.message = status_bar[0];\n",
       "}\n",
       "\n",
       "mpl.figure.prototype.request_resize = function(x_pixels, y_pixels) {\n",
       "    // Request matplotlib to resize the figure. Matplotlib will then trigger a resize in the client,\n",
       "    // which will in turn request a refresh of the image.\n",
       "    this.send_message('resize', {'width': x_pixels, 'height': y_pixels});\n",
       "}\n",
       "\n",
       "mpl.figure.prototype.send_message = function(type, properties) {\n",
       "    properties['type'] = type;\n",
       "    properties['figure_id'] = this.id;\n",
       "    this.ws.send(JSON.stringify(properties));\n",
       "}\n",
       "\n",
       "mpl.figure.prototype.send_draw_message = function() {\n",
       "    if (!this.waiting) {\n",
       "        this.waiting = true;\n",
       "        this.ws.send(JSON.stringify({type: \"draw\", figure_id: this.id}));\n",
       "    }\n",
       "}\n",
       "\n",
       "\n",
       "mpl.figure.prototype.handle_save = function(fig, msg) {\n",
       "    var format_dropdown = fig.format_dropdown;\n",
       "    var format = format_dropdown.options[format_dropdown.selectedIndex].value;\n",
       "    fig.ondownload(fig, format);\n",
       "}\n",
       "\n",
       "\n",
       "mpl.figure.prototype.handle_resize = function(fig, msg) {\n",
       "    var size = msg['size'];\n",
       "    if (size[0] != fig.canvas.width || size[1] != fig.canvas.height) {\n",
       "        fig._resize_canvas(size[0], size[1]);\n",
       "        fig.send_message(\"refresh\", {});\n",
       "    };\n",
       "}\n",
       "\n",
       "mpl.figure.prototype.handle_rubberband = function(fig, msg) {\n",
       "    var x0 = msg['x0'];\n",
       "    var y0 = fig.canvas.height - msg['y0'];\n",
       "    var x1 = msg['x1'];\n",
       "    var y1 = fig.canvas.height - msg['y1'];\n",
       "    x0 = Math.floor(x0) + 0.5;\n",
       "    y0 = Math.floor(y0) + 0.5;\n",
       "    x1 = Math.floor(x1) + 0.5;\n",
       "    y1 = Math.floor(y1) + 0.5;\n",
       "    var min_x = Math.min(x0, x1);\n",
       "    var min_y = Math.min(y0, y1);\n",
       "    var width = Math.abs(x1 - x0);\n",
       "    var height = Math.abs(y1 - y0);\n",
       "\n",
       "    fig.rubberband_context.clearRect(\n",
       "        0, 0, fig.canvas.width, fig.canvas.height);\n",
       "\n",
       "    fig.rubberband_context.strokeRect(min_x, min_y, width, height);\n",
       "}\n",
       "\n",
       "mpl.figure.prototype.handle_figure_label = function(fig, msg) {\n",
       "    // Updates the figure title.\n",
       "    fig.header.textContent = msg['label'];\n",
       "}\n",
       "\n",
       "mpl.figure.prototype.handle_cursor = function(fig, msg) {\n",
       "    var cursor = msg['cursor'];\n",
       "    switch(cursor)\n",
       "    {\n",
       "    case 0:\n",
       "        cursor = 'pointer';\n",
       "        break;\n",
       "    case 1:\n",
       "        cursor = 'default';\n",
       "        break;\n",
       "    case 2:\n",
       "        cursor = 'crosshair';\n",
       "        break;\n",
       "    case 3:\n",
       "        cursor = 'move';\n",
       "        break;\n",
       "    }\n",
       "    fig.rubberband_canvas.style.cursor = cursor;\n",
       "}\n",
       "\n",
       "mpl.figure.prototype.handle_message = function(fig, msg) {\n",
       "    fig.message.textContent = msg['message'];\n",
       "}\n",
       "\n",
       "mpl.figure.prototype.handle_draw = function(fig, msg) {\n",
       "    // Request the server to send over a new figure.\n",
       "    fig.send_draw_message();\n",
       "}\n",
       "\n",
       "mpl.figure.prototype.handle_image_mode = function(fig, msg) {\n",
       "    fig.image_mode = msg['mode'];\n",
       "}\n",
       "\n",
       "mpl.figure.prototype.updated_canvas_event = function() {\n",
       "    // Called whenever the canvas gets updated.\n",
       "    this.send_message(\"ack\", {});\n",
       "}\n",
       "\n",
       "// A function to construct a web socket function for onmessage handling.\n",
       "// Called in the figure constructor.\n",
       "mpl.figure.prototype._make_on_message_function = function(fig) {\n",
       "    return function socket_on_message(evt) {\n",
       "        if (evt.data instanceof Blob) {\n",
       "            /* FIXME: We get \"Resource interpreted as Image but\n",
       "             * transferred with MIME type text/plain:\" errors on\n",
       "             * Chrome.  But how to set the MIME type?  It doesn't seem\n",
       "             * to be part of the websocket stream */\n",
       "            evt.data.type = \"image/png\";\n",
       "\n",
       "            /* Free the memory for the previous frames */\n",
       "            if (fig.imageObj.src) {\n",
       "                (window.URL || window.webkitURL).revokeObjectURL(\n",
       "                    fig.imageObj.src);\n",
       "            }\n",
       "\n",
       "            fig.imageObj.src = (window.URL || window.webkitURL).createObjectURL(\n",
       "                evt.data);\n",
       "            fig.updated_canvas_event();\n",
       "            fig.waiting = false;\n",
       "            return;\n",
       "        }\n",
       "        else if (typeof evt.data === 'string' && evt.data.slice(0, 21) == \"data:image/png;base64\") {\n",
       "            fig.imageObj.src = evt.data;\n",
       "            fig.updated_canvas_event();\n",
       "            fig.waiting = false;\n",
       "            return;\n",
       "        }\n",
       "\n",
       "        var msg = JSON.parse(evt.data);\n",
       "        var msg_type = msg['type'];\n",
       "\n",
       "        // Call the  \"handle_{type}\" callback, which takes\n",
       "        // the figure and JSON message as its only arguments.\n",
       "        try {\n",
       "            var callback = fig[\"handle_\" + msg_type];\n",
       "        } catch (e) {\n",
       "            console.log(\"No handler for the '\" + msg_type + \"' message type: \", msg);\n",
       "            return;\n",
       "        }\n",
       "\n",
       "        if (callback) {\n",
       "            try {\n",
       "                // console.log(\"Handling '\" + msg_type + \"' message: \", msg);\n",
       "                callback(fig, msg);\n",
       "            } catch (e) {\n",
       "                console.log(\"Exception inside the 'handler_\" + msg_type + \"' callback:\", e, e.stack, msg);\n",
       "            }\n",
       "        }\n",
       "    };\n",
       "}\n",
       "\n",
       "// from http://stackoverflow.com/questions/1114465/getting-mouse-location-in-canvas\n",
       "mpl.findpos = function(e) {\n",
       "    //this section is from http://www.quirksmode.org/js/events_properties.html\n",
       "    var targ;\n",
       "    if (!e)\n",
       "        e = window.event;\n",
       "    if (e.target)\n",
       "        targ = e.target;\n",
       "    else if (e.srcElement)\n",
       "        targ = e.srcElement;\n",
       "    if (targ.nodeType == 3) // defeat Safari bug\n",
       "        targ = targ.parentNode;\n",
       "\n",
       "    // jQuery normalizes the pageX and pageY\n",
       "    // pageX,Y are the mouse positions relative to the document\n",
       "    // offset() returns the position of the element relative to the document\n",
       "    var x = e.pageX - $(targ).offset().left;\n",
       "    var y = e.pageY - $(targ).offset().top;\n",
       "\n",
       "    return {\"x\": x, \"y\": y};\n",
       "};\n",
       "\n",
       "/*\n",
       " * return a copy of an object with only non-object keys\n",
       " * we need this to avoid circular references\n",
       " * http://stackoverflow.com/a/24161582/3208463\n",
       " */\n",
       "function simpleKeys (original) {\n",
       "  return Object.keys(original).reduce(function (obj, key) {\n",
       "    if (typeof original[key] !== 'object')\n",
       "        obj[key] = original[key]\n",
       "    return obj;\n",
       "  }, {});\n",
       "}\n",
       "\n",
       "mpl.figure.prototype.mouse_event = function(event, name) {\n",
       "    var canvas_pos = mpl.findpos(event)\n",
       "\n",
       "    if (name === 'button_press')\n",
       "    {\n",
       "        this.canvas.focus();\n",
       "        this.canvas_div.focus();\n",
       "    }\n",
       "\n",
       "    var x = canvas_pos.x;\n",
       "    var y = canvas_pos.y;\n",
       "\n",
       "    this.send_message(name, {x: x, y: y, button: event.button,\n",
       "                             step: event.step,\n",
       "                             guiEvent: simpleKeys(event)});\n",
       "\n",
       "    /* This prevents the web browser from automatically changing to\n",
       "     * the text insertion cursor when the button is pressed.  We want\n",
       "     * to control all of the cursor setting manually through the\n",
       "     * 'cursor' event from matplotlib */\n",
       "    event.preventDefault();\n",
       "    return false;\n",
       "}\n",
       "\n",
       "mpl.figure.prototype._key_event_extra = function(event, name) {\n",
       "    // Handle any extra behaviour associated with a key event\n",
       "}\n",
       "\n",
       "mpl.figure.prototype.key_event = function(event, name) {\n",
       "\n",
       "    // Prevent repeat events\n",
       "    if (name == 'key_press')\n",
       "    {\n",
       "        if (event.which === this._key)\n",
       "            return;\n",
       "        else\n",
       "            this._key = event.which;\n",
       "    }\n",
       "    if (name == 'key_release')\n",
       "        this._key = null;\n",
       "\n",
       "    var value = '';\n",
       "    if (event.ctrlKey && event.which != 17)\n",
       "        value += \"ctrl+\";\n",
       "    if (event.altKey && event.which != 18)\n",
       "        value += \"alt+\";\n",
       "    if (event.shiftKey && event.which != 16)\n",
       "        value += \"shift+\";\n",
       "\n",
       "    value += 'k';\n",
       "    value += event.which.toString();\n",
       "\n",
       "    this._key_event_extra(event, name);\n",
       "\n",
       "    this.send_message(name, {key: value,\n",
       "                             guiEvent: simpleKeys(event)});\n",
       "    return false;\n",
       "}\n",
       "\n",
       "mpl.figure.prototype.toolbar_button_onclick = function(name) {\n",
       "    if (name == 'download') {\n",
       "        this.handle_save(this, null);\n",
       "    } else {\n",
       "        this.send_message(\"toolbar_button\", {name: name});\n",
       "    }\n",
       "};\n",
       "\n",
       "mpl.figure.prototype.toolbar_button_onmouseover = function(tooltip) {\n",
       "    this.message.textContent = tooltip;\n",
       "};\n",
       "mpl.toolbar_items = [[\"Home\", \"Reset original view\", \"fa fa-home icon-home\", \"home\"], [\"Back\", \"Back to  previous view\", \"fa fa-arrow-left icon-arrow-left\", \"back\"], [\"Forward\", \"Forward to next view\", \"fa fa-arrow-right icon-arrow-right\", \"forward\"], [\"\", \"\", \"\", \"\"], [\"Pan\", \"Pan axes with left mouse, zoom with right\", \"fa fa-arrows icon-move\", \"pan\"], [\"Zoom\", \"Zoom to rectangle\", \"fa fa-square-o icon-check-empty\", \"zoom\"], [\"\", \"\", \"\", \"\"], [\"Download\", \"Download plot\", \"fa fa-floppy-o icon-save\", \"download\"]];\n",
       "\n",
       "mpl.extensions = [\"eps\", \"jpeg\", \"pdf\", \"png\", \"ps\", \"raw\", \"svg\", \"tif\"];\n",
       "\n",
       "mpl.default_extension = \"png\";var comm_websocket_adapter = function(comm) {\n",
       "    // Create a \"websocket\"-like object which calls the given IPython comm\n",
       "    // object with the appropriate methods. Currently this is a non binary\n",
       "    // socket, so there is still some room for performance tuning.\n",
       "    var ws = {};\n",
       "\n",
       "    ws.close = function() {\n",
       "        comm.close()\n",
       "    };\n",
       "    ws.send = function(m) {\n",
       "        //console.log('sending', m);\n",
       "        comm.send(m);\n",
       "    };\n",
       "    // Register the callback with on_msg.\n",
       "    comm.on_msg(function(msg) {\n",
       "        //console.log('receiving', msg['content']['data'], msg);\n",
       "        // Pass the mpl event to the overriden (by mpl) onmessage function.\n",
       "        ws.onmessage(msg['content']['data'])\n",
       "    });\n",
       "    return ws;\n",
       "}\n",
       "\n",
       "mpl.mpl_figure_comm = function(comm, msg) {\n",
       "    // This is the function which gets called when the mpl process\n",
       "    // starts-up an IPython Comm through the \"matplotlib\" channel.\n",
       "\n",
       "    var id = msg.content.data.id;\n",
       "    // Get hold of the div created by the display call when the Comm\n",
       "    // socket was opened in Python.\n",
       "    var element = $(\"#\" + id);\n",
       "    var ws_proxy = comm_websocket_adapter(comm)\n",
       "\n",
       "    function ondownload(figure, format) {\n",
       "        window.open(figure.imageObj.src);\n",
       "    }\n",
       "\n",
       "    var fig = new mpl.figure(id, ws_proxy,\n",
       "                           ondownload,\n",
       "                           element.get(0));\n",
       "\n",
       "    // Call onopen now - mpl needs it, as it is assuming we've passed it a real\n",
       "    // web socket which is closed, not our websocket->open comm proxy.\n",
       "    ws_proxy.onopen();\n",
       "\n",
       "    fig.parent_element = element.get(0);\n",
       "    fig.cell_info = mpl.find_output_cell(\"<div id='\" + id + \"'></div>\");\n",
       "    if (!fig.cell_info) {\n",
       "        console.error(\"Failed to find cell for figure\", id, fig);\n",
       "        return;\n",
       "    }\n",
       "\n",
       "    var output_index = fig.cell_info[2]\n",
       "    var cell = fig.cell_info[0];\n",
       "\n",
       "};\n",
       "\n",
       "mpl.figure.prototype.handle_close = function(fig, msg) {\n",
       "    fig.root.unbind('remove')\n",
       "\n",
       "    // Update the output cell to use the data from the current canvas.\n",
       "    fig.push_to_output();\n",
       "    var dataURL = fig.canvas.toDataURL();\n",
       "    // Re-enable the keyboard manager in IPython - without this line, in FF,\n",
       "    // the notebook keyboard shortcuts fail.\n",
       "    IPython.keyboard_manager.enable()\n",
       "    $(fig.parent_element).html('<img src=\"' + dataURL + '\">');\n",
       "    fig.close_ws(fig, msg);\n",
       "}\n",
       "\n",
       "mpl.figure.prototype.close_ws = function(fig, msg){\n",
       "    fig.send_message('closing', msg);\n",
       "    // fig.ws.close()\n",
       "}\n",
       "\n",
       "mpl.figure.prototype.push_to_output = function(remove_interactive) {\n",
       "    // Turn the data on the canvas into data in the output cell.\n",
       "    var dataURL = this.canvas.toDataURL();\n",
       "    this.cell_info[1]['text/html'] = '<img src=\"' + dataURL + '\">';\n",
       "}\n",
       "\n",
       "mpl.figure.prototype.updated_canvas_event = function() {\n",
       "    // Tell IPython that the notebook contents must change.\n",
       "    IPython.notebook.set_dirty(true);\n",
       "    this.send_message(\"ack\", {});\n",
       "    var fig = this;\n",
       "    // Wait a second, then push the new image to the DOM so\n",
       "    // that it is saved nicely (might be nice to debounce this).\n",
       "    setTimeout(function () { fig.push_to_output() }, 1000);\n",
       "}\n",
       "\n",
       "mpl.figure.prototype._init_toolbar = function() {\n",
       "    var fig = this;\n",
       "\n",
       "    var nav_element = $('<div/>')\n",
       "    nav_element.attr('style', 'width: 100%');\n",
       "    this.root.append(nav_element);\n",
       "\n",
       "    // Define a callback function for later on.\n",
       "    function toolbar_event(event) {\n",
       "        return fig.toolbar_button_onclick(event['data']);\n",
       "    }\n",
       "    function toolbar_mouse_event(event) {\n",
       "        return fig.toolbar_button_onmouseover(event['data']);\n",
       "    }\n",
       "\n",
       "    for(var toolbar_ind in mpl.toolbar_items){\n",
       "        var name = mpl.toolbar_items[toolbar_ind][0];\n",
       "        var tooltip = mpl.toolbar_items[toolbar_ind][1];\n",
       "        var image = mpl.toolbar_items[toolbar_ind][2];\n",
       "        var method_name = mpl.toolbar_items[toolbar_ind][3];\n",
       "\n",
       "        if (!name) { continue; };\n",
       "\n",
       "        var button = $('<button class=\"btn btn-default\" href=\"#\" title=\"' + name + '\"><i class=\"fa ' + image + ' fa-lg\"></i></button>');\n",
       "        button.click(method_name, toolbar_event);\n",
       "        button.mouseover(tooltip, toolbar_mouse_event);\n",
       "        nav_element.append(button);\n",
       "    }\n",
       "\n",
       "    // Add the status bar.\n",
       "    var status_bar = $('<span class=\"mpl-message\" style=\"text-align:right; float: right;\"/>');\n",
       "    nav_element.append(status_bar);\n",
       "    this.message = status_bar[0];\n",
       "\n",
       "    // Add the close button to the window.\n",
       "    var buttongrp = $('<div class=\"btn-group inline pull-right\"></div>');\n",
       "    var button = $('<button class=\"btn btn-mini btn-primary\" href=\"#\" title=\"Stop Interaction\"><i class=\"fa fa-power-off icon-remove icon-large\"></i></button>');\n",
       "    button.click(function (evt) { fig.handle_close(fig, {}); } );\n",
       "    button.mouseover('Stop Interaction', toolbar_mouse_event);\n",
       "    buttongrp.append(button);\n",
       "    var titlebar = this.root.find($('.ui-dialog-titlebar'));\n",
       "    titlebar.prepend(buttongrp);\n",
       "}\n",
       "\n",
       "mpl.figure.prototype._root_extra_style = function(el){\n",
       "    var fig = this\n",
       "    el.on(\"remove\", function(){\n",
       "\tfig.close_ws(fig, {});\n",
       "    });\n",
       "}\n",
       "\n",
       "mpl.figure.prototype._canvas_extra_style = function(el){\n",
       "    // this is important to make the div 'focusable\n",
       "    el.attr('tabindex', 0)\n",
       "    // reach out to IPython and tell the keyboard manager to turn it's self\n",
       "    // off when our div gets focus\n",
       "\n",
       "    // location in version 3\n",
       "    if (IPython.notebook.keyboard_manager) {\n",
       "        IPython.notebook.keyboard_manager.register_events(el);\n",
       "    }\n",
       "    else {\n",
       "        // location in version 2\n",
       "        IPython.keyboard_manager.register_events(el);\n",
       "    }\n",
       "\n",
       "}\n",
       "\n",
       "mpl.figure.prototype._key_event_extra = function(event, name) {\n",
       "    var manager = IPython.notebook.keyboard_manager;\n",
       "    if (!manager)\n",
       "        manager = IPython.keyboard_manager;\n",
       "\n",
       "    // Check for shift+enter\n",
       "    if (event.shiftKey && event.which == 13) {\n",
       "        this.canvas_div.blur();\n",
       "        event.shiftKey = false;\n",
       "        // Send a \"J\" for go to next cell\n",
       "        event.which = 74;\n",
       "        event.keyCode = 74;\n",
       "        manager.command_mode();\n",
       "        manager.handle_keydown(event);\n",
       "    }\n",
       "}\n",
       "\n",
       "mpl.figure.prototype.handle_save = function(fig, msg) {\n",
       "    fig.ondownload(fig, null);\n",
       "}\n",
       "\n",
       "\n",
       "mpl.find_output_cell = function(html_output) {\n",
       "    // Return the cell and output element which can be found *uniquely* in the notebook.\n",
       "    // Note - this is a bit hacky, but it is done because the \"notebook_saving.Notebook\"\n",
       "    // IPython event is triggered only after the cells have been serialised, which for\n",
       "    // our purposes (turning an active figure into a static one), is too late.\n",
       "    var cells = IPython.notebook.get_cells();\n",
       "    var ncells = cells.length;\n",
       "    for (var i=0; i<ncells; i++) {\n",
       "        var cell = cells[i];\n",
       "        if (cell.cell_type === 'code'){\n",
       "            for (var j=0; j<cell.output_area.outputs.length; j++) {\n",
       "                var data = cell.output_area.outputs[j];\n",
       "                if (data.data) {\n",
       "                    // IPython >= 3 moved mimebundle to data attribute of output\n",
       "                    data = data.data;\n",
       "                }\n",
       "                if (data['text/html'] == html_output) {\n",
       "                    return [cell, data, j];\n",
       "                }\n",
       "            }\n",
       "        }\n",
       "    }\n",
       "}\n",
       "\n",
       "// Register the function which deals with the matplotlib target/channel.\n",
       "// The kernel may be null if the page has been refreshed.\n",
       "if (IPython.notebook.kernel != null) {\n",
       "    IPython.notebook.kernel.comm_manager.register_target('matplotlib', mpl.mpl_figure_comm);\n",
       "}\n"
      ],
      "text/plain": [
       "<IPython.core.display.Javascript object>"
      ]
     },
     "metadata": {},
     "output_type": "display_data"
    },
    {
     "data": {
      "text/html": [
       "<img src=\"data:image/png;base64,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\">"
      ],
      "text/plain": [
       "<IPython.core.display.HTML object>"
      ]
     },
     "metadata": {},
     "output_type": "display_data"
    }
   ],
   "source": [
    "fig, ax = plt.subplots(figsize=(8,6))\n",
    "\n",
    "dfQuellenGrouped = dfQuellenVerteilung.groupby(by='Häufigkeit').plot(kind='hist', ax=ax, legend=False)"
   ]
  },
  {
   "cell_type": "code",
   "execution_count": 131,
   "metadata": {
    "collapsed": true
   },
   "outputs": [],
   "source": [
    "import folium\n",
    "from folium import plugins\n",
    "from folium.map import *"
   ]
  },
  {
   "cell_type": "markdown",
   "metadata": {},
   "source": [
    "Remove all entries where no latitude or longitude is given."
   ]
  },
  {
   "cell_type": "code",
   "execution_count": 141,
   "metadata": {
    "collapsed": false
   },
   "outputs": [],
   "source": [
    "dfPoleisMap = dfPoleis.dropna(axis=0)"
   ]
  },
  {
   "cell_type": "code",
   "execution_count": 144,
   "metadata": {
    "collapsed": false
   },
   "outputs": [
    {
     "data": {
      "text/html": [
       "<div style=\"width:100%;\"><div style=\"position:relative;width:100%;height:0;padding-bottom:60%;\"><iframe src=\"data:text/html;base64,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\" style=\"position:absolute;width:100%;height:100%;left:0;top:0;\"></iframe></div></div>"
      ],
      "text/plain": [
       "<folium.folium.Map at 0x7f933c0a8fd0>"
      ]
     },
     "execution_count": 144,
     "metadata": {},
     "output_type": "execute_result"
    }
   ],
   "source": [
    "poleis_map = folium.Map(location=[dfPoleisMap[\"Latitude\"][0],dfPoleisMap[\"Longitude\"][0]], zoom_start=5)\n",
    "\n",
    "marker = FeatureGroup(name='Poleis')\n",
    "\n",
    "marker_cluster = folium.MarkerCluster().add_to(marker)\n",
    "    \n",
    "for i in range(len(dfPoleisMap)):\n",
    "    folium.Marker([dfPoleisMap['Latitude'][i], dfPoleisMap['Longitude'][i]],popup='Cityname:' + str(dfPoleisMap[\"city\"][i]) + ' CityIndex:' + str(dfPoleisMap[\"city_index\"][i]),icon=folium.Icon(icon='ok')).add_to(marker_cluster)\n",
    "\n",
    "poleis_map.add_children(marker)\n",
    "\n",
    "poleis_map.add_children(folium.map.LayerControl())"
   ]
  }
 ],
 "metadata": {
  "anaconda-cloud": {},
  "kernelspec": {
   "display_name": "Python 3",
   "language": "python",
   "name": "python3"
  },
  "language_info": {
   "codemirror_mode": {
    "name": "ipython",
    "version": 3
   },
   "file_extension": ".py",
   "mimetype": "text/x-python",
   "name": "python",
   "nbconvert_exporter": "python",
   "pygments_lexer": "ipython3",
   "version": "3.5.2"
  },
  "latex_envs": {
   "bibliofile": "biblio.bib",
   "cite_by": "apalike",
   "current_citInitial": 1,
   "eqLabelWithNumbers": true,
   "eqNumInitial": 0
  },
  "nav_menu": {},
  "toc": {
   "navigate_menu": true,
   "number_sections": true,
   "sideBar": true,
   "threshold": 6,
   "toc_cell": false,
   "toc_section_display": "block",
   "toc_window_display": false
  }
 },
 "nbformat": 4,
 "nbformat_minor": 0
}
