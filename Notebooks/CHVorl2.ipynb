{
 "cells": [
  {
   "cell_type": "markdown",
   "metadata": {
    "button": false,
    "deletable": true,
    "new_sheet": false,
    "run_control": {
     "read_only": false
    }
   },
   "source": [
    "# Vorlesung 2: Gruppen von Individuen \n",
    "## Data mit Pandas Dataframes\n",
    "\n",
    "Python Einführung: http://www.diveintopython.net/toc/index.html\n",
    "\n",
    "Reguläre Ausdrücke: http://www.regexe.de/hilfe.jsp\n",
    "                    https://pymotw.com/2/re\n",
    "\n",
    "Pandas: http://www.data-analysis-in-python.org/3_pandas.html\n",
    "      : https://bitbucket.org/hrojas/learn-pandas\n",
    "\n"
   ]
  },
  {
   "cell_type": "markdown",
   "metadata": {
    "button": false,
    "deletable": true,
    "new_sheet": false,
    "run_control": {
     "read_only": false
    }
   },
   "source": [
    "## Pandas Dataframes"
   ]
  },
  {
   "cell_type": "code",
   "execution_count": 1,
   "metadata": {
    "button": false,
    "collapsed": false,
    "deletable": true,
    "new_sheet": false,
    "run_control": {
     "read_only": false
    }
   },
   "outputs": [],
   "source": [
    "import json\n",
    "import pandas as pd\n",
    "import re\n",
    "import numpy as np\n",
    "import matplotlib.pyplot as plt"
   ]
  },
  {
   "cell_type": "code",
   "execution_count": 2,
   "metadata": {
    "button": false,
    "collapsed": false,
    "deletable": true,
    "new_sheet": false,
    "run_control": {
     "read_only": false
    }
   },
   "outputs": [],
   "source": [
    "# json.load erzeugt ein dictionary der JSON Daten\n",
    "with open('chapter1.json') as json_data:\n",
    "    PoleisRawData = json.load(json_data)"
   ]
  },
  {
   "cell_type": "code",
   "execution_count": 3,
   "metadata": {
    "button": false,
    "collapsed": false,
    "deletable": true,
    "new_sheet": false,
    "run_control": {
     "read_only": false
    }
   },
   "outputs": [
    {
     "data": {
      "text/plain": [
       "dict"
      ]
     },
     "execution_count": 3,
     "metadata": {},
     "output_type": "execute_result"
    }
   ],
   "source": [
    "# Abfrage des Datentyps\n",
    "type(PoleisRawData)"
   ]
  },
  {
   "cell_type": "code",
   "execution_count": 4,
   "metadata": {
    "collapsed": false
   },
   "outputs": [
    {
     "data": {
      "text/plain": [
       "{'10. Akrai ': \"(Akraios) Map  47.  Lat. 37.05,long.  14.55.  Size  of territory:? Type:C: .  The  toponym  is  ,  (Thuc. 6.5.2;Diod.  23.4.1);  Steph.  Byz. 62.5  has ;  the  city- ethnic  is  (IG xiv  215.3  (C 3)). The  only  (implicit)  reference  to Akrai  as  a  polis  is  in  the treaty  of 263  between  Rome  and  Syracuse  (Diod. 23.4.1), which  lists  the  poleis  assigned  to Hieron  II  and  uses  polis  in the  political  sense.  The  internal  collective  use  of  the  city- ethnic  is  found  in  IG xiv  215;  it  is  also  found  as  the  epithet  of Zeus  Akraios,  if  the  conjecture  by  Wilamowitz  is  accepted (IG xiv  203). Lack  of  the  name  of  an  oecist  and  of  a  mint  are  factors which  make  the  polis  status  of  Akrai  uncertain  and  tend  to suggest  a  military  settlement  protecting  the  territory  of Syracuse  (no. 47;  Di  Vita  ( 1956),  ( 1987))  rather  than  a  polis. There  are  very  few  sources  for  the  Archaic  and  Classical  peri- ods,  and  no  mention  of  the  city  from  between  the  period  of its  foundation  (Thuc. 6.5.2)  and  the  encampment  of  Dion  in its  vicinity  (Plut.  Dio 27  (r 357)).  All  in  all,  the  status  of  Akrai seems  uncertain.  Thucydides  uses  the  toponym  without qualification,  implying,  perhaps,  a  phrourion  controlling Syracusan  dominion,  though  it  may  possibly  have  been  a dependent  polis  founded  as  a  fortress  (as  has  been  suggested for  Kasmenai  (no. 29)  by  Hansen  ( 1997a)  36). Akrai  was  founded  by  Syracuse  (no. 47)  in  664  (Thuc. 6.5.2)  c. 36  km  west  of  Syracuse  itself,  as  the  outcome  of Syracuse's  policy  of  subjugating  a  large  part  of  south-east Sicily  (Di  Vita  ( 1987)).  There  is  evidence  for  small  nucleated settlements  and  farmsteads  in  the  hinterland  (Curcio  ( 1979) 87\\xad88;  Marotta  D'Agata  et al.( 1994)  196),  but  the  size  of Akraian  territory  is  uncertain,  and  it  was  in  any  case  part  of the  Syracusan  dominion.  A  C 4  relief  of  Demeter  and  Apollo sikelia  189 from  Serra  Palazzo,  a  few  kilometres  from  Akrai,  may  indi- cate  a  suburban  sanctuary  (Orsi  ( 1920)). Akrai  occupied  a  plateau  west  of  modern  Palazzolo Acreide  between  the  upper  reaches  of  the  Tellaro  and  Anapo valleys.  The  city  was  defended  by  steep  slopes  and  a  circuit wall  raised  on  the  edge  of  the  plateau.  Only  short  stretches are  extant,  built  as  a  solid  ashlar  wall  dated  to  C 4f  (Bernabò Brea  ( 1956)  21\\xad25,fig.  9).  IG xiv  217  (Hell.)  mentions  a  pyla Selinountia  (Pugliese  Carratelli  in  Bernabò  Brea  ( 1956)  2; Manganaro  ( 1965)  204\\xad5  supplies  an  alternative  reading). The  urban  site  occupied  the  central  part  of  the  plateau,  cov- ering  about  35  ha  (Bernabò  Brea  ( 1956)).  Evidence  for  the early  urban  history  of  Akrai  is  limited,  early  remains  being sparse.  The  most  conspicuous  remains  are  the  C 3  theatre (Mitens  ( 1988)  84\\xad87)  and  the  C 2  bouleuterion  (Gneisz ( 1990)  302).However,there  are  traces  of  early  town  planning which  may  go  back  to  the  time  of  foundation  (Voza  and Lanza  ( 1994)).  The  east-west  plateia  spans  the  whole  city from  the  Syracusan  gate  in  the  area  of  the  probable  agora, the  theatre  and  bouleuterion  to  the  Selinountine  gate. The  C 6s  temple  of  Aphrodite  on  a  hill  above  the  city  has  a  history  going  back  to C 7m  (Bernabò  Brea  ( 1986);  for  the  attribution:  IG xiv  206,  208).  There  is  epigraphic  evid- ence  for  cults  of  Hera (IG xiv  208),  Zeus  Akraios  (IG xiv 203: [ ],  emended  to [ ]  by Wilamowitz),  Artemis  (IG xiv  217)  and  Kore  (IG xiv  217;  cf. Hinz  ( 1998)  119).  See  further  Pugliese  Carratelli  ( 1956)  and Bernabò  Brea  ( 1986)  13. The  cemeteries  of  Akrai  are  located  on  the  adjoining plateau  south  of  the  city,  Contrada  della  Pineta  (in  use C 7\\xadC5)  and  on  the  Colle  Orbo,  located  above  the  city  out- side  the  west  gate  (C 7  and  C 6;  Bernabò  Brea  ( 1956)  114\\xad17).\",\n",
       " '11. Alaisa ': \"(Alaisinos) Map  47.  Lat. 38.00,long.  14.15.  Size of  territory:? Type:B: .  The  toponym  is  ,  (Diod. 14.16.2,  4).  The  city-ethnic  is  (C 4m  coins,  infra; Diod. 23.4.1). According  to Diod. 14.16.2,  Alaisa  was  founded  by Archonides  of  Herbita  in  403/2,  in  order  to house  veteran mercenaries,  a  symmikton  ochlon  that  the  war  against Dionysios  had  brought  to  the  city,  as  well  as  poor  citizens  of Herbita  (no. 23)  itself;  in  the  report  of  the  foundation,  Alaisa is  called  a  polis  (       ),  presumably  in both  the  urban  and  the  political  sense.  Another  tradition held  that  it  was  a  foundation  by  Himilkon  of  Carthage (Diod. 14.16.4).In  the  Roman  period,  however,  the  Herbitan origin  of  the  city  was  considered  a  disgrace  by  its  citizens (Diod. 14.16.3),  and  this  may  explain  the  variant  tradition. The  internal  collective  use  of  the  city-ethnic  is  found  on  C 4s coins  (infra),  and  the  external  collective use  in  Diod. 23.4.1 (r 263). Alaisa  was  member  of  Timoleon's symmachia  (cf.  Diod. 16.73.2  (r 342/1)),  as  can  be  inferred  from  its  minting  of Timoleontic  symmachia  coins  (infra). Alaisa  is  identified w ith  Castel  di  Tusa  on  the  north  coast of  Sicily,  where  there  are  substantial  remains  of  an  ancient urban  site:  habitation  structures  that  reveal  an  orthogonal layout  with  an  agora;  a  circuit  wall  in  ashlar  technique;  a monumental  stoa;  and  remains  of  two  temples,  of  which one  must  have  been  of  Apollo  (infra),  all  Hellenistic (Scibona  ( 1976b)).  The  epiklesis  of  Apollo--Archagetas (infra)--is t estimony  to  the  importance  of  his  cult. Alaisa  struck  Greek-style  bronze  coins  from  the  time  of Timoleon's symmachia  (c. 340):  obv.  Apollo,  legend: ;  rev.  torch  and  stalks  of  barley,  legend: (SNG  Cop.  Sicily 132);  also  Zeus Eleutherios  type:  obv.  head  of  Zeus  Eleutherios  with  short hair,  legend:  ;  rev.  torch  between ears  of  corn,  legend:  . Other  types  depict  Apollo  (legend: ) and the  nymph  Sikelia  (legend: ).  Lower  bronze denominations  have obv.  griffin,  rev.  free  horse,  legend: (SNG  Cop.  Sicily 132\\xad34).  See  Head,  HN ²125\\xad26; Talbert  ( 1974)  188\\xad89;  Bernabò  Brea  ( 1975)  21;  Karlsson ( 1995)  150,  165  n. 3  with  refs.\",\n",
       " '12. Alontion ': \"(Alontinos) Map  47.  Lat. 38.05,long.  14.40. Size of  territory:  ? Type:  C: .  The  toponym  is  ,   (Dion.  Hal.  Ant.  Rom. 1.51.2;  Ptol.  Geog. 3.4.2).  The  city- ethnic  is  (C 4e  coins,  infra). No  source  calls  Alontion  a  polis,  but  it  is  included  here  on account  of  its  C 4e  coins. According  to legend,  Patron  of  Akarnania,  guide  of Anchises  (Dion.  Hal.  Ant.  Rom. 1.51.2;  for  the  Akarnanian origin  of  Patron,  cf.  Fromentin  ( 1998)  256  ad  Dion.  Hal.  Ant. Rom. 1.51.2),  settled  at  Alontion,  which  would  seem  to  indi- cate  a  claim  to Greek  identity,  and  by C 4e  it  minted  Greek- style  coins  (infra).  Alontion  has  been  identified w ith  San Marco  d'Alunzio  (Bruno  ( 1963)  141\\xad48),  in  origin  a  Sikel site,  but  with  some  evidence  of  C 4  Hellenisation.  The  few documented  Greek  structures  are  the  remains  of  a  (proba- bly  Hellenistic)  circuit  wall  built  in  isodomic  technique  and a  suburban  temple.  In  addition,  coin  types  suggest  cults  of Greek  divinities  (infra). Alontion  struck  bronze  coins  from  C 4e:  obv.  head  of Athena;  rev.  cuttlefish,  legend: .  According 190 fischer-hansen,  nielsen  and  ampolo to  Karlsson  ( 1995)  150,fig.  3,  Alontion  issued  Timoleontic symmachia  coins  with  the  short-haired  Zeus  Eleutherios (but  no  refs.  are  given,  ibid. 166  n. 3);  Rutter  ( 1997)  168 includes  Alontion  in  his  list  of  C 4s  Timoleontic  symmachia coins.\",\n",
       " '13. Apollonia ': '(Apolloniates) Map  47.  Lat. 38.00,long. 14.35.  Size  of  territory:  ?  Type:  C: ? The toponym is , (Diod. 16.72.5).  The  city-ethnic  is (Diod. 16.72.5). At 16.72.5,  Diodorus  reports  that  Apollonia,  which  with Engyon  (no. 14)  had  been  ruled  by  the  tyrant  Leptines,  had its  autonomia  restored  by  Timoleon  in  342/1;  in  his  brief report  of  the  incident,  Diodorus  refers  to Apollonia  as  a  polis in  the  political  sense  and  uses  the  collective  city-ethnic;  it  is called  a  polis  in  the  urban  sense  at  Diod. 20.56.4  (r 307). According  to  Steph.  Byz. 106.4\\xad5  (as  emended  by Clüver), Apollonia  was  located  near  Kale  Akte  and  Alontion  (i.e.  on the  north  coast  of  Sicily),  and  urban  remains  on  the  plateau of  Monte  Vecchio,  Commune  of  S.  Fratello,  have  been  ident- ifed  with  Apollonia;  the  remains  testify  to  circuit  walls  and habitation  structures  built  in  isodomic  masonry  of  local marble  (Bernabò  Brea  ( 1975)  15;  Scibona  ( 1976a)).  However, Manni  ( 1981)  145  opts  for  modern  Pollina,  pointing  out  that according  to Diod. 16.72.5,  Apollonia  was  near  Engyon. According  to Diod. 20.56.4,  the  city  was  taken  by  Agathokles in 307  after  a  short  siege,  and  this  suggests  that  it  was  forti- fied b y  this  date.',\n",
       " '14. Engyon ': \"(Engyinos)  Map  47.  Lat. 37.45,long.  14.35.Size of  territory:? Type:C: .  The  toponym  is  ,  (Diod. 16.72.3;  Steph.  Byz. 271.13,  for  which  see  Meineke  ad  loc.).  The city-ethnic  is  '  (Diod. 16.72.4,  6)  and  '(  ?, cf.  infra). Engyon  is  called  a  polis  in  the  urban  and  political  (cf. µ) senses at Diod.  16.72.4  (r 342/1)  in  a  passage which  also  uses  the  collective city-ethnic  (cf. 16.72.6).  In 342/1,  the  city  was  ruled  by  the  tyrant  Leptines,  who  was, however,  deposed  when  Timoleon  restored  the  autonomia of  Engyon  (Diod. 16.72.3\\xad5). According  to Diod. 4.79.7,  the  famous  sanctuary  of  the Meteres  at  Engyon  was  of  Cretan  origin  (Manganaro  ( 1996c) 130  n. 13  with  refs.),  perhaps  an  indication  that  Greek  identi- ty  was  claimed  for  the  city  (infra). The  location  of  Engyon  is  uncertain,  though  we  are  told that  the  neighbouring  city  was  Agyrion  (no. 7),  located  100 stades  away  (Diod. 4.80.5).  Manganaro  has,  on  the  basis  of Hellenistic  inscriptions  ( []  '[  ]?) on bullets found  at  Troina,  suggested  this  as  the  site  of  Engyon,  and  the possible  attestation  of  a  civic  organisation  with  phratriai  is of  some  importance  as  an  indication  of  Greek  identity (Manganaro  ( 1964b),  ( 1996c)  130;  contra  Manni  ( 1976b) 606\\xad7). At  Troina,  the  archaeological  remains  of  a  circuit  wall  and the  evidence  from  tombs  do  not  antedate  C 4m;  there  is  no evidence  of  an  original  Sikel  settlement.  However,  the  ident- ification of  Troina  with  Engyon  (accepted  by  Barr.)  cannot be  considered  absolutely  certain  (Militello  ( 1961);  Bejor ( 1989a)).\",\n",
       " '15. Euboia ': '(Euboeus)  Map  47.  Unlocated.  Type:  C: .The toponym is ,  (Callim.  Aet.  II  fr. 43.52,  Pfeiffer; Ps.-Skymnos  287;  cf.  Freeman  ( 1891\\xad94)  i. 380:  \"Its  name, recording  the  home-memories  of  the  men  of  Leontinoi,  is  the earliest  distinct  instance  of  the  name  of  a  land  being  used  as the  name  of  a  town;  for  there  was  a  town  as  well  as  an  island  of Naxos,  but  there  was  no  town of  Euboia\");  in  Hdt. 7.156.3  the city-ethnic  is  given  as  (to  which  is  added   ;  cf.  Camassa  ( 1989a)  391\\xad92:  \"uno  specifico r iferi- mento  agli  abitanti  del  centro  [i.e.  the  city  of  Euboia]  e  non  .  .  .  una  designazione  dei  coloni  d\\'ascendenza  euboica  in Sicilia\").  The  site  of  Euboia  is  unidentified,  but  it  was  pre- sumably  located  somewhere  in  the  hinterland  of  Leontinoi (no. 33)  where  the  presence  of  Chalkidian  Greeks  is  well  doc- umented  (Procelli  ( 1989)).  The  city  has  been  tentatively  iden- tified w ith  different  modern  towns  and  localities  (cf.  Camassa ( 1989a)  392),  most  recently  with  the  site  of  Monte  San  Mauro near  Caltagirone  (Frasca  ( 1997)).  Barr.  (following  Manni ( 1981))  suggests  a  location  at  the  ACH  site  at  Licodia  Euboia. The  only  Classical  source  to  mention  Euboia  is  Hdt. 7.156.3,  which  reports  that  Gelon  subjected  it  to  the  same treatment  as  Megara,  i.e.  the  pacheis  received  citizenship  at Syracuse  (no. 47)  while  the  demos  was  sold  into  slavery;  this ought  to  imply  a  Euboian  population  socially  differentiated into  pacheis  and  demos,  and  since  the  other  communities relocated  by  Gelon  were  certainly  poleis--viz.  Kamarina  (no. 28)  and  Megara  (no. 36)--the presumption is that E uboia was  a  polis  as  well  (cf.  Seibert  ( 1979)  226,  228).  Strabo  10.1.15 also  reports  Gelon\\'s  relocation  of  the  city  and  implies  that  it meant  a  change  of  status  for  Euboia:  it  became  a  Syracusan phrourion,  and  the  inference  is  that  it  was  a  polis  prior  to that ( ...     ,   ;  cf.  the  entry  for  Leontinoi,  which  became  a phrourion  of  Syracuse  in  the  later  420s).  Euboia  is  called  a polis  by  Ps.-Skymnos  287  in  reference  to the  time  of  founda- tion.  The  external  collective  use  of  the  city-ethnic  is  found  at Hdt. 7.156.3. sikelia  191 Only  two  events  of  Euboian  history  are  known:  its  foun- dation  and  its  destruction.  It  was  founded  by  Leontinoi  (no. 33)  (Strabo  6.2.6).  The  date  of  the  foundation  is  unknown and  must  be  inferred  from  the  context  in  which  the  literary sources  mention  it:  Strabo  6.2.6  discusses  its  foundation together  with  the  foundations  of  Himera  (no. 24),  Kallipolis (no. 27)  and  Selinous  (no. 44),  which  may  suggest  a  C 7  date for  the  foundation;  however,  Ps.-Skymnos  287\\xad88  treats  the foundation  alongside  that  of  Mylai,  so  a  C 8l  date  cannot  be entirely  excluded.  Euboia\\'s existence  as  a  polis  ended  when c. 485\\xad483  Gelon  sold  its  demos  into  slavery  and  relocated  the pacheis  to  Syracuse  (Hdt. 7.156.3;  chronology:  Dunbabin ( 1948)  416);  after  that  it  was  a  Syracusan  phrourion  (Strabo 10.1.15).',\n",
       " '16. Galeria ': '(Galarinos) Map  47.Unlocated  (Manni  ( 1981) 175\\xad76;  Scibona  ( 1989)  536).  Type:  C: .  The  toponym  is or ,  at  Diod. 16.67.3,  19.104.1;  the  city- ethnic  is  (C 5m  coins,  infra). Galeria  is  called  a  polis  in  the  urban  and  political  senses  at Diod. 16.67.3  (r 345/4);  politai  are  mentioned  at  Diod. 19.104.1 (r 312).  The  internal  collective  use  of  the  city-ethnic  is  found on  C 5m  coins  (infra).  According  to  Steph.  Byz. 196.11, Galeria  was  a  foundation  by  the  Sikel  Morgos;  it  is  included here  on  account  of  its  Greek-inspired  coinage  (infra). Reception  of  an  embassy  is  implied  by  Diod. 16.67.3 (r 345/4):  Entella  sent  for  help  against  the  Carthaginians,  and Galeria  responded  by  sending  1,000  hoplites,  who  were  all killed. Galeria  struck  two  distinct  issues  of  silver  litrai.  The  earli- er  issue  dates  to C 5m:  obv.  Zeus  seated  on  throne  holding eagle-tipped  sceptre,  legend: ;rev.Dionysos stand- ing,  holding  kantharos  and  vine,  legend: .The iconography  is  known  from  coins  of  Aitna  (no. 8)  and  Naxos (no. 41),  but  the  style  is  indigenous.  A  later  issue  dates  to 430\\xad420  and  is  known  from  three  specimens:  obv.  Dionysos holding  kantharos  and  thyrsos;  rev.  vine  and  bunch  of grapes,  legend: (Head,  HN ²139;  Jenkins ( 1975)  83\\xad85;  Marwitz  ( 1982)  56;  Cutroni  Tusa  ( 1984\\xad85) 290).  The  type  depicting  Zeus  Soter  seems  to  indicate  a Greek  cult  (Gabrici  ( 1959)  19;  Marwitz  ( 1982)).',\n",
       " '17. Gela ': '(Geloios,  Geloaios) Map  47.  Lat. 37.05,long. 14.15.  Size  of  territory: 4  in  C 7;  for  the  C 6\\xadC5e  dominion,  see below.  Type:  A: .  The  toponym  is  ,  (Hdt. 7.153.1)  or (F.Delphes iii.4452  (c. 474);  Thuc. 4.58).  The  uncon- tracted  city-ethnic  is  (IGDS  no. 132  ( 550\\xad525)), contracted to (Hdt. 7.154.1;  Thuc. 7.58.1;  IGDS  no. 158  (C 5e));  the  form  is  found  in  SEG 24  303 (C 6\\xadC5),  possibly  an  Ionic  form,  but  see  IGDS  notes  ad 132 and  Cordiano  ( 1995),  who  suggests  reading  ,  i.e. the  city-ethnic  of  Hyele  (no. 54),  not  Gela. Gela  is  called  polis  in  the  political  sense  by  Thuc. 6.4.3,and in  the  urban  sense  by  Thuc. 6.4.3  and  Theopomp.  fr. 358. Polites  occurs  at  Hdt. 7.155.1  and  astos  at  Hdt. 7.156.2.Its politeia  was  described  by  Aristotle  (Arist.  fr. 491).  A  C 5 bronze  weight  is  inscribed  µ&lt;  &gt; (IGDS  no. 152).  It  is called  patris  in  Empedokles  fr. 156.4  (DK). The  internal  collective  use  of  the  city-ethnic  is  found  in IGDS  no. 153  (C 5e)  and  on  C 5  coins  (infra).  The  external  col- lective  use  is  found  in  Hdt. 7.156.2  and  Thuc. 7.58.1;  the external  individual  use  is  found  in  IGDS  no. 132  ( 550\\xad525), IvO 142  (c. 488)  and  IG ii²  8460  (C 4e). Gela  was  founded  45  years  after  Syracuse,  i.e.  in  689/8,by colonists  from  Rhodos  and  Crete  (Thuc. 6.4.3);  according  to Hdt. 7.153.1  by  Lindians  (no. 997)  from  Rhodos.  The  oecists were  the  Rhodian  Antiphemos  and  the  Cretan  Entimos (Thuc. 6.4.3;  cf.  the  C 6\\xadC5  dedication  to  Antiphemos:  IGDS no. 135,  indicating  a  cult  of  the  oecist  (Orlandini  ( 1968) 44\\xad46)).  The  colonists  instituted  µµ   at  Gela (Thuc. 6.4.3).  Early  Geloan  expansion  into  the  hinterland may  be  inferred  from  the  sack  of  Omphake,  a  µ ,by Antiphemos (Paus.8.46.2  (rC 7));  and  conflicts between  Geloans  and  the  indigenous  population  are  attest- ed  in  other  sources,  e.g.  Artemon  (FGrHist 569)  fr. 1  and  the Lindian  Temple  Chronicle  25  Xenagoras  (FGrHist 240)  fr. 12,  which  mentions  an        dedicated to  Athena  Lindia  by  the  Geloans.  It  was  probably  this  expan- sionist  policy  that  led  to  the  foundation  of  Akragas  (no. 9), which  was  founded  108  years  after  Gela\\'s  own  foundation, i.e.  c. 580  (Thuc. 6.4.4;  cf.  Pind.  Ol. 2.93  with  schol. 576). The  plateau  of  Gela  dominated  the  coastal  plain  and  the vast  inland  lowland.  Apparently,  the  plain  was  mainly  agricultural  and  without  settlements.  It  was  delimited  by  a row  of  hills  settled  with  indigenous  sites  which  all  came under  Geloan  influence in C 7f,  soon  after  the  foundation  of Gela.  Two  of  the  larger  cities  were  Omphake  (perhaps  mod- ern  Butera:  see  most  recently  Adamesteanu  ( 1994\\xad95)  113), subjected  by  Gela  early  on  (supra),  and  Maktorion  (possibly modern  Monte  Bubbonia:  Bejor  ( 1991)  305).  The  tracts along  the  valleys  of  the  rivers  Salso  (ancient  Himera), Dessueri  and  Maroglio  (ancient  Gela  and  its  tributaries) came  under  Gela\\'s  influence from C 6e,  as  far  inland  as Caltanisetta  (sites  of Sabucina;  Gibil  Gabib)  and Caltagirone  (site  of  Monte  San  Mauro,  perhaps  a Chalkidian  settlement  and  therefore  on  the  edge  of  the Geloan  area  of  influence) (Orlandini ( 1962);  see  Euboia  (no. 192 fischer-hansen,  nielsen  and  ampolo 15)).  Eastwards  the  border  between  Gela  and  Kamarina  (no. 28)  was  marked  by  the  Dirillo  valley,  with  a  rural  sanctuary at  Feudo  Nobile  dedicated  to  chthonic  divinities (Canzanella  ( 1989)).  Westwards  Geloan  influence may have reached  as  far  as  the  river  Platani  (ancient  Halykos),  the eastern  frontier  of  Selinous  (no. 44).  In  C 7  the  immediate hinterland  of  Gela  comprised  an  area  of  about  375  km ²,but the  period  of  Hippokrates  and  Gelon  saw  a  Geloan  domin- ion  comprising  large  tracts  of  north-east  (Chalkidian)  and south-east  (Syracusan)  Sicily.  Philistos  (FGrHist 556)  fr. 5 implies  a  C 6m  treaty  of  symmachia  between  Gela  and Kamarina,  and  possibly  between  Gela  and  Syracuse  (no. 47). From c. 505,Gela  was  governed  by  tyrants,  beginning  with the  rule  of  Kleandros  and  Hippokrates,  sons  of  the  Olympic victor  Pantares  (Olympionikai 151).Kleandros  was  tyrant  for seven  years  (Hdt. 7.154.1;Arist.Pol.1316a37),and  after  him  his brother  Hippokrates  took  over   µ,  also  for seven  years  (Hdt. 7.155.1;  cf. 6.23.3  and  Thuc. 6.5.3: ).  Hippokrates  conducted  an  aggressive  foreign policy  both  against  the  indigenous  population  (Hdt. 7.154.2\\xad3)  and  against  the  Greek  cities  of  Kallipolis  (no. 27), Naxos  (no. 41),  Zankle  (no. 51)  and  Leontinoi  (no. 33),  all  of which  he  \"enslaved\"  (Hdt. 7.154.2).  He  also  managed  to defeat  the  Syracusans  in  battle  and  to  lay  siege  to  their  city, but  this  conflict was settled through arbitration b y  Corinth (no. 227)  and  Korkyra  (no. 123)  by  which  Syracuse  had  to cede  Kamarina  to  Hippokrates  (Hdt. 7.154.2\\xad3).  Kamarina was  then  refounded  by  Gela  with  Hippokrates  as  oecist (Thuc. 6.5.3;  Philistos  (FGrHist 556)  fr. 15).  When  Kamarina was  destroyed  by  Gelon  in  484,  the  Geloans  refounded  it once  again  c. 461  (Thuc. 6.4.3;Diod.  11.76.5);  see  further Berve  ( 1967)  137\\xad40.  Zankle  and  its  ruler  Skythes  were dependent  allies  of  Hippokrates  (Hdt. 7.154.2;see Zankle/Messana  (no. 51)). On  Hippokrates\\'  death,  the  citizens  of  Gela  attempted  to free  themselves  from  tyranny,  but  Gelon,  the  former doryphoros  of  Hippokrates,  defeated  them  in  battle  and  took power  (Hdt. 7.155.1).  When  in  485  Gelon  became  tyrant  of Syracuse,  he  moved  his  seat  as  well  as  \"more  than  half  \"of  the Geloan  astoi  to  that  city  (Hdt. 7.156.2).  The  government  of Gela  was  entrusted  to Gelon\\'s  brother,  Hieron  (Hdt. 7.156.6), who  later  inherited  the  tyranny  of  Syracuse  and  was  suc- ceeded  at  Gela  by  another  brother,  Polyzalos  (F.Delphes iii.4 452:[ ]  ...  [ ]  []).  Tyranny  at  Gela  presumably came  to  an  end  in  466/5  (Berve ( 1967)  141). In 405  Himilkon  besieged,  pillaged  and  destroyed  (?)  Gela  (Diod. 13.108\\xad111.1\\xad2),and  after  the  defeat  of  Dionysios the  peace  treaty  between  Carthage  and  Syracuse  (no. 47) stipulated  that  Gela  be  an  ateichistos  tributary  of  Carthage (Diod. 13.114.1;  Staatsverträge 210).  Gela  was  one  of  the Timoleontic  refoundations  (Plut.  Tim. 35.1\\xad2;  Talbert  ( 1974) 153\\xad55,  204). Our  sources  for  the  military  strength  of  Gela  provide  us with  scanty  information  about  the  size  of  the  polis:  a contin- gent  of 500  hippeis  is  mentioned  by  Diod. 13.83.2  (rC 5s;  cf. Timaios  (FGrHist 566)  fr. 26a).  In  415,  during  the  Athenian attack, 200  Geloan  cavalry  assisted  Syracuse  (Thuc. 6.67.2), and  the  same  number  was  sent  in  413  (Thuc. 7.33.2).  In  414  a small  contingent  from  Gela  under  the  command  of Gylippos  marched  to  the  support  of  Syracuse  (Thuc. 7.1.5), and  in  413  a  navy  (nautikon)  of  five ships as w ell  as  400  akon- tistai  were  sent  to  Syracuse  (Thuc. 7.33.1).  At  the  battle  of Himera  in  406  a  contingent  from  Gela  fought  at  the  side  of Kamarina  (no. 28)  and  Syracuse  (no. 47)  (Diod. 13.86.5).  A C 6\\xadC5  Geloan  defeat  at  the  hands  of  Rhegion  (no. 68)  is attested  by  SEG 24  303. Civil  war  is  attested,  as  in  all  other  major  Sicilian  poleis:an early  stasis  (C 7\\xadC6)  was  resolved  without  bloodshed  by  an ancestor  of  Gelon  (Hdt. 7.153.2).  Another  stasis,  in  which Dionysios  I  interfered,  is  mentioned  for  the  year  406:  the demos  rose  against  the  despoteia  of  the  dynatotatoi  and  suc- ceeded  owing  to  Dionysios\\'  assistance;  in  this  connection the  ekklesia  and  psephismata  are  mentioned  (Diod. 13.93.2\\xad4;  Berger  ( 1992)  23\\xad25). Diplomatic  activities  comprise  reception  of  envoys (implied  by Diod. 11.68.1  (r 466))  as  well  as  sending  of  envoys (Timaios  (FGrHist 566)  fr. 22  (r 424);  Diod. 13.93.4  (r 406)).  In 424,  Gela  hosted  a  pan-Sicilian  peace  congress,  which  had developed  from  an  ekecheiria  between  Kamarina  (no. 28)  and Gela  (Thuc. 5.58,  65;  Timaios  (FGrHist 566)  fr. 22).  A  Geloan served  as  Epidaurian  theorodokos  in 356/5  (IG iv².195.ii.83). Another  was  appointed  Samian  proxenos  in  C 4l  (IG xii.633). The  rulers  of  C 5f  Gela  displayed  their  power  at  the Panhellenic  sanctuaries.  Gelon  was  victorious  at  Olympia  in 484  (Olympionikai 158;  IvO 143  and  Paus. 6.9.4;Harrell ( 2002));  and  Polyzalos  was  victor  at  Delphi  c. 478  (SEG 3  396; LSAG 266,  275  no. 9;  F.Delphes iii.4452;  cf.  Harrell  ( 2002) 460\\xad62).  For  Gelon\\'s  donations  at  Delphi:  Syll. ³33\\xad34  (cf. Harrell  ( 2002)  453\\xad55).  Gela  had  a  thesauros  at  Olympia (Paus. 6.19.15),  a  richly  furnished  C 6m  building,  restruc- tured  in  C 5f  (Mertens-Horn  and  Viola  ( 1990)  238\\xad39). Communal  consultation  of  oracles  is  implied  by  Diod. 13.108.4,  which  also  attests  to  an  internal  communal  dedica- tion  of  a  bronze  image  of  Apollo. The  city  occupied  the  east\\xadwest-oriented  coastal  plateau, and  during  C 7\\xadC5  a  part  of  the  lowland  plain  to  the  north sikelia  193 (Spagnolo  ( 1991)).  The  easternmost  part  of  the  plateau,  with C 7  sanctuaries,  is  normally  regarded  as  the  acropolis  of  the city  (there  is  no  ancient  attestation  of  the  term).  The  monu- mental  C 6  temple  was  replaced  by  a  C 5e  temple  located  fur- ther  east  (Orlandini  ( 1968)  21\\xad25;  T.Van  Compernolle  ( 1989) 68\\xad69).  The  major  divinity  of  the  sanctuary  was  Athena, probably  Athena  Lindia  (Fischer-Hansen  ( 1996)  322\\xad27  with refs.).  There  are  clear  signs  of  some  continuity  of  Greek occupation  during  the  C 4f  and  of  continuity  of  cult. The  central  part  of  the  plateau  was  probably  the  main habitation  area  in  the  Archaic  and  early  Classical  periods, delimited  further  to  the  west  by  the  early  cemeteries (Shepherd  ( 1995)  60\\xad70).  There  is  evidence  of  C 8l  Greek occupation,  a  pre-colonial  phase  apparently  supporting  the statement  by Thuc. 6.4.3  that  an  area  of  Gela  called  Lindioi was  occupied  before  the  founding  of  Gela  (for  a  colonisa- tion  of  Gela  in  two  phases,  see  Wentker  ( 1956);  Fiorentini and  De  Miro  ( 1983)).  (Mortuary  evidence,  too,  indicates  a Greek  presence  from  the  end  of  C 8.)  Architectural  terracot- tas  have  revealed  a  large  sanctuary,  consisting  of  at  least  two monumental  temples  (Fischer-Hansen  ( 1996)  327\\xad32  with refs.);  the  identity  of  the  divinity  is  uncertain;  Orlandini ( 1968)  31  suggests  Zeus  Atabyrios. No  traces  of  a  circuit  wall  from  the  period  of  foundation have  been  found  so  far,  though  the  existence  of--presum- ably  early--walls is implied b y  Thuc. 6.4.3.  There  are remains  of  a  C 6  circuit  wall,  possibly  raised  in  connection with  C 6l  civic  strife  (Orlandini  ( 1961)  141\\xad44),or,if  in  part  of later  origin,  in  connection  with  the  threat  of  the Carthaginians  in  C 5l  (De  Miro  and  Fiorentini  ( 1976\\xad77) 434\\xad35).  Fortifications in C 4l  are  attested  by  Diod. 19.107.5 (r 317)  and  19.110.2\\xad3  (r 311). Little  is  known  of  the  habitation  area  on  the  plateau (Buongiovanni  and  Canzanella  ( 1990)  13).  The  Archaic  city incorporated  the  north  slope  of  the  plateau  and  part  of  the plain  below  (Spagnolo  ( 1991)).  The  size  of  the  Classical  city, including  a  part  of  the  lowland  plains  to  the  north  but excluding  the  western  cemetery  and  including  the  eastern sanctuary,  was  about  200  ha.  There  is  clear  evidence  of  the destruction  by  the  Carthaginians  in  405,  but  also  of  a  re- establishment  of  the  Greek  settlement  soon  after  (Fiorentini ( 2002)).  The  Timoleontic  refoundation  of  Gela  with  a  new overall  urban  plan  comprised  habitation  quarters  in  ter- races  along  the  north  slope  and  on  part  of  the  upper  plateau, incorporating  also  a  new  industrial  quarter,  public  baths and  the  western  part  of  the  plateau,  enclosed  by  the  impres- sive  circuit  walls  at  Capo  Soprano  (Buongiovanni  and Canzanella  ( 1990)  20\\xad22;  Panvini  ( 1996)  100\\xad20). There  is  further  evidence  of  urban  cults:  a  sanctuary  on the  southern  slope  was  dedicated  to  Hera  (Orlandini  ( 1968) 31\\xad33;  IGDS  nos. 137\\xad38),  and  close  by  was  the  heroon  for the  oikistes  Antiphemos  (supra).  Gela  was  surrounded  by  a number  of  suburban  sanctuaries  (surveys:  Orlandini ( 1968);  Fiorentini  ( 1985)),  with  paramount  importance assigned  to  sanctuaries  for  Demeter  (Kron  ( 1992);  Hinz ( 1998)  55\\xad69).  Other  sanctuaries,  previously  thought  to  be suburban,  are  now  known  to  have  been  located  within  the northern  boundary  of  the  city  (Orlandini  ( 1968)  pl. i.5.6; Spagnolo  ( 1991)  69).  The  stay  of  Aischylos  at  Gela  surely implies  that  the  city  had  a  theatre  in  C 5m.  A  C 7\\xadC5  build- ing  complex  located  on  the  coast  south-east  of  the  plateau near  the  estuary  of  the  river  Gelas  has  been  interpreted  as harbour  structures  (Fiorentini  ( 1985)  22;  Panvini  ( 1996) 54\\xad57). Gela  began  minting  on  the  initiative  of  Gelon,  c. 490\\xad485. The  first issue was of  didrachms  and  tetradrachms  on  the Attic\\xadEuboian  standard,  obv.  naked  rider;  rev.  forepart  of man-headed  bull,  legends: (Jenkins  ( 1970)  25).  A second  issue,  mostly  of  tetradrachms,  c. 480\\xad470,  is  strongly influenced b y  the  Syracusan  mint  and  has  obv.  four-horse chariot  with  a  flying N ike  above;  rev.  forepart  of  man-faced bull,  legends: , .  Issues  with  the  same  obv.  and rev.  types,  and  variants  including  didrachms  and  drachms, are  known  until  C 5l  (SNG  Cop.  Sicily 251\\xad66);  drachms  have obv.  legend (Jenkins  ( 1970)  49).  Tetradrachms from  c. 440\\xad430  have  the  standard  rev.  type,  but  a  standing female  figure crowns the bull\\'s head w ith  a  wreath  (a  local nymph  or  water-goddess  in  the  role  of  Nike?);  legend: .The  obv.  type  is  very  similar  to  obv. dies  from  Himera  (Jenkins  ( 1970)  71\\xad72).  From  c. 425  the tetradrachms  carry  the  obv. legend ; [..];  (SNG  Cop.  Sicily 269\\xad70,  277,  279). Smaller  denominations  (didrachms  and  litrai)  have  as  types horseman  or  head  of  river-god  or  Demeter  and  the  legend or (SNG  Cop.  Sicily 271\\xad75,  280\\xad81). A  gold  coinage  (dilitron  and  litra)  was  issued  in  C 5l,  proba- bly  to  pay  the  mercenary  armies  fighting the Carthaginians in 406/5  (Diod. 13.93).  The  rev.  of  the  gold  litra  has  as  type head  of  the  deity  Sosipolis,  legend: (SNG Cop.  Sicily 276).  Bronze  coinage  began  c. 420  (Jenkins  ( 1979); SNG  Cop.  Sicily 282\\xad87).  The  refoundation  of  Gela  by Timoleon  was  marked  by  a  new  issue  of  silver  litrai;  the  obv. type  of  a  warrior  sacrificing a r am  is  variously  interpreted  as Antiphemos,  the  oecist  of  Gela,  or  as  Timoleon  himself  in the  guise  of  the  oecist  of  New  Gela  (Jenkins  ( 1979);  SNG Cop.  Sicily 288). 194 fischer-hansen,  nielsen  and  ampolo',\n",
       " '18. Heloron ': \"(Ailoros) Map  47.  Lat. 36.50,long.  15.05.  Size of  territory:  ? Type:  A: .  The  toponym  is  ,  (Ps.- Skylax 13)  or  (BCH 45  ( 1921)  iv. 100  ( 230\\xad210); Steph.  Byz. 270.3).The  city-ethnic  is  (Diod. 23.4.1) or '  (Etym.  Magn. 333.3). Heloron  is  explicitly  called  a  polis  (  ) in the urban  sense  in  Ps.-Skylax  13,  where  this  phrase  is  found under  the  general  heading       (which is  opposed  to   µ ), but  apart  from  that there  is  no  evidence  for  its  status  in  the  Archaic  and  Classical periods.  The  evidence  for  Heloron  as  a  polis  in  the  political sense  is  C 3:  like  Akrai  (no. 10),  the  city  is  listed  in  the  treaty between  Syracuse  and  Rome  of 263  as  a  polis  assigned  to Hieron  II  (Diod. 23.4.1  Staatsverträge  no. 479);  this  may suggest  dependence  on  Syracuse  (no. 47)  at  an  earlier  date (infra).  In  assessing  the  polis  status  of  Heloron,  the  fact  that it  is  listed  in  the  Delphic  list  of  theorodokoi  ( 230\\xad210)  (BCH ( 1921)  iv.100;  cf.  Manganaro  ( 1964a)  420)  may  have  some retrospective  value.  According  to Ael.  NA 12.30,Heloron  was once  a  .  There are  no  written sources  for  the  foundation  of  Heloron,  and  there  are  no coins.  Heloron  is  here  defined as a polis  type A  on  the  basis  of Ps.-Skylax 13,  but  its  polis  status  is  uncertain  given  the  prox- imity  of  Syracuse;  it  cannot  be  excluded  that  Heloron  was  an early  military  outpost  in  the  southern  dominion  of Syracuse,  though  it  may  have been  a  dependent  polis founded  as  a  fortress  (as  has  been  suggested  for  Kasmenai  by  Hansen  ( 1997a)  36;  cf.  Akrai  (no. 10)  and  Kasmenai  (no. 29)). To  the  west,  Heloron's  territory bordered  upon  the  territ- ory  of  Kamarina  (no. 28).  Heloron  was  founded  on  a  coastal plateau  about  18  km  south  of  Syracuse  and  c. 400  m  to  the north  of  the  river  Tellaro  (  ancient  Heloros);  (morphology of  the  site:  Voza  ( 1978)  pl. 37,  1;  plan  of  site:  Voza  ( 1980\\xad81) pl. 130).  Archaeological  evidence  points  to  a  foundation  in C 8l\\xadC7e  (Voza  ( 1973a)  117  no. 381;(1978));  so  Syracuse secured  its  interests  southwards  before  founding  the  sec- ondary  colonies  of  Akrai,  Kasmenai  and  Kamarina  (Di  Vita ( 1956)).An  abundance  of  Greek  C 7\\xadC6m  material  is  known from  the  site,  whereas  limited  C 5  material  suggests  that  this was  a  period  of  recession.  The  city  prospered  during  the period  of  Timoleon,  and  above  all  in  the  Hellenistic  period. The  C 6  circuit  wall  was  built  in  a  pseudo-isodomic  tech- nique  as  a  double  curtain-wall  with  internal  fill ( emplekton), in  all  2.80  m  wide  (Orsi  et al.( 1966)  310\\xad12).  A  local  lime- stone  was  used,  as  well  as  odd  material,  such  as  a  C 6  tomb- stone  (IGDS  no. 98).  The  Archaic  circuit  wall  was incorporated  in  the  C 4  fortification when the wall was strengthened  and  towers  were  added  (Orsi  et al.( 1966) 220\\xad31).  The  C 4  circuit  wall  is  known  on  the  north,  west  and south  of  the  town,  its  course  following  the  edge  of  the  habi- tation  plateau;  the  eastern  side  facing  the  sea  also  seems  to have  been  fortified. The  habitation  area  comprised  about  9  ha.  The  1,500  seat- ing  capacity  of  the  C 4\\xadC2  theatre  (infra)  gives  some  indica- tion  of  population  size  in  the  late  Classical  period. The  main  routes  across  the  plateau  were  not  laid  out  in straight  lines  but  in  accordance  with  the  uneven  terrain-- uncommon  in  Western  Greek  urban  planning  (Voza ( 1980\\xad81)  686\\xad87).  Though  this  road  system  is  known  pri- marily  from  its  Hellenistic  phase,  there  is  little  doubt  that  its origin  is  Archaic.  An  open  space  bordered  by  public  build- ings  on  the  highest  point  of  the  plateau  is  interpreted  as  an agora  (Voza  in  Storia  della  Sicilia  i. 550,fig.  90).  The  main urban  area  in  the  south-western  part  of  the  city  was  on  a  grid plan  and  delimited  on  the  north  by  a  C 4m(?)  temenos  (the so-called  Asklepieion)  of  unknown  cult  (Orsi  et al.( 1966) 287\\xad88,  320).  Sparse  remains  of  habitation  structures  in  the southernmost  part  of  the  area  are  of  C 8l\\xadC7e  date  and  reveal affinities w ith  contemporary  architecture  from  Megara  (no. 36)  and  Syracuse  (no. 47;  Voza  ( 1978),  ( 1980\\xad81)  685\\xad86).Yet another  temenos  marked  the  southern  limit  of  the  city:  a  C 4s temple  dedicated  to  Demeter  (Voza  ( 1973a)  118\\xad19;  Hinz ( 1998)  116\\xad18)  and  smaller  thesauroi/naiskoi. A  suburban  Demeter  sanctuary  spanning  the  Archaic  and the  Hellenistic  periods  was  located  near  the  coast  north  of Heloron  (Voza  ( 1973a)  123\\xad26;  Storia  della  Sicilia  i. 548;  Hinz ( 1998)  111\\xad16).  The  Hellenistic  programme  of  public  build- ing  included  a  small  C 4\\xadC2  theatre outside  the  southern perimeter  of  the  city  (Orsi  et al.( 1966)  232\\xad35,  324\\xad27; Mitens ( 1988)  89\\xad91).  Hesychius  refers  to an  ' (s.v.)  celebrated  at  the  river  Heloros  and  possibly  to  be connected  with  the  city.\",\n",
       " '19. Henna ': \"(Hennaios) Map  47.  Lat. 37.35,long.  14.15.  Size of  territory:? Type:B: .  The  toponym  is  ,  (Diod. 14.14.6).  The  city-ethnic  is  `  on  C 5m  coins  (infra); 'is found in SEG301123.8(C4l\\xadC3m;cf.SEG32914) and  Philistos  (FGrHist 556)  fr. 5  and  Diod. 14.14.7  (r 403). Henna  is  called  a  polis  in  the  urban  sense  in  SEG 30  1123.13 (C 4l\\xadC3m;  cf.  SEG 32  914)  and  Diod. 14.14.7\\xad8  (r 403).  The internal  collective  use  of  the  city-ethnic  is  found  on  C 5m coins  (infra);  the  external  collective  use  of  the  city-ethnic  is attested  in  Philistos  (FGrHist 556)  fr. 5  (rC 6m)  and  in  SEG 30 1123.8  (C 4l\\xadC3m;  cf.  SEG 32  914)  and  Diod. 14.14.7  (r 403), and  the  external  individual  use  in  Diod. 14.4.6  (r 403). sikelia  195 A  C 6m  alliance  with  Syracuse  is  attested  by  Philistos (FGrHist 556)  fr. 5.In 403,  the  city  experienced  a  brief  tyran- ny  under  Aeimnestos,  a  citizen  of  Henna  itself  who  acted  at Dionysios  I's  instigation;  shortly  after  his  rise  to  power,  how- ever,  Dionysios  fomented  a  stasis  during  which  he  broke  into the  city  and  deposed  Aeimnestos  (Diod. 14.14.6\\xad8).  In C 4l\\xadC3m  Henna  gave  assistance  to  the  people  of  Entella, who  had  been  driven  from  their  city  and  were  received  by the  Hennans       (SEG 30  1123.8\\xad13;  cf.  SEG 32  914).  The  grateful  Entellans  after  their  return  granted isopoliteia  to  the  people  of  Enna  (SEG 30  1123.16  (C 4l\\xadC3m); cf.  SEG 32  914). According  to  Steph.  Byz. 271.4,  Henna  was  a  foundation by  Syracuse  (no. 47; µ )  established  in 664.  While  this  may  be  evidence  that  a  Greek  identity  was claimed  for  the  city,  the  historicity  of  the  report  is  doubtful, as  is  the  suggestion  that  it  derives  from  Philistos  of  Syracuse (FGrHist 556,fr.  5;  Manni  ( 1981)  169).  All  evidence  points  to a  Sikulan  site  strongly  Hellenised:  the  archaeological  evid- ence  attests  to  some  degree  of  Hellenisation  already  from C 6e  (pace  Vallet ( 1962)  42),  and  the  degree  of  Hellenisation is  significant from C 5m,  when  Greek-style  coinage  is  intro- duced  and  the  cemeteries  bear  a  strong  Greek  stamp (Fiorentini  ( 1980\\xad81)  599);  cf.  also  the  reference  to an  agora at  Diod. 14.14.7  (r 403);  late  sources  refer  to  a  theatre (Polyaen. 8.21  (r 214);  Frontin.  Str. 4.7.22).  Traces  of  the  cir- cuit  wall  of  the  acropolis  (cf.  Polyaen. 8.21)  are  known;  the published  drawings  suggest  a  Hellenistic  date  (Orsi  ( 1931) 384\\xad88;  Fiorentini  ( 1980\\xad81)  599;  Martorana  ( 1982\\xad83); Bejor  and  Marotta  D'Agata  ( 1989)).  The  cult  of  Demeter  at Enna  was  famous;  the  sources  for  the  cult  are  mainly  literary (Diod. 5.3.1\\xad3;Strabo 6.2.6),  whereas  the  archaeological evidence  is  tenuous,  and  the  suggested  location  of  the Demeter  sanctuary  on  a  rocky  spur  north  of  the  settlement plateau  remains  uncertain  (Orsi  ( 1931)  379;  Hinz  ( 1998) 121\\xad24),  though  a  C 3  inscription  referring  to  Dam[ater]  or Dam[atriastan]  was  found  in  the  vicinity  (IGDS  no. 198). The  strongest  evidence  of  C 5m  Hellenisation  is  provided by  the  minting  of  silver  litrai  from  perhaps  as  early  as  c. 450: obv.  quadriga  driven  by  Demeter  holding  torch;  rev. Demeter  sacrificing at altar holding t orch,  legend: ;  a  variant  issue  has  obv.  head  of  Demeter; rev.  Demeter  sacrificing at altar (Gabrici ( 1959)  12\\xad15; Jenkins  ( 1975);  Cammarata  ( 1987)).  Henna  issued  bronze coinage  in  the  period  of  Timoleon:  ( 1)  obv.  head  of  Demeter, legend: or ;  rev.  torch  between  ears of  corn,  or  head  of  ox  with  filleted horns,  legend: ; ( 2)  obv.  head  of  Demeter,  legend: ;  rev.goat before  torch  of  Demeter  between  ears  of  corn,  legend: (SNG  Cop.  Sicily 234);  see  Bejor  and  Marotta D'Agata  ( 1989)  191;  Talbert  ( 1974)  181  and  Cammarata ( 1987).\",\n",
       " '20. Herakleia 1': \"(Herakleotes) Map  47.  Lat. 37.25,long. 13.15.  Size  of  territory:  ?  Type:  B: .  The  original  name  was Minoa  ( ,  (Hdt. 5.46.2), (Diod. 4.79.1));  the new,  or  additional,  name  Herakleia  ( `,  Polyb. 1.18.2)  is  commonly  assumed  to  have  originated  with  the seizure  of  the  city  by  the  remnants  of  the  expedition  of  the Spartan  Dorieus  (Hdt. 5.46.2;  RE viii.  437).  The  double name,  Herakleia  Minoa,  is  rare  (Polyb. 1.25.9: `  );  Herakleia  is  common  (Polyb. 1.18.2;Diod.  19.71.7); but  Minoa  appears  as  well  (Heracl.  Lemb. 59;Diod.  16.9.4; Plut.  Dio 25.11).  The  city-ethnic  is  `  (Diod. 20.56.3  and  possibly  IG xii.638  (C 4l),  on  which  see  infra). Hdt. 5.46.2  calls  it  an  of  Selinous  (no. 44);  the oecist(s)  and  the  date  of  foundation  are  unknown,  but  the date  must  be  post- 628  (date  of  Selinous'  foundation).  It  is called  a  polis  only  in  later  sources:  in  the  urban  sense  at  Plut. Dio 25.6  (r  time  of  Dion)  (cf. µ  at  Plut.  Dio 25.5), and  in  the  political  sense  at  Diod. 16.9.4  (r 357).  A  description of  its  constitution  was  included  among  the  158  Aristotelian politeiai  (Heracl.  Lemb. 59;  Arist.  no. 55;  Gigon,  which  uses polis  in  a  mythological  account  of  the  foundation  by  Minos of  Crete).  The  external  collective  use  of  the  city-ethnic  is found  in  Diod. 20.56.3  (r 307).  IG xii.638  (C 4l)  is  a  decree  by Samos  (no. 864)  granting  proxeny  etc.  to   µ `  and  a  reasonable  case  can  be  made that  the  honorandus  originated  from  the  present  Herakleia (Kebric  ( 1975),  ( 1977)  3\\xad4;  Shipley  ( 1987)  164). There  are  very  few  sources  for  the  Archaic  and  Classical periods.  Nothing  is  known  of  the  political  and  institutional life  apart  from  the  notice  of  mythic  stamp  that  Minos imposed  Cretan  laws  on  the  city  (Heracl.  Lemb. 59;  cf. Perlman  ( 1992)). Shortly  before  500,  Minoa  was  captured  by  those Lakedaimonians  who,  under  the  leadership  of  Euryleon, had  survived  the  ill-fated  expedition  of  Dorieus  (Hdt. 5.46.2).  The  city  seems  to  have  been  defeated  by  Akragas  in C 6l  or  C 5e,  Lind.  Chron.  (FGrHist 532)  fr. 30  Xenagoras (FGrHist 240)  fr. 17  recording  a  dedication  at  Lindos  by Akragas  of  a  palladion  taken   . Though  the  date of  this  episode  is  uncertain,  it  is  most  often  seen  as  the  after- math  of  the  occupation  of  western  Sicily  by  Euryleon  and the  Spartans  (Luraghi  ( 1994)  41,  233\\xad34).  During  Theron's reign  ( 488\\xad473)  Herakleia  seems  to  have  been  a  city  within 196 fischer-hansen,  nielsen  and  ampolo the  dominion  of  Akragas  (no. 9),  possibly  after  its  conquest by  Theron  (cf.  Diod. 4.79.4  with  Fontana  ( 1978)).  After  the fall  of  the  Deinomenids,  the  city  seems  to  have  been involved  in  the  fighting between the disenfranchised merce- naries,  who  occupied  the  city,  and  the  Syracusans,  who  with the  Akragantines  eliminated  the  mercenaries  (see  FGrHist 577  fr. 1).  The  city  must  have  come  into  Carthaginian  hands by  the  treaty  of 383  between  Carthage  and  Dionysios  I (Diod. 15.17.5);  when  Dion  sought  refuge  in  Herakleia  in  357, the  city  was  still  under  Carthaginian  dominion  (Plut.  Dio 25.5;Diod.  16.9.4),  ruled  by  an  (Plut.)  or  an (Diod.),  but  it  is  described  as  in  Akragantine  ter- ritory  (Diod.).  By  the  treaty  of 339  it  reverted  to  the  Greek area  (Diod. 16.82.3)  and  was  refounded  by  Timoleon (Talbert  ( 1974)  159\\xad60).  In  314  it  became  Carthaginian  once again  (Diod. 19.71.7). Herakleia  was  founded  by  Selinous  (Hdt. 5.46.2),  and  the colony  may  have  served  to  secure  the  eastern  border  of Selinous'  territory  which  was  threatened  by  Akragantine expansion  during  the  reign  of  Phalaris  (De  Miro  ( 1962) 144\\xad46).  The  foundation  date  is  uncertain,  but  the  perspec- tive  of  a  powerful  Selinous  securing  its  eastern  border towards  Akragas  as  well  as  archaeological  evidence  (infra) suggest  a  C 6m  date.  However,  the  city  was  presumably  with- in  the  Akragantine  dominion  already  by  C 6l  and  at  least from  C 5e  (supra);  Akragas  was  located  only  25  km  to  the east. The  size  and  exploitation  of  the  chora  of  Herakleia  is  little known.  An  area  of  c. 6  km ²  has  been  surveyed,  and  a  C 6 farmstead  or  workshop  found  c. 350  m  north  of  the  city (Wilson  and  Leonard  ( 1980)). The  city  was  founded  on  a  low  coastal  promontory (modern  Capo  Bianco)  on  the  estuary  of  the  river  Halykos (modern  Platani).  On  the  north  side  the  plateau  slopes gently  down  to  the  Halykos  valley,  on  the  south  side  ero- sion  has  produced  vertical  cliffs,  and  part  of  the  habitation area  of  the  Greek  city  may  have  been  destroyed.  A 6  km- long  stretch  of  the  circuit  wall  is  preserved  on  the  north- east  and  west  sides  facing  the  river  valley  and  the hinterland;  it  is  unknown  whether  the  cliff  facing  the  sea was  fortified.  The  C 5  wall  was  strengthened,  with  square towers  built  in  small  blocks  of  sandstone,  but  superseded byaC 4l  gypsum  ashlar  wall  with  an  upper  structure  of sun-dried  brick  (Tusa  and  De  Miro  ( 1983)  177\\xad78;  De  Miro ( 1994)  480  dates  the  earliest  phase  of  the  circuit  wall  to  C 6). At  the  time  of  Timoleon's  refoundation  a  new  defensive wall  was  erected  within  the  earlier  city,  reducing  its  size  by a  half  (De  Miro  ( 1958a)). There  is  evidence  of  C 6s  occupation,  but  the  early  history of  the  site  has  not  been  fully  investigated,  and  the  size  of  the area  occupied  by  the  early  city  is  still  unknown.  (The  city  did occupy  the  area  of  the  later  Hellenistic  town,  but  probably also,  at  least  in  part,  the  western  plateau  within  the  first phase  circuit  wall--in all c. 60\\xad70  ha).  The  Timoleontic refoundation  was  laid  out  as  an  orthogonally  planned  city, with  east\\xadwest-oriented  stenopoi,  north\\xadsouth-oriented plateiai,  and  the  single  insulae  c. 32  m  wide,  like  other Timoleontic  refoundations  (De  Miro  ( 1958b),  ( 1980) 716\\xad21).The  urban  facilities  included  a  C 4l  theatre  (De  Miro ( 1955)). The  Archaic  cemetery  with  fairly  numerous  tombs  from the  period  550\\xad500  is  located  just  outside  the  circuit  wall north-east  of  the  city.  The  cemetery  was  bisected  by  a  road, and  there  are  indications  of  social  differentiation  (De  Miro ( 1965)  10\\xad11;  Wilson  ( 1996)  92).\",\n",
       " '21. Herakleia 2 ': \"Map 47.Unlocated  site  in  western  Sicily, in  the  region  of  Eryx.  Type:  C: .  The  toponym  is `,  (Hdt. 5.43)  and  `,  (Diod. 4.23.3). A  city-ethnic  is  not  attested. Following  the  advice  of  Antichares  of  Eleon  and  the  affir- mation  of  the  Delphic  oracle  that  he  would  succeed,  Dorieus of  Sparta,  who  was  of  royal  and  so  Heraklid  descent,  set  out to  found  a  colony  in  the  region  of  Eryx  (Hdt. 5.43),  which, according  to  Antichares,  belonged  to  the  descendants  of Herakles  (Hdt. 5.43;  cf.  Paus. 3.16.5).  However,  Dorieus' expeditionary  force  was  severely  defeated  by  an  alliance  of Phoenicians  and  Egestans  (Hdt. 5.46.1;  cf.  Diod. 4.23.3  and Paus. 3.16.5).  In  the  aftermath  of  the  disaster  Euryleon,  the sole  survivor  of  the  synktistai,  and  the  remnants  of  the  expe- dition  captured  Herakleia  Minoa  (no. 20)  and  ousted  the tyrant  Peithagoras  of  Selinous  (Hdt. 4.46.2).  Referring  to the  death  of  Dorieus  as  a  thing  of  the  past,  Herodotos  dates the  defeat  of  the  expedition  prior  to c. 481/80  ( 7.158),  or  to 491/90  as  argued  by  some  scholars  (Merante  ( 1970a));  the beginning  of  the  expedition  is  connected  with  the  destruc- tion  of  Sybaris  (no. 70)  by  Kroton  (no. 56)  in  c. 510  (Hdt. 5.45; cf.  Merante  ( 1970a),  ( 1970b)  131\\xad33,  who  argues  for  an  earli- er  chronology).  According  to  Diod. 4.23.3,  Dorieus  did  in fact  succeed  in  taking  back  the  land  of  the  Herakleidai, and  founded  a  polis  named  Herakleia  ( `) which prospered for a period before being razed  to  the  ground  by  the  Carthaginians.  Thus,  it  cannot  be ruled  out  that  a  Spartan  settlement  did  exist  for  a  period  and was  then  destroyed  by  the  Phoenicians  (cf.  Bérard  ( 1957) 260\\xad66;  Stauffenberg  ( 1960)  esp. 189\\xad98;  De  Vido  ( 1989) sikelia  197 with  further  refs.;  Asheri  ( 1988)  for  an  analysis  of  the  rela- tionship  between  Greeks,  Phoenicians  and  Elymians).\",\n",
       " '22. Herbes(s)os ': '(Herbessinos) Map  47.  Unlocated,  but presumably  at  Montagna  di  Marzo  (so  Barr.).  Type:  C: . The  toponym  is  `,  (Diod. 20.31.5;  Philistos (FGrHist 556)  fr. 9  Steph.  Byz. 275.6);  or  `  (Polyb. 1.18.5).  The  city-ethnic  is  `  (Diod. 14.7.6  (r 404); C 4s  coins,  infra). Herbessos  is  called  a  polis  in  the  urban  sense  at  Diod. 14.7.6  (r 404).  The  internal  collective  use  of  the  city-ethnic  is found  on  C 4s  coins  (infra);  the  external  collective use  is found  at  Diod. 14.7.6  (r 404)  and  14.78.7  (r 396).  The  latter passage  records  a  peace  treaty  between  Herbessos  and Dionysios  I. Herbessos  is  described  as  a  Sikel  community  at  Diod. 14.7.6  (r 404)  and  78.7  (r 396),but  is  included  here  on  account of  its  C 4s  Greek-style  coinage  (infra).  In  addition,  Greek  C 6e epigraphic  material  from  Montagna  di  Marzo,  the  pre- sumed  site  of  Herbessos,  includes  votives  to  Herakles  (cf. IGDS 166\\xad68). The  location  of  the  city  is  unknown,  though  it  is  possibly to  be  located  at  Montagna  di  Marzo  (Bejor  ( 1989b)  280); Diod. 14.7.6  (r 404)  suggests  that  it  was  fortified b y  C 5l.  The urban  remains  from  this  site  are  of  C 6m  Sikel  walls  with  C 4 reinforcements  in  ashlar  masonry,  from  the  Greek  period. There  are  some  traces  of  urban  planning,  but  whether  these are  Douketian  or  Timoleontic  is  uncertain.  However,  the majority  of  the  urban  remains,  as  well  as  the  cemeteries,  are Hellenistic  (Cutroni  Tusa  and  Moreschini  ( 1992)). Herbessos  struck  bronze  coins  from  c. 325,  or  a  little  earli- er:  obv.  female  head  (Sikelia?),  legend: ; rev.  forepart  of  man-headed  bull  (Head,  HN ²143;  SNG  Cop. Sicily 292;  a  Timoleontic  coinage:  Talbert  ( 1974)  181; Karlsson  ( 1995)  165  n. 3  (F);  Bejor  ( 1989b)  279  with  further refs.).',\n",
       " '23. Herbita ': '(Herbitaios) Map  47.Unlocated  (cf.  C.  Boeh- ringer  ( 1981)  100\\xad3;Bejor ( 1989c)).  Type:  C: .  The  toponym is ,  (Ephor.  fr. 91  Steph.  Byz. 275.8;Diod.  14.16.1). The  city-ethnic  is  `  (C 4s  coins,  infra;Diod. 14.15.1). Herbita  is  called  a  polis  in  the  urban  sense  at  Diod. 14.15.1 and 16.1  (r 403).  The  internal  collective  use  of  the  city-ethnic is  found  on  C 4s  coins  (infra),  and  the  external  collective use in  Diod. 12.8.2  (r 446),14.15.1  (r 403),14.78.7  (r 396)  (cf.  SEG 30 1117  (C 4l\\xadC3m)). Both  in  446  and  in  403,  Herbita  was  ruled  by  a  man  called \"Archonides\";  Archonides  I  is  described  as  at Diod. 12.8.2  (cf.  Thuc. 7.1.4,  quoted  infra),  and  Archonides  II as at  Diod. 14.16.1.  However,  at  Diod. 14.16.1  a peace  treaty  with  Dionysios  I  is  said  to  have  been  concluded by µ   `,  and  at  14.78.7  agreements are  described  as  concluded  between  Dionysios  and   `.  (See  also  below  on  colonisation.)  IG ii²  32 ( 385/4)  is  probably  a  grant  of  proxeny  by Athens  (no. 361)  to Archonides  II,  his  brother  Demon,  and  their  descendants.  A C 4l\\xadC3m  symmachia  between  Herbita  and  Entella  is  attest- ed  in  SEG 30  1117.15. Recently,  Greek-style  silver  and  bronze  coins  of  Herbita have  come  to  light;  they  date  from  the  period  of  Timoleon (c. 350\\xad325),  and  were found  in  the  region  of  Gangi.  Silver (probably  litrai):  obv.  head  of  Apollo,  legend: ; Rev.  Apollo  seated  on  Ionic  capital.  The  smaller  bronze denominations  carry on  obv.  female  head,  legend: ;  rev.  standing  youth  with  spear  (C.  Boehringer  ( 1981);  Bejor  ( 1989c)  284). Herbita  was  involved  in  colonisation  on  two  occasions:  in 446,  when  Archonides  I  collaborated  with  Douketios  in  the foundation  of  Kale  Akte  (Diod. 12.8.2),  and  in  403,  when Archonides  II  founded  the  city  of  Alaisa  (no. 11),  a  founda- tion  which  eclipsed  its  mother  city  to  the  degree  that  its inhabitants  denied  their  origin  (Diod. 14.16.2\\xad4;  see  Cataldi ( 1982);  cf.  supra 190).  According  to  Diod. 14.16.2,  Alaisa  was founded  by Archonides  II  in  order  to house  veteran  merce- naries,  a  symmikton  ochlon  that  the  war  against  Dionysios had  driven  into  the  city,  as  well  as  poor  citizens  of  Herbita itself;  the  latter  are  said  to  have  actively  encouraged  his plans. In  a  passage  referring  to 446,Diod.  12.8.2  describes Herbita,  or  at  least  its  ruler  Archonides  I,  as  Sikel;  and  the city  may  be  described  as  Sikel  again  at  Diod. 14.78.7  (r 396). The  Greek  name  Archonides  of  two  of  its  rulers  may  indicate a  pretension  to  Greek  identity  (C.  Boehringer  ( 1981)  95);  but Thuc. 7.1.4  describes  Archonides  I  as  ...   .  By  C 4s,  however,  the  city  issued  Greek- style  coins  (supra).',\n",
       " '24. Himera ': '(Himeraios) Map  47.  Lat. 37.55,long.  13.50. Size of  territory: 5.  Type:  A: .  The  toponym  is  `µ, (Hdt. 7.165.1)  or  `µ  (Thuc. 6.62.2;  SEG 11  1223a  (C 5f)). The  city-ethnic  is  `µ  (C 6l  coins,  infra;  Thuc. 7.1.3). Himera  is  repeatedly  described  as  a  Hellenic  polis  (Thuc. 6.62.2;Xen.  Hell. 1.1.37;  Ps.-Skylax 13);  it  is  called  a  polis  both in  the  territorial  sense  (Thuc. 6.62.2)  and  in  the  urban  sense (Xen.  Hell. 1.1.37;  Ps.-Skylax 13),  and  in  the  urban  and  politi- cal  senses  combined  (Aen.  Tact. 10.22).  The  political  sense  is 198 fischer-hansen,  nielsen  and  ampolo found  in  Diod. 11.48.6  (r 476).  Paus. 6.4.11  uses in  a reference  to C 5e,  and  the  politeia  was  included  in  the Aristotelian  collection  of  constitutions  (fr. 515.1).  Thuc. 6.5.1 calls  Himera  an  ,  and  it  is  described  as  the  patra  of the  C 6  poet  Stesichoros  (Test.  A 26,  Davies);  cf.  SEG 29  414.4 (c. 450)  where  [ ] is a possible restoration (cf.  CEG  I 393  for  other  restorations). The  internal  collective  use  of  the  city-ethnic  is  found  on C 6l  coins  (infra).  The  external  collective  use  of  the  city-eth- nic  is  attested  by  SEG 30  1079  (C 6m)  and  Thuc. 7.1.3,  58.2. Individually,  the  ethnic  is  often  applied  to  Stesichoros  (e.g. Pl.  Phdr. 244A;  IG xii.5  444.73.85b  (C 3f));  see  also  AM 87 ( 1972)  114\\xad15  no. 6  for  a  possible  Archaic  instance  of  the external  individual  use.  The  use  is  also  attested  in  Pl.  Prt. 335E. Himera  was  founded  by  Zankle  (no. 51)  and  exiles  from Syracuse  (no. 47)  called (Thuc. 6.5.1;but Strabo  6.2.6  says:         ). The oecists  were  Eukleides,  Simos  and  Sakon  (Thuc. 6.5.1;  cf. IGDS  no. 165).  The  year  of  foundation, 648,  is  inferred  from the  notice  that  the  city  was  inhabited  for  240  years  before  its destruction  in  409  (Diod. 13.62.4).  The  continued  ties  with Zankle  are  revealed  by  Skythes,  ruler  of  Zankle,  who  c. 493 went  to  Himera  as  an  exile  (Hdt. 6.24),  and  if  the  text  on  a bronze  plaque  found  at  Himera  is  correctly  reconstructed by Brugnone  ( 1997)  271\\xad74  as ] ,this may be taken  as  evidence  of  an  \"ethnic\"  phyle  of  Zanklaian  colonis- ers  at  Himera.  But  the  ethnic  composition  of  the  city  was mixed,  the  colonisers  being  mostly  Chalkidian,  i.e.  Ionians, but  some  Syracusans,  i.e.  Dorians;  and  while  the  local  dialect was  a  corresponding  mixture,  Chalkidian  µµ  prevailed (Thuc. 6.5.1). The  territory was  called  `µ  ( ) (Thuc. 3.115.1;Diod.  13.61.4  (r 409)).  The  C 5  immediate  hinterland with  a  number  of  rural  settlements,  delimited  by  border fortresses,  encompassed  c. 50  km ²  (Belvedere  ( 1988) 196\\xad206,(2000)).  The  territory  of  Himera  stretched  over  a vast  area,  estimated  at  c. 700  km ²,  divided  to the  south  from the  territories  of  Gela  (no. 17)  and  Akragas  (no. 9)  by  the Monte  Cassero  hills,  and  in  the  west  at  the  river  Thermos from  the  territory  of  the  Phoenician  city  of  Soloeis. However,  within  the  territory  of  Himera  were  scattered indigenous  settlements,  and  the  dividing  line  between  the dominions  of  Himera,  Gela  and  Akragas  is  not  always  clear (Vassallo  ( 1996)).  SEG 30  1079  (C 6m)  seems  to  attest  to fighting between H imera  and  Sikanoi  (cf.  Thuc. 3.115.2).  For the  Archaic  and  Classical  settlement  pattern  of  the Himeraian  territory,  see  Belvedere  ( 1988)  196\\xad206. According  to Diod. 13.62.4,  c. 3,000  andres  were  captured during  the  destruction  in  409,  but  it  seems  impossible  to convert  this  number  into  a  population  estimate  (cf.  the  few army  figures below).  The  C 5e  population  has  been  calculat- ed  at  20,000,  including  a  rural  population  of 10,000,by Asheri  ( 1973),  but  this  figure is probably on the low side,  if one  takes  into  account  that  the  size  of  the  urban  centre  of Himera  is  now  calculated  to  be  c. 80  ha  (Allegro and  Vassallo ( 1992)  147\\xad48). Himera  was  pillaged  and  destroyed  by  the  Carthaginians in 409;  3,000  surviving  men  were  put  to death ( ),women and children were distributed to the victorious  enemy  and  presumably  enslaved  (Diod. 13.59.4\\xad62.5),  and  the  site  was  abandoned  (Diod. 11.49.4; Strabo  6.2.6),  though  there  is  some  archaeological  and numismatic  evidence  for  re-occupation  from  c. 405  until  the defeat  of  Dionysios  I  at  Kronion  in  383/2,  when  Himera became  part  of  Carthaginian  territory  for  good  (Diod. 15.16.3).  Later  references  to Himera  must  therefore  be  to the survivors  who  were  settled  at  Thermai,  on  the  border  of Greek  and  Phoenician  spheres  of  interest  (Cic.  Verr. 2.2.86; cf.  Diod. 14.47.6,  56.2). According  to  Arist.  Rh. 1393b10\\xad22,  Phalaris,  the  tyrant  of Akragas  c. 570\\xad554,  was  elected  strategos  autokrator  by  the Himeraians,  but  the  historicity  of  the  report  is  doubtful (Berve ( 1967)  130).  By  C 5e,  however,  the  city  was  certainly ruled  by  tyrants.  The  earliest  attested  tyrant  is  Terillos ( ,  Hdt. 7.165)  who,  expelled  by  Theron  of  Akragas, attempted  to  return  as  an  ally  of  the  Carthaginians,  seeking help  also  from  Anaxilaos  of  Rhegion  (Hdt. 7.165).  The  ensu- ing  battle  at  Himera  in  480  led  to  the  victory  of  Theron  and Gelon  (Diod. 11.20.3ff.;  cf.  Zahrnt  ( 1993)).  Theron  conceded the  tyranny  of  Himera  to  his  son  Thrasydaios  (Diod. 11.48.6).  The  Himeraians  rebelled  against  the  tyranny  of Thrasydaios;  Theron,  having  curbed  the  insurrection, repopulated  Himera  with  Doric  and  \"other\"  colonists  to whom  he  granted  citizenship  (Diod. 11.48.6\\xad49.4).Not  until 460  were  those  who  escaped  the  intervention  of  Theron  able to  return  to  Himera  (Diod. 11.76.4).  During  the Peloponnesian  War,  Himera  remained  loyal  to  Syracuse  (no. 47)  by  not  admitting  the  Athenian  fleet in  415  (Thuc. 6.62.2) and  by  entering  into  an  alliance  with  Gylippos  against  the Athenians  in  414  (Thuc. 7.1.4;Diod.  13.7.7).  One  thousand hoplites/light-armed  troops,  and  100  cavalry  joined Gylippos  on  his  march  to  Syracuse  (Thuc. 7.1.5). A  bronze  plaque  attests  to the  existence  of at Himera  (Brugnone  ( 1997)  274\\xad79)  and  may  also  attest  to  a system  of  phylai  (Brugnone  ( 1997)  271\\xad74). sikelia  199 At  least  three  Himeraian  athletes  won  Panhellenic  victo- ries:  Ischyros  at  Olympia  in  516  (Olympionikai 137)  and Krison  thrice  at  Olympia  in  C 5m  (Olympionikai 294,  306, 312).  Particularly  interesting  is  Ergoteles,  who  won  no  fewer than  eight  Panhellenic  victories  (two  at  Olympia (Olympionikai 224,  251)  and  two  each  at  Delphi,  Nemea  and Isthmia).  A  Cretan  by  birth,  he  was  a  naturalised  Himeraian and  competed  as  such  (Paus. 6.4.11;  cf.  Pind.  Ol. 12  and  SEG 11  1123a  celebrating  Olympic  success;  Phlegon  (FGrHist 415) fr. 1.13). Himera  was  founded  on  a  north\\xadsouth-oriented  oblong hill  between  the  river  Torto  to  the  west  and  the  river  Himera to  the  east,  commanding  the  lower  Himera  valley.  The  city occupied  also  the  coastal  plain  below,  though  whether  this comprised  a  harbour  settlement  near  the  estuary  is  as  yet uncertain  (Bonacasa  ( 1976)  5\\xad14  for  a  general  description  of the  site). A  stretch  of  a  presumably  Archaic  (no  precise  date)  stone and  earth  rampart  is  known  from  the  southern  edge  of  the plateau,  with  a  semicircular  projection  in  the  south-east corner  and  a  small  stretch  running  northwards  defending the  east  side  of  the  plateau  (Bonacasa  Carra  ( 1974)  110\\xad11; Bonacasa  ( 1980\\xad81)  855,  pl. 117,fig.  2),  revealing  that  habita- tion  covered  all  of  the  plateau  at  least  from  the  Archaic  peri- od.  A  wall  of  sun-dried  bricks  along  the  outer  edge  of  the plateau  on  the  northern  side  of  the  sanctuary  is  with  some uncertainty  dated  to  C 5e  and  connected  with  the Carthaginian  conflict of 480.  Dividing  the  upper  city  from the  city  on  the  plain  below,  the  wall  may  have  functioned  as a  diateichisma  (Allegro  ( 1991)  71).  The  walls  are  mentioned by Diod. 13.59.7\\xad9  in  reference  to the  siege  in  409.  The  upper city  occupied  about  32  ha,  the  lower  city  about  50  ha  (Allegro and  Vassallo  ( 1992)  145\\xad47). Corresponding  to  the  traditional  date  of  foundation ( 648),  there  is  sporadic  evidence  of  a  C 7m  settlement  on  the coastal  plain  below  the  upper  plateau  near  the  estuary  of  the river  Himera.  The  more  substantial  urban  remains  on  the plateau  of  Himera  are  from  C 7s,  suggesting  a  gradual  urban development  from  plain  to plateau  (Vassallo  ( 1997)  85\\xad90). Two  Archaic  urban  phases  are  known.  Already  the  earlier (C 7l\\xadC6e)  shows  features  of  planning,  but  it  was  soon replaced  by  a  new  overall  urban  layout,  probably  as  a  result of  destructions  of  the  early  city  and  a  refoundation c. 580\\xad570  (Allegro  ( 1997)).  Although  the  Archaic  town  plan is  impressive  in  its  size  and  regularity,  the  remains  suggest that  even  in  this  second  period  habitation  was  concentrated in  certain  areas:  the  northern  area  (near  the  sanctuary)  and the  southern  area  (near  the  main  route  to  the  chora).  Recent investigations  have  given  indications  of  a  6.20  m-wide north\\xadsouth-oriented  plateia  uniting  the  main  parts  of  the plateau  (Allegro ( 1988\\xad89)  656). Theron\\'s repopulation  of  Himera  in  476  (supra)  resulted in  further  developments  and  reorganisation  of  the  city,  indi- cated  by  changes  in  the  layout  of  single  insulae  (Belvedere ( 1976)  580\\xad82;Allegro ( 1988\\xad89)  657).  A  redistribution  of land  may  be  inferred  from  C 5e  epigraphic  evidence (Brugnone  ( 1997)). The  lower  city  had  an  urban  plan  from  C 7s,  with  later changes  which  correspond  to  the  phases  of  the  city  outlined above  (Allegro and  Vassallo  ( 1992)).  Recently  a  C 5f  subur- ban  quarter  east  of  the  city  has  been  revealed  between  the right  bank  of  the  river  and  the  Archaic  cemetery  (ibid. 139 n. 40;  cf.  Diod. 13.75.2  (r 408)).  The  cemetery  with  tombs from  the  early  history  of  Himera  until  c. 525  is  located  near the  coast  east  of  the  Himera  valley  (Vassallo  ( 1991), ( 1993\\xad94)).  From  C 6l  and  for  all  of  C 5  two  new  cemeteries were in  use  south  of  the  city  and  on  the  plateau  west  of  the city  (Di  Stefano  ( 1970)  319\\xad21;(1976));  tomb  material (amphoras)  reveals  a  wide  commercial  network  (Vassallo  et al.( 1991)). The  north-eastern  corner  of  the  plateau  is  occupied  by  a sanctuary  with  remains  of  four  C 7s\\xadC5e  temples  (Bonacasa ( 1970);  Allegro  ( 1991)),  probably  dedicated  to Athena,  like the  city  itself  and  its  chora  (Diod. 5.3.4).  A  sanctuary  of Demeter  with  at  least  two  C 6\\xadC5  naiskoi  was  located  in  the north-western  quarter  of  the  upper  city  (Himera ii.194\\xad205; Hinz  ( 1998)  166\\xad67).  A  monumental  stone  temple,  \"Temple of  Victory\",  again  presumably  dedicated  to Athena (Bonacasa  ( 1980)  269),  was  built  in  the  lower  city  in  C 5e  (P. Marconi ( 1931);  T.  Van  Compernolle  ( 1989)  48\\xad51,(1992) 55\\xad58),probably  to commemorate  the  victory  over  Carthage in 480  (cf.  Diod. 11.25.1)  or  built  by  Theron  in  connection with  his  resettlement  of  the  colony  in  476  (cf.  P.  Marconi ( 1931)  127  for  an  earlier  Archaic  phase).  Attested  cults include,  in  addition  to  that  of  Athena  (Diod. 5.3.4),  those  of Zeus  Soter  (C 5l:  Manni  Piraino  ( 1974)  267\\xad69);  Herakles (Diod. 5.3.4;  Bonacasa  ( 1991));  the  nymph  Himera  (coins;  cf. Cic.  Verr. 2.2.87);  Tyche  Soteira  and  Zeus  Eleutherios  (Pind. Ol. 12.1\\xad3). Himera  began  minting  drachms  on  the  Euboian\\xad Chalkidian  standard  c. 550\\xad540:  obv.cock;  rev.  incuse square  with  sunk  and  raised  triangles  within  a  square  incuse  field ( SNG  Cop.  Sicily 294\\xad96,  297  (obol)).  Later issues  have  rev.  hen  in  a  square  incuse  field,  and  there  are several  variations  of  the  basic  type  (SNG  Cop.  Sicily 298\\xad301).  An  early  issue  has  obv.  legend , 200 fischer-hansen,  nielsen  and  ampolo abbreviated  on  later  issues  to ,  (SNG  Cop.  Sicily 301).Other  coin  legends  are  names  of  mint  officials,  in  full  or abbreviated: ,  ,  ,  [].  Lower denominations  carry  related  types  (Kraay  ( 1984); C.  Boehringer  ( 1984\\xad85)  105\\xad8;  Molinari  ( 1986)).  The  first series  ends  c. 484/3  with  the  expulsion  of  Terillos; Akragantine  control  at  Himera  c. 483\\xad470  is  reflected in an issue  of  didrachms  on  the  Attic  standard:  obv.  cock,  some with  legend  ;  rev.  crab  (Jenkins  ( 1971);  SNG  Cop. Sicily 302\\xad3,  304  (drachm)).  During  the  subsequent  period of  Syracusan  influence a new c oinage  was  introduced  with the  principal  denomination  based  upon  the  Syracusan tetradrachm:  obv.  quadriga,  crowned  by  Nike;  rev.nymph Himera  pours  a  libation  at  an  altar,  at  her  side  a  Silenos bathes  in  a  fountain  with  a  spout  in  the  form  of  a  lion\\'s  head (SNG  Cop.  Sicily 306).A  variant  has  on  the  obv.  biga,  legend: ;  rev.  figure of  nymph  named   (Kraay ( 1976)  215,  pl. 765).  This  issue  may  celebrate  the  vic- tory  of  Ergoteles  at  Olympia  in  472  or 464,  and  according  to  Biucchi  ( 1988)  the  series  may  commence  as  late  as  464.A late  tetradrachm  known  from  one  issue  only  has  obv. quadriga  galloping,  above  flying N ike  with  wreath  and tablet  with  inscription  (signature  ?);  rev.  nymph  at  altar  and Silenos  bathing  under  lion-head  spout,  legend: ,probably from very shortly  before  the  409/8  disaster (C.  Boehringer  ( 1989)  34).  Lower  denominations  are  litrai: obv.  forepart  of  winged,  man-headed  monster;  rev.  goat- rider;  hemidrachms:  obv.  goat-rider,  rev.  Nike  holding  a phlaston  (SNG  Cop.  Sicily 307\\xad11).  Bronze  coinage  was introduced  c. 420  (Kraay  ( 1979);  SNG  Cop.  Sicily 313\\xad19). Coins  were  minted  during  the  resettlement  period c. 405\\xad383/2:  lower  bronze  denominations  with  legend  ; C 4  issue  of  silver  litrai:  obv.  Herakles;  rev.  palladion,  legend: (C.  Boehringer  ( 1989)).  There  is  some  evi- dence  of  coinage  during  the  reign  of  Timoleon;  an  issue influenced b y  the  Zeus  Eleutherios  type,  after  the  battle  of Krimissos  in  342/1:  obv.  Kronos,  legend: ; rev.  eagle  and  thunderbolt,  legend:  (C.  Boehringer  ( 1989)  36).  On  the  evidence  of  bronze  ingots counterstamped  with  Himeraian  mint  types,  flans,  bronze bars  and  slags,  the  public  mint  has  been  identified w ith  a structure  inside  the  sanctuary  in  the  north-eastern  corner  of the  plateau  (Cutroni  Tusa  ( 1982a)).',\n",
       " '25. Hippana ': '(Hipanatas)  Map  47.  Lat. 37.40,long.  13.25 (Monte  dei  Cavalli).  Size of  territory:  ? Type:  C: .The toponym is `,  (Polyb. 1.24.10);  Diod. 23.9.5  has ,  .  The  city-ethnic  is  `  (C 5m  coins,  infra). Hippana  is  called  a  polis  only  by later  sources  such  as Polyb. 1.24.10  (r 258),  who  uses  polis  in  the  urban  sense;  it  is included  here  on  account  of  its  Classical  Greek-style  coinage (infra)  and  a  kerykeion  inscribed  and , restored  `[] by Manganaro (1997). Hippana  is  commonly  identified w ith  the  site  of  Monte dei  Cavalli  in  the  territory of  Himera,  but  the  evidence  for this  identification is not c onclusive.  The  urban  remains  are mainly  from  a  C 4m\\xadC3m  phase,  which  is  interpreted  as  a Timoleontic  refoundation  of  the  originally  indigenous  set- tlement.  Strongly  built  circuit  walls  in  ashlar  were  raised  on an  acropolis  and  around  the  lower  habitation  plateau, 30  ha in  area.  There  are  some  remains  of  public  structures,  a shrine  and  a  theatre  of  Greek  type.  Aerial  photography  has revealed  formal  planning  on  the  lower  plateau:  Mitens ( 1988)  104;  Michelini  ( 1992);  Vassallo  ( 1991). Rare  C 5m  silver  litrai  (obv.  eagle  on  column,  legend: ;  rev.  dolphin  and  scallop)  have  been  attrib- uted  to  Hippana  (Head,  HN ²147;  Manganaro  ( 1997)  127  n. 6, 129);  the  types,  although  ultimately  based  upon  types  of Akragas,  seem  to  reflect Carthaginian (Motyan) influence (Manganaro  ( 1997)  129).  C 4m  bronze  coins  are  restruck  on Punic  coins:  obv.  bull,  legend: in  exergue;  rev. Astragalos(?)  (Manganaro  ( 1997)).',\n",
       " '26 *Imachara ': \"(Imacharaios) Map  47.  Unlocated.  Barr. tentatively  locates  Imachara  at  modern  Vaccarra  di  Nicosia (lat. 37.50,long.14.20);  cf.  Cataldi  ( 1990)  243\\xad44.The  precise location  is  unknown,  however;  a  C 5  kerykeion  inscribed 'µ µ  (IG xiv  589;  LSAG 269,276.23,dat- ing  it  to  475\\xad450;  IGDS  no. 199,  dating  it  to  C 5)  was  found  in the  region  of  modern  Nissoria,  and  it  may  be  of  relevance that  a  rich  C 5\\xadC4,  mainly  Corinthian  coin  hoard  was  found in  the  same  area  (IGCH 2133;  Cataldi  ( 1990)  244).  Pelagatti ( 1964\\xad65)  252  suggests  a  location  at  Mendolito  on  the  basis of  a  Sikulan  inscription  iamakaram(?)  found  there.  Type: C: . The  toponym  * 'µ  is  suggested  by  the  city-ethnic (infra);  Ptol.  Geog. 3.4.7  lists `µ  'µ  among the  poleis  mesogeioi  tes  Sikelias.  The  city-ethnic  is 'µ  (IGDS  no. 199  (C 5);  C 4  coins,  infra). No  source  calls  Imachara  a  polis,  but  it  is  included here  on  account  of  ( 1)  its  C 5  kerykeion  (supra;  for  a  full discussion  of  this  type  of  evidence  from  Sicily,  see Manganaro  ( 1996c)  141\\xad44;(1997)),  and  ( 2)  its  C 4  coins. Both  of  these  attest  the  internal  collective  use  of  the  city- ethnic,  indicate  a  high  degree  of  Hellenisation,  and  suggest polis  status. sikelia  201 The  mint  of  Imachara  is  known  from  two  specimens  only, both  silver  litrai:  obv.  head  of  Hera,  legend: ; rev.  butting  bull  (Jenkins  ( 1975)  90\\xad92).\",\n",
       " '27. Kallipolis ': '(Kallipolites)  Map  47.  Unlocated.  Type:  A: . The  toponym  is  (Strabo  6.2.6).  The  city-ethnic is (Hdt. 7.154.2). Kallipolis  is  implicitly  called  a  polis  in  both  the  urban  and the  political  senses  by  Herodotos:  at  7.154.2  he  mentions Hippokrates\\'  aggression  against  a  number  of  communities, including  Kallipolis;  he  then  goes  on  to  state  that,  Syracuse excepted,  none  of  the  poleis  mentioned  escaped  being enslaved  by  Hippokrates  ( µ    `;  cf.  Hansen  ( 2000)  205).  So  Kallipolis was  a  polis  which  Hippokrates  c. 495  turned  into  one  of  his dependencies  (Dunbabin  ( 1948)  380\\xad82,  402;  Vallet  ( 1978) 119\\xad20).  It  is  described  as  an  apoikia  by  Ps.-Skymnos  286  (cf. in  Strabo  6.2.6).  The  external  collective use  of  the city-ethnic  is  found  in  Hdt. 7.154.2. Only  two  events  are  known  from  the  history  of  Kallipolis: its  foundation  and  its  \"enslavement\"  by  Hippokrates (supra).  It  was  founded  by  Naxos  (no. 41;Strabo 6.2.6).  The date  of  the  foundation  is  unknown,  but  Ps.-Skymnos  286 mentions  it  alongside  Naxos\\'  other  foundations  (Leontinoi (no. 33),  Zankle  (no. 51)  and  Katane  (no. 30)),  and  this  may suggest  that  it  was  founded  contemporaneously  with  them (i.e.  C 8l;  M.  Miller  ( 1970)  35,  86).  In  Strabo\\'s  day  it  was deserted  ( 6.2.6). Various  sites  have  been  brought  forward  as  candidates  for the  site  of  Kallipolis,  but  it  remains  unidentified (Camassa ( 1989b)),  though  recent  finds at San M arco  south  of  Naxos are  promising  in  this  connection  (Pelagatti  ( 1981)  295  n. 5). In  general,  the  fact  that,  like  Katane  and  Leontinoi,  it  was  a colony  of  Naxos  suggests  a  location  in  the  coastal  plain south  of  Naxos  or  on  the  slopes  of  Mt.  Etna;  in  any  case,  the foundation  of  Kallipolis  should  be  seen  as  a  part  of  the Chalkidian  occupation  of  north-eastern  Sicily.  The  siege mentioned  by Hdt. 7.154.2  implies  that  Kallipolis  was  forti- fied b y  C 5e.',\n",
       " '28. Kamarina ': '(Kamarinaios) Map  47.  Lat. 36.50,long. 14.25.  Size  of  territory: 4.  Type:  A: .  The  toponym  is µ,-,  (Hdt. 7.154.3,  156.2;  Thuc. 6.75.4).  The city-ethnic  is  µ  (IvO 266.2  ( 480\\xad475);  Hdt. 7.156.2). In  Ps.-Skylax 13,  Kamarina  is  listed  as  the  first t oponym after  the  heading   ` ,  where polis  is used  in  the  urban  sense;  polis  in  the  political  sense  occurs  at Pind.  Ol. 5.4,  20  and  Thuc. 3.86.2.  Asty  is  found  at  Hdt. 7.156.2,  astos  in  Pind.  Ol. 5.14,  and  politeuma  in  Timaios (FGrHist 566)  fr. 22  (r 424). The  internal  collective  use  of  the  city-ethnic  is  found  on C 5  coins  (infra);  the  external  collective  use  is  found  in  Hdt. 7.156.2  and  Thuc. 7.58.1.  The  external  individual  use  is  found in  Diod. 1.68.6  (r 528)  and  F.Delphes iii.3202.4  ( 266).  A remarkable  example  is  found  in  IvO 266.2  ( 480\\xad475),  a  ded- ication  at  Olympia  by  a  Mantinean  who  became  both  a µand a ,and so was probably a cit- izen  of  Kamarina  who  in  484  was  made  a  citizen  of  Syracuse by  Gelon  (Hansen  ( 1996)  184  and  infra). The  territory  of  Kamarina  (Pelagatti  ( 1980\\xad81)  pl. 168;Di Stefano  ( 2000)  (chora),  ( 1984\\xad85)  728,fig.  1  (territory))  is called µ  in  Thuc. 6.5.3  and µ  at  Thuc. 6.78.4.  It  functioned  as  a  buffer  zone between  the  Geloan  and  Syracusan  spheres  of  influence; Philistos  (FGrHist 556)  fr. 5  suggests  that  the  river  Hyrminios (Irminio)  formed  the  border  between  Syracuse  (no. 47)  and Kamarina.  A  number  of  C 6\\xadC4  farmsteads,  some  with  adja- cent  cemeteries,  are  known  from  the  lowland  plains  of  the Hypparis  (Ippari),  the  Oanis  (Rifriscolaro)  and  the Hyrminios  river  valleys.  The  orientation  of  farmsteads located  in  the  hinterland  coincides  with  that  of  the  city,  and the  size  of  the  area  allotted  to  the  single  farmsteads  is  divisi- ble  by  the  size  of  the  urban  insulae,  suggesting  an  organisa- tion  of  the  agricultural  area  analogous  to  that  of  the  C 5  city (Di  Stefano  ( 1993\\xad94)  1378\\xad81;  Cordano  and  Di  Stefano ( 1997)  297\\xad99).  Investigations  have  also  shown  that  a  system of  roads  joined  the  city  with  its  cemeteries  and  the  farm- steads  located  in  the  further  hinterland  (Pelagatti  ( 1980\\xad81) 723\\xad29;  Di  Stefano  ( 1984\\xad85)  762\\xad64).  On  the  estuary  of  the river  Hyrminios,  at  Contrada  Maistro  c. 15  km  south-east  of Kamarina,  a  harbour  settlement  founded  contemporane- ously  with  Kamarina  may  mark  the  border  between  the  ter- ritories  of  Kamarina  and  Syracuse.  The  site,  which  had  a Demeter  sanctuary  (Cordano  ( 1997)),  was  abandoned  in C 6l  (Di  Stefano  ( 1987b)).To  the  north-west  the  river  Achates (Dirillo)  formed  the  border  with  Geloan  territory.  An important  C 5l  coin  hoard  (IGCH 2095)  from  the  C 6\\xadC5 border  settlement  of  Scornavacche  (ancient  identity unknown)  in  the  Dirillo  valley  has  revealed  contacts  with the  main  Greek  cities  of  Sicily.  Inland  the  territory  of Kamarina  was  delimited  by  the  Hyblaian  mountains,  which constituted  the  border  of  the  territories  of  Kasmenai  (no. 29)  and  Akrai  (no. 10),  and  further  northwards  of  Leontinoi (no. 33).  The  Sikels  of  the  mountainous  hinterland  were allied  with  Kamarina  during  the  C 6m  war  with  Syracuse (Philistos  (FGrHist 556)  fr. 17).  During  the  Hippokratean 202 fischer-hansen,  nielsen  and  ampolo phase  (infra),  Kamarina  was  apparently  forced  to break  with previous  Sikel  allies  such  as  the  city  of  Ergetion  (Polyaen. 5\\xad6;  cf.  Philistos  (FGrHist 556)  fr. 10  with  Sinatra  ( 1998))  of uncertain  location  in  the  Hyblaian  hills.  However,  the impression  given  by the  evidence  is  that  of  a  network  of  con- tacts  with  the  Sikel  hinterland,  as  far  north  as  the  foothills  of the  Hyblaian  mountains,  a  vast  area  with  a  number  of  Sikel sites  revealing  a  strong  degree  of  C 6  Hellenisation  (Di Stefano  ( 1987a),  ( 1988\\xad89)  with  refs.).  The  immediate  hin- terland  of  Kamarina  comprised  about  50\\xad70  km ²,  the  larger territory  (dominion?)  about  500  km ². Kamarina  was  founded  by  Syracuse  (no. 47),  135  years after  the  foundation  of  Syracuse  itself,  i.e.  c. 598  (Thuc. 6.5.3);  the  date  is  confirmed b y  the  archaeological  evidence (infra).  The  oecists  were  Daskon  and  Menekolos,  the  former a  Syracusan  and  the  latter  probably  a  Corinthian,  as  suggest- ed  by onomastic  evidence  (Cordano  ( 1987)). Philistos  (FGrHist 556)  fr. 5  (rC 6m)  refers  to treaties  of alliance  between  Kamarina  and  Sikels,  Gela  (no. 17)  and other  (presumably  Greek)  communities  in  a  C 6m  war  with Syracuse.  According  to  Thuc. 6.5.3,  the  Kamarinaians  were made  anastatoi  by  Syracuse  after  a  revolt  ( );  this happened  c. 552\\xad549  (schol.  Pind.  Ol. 5.16),  probably  in  con- nection  with  the  war  attested  in  Philistos  (FGrHist 556)  fr. 5 in  which  both  Syracuse  and  Kamarina  were  assisted  by allies.  However,  the  site  was  apparently  not  depopulated:  not only  is  Parmenides  of  Kamarina  attested  as  victor  at Olympia  in  528  (Olympionikai 125),  but  there  is  no  archaeo- logical  evidence  of  a  break  in  habitation  (Lentini  ( 1983)  5\\xad6) or  in  the  use  of  the  Archaic  cemetery  (Pelagatti  ( 1976\\xad77) 523\\xad26;(1978b));  so  Kamarina  probably  continued  to  exist, possibly  as  a  dependent  polis  of  Syracuse  (cf.  apostasis  in Thuc. 6.5.3  and  the  statement  by  Hdt. 7.154.3:      µ    ).After the defeat of  Syracuse by  Hippokrates  of  Gela  in  the  C 5e  ( 492?)  battle  at  Heloros, Kamarina  passed,  after  arbitration  by  Corinth  (no. 227)  and Korkyra  (no. 123),  from  Syracuse  to  Gela  (Hdt. 7.154.3),  as payment  for  the  release  of  Syracusan  prisoners  of  war (Thuc. 6.5.3).  Hippokrates,  acting  as  oecist  himself, refounded  the  city  c. 490  (Thuc. 6.5.3;  Philistos  (FGrHist 555) fr. 15;  Timaios  (FGrHist 566)  fr. 19).  Casevitz  ( 1985)  168, 172\\xad73  shows  that  the  term used  by Thucydides  to describe Hippokrates\\'  refoundation  ( ) mainly desig- nates  the  settling  of  new  inhabitants  and  may  be  used  for  the \"colonisation\"  of  a  site  already  inhabited.  The  term  used  by Philistos  and  Timaios  ( ) implies the participa- tion  in  the  new  foundation  of  various  unspecified g roups (Cordano  ( 1992)  7).In  484  Gelon  destroyed  Kamarina  (Hdt. 7.156.2;  Thuc. 6.5.3)  and  transferred  all  Kamarinaians  to Syracuse,  where  they  received  citizenship  (Hdt. 7.156.2); prior  to  that,  Gelon  had  installed  Glaukos  of  Karystos  as  his governor  in  Kamarina,  and  the  occasion  for  his  destruction of  the  city  was  presumably  its  execution  of  Glaukos  (schol. Aeschin. 3.189;  Demand  ( 1990)  47\\xad48).Kamarina  now  prob- ably  ceased  to  exist  until  its  refoundation  by  Gela  in  461;at least,  a  decrease  in  the  archaeological  evidence  covering  the years 484\\xad461  suggests  that  the  site  was  uninhabited  or  only sparsely  inhabited  in  this  period  (Giudice  ( 1988)  esp. 56\\xad57). In 461  (Diod. 11.76.5)  Kamarina  was  refounded  by  Gela (Thuc. 6.5.3).  In  427  this  third  Kamarina  was  allied  with Leontinoi  (no. 33)  and  Athens  (no. 361)  against  Syracuse (Thuc. 3.86.2,  6.75.3).  At  the  Congress  of  Gela  in  424  it  was decided  that  Kamarina  was  to  receive  Morgantina  (no. 37) on  condition  of  the  payment  of    to Syracuse  (Thuc. 4.65.1).  This  congress  had  been  called  on the  initiative  of  Gela  (no. 17)  and  Kamarina  after  they  had ended  a  mutual  war  by  ekecheiria  (Thuc. 4.58;  Timaios (FGrHist 566)  fr. 22).  In  422  Phaiax  \"won  over\"  Kamarina  to Athens  (Thuc. 5.4.6),  but  the  city  was  allied  with  Syracuse  as well  (Thuc. 6.88.2)  and  eventually  sided  with  her  (infra).  In 405  Kamarina  suffered  from  Carthaginian  attacks  (Diod. 13.108.3),  and  Dionysios  I  forced  the  inhabitants  (    ) to  relocate  to  Syracuse  (Diod. 13.111.3);but  the  Kamarinaians (with  the  Geloans)  left  Syracuse  for  Leontinoi       ( 113.4).  The  405  peace  treaty between  Dionysios  and  Carthage  decreed  that  Kamarina  be ateichistos  and  pay  tribute  to  Carthage  (Diod. 13.114.1).  A Timoleontic  reinforcement  of  the  population  is  reported  by Diod. 16.82.7,  and  the  archaeological  evidence  points  to  a revival  of  the  city  in  C 4s  (Talbert  ( 1974)  149\\xad50;  Pelagatti ( 1976)). Kamarinaian  military  forces  assisted  Syracuse  during  the conflict w ith  Athens  (Thuc. 6.67.2),although  the  city  initial- ly  attempted  neutrality,  allied  as  it  was  to  both  parties  (Thuc. 6.88.2);  Thuc. 7.33.1  mentions  contingents  of 500  hoplites, 300  akontistai  and 300  toxotai;  a contingent  of  twenty  caval- ry  is  mentioned  at  Thuc. 6.67.2.In 406  Kamarinaian  forces fought  with  Gela  and  Syracuse  against  the  Carthaginians  at the  battle  of  the  river  Himera  (Diod. 13.86.5),  and  Menes  of Kamarina  was  commander  on  this  occasion  ( 13.87.5); Kamarinaian  forces  assisted  Dionysios  again  in  397  (Diod. 14.47.6),and  in  357  troops  from  the  city  assisted  Dion  (Diod. 16.9.5;Plut.  Dio 27.1). Reception  of  envoys  is  attested  at  Thuc. 6.75.3;  sending of  envoys  is  mentioned  in  Timaios  (FGrHist 566)  fr. 22 (r 424). sikelia  203 At  the  refoundation  in  461  a  system  of  civic  subdivisions was  introduced  whereby  the  citizens  were  organised  into phratries  (subdivided  into  triakades  (Cordano  ( 1992); Murray ( 1997)). Glaukos  of  Karystos  presumably  ruled  the  city  as  tyrant on  behalf  of  Gelon  (Berve  ( 1967)  142).  Apart  from  that,  the form  of  constitution  is  unknown,  though  there  are  glimpses of  its  working:  a  death  sentence  passed  by the  assembly  is recorded in reference to c. 484  by  schol.  Aeschin. 3.189,  and  a meeting  of  the  assembly  ( ) is attested in Thuc. 6.75.3\\xad4.  Thuc. 4.25.7  refers  to  a  faction  which  allegedly  in 425  was  ready  to  betray  the  city  to Syracuse  (cf.  Thuc. 6.88.1 for  the  general  hostility  of  Kamarina  towards  Syracuse). Parmenides  of  Kamarina  was  victorious  at  Olympia  in 528  (Diod. 1.68.6  Olympionikai 125),  and  so  was  Psaumis in 456  and 452  (Olympionikai 280,  292;  cf.  Pind.  Ol. 4\\xad5). The  town  of  Kamarina  was  founded  on  a  narrow  coastal plateau  between  the  rivers  Hypparis  and  Oanis  (for  the  situ- ation  of  the  city  in  relation  to  rivers,  see  Cordano  and  Di Stefano  ( 1997)).  During  the  C 4s/Timoleontic  phase  the  site comprised  a  fortified area of  not  less  than  150  ha.  There  is  no evidence  of  a  circuit  wall  contemporary  with  the  founda- tion.  The  C 6s  circuit  wall,  with  later  phases,  probably enclosed  an  area  larger  than  that  ascertained  for  the  earliest habitation  phase.  It  was  built  as  a  double  curtain-wall  in  a mixture  of  ashlar  and  small  polygonal  techniques  with internal  fill.  Part  of  the  upper  structure  in  sun-dried  brick has  been  found,  and  there  were  gates  corresponding  to  the routes  westwards  to  Gela  (no. 17),  inland,  and  eastwards  to Heloron  (no. 18)  and  Syracuse  (no. 47).  An outer  proteichis- ma  wall  was  raised  outside  the  north  wall  along  the  river Hypparis  (Pelagatti  ( 1970);  Cordano  and  Di  Stefano  ( 1997) 294\\xad96). Structural  remains  from  the  earliest  phases  of  the  site have  been  found  above  all  in  the  western  part  of  the  later city,  close  to the  coast  on  the  promontory  proper,  near  the estuary  of  the  river  Hypparis  and  the  harbour.  The  Archaic remains  show  an  organic  layout  with  an  overall  alignment  of the  individual  structures  and  a  specific cult area,  the  Athena Polias  sanctuary  on  the  highest  part  of  the  plateau. Habitation  in  the  early  period  consisted  of  single  houses  and house  plots  with  open  areas.  The  orientation  was  respected by  the  Geloan  refoundation  of 461  (Pelagatti  ( 1976)  122\\xad25). The  C 5  city  comprised  three  plateiai,  whereas  the  north- eastern  part  of  the  city  with  two  further  plateiai  belongs  to the  C 4s/Timoleontic  foundation;  for  the  public  works  of this  phase,  fortifications and sewers,  see  Cordano  and  Di Stefano  ( 1997)  292\\xad97.  The  part  of  the  city  facing  the  sea  and the  port  was  from  early  times  laid  out  as  public  space;  the vast  area  may  have  been  divided  into  a  mercantile  agora  and a  civic-political  agora  (Pelagatti  ( 1984\\xad85)  683\\xad94;Di Stefano  ( 1993\\xad94)  1367\\xad71).  Recent  investigations  at  the mouth  of  the  river  Hypparis  have uncovered  remains  of  an impressive  harbour  structure,  in  part  going  back  to  the Archaic  period  (Di  Stefano  ( 1990)). The  major  sanctuary  of  the  city,  undoubtedly  dedicated to  Athena,  has  roots  in  the  Archaic  period,  but  the  extant remains  of  the  temple  are  of  C 5f  (Di  Stefano  ( 1984\\xad85) 729\\xad37).Athena  was  the  patron  divinity  of  Kamarina  (schol. Pind.  Ol. 5),  and  the  epithet  Poliaochos  is  used  by  Pind.  Ol. 5.10\\xad11.  An  archive  of  C 5m  lead  tablets  listing  citizens  and the  phratries  and  triakades  to  which  they  belonged (Cordano  ( 1992))  was  deposited  in  the  temple  (Di  Stefano ( 1992))  and  demonstrates  the  importance  of  Athena.  The rev.  type  of  litrai  issued  after  the  461  resettlement  depicts Athena  armed,  and  the  cult  statue  of  Athena  Polias  may  have portrayed  her  as  Athena  Promachos  (Rutter  ( 1997)  138). Votive  terracottas  from  the  site  show  Athena  also  as  Ergane (Martin  et al.( 1979)  520).  C 5l  coin  types  depicting  the  main divinities  of  the  city,  Herakles  and  Athena  (Westermark  and Jenkins  ( 1982)  57\\xad8;  Westermark  ( 1998)  376),  and  personifi- cations  of  the  river-god  Hipparis  and  the  nymph  Kamarina may  also  be  evidence  of  cults  (Lacroix  ( 1965)  115\\xad16).Apollo Patroos  is  attested  in  C 5  (Manganaro  ( 1995)  98\\xad103).  A  sub- urban  sanctuary  of  Demeter  south  of  the  city  has  yielded  a few  architectural  remains  and  rich  votive  deposits.  Figurines of  the  type  showing  Demeter  with  a  piglet  attest  to  the Thesmophorian  aspect  of  the  cult  (Giudice  et al.( 1979);  cf. Pelagatti  ( 1980\\xad81)  716\\xad18;  Hinz  ( 1998)  119\\xad21). The  earliest  cemeteries  were  situated  to  the  north-east (Dieci  Salme)  and  the  east  (Rifriscolaro)  of  the  city.  About 2,000  tombs  are  known  at  Rifriscolaro  from  the  period  of the  first generation of  settlers  (Pelagatti  ( 1980\\xad81)  719\\xad23). The  Classical  cemetery  belonging  to  the  461  refoundation was  located  south-east  of  the  city  at  Passo  Marinaro,  where about 8,000  m ²  have  been  investigated  so  far  (Di  Stefano ( 1984)  55  n. 1  with  refs.;  Orsi  ( 1990)). Coinage  began  after  the  refoundation  of  Kamarina  by Hippokrates  with  an  issue  of  didrachms  on  the  Attic  stan- dard:  obv.  helmet  on  a  shield;  rev.  palm-tree  flanked b y greaves,  legend: or  (Westermark  and  Jenkins  ( 1980)).  This  issue  lasted  only  to 484,  when  the  city  ceased  to  exist.  Kamarina  as  resettled  in 461  by  Gela  issued  a  series  of  silver  litrai:  obv.  flying N ike; below,  a  swan;  rev.  Athena  standing  and  armed,  legend: (- );  this  issue  ended  c. 440  (SNG 204 fischer-hansen,  nielsen  and  ampolo Cop.  Sicily 158\\xad60).  A  survey  of  fractional  coins  is  found  in Westermark  and  Jenkins  ( 1982)  48\\xad52.  The  next  issue  dates from  c. 420,  the  period  of  full  Syracusan  influence: tetradrachms  on  the  Syracusan  standard,  obv.  Athena  as charioteer;  rev.  head  of  Herakles  in  lion-skin  (SNG  Cop. Sicily 161\\xad63;  a  rare  variant  has  rev.  head  of  Herakles: Westermark  ( 1998)).  Some  dies  are  signed  by  engravers. Didrachms  have  obv.  head  of  the  river-god  Hipparis;  rev. nymph  Kamarina  riding  a  swan  (SNG  Cop.  Sicily 164);  leg- end ,  .  Hemidrachms have  obv.  head  of  nymph;  rev.  flying N ike  with  shield (Westermark  and  Jenkins  ( 1980)).  Litrai  have  obv.  head  of Athena;  rev.  Nike  with  wreath;  the  legend   probably  implies  vel  sim.;  one  rare  litra  has  rev. head  of  Herakles  wearing  lion-skin  (Westermark  and Jenkins  ( 1982)  56\\xad57).  These  issues  ended  with  the  banish- ment  of  the  inhabitants  in  405  (Westermark  and  Jenkins ( 1980);  Cutroni  Tusa  ( 1987)).A  single  gold  coin  may  be  from an  issue  struck  as  a  result  of  Carthaginian  pressure  in  405 (Westermark  and  Jenkins  ( 1980)  no. 206;  Rutter  ( 1997)  148, 154).  Bronze  was  minted  from  C 5s  (SNG  Cop.  Sicily 166\\xad69); a  bronze  issue  of  C 4s  depicts  obv.  Athena  with  helmet,  leg- end: ;  rev.  free  horse  prancing  (SNG Cop.  Sicily 170).',\n",
       " '29. Kasmenai ': '(Kasmenaios) Map  47.  Lat. 37.05,long. 14.50.  Size  of  territory:  ?  Type:  A: .  The  toponym  is µ,  (Hdt. 7.155.2), µ  (Thuc. 6.5.2).  The city-ethnic  is  µ  (Steph.  Byz. 364.2  ). Kasmenai  is  called  a  polis  in  the  urban  sense  at  Hdt. 7.155.2.Apart  from  the  entry  in  Steph.  Byz.,  the  city-ethnic  is attested  only  as  a  conjecture  in  Philistos  (FGrHist 556)  fr. 5 (Pais  ( 1894)  560\\xad64;  recently  sustained  by  Di  Vita  ( 1987)), which,  if  accepted,  yields  an  attestation  of  the  external  col- lective  use  rC 6m. Kasmenai  was  founded  in  644/3  (Thuc. 6.5.3)  by  Syracuse (no. 47),  probably  as  a  colony,  although  there  is  no  mention of  an  oecist.  The  location  and  the  urban  layout  (infra)  point to  a  military  settlement  (Di  Vita  ( 1990)  350).  Kasmenai  was  a polis  according  to  Herodotos,  and  the  site  is  defined as t ype  A here,  but  the  polis  status  must  remain  uncertain,  though  Pais\\' conjecture  of  Philistos  (FGrHist 556)  fr. 5  (supra)  would  tend to support  polis  status  by  providing  an  instance  of  the  exter- nal  collective ethnic.  Hansen  ( 1997a)  36  classifies K asmenai as  a  dependent  polis  of  Syracuse,  i.e.  as  a  polis  founded  as  a fortress.  See  also  Akrai  (no. 10)  and  Heloron  (no. 18). If  the  conjecture  in  Philistos  (FGrHist 556)  fr. 5  (supra)  is correct,  Kasmenai  was  allied  with  the  Syracusans  against Kamarina  in  C 6m.  A  C 5e  bronze  plaque  (IGDS  no. 219) found  near  Monte  Casale  is  a  grant  ( []) of ateleia  etc.,  possibly  by  Kasmenai  (though  this  is  highly uncertain,  see  IGDS  no. 219  with  refs.).  The  text  refers  to µ,  and  according  to  Hdt. 7.155.2  the  Syracusan gamoroi  expelled  by the  demos  in  a  civil  strife  in  491  took refuge  at  Kasmenai.  Cf.  Asheri  in  CAH v².  768. Kasmenai  is  with  near  certainty  identified as the urban site  on  the  top  of  Monte  Casale  c. 12  km  west  of  Akrai (Marotta  D\\'Agata  and  Moreschini  ( 1992)).  The  settlement was  founded  on  a  high  plateau  (c. 70  ha),  bounded  by  steep slopes  and  with  no  direct  access  to  a  hinterland.  Apart  from the  natural  defences  the  plateau  was  protected  by  a  sturdy circuit  wall  3.4  km  long, 3m  wide,  built  in  megalithic  tech- nique  and  with  at  least  three  square  towers  along  the  north side.  Its  date  is  uncertain,  but  the  wall  is  often  considered  to be  contemporary  with  the  foundation,  or  a  little  later (Adamesteanu  ( 1986)  110).  A  double  curtain-wall,  a  diate- ichisma(?),  along  the  south-eastern  side  of  the  north-west plateau,  the  upper  terrace  and  so-called  acropolis,  may  date from  C 4f,  and  may  therefore  be  taken  as  a  later  reinforce- ment  due  to Carthaginian  pressure  (Martin  et al.( 1979)  531, fig. 73). The  settlement  was  laid  out  according  to  a  well-defined plan  already  in  C 7s.  The  urban  plan  consists  of  at  least  forty narrow  streets  oriented  north-north-west  to  south-south- east,  at  right  angles  to  the  long  axis  of  the  plateau  and  delim- iting  insulae  c. 25  m  wide:  an  early  stage  of  Western  Greek urban  planning  (Martin  et al.( 1979)  533).  The  rather  simple layout  may  reflect the function of  a  fort  or  garrison  defend- ing  the  territory  of  Syracuse.  Quite  apart  from  the  apparent lack  of  a  chora,  the  morphology  of  the  site  is  unsuitable  for  a colony  proper,  and  the  nature  of  the  votive material  from  the shrine  may  also  point  to  a  military  function  (Di  Vita  ( 1961); Marotta  D\\'Agata  and  Moreschini  ( 1992)  291).  However, against  this  it  should  be  noted  that  \"The  sheer  number  of inhabitants,  some  7\\xad8,000  altogether,  shows  that  the  site must  have  been  a  proper  town,  and  that  some  2,000  soldiers max.  must  have  been  garrisoned  in  the  town  with  their  fam- ilies.  Also,  no  more  than  ca. 60%  of  the  town  has  been  exca- vated  and  the  absence  of  e.g.  an  agora  and  public  space  in general  carries  no  weight  as  the  evidence  stands\"  (Hansen ( 2000)  198\\xad99).  An analysis  of  aerial  photographs  of  the plateau  of  Monte  Casale  also  shows  that  unexcavated  areas were  part  of  the  urban  layout  (Martin  et al.( 1979)  pl.  on  p. 528). The  only  public  architecture  known  at  Kasmenai  is  the temenos  with  temple  located  on  the  western  plateau  and sikelia  205 aligned  with  the  overall  urban  layout.  The  sanctuary  was squeezed  into  a  small  area  otherwise  given  over  to  habita- tion  (Voza  ( 1976\\xad77)  561\\xad62).  The  temple  has  two  phases:  an early  one  c. 560  and  a  later  one  525\\xad500  (Ciurcina  ( 1977) 72\\xad73),  but  the  temenos  has  a  C 7l  origin.  A  votive  deposit  of hundreds  of  javelins,  swords  and  arrowheads  indicates  a  cult of  a  martial  divinity  (supra).',\n",
       " '30. Katane ': '(Katanaios) Map  47.  Lat. 37.30,long.  15.05. Size of  territory: 4.  Type:  A: .  The  toponym  is  , (Hecat.  fr. 73;  Thuc. 6.51.3;C5f  coins,  infra)  or  (IG iv².195.ii.71  ( 356/5)).  The  city-ethnic  is  (Thuc. 7.57.11;C5m  coins;  IG ii²  162  (C 4f)). Katane  is  called  a  polis  in  the  urban  sense  by  Hecat.  fr. 73  and Thuc. 6.51.1\\xad2,  and  in  the  political  sense  at  Thuc. 7.14.2  and  in Arist.  Pol. 1274a24,  a  passage  which  also  refers  to  the  . It is  called  patris  by Diod. 11.49.2  (r 476)  and  11.76.3  (r 461). The  internal  collective  use  of  the  city-ethnic  is  found  on C 5m  coins  (infra),  and  the  external  use  in  Thuc. 6.3.3  and  IG i³  291.b.ii.15  ( 415);  the  external  individual  use  is  attested  by Arist.  Pol. 1274a23  (rC 6s)  and  IG ii²  162  (C 4f). The  territory  is  termed  at  Thuc. 3.116.1  and  chora  by Diod. 11.49.1  (r 476),who  names  it  (ibid.).  It  com- prised  parts  of  the  fertile  plains  delimited  inland  by  Etna and  the  Monti  Siracusani  with  the  Sikel  settlements  of  Hybla Geleatis,  Inessa,  Kentoripa  (no. 31)  and  Piakos  (no. 43; Manganaro  ( 1996a)  26),  in  all  about  400  km ².However, Leontinoi  (no. 33),  the  earlier  foundation,  may  have  domi- nated  part  of  this  area,  leaving  a  more  limited  area  for  the direct  use  of  Katane.  Chalkidian  expansion  far  inland  to  the  south-west  of  Katane  and  Leontinoi  is  revealed  by  the Chalkidian  legal  texts  found  at  the  settlement  of  Monte  San Mauro  (Frasca  ( 1997)).  The  C 6m  indigenous  centres  show  a notable  degree  of  Hellenisation,  probably  evidence  of  a Chalkidian  dominion  comprising  also  the  lowland  plains  of the  rivers  Simeto,  Dittaino  (for  a  phrourion  at  M.  Turcisi,  cf. Procelli  ( 1988\\xad89))  and  Trigonia.  The  chora  of  Katane  was bounded  to  the  south  by  the  territory  of  Leontinoi  (cf.  Thuc. 6.65.1)  and  to  the  north  by  that  of  Naxos  (no. 41;Procelli ( 1989)  684\\xad89;  Manganaro  ( 1996a)  25,29).The  territory  suf- fered  from  an  eruption  of  Etna  in  426/5  (Thuc. 3.116),  and  in 415/14  it  was  ravaged  by  Syracusan  forces  (Thuc. 6.75.2). Katane  was  founded  by  \"Thoukles  and  the  Chalkidians from  Naxos\"  (Thuc. 6.3.2;  cf.  Hellan.  fr. 82),  after  these  had founded  Leontinoi  in  the  fifth y ear  after  the  foundation  of Syracuse  (i.e. 729:  Thuc. 6.3.2).  According  to  Thuc. 6.3.3,  the Katanaians  \"themselves  made  Euarchos  their  oecist\" (Leschhorn  ( 1984)  11\\xad13),  implying  that  the  city  obtained autonomous  status  soon  after  its  foundation.  Thuc. 6.3.3  possibly  implies  that  the  Greeks  drove  out  the  Sikel population,  and  there  is  tenuous  archaeological  evidence supporting  this  (Procelli  ( 1992)). In 476,  Hieron  transferred  the  populations  of  Katane  and Naxos  to  Leontinoi,  renamed  Katane  as  Aitna  and  settled  it with 10,000  oiketores: 5,000  from  the  Peloponnese  and  5,000 from  Syracuse  (Diod. 11.49.2);  though  the  report  on  the  relocation  of  populations  refers  to  both  Katane  and  Naxos, Katane  seems  to  have  been  the  site  refounded  as  Aitna  (no. 8.I):   µ  µµ ,    µ         µ  ,  µ  .  (Cf.  Strabo  6.2.3,  who  focuses  exclusively  on Katane  in  his  report  on  the  foundation  of  Aitna.)  After Hieron  had  died  in  466,  the  Katanaians  returned  in  461  and expelled  the  Aitnaians  (Strabo  6.2.3),  according  to Diod. 11.76.3  after  several  battles  (  µ) between the Hieronian  settlers  and  Syracuse  as  well  as  the  Sikels  under Douketios.  Cf.  further  Aitna  (no. 8.I).  In  403  Dionysios  I  was able  to  take  possession  of  Katane  through  the  betrayal  of  the city  by  the  strategos  Arkesilaos:  the  inhabitants  were  sold  into slavery  and  the  city  granted  to  Campanians  (Diod. 14.15.1\\xad3), who  in  their  turn  were  transplanted  to  Aitna  in  396.After  that date  the  demographic  history  of  the  city  becomes  obscure:  it is  mentioned  again  in  353  when  it  was  taken  by  Kallippos, Dion\\'s  murderer  (Plut.  Dio 58.4).  In  394,  the  surviving Katanaians  were  settled  by  Rhegion  (no. 68)  in  Mylai  (Diod. 14.87.1),  but  presumably  had  to scatter  across  the  island  when Mylai  fell  to  Dionysios  later  that  year  (Diod. 14.87.3). Katane  was  presumably  among  the  Chalkidikai  poleis allied  with  Leontinoi  (no. 33)  in  its  war  with  Syracuse  (no. 47)  in  427  and  may,  with  its  ally,  have  sent  an  embassy  to Athens  asking  for  help  in  427  (Thuc. 3.86.2\\xad3;  cf.  Andoc. 3.30 with  Albini  ( 1964)  100).  Nikias\\'  letter  at  Thuc. 7.14.2  men- tions  Katane  as  an  ally  ( µµ)  of  Athens  (no. 361)  in 414/13  (though  Diod. 13.4.2  reports  that  it  was  originally  in favour  of  Syracuse);  the  treaty  was  concluded  (  ... µµ   ) in 415  at  an  assembly ( ) attended by Athenian strategoi  and  against  the wishes  of  a  pro-Syracusan  faction  (Thuc. 6.50.3\\xad51.2).Cf.IG i³  291.b.ii.15  ( 415):  a  payment  by  Katane  to  Athens. IG ii²  162  is  a  C 4f  grant  of  Athenian  proxeny  to two  men  of Katane.  A  citizen  of  Katane  served  as  theorodokos  of Epidauros  (no. 348)  in  356/5  (IG iv².195.ii.71;  cf.  Manganaro ( 1996a)  46  n. 81). There  is  no  evidence  for  Archaic  or  C 5  tyranny  at  Katane. According  to  Arist.  Pol. 1274a23,  Charondas  of  Katane  206 fischer-hansen,  nielsen  and  ampolo legislated  for  his  own  city  as  well  as  for  other  Chalkidian cities.  An  ekklesia  is  attested  for  415  (Thuc. 6.51.2)  and  a  strat- egos  is  mentioned  at  Diod. 14.15.1  (r 403).  In  344,  the  city  was ruled  by  the  tyrant  Mamerkos/Markos,  who  initially  sided with  Timoleon  (Diod. 16.69.4)  but  then  joined  Carthage only  to be  betrayed  by     who  handed  Katane over  to Timoleon  (Plut.  Tim. 34). The  urban  layout  at  Katane  is  virtually  unknown.  The  ini- tial  settlement  occupied  the  acropolis  above  the  coastal  plain and  harbour,  today  occupied  by  Piazza  Dante  and  the Convento  dei  Benedettini;  structural  remains  from  this  peri- od  are  scarce,  but  Protocorinthian  material  confirms a C 8s Greek  presence  (Rizza  ( 1980\\xad81)  769,  pl. 186.1\\xad2,(1981)  316, figs. 4\\xad6),  and  there  are  remains  of  C 6  habitation  structures (Giudice  et al.( 1979)  139\\xad40).  Traces  of  C 8  habitation  have been  revealed  below  the  acropolis  near  the  ancient  coastline (A.  Patanè  ( 1993\\xad94)  907),  and  the  size  and  location  of  the ancient  harbour  are  reviewed  by  Lagona  ( 1996).  In the  later Classical  period  the  habitation  area  incorporated  also  the lower  plateau,  probably  with  an  agora  located  on  the  site  of the  later  Roman  forum  close  to  the  theatre  and  odeion.The theatre where  the  ekklesia  met  in  415  (Frontin.  Str. 3.2.6)  was located  on  the  southern  slopes  of  the  plateau.  Remains  date mainly  from  the  Roman  period,  but  its  size  (seating  capacity c. 7,000)  may  reflect that of  the  Greek  theatre  (Mitens  ( 1988) 100\\xad3;  TGR  ii. 428\\xad30,C5?).  The  few  Greek  remains  are  from C 5  (Anti  ( 1947)  125,  128;  Bacci  ( 1980\\xad81a)).  The  adjacent Roman  odeion  may  also  have  had  a  Greek  predecessor,  possi- bly  a  bouleuterion  (proximity  of  theatre and  bouleuterion  is known  from  other  sites;  cf.  Kolb  ( 1981)  88). On  the  southern  slope  of  the  acropolis  a  rich  C 6\\xadC4 votive  deposit  has  revealed  a  sanctuary.  The  cult  of  the  early phase  may  have  been  that  of  Hera,  although  the  evidence  is tenuous.  The  votive  terracottas  show  that  from  C 5  the  cult was  that  of  Demeter  and  Kore,  with  whom  Hieron,  as  a Deinomenid,  had  special  bonds  (Rizza  ( 1960),  ( 1996)  12\\xad13, pl. 1;  Hinz  ( 1998)  161\\xad63). The  central  area  of  the  Roman  city  may  suggest  the approximate  extent  of  the  Greek  city.  To  the  west  this  was delimited  by  the  acropolis,  to  the  north  by  the  C 6l\\xadC5e cemetery  (Orsi  ( 1918)),  to  the  north-east  by  the  river Amenanos,  and  to  the  south-east  by  the  sea,  in  all  occupying an  area  of 75\\xad100  ha  (cf.  Rizza  ( 1996)  11\\xad12).  According  to Thuc. 6.51.1  (r 415),  the  city  had  a  circuit  wall,  destroyed  in 403  by  Dionysios  (Diod. 14.15.2\\xad3). Katane  began  striking  coins  rather  late  compared  with other  Sicilian  poleis,  perhaps  due  to  political  or  economic dependence  on  Naxos  (Manganaro  ( 1996a)  29):  minting started  c. 461  on  the  Attic  standard  (with  denominations based  on  the  tetradrachm)  at  the  time  of  the  return  of  the former  inhabitants  relocated  by  Hieron  to  Leontinoi  (for  a survey  of  the  coinage,  see  Manganaro  ( 1996b)).  The  types are  obv.  man-headed  river-god  Amenanos  crowned  by  a  fly- ing  Nike;  rev.  Nike  running  and  holding  a  wreath  or  fillet, legends: ,  or,  more  rarely, (Manganaro  ( 1996b)  307\\xad8;  SNG  Cop. Sicily 174\\xad75).  These  issues  are  sometimes  thought  to  pre- date  476  (Head,  HN ²130,  followed  by  Marotta  D\\'Agata  et al. ( 1987)  156),  but  there  is  greater  consensus  for  dating  them  as an  inauguration  issue,  to  461  (Stazio  ( 1978)  191,  194; Manganaro  ( 1996b)  305).  After  C 5m  the  obv.type of the  tetradrachms,  a  quadriga,  reveals  the  influence of Leontinian  and  Syracusan  issues;  rev.  head  of  Apollo,  leg- end: ,  from  C 5l  (Manganaro  ( 1996b)  309;  SNG  Cop.  Sicily 176\\xad79).  From c. 402  tetradrachms  were  signed  by  the  engravers Herakleides  and  Euainetos:  obv.  Apollo  en face;  rev.quadri- ga,  legend: (Manganaro  ( 1996b)  309\\xad10; SNG  Cop.  Sicily 180).  Varied  issues  of  lower  denominations c. 450\\xad402  are  based  upon  drachms  and  fractions  (types: quadriga,  head  of  Amenanos,  Silenos,  bull)  and  upon  the litrai  and  fractions  (types:  Silenos,  stylised  thunderbolt)  (C. Boehringer  ( 1982);  Manganaro  ( 1996b)  308,  310\\xad11;  SNG Cop.  Sicily 181\\xad84)).  The  earliest  bronze  coinage  is  dated c. 405  (Manganaro  ( 1996b)  311);  coins  with  rev.  butting  bull were  probably  minted  by Mamerkos  and  the  Campanian mercenaries  settled  at  Katane  by  Dionysios  between  403  and 396  (Manganaro  ( 1996b)  312\\xad13;  SNG  Cop.  Sicily 184). Timoleontic  issues  follow  in  C 4m:  obv.  head  of  nymph;  rev. man-headed  bull,  Amenanos  (Manganaro  ( 1996b)  313). A  group  of  C 5l  hemidrachms,  obv.  head  of  Apollo,  legend: ;  rev.  butting  bull,  legend: ,may be evidence  of  collaboration  between  Leontinoi  and  Katane  in the  face  of  Syracusan  pressure  in  404\\xad403  (Manganaro ( 1996b)  311\\xad12;  C.  Boehringer  ( 1998)  51),  or--perhaps rather--it may be an issue of  the  Campanian  mercenaries settled  in  Katane  by  Dionysios  I  in  403;  in  that  case  the  leg- end may  attest  to  Leontinian  dependence  upon Katane  (Kraay  ( 1976)  229;Corretti et al.( 1990)  532).',\n",
       " '31. Kentoripa ': \"(Kentoripinos) Map  47.  Lat. 37.35,long. 14.45.  Size  of  territory:  ?  Type:  C: .  The  toponym  is ,  (Thuc. 6.94.3;Polyb.  1.9.4;Strabo 6.2.4)  or ,  (Ptol.  Geog. 3.4.7).  The  city-ethnic  is in  Thuc. 7.32.1  and on  C 4  coins (infra)  and  in  Diod. 13.83.4,  14.78.7,etc. sikelia  207 Thuc. 6.94.3  calls  Kentoripa  a  µ ;  it  is called  a  polis  in  the  urban  sense  at  Diod. 16.82.4  (r 339),where the  political  sense  is  possibly  a  connotation.  Politai  is  found in  Porph.  De  vita  Pythag. 21  (rC 6l)  (  Aristox.  fr. 17,Wehrli). The  internal  collective  use  of  the  city-ethnic  is  found  on  C 4 coins  (infra),  and  the  external  collective  use  in  Thuc. 7.32.1, Porph.  De  vita  Pythag. 21  (rC 6l)  (  Aristox.  fr. 17,  Wehrli) and  Diod. 13.84.4  (rC 5l). Thuc. 6.94.3  describes  Kentoripa  as  a  Sikel  community; and  it  is  implicitly  described  as  Sikel  at  Diod. 14.78.7  (r 396). A  claim  or  pretension  to  Greek  identity  may  be  implied  by the  Greek  names  of  its  Classical  rulers  (Damon,  Nikodemos; infra)  and  Greek-style  coins  were  issued  by  the  Timoleontic refoundation  (infra). At 6.94.3,  Thucydides  relates  how  in  414  the  Athenians won  over  Kentoripa  by homologia,  and  at  7.32.1  the Kentoripes  are  described  as  Athenian  symmachoi  in 413.In 396,  Damon,  the  ruler  of  Kentoripa,  made  a  syntheke  with Dionysios  I  (Diod. 14.78.7);  this  Damon  may  possibly  have been  appointed  proxenos  by  Athens  (no. 361)  (IG ii²  32 ( 385/4)).  Reception  of  a  presbeia  from  Akragas  (no. 9)  is attested  at  Diod. 13.83.4  (rC 5l).  A  meeting  of  the  ekklesia  is attested  by Diod. 13.83.4  (rC 5l). Porph.  De  vita  Pythag. 21  (rC 6l)  (  Aristox.  fr. 17,  Wehrli) refers  to  a  tyrant  by  the  name  of  Simichos  who  renounced  his rule  upon  becoming  a  Pythagorean.  At  Diod. 14.78.7  (r 396)  a Damon  is  described  as   ,  and  at 16.82.4  (r 339),  a  Nikodemos  is  described  as   and  is  said  to  have  been  ousted  from  his  city  by Timoleon,  who  gave  Syracusan  citizenship  to  its  freed  inhab- itants  (ibid.).  The  phrase  used  by  Diodorus,  ,  suggests  to Moggi,  Sin. 357  that  the  inhabitants, along  with  those  of  Agyrion  (no. 7),  were transferred  to Syracuse;  Agyrion  was  later  assigned  new  citizens  (Diod. 16.82.5),  and  so  presumably  was  Kentoripa,  although  this  is not  explicitly  stated.  A  Timoleontic  refoundation  is,  howev- er,  reflected in the striking of  a  new  coinage  (infra)  and  in craft  production  of  Greek  type  (R.  P.  A.  Patanè  ( 1992)  69,  73). The  archaeological  evidence  from  the  city's  Hellenised phase  is  mainly  C 4s  and  Hellenistic,  but  urban  remains  are few  (Marotta  D'Agata  and  Rizza  ( 1987)  esp. 236\\xad38; R.  Patanè  ( 1988)). Bronze  litrai  were struck  briefly under T imoleon  after  the ousting  of  Nikodemos  in  339/8  (cf.  R.  P.  A.  Patanè  ( 1992)  69): obv.  head  of  Kore  surrounded  by  dolphins  (so-called Euainetos  type,  taken  over  from  Syracuse);  rev.  leopard, legend: (Head,  HN ²135;  SNG  Cop. Italy 209).\",\n",
       " '32. Kephaloidion ': '(Kephaloiditas) Map  47.  Lat. 38.00, long. 14.00.  Size  of  territory:  ?  Type:  C: .  The  toponym  is ,  (Diod. 14.56.2;C5l\\xadC4e  coins,  infra);  or (Archestratos  of  Gela  fr. 35.6,  Olson  and  Sens; Strabo  6.2.5);  Ptol.  Geog. 3.4.3  has , .  The  city-ethnic  is  (C 5l\\xadC4e coins,  infra);  schol.  Theoc.  Id. 1.118b  gives  . No  source  calls  Kephaloidion  a  polis  (though  at Diod. 20.56.3  (r 307)  may  mean  \"this  polis\";  a  chora  is  referred to at  Diod. 20.77.3  (r 306));  it  is  included  here  on  account  of  a coinage  presumably  struck  by/in  the  community  and  on  sty- listic  grounds  dated  to  C 5l\\xadC4e  (Cutroni  Tusa  and  Tullio ( 1987)  211).  Both  silver  (drachms,  hemidrachms  and  litrai) and  bronze  coins  were struck:  obv.  head  of  Herakles;  rev. butting  bull  (from  C 4m  replaced  by  a  Pegasos  on  bronzes). The  legends  are  unusual  and  difficult t o  interpret;  the  follow- ing  variants  are  found:  (a)  obv.  ,  rev. ;  (b)  obv. ,  rev. ;  (c) .  While  (c) can  be  interpreted  as  an  ordinary  legend  of  a  civic  coinage  of Kephaloidion,  (a)  and  (b)  seem  to  involve  a  foreign  group,  the Herakleiotai,  of  unknown origin.  Ek  Kephaloidiou  of  (a) probably  means  \"based  on  Kephaloidion\"  (Kraay  ( 1979)  29) and  suggests  that  the  Herakleiotai  had  been  admitted  to Kephaloidion  as  a  group;  the  double  legend  of  (b),  naming both  the  Kephaloidians  and  the  Herakleiotans,  suggests  that the  latter  had  been  admitted  to  citizenship  by  a  block  grant but  kept  their  individual  identity;  this  would  suggest  that Kephaloidion  was  a  polis  at  the  time  of  the  minting  of  these coins  (Head,  HN ²  118;  Consolo  Langher  ( 1961);  Cutroni  Tusa and  Tullio  ( 1987)  210\\xad11).  (Bernabò  Brea  ( 1975)  24\\xad29  assigns the  issues  to a  period  of  autonomy,  independent  from Carthaginian  rule,  after  the  treaty  with  Himilkon  (infra);  cf. also  Jenkins  ( 1975)  92\\xad99  for  a  downdating  of  some  of  the issues  to  the  period  of  Timoleon.) Kephaloidion  was  originally  a  settlement  located  on  the confines of  Himeraian  and  Sikel  territories.  In  396,Himilkon of  Carthage  concluded  a  treaty  of  friendship  with  Himera and  \"those  settled  at  the  phrourion  of  Kephaloidion\"  (     :Diod.  14.56.2). Whether  these  latter  were  Greeks  is  not  clear,  but  they  were presumably  not  Himeraians.  At  Diod. 14.78.7  (r 396) Kephaloidion  is  implicitly  described  as  Sikel,  but  the  Greek-style  coinage  discussed  above  suggests  Hellenisation; it  was  captured     by  Dionysios  I  in  396 (Diod. 14.78.7)  and  is  not  met  with  again  before  the  time  of  Agathokles  (Diod. 20.56.3  (r 307),  77.3  (r 306)).  The  archae- ological  evidence  at  the  site  is  mainly  Hellenistic,  but  the 208 fischer-hansen,  nielsen  and  ampolo massive  circuit  wall  in  polygonal  technique  may  go  back  to C 4;  the  layout  of  the  mediaeval  city  may  in  its  main  lines coincide  with  that  of  the  ancient  city  (Cutroni  Tusa  and Tullio  ( 1987)  211\\xad14).',\n",
       " '33. Leontinoi ': '(Leontinos) Map  47.  Lat. 37.15,long.  15.00. Size of  territory: 4.Type:A: .The toponym is (IG i³  54.1;  Thuc. 6.3.3).  The  city-ethnic  is  (Thuc. 3.86.2\\xad3). Leontinoi  is  called  a  polis  both  in  the  urban  sense  (Thuc. 5.4.3\\xad4;  Hdt. 7.154.2)  and  in  the  political  sense  (Thuc. 3.86.2; Arist.  Pol. 1316a35\\xad39).  The  territorial  sense  is  a  connotation at  Thuc. 5.4.3,and  the  political  sense  is  a  connotation  at  Hdt. 7.154.2  (cf.  Hansen  ( 2000)  175\\xad76,  205).  Politai  is  used  at Thuc. 5.4.2,and  so  is  demos.  The  internal  collective  use  of  the city-ethnic  is  attested  on  C 5f  coins  (infra),  and  the  external collective use  by Hdt. 7.154.2,  Thuc. 5.4.2  and  IG i³  54.18 (C 5m).  The  external  individual  use  of  the  ethnic  is  found  at Xen.  An. 2.6.16,  Pl.  Ap. 19E  and  CEG 2830.1  (C 4f). Leontinoi  was  one  of  the  early  Chalkidian  colonies  in Sicily,  founded  by  Chalkidians  from  Naxos  under  the  lead- ership  of  Theokles  five y ears  after  the  foundation  of Syracuse  (i.e.  traditionally  729:  Thuc. 6.3.3;  cf.  Hellan.  fr. 82). However,  Theokles  can  hardly  have  been  the  oecist  of Leontinoi,  as  well  as  Naxos  (cf.  Leschhorn  ( 1984)  12). Leontinoi  is  the  only  primary  colony  of  the  Greek  West situated  inland.  According  to  Strabo  6.2.7,  the  territory  ( , Thuc. 5.4.2; ,Diod.  5.8.2)  of  Leontinoi,  called  (Thuc. 5.4.4,  6.65.1)  or   / (Theopomp.  fr. 225a.60;Diod.  4.24.1),  belonged  to the  Naxians;  this  must  refer  to  the  Naxian  origin  of Leontinoi.  The  territory of  Leontinoi  probably  encom- passed  most  of  the  modern  plain  of  Catania,  about  400  km ². It  is  not  possible  to  define a borderline between K atanaian and  Leontinian  territory.  The  sources  stress  the  beauty  of Leontinoi\\'s  chora  (Diod. 4.24.1)  and  the  importance  of  grain crops  (Diod. 14.58.1  (rC 4e)).The  north  gate  of  Leontinoi  led to  the  Leontine  plain  (Polyb. 7.6).The  Chalkidian  dominion reached  far  inland  along  the  Simeto  and  the  Dittaino  river valleys,  possibly  as  far  as  Monte  San  Mauro,  Grammichele, Morgantina  and  Kenturipe  (Procelli  ( 1989);  see  Katane  (no. 30)). The  population  history  of  Leontinoi  was  eventful:  accord- ing  to  Thuc. 6.4.1,  the  group  of  Megarians  led  by  Lamis  who eventually  founded  Megara  (no. 36)  for  some  time  lived  as citizens  ( µ) at Leontinoi but were expelled ( ).In 476,Hieron of  Syracuse  transplanted  the  pop- ulations  of  Naxos  (no. 41)  and  Katane  (no. 30)  to  Leontinoi (Diod. 11.49.2).After  the  Congress  of  Gela  in  424,new  citizens (politai)  were  enrolled  in  Leontinoi,  and  the  demos  contem- plated  a  redistribution  of  land.  The  result  was  civil  war,  in which  summoned  the  Syracusans.  The  demos  was expelled,  whereas     moved  to  Syracuse  (no. 47), where  they  obtained  citizen  rights,  although  \"later\" ( ) some returned to the old city (Thuc.  5.4.2\\xad4;  cf. Dreher  ( 1986)).  Leontinoi  ceased  to  be  a  polis,  and  its  site  was turned  into  a  phrourion  of  Syracuse  (Diod. 12.54.7);  the Athenians  had  the  refoundation  of  Leontinoi  as  one  of  their principal  alleged  motives  for  undertaking  the  expedition  to Sicily  in  415  (Thuc. 6.33.2,  48.1,  etc.).  In  405/4  Leontinoi  was resettled  by  citizens  of  Gela  (no. 17)  and  Kamarina  (no. 28; Diod. 13.113.4),  and  the  treaty  concluded  that  year  between Dionysios  I  and  Carthage  stipulated  that  like,  e.g.,  Gela,  the city  was  to  be  autonomos,  and  this  must  have  meant  the refoundation  of  the  city  (Diod. 13.114.1).  Two  years  later ( 403/2),  Dionysios  conquered  Leontinoi  and  moved  all  its inhabitants  to  Syracuse  (Diod. 14.14\\xad15);  in  396  Dionysios resettled  Leontinoi  with,  allegedly, 10,000  mercenaries  (Diod. 14.78.2).  In  339,  the  population  was  transplanted  to  Syracuse by  Timoleon  (Diod. 16.82.7). From  Thuc. 3.86.2\\xad3  it  appears  that  in  427  Leontinoi  had treaties  of  symmachia  with  \"the  Chalkidian  poleis\", Kamarina  and  Rhegion  (no. 68),  and  that  these  allies  were also  allied  with  Athens  (by  individual  treaties;  see  ML  63\\xad64 with  comm.),  and  that  they  were  capable  of  acting  as  a  body (HCT  ad  loc.on    µµ).  Thuc. 4.24.9  attests  to  a  treaty  of  symmachia  between  Leontinoi and  Naxos  in  425.  During  the  reign  of  Dionysios  II, Leontinoi  seceded  from  Syracuse  and  twice  resisted attempts  to  reconquer  the  city,  the  first b y  Philistos  in  356/5 (Diod. 16.16.1),  the  second  in  342/1  by  Timoleon  (Diod. 16.72.2). Leontinian are  mentioned  at  Thuc. 6.19.1. Several  wars  fought  by  Leontinoi  are  attested:  a  C 6  war  with Megara peri  ges  horon  is  referred  to by Polyaen. 5.47.1,  and  a C 5s  war  with  Syracuse  by  Thuc. 3.86.2.  Campaigns  are  men- tioned  at,  e.g.,  Thuc. 4.25.10,  and  a  µ  at  Thuc. 4.25.11.  The  C 7l\\xadC6e  tyrant  Panaitios served  as  polemarchos  (Polyaen. 5.47.1).  Leontinoi  was  con- quered  by Hippokrates  and  made  a  dependency  of  Gela (Hdt. 7.154.2)  c. 496/5  (Luraghi  ( 1994)  128\\xad29,  148\\xad50). Reception  of  envoys  is  attested  by  Diod. 14.14.3;  IG i³ 54.4\\xad6  (C 5s)  names  three  Leontinian  presbeis,  and  Gorgias was  sent  as  an  envoy  to  Athens  in  427  (Pl.  Hp.  mai. 282B). A  citizen  of  Leontinoi  served  as  theorodokos  of  Epidauros (no. 348)  in  356/5  (IG iv².195.ii.66). sikelia  209 In  the  Archaic  period  Leontinoi  was  sometimes  ruled  by  a tyrant;  two  are  mentioned  by  our  sources:  Panaitios,  who  in C 7l  changed  the  oligarchy  (Arist.  Pol. 1315b34\\xad37)  to  tyranny ek  demagogias  (Arist.  Pol. 1310b29,  1316a37;  Luraghi  ( 1994) 11\\xad20)  and  Ainesidamos  (Paus. 5.22.7).  A  C 6  stasis  between the  demos  and  the  ruling  oligarchs  is  reported  by  Polyaen. 5.47.1  and  another  stasis  in 424  between  the  dynatoi  and  the demos  by Thuc. 5.4.2\\xad3  (Berger  ( 1992)  25\\xad26).  Symbouleutic oratory  (en  toi  demoi)  at  Leontinoi  is  mentioned  by  Pl.  Hp. mai. 128A. The  urban  layout  of  Leontinoi  is  known  in  some  detail from  the  description  given  by  Polyb. 7.6.  The  defensive sys- tem  of  the  city  is  among  the  best  preserved  in  Sicily.  The  C 6 circuit  wall  enclosed  the  San  Mauro  and  Metapiccola  hills and  the  central  valley  with  gates  at  either  end  (Rizza  ( 1978); for  chronology,  see  Tréziny  ( 1986)  187;  for  the  fortification of the  Leontinian  acropolises,  cf.  Diod. 14.58.1  (r 396)).  The C 6e(?)  outer  ashlar  circuit  wall  of  the  east  and  south  side  of Colle  San  Mauro  crossed  the  narrow  San  Mauro  valley  with a  pincer-like  gateway  (the  Syracusan  gate  of  Polybios)  and continued  along  the  west  and  south  sides  of  the  Metapiccola plateau.  The  defences  were  destroyed  by  Hippokrates c. 496/5,  reconstructed  and  extended  in  C 5m  and  destroyed in  C 5l  (cf.  Diod. 14.14.4;  Rizza  ( 1955)  281\\xad88,  346\\xad76;  cf. Dreher  ( 1986)).  The  north  gate  has  been  identified in the substantial  remains  of  a  C 5  ashlar  wall  in  isodomic  tech- nique,  and  part  of  the  foundation  of  a  round  tower  was found  in  the  northern  outlet  of  the  San  Mauro  valley (Martin  et al.( 1979)  585;  Spigo  ( 1980\\xad81a)  794).  The  city  was walled  again  in  356/5  (Diod. 16.16.1)  and  besieged  in  342/1 (Diod. 16.72.2).  A  theatre  is  attested  in  C 4m  (during  the reign  of  Dion)  when  it  housed  a  meeting  of  the  assembly (Plut.  Dio 42.8\\xad43.1). Archaeological  evidence  (habitation  structures  and abundant  C 8\\xadC7  ceramic  material)  has  revealed  a  first Greek  habitation  phase  on  the  Colle  San  Mauro.  There  are indications  of  an  initial  close  relationship  between  Greek and  Sikel  settlers  (Rizza  ( 1962),  ( 1978)).  The  C 7\\xadC6  settle- ment  phase  incorporated  also  the  Metapiccola  hill,  and  the total  extent  of  the  two  plateaux  with  the  central  valley  with- in  the  C 6  circuit  wall  was  about  40  ha.  There  are  remains  of terraced  houses  on  the  western  slope  of  the  Metapiccola  hill overlooking  the  San  Mauro  valley  (corroborating  the description  given  by  Polybios).  These  are  mainly Hellenistic,  but  they  have  a  C 7  phase  (Rizza  ( 1980\\xad81) 767\\xad68;  Spigo  ( 1980\\xad81a)  793\\xad94).  According  to  Thuc. 5.4.4, one  district  in  the  city  was  called  Phokaia.  Neapolis,  anoth- er  part  of  the  city,  was  attacked  by  Timoleon  in  342/1  (Diod. 16.72.1),  and  was  perhaps  originally  an  extra-urban  settle- ment  founded  by Hieron  in  476  to  house  the  inhabitants from  Katane  (no. 30)  and  Naxos  (no. 41)  (Diod. 11.49.2). According  to  Polyb. 7.6,  the  agora  was  situated  in  the  central valley,  as  were  the  law  courts,  dikasteria;  his  mention  of sanctuaries  on  the  city  plateaux  is  confirmed b y  the  archae- ological  evidence  (Barletta  ( 1983)  38\\xad45).Extensive C 5s\\xadC4e cemeteries  lay  on  plateaux  north  of  the  city,  at  some  distance from  it,  whereas  tombs,  spanning  the  Archaic  and Hellenistic  periods,  lay  just  outside  the  south  gate  of  the  city along  the  road  leading  to  Syracuse  (Martin  et al.( 1979) 585\\xad87;  Rizza  ( 1982)). From  the  evidence  of  the  coins,  Artemis  or  Demeter  (cf. Diod. 5.4.2)  and  Apollo  were  venerated  at  Leontinoi.  An external  collective  dedication  of  a  silver  phiale  at  Delos  is recorded in I.Delos 104.93  ( 366)  and  IG ii²  1643.21  (C 4m). The  earliest  coinage,  based  upon  the  Syracusan\\xadAttic standard,  was  issued  in  connection  with  Hieron\\'s  settlement of  the  inhabitants  of  Katane  and  Naxos  at  Leontinoi  in  476 (C.  Boehringer  ( 1998)  43\\xad44).  This  first series of tetradrachms  use  the  Syracusan  lambda  in  the  legend  and reveal  strong  Syracusan  stylistic  influence:  obv.quadriga and  Nike;  rev.  lion\\'s  head  (a  pun  on  the  city\\'s  name)  sur- rounded  by  four  grains  of  barley,  legend:  (C.  Boehringer  ( 1998)  pl. 10.1\\xad5,  7\\xad10,  etc.;  SNG  Cop.  Sicily 334\\xad37).  A  second  series,  from  c. 466,  have  similar  obv.but with  a  running  lion  in  exergue  (as  in  the  Syracusan \"Demarateion\"  coinage);  rev.  female  head  (Artemis  or Demeter),  or  head  of  Apollo  wearing  laurel  wreath,  legend: ,  (SNG  Cop.  Sicily 341\\xad43; C.  Boehringer  ( 1998)  pls. 10.14\\xad19,  11.30\\xad32).A  third  series  of tetradrachms  belong  c. 450:  obv.  laureate  head  of  Apollo;  rev. lion  head  surrounded  by  barley  grains,  legend: , ,  (with  Chalkidian  lamb- da,  cf.  Johnston  ( 1975);  SNG  Cop.  Sicily 346\\xad52; C.  Boehringer  ( 1998)  47,  pl. 11.33\\xad37,  etc.).  Lower  denomina- tions  carry  related  types,  and  on  rev.  of  litrai  a  naked  youth (river-god  or  Apollo)  offering  a  libation  at  an  altar  (SNG Cop.  Sicily 353\\xad57;  cf.  C.  Boehringer  ( 1998)  47\\xad48  for  the change  in  the  system  of  denominations  with  refs.  to  plates). The  issue  of  tetradrachms  may  have  continued  until  c. 415 (C.  Boehringer  ( 1998)  50\\xad51).  For  an  issue  of  hemidrachms possibly  indicating  collaboration  between  Leontinoi  and Katane  or  Leontinian  dependence  upon  Katane,  see  entry for  Katane.  Bronze  coins  were issued  from  c. 405  (SNG  Cop. Sicily 358\\xad61;  C.  Boehringer  ( 1998)  51\\xad52). Leontinoi  founded  the  colony  of  Euboia  (no. 15)  (Strabo 6.2.6)  at  an  unknown  site  in  the  Chalkidian  hinterland, 210 fischer-hansen,  nielsen  and  ampolo perhaps  as  early  as  C 8l  if  it  was  contemporaneous  with  the foundation  of  Mylai  (no. 38;  the  two  sites  are  coupled  by  Ps.-Skymnos  287\\xad88);  Euboia  seems  to  have  been  a  settle- ment  of  some  importance  in  C 5f,  since  it  was  worthy  of being  relocated  by  Gelon  (Hdt. 7.156.3;  Camassa  ( 1989a)).',\n",
       " '34. Lipara ': '(Liparaios) Map  47.  Lat. 38.30  long. 14.55.  Size of  territory: 2  (  size  of  island).  Type:  A: .  The  toponym  is ,  (SEG 37  414  (C 5f));  Antiochos  (FGrHist 555)  fr. 1; Thuc. 3.88.2;  cf. in  Polyb. 34.11.19,  where  the  plural \"die  Stadt  Lipara  [i.e.  in  contradistinction  to  the  island]  zu bezeichnen  scheint,  da  Polyb.  sonst  sagt\"(Ziegler in RE  xiii. 719;  cf.,  however,  Diod. 5.7.1  claiming  homonymity between  island  and  polis); is  said  by later sources  to  have  been  an  earlier  name  of (Callim. Hymn. 3.47;Strabo 6.2.10).  The  city-ethnic  is   (C 5s  coins,  infra;  Thuc. 3.88.2),  although  (  ) seems to have been used as well (SEG  37  414 (C 5f)). Lipara  is  called  a  polis  in  the  urban  sense  by  Antiochos (FGrHist 555)  fr. 1  Paus. 10.11.3  (r  time  of  foundation)  and Arist.  Mete. 367a6.  In  later  sources  Lipara  is  called  a  polis  in the  political  sense  at  Polyb. 1.21.5  and  in  the  urban  sense  at Diod. 14.56.2  (r 396).  The  internal  collective  use  of  the  city-ethnic  is  attested  by  C 5s  coins  (infra)  and  the  external collective use  in  Thuc. 3.88.2,Arist.  Mete. 367a6  and  presum- ably  on  the  C 5f  Liparan  dedication  at  Delphi  (Syll. ³14 (C 6l\\xadC5e)  SEG 34  405,  37  414;  cf.  BTCGI 9:  101ff).  The individual  use  of  the  ethnic  is  found  in  F.Delphes iii.4401 ( 315)  and  IG ii²  9214  (C 3e). Mythology  told  of  a  settlement  of  the  island  by  Liparos (Diod. 5.7.5),  who  founded  the  polis  and  was  joined  by Aiolos  (ibid.  and  4.67.4;  cf.  Hom.  Od. 10.1).  The  historical community  was  founded  by  apoikoi  from  Knidos  (no. 903; Thuc. 3.88.2;  Antiochos  (FrGHist 555)  fr. 1;Strabo 6.2.10;  cf. Hornblower ( 1991)  496).  However,  according  to Diod. 5.9.2\\xad5,  the  foundation  was  the  outcome  of  a  joint  Knidian- Rhodian  expedition  to  western  Sicily  under  the  leadership of  Pentathlos  of  Knidos,  in  the  fiftieth Olympiad,  i.e. 580\\xad576.  Pentathlos  was  killed  in  war  supporting  Selinous (no. 44)  against  Segesta,  and  the  leadership  of  the  group  was taken  over  by  Gorgos,  Thestor  and  Epithersides;  the  expedi- tion  found  at  Lipara  500  indigenous  inhabitants  of  Aiolos\\' line  whom  they  joined.  Antiochos  of  Syracuse  (FGrHist 555, fr. 1  as  preserved  in  Paus. 10.11.3),  while  agreeing  on  the  lead- ership  of  Pentathlos,  differs  inter  alia  from  Diodorus\\' account  in  naming  only  Knidians  as  colonisers  (as  does Thuc. 3.88.2),  and  in  stating  that  before  settling  at  Lipara  the expedition  had  founded  a  polis  at  Cape  Lilybaion  (Pritchett ( 1999)  98\\xad100),  from  which  they  were  expelled  by  Elymians and  Phoenicians.  For  the  role  of  Knidians  in  the  venture,  see also  the  C 5f  Delphic  dedicatory  inscription: [  ]    (F.Delphes ii.1142;  LSAG 351  n. 1;  Syll. ³14;  SEG 37  414;  Bernabò  Brea  and  Cavalier  ( 1991)  102\\xad3).  According to  the  Eusebian  chronology,  the  foundation  took  place  in 630/29,  but  Diodorus\\'  date  is  supported  by the  chronology of  the  votive  material  from  the  urban  sanctuary  and  by mortuary  evidence  (Bernabò  Brea  and  Cavalier  ( 1991)  137, 150). Lipara  was  the  centre  of  habitation  among  the  Aiolian Islands  (Thuc. 3.88.2:  \\'   µ    µ,    ),  of  which  there  were  seven in  all  (Diod. 5.7.1;Strabo 6.2.10),  known  also  as      (ibid.  and  1.3.10;Polyb.  1.25.4;Diod. 12.54.4,  14.103.2,  cf.  Syll. ³14).  Lipara  itself,  measuring  37.5 km ²,is  fertile  (cf. at Diod.5.10.3and at  Strabo  6.2.10),  and  there  is  sporadic  evidence  of  single farmsteads  and  agricultural  activity  from  C 6.However,the area  exploited  for  agricultural  purposes  was  not  limited  to Lipara  but  included  the  other  islands  (Thuc. 3.88.2;Diod. 5.9.4\\xad5);  Diodorus  gives  a  detailed  account  of  the  socio-eco- nomic  development  of  the  community,  referring  inter  alia to  such  institutions  as  syssitia,  absence  of  private  property and  close  community  control  of  the  agricultural  areas which  were publicly  owned  (ibid.  without  source reference). In 427/6  the  Liparaians  were  symmachoi  of  Syracuse  (no. 47),  and  in  that  year  the  Athenians  and  Rhegians  ravaged their  territory  (Thuc. 3.88.1\\xad4;Diod.  12.54.4).  According  to Diod. 5.9.4,  the  community  maintained  a  fleet which was manned  by  a  group  of  citizens  devoting  themselves  speci- fically t o  that  duty,  while  the  rest  were  occupied  with  agri- culture.  The  existence  of  a  fleet may also be inferred from the repeated  defeats  of  Etruscan  forces  (infra).  A  strategos  is attested  in  393  (Diod. 14.93.4).  The  Liparaians  fought  sever- al  wars  against  the  Etruscans,  at  least  until  the  battle  of  Kyme ( 474),  and  they  won  several  victories  which  were  commem- orated  by  monuments  at  Delphi  (Diod. 5.9.5;Strabo 6.2.10; Paus. 10.11.3;  cf.  Rota  ( 1973)  and  Colonna  ( 1984)),  dedica- tions  that  may  be  taken  as  evidence  of  extreme  wealth  on  the island  (Paus. 10.16.7).  At the  time  of  Hieron,  but  before  474, the  Etruscans  besieged  and  captured  Lipara  (Callim.  fr. 93, Pfeiffer;  Tzetz.  Chil. 8.889\\xad92).  In  396  Himilkon  occupied the  polis  of  Lipara  and  exacted  30  tal.  from  the  inhabitants (Diod. 14.56.2).  In  393  ( 396  according  to  Roman  chronolo- gy)  the  Liparaian  strategos  Timositheos  liberated  Roman ambassadors  taken  prisoner  by Liparaian  pirates  while  on sikelia  211 their  way  to  Delphi;  for  this  service  the  Romans  conferred on  Timositheos  the  right  of  public  hospitality  (Diod. 14.93). Lipara\\'s  relations  with  Delphi  seem  to  have  been  close: consultation  of  the  oracle  in  the  face  of  the  Etruscan  threat is  attested  by  Paus. 10.16.7;  in  C 5\\xadC4  the  city  put  up  votives and  dedicated  booty  taken  from  the  Etruscans  (Diod. 5.9.5; Paus. 10.11.3,  16.75;  cf.  Syll. ³14;  Rota  ( 1973)  and  Colonna ( 1984));  a  Delphic  grant  of  proxeny  to two  Liparaians  is recorded in F.Delphes iii.4401  ( 315),  and  Lipara  was  among the  cities  visited  by  the  theoroi  of  Delphi  in  C 3s  (Manganaro ( 1964a);  SEG 22  455,  col. 4.117). The  city  was  founded  on  a  promontory  c. 65  m  above  sea level;  the  \"acropolis\"  of  the  city  (a  modern  designation) comprised  habitation,  but  there  was  also  a  lower  city  on  the western  slope  of  the  \"acropolis\".  The  site  had  two  harbours, probably  north  and  south  of  the  promontory  (Diod. 5.10.1). The  circuit  wall  built  in  a  polygonal  technique  and  raised c. 500  enclosed  the  acropolis  and  part  of  the  lower  city;  how- ever,  the  exact  course  is  not  wholly  clarified (Bernabò B rea ( 1987)  20).  In  C 4f  the  perimeter  of  the  circuit  wall  was enlarged  to  incorporate  the  C 4  expansion  of  the  lower  city; the  new  wall  was  built  in  ashlar,  isodomic  technique  as  a double  curtain-wall  with  internal  fill, 3.80  m  wide,  strength- ened  with  towers  (ibid. 20\\xad23).The  most  extensive  cemetery with  c. 2,000  tombs  lay  to  the  north  of  the  city  (Bernabò  Brea and  Cavalier  ( 1991)  146\\xad54). No  Greek  remains  of  habitation  from  the  Archaic  and Classical  periods  are  extant,  but  early  Greek  presence  is  evi- denced  by  votive  deposits.  The  only  known  public  building is  the  C 4  prytaneion  (Diod. 20.101.2  (r 304)).  Votive  deposits testify  to  sanctuaries  within  the  urban  area  (Bernabò  Brea and  Cavalier  ( 1977)  89\\xad91).  Further  votive  deposits  delimit- ed  by  primitive  peribolos  walls  indicate  simple  temene. Sporadic  finds of  architectural  terracottas  testify  to  a  temple or  naiskos  (Bernabò  Brea  and  Cavalier  ( 1991)  139).  There  is evidence  of  suburban  sanctuaries,  one  probably  dedicated to  Demeter  (Bernabò  Brea  and  Cavalier  ( 1977)  133\\xad35;(1991) 158\\xad59). A  C 6m  inscription  restored  [] (Bernabò Brea and  Cavalier  ( 1977)  90)  may  testify  to  a  cult  of  this  mythical figure (cf.  Diod. 20.101.2  (r 304)  for  dedications  allegedly  set up  by  Aiolos  and  kept  in  the  prytaneion).  A  cult  of Hephaistos  is  adduced  from  C 5s  coins,  easily  explained  in the  light  of  volcanic  activity  on  the  Lipari  islands.  Coins  also testify  to  a  cult  of  Apollo.  A  C 4\\xadC3  dedication  probably attests  to  a  cult  of  Artemis  (Manganaro  ( 1979);Bernabò  Brea and  Cavalier  ( 1991)  90,158),and  there  is  epigraphic  evidence for  a  cult  of  Aphrodite  (Bernabò  Brea  and  Cavalier  ( 1991)  90; cf. 168  for  refs.  to  iconographic  testimonies).  A  cult  of Dionysos  is  sometimes  inferred  from  the  abundant  New Comedy  terracottas  (Bernabò  Brea  and  Cavalier  ( 1991) 161\\xad62). Lipara  struck  a  bronze  coinage  based  upon  the  litra from C 5s  (survey  in  Bernabò  Brea  and  Cavalier  ( 1991)  109\\xad21). The  obv.  depicts  a  male  head  with  helmet  or,  more  likely,  a pilos  and  therefore  Hephaistos;  rev.  ship\\'s  stern;  legend: ;  lower  denominations  lack  the  stern  (SNG Cop.  Sicily 1084\\xad85).  A  rare  issue  of  Lipara  and  Mytistratos with  the  legends  and suggests  some  agreement  or understanding  between  the  two  cities,  but  the  nature  of  this is  uncertain  (Bernabò  Brea  and  Cavalier  ( 1991)  112\\xad13).  A second  issue,  probably  of  C 4  rather  than  C 5l,  based  on  the litra but  of  reduced  weight,  with  lower  denominations,  has obv.  young,  naked  seated  Hephaistos  holding  hammer  and kantharos;  rev.  dolphin,  among  variants:  head  of  Apollo(?), rev.  legend: (SNG  Cop.  Sicily 1088\\xad96;for the  date,  see  Bernabò  Brea  and  Cavalier  ( 1991)  117\\xad18). Another  C 4  issue  may  indicate  cultural  and  political  kinship with  Taras  (Bernabò  Brea  and  Cavalier  ( 1991)  114).',\n",
       " '35. *Longane ': '(Longenaios) Map  47.  Lat. 38.05,long. 15.10.  Size  of  territory:  ?  Type:  C: .  The  forms  of  the  city- ethnic  suggest  such  forms  for  the  toponym  as  * or * ,  but  the  only  attested  form  is  ,in Steph.  Byz. 418.19,  who  gives  the  corresponding  ethnic  as ;  Steph.  cites  Philistos  (  FGrHist 556,fr.  38), but  for  which  detail  is  unclear.  The  city-ethnic  is in  IG xiv  319  (  IGDS  no. 200;  cf.  Hornbostel and  Hornbostel  ( 1988)  234),  a  C 5m  kerykeion  inscribed    µ µ();  it  is  on  C 5l  coins (infra). On  the  basis  of  Polyb. 1.9.7,  Longane  is  located  near  Mylai (no. 38),  and  the  river  Longane  (ibid.)  may  be  the  river Loitanos  of  Diod. 22.23.  The  city  has  been  tentatively  ident- ified w ith  the  considerable  remains  of  a  settlement  on Monte  Ciappa,  above  modern  Rodi  and  Milici,  where  C 5 evidence  of  Hellenisation  is  found  in  the  form  of  ashlar technique  in  the  circuit  wall,  a  rectangular  building  complex outside  the  walls  (perhaps  a  sanctuary),  and,  finally,  mort- uary  evidence  (Ryolo  di  Maria  ( 1950\\xad51);  Massa  ( 1991); Bernabò  Brea  and  Carettoni  ( 2000)).  However,  other  sites with  urban  remains  have  been  put  forward  as  candidates  for the  site  (Wilson  ( 1988)  125). No  Archaic  or  Classical  source  calls  Longane  a  polis,but the  kerykeion  (supra)  and  the  Greek-style  coins  (infra)  sug- gest  that  it  was  a  polis  and  suggest  Hellenisation  as  well. 212 fischer-hansen,  nielsen  and  ampolo Longane  minted  bronze  litrai  from  C 5l,  a  date  suggested by  the  similarity  with  Geloan  coins  of  c. 415\\xad405:  obv. Herakles  wearing  lion  skin,  legend: ;  rev. personification of  river-god,  Longanos  (Jenkins  ( 1975) 99\\xad101;  Massa  ( 1991)  250\\xad51).  (Manganaro  ( 1984)  36\\xad37 argues  for  a  c.C 4m  date  for  this  coinage  and  therefore  reads the  legend  not  as  an  ethnic  but  as  an  adjective.)  If  Longane  is correctly  located  inland  somewhere  between  Milazzo  and Tyndaris  (no. 49),  its  coinage  is  virtually  the  only  coinage  in that  area.',\n",
       " '36. Megara ': \"(Megareus) Map  47.  Lat. 37.10,long.  15.10. Size of  territory: 4.  Type:  A: .  The  toponym  is  ,   (Thuc. 6.49.4,75.1),or  (Ps.-Skylax  13)  (it  is  unclear what  is  meant  by     at  Polyaen. 1.27.3  (r 483)); this  is  the  simple  name  which  is  qualified in different ways t o distinguish  it  from  Megara  Nisaia  (no. 225):  Thuc. 6.94.1  has      , and  Theopomp.  fr. 70  has   .  In  addition  to  the  toponym  proper,  the  plural  of  the  city-ethnic  may  be  used  to  designate  the  city  (in  contradistinction  to  the  community):  Thuc. 6.4.1:    (cf.Ziegler in RExv.1.206;see also HCT on  Thuc. 6.94.1).  According  to  Ephor.  fr. 137a/b  (as  para- phrased  by  Strabo  6.2.2  (a)  and  Ps.-Skymnos  264  (b)),  the original  name  was  (presumably  from  the  Sikel  king Hyblon  (Thuc. 6.4.1)).  The  city-ethnic  is  (Hdt. 7.156.2;  Philistos  (FGrHist 556)  fr. 5),  which  is  also  qualified in  different  ways  to  distinguish  it  from  the  ethnic  of  Megara Nisaia:    (Hdt 7.156.2;  cf.  Pl.  Leg. 630A);  Thuc. 6.4.1: `. Megara  is  called  a  polis  in  the  urban  sense  at  Thuc. 6.4.2 and  Ps.-Skylax  13;  Hdt. 7.156.2  does  not  explicitly  call  it  a polis  in  the  political  sense,  but  that  it  was  so  is  the  obvious implication  of  the  passage,  which  discusses  Megara  along- side  other  communities  that  were  obviously  poleis.  At  Thuc. 6.4.3  metropolis  almost  certainly  applies  to  Megara  Nisaia (no. 225)  (HCT  ad  loc.).  Pl.  Leg. 630A  uses  about one  of  its  citizens.  The  external  collective  use  of  the  city-eth- nic  is  found  in  Hdt. 7.156.2,  Philistos  (FGrHist 556)  fr. 5 (rC 6m)  and  Pl.  Leg. 630A. The  name  of  the  territory was  presumably  (cf. IvO 22.fr.ab.1  (C 6l)  with  Dubois  ad  loc.in  IGDS  p. 34;  cf. Diod. 4.78.1  and  Steph.  Byz. 588.7);  it  is  termed  at Thuc. 6.4.2  and at 6.94.1.  It  consisted  of  the  coastal  low- land  on  both  sides  of  the  city  facing  the  bay  of  Augusta  and was  demarcated  by  the  territories  of  Leontinoi  (no. 33)  and Syracuse  (no. 47),  i.e.  by  the  valleys  of  the  river  Porcaria (ancient  Pantakyas)  and  the  river  Anapo  (ancient  Anapos) respectively.  It  measured  c. 400  km ²  (Vallet,  Villard  and Auberson ( 1983)  149\\xad50;  De  Angelis  ( 1994)  92\\xad93). According  to  Steph.  Byz. 588.7,  Styella  was  a  phrourion  in  the territory  of  Megara  (cf.  Steph.  Byz. 645.4  citing  Philistos (FGrHist 556)  fr. 20).  Styella  has  been  tentatively  located  on the  western  confines of  Megara's  territory  (Bernabò  Brea ( 1968)  178\\xad79).  In  C 7l,  Megara  was  involved  in  war  with  Leontinoi;  it  was  fought  during  the  reign  of Panaitios  of  Leontinoi  (Polyaen. 5.47;  for  the  C 7l  date  of Panaitios:  Luraghi  ( 1994)  11\\xad14). According  to  Thuc. 6.4.1\\xad2  Megara  was  founded  by  a colonising  expedition  from  Megara  Nisaia  (no. 225)  led  by Lamis.  The  expedition  at  first settled at T rotilos  on  the  river Pantakyas,  whence  it  moved  on  to  Leontinoi  and  settled ( µ) there with the Chalkidians for a while;  it was,  however,  expelled  ( ) and went on to settle  at Thapsos.  Here  Lamis  died;  the  remnants  of  the  expedition left  Thapsos  and  founded  Megara  (  `)  on land  put  at  their  disposal  by  the  Sikel  king  Hyblon  (for  an analysis  of  the  textual  transmission  of  the  tradition  of  the Sikels  and  the  foundation  of  Megara,  see  Graham  ( 1988)). According  to  Thucydides  the  Megarians  were  driven  out  by Gelon  (in  483)  245  years  after  the  foundation,  giving  a  foun- dation  date  of 728,  thus  later  than  the  foundation  of  Syracuse.  A  different  tradition  was  followed  by  Ephor. fr. 137,  whose  account  is  preserved  in  Strabo  6.2.2  (and Ps.-Skymnos  264\\xad77).  According  to  this  tradition,  Megara (given  the  initial  name  of ) was founded ten genera- tions  after     by  the  same  expedition,  led  by Theokles  of  Athens,  which  also  founded  Naxos  (no. 41).  The Athenian  origin  here  ascribed  to  Theokles  (who  was  from Euboian  Chalkis  (no. 365))  undoubtedly  reflects later Athenian  claims  to  have  played  a  role  in  the  early  colonial enterprises  in  Sicily  (Bérard  ( 1957)  78\\xad79);  Theokles'  expe- dition  included  both  Ionians,  who  founded  Naxos,  and Dorians  (mostly  Megarians),  who  founded  Megara,  and according  to  Ps.-Skymnos  276\\xad77  this  double  foundation was  the  result  of  stasis  (along  ethnic  lines?)  among  the colonisers.  According  to Strabo  6.2.4,  the  foundations  of Megara,  Naxos  and  Syracuse  were  roughly  contemporary, but  a  group  of  Dorians  who  had  left  the  group  settling  at Megara  were  picked  up  by  Archias  and  joined  his  group  of colonists  in  founding  Syracuse;  so  in  this  tradition  the  foun- dation  of  Megara  preceded  that  of  Syracuse  (ibid.;  cf. Ps.-Skymnos  276\\xad77).  Archaeological  evidence  has  revealed Greek  presence  at  Megara  from  C 8m  (Villard  and  Vallet ( 1964)  15\\xad32)  and  therefore  contemporary  with  the  earliest Greek  presence  at  Syracuse  (Pelagatti  ( 1978c)  130\\xad33);  the sikelia  213 evidence  for  C 8m  Greek  contacts  in  the  hinterland  of Megara  at  Villasmundo  is  not  necessarily  associated  with  the foundation  of  the  colony  (Voza  ( 1973b)). A  C 6m  treaty  of  symmachia  with  Syracuse  is  attested  by Philistos  (FGrHist 556)  fr. 5,  and  Megarian  troops  assisted Syracuse  in  a  war  against  Kamarina.  In  C 5e  Megara  initiated a  war  against  Syracuse  (Hdt. 7.156.2)  but  with  disastrous results:  Megara  was  unable  to  withstand  a  siege  by  Gelon, partly  because  of  stasis  (Polyaen. 1.27.3),  and  c. 483  the  city had  to accept  terms  whereby  the  demos  was  sold  into  slavery whereas  the  pachees  were  relocated  to  Syracuse  and  received citizenship  there  (Hdt. 7.156.2);  Megara  ceased  to  exist  as  a polis,  its  site  lay  abandoned  in  415  (Thuc. 6.49.4),and  the  ter- ritory  was  held  by  Syracuse  (Thuc. 6.94.1).  The  city  must have  been  refounded  by  Timoleon  c. 338;  admittedly,  Megara is  not  specifically mentioned as a T imoleontic  refounda- tion,  but  archaeology  proves  a  refoundation,  which  must  be related  to  Timoleon's  programme  of  refoundations  (Talbert ( 1974)  149). We  know  next  to  nothing  of  the  type  of  constitution  at Megara.  A C 6  stasis  may  be  hypothesised  as  causing  the expulsion  of  citizens  received  as  exiles  at  Selinous  (IvO 22; IGDS  no. 28).  One  Diognetos  was  when  the  city  was attacked  by  Gelon  in  483  (Polyaen. 1.27.3).  The  term µ  in  IvO 22  (C 6l)  refers  to  a  magistracy  attested also  in  Megara  Nisaia  (no. 225)  and  other  Megarian  colonies (cf.  Dubois  on  IGDS  no. 28  fr.b. 5\\xad6  with  refs.);  however, from  the  context  it  is  not  discernible  whether  the  reference  is to Selinous  (no. 44)  or  to  Megara.  For  the  office in general, see  Asheri  ( 1979b)  490.  IvO 22  mentions  a  halia  ([h ] [];  Arena  ( 1989)  no. 52  fr.  h. 4;  Asheri  ( 1979b)),  but again  it  is  uncertain  whether  the  reference  is  to  Megara  and whether should  be  interpreted  as  an  ekklesia  or  as  a special  court  (Asheri  ( 1979b)  490).  IGDS  no. 20  is  a  lex  sacra of  C 6e. The  evidence  for  cults  is  meagre:  a  dedication  to  heroes theoi  (Arena  ( 1989)  no. 78)  and  an  uncertain  C 3  dedication to  Aphrodite  (Manni  Piraino  ( 1975)  150).  Apart  from  this there  is  the  indirect  evidence  of  a  C 6f  sacrificial law set up b y one  Pasaratos,  or  for  a  local,  otherwise  unknown,  hero Pasaratos  (SEG 26  1084  IGDS  no. 20;  cf.  Sartori  ( 1980\\xad81) 267).  Cf.  also  Manni  ( 1975)  190\\xad91  and  Vallet  ( 1991)  515  for numismatic  evidence  of  doubtful  provenance. Megara  was  founded  on  a  flat c oastal  plateau  of  c. 81  ha, previously  uninhabited.  Only  a  small  part  of  the  total  area  of habitation  has  been  investigated.  Soon  after  the  foundation the  urban  area  was  laid  out  with  habitation,  public  spaces and  main  lines  of  communication,  respected  by  the  later  C 7 urban  phase,  when  the  city  was  organised  according  to major  and  minor  transversal  axes  with  insulae  organised  in five districts laid out around a c entral  agora  (Vallet  et al. ( 1976)).  The  five districts may mirror different c ontingents among  the  early  settlers,  reflecting the five  komai  of  the metropolis  Megara  Nisaia  (Strabo  8.6.22;  cf.  Vallet  et al. ( 1983)  145\\xad46);  or  they  may  simply  be  the  successors  of  early scattered  habitation  areas,  each  with  public  spaces  and  sanc- tuaries  (Polignac  ( 1999)  227),  superseded  in  C 7l  by  a  cen- tralised  urban  layout  implying  standardised  modules  for  the habitation  lots  (Tréziny  ( 1999)).  The  earliest  habitation remains  are  C 8l  houses  of  a  type  known  also  at  Syracuse  and Naxos.  Yet  a  habitation  area  has  been  investigated  on  the southern  plateau,  c. 500  m  south  of  the  main  urban  area. Remains  of  a  gate  and  a  C 7m  double-faced  circuit  wall  in rough  stones  with  internal  fill,  strengthened  on  the  outside by  a  trench,  have  been  laid  bare.  C 8  habitation,  a  C 7  potters' workshop  and  a  sanctuary  of  C 7f\\xadC6  reveal  the  impressive extent  of  the  early  colony:  a  settlement  measuring  c. 60  ha (Broise  et al.( 1983);  Gras  ( 1984\\xad85);  Tréziny  ( 1999)  176\\xad79). On  the  assumption  that  about  half  of  this  area  was urbanised,  the  C 7  population  has  been  estimated  at  c. 2,000 (De  Angelis  ( 1994)  97\\xad99),  probably  a  much  too  pessimistic assessment  (Hansen  ( 1997b)  74  n. 153).  The  C 7m  circuit  wall was  replaced  in  C 6s  by  a  well-built  ashlar  wall,  of  which  a stretch  is  preserved  on  the  northern  side  of  the  city  and landwards  by  stretches  of  a  long  curving  wall,  in  all  c. 1,500 m,  with  semicircular  towers  on  the  outside  (Vallet  et al. ( 1983)  97\\xad101). The  C 6  building  near  the  agora,  unconvincingly  identi- fied as a prytaneion  (Vallet  et al.( 1983)  62\\xad69;  cf.  S.  G.  Miller ( 1978)  229\\xad30),  is  undoubtedly  a  public  structure;  another monumental  structure  from  c. 640  on  the  south  side  of  the agora  is  also  furnished  with  banquet  rooms  and  may  have had  a  public  function  (Vallet  et al.( 1983)  77\\xad81;  Kiderlen ( 1995)  14\\xad17,  215).  C 7s  stoas  lined  the  agora  on  its  north  and east  sides. A  number  of  sacred  buildings  were  located  adjacent  to,  or in  the  vicinity  of,  the  agora:  a  two-cella  heroon  facing  the agora  may  have  housed  a  cult  of  the  oecist  Lamis  (Vallet  et al. ( 1976)  209\\xad11,(1983)  62).  Two  C 7s  naiskoi,  one  with  an  inter- nal  row  of  columns  but  both  without  peristasis,  delimited the  agora  on  its  south  side  (Vallet  et al.( 1983)  48\\xad49,  69\\xad70); small  single-cella  temples,  naiskoi,  are known from  various locations  in  the  vicinity  of  the  agora  (Vallet  et al.( 1983)  44, 62;  Polignac  ( 1999)  215).  The  C 6e  Doric  temple  located  on the  central  part  of  the  plateau  (Orsi  ( 1921)  153\\xad76;  Villard and  Vallet  ( 1954)  13\\xad24)  and  C 6  temples  on  the  sea  front 214 fischer-hansen,  nielsen  and  ampolo reveal  a  belt  of  sanctuaries  encircling  the  habitation  area (Polignac  ( 1999)  216\\xad20;  for  sanctuaries  and  cults,  see  also Hinz  ( 1998)  141\\xad43).  The  Timoleontic  foundation  occupied primarily  the  north-eastern  corner  of  the  Archaic  city  and was  later  restricted  to  an  area  of 12  ha  by  the  C 3l  fortification erected  before  the  final destruction of  the  city  by  Marcellus in 213  (Livy  24.34.2).  Timoleon's  city  followed,  with  modifi- cations,  the  layout  of  the  Archaic  city,  the  agora  was  re- established,  and  sanctuaries  and  a  stoa  were  erected  in  the vicinity  (Vallet  et al.( 1983)  168\\xad74). The  Archaic  cemeteries  were  located  to  the  north,  west and  south  of  the  city:  the  graves  are  mainly  of  C 7\\xadC6  with very few  C 8  graves.  A  social  elite  is  indicated  by  rich,  monu- mental  cella  tombs  (Shepherd  ( 1995)  56\\xad60  with  refs.),  and social  differentiation  is  also  attested  by  Herodotos'  distinc- tion  between  the  demos  and  hoi  pachees  ( 7.156.2). Megara  did  not  issue  coins  during  its  Archaic  existence, and  the  attribution  of  a  silver  litra  inscribed  to  the Timoleontic  refoundation  (Head,  HN ²151)  is  far  from  universally  accepted  (Vallet  ( 1991)  515  with  refs.). Megara  was  the  metropolis  of  Selinous  (no. 44),  founded in 649  according  to Diod. 13.59.4,  or  in 628  according  to Thuc. 6.4.2.\",\n",
       " '37. Morgantina ': \"(Morgantinos) Map  47.  Lat. 37.25,long. 14.30.  Size  of  territory:  ?  Type:  C: .  The  toponym  is  ,  (Thuc. 4.65.1;  36.5.7); ,  (C 5m coins,  infra;Diod. 11.78.5);  or   (Diod. 14.78.7); Strabo  6.1.6  has ,  .  The  city-ethnic  is (C 4s  coins,  infra). Morgantina  is  called  a  polis  in  the  urban  sense  at  Diod. 11.78.5  (r 459),  where  the  political  sense  may  be  a  connota- tion.  The  internal  collective  use  of  the  city-ethnic  is  found on  C 4  coins. Most  scholars  have  identified M organtina  with  the Archaic,  Classical  and  Hellenistic  town  investigated  on  the c. 3  km-long  Serra  Orlando  ridge,  near  Aidone  (an  identifi- cation  based  mainly  upon  numismatic  evidence:  Dubois, IDGS  pp. 226\\xad27).  The  Classical  and  Hellenistic  city  occu- pied  the  lower  ridge,  whereas  the  Archaic  town  was  situated on  the  Cittadella  hill  which  rises  to  the  east,  and  which,  in itself,  consists  of  an  upper  acropolis  and  two  lower  plateaux. Morgantina  was  originally  a  non-Greek  community (Tsakirgis  ( 1995)  125;  Antonaccio  ( 1997)  168\\xad70),  and  at Diod. 14.78.7  (r 396)  it  is  implicitly  described  as  Sikel.  The Archaic  settlement  of  Morgantina  has  revealed  Greek  con- tacts  primarily  from  the  mid-sixth  century.  The  Cittadella and  adjacent  areas  have  yielded  valuable  evidence  of  sanctu- aries  and  naiskoi  of  Greek  type.  Foundations  of  a  mid-sixth- century  hekatompedon  have  been  excavated  on  the  upper plateau  and  a  rich  harvest  of  architectural  terracottas  found on  the  lower  plateaux  are  evidence  of  a  naiskos  in  this  part  of  the  Archaic  settlement  too  (Barletta  ( 1983)  49\\xad67; Antonaccio  ( 1997)).  A  fortification wall was added t o  the already  considerable  natural  defences  of  the  site  in  C 5e,  pos- sibly  in  response  to  the  expedition  of  Hippokrates  of  Gela (Sjöquist  ( 1973)  45\\xad46;  cf.  Hdt. 7.154). The  cemeteries,  situated  on  the  slopes  of  the  Cittadella hill,  have  revealed  clear  evidence  of  Greek  contacts  and acculturation  from  the  Archaic  period  (Lyons  ( 1996)). However,  tomb  typology  suggests  continuity  of  Sikel  culture,  albeit  with  some  Hellenisation  of  tomb  architecture and  typology,  and  Archaic  Morgantina  may  not  have  been  a mono-ethnic  community  (Lyons  ( 1996);  see  also Antonaccio  ( 1997)).  Architectural  terracottas  and  other remains  of  buildings  attest  to  important  C 6m\\xadC6l  religious structures,  some  in  Greek  style  (Barletta  ( 1983)  49\\xad67;for sanctuaries,  see  Hinz  ( 1998)  124\\xad34).A  survey  of  the  archae- ological  evidence,  with  bibliography,  is  found  in  Tsakirgis ( 1995);  cf.  also  Antonaccio  ( 1997).  By  c. 460,  Greek-style coinage  was  introduced  with  types  that  attest  to  Greek  cults (infra).  Moreover,  a kylix  of  c. 460  carries  an  inscription (SEG 38  949)  indicating  the  existence  of  Greek-style  civic subdivisions  (eikades). The  C 5e  destruction  phase  of  Morgantina  is  most  often linked  to  the  activities  of  Hippokrates  of  Gela  in  north- eastern  Sicily.  When  captured  and  refounded  by  Douketios in 459/8,  it  became  an  axiologos  polis  according  to Diod. 11.78.5.  The  new  settlement  on  Serra  Orlando  was  a  city founded  according  to  Greek  customs:  a  formal  urban  layout with  plateiai  and  stenopoi  has  its  origin  in  this  period, though  the  rich evidence  for  public  buildings  dates  primari- ly  to the  Hellenistic  period  (Bell  ( 1988)  314\\xad16;  Tsakirgis ( 1995)  126\\xad27).  The  acts  of  foundation  and  the  terminology employed  by  Diodorus  in  connection  with  Douketios'foun- dations  in  the  period  459\\xad458  are  similar  to  those  known from  Greek  colonial  foundations:  the  presence  of  an  oikistes, the  planning  of  an  urban  centre,  and  the  division  of  the chora  into  lots  (cf.  Rizzo  ( 1970)  58\\xad66;  Bell  ( 1984\\xad85)  505\\xad6; ( 1988)  320\\xad21). The  peace  concluded  between  the  Sicilian  cities  at  the Congress  of  Gela  in  424  implies  that  Morgantina  had  been within  the  sphere  of  influence of  Syracuse  prior  to 424 (Thuc. 4.65.1);  but  by  the  Peace,  Syracuse  (no. 44)  handed over  Morgantina  to  Kamarina  (no. 28)  in  return  for  a  speci- sikelia  215 fied payment (  ).Morgantina is next listed among  the  cities  taken  by Dionysios  I  during  his  campaign against  the  Sikels  in  396  (Diod. 14.78.7),  and  later  the  city  is mentioned  in  connection  with  the  war  between  Magon  and Dionysios  I  (Diod. 14.95.2). Morgantina  issued  an  unusually  rich  coinage  which  has been  divided  into  the  following  main  groups  by  Erim  (in Buttrey et al.( 1989)  3\\xad67):  ( 1)  silver  litrai  from  c. 465\\xad450,sty- listically  related  to  contemporary  litrai  of  Gela:  obv.  bearded head  wearing  taenia  (an  unidentified local divinity);  rev.  ear  of grain,  legend: (retrograde,  gamma  and rho  written  in  early  forms);  ( 2)  c. 370\\xad350:  tetradrachms  of Syracusan  type  with  legend  in  exergue on  rev.,  known  in  two  specimens  only;  ( 3)  silver  litrai,  three issues, 344\\xad317:(a)  1Œ  litra:  obv.  head  of  Athena  in  triple-crest- ed  helmet,  en face,  legend: ;  rev.  Nike seated  on  rock  (rev.  type  reveals  stylistic  affinities w ith  coins  of Terina),  legend  as  on  obv.:  SNG  Cop.  Sicily 471);  (b)  litra:  obv. female  head  in  profile (Persephone or A rtemis,  or  long-haired Apollo?),  legend: ;  rev.  horseman  in chlamys  thrusting  spear  (SNG  Cop.  Sicily 472);  (c)  a  rare  issue known  from  two  specimens,  a  variant  of  ( 3a)  above;  ( 4) bronze  coinage, 330\\xad317:(a)  obv.  head  of  Athena  in  Attic  hel- met,  legend: ;rev.lion devouring head of stag  (SNG  Cop.  Sicily 473\\xad74);  (b)  obv.  head  of  Sikelia(?)  or male  divinity;  rev.  eagle  standing  on  snake,  legend: , (SNG  Cop.  Sicily 475);  (c)  obv.  head  of  Apollo(?), legend: ;  rev.  tripod,  legend: .  The  latter issues  are  probably  Timoleontic  (Erim  in  Buttrey  et  al.  ( 1989) 14\\xad29;  Karlsson  ( 1995)  155,  166  n. 3(J)).\",\n",
       " '38. Mylai ': '(Mylaios) Map  47.  Lat. 38.15,  long  15.15.  Size  of territory: 2.  Type:  A: .  The  toponym  is  , (Hecat.  fr. 79  Steph.  Byz. 461.6;  Thuc. 3.90.2).  The  city-ethnic  is (SEG 24  313\\xad14  (C 5e);  Diod. 12.59.5). Mylai  is  described  as  a   `  ...  µ  in Ps.-Skylax 13  (cf.  Hansen  ( 2000)  198);  it  is  also  called  a  polis in  the  urban  sense  at  Diod. 14.87.3  (r 394)  and  by  Ps.- Skymnos  288  (r  time  of  foundation).  The  external  collective use  of  the  city-ethnic  is  found  in  SEG 24  313\\xad14  (C 5e)  and  in Diod. 12.54.4  (r 427). Even  so,  Mylai  is  often  thought  not  to  have  been  been  a polis  but  simply  a  fortified outpost ( phrourion)  of Zankle/Messana  (no. 51;  Ziegler  in  RE xvi:  1042;  Bernabò Brea  and  Cavalier  ( 1992)  118;  Dubois  in  IGDS  ad  no. 5). Certainly,  relations  between  Mylai  and  Zankle/Messana seem  to  have  been  close.  (a)  Mylai  was  founded  by  Zankle (Ps.-Skymnos  287;  cf.  Strabo  6.2.6)  in  716  (Euseb.  Chron.  sub Ol. 16.1).  (b)  Thuc. 3.90.2  describes  it  as  and  states  that          .  (c)  The  term phrourion  is  applied  to  the  site  in  Diod. 12.54.5  bis  (r 427)  and 19.65.3  (r 315).  Finally  (d),  Theophr.  Hist.  pl. 8.2.8  uses  the phrase          µ ,  which  seems  to  indicate  that  Mylai  was  conceived of  as  situated  in  the  territory  of  Messana  (so  Ziegler  in  RE xvi.  1042). However,  the  following  should  be  noted.  Re  (a),  the  report on  the  foundation  does  not  state  the  purpose  of  the  founda- tion  and  there  is  no  compelling  a  priori  reason  why  Mylai should  not  have  been  planned  as  an  ordinary  colony  and thus  as  a  polis;  but  even  if  it  is  assumed  that  it  was  planned  as a  military  outpost,  the  examples  of  Kasmenai  (no. 29)  and Akrai  (no. 10)  indicate  that  this  need  not  militate  against  its being  a  polis  (cf.  Hansen  ( 1997a)  36),  although  then  presum- ably  a  dependent  polis.  Much  more  importantly,  our  earliest sources  on  Mylai  are  two  dedications  of  spoils  by  Messana (no. 51)  at  Olympia  that  are  inscribed   (SEG 24  313\\xad14  (C 5e));  this  of  course  indicates military  confrontation(s)  between  Mylai  and  Messana  and that  \"Mylai,  at  least  before  being  defeated,  had  been  a  self- governing  community  and  undoubtedly  a  polis\"  (Hansen ( 2000)  198);  see  also  below  on  colonisation.  Re  (b  c),  the application  of  the  term phrourion  does  not  exclude  polis  sta- tus  for  Mylai  (cf.  Thuc. 8.62.3  describing  the  uncontroversial polis  of  Sestos  (no. 672)  as  a  phrourion),  and  in  fact  Diodorus varies  between  phrourion  ( 12.54.5,  19.65.3)  and  polis  ( 14.87.3). The  fact  that  Mylai  in  426  was  garrisoned  by  Messanian forces  indicates  close  military  collaboration  and  suggests again  that  Mylai  was  a  dependency  of  Messana,  as  does Thucydides\\'  phrase    .  Describing  the events  of 426,however,Diod.12.54.2  classifies the inhabitants of  Mylai  as  not  as  ,  and  this  indicates that  it  was  a  community  with  an  identity  of  its  own,  distinct from  that  of  Messana.  Re  (d),  the  fact  that  Mylai  may  have been  conceived  of  as  situated  in  Messanian  territory  does  not mean  that  it  cannot  have  been  a  polis,  since  small  poleis  situ- ated  inside  the  territory of  larger  poleis  are  a  well-attested phenomenon  (Hansen  ( 1997a)  31).  If  Mylai  was  thus  situat- ed,  this  may  help  to  explain  Thucydides\\'  statement  ( 6.62.2) that  Himera  (no. 24)  was  the  only  Greek polis  on  the Tyrrhenian  coast  of  Sicily  (a  statement  which  in  any  case  may refer  primarily  to north-western  Sicily),  since  a  dependent polis  inside  the  territory of  another  polis  may  have  counted  as a  polis  only  in  internal  matters  (Hansen  ( 1995)  73\\xad74).  To conclude,  the  Messanian  dedications  at  Olympia  indicate 216 fischer-hansen,  nielsen  and  ampolo that  Mylai  was  a  polis  in  C 5e,  and  Ps.-Skylax  that  it  was  still  a polis  in  C 4;  it  seems  to  have  been  a  dependent  polis  of Zankle/Messana,  and  it  is  conceivable  that  its  political  status may  have  been  subject  to  change  (Hansen  ( 2000)  198). Although  presumably  situated  in  the  territory of Zankle/Messana  (supra),  the  existence  of  a  separate  name--    (Polyb. 1.23.7)  or     (Polyb. 1.9.7)--indicates that at least b y  C 3m,  and  presum- ably  before,  Mylai  had  its  own  territory  (Hansen  ( 2000) 198).  The  size  of  Mylai\\'s  territory  is  uncertain,  but  the  fertile coastal  plain  east  and  west  of  the  city  comprises  about  75 km ².  The  border  with  Zankle  may  have  been  defined b y  the famous  sanctuary  of  Artemis  Phakelitis  located  somewhere east  of  Mylai  (Saporetti  ( 1979);  Bernabò  Brea  and  Cavalier ( 1992)  116;  cf.  also  the  entry  for  Zankle).  To  the  west,  Mylai bordered  upon  the  territory of  Tyndaris  from  396  (cf.  Strabo 6.1.2),  and  to  the  south-west  upon  the  territory  of  the indigenous  city  of  Longane. In 427  the  Athenians  occupied  Mylai,  forcing  upon  it  an alliance  against  Messana  (Thuc. 3.90.3:  µ).  In  394  the  Rhegians  settled  at  Mylai  those Naxians  and  Katanaians  who  had  survived  Dionysios  I\\'s exandrapodismos  of  their  cities  in  403  (Diod. 14.87.1).  Later the  same  year  the  city  was  captured  by  Messana,  and  the Naxians  (and  presumably  the  Katanaians)  were  allowed  to leave  hypospondoi  (Diod. 14.87.3). The  town of  Mylai  was  situated  on  a  high  promontory, the  acropolis  (mentioned  at  Thuc. 3.90.3)  crowning  the 6.5  km-long  alluvial  peninsula  joining  it  to  the  inland  plain. The  settlement  was  founded  on  an  indigenous  site.  The original  Greek  settlement  seems  to  have  occupied  only  the upper  plateau,  though  in  a  later  period  habitation  may  have progressed  to  the  slopes  below,  closer  to  the  sea  and  the  har- bour  known  from  the  sources  (Ps.-Skylax  13).  There  are  no structural  traces  of  the  Archaic  or  Classical  city,  nor  of  the defences  mentioned  by  Thuc. 3.90.3  ( µ,  cf.  the poliorkia  at  Diod. 12.54.4  (r 427)).  Mylai  was  still  fortified in C 4l  (Diod. 19.65.3  (r 315)).  The  cemetery  located  along  the principal  route  across  the  isthmus  took  over  the  site  of  the indigenous,  Bronze  Age  settlement.  The  earliest  tombs  are  of C 8l,thus  confirming the E usebian  date  ( 716)  for  the  founda- tion;  this  cemetery  continued  in  use  also  in  the  late  Archaic period  (Bernabò  Brea  and  Cavalier  ( 1959),  ( 1992)). According  to  Strabo,  \"the  Zanklaians  in  Mylai\"  founded Himera  ( 6.2.6:  `µ         (r648)).If  this  means  that  Mylai  was  the  metrop- olis  of  Himera  (no. 24),  it  will  support  the  suggestion  that Mylai  itself  was  a  polis  in  the  Archaic  period.',\n",
       " '39. Mytistratos ': \"(Mytiseratinos) Map  47.  Lat. 37.35,long. 14.00.  Size  of  territory:  ?  Type:  C: .  The  toponym  is  trans- mitted  as  in  Philistos  (FGrHist 556)  fr. 39  Steph.  Byz. 465.12;Polyb.  1.24.11  has , ,  and  Diod. 23.9.4 ,  (Diod. 23.9.4).  The city-ethnic  is  given  as  by  Steph.  Byz. 444.13; Steph.  explicitly  cites  Philistos  (  FGrHist 556)  fr. 39  for  this form,  but  presumably  wrongly;  cf.  Jacoby's app.  crit.  ad  loc. Mytistratos  is  called  a  polis  (in  the  urban  sense)  only  by Diod. 23.9.4  (r 258),  but  it  is  included  here  on  account  of  the Greek-style  coinage  (infra). Mytistratos  is,  on  numismatic  evidence,  identified w ith Monte  Castellazzo  di  Marinopoli.  The  few  C 6\\xadC5  and  C 4 urban  remains,  including  a  circuit  wall  built  in  an  ashlar technique,  are  classified as G reek;  the  later  phase  with  evid- ence  of  formal  layout  is  probably  Timoleontic  (Fiorentini ( 1992)  303\\xad4).  The  main  settlement  was  destroyed  in  C 3f, but  habitation  continued  on  an  adjoining  terrace.  Tombs  of the  investigated  cemetery  are  dated  to  C 4s  (Fiorentini  ( 1992) 302\\xad5). Three  series  of  C 4  bronze  coins  are  attributed  to Mytistratos,  the  first two probably T imoleontic:  ( 1)  obv. head  of  Hephaistos,  legend: ;  rev.  free  horse;  ( 2)  obv. head  of  Hephaistos;  rev.  wreath  and  pellets,  legend:  (retrograde).  A  coin  of  the  latter  series  carries  the  legends (sc.  Lipara  (no. 34);  retrograde)  and  on  rev.,  and  is evidence  of  C 4m  collaboration  between  the  two  cities  (cf. entry  for  Lipara).  The  third  issue  (C 4s):  obv.  head  of Hephaistos;  rev.  flowers,  legend: (Fiorentini  ( 1992) 301;  Karlsson  ( 1995)  165,  166).\",\n",
       " '40. Nakone ': '(Nakonaios)  Map  47.  Unlocated  (Tegon ( 1993)  159\\xad61).  Type:  C: .  The  toponym  is  ,  (Steph. Byz. 468.3  Philistos  (FGrHist 556)  fr. 26).  The  city-ethnic  is (C 5l  coins,  infra)  or  (C 4s  coins, infra;  SEG 30  1119.5  (C 4l\\xadC3m)). No  Archaic  or  Classical  source  calls  Nakona  a  polis,but it is  included  here  on  account  of  its  Classical  Greek-style coinage  (infra)  and  SEG 30  1119  (C 4\\xadC3),  a  Greek  decree  of Nakona  attesting  to  the  existence  of  a  citizen  body  (politai: l. 8),  a  boule  (l. 3),  and  an  assembly  (halia:l. 3),  etc.;  the  decree concerns  measures  taken  to restore  civic  order  after  a  period of  diaphora  (l. 10);  cf.  SEG 32  914  pp. 257\\xad58.The  internal  col- lective  use  of  the  city-ethnic  is  found  on  Classical  coins (infra)  as  well  as  in  SEG 30  1119.5. Nakone  minted  two  series  of  bronze  coins  from  C 5l (Head,  HN ²  159):  ( 1)  obv.  head  of  nymph,  legend: ;  rev.  Dionysos  seated  on  ass  and  holding sikelia  217 kantharos  (SNG  Cop.  Sicily,  Suppl. 71);  lower  denomination: rev.  goat;  C 4s  issues  in  a  period  of  Campanian  occupation have  been  associated  with  Timoleon  and  his  symmachia: ( 2a)  obv.  head  of  Demeter  or  Persephone,  legend: ;  rev.  free  horse,  legend: ; ( 2b)  similar  but  rev.  Pegasos  (Cutroni  Tusa  ( 1970)  256\\xad57; Tegon  ( 1993)  158\\xad59).',\n",
       " '41. Naxos ': '(Naxios) Map  47.  Lat. 37.50,long.  15.15.  Size  of territory: 4.  Type:  A: .  The  toponym  is  ,  (Thuc. 4.25.7,  6.3.1;  I.Delos 380.85  (rC 5);  cf.  Rutherford  ( 1998)  83). The  city-ethnic  is  (coins  c. 525,  infra),  or   (coins  c. 430,  infra;  Hdt. 7.154.2;  Thuc. 7.57.11). Naxos  is  called  a  polis  in  the  urban  sense  at  Thuc. 4.25.8,  9 and 6.3.1,  50.3,  and  it  is  listed,  with  Tauromenion,  as  a  polis Hellenis  by Ps.-Skylax  13,  although  presumably  it  no  longer existed  by  the  time  this  treatise  was  compiled  (cf.  Flensted- Jensen  and  Hansen  ( 1996)  137);  polis  in  the  political  sense  is found  at  Thuc. 7.14.2,  and  the  urban  and  political  senses  are combined  at  Hdt. 7.154.2  (cf.  Hansen  ( 2000)  205).  Patris  is found  at  Diod. 11.49.2  (r 476). The  internal  collective  use  of  the  city-ethnic  is  found  on coins  from  c. 525  (infra);  the  external  collective  use  is  found in  Hdt. 7.154.2  and  Thuc. 6.50.3  and  IG xi.2245b4  (rC 5;  cf. Rutherford  ( 1998)  82\\xad83).  Externally  and  individually  the ethnic  is  applied  to  the  oecist  Theokles  (Suda  s.v. :  ;  cf.  Bérard  ( 1957)  77  n. 1)  and  to  the Olympionikes  Teisandros  (Pind.  fr. 23,  Maehler). The  name  of  the  territory  is  unknown;  it  is  termed  at Thuc. 4.25.8.  Its  extent  is  not  fully  known.  However,  Naxian influence penetrated above all southwards across the Santa Venera  and  Alcantara  river  valleys,  as  borne  out  by  the  foun- dation  of  the  colonies  at  Leontinoi  (no. 33),  Katane  (no. 30) and  Kallipolis  (no. 27).The  site  of  Kallipolis  is  unknown,  but the  listing  of  the  city  with  Katane  and  Leontinoi  suggests  a location  either  in  the  coastal  plain  south  of  Naxos  or  on  the slopes  of  Mt.  Etna  (see  Kallipolis  (no. 27)).  The  rich  C 6\\xadC4 votive  deposit  from  the  Demeter  and  Kore  sanctuary  in  the otherwise  unknown  secondary  settlement  at  Francavilla c. 4  km  inland  along  the  Akesines  (modern  Alcantara)  river valley  has  revealed  Naxian  penetration  north-westwards (Spigo  ( 1989);  Spigo  and  Rizzo  ( 1993\\xad94);  Hinz  ( 1998) 156\\xad58).  To the  north  the  territory bordered  upon  that  of Messana,  by  whose  infantry  and  navy  Naxos  was  attacked  in 425  (Thuc. 4.25.7).  Naxos  may  have  had  a  sanctuary  or  a  secondary  settlement  also  on  the  higher  area  of  the  later foundation  of  Tauromenion  (no. 48)  (Bacci  ( 1980\\xad81b)  742, ( 1984\\xad85)  722\\xad23);  according  to Diod. 14.88.1,  the  original colonists  had  expelled  the  native  population  from  the  site  of Tauromenion. Naxos  was  the  earliest  Greek  colony  in  Sicily  (for  the sources  for  its  history,  see  Cordano  ( 1984\\xad85)).  It  was  foun- ded  by  settlers  from  Chalkis  (no. 365)  on  Euboia  one  year before  the  foundation  of  Syracuse,  i.e.  traditionally  735/4 (Thuc. 6.3.1;  cf.  Diod. 14.88.1),  and  the  traditional  date  (as well  as  ties  with  Euboia)  is  confirmed b y  ceramic  finds from the  earliest  period  of  settlement, 740\\xad730  (Pelagatti  ( 1981) 304\\xad11;  Lentini  ( 1993\\xad94)  1009).  The  oecist  was  Theokles (Thuc. 6.3.1).  The  primary  status  of  Naxos  is  borne  out  by the  tradition  that  the  theoroi  of  the  Sicilian  colonies  offered sacrifice in the sanctuary of  Apollo  Archegetes  at  Naxos before  setting  sail  from  Sicily  (Thuc. 6.3.1).  Ephor.  fr. 132  (cf. Ps.-Skymnos  273\\xad74)  describes  the  oecist  Theokles  as  an Athenian,  but  that  undoubtedly  reflects later A thenian claims  to  have  played  a  role  in  the  early  colonial  enterprises in  Sicily  (Bérard  ( 1957)  78\\xad79).  Later  sources  mention Ionian  and  Megarian  participation  (Ephor.  fr. 137).  Some  of the  settlers  may  have  come  from  Cycladic  Naxos  (cf.  Hellan. fr. 82).The  Cycladic  origin  of  some  of  the  settlers  is  support- ed  by  the  similarity  between  the  coin  types  used  by  Sicilian Naxos  and  by  Cycladic  Naxos,  above  all  the  prominence  of  Dionysos  (Leschhorn  ( 1984)  10  n. 7).  In  addition,  the  let- tering  of  the  Enyò  inscription  from  the  Scalià  sanctuary matches  that  used  in  Cycladic  Naxos  (Guarducci  ( 1985)). Naxos  was  subdued  by  Hippokrates  of  Gela,  who  took  the city  after  a  siege  (Hdt. 7.154).  In  476,  Hieron  of  Syracuse transplanted  the  population  of  Naxos  (and  Katane)  to Leontinoi,  where  they  were presumably  granted  citizenship (Diod. 11.49.2),  and  it  seems  that  he  settled  new  colonists  at Naxos  (Diod. 11.49.2:     , though  the  interest  here  seems  to  centre  on  Katane;  but  see infra).  The  expatriated  Naxians  presumably  returned  after Hieron\\'s  death,  as  did  the  Katanaians  (Diod. 11.76.3;  Asheri ( 1980)). According  to  Thuc. 3.86.2,  the  Chalkidikai  poleis  to which Naxos  belonged  were  symmachoi  of  Leontinoi  in  its  conflict with  Syracuse  in  427,  and  the  allies  seem  to  have  acted  as  a single  body  on  an  embassy  to  Athens  (no. 361)  (HCT  ad  loc.); Leontinoi  is  specifically named alongside  µµat Thuc.4.25.9in reference to Messana\\'s attack  on Naxos  in  425.  During  the  Athenian  attack  on  Syracuse, Naxos  was  allied  with  Athens  (Thuc. 7.14.2),  and  at  the  battle  of  Epipolai  at  Syracuse  in  414  hippeis  from  Naxos  supported  the  Athenians  (Thuc. 6.98.1;  cf. 7.57.11). In 403  Naxos  was  betrayed  by  one  of  its  own  citizens, Prokles,  described  as      µ,  and  so 218 fischer-hansen,  nielsen  and  ampolo presumably  a  military  commander.  He  surrendered  Naxos to  Dionysios  I,  who  subjected  the  city  to  an  exandrapodismos from  which  it  never  recovered;  the  chora  of  the  city  was handed  over  to  the  Sikels  (Diod. 14.15.2\\xad3).A  C 5  genos  of  the Amphikleidai  organising  Naxian  theoriai  to  Delos  is  argued by Rutherford  ( 1998).Naxian  survivors  were  settled  at  Mylai (no. 38)  during  the  conflict between Dionysios,  Rhegion (no. 68)  and  Messana  (no. 51)  in  394  (Diod. 14.87.3;  cf. McKechnie  ( 1989)  37),  but  had  to  find new homes after the Messanians  took  Mylai  (ibid.).  In  358  the  Naxians  were  final- ly  settled  at  Tauromenion  (no. 48)  by  Andromachos  (Diod. 16.7.1);  Tauromenion  had  been  a  site  in  Naxian  territory (supra),  but  was  constituted  as  a  Greek  polis  only  in  C 4f. Andromachos  himself  was  its  leading  citizen  when Timoleon  arrived  in  Sicily  (Diod. 16.68.8;Plut.  Tim. 10.6\\xad8); Marcellin,  Vita  Thucydidis 27  describes  him  as  exercising monarchia.  See  further  the  entry  for  Tauromenion.  Naxos itself,  however,  may  not  have  been  completely  abandoned: C 3  habitation  and  cult  activity  is  attested  there  (Pelagatti ( 1976\\xad77)  544\\xad45,(1980\\xad81)  706). So  far,  the  only  evidence  of  civic  subdivisions  at  Naxos consists  of  inscriptions  on  two  clay  bullets  with  patronymi- ka,  implying  citizen  groups  possibly  matching  a  system  of phylai  or  phratriai.  The  chronology  of  the  inscriptions,  of C 5e  and  C 5l,  indicates  continuity  of  this  civic  organisation from  before  until  after  the  period  of  Hieron  (Cordano ( 1988)). The  cult  of  Dionysos  was  of  major  importance  at  Naxos, as  shown  by  the  coin  types  (Cutroni  Tusa  ( 1984\\xad85)  296\\xad97) and  the  number  of  Silenos  antefixes (Pelagatti ( 1977)  50\\xad55). A  C 7l  cippus  carries  a  dedication  to  a  warrior-goddess  Enyò (Guarducci  ( 1985)),  and  other  evidence  points  to  a  cult  of the  armed  Athena  (Lentini  ( 1993\\xad94)  1016\\xad17). Teisandros  of  Naxos  was  victorious  four  times  at  the Olympic  Games  (Olympionikai 94  ( 572)  with  refs.)  and achieved  the  same  number  of  Pythian  victories  (Paus. 6.13.8). The  town  of  Naxos  was  founded  on  a  low  coastal  penin- sula,  Capo  Schisò,  and  material  from  the  initial  C 8l  habita- tion  phase  extend  over  an  area  of  c. 10  ha  (Pelagatti  ( 1981) 295\\xad97;  survey  in  Pelagatti  ( 1993);  bibliography  in  Lentini ( 1998)  99\\xad100).  The  earliest  evidence  of  urban  layout  is  of C 7,  with  main  street  axes  linking  the  central  part  of  the  city westwards  with  sanctuaries,  eastwards  with  the  harbour, and  northwards  with  a  kerameikos  (Pelagatti  ( 1981) 297\\xad302).  The  exceptional  character  of  habitation  near  the harbour  reveals  social  differentiation  (Lentini  ( 1984\\xad85) 815\\xad21). Though  a  stretch  of  a  Bronze  Age  fortification laid bare in the  Archaic  city  near  the  coast  (\"Castello  area\")  may  have been  reutilised  by  the  first G reek  settlers  (Lentini  ( 2001)  7), Naxos  was  apparently  not  fortified before C 6m  or  C 6l,prob- ably  as  a  result  of  the  threat  posed  by  the  expansion  of  Gela (no. 17)  in  north-eastern  Sicily  (Naxos  eventually  had  to accept  Geloan  hegemony  (Hdt. 7.154.2)).  The  walls,  built  in polygonal  masonry  with  the  use  of  local  black  lava  basalt rock,  are  preserved  on  three  sides:  along  the  river  Santa Venera  and  along  the  two  coastlines  of  the  peninsula;  north- wards  the  course  remains  to  be  clarified.  Gates  protected  by towers  were  located  in  alignment  with  streets  of  the  C 7  city which  covered  an  area  of  c. 35  ha.  The  earliest,  C 7l,  polygonal temenos  wall  of  the  sanctuary  south  of  the  city  may  have functioned  also  as  a  dyke  along  the  river  Santa  Severa (Pelagatti  ( 1964);  ( 1972);  Gras  ( 1998)).  Thuc. 4.25.8  attests  to the  existence  of  fortifications in  425  (Flensted-Jensen  ( 1995) 128);  the  fortifications w ere  destroyed  ( ) by Dionysios  in  403  (Diod. 14.15.2). The  conquest  of  the  city  by  Hippokrates  in  493  (Hdt. 7.154)  has  left  no  clear  traces  in  the  archaeological  record, apart  from  its  possible  reflection in a C 5e  structural  phase  of the  circuit  wall  (Lentini  ( 1984\\xad85)  813). It  is  not  entirely  clear  from  Diod. 11.49.1\\xad2  whether  he meant  to  imply  the  settlement  of  a  new  population  at  Naxos after  the  deportation  of  the  inhabitants  by Hieron  in  476, but  the  archaeological  evidence  attests  to  replanning  and resettlement.  The  Hieronian  city  was  laid  out  in  accordance with  a  unitary,  strictly  orthogonal  system  with  narrow  insu- lae  and  with  a  new  orientation  (Pelagatti  ( 1976\\xad77)  537\\xad43; Belvedere ( 1987)  with  refs.;  Lentini  ( 1998)  72\\xad86). Rectangular  bases  found  at  the  crossing  of  plateia  and stenopoi  have  been  interpreted  as  horoi  marking  the  confines of  city  districts  (Pelagatti  ( 1977)  44\\xad46)  or  as  altars (Spagnolo  ( 1991)  66  n. 78).  For  the  archaeological  evidence for  the  destruction  in  403  and  the  C 4e  history  of  Naxos,  see Lentini  ( 2002). An  agora  is  with  near  certainty  identified near the ancient harbour  in  the  north-eastern  corner  of  the  city  (Lentini ( 1993\\xad94)  1010\\xad12);  for  harbour  installations,  see  Pelagatti ( 1976\\xad77)  538,  Lentini  ( 1993\\xad94)  1009,  and  Blackman ( 1997\\xad98). A  C 7l  sanctuary  in  the  south-west  corner  of  the  city,  near the  estuary  of  the  river  Santa  Venera,  at  first w ithin  the urban  area,  was  superseded  by  a  C 6s  hekatompedon  outside the  city  wall.  Altars,  bases  for  votive  stelai,  and  ovens  for ceramic  production  go  back  to  the  early  phase  of  the  sanctu- ary.  The  identification of  the  cult  as  that  of  Aphrodite,  as  yet sikelia  219 uncertain,  rests  upon  the  testimony  of  App.  B.  Civ. 5.109,but the  river  Onobalas  mentioned  by  Appian  is  normally  taken to  be  the  river  Serina  or  Selina  near  Taormina  and  not  the river  Santa  Venera  (cf.  Ziegler,  RE xvi.2.  2078;  Valenza  Mele ( 1977)  504\\xad5).  Other  interpretations:  a  Heraion,  though with  no  clear  evidence  (pace  ibid. 505\\xad6);  sanctuary  of Apollo  Archegetes  (Guarducci  ( 1985)),  but  this  was  situated outside  the  city  according  to  Thuc. 6.3.1;  cf.  HCT  ad  loc.A location  for  the  Apollo  sanctuary  near  the  harbour  on  the north  side  of  the  peninsula,  closer  to the  C 8  phase  city,  seems most  logical  (Pelagatti  ( 1978a)  138;Valenza  Mele  ( 1977)  505), a  location  also  supported  by  App.  B  Civ. 5.109,which  situates the  altar  of  Apollo  north  of  the  city  near  an  anchorage.  At least  four  C 7\\xadC4  small  urban  shrines  were  located  within the  Archaic  and  Classical  city  (Pelagatti  ( 1977)  46\\xad48,(1981) 301,(1984\\xad85)  680\\xad83).  The  cults  of  these  are  uncertain.  An important  suburban  sanctuary  extended  over  a  vast  area west  of  the  city  across  the  river  Santa  Venera  (Lentini ( 1993\\xad94)  1012\\xad25,(1998)  87\\xad96).  There  are  remains  of  two shrines,  altars  and  votive  deposits  (prime  period:  C 6m).The two  shrines  were  protected  by  peribolos  walls  or  embank- ments.  The  architectural  terracottas,  of  local  production, indicate  richly  decorated  buildings. The  C 8l\\xadC5f  cemetery  was  situated  north  of  the  city (Pelagatti  ( 1980\\xad81)  697\\xad701;  Lentini  ( 1986)).  The  C 5  ceme- tery  is  located  west  of  the  city,  on  the  other  side  of  the  river Santa  Venera,  south-west  of  the  sanctuary  (Pelagatti ( 1976\\xad77)  544). Naxos  minted  coins  from  c. 525  on  the  Chalkidian\\xad Euboian  standard  (Cahn  ( 1944)).  The  main  denomin- ation  is  the  drachm,  the  smaller  denomination  the  obol (litrai)  (C.  Boehringer  ( 1984\\xad85)  113\\xad16):  obv.  head  of Dionysos;  rev.  bunch  of  grapes,  legend  on  both  denomina- tions:  the  ethnic  (SNG  Cop.  Sicily 485).  This  issue most  likely  terminated  in  493,  when  the  city  was  taken  by Hippokrates.  In  461,  when  the  expatriated  Naxians  (presum- ably)  returned  from  Leontinoi,  a  new  coin  type  was  commis- sioned:  a  magnificent t etradrachm  on  the  Syracusan\\xadAttic standard;  obv.  head  of  Dionysos;  rev.  squatting  Silenos,  leg- end: (Head,  HN ²  160;Kraay ( 1976)  pl. 44.756); lower  denominations  are  drachms  and  litrai  inscribed ,  (SNG  Cop.  Sicily 486\\xad92).  New  issues  in 430  carry  similar  types,  legend: ,  , (Head,  HN ²  160;  SNG  Cop.  Sicily 493).  The  last issue  of 403  has  obv.  Apollo  or  Silenos,  legend: ; rev.  river-god  Assinos  on  the  smaller  denominations  (Head, HN ²  160\\xad61;  SNG  Cop.  Sicily 495\\xad96).  Bronze  coinage  was introduced  c. 410  (Rutter  ( 1997)  152). Naxos  became  the  metropolis  of  Leontinoi  (no. 33)  and Katane  (no. 30)  shortly  after  its  own  foundation  (Thuc. 6.3.3);  other  sources  list  also  Kallipolis  (no. 27;Strabo 6.2.6) and  even  Zankle  (no. 51;  Ps.-Skymnos  286).',\n",
       " '42. Petra ': '(Petrinos) Map  47.  Unlocated  (cf.  Bejor  ( 1982) 825\\xad26,  830\\xad31;  Guletta  ( 1994)  495\\xad96;  Gargini  ( 1997)). Type:  C: .  The  toponym  is  (Ptol.  Geog. 3.4.7).  The city-ethnic  is  (C 4s  coins,  infra;  SEG 30  1121.19 (C 4l\\xadC3m);  Diod. 23.18.5).  Diod. 23.18.5  (r 254)  describes  the Petrinoi  as  in  possession  of  an  urban  centre,  implicitly described  as  a  polis.  Petra merits  inclusion  here  on  account of  its  C 4s  Greek-style  coins,  restruck  on  litrai  of  Dionysos  I: obv.  bearded  short-haired  male  head  (Zeus?),  legend: ;  rev.  seated  Aphrodite  playing  with  dove (Robinson  ( 1948);  Cutroni  Tusa  ( 1982b)  843\\xad44;  Karlsson ( 1995)  166  n. 3(L)).',\n",
       " '43. Piakos ': '(Piakinos) Map  47.  Unlocated,  but  possibly  to be  identified w ith  Mendolito,  near  Adranon  (Jenkins  ( 1975) 90;  Manni  ( 1981)  219;  see  also  entry  for  Adranon  (no. 6)). Type:  C: .  The  toponym  is  (Steph.  Byz. 522.1).  The city-ethnic  is  (C5s coins,infra).No literary source apart  from  Steph.  Byz.  mentions  Piakos,  which  is  included here  on  account  of  its  Greek-style  coinage,  consisting  of  C 5s bronze  coins,  fractions  of  litra:  obv.  head  of  river-god;  rev. dog  attacking  deer,  on  smaller  denominations  simply  a  dog; obv.  legend: or (Head,  HN ²164;  Jenkins ( 1975)  87\\xad92;  Manganaro  ( 1984)  34).  A  silver  litra  of  c. 400  is inscribed  with  the  names  of  both  Piakos  and  Adranon  (no. 6),  suggesting  proximity  and  collaboration  between  these two  communities: obv. head  of nymph, legend: ;  rev.  butting  bull  and  fish in e xergue,  legend: (Jenkins  ( 1962),  ( 1975)  90,  92).',\n",
       " '44. Selinous ': '(Selinousios) Map  47.  Lat. 37.35,long.  12.50. Size of  territory: 5.  Type:  A: .  The  toponym  is  , (IvO 22.9  (C 6l)); (Hdt. 5.46.2;  Thuc. 6.4.2).  The city-ethnic  is  (C 6l  coins;  IGDS  no. 78  (c. 450)); (Thuc. 7.58.1); (Hdt. 5.46.2; Xen.  Hell. 1.2.10);  or  (CID ii  4.i.46  ( 361/60)). Selinous  is  called  a  polis  in  the  urban  sense  by  Xen.  Hell. 1.1.37  and  is  listed  by  Ps.-Skylax  13  under  the  heading   ` ;  it  is  referred  to as  a  polis  in  the  political sense  at  Thuc. 6.20.2\\xad3  and 6.48.1.A C 6l  legal  text  from Olympia  dealing  with  exiles  from  Megara  (no. 36;  IvO 22; IGDS  no. 28)  in  fr.  f. 3  refers  to [ ];according to Asheri ( 1979b),  the  inscription  records  a  treaty  between  the  polis  of Selinous  and  a  group  of  exiles  from  Megara;  however,  the fragmentary  state  of  the  inscription  does  not  allow  us  to 220 fischer-hansen,  nielsen  and  ampolo determine  whether  the  reference  is  to  Megara  or  to  Selinous. A  C 5m  lex  sacra  refers  to h   µ  (A. 18)  and ~ µ  ~   ~ µ  (B. 10;  Jameson  et al.( 1993)). The  internal  collective  use  of  the  city-ethnic  is  attested  on C 5m  coins  (infra)  and  in  IGDS  no. 78  (c. 450;  Arena  ( 1989) no. 53);  the  external  collective use  is  attested  in  Diod. 5.9.2 (rC 6f),  Hdt. 5.46.2,  Thuc. 6.20.4  and  Xen.  Hell. 1.2.10.The external  individual  use  is  found  in  IGDS  no. 67  (C 6l),  IG XII. 5  444.65.79b  (C 3f  (rC 5l)),  and  F.Delphes iii.1391.2 (c. 360). According  to  Thuc. 6.4.2,  Selinous  was  founded  100  years after  the  foundation  of  its  metropolis  Megara,  i.e.  c. 628/7. The  oecist  Pammilos  was  possibly  from  the  original  mother city,  Megara  Nisaia  (no. 225),although  the  text  is  ambiguous (cf.  HCT  ad  loc.  and  Casevitz  ( 1985)  105,  109  n. 27),  and  a Megara  Hyblaian  origin  cannot  be  excluded.  Diod. 13.59.4 supports  the  Eusebian  date  for  the  foundation  of  Selinous: 242  years  before  its  destruction  in  409/8,i.e.c.651/50  (source: Bérard  ( 1957)  244\\xad46).  Diodorus\\'  date  is  consistent  with  the chronology  of  the  recently  excavated  Buffa  and  Manuzza cemeteries  (Tusa  ( 1982)  191\\xad94;  Rallo  ( 1982)). Selinous  was  the  westernmost  Greek  colony  on  the  south coast  of  Sicily,  founded  on  the  confines of  Phoenician  and Elymian  territories.  The  size  of  Selinous\\'  territory  varied, and  borders  changed  (see  La  Genière  ( 1978)).  The  C 7l immediate  hinterland  may  have  comprised  300\\xad400  km ².A sanctuary  of  Herakles  near  the  Hellenised  Elymian  settle- ment  at  Monte  Castellazzo  di  Poggioreale,  c. 30  km  north  of Selinous,  is  deduced  from  the  C 6e  dedication  to  Herakles  by one  Aristylos  in  the  Selinountian  alphabet  and  in  Doric dialect  (IGDS  no. 84;  Falsone  ( 1992)  307\\xad8);  stone  quarries in  the  catchment  area  of  Selinous  served  the  early  building programmes  in  the  sanctuaries  of  the  colony  (Peschlow- Bindokat  ( 1990)).  With  the  foundation  of  Minoa  in  C 6f/m (infra)  the  area  within  Selinountian  influence may have encompassed  c. 1,200\\xad1,800  km ²,  and  there  is  clear  evidence of  Selinountine  architects  at  work  by  C 6  in  the  Contrada Mango  sanctuary  at  Segesta  (Tusa  ( 1961);  de  La  Genière ( 1978)).  The  original,  indigenous  settlement  of  Monte Adranone,  situated  on  the  western  border  of  Selinountine territory,  c. 30  km  north-west  of  Selinous,  resettled  by Selinountines  in  C 6m,  served  as  a  fortified outpost until C 5l (Fiorentini  ( 1995)).  The  site  is  perhaps  the  kome  Adranon mentioned  by  Diod.  ( 23.4.2)  in  connection  with  the  Punic wars,  not  to  be  confused  with  the  Adranon  (no. 6)  founded by  Dionysios. After  initial  peaceful  co-existence  (Tusa  ( 1983)  302\\xad14; Zahrnt  ( 1993)  355\\xad57),  a  long  history  of  conflicts w ith  the non-Greek  populations  can  be  traced:  an  alliance  of Selinous  and  a  colonising  expedition  led  by  Pentathlos  of Knidos  (c. 580\\xad576)  was  defeated  by  the  Elymians  (Diod. 5.9.2\\xad3),  and  conflicts between G reeks,  Elymians  and Phoenicians  are  also  reflected in the failed e xpedition  of Dorieus  in  510  (Hdt. 5.46.1),  if  not  already  by  the  C 6  inscrip- tion  commemorating  Aristogeiton,  who  fell  at  Motya  (IGDS no. 73;  Mafoda  ( 1995)).  In  480,  however,  Selinous  was  the only  Greek  city  of  Sicily  supporting  Carthage  against Theron  of  Akragas  and  Gelon  of  Syracuse  (Diod. 11.21.4\\xad5, 13.55.1).  In  466,  Selinous  assisted  Syracuse  in  expelling  the tyrant  Thrasyboulos  (Diod. 11.68.1).  A  victory  of  uncertain date  is  mentioned  in  the  460\\xad409  inscription  (IGDS  no. 78) from  temple  \"G\"  (infra)  revealing  conflicts c.C 5m  with Elymians  and/or  Phoenicians.  Not  all  relations  with  the non-Greek  populations  were  hostile,  however,  and  there may  have  been  epigamia  between  Selinous  and  Segesta (Thuc. 6.1.2  with  HCT). In 416  the  conflict w ith  Segesta  (supra)  led  Selinous  to  ally itself  with  Syracuse  (Thuc. 6.6.2),  and  accordingly  it  sup- ported  Syracuse  in  its  war  with  Athens  (Thuc. 6.65.1,  67.2, 7.58.1;  cf.  Diod. 13.4.2  (r 415)).  The  territorial  disputes between  Segesta  and  Selinous  in  416  (Thuc. 6.6.2;Diod. 12.82.3)  and  410  (Diod. 13.43.1\\xad4)  ultimately  led  to  the destruction  of  Selinous  in  409  by  Carthage  (Diod. 13.55\\xad57), when  the  houses  were burnt  or  torn down, 16,000  were killed, 5,000  taken  prisoners,  and  2,600  escaped  to Akragas (no. 9;Diod.  13.57.6\\xad58.3).  The  city  was  recaptured  and  for- tified b y  Hermokrates,  who  also  laid  waste  the  territories  of Motya  and  Panormos  (Diod. 13.62.3\\xad5  (r 409)).  As  an  out- come  of  adversities  suffered  by  the  Carthaginians,  Himilcar was  forced  to  sign  a  peace  treaty  with  Dionysios  I  in  405,in which,  however,  it  was  stipulated  that  Selinous  (and  several other  cities)  were  to  be  unfortified and pay t ribute  to Carthage  (Diod. 13.114.1;  Staatsverträge  no. 210).Yet  conflicts between  the  Greek  cities  and  Carthage  continued,  and Dionysios,  with  Selinous  and  Himera  (no. 24),  attacked Motya  in  397  (Diod. 14.47.7),  which  implies  that,  in  addition to  the  eastern  Sicilian  cities,  Himera  and  Selinous  had  also come  within  Dionysios\\'  hegemony.  A  second  peace  treaty  of 392  was  in  most  matters  similar  to  that  of 405  (Diod. 14.96.3; Staatsverträge  no. 233).It  seems,  however,  that  Selinous  (and the  other  cities  subjected  to  Carthage  by  the  previous  treaty) were  now  handed  over  to  Dionysios  I  (see  Stylianou  ( 1998) 207).  In  a  peace  treaty  of  c. 374  Selinous,  its  territory,  and Akragas  were  again  ceded  to  the  Carthaginians  (Diod. 15.17.5 with  Stylianou  ( 1998)  ad  loc.;  Staatsverträge  no. 261). Selinous  was  recaptured  by  Dionysios  in  368,but an sikelia  221 armistice  was  agreed  and  the  old  borders  were  re- established  (Diod. 15.73.2\\xad4),  and  when  Dion  visited Herakleia  Minoa  (west  of  Selinous)  in  357,  this  city  was  con- trolled  by  Carthage  (Diod  16.9.4).  In  the  339  treaty  between Timoleon  and  Carthage,  Selinous  was  left  within  the Carthaginian  sphere  of interest  (Diod. 16.82.3; Staatsverträge  no. 344;  cf.  Talbert  ( 1974)  83\\xad85),  and  this  was confirmed b y  the  treaty  between  Agathokles  and  Carthage in 314  (Diod. 19.71.7). A  few  scattered  sources  shed  some  light  on  the  military strength  of  Selinous  and  the  size  of  its  population.  A  contin- gent  of  hoplites  from  Selinous  fought  alongside  the Syracusans  in  415  (Thuc. 6.67.2);  later,  Selinountine  psiloi and  hippeis  marched  to  Syracuse  under  the  command  of Gylippos  (Thuc. 7.1.3\\xad5;  cf.  Diod. 13.4.7  (r 414));  hippeis  are mentioned  also  in  Diod. 11.21.4  (r 480).  A  navy  is  implied  by Thucydides\\'  reference  to two  nees  ...Selinountiai  at 8.26.1 (cf.  Xen.  Hell. 1.2.8  for  another  two).  In reference  to 410, Diod. 13.44.3  describes  Selinous  as  a  polis  polyandrousa,  and a  hint  of  the  C 5l  size  of  population  is  found  in  the  figures of 16,000  inhabitants  killed  and  5,000  captives  taken  by  the Carthaginians  in  409  (Diod. 13.57.6);  this  had  already  been preceded  by  the  loss  of 1,000  men  in  an  ambush  (Diod. 13.44.4  (r 410)).  Even  so, 2,600  escaped  to Akragas  (Diod. 13.58.3).  A  full  mobilisation  of  forces  is  mentioned  in  Diod. 14.47.7  (r 397). Diplomatic  activities  include  the  reception  of  envoys (Diod. 11.68.1  (r 466))  as  well  as  the  sending  of  envoys  (Diod. 11.21.4  (r 480),  bibliaphoroi,  cf. 13.54.3  (r 409),  13.43.7,  44.4 (r 409)).  F.Delphes iii.1391  (c. 360\\xad355)  is  a  grant  of  various privileges  by  Delphi  (no. 177)  to  a  man  of  Selinous.  A  grant of  politeia  to  Selinountians  by  Ephesos  (no. 844)  is  recorded by Xen.  Hell. 1.2.10;it  was  prompted  by  the  destruction  of  the city. What  we  know  about  the  constitution  indicates  that Selinous  was  mostly  governed  by  tyrants,  at  least  in  the  Archaic  period.  Tyranny  is  attested  in  connection  with the  C 6l  expedition  of  Dorieus,  whose  Euryleon liberated  the  Selinountians  from  the  mounarchos Pythagoras  but  went  on  to assume  monarchical  power  him- self  (Hdt. 5.46.2;  cf.  Luraghi  ( 1994)  54\\xad55;  Mafoda  ( 1995)). An  earlier  tyranny  at  Selinous  (C 6m  or  C 6f)  may  be  sug- gested  by the  anecdote  of  \"Theron,  son  of  Miltiades\"  assum- ing  tyrannical  power  by  a  stratagem  (Polyaen. 1.28.2;  full discussion:  Luraghi  ( 1994)  52\\xad54).  The  µ  of  IvO 22  (IGDS  no. 28  (C 6l))  refers  to  a  magistracy  attested  also  in Megara  Nisaia  (no. 225)  and  other  Megarian  colonies (Dubois  ad  IGDS  no. 28  fr.b. 5\\xad6  with  refs.);  however,  the context  does  not  make  clear  whether  the  reference  is  to Selinous  or  to  Megara  (for  the  office in general,  see  Asheri ( 1979b)  490).  The  text  may  mention  a  halia:h ] [  (see  Arena  ( 1989)  no. 52  fr.  h. 4;  Asheri  ( 1979b)). Whether  this  Selinountine(?)  halia  should  be  interpreted  as an  ekklesia  or  a  special  court  is  uncertain;  Asheri  opts  for  an ad  hoc  tribunal  (Asheri  ( 1979b)  490).  Two  C 5  public  enact- ments  are  preserved:  a  lex  sacra  of  C 5m  (Jameson  et al. ( 1993))  and  IGDS  no. 78  IG xiv  268  (C 5m/s),  which  lists Selinountine  divinities  and  incorporates  a  decree.  A metoikos  at  Selinous  is  mentioned  by  Callim.  fr. 201 (Pfeiffer)  Dieg. ix.15\\xad16  (referring  to  the  period  before Timaios  wrote,  cf.  FGrHist 566,fr.  148).  A  C 6\\xadC5  dedicatory inscription  attests  the  existence  of  a  whose  mem- bers  are  given  as  two  groups  of  women  (Lazzarini  no. 880e; cf.  Jameson  et al.( 1993)  90);  it  is  not  clear  whether  this  was  a public  or  a  private  institution. A  C 5f  dedication  by  the  citizens  of  Selinous  and  the metopes  of  Temple  C  testify  to  the  Selinountian  pantheon  in which  the  principal  divinity  seems  to  be  Zeus  (IG xiv  268; SEG 38  960;  SEG 43  628;  IGDS  no. 78;  see  also  Jameson  et al. ( 1993)). Selinous  had  a  thesauros  at  Olympia  (Paus. 6.19.11  (rC 5)). The  foundation  of  the  building  has  with  some  probability been  identified,  and  C 5e  architectural  terracottas  have  with some  uncertainty  been  associated  with  it  (Mertens-Horn and  Viola  ( 1990)  240). The  town  of  Selinous  was  founded  on  a  vast  plateau, c. 1.3  km  long,  oriented  roughly  north\\xadsouth  between  the ancient  river  Selinous,  from  which  the  city  took  its  name (Douris  (FGrHist 76)  fr. 59),  to  the  west,  and  the  river Cotone  to  the  east.  The  site  comprises  three  hills  separated by  the  river  valleys,  the  city  occupying  the  central  plateau, while  the  two  lateral  plateaux,  the  Gaggera  to  the  west  and the  Marinella  to  the  east,  were  dedicated  to  sanctuaries (Martin  et al.( 1979)  637\\xad53;  cf.  Parisi  Presicce  ( 1984)  fig. 2 and 127\\xad32  for  topographical  surveys).  The  southern plateau,  facing  the  coast  and  often  regarded  as  the  acropolis of  the  city,  owes  its  acropolis-like  appearance  to  an  artificial accentuation  of  the  morphology  of  the  site  due  to  C 4l  and C 3l  defensive  structures  (Di  Vita  ( 1980)). C 7m/s  habitation  remains  on  the  northern,  Manuzza plateau  (Rallo  ( 1976\\xad1977),  ( 1984))  and  on  the  \"acropolis\" (Fourmont  ( 1984\\xad85))  have  revealed  an  overall  coherence  in the  urbanisation  of  the  two  areas.  Unusually,  a  cemetery  is situated  within  the  urban  area  on  the  Manuzza.  A  large  part of  the  \"acropolis\"  was  laid  out  as  a  temenos  from  C 7.  There  is also  coherence  between  the  three  major  plateaux  of  the  site 222 fischer-hansen,  nielsen  and  ampolo from  C 7:  the  Manuzza  plateau  and  \"acropolis\",  the  Marinella plateau  east  of  the  river  Hypsas  with  a  C 7  shrine  (Gullini ( 1993)),  and  the  Gaggera  plateau  west  of  the  river  Selinous with  the  Malophoros  sanctuary  and  the  C 7l  megaron (Romeo  ( 1989)  40,no.  64).  The  main  east\\xadwest  axis  on  the \"acropolis\"joined  the  estuaries  of  the  two  rivers  and  the  har- bours  of  Selinous,  the  eastern  harbour  possibly  military,  the western  harbour  possibly  commercial. In  the  second  urban  phase,  from  c.C 6e,  the  habitation area  and  urban  layout  encompassed  also  the  east  and  west slopes  of  the  central  plateau  with  parts  of  the  confining val- leys  (de  La  Genière  and  Rougetet  ( 1985);  Mertens  ( 1999) 188\\xad90).  Habitation  on  the  northernmost  part  of  the Manuzza  plateau  was  laid  out  on  a  different  orientation  to that  employed  on  the  \"acropolis\"  and  on  the  southern  part of  Manuzza  plateau,  and  an  agora  at  the  junction  of  these separate  urban  districts  is  similar  to  the  location  of  the  agora at  Megara  (Mertens  ( 1999)  190\\xad93).  Rallo  ( 1976\\xad77)  731  has suggested  that  the  differences  in  orientation  could  reflect different  populations,  and  a  Corinthian  ethnic  group  has been  deduced  from  epigraphic  and  tomb  evidence  (cf.  de  La Genière  ( 1977)  257;  IGDS  nos. 72  and 79).  The  C 6\\xadC5  urban area  comprised  about  100  ha  (Mertens  ( 1989)  fig. 4,(1999) fig.  on  p. 188). A  theatre,  possibly  serving  as  the  meeting  place  for  the assembly,  is  mentioned  in  Callim.  fr. 201,  Pfeiffer,  Dieg. ix.22\\xad23  (referring  to  the  period  before  Timaios  wrote,  cf. FGrHist 566,fr.  148). So  far  none  of  the  defensive  walls  of  the  \"acropolis\"  can  be dated  earlier  than  the  C 5l  Hermokratean  structures  of 409, when  the  Syracusan  exiles  seized  Selinous  for  a  short  period in  connection  with  the  Carthaginian  war  (Diod. 13.63.3\\xad4; ibid. 185\\xad86).  By  contrast,  the  outer  circuit  wall  and  gates  in the  Hypsas  valley,  marking  the  eastern  limit  of  the  city,  are  of C 6f  and  C 5e  (Mertens  ( 1989)  138\\xad39).  A  circuit  wall  across the  Manuzza  plain  was  probably  raised  by  Hermokrates  in 409  (ibid. 139\\xad43).  The  sophisticated  fortification and g ate system  on  the  north  side  of  the  acropolis,  comparable  with the  Euryalos  fortification at S yracuse,  may  in  its  final phase be  the  work  of  Agathokles  during  his  short  occupation  of Selinous  in  307  (Diod. 20.56.3;  cf.  Lawrence  ( 1979)  295; Mertens  ( 1989)  110\\xad31,  151). The  central  and  south-eastern  part  of  the  \"acropolis\"  was from  early  on  occupied  by  at  least  two  temene  (Gabrici ( 1929));  the  south  temenos  with  two  parallel  temples  of  C 5f, \"O\"  and  \"A\"  (divinities  unknown).  The  central  temenos  has traces  of  simple  C 7l\\xadC6e  naiskoi.  There  is  no  structural evidence  for  a  major  C 6  peripteral  temple,  but  architectural terracottas  are  taken  as  evidence  for  one.  As part  of  the  C 6f regular  urban  plan,  the  sanctuary  was  enclosed  by  peribolos walls  from  580  to 560  (Østby  ( 1995)).A  large  artificial t errace supported  by  a  huge,  stepped  retaining  wall  of  ashlar masonry  on  the  east  slope  of  the  acropolis,  dated  prior  to C 6m,  permitted  an  enlargement  of  the  temenos  and  the erection  of  new  buildings:  temple  \"C\"  (date  controversial: before  C 6m  or  c. 530\\xad520)  replaced  the  earlier,  conjectural temple,  with  an  altar  to  the  east  and  a  monumental  stoa  on top  of  the  retaining  wall  marking  the  east  side  of  the  temenos (Di  Vita  ( 1967),  ( 1984)).  Architectural  fragments  and  sculp- ture  reused  in  the  later  fortifications are from an otherwise unknown  sanctuary,  possibly  near  the  agora  (Mertens ( 1999)).  The  temenos  was  enlarged  in  C 5e  to make  room  for the  monumental  temple  \"D\". On  the  basis  of  epigraphic  evidence,  above  all  the  inscrip- tion  (IGDS  no. 78)  from  temple  \"G\"  (infra),  temple  \"C\",  with its  predecessor,  is  attributed  to  Apollo  (Bejor  ( 1977)  449; IGDS  no. 51).  The  dedicatees  of  the  c. 480\\xad450  temples  \"A\", \"O\"  and  \"D\"  are  more  uncertain.  Three  monumental  tem- ples,  \"E\",  \"F\"  and  \"G\",  were  aligned  on  the  Marinella  hill  east of  the  Hypsas  valley  (Berve  and  Gruben  ( 1963)  426\\xad32; Gullini  ( 1993)).  Temple  \"G\"  (C 6l,  not  completed)  is  among the  most  monumental  of  antiquity;  the  inscription  from  the adyton  mentions  a  victory,  a  number  of  divinities,  and  a dedication  to  these  in  gold  to  the  value  of 60  tal.  put  up      (Calder  ( 1963),  ( 1964);  IGDS  no. 78).  The occasion  of  the  victory  is  unknown,  but  historical  and  epi- graphical  evidence  dates  the  inscription  between  460  and 409  (Calder  ( 1963)  54\\xad62).The  temple  is  often  interpreted  as the  Apolloneion  mentioned  in  the  inscription,  but  the  evid- ence  is  inconclusive,  and  the  identification of  the  temple  as an  Olympieion  has  won  support  (Tusa  ( 1967);  Bejor  ( 1977); infra).  The  cult  of  the  C 6m  temple  \"F\"  is  unknown,  but  the closed  peristasis  may  indicate  a  mystery  cult,  e.g.  of  Dionysos or  Demeter.  Temple  \"E\",  of  C 7l\\xadC5m,  has  been  identified as a  Heraion  (IGDS  no. 56). At  least  four  sanctuaries  were  located  on  the  Gaggera  hill west  of  the  river  Selinous  (Gabrici  ( 1927);  Tusa  et al. ( 1984\\xad85)  574\\xad81).  The  major  sanctuary  of  Demeter Malophoros  (IGDS  no. 54),  located  near  the  coast  and  har- bour,  had  an  initial  phase  in  C 7l\\xadC6e  and  a  monumental aspect  established  by C 6s  with  a  temple,  a  monumental  altar and  a  peribolos  wall,  later  embellished  with  a  C 5l  propylon. The  votive  material  is  immensely  rich  (Gabrici  ( 1927); recent  surveys:  Dewailly  ( 1992)  1\\xad36  and  Hinz  ( 1998) 144\\xad52).  The  cult  of  the  adjacent  C 6m  temenos  was  that  of Hekate  (IGDS  no. 55).  To  the  north,  a  sanctuary  of  Zeus sikelia  223 Meilichios  bordered  on  that  of  Demeter  (Gabrici  ( 1927) 91\\xad107;  Tusa  ( 1977)),  with  a  cult  that  is  characterised  by  a number  of  C 6s\\xadC5  crude  and  simple  stone  stelai  carrying votive  inscriptions  (earliest  C 6m:  IGDS  nos. 45,  50;  Jameson et al.( 1993)  89\\xad107,  132\\xad36)  and  by  later  defixiones  (IGDS nos. 35,  39,  40).  To  the  south,  a  peribolos  wall,  parallel  to that of  the  Demeter  sanctuary,  enclosed  yet  another  temenos  and temple  of  uncertain  cult  (Parisi  Presicce  ( 1984)  21\\xad24).  A  C 6 temple  \"M\"  marks  the  north  end  of  the  row  of  sanctuaries (Sguaitammati  ( 1993)). The  inscription  from  temple  \"G\"  (IGDS  no. 78)  mentions Zeus,  Phobos,  Herakles,  Apollo,  Poseidon,  the  Tyndaridai, Athena, (Demeter)  Malophoros  and  Pasikrateia (Persephone?).  The  second  part  of  the  dedication,  the decree,  mentions  an  Apolloneion  and  Zeus  (Calder  ( 1963); IGDS  no. 78).  A  cult  of  Zeus  Agoraios  is  revealed  by  the episode  of  Euryleon  seeking  refuge  at  the  altar  of  Zeus Agoraios  (Hdt. 5.46.2).  Coin  types  suggest  cults  of  Artemis and  Apollo,  and  the  river-gods  Selinous  and  Hypsas. The  earliest  cemetery  is  the  one  situated  in  the  south-east of  the  Manuzza  plateau  dating  from  before  C 7m  and  in  use throughout  C 7,  the  early  material  reflecting the M egarian origin  of  Selinous  (Rallo  ( 1982)).  Contemporaneously  and in  subsequent  periods  cemeteries  were  laid  out  on  the  hills surrounding  the  urban  site:  C 7m  on  the  Buffa  hills  north- east  of  the  Manuzza  plateau  (Tusa  ( 1982)  196\\xad202);  C 6e  and C 5,  mainly  inhumation  tombs,  some  cremation  and  a  few child  enchytrismos  burials  on  the  Gaggera  hills  west  of  the Manuzza  plateau,  and  C 7s  tombs  on  the  Galera  hills  north  of the  Manuzza  plateau  (Vallet  and  Villard  ( 1958)). Selinous  was  one  of  the  first S icilian  cities  to  issue  coins, c. 540\\xad530:  staters  probably  initially  on  the  Corinthian standard  but  at  the  end  of  the  Archaic  phase  on  the  Attic. Types:  obv.  celery  leaf  ( );rev.patterned punch-mark in  incuse  square  (SNG  Cop.  Sicily 591\\xad93;  SNG  Cop.  Suppl. 73).Later  issues  have  rev.  celery  leaf  in  incuse  square,  legend: with  variations  (SNG  Cop.  Sicily 594).  Three  smaller fractions  carry rev.  celery  leaf,  or  flower,  or  pellets  (Cutroni Tusa  ( 1975);  C.  Boehringer  ( 1984\\xad85)  116\\xad19;  SNG  Cop.  Sicily 595\\xad96).  A  unique  drachm  carries  the  unabbreviated  city-ethnic  as  legend  (Cutroni  Tusa  ( 1988\\xad89)  370\\xad71). Confirmation of  Corinthian  influence on early S icilian coinage  and  imports  of  bullion  from  the  Aegean  area  is given  by  a  C 6l  coin  and  bullion  hoard  found  near  Selinous (ibid.  ( 1988\\xad89)  397\\xad98).  Minting  of  Syracuse-inspired tetradrachms  began  c. 450:  obv.  sacred  chariot  with  Apollo and  Artemis,  legend: ;  rev.  naked  youth, the  river-god  Selinous,  offering  a  libation  at  an  altar  in  a sanctuary,  l.  below  cock,  on  r.  celery  leaf  and  statue  of  bull, legend: (SNG  Cop.  Sicily 597).  The  types  of  the lower  denomination  (didrachms)  are:  obv.  Herakles  fight- ing  Cretan  bull,  legend: ;  rev.river-god Hypsas,  legend: (SNG  Cop.  Sicily 601);  on  smaller denominations,  obv.  nymph  seated  on  rock  (SNG  Cop.  Sicily 602\\xad3).  The  issues  continue  with  variants  until  409  (SNG Cop.  Sicily 604\\xad6).  Bronze  coinage  was  issued  at  least  from c. 420  (Price  ( 1979);  Rutter  ( 1997)  142);  however,  an  issue  of cast  coins  may  go  back  to  450\\xad440  (Cutroni  Tusa  ( 1997\\xad98) 646\\xad47). Selinous  founded  the  colony  of  (Herakleia)  Minoa  (no. 20)  (Hdt. 5.46.2)  on  the  estuary  of  the  river  Platani  c.C 6f/m to  secure  its  eastern  territory  against  Akragantine  expan- sion,  but  after  the  short-lived  rule  of  Euryleon,  the  colony was  taken  by  Akragas  (no. 9);  during  Theron\\'s reign ( 488\\xad473)  it  seems  to  have  been  a  city  within  Akragantine dominion,  possibly  after  conquest  by Theron  (cf.  Diod. 4.79.4  with  Fontana  ( 1978);  see  further  Herakleia  (no. 20)).',\n",
       " '45. (Sileraioi)': 'Map 47.  Unlocated  (cf.  Manni  ( 1981)  225). Type:  C: .The  Sileraioi  are  known exclusively  from  their rare C 4s  Greek-style  bronze  coinage:  obv.  forepart  of man-headed  bull,  legend: (retrograde);  rev. naked  warrior,  legend: (retrograde)  (Head,  HN ² 169\\xad70;  Talbert  ( 1974)  181;  SNG  Cop.  Sicily 607).',\n",
       " '46. (Stielanaioi)': 'Map 47.  Lat. 37.10,long.  14.55:  the  loca- tion  is,  however,  uncertain,  and  Bernabò  Brea  ( 1968)  178\\xad82 argues  for  a  location  in  the  hinterland  of  Megara  Hyblaia. Size of  territory:  ? Type:  C: . The  Stielanaioi  struck  coins  from  c. 460  onwards;  they may  have  been  based  at  the  of  Steph.  Byz. 588.7, but  see  Manni  ( 1974)  64  and  ( 1981)  227,  who  points  out  that a  form  such  as  * is  to  be  expected  on  the  basis  of the  ethnic  Stielanaios.The  Stielanaioi  are  included  here  on account  of  their  Greek-style  coinage:  this  coinage  began with  an  issue  of  silver  litrai  c. 460:  obv.  forepart  of  man-head- ed  bull,  legend: () (retrograde);  rev. male  figure (river-god?) sacrificing  at  altar.  Later  issues (drachms  and  lower  denominations):  obv.  male  head  laure- ate  (river-god  or,  perhaps  more  likely,  Apollo);  rev.  forepart of  man-headed  bull,  legend: (Head,  HN ²171; Bernabò  Brea  ( 1975)  49\\xad51;  Holloway  ( 1975)  142\\xad43; Manganaro  ( 1984)  35\\xad36;  survey  of  find-places:  Cutroni Tusa  ( 1997\\xad98)  630;  cf.  AIIN 42  ( 1995)  pl. 26,fig.2).The t ypes reveal  strong  influence from the c ontemporary  mints  of Katane  and  Leontinoi.  The  Stielanaioi  are  considered  a Greek  community  by  Mirone  ( 1928),  followed  by  Ziegler 224 fischer-hansen,  nielsen  and  ampolo ( 1940),founded  C 5e  in  the  hinterland  of  Katane  (no. 30)  and Leontinoi  (no. 33)  in  the  aftermath  of  the  Deinomenid aggression  against  these  cities.',\n",
       " '47. Syrakousai ': '(Syrakosios) Map  47.  Lat. 37.05,long. 15.15.  Size  of  territory: 5.  Type:  A: .  The  toponym  is (),  (Hecat.  fr. 74;  Thuc. 5.4.3;  IG iv².195.i.39 ( 356/5))  or  (Hdt. 7.156.1);  Pind.  Ol. 6.6  and Bacchyl.  Ep. 5.104  have  ;  is  found at  Pind.  Pyth. 2.1.  The  city-ethnic  is  (C 5  coins, infra;  Thuc. 3.103.1;  IGDS  no. 94  ( 474))  and   (Hdt. 7.155.2).  Also  spelled  (C 6l\\xadC5e  coins, infra;  IGDS  no. 93  (c. 480);  cf.  IG v.1217  (C 5e): [ ]). Syracuse  is  called  a  polis  both  in  the  urban  sense  (Hdt. 7.155.2;  Thuc. 6.65.3;  Ps.-Skylax 13)  and  in  the  political  sense (Hdt. 7.154.2;  Thuc. 6.36.2  and  Xen.  Hell. 1.1.28).  Its  politeia was  described  by  Aristotle  (Arist.  fr. 602.1).  Politeuesthai  is found  at  Arist.  Pol. 1312b9,polites  at  Arist.  Pol. 1303a38,politeu- ma  at  Arist.  Pol. 1303b26,  damosios  at  SEG 38  368  (c. 475),  and demos  at  Thuc. 6.35.1.  Astoi  referring  to  the  citizens  is  found at  Pind.  Pyth. 3.71  and  asty  referring  to  the  city  occurs  in  AG 13.15  (C 4e).  For  Patris,  see  Thuc. 6.68.8;  69.3  and  Isoc. 3.23. The  internal  collective  use  of  the  city-ethnic  is  attested  on coins  from  C 6l  onwards  (infra);  the  external  collective use  is found  in  IvO 661  (C 6),  IGDS  no. 89  ( 485\\xad470),  Hdt. 3.125.2 and  Thuc. 3.103.1.  The  external  individual  use  is  attested  in Egypt-Delta i694/511  (C 6\\xadC5),  IvO 266  (c. 480),  Thuc. 4.58, IG ii²  101.2  ( 372/1)  and  CID ii  4.i.40  ( 360). Syracuse  was  founded  by  Archias,  a  Heraklid  from Corinth  (no. 227;  Thuc. 6.3.2;  cf.  Strabo  8.6.22).According  to Strabo  6.2.4  and  Ps.-Skymnos  279\\xad82  the  founders  included a  group  of  Dorians  who  had  come  to  found  Megara  (no. 36) but  fell  out  with  the  other  colonists  and  then  joined  the Corinthian  founders  of  Syracuse.  The  exact  date  of  the foundation,  as  well  as  its  date  relative  to  those  of  the  other early  colonies  in  Sicily,  is  much  debated:  according  to  Thuc. 6.3.1  (probably  based  on  Antiochos  of  Syracuse),  the  city  was founded  only  a  year  after  Naxos,  the  earliest  of  the  Sicilian colonies.  On  the  other  hand,  Ephor.  fr. 137a  (apud  Strabo 6.2.2)  stated  that  Naxos  (no. 41)  and  Megara  (no. 36)  were the  earliest  colonies,  and  the  unemended  text  of  Strabo  6.2.4 presupposes  that  Megara  was  founded  shortly  before Syracuse.  Thuc. 6.3.2  gives  the  foundation  date  as  733/2  (sup- ported  by  Eusebios,  cf.  Bérard  ( 1957)  120  with  refs.). However,  a date c.C 8m  is  indicated  by  Marmor  Parium (FGrHist 239)  A  31,  which  places  Archias  seven  generations after  Temenos  and  the  return  of  the  Herakleidai. The  name  of  the  territory  was  (Thuc. 6.52.2);  it  is  termed  at  Thuc. 7.42.6  and at 6.45. After  its  foundation,  Syracuse  quickly  expanded  its  territo- ry;  by C 8l  it  extended  as  far  to  the  south-west  as  Heloron (no. 18),  a  Syracusan  colony  founded  in  C 8l\\xadC7e;  by  664  it extended  inland  as  far  as  Akrai  (no. 10),  a  colony  founded  in that  year  (Thuc. 6.5.2);  by  C 7s  it  had  expanded  further  west- wards  to  Kasmenai  (no. 29),  a  colony  founded  in  644  (Thuc. 6.5.3).  To  the  north,  Thapsos  formed  the  border  with Megara  (no. 36);  Kamarina  (no. 28)  was  founded  in  598  on the  border  between  the  areas  of  influence of  Syracuse  and Gela  (Di  Vita  ( 1956),  ( 1987)).  Heloron,  Akrai  and  Kasmenai were  possibly  constituted  as  dependent  poleis  in  the  territo- ry  of  Syracuse  (see  the  respective  entries);  Kamarina  was also  in  one  way  or  another  dependent  on  Syracuse. Herodotos  reports  that  Kamarina  of  old  belonged  to Syracuse  ( 7.154.3),  and  Thucydides  refers  to  a  C 6m  apostasis from  Syracuse  by  Kamarina  ( 6.5.3).  The  C 7\\xadC6  Syracusan dominion  comprised  an  area  of  about  3,000\\xad3,500  km ². During  the  C 5f  rule  of  the  Deinomenidai,  Syracuse incorporated  or  exercised  influence o ver  the  territories  of Kamarina,  Megara,  Leontinoi  and  Naxos;  by  440  all  native communities  were  ruled  by  Syracuse  (Diod. 12.29.2\\xad4);  after Dionysios  I\\'s  peace  with  Carthage  in  392,  Syracuse  ruled over  all  of  central  and  eastern  Sicily  (Karlsson  ( 1992)  map 2.a),  and  over  parts  of  South  Italy  including  Rhegion  (no. 68)  and  southern  Calabria. The  size  of  the  population  is  unknown,  and  it  must  have been  subject  to  constant  changes  due  to  the  many  reloca- tions  carried  out  during  the  Classical  period.  The  known incorporations  of  foreign  groups  into  the  Syracusan  citizen body  are  the  following:  ( 1)  Gelon  transplanted  and  granted Syracusan  citizenship  to  (a)  all  the  Kamarinaians,  (b)  half  of the  Geloans,  (c)  the  pachees  of  Megara,  (d)  the  pachees  of  the city  of  Euboia  (Hdt. 7.156.2\\xad3);  (e)  he  also  granted  citizen- ship  to  more  than  10,000  mercenaries  (Diod. 11.72.3).  ( 2) After  the  congress  in  Gela  in  424,  the  dynatoi  of  Leontinoi were  relocated  to  Syracuse  and  were  granted  citizenship (Thuc. 5.4.2;  cf.  Xen.  Hell. 2.3.5).  ( 3)  Dionysios  I  enlarged  the citizen  body  by  enrolling  (a)  eleutheromenoi  as  neopolitai (Diod. 14.7.4);  (b)  the  inhabitants  of  Leontinoi,  who  were granted  citizenship  (Diod. 14.15.4);  (c)  the  inhabitants  of Italian  Kaulonia,  who  were  granted  citizenship  and  ateleia for  five y ears  (Diod. 14.106.3);  (d)  the  inhabitants  of  Italian Hipponion  (though  it  is  not  specified at Diod. 14.107.2  that these  received  citizenship).  ( 4)  Timoleon  (a)  made  the  peo- ple  of  Agyrion  (and  possibly  Kentoripa)  citizens  of  Syracuse (Diod. 16.82.4);  (b)  relocated  the  population  of  Leontinoi  to sikelia  225 Syracuse  (and  presumably  granted  them  citizenship, though  this  is  not  specified at Diod. 16.82.7);  (c)  settled  5,000 new  colonists  (Diod. 16.82.3;  cf.  Plut.  Tim. 23);  and  (d)  later several  myriads  more  ( 40,000  according  to Diod. 16.82.5; perhaps  60,000  according  to  Athanis  (FGrHist 562)  fr. 2;  cf. Talbert  ( 1974)  30).  In  the  Classical  period,  Syracuse  was  the largest  city  of  Sicily  (Hecat.  fr. 74;  Thuc. 7.58.4),in  extent  sec- ond  only  to  Akragas,  for  which  city  Diod. 13.84.3  (r 406)  gives the  figure of 20,000  citizens.  Drögemüller  ( 1969)  100  sug- gests  an  urban  population  of 40,000\\xad45,000  for  Syracuse,  a guesstimate  which  may  be  a  little  on  the  high  side  in  view  of the  size  of  the  C 5  habitation  area,  c. 150  ha  (infra).  It  is  impos- sible  to  estimate  the  number  of  citizens  from  the  few  hints given  by  Thucydides  about  the  size  of  the  Syracusan  army  in 415  ( 6.67.2: µ  ,  number  of  cavalry  given  as  1,200). Treaties  of  C 6m  with  Megara,  Enna  (Kasmenai?  cf.  the entry  for  Kasmenai)  and  presumably  Gela  are  strongly implied  by  Philistos  (FGrHist 556)  fr. 5,  who  refers  to a  war between  Syracuse  and  Kamarina  and  their  allies.  In  492  a treaty  with  Hippokrates  of  Gela  after  his  defeat  of  the Syracusans  came  about  through  arbitration  by  Corinth  (no. 227)  and  Korkyra  (no. 123)  (Hdt. 7.154.3;  cf.  Thuc. 6.5.3). Gelon\\'s  victory  at  Himera  induced  nearly  all  the  cities  of Sicily  to  recognise  his  power  and  to  enter  into  a  symmachia with  him  (Diod. 11.26.2).  Syracuse  was  a  party  to  the  pan- Sicilian  agreement  concluded  at  the  Congress  of  Gela  in  424 by  which  it  ceded  Morgantina  (no. 37)  to  Kamarina  (no. 28) in  return  for  a  specified payment ( Thuc. 4.65.1).  During  the war  with  Leontinoi  (no. 33)  in  the  420s,Syracuse  had  treaties of  symmachia  with  the  Dorian  cities  of  Sicily  (except  for Kamarina)  and  with  Italian  Lokroi  (no. 59;  Thuc. 3.86.2\\xad3) and  Lipara  (no. 34)  (Thuc. 3.88.3),  and  it  ruled  a  number  of Sikel  communities  kata  kratos  ( 103.1),  receiving  aparche from  them  (Thuc. 6.20.4). Numerous  Syracusan  exiles  are  on  record;  the  earliest  are the  Myletidai  mentioned  at  Thuc. 6.5.1  who  joined  the Zanklaians  (no. 51)  in  founding  Himera  (no. 24)  in  648. Exiles  are  attested  under  Deinomenid  rule  (Diod. 11.67.5), and  in  C 5m  several  sentences  of  exile  were  decreed  by  petal- ismos  (Diod. 11.87.4  (rC 5m)).  Exiles  collaborated  with  the Athenians  during  their  attack  (Thuc. 6.64.1).  A  collective sentence  of  exile  was  passed  on  the  strategoi  after  the  battle of  Kyzikos  (Xen.  Hell. 1.1.27).  In  406  a  general  recall  of  exiles was  voted  by  the  assembly  (Diod. 13.92.4\\xad7). The  city  waged  numerous  wars;  the  earliest  known  is  the  C 6m  war  with  its  colony  Kamarina  in  which  both  were supported  by  allies  (Philistos  (FGrHist 556)  fr. 5).Apart  from the  military  victories  of  the  Deinomenidai,  the  most  spec- tacular  triumph  was  that  of  the  democracy  which,  eventual- ly  joined  by  all  Sicilian  poleis  except  Akragas  (no. 9)  (Thuc. 7.33,  58),  defeated  the  invading  Athenians  (Thuc. 6\\xad7).  The Deinomenidai  raised  huge  armies,  but  these  can  hardly  have been  recruited  from  Syracuse  alone,  and  Deinomenid employment  of  mercenaries  was  extensive (Parke ( 1933) 10\\xad13);  in  480  Gelon  raised  50,000  foot  and  5,000  horse (Diod. 11.21);  Thrasyboulos  raised  15,000  soldiers  (Diod. 11.67.7  (r 466))  and  controlled  a  navy  (Diod. 11.68.3  (r 466)). But  even  during  Deinomenid  rule  there  are  references  to civic  forces  proper  (Diod. 11.67.5:  politikai  dynameis).  In  471, 2,000  Syracusans  fell  in  battle  against  Akragas  (Diod. 11.53.5). In 439,  the  democracy  had  100  triremes  constructed (Diod. 12.30.1),  and  Thucydides  twice  refers  to  eighty  ships in  action  ( 7.22.1,  38.1).  Trierarchoi  are  attested  at  Xen.  Hell. 1.1.28  (cf.  IG ii²  105.37  ( 368/7)),  naval  commanders  at  Thuc. 7.25.1,  and  a  nauarchos  at  Diod. 11.88.4  (r 453).  Navies  are mentioned  also  at  e.g.  Thuc. 7.52.1  (seventy-six  ships);  Xen. Hell. 1.2.10  (twenty-five ships),  and  Diod. 13.13.1  (r 413)  (sev- enty-four  ships).  Hoplites  are  mentioned  at  Thuc. 6.67.2, (pandemei,  but  no  figure);  a  corps  of 600  epilektoi  is  attested for 461  (Diod. 11.76.2;  cf.  Thuc. 6.96.3  for 600  logades hoplites)  and  3,000  stratiotai  epilektoi  are  attested  for  409 (Diod. 13.59.1).  Akontistai  are  attested  at  Thuc. 6.67.2  and psiloi  at 6.52.2,  7.78.3.  Hippeis  are  mentioned  at  e.g.  Thuc. 6.67.2,where  they  are  said  to  number  not  less  than  1,200.The democracy  too  hired  mercenaries  (Thuc. 7.48.5).During  the democracy  the  board  of  strategoi  had  fifteen members (five from  each  tribe?),  but  during  the  Athenian  invasion  it  was reduced to  three strategoi  autokratores  (Thuc. 6.73.1), perhaps  one  from  each  tribe.  Strategoi  are  referred  to also  at e.g.  Thuc. 6.40.2;Xen.  Hell. 1.1.27;  IG ii²  105.36  ( 368/7);  and Diod. 11.91.2  (r 451).  Dionysios  I  in  405  raised 30,000  foot, 1,000  horse  and  50  ships  (Diod. 13.109.2). Sending  of  envoys  is  attested  at  Diod. 11.68.1  (r 466),  Thuc. 4.58  (Congress  of  Gela), 73.2,  75.2;  reception  of  envoys  is attested  at  Diod. 12.8.4  ( 446)  and  13.44.4  (r 410).  A  grant  of proxeny  by Delphi  (no. 177)  to  a  citizen  of  Syracuse  is  record- ed  by F.Delphes iii.1437  ( 331/30);  IG ii²  101  ( 373/2)  is  an  hon- orific decree for a citizen of  Syracuse  by Athens  (no. 361).The inhabitants  of  Antandros  (no. 767)  decreed  honorific citi- zenship  to  the  citizens  of  Syracuse  in  recognition  of  military help  (Xen.  Hell. 1.1.26).For  block  grants  of  Syracusan  citizen- ship,  see  above.  A  citizen  of  Syracuse  served  as  theorodokos  of Epidauros  (no. 348)  in  356/5  (IG iv².195.i.39;  cf. ii.61). The  constitution  of  Syracuse  is  known almost  exclusively from  literary  sources,  and  the  only  relevant  inscriptions  are 226 fischer-hansen,  nielsen  and  ampolo a  few  dedications  found  in  Olympia  and  Delphi  (infra). Hippys  of  Rhegion  (FGrHist 554)  fr. 4  refers  to a  Pollis  Argeios describing  him  as  having  been  king  ( ) of Syracuse,  presumably  before  C 5  (Carlier  ( 1984)  467;  he  is described  as  tyrannos  in  Arist.  fr. 602.1).  However,  the  origi- nal  constitution  of  the  city  was  an  aristocracy  of  Gamoroi (Marmor  Parium  (FGrHist 239)  36  (rC 7l\\xadC6e);cf.also  IGDS no. 219  with  Dubois\\'  comm.;  Diod. 8.11),  who  ruled  both  the demos  (Hdt. 7.155.2)  and  a  serf  population  called  the Kyllyrioi  (ibid.  and  Arist.  fr. 603).  In  C 5e  the  Gamoroi  were expelled  by the  demos  and  retired  to  the  Syracusan  colony  of Kasmenai  (no. 29),  whence  they  were  brought  back  by Gelon,  to  whom  the  demos  handed  over  both  itself  and  the polis  (see  E.  W.  Robinson  ( 1997)  120\\xad22  with  Arist.  Pol. 1302b31\\xad32  for  democracy  at  Syracuse  at  this  stage).  Gelon moved  his  seat  from  Gela  (no. 17)  to  Syracuse,  and  from  that point  the  city  was  ruled  by  the  tyrant  dynasty  of  the Deinomenidai:  Gelon  ( 485\\xad478/7;  see  Berve  ( 1967)  142\\xad47), Hieron ( 478\\xad466;  see  Berve  ( 1967)  147\\xad52),  and Thrasyboulos  ( 466/5).  The  assembly  is  attested  during Gelon\\'s  reign  (Diod. 11.26.6).The  tyranny  was  brought  to  an end  in  466/5,  when  the  Syracusans  revolted  against Thrasyboulos  (Arist.  Pol. 1312b10\\xad16)  and  expelled  him  in collaboration  with  forces  from  Gela  (no. 17),  Akragas  (no. 9),  Selinous  (no. 44)  and  Himera  (no. 24)  (Diod. 11.67.5\\xad68.5);  Arist.  Pol. 1312a10\\xad11  suggests  that  the Deinomenidai  may  have  been  weakened  by  internal  rivalry. Democracy  was  now  reintroduced  (Arist.  Pol. 1316a32\\xad33; Diod. 11.68.6),  and  at  least  some  of  the  population  reloca- tions  carried  out  by  Gelon  were  reversed  (Diod. 11.76.3\\xad5; Strabo  6.2.3).  The  assembly  (ekklesia)  passed  a  decree (epsephisanto)  to  the  effect  that  only  archaioi  politai  were entitled  to  hold  office (Diod. 11.72.2).  Seven  thousand  of  the mercenaries  enfranchised  by Gelon  were thus  excluded from  office (Diod. 11.73.1),  though  they  remained  citizens (Arist.  Pol. 1303b1);  this  led  to  civil  war  (ibid.),  which  the mercenaries  lost  (Diod. 11.76.2;  cf.  Arist.  Pol. 1303a38ff).  A koinon  dogma  by  all  the  poleis  of  Sicily  then  reversed  all population  relocations  of  C 5f  and  assigned  Messana  (no. 51) to  the  mercenaries  (Diod. 11.76.5  (r 460)).  The  democracy lasted  until  the  tyranny  of  Dionysios  I  (for  the  democracy  in this  period,  see  Rutter  ( 2000));  during  the  democracy,  the working  of  the  assembly  is  attested  (Thuc. 6.32.3,  72.1;Diod. 11.72,  92.2;  cf.  Thuc. 6.35.  2  for  a  demou  prostates  and  Diod. 11.92.2  (r 451)  for  a  hint  of  the  procedure  of  probouleusis (Rutter  ( 2000)  145)),  and  foreign  policy  was  among  its responsibilities  (Thuc. 7.2.1);  magistracies  were originally filled b y election  (Diod. 11.73.1);  Thuc. 6.38.5  suggests  that  a law  specified a minimum age for office  holding.  The  proce- dure  of  petalismos  was  instituted  in  imitation  of  Athenian ostracism  to  prevent  the  appearance  of  new  tyrants;  it  led  to several  banishments,  but  had  to  be  revoked  because  it  alien- ated  the  upper  class  (Diod. 11.86\\xad87;  Rutter  ( 2000)  146\\xad48). After  the  victory  over  Athens  the  demos  assumed  still  greater power  (Arist.  Pol. 1304a27\\xad29: µ  ...    µ µ).An important revision of  the  leg- islative  code  took  place  in  this  period  ( 412/11)  according  to Diodorus:  a  commission  of  nomothetai  presided  over  by Diokles  drew  up  the  so-called  Laws  of  Diokles  ( 13.35);  one reform  changed  the  procedure  for  appointing  magistrates from  election  to  sortition  ( 13.34.6).  Tyranny  returned  to Syracuse  with  Dionysios  I,  who  ruled  the  city  from  his appointment  as  strategos  autokrator  in 406  (Diod. 13.95.1)  to his  death  in  367  (see  further  Caven  ( 1990)).  Dionysios  pre- sumably  carried  out  a     µ  to  consolidate  his grip  on  power (Diod. 14.7.4\\xad5  (r 404)).  IG ii²  105.35\\xad37 ( 368/7)  suggests  that  in  formal  terms  the  democratic  consti- tution  remained  in  existence  during  Dionysios\\'  reign  (cf.  Arist.  Oec. 1349a14,  26,  34  for  the  ekklesia  during  his reign).  After  his  death  several  tyrants  were  in  power  until  the intervention  of  Timoleon  in  344  put  an  end  to  a  period  of unrest  and  reintroduced  democracy  (see  Talbert  ( 1974)).  By the  later  C 4  the  city  was  ruled  by  \"the  oligarchy  of  the  Six Hundred\"  until  tyranny  returned  once  more  with Agathokles  (see  Wickert  in  RE ²  iv. 2.  1518\\xad23). Syracuse  experienced  perhaps  more  staseis  than  any  other Greek polis:  Berger  ( 1992)  34\\xad49  studies  nineteen  cases  from the  Archaic  period  down  to  the  age  of  Timoleon.  One  stasis occurred  prior  to  the  foundation  of  Himera  in  648:  Thuc. 6.5.1  mentions  that  a  group  of  phygades  from  Syracuse    joined  the  Zanklaians  in  founding Himera  (Berger  ( 1992)  34).  Another  stasis  occurred  \"in ancient  times\"  and  developed  from  a  conflict between office-holders into a c onflict involving all citizens;  it  led  to  a change  in  the  constitution  (Arist.  Pol. 1303b20\\xad26;  cf.  Berger ( 1992)  35).  Plut.  Mor. 825C,  relating  this  event,  mentions  a convened  to  solve  the  political  differences. One  of  the  earliest  known  public  enactments  is  a  law regulating  funerary  expenses  which  is  attested  during Gelon\\'s  reign  (Diod. 11.38.2).  A  death  sentence  and  execu- tion  are  recorded  by  Diod. 11.91.2  (r 451);  confiscation of property  of  convicts  is  attested  by  Diod. 13.93.2  (r 406). An  eponymous  epipolos  is  attested  from  the  time  of Timoleon  onwards  (Diod. 16.70.6  (r 344)).  Arist.  Pol. 1303b23 has  a  general  reference  to archai\"in  ancient  times\";  the  boule is  attested  in  the  same  period  (by  Plut.  Mor. 825C  (supra)) sikelia  227 and  is  mentioned  in  IG ii²  105.36  ( 368/7).  Thucydides  pro- vides  some  general  references  to officials ( 7.73.3:    ;  7.73.4:    ); and  Diod. 11.92.2  (r 451)  has  a general  reference  to archontes  convening  the  assembly  (cf. 13.91.4  (r 406)).  IG ii²  105.35  ( 368/7)  also  provides  a  general reference  to archontes. A  system  of  phylai  is  attested  by  Thuc. 6.100.1;  it  served inter  alia  as  the  basis  for  the  army  organisation  (cf.  Plut.  Nic. 14.6).The  number  of  strategoi  indicates  that  there  were  three phylai;  they  were  presumably  the  traditional  Dorian  set  of Hylleis,  Dymanes  and  Pamphyloi  (Jones,  POAG 173\\xad76).  A roster  of  all  Syracusan  citizens  as  organised  into  their  phylai was  stored  in  the  Olympieion  (Plut.  Nic. 14.6  (r 415),  see  229). Eisphora  is  attested  during  the  reign  of  Dionysios  I  (Arist. Pol. 1313b26ff,  Oec. 1349b6);  tribute  received  from  subjected natives  is  attested  in  Thuc. 6.20.4.According  to  Diod. 14.46.1 (r 398),  a  sizeable  body  of  Carthaginians  lived  in  Syracuse  as free  non-citizens. The  splendidly  celebrated  Panhellenic  victories  of  Hieron (Olympionikai 221,  234,  246;  Pind.  Ol. 1,  Pyth. 1\\xad3;Bacchyl. Ep. 3\\xad5;cf.Harrell  ( 2002))  were  not  the  only  victories  won  by Syracusans;  see  Olympionikai 51  ( 648),  219  ( 476),  248  ( 468), and 334  ( 420).  In  C 5f,  Astylos  of  Kroton  was  proclaimed  a Syrakosios  at  several  of  his  Olympic  victories  (Olympionikai 186\\xad87),  and  Diod. 11.1.2  describes  him  as  such.  Dikon  of Kaulonia  must  have  been  among  the  Kaulonians  relocated to  Syracuse  by  Dionysios  I  (supra);  he  was  proclaimed  a Syrakosios  at  his  subsequent  victories  (Olympionikai 388\\xad89)  and  is  described  as  such  by  Diod. 15.14.1  (cf. Stylianou  ( 1998)  ad  loc.).  For  a  C 4l  victor  in  the  Arkadian Lykaia,see IG  V. 2550.20. The  principal  divinities  of  Syracuse  seem  to  have  been Apollo,  Artemis,  Athena  and  Zeus  (Olympios),  to  all  of whom  temples  were  erected  in  the  Archaic  period  (infra). All  preserved  communal  dedications  are  of  C 5.  IG v.1217 is  presumably  a  C 5f  dedication  by  Syracuse  at  Sparta  (no. 345).  Whereas  Gelon  dedicated  spoils  from  the  battle  of Himera  ( 480)  at  Delphi  in  his  own  name  (ML  28  IGDS  no. 93;  cf.  Diod. 11.26.7;  for  the  structure:  Krumeich  ( 1991)), spoils  from  the  victory  at  Kyme  in  474  were  dedicated  joint- ly  at  Olympia  by  µ   (ML 29  IGDS  no. 94;  cf.  Horos 1  ( 1983)  59; Yalouris  ( 1980)  14\\xad15;  O.  Hansen  ( 1990);  Harrell  ( 2002)).  A treasury  was  built  at  Olympia  from  the  spoils  of  Himera (Paus. 6.19.7:  ;  for  the  structural remains:  Mallwitz  ( 1956\\xad58));  in  it  were  housed  offerings  by,  presumably,  \"Gelon  and  the  Syracusans\"  (ibid.).  For  a dedication  at  Olympia  by  the  Syracusans  of  spoils  taken from  Akragas,  see  IGDS  no. 95;Yalouris  ( 1980)  16;  and  SEG 11 1212a  (cf.  SEG 15  252).  A  herald\\'s  staff  was  also  dedicated  at Olympia  (SEG 38  368  (c. 475)).At  Delphi  a  treasury  was  con- structed  from  the  spoils  taken  from  the  defeated  Athenians (Paus. 10.11.5).  For  attempts  to  identify  both  an  Archaic  and a  Classical  treasury  of  the  Syracusans  in  the  architectural remains  at  Delphi,  see  Partida  ( 2000)  77\\xad80,  135\\xad46. The  town  was  founded  on  the  island  of  Ortygia,  an  ideal site  with  harbours  on  either  side:  in  the  east  the  Lakkios,  the Small  Harbour,  in  the  west  the  Great  Harbour  (for  a  geo- morphological  survey  of  settlement  and  territory,  see Mirisola  and  Polacco  ( 1996)).  Traces  of  Sikel  habitation  confirm the t radition  that  the  first G reek  settlers  ousted  the original  inhabitants  (Thuc. 6.3.2;  cf.  Martin  et al.( 1979) 655\\xad57;  Frasca  ( 1983)). Archaeological  evidence  confirms a C 8s  foundation  date, and  C 8  habitation  remains  on  Ortygia  are  similar  to  con- temporary  remains  from  Megara  and  Naxos.  A  north\\xadsouth artery,  joining  the  major  sanctuaries,  and  with  orthogonally laid  out  stenopoi,  has  an  early  origin  (Pelagatti  ( 1982)  135\\xad38; Voza ( 1984\\xad85)  669\\xad72,(1993\\xad94)  1283\\xad87).  The  city expanded  on  to  the  mainland,  the  coastal  plain  of Achradina,  from  C 8  (Voza  ( 1976\\xad77)  551\\xad53),  and  from C 7l\\xadC6e  a  narrow  isthmus  may  have  joined  Ortygia  with  its hinterland  (cf.  Strabo  1.3.18;  Kapitän  ( 1967\\xad68)).  The  main east-west  plateia  of  the  Achradina  originated  in  the  C 8\\xadC7 as  a  route  linking  Ortygia  with  the  Fusco  cemetery.  There  is C 5\\xadC4  evidence  of  orthogonal  town planning  (Voza ( 1976\\xad77)  551\\xad61,(1980\\xad81)  681\\xad82).  Ortygia  and  the  inner Achradina  comprised  an  area  of  c. 50  ha. The  C 4  extension  of  the  city  northwards--obliterating the  C 7\\xadC4  cemeteries  and  joining  the  areas  of  the  Achradina and  Neapolis--is probably t o  be  connected  with  the Timoleontic  settlement  of  new  colonists  (Diod. 16.82.3). The  periphery  of  the  city  was  taken  up  with  public  build- ings,  and  the  outskirts  of  the  Neapolis  by  theatres.  Tyche, located  to  the  east,  with  the  sanctuary  of  Tyche  and  the upper  plateau  of  Epipolai,  were  not  urbanised;  however, from  the  time  of  the  conflict w ith  Athens,  the  size  of  the  city was  about  150  ha,  and  in  the  Hellenistic  period  as  much  as 200  ha. The  island  of  Ortygia  and  the  coastal  plain  of  Achradina were  probably  fortified during the A rchaic  period  (implied by  the  mention  of  a  siege  by  Hippokrates  of  Gela  in  the  490s (Hdt. 7.154.2)  and  by  the  mention  of  walls  during  the  revolt against  Thrasyboulos  in  465  (Diod. 11.67.8;  see  also  11.73.1)); however,  the  archaeological  evidence  is  poor  (Drögemüller 228 fischer-hansen,  nielsen  and  ampolo ( 1969)  47\\xad48,  55\\xad56).  From  the  reign  of  Dionysios  I,  Ortygia served  as  a  strongly  fortified palace of  the  tyrants  (Diod. 14.7.2\\xad4;  cf.  Hansen  and  Fischer-Hansen  ( 1994)  29;for remains  of  a  circuit  wall,  see  Martin  et al.( 1979)  666; Karlsson  ( 1992)  22\\xad23),  a  palace  later  razed  to  the  ground  by Timoleon  (Diod. 16.70.4). The  plateau  of  Epipolai  was  probably  not  fortified before forts  were  laid  out  there  by  the  Athenians,  and  the  various counter  walls  and  cross  walls  were  raised  by  the  Syracusans during  the  war  of 414/13  (Thuc. 6.99\\xad100,  7.4\\xad7).  Dionysios I  fortified E pipolai,  first along the northern scarp (Diod. 14.18.2\\xad8  (r 401)),  later  along  the  southern  scarp;  it  was  a  cir- cuit  wall  running  for  c. 9  km,  and  according  to Diod. 15.13.5 the  \"greatest  possessed  by  a  Greek  city\"  (Winter  ( 1971) 314\\xad15;  Karlsson  ( 1992)  21,fig.  1,  23\\xad38,  71).  The  west  gate  and the  Euryalos  fort  were probably  begun  by Dionysios,  but  the fully  developed  system  of  bastions  and  ditches  belong  to  the time  of  Timoleon,  with  the  final c omplex  from  C 3m (Winter  ( 1963);  Lawrence  ( 1979)  295\\xad99). The  Archaic  agora  has  with  some  uncertainty  been  locat- ed  west  of  the  Athenaion  (modern  Piazza  del  Duomo) (Pelagatti  ( 1982)  136\\xad37).  A  Classical  (and  Roman)  agora  is normally  taken  for  granted  in  the  southern  part  of  the Achradina  (modern  Piazza  Marconi/Foro  Siracusano),  but the  evidence  is  inconclusive (Bernabò  Brea  ( 1947);  Martin  et al.( 1979)  675). The  island  of  Ortygia  was  the  seat  of  at  least  three  major sanctuaries:  (a)  in  the  north,  the  sanctuary  of  Apollo,  with  a C 6e  Doric  temple  (Cultera  ( 1951);  Barletta  ( 1983)  72\\xad78), with  a  history  going  back  to C 8;  (b)  the  so-called  C 6l  Ionic temple  is  located  on  the  elevated  central  part  of  the  island (G.V.  Gentili  ( 1967);  Barletta  ( 1983)  86\\xad90);  it  is  uncertain  to whom  the  temple  was  dedicated  (G.  V.  Gentili  ( 1967)  80  sug- gests  Artemis);  it  was  not  completed,  perhaps  as  a  result  of  a revision  of  building  programmes  by  the  Deinomenidai, who  initiated  instead  the  construction  of  the  adjacent Athenaion;  (c)  the  Doric  temple  of  c. 480\\xad470,now incorpo- rated  into  the  Renaissance  cathedral,  probably  built  by Gelon  to  replace  earlier  structures  (Orsi  ( 1919);  T.  Van Compernolle  ( 1989)  45\\xad48,(1992)  51\\xad55).  It  is  normally taken  for  granted  that  this  is  the  temple  dedicated  to  Athena (Cic.  Verr. 2.4.124\\xad25),  and  according  to  Gras  ( 1990)  the  two temples  mentioned  in  Gelon\\'s  treaty  with  the  Carthaginians (Diod. 11.26.2)  were  temples  of  Athena  in  Syracuse  and  in Himera.  Remains  from  the  temenos  include  traces  of  a stepped  altar,  parapet  and  architectural  fragments  in  Ionic style  (Barletta  ( 1983)  78\\xad86).  Investigations  have  recently revealed  a  monumental  entrance  to  the  temenos  and evidence  of  a  C 7l\\xadC6e  naiskos(?),  altar  and  votive  pits  south of  the  Athenaion  (Voza  ( 1993\\xad94)  1286\\xad87).  A  sanctuary  of Olympian  Earth  was  located  on  the  tip  of  Ortygia  (Ath. 462B). Large  quantities  of  C 5l\\xadC4e  votive  deposits  (Martin  et al. ( 1979)  680\\xad86;  Hinz  ( 1998)  102\\xad7)  found  in  the  mainland Achradina  district  (modern  Piazza  Victoria)  provide  evi- dence  of  a  sanctuary  of  Demeter  and  Persephone,  perhaps the  one  embellished  with  two  temples  by  Gelon  after  the  vic- tory  at  Himera  in  480  (Diod. 11.26.7),  located  in  the  suburbs (proasteion)  and  destroyed  by  the  Carthaginians  in  396 (Diod. 14.70.4).  A  C 4  graffito w ith  a  dedication  to  Artemis Pheraia  points  to  a  cult  also  of  Artemis  in  this  sanctuary (Voza  ( 1973c)  106\\xad7).  A  proasteion  is  not  compatible  with  a location  so  near  the  city  centre  according  to  Polacco  ( 1986) 23  n. 6,  who  suggests  that  the  Demeter  sanctuary  should rather  be  located  west  of  the  city  near  the  Olympieion.  An Apollo  sanctuary  was  located  near  the  theatre  in  the Temenites,  a  locality  on  the  outskirts  of  Achradina  (Thuc. 6.75.1,  7.75.1;  for  history  and  terminology:  Drogemüller ( 1969)  48  n. 36,  56\\xad57).  The  sanctuary  is  now  tentatively identified w ith  the  remains  of  an  Archaic  temple  laid  out  on a  terrace  above  the  theatre  (Voza  ( 1993\\xad94)  1289\\xad90). After  the  fall  of  the  tyranny,  the  Syracusans  raised  a  statue of  Zeus  Eleutherios  and  founded  an  annual  festival  of eleutheria  (Diod. 11.72.2  with  Barrett  ( 1973)  30  n. 20;for a survey  of  other  festivals,  see  Trojani  in  Polacco  and  Anti ( 1981)  26\\xad29).  The  major  suburban  cult  was  that  of  Zeus Olympios  west  of  the  river  Anapos  (Diod. 10.28.1  (r 491)). The  extant  remains  are  those  of  a  C 6m  gigantic  Doric  tem- ple,  with  evidence  of  a  C 7  predecessor  (Orsi  ( 1903);  Lissi ( 1958)).A  neighbouring  hamlet,  Polichene  at  Thuc. 7.4.6  but Polichne  at  Diod. 13.7.6,  was  fortified b y  the  Athenians  in 414.  A  suburban  Artemis  sanctuary  was  located  on  the north-east  outskirts  of  the  Epipolai  plateau,  at  the Hexapylon  gate  leading  northwards  to  Megara  and  Katane (Orsi  ( 1900)). Two  Greek  theatres  are  known  at  Syracuse.  ( 1)  The  larger is  situated  on  the  outskirts  of  the  Neapolis  district,  the Temenites,  on  the  slope  of  the  Epipolai.  In  its  main  construction  phase,  the  period  of  Hieron  II  ( 271\\xad216),  it  had a  seating  capacity  of 14,000\\xad17,000;  earlier  Archaic  or Classical  phases  have  not  been  demonstrated  convincingly (Polacco  and  Anti  ( 1981);  Polacco  ( 1990)).  However,  literary sources  attest  to  an  earlier  phase  of  this  theatre  at  least  from C 5e,  and  at  least  from  C 4m  it  was  built  of  stone  (Trojani  in Polacco  and  Anti  ( 1981)  41\\xad43  with  refs.).  A  C 5s  architect  by the  name  of  Damokopos  was  associated  with  the  building  of sikelia  229 the  theatre  (cf.  Eust.  Od. 3.68),  and  Aischylos  produced  the Women  of  Aitna  for  Hieron  in  476  (see  Trojani  in  Polacco and  Anti  ( 1981)  34\\xad36  with  refs.).  A  theatre  is  mentioned  by Diod. 13.94.1  (r 406),  and  was  used  as  ekklesiasterion  in 336 (Plut.  Tim. 34.3,  38.3).  ( 2)  About  100  m  to the  west,  rock  cut- tings  from  a  rectangular  structure  are  evidence  of  a  theatron with  rectangular  seating  and  a  cavea  with  a  diameter  of 27.5 m;  its  seating  capacity  was  about  1,000.  Its  chronology  is uncertain,  though  possibly  C 6l\\xadC5e  (G.  V.  Gentili  ( 1952); Drögemüller  ( 1969)  48\\xad49);  according  to  Bernabò  Brea ( 1967)  99,the  interpretation  of  the  rectangular  structure  as  a predecessor  of  the  large  theatre is  quite  uncertain,  and  it cannot  be  excluded  that  this  building  served  as  the  meeting place  for  smaller  political  bodies  or  even  as  a  bouleuterion (Ginouvès  ( 1972)  61\\xad62;  Kolb  ( 1981)  92).  A  prison  is  attested in  Diod. 11.86.5  (rC 5m)  and  in  Plut.  Dio 57.3  (Hansen  ( 2002) 36\\xad37). The  earliest,  Fusco,  cemetery  laid  out  east  of  the  city  was later  followed  by  an  arc  of  cemeteries  lying  around  the  city from  there  to  Tyche  in  the  west.  The  Archaic  cemeteries  in the  outer  Achradina  district  were  taken  over  by  habitation when  the  Classical  city  expanded,  pushing  the  Hellenistic cemeteries  further  out.  (For  a  survey  with  bibliography: Lanza  ( 1989);  add  Voza  ( 1993\\xad94)  1292;  Shepherd  ( 1995) 52\\xad56;  see  also  Frederiksen  ( 1999)). Minting  began  about  510/500  (C.  Boehringer  ( 1984\\xad85) 122\\xad24)  with  coins  on  the  Euboic\\xadAttic  standard  and  the tetradrachm  as  the  main  denomination:  obv.  quadriga,  leg- end: or ;  rev.  an  incuse  mill-sail design  with  a  female  head,  probably  the  nymph  Arethusa,  in the  centre  (SNG  Cop.  Sicily 614;  standard  corpus  of Syracusan  coins  until  c. 425:  E.  Boehringer  ( 1929);  recent  sur- vey:  Rutter ( 1997)  114\\xad16,  121\\xad29).  The  lower  denomination is  a  didrachm  with  obv.  rider  and  side-horse;  rev.  similar  to the  tetradrachm  issue  (C.  Boehringer  ( 1984\\xad85)  pl. 13.8\\xad9). A  new  issue  was  probably  introduced  by  Gelon  c. 480  with basically  the  same  types  though  more  developed  in  design: the  charioteer  crowned  by  a  Nike,  and  Arethusa  on  the  rev. occupying  the  whole  field and surrounded b y  four  dolphins, legend: / (Rutter  ( 1997)  124  fig. 121;  SNG Cop.  Sicily 617\\xad18;  SNG  Cop.  Suppl. 74;C5f  chronology, followed  here:  Rutter  ( 1998)).  Lower  denominations (didrachms  and  drachms):  obv.  horseman;  rev.  Arethusa (SNG.  Cop.  Sicily 615\\xad16).  The  next  phase,  from  shortly before  470,  saw  a  rich  issue  of  tetradrachms  with  the  now canonical  types;  types  of  the  lower  denominations: drachms,  obv.  horseman,  rev.Arethusa;  obols,  obv.Arethusa, rev.  four-spoked  wheel  (with  between  the  spokes); litrai,  obv.  Arethusa,  legend: ,  rev.  Cuttlefish ( SNG Cop.  Sicily 620\\xad34).  This  issue  culminated  in  a  series  of tetradrachms  and  an  innovative  issue  of  decadrachms,  now dated  470\\xadc.466  and  no  longer  connected  with  the  480 victory  of  Gelon  at  Himera  in  480:  obv.  as  above  but  with lion  in  exergue,  rev.  Arethusa  wearing  wreath,  legend: (Rutter  ( 1993),  ( 1998)  pl. 67.3\\xad4).  From c. 460  the  obv.  type  carried  ketos  in  exergue  (SNG  Cop.  Sicily 635\\xad51).  The  Attic  weight  standard  and  the  obv.  design  came to  exert  great  influence on the c oinages  of  the  neigbouring cities  of  Gela,  Katane  and  Leontinoi  (Kraay  ( 1976)  210\\xad11; Rutter ( 1998)). By C 5l,  tetradrachms  with  the  canonical  types  in  a  free style  were  produced  by  workshops  at  times  operating  with engravers  who  signed  their  dies  (Rutter  ( 1997)  144\\xad46;  SNG Cop.  Sicily 666).  One  issue  of  the  die-cutter  Kimon  has  two letters  on  the  obv.: ,  possibly  a  reference  to a  cult  of Arethousa  Soteira  (Cahn  ( 1993)).  C 5l  also  saw  large  issues  of smaller  denominations;  of  special  interest  are  drachms  with rev.  type  showing  the  legendary  Sikanian  hero  Leukaspis (SNG  Cop.  Sicily 665,  673).  Before  400  the  standard  legend becomes  (Head,  HN ²175;  SNG  Cop. Sicily 674,681,etc.).Bronze  and  gold  issues  belong  to  the  end of  C 5  and  should  be  seen  in  the  light  of  first the A thenian and  later  the  Carthaginian  invasions  under  Dionysios  I, with  high  denominations  in  silver,  decadrachms  signed  by engravers  (C.  Boehringer  ( 1993);  Rutter  ( 1997)  146\\xad47, 154\\xad58;  bronzes:  Morcom  ( 1998);  SNG  Cop.  Sicily 683\\xad700, 720\\xad22).100-litrai  electrum  coins  were  minted  by  Dionysios I  and  II:  obv.  Apollo;  rev.  Artemis,  legend: ; smaller  denominations  were  minted  as  well  (SNG  Cop.  Sicily 701\\xad10).  Under  Timoleon  the  Corinthian  connection  is underlined  by  Corinthian-type  pegasi  minted  at  Syracuse (SNG  Cop.  Sicily 711\\xad12);  later  the  Zeus  Eleutherios  and  the free  horse  types  become  common  for  the  cities  under Timoleon\\'s hegemony  (Talbert  ( 1974)  182\\xad90;  Karlsson ( 1995);  SNG  Cop.  Sicily 725). Syracuse  founded  several  colonies.  The  earliest  was Heloron  (no. 18),  founded  in  C 8l\\xadC7e.  Akrai  (no. 10)  was founded  in  664,  and  Kasmenai  (no. 29)  in  644  (Thuc. 6.5.2). Kamarina  (no. 28)  was  founded  c. 598  (Thuc. 6.5.3),  and within  a  few  decades  waged  war  on  its  metropolis  (Philistos (FGrHist 556)  fr. 5).  The  tyrant  Hieron  founded  the  city  of Aitna  (no. 8)  in  476  (Diod. 11.49.1\\xad2);  and  Dionysios  I founded  Adranon  (no. 6)  (Diod. 14.37.5  (r 399)),  probably Adria  (no. 75),  possibly  Ankon  (no. 76),  certainly  Issa  (no. 81);  cf.  Stylianou  ( 1998)  ad 13.4\\xad5  at  p. 196),  Lissos  (no. 82) (Diod. 15.13.4  (r  c. 385);  see  Stylianou  ( 1998)  ad  loc.),  and 230 fischer-hansen,  nielsen  and  ampolo Tyndaris  (no. 49).  Tauromenion  (no. 48)  too  may  possibly be  a  Dionysian  foundation.',\n",
       " '48. Tauromenion ': '(Tauromenitas) Map  47.  Lat. 37.50, long. 15.15.  Size  of  territory:  ?  Type:  [A]: .  The  toponym  is µ,  (Timaios  (FGrHist 566)  fr. 33;  Theophr.  fr. 165);  or  µ,  (Diod. 22.7.4).  The  city-ethnic  is µ  (I.Delos 103.60  ( 372\\xad367);  C 4  coins,  infra; Diod. 16.7.1  (r 358));  or  µ  (Diod. 16.68.8  (r 344)). See  further  Ziegler  ( 1934)  28. Ps.-Skylax 13  lists  Tauromenion  under  the  heading  ` ,  side  by  side  with  Naxos  (no. 41), although  the  two  cities  did  not  exist  contemporaneously; this  presumably  means  that  the  text  has  been  compiled  from sources  of  different  dates.  Diod. 14.59.3  calls  it  a  polis  in  the urban  sense,  but  the  reference  is  to the  year  396,  at  which time  the  site  was  not  yet  a  Greek  city  (see  below  on  the  foun- dation).  As  a  Hellenic  community  it  is  called  a  polis  in  the urban  sense  at  Diod. 16.7.1  (r 358)  and  in  the  political  sense  at Diod. 16.68.8  (r 344). The  internal  collective  use  of  the  city-ethnic  is  found  on C 4  coins  (infra);  the  external  collective  use  is  found  in I.Delos 103.60  ( 372\\xad367;  cf.  IG ii²  1638B.43),Diod.16.68.9  and Plut.  Tim. 11.4  (r 344);  the  external  individual  use  is  found  in Diod. 16.7.1  (r 358),  and  is  often  applied  to  the  historian Timaios  (cf.  FGrHist 566,  tt. 1,  4e,  5,  13);  see  also  IdiCos  ED 52A.13  (C 3). Tauromenion  became  a  Greek  polis  in  C 4f.  At  16.7.1, Diodorus  describes  what  would  appear  to  be  the  founda- tion:  in  358  Andromachos,  the  father  of  the  historian Timaios,  gathered  the  remnants  of  the  Naxians  whose  city had  been  destroyed  by  Dionysios  I  in  403  (Diod. 14.15.2\\xad3), had  them  settled  on  the  Monte  Tauro  above  the  abandoned site  of  Naxos,  and  named  the  place  Tauromenion.  The  city soon  became  populous  and  wealthy.  There  is  reason  to believe,  however,  that  this  was  not  the  point  at  which  the Greek polis  of  Tauromenion  originally  came  into  being:  not only  is  Andromachos  described  as  Tauromenites  at  this  very point,  but,  much  more  importantly,  a  communal  dedication by  the  Tauromenitai  at  Delos  is  listed  in  Delian  inventories which  antedate  by  several  years  the  event  described  by Diodorus:  see  I.Delos 101.40  ( 372\\xad367),  103.60  with Rutherford  ( 1998)  83,  and  this  indicates  that  the  polis  existed prior  to the  enfranchisement  of  the  Naxians  and  prior  to 364 (ibid.).  Nor  was  the  site  created  ab  novo  in 358,  at  least  not according  to  Diodorus  himself,  who  gives  the  following information  on  Tauromenion  prior  to 358:in  403,  upon  his destruction  of  Naxos,  Dionysios  handed  its  chora  over  to  the neighbouring  Sikels  ( 14.15.3);  in  396  the  Carthaginian Himilkon  induced  the  Sikels  to  create  a  fortified c entre  on the  Monte  Tauro,  a  site  which  they  named  Tauromenion  (but see  Bennet  ( 1977)  85)  and  which  Diodorus  describes  by  the term polis  ( 14.57.2);  in  394/3  Dionysios  attempted  without success  to  take  the  Sikel  polis  of  Tauromenion  by siege ( 14.87.4\\xad88.4);  however,  by  the  treaty  in  392  between Dionysios  and  Carthage,  Tauromenion  was  assigned  to Dionysios,  who  proceeded  to  expel  most  of  the  Sikels  and settle  selected  mercenaries  at  the  site  ( 14.96.4).  If  this Dionysian  settlement  of  mercenaries  was  not  in  fact  the foundation  of  the  Greek  polis  (it  may  have  struck  coins, infra),  then  the  polis  must  have  come  into  being  after  this event  and  before  the  inscribing  of  the  Delian  inventories c. 374\\xad367.  The  reason  why  Diodorus  seems  to  think  of  the settlement  of  Naxians  at  Tauromenion  in  358  as  the  founda- tion  of  the  city  may  be  that  he  drew  his  information  from Timaios,  the  son  of  Andromachos,  who  may  have  described the  event  \"in  maiorem  gloriam  patris\"  (so  Ziegler  ( 1934)  30; cf.  Bennet  ( 1977)  86\\xad87;  Timaios  was  reputedly  partial  to  his father,  see  Marcellin.  Vita  Thucydidis 27).  So  as  a  Greek  polis Tauromenion  was  a  C 4f  foundation;  however,  there  is  some archaeological  evidence  of  C 7  Greek  presence  at  the  site;  Ps.- Skymnos  289  lists  Tauromenion,  with  Himera  (no. 24), among  the  Chalkidian  foundations,  thus  implying  an  early date,  but  this  is  most  probably  an  error.  Strabo  6.2.3  lists Tauromenion  as  a  city  founded  by  the  Zanklaians  of  Hybla; the  passage  is  confused,  but  may  be  explained  on  the assumption  that  Zanklaians  (  Messanians)  who  had  been ousted  from  Messana  in  396  by  Himilkon  (Diod. 14.58.3) took  refuge  in  Aitnaian  Hybla  (although  there  is  no  direct evidence  for  this),  and  later  participated  in  the  foundation of  Tauromenion  (Strabo  6.2.3;  cf.  Consolo  Langher  ( 1996c) 542  for  this  suggestion).  For  a  survey  of  research and  inter- pretations,  see  Ziegler  ( 1934),  Bennet  ( 1977)  84,and  Consolo Langher  ( 1996c). The  size  of  the  territory  is  unknown.  It  may  have remained  Sikel  although  under  Greek  suzerainty  (Diod. 14.96.4;  cf.  Consolo  Langher  ( 1996c)  538  n. 6).  By  C 4l  there were  a  number  of  phrouria  in  the  territory  (Polyaen. 5.3.6;  cf. Steph.  Byz. 168.15). Not  much  is  known  about  the  institutions  and  political structure  of  C 4  Tauromenion.  When  Timoleon  arrived  at Tauromenion,  its  leading  citizen  was  Andromachos:  Diod. 16.68.8  describes  him  as      µ,  and Plut.  Tim. 10.6\\xad8  as       ; Marcellin.  Vita  Thucydidis 27  describes  him  as  exercising monarchia;  he  may,  then,  have  been  a  tyrant  (so  Talbert sikelia  231 ( 1974)  114\\xad15)  and  if  so,  his  enfranchisement  of  the  Naxians (supra)  joins  the  long  list  of  tyrannical  population  transfers in  Sicilian  history.  Plut.  Tim. 10.7  says  that  he  led  the  politai µµ  , but  if  the  ultimate  source  for  that statement  is  Timaios,  its  reliability  is  questionable;  it  is  at least  possible  that  some  Tauromenitai  left  the  city  in  opposi- tion  to  Andromachos  (cf.  Jacoby\\'s  comm.  ad  Timaios (FGrHist 566)  fr. 33).The  existence  of  a  civic  army  is  suggest- ed  by Diod. 16.7.9  (r 344),  and  reception  of  envoys  is  attested by Plut.  Tim. 11.2  (r 344).  An  external  communal  dedication at  Delos  is  attested  by  I.Delos 103.60  ( 372\\xad367). The  site  of  the  Sikel,  later  Greek  city  of  Tauromenion north  of  Naxos,  and  originally  in  the  chora  of  this  city  (it  had been  conquered  by  force  at  the  foundation  of  Naxos;  cf. Diod. 14.88.1),  was  well  chosen:  it  is  an  easily  defendable  site on  the  Monte  Tauro, 200\\xad300  m  above  sea  level. The  urban  remains  are  mainly  Hellenistic  and  Roman. The  Greek  city  was  undoubtedly  fortified:  remains  of  a  cir- cuit  wall  are  extant  near  the  agora  (cf.  also  Freeman ( 1891\\xad94)  iv. 109\\xad10).  The  settlement  was  fortified already during  the  Sikel  C 4e  phase  according  to Diod. 14.87.4\\xad88.4. The  settlement  comprises  c. 65  ha,  excluding  the  upper  part of  Monte  Tauro  above  the  city  (perhaps  a  fortified acropo- lis).  C 7\\xadC5l  Greek  presence  has  been  revealed  by  sherds found  in  the  area  of  the  agora,  spanning  the  period  from  the early  history  of  Naxos  until  its  destruction  by  Dionysios  in 403  (Bacci  ( 1980\\xad81b)  742,(1997)).  C 6  architectural  frag- ments  of  Naxian  type  attest  to  an  extra-urban  sanctuary  in the  territory  of  Naxos  (Bacci  ( 1984\\xad85)  722\\xad23),  situated within  the  later  city  in  what  was  to  become  the  agora  of Tauromenion  on  the  plateau  west  of  the  theatre.  Epigraphic and  architectural  evidence,  and  similarities  with  the  theatre at  Syracuse,  point  to  a  C 3e  Greek  origin  for  the  famous Roman  theatre  (Polacco  ( 1982)  438\\xad40).  Tauromenion  may have  had  a  C 4  overall  urban  scheme  of  habitation  and  pub- lic  structures  laid  out  on  terraces  along  the  slopes  of  Monte Tauro  (Bacci  ( 1997)). A  rare  silver  dilitron  with  Naxian  types:  obv.  laureate  head of  Apollo  (Archagetes);  rev.  squatting  Silenos;  legend: [] (Cahn (1944)  146  no. 149),  has  been attributed  to the  mercenaries  of  Dionysios\\' 392  settlement, although  the  issue  may  have  been  made  only  after  the  death of  Dionysios  (S.  Calderone  ( 1956);  followed  by  Consolo Langher  ( 1996c)  538\\xad39).  A  large  bronze  coinage  in  three denominations  was  struck  in  the  reign  of  Andromachos c. 357\\xad344.  Types:  obv.  head  of  Apollo  Archagetes  laureate, legend: ;  rev.  bull  walking  or  galloping, at  times  man-headed,  or  bull-head  protome,  legend: ,  ,  with  variations (SNG  Cop.  Sicily 916\\xad20).  The  type  and  legend  of  Apollo Archagetes  (cf.  App.  B  Civ. 5.12.109)  testify  to  Tauromenion\\'s ambition  to  be  the  heir  of  Naxos  (for  the  period  of Timoleon,  see  Brugnone  ( 1980)  279).  The  type  of  Apollo, influenced b y  a  type  known  from  earlier  issues  of  the Chalkidic  cities,  is  crucial  testimony  to  the  importance  of the  Tauromenian  mint  (Consolo  Langher  ( 1996c)  550\\xad55). The  issues  of  the  Timoleontic  period  ( 345\\xad338)  were  a  sym- machia  coinage  with  two  groups  of  hemilitra:  obv.  head  of Apollo  laureate,  legend: () or head of  Zeus Eleutherios;  rev.  lyre,  tripod,  galloping  bull  or  bunch  of grapes,  legend: (Consolo  Langher ( 1996c)  555\\xad67;  cf.  also  Karlsson  ( 1995);  SNG  Cop.  Sicily 921\\xad26).',\n",
       " '49. Tyndaris ': '(Tyndarites) Map  47.  Lat. 38.10,long.  15.05. Size of  territory:  ? Type:  B: .  The  toponym  is  , (BCH 45  ( 1921)  iv.93  ( 230\\xad210);  Strabo  6.2.1),  or   (Ptol.  Geog. 3.4.2).  The  city-ethnic  is  (IGUR ii 823  (Hell.);  Diod. 13.69.3)  or  (Diod. 23.5 (r 263/2)). Tyndaris  is  called  a  polis  in  connection  with  its  founda- tion  in  396  in  Diod. 14.78.5,a  passage  which  presumably  uses polis  primarily  in  the  urban  sense  although  the  presence  of the  terms  and indicates that  the  term  may  carry  the  political  sense  as  well  (cf. Hansen  ( 2000)  175\\xad76).According  to  the  text,  the  commun- ity     quickly  grew  to number more  than  5,000:  this  implies  grants  of  citizenship  and  reg- istration  of  citizens,  and  thus  shows  that  Tyndaris  was  a polis;  the  city  furthermore  struck  coins  in  C 4m  (infra),  con- cluded  a  treaty  of  symmachia  with  Timoleon  (Diod. 16.69.3, a  passage  which  also  mentions  armed  forces  of  the  city)  and had  a  Delphic  theorodokos  in  C 3s  (BCH 45  ( 1921)  iv.93 ( 230\\xad210)).  The  internal  collective  use  of  the  city-ethnic  is found  on  C 4m  coins  (infra);  the  external  collective use  is found  in  Diod. 16.69.3  (r 344);  and  the  external  individual use  is  found  in  IGUR ii  823  (Hell.). Tyndaris  was  founded  as  a  fortress  by  Dionysios  I  in  396 (Diod. 14.78.5;  cf.  Consolo  Langher  ( 1996b))  on  the  coast c. 60  km  west  of  Messana  (no. 51).The  city  was  populated  with 600  Peloponnesian  Messenians  expelled  from  Zakynthos (no. 141)  and  Naupaktos  (no. 165;  Asheri  ( 1983)).  Territory for the  new  community  was  taken  from  that  of  the  city  of Abakainon  (no. 5;Diod.  14.78.5),  and  the  defeat  of  Magon  at Abakainon  by  Dionysios  finally secured the t erritory  of Tyndaris  (Diod. 14.90.4).  The  Messenians  named  their  city 232 fischer-hansen,  nielsen  and  ampolo Tyndaris  after  the  cult  of  the  Tyndaridai.  By  admission  of  new settlers  shortly  after  the  foundation  the  population  of Tyndaris  grew  to  more  than  5,000  (Diod. 14.78.6). The  territory  bordered  inland  upon  that  of  Abakainon;  to the  east  it  was  delimited  by  the  territory  of  Mylai,  and  fur- ther  inland  by  the  Sikel  site  of  Longane.  The  territory  may have  comprised  some  hundreds  of  km ²,  but  that  is  difficult to  ascertain.  A  close  relationship  with  the  neighbouring  site of  Agathyrnon  is  suggested  by C 4l  (C 3  according  to  Consolo Langher  ( 1965))  bronze  coinage  with  types  obv.  head  of Apollo,  legend: ;  rev.  armed  warrior,  legend: (the  eponym  of  Agathyrnon;  cf.  Diod. 5.8.2);  however,  the  coins  may  be  a  reference  to  annexation of  Agathyrnian  territory  by  Tyndaris,  rather  than  testimony of  an  alliance  (Consolo  Langher  ( 1965)  82  n. 66;Lacroix ( 1965)  46\\xad47). The  city  was  built  in  a  strong  military  position  on  the  top of  a  rocky  promontory  with  precipitous  cliffs  facing  sea- wards  and  with  access  only  from  the  east.  The  town  was located  on  a  narrow  plateau  with  three  plateiai  oriented north-east\\xadsouth-west  laid  out  on  three  levels  along  the length  of  the  plateau,  orthogonally  crossed  by stenopoi.The size  of  the  city  was  about  14  ha.  The  extant  remains  are Roman,  but  there  are  traces  of  a  Timoleontic  C 4m  phase, and  the  origin  of  the  town plan  probably  goes  back  to the time  of  its  foundation  (Bernabò  Brea  and  Cavalier  ( 1965)).A circuit  wall  was  erected  inland  along  the  south-east  and south-west  sides  of  the  city.  The  first wall,  going  back  to  the Dionysian  foundation,  was  built  in  rough  stones  faced  with plaster  and  strengthened  at  intervals  with  pilasters  built  in ashlar.  In  C 3e(?)  the  wall  was  replaced  by  a  4.5  m-wide  dou- ble  curtain-wall  built  in  ashlar  with  internal  fill strength- ened  with  a  number  of  square  towers  and  a  deep pincer-shaped  gate  (Säflund ( 1937)  412\\xad17;  Barreca  ( 1959)). A  stretch  of  the  wall  descending  obliquely  north-west  pro- tected  access  to the  harbour  below  the  city  (Barreca  ( 1957)). An  agora  was  probably  located  on  the  south-east  side  of the  habitation  area  in  the  region  of  the  later  Roman  forum. No  buildings  of  the  Greek  phase  are  extant,  but  near  the forum  a  theatre  with  its  back  to  the  circuit  wall  and  facing  the upper,  principal  plateia  has  a  Greek  phase  dating  to  c. 300; the  koilon  had  a  diameter  of 76  m  and  a  seating  capacity  of c. 3,000  (Bernabò  Brea  ( 1964\\xad65)). A  cult  of  the  Dioskouroi,  the  Tyndaridai,  is  not  explicitly attested,  but  coin  types  give  clear  evidence  that  such  a  cult was  of  major  importance  (Ziegler  ( 1943)  1785;  Consolo Langher  ( 1965)  66).  A  second,  Timoleontic,  series  of  coins have  as  type  a  head  of  Apollo  (Consolo  Langher  ( 1965)  81).A Zeus  cult  is  attested  by  C 3  bronze  coin  types  depicting  a  stat- ue  of  Zeus,  possibly  the  Messenian  Zeus  Ithomatas  (Ziegler ( 1943)  1785).  Athena,  Poseidon,  Dionysos  and  Kore(?)  are shown on  C 3  coin  types  (ibid.),  and  Artemis  Eupraxia  on  a C 2  dedicatory  relief  (Fischer-Hansen  ( 1992)  no. 12). Tyndaris  struck  bronze  coins  in  C 4m,  consisting  of  hemil- itra  with  fractions,  trias  and  uncia:  pre-Timoleontic:  obv. female  head  (Helen), legend: ;  rev. rider/Dioskouros  (Consolo  Langher  ( 1965),  ( 1996b)  581;  SNG Cop.  Sicily 948).  Second  issue  (Consolo  Langher  ( 1965), ( 1996b)  584;  SNG  Cop.  Sicily 949):  obv.  head  of  Apollo,  leg- ends: ,  ;  rev.cock,or horse\\'s  head,  or  free  horse  (for  the  \"Free  Horse\",  Timoleontic symmachia  coinage,  see  Karlsson  ( 1995)  and  Consolo Langher  ( 1997)  183\\xad85,  188).',\n",
       " '5. Abakainon ': '(Abakaininos) Map  47.  Lat. 38.05,long. 15.05.  Size  of  territory:  ?  Type:  B: .  The  toponym  is ,  (Diod. 14.90.3)  or  ,  (Diod. 19.65.6;  Steph.  Byz. 2.11).  The  city-ethnic  is   (C 4s  coins,  infra;Diod. 14.78.5;  Steph.  Byz. 2.15). Abakainon  is  called  a  polis  in  the  urban  and  political  sens- es  at  Diod. 14.90.3  (r 393)  and  19.65.6  (r 315),  and  in  the  urban sense  at  14.90.4  (r 393).  The  passage  at  14.90.3  describes  it  as  a polis  symmachis  of  Magon,  and  in  a  later  period  it  was  part  of the  symmachia  of  Agathokles,  alongside  such  poleis  as Kamarina,  Leontinoi,  Katane  and  Messana  (Diod. 19.65.6 (r 315),  19.110.4  (r 311)).  The  internal  collective  use  of  the  city- ethnic  is  found  on  coins  struck  c. 400  (infra),  and  the  exter- nal  collective use  is  found  in  Diod. 19.110.4  (r 311). In 396,  Dionysios  I  deprived  Abakainon  of  a  part  of  its chora,  which  was  handed  over  to  his  new  foundation, Tyndaris  (no. 49;Diod.  14.77.5).  Abakainon  was  situated south-east  of  Tyndaris,  at  modern  Tripi.  The  ancient  city, destroyed  by  the  modern,  is  poorly  known.  However, Diodorus\\'  report  ( 14.90.3)  that  in  393  Carthaginian  troops ²²  For  an  analysis  of  the  conflicts,  see  Manni  ( 1976a)  201\\xad4. 182 fischer-hansen,  nielsen  and  ampolo defeated  by  Dionysios  took  refuge  in  the  city  (  ) suggests that by this date it was fortified.  There are  sporadic  Greek  remains  from  C 6,  and  substantial  Greek remains  from  C 4  (Villard  ( 1954));  the  investigation  of  the extensive  cemetery  north  of  the  city  has  brought  to  light  also monumental  C 4  tombs  of  the  type  known  from  Leontinoi (Bacci  and  Spigo  ( 1997\\xad98));  the  city  minted  a  Greek-style coinage  from  C 5m  (infra). Abakainon  struck  silver  coins  (litra,  hemilitron)  from c.C 5m:  obv.  laureate  head,  bearded  (an  indigenous  god assimilated  to  Zeus)  or  beardless  (assimilated  to  Apollo),  or, on  later  coinage,  female  head  (nymph,  or  Demeter  or Persephone);  rev.  wild  boar  and  acorn,  at  times  a  grain  of barley  or  sow  and  piglet,  legend: ,  (above acorn)  (below), (on  obv.) (on  rev.), (Head,  HN ²  118;  Bertino  ( 1975);  SNG Cop.  Sicily 1\\xad6).  In  C 4s,  the  city  struck  in  bronze:  ( 1) Probably  from  the  time  of  Timoleon:  obv.  female  head;  rev. forepart  of  bull,  or  forepart  of  man-headed  bull,  legend: ,  [],  (Head, HN ²  118;  Bertino  ( 1975)  124\\xad26;  SNG  Cop.  Sicily 7);  ( 2) c. 344\\xad338:  obv.  head  of  Dioskouros,  legend: ;  rev.\"free horse\",  legend: ;  the  obv.  type  may  indicate  influence from  the  mint  of  Tyndaris  or,  more  generally,  from  southern Italy  (Bertino  ( 1975)  124\\xad26).',\n",
       " '50. (Tyrrhenoi)': 'Map 47.  Unlocated.  Type:  C: .The  Tyr- rhenoi  are  known exclusively  from  their  C 4s  Greek-style bronze  coinage:  obv.  head  of  Athena  wearing  Attic  helmet, legend: ;  rev.  standing  armed  Athena  (Head,  HN ² 190;  Cutroni  Tusa  ( 1970)  264\\xad65).  The  coins,  whose  types reveal  Athenian  influence,  are  restruck  on  C 4s  Syracusan issues.  They  may  belong  to  an  anti-Syracusan  ethnic  group, perhaps  Tyrrhenian  mercenaries  fighting T imoleon  (cf. Diod. 16.82.2  (r 339/8);  Cutroni  Tusa  ( 1970)  266).  A  settle- ment  site  of  the  Tyrrhenoi  has  tentatively  been  identified with  sporadic  habitation  remains  at  modern  Alimena  in  the territory of  Himera  (no. 24)  (Bejor  ( 1984b)  with  refs.);  other proposals  include  a  location  in  the  region  of  Syracuse\\xadAitna (Cutroni  Tusa  ( 1970)  266).',\n",
       " '51. Zankle ': '(Zanklaios)/Messana ',\n",
       " '6. Adranon ': \"(Adranites) Map  47.  Lat. 37.40,long.  14.50. Size of  territory:  ? Type:  B: .  The  toponym  is  ,   (Diod. 14.37.5,  16.68.9;  Steph.  Byz. 28.1).  The  city-ethnic  is (- ):  C 4s  coins  (infra)  and  Diod. 16.68.9. Adranon  was  founded  by Dionysios  I  c. 400,  and  in  his report  of  the  foundation  Diod. 14.37.5  refers  to it  as  a  polis (    ),  presumably  in  both  the  urban  and  the political  senses;  it  is  called  polis  in  the  urban  sense  at  Diod. 16.68.9  (r 345/4);  it  is  called  a  polis  mikra  in  the  urban  sense  at Plut.  Tim. 12.2  and  polichnion  at 12.3.The  chronological  rela- tionship  between  Adranon  and  the  neighbouring  indigen- ous  site  of  Mendolito  (contemporary  or  successive sites?)  is as  yet  unclarified (Albanese ( 1991)  esp. 548,  552\\xad53). The  internal  collective  use  of  the  city-ethnic  is  found  on C 4s  coins  (infra),  and  the  external  collective use  in  Diod. 16.68.9,  69.3  (r 345/4).A  stasis  is  mentioned  at  Plut.  Tim. 12.2. In 344/3,  Timoleon  received  Adranon  into  his  symmachia, and  the  city  presumably  provided  him  with  armed  forces (Diod. 16.69.3;Plut.  Tim. 12.6). There  are  Greek  finds from C 6l  at  Adranon,  but  the majority  of  the  finds from the habitation area and adjacent cemeteries  belong  to  the  Dionysian  foundation  and  date from  C 4\\xadC3;  the  finds suggest a local production of  red- figure pottery.  The  impressive  ashlar  isodomic  double  curtain-wall,  enclosing  an  area  of  about  60  ha,  probably dates  from  the  period  of  Dionysios'  foundation  (its  gates  are mentioned  at  Plut.  Tim. 12.6).  Votive  deposits  found  within the  urban  area  have  revealed  a  sanctuary  of  Demeter.  Survey of  site:  Marotta  D'Agata  and  Spigo  ( 1984).  Adranos,  identi- fied b y  the  Greeks  with  Hephaistos  and  presumably  the patron  divinity  of  the  city  as  well  as  a  divinity  honoured throughout  Sicily,  had  a  temple  in  the  city  (Plut.  Tim. 12.2,  6; LIMC 1:  229\\xad30). Adranon  began  minting  bronze  coins  under  Timoleon: ( 1)  obv.Apollo,  legend: ;rev.lyre;(2)obv.head of  local  river-god  (Adranos?);  rev.  butting  bull,  legend: (Head,  HN ²  118\\xad19;  LIMC 1:  230;  Karlsson ( 1995)  154\\xad55  with  refs.;  SNG  Cop.  Sicily 10\\xad12).  A  single known  litra  has  obv.  head  of  nymph;  rev.  bull,  fish in e xer- gue,  and  legends: and ,  a  joint  issue of  Piakos  (no. 43;  possibly  at  Mendolito),  and  Adranon  sug- gesting  proximity  and  collaboration  between  these  two communities  (Jenkins  ( 1975)  87\\xad92;  see  also  the  entry  for Piakos).\",\n",
       " '7. Agyrion ': \"(Agyrinaios) Map  47.  Lat. 37.40,long.  14.30. Size of  territory:  ? Type:  B: .  The  toponym  is  ,   (Diod. 1.4.4,  14.9.2), (Ptol.  Geog. 3.4.7),  or (Steph.  Byz. 23.19).  The  city-ethnic  is   (Diod. 4.24.1). Diodorus  calls  his  native  city  a  polis  in  the  political  sense at 14.9.2  (r 404)  and  14.95.4  (r 392);  the  urban  sense  is  found in 14.95.5  (r 392);  politai  is  found  at  14.95.5\\xad6.  The  internal collective  use  of  the  city-ethnic  is  found  on  C 5l  and  C 4  coins (infra),  and  Diodorus  uses  the  collective  city-ethnic  e.g.  at 14.65.5. At 14.95.4\\xad7  (r 392),  Diodorus  describes  Agyrion  as  ruled by  the  (Hellenised?)  tyrant  Agyris,  allegedly  the  most  pow- erful  Sicilian  ruler  after  Dionysios  I;  the  city  is  described  as walled  (  ,  14.95.6),  as  having  an  acropolis ( 14.95.5)  and  c. 20,000  citizens  (      µ,  14.95.4),  and  Agyris  as  wealthy  ( µ ,  14.95.5).  Agyris  concluded  a  symmachia  with Dionysios  I  and  campaigned  with  him  pandemei  ( 14.95.7). In  the  time  of  Timoleon,  Agyrion  was  ruled  by  the  tyrant Apolloniades,  who  was,  however,  deposed  by  Timoleon, whereupon  the  Agyrians  were  granted  Syracusan  citizen- ship  (Diod. 16.82.4;  cf.  Moggi  ( 1976)  357,  who  suggests  that the  population  was  transferred  to  Syracuse  (no. 47)). Timoleon  later  settled  10,000  new  colonists  in  Agyrian  sikelia  183 territory ( ), said  to  be  sizeable  (Diod. 16.82.5; the  territory  (chora)  is  mentioned  also  at  Diod. 14.95.2,from which  passage  it  appears  that  in  C 4e  it  extended  as  far  as  the river  Chrysas).  In  view  of  Diod. 16.83.3,  this  was  presumably a  regular  refoundation  of  Agyrion.  It  is  there  reported  that  the  prosperity  brought  about  by  Timoleon  (cf. R.  P.A.  Patanè  ( 1992)  77)  led  to  the  erection  of  a  splendid  the- atre,  temples,  a  bouleuterion,  an  agora,  a  circuit  wall  with towers,  and  monumental  tombs  (Diod. 16.83.3);  however,  as Lewis  ( 1994)  121  points  out,  Diodorus  puts  a  suspicious amount  of  emphasis  on  his  native  city.  But  the  appearance of  the  town  in  this  report  is  clearly  that  of  a  Greek  polis  (cf. Hansen  and  Fischer-Hansen  ( 1994)  85).  Actual  urban remains  are  scanty,  and  the  archaeological  evidence  for  cult sites  is  tenuous,  consisting  merely  of  a  few  architectural  ter- racottas  (Bejor  ( 1984a)  63).  The  size  and  location  of  the  the- atre  is,  somewhat  hypothetically,  reconstructed  on  the  basis of  mediaeval  documents  (R.  P.  A.  Patanè  ( 1992)  77\\xad80).  The circuit  wall,  no  longer  extant  but  depicted  on  an  eighteenth- century  ad  drawing,  is  dated  to  C 4s  on  the  basis  of  this  evid- ence  (ibid. 80\\xad82). A  bronze  coinage  of  Agyrion,  revealing  Akragantine influence,  is  known  from  possibly  as  early  as  C 5m  (cf.  Bejor ( 1984a)  62),  but  at  least  from  C 5l,  the  period  of  the  tyrant Agyris:  obv.  eagle  with  closed  wings  of  Akragantine  type; rev.wheel,legend: ,  , ,  (Head,  HN ²124;  SNG Cop.  Sicily 126).  C 4s:  obv.  types:  Herakles  or  Apollo  or  male head  or  river-gods;  rev.  leopard  and  hare  or  man-headed bull,  legend: ;horse,or female figure sac- rificing or warrior,  with  legend  on  some  issues: , or (Head,  HN ²125;R.  P.  A. Patanè  ( 1992)  69:  from  the  period  of  Timoleon's  refounda- tion;  SNG  Cop.  Sicily 127\\xad29).  During  Timoleon's  rule Agyrion  issued  a  series  of  symmachia  coins:  obv.  head  of Zeus  or  Athena  or  river-god,  legend: rev. fulmen  and  eagle  or  club  or  free  horse,  legend: (Head,  HN ²125;  Cutroni  Tusa  ( 1980\\xad81) 491;  Karlsson  ( 1995)  157,  163).\",\n",
       " '8. Aitna ': '(Aitnaios) Map  47.Location  of  Aitna  I  as  Katane, but  Aitna  I  with  a  larger  territory  (Diod. 11.49.1),the  location and  territorial  size  of  Aitna  II  being  unknown.  Type:  A: (I), A?: \\xad  (II).  The  toponym  is  ,  (Pind.  Pyth. 1.60;fr. 105a,  Maehler);  or  (Diod. 11.49.1;Strabo 6.2.3), though  for  example  Diod. 11.66.4  and 67.7  (r 466)  calls  it .The city-ethnic is (C5f  coins,  infra;  Pind. Nem. 9.30). Aitna  I Aitna  (I)  is  called  a  polis  by Pind.  Pyth 1.31  and 61, presumably  in  the  urban  as  well  as  the  political  sense  (cf. Hansen  ( 2000)  175\\xad76;  cf.  Diod. 11.66.4  (r 466)). µ  is found  in  Pind.  Pyth. 1.70.  The  internal  collective  use  of  the city-ethnic  is  found  on  coins  (infra);  the  external  collective use  is  found  in  Pind.  Nem. 9.30.  For  the  individual  use  of  the city-ethnic,  see  below  on  the  athletic  record  of  Hieron  and Chromios. In 476,  Hieron  transferred  the  populations  of  Katane  (no. 30)  and  Naxos  (no. 41)  to  Leontinoi  (no. 33),  renamed Katane  as  Aitna,  and  settled  his  new  foundation  with  10,000 oiketores: 5,000  from  the  Peloponnese  and  5,000  from Syracuse  (no. 47;Diod.  11.49.2;  cf.  Schaefer  ( 1961)  293); though  the  report  on  the  relocation  of  populations  refers  to both  Katane  and  Naxos,  Katane  (with  parts  of  adjacent  ter- ritories)  was  the  site  refounded  as  Aitna:   µ  µµ ,      µ           µ  ,  µ  .  (Cf. Strabo  6.2.3,  who  focuses  exclusively  on  Katane  in  his  report on  the  foundation  of  Aitna.)  Deinomenes,  Hieron\\'s son, ruled  the  city  as  (Pind.  Pyth. 1.60\\xad61).  Chromios was  installed  by  Hieron  as      and  so presumably  was  the  guardian  of  Deinomenes  while  he  was still  a  minor  (Schol.  Pind.  Nem. 9;  cf.  RE iii.  2454;Puech ( 1958)  19).  Pind.  Pyth. 1.62  says  that  Hieron  founded  the  city ` µ    µ,  presumably  indicating  that Aitna  was  intended  as  a  Dorian  city. After  Hieron\\'s death  in  466,  his  brother  Thrasyboulos enlisted  the  help  of  the  Aitnaians  in  his  unsuccessful  attempt to  suppress  the  uprising  of  the  Syracusans  against  him (Diod. 11.67.7);  at  Aitna  the  rule  of  Deinomenes  survived long  enough  for  him  to erect  a  commemorative  monument for  Hieron  by Onatas  at  Olympia  (Paus. 6.12.1\\xad2,  8.42.8\\xad10), but  by 461  Hieron\\'s  settlers  were  expelled  after  long  fighting (  µ) with Syracuse as well as with the Sikels under  Douketios  (Diod. 11.76.3);  the  original  Katanaians returned  (Strabo  6.2.3)  and  a  new  geopolitical  arrangement followed  (Diod. 11.76.3:   ,i.e.the Sikels  and  the  Syracusans).  The  Aitnaians  retired  to  Inessa and  founded  a  new  Aitna  (Strabo  6.2.3),on  which  see  below, Aitna  II. With  Diod. 11.49.2,  scholars  see  Hieron\\'s foundation  as  a \"plan  .  .  .  thoroughly  dominated  by concern  for  mercenar- ies\"  (Demand  ( 1990)  51),  and  Thrasyboulos  indeed  used Aitnaian  forces  in  his  power  struggle  at  Syracuse  (supra).  In addition,  Timaios  (FGrHist 566)  fr. 142a  schol.  Pind.  Nem. 1.1  and  Diod. 11.49.2  stress  another,  personal,  motive  of 184 fischer-hansen,  nielsen  and  ampolo Hieron\\'s:  his  wish  to become  an  with  heroic  hon- ours  (cf.  Trumpf  ( 1958)  131  and  Harrell  ( 2002)  444\\xad47). Hieron  did  in  fact  receive  heroic  honours  at  Aitna  (I)  in  his capacity  as  oecist  (Diod. 11.66.4);  according  to Strabo,  he was  buried  at  Aitna  (I),  but  his  tomb  was  destroyed  by  the Katanaians  on  their  return  ( 6.2.3). The  phase  of  Aitna  (I)  is  not  archaeologically  distinguish- able  from  that  of  Katane  (no. 30);  however,  the  construction of  the  theatre (TGR ii.  428\\xad30,C5?)  may  perhaps  be  attrib- uted  to  Hieron  in  the  light  of  the  tradition  that  Aischylos composed  and  performed  The  Women  of  Aitna  in  honour  of the  newly  founded  city  (Aesch.  fr. 25,  Mette).  C 5  votives attest  to  a  sanctuary  of  Demeter,  highly  suggestive  given  the importance  of  this  cult  for  the  Deinomenids  (Dunbabin ( 1984)  64;White  ( 1964)).The  cult  of  Zeus  became  important at  Aitna  during  the  reign  of  Hieron  (cf.  Pind.  Pyth 1.29;  Ol. 6.96),  an  importance  reflected in the t ype  of  a  seated  Zeus (Aitnaios)  found  on  the  coins  of  the  new  foundation. Hieron  won  victories  at  Olympia  and  at  Delphi  (refs.  in Olympionikai 221)  and  was  proclaimed  a  citizen  of  Aitna ( ) according to schol.  Pind.  Nem. 1.1  Timaios (FGrHist 566)  fr. 142a,  a  custom  followed  by  Chromios  as well  (ibid.).  Chromios  was  victorious  at  the  Nemean  chariot race  (Pind.  Nem. 1,  date  uncertain)  and  in  the  same  event  at Sikyon  (no. 228;  Pind.  Nem. 9,in  476  or 474). Aitna  soon  struck  coins:  a  single  surviving  tetradrachm, probably  from  the  time  of  its  foundation  ( 476),  has  on  the obv.  quadriga  with  Athena  as  charioteer  and  a  Nike  above,  as at  Syracuse;  rev.  Zeus  enthroned,  holding  thunderbolt  and an  eagle-tipped  sceptre.  A  single  surviving  drachm  has  obv. horseman;  rev.  type  similar  to  the  tetradrachm.  The  rev.of both  denominations  carries  the  legend   (Boehringer  ( 1968)  76\\xad79;Kraay ( 1976)  212).  A  magni- ficent t etradrachm  with  obv.  head  of  a  Silenos,  legend: ;  rev.  seated  Zeus,  was  issued  either  by  the Aitnaians  a  few  years  before  461  or  by  them  as  an  inaugura- tion  issue  when  they  refounded  Aitna  (II).  This  second  issue  also  has  litrai  with  rev.  thunderbolt,  legend: () (Boehringer (1968)  80\\xad98;Kraay ( 1976) 212\\xad13;  Manganaro  ( 1996b)  308). Aitna  II The  Aitnaians  were  expelled  from  Aitna  (I)  in  461, retired  to  Inessa,  a  Sikel  site  80  stades  inland  from  Katane  on Mt.  Etna,  and  refounded  their  community  there,  proclaim- ing  Hieron  oikistes  and  preserving  the  name  of  Aitna (Strabo  6.2.3;Diod.  11.76.3).  The  location  of  Aitna  II  is unknown,  although  various  attempts  have  been  made  to identify  the  site  (Bombaci  and  Massa  ( 1990)  290\\xad93).  At its foundation  this  new  community  was  presumably  a  polis,as indicated  by  the  proclamation  of  an  oecist  (Strabo  6.2.3;  cf. also  infra  on  coins),  but  its  later  history  was  tumultuous:  in 451,  Douketios  took  the  city  and  in  this  connection  Diod. 11.91.1  mentions  a  person  whom  he  describes  as  µ   (sc. ).  Syracusan  hippeis  in  con- flict w ith  Dionysios  I  took  Aitna  in  405  (Diod. 13.113.3),  and the  site  formed  the  base  of  opposition  to  Dionysios  ( 14.7.7, 8.1,  9.5);  Dionysios  sent  presbeis  urging  the  exiles  who  had gathered  with  the  hippeis  at  Aitna  to  return  to  Syracuse,  but the  majority  remained  at  Aitna  (Diod. 14.9.6\\xad8).  In  403  the settlement  (termed  phrourion  in  this  connection)  was  taken by  Dionysios  (Diod. 14.14.2).  In  396  Dionysios  I  persuaded the  \"Campanians  living  at  Katane\"  to  relocate  to  Aitna,  and here  it  is  again  described  as  a  phrourion  (Diod. 14.58.2), which  is  not  incompatible  with  its  being  a  polis  (cf.  Thuc. 8.62.3;  Nielsen  ( 2002)),  but  Dionysios  obviously  treated  it  as a  dependency.  Close  connections  with  Syracuse  may  have been  facilitated  by  the  foundation  history  of  Aitna.  On  the other  hand,  Syracusan  control  over  the  area  of  Aitna  (II) may  have  a  history  going  back  beyond  the  original  founda- tion:  according  to  Diod. 11.26.7,  Gelon  planned  to  build  a temple  of  Demeter  at  Aitna,  but  because  of  his  death  it  was never  completed  (Diod. 11.26.7).  However,  the  date  (the reign  of  Gelon)  reveals  that  the  \"Aitna\"  in  question  must have  been  Inessa  (  the  later  Aitna  II)  and  not  Aitna  I founded  by Hieron  only  in  476,  and  so  the  passage  reveals that  Gelon  held  a  dominion  in  the  territory  of  Katane/Aitna II  (cf.  Freeman  ( 1891\\xad94)  ii. 524\\xad25). If  Aitna  can  be  presumed  to  have  remained  a  polis  during all  these  events,  its  identity  as  a  Hellenic  polis  may  be  uncer- tain  after  the  settlement  of  Campanians  at  the  site:  in  396 Himilkon  sent  ambassadors  to  \"the  Campanians  in  posses- sion  of  Aitna\",  urging  the  city  to  cut  its  ties  with  Dionysios (Diod. 14.61.4),  and  Diod. 16.67.4  (r 345)  again  refers  to  \"the Campanians  living  at  Aitna\";  however,  in  339  Timoleon \"destroyed  the  Campanians  at  Aitna,  having  forced  them  to surrender  by siege\"  (Diod. 16.82.4),  and  Aitna  appears  in  the C 3s  list  of  Delphic  theorodokoi  in  Sicily  (BCH 45  ( 1921)  25, col. iv  96;  Manganaro  ( 1964a)  420,  432),  presumably  as  a fully  Hellenic  community. The  polis  status  of  C 5  Aitna  II  is  to some  extent  dependent upon  the  attribution  to  Aitna  II  of  some  litrai  and,  especial- ly,  of  one  C 5m  tetradrachm  with  obv.  Silenos,  legend: ;  rev.  seated  Zeus,  cf.  Bombaci  and  Massa ( 1990)  289  (supra).  The  stylistic  affinity between this issue and  issues  of  Naxos  (no. 41)  and  Katane  (no. 30)  has  been seen  by some,  though  perhaps  not  entirely  convincingly,  as sikelia  185 evidence  of  a  C 5m  sympoliteia  between  these  cities  in  the  face  of  Syracusan  pressure  (Bombaci  and  Massa  ( 1990) 289).  The  Campanian  mercenaries  settled  at  Aitna  II  struck  Timoleontic  symmachia  bronze  coins  in  342\\xad339: ( 1)  obv.  head  of  Zeus  Eleutherios,  legend:  ;  rev.  thunderbolt,  legend:  (Bombaci  and  Massa  ( 1990)  289;  Karlsson  ( 1995)  157;  cf. Talbert  ( 1974)  181,  187\\xad88);  ( 2)  obv.  head  of  Athena  or Persephone,  legend: [];  rev.  \"free  horse\" (Bombaci  and  Massa  ( 1990)  289;  SNG  Cop.  Sicily 13;  SNG Cop.  Suppl. 60).',\n",
       " '9. Akragas ': '(Akragantinos) Map  47.  Lat. 37.20,long.  13.35. Size of  territory: 5.  Type:  A: .  The  toponym  is  , (Pind.  Ol. 2.6;  Thuc. 6.4.4),the  city-ethnic  is   (Hdt. 7.165;  IGDS  no. 182a). Akragas  is  called  a  polis  in  the  urban  sense  by  Empedokles fr. 112.2  (DK): \\'      (acropolis  itself  occurs  at Diod. 13.84.3  (r 406)),  by  Xen.  Hell. 2.2.24  (cf.  Pind.  Ol. 2.93 and  Pyth. 12.1)  and  by  Ps.-Skylax  13  (where  it  is  listed  under the  heading   ` );  in  the  political  sense polis  occurs  in  Thuc. 6.4.4,  7.46.1.The  politeia  was  described by  Aristotle  (Arist.  fr. 479);  Empedokles  has  patris  (fr. 157.2, DK)  and  (fr. 112.1,  DK). The  internal  collective  use  of  the  city-ethnic  is  found  on C 5s  coins  (infra),  the  internal  individual  use  in  Empedokles fr. 157.1,DK.The  external  collective  use  is  found  at  Hdt. 7.165 and  in  IGDS  nos. 95  and 182  (C 5);  the  external  individual  use is  found  in  Hesperia 43  ( 1974)  322,no.  3.6  ( 331\\xad324)  and  presumably  in  IGDS  no. 182b  (C 5);  it  is  applied  also  to Empedokles  (e.g.  Arist.  Cael. 279b16). Akragas  was  founded  by  Gela  (Thuc. 6.4.4),  according  to other  sources  with  the  participation  of  a  Rhodian  contin- gent  (Pind.  fr. 105,Bowra;  Polyb. 9.27.8),  108  years  after  the foundation  of  Gela,  i.e.  c. 580  (Thuc. 6.4.4),  100  years  before the  Olympic  victory  of  Theron  at  the  76th  Olympiad  ( 476) according  to  Pindar  (Ol. 2.166\\xad69  with  schol.).  The  oecists were  Aristonoos  and  Pystilos  (Thuc. 6.4.4).  Of  the  two oecists  mentioned  in  the  sources,  one  may  have  come  from Gela,  the  other  from  Gela\\'s  metropolis,  Rhodos  (cf. Leschhorn  ( 1984)  52\\xad53;  Musti  ( 1992)).  The  archaeological evidence,  above  all  that  from  the  Montelusa  cemetery,  is  in agreement  with  the  time  of  foundation  given  by  the  literary sources  (Waele  ( 1971)  88\\xad97;  De  Miro  ( 1988b)  240\\xad44).  The institutions  of  Akragas  were  modelled  on  those  of  Gela (Thuc. 6.4.4: µµ  ). The  foundation  of  Akragas  secured  Geloan  interests westwards.  It  is  therefore  not  easy  to  map  Akragantine  and Geloan  spheres  of  influence since sites such as V assallaggi and  Sabucina  may  have  had  first a Geloan,  later  an Akragantine  phase.  However,  territorial  ambitions  under Phalaris  secured  territory  westwards  to  the  river  Halykos and  Selinountine  territory  with  the  site  of  Minoa,  a  city founded  by  Selinous  (Hdt. 5.46.2);a  palladion  taken  as  spoils from  the  city  of  Minoa  was  dedicated  to  Athena  Lindia  by the  Akragantines  (Lind.  Chron.  (FGrHist 532)  fr. 30  Xenagoras  (FGrHist 240)  fr. 17).  A  number  of  phrouria laid  out  by  Phalaris  in  Akragantine  territory  in  the  Himera valley  are  listed  by Diod. 19.108.1\\xad2  ((rC 6);  cf.  Polyaen. 5.1.3), but  the  tradition  that  Phalaris  had  a  phrourion  on  the Eknomos  hill  may  be  a  late  fabrication;  the  site  is  normally located  somewhere  in  the  hills  above  Licata  (Bejor  ( 1989d)). Spoils  captured  from  Kokalos  dedicated  to  Athena  Lindia are  listed  in  the  Lindian  Chronicle  ((FGrHist 532)  fr. 27  Xenagoras  (FGrHist 240)  fr. 14;  survey  of  sources: Braccesi  and  De  Miro  ( 1992)  8\\xad12).  Kamikos,  the  seat  of  Kokalos,  was  somewhere  in  the  Akragantine  hinterland (cf.  Hdt. 7.170.1,  who  calls  it  a  polis  inhabited  in  his  day  by  Akragantines:  µ,  \\'   µ    µ;Diod.  4.78.2;  De  Miro  ( 1962)). Under  Theron,  Himera  came  within  the  Akragantine  sphere of  influence,  and  the  domination  of  Akragas  in  the  decade 483\\xad472  is  reflected in the crab appearing on the rev.  of  the coins  of  Himera  (Hdt. 7.165;  Bonacasa  ( 1992);  cf.  the  entry for  Himera).  The  influence of  Akragas  over  a  vast  area  of central  Sicily  is  inferred  also  from  the  circulation  of  C 5s Akragantine  bronze  coins  (Vassallo  ( 1983)).  The  settlement pattern  in  the  chora  of  Akragas  is  little  known,  and  only  a  few  suburban  sanctuaries  are  known,  among  them  the  sanctuary  dedicated  to  chthonic  divinities  at  Palma  di Montechiaro  on  the  coast  20  km  south-east  of  Akragas (Castellana  ( 1994)).  There  is  evidence  of  a  number  of  C 6 phrouria  and  C 6  Hellenised  settlements  along  the  coast between  Gela  and  Akragas  (Bejor  ( 1987);  Castellana  ( 1994) 302\\xad4).  Plut.  Dio 49.1  mentions  a  site  in  Akragantine  territo- ry called    which  is,  however,  unlocated.  Diod. 13.81.3  (r 406)  refers  to in  the  territory  when  it  was evacuated  in  the  face  of  the  Carthaginian  threat. According  to  Diog.  Laert. 8.63,  Akragas  had  a  population of 800,000  inhabitants  at  the  time  of  Empedokles,  an  obvi- ous  exaggeration  (Waele  ( 1979)).  According  to  Diod. 11.53.5, 4,000  Akragantines  and  Himeraians  were  killed  in  battle against  Hieron  in  472,but  the  number  of  Akragantines  is  not specified.  At 12.8.4  Diodorus  relates  that  a  thousand Akragantines  were  killed  at  the  battle  of  Himera  in  446.At the  time  of  the  Carthaginian  conflicts,  Akragas  had,  accord- 186 fischer-hansen,  nielsen  and  ampolo ing  to Diod. 13.84.4,  90.3,  a  population  of  more  than  20,000 citizens  and  with  resident  foreigners  not  less  than  200,000 inhabitants  (cf.  Waele  ( 1979)). The  constitutional  history  of  the  city  was  eventful.Within ten  years  of  its  foundation,  power  was  seized  by  Phalaris (c. 570\\xad554),  who  is  described  as  a       µ by  Arist.  Pol. 1310b28.  His  reign  was  a  period  of  expansion, with  several  victories  over  the  indigenous  population,  in particular  the  victory  over  the  Sikanian  stronghold  of  Uessa (Polyaen. 5.1.4),and  the  conquest  of  Minoa;  the  Akragantine dedication  to  Athena  Lindia  of  a  palladion  was  booty  taken  from  this  town (Lind.  Chron.  (FGrHist 532)  fr. 30  Xenagoras  (FGrHist 240)  fr. 30).  Phalaris  may  have extended  Akragantine  influence t o  Himera  (no. 24),  see Arist.  Rh. 1393b11ff.,  who  reports  that  the  Himeraians  chose him  as  .  The  rule  of  Phalaris  was followed  by  those  of  Alkamenes  and  Alkandros  (Heracl. Lemb. 69).  Though  there  may  have  been  a  democracy  in existence  before  the  tyranny  of  Theron  (E.  W.  Robinson ( 1997)  78\\xad80,  based  on  Diod. 11.48.6\\xad8),  tyranny  persisted  at Akragas  during  C 5f,  and  Theron  ( 489/8\\xad473/2),  variously described  as  µ  (Hdt. 7.165)  or  (Timaios (FGrHist 566)  fr. 93),  with  Gelon  defeated  the  Carthaginians and  their  ally  Terillos  at  Himera  in  480  (Hdt. 7.166;Diod. 11.20\\xad22);  Theron\\'s  son  Thrasydaios  was  installed  as  tyrant in  Himera  (Diod. 11.48.6).  Theron  died  after  a  reign  of  six- teen  years  and  was  honoured  as  a  hero  (Diod. 11.53.1\\xad2);  he was  succeeded  by  Thrasydaios  in  Akragas  (Timaios (FGrHist 566)  fr. 93),  who  for  a  year  exercised  power µ    (Diod. 11.53.3).  The  subse- quent  conflict w ith  Hieron  and  the  fall  of  Thrasydaios  led  to the  establishment  of  a  democratic  government  in  471  (Diod. 11.53.5)  and  the  return  to  their  native  country  of  the   ,  who  were  given  back  their  civic  rights  (Diod. 11.76.5).  Empedokles  is  reported  (by  Diog.  Laert. 8.66  Timaios  (FGrHist 566)  fr. 2)  to  have  put  an  end  to  an oligarchy  \"of  the  1,000\"(      µ) which had  existed  for  three  years,  but  refused  the  offer  of  (Xanthos  (FGrHist 765)  fr. 33;  Arist.  fr. 865),  thereby  obtain- ing  a  cessation  of  stasis  and  bringing  about  political  equality (Neanthes  (FGrHist 84)  fr. 28).Exactly  when  this  occurred  is uncertain,  but  E.  W.  Robinson  ( 1997)  78\\xad80  assumes  that  it was  some  years  after  the  fall  of  the  tyranny,  possibly c. 454\\xad442,  and  if  so  the  city  experienced  a  three-year  oli- garchic  interlude. Akragas  took  part  in  the  war  against  Douketios  (Diod. 11.91.3\\xad4  (r 451)).  The  rivalry  with  Syracuse  led  to  a  war which  involved  allies  on  both  sides  and  ended  in  an Akragantine  defeat  at  Himera,  with  envoys  concluding peace  at  Syracuse  (Diod. 12.8.2\\xad4  (r 446),  26.3).  The Athenian  expedition  to  Sicily  in  422  led  to  an  alliance between  Athens  (no. 361)  and  Akragas  in  422  (Thuc. 5.4.6); Akragas  hindered  the  passage  through  its  territory  of  troops allied  with  Syracuse  (no. 47)  in  415  (Thuc. 7.32.1)  and remained  neutral  (Thuc. 7.33.2,  58.1);  following  a  stasis,  cit- izens  friendly  to  Syracuse  were  expelled  (Thuc. 7.50.1). In C 5l  Akragas  became  involved  in  the  Carthaginian  inva- sion  of  Sicily.  It  did  not  succeed  in  bringing  help  to  Selinous (no. 44)  in  409  (Diod. 13.56.1),  but  received  the  survivors (Diod. 13.58.3).In  its  turn  Akragas  was  besieged  and  taken  by the  Carthaginians  in  406  (Diod. 13.85\\xad89).  The  inhabitants took  refuge  first at Gela (no. 17)  and  afterwards  at  Leontinoi (no. 33;Diod.  13.89\\xad90),  and  the  city  itself  was  destroyed  by Himilkon  (Diod. 13.108.2).  The  prosperity  brought  by  the reign  of  Timoleon  led  to  the  refoundation  of  Akragas  by Megillos  and  Pheristos  of  Hyele  (Plut.  Tim. 35.2;  for  the problem  of  an  Ionian  city  refounding  a  Dorian  city,  see Talbert  ( 1974)  204\\xad5). The  existence  of  archontes,  boule  and  dikasterion  is  attest- ed  for  C 5  (Timaios  (FGrHist 566)  fr. 134  Diog.  Laert. 8.64; cf.  Asheri  ( 1992a)).  Strategoi  and  the  ekklesia  are  attested  for 406  (Diod. 87.4\\xad5).  The  passing  of  a  decree  preparing  for resistance  against  Carthage  is  mentioned  in  Diod. 13.81.2 (r 406). In 356/5  a  citizen  of  Akragas  served  as  theorodokos  of Epidauros  (no. 348;  IG iv².195.ii.91),  and  c. 331\\xad324  one  of  its citizens  was  appointed  proxenos  by  Athens  (no. 361;  Hesperia 43  ( 1974)  322,no.  3).  Reception  of  envoys  is  attested  at  Diod. 11.68.1  (r 466);  the  sending  of  envoys  is  attested  in  Diod. 12.8.4  (r 446). The  city  was  surrounded  on  the  west  by  the  river  Hypsas and  on  the  east  by  the  river  Akragas,  with  their  confluence just  below  the  city.  Ancient  remains  at  the  estuary  may  attest harbour  structures  (Waele  ( 1971)  4),  and  a  small  coastal trading  station  (serving  as  a  harbour,  cf.  epineion  at  Strabo 6.2.5),  contemporary  with  the  foundation  of  Akragas,  is inferred  from  the  vast  C 6e\\xadC5  cemetery  on  the  Montelusa hill  near  the  coast  (De  Miro  ( 1988b)  240\\xad44;  earlier  research: Waele  ( 1971)  6). Akragas  lay  about  4  km  from  the  coast  on  a  low  sloping plateau  surrounded  on  the  north,  east  and  south  by  a  ridge of  hills,  the  northernmost  of  which  may  have  been  the acropolis  with  a  temple  of  Athena,  the  eastern  and  southern hills  being  occupied  by  other  important  sanctuaries.  The steep  slopes  created  natural  defences,  in  part  strengthened by  walls  raised  on  the  crest  of  the  hills  (Polyb. 9.27.3\\xad4).  The sikelia  187 C 6e  circuit  wall  was  built  in  local  limestone  in  an  ashlar technique.  Eight  or  nine  gates  gave  access  to  the  city  at  natu- ral  openings  in  the  ridge  of  hills  (cf.  P.  Marconi  ( 1929)  32\\xad41, fig. 15).  Diod. 13.81.3  refers  to in  reference  to 406  when it  was  decided  to  evacuate  the  territory  and  take  refuge behind  the  fortifications. The  hill  of  Athena,  used  as  a  retreat  during  the  assault  of the  Carthaginians  (Diod. 13.85.4  (r 406)),  is  normally  inter- preted  as  the  acropolis  of  the  city  (Polyb. 9.27.6).  Polyb. 9.27.7  locates  the  temples  of  Athena  and  Zeus  Atabyrios  on the  highest  point  of  the  city,  but  whether  the  Athenaion (probably  the  sanctuary  of  Athena  Polias)  and  the  temple  of Zeus  were  located  on  the  highest  point  of  the  mediaeval  city of  Girgenti  or  further  south  on  the  \"Rupe  Atenea\"  hill  is  still not  clear;  also  all  of  the  hills  in  the  north  and  north-east  may have  constituted  a  single  acropolis  (Waele  ( 1971)  217\\xad22). Akragas  presents  one  of  the  most  impressive examples  of Sicilian  urban  planning.  Although  the  fully  excavated  insu- lae  are  mainly  of  later  date,  the  urban  layout  of  the  Archaic and  Classical  city  may  be  reconstructed  as  an  orthogonally planned  city  with  plateiai  oriented  east\\xadwest,  and  stenopoi oriented  north\\xadsouth;  investigations  in  the  habitation  area west  of  the  Olympieion  point  to  C 6s\\xadC5e  for  the  overall urban  layout  (De  Miro  ( 1980)  711\\xad15,(1992)  155).  The  north- western  part  of  the  city  had  a  slightly  different  orientation. The  urban  area  comprised  c. 625  ha  including  the  surround- ing  hills,  while  the  habitation  area  on  the  plateau  comprised c. 140  ha  (Hoepfner  and  Schwandner  ( 1994)  5).  C 5fwit- nessed  significant building activity at Akragas (see e.g.  Diod. 11.25),  with  several  allusions  to  the  high  standard  of  living  of the  inhabitants  (e.g.  Heraclid.  Pont.  fr. 76,  Wehrli;  Diod. 13.81.4\\xad5). The  bouleuterion  and  the  ekklesiasterion  were  situated centrally  in  the  urban  layout  on  the  small  hill  of  S.  Nicola (De  Miro  ( 1988a)  66,fig.  2).  The  hill  was  laid  out  as  a  sanctu- ary  in  C 6,  but  from  the  C 4  became  the  focus  of  civic  structures,  perhaps  with  a  surrounding  agora.  The  C 4l bouleuterion,  replacing  C 6\\xadC4  temples,  was  built  on  the northern  part  of  the  hill  on  an  artificial t errace  supported  by a  new,  monumental  terrace  wall  which  endows  the  area  with some  monumentality.  The  seating  capacity  was  c. 300  (De Miro ( 1985\\xad86)).  The  ekklesiasterion  was  situated  south  of the  bouleuterion  on  the  southern  slope  of  the  S.  Nicola  hill (De  Miro  ( 1988a)  66,fig.  2).  The  koilon,  covering  about  1,250 m ²,  had  a  seating  capacity  of  c. 3,000  (Hansen  and  Fischer- Hansen  ( 1994)  57  with  refs.).  The  excavators  date  the  struc- ture  to  C 4\\xadC3,  though  earlier  dates  have  been  suggested, such  as  the  period  of  the  refoundation  of  Akragas  by Timoleon, 339  (cf.  Plut.  Tim. 35.2),  or  even  C 5  (Greco  and Theodorescu  ( 1983)  45,  79).  The  open  space  north-east  of the  Olympieion  sanctuary  has  tentatively  been  identified with  a  lower,  mercantile(?)  agora  (Fiorentini  ( 1990)  17). Stoas  are  now  known  from  the  early  urban  history  (De Miro ( 1977)  95\\xad96).  The  remains  of  a  theatre(?)  mentioned by  Fazello  (sixteenth  century  ad)  is  surmised  in  the  S.  Nicola area,  near  the  other  public  buildings,  but  there  are  no remains.  A  C 5  fountain  house  was  part  of  the  sanctuary  of Demeter  below  the  Rupe  Atenea  (Siracusano  ( 1983)).  Public works  begun  after  the  victory  at  Himera  in  480  included underground  conduits  to  carry  waste  water  away  from  the city  constructed  by  the  architect  Phaeax.  The  \"swimming- bath\",  kolumbethra,  mentioned  by  Diodorus,  seven  stades  in circumference,  probably  fed  the  water  supply  of  the  city (Diod. 11.25.3\\xad4  (r 480);  cf.  also  Waele  ( 1971)  52,  113;  Wilson ( 2000)  7). The  sources  refer  to  cults  of  Zeus,  Hera,  Apollo,  Athena, Demeter,  Kore  and  Hermes  (Waele  ( 1971)  185\\xad207).  The  epi- thet  of  the  Athena  of  the  sanctuary  located  on  the  acropolis (Diod. 13.85.4;Polyb.  9.27.7;  supra)  is  uncertain.  The Geloan-Rhodian  origin  of  the  settlers  may  suggest  Lindia, but  in  Polyaen. 6.51  we  have  Polias.  A  Rhodian  origin  of  the major  city  cults  is  corroborated  by  the  Rhodian  origin  of  the cult  of  Zeus  Atabyrios  located  on  the  acropolis  (Polyb. 9.27.7).According  to Polyaen. 5.1.1,a  temple  was  dedicated  to Zeus  Polieus,  but  it  is  most  likely  the  same  cult.  A  cult  of Demeter  is  known  from  Pind.  Pyth. 12.1\\xad2  and  from Polyaen. 5.1.1  (a  thesmophorion).  The  cult  statue  of  Apollo  in a  suburban  Asklepieion  (Polyb. 1.18.2)  was  the  work of Myron  (Cic.  Verr. 4.43.93). A  survey  of  the  remains  of  the  urban  sanctuaries  com- prises  the  following:  C 5e  remains  of  a  Doric  temple  (temple \"E\")  partly  incorporated  in  the  Christian  basilica  of  S.  Maria dei  Greci,  in  the  mediaeval  city  of  Girgenti,  possibly  the temple  of  Athena  Polias  (P.  Marconi  ( 1929)  77\\xad80;Waele ( 1971)  110).  Rupe  Atenea:  at  S.  Biagio,  a  C 5e  naiskos  (temple \"C\")  dedicated  to  Demeter  (P.  Marconi  ( 1929)  66\\xad72;Waele ( 1971)  199\\xad200;  Hinz  ( 1998)  74\\xad79).  The  row  of  sanctuaries on  the  southern  crest  of  the  city,  from  east  to  west:  temple \"D\",  C 5m,  cult  unknown  (P.  Marconi  ( 1929)  72\\xad76);  temple \"F\",  C 5s,  cult  unknown  (ibid. 80\\xad86);  \"Tempietto  di  Villa Aurea\",  C 6l,  cult  unknown  (ibid. 46);  temple  \"A\",  C 6l,  cult unknown  (ibid. 51\\xad57;  T.  Van  Compernolle  ( 1989)  51\\xad54); Olympieion  (temple  \"B\"), 480\\xadc.440(?)  (Diod. 13.81.1\\xad4; Polyb. 9.27.9;  Marconi  ( 1929)  57\\xad66;  Bell  ( 1980);  T.  Van Compernolle  ( 1989)  60\\xad68,(1992)  62\\xad67).  Archaic  architec- tural  terracottas  from  east  of  the  Olympieion  are  taken  as 188 fischer-hansen,  nielsen  and  ampolo evidence  of  an  Archaic  sanctuary  in  the  vicinity,  unknown cult  (P.  Marconi  ( 1929)  46,155\\xad56).A  sanctuary  to  the  west  of the  Olympieion  at  gate  5;a C 6s  temple  in  antis  and  a  \"lesche\" or  oikos,  from  the  C 5  sanctuary  enlarged  with  a  stoa  or  por- ticus  and  other  buildings  (De  Miro  ( 1977)  94\\xad100).  Further west,  the  C 5l  temple  \"G\";  in  the  cella,  remains  were  found  of an  earlier  Archaic  naiskos  (P.  Marconi  ( 1929)  86\\xad87).  Near the  sanctuary  of  the  chthonic  divinities  (Waele  ( 1971) 195\\xad99;  Hinz  ( 1998)  79\\xad90):  temple  \"I\",  C 5m;  north  of  this, remains  of  two  C 6  naiskoi  possibly  superseded  by  temple  \"I\" in  C 5m.  The  central  part  of  the  city,  the  S.  Nicola  hill,  was laid  out  as  a  sanctuary  with  at  least  two  temples  in  the Archaic  period;  the  structure  of  one  was  partly  reused  in  a C 4e  naiskos,  the  cult  was  possibly  that  of  Demeter  (Polacco ( 1988);  Hinz  ( 1998)  90\\xad91).  The  identification of  the  C 5s suburban  sanctuary  located  between  the  city  and  the  coast (P.  Marconi  ( 1929)  87\\xad93)  as  that  of  Asklepios  rests  upon Polyb. 1.18.2,  but  must  remain  uncertain. The  only  cemetery  of  the  city  itself  yet  examined  in  any detail  is  that  of  Contrada  Pezzino  west  of  the  city,  dating from  the  period  of  the  foundation  to  C 5l,  and  again  from C 4s  (De  Miro  ( 1989)).  Further  cemeteries  were  dispersed along  the  roads  leading  south  and  east  from  the  city. Xenokrates  won  a  Pythian  victory  in  490  (Pind.  Pyth. 6) and  an  Isthmian  victory  in,  presumably, 472  (Pind.  Isth. 2); Exainetos  ( 496),  Empedokles  ( 496)  and  Theron  ( 476)  won in  the  Olympic  Games  (Olympionikai 167,  170,  220),  and Exainetos  (Olympionikai 341,  346)  was  particularly  hon- oured  in  412  when  he  entered  the  city  in  a  chariot  and  was escorted  by  all  the  chariots  of  the  Akragantines, 300  chariots each  drawn  by  two  white  horses  (Diod. 13.82.7).  According to  Pausanias,  Akragas  set  up  a  bronze  group  in  Olympia  to commemorate  a  C 5e(?)  defeat  of  the  Phoenicians  at  Motya (Paus. 5.25.5;  cf.  LSAG 274),  and  a  statue  of  Apollo  was  dedi- cated  at  Delphi  475\\xad450:  [~  ] (Bousquet  ( 1959)  149\\xad50).  For  the  dedication  of  the  spoils taken  at  Minoa  to  Athena  Lindia  by  the  Akragantines,  see supra. Akragas  initiated  coinage  c. 520/510  with  an  issue  of  didrachms  on  the  Attic  standard:  obv.  eagle  standing  in profile,  legends: ,  or,  later, , (see  Brugnone  ( 1978)  for  the  use  of  the  sign alpha);  rev.  crab  with,  on  some  later  groups,  officials\\' names  or  abbreviations.  The  terminal  date  of  the  first issue is  a  little  before  470  (Jenkins  ( 1970)  162\\xad64;  C.  Boehringer ( 1984\\xad85)  119\\xad22;  SNG  Cop.  Sicily 20\\xad40).  The  tetradrachm replaced  the  didrachm  as  the  main  denomination  c. 464: main  types  as  above,  legend: (SNG.Cop. Sicily 41\\xad45);  also  lower  denominations  based  on  the  litra (SNG  Cop.  Sicily 46\\xad51).  Just  before  its  destruction  in  406, Akragas  struck  sophisticated  issues,  some  signed,  and  some  issues  now  used  the  city-ethnic  as  legend: (SNG  Cop.  Sicily 53),  while is found in C4l\\xadC3e.Rare gold issues from  the  same  period  (SNG  Cop.  Sicily 52)  may  reflect mint- ing  in  response  to  the  need  to  pay  mercenaries  (cf.  Gela  (no. 17)).  The  first bronze c oinage  of  Akragas,  from  c. 430,  was cast  shapes  (Westermark  ( 1979);  SNG  Cop.  Sicily 61\\xad63); later  coins  were struck  in  bronze;  types:  obv.  eagle;  rev.crab, some  inscribed  (Vassallo  ( 1983); Westermark  ( 1984);  SNG  Cop.  Sicily 65\\xad90).  The  city  as refounded  by  Timoleon  c. 338  struck  symmachia  coins  of  the free  horse  type  (Karlsson  ( 1995)  161;  SNG  Cop.  Sicily 91\\xad92).'}"
      ]
     },
     "execution_count": 4,
     "metadata": {},
     "output_type": "execute_result"
    }
   ],
   "source": [
    "# Ausgabe des Dictionaries\n",
    "PoleisRawData"
   ]
  },
  {
   "cell_type": "code",
   "execution_count": 5,
   "metadata": {
    "button": false,
    "collapsed": false,
    "deletable": true,
    "new_sheet": false,
    "run_control": {
     "read_only": false
    }
   },
   "outputs": [
    {
     "data": {
      "text/plain": [
       "['6. Adranon ',\n",
       " '38. Mylai ',\n",
       " '20. Herakleia 1',\n",
       " '36. Megara ',\n",
       " '18. Heloron ',\n",
       " '24. Himera ',\n",
       " '12. Alontion ',\n",
       " '45. (Sileraioi)',\n",
       " '35. *Longane ',\n",
       " '43. Piakos ',\n",
       " '40. Nakone ',\n",
       " '7. Agyrion ',\n",
       " '34. Lipara ',\n",
       " '23. Herbita ',\n",
       " '8. Aitna ',\n",
       " '14. Engyon ',\n",
       " '50. (Tyrrhenoi)',\n",
       " '21. Herakleia 2 ',\n",
       " '49. Tyndaris ',\n",
       " '16. Galeria ',\n",
       " '42. Petra ',\n",
       " '48. Tauromenion ',\n",
       " '11. Alaisa ',\n",
       " '10. Akrai ',\n",
       " '9. Akragas ',\n",
       " '13. Apollonia ',\n",
       " '28. Kamarina ',\n",
       " '26 *Imachara ',\n",
       " '32. Kephaloidion ',\n",
       " '25. Hippana ',\n",
       " '5. Abakainon ',\n",
       " '27. Kallipolis ',\n",
       " '44. Selinous ',\n",
       " '22. Herbes(s)os ',\n",
       " '29. Kasmenai ',\n",
       " '15. Euboia ',\n",
       " '31. Kentoripa ',\n",
       " '47. Syrakousai ',\n",
       " '46. (Stielanaioi)',\n",
       " '19. Henna ',\n",
       " '33. Leontinoi ',\n",
       " '39. Mytistratos ',\n",
       " '30. Katane ',\n",
       " '41. Naxos ',\n",
       " '51. Zankle ',\n",
       " '37. Morgantina ',\n",
       " '17. Gela ']"
      ]
     },
     "execution_count": 5,
     "metadata": {},
     "output_type": "execute_result"
    }
   ],
   "source": [
    "# list() erstellt eine Liste der keys\n",
    "PoleisKeyList = list(PoleisRawData)\n",
    "PoleisKeyList"
   ]
  },
  {
   "cell_type": "code",
   "execution_count": 6,
   "metadata": {
    "button": false,
    "collapsed": false,
    "deletable": true,
    "new_sheet": false,
    "run_control": {
     "read_only": false
    }
   },
   "outputs": [
    {
     "data": {
      "text/plain": [
       "'38. Mylai '"
      ]
     },
     "execution_count": 6,
     "metadata": {},
     "output_type": "execute_result"
    }
   ],
   "source": [
    "# Listenelemente werden mit eckigen Klammern ausgewählt. Eine Index-Zahl gibt die n-Stelle der Liste aus\n",
    "PoleisKeyList[1]"
   ]
  },
  {
   "cell_type": "code",
   "execution_count": 7,
   "metadata": {
    "button": false,
    "collapsed": false,
    "deletable": true,
    "new_sheet": false,
    "run_control": {
     "read_only": false
    }
   },
   "outputs": [
    {
     "name": "stdout",
     "output_type": "stream",
     "text": [
      "36. Megara \n",
      "18. Heloron \n",
      "44. Selinous \n",
      "15. Euboia \n",
      "47. Syrakousai \n",
      "46. (Stielanaioi)\n",
      "33. Leontinoi \n"
     ]
    }
   ],
   "source": [
    "for i in PoleisKeyList:\n",
    "    if \"Megara\" in PoleisRawData[i]:\n",
    "        print(i)"
   ]
  },
  {
   "cell_type": "code",
   "execution_count": 8,
   "metadata": {
    "button": false,
    "collapsed": false,
    "deletable": true,
    "new_sheet": false,
    "run_control": {
     "read_only": false
    }
   },
   "outputs": [
    {
     "data": {
      "text/plain": [
       "\"(Ailoros) Map  47.  Lat. 36.50,long.  15.05.  Size of  territory:  ? Type:  A: .  The  toponym  is  ,  (Ps.- Skylax 13)  or  (BCH 45  ( 1921)  iv. 100  ( 230\\xad210); Steph.  Byz. 270.3).The  city-ethnic  is  (Diod. 23.4.1) or '  (Etym.  Magn. 333.3). Heloron  is  explicitly  called  a  polis  (  ) in the urban  sense  in  Ps.-Skylax  13,  where  this  phrase  is  found under  the  general  heading       (which is  opposed  to   µ ), but  apart  from  that there  is  no  evidence  for  its  status  in  the  Archaic  and  Classical periods.  The  evidence  for  Heloron  as  a  polis  in  the  political sense  is  C 3:  like  Akrai  (no. 10),  the  city  is  listed  in  the  treaty between  Syracuse  and  Rome  of 263  as  a  polis  assigned  to Hieron  II  (Diod. 23.4.1  Staatsverträge  no. 479);  this  may suggest  dependence  on  Syracuse  (no. 47)  at  an  earlier  date (infra).  In  assessing  the  polis  status  of  Heloron,  the  fact  that it  is  listed  in  the  Delphic  list  of  theorodokoi  ( 230\\xad210)  (BCH ( 1921)  iv.100;  cf.  Manganaro  ( 1964a)  420)  may  have  some retrospective  value.  According  to Ael.  NA 12.30,Heloron  was once  a  .  There are  no  written sources  for  the  foundation  of  Heloron,  and  there  are  no coins.  Heloron  is  here  defined as a polis  type A  on  the  basis  of Ps.-Skylax 13,  but  its  polis  status  is  uncertain  given  the  prox- imity  of  Syracuse;  it  cannot  be  excluded  that  Heloron  was  an early  military  outpost  in  the  southern  dominion  of Syracuse,  though  it  may  have been  a  dependent  polis founded  as  a  fortress  (as  has  been  suggested  for  Kasmenai  by  Hansen  ( 1997a)  36;  cf.  Akrai  (no. 10)  and  Kasmenai  (no. 29)). To  the  west,  Heloron's  territory bordered  upon  the  territ- ory  of  Kamarina  (no. 28).  Heloron  was  founded  on  a  coastal plateau  about  18  km  south  of  Syracuse  and  c. 400  m  to  the north  of  the  river  Tellaro  (  ancient  Heloros);  (morphology of  the  site:  Voza  ( 1978)  pl. 37,  1;  plan  of  site:  Voza  ( 1980\\xad81) pl. 130).  Archaeological  evidence  points  to  a  foundation  in C 8l\\xadC7e  (Voza  ( 1973a)  117  no. 381;(1978));  so  Syracuse secured  its  interests  southwards  before  founding  the  sec- ondary  colonies  of  Akrai,  Kasmenai  and  Kamarina  (Di  Vita ( 1956)).An  abundance  of  Greek  C 7\\xadC6m  material  is  known from  the  site,  whereas  limited  C 5  material  suggests  that  this was  a  period  of  recession.  The  city  prospered  during  the period  of  Timoleon,  and  above  all  in  the  Hellenistic  period. The  C 6  circuit  wall  was  built  in  a  pseudo-isodomic  tech- nique  as  a  double  curtain-wall  with  internal  fill ( emplekton), in  all  2.80  m  wide  (Orsi  et al.( 1966)  310\\xad12).  A  local  lime- stone  was  used,  as  well  as  odd  material,  such  as  a  C 6  tomb- stone  (IGDS  no. 98).  The  Archaic  circuit  wall  was incorporated  in  the  C 4  fortification when the wall was strengthened  and  towers  were  added  (Orsi  et al.( 1966) 220\\xad31).  The  C 4  circuit  wall  is  known  on  the  north,  west  and south  of  the  town,  its  course  following  the  edge  of  the  habi- tation  plateau;  the  eastern  side  facing  the  sea  also  seems  to have  been  fortified. The  habitation  area  comprised  about  9  ha.  The  1,500  seat- ing  capacity  of  the  C 4\\xadC2  theatre  (infra)  gives  some  indica- tion  of  population  size  in  the  late  Classical  period. The  main  routes  across  the  plateau  were  not  laid  out  in straight  lines  but  in  accordance  with  the  uneven  terrain-- uncommon  in  Western  Greek  urban  planning  (Voza ( 1980\\xad81)  686\\xad87).  Though  this  road  system  is  known  pri- marily  from  its  Hellenistic  phase,  there  is  little  doubt  that  its origin  is  Archaic.  An  open  space  bordered  by  public  build- ings  on  the  highest  point  of  the  plateau  is  interpreted  as  an agora  (Voza  in  Storia  della  Sicilia  i. 550,fig.  90).  The  main urban  area  in  the  south-western  part  of  the  city  was  on  a  grid plan  and  delimited  on  the  north  by  a  C 4m(?)  temenos  (the so-called  Asklepieion)  of  unknown  cult  (Orsi  et al.( 1966) 287\\xad88,  320).  Sparse  remains  of  habitation  structures  in  the southernmost  part  of  the  area  are  of  C 8l\\xadC7e  date  and  reveal affinities w ith  contemporary  architecture  from  Megara  (no. 36)  and  Syracuse  (no. 47;  Voza  ( 1978),  ( 1980\\xad81)  685\\xad86).Yet another  temenos  marked  the  southern  limit  of  the  city:  a  C 4s temple  dedicated  to  Demeter  (Voza  ( 1973a)  118\\xad19;  Hinz ( 1998)  116\\xad18)  and  smaller  thesauroi/naiskoi. A  suburban  Demeter  sanctuary  spanning  the  Archaic  and the  Hellenistic  periods  was  located  near  the  coast  north  of Heloron  (Voza  ( 1973a)  123\\xad26;  Storia  della  Sicilia  i. 548;  Hinz ( 1998)  111\\xad16).  The  Hellenistic  programme  of  public  build- ing  included  a  small  C 4\\xadC2  theatre outside  the  southern perimeter  of  the  city  (Orsi  et al.( 1966)  232\\xad35,  324\\xad27; Mitens ( 1988)  89\\xad91).  Hesychius  refers  to an  ' (s.v.)  celebrated  at  the  river  Heloros  and  possibly  to  be connected  with  the  city.\""
      ]
     },
     "execution_count": 8,
     "metadata": {},
     "output_type": "execute_result"
    }
   ],
   "source": [
    "# Der key in eckigen Klammern gibt den Wert des Elements mit dem Key aus\n",
    "PoleisRawData[PoleisKeyList[4]]"
   ]
  },
  {
   "cell_type": "code",
   "execution_count": 9,
   "metadata": {
    "button": false,
    "collapsed": false,
    "deletable": true,
    "new_sheet": false,
    "run_control": {
     "read_only": false
    }
   },
   "outputs": [
    {
     "data": {
      "text/html": [
       "<div>\n",
       "<table border=\"1\" class=\"dataframe\">\n",
       "  <thead>\n",
       "    <tr style=\"text-align: right;\">\n",
       "      <th></th>\n",
       "      <th>0</th>\n",
       "    </tr>\n",
       "  </thead>\n",
       "  <tbody>\n",
       "    <tr>\n",
       "      <th>10. Akrai</th>\n",
       "      <td>(Akraios) Map  47.  Lat. 37.05,long.  14.55.  ...</td>\n",
       "    </tr>\n",
       "    <tr>\n",
       "      <th>11. Alaisa</th>\n",
       "      <td>(Alaisinos) Map  47.  Lat. 38.00,long.  14.15....</td>\n",
       "    </tr>\n",
       "    <tr>\n",
       "      <th>12. Alontion</th>\n",
       "      <td>(Alontinos) Map  47.  Lat. 38.05,long.  14.40....</td>\n",
       "    </tr>\n",
       "    <tr>\n",
       "      <th>13. Apollonia</th>\n",
       "      <td>(Apolloniates) Map  47.  Lat. 38.00,long. 14.3...</td>\n",
       "    </tr>\n",
       "  </tbody>\n",
       "</table>\n",
       "</div>"
      ],
      "text/plain": [
       "                                                                0\n",
       "10. Akrai       (Akraios) Map  47.  Lat. 37.05,long.  14.55.  ...\n",
       "11. Alaisa      (Alaisinos) Map  47.  Lat. 38.00,long.  14.15....\n",
       "12. Alontion    (Alontinos) Map  47.  Lat. 38.05,long.  14.40....\n",
       "13. Apollonia   (Apolloniates) Map  47.  Lat. 38.00,long. 14.3..."
      ]
     },
     "execution_count": 9,
     "metadata": {},
     "output_type": "execute_result"
    }
   ],
   "source": [
    "# Liest das Dictionary als Dataframe ein. Namen der Poleis werden als Index benutzt.\n",
    "dfPoleis = pd.DataFrame([PoleisRawData]).transpose()\n",
    "dfPoleis.head(4)"
   ]
  },
  {
   "cell_type": "code",
   "execution_count": 10,
   "metadata": {
    "button": false,
    "collapsed": false,
    "deletable": true,
    "new_sheet": false,
    "run_control": {
     "read_only": false
    }
   },
   "outputs": [
    {
     "data": {
      "text/html": [
       "<div>\n",
       "<table border=\"1\" class=\"dataframe\">\n",
       "  <thead>\n",
       "    <tr style=\"text-align: right;\">\n",
       "      <th></th>\n",
       "      <th>Beschreibung</th>\n",
       "    </tr>\n",
       "  </thead>\n",
       "  <tbody>\n",
       "    <tr>\n",
       "      <th>10. Akrai</th>\n",
       "      <td>(Akraios) Map  47.  Lat. 37.05,long.  14.55.  ...</td>\n",
       "    </tr>\n",
       "    <tr>\n",
       "      <th>11. Alaisa</th>\n",
       "      <td>(Alaisinos) Map  47.  Lat. 38.00,long.  14.15....</td>\n",
       "    </tr>\n",
       "    <tr>\n",
       "      <th>12. Alontion</th>\n",
       "      <td>(Alontinos) Map  47.  Lat. 38.05,long.  14.40....</td>\n",
       "    </tr>\n",
       "    <tr>\n",
       "      <th>13. Apollonia</th>\n",
       "      <td>(Apolloniates) Map  47.  Lat. 38.00,long. 14.3...</td>\n",
       "    </tr>\n",
       "    <tr>\n",
       "      <th>14. Engyon</th>\n",
       "      <td>(Engyinos)  Map  47.  Lat. 37.45,long.  14.35....</td>\n",
       "    </tr>\n",
       "  </tbody>\n",
       "</table>\n",
       "</div>"
      ],
      "text/plain": [
       "                                                     Beschreibung\n",
       "10. Akrai       (Akraios) Map  47.  Lat. 37.05,long.  14.55.  ...\n",
       "11. Alaisa      (Alaisinos) Map  47.  Lat. 38.00,long.  14.15....\n",
       "12. Alontion    (Alontinos) Map  47.  Lat. 38.05,long.  14.40....\n",
       "13. Apollonia   (Apolloniates) Map  47.  Lat. 38.00,long. 14.3...\n",
       "14. Engyon      (Engyinos)  Map  47.  Lat. 37.45,long.  14.35...."
      ]
     },
     "execution_count": 10,
     "metadata": {},
     "output_type": "execute_result"
    }
   ],
   "source": [
    "# Umnennen der Spalte von 0 zu 'full_text'\n",
    "dfPoleis = dfPoleis.rename(columns={0: 'Beschreibung'})\n",
    "dfPoleis.head()"
   ]
  },
  {
   "cell_type": "markdown",
   "metadata": {},
   "source": [
    "# Konstruktion neuer Merkmale\n",
    "## Textmuster mit regulären Ausdrücken\n",
    "\n",
    "http://www.regexe.de/hilfe.jsp \n",
    "https://www.cheatography.com/davechild/cheat-sheets/regular-expressions/\n",
    "\n",
    "http://www.coli.uni-saarland.de/courses/python1-10/folien/PythonI10-07.pdf"
   ]
  },
  {
   "cell_type": "code",
   "execution_count": 11,
   "metadata": {
    "collapsed": false
   },
   "outputs": [
    {
     "data": {
      "text/plain": [
       "['Akrai ',\n",
       " 'Alaisa ',\n",
       " 'Alontion ',\n",
       " 'Apollonia ',\n",
       " 'Engyon ',\n",
       " 'Euboia ',\n",
       " 'Galeria ',\n",
       " 'Gela ',\n",
       " 'Heloron ',\n",
       " 'Henna ',\n",
       " 'Herakleia 1',\n",
       " 'Herakleia 2 ',\n",
       " 'Herbes(s)os ',\n",
       " 'Herbita ',\n",
       " 'Himera ',\n",
       " 'Hippana ',\n",
       " 'Imachara ',\n",
       " 'Kallipolis ',\n",
       " 'Kamarina ',\n",
       " 'Kasmenai ',\n",
       " 'Katane ',\n",
       " 'Kentoripa ',\n",
       " 'Kephaloidion ',\n",
       " 'Leontinoi ',\n",
       " 'Lipara ',\n",
       " '*Longane ',\n",
       " 'Megara ',\n",
       " 'Morgantina ',\n",
       " 'Mylai ',\n",
       " 'Mytistratos ',\n",
       " 'Nakone ',\n",
       " 'Naxos ',\n",
       " 'Petra ',\n",
       " 'Piakos ',\n",
       " 'Selinous ',\n",
       " '(Sileraioi)',\n",
       " '(Stielanaioi)',\n",
       " 'Syrakousai ',\n",
       " 'Tauromenion ',\n",
       " 'Tyndaris ',\n",
       " 'bakainon ',\n",
       " '(Tyrrhenoi)',\n",
       " 'Zankle ',\n",
       " 'dranon ',\n",
       " 'gyrion ',\n",
       " 'itna ',\n",
       " 'kragas ']"
      ]
     },
     "execution_count": 11,
     "metadata": {},
     "output_type": "execute_result"
    }
   ],
   "source": [
    "# Konstruktion einer Liste mit sogenannten List-Comprehensions\n",
    "ListCities = [x[4:] for x in dfPoleis.index]\n",
    "ListCities"
   ]
  },
  {
   "cell_type": "code",
   "execution_count": 12,
   "metadata": {
    "collapsed": false
   },
   "outputs": [],
   "source": [
    "# Extrahiere Name der Polis aus Index\n",
    "dfPoleis['city'] = [x[4:] for x in dfPoleis.index]"
   ]
  },
  {
   "cell_type": "code",
   "execution_count": 13,
   "metadata": {
    "collapsed": false
   },
   "outputs": [],
   "source": [
    "# Extrahiere Nummer des Polis Eintrags\n",
    "dfPoleis['city_index'] = [int(re.findall('\\d{1,2}', x)[0]) for x in dfPoleis.index]"
   ]
  },
  {
   "cell_type": "code",
   "execution_count": 14,
   "metadata": {
    "collapsed": false
   },
   "outputs": [],
   "source": [
    "# Sortiere die Zeilen nach der Spalte \n",
    "dfPoleis = dfPoleis.sort_values(by='city_index')"
   ]
  },
  {
   "cell_type": "code",
   "execution_count": 15,
   "metadata": {
    "button": false,
    "collapsed": false,
    "deletable": true,
    "new_sheet": false,
    "run_control": {
     "read_only": false
    }
   },
   "outputs": [
    {
     "data": {
      "text/html": [
       "<div>\n",
       "<table border=\"1\" class=\"dataframe\">\n",
       "  <thead>\n",
       "    <tr style=\"text-align: right;\">\n",
       "      <th></th>\n",
       "      <th>Beschreibung</th>\n",
       "      <th>city</th>\n",
       "      <th>city_index</th>\n",
       "    </tr>\n",
       "  </thead>\n",
       "  <tbody>\n",
       "    <tr>\n",
       "      <th>5. Abakainon</th>\n",
       "      <td>(Abakaininos) Map  47.  Lat. 38.05,long. 15.05...</td>\n",
       "      <td>bakainon</td>\n",
       "      <td>5</td>\n",
       "    </tr>\n",
       "    <tr>\n",
       "      <th>6. Adranon</th>\n",
       "      <td>(Adranites) Map  47.  Lat. 37.40,long.  14.50....</td>\n",
       "      <td>dranon</td>\n",
       "      <td>6</td>\n",
       "    </tr>\n",
       "    <tr>\n",
       "      <th>7. Agyrion</th>\n",
       "      <td>(Agyrinaios) Map  47.  Lat. 37.40,long.  14.30...</td>\n",
       "      <td>gyrion</td>\n",
       "      <td>7</td>\n",
       "    </tr>\n",
       "    <tr>\n",
       "      <th>8. Aitna</th>\n",
       "      <td>(Aitnaios) Map  47.Location  of  Aitna  I  as ...</td>\n",
       "      <td>itna</td>\n",
       "      <td>8</td>\n",
       "    </tr>\n",
       "  </tbody>\n",
       "</table>\n",
       "</div>"
      ],
      "text/plain": [
       "                                                    Beschreibung       city  \\\n",
       "5. Abakainon   (Abakaininos) Map  47.  Lat. 38.05,long. 15.05...  bakainon    \n",
       "6. Adranon     (Adranites) Map  47.  Lat. 37.40,long.  14.50....    dranon    \n",
       "7. Agyrion     (Agyrinaios) Map  47.  Lat. 37.40,long.  14.30...    gyrion    \n",
       "8. Aitna       (Aitnaios) Map  47.Location  of  Aitna  I  as ...      itna    \n",
       "\n",
       "               city_index  \n",
       "5. Abakainon            5  \n",
       "6. Adranon              6  \n",
       "7. Agyrion              7  \n",
       "8. Aitna                8  "
      ]
     },
     "execution_count": 15,
     "metadata": {},
     "output_type": "execute_result"
    }
   ],
   "source": [
    "dfPoleis.head(4)"
   ]
  },
  {
   "cell_type": "markdown",
   "metadata": {},
   "source": [
    "## Textmustersuche in der Beschreibung einer Polis\n",
    "### Neue Funktionen"
   ]
  },
  {
   "cell_type": "code",
   "execution_count": 16,
   "metadata": {
    "collapsed": false
   },
   "outputs": [],
   "source": [
    "def ListePattern(value,pattern):\n",
    "    x = re.findall(pattern, value)\n",
    "    if x:\n",
    "        return(x[0][-5:])"
   ]
  },
  {
   "cell_type": "markdown",
   "metadata": {},
   "source": [
    "### Geographische Koordinaten"
   ]
  },
  {
   "cell_type": "code",
   "execution_count": 17,
   "metadata": {
    "collapsed": false
   },
   "outputs": [
    {
     "data": {
      "text/plain": [
       "'38.05'"
      ]
     },
     "execution_count": 17,
     "metadata": {},
     "output_type": "execute_result"
    }
   ],
   "source": [
    "ListePattern(dfPoleis[\"Beschreibung\"][0],\"Lat\\.\\s?\\d+\\.\\d+\")"
   ]
  },
  {
   "cell_type": "code",
   "execution_count": 18,
   "metadata": {
    "collapsed": false
   },
   "outputs": [
    {
     "data": {
      "text/plain": [
       "'15.05'"
      ]
     },
     "execution_count": 18,
     "metadata": {},
     "output_type": "execute_result"
    }
   ],
   "source": [
    "# gleiches auch für long.\n",
    "listLong=ListePattern(dfPoleis['Beschreibung'][0],\"long\\.\\s*\\d+\\.\\d+\")\n",
    "listLong"
   ]
  },
  {
   "cell_type": "code",
   "execution_count": 20,
   "metadata": {
    "collapsed": false
   },
   "outputs": [],
   "source": [
    "dfPoleis['Latitude'] = dfPoleis['Beschreibung'].apply(ListePattern,pattern=\"Lat\\.\\s?\\d+\\.\\d+\").astype(float)\n",
    "\n",
    "dfPoleis['Longitude'] = dfPoleis['Beschreibung'].apply(ListePattern,pattern=\"long\\.\\s*\\d+\\.\\d+\").astype(float)"
   ]
  },
  {
   "cell_type": "code",
   "execution_count": 21,
   "metadata": {
    "collapsed": false
   },
   "outputs": [
    {
     "data": {
      "text/html": [
       "<div>\n",
       "<table border=\"1\" class=\"dataframe\">\n",
       "  <thead>\n",
       "    <tr style=\"text-align: right;\">\n",
       "      <th></th>\n",
       "      <th>Beschreibung</th>\n",
       "      <th>city</th>\n",
       "      <th>city_index</th>\n",
       "      <th>Latitude</th>\n",
       "      <th>Longitude</th>\n",
       "    </tr>\n",
       "  </thead>\n",
       "  <tbody>\n",
       "    <tr>\n",
       "      <th>5. Abakainon</th>\n",
       "      <td>(Abakaininos) Map  47.  Lat. 38.05,long. 15.05...</td>\n",
       "      <td>bakainon</td>\n",
       "      <td>5</td>\n",
       "      <td>38.05</td>\n",
       "      <td>15.05</td>\n",
       "    </tr>\n",
       "    <tr>\n",
       "      <th>6. Adranon</th>\n",
       "      <td>(Adranites) Map  47.  Lat. 37.40,long.  14.50....</td>\n",
       "      <td>dranon</td>\n",
       "      <td>6</td>\n",
       "      <td>37.40</td>\n",
       "      <td>14.50</td>\n",
       "    </tr>\n",
       "    <tr>\n",
       "      <th>7. Agyrion</th>\n",
       "      <td>(Agyrinaios) Map  47.  Lat. 37.40,long.  14.30...</td>\n",
       "      <td>gyrion</td>\n",
       "      <td>7</td>\n",
       "      <td>37.40</td>\n",
       "      <td>14.30</td>\n",
       "    </tr>\n",
       "    <tr>\n",
       "      <th>8. Aitna</th>\n",
       "      <td>(Aitnaios) Map  47.Location  of  Aitna  I  as ...</td>\n",
       "      <td>itna</td>\n",
       "      <td>8</td>\n",
       "      <td>NaN</td>\n",
       "      <td>NaN</td>\n",
       "    </tr>\n",
       "    <tr>\n",
       "      <th>9. Akragas</th>\n",
       "      <td>(Akragantinos) Map  47.  Lat. 37.20,long.  13....</td>\n",
       "      <td>kragas</td>\n",
       "      <td>9</td>\n",
       "      <td>37.20</td>\n",
       "      <td>13.35</td>\n",
       "    </tr>\n",
       "    <tr>\n",
       "      <th>10. Akrai</th>\n",
       "      <td>(Akraios) Map  47.  Lat. 37.05,long.  14.55.  ...</td>\n",
       "      <td>Akrai</td>\n",
       "      <td>10</td>\n",
       "      <td>37.05</td>\n",
       "      <td>14.55</td>\n",
       "    </tr>\n",
       "    <tr>\n",
       "      <th>11. Alaisa</th>\n",
       "      <td>(Alaisinos) Map  47.  Lat. 38.00,long.  14.15....</td>\n",
       "      <td>Alaisa</td>\n",
       "      <td>11</td>\n",
       "      <td>38.00</td>\n",
       "      <td>14.15</td>\n",
       "    </tr>\n",
       "    <tr>\n",
       "      <th>12. Alontion</th>\n",
       "      <td>(Alontinos) Map  47.  Lat. 38.05,long.  14.40....</td>\n",
       "      <td>Alontion</td>\n",
       "      <td>12</td>\n",
       "      <td>38.05</td>\n",
       "      <td>14.40</td>\n",
       "    </tr>\n",
       "    <tr>\n",
       "      <th>13. Apollonia</th>\n",
       "      <td>(Apolloniates) Map  47.  Lat. 38.00,long. 14.3...</td>\n",
       "      <td>Apollonia</td>\n",
       "      <td>13</td>\n",
       "      <td>38.00</td>\n",
       "      <td>14.35</td>\n",
       "    </tr>\n",
       "    <tr>\n",
       "      <th>14. Engyon</th>\n",
       "      <td>(Engyinos)  Map  47.  Lat. 37.45,long.  14.35....</td>\n",
       "      <td>Engyon</td>\n",
       "      <td>14</td>\n",
       "      <td>37.45</td>\n",
       "      <td>14.35</td>\n",
       "    </tr>\n",
       "    <tr>\n",
       "      <th>15. Euboia</th>\n",
       "      <td>(Euboeus)  Map  47.  Unlocated.  Type:  C: .Th...</td>\n",
       "      <td>Euboia</td>\n",
       "      <td>15</td>\n",
       "      <td>NaN</td>\n",
       "      <td>NaN</td>\n",
       "    </tr>\n",
       "    <tr>\n",
       "      <th>16. Galeria</th>\n",
       "      <td>(Galarinos) Map  47.Unlocated  (Manni  ( 1981)...</td>\n",
       "      <td>Galeria</td>\n",
       "      <td>16</td>\n",
       "      <td>NaN</td>\n",
       "      <td>NaN</td>\n",
       "    </tr>\n",
       "    <tr>\n",
       "      <th>17. Gela</th>\n",
       "      <td>(Geloios,  Geloaios) Map  47.  Lat. 37.05,long...</td>\n",
       "      <td>Gela</td>\n",
       "      <td>17</td>\n",
       "      <td>37.05</td>\n",
       "      <td>14.15</td>\n",
       "    </tr>\n",
       "    <tr>\n",
       "      <th>18. Heloron</th>\n",
       "      <td>(Ailoros) Map  47.  Lat. 36.50,long.  15.05.  ...</td>\n",
       "      <td>Heloron</td>\n",
       "      <td>18</td>\n",
       "      <td>36.50</td>\n",
       "      <td>15.05</td>\n",
       "    </tr>\n",
       "    <tr>\n",
       "      <th>19. Henna</th>\n",
       "      <td>(Hennaios) Map  47.  Lat. 37.35,long.  14.15. ...</td>\n",
       "      <td>Henna</td>\n",
       "      <td>19</td>\n",
       "      <td>37.35</td>\n",
       "      <td>14.15</td>\n",
       "    </tr>\n",
       "    <tr>\n",
       "      <th>20. Herakleia 1</th>\n",
       "      <td>(Herakleotes) Map  47.  Lat. 37.25,long. 13.15...</td>\n",
       "      <td>Herakleia 1</td>\n",
       "      <td>20</td>\n",
       "      <td>37.25</td>\n",
       "      <td>13.15</td>\n",
       "    </tr>\n",
       "    <tr>\n",
       "      <th>21. Herakleia 2</th>\n",
       "      <td>Map 47.Unlocated  site  in  western  Sicily, i...</td>\n",
       "      <td>Herakleia 2</td>\n",
       "      <td>21</td>\n",
       "      <td>NaN</td>\n",
       "      <td>NaN</td>\n",
       "    </tr>\n",
       "    <tr>\n",
       "      <th>22. Herbes(s)os</th>\n",
       "      <td>(Herbessinos) Map  47.  Unlocated,  but presum...</td>\n",
       "      <td>Herbes(s)os</td>\n",
       "      <td>22</td>\n",
       "      <td>NaN</td>\n",
       "      <td>NaN</td>\n",
       "    </tr>\n",
       "    <tr>\n",
       "      <th>23. Herbita</th>\n",
       "      <td>(Herbitaios) Map  47.Unlocated  (cf.  C.  Boeh...</td>\n",
       "      <td>Herbita</td>\n",
       "      <td>23</td>\n",
       "      <td>NaN</td>\n",
       "      <td>NaN</td>\n",
       "    </tr>\n",
       "    <tr>\n",
       "      <th>24. Himera</th>\n",
       "      <td>(Himeraios) Map  47.  Lat. 37.55,long.  13.50....</td>\n",
       "      <td>Himera</td>\n",
       "      <td>24</td>\n",
       "      <td>37.55</td>\n",
       "      <td>13.50</td>\n",
       "    </tr>\n",
       "    <tr>\n",
       "      <th>25. Hippana</th>\n",
       "      <td>(Hipanatas)  Map  47.  Lat. 37.40,long.  13.25...</td>\n",
       "      <td>Hippana</td>\n",
       "      <td>25</td>\n",
       "      <td>37.40</td>\n",
       "      <td>13.25</td>\n",
       "    </tr>\n",
       "    <tr>\n",
       "      <th>26 *Imachara</th>\n",
       "      <td>(Imacharaios) Map  47.  Unlocated.  Barr. tent...</td>\n",
       "      <td>Imachara</td>\n",
       "      <td>26</td>\n",
       "      <td>NaN</td>\n",
       "      <td>14.20</td>\n",
       "    </tr>\n",
       "    <tr>\n",
       "      <th>27. Kallipolis</th>\n",
       "      <td>(Kallipolites)  Map  47.  Unlocated.  Type:  A...</td>\n",
       "      <td>Kallipolis</td>\n",
       "      <td>27</td>\n",
       "      <td>NaN</td>\n",
       "      <td>NaN</td>\n",
       "    </tr>\n",
       "    <tr>\n",
       "      <th>28. Kamarina</th>\n",
       "      <td>(Kamarinaios) Map  47.  Lat. 36.50,long. 14.25...</td>\n",
       "      <td>Kamarina</td>\n",
       "      <td>28</td>\n",
       "      <td>36.50</td>\n",
       "      <td>14.25</td>\n",
       "    </tr>\n",
       "    <tr>\n",
       "      <th>29. Kasmenai</th>\n",
       "      <td>(Kasmenaios) Map  47.  Lat. 37.05,long. 14.50....</td>\n",
       "      <td>Kasmenai</td>\n",
       "      <td>29</td>\n",
       "      <td>37.05</td>\n",
       "      <td>14.50</td>\n",
       "    </tr>\n",
       "    <tr>\n",
       "      <th>30. Katane</th>\n",
       "      <td>(Katanaios) Map  47.  Lat. 37.30,long.  15.05....</td>\n",
       "      <td>Katane</td>\n",
       "      <td>30</td>\n",
       "      <td>37.30</td>\n",
       "      <td>15.05</td>\n",
       "    </tr>\n",
       "    <tr>\n",
       "      <th>31. Kentoripa</th>\n",
       "      <td>(Kentoripinos) Map  47.  Lat. 37.35,long. 14.4...</td>\n",
       "      <td>Kentoripa</td>\n",
       "      <td>31</td>\n",
       "      <td>37.35</td>\n",
       "      <td>14.45</td>\n",
       "    </tr>\n",
       "    <tr>\n",
       "      <th>32. Kephaloidion</th>\n",
       "      <td>(Kephaloiditas) Map  47.  Lat. 38.00, long. 14...</td>\n",
       "      <td>Kephaloidion</td>\n",
       "      <td>32</td>\n",
       "      <td>38.00</td>\n",
       "      <td>14.00</td>\n",
       "    </tr>\n",
       "    <tr>\n",
       "      <th>33. Leontinoi</th>\n",
       "      <td>(Leontinos) Map  47.  Lat. 37.15,long.  15.00....</td>\n",
       "      <td>Leontinoi</td>\n",
       "      <td>33</td>\n",
       "      <td>37.15</td>\n",
       "      <td>15.00</td>\n",
       "    </tr>\n",
       "    <tr>\n",
       "      <th>34. Lipara</th>\n",
       "      <td>(Liparaios) Map  47.  Lat. 38.30  long. 14.55....</td>\n",
       "      <td>Lipara</td>\n",
       "      <td>34</td>\n",
       "      <td>38.30</td>\n",
       "      <td>14.55</td>\n",
       "    </tr>\n",
       "    <tr>\n",
       "      <th>35. *Longane</th>\n",
       "      <td>(Longenaios) Map  47.  Lat. 38.05,long. 15.10....</td>\n",
       "      <td>*Longane</td>\n",
       "      <td>35</td>\n",
       "      <td>38.05</td>\n",
       "      <td>15.10</td>\n",
       "    </tr>\n",
       "    <tr>\n",
       "      <th>36. Megara</th>\n",
       "      <td>(Megareus) Map  47.  Lat. 37.10,long.  15.10. ...</td>\n",
       "      <td>Megara</td>\n",
       "      <td>36</td>\n",
       "      <td>37.10</td>\n",
       "      <td>15.10</td>\n",
       "    </tr>\n",
       "    <tr>\n",
       "      <th>37. Morgantina</th>\n",
       "      <td>(Morgantinos) Map  47.  Lat. 37.25,long. 14.30...</td>\n",
       "      <td>Morgantina</td>\n",
       "      <td>37</td>\n",
       "      <td>37.25</td>\n",
       "      <td>14.30</td>\n",
       "    </tr>\n",
       "    <tr>\n",
       "      <th>38. Mylai</th>\n",
       "      <td>(Mylaios) Map  47.  Lat. 38.15,  long  15.15. ...</td>\n",
       "      <td>Mylai</td>\n",
       "      <td>38</td>\n",
       "      <td>38.15</td>\n",
       "      <td>NaN</td>\n",
       "    </tr>\n",
       "    <tr>\n",
       "      <th>39. Mytistratos</th>\n",
       "      <td>(Mytiseratinos) Map  47.  Lat. 37.35,long. 14....</td>\n",
       "      <td>Mytistratos</td>\n",
       "      <td>39</td>\n",
       "      <td>37.35</td>\n",
       "      <td>14.00</td>\n",
       "    </tr>\n",
       "    <tr>\n",
       "      <th>40. Nakone</th>\n",
       "      <td>(Nakonaios)  Map  47.  Unlocated  (Tegon ( 199...</td>\n",
       "      <td>Nakone</td>\n",
       "      <td>40</td>\n",
       "      <td>NaN</td>\n",
       "      <td>NaN</td>\n",
       "    </tr>\n",
       "    <tr>\n",
       "      <th>41. Naxos</th>\n",
       "      <td>(Naxios) Map  47.  Lat. 37.50,long.  15.15.  S...</td>\n",
       "      <td>Naxos</td>\n",
       "      <td>41</td>\n",
       "      <td>37.50</td>\n",
       "      <td>15.15</td>\n",
       "    </tr>\n",
       "    <tr>\n",
       "      <th>42. Petra</th>\n",
       "      <td>(Petrinos) Map  47.  Unlocated  (cf.  Bejor  (...</td>\n",
       "      <td>Petra</td>\n",
       "      <td>42</td>\n",
       "      <td>NaN</td>\n",
       "      <td>NaN</td>\n",
       "    </tr>\n",
       "    <tr>\n",
       "      <th>43. Piakos</th>\n",
       "      <td>(Piakinos) Map  47.  Unlocated,  but  possibly...</td>\n",
       "      <td>Piakos</td>\n",
       "      <td>43</td>\n",
       "      <td>NaN</td>\n",
       "      <td>NaN</td>\n",
       "    </tr>\n",
       "    <tr>\n",
       "      <th>44. Selinous</th>\n",
       "      <td>(Selinousios) Map  47.  Lat. 37.35,long.  12.5...</td>\n",
       "      <td>Selinous</td>\n",
       "      <td>44</td>\n",
       "      <td>37.35</td>\n",
       "      <td>12.50</td>\n",
       "    </tr>\n",
       "    <tr>\n",
       "      <th>45. (Sileraioi)</th>\n",
       "      <td>Map 47.  Unlocated  (cf.  Manni  ( 1981)  225)...</td>\n",
       "      <td>(Sileraioi)</td>\n",
       "      <td>45</td>\n",
       "      <td>NaN</td>\n",
       "      <td>NaN</td>\n",
       "    </tr>\n",
       "    <tr>\n",
       "      <th>46. (Stielanaioi)</th>\n",
       "      <td>Map 47.  Lat. 37.10,long.  14.55:  the  loca- ...</td>\n",
       "      <td>(Stielanaioi)</td>\n",
       "      <td>46</td>\n",
       "      <td>37.10</td>\n",
       "      <td>14.55</td>\n",
       "    </tr>\n",
       "    <tr>\n",
       "      <th>47. Syrakousai</th>\n",
       "      <td>(Syrakosios) Map  47.  Lat. 37.05,long. 15.15....</td>\n",
       "      <td>Syrakousai</td>\n",
       "      <td>47</td>\n",
       "      <td>37.05</td>\n",
       "      <td>15.15</td>\n",
       "    </tr>\n",
       "    <tr>\n",
       "      <th>48. Tauromenion</th>\n",
       "      <td>(Tauromenitas) Map  47.  Lat. 37.50, long. 15....</td>\n",
       "      <td>Tauromenion</td>\n",
       "      <td>48</td>\n",
       "      <td>37.50</td>\n",
       "      <td>15.15</td>\n",
       "    </tr>\n",
       "    <tr>\n",
       "      <th>49. Tyndaris</th>\n",
       "      <td>(Tyndarites) Map  47.  Lat. 38.10,long.  15.05...</td>\n",
       "      <td>Tyndaris</td>\n",
       "      <td>49</td>\n",
       "      <td>38.10</td>\n",
       "      <td>15.05</td>\n",
       "    </tr>\n",
       "    <tr>\n",
       "      <th>50. (Tyrrhenoi)</th>\n",
       "      <td>Map 47.  Unlocated.  Type:  C: .The  Tyr- rhen...</td>\n",
       "      <td>(Tyrrhenoi)</td>\n",
       "      <td>50</td>\n",
       "      <td>NaN</td>\n",
       "      <td>NaN</td>\n",
       "    </tr>\n",
       "    <tr>\n",
       "      <th>51. Zankle</th>\n",
       "      <td>(Zanklaios)/Messana</td>\n",
       "      <td>Zankle</td>\n",
       "      <td>51</td>\n",
       "      <td>NaN</td>\n",
       "      <td>NaN</td>\n",
       "    </tr>\n",
       "  </tbody>\n",
       "</table>\n",
       "</div>"
      ],
      "text/plain": [
       "                                                        Beschreibung  \\\n",
       "5. Abakainon       (Abakaininos) Map  47.  Lat. 38.05,long. 15.05...   \n",
       "6. Adranon         (Adranites) Map  47.  Lat. 37.40,long.  14.50....   \n",
       "7. Agyrion         (Agyrinaios) Map  47.  Lat. 37.40,long.  14.30...   \n",
       "8. Aitna           (Aitnaios) Map  47.Location  of  Aitna  I  as ...   \n",
       "9. Akragas         (Akragantinos) Map  47.  Lat. 37.20,long.  13....   \n",
       "10. Akrai          (Akraios) Map  47.  Lat. 37.05,long.  14.55.  ...   \n",
       "11. Alaisa         (Alaisinos) Map  47.  Lat. 38.00,long.  14.15....   \n",
       "12. Alontion       (Alontinos) Map  47.  Lat. 38.05,long.  14.40....   \n",
       "13. Apollonia      (Apolloniates) Map  47.  Lat. 38.00,long. 14.3...   \n",
       "14. Engyon         (Engyinos)  Map  47.  Lat. 37.45,long.  14.35....   \n",
       "15. Euboia         (Euboeus)  Map  47.  Unlocated.  Type:  C: .Th...   \n",
       "16. Galeria        (Galarinos) Map  47.Unlocated  (Manni  ( 1981)...   \n",
       "17. Gela           (Geloios,  Geloaios) Map  47.  Lat. 37.05,long...   \n",
       "18. Heloron        (Ailoros) Map  47.  Lat. 36.50,long.  15.05.  ...   \n",
       "19. Henna          (Hennaios) Map  47.  Lat. 37.35,long.  14.15. ...   \n",
       "20. Herakleia 1    (Herakleotes) Map  47.  Lat. 37.25,long. 13.15...   \n",
       "21. Herakleia 2    Map 47.Unlocated  site  in  western  Sicily, i...   \n",
       "22. Herbes(s)os    (Herbessinos) Map  47.  Unlocated,  but presum...   \n",
       "23. Herbita        (Herbitaios) Map  47.Unlocated  (cf.  C.  Boeh...   \n",
       "24. Himera         (Himeraios) Map  47.  Lat. 37.55,long.  13.50....   \n",
       "25. Hippana        (Hipanatas)  Map  47.  Lat. 37.40,long.  13.25...   \n",
       "26 *Imachara       (Imacharaios) Map  47.  Unlocated.  Barr. tent...   \n",
       "27. Kallipolis     (Kallipolites)  Map  47.  Unlocated.  Type:  A...   \n",
       "28. Kamarina       (Kamarinaios) Map  47.  Lat. 36.50,long. 14.25...   \n",
       "29. Kasmenai       (Kasmenaios) Map  47.  Lat. 37.05,long. 14.50....   \n",
       "30. Katane         (Katanaios) Map  47.  Lat. 37.30,long.  15.05....   \n",
       "31. Kentoripa      (Kentoripinos) Map  47.  Lat. 37.35,long. 14.4...   \n",
       "32. Kephaloidion   (Kephaloiditas) Map  47.  Lat. 38.00, long. 14...   \n",
       "33. Leontinoi      (Leontinos) Map  47.  Lat. 37.15,long.  15.00....   \n",
       "34. Lipara         (Liparaios) Map  47.  Lat. 38.30  long. 14.55....   \n",
       "35. *Longane       (Longenaios) Map  47.  Lat. 38.05,long. 15.10....   \n",
       "36. Megara         (Megareus) Map  47.  Lat. 37.10,long.  15.10. ...   \n",
       "37. Morgantina     (Morgantinos) Map  47.  Lat. 37.25,long. 14.30...   \n",
       "38. Mylai          (Mylaios) Map  47.  Lat. 38.15,  long  15.15. ...   \n",
       "39. Mytistratos    (Mytiseratinos) Map  47.  Lat. 37.35,long. 14....   \n",
       "40. Nakone         (Nakonaios)  Map  47.  Unlocated  (Tegon ( 199...   \n",
       "41. Naxos          (Naxios) Map  47.  Lat. 37.50,long.  15.15.  S...   \n",
       "42. Petra          (Petrinos) Map  47.  Unlocated  (cf.  Bejor  (...   \n",
       "43. Piakos         (Piakinos) Map  47.  Unlocated,  but  possibly...   \n",
       "44. Selinous       (Selinousios) Map  47.  Lat. 37.35,long.  12.5...   \n",
       "45. (Sileraioi)    Map 47.  Unlocated  (cf.  Manni  ( 1981)  225)...   \n",
       "46. (Stielanaioi)  Map 47.  Lat. 37.10,long.  14.55:  the  loca- ...   \n",
       "47. Syrakousai     (Syrakosios) Map  47.  Lat. 37.05,long. 15.15....   \n",
       "48. Tauromenion    (Tauromenitas) Map  47.  Lat. 37.50, long. 15....   \n",
       "49. Tyndaris       (Tyndarites) Map  47.  Lat. 38.10,long.  15.05...   \n",
       "50. (Tyrrhenoi)    Map 47.  Unlocated.  Type:  C: .The  Tyr- rhen...   \n",
       "51. Zankle                                      (Zanklaios)/Messana    \n",
       "\n",
       "                            city  city_index  Latitude  Longitude  \n",
       "5. Abakainon           bakainon            5     38.05      15.05  \n",
       "6. Adranon               dranon            6     37.40      14.50  \n",
       "7. Agyrion               gyrion            7     37.40      14.30  \n",
       "8. Aitna                   itna            8       NaN        NaN  \n",
       "9. Akragas               kragas            9     37.20      13.35  \n",
       "10. Akrai                 Akrai           10     37.05      14.55  \n",
       "11. Alaisa               Alaisa           11     38.00      14.15  \n",
       "12. Alontion           Alontion           12     38.05      14.40  \n",
       "13. Apollonia         Apollonia           13     38.00      14.35  \n",
       "14. Engyon               Engyon           14     37.45      14.35  \n",
       "15. Euboia               Euboia           15       NaN        NaN  \n",
       "16. Galeria             Galeria           16       NaN        NaN  \n",
       "17. Gela                   Gela           17     37.05      14.15  \n",
       "18. Heloron             Heloron           18     36.50      15.05  \n",
       "19. Henna                 Henna           19     37.35      14.15  \n",
       "20. Herakleia 1      Herakleia 1          20     37.25      13.15  \n",
       "21. Herakleia 2     Herakleia 2           21       NaN        NaN  \n",
       "22. Herbes(s)os     Herbes(s)os           22       NaN        NaN  \n",
       "23. Herbita             Herbita           23       NaN        NaN  \n",
       "24. Himera               Himera           24     37.55      13.50  \n",
       "25. Hippana             Hippana           25     37.40      13.25  \n",
       "26 *Imachara           Imachara           26       NaN      14.20  \n",
       "27. Kallipolis       Kallipolis           27       NaN        NaN  \n",
       "28. Kamarina           Kamarina           28     36.50      14.25  \n",
       "29. Kasmenai           Kasmenai           29     37.05      14.50  \n",
       "30. Katane               Katane           30     37.30      15.05  \n",
       "31. Kentoripa         Kentoripa           31     37.35      14.45  \n",
       "32. Kephaloidion   Kephaloidion           32     38.00      14.00  \n",
       "33. Leontinoi         Leontinoi           33     37.15      15.00  \n",
       "34. Lipara               Lipara           34     38.30      14.55  \n",
       "35. *Longane           *Longane           35     38.05      15.10  \n",
       "36. Megara               Megara           36     37.10      15.10  \n",
       "37. Morgantina       Morgantina           37     37.25      14.30  \n",
       "38. Mylai                 Mylai           38     38.15        NaN  \n",
       "39. Mytistratos     Mytistratos           39     37.35      14.00  \n",
       "40. Nakone               Nakone           40       NaN        NaN  \n",
       "41. Naxos                 Naxos           41     37.50      15.15  \n",
       "42. Petra                 Petra           42       NaN        NaN  \n",
       "43. Piakos               Piakos           43       NaN        NaN  \n",
       "44. Selinous           Selinous           44     37.35      12.50  \n",
       "45. (Sileraioi)      (Sileraioi)          45       NaN        NaN  \n",
       "46. (Stielanaioi)  (Stielanaioi)          46     37.10      14.55  \n",
       "47. Syrakousai       Syrakousai           47     37.05      15.15  \n",
       "48. Tauromenion     Tauromenion           48     37.50      15.15  \n",
       "49. Tyndaris           Tyndaris           49     38.10      15.05  \n",
       "50. (Tyrrhenoi)      (Tyrrhenoi)          50       NaN        NaN  \n",
       "51. Zankle               Zankle           51       NaN        NaN  "
      ]
     },
     "execution_count": 21,
     "metadata": {},
     "output_type": "execute_result"
    }
   ],
   "source": [
    "dfPoleis"
   ]
  },
  {
   "cell_type": "markdown",
   "metadata": {},
   "source": [
    "### Zitatnachweise, Namen, Jahreszahlen"
   ]
  },
  {
   "cell_type": "code",
   "execution_count": 22,
   "metadata": {
    "collapsed": false
   },
   "outputs": [
    {
     "data": {
      "text/plain": [
       "'(Abakaininos) Map  47.  Lat. 38.05,long. 15.05.  Size  of  territory:  ?  Type:  B: .  The  toponym  is ,  (Diod. 14.90.3)  or  ,  (Diod. 19.65.6;  Steph.  Byz. 2.11).  The  city-ethnic  is   (C 4s  coins,  infra;Diod. 14.78.5;  Steph.  Byz. 2.15). Abakainon  is  called  a  polis  in  the  urban  and  political  sens- es  at  Diod. 14.90.3  (r 393)  and  19.65.6  (r 315),  and  in  the  urban sense  at  14.90.4  (r 393).  The  passage  at  14.90.3  describes  it  as  a polis  symmachis  of  Magon,  and  in  a  later  period  it  was  part  of the  symmachia  of  Agathokles,  alongside  such  poleis  as Kamarina,  Leontinoi,  Katane  and  Messana  (Diod. 19.65.6 (r 315),  19.110.4  (r 311)).  The  internal  collective  use  of  the  city- ethnic  is  found  on  coins  struck  c. 400  (infra),  and  the  exter- nal  collective use  is  found  in  Diod. 19.110.4  (r 311). In 396,  Dionysios  I  deprived  Abakainon  of  a  part  of  its chora,  which  was  handed  over  to  his  new  foundation, Tyndaris  (no. 49;Diod.  14.77.5).  Abakainon  was  situated south-east  of  Tyndaris,  at  modern  Tripi.  The  ancient  city, destroyed  by  the  modern,  is  poorly  known.  However, Diodorus\\'  report  ( 14.90.3)  that  in  393  Carthaginian  troops ²²  For  an  analysis  of  the  conflicts,  see  Manni  ( 1976a)  201\\xad4. 182 fischer-hansen,  nielsen  and  ampolo defeated  by  Dionysios  took  refuge  in  the  city  (  ) suggests that by this date it was fortified.  There are  sporadic  Greek  remains  from  C 6,  and  substantial  Greek remains  from  C 4  (Villard  ( 1954));  the  investigation  of  the extensive  cemetery  north  of  the  city  has  brought  to  light  also monumental  C 4  tombs  of  the  type  known  from  Leontinoi (Bacci  and  Spigo  ( 1997\\xad98));  the  city  minted  a  Greek-style coinage  from  C 5m  (infra). Abakainon  struck  silver  coins  (litra,  hemilitron)  from c.C 5m:  obv.  laureate  head,  bearded  (an  indigenous  god assimilated  to  Zeus)  or  beardless  (assimilated  to  Apollo),  or, on  later  coinage,  female  head  (nymph,  or  Demeter  or Persephone);  rev.  wild  boar  and  acorn,  at  times  a  grain  of barley  or  sow  and  piglet,  legend: ,  (above acorn)  (below), (on  obv.) (on  rev.), (Head,  HN ²  118;  Bertino  ( 1975);  SNG Cop.  Sicily 1\\xad6).  In  C 4s,  the  city  struck  in  bronze:  ( 1) Probably  from  the  time  of  Timoleon:  obv.  female  head;  rev. forepart  of  bull,  or  forepart  of  man-headed  bull,  legend: ,  [],  (Head, HN ²  118;  Bertino  ( 1975)  124\\xad26;  SNG  Cop.  Sicily 7);  ( 2) c. 344\\xad338:  obv.  head  of  Dioskouros,  legend: ;  rev.\"free horse\",  legend: ;  the  obv.  type  may  indicate  influence from  the  mint  of  Tyndaris  or,  more  generally,  from  southern Italy  (Bertino  ( 1975)  124\\xad26).'"
      ]
     },
     "execution_count": 22,
     "metadata": {},
     "output_type": "execute_result"
    }
   ],
   "source": [
    "dfPoleis[\"Beschreibung\"].iloc[0]"
   ]
  },
  {
   "cell_type": "markdown",
   "metadata": {},
   "source": [
    "## Muster (Pattern) zur Erkennung der Literaturreferenzen\n",
    "\n",
    "- Primärquellen\n",
    "\n",
    "(Polyb. 1.18.2)\n",
    "(Diod. 13.85.4  (r 406))\n",
    "(Diod. 13.108.2)\n",
    "(Hdt. 7.165;  IGDS  no. 182a)\n",
    "(Pind.  Pyth. 6)\n",
    "(Thuc. 6.4.4: µµ  )\n",
    "(Xanthos  (FGrHist 765)  fr. 33;  Arist.  fr. 865)\n",
    "\n",
    "- Sekundärquellen\n",
    "\n",
    "(Karlsson  ( 1995)  161\n",
    "(Waele  ( 1971) 195\\xad99;  Hinz  ( 1998)  79\\xad90)\n",
    "\n",
    "- Jahreszahlen\n",
    "( dddd)"
   ]
  },
  {
   "cell_type": "code",
   "execution_count": 23,
   "metadata": {
    "collapsed": false
   },
   "outputs": [],
   "source": [
    "# Definiere Funktion die reguläre Ausdrücke auf den DataFrame anwendet.\n",
    "def ListePatternFull(value,pattern):\n",
    "    x = re.findall(pattern, value)\n",
    "    if x:\n",
    "        return(x)"
   ]
  },
  {
   "cell_type": "markdown",
   "metadata": {},
   "source": [
    "### Testen der regulären Ausdrücke"
   ]
  },
  {
   "cell_type": "code",
   "execution_count": 24,
   "metadata": {
    "collapsed": false
   },
   "outputs": [
    {
     "data": {
      "text/plain": [
       "'(Abakaininos) Map  47.  Lat. 38.05,long. 15.05.  Size  of  territory:  ?  Type:  B: .  The  toponym  is ,  (Diod. 14.90.3)  or  ,  (Diod. 19.65.6;  Steph.  Byz. 2.11).  The  city-ethnic  is   (C 4s  coins,  infra;Diod. 14.78.5;  Steph.  Byz. 2.15). Abakainon  is  called  a  polis  in  the  urban  and  political  sens- es  at  Diod. 14.90.3  (r 393)  and  19.65.6  (r 315),  and  in  the  urban sense  at  14.90.4  (r 393).  The  passage  at  14.90.3  describes  it  as  a polis  symmachis  of  Magon,  and  in  a  later  period  it  was  part  of the  symmachia  of  Agathokles,  alongside  such  poleis  as Kamarina,  Leontinoi,  Katane  and  Messana  (Diod. 19.65.6 (r 315),  19.110.4  (r 311)).  The  internal  collective  use  of  the  city- ethnic  is  found  on  coins  struck  c. 400  (infra),  and  the  exter- nal  collective use  is  found  in  Diod. 19.110.4  (r 311). In 396,  Dionysios  I  deprived  Abakainon  of  a  part  of  its chora,  which  was  handed  over  to  his  new  foundation, Tyndaris  (no. 49;Diod.  14.77.5).  Abakainon  was  situated south-east  of  Tyndaris,  at  modern  Tripi.  The  ancient  city, destroyed  by  the  modern,  is  poorly  known.  However, Diodorus\\'  report  ( 14.90.3)  that  in  393  Carthaginian  troops ²²  For  an  analysis  of  the  conflicts,  see  Manni  ( 1976a)  201\\xad4. 182 fischer-hansen,  nielsen  and  ampolo defeated  by  Dionysios  took  refuge  in  the  city  (  ) suggests that by this date it was fortified.  There are  sporadic  Greek  remains  from  C 6,  and  substantial  Greek remains  from  C 4  (Villard  ( 1954));  the  investigation  of  the extensive  cemetery  north  of  the  city  has  brought  to  light  also monumental  C 4  tombs  of  the  type  known  from  Leontinoi (Bacci  and  Spigo  ( 1997\\xad98));  the  city  minted  a  Greek-style coinage  from  C 5m  (infra). Abakainon  struck  silver  coins  (litra,  hemilitron)  from c.C 5m:  obv.  laureate  head,  bearded  (an  indigenous  god assimilated  to  Zeus)  or  beardless  (assimilated  to  Apollo),  or, on  later  coinage,  female  head  (nymph,  or  Demeter  or Persephone);  rev.  wild  boar  and  acorn,  at  times  a  grain  of barley  or  sow  and  piglet,  legend: ,  (above acorn)  (below), (on  obv.) (on  rev.), (Head,  HN ²  118;  Bertino  ( 1975);  SNG Cop.  Sicily 1\\xad6).  In  C 4s,  the  city  struck  in  bronze:  ( 1) Probably  from  the  time  of  Timoleon:  obv.  female  head;  rev. forepart  of  bull,  or  forepart  of  man-headed  bull,  legend: ,  [],  (Head, HN ²  118;  Bertino  ( 1975)  124\\xad26;  SNG  Cop.  Sicily 7);  ( 2) c. 344\\xad338:  obv.  head  of  Dioskouros,  legend: ;  rev.\"free horse\",  legend: ;  the  obv.  type  may  indicate  influence from  the  mint  of  Tyndaris  or,  more  generally,  from  southern Italy  (Bertino  ( 1975)  124\\xad26).'"
      ]
     },
     "execution_count": 24,
     "metadata": {},
     "output_type": "execute_result"
    }
   ],
   "source": [
    "dfPoleis['Beschreibung'].iloc[0]"
   ]
  },
  {
   "cell_type": "markdown",
   "metadata": {},
   "source": [
    "Finde alle groß-geschriebenen Wörter mit mindestens 3 nachfolgenden kleinen Buchstaben."
   ]
  },
  {
   "cell_type": "code",
   "execution_count": 25,
   "metadata": {
    "collapsed": false
   },
   "outputs": [
    {
     "data": {
      "text/plain": [
       "['Abakaininos',\n",
       " 'Size',\n",
       " 'Type',\n",
       " 'Diod',\n",
       " 'Diod',\n",
       " 'Steph',\n",
       " 'Diod',\n",
       " 'Steph',\n",
       " 'Abakainon',\n",
       " 'Diod',\n",
       " 'Magon',\n",
       " 'Agathokles',\n",
       " 'Kamarina',\n",
       " 'Leontinoi',\n",
       " 'Katane',\n",
       " 'Messana',\n",
       " 'Diod',\n",
       " 'Diod',\n",
       " 'Dionysios',\n",
       " 'Abakainon',\n",
       " 'Tyndaris',\n",
       " 'Diod',\n",
       " 'Abakainon',\n",
       " 'Tyndaris',\n",
       " 'Tripi',\n",
       " 'However',\n",
       " 'Diodorus',\n",
       " 'Carthaginia',\n",
       " 'Manni',\n",
       " 'Dionysios',\n",
       " 'There',\n",
       " 'Greek',\n",
       " 'Greek',\n",
       " 'Villard',\n",
       " 'Leontinoi',\n",
       " 'Bacci',\n",
       " 'Spigo',\n",
       " 'Greek',\n",
       " 'Abakainon',\n",
       " 'Zeus',\n",
       " 'Apollo',\n",
       " 'Demeter',\n",
       " 'Persephone',\n",
       " 'Head',\n",
       " 'Bertino',\n",
       " 'Sicily',\n",
       " 'Probably',\n",
       " 'Timoleon',\n",
       " 'Head',\n",
       " 'Bertino',\n",
       " 'Sicily',\n",
       " 'Dioskouros',\n",
       " 'Tyndaris',\n",
       " 'Italy',\n",
       " 'Bertino']"
      ]
     },
     "execution_count": 25,
     "metadata": {},
     "output_type": "execute_result"
    }
   ],
   "source": [
    "re.findall('[A-Z][a-z]{3,10}',dfPoleis['Beschreibung'].iloc[0])"
   ]
  },
  {
   "cell_type": "markdown",
   "metadata": {},
   "source": [
    "Finde alle Ausdrücke wie oben, denen ein Punkt folgt, mit anschließenden Zifferfolgen der Form [Ziffern][Punkt][Ziffern][Punkt][Ziffern]"
   ]
  },
  {
   "cell_type": "code",
   "execution_count": 26,
   "metadata": {
    "collapsed": false
   },
   "outputs": [
    {
     "data": {
      "text/plain": [
       "['Diod. 14.90.3',\n",
       " 'Diod. 19.65.6',\n",
       " 'Diod. 14.78.5',\n",
       " 'Diod. 14.90.3',\n",
       " 'Diod. 19.65.6',\n",
       " 'Diod. 19.110.4']"
      ]
     },
     "execution_count": 26,
     "metadata": {},
     "output_type": "execute_result"
    }
   ],
   "source": [
    "re.findall('[A-Z][a-z]{1,10}\\. \\d{1,3}\\.\\d{1,3}\\.\\d{1,3}',dfPoleis['Beschreibung'].iloc[0])"
   ]
  },
  {
   "cell_type": "markdown",
   "metadata": {},
   "source": [
    "Finde alle Ausdrücke wie oben, wobei statt des Punktes nach den kleinen Buchstaben auch zwei Leerzeichen und eine runde Klammer folgen können"
   ]
  },
  {
   "cell_type": "code",
   "execution_count": 27,
   "metadata": {
    "collapsed": false
   },
   "outputs": [
    {
     "data": {
      "text/plain": [
       "['Diod. 14.90.3',\n",
       " 'Diod. 19.65.6',\n",
       " 'Diod. 14.78.5',\n",
       " 'Diod. 14.90.3',\n",
       " 'Diod. 19.65.6',\n",
       " 'Diod. 19.110.4',\n",
       " 'Manni  ( 1976',\n",
       " 'Villard  ( 1954)',\n",
       " 'Spigo  ( 1997',\n",
       " 'Bertino  ( 1975)',\n",
       " 'Bertino  ( 1975)',\n",
       " 'Bertino  ( 1975)']"
      ]
     },
     "execution_count": 27,
     "metadata": {},
     "output_type": "execute_result"
    }
   ],
   "source": [
    "re.findall('[A-Z][a-z]{1,10}[\\.| ] [(|\\d{0,4}][\\d{1,4}| ][\\.|\\d{}]\\d{1,3}[\\.|\\d][\\d|)]',dfPoleis['Beschreibung'].iloc[0])"
   ]
  },
  {
   "cell_type": "code",
   "execution_count": 28,
   "metadata": {
    "collapsed": false
   },
   "outputs": [],
   "source": [
    "#Alternativ kann man auch Gruppen definieren zB. (A(B|C)) \n",
    "#re.findall('([A-Z][a-z]{1,10}(\\. \\d{1,3}\\.\\d{1,3}\\.\\d{1,3}|\\s{2}\\(\\s\\d{4}))',dfPoleis['Beschreibung'].iloc[0])"
   ]
  },
  {
   "cell_type": "code",
   "execution_count": 29,
   "metadata": {
    "collapsed": false
   },
   "outputs": [],
   "source": [
    "dfPoleis['Namen'] = dfPoleis['Beschreibung'].apply(ListePatternFull,pattern=('[A-Z][a-z]{3,10}'))"
   ]
  },
  {
   "cell_type": "code",
   "execution_count": 30,
   "metadata": {
    "collapsed": false
   },
   "outputs": [],
   "source": [
    "dfPoleis['Quellen'] = dfPoleis['Beschreibung'].apply(ListePatternFull,pattern=('[A-Z][a-z]{1,10}[\\.| ] [(|\\d{0,4}][\\d{1,4}| ][\\.|\\d{}]\\d{1,3}[\\.|\\d][\\d|)]'))"
   ]
  },
  {
   "cell_type": "code",
   "execution_count": 31,
   "metadata": {
    "collapsed": false
   },
   "outputs": [
    {
     "data": {
      "text/html": [
       "<div>\n",
       "<table border=\"1\" class=\"dataframe\">\n",
       "  <thead>\n",
       "    <tr style=\"text-align: right;\">\n",
       "      <th></th>\n",
       "      <th>Beschreibung</th>\n",
       "      <th>city</th>\n",
       "      <th>city_index</th>\n",
       "      <th>Latitude</th>\n",
       "      <th>Longitude</th>\n",
       "      <th>Namen</th>\n",
       "      <th>Quellen</th>\n",
       "    </tr>\n",
       "  </thead>\n",
       "  <tbody>\n",
       "    <tr>\n",
       "      <th>5. Abakainon</th>\n",
       "      <td>(Abakaininos) Map  47.  Lat. 38.05,long. 15.05...</td>\n",
       "      <td>bakainon</td>\n",
       "      <td>5</td>\n",
       "      <td>38.05</td>\n",
       "      <td>15.05</td>\n",
       "      <td>[Abakaininos, Size, Type, Diod, Diod, Steph, D...</td>\n",
       "      <td>[Diod. 14.90.3, Diod. 19.65.6, Diod. 14.78.5, ...</td>\n",
       "    </tr>\n",
       "    <tr>\n",
       "      <th>6. Adranon</th>\n",
       "      <td>(Adranites) Map  47.  Lat. 37.40,long.  14.50....</td>\n",
       "      <td>dranon</td>\n",
       "      <td>6</td>\n",
       "      <td>37.40</td>\n",
       "      <td>14.50</td>\n",
       "      <td>[Adranites, Size, Type, Diod, Steph, Diod, Adr...</td>\n",
       "      <td>[Diod. 14.37.5, Diod. 16.68.9, Diod. 14.37.5, ...</td>\n",
       "    </tr>\n",
       "    <tr>\n",
       "      <th>7. Agyrion</th>\n",
       "      <td>(Agyrinaios) Map  47.  Lat. 37.40,long.  14.30...</td>\n",
       "      <td>gyrion</td>\n",
       "      <td>7</td>\n",
       "      <td>37.40</td>\n",
       "      <td>14.30</td>\n",
       "      <td>[Agyrinaios, Size, Type, Diod, Ptol, Geog, Ste...</td>\n",
       "      <td>[Byz. 23.19), Diod. 16.82.4, Moggi  ( 1976), D...</td>\n",
       "    </tr>\n",
       "    <tr>\n",
       "      <th>8. Aitna</th>\n",
       "      <td>(Aitnaios) Map  47.Location  of  Aitna  I  as ...</td>\n",
       "      <td>itna</td>\n",
       "      <td>8</td>\n",
       "      <td>NaN</td>\n",
       "      <td>NaN</td>\n",
       "      <td>[Aitnaios, Location, Aitna, Katane, Aitna, Dio...</td>\n",
       "      <td>[Diod. 11.49.1, Diod. 11.49.1, Diod. 11.66.4, ...</td>\n",
       "    </tr>\n",
       "  </tbody>\n",
       "</table>\n",
       "</div>"
      ],
      "text/plain": [
       "                                                    Beschreibung       city  \\\n",
       "5. Abakainon   (Abakaininos) Map  47.  Lat. 38.05,long. 15.05...  bakainon    \n",
       "6. Adranon     (Adranites) Map  47.  Lat. 37.40,long.  14.50....    dranon    \n",
       "7. Agyrion     (Agyrinaios) Map  47.  Lat. 37.40,long.  14.30...    gyrion    \n",
       "8. Aitna       (Aitnaios) Map  47.Location  of  Aitna  I  as ...      itna    \n",
       "\n",
       "               city_index  Latitude  Longitude  \\\n",
       "5. Abakainon            5     38.05      15.05   \n",
       "6. Adranon              6     37.40      14.50   \n",
       "7. Agyrion              7     37.40      14.30   \n",
       "8. Aitna                8       NaN        NaN   \n",
       "\n",
       "                                                           Namen  \\\n",
       "5. Abakainon   [Abakaininos, Size, Type, Diod, Diod, Steph, D...   \n",
       "6. Adranon     [Adranites, Size, Type, Diod, Steph, Diod, Adr...   \n",
       "7. Agyrion     [Agyrinaios, Size, Type, Diod, Ptol, Geog, Ste...   \n",
       "8. Aitna       [Aitnaios, Location, Aitna, Katane, Aitna, Dio...   \n",
       "\n",
       "                                                         Quellen  \n",
       "5. Abakainon   [Diod. 14.90.3, Diod. 19.65.6, Diod. 14.78.5, ...  \n",
       "6. Adranon     [Diod. 14.37.5, Diod. 16.68.9, Diod. 14.37.5, ...  \n",
       "7. Agyrion     [Byz. 23.19), Diod. 16.82.4, Moggi  ( 1976), D...  \n",
       "8. Aitna       [Diod. 11.49.1, Diod. 11.49.1, Diod. 11.66.4, ...  "
      ]
     },
     "execution_count": 31,
     "metadata": {},
     "output_type": "execute_result"
    }
   ],
   "source": [
    "dfPoleis.head(4)"
   ]
  },
  {
   "cell_type": "code",
   "execution_count": 32,
   "metadata": {
    "collapsed": false
   },
   "outputs": [],
   "source": [
    "#dfBesp = dfPoleis['Beschreibung'].str.replace('(','\\n(').str.replace(')',')\\n')"
   ]
  },
  {
   "cell_type": "code",
   "execution_count": 33,
   "metadata": {
    "collapsed": false
   },
   "outputs": [],
   "source": [
    "#print(dfBesp.iloc[0])"
   ]
  },
  {
   "cell_type": "markdown",
   "metadata": {},
   "source": [
    "## Muster zur Erkennung von Namen\n",
    "\n",
    "Empedokles  ( 496)\n",
    "Theron  ( 476)\n",
    "Timoleon  c. 338"
   ]
  },
  {
   "cell_type": "code",
   "execution_count": 34,
   "metadata": {
    "collapsed": false
   },
   "outputs": [],
   "source": [
    "# MALTE: RE für die Primärquellen; Sekundärquellen; Namen entwickeln und an df anhängen."
   ]
  },
  {
   "cell_type": "markdown",
   "metadata": {},
   "source": [
    "# Datenvalidierung"
   ]
  },
  {
   "cell_type": "markdown",
   "metadata": {},
   "source": [
    "## Wertverteilungen, Test auf Dopplungen"
   ]
  },
  {
   "cell_type": "markdown",
   "metadata": {},
   "source": [
    "Lese Werte der Spalte Quellen als Liste aus. "
   ]
  },
  {
   "cell_type": "code",
   "execution_count": 35,
   "metadata": {
    "collapsed": false
   },
   "outputs": [],
   "source": [
    "mainList = dfPoleis['Quellen'].values.tolist()"
   ]
  },
  {
   "cell_type": "markdown",
   "metadata": {},
   "source": [
    "Reduziere Unterlisten auf eine Gesamtliste."
   ]
  },
  {
   "cell_type": "code",
   "execution_count": 36,
   "metadata": {
    "collapsed": false
   },
   "outputs": [],
   "source": [
    "quellenListe = []\n",
    "for sublist in mainList:\n",
    "    if sublist:\n",
    "        for k in range(len(sublist)):\n",
    "            quellenListe.append(sublist[k])"
   ]
  },
  {
   "cell_type": "code",
   "execution_count": 37,
   "metadata": {
    "collapsed": false
   },
   "outputs": [
    {
     "data": {
      "text/plain": [
       "['Diod. 14.90.3',\n",
       " 'Diod. 19.65.6',\n",
       " 'Diod. 14.78.5',\n",
       " 'Diod. 14.90.3',\n",
       " 'Diod. 19.65.6',\n",
       " 'Diod. 19.110.4',\n",
       " 'Manni  ( 1976',\n",
       " 'Villard  ( 1954)',\n",
       " 'Spigo  ( 1997',\n",
       " 'Bertino  ( 1975)']"
      ]
     },
     "execution_count": 37,
     "metadata": {},
     "output_type": "execute_result"
    }
   ],
   "source": [
    "quellenListe[:10]"
   ]
  },
  {
   "cell_type": "markdown",
   "metadata": {},
   "source": [
    "Zähle die Häufigkeit der verschiedenen Quellen und speichere als Dictionary."
   ]
  },
  {
   "cell_type": "code",
   "execution_count": 38,
   "metadata": {
    "collapsed": false
   },
   "outputs": [
    {
     "data": {
      "text/plain": [
       "2"
      ]
     },
     "execution_count": 38,
     "metadata": {},
     "output_type": "execute_result"
    }
   ],
   "source": [
    "quellenVerteilung = {x:quellenListe.count(x) for x in quellenListe}\n",
    "quellenVerteilung['Diod. 14.90.3']"
   ]
  },
  {
   "cell_type": "markdown",
   "metadata": {},
   "source": [
    "Erzeuge DataFrame, mit neuem Index und Namen der Spalten. Sortiere diesen Nach der Häufigkeit der Quelle."
   ]
  },
  {
   "cell_type": "code",
   "execution_count": 39,
   "metadata": {
    "collapsed": false
   },
   "outputs": [],
   "source": [
    "dfQuellenVerteilung = pd.DataFrame([quellenVerteilung])"
   ]
  },
  {
   "cell_type": "code",
   "execution_count": 40,
   "metadata": {
    "collapsed": false
   },
   "outputs": [],
   "source": [
    "dfQuellenVerteilung = dfQuellenVerteilung.transpose().reset_index()"
   ]
  },
  {
   "cell_type": "code",
   "execution_count": 41,
   "metadata": {
    "collapsed": false
   },
   "outputs": [],
   "source": [
    "dfQuellenVerteilung = dfQuellenVerteilung.rename(columns={'index': 'Quelle', 0:'Häufigkeit'})"
   ]
  },
  {
   "cell_type": "code",
   "execution_count": 42,
   "metadata": {
    "collapsed": false
   },
   "outputs": [
    {
     "data": {
      "text/html": [
       "<div>\n",
       "<table border=\"1\" class=\"dataframe\">\n",
       "  <thead>\n",
       "    <tr style=\"text-align: right;\">\n",
       "      <th></th>\n",
       "      <th>Quelle</th>\n",
       "      <th>Häufigkeit</th>\n",
       "    </tr>\n",
       "  </thead>\n",
       "  <tbody>\n",
       "    <tr>\n",
       "      <th>382</th>\n",
       "      <td>Manganaro  ( 1996</td>\n",
       "      <td>15</td>\n",
       "    </tr>\n",
       "    <tr>\n",
       "      <th>331</th>\n",
       "      <td>Hinz  ( 1998)</td>\n",
       "      <td>13</td>\n",
       "    </tr>\n",
       "    <tr>\n",
       "      <th>509</th>\n",
       "      <td>Talbert  ( 1974)</td>\n",
       "      <td>13</td>\n",
       "    </tr>\n",
       "    <tr>\n",
       "      <th>83</th>\n",
       "      <td>Cavalier  ( 1991)</td>\n",
       "      <td>11</td>\n",
       "    </tr>\n",
       "    <tr>\n",
       "      <th>344</th>\n",
       "      <td>Karlsson  ( 1995)</td>\n",
       "      <td>9</td>\n",
       "    </tr>\n",
       "    <tr>\n",
       "      <th>226</th>\n",
       "      <td>Diod. 14.78.7</td>\n",
       "      <td>9</td>\n",
       "    </tr>\n",
       "    <tr>\n",
       "      <th>113</th>\n",
       "      <td>Diod. 11.49.2</td>\n",
       "      <td>9</td>\n",
       "    </tr>\n",
       "    <tr>\n",
       "      <th>47</th>\n",
       "      <td>Boehringer  ( 1998)</td>\n",
       "      <td>8</td>\n",
       "    </tr>\n",
       "    <tr>\n",
       "      <th>478</th>\n",
       "      <td>Rutter  ( 1997)</td>\n",
       "      <td>8</td>\n",
       "    </tr>\n",
       "    <tr>\n",
       "      <th>327</th>\n",
       "      <td>Hansen  ( 2000)</td>\n",
       "      <td>8</td>\n",
       "    </tr>\n",
       "  </tbody>\n",
       "</table>\n",
       "</div>"
      ],
      "text/plain": [
       "                  Quelle  Häufigkeit\n",
       "382    Manganaro  ( 1996          15\n",
       "331        Hinz  ( 1998)          13\n",
       "509     Talbert  ( 1974)          13\n",
       "83     Cavalier  ( 1991)          11\n",
       "344    Karlsson  ( 1995)           9\n",
       "226        Diod. 14.78.7           9\n",
       "113        Diod. 11.49.2           9\n",
       "47   Boehringer  ( 1998)           8\n",
       "478      Rutter  ( 1997)           8\n",
       "327      Hansen  ( 2000)           8"
      ]
     },
     "execution_count": 42,
     "metadata": {},
     "output_type": "execute_result"
    }
   ],
   "source": [
    "dfQuellenVerteilung.sort_values(by='Häufigkeit',ascending=False).head(10)"
   ]
  },
  {
   "cell_type": "markdown",
   "metadata": {},
   "source": [
    "## Visualisierungen"
   ]
  },
  {
   "cell_type": "markdown",
   "metadata": {},
   "source": [
    "Zeige die Verteilung der Häufigkeiten als Histogram. Um auch Häufigkeiten zu erkennen, die nicht so oft auftreten, kann man in die Darstellung zoomen. Das Haus-Symbol zeigt wieder den ursprünglichen Zustand der Figur."
   ]
  },
  {
   "cell_type": "code",
   "execution_count": 43,
   "metadata": {
    "collapsed": false
   },
   "outputs": [],
   "source": [
    "%matplotlib notebook"
   ]
  },
  {
   "cell_type": "code",
   "execution_count": 44,
   "metadata": {
    "collapsed": false
   },
   "outputs": [
    {
     "data": {
      "application/javascript": [
       "/* Put everything inside the global mpl namespace */\n",
       "window.mpl = {};\n",
       "\n",
       "mpl.get_websocket_type = function() {\n",
       "    if (typeof(WebSocket) !== 'undefined') {\n",
       "        return WebSocket;\n",
       "    } else if (typeof(MozWebSocket) !== 'undefined') {\n",
       "        return MozWebSocket;\n",
       "    } else {\n",
       "        alert('Your browser does not have WebSocket support.' +\n",
       "              'Please try Chrome, Safari or Firefox ≥ 6. ' +\n",
       "              'Firefox 4 and 5 are also supported but you ' +\n",
       "              'have to enable WebSockets in about:config.');\n",
       "    };\n",
       "}\n",
       "\n",
       "mpl.figure = function(figure_id, websocket, ondownload, parent_element) {\n",
       "    this.id = figure_id;\n",
       "\n",
       "    this.ws = websocket;\n",
       "\n",
       "    this.supports_binary = (this.ws.binaryType != undefined);\n",
       "\n",
       "    if (!this.supports_binary) {\n",
       "        var warnings = document.getElementById(\"mpl-warnings\");\n",
       "        if (warnings) {\n",
       "            warnings.style.display = 'block';\n",
       "            warnings.textContent = (\n",
       "                \"This browser does not support binary websocket messages. \" +\n",
       "                    \"Performance may be slow.\");\n",
       "        }\n",
       "    }\n",
       "\n",
       "    this.imageObj = new Image();\n",
       "\n",
       "    this.context = undefined;\n",
       "    this.message = undefined;\n",
       "    this.canvas = undefined;\n",
       "    this.rubberband_canvas = undefined;\n",
       "    this.rubberband_context = undefined;\n",
       "    this.format_dropdown = undefined;\n",
       "\n",
       "    this.image_mode = 'full';\n",
       "\n",
       "    this.root = $('<div/>');\n",
       "    this._root_extra_style(this.root)\n",
       "    this.root.attr('style', 'display: inline-block');\n",
       "\n",
       "    $(parent_element).append(this.root);\n",
       "\n",
       "    this._init_header(this);\n",
       "    this._init_canvas(this);\n",
       "    this._init_toolbar(this);\n",
       "\n",
       "    var fig = this;\n",
       "\n",
       "    this.waiting = false;\n",
       "\n",
       "    this.ws.onopen =  function () {\n",
       "            fig.send_message(\"supports_binary\", {value: fig.supports_binary});\n",
       "            fig.send_message(\"send_image_mode\", {});\n",
       "            fig.send_message(\"refresh\", {});\n",
       "        }\n",
       "\n",
       "    this.imageObj.onload = function() {\n",
       "            if (fig.image_mode == 'full') {\n",
       "                // Full images could contain transparency (where diff images\n",
       "                // almost always do), so we need to clear the canvas so that\n",
       "                // there is no ghosting.\n",
       "                fig.context.clearRect(0, 0, fig.canvas.width, fig.canvas.height);\n",
       "            }\n",
       "            fig.context.drawImage(fig.imageObj, 0, 0);\n",
       "        };\n",
       "\n",
       "    this.imageObj.onunload = function() {\n",
       "        this.ws.close();\n",
       "    }\n",
       "\n",
       "    this.ws.onmessage = this._make_on_message_function(this);\n",
       "\n",
       "    this.ondownload = ondownload;\n",
       "}\n",
       "\n",
       "mpl.figure.prototype._init_header = function() {\n",
       "    var titlebar = $(\n",
       "        '<div class=\"ui-dialog-titlebar ui-widget-header ui-corner-all ' +\n",
       "        'ui-helper-clearfix\"/>');\n",
       "    var titletext = $(\n",
       "        '<div class=\"ui-dialog-title\" style=\"width: 100%; ' +\n",
       "        'text-align: center; padding: 3px;\"/>');\n",
       "    titlebar.append(titletext)\n",
       "    this.root.append(titlebar);\n",
       "    this.header = titletext[0];\n",
       "}\n",
       "\n",
       "\n",
       "\n",
       "mpl.figure.prototype._canvas_extra_style = function(canvas_div) {\n",
       "\n",
       "}\n",
       "\n",
       "\n",
       "mpl.figure.prototype._root_extra_style = function(canvas_div) {\n",
       "\n",
       "}\n",
       "\n",
       "mpl.figure.prototype._init_canvas = function() {\n",
       "    var fig = this;\n",
       "\n",
       "    var canvas_div = $('<div/>');\n",
       "\n",
       "    canvas_div.attr('style', 'position: relative; clear: both; outline: 0');\n",
       "\n",
       "    function canvas_keyboard_event(event) {\n",
       "        return fig.key_event(event, event['data']);\n",
       "    }\n",
       "\n",
       "    canvas_div.keydown('key_press', canvas_keyboard_event);\n",
       "    canvas_div.keyup('key_release', canvas_keyboard_event);\n",
       "    this.canvas_div = canvas_div\n",
       "    this._canvas_extra_style(canvas_div)\n",
       "    this.root.append(canvas_div);\n",
       "\n",
       "    var canvas = $('<canvas/>');\n",
       "    canvas.addClass('mpl-canvas');\n",
       "    canvas.attr('style', \"left: 0; top: 0; z-index: 0; outline: 0\")\n",
       "\n",
       "    this.canvas = canvas[0];\n",
       "    this.context = canvas[0].getContext(\"2d\");\n",
       "\n",
       "    var rubberband = $('<canvas/>');\n",
       "    rubberband.attr('style', \"position: absolute; left: 0; top: 0; z-index: 1;\")\n",
       "\n",
       "    var pass_mouse_events = true;\n",
       "\n",
       "    canvas_div.resizable({\n",
       "        start: function(event, ui) {\n",
       "            pass_mouse_events = false;\n",
       "        },\n",
       "        resize: function(event, ui) {\n",
       "            fig.request_resize(ui.size.width, ui.size.height);\n",
       "        },\n",
       "        stop: function(event, ui) {\n",
       "            pass_mouse_events = true;\n",
       "            fig.request_resize(ui.size.width, ui.size.height);\n",
       "        },\n",
       "    });\n",
       "\n",
       "    function mouse_event_fn(event) {\n",
       "        if (pass_mouse_events)\n",
       "            return fig.mouse_event(event, event['data']);\n",
       "    }\n",
       "\n",
       "    rubberband.mousedown('button_press', mouse_event_fn);\n",
       "    rubberband.mouseup('button_release', mouse_event_fn);\n",
       "    // Throttle sequential mouse events to 1 every 20ms.\n",
       "    rubberband.mousemove('motion_notify', mouse_event_fn);\n",
       "\n",
       "    rubberband.mouseenter('figure_enter', mouse_event_fn);\n",
       "    rubberband.mouseleave('figure_leave', mouse_event_fn);\n",
       "\n",
       "    canvas_div.on(\"wheel\", function (event) {\n",
       "        event = event.originalEvent;\n",
       "        event['data'] = 'scroll'\n",
       "        if (event.deltaY < 0) {\n",
       "            event.step = 1;\n",
       "        } else {\n",
       "            event.step = -1;\n",
       "        }\n",
       "        mouse_event_fn(event);\n",
       "    });\n",
       "\n",
       "    canvas_div.append(canvas);\n",
       "    canvas_div.append(rubberband);\n",
       "\n",
       "    this.rubberband = rubberband;\n",
       "    this.rubberband_canvas = rubberband[0];\n",
       "    this.rubberband_context = rubberband[0].getContext(\"2d\");\n",
       "    this.rubberband_context.strokeStyle = \"#000000\";\n",
       "\n",
       "    this._resize_canvas = function(width, height) {\n",
       "        // Keep the size of the canvas, canvas container, and rubber band\n",
       "        // canvas in synch.\n",
       "        canvas_div.css('width', width)\n",
       "        canvas_div.css('height', height)\n",
       "\n",
       "        canvas.attr('width', width);\n",
       "        canvas.attr('height', height);\n",
       "\n",
       "        rubberband.attr('width', width);\n",
       "        rubberband.attr('height', height);\n",
       "    }\n",
       "\n",
       "    // Set the figure to an initial 600x600px, this will subsequently be updated\n",
       "    // upon first draw.\n",
       "    this._resize_canvas(600, 600);\n",
       "\n",
       "    // Disable right mouse context menu.\n",
       "    $(this.rubberband_canvas).bind(\"contextmenu\",function(e){\n",
       "        return false;\n",
       "    });\n",
       "\n",
       "    function set_focus () {\n",
       "        canvas.focus();\n",
       "        canvas_div.focus();\n",
       "    }\n",
       "\n",
       "    window.setTimeout(set_focus, 100);\n",
       "}\n",
       "\n",
       "mpl.figure.prototype._init_toolbar = function() {\n",
       "    var fig = this;\n",
       "\n",
       "    var nav_element = $('<div/>')\n",
       "    nav_element.attr('style', 'width: 100%');\n",
       "    this.root.append(nav_element);\n",
       "\n",
       "    // Define a callback function for later on.\n",
       "    function toolbar_event(event) {\n",
       "        return fig.toolbar_button_onclick(event['data']);\n",
       "    }\n",
       "    function toolbar_mouse_event(event) {\n",
       "        return fig.toolbar_button_onmouseover(event['data']);\n",
       "    }\n",
       "\n",
       "    for(var toolbar_ind in mpl.toolbar_items) {\n",
       "        var name = mpl.toolbar_items[toolbar_ind][0];\n",
       "        var tooltip = mpl.toolbar_items[toolbar_ind][1];\n",
       "        var image = mpl.toolbar_items[toolbar_ind][2];\n",
       "        var method_name = mpl.toolbar_items[toolbar_ind][3];\n",
       "\n",
       "        if (!name) {\n",
       "            // put a spacer in here.\n",
       "            continue;\n",
       "        }\n",
       "        var button = $('<button/>');\n",
       "        button.addClass('ui-button ui-widget ui-state-default ui-corner-all ' +\n",
       "                        'ui-button-icon-only');\n",
       "        button.attr('role', 'button');\n",
       "        button.attr('aria-disabled', 'false');\n",
       "        button.click(method_name, toolbar_event);\n",
       "        button.mouseover(tooltip, toolbar_mouse_event);\n",
       "\n",
       "        var icon_img = $('<span/>');\n",
       "        icon_img.addClass('ui-button-icon-primary ui-icon');\n",
       "        icon_img.addClass(image);\n",
       "        icon_img.addClass('ui-corner-all');\n",
       "\n",
       "        var tooltip_span = $('<span/>');\n",
       "        tooltip_span.addClass('ui-button-text');\n",
       "        tooltip_span.html(tooltip);\n",
       "\n",
       "        button.append(icon_img);\n",
       "        button.append(tooltip_span);\n",
       "\n",
       "        nav_element.append(button);\n",
       "    }\n",
       "\n",
       "    var fmt_picker_span = $('<span/>');\n",
       "\n",
       "    var fmt_picker = $('<select/>');\n",
       "    fmt_picker.addClass('mpl-toolbar-option ui-widget ui-widget-content');\n",
       "    fmt_picker_span.append(fmt_picker);\n",
       "    nav_element.append(fmt_picker_span);\n",
       "    this.format_dropdown = fmt_picker[0];\n",
       "\n",
       "    for (var ind in mpl.extensions) {\n",
       "        var fmt = mpl.extensions[ind];\n",
       "        var option = $(\n",
       "            '<option/>', {selected: fmt === mpl.default_extension}).html(fmt);\n",
       "        fmt_picker.append(option)\n",
       "    }\n",
       "\n",
       "    // Add hover states to the ui-buttons\n",
       "    $( \".ui-button\" ).hover(\n",
       "        function() { $(this).addClass(\"ui-state-hover\");},\n",
       "        function() { $(this).removeClass(\"ui-state-hover\");}\n",
       "    );\n",
       "\n",
       "    var status_bar = $('<span class=\"mpl-message\"/>');\n",
       "    nav_element.append(status_bar);\n",
       "    this.message = status_bar[0];\n",
       "}\n",
       "\n",
       "mpl.figure.prototype.request_resize = function(x_pixels, y_pixels) {\n",
       "    // Request matplotlib to resize the figure. Matplotlib will then trigger a resize in the client,\n",
       "    // which will in turn request a refresh of the image.\n",
       "    this.send_message('resize', {'width': x_pixels, 'height': y_pixels});\n",
       "}\n",
       "\n",
       "mpl.figure.prototype.send_message = function(type, properties) {\n",
       "    properties['type'] = type;\n",
       "    properties['figure_id'] = this.id;\n",
       "    this.ws.send(JSON.stringify(properties));\n",
       "}\n",
       "\n",
       "mpl.figure.prototype.send_draw_message = function() {\n",
       "    if (!this.waiting) {\n",
       "        this.waiting = true;\n",
       "        this.ws.send(JSON.stringify({type: \"draw\", figure_id: this.id}));\n",
       "    }\n",
       "}\n",
       "\n",
       "\n",
       "mpl.figure.prototype.handle_save = function(fig, msg) {\n",
       "    var format_dropdown = fig.format_dropdown;\n",
       "    var format = format_dropdown.options[format_dropdown.selectedIndex].value;\n",
       "    fig.ondownload(fig, format);\n",
       "}\n",
       "\n",
       "\n",
       "mpl.figure.prototype.handle_resize = function(fig, msg) {\n",
       "    var size = msg['size'];\n",
       "    if (size[0] != fig.canvas.width || size[1] != fig.canvas.height) {\n",
       "        fig._resize_canvas(size[0], size[1]);\n",
       "        fig.send_message(\"refresh\", {});\n",
       "    };\n",
       "}\n",
       "\n",
       "mpl.figure.prototype.handle_rubberband = function(fig, msg) {\n",
       "    var x0 = msg['x0'];\n",
       "    var y0 = fig.canvas.height - msg['y0'];\n",
       "    var x1 = msg['x1'];\n",
       "    var y1 = fig.canvas.height - msg['y1'];\n",
       "    x0 = Math.floor(x0) + 0.5;\n",
       "    y0 = Math.floor(y0) + 0.5;\n",
       "    x1 = Math.floor(x1) + 0.5;\n",
       "    y1 = Math.floor(y1) + 0.5;\n",
       "    var min_x = Math.min(x0, x1);\n",
       "    var min_y = Math.min(y0, y1);\n",
       "    var width = Math.abs(x1 - x0);\n",
       "    var height = Math.abs(y1 - y0);\n",
       "\n",
       "    fig.rubberband_context.clearRect(\n",
       "        0, 0, fig.canvas.width, fig.canvas.height);\n",
       "\n",
       "    fig.rubberband_context.strokeRect(min_x, min_y, width, height);\n",
       "}\n",
       "\n",
       "mpl.figure.prototype.handle_figure_label = function(fig, msg) {\n",
       "    // Updates the figure title.\n",
       "    fig.header.textContent = msg['label'];\n",
       "}\n",
       "\n",
       "mpl.figure.prototype.handle_cursor = function(fig, msg) {\n",
       "    var cursor = msg['cursor'];\n",
       "    switch(cursor)\n",
       "    {\n",
       "    case 0:\n",
       "        cursor = 'pointer';\n",
       "        break;\n",
       "    case 1:\n",
       "        cursor = 'default';\n",
       "        break;\n",
       "    case 2:\n",
       "        cursor = 'crosshair';\n",
       "        break;\n",
       "    case 3:\n",
       "        cursor = 'move';\n",
       "        break;\n",
       "    }\n",
       "    fig.rubberband_canvas.style.cursor = cursor;\n",
       "}\n",
       "\n",
       "mpl.figure.prototype.handle_message = function(fig, msg) {\n",
       "    fig.message.textContent = msg['message'];\n",
       "}\n",
       "\n",
       "mpl.figure.prototype.handle_draw = function(fig, msg) {\n",
       "    // Request the server to send over a new figure.\n",
       "    fig.send_draw_message();\n",
       "}\n",
       "\n",
       "mpl.figure.prototype.handle_image_mode = function(fig, msg) {\n",
       "    fig.image_mode = msg['mode'];\n",
       "}\n",
       "\n",
       "mpl.figure.prototype.updated_canvas_event = function() {\n",
       "    // Called whenever the canvas gets updated.\n",
       "    this.send_message(\"ack\", {});\n",
       "}\n",
       "\n",
       "// A function to construct a web socket function for onmessage handling.\n",
       "// Called in the figure constructor.\n",
       "mpl.figure.prototype._make_on_message_function = function(fig) {\n",
       "    return function socket_on_message(evt) {\n",
       "        if (evt.data instanceof Blob) {\n",
       "            /* FIXME: We get \"Resource interpreted as Image but\n",
       "             * transferred with MIME type text/plain:\" errors on\n",
       "             * Chrome.  But how to set the MIME type?  It doesn't seem\n",
       "             * to be part of the websocket stream */\n",
       "            evt.data.type = \"image/png\";\n",
       "\n",
       "            /* Free the memory for the previous frames */\n",
       "            if (fig.imageObj.src) {\n",
       "                (window.URL || window.webkitURL).revokeObjectURL(\n",
       "                    fig.imageObj.src);\n",
       "            }\n",
       "\n",
       "            fig.imageObj.src = (window.URL || window.webkitURL).createObjectURL(\n",
       "                evt.data);\n",
       "            fig.updated_canvas_event();\n",
       "            fig.waiting = false;\n",
       "            return;\n",
       "        }\n",
       "        else if (typeof evt.data === 'string' && evt.data.slice(0, 21) == \"data:image/png;base64\") {\n",
       "            fig.imageObj.src = evt.data;\n",
       "            fig.updated_canvas_event();\n",
       "            fig.waiting = false;\n",
       "            return;\n",
       "        }\n",
       "\n",
       "        var msg = JSON.parse(evt.data);\n",
       "        var msg_type = msg['type'];\n",
       "\n",
       "        // Call the  \"handle_{type}\" callback, which takes\n",
       "        // the figure and JSON message as its only arguments.\n",
       "        try {\n",
       "            var callback = fig[\"handle_\" + msg_type];\n",
       "        } catch (e) {\n",
       "            console.log(\"No handler for the '\" + msg_type + \"' message type: \", msg);\n",
       "            return;\n",
       "        }\n",
       "\n",
       "        if (callback) {\n",
       "            try {\n",
       "                // console.log(\"Handling '\" + msg_type + \"' message: \", msg);\n",
       "                callback(fig, msg);\n",
       "            } catch (e) {\n",
       "                console.log(\"Exception inside the 'handler_\" + msg_type + \"' callback:\", e, e.stack, msg);\n",
       "            }\n",
       "        }\n",
       "    };\n",
       "}\n",
       "\n",
       "// from http://stackoverflow.com/questions/1114465/getting-mouse-location-in-canvas\n",
       "mpl.findpos = function(e) {\n",
       "    //this section is from http://www.quirksmode.org/js/events_properties.html\n",
       "    var targ;\n",
       "    if (!e)\n",
       "        e = window.event;\n",
       "    if (e.target)\n",
       "        targ = e.target;\n",
       "    else if (e.srcElement)\n",
       "        targ = e.srcElement;\n",
       "    if (targ.nodeType == 3) // defeat Safari bug\n",
       "        targ = targ.parentNode;\n",
       "\n",
       "    // jQuery normalizes the pageX and pageY\n",
       "    // pageX,Y are the mouse positions relative to the document\n",
       "    // offset() returns the position of the element relative to the document\n",
       "    var x = e.pageX - $(targ).offset().left;\n",
       "    var y = e.pageY - $(targ).offset().top;\n",
       "\n",
       "    return {\"x\": x, \"y\": y};\n",
       "};\n",
       "\n",
       "/*\n",
       " * return a copy of an object with only non-object keys\n",
       " * we need this to avoid circular references\n",
       " * http://stackoverflow.com/a/24161582/3208463\n",
       " */\n",
       "function simpleKeys (original) {\n",
       "  return Object.keys(original).reduce(function (obj, key) {\n",
       "    if (typeof original[key] !== 'object')\n",
       "        obj[key] = original[key]\n",
       "    return obj;\n",
       "  }, {});\n",
       "}\n",
       "\n",
       "mpl.figure.prototype.mouse_event = function(event, name) {\n",
       "    var canvas_pos = mpl.findpos(event)\n",
       "\n",
       "    if (name === 'button_press')\n",
       "    {\n",
       "        this.canvas.focus();\n",
       "        this.canvas_div.focus();\n",
       "    }\n",
       "\n",
       "    var x = canvas_pos.x;\n",
       "    var y = canvas_pos.y;\n",
       "\n",
       "    this.send_message(name, {x: x, y: y, button: event.button,\n",
       "                             step: event.step,\n",
       "                             guiEvent: simpleKeys(event)});\n",
       "\n",
       "    /* This prevents the web browser from automatically changing to\n",
       "     * the text insertion cursor when the button is pressed.  We want\n",
       "     * to control all of the cursor setting manually through the\n",
       "     * 'cursor' event from matplotlib */\n",
       "    event.preventDefault();\n",
       "    return false;\n",
       "}\n",
       "\n",
       "mpl.figure.prototype._key_event_extra = function(event, name) {\n",
       "    // Handle any extra behaviour associated with a key event\n",
       "}\n",
       "\n",
       "mpl.figure.prototype.key_event = function(event, name) {\n",
       "\n",
       "    // Prevent repeat events\n",
       "    if (name == 'key_press')\n",
       "    {\n",
       "        if (event.which === this._key)\n",
       "            return;\n",
       "        else\n",
       "            this._key = event.which;\n",
       "    }\n",
       "    if (name == 'key_release')\n",
       "        this._key = null;\n",
       "\n",
       "    var value = '';\n",
       "    if (event.ctrlKey && event.which != 17)\n",
       "        value += \"ctrl+\";\n",
       "    if (event.altKey && event.which != 18)\n",
       "        value += \"alt+\";\n",
       "    if (event.shiftKey && event.which != 16)\n",
       "        value += \"shift+\";\n",
       "\n",
       "    value += 'k';\n",
       "    value += event.which.toString();\n",
       "\n",
       "    this._key_event_extra(event, name);\n",
       "\n",
       "    this.send_message(name, {key: value,\n",
       "                             guiEvent: simpleKeys(event)});\n",
       "    return false;\n",
       "}\n",
       "\n",
       "mpl.figure.prototype.toolbar_button_onclick = function(name) {\n",
       "    if (name == 'download') {\n",
       "        this.handle_save(this, null);\n",
       "    } else {\n",
       "        this.send_message(\"toolbar_button\", {name: name});\n",
       "    }\n",
       "};\n",
       "\n",
       "mpl.figure.prototype.toolbar_button_onmouseover = function(tooltip) {\n",
       "    this.message.textContent = tooltip;\n",
       "};\n",
       "mpl.toolbar_items = [[\"Home\", \"Reset original view\", \"fa fa-home icon-home\", \"home\"], [\"Back\", \"Back to  previous view\", \"fa fa-arrow-left icon-arrow-left\", \"back\"], [\"Forward\", \"Forward to next view\", \"fa fa-arrow-right icon-arrow-right\", \"forward\"], [\"\", \"\", \"\", \"\"], [\"Pan\", \"Pan axes with left mouse, zoom with right\", \"fa fa-arrows icon-move\", \"pan\"], [\"Zoom\", \"Zoom to rectangle\", \"fa fa-square-o icon-check-empty\", \"zoom\"], [\"\", \"\", \"\", \"\"], [\"Download\", \"Download plot\", \"fa fa-floppy-o icon-save\", \"download\"]];\n",
       "\n",
       "mpl.extensions = [\"eps\", \"jpeg\", \"pdf\", \"png\", \"ps\", \"raw\", \"svg\", \"tif\"];\n",
       "\n",
       "mpl.default_extension = \"png\";var comm_websocket_adapter = function(comm) {\n",
       "    // Create a \"websocket\"-like object which calls the given IPython comm\n",
       "    // object with the appropriate methods. Currently this is a non binary\n",
       "    // socket, so there is still some room for performance tuning.\n",
       "    var ws = {};\n",
       "\n",
       "    ws.close = function() {\n",
       "        comm.close()\n",
       "    };\n",
       "    ws.send = function(m) {\n",
       "        //console.log('sending', m);\n",
       "        comm.send(m);\n",
       "    };\n",
       "    // Register the callback with on_msg.\n",
       "    comm.on_msg(function(msg) {\n",
       "        //console.log('receiving', msg['content']['data'], msg);\n",
       "        // Pass the mpl event to the overriden (by mpl) onmessage function.\n",
       "        ws.onmessage(msg['content']['data'])\n",
       "    });\n",
       "    return ws;\n",
       "}\n",
       "\n",
       "mpl.mpl_figure_comm = function(comm, msg) {\n",
       "    // This is the function which gets called when the mpl process\n",
       "    // starts-up an IPython Comm through the \"matplotlib\" channel.\n",
       "\n",
       "    var id = msg.content.data.id;\n",
       "    // Get hold of the div created by the display call when the Comm\n",
       "    // socket was opened in Python.\n",
       "    var element = $(\"#\" + id);\n",
       "    var ws_proxy = comm_websocket_adapter(comm)\n",
       "\n",
       "    function ondownload(figure, format) {\n",
       "        window.open(figure.imageObj.src);\n",
       "    }\n",
       "\n",
       "    var fig = new mpl.figure(id, ws_proxy,\n",
       "                           ondownload,\n",
       "                           element.get(0));\n",
       "\n",
       "    // Call onopen now - mpl needs it, as it is assuming we've passed it a real\n",
       "    // web socket which is closed, not our websocket->open comm proxy.\n",
       "    ws_proxy.onopen();\n",
       "\n",
       "    fig.parent_element = element.get(0);\n",
       "    fig.cell_info = mpl.find_output_cell(\"<div id='\" + id + \"'></div>\");\n",
       "    if (!fig.cell_info) {\n",
       "        console.error(\"Failed to find cell for figure\", id, fig);\n",
       "        return;\n",
       "    }\n",
       "\n",
       "    var output_index = fig.cell_info[2]\n",
       "    var cell = fig.cell_info[0];\n",
       "\n",
       "};\n",
       "\n",
       "mpl.figure.prototype.handle_close = function(fig, msg) {\n",
       "    fig.root.unbind('remove')\n",
       "\n",
       "    // Update the output cell to use the data from the current canvas.\n",
       "    fig.push_to_output();\n",
       "    var dataURL = fig.canvas.toDataURL();\n",
       "    // Re-enable the keyboard manager in IPython - without this line, in FF,\n",
       "    // the notebook keyboard shortcuts fail.\n",
       "    IPython.keyboard_manager.enable()\n",
       "    $(fig.parent_element).html('<img src=\"' + dataURL + '\">');\n",
       "    fig.close_ws(fig, msg);\n",
       "}\n",
       "\n",
       "mpl.figure.prototype.close_ws = function(fig, msg){\n",
       "    fig.send_message('closing', msg);\n",
       "    // fig.ws.close()\n",
       "}\n",
       "\n",
       "mpl.figure.prototype.push_to_output = function(remove_interactive) {\n",
       "    // Turn the data on the canvas into data in the output cell.\n",
       "    var dataURL = this.canvas.toDataURL();\n",
       "    this.cell_info[1]['text/html'] = '<img src=\"' + dataURL + '\">';\n",
       "}\n",
       "\n",
       "mpl.figure.prototype.updated_canvas_event = function() {\n",
       "    // Tell IPython that the notebook contents must change.\n",
       "    IPython.notebook.set_dirty(true);\n",
       "    this.send_message(\"ack\", {});\n",
       "    var fig = this;\n",
       "    // Wait a second, then push the new image to the DOM so\n",
       "    // that it is saved nicely (might be nice to debounce this).\n",
       "    setTimeout(function () { fig.push_to_output() }, 1000);\n",
       "}\n",
       "\n",
       "mpl.figure.prototype._init_toolbar = function() {\n",
       "    var fig = this;\n",
       "\n",
       "    var nav_element = $('<div/>')\n",
       "    nav_element.attr('style', 'width: 100%');\n",
       "    this.root.append(nav_element);\n",
       "\n",
       "    // Define a callback function for later on.\n",
       "    function toolbar_event(event) {\n",
       "        return fig.toolbar_button_onclick(event['data']);\n",
       "    }\n",
       "    function toolbar_mouse_event(event) {\n",
       "        return fig.toolbar_button_onmouseover(event['data']);\n",
       "    }\n",
       "\n",
       "    for(var toolbar_ind in mpl.toolbar_items){\n",
       "        var name = mpl.toolbar_items[toolbar_ind][0];\n",
       "        var tooltip = mpl.toolbar_items[toolbar_ind][1];\n",
       "        var image = mpl.toolbar_items[toolbar_ind][2];\n",
       "        var method_name = mpl.toolbar_items[toolbar_ind][3];\n",
       "\n",
       "        if (!name) { continue; };\n",
       "\n",
       "        var button = $('<button class=\"btn btn-default\" href=\"#\" title=\"' + name + '\"><i class=\"fa ' + image + ' fa-lg\"></i></button>');\n",
       "        button.click(method_name, toolbar_event);\n",
       "        button.mouseover(tooltip, toolbar_mouse_event);\n",
       "        nav_element.append(button);\n",
       "    }\n",
       "\n",
       "    // Add the status bar.\n",
       "    var status_bar = $('<span class=\"mpl-message\" style=\"text-align:right; float: right;\"/>');\n",
       "    nav_element.append(status_bar);\n",
       "    this.message = status_bar[0];\n",
       "\n",
       "    // Add the close button to the window.\n",
       "    var buttongrp = $('<div class=\"btn-group inline pull-right\"></div>');\n",
       "    var button = $('<button class=\"btn btn-mini btn-primary\" href=\"#\" title=\"Stop Interaction\"><i class=\"fa fa-power-off icon-remove icon-large\"></i></button>');\n",
       "    button.click(function (evt) { fig.handle_close(fig, {}); } );\n",
       "    button.mouseover('Stop Interaction', toolbar_mouse_event);\n",
       "    buttongrp.append(button);\n",
       "    var titlebar = this.root.find($('.ui-dialog-titlebar'));\n",
       "    titlebar.prepend(buttongrp);\n",
       "}\n",
       "\n",
       "mpl.figure.prototype._root_extra_style = function(el){\n",
       "    var fig = this\n",
       "    el.on(\"remove\", function(){\n",
       "\tfig.close_ws(fig, {});\n",
       "    });\n",
       "}\n",
       "\n",
       "mpl.figure.prototype._canvas_extra_style = function(el){\n",
       "    // this is important to make the div 'focusable\n",
       "    el.attr('tabindex', 0)\n",
       "    // reach out to IPython and tell the keyboard manager to turn it's self\n",
       "    // off when our div gets focus\n",
       "\n",
       "    // location in version 3\n",
       "    if (IPython.notebook.keyboard_manager) {\n",
       "        IPython.notebook.keyboard_manager.register_events(el);\n",
       "    }\n",
       "    else {\n",
       "        // location in version 2\n",
       "        IPython.keyboard_manager.register_events(el);\n",
       "    }\n",
       "\n",
       "}\n",
       "\n",
       "mpl.figure.prototype._key_event_extra = function(event, name) {\n",
       "    var manager = IPython.notebook.keyboard_manager;\n",
       "    if (!manager)\n",
       "        manager = IPython.keyboard_manager;\n",
       "\n",
       "    // Check for shift+enter\n",
       "    if (event.shiftKey && event.which == 13) {\n",
       "        this.canvas_div.blur();\n",
       "        event.shiftKey = false;\n",
       "        // Send a \"J\" for go to next cell\n",
       "        event.which = 74;\n",
       "        event.keyCode = 74;\n",
       "        manager.command_mode();\n",
       "        manager.handle_keydown(event);\n",
       "    }\n",
       "}\n",
       "\n",
       "mpl.figure.prototype.handle_save = function(fig, msg) {\n",
       "    fig.ondownload(fig, null);\n",
       "}\n",
       "\n",
       "\n",
       "mpl.find_output_cell = function(html_output) {\n",
       "    // Return the cell and output element which can be found *uniquely* in the notebook.\n",
       "    // Note - this is a bit hacky, but it is done because the \"notebook_saving.Notebook\"\n",
       "    // IPython event is triggered only after the cells have been serialised, which for\n",
       "    // our purposes (turning an active figure into a static one), is too late.\n",
       "    var cells = IPython.notebook.get_cells();\n",
       "    var ncells = cells.length;\n",
       "    for (var i=0; i<ncells; i++) {\n",
       "        var cell = cells[i];\n",
       "        if (cell.cell_type === 'code'){\n",
       "            for (var j=0; j<cell.output_area.outputs.length; j++) {\n",
       "                var data = cell.output_area.outputs[j];\n",
       "                if (data.data) {\n",
       "                    // IPython >= 3 moved mimebundle to data attribute of output\n",
       "                    data = data.data;\n",
       "                }\n",
       "                if (data['text/html'] == html_output) {\n",
       "                    return [cell, data, j];\n",
       "                }\n",
       "            }\n",
       "        }\n",
       "    }\n",
       "}\n",
       "\n",
       "// Register the function which deals with the matplotlib target/channel.\n",
       "// The kernel may be null if the page has been refreshed.\n",
       "if (IPython.notebook.kernel != null) {\n",
       "    IPython.notebook.kernel.comm_manager.register_target('matplotlib', mpl.mpl_figure_comm);\n",
       "}\n"
      ],
      "text/plain": [
       "<IPython.core.display.Javascript object>"
      ]
     },
     "metadata": {},
     "output_type": "display_data"
    },
    {
     "data": {
      "text/html": [
       "<img src=\"data:image/png;base64,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\">"
      ],
      "text/plain": [
       "<IPython.core.display.HTML object>"
      ]
     },
     "metadata": {},
     "output_type": "display_data"
    }
   ],
   "source": [
    "fig, ax = plt.subplots(figsize=(8,6))\n",
    "\n",
    "dfQuellenGrouped = dfQuellenVerteilung.groupby(by='Häufigkeit').plot(kind='hist', ax=ax, legend=False)"
   ]
  },
  {
   "cell_type": "code",
   "execution_count": 45,
   "metadata": {
    "collapsed": false
   },
   "outputs": [],
   "source": [
    "import folium\n",
    "from folium import plugins\n",
    "from folium.map import *"
   ]
  },
  {
   "cell_type": "markdown",
   "metadata": {},
   "source": [
    "Remove all entries where no latitude or longitude is given."
   ]
  },
  {
   "cell_type": "code",
   "execution_count": 46,
   "metadata": {
    "collapsed": false
   },
   "outputs": [],
   "source": [
    "dfPoleisMap = dfPoleis.dropna(axis=0)"
   ]
  },
  {
   "cell_type": "code",
   "execution_count": 49,
   "metadata": {
    "collapsed": false
   },
   "outputs": [
    {
     "data": {
      "text/html": [
       "<div style=\"width:100%;\"><div style=\"position:relative;width:100%;height:0;padding-bottom:60%;\"><iframe src=\"data:text/html;base64,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\" style=\"position:absolute;width:100%;height:100%;left:0;top:0;\"></iframe></div></div>"
      ],
      "text/plain": [
       "<folium.folium.Map at 0x7ff94cdc0630>"
      ]
     },
     "execution_count": 49,
     "metadata": {},
     "output_type": "execute_result"
    }
   ],
   "source": [
    "poleis_map = folium.Map(location=[dfPoleisMap[\"Latitude\"][0],dfPoleisMap[\"Longitude\"][0]], zoom_start=8)\n",
    "\n",
    "marker = FeatureGroup(name='Poleis')\n",
    "\n",
    "marker_cluster = folium.MarkerCluster().add_to(marker)\n",
    "    \n",
    "for i in range(len(dfPoleisMap)):\n",
    "    folium.Marker([dfPoleisMap['Latitude'][i], dfPoleisMap['Longitude'][i]],popup='Cityname:' + str(dfPoleisMap[\"city\"][i]) + ' CityIndex:' + str(dfPoleisMap[\"city_index\"][i]),icon=folium.Icon(icon='ok')).add_to(marker_cluster)\n",
    "\n",
    "poleis_map.add_children(marker)\n",
    "\n",
    "poleis_map.add_children(folium.map.LayerControl())"
   ]
  },
  {
   "cell_type": "code",
   "execution_count": null,
   "metadata": {
    "collapsed": true
   },
   "outputs": [],
   "source": []
  }
 ],
 "metadata": {
  "anaconda-cloud": {},
  "kernelspec": {
   "display_name": "Python 3",
   "language": "python",
   "name": "python3"
  },
  "language_info": {
   "codemirror_mode": {
    "name": "ipython",
    "version": 3
   },
   "file_extension": ".py",
   "mimetype": "text/x-python",
   "name": "python",
   "nbconvert_exporter": "python",
   "pygments_lexer": "ipython3",
   "version": "3.5.2"
  },
  "latex_envs": {
   "bibliofile": "biblio.bib",
   "cite_by": "apalike",
   "current_citInitial": 1,
   "eqLabelWithNumbers": true,
   "eqNumInitial": 0
  },
  "nav_menu": {},
  "toc": {
   "navigate_menu": true,
   "number_sections": true,
   "sideBar": true,
   "threshold": 6,
   "toc_cell": false,
   "toc_section_display": "block",
   "toc_window_display": false
  }
 },
 "nbformat": 4,
 "nbformat_minor": 0
}
