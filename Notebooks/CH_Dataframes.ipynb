{
 "cells": [
  {
   "cell_type": "markdown",
   "metadata": {
    "button": false,
    "deletable": true,
    "new_sheet": false,
    "run_control": {
     "read_only": false
    }
   },
   "source": [
    "# Vorlesung: Pandas Dataframes\n",
    "\n",
    "Pandas: http://www.data-analysis-in-python.org/3_pandas.html\n",
    "      : https://bitbucket.org/hrojas/learn-pandas"
   ]
  },
  {
   "cell_type": "code",
   "execution_count": 30,
   "metadata": {
    "button": false,
    "collapsed": false,
    "deletable": true,
    "new_sheet": false,
    "run_control": {
     "read_only": false
    }
   },
   "outputs": [],
   "source": [
    "# <api>\n",
    "import json\n",
    "import pandas as pd\n",
    "import re\n",
    "import numpy as np\n",
    "import requests"
   ]
  },
  {
   "cell_type": "markdown",
   "metadata": {},
   "source": [
    "## Construct Dataframe from full Poleis data"
   ]
  },
  {
   "cell_type": "code",
   "execution_count": 31,
   "metadata": {
    "collapsed": false
   },
   "outputs": [
    {
     "data": {
      "text/plain": [
       "dict_keys(['The Propontic Coast of Asia Minor', 'Arkadia', 'Lykia', 'Ionia', 'Epeiros', 'The South Coast of Asia Minor (Pamphylia Kilikia)', 'Cyprus', 'Achaia', 'The Adriatic', 'The Aegean', 'Makedonia', 'Italia and Kampania', 'Elis', 'West Lokris', 'East Lokris', 'Boiotia', 'Thrace from Axios to Strymon', 'Lakedaimon', 'Rhodos', 'Thracian Chersonesos', 'Aitolia', 'Lesbos', 'Aiolis and South-western Mysia', 'Thrace from Nestos to Hebros', 'The Saronic Gulf', 'The Black Sea Area', 'Propontic Thrace', 'Thessalia and Adjacent Regions', 'Doris', 'Spain and France (including Corsica)', 'Messenia', 'Karia', 'Megaris, Korinthia, Sikyonia', 'Akarnania and Adjacent Areas', 'Thrace from Strymon to Nestos', 'Triphylia', 'Phokis', 'Sikelia', 'Troas', 'Attika', 'Euboia', 'Argolis', 'Inland Thrace', 'Crete'])"
      ]
     },
     "execution_count": 31,
     "metadata": {},
     "output_type": "execute_result"
    }
   ],
   "source": [
    "# <api>\n",
    "PoleisDataOnline2 = requests.get('http://repository.edition-topoi.org/MISC/ReposMISC/MISC00005/secondVersion.json')\n",
    "PoleisRawData2 = PoleisDataOnline2.json()\n",
    "PoleisRawData2.keys()"
   ]
  },
  {
   "cell_type": "code",
   "execution_count": 32,
   "metadata": {
    "collapsed": false
   },
   "outputs": [
    {
     "data": {
      "text/html": [
       "<div>\n",
       "<table border=\"1\" class=\"dataframe\">\n",
       "  <thead>\n",
       "    <tr style=\"text-align: right;\">\n",
       "      <th></th>\n",
       "      <th>Beschreibung</th>\n",
       "      <th>region</th>\n",
       "      <th>city</th>\n",
       "    </tr>\n",
       "  </thead>\n",
       "  <tbody>\n",
       "    <tr>\n",
       "      <th>0</th>\n",
       "      <td>Identifier: 233. , (Ascheieus) Unlocated.  Typ...</td>\n",
       "      <td>Achaia</td>\n",
       "      <td>Ascheion</td>\n",
       "    </tr>\n",
       "    <tr>\n",
       "      <th>1</th>\n",
       "      <td>Identifier: 235. , (Bourios) Map  58.  Lat. 38...</td>\n",
       "      <td>Achaia</td>\n",
       "      <td>Boura</td>\n",
       "    </tr>\n",
       "    <tr>\n",
       "      <th>2</th>\n",
       "      <td>Identifier: 236. , (Helikeus) Map  58.  Lat. 3...</td>\n",
       "      <td>Achaia</td>\n",
       "      <td>Helike</td>\n",
       "    </tr>\n",
       "    <tr>\n",
       "      <th>3</th>\n",
       "      <td>Identifier: 237. , (Keryneus) Map  58.  Lat. 3...</td>\n",
       "      <td>Achaia</td>\n",
       "      <td>Keryneia</td>\n",
       "    </tr>\n",
       "    <tr>\n",
       "      <th>4</th>\n",
       "      <td>Identifier: 238. , (Leontesios) Map  58.Lat.38...</td>\n",
       "      <td>Achaia</td>\n",
       "      <td>Leontion</td>\n",
       "    </tr>\n",
       "  </tbody>\n",
       "</table>\n",
       "</div>"
      ],
      "text/plain": [
       "                                        Beschreibung  region      city\n",
       "0  Identifier: 233. , (Ascheieus) Unlocated.  Typ...  Achaia  Ascheion\n",
       "1  Identifier: 235. , (Bourios) Map  58.  Lat. 38...  Achaia     Boura\n",
       "2  Identifier: 236. , (Helikeus) Map  58.  Lat. 3...  Achaia    Helike\n",
       "3  Identifier: 237. , (Keryneus) Map  58.  Lat. 3...  Achaia  Keryneia\n",
       "4  Identifier: 238. , (Leontesios) Map  58.Lat.38...  Achaia  Leontion"
      ]
     },
     "execution_count": 32,
     "metadata": {},
     "output_type": "execute_result"
    }
   ],
   "source": [
    "# <api>\n",
    "# Read Json into a normalized form, yields ~500 columns with region.city keys\n",
    "dfPoleisGesamt = pd.io.json.json_normalize(PoleisRawData2)\n",
    "\n",
    "# rotate and rename dataframe\n",
    "dfPoleisGesamt= dfPoleisGesamt.transpose()\n",
    "dfPoleisGesamt.columns=['Beschreibung']\n",
    "dfPoleisGesamt.head(4)\n",
    "\n",
    "# reset to new index, return old index as column 'index'\n",
    "dfPoleisGesamt= dfPoleisGesamt.reset_index()\n",
    "dfPoleisGesamt.head()\n",
    "\n",
    "# split entries in column 'index' into region and city part\n",
    "dfPoleisGesamt['indexSplit'] = dfPoleisGesamt['index'].str.split('.')\n",
    "\n",
    "# generate new columns out of split index\n",
    "dfPoleisGesamt['region'] = dfPoleisGesamt['indexSplit'].apply(lambda raw: raw[0])\n",
    "dfPoleisGesamt['city'] = dfPoleisGesamt['indexSplit'].apply(lambda raw: raw[1])\n",
    "dfPoleisGesamt.head()\n",
    "\n",
    "# remove columns 'index' and 'indexSplit', since they contain redundant information\n",
    "dfPoleisGesamt = dfPoleisGesamt.drop('index', 1)\n",
    "dfPoleisGesamt = dfPoleisGesamt.drop('indexSplit', 1)\n",
    "dfPoleisGesamt.head()"
   ]
  },
  {
   "cell_type": "code",
   "execution_count": 33,
   "metadata": {
    "collapsed": false,
    "hidden": true
   },
   "outputs": [],
   "source": [
    "# <api>\n",
    "def ListePattern(string,pattern):\n",
    "    x = re.findall(pattern,string)\n",
    "    if x:\n",
    "        return(x)"
   ]
  },
  {
   "cell_type": "markdown",
   "metadata": {},
   "source": [
    "Example for geographical coordinates:\n",
    "\n",
    "- (?<=Lat\\.\\s)  Group (?...) Passive (non-capturing) group\n",
    "- ?<= Lookbehind assertion\n",
    "- Lat\\.\\s   das string muster: \"Lat. \" mit \".\" und \" \" als escape\n",
    "- \\s?\\d+\\.\\d+ : space[optional wegen ?]digit[1 oder 2 wegen +].[escaped]digit[1 oder 2]\n",
    "\n",
    "Code::\n",
    "\n",
    "    dfPoleisGesamt['Latitude'] = dfPoleisGesamt['Beschreibung'].apply(lambda raw: ListePattern(raw,\"(?<=Lat\\.\\s)\\d+\\.\\d+\"))"
   ]
  },
  {
   "cell_type": "markdown",
   "metadata": {},
   "source": [
    "## Add sources by regex"
   ]
  },
  {
   "cell_type": "code",
   "execution_count": 34,
   "metadata": {
    "collapsed": false,
    "hidden": true
   },
   "outputs": [],
   "source": [
    "# <api>\n",
    "pat = re.compile('([A-Z][a-z]{1,10}\\. \\d{1,3}\\.\\d{1,3}\\.\\d{1,3}|[A-Z][a-z]{1,15}\\s{0,2}\\(\\s*\\d{4}\\)|[A-Z][a-z]{1,15}\\s{0,2}\\(\\s*\\d{1,2}\\.\\d{1,2}\\.\\d{1,2}\\)|[A-Z][a-z]{1,15}\\s{0,2}\\s*\\d{1,2}\\.\\d{1,2}\\.\\d{1,2}|[A-Z][a-z]{1,15}\\.\\s+[A-Z][a-z]{1,10}\\.\\s+[A-Za-z]{1,10}\\.\\s+\\d{1,3}\\.\\d{1,3}|[A-Z][a-z]{1,15}\\.\\s+[A-Z][a-z]{1,10}\\.\\s+\\d{1,3}\\.\\d{1,3}[A-Z][a-z]{1,10}.?\\s+[¹²³]\\d+\\.\\d+|[A-Z][a-z]{1,10}.?\\s+[¹²³]\\d+|[A-Z][a-z]{1,10}.?\\s+\\d+\\s+\\d+)')\n",
    "\n",
    "dfPoleisGesamt['Quellen'] = dfPoleisGesamt['Beschreibung'].apply(lambda raw: ListePattern(raw,pat))"
   ]
  },
  {
   "cell_type": "code",
   "execution_count": 16,
   "metadata": {
    "collapsed": false,
    "hidden": true
   },
   "outputs": [
    {
     "data": {
      "text/html": [
       "<div>\n",
       "<table border=\"1\" class=\"dataframe\">\n",
       "  <thead>\n",
       "    <tr style=\"text-align: right;\">\n",
       "      <th></th>\n",
       "      <th>Beschreibung</th>\n",
       "      <th>region</th>\n",
       "      <th>city</th>\n",
       "      <th>Quellen</th>\n",
       "    </tr>\n",
       "  </thead>\n",
       "  <tbody>\n",
       "    <tr>\n",
       "      <th>0</th>\n",
       "      <td>Identifier: 233. , (Ascheieus) Unlocated.  Typ...</td>\n",
       "      <td>Achaia</td>\n",
       "      <td>Ascheion</td>\n",
       "      <td>None</td>\n",
       "    </tr>\n",
       "    <tr>\n",
       "      <th>1</th>\n",
       "      <td>Identifier: 235. , (Bourios) Map  58.  Lat. 38...</td>\n",
       "      <td>Achaia</td>\n",
       "      <td>Boura</td>\n",
       "      <td>[Paus. 7.25.8, Strabo  8.7.5, Hall  ( 1996), R...</td>\n",
       "    </tr>\n",
       "    <tr>\n",
       "      <th>2</th>\n",
       "      <td>Identifier: 236. , (Helikeus) Map  58.  Lat. 3...</td>\n",
       "      <td>Achaia</td>\n",
       "      <td>Helike</td>\n",
       "      <td>[Paus. 7.24.5, Strabo  8.7.2, Hall ( 1996), Di...</td>\n",
       "    </tr>\n",
       "    <tr>\n",
       "      <th>3</th>\n",
       "      <td>Identifier: 237. , (Keryneus) Map  58.  Lat. 3...</td>\n",
       "      <td>Achaia</td>\n",
       "      <td>Keryneia</td>\n",
       "      <td>[Paus. 7.25.5, Rizakis  ( 1995), Paus. 7.25.5,...</td>\n",
       "    </tr>\n",
       "    <tr>\n",
       "      <th>4</th>\n",
       "      <td>Identifier: 238. , (Leontesios) Map  58.Lat.38...</td>\n",
       "      <td>Achaia</td>\n",
       "      <td>Leontion</td>\n",
       "      <td>[Lauffer  ( 1989), Polyb. 2.41.7, Strabo  8.7....</td>\n",
       "    </tr>\n",
       "    <tr>\n",
       "      <th>5</th>\n",
       "      <td>Identifier: 241. , (Olenios) Map  58.  Lat. 38...</td>\n",
       "      <td>Achaia</td>\n",
       "      <td>Olenos</td>\n",
       "      <td>[Paus. 7.18.1, Strabo  8.7.4, Rizakis  ( 1995)...</td>\n",
       "    </tr>\n",
       "    <tr>\n",
       "      <th>6</th>\n",
       "      <td>Identifier: 244. , (Pharaieus) Map  58.  Lat. ...</td>\n",
       "      <td>Achaia</td>\n",
       "      <td>Pharai</td>\n",
       "      <td>[Paus. 7.22.1, Rizakis ( 1995), Polyb. 2.41.8,...</td>\n",
       "    </tr>\n",
       "    <tr>\n",
       "      <th>7</th>\n",
       "      <td>Identifier: hall, (Tritaieus) Map  58.Lat.37.5...</td>\n",
       "      <td>Achaia</td>\n",
       "      <td>Tritaia</td>\n",
       "      <td>[Paus. 7.22.6, Rizakis  ( 1995), Polyb. 2.41.8...</td>\n",
       "    </tr>\n",
       "    <tr>\n",
       "      <th>8</th>\n",
       "      <td>Identifier: 801. , (Adramytenos) Map  56.  Lat...</td>\n",
       "      <td>Aiolis and South-western Mysia</td>\n",
       "      <td>Adramyttion</td>\n",
       "      <td>[Hdt. 7.42.1, An. 7.8.8, Thuc. 5.1.1, Fossey  ...</td>\n",
       "    </tr>\n",
       "    <tr>\n",
       "      <th>9</th>\n",
       "      <td>Identifier: 802. , (Aigaieus) Map  56.  Lat. 3...</td>\n",
       "      <td>Aiolis and South-western Mysia</td>\n",
       "      <td>Aigai(ai)</td>\n",
       "      <td>[Hdt. 1.149.1, Strabo 13.3.5, Hell. 4.8.5, Pol...</td>\n",
       "    </tr>\n",
       "  </tbody>\n",
       "</table>\n",
       "</div>"
      ],
      "text/plain": [
       "                                        Beschreibung  \\\n",
       "0  Identifier: 233. , (Ascheieus) Unlocated.  Typ...   \n",
       "1  Identifier: 235. , (Bourios) Map  58.  Lat. 38...   \n",
       "2  Identifier: 236. , (Helikeus) Map  58.  Lat. 3...   \n",
       "3  Identifier: 237. , (Keryneus) Map  58.  Lat. 3...   \n",
       "4  Identifier: 238. , (Leontesios) Map  58.Lat.38...   \n",
       "5  Identifier: 241. , (Olenios) Map  58.  Lat. 38...   \n",
       "6  Identifier: 244. , (Pharaieus) Map  58.  Lat. ...   \n",
       "7  Identifier: hall, (Tritaieus) Map  58.Lat.37.5...   \n",
       "8  Identifier: 801. , (Adramytenos) Map  56.  Lat...   \n",
       "9  Identifier: 802. , (Aigaieus) Map  56.  Lat. 3...   \n",
       "\n",
       "                           region         city  \\\n",
       "0                          Achaia     Ascheion   \n",
       "1                          Achaia        Boura   \n",
       "2                          Achaia       Helike   \n",
       "3                          Achaia     Keryneia   \n",
       "4                          Achaia     Leontion   \n",
       "5                          Achaia       Olenos   \n",
       "6                          Achaia       Pharai   \n",
       "7                          Achaia      Tritaia   \n",
       "8  Aiolis and South-western Mysia  Adramyttion   \n",
       "9  Aiolis and South-western Mysia    Aigai(ai)   \n",
       "\n",
       "                                             Quellen  \n",
       "0                                               None  \n",
       "1  [Paus. 7.25.8, Strabo  8.7.5, Hall  ( 1996), R...  \n",
       "2  [Paus. 7.24.5, Strabo  8.7.2, Hall ( 1996), Di...  \n",
       "3  [Paus. 7.25.5, Rizakis  ( 1995), Paus. 7.25.5,...  \n",
       "4  [Lauffer  ( 1989), Polyb. 2.41.7, Strabo  8.7....  \n",
       "5  [Paus. 7.18.1, Strabo  8.7.4, Rizakis  ( 1995)...  \n",
       "6  [Paus. 7.22.1, Rizakis ( 1995), Polyb. 2.41.8,...  \n",
       "7  [Paus. 7.22.6, Rizakis  ( 1995), Polyb. 2.41.8...  \n",
       "8  [Hdt. 7.42.1, An. 7.8.8, Thuc. 5.1.1, Fossey  ...  \n",
       "9  [Hdt. 1.149.1, Strabo 13.3.5, Hell. 4.8.5, Pol...  "
      ]
     },
     "execution_count": 16,
     "metadata": {},
     "output_type": "execute_result"
    }
   ],
   "source": [
    "dfPoleisGesamt.head(10)"
   ]
  },
  {
   "cell_type": "markdown",
   "metadata": {},
   "source": [
    "## Get city identifier by RegEx\n",
    "\n",
    "Throughout the full text, cities are referenced by a running index. To make this information part of the dataframe, we extend it with an additional column.\n"
   ]
  },
  {
   "cell_type": "code",
   "execution_count": 35,
   "metadata": {
    "collapsed": false
   },
   "outputs": [],
   "source": [
    "def cityIDFinder(text):\n",
    "    '''\n",
    "    #1: Find all occurance of the string \"Identifier\" followed by a colon, a space and between one and four decimals.\n",
    "    #2: If there is a result, do the following\n",
    "    #3: Take the first result idList[0] (because the identifier is at the beginning of the text), \n",
    "        and split the string at the dot (to remove the dot at the end of the string). Then return the string from the 13. position.\n",
    "        This ensures, that only a number is returned, since it removes the word identifier, the colon, and the space. \n",
    "    '''\n",
    "    idList = re.findall(\"Identifier\\: \\d{1,4}\\.\", text) #1\n",
    "    if idList: #2\n",
    "        idCity = idList[0].split('.')[0][12:] #3\n",
    "        return idCity"
   ]
  },
  {
   "cell_type": "code",
   "execution_count": 36,
   "metadata": {
    "collapsed": false
   },
   "outputs": [],
   "source": [
    "dfPoleisGesamt['city_id'] = dfPoleisGesamt['Beschreibung'].apply(lambda row: cityIDFinder(row))"
   ]
  },
  {
   "cell_type": "markdown",
   "metadata": {},
   "source": [
    "## Collection of citations uding parenthesis detection\n",
    "\n",
    "To collect citations in the text for one city, we first use a tokenizer from NLTK. This tokenizer collects all parenthesis and is much easier to use, that regular expressions.\n",
    "\n",
    "The basic assumption for citations is: They are written in parenthesis, start with a capital letter, and contain at least one blank space (to separate the authors name from text pages, indices, or dates).\n"
   ]
  },
  {
   "cell_type": "code",
   "execution_count": 55,
   "metadata": {
    "collapsed": true
   },
   "outputs": [],
   "source": [
    "#pat = re.compile('([A-Z][a-z]{1,10}\\. \\d{1,3}\\.\\d{1,3}\\.\\d{1,3}|[A-Z][a-z]{1,15}\\s{0,2}\\(\\s*\\d{4}\\)|[A-Z][a-z]{1,15}\\s{0,2}\\(\\s*\\d{1,2}\\.\\d{1,2}\\.\\d{1,2}\\)|[A-Z][a-z]{1,15}\\s{0,2}\\s*\\d{1,2}\\.\\d{1,2}\\.\\d{1,2}|[A-Z][a-z]{1,15}\\.\\s+[A-Z][a-z]{1,10}\\.\\s+[A-Za-z]{1,10}\\.\\s+\\d{1,3}\\.\\d{1,3}|[A-Z][a-z]{1,15}\\.\\s+[A-Z][a-z]{1,10}\\.\\s+\\d{1,3}\\.\\d{1,3}[A-Za-z]{1,10}.?\\s+[¹²³]\\d+\\.\\d+|[A-Za-z]{1,10}.?\\s+[¹²³]\\d+|[A-Za-z]{1,10}.?\\s+\\d+\\s+\\d+)')\n"
   ]
  },
  {
   "cell_type": "code",
   "execution_count": 19,
   "metadata": {
    "collapsed": false
   },
   "outputs": [],
   "source": [
    "#def citationFinder(text):\n",
    "#   '''\n",
    "#    #1: Generate a list of all capital letters\n",
    "#    #2: Tokenize text to search for parenthesis, '( ... )' (this returns more accurate results, that using regular expression) \n",
    "#        The option strict=False is necessary to prevent errors, when the text contains only an unmatched opening or closing paranthesis.\n",
    "#    #3: The basic assumptions for citations are: \n",
    "#        In parenthesis (first element is opening paranthesis), \n",
    "#        start with a capital letter (second element is a capital letter), \n",
    "#        and contain at least one blank space ' '\n",
    "#    '''\n",
    "#    import string\n",
    "#    letters=[i for i in string.ascii_uppercase] #1\n",
    "#    paranthesisTokenized = SExprTokenizer(strict=False).tokenize(text) #2\n",
    "#    listCite = [x for x in paranthesisTokenized if x[0] == '(' and x[1] in letters and ' ' in x] #3\n",
    "#    return listCite"
   ]
  },
  {
   "cell_type": "code",
   "execution_count": 29,
   "metadata": {
    "collapsed": false
   },
   "outputs": [],
   "source": [
    "#dfPoleisGesamt['sources'] = dfPoleisGesamt['Beschreibung'].apply(lambda row: citationFinder(row))"
   ]
  },
  {
   "cell_type": "markdown",
   "metadata": {},
   "source": [
    "## Transformation of coordinates using RegEx\n",
    "\n",
    "A simple regular expression is enough to find all coordinates in the text. The coordinates are transformed from degrees/minutes to decimal to enable plotting on a map with common projection.\n"
   ]
  },
  {
   "cell_type": "code",
   "execution_count": 21,
   "metadata": {
    "collapsed": false
   },
   "outputs": [],
   "source": [
    "def coordinateFinder(value,pattern):\n",
    "    '''\n",
    "    #1: General function for finding regular expression pattern in a text.\n",
    "    #2: If patterns are found, do the following\n",
    "    #3: Take the last five values of the first string returned\n",
    "    #4: To convert angular in decimal coordinates: \n",
    "        Take the returned value, split it at the dot\n",
    "        convert the first part into a floating number (e.g. 36.0), \n",
    "        and the second part into a integer number (e.g. 34) and divide it by 60. \n",
    "        The sum the two results to return a coordinate in decimal system\n",
    "    '''\n",
    "    x = re.findall(pattern, value)                                             #1\n",
    "    if x:                                                                      #2  \n",
    "        coord = x[0][-5:]                                                      #3 \n",
    "        decCord = float(coord.split('.')[0]) +  int(coord.split('.')[-1])/60   #4\n",
    "        return decCord"
   ]
  },
  {
   "cell_type": "code",
   "execution_count": 22,
   "metadata": {
    "collapsed": false
   },
   "outputs": [],
   "source": [
    "dfPoleisGesamt['latitude'] = dfPoleisGesamt[\"Beschreibung\"].apply(coordinateFinder, pattern=\"Lat\\.\\s?\\d+\\.\\d+\")\n",
    "dfPoleisGesamt['longitude'] = dfPoleisGesamt[\"Beschreibung\"].apply(coordinateFinder, pattern=\"long\\.\\s*\\d+\\.\\d+\")"
   ]
  },
  {
   "cell_type": "markdown",
   "metadata": {},
   "source": [
    "##  Proper nouns using POS tagger\n",
    "\n",
    "To generate a list of all mentioned proper nouns for each city, we use TextBlob. TextBlob is a NLTK tool with parts-of-speech tagger. We are interessted in all parts that are 'NNP' and longer then 3 letters.\n",
    "\n",
    "This takes some time to process for the full dataframe. Behaviour can be tested by uncommenting the cell below.\n"
   ]
  },
  {
   "cell_type": "code",
   "execution_count": 28,
   "metadata": {
    "collapsed": false
   },
   "outputs": [],
   "source": [
    "#def namesFinder(text):\n",
    "#    '''\n",
    "#    #1: Generate a blob out of the text \n",
    "#    #2: Generate a list of all POS Tags, that are labeld as NNP(S) (Proper noun, singular (or plural)), and which are longer than 3 letters \n",
    "#    '''\n",
    "#    blobs = TextBlob(text)                                                                              #1\n",
    "#    namesList = [x[0] for x in blobs.pos_tags if (x[1] == 'NNP') | (x[1] == 'NNPS') and len(x[0]) > 3]  #2\n",
    "#    return namesList"
   ]
  },
  {
   "cell_type": "code",
   "execution_count": 27,
   "metadata": {
    "collapsed": false
   },
   "outputs": [],
   "source": [
    "# Uncomment to test routine. \n",
    "#namesFinder(dfPoleisGesamt['Beschreibung'].iloc[10])"
   ]
  },
  {
   "cell_type": "code",
   "execution_count": 62,
   "metadata": {
    "collapsed": false
   },
   "outputs": [],
   "source": [
    "########################################\n",
    "# Careful: Takes some time to evalute! #\n",
    "########################################\n",
    "\n",
    "#dfPoleisGesamt['names'] = dfPoleisGesamt['Beschreibung'].apply(lambda row: namesFinder(row))"
   ]
  },
  {
   "cell_type": "markdown",
   "metadata": {},
   "source": [
    "##  Cross links to other cities\n",
    "\n",
    "Links to other cities are mentioned in the fulltext with reference to the index (e.g. '(no. 982)'). searching for these should give a link list.\n"
   ]
  },
  {
   "cell_type": "code",
   "execution_count": 23,
   "metadata": {
    "collapsed": false
   },
   "outputs": [],
   "source": [
    "def linksFinder(text):\n",
    "    '''\n",
    "    #1: Find all occurances of the string \"(no. 1234)\" with between one and four decimals\n",
    "    #2: If we have a result\n",
    "    #3: Generate a list, where every result:\n",
    "        is split at the space, take the last part, and only up to the last letter (this removes the closing paranthesis) \n",
    "    #4: For all these results, convert the entries into an integer number\n",
    "    '''\n",
    "    x = re.findall(\"\\(no\\. \\d{1,4}\\)\", text)               #1\n",
    "    if x:                                                  #2\n",
    "        links = [((z.split(' '))[-1])[:-1] for z in x]     #3\n",
    "        linksInt = [int(x) for x in links]                 #4\n",
    "        return linksInt"
   ]
  },
  {
   "cell_type": "code",
   "execution_count": 24,
   "metadata": {
    "collapsed": false
   },
   "outputs": [],
   "source": [
    "dfPoleisGesamt['linkedCities'] = dfPoleisGesamt['Beschreibung'].apply(lambda row: linksFinder(row))"
   ]
  },
  {
   "cell_type": "markdown",
   "metadata": {},
   "source": [
    "## Display dataframe"
   ]
  },
  {
   "cell_type": "code",
   "execution_count": 26,
   "metadata": {
    "collapsed": false
   },
   "outputs": [
    {
     "data": {
      "text/html": [
       "<div>\n",
       "<table border=\"1\" class=\"dataframe\">\n",
       "  <thead>\n",
       "    <tr style=\"text-align: right;\">\n",
       "      <th></th>\n",
       "      <th>Beschreibung</th>\n",
       "      <th>region</th>\n",
       "      <th>city</th>\n",
       "      <th>Quellen</th>\n",
       "      <th>city_id</th>\n",
       "      <th>latitude</th>\n",
       "      <th>longitude</th>\n",
       "      <th>linkedCities</th>\n",
       "    </tr>\n",
       "  </thead>\n",
       "  <tbody>\n",
       "    <tr>\n",
       "      <th>0</th>\n",
       "      <td>Identifier: 233. , (Ascheieus) Unlocated.  Typ...</td>\n",
       "      <td>Achaia</td>\n",
       "      <td>Ascheion</td>\n",
       "      <td>None</td>\n",
       "      <td>233</td>\n",
       "      <td>NaN</td>\n",
       "      <td>NaN</td>\n",
       "      <td>None</td>\n",
       "    </tr>\n",
       "    <tr>\n",
       "      <th>1</th>\n",
       "      <td>Identifier: 235. , (Bourios) Map  58.  Lat. 38...</td>\n",
       "      <td>Achaia</td>\n",
       "      <td>Boura</td>\n",
       "      <td>[Paus. 7.25.8, Strabo  8.7.5, Hall  ( 1996), R...</td>\n",
       "      <td>235</td>\n",
       "      <td>38.166667</td>\n",
       "      <td>22.250000</td>\n",
       "      <td>[236, 235, 238, 251, 165, 148]</td>\n",
       "    </tr>\n",
       "    <tr>\n",
       "      <th>2</th>\n",
       "      <td>Identifier: 236. , (Helikeus) Map  58.  Lat. 3...</td>\n",
       "      <td>Achaia</td>\n",
       "      <td>Helike</td>\n",
       "      <td>[Paus. 7.24.5, Strabo  8.7.2, Hall ( 1996), Di...</td>\n",
       "      <td>236</td>\n",
       "      <td>38.250000</td>\n",
       "      <td>22.166667</td>\n",
       "      <td>[231, 70]</td>\n",
       "    </tr>\n",
       "    <tr>\n",
       "      <th>3</th>\n",
       "      <td>Identifier: 237. , (Keryneus) Map  58.  Lat. 3...</td>\n",
       "      <td>Achaia</td>\n",
       "      <td>Keryneia</td>\n",
       "      <td>[Paus. 7.25.5, Rizakis  ( 1995), Paus. 7.25.5,...</td>\n",
       "      <td>237</td>\n",
       "      <td>38.166667</td>\n",
       "      <td>22.166667</td>\n",
       "      <td>[353]</td>\n",
       "    </tr>\n",
       "  </tbody>\n",
       "</table>\n",
       "</div>"
      ],
      "text/plain": [
       "                                        Beschreibung  region      city  \\\n",
       "0  Identifier: 233. , (Ascheieus) Unlocated.  Typ...  Achaia  Ascheion   \n",
       "1  Identifier: 235. , (Bourios) Map  58.  Lat. 38...  Achaia     Boura   \n",
       "2  Identifier: 236. , (Helikeus) Map  58.  Lat. 3...  Achaia    Helike   \n",
       "3  Identifier: 237. , (Keryneus) Map  58.  Lat. 3...  Achaia  Keryneia   \n",
       "\n",
       "                                             Quellen city_id   latitude  \\\n",
       "0                                               None     233        NaN   \n",
       "1  [Paus. 7.25.8, Strabo  8.7.5, Hall  ( 1996), R...     235  38.166667   \n",
       "2  [Paus. 7.24.5, Strabo  8.7.2, Hall ( 1996), Di...     236  38.250000   \n",
       "3  [Paus. 7.25.5, Rizakis  ( 1995), Paus. 7.25.5,...     237  38.166667   \n",
       "\n",
       "   longitude                    linkedCities  \n",
       "0        NaN                            None  \n",
       "1  22.250000  [236, 235, 238, 251, 165, 148]  \n",
       "2  22.166667                       [231, 70]  \n",
       "3  22.166667                           [353]  "
      ]
     },
     "execution_count": 26,
     "metadata": {},
     "output_type": "execute_result"
    }
   ],
   "source": [
    "dfPoleisGesamt.head(4)"
   ]
  },
  {
   "cell_type": "code",
   "execution_count": null,
   "metadata": {
    "collapsed": true
   },
   "outputs": [],
   "source": []
  }
 ],
 "metadata": {
  "anaconda-cloud": {},
  "kernelspec": {
   "display_name": "Python 3",
   "language": "python",
   "name": "python3"
  },
  "language_info": {
   "codemirror_mode": {
    "name": "ipython",
    "version": 3
   },
   "file_extension": ".py",
   "mimetype": "text/x-python",
   "name": "python",
   "nbconvert_exporter": "python",
   "pygments_lexer": "ipython3",
   "version": "3.5.2"
  },
  "latex_envs": {
   "bibliofile": "biblio.bib",
   "cite_by": "apalike",
   "current_citInitial": 1,
   "eqLabelWithNumbers": true,
   "eqNumInitial": 0
  },
  "nav_menu": {},
  "toc": {
   "navigate_menu": true,
   "number_sections": true,
   "sideBar": true,
   "threshold": 6,
   "toc_cell": false,
   "toc_section_display": "block",
   "toc_window_display": false
  }
 },
 "nbformat": 4,
 "nbformat_minor": 0
}
