{
 "cells": [
  {
   "cell_type": "markdown",
   "metadata": {
    "deletable": true,
    "editable": true,
    "nbpresent": {
     "id": "9cec5e30-0815-4eb8-ae60-47290bd5291b"
    }
   },
   "source": [
    "# Vorlesung: Agenten-basiertes Modellieren"
   ]
  },
  {
   "cell_type": "code",
   "execution_count": 1,
   "metadata": {
    "collapsed": false,
    "deletable": true,
    "editable": true,
    "nbpresent": {
     "id": "628007fb-6d97-4485-b40d-0d02f38f615f"
    }
   },
   "outputs": [],
   "source": [
    "%matplotlib notebook"
   ]
  },
  {
   "cell_type": "code",
   "execution_count": 2,
   "metadata": {
    "collapsed": true,
    "deletable": true,
    "editable": true
   },
   "outputs": [],
   "source": [
    "from mesa import Agent, Model\n",
    "from mesa.time import RandomActivation\n",
    "from mesa.datacollection import DataCollector"
   ]
  },
  {
   "cell_type": "code",
   "execution_count": 3,
   "metadata": {
    "collapsed": false,
    "deletable": true,
    "editable": true,
    "nbpresent": {
     "id": "ef79f899-30ba-4187-828a-f70e6b6db96a"
    }
   },
   "outputs": [],
   "source": [
    "from kopiergraphen import *"
   ]
  },
  {
   "cell_type": "code",
   "execution_count": 4,
   "metadata": {
    "collapsed": true,
    "deletable": true,
    "editable": true
   },
   "outputs": [],
   "source": [
    "def maxCounts(edges):\n",
    "    res = max(edges.values())\n",
    "    return res\n",
    "\n",
    "def meanCounts(edges):\n",
    "    val = edges.values()\n",
    "    middle = sum(val)/len(val)\n",
    "    res = middle #- np.sqrt(sum([(x-middle)**2 for x in val])/len(val))/2\n",
    "    return res\n",
    "\n",
    "def meanDeviation(edges):\n",
    "    val = edges.values()\n",
    "    middle = sum(val)/len(val)\n",
    "    res = middle - np.sqrt(sum([(x-middle)**2 for x in val])/len(val))/4\n",
    "    return res"
   ]
  },
  {
   "cell_type": "markdown",
   "metadata": {
    "deletable": true,
    "editable": true,
    "nbpresent": {
     "id": "2d3667ff-68fb-48b4-9707-30f735f95d3b"
    }
   },
   "source": [
    "# Konstruktion Kopierbaum als gerichteter Graph\n",
    "\n",
    "## Initialisierung"
   ]
  },
  {
   "cell_type": "code",
   "execution_count": 5,
   "metadata": {
    "collapsed": true,
    "deletable": true,
    "editable": true,
    "nbpresent": {
     "id": "64923679-ab68-4f9d-a573-d07738e247e4"
    }
   },
   "outputs": [],
   "source": [
    "# Anzahl der Merkmale\n",
    "NMerkmale=20\n",
    "# Anzahl der Texte\n",
    "NTexte=15\n",
    "# Anzahl der nicht vorhandenen Merkmale\n",
    "NNullwerte = 3\n",
    "\n",
    "# Wahrscheinlichkeit einer Änderung einer 0\n",
    "p=0.05 \n",
    "\n",
    "# Wahrscheinlichkeit einer Änderung einer 1\n",
    "q=0.25"
   ]
  },
  {
   "cell_type": "markdown",
   "metadata": {
    "deletable": true,
    "editable": true,
    "nbpresent": {
     "id": "fac5d1fd-10ee-4e50-b26a-9e081bc612ca"
    }
   },
   "source": [
    "### Wurzel-Vektor wählen"
   ]
  },
  {
   "cell_type": "markdown",
   "metadata": {
    "deletable": true,
    "editable": true,
    "nbpresent": {
     "id": "dc59bb10-dbc6-4718-9ecd-78ea49b68a8a"
    }
   },
   "source": [
    "Die Wurzel beschreibt die Merkmale der grundlegenden Kopiervorlage. Wir können einen zufälligen Wurzel-Vektor erzeugen über die Funktion randrange. Dadurch sind 0 und 1 in der Wurzel gleich-verteilt. Um eine höhere Anzahl von gesetzten Merkmalen zu erhalten, können wir auch einen Vektor mit 1 füllen und dann an k zufälligen Stellen eine 1 gegen 0 ersetzen. Dies erfolgt durch setzen des Parameters anzahlNullen. Im Beispiel ist dieser auf 3 gesetzt."
   ]
  },
  {
   "cell_type": "markdown",
   "metadata": {
    "deletable": true,
    "editable": true,
    "nbpresent": {
     "id": "15a3181b-ef3a-49bf-852c-823c601cbbab"
    }
   },
   "source": [
    "### Erstellen der Trainingsdaten"
   ]
  },
  {
   "cell_type": "code",
   "execution_count": 6,
   "metadata": {
    "collapsed": false,
    "deletable": true,
    "editable": true
   },
   "outputs": [],
   "source": [
    "G,d=Make_Kopiergraph(p,q,MWurzel(NMerkmale,NNullwerte),NTexte)\n",
    "GG=nx.nx_agraph.to_agraph(G)"
   ]
  },
  {
   "cell_type": "code",
   "execution_count": 7,
   "metadata": {
    "collapsed": false,
    "deletable": true,
    "editable": true
   },
   "outputs": [],
   "source": [
    "GG.draw('G.png',prog='dot')"
   ]
  },
  {
   "cell_type": "code",
   "execution_count": 8,
   "metadata": {
    "collapsed": false,
    "deletable": true,
    "editable": true,
    "nbpresent": {
     "id": "cda44ca1-e9b4-4f46-b15d-78408bd75173"
    }
   },
   "outputs": [],
   "source": [
    "ObjektVergleich=[]\n",
    "for j in range(len(d)):\n",
    "    for k in range(len(d)):\n",
    "        if k!=j:\n",
    "            ObjektVergleich.append(Vergleich(d,j,k,G))"
   ]
  },
  {
   "cell_type": "code",
   "execution_count": 9,
   "metadata": {
    "collapsed": false,
    "deletable": true,
    "editable": true
   },
   "outputs": [],
   "source": [
    "X_train, y_train, dfTrain = datensatz_erzeugen(p,q,ObjektVergleich)"
   ]
  },
  {
   "cell_type": "markdown",
   "metadata": {
    "deletable": true,
    "editable": true
   },
   "source": [
    "### Erstellen der Testdaten"
   ]
  },
  {
   "cell_type": "code",
   "execution_count": 10,
   "metadata": {
    "collapsed": false,
    "deletable": true,
    "editable": true,
    "nbpresent": {
     "id": "43387231-bb2f-4e36-92ae-f065d8ccca94"
    }
   },
   "outputs": [],
   "source": [
    "G_pruef,d_pruef=Make_Kopiergraph(p,q,MWurzel(NMerkmale,NNullwerte),NTexte)\n",
    "GG_pruef=nx.nx_agraph.to_agraph(G_pruef)"
   ]
  },
  {
   "cell_type": "code",
   "execution_count": 11,
   "metadata": {
    "collapsed": true,
    "deletable": true,
    "editable": true,
    "nbpresent": {
     "id": "02fcb3df-60ec-4a18-bb89-3ad2e656a7b7"
    }
   },
   "outputs": [],
   "source": [
    "GG_pruef.draw('G_pruef.png',prog='dot')"
   ]
  },
  {
   "cell_type": "code",
   "execution_count": 12,
   "metadata": {
    "collapsed": false,
    "deletable": true,
    "editable": true,
    "nbpresent": {
     "id": "c9de388f-55c0-4937-9b19-a05cabd288b0"
    }
   },
   "outputs": [],
   "source": [
    "ObjektPruef = []\n",
    "for j in range(len(d_pruef)):\n",
    "    for k in range(len(d_pruef)):\n",
    "        if k!=j:\n",
    "            ObjektPruef.append(Vergleich(d_pruef,j,k,G_pruef))"
   ]
  },
  {
   "cell_type": "code",
   "execution_count": 13,
   "metadata": {
    "collapsed": false,
    "deletable": true,
    "editable": true,
    "nbpresent": {
     "id": "87a2d4a9-0f73-4984-a218-2a3f79be779f"
    }
   },
   "outputs": [],
   "source": [
    "X_pruef, y_pruef, dfPruef = datensatz_erzeugen(p,q,ObjektPruef)"
   ]
  },
  {
   "cell_type": "markdown",
   "metadata": {
    "deletable": true,
    "editable": true,
    "nbpresent": {
     "id": "ad914ca3-1f08-43b9-91d2-e26b8886dc5e"
    }
   },
   "source": [
    "## Klassifizierung: Nearest Neighbours"
   ]
  },
  {
   "cell_type": "code",
   "execution_count": 14,
   "metadata": {
    "collapsed": true,
    "deletable": true,
    "editable": true,
    "nbpresent": {
     "id": "c9a348d3-5af0-40f6-a65b-33cb570452f5"
    }
   },
   "outputs": [],
   "source": [
    "from sklearn.neighbors import KNeighborsClassifier"
   ]
  },
  {
   "cell_type": "markdown",
   "metadata": {
    "deletable": true,
    "editable": true,
    "nbpresent": {
     "id": "c60dd728-fdbc-46c5-bce4-e31c9ef5a437"
    }
   },
   "source": [
    "### Training des Klassifiers"
   ]
  },
  {
   "cell_type": "code",
   "execution_count": 15,
   "metadata": {
    "collapsed": false,
    "deletable": true,
    "editable": true,
    "nbpresent": {
     "id": "c43d3511-2164-41a5-a749-54b2965f6bd3"
    }
   },
   "outputs": [
    {
     "data": {
      "text/plain": [
       "KNeighborsClassifier(algorithm='auto', leaf_size=5, metric='braycurtis',\n",
       "           metric_params=None, n_jobs=1, n_neighbors=6, p=2,\n",
       "           weights='distance')"
      ]
     },
     "execution_count": 15,
     "metadata": {},
     "output_type": "execute_result"
    }
   ],
   "source": [
    "neigh = KNeighborsClassifier(n_neighbors=6, weights='distance', metric='braycurtis',leaf_size=5)\n",
    "\n",
    "neigh.fit(X_train,y_train)"
   ]
  },
  {
   "cell_type": "markdown",
   "metadata": {
    "deletable": true,
    "editable": true,
    "nbpresent": {
     "id": "28d00a76-9e91-4162-b293-12b32c0a807b"
    }
   },
   "source": [
    "### Bewertung der Klassifizierung"
   ]
  },
  {
   "cell_type": "code",
   "execution_count": 16,
   "metadata": {
    "collapsed": false,
    "deletable": true,
    "editable": true,
    "nbpresent": {
     "id": "221dc4fc-70b5-49b4-9ba8-be8b8127dfb9"
    }
   },
   "outputs": [
    {
     "name": "stdout",
     "output_type": "stream",
     "text": [
      "Accuracy: 0.87 (+/- 0.08) \n",
      "\n",
      "Scores: [ 0.88372093  0.79069767  0.88095238  0.9047619   0.875     ] \n",
      "\n",
      "Summe vorhergesagter Links (Eintrag kann 1 oder 2 sein): 23\n"
     ]
    }
   ],
   "source": [
    "bewertung_klassifizierung(neigh,X_pruef,y_pruef)"
   ]
  },
  {
   "cell_type": "code",
   "execution_count": 17,
   "metadata": {
    "collapsed": false,
    "deletable": true,
    "editable": true,
    "nbpresent": {
     "id": "ac40ed8e-9133-42a2-bd5a-82efb0e1092d"
    },
    "scrolled": false
   },
   "outputs": [
    {
     "data": {
      "application/javascript": [
       "/* Put everything inside the global mpl namespace */\n",
       "window.mpl = {};\n",
       "\n",
       "mpl.get_websocket_type = function() {\n",
       "    if (typeof(WebSocket) !== 'undefined') {\n",
       "        return WebSocket;\n",
       "    } else if (typeof(MozWebSocket) !== 'undefined') {\n",
       "        return MozWebSocket;\n",
       "    } else {\n",
       "        alert('Your browser does not have WebSocket support.' +\n",
       "              'Please try Chrome, Safari or Firefox ≥ 6. ' +\n",
       "              'Firefox 4 and 5 are also supported but you ' +\n",
       "              'have to enable WebSockets in about:config.');\n",
       "    };\n",
       "}\n",
       "\n",
       "mpl.figure = function(figure_id, websocket, ondownload, parent_element) {\n",
       "    this.id = figure_id;\n",
       "\n",
       "    this.ws = websocket;\n",
       "\n",
       "    this.supports_binary = (this.ws.binaryType != undefined);\n",
       "\n",
       "    if (!this.supports_binary) {\n",
       "        var warnings = document.getElementById(\"mpl-warnings\");\n",
       "        if (warnings) {\n",
       "            warnings.style.display = 'block';\n",
       "            warnings.textContent = (\n",
       "                \"This browser does not support binary websocket messages. \" +\n",
       "                    \"Performance may be slow.\");\n",
       "        }\n",
       "    }\n",
       "\n",
       "    this.imageObj = new Image();\n",
       "\n",
       "    this.context = undefined;\n",
       "    this.message = undefined;\n",
       "    this.canvas = undefined;\n",
       "    this.rubberband_canvas = undefined;\n",
       "    this.rubberband_context = undefined;\n",
       "    this.format_dropdown = undefined;\n",
       "\n",
       "    this.image_mode = 'full';\n",
       "\n",
       "    this.root = $('<div/>');\n",
       "    this._root_extra_style(this.root)\n",
       "    this.root.attr('style', 'display: inline-block');\n",
       "\n",
       "    $(parent_element).append(this.root);\n",
       "\n",
       "    this._init_header(this);\n",
       "    this._init_canvas(this);\n",
       "    this._init_toolbar(this);\n",
       "\n",
       "    var fig = this;\n",
       "\n",
       "    this.waiting = false;\n",
       "\n",
       "    this.ws.onopen =  function () {\n",
       "            fig.send_message(\"supports_binary\", {value: fig.supports_binary});\n",
       "            fig.send_message(\"send_image_mode\", {});\n",
       "            fig.send_message(\"refresh\", {});\n",
       "        }\n",
       "\n",
       "    this.imageObj.onload = function() {\n",
       "            if (fig.image_mode == 'full') {\n",
       "                // Full images could contain transparency (where diff images\n",
       "                // almost always do), so we need to clear the canvas so that\n",
       "                // there is no ghosting.\n",
       "                fig.context.clearRect(0, 0, fig.canvas.width, fig.canvas.height);\n",
       "            }\n",
       "            fig.context.drawImage(fig.imageObj, 0, 0);\n",
       "        };\n",
       "\n",
       "    this.imageObj.onunload = function() {\n",
       "        this.ws.close();\n",
       "    }\n",
       "\n",
       "    this.ws.onmessage = this._make_on_message_function(this);\n",
       "\n",
       "    this.ondownload = ondownload;\n",
       "}\n",
       "\n",
       "mpl.figure.prototype._init_header = function() {\n",
       "    var titlebar = $(\n",
       "        '<div class=\"ui-dialog-titlebar ui-widget-header ui-corner-all ' +\n",
       "        'ui-helper-clearfix\"/>');\n",
       "    var titletext = $(\n",
       "        '<div class=\"ui-dialog-title\" style=\"width: 100%; ' +\n",
       "        'text-align: center; padding: 3px;\"/>');\n",
       "    titlebar.append(titletext)\n",
       "    this.root.append(titlebar);\n",
       "    this.header = titletext[0];\n",
       "}\n",
       "\n",
       "\n",
       "\n",
       "mpl.figure.prototype._canvas_extra_style = function(canvas_div) {\n",
       "\n",
       "}\n",
       "\n",
       "\n",
       "mpl.figure.prototype._root_extra_style = function(canvas_div) {\n",
       "\n",
       "}\n",
       "\n",
       "mpl.figure.prototype._init_canvas = function() {\n",
       "    var fig = this;\n",
       "\n",
       "    var canvas_div = $('<div/>');\n",
       "\n",
       "    canvas_div.attr('style', 'position: relative; clear: both; outline: 0');\n",
       "\n",
       "    function canvas_keyboard_event(event) {\n",
       "        return fig.key_event(event, event['data']);\n",
       "    }\n",
       "\n",
       "    canvas_div.keydown('key_press', canvas_keyboard_event);\n",
       "    canvas_div.keyup('key_release', canvas_keyboard_event);\n",
       "    this.canvas_div = canvas_div\n",
       "    this._canvas_extra_style(canvas_div)\n",
       "    this.root.append(canvas_div);\n",
       "\n",
       "    var canvas = $('<canvas/>');\n",
       "    canvas.addClass('mpl-canvas');\n",
       "    canvas.attr('style', \"left: 0; top: 0; z-index: 0; outline: 0\")\n",
       "\n",
       "    this.canvas = canvas[0];\n",
       "    this.context = canvas[0].getContext(\"2d\");\n",
       "\n",
       "    var rubberband = $('<canvas/>');\n",
       "    rubberband.attr('style', \"position: absolute; left: 0; top: 0; z-index: 1;\")\n",
       "\n",
       "    var pass_mouse_events = true;\n",
       "\n",
       "    canvas_div.resizable({\n",
       "        start: function(event, ui) {\n",
       "            pass_mouse_events = false;\n",
       "        },\n",
       "        resize: function(event, ui) {\n",
       "            fig.request_resize(ui.size.width, ui.size.height);\n",
       "        },\n",
       "        stop: function(event, ui) {\n",
       "            pass_mouse_events = true;\n",
       "            fig.request_resize(ui.size.width, ui.size.height);\n",
       "        },\n",
       "    });\n",
       "\n",
       "    function mouse_event_fn(event) {\n",
       "        if (pass_mouse_events)\n",
       "            return fig.mouse_event(event, event['data']);\n",
       "    }\n",
       "\n",
       "    rubberband.mousedown('button_press', mouse_event_fn);\n",
       "    rubberband.mouseup('button_release', mouse_event_fn);\n",
       "    // Throttle sequential mouse events to 1 every 20ms.\n",
       "    rubberband.mousemove('motion_notify', mouse_event_fn);\n",
       "\n",
       "    rubberband.mouseenter('figure_enter', mouse_event_fn);\n",
       "    rubberband.mouseleave('figure_leave', mouse_event_fn);\n",
       "\n",
       "    canvas_div.on(\"wheel\", function (event) {\n",
       "        event = event.originalEvent;\n",
       "        event['data'] = 'scroll'\n",
       "        if (event.deltaY < 0) {\n",
       "            event.step = 1;\n",
       "        } else {\n",
       "            event.step = -1;\n",
       "        }\n",
       "        mouse_event_fn(event);\n",
       "    });\n",
       "\n",
       "    canvas_div.append(canvas);\n",
       "    canvas_div.append(rubberband);\n",
       "\n",
       "    this.rubberband = rubberband;\n",
       "    this.rubberband_canvas = rubberband[0];\n",
       "    this.rubberband_context = rubberband[0].getContext(\"2d\");\n",
       "    this.rubberband_context.strokeStyle = \"#000000\";\n",
       "\n",
       "    this._resize_canvas = function(width, height) {\n",
       "        // Keep the size of the canvas, canvas container, and rubber band\n",
       "        // canvas in synch.\n",
       "        canvas_div.css('width', width)\n",
       "        canvas_div.css('height', height)\n",
       "\n",
       "        canvas.attr('width', width);\n",
       "        canvas.attr('height', height);\n",
       "\n",
       "        rubberband.attr('width', width);\n",
       "        rubberband.attr('height', height);\n",
       "    }\n",
       "\n",
       "    // Set the figure to an initial 600x600px, this will subsequently be updated\n",
       "    // upon first draw.\n",
       "    this._resize_canvas(600, 600);\n",
       "\n",
       "    // Disable right mouse context menu.\n",
       "    $(this.rubberband_canvas).bind(\"contextmenu\",function(e){\n",
       "        return false;\n",
       "    });\n",
       "\n",
       "    function set_focus () {\n",
       "        canvas.focus();\n",
       "        canvas_div.focus();\n",
       "    }\n",
       "\n",
       "    window.setTimeout(set_focus, 100);\n",
       "}\n",
       "\n",
       "mpl.figure.prototype._init_toolbar = function() {\n",
       "    var fig = this;\n",
       "\n",
       "    var nav_element = $('<div/>')\n",
       "    nav_element.attr('style', 'width: 100%');\n",
       "    this.root.append(nav_element);\n",
       "\n",
       "    // Define a callback function for later on.\n",
       "    function toolbar_event(event) {\n",
       "        return fig.toolbar_button_onclick(event['data']);\n",
       "    }\n",
       "    function toolbar_mouse_event(event) {\n",
       "        return fig.toolbar_button_onmouseover(event['data']);\n",
       "    }\n",
       "\n",
       "    for(var toolbar_ind in mpl.toolbar_items) {\n",
       "        var name = mpl.toolbar_items[toolbar_ind][0];\n",
       "        var tooltip = mpl.toolbar_items[toolbar_ind][1];\n",
       "        var image = mpl.toolbar_items[toolbar_ind][2];\n",
       "        var method_name = mpl.toolbar_items[toolbar_ind][3];\n",
       "\n",
       "        if (!name) {\n",
       "            // put a spacer in here.\n",
       "            continue;\n",
       "        }\n",
       "        var button = $('<button/>');\n",
       "        button.addClass('ui-button ui-widget ui-state-default ui-corner-all ' +\n",
       "                        'ui-button-icon-only');\n",
       "        button.attr('role', 'button');\n",
       "        button.attr('aria-disabled', 'false');\n",
       "        button.click(method_name, toolbar_event);\n",
       "        button.mouseover(tooltip, toolbar_mouse_event);\n",
       "\n",
       "        var icon_img = $('<span/>');\n",
       "        icon_img.addClass('ui-button-icon-primary ui-icon');\n",
       "        icon_img.addClass(image);\n",
       "        icon_img.addClass('ui-corner-all');\n",
       "\n",
       "        var tooltip_span = $('<span/>');\n",
       "        tooltip_span.addClass('ui-button-text');\n",
       "        tooltip_span.html(tooltip);\n",
       "\n",
       "        button.append(icon_img);\n",
       "        button.append(tooltip_span);\n",
       "\n",
       "        nav_element.append(button);\n",
       "    }\n",
       "\n",
       "    var fmt_picker_span = $('<span/>');\n",
       "\n",
       "    var fmt_picker = $('<select/>');\n",
       "    fmt_picker.addClass('mpl-toolbar-option ui-widget ui-widget-content');\n",
       "    fmt_picker_span.append(fmt_picker);\n",
       "    nav_element.append(fmt_picker_span);\n",
       "    this.format_dropdown = fmt_picker[0];\n",
       "\n",
       "    for (var ind in mpl.extensions) {\n",
       "        var fmt = mpl.extensions[ind];\n",
       "        var option = $(\n",
       "            '<option/>', {selected: fmt === mpl.default_extension}).html(fmt);\n",
       "        fmt_picker.append(option)\n",
       "    }\n",
       "\n",
       "    // Add hover states to the ui-buttons\n",
       "    $( \".ui-button\" ).hover(\n",
       "        function() { $(this).addClass(\"ui-state-hover\");},\n",
       "        function() { $(this).removeClass(\"ui-state-hover\");}\n",
       "    );\n",
       "\n",
       "    var status_bar = $('<span class=\"mpl-message\"/>');\n",
       "    nav_element.append(status_bar);\n",
       "    this.message = status_bar[0];\n",
       "}\n",
       "\n",
       "mpl.figure.prototype.request_resize = function(x_pixels, y_pixels) {\n",
       "    // Request matplotlib to resize the figure. Matplotlib will then trigger a resize in the client,\n",
       "    // which will in turn request a refresh of the image.\n",
       "    this.send_message('resize', {'width': x_pixels, 'height': y_pixels});\n",
       "}\n",
       "\n",
       "mpl.figure.prototype.send_message = function(type, properties) {\n",
       "    properties['type'] = type;\n",
       "    properties['figure_id'] = this.id;\n",
       "    this.ws.send(JSON.stringify(properties));\n",
       "}\n",
       "\n",
       "mpl.figure.prototype.send_draw_message = function() {\n",
       "    if (!this.waiting) {\n",
       "        this.waiting = true;\n",
       "        this.ws.send(JSON.stringify({type: \"draw\", figure_id: this.id}));\n",
       "    }\n",
       "}\n",
       "\n",
       "\n",
       "mpl.figure.prototype.handle_save = function(fig, msg) {\n",
       "    var format_dropdown = fig.format_dropdown;\n",
       "    var format = format_dropdown.options[format_dropdown.selectedIndex].value;\n",
       "    fig.ondownload(fig, format);\n",
       "}\n",
       "\n",
       "\n",
       "mpl.figure.prototype.handle_resize = function(fig, msg) {\n",
       "    var size = msg['size'];\n",
       "    if (size[0] != fig.canvas.width || size[1] != fig.canvas.height) {\n",
       "        fig._resize_canvas(size[0], size[1]);\n",
       "        fig.send_message(\"refresh\", {});\n",
       "    };\n",
       "}\n",
       "\n",
       "mpl.figure.prototype.handle_rubberband = function(fig, msg) {\n",
       "    var x0 = msg['x0'];\n",
       "    var y0 = fig.canvas.height - msg['y0'];\n",
       "    var x1 = msg['x1'];\n",
       "    var y1 = fig.canvas.height - msg['y1'];\n",
       "    x0 = Math.floor(x0) + 0.5;\n",
       "    y0 = Math.floor(y0) + 0.5;\n",
       "    x1 = Math.floor(x1) + 0.5;\n",
       "    y1 = Math.floor(y1) + 0.5;\n",
       "    var min_x = Math.min(x0, x1);\n",
       "    var min_y = Math.min(y0, y1);\n",
       "    var width = Math.abs(x1 - x0);\n",
       "    var height = Math.abs(y1 - y0);\n",
       "\n",
       "    fig.rubberband_context.clearRect(\n",
       "        0, 0, fig.canvas.width, fig.canvas.height);\n",
       "\n",
       "    fig.rubberband_context.strokeRect(min_x, min_y, width, height);\n",
       "}\n",
       "\n",
       "mpl.figure.prototype.handle_figure_label = function(fig, msg) {\n",
       "    // Updates the figure title.\n",
       "    fig.header.textContent = msg['label'];\n",
       "}\n",
       "\n",
       "mpl.figure.prototype.handle_cursor = function(fig, msg) {\n",
       "    var cursor = msg['cursor'];\n",
       "    switch(cursor)\n",
       "    {\n",
       "    case 0:\n",
       "        cursor = 'pointer';\n",
       "        break;\n",
       "    case 1:\n",
       "        cursor = 'default';\n",
       "        break;\n",
       "    case 2:\n",
       "        cursor = 'crosshair';\n",
       "        break;\n",
       "    case 3:\n",
       "        cursor = 'move';\n",
       "        break;\n",
       "    }\n",
       "    fig.rubberband_canvas.style.cursor = cursor;\n",
       "}\n",
       "\n",
       "mpl.figure.prototype.handle_message = function(fig, msg) {\n",
       "    fig.message.textContent = msg['message'];\n",
       "}\n",
       "\n",
       "mpl.figure.prototype.handle_draw = function(fig, msg) {\n",
       "    // Request the server to send over a new figure.\n",
       "    fig.send_draw_message();\n",
       "}\n",
       "\n",
       "mpl.figure.prototype.handle_image_mode = function(fig, msg) {\n",
       "    fig.image_mode = msg['mode'];\n",
       "}\n",
       "\n",
       "mpl.figure.prototype.updated_canvas_event = function() {\n",
       "    // Called whenever the canvas gets updated.\n",
       "    this.send_message(\"ack\", {});\n",
       "}\n",
       "\n",
       "// A function to construct a web socket function for onmessage handling.\n",
       "// Called in the figure constructor.\n",
       "mpl.figure.prototype._make_on_message_function = function(fig) {\n",
       "    return function socket_on_message(evt) {\n",
       "        if (evt.data instanceof Blob) {\n",
       "            /* FIXME: We get \"Resource interpreted as Image but\n",
       "             * transferred with MIME type text/plain:\" errors on\n",
       "             * Chrome.  But how to set the MIME type?  It doesn't seem\n",
       "             * to be part of the websocket stream */\n",
       "            evt.data.type = \"image/png\";\n",
       "\n",
       "            /* Free the memory for the previous frames */\n",
       "            if (fig.imageObj.src) {\n",
       "                (window.URL || window.webkitURL).revokeObjectURL(\n",
       "                    fig.imageObj.src);\n",
       "            }\n",
       "\n",
       "            fig.imageObj.src = (window.URL || window.webkitURL).createObjectURL(\n",
       "                evt.data);\n",
       "            fig.updated_canvas_event();\n",
       "            fig.waiting = false;\n",
       "            return;\n",
       "        }\n",
       "        else if (typeof evt.data === 'string' && evt.data.slice(0, 21) == \"data:image/png;base64\") {\n",
       "            fig.imageObj.src = evt.data;\n",
       "            fig.updated_canvas_event();\n",
       "            fig.waiting = false;\n",
       "            return;\n",
       "        }\n",
       "\n",
       "        var msg = JSON.parse(evt.data);\n",
       "        var msg_type = msg['type'];\n",
       "\n",
       "        // Call the  \"handle_{type}\" callback, which takes\n",
       "        // the figure and JSON message as its only arguments.\n",
       "        try {\n",
       "            var callback = fig[\"handle_\" + msg_type];\n",
       "        } catch (e) {\n",
       "            console.log(\"No handler for the '\" + msg_type + \"' message type: \", msg);\n",
       "            return;\n",
       "        }\n",
       "\n",
       "        if (callback) {\n",
       "            try {\n",
       "                // console.log(\"Handling '\" + msg_type + \"' message: \", msg);\n",
       "                callback(fig, msg);\n",
       "            } catch (e) {\n",
       "                console.log(\"Exception inside the 'handler_\" + msg_type + \"' callback:\", e, e.stack, msg);\n",
       "            }\n",
       "        }\n",
       "    };\n",
       "}\n",
       "\n",
       "// from http://stackoverflow.com/questions/1114465/getting-mouse-location-in-canvas\n",
       "mpl.findpos = function(e) {\n",
       "    //this section is from http://www.quirksmode.org/js/events_properties.html\n",
       "    var targ;\n",
       "    if (!e)\n",
       "        e = window.event;\n",
       "    if (e.target)\n",
       "        targ = e.target;\n",
       "    else if (e.srcElement)\n",
       "        targ = e.srcElement;\n",
       "    if (targ.nodeType == 3) // defeat Safari bug\n",
       "        targ = targ.parentNode;\n",
       "\n",
       "    // jQuery normalizes the pageX and pageY\n",
       "    // pageX,Y are the mouse positions relative to the document\n",
       "    // offset() returns the position of the element relative to the document\n",
       "    var x = e.pageX - $(targ).offset().left;\n",
       "    var y = e.pageY - $(targ).offset().top;\n",
       "\n",
       "    return {\"x\": x, \"y\": y};\n",
       "};\n",
       "\n",
       "/*\n",
       " * return a copy of an object with only non-object keys\n",
       " * we need this to avoid circular references\n",
       " * http://stackoverflow.com/a/24161582/3208463\n",
       " */\n",
       "function simpleKeys (original) {\n",
       "  return Object.keys(original).reduce(function (obj, key) {\n",
       "    if (typeof original[key] !== 'object')\n",
       "        obj[key] = original[key]\n",
       "    return obj;\n",
       "  }, {});\n",
       "}\n",
       "\n",
       "mpl.figure.prototype.mouse_event = function(event, name) {\n",
       "    var canvas_pos = mpl.findpos(event)\n",
       "\n",
       "    if (name === 'button_press')\n",
       "    {\n",
       "        this.canvas.focus();\n",
       "        this.canvas_div.focus();\n",
       "    }\n",
       "\n",
       "    var x = canvas_pos.x;\n",
       "    var y = canvas_pos.y;\n",
       "\n",
       "    this.send_message(name, {x: x, y: y, button: event.button,\n",
       "                             step: event.step,\n",
       "                             guiEvent: simpleKeys(event)});\n",
       "\n",
       "    /* This prevents the web browser from automatically changing to\n",
       "     * the text insertion cursor when the button is pressed.  We want\n",
       "     * to control all of the cursor setting manually through the\n",
       "     * 'cursor' event from matplotlib */\n",
       "    event.preventDefault();\n",
       "    return false;\n",
       "}\n",
       "\n",
       "mpl.figure.prototype._key_event_extra = function(event, name) {\n",
       "    // Handle any extra behaviour associated with a key event\n",
       "}\n",
       "\n",
       "mpl.figure.prototype.key_event = function(event, name) {\n",
       "\n",
       "    // Prevent repeat events\n",
       "    if (name == 'key_press')\n",
       "    {\n",
       "        if (event.which === this._key)\n",
       "            return;\n",
       "        else\n",
       "            this._key = event.which;\n",
       "    }\n",
       "    if (name == 'key_release')\n",
       "        this._key = null;\n",
       "\n",
       "    var value = '';\n",
       "    if (event.ctrlKey && event.which != 17)\n",
       "        value += \"ctrl+\";\n",
       "    if (event.altKey && event.which != 18)\n",
       "        value += \"alt+\";\n",
       "    if (event.shiftKey && event.which != 16)\n",
       "        value += \"shift+\";\n",
       "\n",
       "    value += 'k';\n",
       "    value += event.which.toString();\n",
       "\n",
       "    this._key_event_extra(event, name);\n",
       "\n",
       "    this.send_message(name, {key: value,\n",
       "                             guiEvent: simpleKeys(event)});\n",
       "    return false;\n",
       "}\n",
       "\n",
       "mpl.figure.prototype.toolbar_button_onclick = function(name) {\n",
       "    if (name == 'download') {\n",
       "        this.handle_save(this, null);\n",
       "    } else {\n",
       "        this.send_message(\"toolbar_button\", {name: name});\n",
       "    }\n",
       "};\n",
       "\n",
       "mpl.figure.prototype.toolbar_button_onmouseover = function(tooltip) {\n",
       "    this.message.textContent = tooltip;\n",
       "};\n",
       "mpl.toolbar_items = [[\"Home\", \"Reset original view\", \"fa fa-home icon-home\", \"home\"], [\"Back\", \"Back to  previous view\", \"fa fa-arrow-left icon-arrow-left\", \"back\"], [\"Forward\", \"Forward to next view\", \"fa fa-arrow-right icon-arrow-right\", \"forward\"], [\"\", \"\", \"\", \"\"], [\"Pan\", \"Pan axes with left mouse, zoom with right\", \"fa fa-arrows icon-move\", \"pan\"], [\"Zoom\", \"Zoom to rectangle\", \"fa fa-square-o icon-check-empty\", \"zoom\"], [\"\", \"\", \"\", \"\"], [\"Download\", \"Download plot\", \"fa fa-floppy-o icon-save\", \"download\"]];\n",
       "\n",
       "mpl.extensions = [\"eps\", \"jpeg\", \"pdf\", \"png\", \"ps\", \"raw\", \"svg\", \"tif\"];\n",
       "\n",
       "mpl.default_extension = \"png\";var comm_websocket_adapter = function(comm) {\n",
       "    // Create a \"websocket\"-like object which calls the given IPython comm\n",
       "    // object with the appropriate methods. Currently this is a non binary\n",
       "    // socket, so there is still some room for performance tuning.\n",
       "    var ws = {};\n",
       "\n",
       "    ws.close = function() {\n",
       "        comm.close()\n",
       "    };\n",
       "    ws.send = function(m) {\n",
       "        //console.log('sending', m);\n",
       "        comm.send(m);\n",
       "    };\n",
       "    // Register the callback with on_msg.\n",
       "    comm.on_msg(function(msg) {\n",
       "        //console.log('receiving', msg['content']['data'], msg);\n",
       "        // Pass the mpl event to the overriden (by mpl) onmessage function.\n",
       "        ws.onmessage(msg['content']['data'])\n",
       "    });\n",
       "    return ws;\n",
       "}\n",
       "\n",
       "mpl.mpl_figure_comm = function(comm, msg) {\n",
       "    // This is the function which gets called when the mpl process\n",
       "    // starts-up an IPython Comm through the \"matplotlib\" channel.\n",
       "\n",
       "    var id = msg.content.data.id;\n",
       "    // Get hold of the div created by the display call when the Comm\n",
       "    // socket was opened in Python.\n",
       "    var element = $(\"#\" + id);\n",
       "    var ws_proxy = comm_websocket_adapter(comm)\n",
       "\n",
       "    function ondownload(figure, format) {\n",
       "        window.open(figure.imageObj.src);\n",
       "    }\n",
       "\n",
       "    var fig = new mpl.figure(id, ws_proxy,\n",
       "                           ondownload,\n",
       "                           element.get(0));\n",
       "\n",
       "    // Call onopen now - mpl needs it, as it is assuming we've passed it a real\n",
       "    // web socket which is closed, not our websocket->open comm proxy.\n",
       "    ws_proxy.onopen();\n",
       "\n",
       "    fig.parent_element = element.get(0);\n",
       "    fig.cell_info = mpl.find_output_cell(\"<div id='\" + id + \"'></div>\");\n",
       "    if (!fig.cell_info) {\n",
       "        console.error(\"Failed to find cell for figure\", id, fig);\n",
       "        return;\n",
       "    }\n",
       "\n",
       "    var output_index = fig.cell_info[2]\n",
       "    var cell = fig.cell_info[0];\n",
       "\n",
       "};\n",
       "\n",
       "mpl.figure.prototype.handle_close = function(fig, msg) {\n",
       "    fig.root.unbind('remove')\n",
       "\n",
       "    // Update the output cell to use the data from the current canvas.\n",
       "    fig.push_to_output();\n",
       "    var dataURL = fig.canvas.toDataURL();\n",
       "    // Re-enable the keyboard manager in IPython - without this line, in FF,\n",
       "    // the notebook keyboard shortcuts fail.\n",
       "    IPython.keyboard_manager.enable()\n",
       "    $(fig.parent_element).html('<img src=\"' + dataURL + '\">');\n",
       "    fig.close_ws(fig, msg);\n",
       "}\n",
       "\n",
       "mpl.figure.prototype.close_ws = function(fig, msg){\n",
       "    fig.send_message('closing', msg);\n",
       "    // fig.ws.close()\n",
       "}\n",
       "\n",
       "mpl.figure.prototype.push_to_output = function(remove_interactive) {\n",
       "    // Turn the data on the canvas into data in the output cell.\n",
       "    var dataURL = this.canvas.toDataURL();\n",
       "    this.cell_info[1]['text/html'] = '<img src=\"' + dataURL + '\">';\n",
       "}\n",
       "\n",
       "mpl.figure.prototype.updated_canvas_event = function() {\n",
       "    // Tell IPython that the notebook contents must change.\n",
       "    IPython.notebook.set_dirty(true);\n",
       "    this.send_message(\"ack\", {});\n",
       "    var fig = this;\n",
       "    // Wait a second, then push the new image to the DOM so\n",
       "    // that it is saved nicely (might be nice to debounce this).\n",
       "    setTimeout(function () { fig.push_to_output() }, 1000);\n",
       "}\n",
       "\n",
       "mpl.figure.prototype._init_toolbar = function() {\n",
       "    var fig = this;\n",
       "\n",
       "    var nav_element = $('<div/>')\n",
       "    nav_element.attr('style', 'width: 100%');\n",
       "    this.root.append(nav_element);\n",
       "\n",
       "    // Define a callback function for later on.\n",
       "    function toolbar_event(event) {\n",
       "        return fig.toolbar_button_onclick(event['data']);\n",
       "    }\n",
       "    function toolbar_mouse_event(event) {\n",
       "        return fig.toolbar_button_onmouseover(event['data']);\n",
       "    }\n",
       "\n",
       "    for(var toolbar_ind in mpl.toolbar_items){\n",
       "        var name = mpl.toolbar_items[toolbar_ind][0];\n",
       "        var tooltip = mpl.toolbar_items[toolbar_ind][1];\n",
       "        var image = mpl.toolbar_items[toolbar_ind][2];\n",
       "        var method_name = mpl.toolbar_items[toolbar_ind][3];\n",
       "\n",
       "        if (!name) { continue; };\n",
       "\n",
       "        var button = $('<button class=\"btn btn-default\" href=\"#\" title=\"' + name + '\"><i class=\"fa ' + image + ' fa-lg\"></i></button>');\n",
       "        button.click(method_name, toolbar_event);\n",
       "        button.mouseover(tooltip, toolbar_mouse_event);\n",
       "        nav_element.append(button);\n",
       "    }\n",
       "\n",
       "    // Add the status bar.\n",
       "    var status_bar = $('<span class=\"mpl-message\" style=\"text-align:right; float: right;\"/>');\n",
       "    nav_element.append(status_bar);\n",
       "    this.message = status_bar[0];\n",
       "\n",
       "    // Add the close button to the window.\n",
       "    var buttongrp = $('<div class=\"btn-group inline pull-right\"></div>');\n",
       "    var button = $('<button class=\"btn btn-mini btn-primary\" href=\"#\" title=\"Stop Interaction\"><i class=\"fa fa-power-off icon-remove icon-large\"></i></button>');\n",
       "    button.click(function (evt) { fig.handle_close(fig, {}); } );\n",
       "    button.mouseover('Stop Interaction', toolbar_mouse_event);\n",
       "    buttongrp.append(button);\n",
       "    var titlebar = this.root.find($('.ui-dialog-titlebar'));\n",
       "    titlebar.prepend(buttongrp);\n",
       "}\n",
       "\n",
       "mpl.figure.prototype._root_extra_style = function(el){\n",
       "    var fig = this\n",
       "    el.on(\"remove\", function(){\n",
       "\tfig.close_ws(fig, {});\n",
       "    });\n",
       "}\n",
       "\n",
       "mpl.figure.prototype._canvas_extra_style = function(el){\n",
       "    // this is important to make the div 'focusable\n",
       "    el.attr('tabindex', 0)\n",
       "    // reach out to IPython and tell the keyboard manager to turn it's self\n",
       "    // off when our div gets focus\n",
       "\n",
       "    // location in version 3\n",
       "    if (IPython.notebook.keyboard_manager) {\n",
       "        IPython.notebook.keyboard_manager.register_events(el);\n",
       "    }\n",
       "    else {\n",
       "        // location in version 2\n",
       "        IPython.keyboard_manager.register_events(el);\n",
       "    }\n",
       "\n",
       "}\n",
       "\n",
       "mpl.figure.prototype._key_event_extra = function(event, name) {\n",
       "    var manager = IPython.notebook.keyboard_manager;\n",
       "    if (!manager)\n",
       "        manager = IPython.keyboard_manager;\n",
       "\n",
       "    // Check for shift+enter\n",
       "    if (event.shiftKey && event.which == 13) {\n",
       "        this.canvas_div.blur();\n",
       "        event.shiftKey = false;\n",
       "        // Send a \"J\" for go to next cell\n",
       "        event.which = 74;\n",
       "        event.keyCode = 74;\n",
       "        manager.command_mode();\n",
       "        manager.handle_keydown(event);\n",
       "    }\n",
       "}\n",
       "\n",
       "mpl.figure.prototype.handle_save = function(fig, msg) {\n",
       "    fig.ondownload(fig, null);\n",
       "}\n",
       "\n",
       "\n",
       "mpl.find_output_cell = function(html_output) {\n",
       "    // Return the cell and output element which can be found *uniquely* in the notebook.\n",
       "    // Note - this is a bit hacky, but it is done because the \"notebook_saving.Notebook\"\n",
       "    // IPython event is triggered only after the cells have been serialised, which for\n",
       "    // our purposes (turning an active figure into a static one), is too late.\n",
       "    var cells = IPython.notebook.get_cells();\n",
       "    var ncells = cells.length;\n",
       "    for (var i=0; i<ncells; i++) {\n",
       "        var cell = cells[i];\n",
       "        if (cell.cell_type === 'code'){\n",
       "            for (var j=0; j<cell.output_area.outputs.length; j++) {\n",
       "                var data = cell.output_area.outputs[j];\n",
       "                if (data.data) {\n",
       "                    // IPython >= 3 moved mimebundle to data attribute of output\n",
       "                    data = data.data;\n",
       "                }\n",
       "                if (data['text/html'] == html_output) {\n",
       "                    return [cell, data, j];\n",
       "                }\n",
       "            }\n",
       "        }\n",
       "    }\n",
       "}\n",
       "\n",
       "// Register the function which deals with the matplotlib target/channel.\n",
       "// The kernel may be null if the page has been refreshed.\n",
       "if (IPython.notebook.kernel != null) {\n",
       "    IPython.notebook.kernel.comm_manager.register_target('matplotlib', mpl.mpl_figure_comm);\n",
       "}\n"
      ],
      "text/plain": [
       "<IPython.core.display.Javascript object>"
      ]
     },
     "metadata": {},
     "output_type": "display_data"
    },
    {
     "data": {
      "text/html": [
       "<img src=\"data:image/png;base64,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\">"
      ],
      "text/plain": [
       "<IPython.core.display.HTML object>"
      ]
     },
     "metadata": {},
     "output_type": "display_data"
    }
   ],
   "source": [
    "plot_confusion_matrix(neigh,X_pruef,y_pruef,[0,1,2])"
   ]
  },
  {
   "cell_type": "markdown",
   "metadata": {
    "deletable": true,
    "editable": true,
    "nbpresent": {
     "id": "4c5ca4d8-568c-4193-8b7c-6fcffec6ccec"
    }
   },
   "source": [
    "### Synthese eines Kausalgraphen aus den kausalen Relevanzen"
   ]
  },
  {
   "cell_type": "code",
   "execution_count": 18,
   "metadata": {
    "collapsed": false,
    "deletable": true,
    "editable": true,
    "nbpresent": {
     "id": "e57bd8e3-7c69-4040-80aa-842e50101e35"
    }
   },
   "outputs": [],
   "source": [
    "G_predicted = klassifizierter_Graph(neigh,X_pruef,y_pruef,dfPruef)"
   ]
  },
  {
   "cell_type": "code",
   "execution_count": 19,
   "metadata": {
    "collapsed": true,
    "deletable": true,
    "editable": true,
    "nbpresent": {
     "id": "0b758953-7071-4524-80b3-28b2a7810bcd"
    }
   },
   "outputs": [],
   "source": [
    "G_predicted.draw('G_predicted.png',prog='dot')"
   ]
  },
  {
   "cell_type": "code",
   "execution_count": 20,
   "metadata": {
    "collapsed": false,
    "deletable": true,
    "editable": true,
    "nbpresent": {
     "id": "53c2474f-e9b6-450d-a3c6-6714ed55a9fc"
    }
   },
   "outputs": [
    {
     "data": {
      "text/html": [
       "<iframe src=G_predicted.png width=50% height=400></iframe><iframe src=G_pruef.png width=50% height=400></iframe>"
      ],
      "text/plain": [
       "<IPython.core.display.HTML object>"
      ]
     },
     "execution_count": 20,
     "metadata": {},
     "output_type": "execute_result"
    }
   ],
   "source": [
    "show2images(['G_predicted.png','G_pruef.png'],50)"
   ]
  },
  {
   "cell_type": "markdown",
   "metadata": {
    "deletable": true,
    "editable": true,
    "nbpresent": {
     "id": "e6d96526-c2bf-4e0e-8d25-0c8845265add"
    }
   },
   "source": [
    "### Nachbearbeitung des Graphen\n",
    "\n",
    "Durch grundlegende Überlegungen können wir einige der vorhergesagten Kanten als falsch erkennen und aus dem Graphen entfernen. Dopplungen die sowohl A->B als auch B->A verbinden, entfernen wir nach der Regel, dass wir von niedrigeren zu höheren Knoten verknüpfen."
   ]
  },
  {
   "cell_type": "code",
   "execution_count": 21,
   "metadata": {
    "collapsed": false,
    "deletable": true,
    "editable": true,
    "nbpresent": {
     "id": "8e7fdb7b-235d-4779-bb85-159f66b57ff1"
    }
   },
   "outputs": [
    {
     "name": "stdout",
     "output_type": "stream",
     "text": [
      "Entfernte Kanten: [('13', '10')]\n"
     ]
    }
   ],
   "source": [
    "delDoubles(G_predicted)"
   ]
  },
  {
   "cell_type": "code",
   "execution_count": 22,
   "metadata": {
    "collapsed": false,
    "deletable": true,
    "editable": true,
    "nbpresent": {
     "id": "c9e449ee-322c-4e02-994c-2030ecdb1c25"
    }
   },
   "outputs": [],
   "source": [
    "G_predicted.draw('G_predicted_postproc.png',prog='dot')"
   ]
  },
  {
   "cell_type": "code",
   "execution_count": 23,
   "metadata": {
    "collapsed": false,
    "deletable": true,
    "editable": true,
    "nbpresent": {
     "id": "d7eb64cd-57fe-417f-bf93-460cd26bb88c"
    }
   },
   "outputs": [
    {
     "data": {
      "text/html": [
       "<iframe src=G_predicted_postproc.png width=30% height=400></iframe><iframe src=G_predicted.png width=30% height=400></iframe><iframe src=G_pruef.png width=30% height=400></iframe>"
      ],
      "text/plain": [
       "<IPython.core.display.HTML object>"
      ]
     },
     "execution_count": 23,
     "metadata": {},
     "output_type": "execute_result"
    }
   ],
   "source": [
    "show2images(['G_predicted_postproc.png','G_predicted.png','G_pruef.png'],30)"
   ]
  },
  {
   "cell_type": "markdown",
   "metadata": {
    "deletable": true,
    "editable": true
   },
   "source": [
    "# Agenten-basierte Nachbearbeitung"
   ]
  },
  {
   "cell_type": "markdown",
   "metadata": {
    "deletable": true,
    "editable": true
   },
   "source": [
    "## Datensatz erstellen\n",
    "\n",
    "Die Wahrscheinlichkeiten für einen Übergang zwischen zwei Knoten können mit dem trainierten Klassifizierer vorhergesagt werden. Es gibt drei mögliche Klassen für zwei Knoten A und B: keine Kante (0), A->B (1) oder B->A (2). Der Zusammenhang zwischen dem Index des vorhergesagten Dataframes und den zugehörigen Knoten ist in dem Dataframe \"dfPruef\" verzeichnet (mit erzeugt durch die Funktion `datensatz_erzeugen`). Wir erstellen daraus einen neuen Dataframe mit den Spalten start und ziel. "
   ]
  },
  {
   "cell_type": "code",
   "execution_count": 24,
   "metadata": {
    "collapsed": false,
    "deletable": true,
    "editable": true
   },
   "outputs": [],
   "source": [
    "dfMove = dfPruef[['dia1','dia2']].rename(columns={'dia1':'start','dia2':'ziel'})"
   ]
  },
  {
   "cell_type": "markdown",
   "metadata": {
    "deletable": true,
    "editable": true
   },
   "source": [
    "Die Wahrscheinlichkeiten für \"1\" fügen wir als \"forward\" Spalte zu dem Dataframe hinzu."
   ]
  },
  {
   "cell_type": "code",
   "execution_count": 25,
   "metadata": {
    "collapsed": false,
    "deletable": true,
    "editable": true,
    "scrolled": false
   },
   "outputs": [],
   "source": [
    "dfMove['forward'] = [x[1] for x in neigh.predict_proba(X_pruef)]"
   ]
  },
  {
   "cell_type": "code",
   "execution_count": 26,
   "metadata": {
    "collapsed": false,
    "deletable": true,
    "editable": true
   },
   "outputs": [
    {
     "data": {
      "text/html": [
       "<div>\n",
       "<table border=\"1\" class=\"dataframe\">\n",
       "  <thead>\n",
       "    <tr style=\"text-align: right;\">\n",
       "      <th></th>\n",
       "      <th>start</th>\n",
       "      <th>ziel</th>\n",
       "      <th>forward</th>\n",
       "    </tr>\n",
       "  </thead>\n",
       "  <tbody>\n",
       "    <tr>\n",
       "      <th>0</th>\n",
       "      <td>0</td>\n",
       "      <td>1</td>\n",
       "      <td>0.451481</td>\n",
       "    </tr>\n",
       "    <tr>\n",
       "      <th>1</th>\n",
       "      <td>0</td>\n",
       "      <td>2</td>\n",
       "      <td>0.725193</td>\n",
       "    </tr>\n",
       "    <tr>\n",
       "      <th>2</th>\n",
       "      <td>0</td>\n",
       "      <td>3</td>\n",
       "      <td>0.304584</td>\n",
       "    </tr>\n",
       "    <tr>\n",
       "      <th>3</th>\n",
       "      <td>0</td>\n",
       "      <td>4</td>\n",
       "      <td>0.338710</td>\n",
       "    </tr>\n",
       "    <tr>\n",
       "      <th>4</th>\n",
       "      <td>0</td>\n",
       "      <td>5</td>\n",
       "      <td>0.304584</td>\n",
       "    </tr>\n",
       "  </tbody>\n",
       "</table>\n",
       "</div>"
      ],
      "text/plain": [
       "   start  ziel   forward\n",
       "0      0     1  0.451481\n",
       "1      0     2  0.725193\n",
       "2      0     3  0.304584\n",
       "3      0     4  0.338710\n",
       "4      0     5  0.304584"
      ]
     },
     "execution_count": 26,
     "metadata": {},
     "output_type": "execute_result"
    }
   ],
   "source": [
    "dfMove.head()"
   ]
  },
  {
   "cell_type": "markdown",
   "metadata": {
    "deletable": true,
    "editable": true
   },
   "source": [
    "Für die Bewegung eines Agenten nutzen wir einen mit Bedingungen reduzierten Dataframe. Zum Beispiel alle Start = 2 Zeilen, für welche die \"forward\" Wahrscheinlichkeiten größer 0.1 sind, und deren 'ziel' Spalte nicht in [0,2] ist."
   ]
  },
  {
   "cell_type": "code",
   "execution_count": 27,
   "metadata": {
    "collapsed": false,
    "deletable": true,
    "editable": true
   },
   "outputs": [
    {
     "data": {
      "text/html": [
       "<div>\n",
       "<table border=\"1\" class=\"dataframe\">\n",
       "  <thead>\n",
       "    <tr style=\"text-align: right;\">\n",
       "      <th></th>\n",
       "      <th>start</th>\n",
       "      <th>ziel</th>\n",
       "      <th>forward</th>\n",
       "    </tr>\n",
       "  </thead>\n",
       "  <tbody>\n",
       "    <tr>\n",
       "      <th>30</th>\n",
       "      <td>2</td>\n",
       "      <td>3</td>\n",
       "      <td>0.677824</td>\n",
       "    </tr>\n",
       "    <tr>\n",
       "      <th>31</th>\n",
       "      <td>2</td>\n",
       "      <td>4</td>\n",
       "      <td>0.807205</td>\n",
       "    </tr>\n",
       "    <tr>\n",
       "      <th>32</th>\n",
       "      <td>2</td>\n",
       "      <td>5</td>\n",
       "      <td>0.677824</td>\n",
       "    </tr>\n",
       "    <tr>\n",
       "      <th>35</th>\n",
       "      <td>2</td>\n",
       "      <td>8</td>\n",
       "      <td>0.753079</td>\n",
       "    </tr>\n",
       "    <tr>\n",
       "      <th>39</th>\n",
       "      <td>2</td>\n",
       "      <td>12</td>\n",
       "      <td>0.315092</td>\n",
       "    </tr>\n",
       "  </tbody>\n",
       "</table>\n",
       "</div>"
      ],
      "text/plain": [
       "    start  ziel   forward\n",
       "30      2     3  0.677824\n",
       "31      2     4  0.807205\n",
       "32      2     5  0.677824\n",
       "35      2     8  0.753079\n",
       "39      2    12  0.315092"
      ]
     },
     "execution_count": 27,
     "metadata": {},
     "output_type": "execute_result"
    }
   ],
   "source": [
    "dfMove[(~dfMove.ziel.isin([0,2])) & (dfMove.start == 2) & (dfMove.forward > 0.1)]"
   ]
  },
  {
   "cell_type": "markdown",
   "metadata": {
    "deletable": true,
    "editable": true
   },
   "source": [
    "## Agent\n",
    "\n",
    "Für die Agenten-basierte Modellierung nutzen wir den [mesa Framework](https://github.com/projectmesa/mesa). Agenten werden hier über eine Klasse initialisiert, da je nach Model im Prinzip beliebig viele Agenten parallel ausgeführt werden können und auch miteinander interagieren können. Zur Objekt-orientierten Programmierung siehe zB [Learn Python the Hard Way](https://learnpythonthehardway.org/book/ex40.html).\n",
    "\n",
    "Der Vorteil einer Definition der Agenten über eine Klasse ist, dass daraus beliebig viele, unabhängige Agenten-Objekte erzeugt werden können. Ähnlich wie beim importieren eines Pakets ( import numpy ) erzeugen wir aus der Klasse der Agenten einen spezifischen Agenten ( agent = TreeAgent() ). Dieser hat dann die in der Klasse definierten Funktionen als mögliche Handlungsvorgaben ( agent.move() ). Über die Konstruktion der Klasse TreeAgent(Agent) werden zudem Eigenschaften der zuvor importierten Klasse Agent aus dem mesa Paket an die neue Agenten-Klasse vererbt. So erhält zum Beispiel jeder Agent automatische eine eindeutige Indentifizierung. "
   ]
  },
  {
   "cell_type": "markdown",
   "metadata": {
    "deletable": true,
    "editable": true
   },
   "source": [
    "Der Agent braucht in der Initialisierung drei Informationen: Die eigene Position (self.pos), welche Knoten schon besucht wurden (self.nodes) und was der vorherige Knoten war (self.origin). \n",
    "Für den mesa framework muss der Agent eine Funktion step besitzen. Da wir den Kopierbaum ablaufen wollen, definieren wir zudem die Funktion move. \n",
    "\n",
    "Für die Bewegung wird aus der Schnittmenge der Liste der möglichen Knoten und der Liste der wahrscheinlichen Knoten ein Ziel zufällig ausgewählt. Ist die Liste der möglichen Knoten leer, wird der Agent auf die Ausgangsposition zurück gesetzt. Der Prozess beginnt wieder von vorn, bis alle Knoten besucht wurden. "
   ]
  },
  {
   "cell_type": "code",
   "execution_count": 28,
   "metadata": {
    "collapsed": false,
    "deletable": true,
    "editable": true
   },
   "outputs": [],
   "source": [
    "class TreeAgent(Agent):\n",
    "    \"\"\"An agent with fixed initial start position.\"\"\"\n",
    "    def __init__(self, unique_id, model):\n",
    "        super().__init__(unique_id, model)\n",
    "        self.pos = 0     # Position\n",
    "        self.nodes = []  # Besuchte Knoten\n",
    "        self.origin = 0  # Vorheriger Knoten\n",
    "        \n",
    "    def step(self):\n",
    "        self.move()\n",
    "    \n",
    "    def move(self):\n",
    "        # Bei jedem Schritt wird eine zufällige Schwell-Wahrscheinlichkeit gesetzt.\n",
    "        rd = random()\n",
    "        # Die Menge aller möglichen Ziel-Knoten, sind solche die noch nicht besucht wurden und deren Übergangswahrscheinlichkeit größer als rd ist.\n",
    "        possible_nodes = dfMove[(~dfMove.ziel.isin(self.nodes)) & (dfMove.start == self.pos) & (dfMove.forward > rd)]\n",
    "        # Mit einem Schritt wird der Wert self.origin auf die aktuelle Postion gesetzt.\n",
    "        self.origin = self.pos\n",
    "        # Wenn es mögliche Schritte gibt:\n",
    "        if possible_nodes.shape[0] > 0:\n",
    "            # wird zufällig ein bestimmter Schritt ausgewählt,\n",
    "            new_position = choice(list(possible_nodes.ziel.values))\n",
    "            # in die Liste der besuchten Knoten geschrieben,\n",
    "            self.nodes.append(new_position)\n",
    "            # und als aktuelle Position gesetzt.\n",
    "            self.pos = new_position\n",
    "        # Gibt es keine möglichen Schritte mehr, wird die Position auf 0 gesetzt\n",
    "        else:\n",
    "            self.pos = 0\n",
    "            self.nodes = []"
   ]
  },
  {
   "cell_type": "markdown",
   "metadata": {
    "deletable": true,
    "editable": true
   },
   "source": [
    "## Modell\n",
    "Auch das Modell, welches das Verhalten der Agenten steuert, ist als Klasse definiert. Zur Initialisierung werden nur die Anzahl der Agenten als Parameter übergeben. Für diese Anzahl werden in einer Schleife Agenten-Objekte erzeugt und in die Liste der auszuführenden Prozesse (Scheduler) eingetragen.\n",
    "\n",
    "Durch das vererben der Model Klasse aus dem mesa Paket gitb es vordefinierte Routinen für das Sammeln von Daten der Agenten. Uns interessiert die Postion der Agenten in jedem einzelnen Schritt. Diese erhalten wir über ```self.datacollector = ...```\n",
    "\n",
    "Auch die Modell-Klasse hat eine step Funktion. Hier wird zum einen der Datensatz an den Collector geschickt und zum anderen der nächste Schritt des Schedulers initialisiert. "
   ]
  },
  {
   "cell_type": "code",
   "execution_count": 29,
   "metadata": {
    "collapsed": false,
    "deletable": true,
    "editable": true
   },
   "outputs": [],
   "source": [
    "class TreeModel(Model):\n",
    "    \"\"\"A model with some number of agents.\"\"\"\n",
    "    def __init__(self, N):\n",
    "        self.num_agents = N\n",
    "        self.schedule = RandomActivation(self)\n",
    "        self.running = True\n",
    "        \n",
    "        # Erzeuge Agenten-Objekte und setze diese auf den Scheduler\n",
    "        for i in range(self.num_agents):\n",
    "            a = TreeAgent(i, self)\n",
    "            self.schedule.add(a)\n",
    "        \n",
    "        # Die Position jedes Agenten soll in jedem Schritt aufgezeichnet werden \n",
    "        # Um später einen Graphen erzeugen zu können, lassen wir ein Tupel aus vorheriger und aktueller Position aufzeichnen.\n",
    "        self.datacollector = DataCollector(\n",
    "            agent_reporters={'Position': lambda a: (a.origin,a.pos)})\n",
    "            \n",
    "    # Sammle Daten und gehe den nächsten Schritt im Scheduler\n",
    "    def step(self):\n",
    "        self.datacollector.collect(self)\n",
    "        self.schedule.step()"
   ]
  },
  {
   "cell_type": "markdown",
   "metadata": {
    "deletable": true,
    "editable": true
   },
   "source": [
    "## Ausführen der Agenten-Modellierung\n",
    "\n",
    "Da der Agent während der Simulation auf den Ursprung zurück gesetzt werden kann, initialisieren wir das Model mit nur einem Agenten."
   ]
  },
  {
   "cell_type": "code",
   "execution_count": 30,
   "metadata": {
    "collapsed": true,
    "deletable": true,
    "editable": true
   },
   "outputs": [],
   "source": [
    "# Anzahl der Agenten\n",
    "NAgents = 100\n",
    "# Anzahl der auszuführenden Schritte\n",
    "NSteps = 30"
   ]
  },
  {
   "cell_type": "code",
   "execution_count": 31,
   "metadata": {
    "collapsed": false,
    "deletable": true,
    "editable": true
   },
   "outputs": [],
   "source": [
    "model = TreeModel(NAgents)"
   ]
  },
  {
   "cell_type": "markdown",
   "metadata": {
    "deletable": true,
    "editable": true
   },
   "source": [
    "Nun führen wir die Schritte aus."
   ]
  },
  {
   "cell_type": "code",
   "execution_count": 32,
   "metadata": {
    "collapsed": false,
    "deletable": true,
    "editable": true
   },
   "outputs": [],
   "source": [
    "for i in range(NSteps):\n",
    "    model.step()"
   ]
  },
  {
   "cell_type": "markdown",
   "metadata": {
    "deletable": true,
    "editable": true
   },
   "source": [
    "Das mesa Paket erlaubt es uns, die Daten des Agenten direkt als Dataframe auszulesen."
   ]
  },
  {
   "cell_type": "code",
   "execution_count": 33,
   "metadata": {
    "collapsed": false,
    "deletable": true,
    "editable": true,
    "scrolled": false
   },
   "outputs": [
    {
     "data": {
      "text/html": [
       "<div>\n",
       "<table border=\"1\" class=\"dataframe\">\n",
       "  <thead>\n",
       "    <tr style=\"text-align: right;\">\n",
       "      <th></th>\n",
       "      <th></th>\n",
       "      <th>Position</th>\n",
       "    </tr>\n",
       "    <tr>\n",
       "      <th>Step</th>\n",
       "      <th>AgentID</th>\n",
       "      <th></th>\n",
       "    </tr>\n",
       "  </thead>\n",
       "  <tbody>\n",
       "    <tr>\n",
       "      <th rowspan=\"5\" valign=\"top\">0</th>\n",
       "      <th>0</th>\n",
       "      <td>(0, 0)</td>\n",
       "    </tr>\n",
       "    <tr>\n",
       "      <th>1</th>\n",
       "      <td>(0, 0)</td>\n",
       "    </tr>\n",
       "    <tr>\n",
       "      <th>2</th>\n",
       "      <td>(0, 0)</td>\n",
       "    </tr>\n",
       "    <tr>\n",
       "      <th>3</th>\n",
       "      <td>(0, 0)</td>\n",
       "    </tr>\n",
       "    <tr>\n",
       "      <th>4</th>\n",
       "      <td>(0, 0)</td>\n",
       "    </tr>\n",
       "  </tbody>\n",
       "</table>\n",
       "</div>"
      ],
      "text/plain": [
       "             Position\n",
       "Step AgentID         \n",
       "0    0         (0, 0)\n",
       "     1         (0, 0)\n",
       "     2         (0, 0)\n",
       "     3         (0, 0)\n",
       "     4         (0, 0)"
      ]
     },
     "execution_count": 33,
     "metadata": {},
     "output_type": "execute_result"
    }
   ],
   "source": [
    "agent_pos = model.datacollector.get_agent_vars_dataframe()\n",
    "agent_pos.head()"
   ]
  },
  {
   "cell_type": "markdown",
   "metadata": {
    "deletable": true,
    "editable": true
   },
   "source": [
    "Da der Agent während eines Laufs wiederholt auf die Ursprungsposition zurück gesetzt wird, müssen wir solche Kanten entfernen, die an der zweiten Stelle eine 0 haben. "
   ]
  },
  {
   "cell_type": "code",
   "execution_count": 34,
   "metadata": {
    "collapsed": false,
    "deletable": true,
    "editable": true
   },
   "outputs": [],
   "source": [
    "posList = [x for x in agent_pos.Position.values if x[1] != 0]"
   ]
  },
  {
   "cell_type": "markdown",
   "metadata": {
    "deletable": true,
    "editable": true
   },
   "source": [
    "Wir zählen nun die Häufigkeit der einzelnen Knoten, um so ein Gewicht zu vergeben."
   ]
  },
  {
   "cell_type": "code",
   "execution_count": 35,
   "metadata": {
    "collapsed": false,
    "deletable": true,
    "editable": true
   },
   "outputs": [],
   "source": [
    "edges = Counter(posList)"
   ]
  },
  {
   "cell_type": "code",
   "execution_count": 36,
   "metadata": {
    "collapsed": false,
    "deletable": true,
    "editable": true
   },
   "outputs": [
    {
     "name": "stdout",
     "output_type": "stream",
     "text": [
      "Maximal counts:  1400 ; Mean: 129.89743589743588 ; Mean minus std/4\": 72.737690254\n"
     ]
    }
   ],
   "source": [
    "print('Maximal counts: ', maxCounts(edges), '; Mean:', meanCounts(edges), '; Mean minus std/4\":',meanDeviation(edges))"
   ]
  },
  {
   "cell_type": "markdown",
   "metadata": {
    "deletable": true,
    "editable": true
   },
   "source": [
    "Mit dem networkx Paket erzeugen wir einen gerichteten Graphen und fügen die vom Agenten gesammelten Kanten hinzu."
   ]
  },
  {
   "cell_type": "code",
   "execution_count": 37,
   "metadata": {
    "collapsed": true,
    "deletable": true,
    "editable": true
   },
   "outputs": [],
   "source": [
    "labels = {i:i for i in range(0,15)}\n",
    "\n",
    "graph = nx.DiGraph()"
   ]
  },
  {
   "cell_type": "code",
   "execution_count": 38,
   "metadata": {
    "collapsed": false,
    "deletable": true,
    "editable": true
   },
   "outputs": [],
   "source": [
    "edge_weight = [(x[0],x[1],y) for x,y in edges.items()]"
   ]
  },
  {
   "cell_type": "code",
   "execution_count": 39,
   "metadata": {
    "collapsed": false,
    "deletable": true,
    "editable": true
   },
   "outputs": [],
   "source": [
    "edge_high = [graph.add_edge(x,y,weight=z) for x,y,z in edge_weight]"
   ]
  },
  {
   "cell_type": "markdown",
   "metadata": {
    "deletable": true,
    "editable": true
   },
   "source": [
    "Wir entfernen nun solche Kanten, die auf einen bereits belegten Knoten verweisen. Dafür überprüfen wir graph.in_degree(Knoten). Ist dieses größer als 1 schreiben wir die zugehörigen Kanten in eine Liste. "
   ]
  },
  {
   "cell_type": "code",
   "execution_count": 40,
   "metadata": {
    "collapsed": false,
    "deletable": true,
    "editable": true
   },
   "outputs": [],
   "source": [
    "listed = [ed for ed in graph.edges(data=True) if graph.in_degree(ed[1]) > 1]\n",
    "listZiele = set([x[1] for x in listed])\n",
    "\n",
    "kanten = []\n",
    "for i in listZiele:\n",
    "    iList = [x for x in listed if x[1] == i]\n",
    "    kanten.append(iList)"
   ]
  },
  {
   "cell_type": "code",
   "execution_count": 41,
   "metadata": {
    "collapsed": false,
    "deletable": true,
    "editable": true
   },
   "outputs": [
    {
     "data": {
      "text/plain": [
       "[[(0, 2, {'weight': 1400}), (8, 2, {'weight': 70})],\n",
       " [(0, 3, {'weight': 197}),\n",
       "  (1, 3, {'weight': 48}),\n",
       "  (2, 3, {'weight': 204}),\n",
       "  (4, 3, {'weight': 21}),\n",
       "  (5, 3, {'weight': 60}),\n",
       "  (8, 3, {'weight': 14})]]"
      ]
     },
     "execution_count": 41,
     "metadata": {},
     "output_type": "execute_result"
    }
   ],
   "source": [
    "kanten[:2]"
   ]
  },
  {
   "cell_type": "markdown",
   "metadata": {
    "deletable": true,
    "editable": true
   },
   "source": [
    "Aus der Liste der möglichen Kanten wählen wir die mit dem größten Gewicht. Dafür sortieren wir die Listen nach dem Gewicht und entfernen das letzte, größte Element. "
   ]
  },
  {
   "cell_type": "code",
   "execution_count": 42,
   "metadata": {
    "collapsed": false,
    "deletable": true,
    "editable": true
   },
   "outputs": [
    {
     "data": {
      "text/plain": [
       "[(8, 2, {'weight': 70}),\n",
       " (8, 3, {'weight': 14}),\n",
       " (4, 3, {'weight': 21}),\n",
       " (1, 3, {'weight': 48}),\n",
       " (5, 3, {'weight': 60}),\n",
       " (0, 3, {'weight': 197}),\n",
       " (8, 4, {'weight': 20}),\n",
       " (5, 4, {'weight': 79}),\n",
       " (0, 4, {'weight': 195}),\n",
       " (8, 5, {'weight': 21})]"
      ]
     },
     "execution_count": 42,
     "metadata": {},
     "output_type": "execute_result"
    }
   ],
   "source": [
    "toRemove = [sorted(x,key=lambda r: r[2]['weight'])[:-1] for x in kanten]\n",
    "edges2remove = [x for y in toRemove for x in y]\n",
    "edges2remove[:10]"
   ]
  },
  {
   "cell_type": "markdown",
   "metadata": {
    "deletable": true,
    "editable": true
   },
   "source": [
    "Die übrigen Kanten entfernen wir aus dem Graphen."
   ]
  },
  {
   "cell_type": "code",
   "execution_count": 43,
   "metadata": {
    "collapsed": true,
    "deletable": true,
    "editable": true
   },
   "outputs": [],
   "source": [
    "graph.remove_edges_from(edges2remove)"
   ]
  },
  {
   "cell_type": "markdown",
   "metadata": {
    "deletable": true,
    "editable": true
   },
   "source": [
    "Das Layout wir über das graphviz Programm 'dot' erzeugt."
   ]
  },
  {
   "cell_type": "code",
   "execution_count": 44,
   "metadata": {
    "collapsed": false,
    "deletable": true,
    "editable": true
   },
   "outputs": [],
   "source": [
    "pos=nx.drawing.nx_agraph.graphviz_layout(graph,prog='dot')"
   ]
  },
  {
   "cell_type": "markdown",
   "metadata": {
    "deletable": true,
    "editable": true
   },
   "source": [
    "Nun zeichnen wir den Graphen. Die Dicke der Verbindungen spiegelt das Gewicht der Verbindung wieder."
   ]
  },
  {
   "cell_type": "code",
   "execution_count": 45,
   "metadata": {
    "collapsed": false,
    "deletable": true,
    "editable": true,
    "scrolled": true
   },
   "outputs": [
    {
     "data": {
      "application/javascript": [
       "/* Put everything inside the global mpl namespace */\n",
       "window.mpl = {};\n",
       "\n",
       "mpl.get_websocket_type = function() {\n",
       "    if (typeof(WebSocket) !== 'undefined') {\n",
       "        return WebSocket;\n",
       "    } else if (typeof(MozWebSocket) !== 'undefined') {\n",
       "        return MozWebSocket;\n",
       "    } else {\n",
       "        alert('Your browser does not have WebSocket support.' +\n",
       "              'Please try Chrome, Safari or Firefox ≥ 6. ' +\n",
       "              'Firefox 4 and 5 are also supported but you ' +\n",
       "              'have to enable WebSockets in about:config.');\n",
       "    };\n",
       "}\n",
       "\n",
       "mpl.figure = function(figure_id, websocket, ondownload, parent_element) {\n",
       "    this.id = figure_id;\n",
       "\n",
       "    this.ws = websocket;\n",
       "\n",
       "    this.supports_binary = (this.ws.binaryType != undefined);\n",
       "\n",
       "    if (!this.supports_binary) {\n",
       "        var warnings = document.getElementById(\"mpl-warnings\");\n",
       "        if (warnings) {\n",
       "            warnings.style.display = 'block';\n",
       "            warnings.textContent = (\n",
       "                \"This browser does not support binary websocket messages. \" +\n",
       "                    \"Performance may be slow.\");\n",
       "        }\n",
       "    }\n",
       "\n",
       "    this.imageObj = new Image();\n",
       "\n",
       "    this.context = undefined;\n",
       "    this.message = undefined;\n",
       "    this.canvas = undefined;\n",
       "    this.rubberband_canvas = undefined;\n",
       "    this.rubberband_context = undefined;\n",
       "    this.format_dropdown = undefined;\n",
       "\n",
       "    this.image_mode = 'full';\n",
       "\n",
       "    this.root = $('<div/>');\n",
       "    this._root_extra_style(this.root)\n",
       "    this.root.attr('style', 'display: inline-block');\n",
       "\n",
       "    $(parent_element).append(this.root);\n",
       "\n",
       "    this._init_header(this);\n",
       "    this._init_canvas(this);\n",
       "    this._init_toolbar(this);\n",
       "\n",
       "    var fig = this;\n",
       "\n",
       "    this.waiting = false;\n",
       "\n",
       "    this.ws.onopen =  function () {\n",
       "            fig.send_message(\"supports_binary\", {value: fig.supports_binary});\n",
       "            fig.send_message(\"send_image_mode\", {});\n",
       "            fig.send_message(\"refresh\", {});\n",
       "        }\n",
       "\n",
       "    this.imageObj.onload = function() {\n",
       "            if (fig.image_mode == 'full') {\n",
       "                // Full images could contain transparency (where diff images\n",
       "                // almost always do), so we need to clear the canvas so that\n",
       "                // there is no ghosting.\n",
       "                fig.context.clearRect(0, 0, fig.canvas.width, fig.canvas.height);\n",
       "            }\n",
       "            fig.context.drawImage(fig.imageObj, 0, 0);\n",
       "        };\n",
       "\n",
       "    this.imageObj.onunload = function() {\n",
       "        this.ws.close();\n",
       "    }\n",
       "\n",
       "    this.ws.onmessage = this._make_on_message_function(this);\n",
       "\n",
       "    this.ondownload = ondownload;\n",
       "}\n",
       "\n",
       "mpl.figure.prototype._init_header = function() {\n",
       "    var titlebar = $(\n",
       "        '<div class=\"ui-dialog-titlebar ui-widget-header ui-corner-all ' +\n",
       "        'ui-helper-clearfix\"/>');\n",
       "    var titletext = $(\n",
       "        '<div class=\"ui-dialog-title\" style=\"width: 100%; ' +\n",
       "        'text-align: center; padding: 3px;\"/>');\n",
       "    titlebar.append(titletext)\n",
       "    this.root.append(titlebar);\n",
       "    this.header = titletext[0];\n",
       "}\n",
       "\n",
       "\n",
       "\n",
       "mpl.figure.prototype._canvas_extra_style = function(canvas_div) {\n",
       "\n",
       "}\n",
       "\n",
       "\n",
       "mpl.figure.prototype._root_extra_style = function(canvas_div) {\n",
       "\n",
       "}\n",
       "\n",
       "mpl.figure.prototype._init_canvas = function() {\n",
       "    var fig = this;\n",
       "\n",
       "    var canvas_div = $('<div/>');\n",
       "\n",
       "    canvas_div.attr('style', 'position: relative; clear: both; outline: 0');\n",
       "\n",
       "    function canvas_keyboard_event(event) {\n",
       "        return fig.key_event(event, event['data']);\n",
       "    }\n",
       "\n",
       "    canvas_div.keydown('key_press', canvas_keyboard_event);\n",
       "    canvas_div.keyup('key_release', canvas_keyboard_event);\n",
       "    this.canvas_div = canvas_div\n",
       "    this._canvas_extra_style(canvas_div)\n",
       "    this.root.append(canvas_div);\n",
       "\n",
       "    var canvas = $('<canvas/>');\n",
       "    canvas.addClass('mpl-canvas');\n",
       "    canvas.attr('style', \"left: 0; top: 0; z-index: 0; outline: 0\")\n",
       "\n",
       "    this.canvas = canvas[0];\n",
       "    this.context = canvas[0].getContext(\"2d\");\n",
       "\n",
       "    var rubberband = $('<canvas/>');\n",
       "    rubberband.attr('style', \"position: absolute; left: 0; top: 0; z-index: 1;\")\n",
       "\n",
       "    var pass_mouse_events = true;\n",
       "\n",
       "    canvas_div.resizable({\n",
       "        start: function(event, ui) {\n",
       "            pass_mouse_events = false;\n",
       "        },\n",
       "        resize: function(event, ui) {\n",
       "            fig.request_resize(ui.size.width, ui.size.height);\n",
       "        },\n",
       "        stop: function(event, ui) {\n",
       "            pass_mouse_events = true;\n",
       "            fig.request_resize(ui.size.width, ui.size.height);\n",
       "        },\n",
       "    });\n",
       "\n",
       "    function mouse_event_fn(event) {\n",
       "        if (pass_mouse_events)\n",
       "            return fig.mouse_event(event, event['data']);\n",
       "    }\n",
       "\n",
       "    rubberband.mousedown('button_press', mouse_event_fn);\n",
       "    rubberband.mouseup('button_release', mouse_event_fn);\n",
       "    // Throttle sequential mouse events to 1 every 20ms.\n",
       "    rubberband.mousemove('motion_notify', mouse_event_fn);\n",
       "\n",
       "    rubberband.mouseenter('figure_enter', mouse_event_fn);\n",
       "    rubberband.mouseleave('figure_leave', mouse_event_fn);\n",
       "\n",
       "    canvas_div.on(\"wheel\", function (event) {\n",
       "        event = event.originalEvent;\n",
       "        event['data'] = 'scroll'\n",
       "        if (event.deltaY < 0) {\n",
       "            event.step = 1;\n",
       "        } else {\n",
       "            event.step = -1;\n",
       "        }\n",
       "        mouse_event_fn(event);\n",
       "    });\n",
       "\n",
       "    canvas_div.append(canvas);\n",
       "    canvas_div.append(rubberband);\n",
       "\n",
       "    this.rubberband = rubberband;\n",
       "    this.rubberband_canvas = rubberband[0];\n",
       "    this.rubberband_context = rubberband[0].getContext(\"2d\");\n",
       "    this.rubberband_context.strokeStyle = \"#000000\";\n",
       "\n",
       "    this._resize_canvas = function(width, height) {\n",
       "        // Keep the size of the canvas, canvas container, and rubber band\n",
       "        // canvas in synch.\n",
       "        canvas_div.css('width', width)\n",
       "        canvas_div.css('height', height)\n",
       "\n",
       "        canvas.attr('width', width);\n",
       "        canvas.attr('height', height);\n",
       "\n",
       "        rubberband.attr('width', width);\n",
       "        rubberband.attr('height', height);\n",
       "    }\n",
       "\n",
       "    // Set the figure to an initial 600x600px, this will subsequently be updated\n",
       "    // upon first draw.\n",
       "    this._resize_canvas(600, 600);\n",
       "\n",
       "    // Disable right mouse context menu.\n",
       "    $(this.rubberband_canvas).bind(\"contextmenu\",function(e){\n",
       "        return false;\n",
       "    });\n",
       "\n",
       "    function set_focus () {\n",
       "        canvas.focus();\n",
       "        canvas_div.focus();\n",
       "    }\n",
       "\n",
       "    window.setTimeout(set_focus, 100);\n",
       "}\n",
       "\n",
       "mpl.figure.prototype._init_toolbar = function() {\n",
       "    var fig = this;\n",
       "\n",
       "    var nav_element = $('<div/>')\n",
       "    nav_element.attr('style', 'width: 100%');\n",
       "    this.root.append(nav_element);\n",
       "\n",
       "    // Define a callback function for later on.\n",
       "    function toolbar_event(event) {\n",
       "        return fig.toolbar_button_onclick(event['data']);\n",
       "    }\n",
       "    function toolbar_mouse_event(event) {\n",
       "        return fig.toolbar_button_onmouseover(event['data']);\n",
       "    }\n",
       "\n",
       "    for(var toolbar_ind in mpl.toolbar_items) {\n",
       "        var name = mpl.toolbar_items[toolbar_ind][0];\n",
       "        var tooltip = mpl.toolbar_items[toolbar_ind][1];\n",
       "        var image = mpl.toolbar_items[toolbar_ind][2];\n",
       "        var method_name = mpl.toolbar_items[toolbar_ind][3];\n",
       "\n",
       "        if (!name) {\n",
       "            // put a spacer in here.\n",
       "            continue;\n",
       "        }\n",
       "        var button = $('<button/>');\n",
       "        button.addClass('ui-button ui-widget ui-state-default ui-corner-all ' +\n",
       "                        'ui-button-icon-only');\n",
       "        button.attr('role', 'button');\n",
       "        button.attr('aria-disabled', 'false');\n",
       "        button.click(method_name, toolbar_event);\n",
       "        button.mouseover(tooltip, toolbar_mouse_event);\n",
       "\n",
       "        var icon_img = $('<span/>');\n",
       "        icon_img.addClass('ui-button-icon-primary ui-icon');\n",
       "        icon_img.addClass(image);\n",
       "        icon_img.addClass('ui-corner-all');\n",
       "\n",
       "        var tooltip_span = $('<span/>');\n",
       "        tooltip_span.addClass('ui-button-text');\n",
       "        tooltip_span.html(tooltip);\n",
       "\n",
       "        button.append(icon_img);\n",
       "        button.append(tooltip_span);\n",
       "\n",
       "        nav_element.append(button);\n",
       "    }\n",
       "\n",
       "    var fmt_picker_span = $('<span/>');\n",
       "\n",
       "    var fmt_picker = $('<select/>');\n",
       "    fmt_picker.addClass('mpl-toolbar-option ui-widget ui-widget-content');\n",
       "    fmt_picker_span.append(fmt_picker);\n",
       "    nav_element.append(fmt_picker_span);\n",
       "    this.format_dropdown = fmt_picker[0];\n",
       "\n",
       "    for (var ind in mpl.extensions) {\n",
       "        var fmt = mpl.extensions[ind];\n",
       "        var option = $(\n",
       "            '<option/>', {selected: fmt === mpl.default_extension}).html(fmt);\n",
       "        fmt_picker.append(option)\n",
       "    }\n",
       "\n",
       "    // Add hover states to the ui-buttons\n",
       "    $( \".ui-button\" ).hover(\n",
       "        function() { $(this).addClass(\"ui-state-hover\");},\n",
       "        function() { $(this).removeClass(\"ui-state-hover\");}\n",
       "    );\n",
       "\n",
       "    var status_bar = $('<span class=\"mpl-message\"/>');\n",
       "    nav_element.append(status_bar);\n",
       "    this.message = status_bar[0];\n",
       "}\n",
       "\n",
       "mpl.figure.prototype.request_resize = function(x_pixels, y_pixels) {\n",
       "    // Request matplotlib to resize the figure. Matplotlib will then trigger a resize in the client,\n",
       "    // which will in turn request a refresh of the image.\n",
       "    this.send_message('resize', {'width': x_pixels, 'height': y_pixels});\n",
       "}\n",
       "\n",
       "mpl.figure.prototype.send_message = function(type, properties) {\n",
       "    properties['type'] = type;\n",
       "    properties['figure_id'] = this.id;\n",
       "    this.ws.send(JSON.stringify(properties));\n",
       "}\n",
       "\n",
       "mpl.figure.prototype.send_draw_message = function() {\n",
       "    if (!this.waiting) {\n",
       "        this.waiting = true;\n",
       "        this.ws.send(JSON.stringify({type: \"draw\", figure_id: this.id}));\n",
       "    }\n",
       "}\n",
       "\n",
       "\n",
       "mpl.figure.prototype.handle_save = function(fig, msg) {\n",
       "    var format_dropdown = fig.format_dropdown;\n",
       "    var format = format_dropdown.options[format_dropdown.selectedIndex].value;\n",
       "    fig.ondownload(fig, format);\n",
       "}\n",
       "\n",
       "\n",
       "mpl.figure.prototype.handle_resize = function(fig, msg) {\n",
       "    var size = msg['size'];\n",
       "    if (size[0] != fig.canvas.width || size[1] != fig.canvas.height) {\n",
       "        fig._resize_canvas(size[0], size[1]);\n",
       "        fig.send_message(\"refresh\", {});\n",
       "    };\n",
       "}\n",
       "\n",
       "mpl.figure.prototype.handle_rubberband = function(fig, msg) {\n",
       "    var x0 = msg['x0'];\n",
       "    var y0 = fig.canvas.height - msg['y0'];\n",
       "    var x1 = msg['x1'];\n",
       "    var y1 = fig.canvas.height - msg['y1'];\n",
       "    x0 = Math.floor(x0) + 0.5;\n",
       "    y0 = Math.floor(y0) + 0.5;\n",
       "    x1 = Math.floor(x1) + 0.5;\n",
       "    y1 = Math.floor(y1) + 0.5;\n",
       "    var min_x = Math.min(x0, x1);\n",
       "    var min_y = Math.min(y0, y1);\n",
       "    var width = Math.abs(x1 - x0);\n",
       "    var height = Math.abs(y1 - y0);\n",
       "\n",
       "    fig.rubberband_context.clearRect(\n",
       "        0, 0, fig.canvas.width, fig.canvas.height);\n",
       "\n",
       "    fig.rubberband_context.strokeRect(min_x, min_y, width, height);\n",
       "}\n",
       "\n",
       "mpl.figure.prototype.handle_figure_label = function(fig, msg) {\n",
       "    // Updates the figure title.\n",
       "    fig.header.textContent = msg['label'];\n",
       "}\n",
       "\n",
       "mpl.figure.prototype.handle_cursor = function(fig, msg) {\n",
       "    var cursor = msg['cursor'];\n",
       "    switch(cursor)\n",
       "    {\n",
       "    case 0:\n",
       "        cursor = 'pointer';\n",
       "        break;\n",
       "    case 1:\n",
       "        cursor = 'default';\n",
       "        break;\n",
       "    case 2:\n",
       "        cursor = 'crosshair';\n",
       "        break;\n",
       "    case 3:\n",
       "        cursor = 'move';\n",
       "        break;\n",
       "    }\n",
       "    fig.rubberband_canvas.style.cursor = cursor;\n",
       "}\n",
       "\n",
       "mpl.figure.prototype.handle_message = function(fig, msg) {\n",
       "    fig.message.textContent = msg['message'];\n",
       "}\n",
       "\n",
       "mpl.figure.prototype.handle_draw = function(fig, msg) {\n",
       "    // Request the server to send over a new figure.\n",
       "    fig.send_draw_message();\n",
       "}\n",
       "\n",
       "mpl.figure.prototype.handle_image_mode = function(fig, msg) {\n",
       "    fig.image_mode = msg['mode'];\n",
       "}\n",
       "\n",
       "mpl.figure.prototype.updated_canvas_event = function() {\n",
       "    // Called whenever the canvas gets updated.\n",
       "    this.send_message(\"ack\", {});\n",
       "}\n",
       "\n",
       "// A function to construct a web socket function for onmessage handling.\n",
       "// Called in the figure constructor.\n",
       "mpl.figure.prototype._make_on_message_function = function(fig) {\n",
       "    return function socket_on_message(evt) {\n",
       "        if (evt.data instanceof Blob) {\n",
       "            /* FIXME: We get \"Resource interpreted as Image but\n",
       "             * transferred with MIME type text/plain:\" errors on\n",
       "             * Chrome.  But how to set the MIME type?  It doesn't seem\n",
       "             * to be part of the websocket stream */\n",
       "            evt.data.type = \"image/png\";\n",
       "\n",
       "            /* Free the memory for the previous frames */\n",
       "            if (fig.imageObj.src) {\n",
       "                (window.URL || window.webkitURL).revokeObjectURL(\n",
       "                    fig.imageObj.src);\n",
       "            }\n",
       "\n",
       "            fig.imageObj.src = (window.URL || window.webkitURL).createObjectURL(\n",
       "                evt.data);\n",
       "            fig.updated_canvas_event();\n",
       "            fig.waiting = false;\n",
       "            return;\n",
       "        }\n",
       "        else if (typeof evt.data === 'string' && evt.data.slice(0, 21) == \"data:image/png;base64\") {\n",
       "            fig.imageObj.src = evt.data;\n",
       "            fig.updated_canvas_event();\n",
       "            fig.waiting = false;\n",
       "            return;\n",
       "        }\n",
       "\n",
       "        var msg = JSON.parse(evt.data);\n",
       "        var msg_type = msg['type'];\n",
       "\n",
       "        // Call the  \"handle_{type}\" callback, which takes\n",
       "        // the figure and JSON message as its only arguments.\n",
       "        try {\n",
       "            var callback = fig[\"handle_\" + msg_type];\n",
       "        } catch (e) {\n",
       "            console.log(\"No handler for the '\" + msg_type + \"' message type: \", msg);\n",
       "            return;\n",
       "        }\n",
       "\n",
       "        if (callback) {\n",
       "            try {\n",
       "                // console.log(\"Handling '\" + msg_type + \"' message: \", msg);\n",
       "                callback(fig, msg);\n",
       "            } catch (e) {\n",
       "                console.log(\"Exception inside the 'handler_\" + msg_type + \"' callback:\", e, e.stack, msg);\n",
       "            }\n",
       "        }\n",
       "    };\n",
       "}\n",
       "\n",
       "// from http://stackoverflow.com/questions/1114465/getting-mouse-location-in-canvas\n",
       "mpl.findpos = function(e) {\n",
       "    //this section is from http://www.quirksmode.org/js/events_properties.html\n",
       "    var targ;\n",
       "    if (!e)\n",
       "        e = window.event;\n",
       "    if (e.target)\n",
       "        targ = e.target;\n",
       "    else if (e.srcElement)\n",
       "        targ = e.srcElement;\n",
       "    if (targ.nodeType == 3) // defeat Safari bug\n",
       "        targ = targ.parentNode;\n",
       "\n",
       "    // jQuery normalizes the pageX and pageY\n",
       "    // pageX,Y are the mouse positions relative to the document\n",
       "    // offset() returns the position of the element relative to the document\n",
       "    var x = e.pageX - $(targ).offset().left;\n",
       "    var y = e.pageY - $(targ).offset().top;\n",
       "\n",
       "    return {\"x\": x, \"y\": y};\n",
       "};\n",
       "\n",
       "/*\n",
       " * return a copy of an object with only non-object keys\n",
       " * we need this to avoid circular references\n",
       " * http://stackoverflow.com/a/24161582/3208463\n",
       " */\n",
       "function simpleKeys (original) {\n",
       "  return Object.keys(original).reduce(function (obj, key) {\n",
       "    if (typeof original[key] !== 'object')\n",
       "        obj[key] = original[key]\n",
       "    return obj;\n",
       "  }, {});\n",
       "}\n",
       "\n",
       "mpl.figure.prototype.mouse_event = function(event, name) {\n",
       "    var canvas_pos = mpl.findpos(event)\n",
       "\n",
       "    if (name === 'button_press')\n",
       "    {\n",
       "        this.canvas.focus();\n",
       "        this.canvas_div.focus();\n",
       "    }\n",
       "\n",
       "    var x = canvas_pos.x;\n",
       "    var y = canvas_pos.y;\n",
       "\n",
       "    this.send_message(name, {x: x, y: y, button: event.button,\n",
       "                             step: event.step,\n",
       "                             guiEvent: simpleKeys(event)});\n",
       "\n",
       "    /* This prevents the web browser from automatically changing to\n",
       "     * the text insertion cursor when the button is pressed.  We want\n",
       "     * to control all of the cursor setting manually through the\n",
       "     * 'cursor' event from matplotlib */\n",
       "    event.preventDefault();\n",
       "    return false;\n",
       "}\n",
       "\n",
       "mpl.figure.prototype._key_event_extra = function(event, name) {\n",
       "    // Handle any extra behaviour associated with a key event\n",
       "}\n",
       "\n",
       "mpl.figure.prototype.key_event = function(event, name) {\n",
       "\n",
       "    // Prevent repeat events\n",
       "    if (name == 'key_press')\n",
       "    {\n",
       "        if (event.which === this._key)\n",
       "            return;\n",
       "        else\n",
       "            this._key = event.which;\n",
       "    }\n",
       "    if (name == 'key_release')\n",
       "        this._key = null;\n",
       "\n",
       "    var value = '';\n",
       "    if (event.ctrlKey && event.which != 17)\n",
       "        value += \"ctrl+\";\n",
       "    if (event.altKey && event.which != 18)\n",
       "        value += \"alt+\";\n",
       "    if (event.shiftKey && event.which != 16)\n",
       "        value += \"shift+\";\n",
       "\n",
       "    value += 'k';\n",
       "    value += event.which.toString();\n",
       "\n",
       "    this._key_event_extra(event, name);\n",
       "\n",
       "    this.send_message(name, {key: value,\n",
       "                             guiEvent: simpleKeys(event)});\n",
       "    return false;\n",
       "}\n",
       "\n",
       "mpl.figure.prototype.toolbar_button_onclick = function(name) {\n",
       "    if (name == 'download') {\n",
       "        this.handle_save(this, null);\n",
       "    } else {\n",
       "        this.send_message(\"toolbar_button\", {name: name});\n",
       "    }\n",
       "};\n",
       "\n",
       "mpl.figure.prototype.toolbar_button_onmouseover = function(tooltip) {\n",
       "    this.message.textContent = tooltip;\n",
       "};\n",
       "mpl.toolbar_items = [[\"Home\", \"Reset original view\", \"fa fa-home icon-home\", \"home\"], [\"Back\", \"Back to  previous view\", \"fa fa-arrow-left icon-arrow-left\", \"back\"], [\"Forward\", \"Forward to next view\", \"fa fa-arrow-right icon-arrow-right\", \"forward\"], [\"\", \"\", \"\", \"\"], [\"Pan\", \"Pan axes with left mouse, zoom with right\", \"fa fa-arrows icon-move\", \"pan\"], [\"Zoom\", \"Zoom to rectangle\", \"fa fa-square-o icon-check-empty\", \"zoom\"], [\"\", \"\", \"\", \"\"], [\"Download\", \"Download plot\", \"fa fa-floppy-o icon-save\", \"download\"]];\n",
       "\n",
       "mpl.extensions = [\"eps\", \"jpeg\", \"pdf\", \"png\", \"ps\", \"raw\", \"svg\", \"tif\"];\n",
       "\n",
       "mpl.default_extension = \"png\";var comm_websocket_adapter = function(comm) {\n",
       "    // Create a \"websocket\"-like object which calls the given IPython comm\n",
       "    // object with the appropriate methods. Currently this is a non binary\n",
       "    // socket, so there is still some room for performance tuning.\n",
       "    var ws = {};\n",
       "\n",
       "    ws.close = function() {\n",
       "        comm.close()\n",
       "    };\n",
       "    ws.send = function(m) {\n",
       "        //console.log('sending', m);\n",
       "        comm.send(m);\n",
       "    };\n",
       "    // Register the callback with on_msg.\n",
       "    comm.on_msg(function(msg) {\n",
       "        //console.log('receiving', msg['content']['data'], msg);\n",
       "        // Pass the mpl event to the overriden (by mpl) onmessage function.\n",
       "        ws.onmessage(msg['content']['data'])\n",
       "    });\n",
       "    return ws;\n",
       "}\n",
       "\n",
       "mpl.mpl_figure_comm = function(comm, msg) {\n",
       "    // This is the function which gets called when the mpl process\n",
       "    // starts-up an IPython Comm through the \"matplotlib\" channel.\n",
       "\n",
       "    var id = msg.content.data.id;\n",
       "    // Get hold of the div created by the display call when the Comm\n",
       "    // socket was opened in Python.\n",
       "    var element = $(\"#\" + id);\n",
       "    var ws_proxy = comm_websocket_adapter(comm)\n",
       "\n",
       "    function ondownload(figure, format) {\n",
       "        window.open(figure.imageObj.src);\n",
       "    }\n",
       "\n",
       "    var fig = new mpl.figure(id, ws_proxy,\n",
       "                           ondownload,\n",
       "                           element.get(0));\n",
       "\n",
       "    // Call onopen now - mpl needs it, as it is assuming we've passed it a real\n",
       "    // web socket which is closed, not our websocket->open comm proxy.\n",
       "    ws_proxy.onopen();\n",
       "\n",
       "    fig.parent_element = element.get(0);\n",
       "    fig.cell_info = mpl.find_output_cell(\"<div id='\" + id + \"'></div>\");\n",
       "    if (!fig.cell_info) {\n",
       "        console.error(\"Failed to find cell for figure\", id, fig);\n",
       "        return;\n",
       "    }\n",
       "\n",
       "    var output_index = fig.cell_info[2]\n",
       "    var cell = fig.cell_info[0];\n",
       "\n",
       "};\n",
       "\n",
       "mpl.figure.prototype.handle_close = function(fig, msg) {\n",
       "    fig.root.unbind('remove')\n",
       "\n",
       "    // Update the output cell to use the data from the current canvas.\n",
       "    fig.push_to_output();\n",
       "    var dataURL = fig.canvas.toDataURL();\n",
       "    // Re-enable the keyboard manager in IPython - without this line, in FF,\n",
       "    // the notebook keyboard shortcuts fail.\n",
       "    IPython.keyboard_manager.enable()\n",
       "    $(fig.parent_element).html('<img src=\"' + dataURL + '\">');\n",
       "    fig.close_ws(fig, msg);\n",
       "}\n",
       "\n",
       "mpl.figure.prototype.close_ws = function(fig, msg){\n",
       "    fig.send_message('closing', msg);\n",
       "    // fig.ws.close()\n",
       "}\n",
       "\n",
       "mpl.figure.prototype.push_to_output = function(remove_interactive) {\n",
       "    // Turn the data on the canvas into data in the output cell.\n",
       "    var dataURL = this.canvas.toDataURL();\n",
       "    this.cell_info[1]['text/html'] = '<img src=\"' + dataURL + '\">';\n",
       "}\n",
       "\n",
       "mpl.figure.prototype.updated_canvas_event = function() {\n",
       "    // Tell IPython that the notebook contents must change.\n",
       "    IPython.notebook.set_dirty(true);\n",
       "    this.send_message(\"ack\", {});\n",
       "    var fig = this;\n",
       "    // Wait a second, then push the new image to the DOM so\n",
       "    // that it is saved nicely (might be nice to debounce this).\n",
       "    setTimeout(function () { fig.push_to_output() }, 1000);\n",
       "}\n",
       "\n",
       "mpl.figure.prototype._init_toolbar = function() {\n",
       "    var fig = this;\n",
       "\n",
       "    var nav_element = $('<div/>')\n",
       "    nav_element.attr('style', 'width: 100%');\n",
       "    this.root.append(nav_element);\n",
       "\n",
       "    // Define a callback function for later on.\n",
       "    function toolbar_event(event) {\n",
       "        return fig.toolbar_button_onclick(event['data']);\n",
       "    }\n",
       "    function toolbar_mouse_event(event) {\n",
       "        return fig.toolbar_button_onmouseover(event['data']);\n",
       "    }\n",
       "\n",
       "    for(var toolbar_ind in mpl.toolbar_items){\n",
       "        var name = mpl.toolbar_items[toolbar_ind][0];\n",
       "        var tooltip = mpl.toolbar_items[toolbar_ind][1];\n",
       "        var image = mpl.toolbar_items[toolbar_ind][2];\n",
       "        var method_name = mpl.toolbar_items[toolbar_ind][3];\n",
       "\n",
       "        if (!name) { continue; };\n",
       "\n",
       "        var button = $('<button class=\"btn btn-default\" href=\"#\" title=\"' + name + '\"><i class=\"fa ' + image + ' fa-lg\"></i></button>');\n",
       "        button.click(method_name, toolbar_event);\n",
       "        button.mouseover(tooltip, toolbar_mouse_event);\n",
       "        nav_element.append(button);\n",
       "    }\n",
       "\n",
       "    // Add the status bar.\n",
       "    var status_bar = $('<span class=\"mpl-message\" style=\"text-align:right; float: right;\"/>');\n",
       "    nav_element.append(status_bar);\n",
       "    this.message = status_bar[0];\n",
       "\n",
       "    // Add the close button to the window.\n",
       "    var buttongrp = $('<div class=\"btn-group inline pull-right\"></div>');\n",
       "    var button = $('<button class=\"btn btn-mini btn-primary\" href=\"#\" title=\"Stop Interaction\"><i class=\"fa fa-power-off icon-remove icon-large\"></i></button>');\n",
       "    button.click(function (evt) { fig.handle_close(fig, {}); } );\n",
       "    button.mouseover('Stop Interaction', toolbar_mouse_event);\n",
       "    buttongrp.append(button);\n",
       "    var titlebar = this.root.find($('.ui-dialog-titlebar'));\n",
       "    titlebar.prepend(buttongrp);\n",
       "}\n",
       "\n",
       "mpl.figure.prototype._root_extra_style = function(el){\n",
       "    var fig = this\n",
       "    el.on(\"remove\", function(){\n",
       "\tfig.close_ws(fig, {});\n",
       "    });\n",
       "}\n",
       "\n",
       "mpl.figure.prototype._canvas_extra_style = function(el){\n",
       "    // this is important to make the div 'focusable\n",
       "    el.attr('tabindex', 0)\n",
       "    // reach out to IPython and tell the keyboard manager to turn it's self\n",
       "    // off when our div gets focus\n",
       "\n",
       "    // location in version 3\n",
       "    if (IPython.notebook.keyboard_manager) {\n",
       "        IPython.notebook.keyboard_manager.register_events(el);\n",
       "    }\n",
       "    else {\n",
       "        // location in version 2\n",
       "        IPython.keyboard_manager.register_events(el);\n",
       "    }\n",
       "\n",
       "}\n",
       "\n",
       "mpl.figure.prototype._key_event_extra = function(event, name) {\n",
       "    var manager = IPython.notebook.keyboard_manager;\n",
       "    if (!manager)\n",
       "        manager = IPython.keyboard_manager;\n",
       "\n",
       "    // Check for shift+enter\n",
       "    if (event.shiftKey && event.which == 13) {\n",
       "        this.canvas_div.blur();\n",
       "        event.shiftKey = false;\n",
       "        // Send a \"J\" for go to next cell\n",
       "        event.which = 74;\n",
       "        event.keyCode = 74;\n",
       "        manager.command_mode();\n",
       "        manager.handle_keydown(event);\n",
       "    }\n",
       "}\n",
       "\n",
       "mpl.figure.prototype.handle_save = function(fig, msg) {\n",
       "    fig.ondownload(fig, null);\n",
       "}\n",
       "\n",
       "\n",
       "mpl.find_output_cell = function(html_output) {\n",
       "    // Return the cell and output element which can be found *uniquely* in the notebook.\n",
       "    // Note - this is a bit hacky, but it is done because the \"notebook_saving.Notebook\"\n",
       "    // IPython event is triggered only after the cells have been serialised, which for\n",
       "    // our purposes (turning an active figure into a static one), is too late.\n",
       "    var cells = IPython.notebook.get_cells();\n",
       "    var ncells = cells.length;\n",
       "    for (var i=0; i<ncells; i++) {\n",
       "        var cell = cells[i];\n",
       "        if (cell.cell_type === 'code'){\n",
       "            for (var j=0; j<cell.output_area.outputs.length; j++) {\n",
       "                var data = cell.output_area.outputs[j];\n",
       "                if (data.data) {\n",
       "                    // IPython >= 3 moved mimebundle to data attribute of output\n",
       "                    data = data.data;\n",
       "                }\n",
       "                if (data['text/html'] == html_output) {\n",
       "                    return [cell, data, j];\n",
       "                }\n",
       "            }\n",
       "        }\n",
       "    }\n",
       "}\n",
       "\n",
       "// Register the function which deals with the matplotlib target/channel.\n",
       "// The kernel may be null if the page has been refreshed.\n",
       "if (IPython.notebook.kernel != null) {\n",
       "    IPython.notebook.kernel.comm_manager.register_target('matplotlib', mpl.mpl_figure_comm);\n",
       "}\n"
      ],
      "text/plain": [
       "<IPython.core.display.Javascript object>"
      ]
     },
     "metadata": {},
     "output_type": "display_data"
    },
    {
     "data": {
      "text/html": [
       "<img src=\"data:image/png;base64,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\">"
      ],
      "text/plain": [
       "<IPython.core.display.HTML object>"
      ]
     },
     "metadata": {},
     "output_type": "display_data"
    }
   ],
   "source": [
    "fig,ax = plt.subplots(1,1,figsize=(10, 6),sharey=True,sharex=True)\n",
    "\n",
    "for edg in graph.edges(data=True):\n",
    "    width_edge = edg[2]['weight']/meanCounts(edges)\n",
    "    nx.draw_networkx_edges(graph,pos=pos,edgelist=[edg],width=width_edge)\n",
    "nx.draw_networkx_labels(graph,pos=pos);\n",
    "nx.draw_networkx_nodes(graph,pos,node_size=300);"
   ]
  },
  {
   "cell_type": "markdown",
   "metadata": {
    "deletable": true,
    "editable": true
   },
   "source": [
    "Um die Hierachie sichtbar zu machen, nutzen wir wieder das Graphviz Programm. "
   ]
  },
  {
   "cell_type": "code",
   "execution_count": 46,
   "metadata": {
    "collapsed": true,
    "deletable": true,
    "editable": true
   },
   "outputs": [],
   "source": [
    "agent_graph=nx.nx_agraph.to_agraph(graph)"
   ]
  },
  {
   "cell_type": "code",
   "execution_count": 47,
   "metadata": {
    "collapsed": false,
    "deletable": true,
    "editable": true,
    "scrolled": false
   },
   "outputs": [
    {
     "data": {
      "text/html": [
       "<iframe src=agent_graph.png width=30% height=400></iframe><iframe src=G_predicted.png width=30% height=400></iframe><iframe src=G_pruef.png width=30% height=400></iframe>"
      ],
      "text/plain": [
       "<IPython.core.display.HTML object>"
      ]
     },
     "execution_count": 47,
     "metadata": {},
     "output_type": "execute_result"
    }
   ],
   "source": [
    "agent_graph.draw('agent_graph.png',prog='dot')\n",
    "show2images(['agent_graph.png','G_predicted.png','G_pruef.png'],30)"
   ]
  },
  {
   "cell_type": "markdown",
   "metadata": {
    "collapsed": true,
    "deletable": true,
    "editable": true
   },
   "source": [
    "### Nicht-gefundenen Kanten\n",
    "\n",
    "Werden Kanten nicht gefunden, kann das an einer geringen Übergangswahrscheinlichkeit im Klassifikator liegen. Diese kann mit dem Dataframe abgerufen werden."
   ]
  },
  {
   "cell_type": "code",
   "execution_count": 48,
   "metadata": {
    "collapsed": false,
    "deletable": true,
    "editable": true
   },
   "outputs": [],
   "source": [
    "def showSubFrame(start,stop):\n",
    "    return (dfMove.loc[dfMove.start == start]).loc[dfMove.ziel == stop]"
   ]
  },
  {
   "cell_type": "code",
   "execution_count": 49,
   "metadata": {
    "collapsed": false,
    "deletable": true,
    "editable": true
   },
   "outputs": [
    {
     "data": {
      "text/html": [
       "<div>\n",
       "<table border=\"1\" class=\"dataframe\">\n",
       "  <thead>\n",
       "    <tr style=\"text-align: right;\">\n",
       "      <th></th>\n",
       "      <th>start</th>\n",
       "      <th>ziel</th>\n",
       "      <th>forward</th>\n",
       "    </tr>\n",
       "  </thead>\n",
       "  <tbody>\n",
       "    <tr>\n",
       "      <th>1</th>\n",
       "      <td>0</td>\n",
       "      <td>2</td>\n",
       "      <td>0.725193</td>\n",
       "    </tr>\n",
       "  </tbody>\n",
       "</table>\n",
       "</div>"
      ],
      "text/plain": [
       "   start  ziel   forward\n",
       "1      0     2  0.725193"
      ]
     },
     "execution_count": 49,
     "metadata": {},
     "output_type": "execute_result"
    }
   ],
   "source": [
    "showSubFrame(0,2)"
   ]
  },
  {
   "cell_type": "code",
   "execution_count": null,
   "metadata": {
    "collapsed": true,
    "deletable": true,
    "editable": true
   },
   "outputs": [],
   "source": []
  }
 ],
 "metadata": {
  "anaconda-cloud": {},
  "kernelspec": {
   "display_name": "Python 3",
   "language": "python",
   "name": "python3"
  },
  "language_info": {
   "codemirror_mode": {
    "name": "ipython",
    "version": 3
   },
   "file_extension": ".py",
   "mimetype": "text/x-python",
   "name": "python",
   "nbconvert_exporter": "python",
   "pygments_lexer": "ipython3",
   "version": "3.5.2"
  },
  "latex_envs": {
   "LaTeX_envs_menu_present": true,
   "bibliofile": "biblio.bib",
   "cite_by": "apalike",
   "current_citInitial": 1,
   "eqLabelWithNumbers": true,
   "eqNumInitial": 0,
   "labels_anchors": false,
   "latex_user_defs": false,
   "report_style_numbering": false,
   "user_envs_cfg": false
  },
  "nav_menu": {},
  "nbpresent": {
   "slides": {
    "004f20e3-53f1-481f-b369-e14c3ec21e44": {
     "id": "004f20e3-53f1-481f-b369-e14c3ec21e44",
     "prev": "1a1ae89e-322c-4bb2-b7c8-525f6625fce7",
     "regions": {
      "f939708c-f662-427d-8e59-435b9d965dcf": {
       "attrs": {
        "height": 0.8,
        "width": 0.8,
        "x": 0.1,
        "y": 0.1
       },
       "content": {
        "cell": "11533889-b9e8-4b1b-9328-1eb092cd093e",
        "part": "whole"
       },
       "id": "f939708c-f662-427d-8e59-435b9d965dcf"
      }
     }
    },
    "00abd8eb-5b96-47f2-b4cf-d51ed35bbbe4": {
     "id": "00abd8eb-5b96-47f2-b4cf-d51ed35bbbe4",
     "prev": "c714a1d9-1f43-4745-ac58-ebf7cd1ec785",
     "regions": {
      "4059e544-4fbb-4a65-8732-a62bcf8a6ef0": {
       "attrs": {
        "height": 0.8,
        "width": 0.8,
        "x": 0.1,
        "y": 0.1
       },
       "content": {
        "cell": "969ef4f4-a911-4d67-9c00-05cc3d0afbae",
        "part": "whole"
       },
       "id": "4059e544-4fbb-4a65-8732-a62bcf8a6ef0"
      }
     }
    },
    "05e6f6e4-30d7-47db-abbb-8b2fcac0f4bd": {
     "id": "05e6f6e4-30d7-47db-abbb-8b2fcac0f4bd",
     "prev": "bfa0c972-f2df-4cf1-bffc-dd050515f358",
     "regions": {
      "95f90071-fee5-41ef-9b39-56da9cecd262": {
       "attrs": {
        "height": 0.8,
        "width": 0.8,
        "x": 0.1,
        "y": 0.1
       },
       "content": {
        "cell": "8e21c5a4-b76c-4cec-96fa-9afa29f43ad4",
        "part": "whole"
       },
       "id": "95f90071-fee5-41ef-9b39-56da9cecd262"
      }
     }
    },
    "085e4862-e0bc-447f-a7fb-6601df570e52": {
     "id": "085e4862-e0bc-447f-a7fb-6601df570e52",
     "prev": "2706f00c-5a61-405d-8b35-d6643c64607d",
     "regions": {
      "31947c36-a0cd-47a1-b6b4-f4cffdc7613c": {
       "attrs": {
        "height": 0.8,
        "width": 0.8,
        "x": 0.1,
        "y": 0.1
       },
       "content": {
        "cell": "0063645e-5474-47d6-85ee-e8855215bd52",
        "part": "whole"
       },
       "id": "31947c36-a0cd-47a1-b6b4-f4cffdc7613c"
      }
     }
    },
    "0bbc808e-db17-4845-b35b-45655940ac8b": {
     "id": "0bbc808e-db17-4845-b35b-45655940ac8b",
     "prev": "004f20e3-53f1-481f-b369-e14c3ec21e44",
     "regions": {
      "2392b0e0-1faf-48e3-a5d2-d298f370bc62": {
       "attrs": {
        "height": 0.8,
        "width": 0.8,
        "x": 0.1,
        "y": 0.1
       },
       "content": {
        "cell": "ad914ca3-1f08-43b9-91d2-e26b8886dc5e",
        "part": "whole"
       },
       "id": "2392b0e0-1faf-48e3-a5d2-d298f370bc62"
      }
     }
    },
    "0c66e9e8-2cc8-4371-88d4-ea766badd24e": {
     "id": "0c66e9e8-2cc8-4371-88d4-ea766badd24e",
     "prev": "38ff9ca1-8e59-4914-a910-cbdfbbaadb92",
     "regions": {
      "d163d6c9-3573-4749-87b0-312ba0e9d303": {
       "attrs": {
        "height": 0.8,
        "width": 0.8,
        "x": 0.1,
        "y": 0.1
       },
       "content": {
        "cell": "ac40ed8e-9133-42a2-bd5a-82efb0e1092d",
        "part": "whole"
       },
       "id": "d163d6c9-3573-4749-87b0-312ba0e9d303"
      }
     }
    },
    "0d7edcdd-ae4b-4fce-b30f-ffdab92d94d2": {
     "id": "0d7edcdd-ae4b-4fce-b30f-ffdab92d94d2",
     "prev": "fea4fb1e-6bf0-4185-93db-e4a75ca7a8cd",
     "regions": {
      "079b6f28-a582-42b1-a207-1ad26ea9d73f": {
       "attrs": {
        "height": 0.8,
        "width": 0.8,
        "x": 0.1,
        "y": 0.1
       },
       "content": {
        "cell": "7b2afde8-bec9-40cc-a6b3-1b8ff08734d2",
        "part": "whole"
       },
       "id": "079b6f28-a582-42b1-a207-1ad26ea9d73f"
      }
     }
    },
    "0e5e11ab-4e63-4ef5-ace5-90c77314eb47": {
     "id": "0e5e11ab-4e63-4ef5-ace5-90c77314eb47",
     "prev": "5bc16361-be36-450d-889e-23339361e439",
     "regions": {
      "f0cd0cce-992b-4124-b9d1-c69e441cd47c": {
       "attrs": {
        "height": 0.8,
        "width": 0.8,
        "x": 0.1,
        "y": 0.1
       },
       "content": {
        "cell": "6b14e0c8-8f48-4a1b-935b-dbea0788713e",
        "part": "whole"
       },
       "id": "f0cd0cce-992b-4124-b9d1-c69e441cd47c"
      }
     }
    },
    "0f1b0628-9726-4db9-b1a3-b6d9ad5fe5fd": {
     "id": "0f1b0628-9726-4db9-b1a3-b6d9ad5fe5fd",
     "prev": "0c66e9e8-2cc8-4371-88d4-ea766badd24e",
     "regions": {
      "b790d29d-926c-45f6-af5c-248786212e83": {
       "attrs": {
        "height": 0.8,
        "width": 0.8,
        "x": 0.1,
        "y": 0.1
       },
       "content": {
        "cell": "4c5ca4d8-568c-4193-8b7c-6fcffec6ccec",
        "part": "whole"
       },
       "id": "b790d29d-926c-45f6-af5c-248786212e83"
      }
     }
    },
    "12418562-2c2f-4a73-ae9a-810070ae0e80": {
     "id": "12418562-2c2f-4a73-ae9a-810070ae0e80",
     "prev": "eba4d5c9-f0d3-44d6-bc48-dd37e9fd1eb1",
     "regions": {
      "09b4a02c-2d87-4081-9274-67f44333e2da": {
       "attrs": {
        "height": 0.8,
        "width": 0.8,
        "x": 0.1,
        "y": 0.1
       },
       "content": {
        "cell": "2d3667ff-68fb-48b4-9707-30f735f95d3b",
        "part": "whole"
       },
       "id": "09b4a02c-2d87-4081-9274-67f44333e2da"
      }
     }
    },
    "12fc06f5-d15b-4196-9dfe-f22965537717": {
     "id": "12fc06f5-d15b-4196-9dfe-f22965537717",
     "prev": "af2dcaad-7dc7-4b4e-b38d-7c9b38bd9c9a",
     "regions": {
      "b46d2bc9-b741-4809-863b-f30e0b1ef21b": {
       "attrs": {
        "height": 0.8,
        "width": 0.8,
        "x": 0.1,
        "y": 0.1
       },
       "content": {
        "cell": "470da5b9-fada-44f2-ae53-d855372365dc",
        "part": "whole"
       },
       "id": "b46d2bc9-b741-4809-863b-f30e0b1ef21b"
      }
     }
    },
    "1394bab6-c9a0-4b09-b7f2-cfad4def2b31": {
     "id": "1394bab6-c9a0-4b09-b7f2-cfad4def2b31",
     "prev": "2d04f7f3-9d26-4469-9bdb-d73420c66f90",
     "regions": {
      "13bd1799-3e8f-4781-b917-e151b1dcaba0": {
       "attrs": {
        "height": 0.8,
        "width": 0.8,
        "x": 0.1,
        "y": 0.1
       },
       "content": {
        "cell": "e04a5de6-0d1c-4732-a709-64fdc99b344d",
        "part": "whole"
       },
       "id": "13bd1799-3e8f-4781-b917-e151b1dcaba0"
      }
     }
    },
    "15f87a94-8313-47c4-92ad-480de759af56": {
     "id": "15f87a94-8313-47c4-92ad-480de759af56",
     "prev": "bc517076-172e-4e79-87f7-d44c766f4d28",
     "regions": {
      "d7c0fd4d-ba47-4460-b7ff-9db40fe8d943": {
       "attrs": {
        "height": 0.8,
        "width": 0.8,
        "x": 0.1,
        "y": 0.1
       },
       "content": {
        "cell": "bb68f30f-b2e1-414c-b3e9-38ce73f106e4",
        "part": "whole"
       },
       "id": "d7c0fd4d-ba47-4460-b7ff-9db40fe8d943"
      }
     }
    },
    "16489c2a-2d6a-4c1c-81e1-6446bd36736d": {
     "id": "16489c2a-2d6a-4c1c-81e1-6446bd36736d",
     "prev": "819cb1f3-e9d5-4e4c-9771-0385265f717b",
     "regions": {
      "a16d11ab-50a2-473a-b66e-9fe920a8a48d": {
       "attrs": {
        "height": 0.8,
        "width": 0.8,
        "x": 0.1,
        "y": 0.1
       },
       "content": {
        "cell": "15a3181b-ef3a-49bf-852c-823c601cbbab",
        "part": "whole"
       },
       "id": "a16d11ab-50a2-473a-b66e-9fe920a8a48d"
      }
     }
    },
    "165f4973-c190-4fbc-8ffc-3e74f46ad051": {
     "id": "165f4973-c190-4fbc-8ffc-3e74f46ad051",
     "prev": "a5f6332f-84b6-4c08-884d-6e33b6d3e3c9",
     "regions": {
      "4c0cf835-df18-4613-b3e9-a087a282b075": {
       "attrs": {
        "height": 0.8,
        "width": 0.8,
        "x": 0.1,
        "y": 0.1
       },
       "content": {
        "cell": "19e4ec98-b18e-45e5-ae00-01c626086f6a",
        "part": "whole"
       },
       "id": "4c0cf835-df18-4613-b3e9-a087a282b075"
      }
     }
    },
    "17aefbc2-2b68-4157-b943-5e8c570a1ef0": {
     "id": "17aefbc2-2b68-4157-b943-5e8c570a1ef0",
     "prev": "844a83ba-360b-4757-a984-952373f93db8",
     "regions": {
      "c8eabe62-ca4f-4fb4-8d9d-2e0825dac615": {
       "attrs": {
        "height": 0.8,
        "width": 0.8,
        "x": 0.1,
        "y": 0.1
       },
       "content": {
        "cell": "73416425-b370-4bc8-b338-3f5273e20553",
        "part": "whole"
       },
       "id": "c8eabe62-ca4f-4fb4-8d9d-2e0825dac615"
      }
     }
    },
    "1a1ae89e-322c-4bb2-b7c8-525f6625fce7": {
     "id": "1a1ae89e-322c-4bb2-b7c8-525f6625fce7",
     "prev": "9ac50880-7f0c-4a0a-aefb-211491a8948b",
     "regions": {
      "560ac8e5-bd9e-4030-b4d7-c681d5f7aef4": {
       "attrs": {
        "height": 0.8,
        "width": 0.8,
        "x": 0.1,
        "y": 0.1
       },
       "content": {
        "cell": "87a2d4a9-0f73-4984-a218-2a3f79be779f",
        "part": "whole"
       },
       "id": "560ac8e5-bd9e-4030-b4d7-c681d5f7aef4"
      }
     }
    },
    "1ac38237-68fb-4e8c-8064-9580e8ee05cc": {
     "id": "1ac38237-68fb-4e8c-8064-9580e8ee05cc",
     "prev": "1e613445-c450-4f5c-998b-018429fa2216",
     "regions": {
      "8c738b87-a4c5-4e2c-9810-e98edba22a3c": {
       "attrs": {
        "height": 0.8,
        "width": 0.8,
        "x": 0.1,
        "y": 0.1
       },
       "content": {
        "cell": "1ce781b4-2129-467a-af37-0e24a7c6d856",
        "part": "whole"
       },
       "id": "8c738b87-a4c5-4e2c-9810-e98edba22a3c"
      }
     }
    },
    "1b38b8f5-fd34-4c04-b886-400bfbe225da": {
     "id": "1b38b8f5-fd34-4c04-b886-400bfbe225da",
     "prev": "2d0de200-0f36-4632-9bbe-4cd28c0ce53c",
     "regions": {
      "515d9271-9735-4d29-b986-02ba338ecf80": {
       "attrs": {
        "height": 0.8,
        "width": 0.8,
        "x": 0.1,
        "y": 0.1
       },
       "content": {
        "cell": "c60dd728-fdbc-46c5-bce4-e31c9ef5a437",
        "part": "whole"
       },
       "id": "515d9271-9735-4d29-b986-02ba338ecf80"
      }
     }
    },
    "1c05b084-3ca5-4e2e-8971-19baaeaed4f7": {
     "id": "1c05b084-3ca5-4e2e-8971-19baaeaed4f7",
     "prev": "e8d91b2d-e1d3-4e2e-8851-bdb12d1f3d3e",
     "regions": {
      "5184d275-091e-4272-a2fc-cb4967456762": {
       "attrs": {
        "height": 0.8,
        "width": 0.8,
        "x": 0.1,
        "y": 0.1
       },
       "content": {
        "cell": "a5cd1bd0-ef98-45cc-9007-7c8e03d5ae37",
        "part": "whole"
       },
       "id": "5184d275-091e-4272-a2fc-cb4967456762"
      }
     }
    },
    "1c8b1251-de68-4fa2-befd-781c97454dbc": {
     "id": "1c8b1251-de68-4fa2-befd-781c97454dbc",
     "prev": "e69a4639-ba6c-4884-b75b-0d251d16be6c",
     "regions": {
      "a13d9dfe-efae-41e4-9c67-98b76be5cd82": {
       "attrs": {
        "height": 0.8,
        "width": 0.8,
        "x": 0.1,
        "y": 0.1
       },
       "content": {
        "cell": "9baa32af-1c89-4abf-84d4-a9366b1e6ead",
        "part": "whole"
       },
       "id": "a13d9dfe-efae-41e4-9c67-98b76be5cd82"
      }
     }
    },
    "1e613445-c450-4f5c-998b-018429fa2216": {
     "id": "1e613445-c450-4f5c-998b-018429fa2216",
     "prev": "92851fb7-20ab-4bc6-a47d-0c5335d51a18",
     "regions": {
      "f402da31-4c5b-4470-9c6e-56094e1af6b7": {
       "attrs": {
        "height": 0.8,
        "width": 0.8,
        "x": 0.1,
        "y": 0.1
       },
       "content": {
        "cell": "a5a4fb69-5e46-421f-abf6-aadf14f99d66",
        "part": "whole"
       },
       "id": "f402da31-4c5b-4470-9c6e-56094e1af6b7"
      }
     }
    },
    "23bf0a28-056b-4e9b-af93-f9ebb8b04ddc": {
     "id": "23bf0a28-056b-4e9b-af93-f9ebb8b04ddc",
     "prev": "f86eee06-e844-4a2e-802a-90ba9ad96e3d",
     "regions": {
      "7d3d6d3b-a119-4ceb-8f8a-f928890f6eff": {
       "attrs": {
        "height": 0.8,
        "width": 0.8,
        "x": 0.1,
        "y": 0.1
       },
       "content": {
        "cell": "29121ea6-3dff-46c7-ae01-5e6925e87efc",
        "part": "whole"
       },
       "id": "7d3d6d3b-a119-4ceb-8f8a-f928890f6eff"
      }
     }
    },
    "2706f00c-5a61-405d-8b35-d6643c64607d": {
     "id": "2706f00c-5a61-405d-8b35-d6643c64607d",
     "prev": "d59e4268-8812-4b55-b414-801f747eab0d",
     "regions": {
      "d9f78d54-4bc3-4e57-89ae-de0d125cb7f3": {
       "attrs": {
        "height": 0.8,
        "width": 0.8,
        "x": 0.1,
        "y": 0.1
       },
       "content": {
        "cell": "dadd7f57-d6b1-42ec-a3ff-69a0bdac99b2",
        "part": "whole"
       },
       "id": "d9f78d54-4bc3-4e57-89ae-de0d125cb7f3"
      }
     }
    },
    "27b00344-fc24-4d9e-aeb0-1399d7e88ec7": {
     "id": "27b00344-fc24-4d9e-aeb0-1399d7e88ec7",
     "prev": "b3b654b4-bfbd-40cd-a933-1d3f0e0be94e",
     "regions": {
      "cbe3d1fe-b65a-4a4c-b9be-286b28e3f888": {
       "attrs": {
        "height": 0.8,
        "width": 0.8,
        "x": 0.1,
        "y": 0.1
       },
       "content": {
        "cell": "58580392-930d-4d77-b3f6-e865b95ac634",
        "part": "whole"
       },
       "id": "cbe3d1fe-b65a-4a4c-b9be-286b28e3f888"
      }
     }
    },
    "294fda86-1c0e-4228-b20f-2f8d4612f3aa": {
     "id": "294fda86-1c0e-4228-b20f-2f8d4612f3aa",
     "prev": null,
     "regions": {
      "6a3afc9b-7606-4252-b538-a768483cb470": {
       "attrs": {
        "height": 0.8,
        "width": 0.8,
        "x": 0.1,
        "y": 0.1
       },
       "content": {
        "cell": "9cec5e30-0815-4eb8-ae60-47290bd5291b",
        "part": "whole"
       },
       "id": "6a3afc9b-7606-4252-b538-a768483cb470"
      }
     }
    },
    "2ae221f1-a9a3-4114-aa29-db74d78683e8": {
     "id": "2ae221f1-a9a3-4114-aa29-db74d78683e8",
     "prev": "832e1c16-7f58-43f9-ba19-6b737deecf80",
     "regions": {
      "08051387-3afe-4e90-b352-c255f03cc356": {
       "attrs": {
        "height": 0.8,
        "width": 0.8,
        "x": 0.1,
        "y": 0.1
       },
       "content": {
        "cell": "478a812b-a3d4-4499-b052-74ce78bb5a9b",
        "part": "whole"
       },
       "id": "08051387-3afe-4e90-b352-c255f03cc356"
      }
     }
    },
    "2b410a8f-c713-41ef-8fda-0e6c8b5da978": {
     "id": "2b410a8f-c713-41ef-8fda-0e6c8b5da978",
     "prev": "69342c7f-1e34-41c0-8791-d4b5f51ad566",
     "regions": {
      "f6661262-db1c-4e60-a68f-46cc48927864": {
       "attrs": {
        "height": 0.8,
        "width": 0.8,
        "x": 0.1,
        "y": 0.1
       },
       "content": {
        "cell": "39df99ff-926d-4380-a7a8-4a3f938a72eb",
        "part": "whole"
       },
       "id": "f6661262-db1c-4e60-a68f-46cc48927864"
      }
     }
    },
    "2b8f5f97-5b40-4852-b2b6-f3f87fb9acf5": {
     "id": "2b8f5f97-5b40-4852-b2b6-f3f87fb9acf5",
     "prev": "d1689300-e8d0-4795-8964-4655b5b08c52",
     "regions": {
      "aefd4a3c-a749-4a7c-98d3-48c0881514cb": {
       "attrs": {
        "height": 0.8,
        "width": 0.8,
        "x": 0.1,
        "y": 0.1
       },
       "content": {
        "cell": "d645fa57-a22e-446b-b28b-b8d6122cddea",
        "part": "whole"
       },
       "id": "aefd4a3c-a749-4a7c-98d3-48c0881514cb"
      }
     }
    },
    "2d04f7f3-9d26-4469-9bdb-d73420c66f90": {
     "id": "2d04f7f3-9d26-4469-9bdb-d73420c66f90",
     "prev": "6b9deca6-1030-4abb-880a-0cdefe02cff5",
     "regions": {
      "647cb85c-f084-432d-af9d-e4ee7fd4268e": {
       "attrs": {
        "height": 0.8,
        "width": 0.8,
        "x": 0.1,
        "y": 0.1
       },
       "content": {
        "cell": "f4319f27-9fc5-4b42-9b74-9820397ae718",
        "part": "whole"
       },
       "id": "647cb85c-f084-432d-af9d-e4ee7fd4268e"
      }
     }
    },
    "2d0de200-0f36-4632-9bbe-4cd28c0ce53c": {
     "id": "2d0de200-0f36-4632-9bbe-4cd28c0ce53c",
     "prev": "0bbc808e-db17-4845-b35b-45655940ac8b",
     "regions": {
      "4ef9e8bf-a3bc-4d14-b235-0e1795380cc8": {
       "attrs": {
        "height": 0.8,
        "width": 0.8,
        "x": 0.1,
        "y": 0.1
       },
       "content": {
        "cell": "c9a348d3-5af0-40f6-a65b-33cb570452f5",
        "part": "whole"
       },
       "id": "4ef9e8bf-a3bc-4d14-b235-0e1795380cc8"
      }
     }
    },
    "316d7a9b-2013-4367-b606-e2c5374d7e21": {
     "id": "316d7a9b-2013-4367-b606-e2c5374d7e21",
     "prev": "b545af1d-bf8a-4a6b-90b1-5a6bd7949b29",
     "regions": {
      "cc796a0d-9609-46a0-a814-c7d8b08c7e62": {
       "attrs": {
        "height": 0.8,
        "width": 0.8,
        "x": 0.1,
        "y": 0.1
       },
       "content": {
        "cell": "fc03c429-763d-4255-978d-9af237786a11",
        "part": "whole"
       },
       "id": "cc796a0d-9609-46a0-a814-c7d8b08c7e62"
      }
     }
    },
    "31d240d8-ce2b-47c2-991a-7200a6112418": {
     "id": "31d240d8-ce2b-47c2-991a-7200a6112418",
     "prev": "c0318187-11b5-41b3-8bb5-68d00f22b1c7",
     "regions": {
      "beac39a8-a192-46bd-ac49-ceb81a2cd47f": {
       "attrs": {
        "height": 0.8,
        "width": 0.8,
        "x": 0.1,
        "y": 0.1
       },
       "content": {
        "cell": "5b47a97b-93eb-4d15-a058-7215c157b9eb",
        "part": "whole"
       },
       "id": "beac39a8-a192-46bd-ac49-ceb81a2cd47f"
      }
     }
    },
    "38ff9ca1-8e59-4914-a910-cbdfbbaadb92": {
     "id": "38ff9ca1-8e59-4914-a910-cbdfbbaadb92",
     "prev": "4b350e60-03bb-4181-86e6-d10c0f063ee0",
     "regions": {
      "983541a5-f1df-4d60-9ac1-7369819b8c54": {
       "attrs": {
        "height": 0.8,
        "width": 0.8,
        "x": 0.1,
        "y": 0.1
       },
       "content": {
        "cell": "221dc4fc-70b5-49b4-9ba8-be8b8127dfb9",
        "part": "whole"
       },
       "id": "983541a5-f1df-4d60-9ac1-7369819b8c54"
      }
     }
    },
    "3903364d-032c-4d82-bb2e-ef3a7c53c6fc": {
     "id": "3903364d-032c-4d82-bb2e-ef3a7c53c6fc",
     "prev": "1b38b8f5-fd34-4c04-b886-400bfbe225da",
     "regions": {
      "3be140e4-59f7-4322-9b5f-b56ad6a76b9d": {
       "attrs": {
        "height": 0.8,
        "width": 0.8,
        "x": 0.1,
        "y": 0.1
       },
       "content": {
        "cell": "c43d3511-2164-41a5-a749-54b2965f6bd3",
        "part": "whole"
       },
       "id": "3be140e4-59f7-4322-9b5f-b56ad6a76b9d"
      }
     }
    },
    "3bcedb7c-215c-4168-9d0f-40211759306b": {
     "id": "3bcedb7c-215c-4168-9d0f-40211759306b",
     "prev": "dd158925-fbe0-453d-a389-fa762a77f849",
     "regions": {
      "4f8d3345-78af-48c2-b369-1ac91d306f4f": {
       "attrs": {
        "height": 0.8,
        "width": 0.8,
        "x": 0.1,
        "y": 0.1
       },
       "content": {
        "cell": "d6899895-e0cf-49ca-87ea-afafa186567f",
        "part": "whole"
       },
       "id": "4f8d3345-78af-48c2-b369-1ac91d306f4f"
      }
     }
    },
    "3c4df364-bc0b-4d1d-875b-7265b36bab1a": {
     "id": "3c4df364-bc0b-4d1d-875b-7265b36bab1a",
     "prev": "a3af1508-0728-4252-a61e-051bc86c792c",
     "regions": {
      "b555b18b-df40-48be-92dc-7a5fd20a2ce9": {
       "attrs": {
        "height": 0.8,
        "width": 0.8,
        "x": 0.1,
        "y": 0.1
       },
       "content": {
        "cell": "fcda37f6-5b41-4ad4-8872-88e27a81d54f",
        "part": "whole"
       },
       "id": "b555b18b-df40-48be-92dc-7a5fd20a2ce9"
      }
     }
    },
    "3fbaf052-43a5-4741-87e7-06b47d372fcc": {
     "id": "3fbaf052-43a5-4741-87e7-06b47d372fcc",
     "prev": "f2c79c9f-4f59-4226-bba6-3df8dcb680e7",
     "regions": {
      "e223cdd2-3a60-474f-8fcf-d57f3255d5a0": {
       "attrs": {
        "height": 0.8,
        "width": 0.8,
        "x": 0.1,
        "y": 0.1
       },
       "content": {
        "cell": "580472f1-ff3c-4de4-ace1-842b1ec1a6b3",
        "part": "whole"
       },
       "id": "e223cdd2-3a60-474f-8fcf-d57f3255d5a0"
      }
     }
    },
    "402aa611-79e4-48a5-8648-a94b196aa8e5": {
     "id": "402aa611-79e4-48a5-8648-a94b196aa8e5",
     "prev": "977664cd-9b9c-452d-b03e-a27a6edc077b",
     "regions": {
      "002e745a-f5a3-43c6-80ca-a39850707591": {
       "attrs": {
        "height": 0.8,
        "width": 0.8,
        "x": 0.1,
        "y": 0.1
       },
       "content": {
        "cell": "c9de388f-55c0-4937-9b19-a05cabd288b0",
        "part": "whole"
       },
       "id": "002e745a-f5a3-43c6-80ca-a39850707591"
      }
     }
    },
    "41ffb276-cb96-4693-a8ea-f88c126c6158": {
     "id": "41ffb276-cb96-4693-a8ea-f88c126c6158",
     "prev": "a9a838dd-6675-4226-8a90-ca1d500ad356",
     "regions": {
      "98601016-d84e-4403-a1e3-543f34bde57d": {
       "attrs": {
        "height": 0.8,
        "width": 0.8,
        "x": 0.1,
        "y": 0.1
       },
       "content": {
        "cell": "6c8e674b-b1d9-4b5b-9b00-8813005d6265",
        "part": "whole"
       },
       "id": "98601016-d84e-4403-a1e3-543f34bde57d"
      }
     }
    },
    "46551526-8c66-4fe5-9902-7f0efe9cc1ad": {
     "id": "46551526-8c66-4fe5-9902-7f0efe9cc1ad",
     "prev": "41ffb276-cb96-4693-a8ea-f88c126c6158",
     "regions": {
      "98f1d54f-2ab8-4a69-a876-a3d2078a0313": {
       "attrs": {
        "height": 0.8,
        "width": 0.8,
        "x": 0.1,
        "y": 0.1
       },
       "content": {
        "cell": "b23f0434-4cba-4c6a-b99b-e49aa356e51c",
        "part": "whole"
       },
       "id": "98f1d54f-2ab8-4a69-a876-a3d2078a0313"
      }
     }
    },
    "4b350e60-03bb-4181-86e6-d10c0f063ee0": {
     "id": "4b350e60-03bb-4181-86e6-d10c0f063ee0",
     "prev": "ce44f305-c37f-4369-85bf-d77ee88f95e3",
     "regions": {
      "5df71b17-0da1-4551-ad00-714ec7b9dd0d": {
       "attrs": {
        "height": 0.8,
        "width": 0.8,
        "x": 0.1,
        "y": 0.1
       },
       "content": {
        "cell": "71e165b9-5841-470b-bb2b-b42e1bcbe88b",
        "part": "whole"
       },
       "id": "5df71b17-0da1-4551-ad00-714ec7b9dd0d"
      }
     }
    },
    "4d55a960-0d7d-4765-abfd-c2f9e62fb42e": {
     "id": "4d55a960-0d7d-4765-abfd-c2f9e62fb42e",
     "prev": "46551526-8c66-4fe5-9902-7f0efe9cc1ad",
     "regions": {
      "e43fc6a9-f32a-405c-88ae-04b28b6b2ea7": {
       "attrs": {
        "height": 0.8,
        "width": 0.8,
        "x": 0.1,
        "y": 0.1
       },
       "content": {
        "cell": "931a191c-e617-4f91-822c-5b636de26ad3",
        "part": "whole"
       },
       "id": "e43fc6a9-f32a-405c-88ae-04b28b6b2ea7"
      }
     }
    },
    "4debe7c0-5f60-4a94-86c7-71dcb3029df1": {
     "id": "4debe7c0-5f60-4a94-86c7-71dcb3029df1",
     "prev": "57b10de3-1bc3-489c-b59b-09d5b2061263",
     "regions": {
      "e84c5099-9778-47f2-8009-d1ac2b54a36e": {
       "attrs": {
        "height": 0.8,
        "width": 0.8,
        "x": 0.1,
        "y": 0.1
       },
       "content": {
        "cell": "617134d1-31fd-471e-9845-a7a6c9094fe2",
        "part": "whole"
       },
       "id": "e84c5099-9778-47f2-8009-d1ac2b54a36e"
      }
     }
    },
    "4e255539-8a43-4f2e-8f3c-a1d78f3c5ad5": {
     "id": "4e255539-8a43-4f2e-8f3c-a1d78f3c5ad5",
     "prev": "83a08edf-61a8-46d4-ba5d-022e255eef33",
     "regions": {
      "98f2cc32-d524-41c9-a7be-042f214eb45b": {
       "attrs": {
        "height": 0.8,
        "width": 0.8,
        "x": 0.1,
        "y": 0.1
       },
       "content": {
        "cell": "1588335e-2e33-442b-b987-e506460f324f",
        "part": "whole"
       },
       "id": "98f2cc32-d524-41c9-a7be-042f214eb45b"
      }
     }
    },
    "4f549eaf-dff5-4248-a62c-f992e3e3e424": {
     "id": "4f549eaf-dff5-4248-a62c-f992e3e3e424",
     "prev": "1394bab6-c9a0-4b09-b7f2-cfad4def2b31",
     "regions": {
      "905f7da7-4776-4251-98b9-ce94a21c5bc3": {
       "attrs": {
        "height": 0.8,
        "width": 0.8,
        "x": 0.1,
        "y": 0.1
       },
       "content": {
        "cell": "662d2b1d-9271-46b2-94ee-6898458951cf",
        "part": "whole"
       },
       "id": "905f7da7-4776-4251-98b9-ce94a21c5bc3"
      }
     }
    },
    "4f72ddad-c1a7-4089-8514-dff9abed4c84": {
     "id": "4f72ddad-c1a7-4089-8514-dff9abed4c84",
     "prev": "a82157aa-9287-4597-8705-2397dc5b040b",
     "regions": {
      "0c93aa3b-2637-4509-a553-821c4778fb4b": {
       "attrs": {
        "height": 0.8,
        "width": 0.8,
        "x": 0.1,
        "y": 0.1
       },
       "content": {
        "cell": "53c2474f-e9b6-450d-a3c6-6714ed55a9fc",
        "part": "whole"
       },
       "id": "0c93aa3b-2637-4509-a553-821c4778fb4b"
      }
     }
    },
    "518079a4-9df3-46ba-b242-a48e6248b072": {
     "id": "518079a4-9df3-46ba-b242-a48e6248b072",
     "prev": "00abd8eb-5b96-47f2-b4cf-d51ed35bbbe4",
     "regions": {
      "e2f6d178-c656-47de-aa56-dca3a4a4db02": {
       "attrs": {
        "height": 0.8,
        "width": 0.8,
        "x": 0.1,
        "y": 0.1
       },
       "content": {
        "cell": "9f49ae1d-5cdf-4824-9817-6908d641419e",
        "part": "whole"
       },
       "id": "e2f6d178-c656-47de-aa56-dca3a4a4db02"
      }
     }
    },
    "57b10de3-1bc3-489c-b59b-09d5b2061263": {
     "id": "57b10de3-1bc3-489c-b59b-09d5b2061263",
     "prev": "4e255539-8a43-4f2e-8f3c-a1d78f3c5ad5",
     "regions": {
      "6b2ee6a1-342a-47c7-be36-389b6278a65f": {
       "attrs": {
        "height": 0.8,
        "width": 0.8,
        "x": 0.1,
        "y": 0.1
       },
       "content": {
        "cell": "e0d89e74-1e39-44d2-b84d-400474e45515",
        "part": "whole"
       },
       "id": "6b2ee6a1-342a-47c7-be36-389b6278a65f"
      }
     }
    },
    "583198dc-0778-47bd-b5da-eb8452262059": {
     "id": "583198dc-0778-47bd-b5da-eb8452262059",
     "prev": "27b00344-fc24-4d9e-aeb0-1399d7e88ec7",
     "regions": {
      "9585bfa9-5f77-440c-abad-b35682ad9dc1": {
       "attrs": {
        "height": 0.8,
        "width": 0.8,
        "x": 0.1,
        "y": 0.1
       },
       "content": {
        "cell": "8e7fdb7b-235d-4779-bb85-159f66b57ff1",
        "part": "whole"
       },
       "id": "9585bfa9-5f77-440c-abad-b35682ad9dc1"
      }
     }
    },
    "58859ec0-126e-4527-ba39-312b92206696": {
     "id": "58859ec0-126e-4527-ba39-312b92206696",
     "prev": "1ac38237-68fb-4e8c-8064-9580e8ee05cc",
     "regions": {
      "a383b71e-41dc-4cc9-b9a5-da5cc85db975": {
       "attrs": {
        "height": 0.8,
        "width": 0.8,
        "x": 0.1,
        "y": 0.1
       },
       "content": {
        "cell": "a241ef1b-675c-40c0-b754-3d792d8ce995",
        "part": "whole"
       },
       "id": "a383b71e-41dc-4cc9-b9a5-da5cc85db975"
      }
     }
    },
    "5afa9563-54e7-48c2-8d94-ca7a44e9a293": {
     "id": "5afa9563-54e7-48c2-8d94-ca7a44e9a293",
     "prev": "c81323aa-9052-4c19-9566-c92c90b3e24f",
     "regions": {
      "71bd8ded-768e-4b3e-a20c-4e0ea7005683": {
       "attrs": {
        "height": 0.8,
        "width": 0.8,
        "x": 0.1,
        "y": 0.1
       },
       "content": {
        "cell": "db539c34-e77c-4399-bbf8-3c044b68cc97",
        "part": "whole"
       },
       "id": "71bd8ded-768e-4b3e-a20c-4e0ea7005683"
      }
     }
    },
    "5bc16361-be36-450d-889e-23339361e439": {
     "id": "5bc16361-be36-450d-889e-23339361e439",
     "prev": "ea615bb9-dc78-4468-95a5-43bac6e73f27",
     "regions": {
      "c695afb3-08dc-42e9-aae7-23637e0946e7": {
       "attrs": {
        "height": 0.8,
        "width": 0.8,
        "x": 0.1,
        "y": 0.1
       },
       "content": {
        "cell": "d510b875-c4b8-40dc-ac9c-3d8534631481",
        "part": "whole"
       },
       "id": "c695afb3-08dc-42e9-aae7-23637e0946e7"
      }
     }
    },
    "6087a350-d111-465a-932d-2b13a8cab09c": {
     "id": "6087a350-d111-465a-932d-2b13a8cab09c",
     "prev": "518079a4-9df3-46ba-b242-a48e6248b072",
     "regions": {
      "138e9182-d4db-40c3-91d2-5df17cd39c40": {
       "attrs": {
        "height": 0.8,
        "width": 0.8,
        "x": 0.1,
        "y": 0.1
       },
       "content": {
        "cell": "272d704b-602f-4159-af8b-5c98b996206f",
        "part": "whole"
       },
       "id": "138e9182-d4db-40c3-91d2-5df17cd39c40"
      }
     }
    },
    "62f1022d-80b0-499d-9e70-2ce4e999c1c3": {
     "id": "62f1022d-80b0-499d-9e70-2ce4e999c1c3",
     "prev": "da55b3e5-680b-4826-a453-9aca7b0c3d5e",
     "regions": {
      "26f04ad6-3186-4c16-b656-324b57a1273c": {
       "attrs": {
        "height": 0.8,
        "width": 0.8,
        "x": 0.1,
        "y": 0.1
       },
       "content": {
        "cell": "9814c631-0711-4943-96ad-a07346a98b8a",
        "part": "whole"
       },
       "id": "26f04ad6-3186-4c16-b656-324b57a1273c"
      }
     }
    },
    "65582139-48c6-4752-821b-7be2ed10c6c9": {
     "id": "65582139-48c6-4752-821b-7be2ed10c6c9",
     "prev": "b6320f6d-a432-4ee6-b848-41a9442fd06f",
     "regions": {
      "00bd0945-c393-4d29-b50e-a884dd4492fb": {
       "attrs": {
        "height": 0.8,
        "width": 0.8,
        "x": 0.1,
        "y": 0.1
       },
       "content": {
        "cell": "cda44ca1-e9b4-4f46-b15d-78408bd75173",
        "part": "whole"
       },
       "id": "00bd0945-c393-4d29-b50e-a884dd4492fb"
      }
     }
    },
    "6568c817-96af-4bf3-a4f3-e7c247cd2c2f": {
     "id": "6568c817-96af-4bf3-a4f3-e7c247cd2c2f",
     "prev": "cc340e7b-5924-4e62-8533-2e04b95aa763",
     "regions": {
      "a8c00111-4954-4126-88c7-f76f635db719": {
       "attrs": {
        "height": 0.8,
        "width": 0.8,
        "x": 0.1,
        "y": 0.1
       },
       "content": {
        "cell": "8751cfb1-5839-4caa-b85e-54e38f94db5f",
        "part": "whole"
       },
       "id": "a8c00111-4954-4126-88c7-f76f635db719"
      }
     }
    },
    "69342c7f-1e34-41c0-8791-d4b5f51ad566": {
     "id": "69342c7f-1e34-41c0-8791-d4b5f51ad566",
     "prev": "d023244b-0df9-4042-a66a-b778c5688cec",
     "regions": {
      "10d35ec7-121d-4980-9974-1e640c44e3be": {
       "attrs": {
        "height": 0.8,
        "width": 0.8,
        "x": 0.1,
        "y": 0.1
       },
       "content": {
        "cell": "dc59bb10-dbc6-4718-9ecd-78ea49b68a8a",
        "part": "whole"
       },
       "id": "10d35ec7-121d-4980-9974-1e640c44e3be"
      }
     }
    },
    "6999910b-c460-4350-8d94-ef01c297e372": {
     "id": "6999910b-c460-4350-8d94-ef01c297e372",
     "prev": "58859ec0-126e-4527-ba39-312b92206696",
     "regions": {
      "4b4a23c2-22df-49be-ab20-3f270f79f7e1": {
       "attrs": {
        "height": 0.8,
        "width": 0.8,
        "x": 0.1,
        "y": 0.1
       },
       "content": {
        "cell": "510d6252-bc62-4bcc-92f2-34437fd066d4",
        "part": "whole"
       },
       "id": "4b4a23c2-22df-49be-ab20-3f270f79f7e1"
      }
     }
    },
    "6a9d4348-53e4-4a13-aa47-9f39467f20b1": {
     "id": "6a9d4348-53e4-4a13-aa47-9f39467f20b1",
     "prev": "16489c2a-2d6a-4c1c-81e1-6446bd36736d",
     "regions": {
      "0fe722fa-5698-4e57-92fb-1f48503fade9": {
       "attrs": {
        "height": 0.8,
        "width": 0.8,
        "x": 0.1,
        "y": 0.1
       },
       "content": {
        "cell": "ec96acae-86d3-428f-ad42-714b0f63b378",
        "part": "whole"
       },
       "id": "0fe722fa-5698-4e57-92fb-1f48503fade9"
      }
     }
    },
    "6b9deca6-1030-4abb-880a-0cdefe02cff5": {
     "id": "6b9deca6-1030-4abb-880a-0cdefe02cff5",
     "prev": "d38aafaf-bbc7-444c-a0be-83f119395f20",
     "regions": {
      "c7c85377-aaf4-405e-b9a9-9ed2a53c3515": {
       "attrs": {
        "height": 0.8,
        "width": 0.8,
        "x": 0.1,
        "y": 0.1
       },
       "content": {
        "cell": "284b50aa-f4a5-4704-b3f5-17c571bb04fa",
        "part": "whole"
       },
       "id": "c7c85377-aaf4-405e-b9a9-9ed2a53c3515"
      }
     }
    },
    "6d2ee418-2cf0-45c6-829d-c0f0a818ed1b": {
     "id": "6d2ee418-2cf0-45c6-829d-c0f0a818ed1b",
     "prev": "961f1eee-887c-42b4-9a98-d9f714e86be1",
     "regions": {
      "5678d109-9877-46dc-8bac-b0a5d39bc575": {
       "attrs": {
        "height": 0.8,
        "width": 0.8,
        "x": 0.1,
        "y": 0.1
       },
       "content": {
        "cell": "f80aaa92-9ea9-4d35-b796-caebd5326583",
        "part": "whole"
       },
       "id": "5678d109-9877-46dc-8bac-b0a5d39bc575"
      }
     }
    },
    "6d3068d5-8da1-40fd-847c-f90ef35535dd": {
     "id": "6d3068d5-8da1-40fd-847c-f90ef35535dd",
     "prev": "8142f2ef-7e14-47fe-983f-34bb955c675a",
     "regions": {
      "f2454eac-2e99-4900-81f8-d93a4c37e709": {
       "attrs": {
        "height": 0.8,
        "width": 0.8,
        "x": 0.1,
        "y": 0.1
       },
       "content": {
        "cell": "a9c84c49-be72-4d79-8668-4eb5f383737d",
        "part": "whole"
       },
       "id": "f2454eac-2e99-4900-81f8-d93a4c37e709"
      }
     }
    },
    "6ed5f410-0ba5-4233-9963-1c3f86796312": {
     "id": "6ed5f410-0ba5-4233-9963-1c3f86796312",
     "prev": "f3787240-8aa3-4d7b-a94d-20d90ea56fb9",
     "regions": {
      "0a244f38-f656-451f-9c6f-93edef64a984": {
       "attrs": {
        "height": 0.8,
        "width": 0.8,
        "x": 0.1,
        "y": 0.1
       },
       "content": {
        "cell": "eda6eb66-eff9-4b4d-b860-a838060a6e24",
        "part": "whole"
       },
       "id": "0a244f38-f656-451f-9c6f-93edef64a984"
      }
     }
    },
    "6fbb401a-986c-42de-b87c-27d612ce58ba": {
     "id": "6fbb401a-986c-42de-b87c-27d612ce58ba",
     "prev": "a9335c8c-a01c-43a6-a718-ec7c05b4ce73",
     "regions": {
      "9c70f359-d536-4e8b-9602-e65e5135b786": {
       "attrs": {
        "height": 0.8,
        "width": 0.8,
        "x": 0.1,
        "y": 0.1
       },
       "content": {
        "cell": "e7324014-3288-46c2-ba65-ee548e713fe4",
        "part": "whole"
       },
       "id": "9c70f359-d536-4e8b-9602-e65e5135b786"
      }
     }
    },
    "7c0c172e-8cb9-48d0-84b2-ae3230106031": {
     "id": "7c0c172e-8cb9-48d0-84b2-ae3230106031",
     "prev": "23bf0a28-056b-4e9b-af93-f9ebb8b04ddc",
     "regions": {
      "77f70236-83f9-4325-b9b2-77de18222601": {
       "attrs": {
        "height": 0.8,
        "width": 0.8,
        "x": 0.1,
        "y": 0.1
       },
       "content": {
        "cell": "96463754-1018-41ca-9cd7-34e8356391ef",
        "part": "whole"
       },
       "id": "77f70236-83f9-4325-b9b2-77de18222601"
      }
     }
    },
    "80552154-7797-4007-9d1a-d74c0bc4d932": {
     "id": "80552154-7797-4007-9d1a-d74c0bc4d932",
     "prev": "15f87a94-8313-47c4-92ad-480de759af56",
     "regions": {
      "d08ac419-77ff-401f-8a3e-de1672b50fff": {
       "attrs": {
        "height": 0.8,
        "width": 0.8,
        "x": 0.1,
        "y": 0.1
       },
       "content": {
        "cell": "8c77c913-cdb0-402e-9f2e-3963899bafa7",
        "part": "whole"
       },
       "id": "d08ac419-77ff-401f-8a3e-de1672b50fff"
      }
     }
    },
    "8142f2ef-7e14-47fe-983f-34bb955c675a": {
     "id": "8142f2ef-7e14-47fe-983f-34bb955c675a",
     "prev": "8d3313e0-be36-424f-838a-5ff8635c1be6",
     "regions": {
      "86e42556-5743-4e4c-b268-616a6c88169a": {
       "attrs": {
        "height": 0.8,
        "width": 0.8,
        "x": 0.1,
        "y": 0.1
       },
       "content": {
        "cell": "9831fbb9-f98f-4188-a233-78b8b1becdb9",
        "part": "whole"
       },
       "id": "86e42556-5743-4e4c-b268-616a6c88169a"
      }
     }
    },
    "819cb1f3-e9d5-4e4c-9771-0385265f717b": {
     "id": "819cb1f3-e9d5-4e4c-9771-0385265f717b",
     "prev": "65582139-48c6-4752-821b-7be2ed10c6c9",
     "regions": {
      "701f056f-37cd-4be5-ba6b-6bb467718a7b": {
       "attrs": {
        "height": 0.8,
        "width": 0.8,
        "x": 0.1,
        "y": 0.1
       },
       "content": {
        "cell": "619d8e66-445f-43ae-a906-5c40b8facfd7",
        "part": "whole"
       },
       "id": "701f056f-37cd-4be5-ba6b-6bb467718a7b"
      }
     }
    },
    "832e1c16-7f58-43f9-ba19-6b737deecf80": {
     "id": "832e1c16-7f58-43f9-ba19-6b737deecf80",
     "prev": "1c05b084-3ca5-4e2e-8971-19baaeaed4f7",
     "regions": {
      "ded403fb-93e8-4d0c-8ae3-beb4bb3dea3a": {
       "attrs": {
        "height": 0.8,
        "width": 0.8,
        "x": 0.1,
        "y": 0.1
       },
       "content": {
        "cell": "c9d55718-e5e4-4ae3-af74-0bdb6b0a5dc1",
        "part": "whole"
       },
       "id": "ded403fb-93e8-4d0c-8ae3-beb4bb3dea3a"
      }
     }
    },
    "83a08edf-61a8-46d4-ba5d-022e255eef33": {
     "id": "83a08edf-61a8-46d4-ba5d-022e255eef33",
     "prev": "5afa9563-54e7-48c2-8d94-ca7a44e9a293",
     "regions": {
      "a3bf33c9-4855-4e9e-83c6-c5cc86721b0b": {
       "attrs": {
        "height": 0.8,
        "width": 0.8,
        "x": 0.1,
        "y": 0.1
       },
       "content": {
        "cell": "bd672acc-7aae-4d8c-a4fe-959a533a6eb2",
        "part": "whole"
       },
       "id": "a3bf33c9-4855-4e9e-83c6-c5cc86721b0b"
      }
     }
    },
    "844a83ba-360b-4757-a984-952373f93db8": {
     "id": "844a83ba-360b-4757-a984-952373f93db8",
     "prev": "feeb7a0c-afb9-40e2-b2d1-55daa4f1d78a",
     "regions": {
      "48c35224-54ea-45ea-876d-95c807733290": {
       "attrs": {
        "height": 0.8,
        "width": 0.8,
        "x": 0.1,
        "y": 0.1
       },
       "content": {
        "cell": "7497a8e3-b69b-4127-9fff-87bc3e32cd16",
        "part": "whole"
       },
       "id": "48c35224-54ea-45ea-876d-95c807733290"
      }
     }
    },
    "8d3313e0-be36-424f-838a-5ff8635c1be6": {
     "id": "8d3313e0-be36-424f-838a-5ff8635c1be6",
     "prev": "2b410a8f-c713-41ef-8fda-0e6c8b5da978",
     "regions": {
      "14e90553-c835-4623-9c11-d7f179f9e5ef": {
       "attrs": {
        "height": 0.8,
        "width": 0.8,
        "x": 0.1,
        "y": 0.1
       },
       "content": {
        "cell": "31f11d90-f4a9-47de-9532-43e8a732d169",
        "part": "whole"
       },
       "id": "14e90553-c835-4623-9c11-d7f179f9e5ef"
      }
     }
    },
    "9273f18a-c1eb-4eb9-a62c-ac2e5a032d84": {
     "id": "9273f18a-c1eb-4eb9-a62c-ac2e5a032d84",
     "prev": "583198dc-0778-47bd-b5da-eb8452262059",
     "regions": {
      "c0374ce2-7d78-41e9-9c72-ea7d934c8016": {
       "attrs": {
        "height": 0.8,
        "width": 0.8,
        "x": 0.1,
        "y": 0.1
       },
       "content": {
        "cell": "c9e449ee-322c-4e02-994c-2030ecdb1c25",
        "part": "whole"
       },
       "id": "c0374ce2-7d78-41e9-9c72-ea7d934c8016"
      }
     }
    },
    "92851fb7-20ab-4bc6-a47d-0c5335d51a18": {
     "id": "92851fb7-20ab-4bc6-a47d-0c5335d51a18",
     "prev": "3bcedb7c-215c-4168-9d0f-40211759306b",
     "regions": {
      "f2503d26-61bc-457d-9f08-eda2f3ab1908": {
       "attrs": {
        "height": 0.8,
        "width": 0.8,
        "x": 0.1,
        "y": 0.1
       },
       "content": {
        "cell": "34f1769f-a4d2-48e9-9ac9-84ccb2ee13a1",
        "part": "whole"
       },
       "id": "f2503d26-61bc-457d-9f08-eda2f3ab1908"
      }
     }
    },
    "9494d9d9-f00a-4342-89b2-9f804029757c": {
     "id": "9494d9d9-f00a-4342-89b2-9f804029757c",
     "prev": "b5df3657-0d91-4bff-ac2f-01ef212aa946",
     "regions": {
      "600ea6bf-b614-4a5c-b35b-d61359fe3216": {
       "attrs": {
        "height": 0.8,
        "width": 0.8,
        "x": 0.1,
        "y": 0.1
       },
       "content": {
        "cell": "ef79f899-30ba-4187-828a-f70e6b6db96a",
        "part": "whole"
       },
       "id": "600ea6bf-b614-4a5c-b35b-d61359fe3216"
      }
     }
    },
    "961f1eee-887c-42b4-9a98-d9f714e86be1": {
     "id": "961f1eee-887c-42b4-9a98-d9f714e86be1",
     "prev": "6ed5f410-0ba5-4233-9963-1c3f86796312",
     "regions": {
      "d5d26cbf-c81d-4902-bb25-531fa8bca9fa": {
       "attrs": {
        "height": 0.8,
        "width": 0.8,
        "x": 0.1,
        "y": 0.1
       },
       "content": {
        "cell": "6f663f76-a962-4a8a-9d92-a844bf4d3a85",
        "part": "whole"
       },
       "id": "d5d26cbf-c81d-4902-bb25-531fa8bca9fa"
      }
     }
    },
    "977664cd-9b9c-452d-b03e-a27a6edc077b": {
     "id": "977664cd-9b9c-452d-b03e-a27a6edc077b",
     "prev": "a308a88c-a241-49cd-bcf9-8e077ab73715",
     "regions": {
      "1947ced7-b85d-46ba-a74b-816755d94326": {
       "attrs": {
        "height": 0.8,
        "width": 0.8,
        "x": 0.1,
        "y": 0.1
       },
       "content": {
        "cell": "02fcb3df-60ec-4a18-bb89-3ad2e656a7b7",
        "part": "whole"
       },
       "id": "1947ced7-b85d-46ba-a74b-816755d94326"
      }
     }
    },
    "9ac50880-7f0c-4a0a-aefb-211491a8948b": {
     "id": "9ac50880-7f0c-4a0a-aefb-211491a8948b",
     "prev": "402aa611-79e4-48a5-8648-a94b196aa8e5",
     "regions": {
      "f2798514-7341-41e6-b27e-d51428ddaabd": {
       "attrs": {
        "height": 0.8,
        "width": 0.8,
        "x": 0.1,
        "y": 0.1
       },
       "content": {
        "cell": "1224cee5-2b99-451a-aa57-d645b90ab460",
        "part": "whole"
       },
       "id": "f2798514-7341-41e6-b27e-d51428ddaabd"
      }
     }
    },
    "9b8d299e-d2a7-4b53-96a3-62739e75e8f0": {
     "id": "9b8d299e-d2a7-4b53-96a3-62739e75e8f0",
     "prev": "9273f18a-c1eb-4eb9-a62c-ac2e5a032d84",
     "regions": {
      "d98932d3-4f4b-46d9-bbfd-bb77a2bff859": {
       "attrs": {
        "height": 0.8,
        "width": 0.8,
        "x": 0.1,
        "y": 0.1
       },
       "content": {
        "cell": "d7eb64cd-57fe-417f-bf93-460cd26bb88c",
        "part": "whole"
       },
       "id": "d98932d3-4f4b-46d9-bbfd-bb77a2bff859"
      }
     }
    },
    "9e87c1d7-6f3f-45c0-8fc1-023ec13d2807": {
     "id": "9e87c1d7-6f3f-45c0-8fc1-023ec13d2807",
     "prev": "2b8f5f97-5b40-4852-b2b6-f3f87fb9acf5",
     "regions": {
      "b8026361-f86b-4243-a645-3206867f981d": {
       "attrs": {
        "height": 0.8,
        "width": 0.8,
        "x": 0.1,
        "y": 0.1
       },
       "content": {
        "cell": "8e3d38dd-63d8-4ef7-9fc2-fe83fa797480",
        "part": "whole"
       },
       "id": "b8026361-f86b-4243-a645-3206867f981d"
      }
     }
    },
    "a308a88c-a241-49cd-bcf9-8e077ab73715": {
     "id": "a308a88c-a241-49cd-bcf9-8e077ab73715",
     "prev": "31d240d8-ce2b-47c2-991a-7200a6112418",
     "regions": {
      "d9df1c07-b17c-4e88-84ac-9dc1e0f8b26b": {
       "attrs": {
        "height": 0.8,
        "width": 0.8,
        "x": 0.1,
        "y": 0.1
       },
       "content": {
        "cell": "43387231-bb2f-4e36-92ae-f065d8ccca94",
        "part": "whole"
       },
       "id": "d9df1c07-b17c-4e88-84ac-9dc1e0f8b26b"
      }
     }
    },
    "a3af1508-0728-4252-a61e-051bc86c792c": {
     "id": "a3af1508-0728-4252-a61e-051bc86c792c",
     "prev": "17aefbc2-2b68-4157-b943-5e8c570a1ef0",
     "regions": {
      "b6184404-df12-4ced-b0fb-b702eaf91400": {
       "attrs": {
        "height": 0.8,
        "width": 0.8,
        "x": 0.1,
        "y": 0.1
       },
       "content": {
        "cell": "6ad53a11-430f-48f6-894d-822b76b98d19",
        "part": "whole"
       },
       "id": "b6184404-df12-4ced-b0fb-b702eaf91400"
      }
     }
    },
    "a5f6332f-84b6-4c08-884d-6e33b6d3e3c9": {
     "id": "a5f6332f-84b6-4c08-884d-6e33b6d3e3c9",
     "prev": "3903364d-032c-4d82-bb2e-ef3a7c53c6fc",
     "regions": {
      "87cc24c2-4c63-4043-b58e-19725af4845f": {
       "attrs": {
        "height": 0.8,
        "width": 0.8,
        "x": 0.1,
        "y": 0.1
       },
       "content": {
        "cell": "28d00a76-9e91-4162-b293-12b32c0a807b",
        "part": "whole"
       },
       "id": "87cc24c2-4c63-4043-b58e-19725af4845f"
      }
     }
    },
    "a757a190-9f76-4818-844e-04783de623f4": {
     "id": "a757a190-9f76-4818-844e-04783de623f4",
     "prev": "9b8d299e-d2a7-4b53-96a3-62739e75e8f0",
     "regions": {
      "858f9612-50b9-4be9-bd3f-12cf902c0300": {
       "attrs": {
        "height": 0.8,
        "width": 0.8,
        "x": 0.1,
        "y": 0.1
       },
       "content": {
        "cell": "1da9cdd8-5502-4107-a36f-6a86d60e6952",
        "part": "whole"
       },
       "id": "858f9612-50b9-4be9-bd3f-12cf902c0300"
      }
     }
    },
    "a82157aa-9287-4597-8705-2397dc5b040b": {
     "id": "a82157aa-9287-4597-8705-2397dc5b040b",
     "prev": "f0372d61-9d23-430d-90a7-49b1c12a7fe8",
     "regions": {
      "c0c89fed-e13e-4c15-805f-8060f114aefb": {
       "attrs": {
        "height": 0.8,
        "width": 0.8,
        "x": 0.1,
        "y": 0.1
       },
       "content": {
        "cell": "0b758953-7071-4524-80b3-28b2a7810bcd",
        "part": "whole"
       },
       "id": "c0c89fed-e13e-4c15-805f-8060f114aefb"
      }
     }
    },
    "a9335c8c-a01c-43a6-a718-ec7c05b4ce73": {
     "id": "a9335c8c-a01c-43a6-a718-ec7c05b4ce73",
     "prev": "d7461c72-861c-47d6-8cd3-5f4b2fa0a8ae",
     "regions": {
      "d248e237-cfe4-462f-8c53-0cb76e754a7d": {
       "attrs": {
        "height": 0.8,
        "width": 0.8,
        "x": 0.1,
        "y": 0.1
       },
       "content": {
        "cell": "d25f4c91-25d8-429c-b83f-fd153abfa221",
        "part": "whole"
       },
       "id": "d248e237-cfe4-462f-8c53-0cb76e754a7d"
      }
     }
    },
    "a9a838dd-6675-4226-8a90-ca1d500ad356": {
     "id": "a9a838dd-6675-4226-8a90-ca1d500ad356",
     "prev": "fe301171-0c14-458d-88bb-aff068272f47",
     "regions": {
      "a192088f-688b-4c44-a454-cda4bdfa2bcc": {
       "attrs": {
        "height": 0.8,
        "width": 0.8,
        "x": 0.1,
        "y": 0.1
       },
       "content": {
        "cell": "bdaa7c14-3c92-4ad6-8fd9-2e64c123c2ec",
        "part": "whole"
       },
       "id": "a192088f-688b-4c44-a454-cda4bdfa2bcc"
      }
     }
    },
    "ada63689-48b8-45b0-8b1d-7e955ff92828": {
     "id": "ada63689-48b8-45b0-8b1d-7e955ff92828",
     "prev": "d287c1b5-12b8-4262-b291-8dff16cf9c02",
     "regions": {
      "1dc27ad9-4b70-4827-9ece-22a8d9f7ee07": {
       "attrs": {
        "height": 0.8,
        "width": 0.8,
        "x": 0.1,
        "y": 0.1
       },
       "content": {
        "cell": "98f46d75-3c7e-45c1-94c5-e2c353f548d1",
        "part": "whole"
       },
       "id": "1dc27ad9-4b70-4827-9ece-22a8d9f7ee07"
      }
     }
    },
    "af2dcaad-7dc7-4b4e-b38d-7c9b38bd9c9a": {
     "id": "af2dcaad-7dc7-4b4e-b38d-7c9b38bd9c9a",
     "prev": "fb17abb6-4847-40f7-ac10-89e4f7ee477a",
     "regions": {
      "c0e70dbd-dbaa-49f3-b5fc-b140bbe6c15b": {
       "attrs": {
        "height": 0.8,
        "width": 0.8,
        "x": 0.1,
        "y": 0.1
       },
       "content": {
        "cell": "782f9176-b75e-42ad-9a24-ce7d024bf728",
        "part": "whole"
       },
       "id": "c0e70dbd-dbaa-49f3-b5fc-b140bbe6c15b"
      }
     }
    },
    "b3b654b4-bfbd-40cd-a933-1d3f0e0be94e": {
     "id": "b3b654b4-bfbd-40cd-a933-1d3f0e0be94e",
     "prev": "4f72ddad-c1a7-4089-8514-dff9abed4c84",
     "regions": {
      "8582c84f-dc97-474b-8dc5-525c8467a2e8": {
       "attrs": {
        "height": 0.8,
        "width": 0.8,
        "x": 0.1,
        "y": 0.1
       },
       "content": {
        "cell": "e6d96526-c2bf-4e0e-8d25-0c8845265add",
        "part": "whole"
       },
       "id": "8582c84f-dc97-474b-8dc5-525c8467a2e8"
      }
     }
    },
    "b545af1d-bf8a-4a6b-90b1-5a6bd7949b29": {
     "id": "b545af1d-bf8a-4a6b-90b1-5a6bd7949b29",
     "prev": "d48d5498-6467-46e6-9eea-992d309e893f",
     "regions": {
      "927b8776-1df6-4243-827c-8b47d084d61f": {
       "attrs": {
        "height": 0.8,
        "width": 0.8,
        "x": 0.1,
        "y": 0.1
       },
       "content": {
        "cell": "fab7978c-9321-402f-9448-9ea8207a46d3",
        "part": "whole"
       },
       "id": "927b8776-1df6-4243-827c-8b47d084d61f"
      }
     }
    },
    "b5df3657-0d91-4bff-ac2f-01ef212aa946": {
     "id": "b5df3657-0d91-4bff-ac2f-01ef212aa946",
     "prev": "294fda86-1c0e-4228-b20f-2f8d4612f3aa",
     "regions": {
      "35fa93bc-50fb-489d-9ac4-dfc9d5daea97": {
       "attrs": {
        "height": 0.8,
        "width": 0.8,
        "x": 0.1,
        "y": 0.1
       },
       "content": {
        "cell": "628007fb-6d97-4485-b40d-0d02f38f615f",
        "part": "whole"
       },
       "id": "35fa93bc-50fb-489d-9ac4-dfc9d5daea97"
      }
     }
    },
    "b6320f6d-a432-4ee6-b848-41a9442fd06f": {
     "id": "b6320f6d-a432-4ee6-b848-41a9442fd06f",
     "prev": "3c4df364-bc0b-4d1d-875b-7265b36bab1a",
     "regions": {
      "05c7a644-f0f8-4bd8-a3c5-18156b46d00b": {
       "attrs": {
        "height": 0.8,
        "width": 0.8,
        "x": 0.1,
        "y": 0.1
       },
       "content": {
        "cell": "51830d00-4633-4bb1-b0ad-905c8bd2d104",
        "part": "whole"
       },
       "id": "05c7a644-f0f8-4bd8-a3c5-18156b46d00b"
      }
     }
    },
    "bc517076-172e-4e79-87f7-d44c766f4d28": {
     "id": "bc517076-172e-4e79-87f7-d44c766f4d28",
     "prev": "d04962b3-edb2-4979-9dd2-5f2298f895ef",
     "regions": {
      "43f02af1-aebe-4a5a-bd4a-6ac5cb05b76e": {
       "attrs": {
        "height": 0.8,
        "width": 0.8,
        "x": 0.1,
        "y": 0.1
       },
       "content": {
        "cell": "c760b821-c816-4f4e-bbf3-d2c1a2266fa4",
        "part": "whole"
       },
       "id": "43f02af1-aebe-4a5a-bd4a-6ac5cb05b76e"
      }
     }
    },
    "bfa0c972-f2df-4cf1-bffc-dd050515f358": {
     "id": "bfa0c972-f2df-4cf1-bffc-dd050515f358",
     "prev": "4d55a960-0d7d-4765-abfd-c2f9e62fb42e",
     "regions": {
      "4b3c9503-a7a9-4646-8b3d-02254d841e13": {
       "attrs": {
        "height": 0.8,
        "width": 0.8,
        "x": 0.1,
        "y": 0.1
       },
       "content": {
        "cell": "068cda1e-2fe3-417b-b4ca-e2398df5d0f9",
        "part": "whole"
       },
       "id": "4b3c9503-a7a9-4646-8b3d-02254d841e13"
      }
     }
    },
    "c0318187-11b5-41b3-8bb5-68d00f22b1c7": {
     "id": "c0318187-11b5-41b3-8bb5-68d00f22b1c7",
     "prev": "7c0c172e-8cb9-48d0-84b2-ae3230106031",
     "regions": {
      "78684b78-b2f5-4d01-b379-f9dfb3f587d6": {
       "attrs": {
        "height": 0.8,
        "width": 0.8,
        "x": 0.1,
        "y": 0.1
       },
       "content": {
        "cell": "fbaa0685-cf65-4496-874c-eef8aa3a380c",
        "part": "whole"
       },
       "id": "78684b78-b2f5-4d01-b379-f9dfb3f587d6"
      }
     }
    },
    "c714a1d9-1f43-4745-ac58-ebf7cd1ec785": {
     "id": "c714a1d9-1f43-4745-ac58-ebf7cd1ec785",
     "prev": "6a9d4348-53e4-4a13-aa47-9f39467f20b1",
     "regions": {
      "2c7d7d16-d5ab-49a3-9551-f398ad090608": {
       "attrs": {
        "height": 0.8,
        "width": 0.8,
        "x": 0.1,
        "y": 0.1
       },
       "content": {
        "cell": "76a831ff-98a6-4bfc-b2e8-b6b4d77394a9",
        "part": "whole"
       },
       "id": "2c7d7d16-d5ab-49a3-9551-f398ad090608"
      }
     }
    },
    "c81323aa-9052-4c19-9566-c92c90b3e24f": {
     "id": "c81323aa-9052-4c19-9566-c92c90b3e24f",
     "prev": "05e6f6e4-30d7-47db-abbb-8b2fcac0f4bd",
     "regions": {
      "6539172c-013c-4837-a6c9-c2cd68b65d0c": {
       "attrs": {
        "height": 0.8,
        "width": 0.8,
        "x": 0.1,
        "y": 0.1
       },
       "content": {
        "cell": "fb00be53-908d-46b6-91c7-a3b052d08f6f",
        "part": "whole"
       },
       "id": "6539172c-013c-4837-a6c9-c2cd68b65d0c"
      }
     }
    },
    "cb5c46f2-94d5-4b89-8f2f-e4d358a23a9c": {
     "id": "cb5c46f2-94d5-4b89-8f2f-e4d358a23a9c",
     "prev": "6d2ee418-2cf0-45c6-829d-c0f0a818ed1b",
     "regions": {
      "8273fc56-5cab-4d6d-9f3d-77332f742eac": {
       "attrs": {
        "height": 0.8,
        "width": 0.8,
        "x": 0.1,
        "y": 0.1
       },
       "content": {
        "cell": "9f20bc33-4c40-445f-8373-31a970260f93",
        "part": "whole"
       },
       "id": "8273fc56-5cab-4d6d-9f3d-77332f742eac"
      }
     }
    },
    "cc340e7b-5924-4e62-8533-2e04b95aa763": {
     "id": "cc340e7b-5924-4e62-8533-2e04b95aa763",
     "prev": "4debe7c0-5f60-4a94-86c7-71dcb3029df1",
     "regions": {
      "8eeab619-1a52-4de5-aae5-84ef2523fa32": {
       "attrs": {
        "height": 0.8,
        "width": 0.8,
        "x": 0.1,
        "y": 0.1
       },
       "content": {
        "cell": "a05c2e7b-ce0e-4913-b626-ed8f581f6025",
        "part": "whole"
       },
       "id": "8eeab619-1a52-4de5-aae5-84ef2523fa32"
      }
     }
    },
    "cc3b200d-6348-4796-ba86-ad11548663ec": {
     "id": "cc3b200d-6348-4796-ba86-ad11548663ec",
     "prev": "12418562-2c2f-4a73-ae9a-810070ae0e80",
     "regions": {
      "b250bcf2-817d-4cb0-bb3b-dc4719ab51d3": {
       "attrs": {
        "height": 0.8,
        "width": 0.8,
        "x": 0.1,
        "y": 0.1
       },
       "content": {
        "cell": "64923679-ab68-4f9d-a573-d07738e247e4",
        "part": "whole"
       },
       "id": "b250bcf2-817d-4cb0-bb3b-dc4719ab51d3"
      }
     }
    },
    "ce44f305-c37f-4369-85bf-d77ee88f95e3": {
     "id": "ce44f305-c37f-4369-85bf-d77ee88f95e3",
     "prev": "165f4973-c190-4fbc-8ffc-3e74f46ad051",
     "regions": {
      "12e52e46-3ef0-457f-a9ce-43c7eae88cc5": {
       "attrs": {
        "height": 0.8,
        "width": 0.8,
        "x": 0.1,
        "y": 0.1
       },
       "content": {
        "cell": "3015a4a3-57d6-4446-b8cb-988df189ad18",
        "part": "whole"
       },
       "id": "12e52e46-3ef0-457f-a9ce-43c7eae88cc5"
      }
     }
    },
    "d023244b-0df9-4042-a66a-b778c5688cec": {
     "id": "d023244b-0df9-4042-a66a-b778c5688cec",
     "prev": "cc3b200d-6348-4796-ba86-ad11548663ec",
     "regions": {
      "22cb547d-e45a-4e14-9701-26b9ab24e7b2": {
       "attrs": {
        "height": 0.8,
        "width": 0.8,
        "x": 0.1,
        "y": 0.1
       },
       "content": {
        "cell": "fac5d1fd-10ee-4e50-b26a-9e081bc612ca",
        "part": "whole"
       },
       "id": "22cb547d-e45a-4e14-9701-26b9ab24e7b2"
      }
     }
    },
    "d04962b3-edb2-4979-9dd2-5f2298f895ef": {
     "id": "d04962b3-edb2-4979-9dd2-5f2298f895ef",
     "prev": "6568c817-96af-4bf3-a4f3-e7c247cd2c2f",
     "regions": {
      "6d9dd34b-95f1-4946-b22a-87442eb66490": {
       "attrs": {
        "height": 0.8,
        "width": 0.8,
        "x": 0.1,
        "y": 0.1
       },
       "content": {
        "cell": "52c2ac6f-cec6-45dd-8eb8-85774e59e90b",
        "part": "whole"
       },
       "id": "6d9dd34b-95f1-4946-b22a-87442eb66490"
      }
     }
    },
    "d1689300-e8d0-4795-8964-4655b5b08c52": {
     "id": "d1689300-e8d0-4795-8964-4655b5b08c52",
     "prev": "6d3068d5-8da1-40fd-847c-f90ef35535dd",
     "regions": {
      "152250ff-67bc-4299-9f88-b34a29f14ba8": {
       "attrs": {
        "height": 0.8,
        "width": 0.8,
        "x": 0.1,
        "y": 0.1
       },
       "content": {
        "cell": "b4bf6067-63be-4f6a-9dc0-d773ff61183f",
        "part": "whole"
       },
       "id": "152250ff-67bc-4299-9f88-b34a29f14ba8"
      }
     }
    },
    "d287c1b5-12b8-4262-b291-8dff16cf9c02": {
     "id": "d287c1b5-12b8-4262-b291-8dff16cf9c02",
     "prev": "6999910b-c460-4350-8d94-ef01c297e372",
     "regions": {
      "60340084-6a23-49f1-8c9d-aab8592e17da": {
       "attrs": {
        "height": 0.8,
        "width": 0.8,
        "x": 0.1,
        "y": 0.1
       },
       "content": {
        "cell": "6835721c-a2e8-4e4b-852f-3f21f000ac15",
        "part": "whole"
       },
       "id": "60340084-6a23-49f1-8c9d-aab8592e17da"
      }
     }
    },
    "d2d9d728-b7c6-4ff1-a2ba-238c346ac3d3": {
     "id": "d2d9d728-b7c6-4ff1-a2ba-238c346ac3d3",
     "prev": "9e87c1d7-6f3f-45c0-8fc1-023ec13d2807",
     "regions": {
      "1210cb5d-305f-44f6-bae2-43fa41d6382f": {
       "attrs": {
        "height": 0.8,
        "width": 0.8,
        "x": 0.1,
        "y": 0.1
       },
       "content": {
        "cell": "549b7056-d02d-4447-8c3f-512c76d9a72a",
        "part": "whole"
       },
       "id": "1210cb5d-305f-44f6-bae2-43fa41d6382f"
      }
     }
    },
    "d38aafaf-bbc7-444c-a0be-83f119395f20": {
     "id": "d38aafaf-bbc7-444c-a0be-83f119395f20",
     "prev": "085e4862-e0bc-447f-a7fb-6601df570e52",
     "regions": {
      "283b5c79-3f0e-4d0c-a0d4-356ff62df472": {
       "attrs": {
        "height": 0.8,
        "width": 0.8,
        "x": 0.1,
        "y": 0.1
       },
       "content": {
        "cell": "1a00a102-27ca-40c9-a9a0-b7ad404d5404",
        "part": "whole"
       },
       "id": "283b5c79-3f0e-4d0c-a0d4-356ff62df472"
      }
     }
    },
    "d48d5498-6467-46e6-9eea-992d309e893f": {
     "id": "d48d5498-6467-46e6-9eea-992d309e893f",
     "prev": "4f549eaf-dff5-4248-a62c-f992e3e3e424",
     "regions": {
      "80ec63aa-702d-43cc-a5f6-7ea7d6c2674a": {
       "attrs": {
        "height": 0.8,
        "width": 0.8,
        "x": 0.1,
        "y": 0.1
       },
       "content": {
        "cell": "c6dfc41d-956a-4dc0-99d2-38c01e14f029",
        "part": "whole"
       },
       "id": "80ec63aa-702d-43cc-a5f6-7ea7d6c2674a"
      }
     }
    },
    "d59e4268-8812-4b55-b414-801f747eab0d": {
     "id": "d59e4268-8812-4b55-b414-801f747eab0d",
     "prev": "6087a350-d111-465a-932d-2b13a8cab09c",
     "regions": {
      "5eba2f03-f4a0-4cf3-84cd-2d4c4d108278": {
       "attrs": {
        "height": 0.8,
        "width": 0.8,
        "x": 0.1,
        "y": 0.1
       },
       "content": {
        "cell": "0e37678f-7122-4fee-add3-ed365add40a1",
        "part": "whole"
       },
       "id": "5eba2f03-f4a0-4cf3-84cd-2d4c4d108278"
      }
     }
    },
    "d700088d-8a6c-4b0e-98ec-fc23cbbf08e1": {
     "id": "d700088d-8a6c-4b0e-98ec-fc23cbbf08e1",
     "prev": "d2d9d728-b7c6-4ff1-a2ba-238c346ac3d3",
     "regions": {
      "ba8443af-f73d-4007-86f2-60b807afc014": {
       "attrs": {
        "height": 0.8,
        "width": 0.8,
        "x": 0.1,
        "y": 0.1
       },
       "content": {
        "cell": "1a0baab6-297f-4cd5-9f7b-d701d85e2f19",
        "part": "whole"
       },
       "id": "ba8443af-f73d-4007-86f2-60b807afc014"
      }
     }
    },
    "d7461c72-861c-47d6-8cd3-5f4b2fa0a8ae": {
     "id": "d7461c72-861c-47d6-8cd3-5f4b2fa0a8ae",
     "prev": "80552154-7797-4007-9d1a-d74c0bc4d932",
     "regions": {
      "fa27f891-e785-4683-8411-0910ebbafbb7": {
       "attrs": {
        "height": 0.8,
        "width": 0.8,
        "x": 0.1,
        "y": 0.1
       },
       "content": {
        "cell": "27b32ab7-f980-4b9a-bfd5-020ca3a27435",
        "part": "whole"
       },
       "id": "fa27f891-e785-4683-8411-0910ebbafbb7"
      }
     }
    },
    "da55b3e5-680b-4826-a453-9aca7b0c3d5e": {
     "id": "da55b3e5-680b-4826-a453-9aca7b0c3d5e",
     "prev": "a757a190-9f76-4818-844e-04783de623f4",
     "regions": {
      "82cdaba4-433c-45f0-ba97-a2019aef1706": {
       "attrs": {
        "height": 0.8,
        "width": 0.8,
        "x": 0.1,
        "y": 0.1
       },
       "content": {
        "cell": "38b1b5de-2834-4d02-b0bf-6a785707b426",
        "part": "whole"
       },
       "id": "82cdaba4-433c-45f0-ba97-a2019aef1706"
      }
     }
    },
    "db910ea1-30a4-405b-ab2f-06efbc598786": {
     "id": "db910ea1-30a4-405b-ab2f-06efbc598786",
     "prev": "3fbaf052-43a5-4741-87e7-06b47d372fcc",
     "regions": {
      "58c6e957-0366-4a7f-b714-78b18a33283d": {
       "attrs": {
        "height": 0.8,
        "width": 0.8,
        "x": 0.1,
        "y": 0.1
       },
       "content": {
        "cell": "3f2f91c1-048d-47a6-a6a5-eb9d9e47cf89",
        "part": "whole"
       },
       "id": "58c6e957-0366-4a7f-b714-78b18a33283d"
      }
     }
    },
    "dd158925-fbe0-453d-a389-fa762a77f849": {
     "id": "dd158925-fbe0-453d-a389-fa762a77f849",
     "prev": "f9b6a2fe-95e1-4179-b5ee-9f21fdec29e5",
     "regions": {
      "c303791d-3cdf-4cd7-ad2b-1b043e56b040": {
       "attrs": {
        "height": 0.8,
        "width": 0.8,
        "x": 0.1,
        "y": 0.1
       },
       "content": {
        "cell": "2e75fad7-c65e-416a-b17a-4c31e22332df",
        "part": "whole"
       },
       "id": "c303791d-3cdf-4cd7-ad2b-1b043e56b040"
      }
     }
    },
    "e69a4639-ba6c-4884-b75b-0d251d16be6c": {
     "id": "e69a4639-ba6c-4884-b75b-0d251d16be6c",
     "prev": "ada63689-48b8-45b0-8b1d-7e955ff92828",
     "regions": {
      "0319e5c7-8937-48a6-9326-97fb7204d6f8": {
       "attrs": {
        "height": 0.8,
        "width": 0.8,
        "x": 0.1,
        "y": 0.1
       },
       "content": {
        "cell": "d6f91b75-c09c-4b28-87f6-fd2a2c1a7901",
        "part": "whole"
       },
       "id": "0319e5c7-8937-48a6-9326-97fb7204d6f8"
      }
     }
    },
    "e8d91b2d-e1d3-4e2e-8851-bdb12d1f3d3e": {
     "id": "e8d91b2d-e1d3-4e2e-8851-bdb12d1f3d3e",
     "prev": "0e5e11ab-4e63-4ef5-ace5-90c77314eb47",
     "regions": {
      "ce98230c-b880-4a6e-8cc5-54ed27711b3b": {
       "attrs": {
        "height": 0.8,
        "width": 0.8,
        "x": 0.1,
        "y": 0.1
       },
       "content": {
        "cell": "be3aa2b2-6f35-4415-b542-6132d2adb77c",
        "part": "whole"
       },
       "id": "ce98230c-b880-4a6e-8cc5-54ed27711b3b"
      }
     }
    },
    "ea615bb9-dc78-4468-95a5-43bac6e73f27": {
     "id": "ea615bb9-dc78-4468-95a5-43bac6e73f27",
     "prev": "f80df8fe-09c1-43e7-91c9-c5c3c6983bbe",
     "regions": {
      "5c0acbad-690c-4c51-afdc-133597783e30": {
       "attrs": {
        "height": 0.8,
        "width": 0.8,
        "x": 0.1,
        "y": 0.1
       },
       "content": {
        "cell": "6df98540-1409-41b5-af46-a5b6dcb407eb",
        "part": "whole"
       },
       "id": "5c0acbad-690c-4c51-afdc-133597783e30"
      }
     }
    },
    "eba4d5c9-f0d3-44d6-bc48-dd37e9fd1eb1": {
     "id": "eba4d5c9-f0d3-44d6-bc48-dd37e9fd1eb1",
     "prev": "9494d9d9-f00a-4342-89b2-9f804029757c",
     "regions": {
      "f3ee8385-7e84-42ab-bc9c-0d305021a66f": {
       "attrs": {
        "height": 0.8,
        "width": 0.8,
        "x": 0.1,
        "y": 0.1
       },
       "content": {
        "cell": "597ed557-44f5-476b-8117-19506d4ad1da",
        "part": "whole"
       },
       "id": "f3ee8385-7e84-42ab-bc9c-0d305021a66f"
      }
     }
    },
    "ebd07225-6d09-44dd-8236-6520b0d65d3c": {
     "id": "ebd07225-6d09-44dd-8236-6520b0d65d3c",
     "prev": "2ae221f1-a9a3-4114-aa29-db74d78683e8",
     "regions": {
      "bcec1248-ba61-4eba-aa41-5ffab7a69c37": {
       "attrs": {
        "height": 0.8,
        "width": 0.8,
        "x": 0.1,
        "y": 0.1
       },
       "content": {
        "cell": "497403fa-2735-45f3-bc65-7595b704a0b8",
        "part": "whole"
       },
       "id": "bcec1248-ba61-4eba-aa41-5ffab7a69c37"
      }
     }
    },
    "f0372d61-9d23-430d-90a7-49b1c12a7fe8": {
     "id": "f0372d61-9d23-430d-90a7-49b1c12a7fe8",
     "prev": "db910ea1-30a4-405b-ab2f-06efbc598786",
     "regions": {
      "e40e0c8e-7052-4938-8bd3-b4026e7878a8": {
       "attrs": {
        "height": 0.8,
        "width": 0.8,
        "x": 0.1,
        "y": 0.1
       },
       "content": {
        "cell": "e57bd8e3-7c69-4040-80aa-842e50101e35",
        "part": "whole"
       },
       "id": "e40e0c8e-7052-4938-8bd3-b4026e7878a8"
      }
     }
    },
    "f2c79c9f-4f59-4226-bba6-3df8dcb680e7": {
     "id": "f2c79c9f-4f59-4226-bba6-3df8dcb680e7",
     "prev": "0f1b0628-9726-4db9-b1a3-b6d9ad5fe5fd",
     "regions": {
      "8cc0876f-e6de-4395-a772-d2856e289259": {
       "attrs": {
        "height": 0.8,
        "width": 0.8,
        "x": 0.1,
        "y": 0.1
       },
       "content": {
        "cell": "b03eae0d-499c-4696-97ac-c2902b390ed6",
        "part": "whole"
       },
       "id": "8cc0876f-e6de-4395-a772-d2856e289259"
      }
     }
    },
    "f3787240-8aa3-4d7b-a94d-20d90ea56fb9": {
     "id": "f3787240-8aa3-4d7b-a94d-20d90ea56fb9",
     "prev": "d700088d-8a6c-4b0e-98ec-fc23cbbf08e1",
     "regions": {
      "0d29df7c-4b4c-463b-8ef9-f11d14bf0d6e": {
       "attrs": {
        "height": 0.8,
        "width": 0.8,
        "x": 0.1,
        "y": 0.1
       },
       "content": {
        "cell": "19194345-9e54-432a-858e-f5dbdaaad9b4",
        "part": "whole"
       },
       "id": "0d29df7c-4b4c-463b-8ef9-f11d14bf0d6e"
      }
     }
    },
    "f80df8fe-09c1-43e7-91c9-c5c3c6983bbe": {
     "id": "f80df8fe-09c1-43e7-91c9-c5c3c6983bbe",
     "prev": "62f1022d-80b0-499d-9e70-2ce4e999c1c3",
     "regions": {
      "980eeee0-b6fe-4d26-8567-ad5fcc236d1c": {
       "attrs": {
        "height": 0.8,
        "width": 0.8,
        "x": 0.1,
        "y": 0.1
       },
       "content": {
        "cell": "f165ffc1-3ff4-4251-936c-54c4d34753b4",
        "part": "whole"
       },
       "id": "980eeee0-b6fe-4d26-8567-ad5fcc236d1c"
      }
     }
    },
    "f86eee06-e844-4a2e-802a-90ba9ad96e3d": {
     "id": "f86eee06-e844-4a2e-802a-90ba9ad96e3d",
     "prev": "6fbb401a-986c-42de-b87c-27d612ce58ba",
     "regions": {
      "d445a70c-b2cd-4a6b-beba-106e6fb62563": {
       "attrs": {
        "height": 0.8,
        "width": 0.8,
        "x": 0.1,
        "y": 0.1
       },
       "content": {
        "cell": "1ce689e2-e61b-4365-9a7e-fa9ead4090e5",
        "part": "whole"
       },
       "id": "d445a70c-b2cd-4a6b-beba-106e6fb62563"
      }
     }
    },
    "f9b6a2fe-95e1-4179-b5ee-9f21fdec29e5": {
     "id": "f9b6a2fe-95e1-4179-b5ee-9f21fdec29e5",
     "prev": "0d7edcdd-ae4b-4fce-b30f-ffdab92d94d2",
     "regions": {
      "06e57f2b-a3c5-4b0e-b5e7-6a9638b60217": {
       "attrs": {
        "height": 0.8,
        "width": 0.8,
        "x": 0.1,
        "y": 0.1
       },
       "content": {
        "cell": "56588e55-6c13-49fc-8f08-b4d8cdab197e",
        "part": "whole"
       },
       "id": "06e57f2b-a3c5-4b0e-b5e7-6a9638b60217"
      }
     }
    },
    "fb17abb6-4847-40f7-ac10-89e4f7ee477a": {
     "id": "fb17abb6-4847-40f7-ac10-89e4f7ee477a",
     "prev": "ebd07225-6d09-44dd-8236-6520b0d65d3c",
     "regions": {
      "e26164c6-5771-4563-8aaa-1c46379acc75": {
       "attrs": {
        "height": 0.8,
        "width": 0.8,
        "x": 0.1,
        "y": 0.1
       },
       "content": {
        "cell": "1188865b-f845-4480-8b80-eb33002c7112",
        "part": "whole"
       },
       "id": "e26164c6-5771-4563-8aaa-1c46379acc75"
      }
     }
    },
    "fe301171-0c14-458d-88bb-aff068272f47": {
     "id": "fe301171-0c14-458d-88bb-aff068272f47",
     "prev": "316d7a9b-2013-4367-b606-e2c5374d7e21",
     "regions": {
      "13313343-de42-498c-9e3a-49e0cc74f05f": {
       "attrs": {
        "height": 0.8,
        "width": 0.8,
        "x": 0.1,
        "y": 0.1
       },
       "content": {
        "cell": "4a5b86a3-e74c-4e4d-bb00-1ca0a14a92d4",
        "part": "whole"
       },
       "id": "13313343-de42-498c-9e3a-49e0cc74f05f"
      }
     }
    },
    "fea4fb1e-6bf0-4185-93db-e4a75ca7a8cd": {
     "id": "fea4fb1e-6bf0-4185-93db-e4a75ca7a8cd",
     "prev": "cb5c46f2-94d5-4b89-8f2f-e4d358a23a9c",
     "regions": {
      "4212f21c-960d-45c4-a4b9-fab9568cc4f0": {
       "attrs": {
        "height": 0.8,
        "width": 0.8,
        "x": 0.1,
        "y": 0.1
       },
       "content": {
        "cell": "2f46b208-c7ba-4c1c-98e3-91bda5f67db3",
        "part": "whole"
       },
       "id": "4212f21c-960d-45c4-a4b9-fab9568cc4f0"
      }
     }
    },
    "feeb7a0c-afb9-40e2-b2d1-55daa4f1d78a": {
     "id": "feeb7a0c-afb9-40e2-b2d1-55daa4f1d78a",
     "prev": "1c8b1251-de68-4fa2-befd-781c97454dbc",
     "regions": {
      "1b62c21b-f79b-4921-a045-05cd5b35fcaa": {
       "attrs": {
        "height": 0.8,
        "width": 0.8,
        "x": 0.1,
        "y": 0.1
       },
       "content": {
        "cell": "4b740aa3-90e9-46d2-b87d-609ec497119b",
        "part": "whole"
       },
       "id": "1b62c21b-f79b-4921-a045-05cd5b35fcaa"
      }
     }
    }
   },
   "themes": {}
  },
  "toc": {
   "navigate_menu": true,
   "number_sections": true,
   "sideBar": true,
   "threshold": 6,
   "toc_cell": false,
   "toc_section_display": "block",
   "toc_window_display": false
  }
 },
 "nbformat": 4,
 "nbformat_minor": 0
}
