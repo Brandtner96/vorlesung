{
 "cells": [
  {
   "cell_type": "markdown",
   "metadata": {
    "button": false,
    "deletable": true,
    "new_sheet": false,
    "run_control": {
     "read_only": false
    }
   },
   "source": [
    "# Vorlesung: NLTK\n",
    "\n"
   ]
  },
  {
   "cell_type": "code",
   "execution_count": 5,
   "metadata": {
    "button": false,
    "collapsed": false,
    "deletable": true,
    "new_sheet": false,
    "run_control": {
     "read_only": false
    }
   },
   "outputs": [],
   "source": [
    "import json\n",
    "import pandas as pd\n",
    "import re\n",
    "import numpy as np\n",
    "import requests"
   ]
  },
  {
   "cell_type": "markdown",
   "metadata": {},
   "source": [
    "## Laden des Dataframe Notebooks. \n",
    "\n",
    "Durch das Jupyter CMS Modul können Notebooks wie Module geladen werden. Dadurch können zB. Vorarbeiten in ein anderes Notebook ausgelagert und so die Übersichtlichkeit verbessert werden."
   ]
  },
  {
   "cell_type": "code",
   "execution_count": 26,
   "metadata": {
    "collapsed": false
   },
   "outputs": [],
   "source": [
    "%load_ext jupyter_cms"
   ]
  },
  {
   "cell_type": "code",
   "execution_count": 27,
   "metadata": {
    "collapsed": true
   },
   "outputs": [],
   "source": [
    "from jupyter_cms.loader import load_notebook"
   ]
  },
  {
   "cell_type": "code",
   "execution_count": 31,
   "metadata": {
    "collapsed": false
   },
   "outputs": [],
   "source": [
    "poleis = load_notebook('./CH_Dataframes.ipynb')"
   ]
  },
  {
   "cell_type": "markdown",
   "metadata": {},
   "source": [
    "Der Dataframe steht nun unter dem Namen `poleis.dfPoleisGesamt` zur Verfügung. "
   ]
  },
  {
   "cell_type": "code",
   "execution_count": 33,
   "metadata": {
    "collapsed": false
   },
   "outputs": [
    {
     "data": {
      "text/html": [
       "<div>\n",
       "<table border=\"1\" class=\"dataframe\">\n",
       "  <thead>\n",
       "    <tr style=\"text-align: right;\">\n",
       "      <th></th>\n",
       "      <th>Beschreibung</th>\n",
       "      <th>region</th>\n",
       "      <th>city</th>\n",
       "      <th>Quellen</th>\n",
       "    </tr>\n",
       "  </thead>\n",
       "  <tbody>\n",
       "    <tr>\n",
       "      <th>0</th>\n",
       "      <td>Identifier: 233. , (Ascheieus) Unlocated.  Typ...</td>\n",
       "      <td>Achaia</td>\n",
       "      <td>Ascheion</td>\n",
       "      <td>None</td>\n",
       "    </tr>\n",
       "    <tr>\n",
       "      <th>1</th>\n",
       "      <td>Identifier: 235. , (Bourios) Map  58.  Lat. 38...</td>\n",
       "      <td>Achaia</td>\n",
       "      <td>Boura</td>\n",
       "      <td>[Paus. 7.25.8, Strabo  8.7.5, Hall  ( 1996), R...</td>\n",
       "    </tr>\n",
       "  </tbody>\n",
       "</table>\n",
       "</div>"
      ],
      "text/plain": [
       "                                        Beschreibung  region      city  \\\n",
       "0  Identifier: 233. , (Ascheieus) Unlocated.  Typ...  Achaia  Ascheion   \n",
       "1  Identifier: 235. , (Bourios) Map  58.  Lat. 38...  Achaia     Boura   \n",
       "\n",
       "                                             Quellen  \n",
       "0                                               None  \n",
       "1  [Paus. 7.25.8, Strabo  8.7.5, Hall  ( 1996), R...  "
      ]
     },
     "execution_count": 33,
     "metadata": {},
     "output_type": "execute_result"
    }
   ],
   "source": [
    "poleis.dfPoleisGesamt.head(2)"
   ]
  },
  {
   "cell_type": "markdown",
   "metadata": {},
   "source": [
    "## Laden der Poleis Daten aus dem edition-topoi Repository"
   ]
  },
  {
   "cell_type": "code",
   "execution_count": 6,
   "metadata": {
    "collapsed": false
   },
   "outputs": [
    {
     "data": {
      "text/plain": [
       "dict_keys(['Propontic Thrace', 'Doris', 'Lakedaimon', 'Crete', 'Ionia', 'Aitolia', 'Thrace from Axios to Strymon', 'Sikelia', 'Cyprus', 'Attika', 'Messenia', 'Epeiros', 'Lykia', 'East Lokris', 'The Adriatic', 'Megaris, Korinthia, Sikyonia', 'Thracian Chersonesos', 'Triphylia', 'The South Coast of Asia Minor (Pamphylia Kilikia)', 'Thrace from Nestos to Hebros', 'Rhodos', 'West Lokris', 'Inland Thrace', 'The Black Sea Area', 'Elis', 'The Propontic Coast of Asia Minor', 'The Aegean', 'Arkadia', 'Argolis', 'Phokis', 'Aiolis and South-western Mysia', 'Spain and France (including Corsica)', 'Troas', 'Euboia', 'Boiotia', 'Thrace from Strymon to Nestos', 'Lesbos', 'Italia and Kampania', 'Thessalia and Adjacent Regions', 'Akarnania and Adjacent Areas', 'Karia', 'The Saronic Gulf', 'Achaia', 'Makedonia'])"
      ]
     },
     "execution_count": 6,
     "metadata": {},
     "output_type": "execute_result"
    }
   ],
   "source": [
    "PoleisDataOnline2 = requests.get('http://repository.edition-topoi.org/MISC/ReposMISC/MISC00005/secondVersion.json')\n",
    "PoleisRawData2 = PoleisDataOnline2.json()\n",
    "PoleisRawData2.keys()"
   ]
  },
  {
   "cell_type": "code",
   "execution_count": 8,
   "metadata": {
    "collapsed": false
   },
   "outputs": [
    {
     "data": {
      "text/plain": [
       "dict_keys(['Tylisos', 'Lappa', 'Knosos', 'Kytaion', 'Apellonia', 'Eleutherna', 'Sybrita', 'Dragmos', 'Polichne', 'Praisos', 'Allaria', 'Polyrhen', 'Herakleion', 'Bionnos', 'Hierapytna', 'Tarrha', 'Anopolis', 'Malla', 'Dreros', 'Rhaukos', 'Phalasarna', 'Kydonia', 'Priansos', 'Arkades', 'Lyktos', 'Elyros', 'Hyrtakina', 'Stalai', 'Aulon', 'Itanos', 'Olous', 'Matala', 'Phaistos', 'Rhithymnos', 'Milatos', 'Aptara', 'Lisos', 'Datala', 'Keraia'])"
      ]
     },
     "execution_count": 8,
     "metadata": {},
     "output_type": "execute_result"
    }
   ],
   "source": [
    "PoleisRawData2['Crete'].keys()"
   ]
  },
  {
   "cell_type": "code",
   "execution_count": 9,
   "metadata": {
    "collapsed": true
   },
   "outputs": [],
   "source": [
    "text = PoleisRawData2['Achaia']['Helike']"
   ]
  },
  {
   "cell_type": "code",
   "execution_count": 10,
   "metadata": {
    "collapsed": false
   },
   "outputs": [
    {
     "data": {
      "text/plain": [
       "\"Identifier: 236. , (Helikeus) Map  58.  Lat. 38.15,long.  22.10.  Size of  territory: 1  or 2.  Type:  A.  Paus. 7.24.5  locates  Helike  40 stades  from  Aigion  (no. 231),  while  Strabo  8.7.2  (following Herakleides)  places  it  12  stades  from  the  sea.  This  should  put it  between  the  rivers  Selinous  and  Kerynitis  (Morgan  and Hall ( 1996)  175;  Barr.).  The  city,  which  was  overwhelmed  by a  tidal  wave  occasioned  by  an  earthquake  in  373  (Diod. 15.48.1\\xad49.4;  Polyb. 2.41.7;Strabo 8.7.2;  Paus. 7.24.6;Ael.  NA 11.19),  was  normally  supposed  to  lie  under  water  (cf.  Ov. Met. 15.293\\xad95),  but  sonar  investigation  suggests  that  it  may actually  lie  inland  under  massive  sedimentary  deposits  in the  vicinity  of  Nea  Keryneia  (Petropoulos  ( 1983);  cf.  Ptol. Geog. 3.14.36,  who  lists  Helike  among  the  inland  cities  of Achaia).  However,  Rizakis  ( 1995)  203\\xad4  finds all candidates for  ancient  Helike  unconvincing.  The  toponym  is  usually `,  (Hom.  Il. 2.575;  SEG 36  718  (C 5e);  Hdt. 1.145)  or `  (Syll. ³90.12),  though  Theophr.  Phys.  Op. 12.122  cites a  verse  which  gives  the  toponym  as  `.  The  city- ethnic  is  `  (Diod. 15.49.3). Helike  is  called  a  polis  in  the  urban  sense  in  Heraclid. Pont.  fr. 46a  (r 373)  and  Theophr.  Phys.  op. 12.122  (r 373),but  is absent  from  Ps.-Skylax's  list  of  Achaian  poleis  ( 42),  which may  suggest  that  this  chapter  was  composed  after  373. Retrospective  evidence  is  provided  by  Polyb. 2.41.7  (rC 4), who  calls  it  a  polis  in  the  political  sense,  and  by  Diod. 15.48.3 (r 373),  who  describes  it  as  a  polis  in  the  urban  sense.  The internal  collective  use  of  the  city-ethnic  is  probably  found (abbreviated)  on  C 4  coins  (infra),  and  the  external  collective use  is  found  in  Diod. 15.49.3  (r  ante 373).  A  citizen  of  Helike served  as  Delphic  theorodokos  in  C 5l  (Syll. ³90.12).According to Polyb. 2.41.6\\xad7  (rC 4),  Helike  had  been  a  member  of  the Achaian  Confederacy. The  early  physical  existence  of  Helike  is  attested  in  Hom. Il. 2.575  and  in  a  C 5e  inscription  (SEG 36  718;  see  also  Soter and  Katsonopoulou  ( 1999)).  Archaeological  investigations have  revealed  the  foundations  of  two  small  temples,  one Archaic,  the  other  Classical,  at  Nea  Keryneia,  which  may possibly  be  associated  with  the  acropolis  of  ancient  Helike (Petropoulos  ( 1990)).  The  most  important  sanctuary  at Helike  was,  however,  that  of  Poseidon  Helikonios  (Hom.  Il. 8.203;Diod.  15.49.2\\xad3;Strabo  8.7.2;  Paus. 7.24.5\\xad6),  and  it  is quite  likely  that  this  sanctuary  acted  as  a  common  place  of union  for  the  Achaians  prior  to  the  destruction  of Helike,  when  that  function  was  assumed  by  the  sanctuary of  Zeus  Homarios  near  Aigion  (Morgan  and  Hall  ( 1996) 195\\xad96,  contra  Aymard  ( 1938)  286\\xad87,  293;  Walbank ( 2000)). According  to  Strabo  6.1.13,  Is  of  Helike  was  the  founder  of Sybaris  (no. 70)  in  South  Italy.  The  reading  (  '  &lt;...  &gt; `) is,  however,  unsure,  and Bérard  ( 1957)  141  n. 2  proposed  either  &lt; &gt;  or &lt; &gt;. A  series  of  bronze  coins,  dating  to  C 4f,  depicts  obv.  head of  Poseidon.  Legend: (retr.).  Rev.  trident  between dolphins  in  wreath  (Head,  HN ²414). 236. \""
      ]
     },
     "execution_count": 10,
     "metadata": {},
     "output_type": "execute_result"
    }
   ],
   "source": [
    "text"
   ]
  },
  {
   "cell_type": "markdown",
   "metadata": {},
   "source": [
    "## NLTK Funktionen\n",
    "\n",
    "- Multi-word-expressions: MWETokenizer\n",
    "- Vortrainierte sprachenabhängige tagger: NLTKTagger\n",
    "- Spacy: eigener Tagger in nlp\n",
    "- Klammern Tagger: SExprTokenizer\n",
    "- PunktSentenceTokenizer: erkennt Sätze, kann ohne Kontrolle trainiert werden."
   ]
  },
  {
   "cell_type": "code",
   "execution_count": 11,
   "metadata": {
    "collapsed": false
   },
   "outputs": [],
   "source": [
    "from textblob import TextBlob\n",
    "from textblob.taggers import NLTKTagger\n",
    "\n",
    "from nltk.tokenize import MWETokenizer\n",
    "\n",
    "import spacy\n",
    "nlp = spacy.en.English()\n",
    "\n",
    "from nltk.tokenize import SExprTokenizer # Klammer Erkennung\n",
    "nltk_tagger = NLTKTagger()\n",
    "\n",
    "import nltk.data\n",
    "from nltk import PunktSentenceTokenizer # Verbesserte Satzerkennung"
   ]
  },
  {
   "cell_type": "markdown",
   "metadata": {},
   "source": [
    "## Textblob\n",
    "\n",
    "Generate blob using TextBlob. This allows identifying different parts of a text  (words, sentences)  or tagging words with their type (noun,verb,etc)"
   ]
  },
  {
   "cell_type": "code",
   "execution_count": 12,
   "metadata": {
    "collapsed": false
   },
   "outputs": [],
   "source": [
    "blob = TextBlob(text)"
   ]
  },
  {
   "cell_type": "markdown",
   "metadata": {},
   "source": [
    "Return noun phrases that contain more than one word."
   ]
  },
  {
   "cell_type": "code",
   "execution_count": 13,
   "metadata": {
    "collapsed": false
   },
   "outputs": [
    {
     "data": {
      "text/plain": [
       "['a. paus',\n",
       " '7.24.5 locates',\n",
       " 'tidal wave',\n",
       " 'sonar investigation suggests',\n",
       " 'lie inland',\n",
       " 'massive sedimentary deposits',\n",
       " 'nea keryneia',\n",
       " 'inland cities',\n",
       " 'c 5e',\n",
       " 'urban sense',\n",
       " \"'s list\",\n",
       " 'political sense',\n",
       " 'urban sense',\n",
       " 'internal collective use',\n",
       " 'collective use',\n",
       " 'c 5l',\n",
       " 'early physical existence',\n",
       " 'c 5e inscription',\n",
       " 'small temples',\n",
       " 'nea keryneia',\n",
       " 'important sanctuary',\n",
       " 'poseidon helikonios',\n",
       " 'common place',\n",
       " 'zeus homarios',\n",
       " 'bronze coins',\n",
       " 'c 4f',\n",
       " 'depicts obv']"
      ]
     },
     "execution_count": 13,
     "metadata": {},
     "output_type": "execute_result"
    }
   ],
   "source": [
    "[x for x in blob.noun_phrases if ' ' in x]"
   ]
  },
  {
   "cell_type": "markdown",
   "metadata": {},
   "source": [
    "Return tags  of first 10 words, for definition see e.g. https://www.ling.upenn.edu/courses/Fall_2003/ling001/penn_treebank_pos.html"
   ]
  },
  {
   "cell_type": "code",
   "execution_count": 14,
   "metadata": {
    "collapsed": false
   },
   "outputs": [
    {
     "data": {
      "text/plain": [
       "[('Identifier', 'NN'),\n",
       " ('236.', 'CD'),\n",
       " ('Helikeus', 'NNP'),\n",
       " ('Map', 'NNP'),\n",
       " ('58', 'CD'),\n",
       " ('Lat', 'NNP'),\n",
       " ('38.15', 'CD'),\n",
       " ('long', 'RB'),\n",
       " ('22.10', 'CD'),\n",
       " ('Size', 'NN')]"
      ]
     },
     "execution_count": 14,
     "metadata": {},
     "output_type": "execute_result"
    }
   ],
   "source": [
    "blob.tags[:10]"
   ]
  },
  {
   "cell_type": "markdown",
   "metadata": {},
   "source": [
    "If we are interested in proper nouns only, we can return a list of NNP tagged words"
   ]
  },
  {
   "cell_type": "code",
   "execution_count": 15,
   "metadata": {
    "collapsed": false
   },
   "outputs": [
    {
     "data": {
      "text/plain": [
       "[('Helikeus', 'NNP'),\n",
       " ('Map', 'NNP'),\n",
       " ('Lat', 'NNP'),\n",
       " ('Paus', 'NNP'),\n",
       " ('Aigion', 'NNP'),\n",
       " ('Strabo', 'NNP'),\n",
       " ('Herakleides', 'NNP'),\n",
       " ('Selinous', 'NNP'),\n",
       " ('Kerynitis', 'NNP'),\n",
       " ('Morgan', 'NNP')]"
      ]
     },
     "execution_count": 15,
     "metadata": {},
     "output_type": "execute_result"
    }
   ],
   "source": [
    "[x for x in blob.tags if x[1]=='NNP'][:10]"
   ]
  },
  {
   "cell_type": "markdown",
   "metadata": {},
   "source": [
    "Another option is to tag words for Named Entites, e.g. organizations, geo-locations, persons. This can be done using the spacy package."
   ]
  },
  {
   "cell_type": "code",
   "execution_count": 16,
   "metadata": {
    "collapsed": false
   },
   "outputs": [
    {
     "data": {
      "text/plain": [
       "WordList(['Identifier', '236', 'Helikeus', 'Map', '58', 'Lat', '38.15', 'long', '22.10', 'Size', 'of', 'territory', '1', 'or', '2', 'Type', 'A', 'Paus', '7.24.5', 'locates', 'Helike', '40', 'stades', 'from', 'Aigion', 'no', '231', 'while', 'Strabo', '8.7.2', 'following', 'Herakleides', 'places', 'it', '12', 'stades', 'from', 'the', 'sea', 'This', 'should', 'put', 'it', 'between', 'the', 'rivers', 'Selinous', 'and', 'Kerynitis', 'Morgan', 'and', 'Hall', '1996', '175', 'Barr', 'The', 'city', 'which', 'was', 'overwhelmed', 'by', 'a', 'tidal', 'wave', 'occasioned', 'by', 'an', 'earthquake', 'in', '373', 'Diod', '15.48.1\\xad49.4', 'Polyb', '2.41.7', 'Strabo', '8.7.2', 'Paus', '7.24.6', 'Ael', 'NA', '11.19', 'was', 'normally', 'supposed', 'to', 'lie', 'under', 'water', 'cf', 'Ov', 'Met', '15.293\\xad95', 'but', 'sonar', 'investigation', 'suggests', 'that', 'it', 'may', 'actually', 'lie', 'inland', 'under', 'massive', 'sedimentary', 'deposits', 'in', 'the', 'vicinity', 'of', 'Nea', 'Keryneia', 'Petropoulos', '1983', 'cf', 'Ptol', 'Geog', '3.14.36', 'who', 'lists', 'Helike', 'among', 'the', 'inland', 'cities', 'of', 'Achaia', 'However', 'Rizakis', '1995', '203\\xad4', 'finds', 'all', 'candidates', 'for', 'ancient', 'Helike', 'unconvincing', 'The', 'toponym', 'is', 'usually', 'Hom', 'Il', '2.575', 'SEG', '36', '718', 'C', '5e', 'Hdt', '1.145', 'or', 'Syll', '³90.12', 'though', 'Theophr', 'Phys', 'Op', '12.122', 'cites', 'a', 'verse', 'which', 'gives', 'the', 'toponym', 'as', 'The', 'city', 'ethnic', 'is', 'Diod', '15.49.3', 'Helike', 'is', 'called', 'a', 'polis', 'in', 'the', 'urban', 'sense', 'in', 'Heraclid', 'Pont', 'fr', '46a', 'r', '373', 'and', 'Theophr', 'Phys', 'op', '12.122', 'r', '373', 'but', 'is', 'absent', 'from', 'Ps.-Skylax', \"'s\", 'list', 'of', 'Achaian', 'poleis', '42', 'which', 'may', 'suggest', 'that', 'this', 'chapter', 'was', 'composed', 'after', '373', 'Retrospective', 'evidence', 'is', 'provided', 'by', 'Polyb', '2.41.7', 'rC', '4', 'who', 'calls', 'it', 'a', 'polis', 'in', 'the', 'political', 'sense', 'and', 'by', 'Diod', '15.48.3', 'r', '373', 'who', 'describes', 'it', 'as', 'a', 'polis', 'in', 'the', 'urban', 'sense', 'The', 'internal', 'collective', 'use', 'of', 'the', 'city-ethnic', 'is', 'probably', 'found', 'abbreviated', 'on', 'C', '4', 'coins', 'infra', 'and', 'the', 'external', 'collective', 'use', 'is', 'found', 'in', 'Diod', '15.49.3', 'r', 'ante', '373', 'A', 'citizen', 'of', 'Helike', 'served', 'as', 'Delphic', 'theorodokos', 'in', 'C', '5l', 'Syll', '³90.12', 'According', 'to', 'Polyb', '2.41.6\\xad7', 'rC', '4', 'Helike', 'had', 'been', 'a', 'member', 'of', 'the', 'Achaian', 'Confederacy', 'The', 'early', 'physical', 'existence', 'of', 'Helike', 'is', 'attested', 'in', 'Hom', 'Il', '2.575', 'and', 'in', 'a', 'C', '5e', 'inscription', 'SEG', '36', '718', 'see', 'also', 'Soter', 'and', 'Katsonopoulou', '1999', 'Archaeological', 'investigations', 'have', 'revealed', 'the', 'foundations', 'of', 'two', 'small', 'temples', 'one', 'Archaic', 'the', 'other', 'Classical', 'at', 'Nea', 'Keryneia', 'which', 'may', 'possibly', 'be', 'associated', 'with', 'the', 'acropolis', 'of', 'ancient', 'Helike', 'Petropoulos', '1990', 'The', 'most', 'important', 'sanctuary', 'at', 'Helike', 'was', 'however', 'that', 'of', 'Poseidon', 'Helikonios', 'Hom', 'Il', '8.203', 'Diod', '15.49.2\\xad3', 'Strabo', '8.7.2', 'Paus', '7.24.5\\xad6', 'and', 'it', 'is', 'quite', 'likely', 'that', 'this', 'sanctuary', 'acted', 'as', 'a', 'common', 'place', 'of', 'union', 'for', 'the', 'Achaians', 'prior', 'to', 'the', 'destruction', 'of', 'Helike', 'when', 'that', 'function', 'was', 'assumed', 'by', 'the', 'sanctuary', 'of', 'Zeus', 'Homarios', 'near', 'Aigion', 'Morgan', 'and', 'Hall', '1996', '195\\xad96', 'contra', 'Aymard', '1938', '286\\xad87', '293', 'Walbank', '2000', 'According', 'to', 'Strabo', '6.1.13', 'Is', 'of', 'Helike', 'was', 'the', 'founder', 'of', 'Sybaris', 'no', '70', 'in', 'South', 'Italy', 'The', 'reading', 'lt', 'gt', 'is', 'however', 'unsure', 'and', 'Bérard', '1957', '141', 'n', '2', 'proposed', 'either', 'lt', 'gt', 'or', 'lt', 'gt', 'A', 'series', 'of', 'bronze', 'coins', 'dating', 'to', 'C', '4f', 'depicts', 'obv', 'head', 'of', 'Poseidon', 'Legend', 'retr', 'Rev', 'trident', 'between', 'dolphins', 'in', 'wreath', 'Head', 'HN', '²414', '236'])"
      ]
     },
     "execution_count": 16,
     "metadata": {},
     "output_type": "execute_result"
    }
   ],
   "source": [
    "blob.words"
   ]
  },
  {
   "cell_type": "code",
   "execution_count": 17,
   "metadata": {
    "collapsed": false
   },
   "outputs": [
    {
     "data": {
      "text/plain": [
       "[Sentence(\"Identifier: 236. , (Helikeus) Map  58.\"),\n",
       " Sentence(\"Lat.\"),\n",
       " Sentence(\"38.15,long.\"),\n",
       " Sentence(\"22.10.\"),\n",
       " Sentence(\"Size of  territory: 1  or 2.\"),\n",
       " Sentence(\"Type:  A.  Paus.\"),\n",
       " Sentence(\"7.24.5  locates  Helike  40 stades  from  Aigion  (no.\"),\n",
       " Sentence(\"231),  while  Strabo  8.7.2  (following Herakleides)  places  it  12  stades  from  the  sea.\"),\n",
       " Sentence(\"This  should  put it  between  the  rivers  Selinous  and  Kerynitis  (Morgan  and Hall ( 1996)  175;  Barr.).\"),\n",
       " Sentence(\"The  city,  which  was  overwhelmed  by a  tidal  wave  occasioned  by  an  earthquake  in  373  (Diod.\")]"
      ]
     },
     "execution_count": 17,
     "metadata": {},
     "output_type": "execute_result"
    }
   ],
   "source": [
    "blob.sentences[:10]"
   ]
  },
  {
   "cell_type": "markdown",
   "metadata": {},
   "source": [
    "# SpaCy mit named entity recognition"
   ]
  },
  {
   "cell_type": "code",
   "execution_count": 18,
   "metadata": {
    "collapsed": false
   },
   "outputs": [],
   "source": [
    "doc = nlp(text)"
   ]
  },
  {
   "cell_type": "code",
   "execution_count": 19,
   "metadata": {
    "collapsed": false
   },
   "outputs": [
    {
     "name": "stdout",
     "output_type": "stream",
     "text": [
      "CARDINAL 236\n",
      "CARDINAL 58\n",
      "CARDINAL 22.10\n",
      "CARDINAL 1\n",
      "CARDINAL 2\n",
      "CARDINAL 40\n",
      "CARDINAL 231\n",
      "ORG Herakleides\n",
      "CARDINAL 12\n",
      "PERSON Hall\n",
      "DATE 1996\n",
      "CARDINAL 175\n",
      "PERSON Barr\n",
      "CARDINAL 373\n",
      "CARDINAL 2.41.7;Strabo 8.7.2\n",
      "CARDINAL 11.19\n",
      "DATE 1983\n",
      "DATE 1995\n",
      "CARDINAL 2.575\n",
      "CARDINAL 36\n"
     ]
    }
   ],
   "source": [
    "for ent in doc.ents[:20]:\n",
    "    print(ent.label_, ent.text)"
   ]
  },
  {
   "cell_type": "markdown",
   "metadata": {},
   "source": [
    "Return list of words"
   ]
  },
  {
   "cell_type": "code",
   "execution_count": 22,
   "metadata": {
    "collapsed": false
   },
   "outputs": [
    {
     "name": "stdout",
     "output_type": "stream",
     "text": [
      "ORG Herakleides\n",
      "PERSON Hall\n",
      "PERSON Barr\n",
      "PERSON Helike\n",
      "PERSON Soter\n",
      "ORG Poseidon  Helikonios\n",
      "PERSON Morgan\n",
      "ORG Poseidon\n"
     ]
    }
   ],
   "source": [
    "for ent in doc.ents:\n",
    "    if ent.label_=='ORG' or ent.label_=='PERSON':\n",
    "        print(ent.label_, ent.text)"
   ]
  },
  {
   "cell_type": "markdown",
   "metadata": {},
   "source": [
    "# NLTK"
   ]
  },
  {
   "cell_type": "markdown",
   "metadata": {},
   "source": [
    "Not all sentences are correct. We have to use a different tokenizer to improve this.\n",
    "\n",
    "By calling PunktSentenceTokenizer from the NLTK package with an input text, we can train the detection of sentences. \n",
    "\n",
    "This is usually a problem, since a lot of citations (parenthesis) or special characters hinder the detection of a sentence end."
   ]
  },
  {
   "cell_type": "markdown",
   "metadata": {},
   "source": [
    "To generate a text of all cities in most of the regions we can use"
   ]
  },
  {
   "cell_type": "code",
   "execution_count": 34,
   "metadata": {
    "collapsed": false
   },
   "outputs": [],
   "source": [
    "mainList = poleis.dfPoleisGesamt['Quellen'].values.tolist()\n",
    "\n",
    "quellenListe = []\n",
    "for sublist in mainList:\n",
    "    if sublist:\n",
    "        for k in sublist:\n",
    "            quellenListe.append(k)\n",
    "            \n",
    "uniqueSources = list(set(quellenListe))\n",
    "\n",
    "sourcesTrainingSet = ', '.join(uniqueSources)"
   ]
  },
  {
   "cell_type": "code",
   "execution_count": 35,
   "metadata": {
    "collapsed": false
   },
   "outputs": [],
   "source": [
    "mweTrainingSet = []\n",
    "for i in range(len(uniqueSources)):\n",
    "    tupTemp = tuple(uniqueSources[i].split())\n",
    "    mweTrainingSet.append(tupTemp)"
   ]
  },
  {
   "cell_type": "code",
   "execution_count": 36,
   "metadata": {
    "collapsed": true
   },
   "outputs": [],
   "source": [
    "linkedCitiesSet = poleis.dfPoleisGesamt['Beschreibung'].apply(lambda raw: re.findall(\"\\(no\\. \\d{1,4}\\)\", raw))\n",
    "linkedTrainingSet = ', '.join([y for x in linkedCitiesSet.values for y in x])"
   ]
  },
  {
   "cell_type": "code",
   "execution_count": 37,
   "metadata": {
    "collapsed": true
   },
   "outputs": [],
   "source": [
    "locationDataSet = poleis.dfPoleisGesamt['Beschreibung'].apply(lambda raw: re.findall(\"Lat\\.\\s\\d+\\.\\d+,long\\.\\s+\\d+\\.\\d+\", raw))\n",
    "locationTrainingSet = ', '.join([y for x in locationDataSet.values for y in x])"
   ]
  },
  {
   "cell_type": "markdown",
   "metadata": {},
   "source": [
    "## Training of tokenizer"
   ]
  },
  {
   "cell_type": "markdown",
   "metadata": {},
   "source": [
    "Train the tokenizer with the sources, linked locations and the geocoordinates."
   ]
  },
  {
   "cell_type": "code",
   "execution_count": 38,
   "metadata": {
    "collapsed": false
   },
   "outputs": [],
   "source": [
    "trainedTokenizer = PunktSentenceTokenizer(linkedTrainingSet + sourcesTrainingSet)"
   ]
  },
  {
   "cell_type": "markdown",
   "metadata": {},
   "source": [
    "Another tokenizer is used to find multi-word expressions. It is trained using a list of the sources."
   ]
  },
  {
   "cell_type": "code",
   "execution_count": 39,
   "metadata": {
    "collapsed": false
   },
   "outputs": [],
   "source": [
    "tokenizerMultiWords = MWETokenizer(mweTrainingSet)"
   ]
  },
  {
   "cell_type": "markdown",
   "metadata": {},
   "source": [
    "Apply it and print the improved detection results."
   ]
  },
  {
   "cell_type": "markdown",
   "metadata": {
    "collapsed": false
   },
   "source": [
    "## Applying the trained tokenizers"
   ]
  },
  {
   "cell_type": "markdown",
   "metadata": {},
   "source": [
    "Als erstes werden die Multi-Word-Expressions (MWE) erkannt. Um das Erkenne der Sätze zu verbessern, verknüpfen wir alle MWE mit einem Unterstrich. Anschließend wird der gesamte Text wieder zusammen gefügt. \n",
    "\n",
    "Da der MWETokenizer mit den Quellen trainiert wurde, werden vorallem diese als Wordeinheit verbunden. "
   ]
  },
  {
   "cell_type": "code",
   "execution_count": 42,
   "metadata": {
    "collapsed": false
   },
   "outputs": [],
   "source": [
    "mweExpressions = ' '.join(tokenizerMultiWords.tokenize(text.split()))"
   ]
  },
  {
   "cell_type": "code",
   "execution_count": 43,
   "metadata": {
    "collapsed": false
   },
   "outputs": [
    {
     "data": {
      "text/plain": [
       "\"Identifier: 236. , (Helikeus) Map 58. Lat. 38.15,long. 22.10. Size of territory: 1 or 2. Type: A. Paus._7.24.5 locates Helike 40 stades from Aigion (no. 231), while Strabo_8.7.2 (following Herakleides) places it 12 stades from the sea. This should put it between the rivers Selinous and Kerynitis (Morgan and Hall_(_1996) 175; Barr.). The city, which was overwhelmed by a tidal wave occasioned by an earthquake in 373 (Diod. 15.48.1\\xad49.4; Polyb. 2.41.7;Strabo 8.7.2; Paus. 7.24.6;Ael. NA 11.19), was normally supposed to lie under water (cf. Ov. Met. 15.293\\xad95), but sonar investigation suggests that it may actually lie inland under massive sedimentary deposits in the vicinity of Nea Keryneia (Petropoulos ( 1983); cf. Ptol. Geog. 3.14.36, who lists Helike among the inland cities of Achaia). However, Rizakis_(_1995) 203\\xad4 finds all candidates for ancient Helike unconvincing. The toponym is usually `, (Hom. Il. 2.575; SEG 36 718 (C 5e); Hdt. 1.145) or ` (Syll. ³90.12), though Theophr._Phys._Op._12.122 cites a verse which gives the toponym as `. The city- ethnic is ` (Diod. 15.49.3). Helike is called a polis in the urban sense in Heraclid. Pont. fr. 46a (r 373) and Theophr._Phys._op._12.122 (r 373),but is absent from Ps.-Skylax's list of Achaian poleis ( 42), which may suggest that this chapter was composed after 373. Retrospective evidence is provided by Polyb._2.41.7 (rC 4), who calls it a polis in the political sense, and by Diod._15.48.3 (r 373), who describes it as a polis in the urban sense. The internal collective use of the city-ethnic is probably found (abbreviated) on C 4 coins (infra), and the external collective use is found in Diod._15.49.3 (r ante 373). A citizen of Helike served as Delphic theorodokos in C 5l (Syll. ³90.12).According to Polyb. 2.41.6\\xad7 (rC 4), Helike had been a member of the Achaian Confederacy. The early physical existence of Helike is attested in Hom. Il. 2.575 and in a C 5e inscription (SEG 36 718; see also Soter and Katsonopoulou ( 1999)). Archaeological investigations have revealed the foundations of two small temples, one Archaic, the other Classical, at Nea Keryneia, which may possibly be associated with the acropolis of ancient Helike (Petropoulos ( 1990)). The most important sanctuary at Helike was, however, that of Poseidon Helikonios (Hom. Il. 8.203;Diod. 15.49.2\\xad3;Strabo 8.7.2; Paus. 7.24.5\\xad6), and it is quite likely that this sanctuary acted as a common place of union for the Achaians prior to the destruction of Helike, when that function was assumed by the sanctuary of Zeus Homarios near Aigion (Morgan and Hall_(_1996) 195\\xad96, contra Aymard_(_1938) 286\\xad87, 293; Walbank ( 2000)). According to Strabo 6.1.13, Is of Helike was the founder of Sybaris (no. 70) in South Italy. The reading ( ' &lt;... &gt; `) is, however, unsure, and Bérard ( 1957) 141 n. 2 proposed either &lt; &gt; or &lt; &gt;. A series of bronze coins, dating to C 4f, depicts obv. head of Poseidon. Legend: (retr.). Rev. trident between dolphins in wreath (Head, HN ²414). 236.\""
      ]
     },
     "execution_count": 43,
     "metadata": {},
     "output_type": "execute_result"
    }
   ],
   "source": [
    "mweExpressions"
   ]
  },
  {
   "cell_type": "markdown",
   "metadata": {},
   "source": [
    "Nun kann die Satzerkennung stattfinden. Das Resultat sollte deutlich besser sein, als mit dem untrainierten Tokenizer."
   ]
  },
  {
   "cell_type": "code",
   "execution_count": 44,
   "metadata": {
    "collapsed": false
   },
   "outputs": [],
   "source": [
    "sentences = trainedTokenizer.tokenize(mweExpressions)"
   ]
  },
  {
   "cell_type": "code",
   "execution_count": 45,
   "metadata": {
    "collapsed": false
   },
   "outputs": [
    {
     "data": {
      "text/plain": [
       "['Identifier: 236. , (Helikeus) Map 58.',\n",
       " 'Lat.',\n",
       " '38.15,long.',\n",
       " '22.10.',\n",
       " 'Size of territory: 1 or 2.',\n",
       " 'Type: A. Paus._7.24.5 locates Helike 40 stades from Aigion (no. 231), while Strabo_8.7.2 (following Herakleides) places it 12 stades from the sea.',\n",
       " 'This should put it between the rivers Selinous and Kerynitis (Morgan and Hall_(_1996) 175; Barr.).',\n",
       " 'The city, which was overwhelmed by a tidal wave occasioned by an earthquake in 373 (Diod. 15.48.1\\xad49.4; Polyb. 2.41.7;Strabo 8.7.2; Paus.',\n",
       " '7.24.6;Ael.',\n",
       " 'NA 11.19), was normally supposed to lie under water (cf. Ov.',\n",
       " 'Met. 15.293\\xad95), but sonar investigation suggests that it may actually lie inland under massive sedimentary deposits in the vicinity of Nea Keryneia (Petropoulos ( 1983); cf. Ptol. Geog. 3.14.36, who lists Helike among the inland cities of Achaia).',\n",
       " 'However, Rizakis_(_1995) 203\\xad4 finds all candidates for ancient Helike unconvincing.',\n",
       " 'The toponym is usually `, (Hom.',\n",
       " 'Il. 2.575; SEG 36 718 (C 5e); Hdt. 1.145) or ` (Syll. ³90.12), though Theophr._Phys._Op._12.122 cites a verse which gives the toponym as `.',\n",
       " 'The city- ethnic is ` (Diod. 15.49.3).',\n",
       " 'Helike is called a polis in the urban sense in Heraclid.',\n",
       " 'Pont.',\n",
       " 'fr.',\n",
       " \"46a (r 373) and Theophr._Phys._op._12.122 (r 373),but is absent from Ps.-Skylax's list of Achaian poleis ( 42), which may suggest that this chapter was composed after 373.\",\n",
       " 'Retrospective evidence is provided by Polyb._2.41.7 (rC 4), who calls it a polis in the political sense, and by Diod._15.48.3 (r 373), who describes it as a polis in the urban sense.',\n",
       " 'The internal collective use of the city-ethnic is probably found (abbreviated) on C 4 coins (infra), and the external collective use is found in Diod._15.49.3 (r ante 373).',\n",
       " 'A citizen of Helike served as Delphic theorodokos in C 5l (Syll. ³90.12).According to Polyb. 2.41.6\\xad7 (rC 4), Helike had been a member of the Achaian Confederacy.',\n",
       " 'The early physical existence of Helike is attested in Hom.',\n",
       " 'Il. 2.575 and in a C 5e inscription (SEG 36 718; see also Soter and Katsonopoulou ( 1999)).',\n",
       " 'Archaeological investigations have revealed the foundations of two small temples, one Archaic, the other Classical, at Nea Keryneia, which may possibly be associated with the acropolis of ancient Helike (Petropoulos ( 1990)).',\n",
       " 'The most important sanctuary at Helike was, however, that of Poseidon Helikonios (Hom.',\n",
       " 'Il. 8.203;Diod. 15.49.2\\xad3;Strabo 8.7.2; Paus.',\n",
       " '7.24.5\\xad6), and it is quite likely that this sanctuary acted as a common place of union for the Achaians prior to the destruction of Helike, when that function was assumed by the sanctuary of Zeus Homarios near Aigion (Morgan and Hall_(_1996) 195\\xad96, contra Aymard_(_1938) 286\\xad87, 293; Walbank ( 2000)).',\n",
       " 'According to Strabo 6.1.13, Is of Helike was the founder of Sybaris (no. 70) in South Italy.',\n",
       " \"The reading ( ' &lt;... &gt; `) is, however, unsure, and Bérard ( 1957) 141 n.\",\n",
       " '2 proposed either &lt; &gt; or &lt; &gt;.',\n",
       " 'A series of bronze coins, dating to C 4f, depicts obv.',\n",
       " 'head of Poseidon.',\n",
       " 'Legend: (retr.).',\n",
       " 'Rev.',\n",
       " 'trident between dolphins in wreath (Head, HN ²414).',\n",
       " '236.']"
      ]
     },
     "execution_count": 45,
     "metadata": {},
     "output_type": "execute_result"
    }
   ],
   "source": [
    "sentences"
   ]
  },
  {
   "cell_type": "markdown",
   "metadata": {},
   "source": [
    "Um bestimmte Ausdrücke in Sätzen zu suchen, kann man eine einfache List-Comprehension machen:"
   ]
  },
  {
   "cell_type": "code",
   "execution_count": 46,
   "metadata": {
    "collapsed": false
   },
   "outputs": [
    {
     "data": {
      "text/plain": [
       "['Helike is called a polis in the urban sense in Heraclid.']"
      ]
     },
     "execution_count": 46,
     "metadata": {},
     "output_type": "execute_result"
    }
   ],
   "source": [
    "[x for x in sentences if \"Heraclid\" in x]"
   ]
  },
  {
   "cell_type": "markdown",
   "metadata": {},
   "source": [
    "## Satzweise Analyse\n",
    "\n",
    "Für jeden erkannten Satz können wir nun die Tags von textblob ausgeben lassen. Zudem sollen über Spacy alle Named Entities der Sorte ORG,PERSON oder GPE ausgegeben werden, so diese vorhanden sind."
   ]
  },
  {
   "cell_type": "code",
   "execution_count": 51,
   "metadata": {
    "collapsed": false
   },
   "outputs": [
    {
     "name": "stdout",
     "output_type": "stream",
     "text": [
      "Size of territory: 1 or 2.\n",
      "[('Size', 'NN'), ('of', 'IN'), ('territory', 'NN'), ('1', 'CD'), ('or', 'CC'), ('2', 'CD')]\n",
      "\n",
      "----\n",
      "Type: A. Paus._7.24.5 locates Helike 40 stades from Aigion (no. 231), while Strabo_8.7.2 (following Herakleides) places it 12 stades from the sea.\n",
      "[('Type', 'NN'), ('A.', 'NN'), ('Paus._7.24.5', 'NNP'), ('locates', 'VBZ'), ('Helike', 'NNP'), ('40', 'CD'), ('stades', 'NNS'), ('from', 'IN'), ('Aigion', 'NNP'), ('no', 'DT'), ('231', 'CD'), ('while', 'IN'), ('Strabo_8.7.2', 'NNP'), ('following', 'VBG'), ('Herakleides', 'NNP'), ('places', 'VBZ'), ('it', 'PRP'), ('12', 'CD'), ('stades', 'NNS'), ('from', 'IN'), ('the', 'DT'), ('sea', 'NN')]\n",
      "Aigion PERSON, Strabo_8.7.2 ORG, Herakleides ORG, \n",
      "----\n",
      "This should put it between the rivers Selinous and Kerynitis (Morgan and Hall_(_1996) 175; Barr.).\n",
      "[('This', 'DT'), ('should', 'MD'), ('put', 'VB'), ('it', 'PRP'), ('between', 'IN'), ('the', 'DT'), ('rivers', 'NNS'), ('Selinous', 'NNP'), ('and', 'CC'), ('Kerynitis', 'NNP'), ('Morgan', 'NNP'), ('and', 'CC'), ('Hall_', 'NNP'), ('_1996', 'NNP'), ('175', 'CD'), ('Barr', 'NNP')]\n",
      "Selinous GPE, Kerynitis GPE, Morgan ORG, Hall_(_1996 ORG, Barr PERSON, \n",
      "----\n",
      "The city, which was overwhelmed by a tidal wave occasioned by an earthquake in 373 (Diod. 15.48.1­49.4; Polyb. 2.41.7;Strabo 8.7.2; Paus.\n",
      "[('The', 'DT'), ('city', 'NN'), ('which', 'WDT'), ('was', 'VBD'), ('overwhelmed', 'VBN'), ('by', 'IN'), ('a', 'DT'), ('tidal', 'JJ'), ('wave', 'NN'), ('occasioned', 'VBN'), ('by', 'IN'), ('an', 'DT'), ('earthquake', 'NN'), ('in', 'IN'), ('373', 'CD'), ('Diod', 'NNP'), ('15.48.1\\xad49.4', 'CD'), ('Polyb', 'NNP'), ('2.41.7', 'CD'), ('Strabo', 'NNP'), ('8.7.2', 'CD'), ('Paus', 'NNP')]\n",
      "Polyb GPE, Paus GPE, \n",
      "----\n",
      "7.24.6;Ael.\n",
      "[('7.24.6', 'CD'), ('Ael', 'NNP')]\n",
      "\n",
      "----\n",
      "NA 11.19), was normally supposed to lie under water (cf. Ov.\n",
      "[('NA', 'NNP'), ('11.19', 'CD'), ('was', 'VBD'), ('normally', 'RB'), ('supposed', 'VBN'), ('to', 'TO'), ('lie', 'VB'), ('under', 'IN'), ('water', 'NN'), ('cf', 'NN'), ('Ov', 'NNP')]\n",
      "\n",
      "----\n"
     ]
    }
   ],
   "source": [
    "for item in sentences[4:10]:\n",
    "    x = ''\n",
    "    doc = nlp(item)\n",
    "    blobs = TextBlob(item)\n",
    "    print(item)\n",
    "    print(blobs.tags)\n",
    "    #doc = nlp(item)\n",
    "    for ent in doc.ents:\n",
    "        if ent.label_ in ['ORG','PERSON','GPE']:\n",
    "            x = x + str(ent) + ' ' + str(ent.label_) + ', '\n",
    "    print(x)\n",
    "    print(\"----\")"
   ]
  },
  {
   "cell_type": "markdown",
   "metadata": {},
   "source": [
    "## Extracting relational information"
   ]
  },
  {
   "cell_type": "markdown",
   "metadata": {},
   "source": [
    "Example taken from NLTK book, http://www.nltk.org/book/ch07.html. Note, that NLTK expects a special structure of the POS tags. Therefore, the textblob tags can not simply be used."
   ]
  },
  {
   "cell_type": "markdown",
   "metadata": {},
   "source": [
    "The search string is defined by IN. The relation searches for [ORG] in [LOC] and uses a prepared corpus of New York Times articles. One has to take care of words like `learning`. Thus the negative lookahead `(?!\\b.+ing))`."
   ]
  },
  {
   "cell_type": "code",
   "execution_count": null,
   "metadata": {
    "collapsed": true
   },
   "outputs": [],
   "source": [
    "nltk.download(info_or_id='ieer')"
   ]
  },
  {
   "cell_type": "code",
   "execution_count": 53,
   "metadata": {
    "collapsed": false
   },
   "outputs": [
    {
     "name": "stdout",
     "output_type": "stream",
     "text": [
      "[ORG: 'WHYY'] 'in' [LOC: 'Philadelphia']\n",
      "[ORG: 'McGlashan &AMP; Sarrail'] 'firm in' [LOC: 'San Mateo']\n",
      "[ORG: 'Freedom Forum'] 'in' [LOC: 'Arlington']\n",
      "[ORG: 'Brookings Institution'] ', the research group in' [LOC: 'Washington']\n",
      "[ORG: 'Idealab'] ', a self-described business incubator based in' [LOC: 'Los Angeles']\n",
      "[ORG: 'Open Text'] ', based in' [LOC: 'Waterloo']\n",
      "[ORG: 'WGBH'] 'in' [LOC: 'Boston']\n",
      "[ORG: 'Bastille Opera'] 'in' [LOC: 'Paris']\n",
      "[ORG: 'Omnicom'] 'in' [LOC: 'New York']\n",
      "[ORG: 'DDB Needham'] 'in' [LOC: 'New York']\n",
      "[ORG: 'Kaplan Thaler Group'] 'in' [LOC: 'New York']\n",
      "[ORG: 'BBDO South'] 'in' [LOC: 'Atlanta']\n",
      "[ORG: 'Georgia-Pacific'] 'in' [LOC: 'Atlanta']\n"
     ]
    }
   ],
   "source": [
    "IN = re.compile(r'.*\\bin\\b(?!\\b.+ing)') \n",
    "\n",
    "for doc in nltk.corpus.ieer.parsed_docs('NYT_19980315'):\n",
    "    for rel in nltk.sem.extract_rels('ORG', 'LOC', doc,corpus='ieer', pattern = IN):\n",
    "         print(nltk.sem.rtuple(rel))"
   ]
  },
  {
   "cell_type": "markdown",
   "metadata": {},
   "source": [
    "### Other text structures"
   ]
  },
  {
   "cell_type": "markdown",
   "metadata": {},
   "source": [
    "For citations, we need to find matching brackets. This can be done using SExprTokenizer, a tokenizer to find parenthesized expressions. Non-parenthesized expressions are returned with separeted by white-space characters. Therefore, we need to reduce the output to expressions starting with a \"(\" onyl, See #1 below"
   ]
  },
  {
   "cell_type": "code",
   "execution_count": 52,
   "metadata": {
    "collapsed": false
   },
   "outputs": [
    {
     "name": "stdout",
     "output_type": "stream",
     "text": [
      "(Helikeus)\n",
      "(no. 231)\n",
      "(following Herakleides)\n",
      "(Morgan  and Hall ( 1996)  175;  Barr.)\n",
      "(Diod. 15.48.1­49.4;  Polyb. 2.41.7;Strabo 8.7.2;  Paus. 7.24.6;Ael.  NA 11.19)\n",
      "(cf.  Ov. Met. 15.293­95)\n",
      "(Petropoulos  ( 1983);  cf.  Ptol. Geog. 3.14.36,  who  lists  Helike  among  the  inland  cities  of Achaia)\n",
      "( 1995)\n",
      "(Hom.  Il. 2.575;  SEG 36  718  (C 5e);  Hdt. 1.145)\n",
      "(Syll. ³90.12)\n",
      "(Diod. 15.49.3)\n",
      "(r 373)\n",
      "(r 373)\n",
      "( 42)\n",
      "(rC 4)\n",
      "(r 373)\n",
      "(abbreviated)\n",
      "(infra)\n",
      "(r  ante 373)\n",
      "(Syll. ³90.12)\n",
      "(rC 4)\n",
      "(SEG 36  718;  see  also  Soter and  Katsonopoulou  ( 1999))\n",
      "(Petropoulos  ( 1990))\n",
      "(Hom.  Il. 8.203;Diod.  15.49.2­3;Strabo  8.7.2;  Paus. 7.24.5­6)\n",
      "(Morgan  and  Hall  ( 1996) 195­96,  contra  Aymard  ( 1938)  286­87,  293;  Walbank ( 2000))\n",
      "(no. 70)\n",
      "(  '  &lt;...  &gt; `)\n",
      "( 1957)\n",
      "(retr.)\n",
      "(Head,  HN ²414)\n"
     ]
    }
   ],
   "source": [
    "for i in SExprTokenizer(strict=False).tokenize(text):\n",
    "    if i[0]=='(': #1 \n",
    "        print(i)"
   ]
  }
 ],
 "metadata": {
  "anaconda-cloud": {},
  "kernelspec": {
   "display_name": "Python 3",
   "language": "python",
   "name": "python3"
  },
  "language_info": {
   "codemirror_mode": {
    "name": "ipython",
    "version": 3
   },
   "file_extension": ".py",
   "mimetype": "text/x-python",
   "name": "python",
   "nbconvert_exporter": "python",
   "pygments_lexer": "ipython3",
   "version": "3.5.2"
  },
  "latex_envs": {
   "bibliofile": "biblio.bib",
   "cite_by": "apalike",
   "current_citInitial": 1,
   "eqLabelWithNumbers": true,
   "eqNumInitial": 0
  },
  "nav_menu": {},
  "toc": {
   "navigate_menu": true,
   "number_sections": true,
   "sideBar": true,
   "threshold": 6,
   "toc_cell": false,
   "toc_section_display": "block",
   "toc_window_display": false
  }
 },
 "nbformat": 4,
 "nbformat_minor": 0
}
