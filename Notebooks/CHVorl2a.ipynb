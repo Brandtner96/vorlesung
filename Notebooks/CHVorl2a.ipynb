{
 "cells": [
  {
   "cell_type": "markdown",
   "metadata": {
    "button": false,
    "deletable": true,
    "new_sheet": false,
    "run_control": {
     "read_only": false
    }
   },
   "source": [
    "# Vorlesung 3: Strukturen und Heuristiken der Konstruktion\n",
    "\n",
    "Reguläre Ausdrücke: http://www.regexe.de/hilfe.jsp\n",
    "                    https://pymotw.com/2/re\n",
    "\n",
    "Pandas: http://www.data-analysis-in-python.org/3_pandas.html\n",
    "      : https://bitbucket.org/hrojas/learn-pandas\n",
    "\n"
   ]
  },
  {
   "cell_type": "markdown",
   "metadata": {
    "button": false,
    "deletable": true,
    "new_sheet": false,
    "run_control": {
     "read_only": false
    }
   },
   "source": [
    "## Pandas Dataframes"
   ]
  },
  {
   "cell_type": "code",
   "execution_count": 1,
   "metadata": {
    "button": false,
    "collapsed": false,
    "deletable": true,
    "new_sheet": false,
    "run_control": {
     "read_only": false
    }
   },
   "outputs": [],
   "source": [
    "import json\n",
    "import pandas as pd\n",
    "import re\n",
    "import numpy as np\n",
    "import matplotlib.pyplot as plt"
   ]
  },
  {
   "cell_type": "code",
   "execution_count": 2,
   "metadata": {
    "button": false,
    "collapsed": false,
    "deletable": true,
    "new_sheet": false,
    "run_control": {
     "read_only": false
    }
   },
   "outputs": [],
   "source": [
    "# json.load erzeugt ein dictionary der JSON Daten\n",
    "with open('chapter1.json') as json_data:\n",
    "    PoleisRawData = json.load(json_data)"
   ]
  },
  {
   "cell_type": "code",
   "execution_count": 3,
   "metadata": {
    "button": false,
    "collapsed": false,
    "deletable": true,
    "new_sheet": false,
    "run_control": {
     "read_only": false
    }
   },
   "outputs": [
    {
     "data": {
      "text/plain": [
       "['38. Mylai ',\n",
       " '25. Hippana ',\n",
       " '12. Alontion ',\n",
       " '50. (Tyrrhenoi)',\n",
       " '34. Lipara ',\n",
       " '26 *Imachara ',\n",
       " '9. Akragas ',\n",
       " '10. Akrai ',\n",
       " '43. Piakos ',\n",
       " '32. Kephaloidion ',\n",
       " '42. Petra ',\n",
       " '16. Galeria ',\n",
       " '21. Herakleia 2 ',\n",
       " '20. Herakleia 1',\n",
       " '45. (Sileraioi)',\n",
       " '33. Leontinoi ',\n",
       " '24. Himera ',\n",
       " '29. Kasmenai ',\n",
       " '30. Katane ',\n",
       " '37. Morgantina ',\n",
       " '49. Tyndaris ',\n",
       " '31. Kentoripa ',\n",
       " '51. Zankle ',\n",
       " '5. Abakainon ',\n",
       " '6. Adranon ',\n",
       " '35. *Longane ',\n",
       " '8. Aitna ',\n",
       " '47. Syrakousai ',\n",
       " '7. Agyrion ',\n",
       " '17. Gela ',\n",
       " '41. Naxos ',\n",
       " '18. Heloron ',\n",
       " '13. Apollonia ',\n",
       " '23. Herbita ',\n",
       " '46. (Stielanaioi)',\n",
       " '27. Kallipolis ',\n",
       " '14. Engyon ',\n",
       " '40. Nakone ',\n",
       " '39. Mytistratos ',\n",
       " '22. Herbes(s)os ',\n",
       " '36. Megara ',\n",
       " '28. Kamarina ',\n",
       " '44. Selinous ',\n",
       " '15. Euboia ',\n",
       " '19. Henna ',\n",
       " '48. Tauromenion ',\n",
       " '11. Alaisa ']"
      ]
     },
     "execution_count": 3,
     "metadata": {},
     "output_type": "execute_result"
    }
   ],
   "source": [
    "# list() erstellt eine Liste der keys\n",
    "PoleisKeyList = list(PoleisRawData)\n",
    "PoleisKeyList"
   ]
  },
  {
   "cell_type": "code",
   "execution_count": 4,
   "metadata": {
    "button": false,
    "collapsed": false,
    "deletable": true,
    "new_sheet": false,
    "run_control": {
     "read_only": false
    }
   },
   "outputs": [
    {
     "data": {
      "text/plain": [
       "'25. Hippana '"
      ]
     },
     "execution_count": 4,
     "metadata": {},
     "output_type": "execute_result"
    }
   ],
   "source": [
    "# Listenelemente werden mit eckigen Klammern ausgewählt. Eine Index-Zahl gibt die n-Stelle der Liste aus\n",
    "PoleisKeyList[1]"
   ]
  },
  {
   "cell_type": "code",
   "execution_count": 5,
   "metadata": {
    "button": false,
    "collapsed": false,
    "deletable": true,
    "new_sheet": false,
    "run_control": {
     "read_only": false
    }
   },
   "outputs": [
    {
     "name": "stdout",
     "output_type": "stream",
     "text": [
      "33. Leontinoi \n",
      "47. Syrakousai \n",
      "18. Heloron \n",
      "46. (Stielanaioi)\n",
      "36. Megara \n",
      "44. Selinous \n",
      "15. Euboia \n"
     ]
    }
   ],
   "source": [
    "for i in PoleisKeyList:\n",
    "    if \"Megara\" in PoleisRawData[i]:\n",
    "        print(i)"
   ]
  },
  {
   "cell_type": "code",
   "execution_count": 6,
   "metadata": {
    "button": false,
    "collapsed": false,
    "deletable": true,
    "new_sheet": false,
    "run_control": {
     "read_only": false
    }
   },
   "outputs": [
    {
     "data": {
      "text/plain": [
       "'(Liparaios) Map  47.  Lat. 38.30  long. 14.55.  Size of  territory: 2  (  size  of  island).  Type:  A: .  The  toponym  is ,  (SEG 37  414  (C 5f));  Antiochos  (FGrHist 555)  fr. 1; Thuc. 3.88.2;  cf. in  Polyb. 34.11.19,  where  the  plural \"die  Stadt  Lipara  [i.e.  in  contradistinction  to  the  island]  zu bezeichnen  scheint,  da  Polyb.  sonst  sagt\"(Ziegler in RE  xiii. 719;  cf.,  however,  Diod. 5.7.1  claiming  homonymity between  island  and  polis); is  said  by later sources  to  have  been  an  earlier  name  of (Callim. Hymn. 3.47;Strabo 6.2.10).  The  city-ethnic  is   (C 5s  coins,  infra;  Thuc. 3.88.2),  although  (  ) seems to have been used as well (SEG  37  414 (C 5f)). Lipara  is  called  a  polis  in  the  urban  sense  by  Antiochos (FGrHist 555)  fr. 1  Paus. 10.11.3  (r  time  of  foundation)  and Arist.  Mete. 367a6.  In  later  sources  Lipara  is  called  a  polis  in the  political  sense  at  Polyb. 1.21.5  and  in  the  urban  sense  at Diod. 14.56.2  (r 396).  The  internal  collective  use  of  the  city-ethnic  is  attested  by  C 5s  coins  (infra)  and  the  external collective use  in  Thuc. 3.88.2,Arist.  Mete. 367a6  and  presum- ably  on  the  C 5f  Liparan  dedication  at  Delphi  (Syll. Â³14 (C 6lÂ\\xadC5e)  SEG 34  405,  37  414;  cf.  BTCGI 9:  101ff).  The individual  use  of  the  ethnic  is  found  in  F.Delphes iii.4401 ( 315)  and  IG iiÂ²  9214  (C 3e). Mythology  told  of  a  settlement  of  the  island  by  Liparos (Diod. 5.7.5),  who  founded  the  polis  and  was  joined  by Aiolos  (ibid.  and  4.67.4;  cf.  Hom.  Od. 10.1).  The  historical community  was  founded  by  apoikoi  from  Knidos  (no. 903; Thuc. 3.88.2;  Antiochos  (FrGHist 555)  fr. 1;Strabo 6.2.10;  cf. Hornblower ( 1991)  496).  However,  according  to Diod. 5.9.2Â\\xad5,  the  foundation  was  the  outcome  of  a  joint  Knidian- Rhodian  expedition  to  western  Sicily  under  the  leadership of  Pentathlos  of  Knidos,  in  the  fiftieth Olympiad,  i.e. 580Â\\xad576.  Pentathlos  was  killed  in  war  supporting  Selinous (no. 44)  against  Segesta,  and  the  leadership  of  the  group  was taken  over  by  Gorgos,  Thestor  and  Epithersides;  the  expedi- tion  found  at  Lipara  500  indigenous  inhabitants  of  Aiolos\\' line  whom  they  joined.  Antiochos  of  Syracuse  (FGrHist 555, fr. 1  as  preserved  in  Paus. 10.11.3),  while  agreeing  on  the  lead- ership  of  Pentathlos,  differs  inter  alia  from  Diodorus\\' account  in  naming  only  Knidians  as  colonisers  (as  does Thuc. 3.88.2),  and  in  stating  that  before  settling  at  Lipara  the expedition  had  founded  a  polis  at  Cape  Lilybaion  (Pritchett ( 1999)  98Â\\xad100),  from  which  they  were  expelled  by  Elymians and  Phoenicians.  For  the  role  of  Knidians  in  the  venture,  see also  the  C 5f  Delphic  dedicatory  inscription: [  ]    (F.Delphes ii.1142;  LSAG 351  n. 1;  Syll. Â³14;  SEG 37  414;  BernabÃ²  Brea  and  Cavalier  ( 1991)  102Â\\xad3).  According to  the  Eusebian  chronology,  the  foundation  took  place  in 630/29,  but  Diodorus\\'  date  is  supported  by the  chronology of  the  votive  material  from  the  urban  sanctuary  and  by mortuary  evidence  (BernabÃ²  Brea  and  Cavalier  ( 1991)  137, 150). Lipara  was  the  centre  of  habitation  among  the  Aiolian Islands  (Thuc. 3.88.2:  \\'   Âµ    Âµ,    ),  of  which  there  were  seven in  all  (Diod. 5.7.1;Strabo 6.2.10),  known  also  as      (ibid.  and  1.3.10;Polyb.  1.25.4;Diod. 12.54.4,  14.103.2,  cf.  Syll. Â³14).  Lipara  itself,  measuring  37.5 km Â²,is  fertile  (cf. at Diod.5.10.3and at  Strabo  6.2.10),  and  there  is  sporadic  evidence  of  single farmsteads  and  agricultural  activity  from  C 6.However,the area  exploited  for  agricultural  purposes  was  not  limited  to Lipara  but  included  the  other  islands  (Thuc. 3.88.2;Diod. 5.9.4Â\\xad5);  Diodorus  gives  a  detailed  account  of  the  socio-eco- nomic  development  of  the  community,  referring  inter  alia to  such  institutions  as  syssitia,  absence  of  private  property and  close  community  control  of  the  agricultural  areas which  were publicly  owned  (ibid.  without  source reference). In 427/6  the  Liparaians  were  symmachoi  of  Syracuse  (no. 47),  and  in  that  year  the  Athenians  and  Rhegians  ravaged their  territory  (Thuc. 3.88.1Â\\xad4;Diod.  12.54.4).  According  to Diod. 5.9.4,  the  community  maintained  a  fleet which was manned  by  a  group  of  citizens  devoting  themselves  speci- fically t o  that  duty,  while  the  rest  were  occupied  with  agri- culture.  The  existence  of  a  fleet may also be inferred from the repeated  defeats  of  Etruscan  forces  (infra).  A  strategos  is attested  in  393  (Diod. 14.93.4).  The  Liparaians  fought  sever- al  wars  against  the  Etruscans,  at  least  until  the  battle  of  Kyme ( 474),  and  they  won  several  victories  which  were  commem- orated  by  monuments  at  Delphi  (Diod. 5.9.5;Strabo 6.2.10; Paus. 10.11.3;  cf.  Rota  ( 1973)  and  Colonna  ( 1984)),  dedica- tions  that  may  be  taken  as  evidence  of  extreme  wealth  on  the island  (Paus. 10.16.7).  At the  time  of  Hieron,  but  before  474, the  Etruscans  besieged  and  captured  Lipara  (Callim.  fr. 93, Pfeiffer;  Tzetz.  Chil. 8.889Â\\xad92).  In  396  Himilkon  occupied the  polis  of  Lipara  and  exacted  30  tal.  from  the  inhabitants (Diod. 14.56.2).  In  393  ( 396  according  to  Roman  chronolo- gy)  the  Liparaian  strategos  Timositheos  liberated  Roman ambassadors  taken  prisoner  by Liparaian  pirates  while  on sikelia  211 their  way  to  Delphi;  for  this  service  the  Romans  conferred on  Timositheos  the  right  of  public  hospitality  (Diod. 14.93). Lipara\\'s  relations  with  Delphi  seem  to  have  been  close: consultation  of  the  oracle  in  the  face  of  the  Etruscan  threat is  attested  by  Paus. 10.16.7;  in  C 5Â\\xadC4  the  city  put  up  votives and  dedicated  booty  taken  from  the  Etruscans  (Diod. 5.9.5; Paus. 10.11.3,  16.75;  cf.  Syll. Â³14;  Rota  ( 1973)  and  Colonna ( 1984));  a  Delphic  grant  of  proxeny  to two  Liparaians  is recorded in F.Delphes iii.4401  ( 315),  and  Lipara  was  among the  cities  visited  by  the  theoroi  of  Delphi  in  C 3s  (Manganaro ( 1964a);  SEG 22  455,  col. 4.117). The  city  was  founded  on  a  promontory  c. 65  m  above  sea level;  the  \"acropolis\"  of  the  city  (a  modern  designation) comprised  habitation,  but  there  was  also  a  lower  city  on  the western  slope  of  the  \"acropolis\".  The  site  had  two  harbours, probably  north  and  south  of  the  promontory  (Diod. 5.10.1). The  circuit  wall  built  in  a  polygonal  technique  and  raised c. 500  enclosed  the  acropolis  and  part  of  the  lower  city;  how- ever,  the  exact  course  is  not  wholly  clarified (BernabÃ² B rea ( 1987)  20).  In  C 4f  the  perimeter  of  the  circuit  wall  was enlarged  to  incorporate  the  C 4  expansion  of  the  lower  city; the  new  wall  was  built  in  ashlar,  isodomic  technique  as  a double  curtain-wall  with  internal  fill, 3.80  m  wide,  strength- ened  with  towers  (ibid. 20Â\\xad23).The  most  extensive  cemetery with  c. 2,000  tombs  lay  to  the  north  of  the  city  (BernabÃ²  Brea and  Cavalier  ( 1991)  146Â\\xad54). No  Greek  remains  of  habitation  from  the  Archaic  and Classical  periods  are  extant,  but  early  Greek  presence  is  evi- denced  by  votive  deposits.  The  only  known  public  building is  the  C 4  prytaneion  (Diod. 20.101.2  (r 304)).  Votive  deposits testify  to  sanctuaries  within  the  urban  area  (BernabÃ²  Brea and  Cavalier  ( 1977)  89Â\\xad91).  Further  votive  deposits  delimit- ed  by  primitive  peribolos  walls  indicate  simple  temene. Sporadic  finds of  architectural  terracottas  testify  to  a  temple or  naiskos  (BernabÃ²  Brea  and  Cavalier  ( 1991)  139).  There  is evidence  of  suburban  sanctuaries,  one  probably  dedicated to  Demeter  (BernabÃ²  Brea  and  Cavalier  ( 1977)  133Â\\xad35;(1991) 158Â\\xad59). A  C 6m  inscription  restored  [] (BernabÃ² Brea and  Cavalier  ( 1977)  90)  may  testify  to  a  cult  of  this  mythical figure (cf.  Diod. 20.101.2  (r 304)  for  dedications  allegedly  set up  by  Aiolos  and  kept  in  the  prytaneion).  A  cult  of Hephaistos  is  adduced  from  C 5s  coins,  easily  explained  in the  light  of  volcanic  activity  on  the  Lipari  islands.  Coins  also testify  to  a  cult  of  Apollo.  A  C 4Â\\xadC3  dedication  probably attests  to  a  cult  of  Artemis  (Manganaro  ( 1979);BernabÃ²  Brea and  Cavalier  ( 1991)  90,158),and  there  is  epigraphic  evidence for  a  cult  of  Aphrodite  (BernabÃ²  Brea  and  Cavalier  ( 1991)  90; cf. 168  for  refs.  to  iconographic  testimonies).  A  cult  of Dionysos  is  sometimes  inferred  from  the  abundant  New Comedy  terracottas  (BernabÃ²  Brea  and  Cavalier  ( 1991) 161Â\\xad62). Lipara  struck  a  bronze  coinage  based  upon  the  litra from C 5s  (survey  in  BernabÃ²  Brea  and  Cavalier  ( 1991)  109Â\\xad21). The  obv.  depicts  a  male  head  with  helmet  or,  more  likely,  a pilos  and  therefore  Hephaistos;  rev.  ship\\'s  stern;  legend: ;  lower  denominations  lack  the  stern  (SNG Cop.  Sicily 1084Â\\xad85).  A  rare  issue  of  Lipara  and  Mytistratos with  the  legends  and suggests  some  agreement  or understanding  between  the  two  cities,  but  the  nature  of  this is  uncertain  (BernabÃ²  Brea  and  Cavalier  ( 1991)  112Â\\xad13).  A second  issue,  probably  of  C 4  rather  than  C 5l,  based  on  the litra but  of  reduced  weight,  with  lower  denominations,  has obv.  young,  naked  seated  Hephaistos  holding  hammer  and kantharos;  rev.  dolphin,  among  variants:  head  of  Apollo(?), rev.  legend: (SNG  Cop.  Sicily 1088Â\\xad96;for the  date,  see  BernabÃ²  Brea  and  Cavalier  ( 1991)  117Â\\xad18). Another  C 4  issue  may  indicate  cultural  and  political  kinship with  Taras  (BernabÃ²  Brea  and  Cavalier  ( 1991)  114).'"
      ]
     },
     "execution_count": 6,
     "metadata": {},
     "output_type": "execute_result"
    }
   ],
   "source": [
    "# Der key in eckigen Klammern gibt den Wert des Elements mit dem Key aus\n",
    "PoleisRawData[PoleisKeyList[4]]"
   ]
  },
  {
   "cell_type": "code",
   "execution_count": 7,
   "metadata": {
    "button": false,
    "collapsed": false,
    "deletable": true,
    "new_sheet": false,
    "run_control": {
     "read_only": false
    }
   },
   "outputs": [
    {
     "data": {
      "text/html": [
       "<div>\n",
       "<table border=\"1\" class=\"dataframe\">\n",
       "  <thead>\n",
       "    <tr style=\"text-align: right;\">\n",
       "      <th></th>\n",
       "      <th>Beschreibung</th>\n",
       "    </tr>\n",
       "  </thead>\n",
       "  <tbody>\n",
       "    <tr>\n",
       "      <th>10. Akrai</th>\n",
       "      <td>(Akraios) Map  47.  Lat. 37.05,long.  14.55.  ...</td>\n",
       "    </tr>\n",
       "    <tr>\n",
       "      <th>11. Alaisa</th>\n",
       "      <td>(Alaisinos) Map  47.  Lat. 38.00,long.  14.15....</td>\n",
       "    </tr>\n",
       "    <tr>\n",
       "      <th>12. Alontion</th>\n",
       "      <td>(Alontinos) Map  47.  Lat. 38.05,long.  14.40....</td>\n",
       "    </tr>\n",
       "    <tr>\n",
       "      <th>13. Apollonia</th>\n",
       "      <td>(Apolloniates) Map  47.  Lat. 38.00,long. 14.3...</td>\n",
       "    </tr>\n",
       "  </tbody>\n",
       "</table>\n",
       "</div>"
      ],
      "text/plain": [
       "                                                     Beschreibung\n",
       "10. Akrai       (Akraios) Map  47.  Lat. 37.05,long.  14.55.  ...\n",
       "11. Alaisa      (Alaisinos) Map  47.  Lat. 38.00,long.  14.15....\n",
       "12. Alontion    (Alontinos) Map  47.  Lat. 38.05,long.  14.40....\n",
       "13. Apollonia   (Apolloniates) Map  47.  Lat. 38.00,long. 14.3..."
      ]
     },
     "execution_count": 7,
     "metadata": {},
     "output_type": "execute_result"
    }
   ],
   "source": [
    "# Liest das Dictionary als Dataframe ein. Namen der Poleis werden als Index benutzt.\n",
    "dfPoleis = pd.DataFrame([PoleisRawData]).transpose()\n",
    "dfPoleis = dfPoleis.rename(columns={0: 'Beschreibung'})\n",
    "dfPoleis.head(4)"
   ]
  },
  {
   "cell_type": "markdown",
   "metadata": {},
   "source": [
    "# Konstruktion neuer Merkmale\n",
    "## Textmuster mit regulären Ausdrücken\n",
    "\n",
    "http://www.regexe.de/hilfe.jsp \n",
    "https://www.cheatography.com/davechild/cheat-sheets/regular-expressions/\n",
    "\n",
    "http://www.coli.uni-saarland.de/courses/python1-10/folien/PythonI10-07.pdf"
   ]
  },
  {
   "cell_type": "code",
   "execution_count": 8,
   "metadata": {
    "collapsed": false
   },
   "outputs": [
    {
     "data": {
      "text/plain": [
       "['Akrai ',\n",
       " 'Alaisa ',\n",
       " 'Alontion ',\n",
       " 'Apollonia ',\n",
       " 'Engyon ',\n",
       " 'Euboia ',\n",
       " 'Galeria ',\n",
       " 'Gela ',\n",
       " 'Heloron ',\n",
       " 'Henna ',\n",
       " 'Herakleia 1',\n",
       " 'Herakleia 2 ',\n",
       " 'Herbes(s)os ',\n",
       " 'Herbita ',\n",
       " 'Himera ',\n",
       " 'Hippana ',\n",
       " 'Imachara ',\n",
       " 'Kallipolis ',\n",
       " 'Kamarina ',\n",
       " 'Kasmenai ',\n",
       " 'Katane ',\n",
       " 'Kentoripa ',\n",
       " 'Kephaloidion ',\n",
       " 'Leontinoi ',\n",
       " 'Lipara ',\n",
       " '*Longane ',\n",
       " 'Megara ',\n",
       " 'Morgantina ',\n",
       " 'Mylai ',\n",
       " 'Mytistratos ',\n",
       " 'Nakone ',\n",
       " 'Naxos ',\n",
       " 'Petra ',\n",
       " 'Piakos ',\n",
       " 'Selinous ',\n",
       " '(Sileraioi)',\n",
       " '(Stielanaioi)',\n",
       " 'Syrakousai ',\n",
       " 'Tauromenion ',\n",
       " 'Tyndaris ',\n",
       " 'bakainon ',\n",
       " '(Tyrrhenoi)',\n",
       " 'Zankle ',\n",
       " 'dranon ',\n",
       " 'gyrion ',\n",
       " 'itna ',\n",
       " 'kragas ']"
      ]
     },
     "execution_count": 8,
     "metadata": {},
     "output_type": "execute_result"
    }
   ],
   "source": [
    "# Konstruktion einer Liste mit sogenannten List-Comprehensions\n",
    "ListCities = [x[4:] for x in dfPoleis.index]\n",
    "ListCities"
   ]
  },
  {
   "cell_type": "code",
   "execution_count": 9,
   "metadata": {
    "collapsed": false
   },
   "outputs": [
    {
     "data": {
      "text/html": [
       "<div>\n",
       "<table border=\"1\" class=\"dataframe\">\n",
       "  <thead>\n",
       "    <tr style=\"text-align: right;\">\n",
       "      <th></th>\n",
       "      <th>Beschreibung</th>\n",
       "      <th>city</th>\n",
       "    </tr>\n",
       "  </thead>\n",
       "  <tbody>\n",
       "    <tr>\n",
       "      <th>10. Akrai</th>\n",
       "      <td>(Akraios) Map  47.  Lat. 37.05,long.  14.55.  ...</td>\n",
       "      <td>Akrai</td>\n",
       "    </tr>\n",
       "    <tr>\n",
       "      <th>11. Alaisa</th>\n",
       "      <td>(Alaisinos) Map  47.  Lat. 38.00,long.  14.15....</td>\n",
       "      <td>Alaisa</td>\n",
       "    </tr>\n",
       "    <tr>\n",
       "      <th>12. Alontion</th>\n",
       "      <td>(Alontinos) Map  47.  Lat. 38.05,long.  14.40....</td>\n",
       "      <td>Alontion</td>\n",
       "    </tr>\n",
       "    <tr>\n",
       "      <th>13. Apollonia</th>\n",
       "      <td>(Apolloniates) Map  47.  Lat. 38.00,long. 14.3...</td>\n",
       "      <td>Apollonia</td>\n",
       "    </tr>\n",
       "    <tr>\n",
       "      <th>14. Engyon</th>\n",
       "      <td>(Engyinos)  Map  47.  Lat. 37.45,long.  14.35....</td>\n",
       "      <td>Engyon</td>\n",
       "    </tr>\n",
       "  </tbody>\n",
       "</table>\n",
       "</div>"
      ],
      "text/plain": [
       "                                                     Beschreibung        city\n",
       "10. Akrai       (Akraios) Map  47.  Lat. 37.05,long.  14.55.  ...      Akrai \n",
       "11. Alaisa      (Alaisinos) Map  47.  Lat. 38.00,long.  14.15....     Alaisa \n",
       "12. Alontion    (Alontinos) Map  47.  Lat. 38.05,long.  14.40....   Alontion \n",
       "13. Apollonia   (Apolloniates) Map  47.  Lat. 38.00,long. 14.3...  Apollonia \n",
       "14. Engyon      (Engyinos)  Map  47.  Lat. 37.45,long.  14.35....     Engyon "
      ]
     },
     "execution_count": 9,
     "metadata": {},
     "output_type": "execute_result"
    }
   ],
   "source": [
    "# Extrahiere Name der Polis aus Index\n",
    "dfPoleis['city'] = [x[4:] for x in dfPoleis.index]\n",
    "dfPoleis.head()"
   ]
  },
  {
   "cell_type": "code",
   "execution_count": 10,
   "metadata": {
    "collapsed": false
   },
   "outputs": [
    {
     "data": {
      "text/html": [
       "<div>\n",
       "<table border=\"1\" class=\"dataframe\">\n",
       "  <thead>\n",
       "    <tr style=\"text-align: right;\">\n",
       "      <th></th>\n",
       "      <th>Beschreibung</th>\n",
       "      <th>city</th>\n",
       "      <th>city_index</th>\n",
       "    </tr>\n",
       "  </thead>\n",
       "  <tbody>\n",
       "    <tr>\n",
       "      <th>10. Akrai</th>\n",
       "      <td>(Akraios) Map  47.  Lat. 37.05,long.  14.55.  ...</td>\n",
       "      <td>Akrai</td>\n",
       "      <td>10</td>\n",
       "    </tr>\n",
       "    <tr>\n",
       "      <th>11. Alaisa</th>\n",
       "      <td>(Alaisinos) Map  47.  Lat. 38.00,long.  14.15....</td>\n",
       "      <td>Alaisa</td>\n",
       "      <td>11</td>\n",
       "    </tr>\n",
       "    <tr>\n",
       "      <th>12. Alontion</th>\n",
       "      <td>(Alontinos) Map  47.  Lat. 38.05,long.  14.40....</td>\n",
       "      <td>Alontion</td>\n",
       "      <td>12</td>\n",
       "    </tr>\n",
       "    <tr>\n",
       "      <th>13. Apollonia</th>\n",
       "      <td>(Apolloniates) Map  47.  Lat. 38.00,long. 14.3...</td>\n",
       "      <td>Apollonia</td>\n",
       "      <td>13</td>\n",
       "    </tr>\n",
       "    <tr>\n",
       "      <th>14. Engyon</th>\n",
       "      <td>(Engyinos)  Map  47.  Lat. 37.45,long.  14.35....</td>\n",
       "      <td>Engyon</td>\n",
       "      <td>14</td>\n",
       "    </tr>\n",
       "  </tbody>\n",
       "</table>\n",
       "</div>"
      ],
      "text/plain": [
       "                                                     Beschreibung        city  \\\n",
       "10. Akrai       (Akraios) Map  47.  Lat. 37.05,long.  14.55.  ...      Akrai    \n",
       "11. Alaisa      (Alaisinos) Map  47.  Lat. 38.00,long.  14.15....     Alaisa    \n",
       "12. Alontion    (Alontinos) Map  47.  Lat. 38.05,long.  14.40....   Alontion    \n",
       "13. Apollonia   (Apolloniates) Map  47.  Lat. 38.00,long. 14.3...  Apollonia    \n",
       "14. Engyon      (Engyinos)  Map  47.  Lat. 37.45,long.  14.35....     Engyon    \n",
       "\n",
       "                city_index  \n",
       "10. Akrai               10  \n",
       "11. Alaisa              11  \n",
       "12. Alontion            12  \n",
       "13. Apollonia           13  \n",
       "14. Engyon              14  "
      ]
     },
     "execution_count": 10,
     "metadata": {},
     "output_type": "execute_result"
    }
   ],
   "source": [
    "# Extrahiere Nummer des Polis Eintrags\n",
    "dfPoleis['city_index'] = [int(re.findall('\\d{1,2}', x)[0]) for x in dfPoleis.index]\n",
    "dfPoleis.head()"
   ]
  },
  {
   "cell_type": "code",
   "execution_count": 11,
   "metadata": {
    "collapsed": false
   },
   "outputs": [
    {
     "data": {
      "text/html": [
       "<div>\n",
       "<table border=\"1\" class=\"dataframe\">\n",
       "  <thead>\n",
       "    <tr style=\"text-align: right;\">\n",
       "      <th></th>\n",
       "      <th>Beschreibung</th>\n",
       "      <th>city</th>\n",
       "      <th>city_index</th>\n",
       "    </tr>\n",
       "  </thead>\n",
       "  <tbody>\n",
       "    <tr>\n",
       "      <th>5. Abakainon</th>\n",
       "      <td>(Abakaininos) Map  47.  Lat. 38.05,long. 15.05...</td>\n",
       "      <td>bakainon</td>\n",
       "      <td>5</td>\n",
       "    </tr>\n",
       "    <tr>\n",
       "      <th>6. Adranon</th>\n",
       "      <td>(Adranites) Map  47.  Lat. 37.40,long.  14.50....</td>\n",
       "      <td>dranon</td>\n",
       "      <td>6</td>\n",
       "    </tr>\n",
       "    <tr>\n",
       "      <th>7. Agyrion</th>\n",
       "      <td>(Agyrinaios) Map  47.  Lat. 37.40,long.  14.30...</td>\n",
       "      <td>gyrion</td>\n",
       "      <td>7</td>\n",
       "    </tr>\n",
       "    <tr>\n",
       "      <th>8. Aitna</th>\n",
       "      <td>(Aitnaios) Map  47.Location  of  Aitna  I  as ...</td>\n",
       "      <td>itna</td>\n",
       "      <td>8</td>\n",
       "    </tr>\n",
       "  </tbody>\n",
       "</table>\n",
       "</div>"
      ],
      "text/plain": [
       "                                                    Beschreibung       city  \\\n",
       "5. Abakainon   (Abakaininos) Map  47.  Lat. 38.05,long. 15.05...  bakainon    \n",
       "6. Adranon     (Adranites) Map  47.  Lat. 37.40,long.  14.50....    dranon    \n",
       "7. Agyrion     (Agyrinaios) Map  47.  Lat. 37.40,long.  14.30...    gyrion    \n",
       "8. Aitna       (Aitnaios) Map  47.Location  of  Aitna  I  as ...      itna    \n",
       "\n",
       "               city_index  \n",
       "5. Abakainon            5  \n",
       "6. Adranon              6  \n",
       "7. Agyrion              7  \n",
       "8. Aitna                8  "
      ]
     },
     "execution_count": 11,
     "metadata": {},
     "output_type": "execute_result"
    }
   ],
   "source": [
    "# Sortiere die Zeilen nach der Spalte \n",
    "dfPoleis = dfPoleis.sort_values(by='city_index')\n",
    "dfPoleis.head(4)"
   ]
  },
  {
   "cell_type": "markdown",
   "metadata": {
    "heading_collapsed": true
   },
   "source": [
    "## Textmustersuche in der Beschreibung einer Polis"
   ]
  },
  {
   "cell_type": "markdown",
   "metadata": {
    "hidden": true
   },
   "source": [
    "### Neue Funktionen"
   ]
  },
  {
   "cell_type": "code",
   "execution_count": 45,
   "metadata": {
    "collapsed": false
   },
   "outputs": [
    {
     "data": {
      "text/plain": [
       "5. Abakainon     bakainon \n",
       "6. Adranon         dranon \n",
       "7. Agyrion         gyrion \n",
       "8. Aitna             itna \n",
       "9. Akragas         kragas \n",
       "Name: city, dtype: object"
      ]
     },
     "execution_count": 45,
     "metadata": {},
     "output_type": "execute_result"
    }
   ],
   "source": [
    "nl=dfPoleis[\"city\"]\n",
    "nl.head()"
   ]
  },
  {
   "cell_type": "code",
   "execution_count": 50,
   "metadata": {
    "collapsed": false
   },
   "outputs": [
    {
     "data": {
      "text/plain": [
       "['bakainon ', 'dranon ', 'gyrion ']"
      ]
     },
     "execution_count": 50,
     "metadata": {},
     "output_type": "execute_result"
    }
   ],
   "source": [
    "lcity=list(dfPoleis[\"city\"])\n",
    "lcity[0:3]"
   ]
  },
  {
   "cell_type": "code",
   "execution_count": 52,
   "metadata": {
    "collapsed": false
   },
   "outputs": [
    {
     "name": "stdout",
     "output_type": "stream",
     "text": [
      "dranon \n",
      "Kephaloidion \n",
      "Tyndaris \n"
     ]
    }
   ],
   "source": [
    "for i in lcity:\n",
    "    if re.search('dr*',i):\n",
    "        print(i)"
   ]
  },
  {
   "cell_type": "markdown",
   "metadata": {
    "hidden": true
   },
   "source": [
    "### Geographische Koordinaten"
   ]
  },
  {
   "cell_type": "code",
   "execution_count": 13,
   "metadata": {
    "collapsed": false,
    "hidden": true
   },
   "outputs": [],
   "source": [
    "def ListePattern(value,pattern):\n",
    "    x = re.findall(pattern, value)\n",
    "    if x:\n",
    "        return(x[0][-5:])"
   ]
  },
  {
   "cell_type": "code",
   "execution_count": 14,
   "metadata": {
    "collapsed": false,
    "hidden": true
   },
   "outputs": [
    {
     "data": {
      "text/plain": [
       "'38.05'"
      ]
     },
     "execution_count": 14,
     "metadata": {},
     "output_type": "execute_result"
    }
   ],
   "source": [
    "ListePattern(dfPoleis[\"Beschreibung\"][0],\"Lat\\.\\s?\\d+\\.\\d+\")"
   ]
  },
  {
   "cell_type": "code",
   "execution_count": 15,
   "metadata": {
    "collapsed": false,
    "hidden": true
   },
   "outputs": [
    {
     "data": {
      "text/plain": [
       "'15.05'"
      ]
     },
     "execution_count": 15,
     "metadata": {},
     "output_type": "execute_result"
    }
   ],
   "source": [
    "# gleiches auch für long.\n",
    "listLong=ListePattern(dfPoleis['Beschreibung'][0],\"long\\.\\s*\\d+\\.\\d+\")\n",
    "listLong"
   ]
  },
  {
   "cell_type": "code",
   "execution_count": 16,
   "metadata": {
    "collapsed": false,
    "hidden": true
   },
   "outputs": [],
   "source": [
    "dfPoleis['Latitude'] = dfPoleis['Beschreibung'].apply(ListePattern,pattern=\"Lat\\.\\s?\\d+\\.\\d+\").astype(float)\n",
    "\n",
    "dfPoleis['Longitude'] = dfPoleis['Beschreibung'].apply(ListePattern,pattern=\"long\\.\\s*\\d+\\.\\d+\").astype(float)"
   ]
  },
  {
   "cell_type": "code",
   "execution_count": 43,
   "metadata": {
    "collapsed": false,
    "hidden": true
   },
   "outputs": [
    {
     "data": {
      "text/html": [
       "<div>\n",
       "<table border=\"1\" class=\"dataframe\">\n",
       "  <thead>\n",
       "    <tr style=\"text-align: right;\">\n",
       "      <th></th>\n",
       "      <th>Beschreibung</th>\n",
       "      <th>city</th>\n",
       "      <th>city_index</th>\n",
       "      <th>Latitude</th>\n",
       "      <th>Longitude</th>\n",
       "      <th>Namen</th>\n",
       "      <th>Quellen</th>\n",
       "    </tr>\n",
       "  </thead>\n",
       "  <tbody>\n",
       "    <tr>\n",
       "      <th>5. Abakainon</th>\n",
       "      <td>(Abakaininos) Map  47.  Lat. 38.05,long. 15.05...</td>\n",
       "      <td>bakainon</td>\n",
       "      <td>5</td>\n",
       "      <td>38.05</td>\n",
       "      <td>15.05</td>\n",
       "      <td>[Abakaininos, Size, Type, Diod, Diod, Steph, D...</td>\n",
       "      <td>[Diod. 14.90.3, Diod. 19.65.6, Diod. 14.78.5, ...</td>\n",
       "    </tr>\n",
       "    <tr>\n",
       "      <th>6. Adranon</th>\n",
       "      <td>(Adranites) Map  47.  Lat. 37.40,long.  14.50....</td>\n",
       "      <td>dranon</td>\n",
       "      <td>6</td>\n",
       "      <td>37.40</td>\n",
       "      <td>14.50</td>\n",
       "      <td>[Adranites, Size, Type, Diod, Steph, Diod, Adr...</td>\n",
       "      <td>[Diod. 14.37.5, Diod. 16.68.9, Diod. 14.37.5, ...</td>\n",
       "    </tr>\n",
       "    <tr>\n",
       "      <th>7. Agyrion</th>\n",
       "      <td>(Agyrinaios) Map  47.  Lat. 37.40,long.  14.30...</td>\n",
       "      <td>gyrion</td>\n",
       "      <td>7</td>\n",
       "      <td>37.40</td>\n",
       "      <td>14.30</td>\n",
       "      <td>[Agyrinaios, Size, Type, Diod, Ptol, Geog, Ste...</td>\n",
       "      <td>[Byz. 23.19), Diod. 16.82.4, Moggi  ( 1976), D...</td>\n",
       "    </tr>\n",
       "    <tr>\n",
       "      <th>8. Aitna</th>\n",
       "      <td>(Aitnaios) Map  47.Location  of  Aitna  I  as ...</td>\n",
       "      <td>itna</td>\n",
       "      <td>8</td>\n",
       "      <td>NaN</td>\n",
       "      <td>NaN</td>\n",
       "      <td>[Aitnaios, Location, Aitna, Katane, Aitna, Dio...</td>\n",
       "      <td>[Diod. 11.49.1, Diod. 11.49.1, Diod. 11.66.4, ...</td>\n",
       "    </tr>\n",
       "    <tr>\n",
       "      <th>9. Akragas</th>\n",
       "      <td>(Akragantinos) Map  47.  Lat. 37.20,long.  13....</td>\n",
       "      <td>kragas</td>\n",
       "      <td>9</td>\n",
       "      <td>37.20</td>\n",
       "      <td>13.35</td>\n",
       "      <td>[Akragantino, Size, Type, Pind, Thuc, Akragas,...</td>\n",
       "      <td>[Diod. 13.84.3, Olympiad  ( 476), Leschhorn  (...</td>\n",
       "    </tr>\n",
       "    <tr>\n",
       "      <th>10. Akrai</th>\n",
       "      <td>(Akraios) Map  47.  Lat. 37.05,long.  14.55.  ...</td>\n",
       "      <td>Akrai</td>\n",
       "      <td>10</td>\n",
       "      <td>37.05</td>\n",
       "      <td>14.55</td>\n",
       "      <td>[Akraios, Size, Type, Thuc, Diod, Steph, Akrai...</td>\n",
       "      <td>[Diod. 23.4.1, Vita  ( 1956), Hansen  ( 1997, ...</td>\n",
       "    </tr>\n",
       "    <tr>\n",
       "      <th>11. Alaisa</th>\n",
       "      <td>(Alaisinos) Map  47.  Lat. 38.00,long.  14.15....</td>\n",
       "      <td>Alaisa</td>\n",
       "      <td>11</td>\n",
       "      <td>38.00</td>\n",
       "      <td>14.15</td>\n",
       "      <td>[Alaisinos, Size, Type, Diod, Diod, According,...</td>\n",
       "      <td>[Diod. 14.16.2, Diod. 23.4.1, Diod. 14.16.2, D...</td>\n",
       "    </tr>\n",
       "    <tr>\n",
       "      <th>12. Alontion</th>\n",
       "      <td>(Alontinos) Map  47.  Lat. 38.05,long.  14.40....</td>\n",
       "      <td>Alontion</td>\n",
       "      <td>12</td>\n",
       "      <td>38.05</td>\n",
       "      <td>14.40</td>\n",
       "      <td>[Alontinos, Size, Type, Dion, Ptol, Geog, Alon...</td>\n",
       "      <td>[Fromentin  ( 1998), Bruno  ( 1963), Karlsson ...</td>\n",
       "    </tr>\n",
       "    <tr>\n",
       "      <th>13. Apollonia</th>\n",
       "      <td>(Apolloniates) Map  47.  Lat. 38.00,long. 14.3...</td>\n",
       "      <td>Apollonia</td>\n",
       "      <td>13</td>\n",
       "      <td>38.00</td>\n",
       "      <td>14.35</td>\n",
       "      <td>[Apolloniate, Size, Type, Diod, Diod, Diodorus...</td>\n",
       "      <td>[Diod. 16.72.5, Diod. 16.72.5, Diod. 20.56.4, ...</td>\n",
       "    </tr>\n",
       "    <tr>\n",
       "      <th>14. Engyon</th>\n",
       "      <td>(Engyinos)  Map  47.  Lat. 37.45,long.  14.35....</td>\n",
       "      <td>Engyon</td>\n",
       "      <td>14</td>\n",
       "      <td>37.45</td>\n",
       "      <td>14.35</td>\n",
       "      <td>[Engyinos, Size, Type, Diod, Steph, Meineke, D...</td>\n",
       "      <td>[Diod. 16.72.3, Diod. 16.72.4, Diod. 16.72.3, ...</td>\n",
       "    </tr>\n",
       "    <tr>\n",
       "      <th>15. Euboia</th>\n",
       "      <td>(Euboeus)  Map  47.  Unlocated.  Type:  C: .Th...</td>\n",
       "      <td>Euboia</td>\n",
       "      <td>15</td>\n",
       "      <td>NaN</td>\n",
       "      <td>NaN</td>\n",
       "      <td>[Euboeus, Unlocated, Type, Callim, Pfeiffer, S...</td>\n",
       "      <td>[Freeman  ( 1891, Camassa  ( 1989, Procelli  (...</td>\n",
       "    </tr>\n",
       "    <tr>\n",
       "      <th>16. Galeria</th>\n",
       "      <td>(Galarinos) Map  47.Unlocated  (Manni  ( 1981)...</td>\n",
       "      <td>Galeria</td>\n",
       "      <td>16</td>\n",
       "      <td>NaN</td>\n",
       "      <td>NaN</td>\n",
       "      <td>[Galarinos, Unlocated, Manni, Scibona, Type, D...</td>\n",
       "      <td>[Manni  ( 1981), Scibona  ( 1989), Diod. 16.67...</td>\n",
       "    </tr>\n",
       "    <tr>\n",
       "      <th>17. Gela</th>\n",
       "      <td>(Geloios,  Geloaios) Map  47.  Lat. 37.05,long...</td>\n",
       "      <td>Gela</td>\n",
       "      <td>17</td>\n",
       "      <td>37.05</td>\n",
       "      <td>14.15</td>\n",
       "      <td>[Geloios, Geloaios, Size, Type, Delphes, Thuc,...</td>\n",
       "      <td>[Cordiano  ( 1995), Orlandini  ( 1968), Adames...</td>\n",
       "    </tr>\n",
       "    <tr>\n",
       "      <th>18. Heloron</th>\n",
       "      <td>(Ailoros) Map  47.  Lat. 36.50,long.  15.05.  ...</td>\n",
       "      <td>Heloron</td>\n",
       "      <td>18</td>\n",
       "      <td>36.50</td>\n",
       "      <td>15.05</td>\n",
       "      <td>[Ailoros, Size, Type, Skylax, Steph, Diod, Ety...</td>\n",
       "      <td>[Diod. 23.4.1, Diod. 23.4.1, Manganaro  ( 1964...</td>\n",
       "    </tr>\n",
       "    <tr>\n",
       "      <th>19. Henna</th>\n",
       "      <td>(Hennaios) Map  47.  Lat. 37.35,long.  14.15. ...</td>\n",
       "      <td>Henna</td>\n",
       "      <td>19</td>\n",
       "      <td>37.35</td>\n",
       "      <td>14.15</td>\n",
       "      <td>[Hennaios, Size, Type, Diod, Philistos, Hist, ...</td>\n",
       "      <td>[Diod. 14.14.6, Diod. 14.14.7, Diod. 14.14.7, ...</td>\n",
       "    </tr>\n",
       "    <tr>\n",
       "      <th>20. Herakleia 1</th>\n",
       "      <td>(Herakleotes) Map  47.  Lat. 37.25,long. 13.15...</td>\n",
       "      <td>Herakleia 1</td>\n",
       "      <td>20</td>\n",
       "      <td>37.25</td>\n",
       "      <td>13.15</td>\n",
       "      <td>[Herakleotes, Size, Type, Minoa, Diod, Herakle...</td>\n",
       "      <td>[Diod. 20.56.3, Diod. 16.9.4, Diod. 20.56.3, K...</td>\n",
       "    </tr>\n",
       "    <tr>\n",
       "      <th>21. Herakleia 2</th>\n",
       "      <td>Map 47.Unlocated  site  in  western  Sicily, i...</td>\n",
       "      <td>Herakleia 2</td>\n",
       "      <td>21</td>\n",
       "      <td>NaN</td>\n",
       "      <td>NaN</td>\n",
       "      <td>[Unlocated, Sicily, Eryx, Type, Diod, Followin...</td>\n",
       "      <td>[Merante  ( 1970, Merante  ( 1970, Vido  ( 198...</td>\n",
       "    </tr>\n",
       "    <tr>\n",
       "      <th>22. Herbes(s)os</th>\n",
       "      <td>(Herbessinos) Map  47.  Unlocated,  but presum...</td>\n",
       "      <td>Herbes(s)os</td>\n",
       "      <td>22</td>\n",
       "      <td>NaN</td>\n",
       "      <td>NaN</td>\n",
       "      <td>[Herbessinos, Unlocated, Montagna, Marzo, Barr...</td>\n",
       "      <td>[Diod. 20.31.5, Diod. 14.7.6, Diod. 14.7.6, Di...</td>\n",
       "    </tr>\n",
       "    <tr>\n",
       "      <th>23. Herbita</th>\n",
       "      <td>(Herbitaios) Map  47.Unlocated  (cf.  C.  Boeh...</td>\n",
       "      <td>Herbita</td>\n",
       "      <td>23</td>\n",
       "      <td>NaN</td>\n",
       "      <td>NaN</td>\n",
       "      <td>[Herbitaios, Unlocated, Boeh, Bejor, Type, Eph...</td>\n",
       "      <td>[Diod. 14.15.1, Diod. 14.15.1, Diod. 12.8.2, D...</td>\n",
       "    </tr>\n",
       "    <tr>\n",
       "      <th>24. Himera</th>\n",
       "      <td>(Himeraios) Map  47.  Lat. 37.55,long.  13.50....</td>\n",
       "      <td>Himera</td>\n",
       "      <td>24</td>\n",
       "      <td>37.55</td>\n",
       "      <td>13.50</td>\n",
       "      <td>[Himeraios, Size, Type, Thuc, Thuc, Himera, He...</td>\n",
       "      <td>[Tact. 10.22), Diod. 11.48.6, Diod. 13.62.4, B...</td>\n",
       "    </tr>\n",
       "    <tr>\n",
       "      <th>25. Hippana</th>\n",
       "      <td>(Hipanatas)  Map  47.  Lat. 37.40,long.  13.25...</td>\n",
       "      <td>Hippana</td>\n",
       "      <td>25</td>\n",
       "      <td>37.40</td>\n",
       "      <td>13.25</td>\n",
       "      <td>[Hipanatas, Monte, Cavalli, Size, Type, Polyb,...</td>\n",
       "      <td>[Diod. 23.9.5, Michelini  ( 1992), Vassallo  (...</td>\n",
       "    </tr>\n",
       "    <tr>\n",
       "      <th>26 *Imachara</th>\n",
       "      <td>(Imacharaios) Map  47.  Unlocated.  Barr. tent...</td>\n",
       "      <td>Imachara</td>\n",
       "      <td>26</td>\n",
       "      <td>NaN</td>\n",
       "      <td>14.20</td>\n",
       "      <td>[Imacharaios, Unlocated, Barr, Imachara, Vacca...</td>\n",
       "      <td>[Cataldi  ( 1990), Cataldi  ( 1990), Manganaro...</td>\n",
       "    </tr>\n",
       "    <tr>\n",
       "      <th>27. Kallipolis</th>\n",
       "      <td>(Kallipolites)  Map  47.  Unlocated.  Type:  A...</td>\n",
       "      <td>Kallipolis</td>\n",
       "      <td>27</td>\n",
       "      <td>NaN</td>\n",
       "      <td>NaN</td>\n",
       "      <td>[Kallipolite, Unlocated, Type, Strabo, Kallipo...</td>\n",
       "      <td>[Hansen  ( 2000), Dunbabin  ( 1948), Vallet  (...</td>\n",
       "    </tr>\n",
       "    <tr>\n",
       "      <th>28. Kamarina</th>\n",
       "      <td>(Kamarinaios) Map  47.  Lat. 36.50,long. 14.25...</td>\n",
       "      <td>Kamarina</td>\n",
       "      <td>28</td>\n",
       "      <td>36.50</td>\n",
       "      <td>14.25</td>\n",
       "      <td>[Kamarinaios, Size, Type, Thuc, Skylax, Kamari...</td>\n",
       "      <td>[Hansen  ( 1996), Pelagatti  ( 1980, Stefano  ...</td>\n",
       "    </tr>\n",
       "    <tr>\n",
       "      <th>29. Kasmenai</th>\n",
       "      <td>(Kasmenaios) Map  47.  Lat. 37.05,long. 14.50....</td>\n",
       "      <td>Kasmenai</td>\n",
       "      <td>29</td>\n",
       "      <td>37.05</td>\n",
       "      <td>14.50</td>\n",
       "      <td>[Kasmenaios, Size, Type, Thuc, Steph, Kasmenai...</td>\n",
       "      <td>[Pais  ( 1894), Vita  ( 1987), Vita  ( 1990), ...</td>\n",
       "    </tr>\n",
       "    <tr>\n",
       "      <th>30. Katane</th>\n",
       "      <td>(Katanaios) Map  47.  Lat. 37.30,long.  15.05....</td>\n",
       "      <td>Katane</td>\n",
       "      <td>30</td>\n",
       "      <td>37.30</td>\n",
       "      <td>15.05</td>\n",
       "      <td>[Katanaios, Size, Type, Hecat, Thuc, Thuc, Kat...</td>\n",
       "      <td>[Diod. 11.49.2, Diod. 11.49.1, Manganaro  ( 19...</td>\n",
       "    </tr>\n",
       "    <tr>\n",
       "      <th>31. Kentoripa</th>\n",
       "      <td>(Kentoripinos) Map  47.  Lat. 37.35,long. 14.4...</td>\n",
       "      <td>Kentoripa</td>\n",
       "      <td>31</td>\n",
       "      <td>37.35</td>\n",
       "      <td>14.45</td>\n",
       "      <td>[Kentoripino, Size, Type, Thuc, Polyb, Strabo,...</td>\n",
       "      <td>[Diod. 13.83.4, Diod. 16.82.4, Diod. 13.84.4, ...</td>\n",
       "    </tr>\n",
       "    <tr>\n",
       "      <th>32. Kephaloidion</th>\n",
       "      <td>(Kephaloiditas) Map  47.  Lat. 38.00, long. 14...</td>\n",
       "      <td>Kephaloidion</td>\n",
       "      <td>32</td>\n",
       "      <td>38.00</td>\n",
       "      <td>14.00</td>\n",
       "      <td>[Kephaloidit, Size, Type, Diod, Archestrato, G...</td>\n",
       "      <td>[Diod. 14.56.2, Diod. 20.56.3, Diod. 20.77.3, ...</td>\n",
       "    </tr>\n",
       "    <tr>\n",
       "      <th>33. Leontinoi</th>\n",
       "      <td>(Leontinos) Map  47.  Lat. 37.15,long.  15.00....</td>\n",
       "      <td>Leontinoi</td>\n",
       "      <td>33</td>\n",
       "      <td>37.15</td>\n",
       "      <td>15.00</td>\n",
       "      <td>[Leontinos, Size, Type, Thuc, Thuc, Leontinoi,...</td>\n",
       "      <td>[Hansen  ( 2000), Leschhorn  ( 1984), Diod. 14...</td>\n",
       "    </tr>\n",
       "    <tr>\n",
       "      <th>34. Lipara</th>\n",
       "      <td>(Liparaios) Map  47.  Lat. 38.30  long. 14.55....</td>\n",
       "      <td>Lipara</td>\n",
       "      <td>34</td>\n",
       "      <td>38.30</td>\n",
       "      <td>14.55</td>\n",
       "      <td>[Liparaios, Size, Type, Antiochos, Hist, Thuc,...</td>\n",
       "      <td>[Polyb. 34.11.1, Paus. 10.11.3, Diod. 14.56.2,...</td>\n",
       "    </tr>\n",
       "    <tr>\n",
       "      <th>35. *Longane</th>\n",
       "      <td>(Longenaios) Map  47.  Lat. 38.05,long. 15.10....</td>\n",
       "      <td>*Longane</td>\n",
       "      <td>35</td>\n",
       "      <td>38.05</td>\n",
       "      <td>15.10</td>\n",
       "      <td>[Longenaios, Size, Type, Steph, Steph, Philist...</td>\n",
       "      <td>[Hornbostel  ( 1988), Maria  ( 1950, Massa  ( ...</td>\n",
       "    </tr>\n",
       "    <tr>\n",
       "      <th>36. Megara</th>\n",
       "      <td>(Megareus) Map  47.  Lat. 37.10,long.  15.10. ...</td>\n",
       "      <td>Megara</td>\n",
       "      <td>36</td>\n",
       "      <td>37.10</td>\n",
       "      <td>15.10</td>\n",
       "      <td>[Megareus, Size, Type, Thuc, Skylax, Polyaen, ...</td>\n",
       "      <td>[Angelis  ( 1994), Luraghi  ( 1994), Graham  (...</td>\n",
       "    </tr>\n",
       "    <tr>\n",
       "      <th>37. Morgantina</th>\n",
       "      <td>(Morgantinos) Map  47.  Lat. 37.25,long. 14.30...</td>\n",
       "      <td>Morgantina</td>\n",
       "      <td>37</td>\n",
       "      <td>37.25</td>\n",
       "      <td>14.30</td>\n",
       "      <td>[Morgantinos, Size, Type, Thuc, Diod, Diod, St...</td>\n",
       "      <td>[Diod. 11.78.5, Diod. 14.78.7, Diod. 11.78.5, ...</td>\n",
       "    </tr>\n",
       "    <tr>\n",
       "      <th>38. Mylai</th>\n",
       "      <td>(Mylaios) Map  47.  Lat. 38.15,  long  15.15. ...</td>\n",
       "      <td>Mylai</td>\n",
       "      <td>38</td>\n",
       "      <td>38.15</td>\n",
       "      <td>NaN</td>\n",
       "      <td>[Mylaios, Size, Type, Hecat, Steph, Thuc, Diod...</td>\n",
       "      <td>[Diod. 12.59.5, Hansen  ( 2000), Diod. 14.87.3...</td>\n",
       "    </tr>\n",
       "    <tr>\n",
       "      <th>39. Mytistratos</th>\n",
       "      <td>(Mytiseratinos) Map  47.  Lat. 37.35,long. 14....</td>\n",
       "      <td>Mytistratos</td>\n",
       "      <td>39</td>\n",
       "      <td>37.35</td>\n",
       "      <td>14.00</td>\n",
       "      <td>[Mytiseratin, Size, Type, Philistos, Hist, Ste...</td>\n",
       "      <td>[Diod. 23.9.4, Diod. 23.9.4, Diod. 23.9.4, Fio...</td>\n",
       "    </tr>\n",
       "    <tr>\n",
       "      <th>40. Nakone</th>\n",
       "      <td>(Nakonaios)  Map  47.  Unlocated  (Tegon ( 199...</td>\n",
       "      <td>Nakone</td>\n",
       "      <td>40</td>\n",
       "      <td>NaN</td>\n",
       "      <td>NaN</td>\n",
       "      <td>[Nakonaios, Unlocated, Tegon, Type, Steph, Phi...</td>\n",
       "      <td>[Tusa  ( 1970), Tegon  ( 1993)]</td>\n",
       "    </tr>\n",
       "    <tr>\n",
       "      <th>41. Naxos</th>\n",
       "      <td>(Naxios) Map  47.  Lat. 37.50,long.  15.15.  S...</td>\n",
       "      <td>Naxos</td>\n",
       "      <td>41</td>\n",
       "      <td>37.50</td>\n",
       "      <td>15.15</td>\n",
       "      <td>[Naxios, Size, Type, Thuc, Delos, Rutherford, ...</td>\n",
       "      <td>[Rutherford  ( 1998), Hansen  ( 1996), Hansen ...</td>\n",
       "    </tr>\n",
       "    <tr>\n",
       "      <th>42. Petra</th>\n",
       "      <td>(Petrinos) Map  47.  Unlocated  (cf.  Bejor  (...</td>\n",
       "      <td>Petra</td>\n",
       "      <td>42</td>\n",
       "      <td>NaN</td>\n",
       "      <td>NaN</td>\n",
       "      <td>[Petrinos, Unlocated, Bejor, Guletta, Gargini,...</td>\n",
       "      <td>[Bejor  ( 1982), Guletta  ( 1994), Gargini  ( ...</td>\n",
       "    </tr>\n",
       "    <tr>\n",
       "      <th>43. Piakos</th>\n",
       "      <td>(Piakinos) Map  47.  Unlocated,  but  possibly...</td>\n",
       "      <td>Piakos</td>\n",
       "      <td>43</td>\n",
       "      <td>NaN</td>\n",
       "      <td>NaN</td>\n",
       "      <td>[Piakinos, Unlocated, Mendolito, Adranon, Jenk...</td>\n",
       "      <td>[Jenkins  ( 1975), Manni  ( 1981), Manganaro  ...</td>\n",
       "    </tr>\n",
       "    <tr>\n",
       "      <th>44. Selinous</th>\n",
       "      <td>(Selinousios) Map  47.  Lat. 37.35,long.  12.5...</td>\n",
       "      <td>Selinous</td>\n",
       "      <td>44</td>\n",
       "      <td>37.35</td>\n",
       "      <td>12.50</td>\n",
       "      <td>[Selinousios, Size, Type, Thuc, Thuc, Hell, Se...</td>\n",
       "      <td>[Arena  ( 1989), Casevitz  ( 1985), Diod. 13.5...</td>\n",
       "    </tr>\n",
       "    <tr>\n",
       "      <th>45. (Sileraioi)</th>\n",
       "      <td>Map 47.  Unlocated  (cf.  Manni  ( 1981)  225)...</td>\n",
       "      <td>(Sileraioi)</td>\n",
       "      <td>45</td>\n",
       "      <td>NaN</td>\n",
       "      <td>NaN</td>\n",
       "      <td>[Unlocated, Manni, Type, Sileraioi, Greek, Hea...</td>\n",
       "      <td>[Manni  ( 1981), Talbert  ( 1974)]</td>\n",
       "    </tr>\n",
       "    <tr>\n",
       "      <th>46. (Stielanaioi)</th>\n",
       "      <td>Map 47.  Lat. 37.10,long.  14.55:  the  loca- ...</td>\n",
       "      <td>(Stielanaioi)</td>\n",
       "      <td>46</td>\n",
       "      <td>37.10</td>\n",
       "      <td>14.55</td>\n",
       "      <td>[Bernab, Brea, Megara, Hyblaia, Size, Type, St...</td>\n",
       "      <td>[Brea  ( 1968), Manni  ( 1974), Brea  ( 1975),...</td>\n",
       "    </tr>\n",
       "    <tr>\n",
       "      <th>47. Syrakousai</th>\n",
       "      <td>(Syrakosios) Map  47.  Lat. 37.05,long. 15.15....</td>\n",
       "      <td>Syrakousai</td>\n",
       "      <td>47</td>\n",
       "      <td>37.05</td>\n",
       "      <td>15.15</td>\n",
       "      <td>[Syrakosios, Size, Type, Hecat, Thuc, Pind, Ba...</td>\n",
       "      <td>[Vita  ( 1956), Diod. 12.29.2, Karlsson  ( 199...</td>\n",
       "    </tr>\n",
       "    <tr>\n",
       "      <th>48. Tauromenion</th>\n",
       "      <td>(Tauromenitas) Map  47.  Lat. 37.50, long. 15....</td>\n",
       "      <td>Tauromenion</td>\n",
       "      <td>48</td>\n",
       "      <td>37.50</td>\n",
       "      <td>15.15</td>\n",
       "      <td>[Tauromenita, Size, Type, Timaios, Hist, Theop...</td>\n",
       "      <td>[Diod. 22.7.4, Diod. 16.7.1, Diod. 16.68.8, Zi...</td>\n",
       "    </tr>\n",
       "    <tr>\n",
       "      <th>49. Tyndaris</th>\n",
       "      <td>(Tyndarites) Map  47.  Lat. 38.10,long.  15.05...</td>\n",
       "      <td>Tyndaris</td>\n",
       "      <td>49</td>\n",
       "      <td>38.10</td>\n",
       "      <td>15.05</td>\n",
       "      <td>[Tyndarites, Size, Type, Strabo, Ptol, Geog, H...</td>\n",
       "      <td>[Diod. 13.69.3, Diod. 14.78.5, Hansen  ( 2000)...</td>\n",
       "    </tr>\n",
       "    <tr>\n",
       "      <th>50. (Tyrrhenoi)</th>\n",
       "      <td>Map 47.  Unlocated.  Type:  C: .The  Tyr- rhen...</td>\n",
       "      <td>(Tyrrhenoi)</td>\n",
       "      <td>50</td>\n",
       "      <td>NaN</td>\n",
       "      <td>NaN</td>\n",
       "      <td>[Unlocated, Type, Greek, Athena, Attic, Athena...</td>\n",
       "      <td>[Tusa  ( 1970), Diod. 16.82.2, Tusa  ( 1970), ...</td>\n",
       "    </tr>\n",
       "    <tr>\n",
       "      <th>51. Zankle</th>\n",
       "      <td>(Zanklaios)/Messana</td>\n",
       "      <td>Zankle</td>\n",
       "      <td>51</td>\n",
       "      <td>NaN</td>\n",
       "      <td>NaN</td>\n",
       "      <td>[Zanklaios, Messana]</td>\n",
       "      <td>None</td>\n",
       "    </tr>\n",
       "  </tbody>\n",
       "</table>\n",
       "</div>"
      ],
      "text/plain": [
       "                                                        Beschreibung  \\\n",
       "5. Abakainon       (Abakaininos) Map  47.  Lat. 38.05,long. 15.05...   \n",
       "6. Adranon         (Adranites) Map  47.  Lat. 37.40,long.  14.50....   \n",
       "7. Agyrion         (Agyrinaios) Map  47.  Lat. 37.40,long.  14.30...   \n",
       "8. Aitna           (Aitnaios) Map  47.Location  of  Aitna  I  as ...   \n",
       "9. Akragas         (Akragantinos) Map  47.  Lat. 37.20,long.  13....   \n",
       "10. Akrai          (Akraios) Map  47.  Lat. 37.05,long.  14.55.  ...   \n",
       "11. Alaisa         (Alaisinos) Map  47.  Lat. 38.00,long.  14.15....   \n",
       "12. Alontion       (Alontinos) Map  47.  Lat. 38.05,long.  14.40....   \n",
       "13. Apollonia      (Apolloniates) Map  47.  Lat. 38.00,long. 14.3...   \n",
       "14. Engyon         (Engyinos)  Map  47.  Lat. 37.45,long.  14.35....   \n",
       "15. Euboia         (Euboeus)  Map  47.  Unlocated.  Type:  C: .Th...   \n",
       "16. Galeria        (Galarinos) Map  47.Unlocated  (Manni  ( 1981)...   \n",
       "17. Gela           (Geloios,  Geloaios) Map  47.  Lat. 37.05,long...   \n",
       "18. Heloron        (Ailoros) Map  47.  Lat. 36.50,long.  15.05.  ...   \n",
       "19. Henna          (Hennaios) Map  47.  Lat. 37.35,long.  14.15. ...   \n",
       "20. Herakleia 1    (Herakleotes) Map  47.  Lat. 37.25,long. 13.15...   \n",
       "21. Herakleia 2    Map 47.Unlocated  site  in  western  Sicily, i...   \n",
       "22. Herbes(s)os    (Herbessinos) Map  47.  Unlocated,  but presum...   \n",
       "23. Herbita        (Herbitaios) Map  47.Unlocated  (cf.  C.  Boeh...   \n",
       "24. Himera         (Himeraios) Map  47.  Lat. 37.55,long.  13.50....   \n",
       "25. Hippana        (Hipanatas)  Map  47.  Lat. 37.40,long.  13.25...   \n",
       "26 *Imachara       (Imacharaios) Map  47.  Unlocated.  Barr. tent...   \n",
       "27. Kallipolis     (Kallipolites)  Map  47.  Unlocated.  Type:  A...   \n",
       "28. Kamarina       (Kamarinaios) Map  47.  Lat. 36.50,long. 14.25...   \n",
       "29. Kasmenai       (Kasmenaios) Map  47.  Lat. 37.05,long. 14.50....   \n",
       "30. Katane         (Katanaios) Map  47.  Lat. 37.30,long.  15.05....   \n",
       "31. Kentoripa      (Kentoripinos) Map  47.  Lat. 37.35,long. 14.4...   \n",
       "32. Kephaloidion   (Kephaloiditas) Map  47.  Lat. 38.00, long. 14...   \n",
       "33. Leontinoi      (Leontinos) Map  47.  Lat. 37.15,long.  15.00....   \n",
       "34. Lipara         (Liparaios) Map  47.  Lat. 38.30  long. 14.55....   \n",
       "35. *Longane       (Longenaios) Map  47.  Lat. 38.05,long. 15.10....   \n",
       "36. Megara         (Megareus) Map  47.  Lat. 37.10,long.  15.10. ...   \n",
       "37. Morgantina     (Morgantinos) Map  47.  Lat. 37.25,long. 14.30...   \n",
       "38. Mylai          (Mylaios) Map  47.  Lat. 38.15,  long  15.15. ...   \n",
       "39. Mytistratos    (Mytiseratinos) Map  47.  Lat. 37.35,long. 14....   \n",
       "40. Nakone         (Nakonaios)  Map  47.  Unlocated  (Tegon ( 199...   \n",
       "41. Naxos          (Naxios) Map  47.  Lat. 37.50,long.  15.15.  S...   \n",
       "42. Petra          (Petrinos) Map  47.  Unlocated  (cf.  Bejor  (...   \n",
       "43. Piakos         (Piakinos) Map  47.  Unlocated,  but  possibly...   \n",
       "44. Selinous       (Selinousios) Map  47.  Lat. 37.35,long.  12.5...   \n",
       "45. (Sileraioi)    Map 47.  Unlocated  (cf.  Manni  ( 1981)  225)...   \n",
       "46. (Stielanaioi)  Map 47.  Lat. 37.10,long.  14.55:  the  loca- ...   \n",
       "47. Syrakousai     (Syrakosios) Map  47.  Lat. 37.05,long. 15.15....   \n",
       "48. Tauromenion    (Tauromenitas) Map  47.  Lat. 37.50, long. 15....   \n",
       "49. Tyndaris       (Tyndarites) Map  47.  Lat. 38.10,long.  15.05...   \n",
       "50. (Tyrrhenoi)    Map 47.  Unlocated.  Type:  C: .The  Tyr- rhen...   \n",
       "51. Zankle                                      (Zanklaios)/Messana    \n",
       "\n",
       "                            city  city_index  Latitude  Longitude  \\\n",
       "5. Abakainon           bakainon            5     38.05      15.05   \n",
       "6. Adranon               dranon            6     37.40      14.50   \n",
       "7. Agyrion               gyrion            7     37.40      14.30   \n",
       "8. Aitna                   itna            8       NaN        NaN   \n",
       "9. Akragas               kragas            9     37.20      13.35   \n",
       "10. Akrai                 Akrai           10     37.05      14.55   \n",
       "11. Alaisa               Alaisa           11     38.00      14.15   \n",
       "12. Alontion           Alontion           12     38.05      14.40   \n",
       "13. Apollonia         Apollonia           13     38.00      14.35   \n",
       "14. Engyon               Engyon           14     37.45      14.35   \n",
       "15. Euboia               Euboia           15       NaN        NaN   \n",
       "16. Galeria             Galeria           16       NaN        NaN   \n",
       "17. Gela                   Gela           17     37.05      14.15   \n",
       "18. Heloron             Heloron           18     36.50      15.05   \n",
       "19. Henna                 Henna           19     37.35      14.15   \n",
       "20. Herakleia 1      Herakleia 1          20     37.25      13.15   \n",
       "21. Herakleia 2     Herakleia 2           21       NaN        NaN   \n",
       "22. Herbes(s)os     Herbes(s)os           22       NaN        NaN   \n",
       "23. Herbita             Herbita           23       NaN        NaN   \n",
       "24. Himera               Himera           24     37.55      13.50   \n",
       "25. Hippana             Hippana           25     37.40      13.25   \n",
       "26 *Imachara           Imachara           26       NaN      14.20   \n",
       "27. Kallipolis       Kallipolis           27       NaN        NaN   \n",
       "28. Kamarina           Kamarina           28     36.50      14.25   \n",
       "29. Kasmenai           Kasmenai           29     37.05      14.50   \n",
       "30. Katane               Katane           30     37.30      15.05   \n",
       "31. Kentoripa         Kentoripa           31     37.35      14.45   \n",
       "32. Kephaloidion   Kephaloidion           32     38.00      14.00   \n",
       "33. Leontinoi         Leontinoi           33     37.15      15.00   \n",
       "34. Lipara               Lipara           34     38.30      14.55   \n",
       "35. *Longane           *Longane           35     38.05      15.10   \n",
       "36. Megara               Megara           36     37.10      15.10   \n",
       "37. Morgantina       Morgantina           37     37.25      14.30   \n",
       "38. Mylai                 Mylai           38     38.15        NaN   \n",
       "39. Mytistratos     Mytistratos           39     37.35      14.00   \n",
       "40. Nakone               Nakone           40       NaN        NaN   \n",
       "41. Naxos                 Naxos           41     37.50      15.15   \n",
       "42. Petra                 Petra           42       NaN        NaN   \n",
       "43. Piakos               Piakos           43       NaN        NaN   \n",
       "44. Selinous           Selinous           44     37.35      12.50   \n",
       "45. (Sileraioi)      (Sileraioi)          45       NaN        NaN   \n",
       "46. (Stielanaioi)  (Stielanaioi)          46     37.10      14.55   \n",
       "47. Syrakousai       Syrakousai           47     37.05      15.15   \n",
       "48. Tauromenion     Tauromenion           48     37.50      15.15   \n",
       "49. Tyndaris           Tyndaris           49     38.10      15.05   \n",
       "50. (Tyrrhenoi)      (Tyrrhenoi)          50       NaN        NaN   \n",
       "51. Zankle               Zankle           51       NaN        NaN   \n",
       "\n",
       "                                                               Namen  \\\n",
       "5. Abakainon       [Abakaininos, Size, Type, Diod, Diod, Steph, D...   \n",
       "6. Adranon         [Adranites, Size, Type, Diod, Steph, Diod, Adr...   \n",
       "7. Agyrion         [Agyrinaios, Size, Type, Diod, Ptol, Geog, Ste...   \n",
       "8. Aitna           [Aitnaios, Location, Aitna, Katane, Aitna, Dio...   \n",
       "9. Akragas         [Akragantino, Size, Type, Pind, Thuc, Akragas,...   \n",
       "10. Akrai          [Akraios, Size, Type, Thuc, Diod, Steph, Akrai...   \n",
       "11. Alaisa         [Alaisinos, Size, Type, Diod, Diod, According,...   \n",
       "12. Alontion       [Alontinos, Size, Type, Dion, Ptol, Geog, Alon...   \n",
       "13. Apollonia      [Apolloniate, Size, Type, Diod, Diod, Diodorus...   \n",
       "14. Engyon         [Engyinos, Size, Type, Diod, Steph, Meineke, D...   \n",
       "15. Euboia         [Euboeus, Unlocated, Type, Callim, Pfeiffer, S...   \n",
       "16. Galeria        [Galarinos, Unlocated, Manni, Scibona, Type, D...   \n",
       "17. Gela           [Geloios, Geloaios, Size, Type, Delphes, Thuc,...   \n",
       "18. Heloron        [Ailoros, Size, Type, Skylax, Steph, Diod, Ety...   \n",
       "19. Henna          [Hennaios, Size, Type, Diod, Philistos, Hist, ...   \n",
       "20. Herakleia 1    [Herakleotes, Size, Type, Minoa, Diod, Herakle...   \n",
       "21. Herakleia 2    [Unlocated, Sicily, Eryx, Type, Diod, Followin...   \n",
       "22. Herbes(s)os    [Herbessinos, Unlocated, Montagna, Marzo, Barr...   \n",
       "23. Herbita        [Herbitaios, Unlocated, Boeh, Bejor, Type, Eph...   \n",
       "24. Himera         [Himeraios, Size, Type, Thuc, Thuc, Himera, He...   \n",
       "25. Hippana        [Hipanatas, Monte, Cavalli, Size, Type, Polyb,...   \n",
       "26 *Imachara       [Imacharaios, Unlocated, Barr, Imachara, Vacca...   \n",
       "27. Kallipolis     [Kallipolite, Unlocated, Type, Strabo, Kallipo...   \n",
       "28. Kamarina       [Kamarinaios, Size, Type, Thuc, Skylax, Kamari...   \n",
       "29. Kasmenai       [Kasmenaios, Size, Type, Thuc, Steph, Kasmenai...   \n",
       "30. Katane         [Katanaios, Size, Type, Hecat, Thuc, Thuc, Kat...   \n",
       "31. Kentoripa      [Kentoripino, Size, Type, Thuc, Polyb, Strabo,...   \n",
       "32. Kephaloidion   [Kephaloidit, Size, Type, Diod, Archestrato, G...   \n",
       "33. Leontinoi      [Leontinos, Size, Type, Thuc, Thuc, Leontinoi,...   \n",
       "34. Lipara         [Liparaios, Size, Type, Antiochos, Hist, Thuc,...   \n",
       "35. *Longane       [Longenaios, Size, Type, Steph, Steph, Philist...   \n",
       "36. Megara         [Megareus, Size, Type, Thuc, Skylax, Polyaen, ...   \n",
       "37. Morgantina     [Morgantinos, Size, Type, Thuc, Diod, Diod, St...   \n",
       "38. Mylai          [Mylaios, Size, Type, Hecat, Steph, Thuc, Diod...   \n",
       "39. Mytistratos    [Mytiseratin, Size, Type, Philistos, Hist, Ste...   \n",
       "40. Nakone         [Nakonaios, Unlocated, Tegon, Type, Steph, Phi...   \n",
       "41. Naxos          [Naxios, Size, Type, Thuc, Delos, Rutherford, ...   \n",
       "42. Petra          [Petrinos, Unlocated, Bejor, Guletta, Gargini,...   \n",
       "43. Piakos         [Piakinos, Unlocated, Mendolito, Adranon, Jenk...   \n",
       "44. Selinous       [Selinousios, Size, Type, Thuc, Thuc, Hell, Se...   \n",
       "45. (Sileraioi)    [Unlocated, Manni, Type, Sileraioi, Greek, Hea...   \n",
       "46. (Stielanaioi)  [Bernab, Brea, Megara, Hyblaia, Size, Type, St...   \n",
       "47. Syrakousai     [Syrakosios, Size, Type, Hecat, Thuc, Pind, Ba...   \n",
       "48. Tauromenion    [Tauromenita, Size, Type, Timaios, Hist, Theop...   \n",
       "49. Tyndaris       [Tyndarites, Size, Type, Strabo, Ptol, Geog, H...   \n",
       "50. (Tyrrhenoi)    [Unlocated, Type, Greek, Athena, Attic, Athena...   \n",
       "51. Zankle                                      [Zanklaios, Messana]   \n",
       "\n",
       "                                                             Quellen  \n",
       "5. Abakainon       [Diod. 14.90.3, Diod. 19.65.6, Diod. 14.78.5, ...  \n",
       "6. Adranon         [Diod. 14.37.5, Diod. 16.68.9, Diod. 14.37.5, ...  \n",
       "7. Agyrion         [Byz. 23.19), Diod. 16.82.4, Moggi  ( 1976), D...  \n",
       "8. Aitna           [Diod. 11.49.1, Diod. 11.49.1, Diod. 11.66.4, ...  \n",
       "9. Akragas         [Diod. 13.84.3, Olympiad  ( 476), Leschhorn  (...  \n",
       "10. Akrai          [Diod. 23.4.1, Vita  ( 1956), Hansen  ( 1997, ...  \n",
       "11. Alaisa         [Diod. 14.16.2, Diod. 23.4.1, Diod. 14.16.2, D...  \n",
       "12. Alontion       [Fromentin  ( 1998), Bruno  ( 1963), Karlsson ...  \n",
       "13. Apollonia      [Diod. 16.72.5, Diod. 16.72.5, Diod. 20.56.4, ...  \n",
       "14. Engyon         [Diod. 16.72.3, Diod. 16.72.4, Diod. 16.72.3, ...  \n",
       "15. Euboia         [Freeman  ( 1891, Camassa  ( 1989, Procelli  (...  \n",
       "16. Galeria        [Manni  ( 1981), Scibona  ( 1989), Diod. 16.67...  \n",
       "17. Gela           [Cordiano  ( 1995), Orlandini  ( 1968), Adames...  \n",
       "18. Heloron        [Diod. 23.4.1, Diod. 23.4.1, Manganaro  ( 1964...  \n",
       "19. Henna          [Diod. 14.14.6, Diod. 14.14.7, Diod. 14.14.7, ...  \n",
       "20. Herakleia 1    [Diod. 20.56.3, Diod. 16.9.4, Diod. 20.56.3, K...  \n",
       "21. Herakleia 2    [Merante  ( 1970, Merante  ( 1970, Vido  ( 198...  \n",
       "22. Herbes(s)os    [Diod. 20.31.5, Diod. 14.7.6, Diod. 14.7.6, Di...  \n",
       "23. Herbita        [Diod. 14.15.1, Diod. 14.15.1, Diod. 12.8.2, D...  \n",
       "24. Himera         [Tact. 10.22), Diod. 11.48.6, Diod. 13.62.4, B...  \n",
       "25. Hippana        [Diod. 23.9.5, Michelini  ( 1992), Vassallo  (...  \n",
       "26 *Imachara       [Cataldi  ( 1990), Cataldi  ( 1990), Manganaro...  \n",
       "27. Kallipolis     [Hansen  ( 2000), Dunbabin  ( 1948), Vallet  (...  \n",
       "28. Kamarina       [Hansen  ( 1996), Pelagatti  ( 1980, Stefano  ...  \n",
       "29. Kasmenai       [Pais  ( 1894), Vita  ( 1987), Vita  ( 1990), ...  \n",
       "30. Katane         [Diod. 11.49.2, Diod. 11.49.1, Manganaro  ( 19...  \n",
       "31. Kentoripa      [Diod. 13.83.4, Diod. 16.82.4, Diod. 13.84.4, ...  \n",
       "32. Kephaloidion   [Diod. 14.56.2, Diod. 20.56.3, Diod. 20.77.3, ...  \n",
       "33. Leontinoi      [Hansen  ( 2000), Leschhorn  ( 1984), Diod. 14...  \n",
       "34. Lipara         [Polyb. 34.11.1, Paus. 10.11.3, Diod. 14.56.2,...  \n",
       "35. *Longane       [Hornbostel  ( 1988), Maria  ( 1950, Massa  ( ...  \n",
       "36. Megara         [Angelis  ( 1994), Luraghi  ( 1994), Graham  (...  \n",
       "37. Morgantina     [Diod. 11.78.5, Diod. 14.78.7, Diod. 11.78.5, ...  \n",
       "38. Mylai          [Diod. 12.59.5, Hansen  ( 2000), Diod. 14.87.3...  \n",
       "39. Mytistratos    [Diod. 23.9.4, Diod. 23.9.4, Diod. 23.9.4, Fio...  \n",
       "40. Nakone                           [Tusa  ( 1970), Tegon  ( 1993)]  \n",
       "41. Naxos          [Rutherford  ( 1998), Hansen  ( 1996), Hansen ...  \n",
       "42. Petra          [Bejor  ( 1982), Guletta  ( 1994), Gargini  ( ...  \n",
       "43. Piakos         [Jenkins  ( 1975), Manni  ( 1981), Manganaro  ...  \n",
       "44. Selinous       [Arena  ( 1989), Casevitz  ( 1985), Diod. 13.5...  \n",
       "45. (Sileraioi)                   [Manni  ( 1981), Talbert  ( 1974)]  \n",
       "46. (Stielanaioi)  [Brea  ( 1968), Manni  ( 1974), Brea  ( 1975),...  \n",
       "47. Syrakousai     [Vita  ( 1956), Diod. 12.29.2, Karlsson  ( 199...  \n",
       "48. Tauromenion    [Diod. 22.7.4, Diod. 16.7.1, Diod. 16.68.8, Zi...  \n",
       "49. Tyndaris       [Diod. 13.69.3, Diod. 14.78.5, Hansen  ( 2000)...  \n",
       "50. (Tyrrhenoi)    [Tusa  ( 1970), Diod. 16.82.2, Tusa  ( 1970), ...  \n",
       "51. Zankle                                                      None  "
      ]
     },
     "execution_count": 43,
     "metadata": {},
     "output_type": "execute_result"
    }
   ],
   "source": [
    "dfPoleis"
   ]
  },
  {
   "cell_type": "markdown",
   "metadata": {
    "heading_collapsed": true,
    "hidden": true
   },
   "source": [
    "### Zitatnachweise, Namen, Jahreszahlen"
   ]
  },
  {
   "cell_type": "code",
   "execution_count": 18,
   "metadata": {
    "collapsed": false,
    "hidden": true
   },
   "outputs": [
    {
     "data": {
      "text/plain": [
       "'(Abakaininos) Map  47.  Lat. 38.05,long. 15.05.  Size  of  territory:  ?  Type:  B: .  The  toponym  is ,  (Diod. 14.90.3)  or  ,  (Diod. 19.65.6;  Steph.  Byz. 2.11).  The  city-ethnic  is   (C 4s  coins,  infra;Diod. 14.78.5;  Steph.  Byz. 2.15). Abakainon  is  called  a  polis  in  the  urban  and  political  sens- es  at  Diod. 14.90.3  (r 393)  and  19.65.6  (r 315),  and  in  the  urban sense  at  14.90.4  (r 393).  The  passage  at  14.90.3  describes  it  as  a polis  symmachis  of  Magon,  and  in  a  later  period  it  was  part  of the  symmachia  of  Agathokles,  alongside  such  poleis  as Kamarina,  Leontinoi,  Katane  and  Messana  (Diod. 19.65.6 (r 315),  19.110.4  (r 311)).  The  internal  collective  use  of  the  city- ethnic  is  found  on  coins  struck  c. 400  (infra),  and  the  exter- nal  collective use  is  found  in  Diod. 19.110.4  (r 311). In 396,  Dionysios  I  deprived  Abakainon  of  a  part  of  its chora,  which  was  handed  over  to  his  new  foundation, Tyndaris  (no. 49;Diod.  14.77.5).  Abakainon  was  situated south-east  of  Tyndaris,  at  modern  Tripi.  The  ancient  city, destroyed  by  the  modern,  is  poorly  known.  However, Diodorus\\'  report  ( 14.90.3)  that  in  393  Carthaginian  troops Â²Â²  For  an  analysis  of  the  conflicts,  see  Manni  ( 1976a)  201Â\\xad4. 182 fischer-hansen,  nielsen  and  ampolo defeated  by  Dionysios  took  refuge  in  the  city  (  ) suggests that by this date it was fortified.  There are  sporadic  Greek  remains  from  C 6,  and  substantial  Greek remains  from  C 4  (Villard  ( 1954));  the  investigation  of  the extensive  cemetery  north  of  the  city  has  brought  to  light  also monumental  C 4  tombs  of  the  type  known  from  Leontinoi (Bacci  and  Spigo  ( 1997Â\\xad98));  the  city  minted  a  Greek-style coinage  from  C 5m  (infra). Abakainon  struck  silver  coins  (litra,  hemilitron)  from c.C 5m:  obv.  laureate  head,  bearded  (an  indigenous  god assimilated  to  Zeus)  or  beardless  (assimilated  to  Apollo),  or, on  later  coinage,  female  head  (nymph,  or  Demeter  or Persephone);  rev.  wild  boar  and  acorn,  at  times  a  grain  of barley  or  sow  and  piglet,  legend: ,  (above acorn)  (below), (on  obv.) (on  rev.), (Head,  HN Â²  118;  Bertino  ( 1975);  SNG Cop.  Sicily 1Â\\xad6).  In  C 4s,  the  city  struck  in  bronze:  ( 1) Probably  from  the  time  of  Timoleon:  obv.  female  head;  rev. forepart  of  bull,  or  forepart  of  man-headed  bull,  legend: ,  [],  (Head, HN Â²  118;  Bertino  ( 1975)  124Â\\xad26;  SNG  Cop.  Sicily 7);  ( 2) c. 344Â\\xad338:  obv.  head  of  Dioskouros,  legend: ;  rev.\"free horse\",  legend: ;  the  obv.  type  may  indicate  influence from  the  mint  of  Tyndaris  or,  more  generally,  from  southern Italy  (Bertino  ( 1975)  124Â\\xad26).'"
      ]
     },
     "execution_count": 18,
     "metadata": {},
     "output_type": "execute_result"
    }
   ],
   "source": [
    "dfPoleis[\"Beschreibung\"].iloc[0]"
   ]
  },
  {
   "cell_type": "markdown",
   "metadata": {
    "heading_collapsed": true
   },
   "source": [
    "## Muster (Pattern) zur Erkennung der Literaturreferenzen\n",
    "\n",
    "- Primärquellen\n",
    "\n",
    "(Polyb. 1.18.2)\n",
    "(Diod. 13.85.4  (r 406))\n",
    "(Diod. 13.108.2)\n",
    "(Hdt. 7.165;  IGDS  no. 182a)\n",
    "(Pind.  Pyth. 6)\n",
    "(Thuc. 6.4.4: µµ  )\n",
    "(Xanthos  (FGrHist 765)  fr. 33;  Arist.  fr. 865)\n",
    "\n",
    "- Sekundärquellen\n",
    "\n",
    "(Karlsson  ( 1995)  161\n",
    "(Waele  ( 1971) 195;  Hinz  ( 1998)  79)\n",
    "\n",
    "- Jahreszahlen\n",
    "( dddd)"
   ]
  },
  {
   "cell_type": "code",
   "execution_count": 19,
   "metadata": {
    "collapsed": false,
    "hidden": true
   },
   "outputs": [],
   "source": [
    "# Definiere Funktion die reguläre Ausdrücke auf den DataFrame anwendet.\n",
    "def ListePatternFull(value,pattern):\n",
    "    x = re.findall(pattern, value)\n",
    "    if x:\n",
    "        return(x)"
   ]
  },
  {
   "cell_type": "markdown",
   "metadata": {
    "heading_collapsed": true,
    "hidden": true
   },
   "source": [
    "### Testen der regulären Ausdrücke"
   ]
  },
  {
   "cell_type": "code",
   "execution_count": 20,
   "metadata": {
    "collapsed": false,
    "hidden": true
   },
   "outputs": [
    {
     "data": {
      "text/plain": [
       "'(Abakaininos) Map  47.  Lat. 38.05,long. 15.05.  Size  of  territory:  ?  Type:  B: .  The  toponym  is ,  (Diod. 14.90.3)  or  ,  (Diod. 19.65.6;  Steph.  Byz. 2.11).  The  city-ethnic  is   (C 4s  coins,  infra;Diod. 14.78.5;  Steph.  Byz. 2.15). Abakainon  is  called  a  polis  in  the  urban  and  political  sens- es  at  Diod. 14.90.3  (r 393)  and  19.65.6  (r 315),  and  in  the  urban sense  at  14.90.4  (r 393).  The  passage  at  14.90.3  describes  it  as  a polis  symmachis  of  Magon,  and  in  a  later  period  it  was  part  of the  symmachia  of  Agathokles,  alongside  such  poleis  as Kamarina,  Leontinoi,  Katane  and  Messana  (Diod. 19.65.6 (r 315),  19.110.4  (r 311)).  The  internal  collective  use  of  the  city- ethnic  is  found  on  coins  struck  c. 400  (infra),  and  the  exter- nal  collective use  is  found  in  Diod. 19.110.4  (r 311). In 396,  Dionysios  I  deprived  Abakainon  of  a  part  of  its chora,  which  was  handed  over  to  his  new  foundation, Tyndaris  (no. 49;Diod.  14.77.5).  Abakainon  was  situated south-east  of  Tyndaris,  at  modern  Tripi.  The  ancient  city, destroyed  by  the  modern,  is  poorly  known.  However, Diodorus\\'  report  ( 14.90.3)  that  in  393  Carthaginian  troops Â²Â²  For  an  analysis  of  the  conflicts,  see  Manni  ( 1976a)  201Â\\xad4. 182 fischer-hansen,  nielsen  and  ampolo defeated  by  Dionysios  took  refuge  in  the  city  (  ) suggests that by this date it was fortified.  There are  sporadic  Greek  remains  from  C 6,  and  substantial  Greek remains  from  C 4  (Villard  ( 1954));  the  investigation  of  the extensive  cemetery  north  of  the  city  has  brought  to  light  also monumental  C 4  tombs  of  the  type  known  from  Leontinoi (Bacci  and  Spigo  ( 1997Â\\xad98));  the  city  minted  a  Greek-style coinage  from  C 5m  (infra). Abakainon  struck  silver  coins  (litra,  hemilitron)  from c.C 5m:  obv.  laureate  head,  bearded  (an  indigenous  god assimilated  to  Zeus)  or  beardless  (assimilated  to  Apollo),  or, on  later  coinage,  female  head  (nymph,  or  Demeter  or Persephone);  rev.  wild  boar  and  acorn,  at  times  a  grain  of barley  or  sow  and  piglet,  legend: ,  (above acorn)  (below), (on  obv.) (on  rev.), (Head,  HN Â²  118;  Bertino  ( 1975);  SNG Cop.  Sicily 1Â\\xad6).  In  C 4s,  the  city  struck  in  bronze:  ( 1) Probably  from  the  time  of  Timoleon:  obv.  female  head;  rev. forepart  of  bull,  or  forepart  of  man-headed  bull,  legend: ,  [],  (Head, HN Â²  118;  Bertino  ( 1975)  124Â\\xad26;  SNG  Cop.  Sicily 7);  ( 2) c. 344Â\\xad338:  obv.  head  of  Dioskouros,  legend: ;  rev.\"free horse\",  legend: ;  the  obv.  type  may  indicate  influence from  the  mint  of  Tyndaris  or,  more  generally,  from  southern Italy  (Bertino  ( 1975)  124Â\\xad26).'"
      ]
     },
     "execution_count": 20,
     "metadata": {},
     "output_type": "execute_result"
    }
   ],
   "source": [
    "dfPoleis['Beschreibung'].iloc[0]"
   ]
  },
  {
   "cell_type": "markdown",
   "metadata": {
    "hidden": true
   },
   "source": [
    "Finde alle groß-geschriebenen Wörter mit mindestens 3 nachfolgenden kleinen Buchstaben."
   ]
  },
  {
   "cell_type": "code",
   "execution_count": 21,
   "metadata": {
    "collapsed": false,
    "hidden": true
   },
   "outputs": [
    {
     "data": {
      "text/plain": [
       "['Abakaininos',\n",
       " 'Size',\n",
       " 'Type',\n",
       " 'Diod',\n",
       " 'Diod',\n",
       " 'Steph',\n",
       " 'Diod',\n",
       " 'Steph',\n",
       " 'Abakainon',\n",
       " 'Diod',\n",
       " 'Magon',\n",
       " 'Agathokles',\n",
       " 'Kamarina',\n",
       " 'Leontinoi',\n",
       " 'Katane',\n",
       " 'Messana',\n",
       " 'Diod',\n",
       " 'Diod',\n",
       " 'Dionysios',\n",
       " 'Abakainon',\n",
       " 'Tyndaris',\n",
       " 'Diod',\n",
       " 'Abakainon',\n",
       " 'Tyndaris',\n",
       " 'Tripi',\n",
       " 'However',\n",
       " 'Diodorus',\n",
       " 'Carthaginia',\n",
       " 'Manni',\n",
       " 'Dionysios',\n",
       " 'There',\n",
       " 'Greek',\n",
       " 'Greek',\n",
       " 'Villard',\n",
       " 'Leontinoi',\n",
       " 'Bacci',\n",
       " 'Spigo',\n",
       " 'Greek',\n",
       " 'Abakainon',\n",
       " 'Zeus',\n",
       " 'Apollo',\n",
       " 'Demeter',\n",
       " 'Persephone',\n",
       " 'Head',\n",
       " 'Bertino',\n",
       " 'Sicily',\n",
       " 'Probably',\n",
       " 'Timoleon',\n",
       " 'Head',\n",
       " 'Bertino',\n",
       " 'Sicily',\n",
       " 'Dioskouros',\n",
       " 'Tyndaris',\n",
       " 'Italy',\n",
       " 'Bertino']"
      ]
     },
     "execution_count": 21,
     "metadata": {},
     "output_type": "execute_result"
    }
   ],
   "source": [
    "re.findall('[A-Z][a-z]{3,10}',dfPoleis['Beschreibung'].iloc[0])"
   ]
  },
  {
   "cell_type": "markdown",
   "metadata": {
    "hidden": true
   },
   "source": [
    "Finde alle Ausdrücke wie oben, denen ein Punkt folgt, mit anschließenden Zifferfolgen der Form [Ziffern][Punkt][Ziffern][Punkt][Ziffern]"
   ]
  },
  {
   "cell_type": "code",
   "execution_count": 22,
   "metadata": {
    "collapsed": false,
    "hidden": true
   },
   "outputs": [
    {
     "data": {
      "text/plain": [
       "['Diod. 14.90.3',\n",
       " 'Diod. 19.65.6',\n",
       " 'Diod. 14.78.5',\n",
       " 'Diod. 14.90.3',\n",
       " 'Diod. 19.65.6',\n",
       " 'Diod. 19.110.4']"
      ]
     },
     "execution_count": 22,
     "metadata": {},
     "output_type": "execute_result"
    }
   ],
   "source": [
    "re.findall('[A-Z][a-z]{1,10}\\. \\d{1,3}\\.\\d{1,3}\\.\\d{1,3}',dfPoleis['Beschreibung'].iloc[0])"
   ]
  },
  {
   "cell_type": "markdown",
   "metadata": {
    "hidden": true
   },
   "source": [
    "Finde alle Ausdrücke wie oben, wobei statt des Punktes nach den kleinen Buchstaben auch zwei Leerzeichen und eine runde Klammer folgen können"
   ]
  },
  {
   "cell_type": "code",
   "execution_count": 23,
   "metadata": {
    "collapsed": false,
    "hidden": true
   },
   "outputs": [
    {
     "data": {
      "text/plain": [
       "['Diod. 14.90.3',\n",
       " 'Diod. 19.65.6',\n",
       " 'Diod. 14.78.5',\n",
       " 'Diod. 14.90.3',\n",
       " 'Diod. 19.65.6',\n",
       " 'Diod. 19.110.4',\n",
       " 'Manni  ( 1976',\n",
       " 'Villard  ( 1954)',\n",
       " 'Spigo  ( 1997',\n",
       " 'Bertino  ( 1975)',\n",
       " 'Bertino  ( 1975)',\n",
       " 'Bertino  ( 1975)']"
      ]
     },
     "execution_count": 23,
     "metadata": {},
     "output_type": "execute_result"
    }
   ],
   "source": [
    "re.findall('[A-Z][a-z]{1,10}[\\.| ] [(|\\d{0,4}][\\d{1,4}| ][\\.|\\d{}]\\d{1,3}[\\.|\\d][\\d|)]',dfPoleis['Beschreibung'].iloc[0])"
   ]
  },
  {
   "cell_type": "code",
   "execution_count": 24,
   "metadata": {
    "collapsed": false,
    "hidden": true
   },
   "outputs": [],
   "source": [
    "#Alternativ kann man auch Gruppen definieren zB. (A(B|C)) \n",
    "#re.findall('([A-Z][a-z]{1,10}(\\. \\d{1,3}\\.\\d{1,3}\\.\\d{1,3}|\\s{2}\\(\\s\\d{4}))',dfPoleis['Beschreibung'].iloc[0])"
   ]
  },
  {
   "cell_type": "code",
   "execution_count": 25,
   "metadata": {
    "collapsed": false,
    "hidden": true
   },
   "outputs": [],
   "source": [
    "dfPoleis['Namen'] = dfPoleis['Beschreibung'].apply(ListePatternFull,pattern=('[A-Z][a-z]{3,10}'))"
   ]
  },
  {
   "cell_type": "code",
   "execution_count": 26,
   "metadata": {
    "collapsed": false,
    "hidden": true
   },
   "outputs": [],
   "source": [
    "dfPoleis['Quellen'] = dfPoleis['Beschreibung'].apply(ListePatternFull,pattern=('[A-Z][a-z]{1,10}[\\.| ] [(|\\d{0,4}][\\d{1,4}| ][\\.|\\d{}]\\d{1,3}[\\.|\\d][\\d|)]'))"
   ]
  },
  {
   "cell_type": "code",
   "execution_count": 27,
   "metadata": {
    "collapsed": false,
    "hidden": true
   },
   "outputs": [
    {
     "data": {
      "text/html": [
       "<div>\n",
       "<table border=\"1\" class=\"dataframe\">\n",
       "  <thead>\n",
       "    <tr style=\"text-align: right;\">\n",
       "      <th></th>\n",
       "      <th>Beschreibung</th>\n",
       "      <th>city</th>\n",
       "      <th>city_index</th>\n",
       "      <th>Latitude</th>\n",
       "      <th>Longitude</th>\n",
       "      <th>Namen</th>\n",
       "      <th>Quellen</th>\n",
       "    </tr>\n",
       "  </thead>\n",
       "  <tbody>\n",
       "    <tr>\n",
       "      <th>5. Abakainon</th>\n",
       "      <td>(Abakaininos) Map  47.  Lat. 38.05,long. 15.05...</td>\n",
       "      <td>bakainon</td>\n",
       "      <td>5</td>\n",
       "      <td>38.05</td>\n",
       "      <td>15.05</td>\n",
       "      <td>[Abakaininos, Size, Type, Diod, Diod, Steph, D...</td>\n",
       "      <td>[Diod. 14.90.3, Diod. 19.65.6, Diod. 14.78.5, ...</td>\n",
       "    </tr>\n",
       "    <tr>\n",
       "      <th>6. Adranon</th>\n",
       "      <td>(Adranites) Map  47.  Lat. 37.40,long.  14.50....</td>\n",
       "      <td>dranon</td>\n",
       "      <td>6</td>\n",
       "      <td>37.40</td>\n",
       "      <td>14.50</td>\n",
       "      <td>[Adranites, Size, Type, Diod, Steph, Diod, Adr...</td>\n",
       "      <td>[Diod. 14.37.5, Diod. 16.68.9, Diod. 14.37.5, ...</td>\n",
       "    </tr>\n",
       "    <tr>\n",
       "      <th>7. Agyrion</th>\n",
       "      <td>(Agyrinaios) Map  47.  Lat. 37.40,long.  14.30...</td>\n",
       "      <td>gyrion</td>\n",
       "      <td>7</td>\n",
       "      <td>37.40</td>\n",
       "      <td>14.30</td>\n",
       "      <td>[Agyrinaios, Size, Type, Diod, Ptol, Geog, Ste...</td>\n",
       "      <td>[Byz. 23.19), Diod. 16.82.4, Moggi  ( 1976), D...</td>\n",
       "    </tr>\n",
       "    <tr>\n",
       "      <th>8. Aitna</th>\n",
       "      <td>(Aitnaios) Map  47.Location  of  Aitna  I  as ...</td>\n",
       "      <td>itna</td>\n",
       "      <td>8</td>\n",
       "      <td>NaN</td>\n",
       "      <td>NaN</td>\n",
       "      <td>[Aitnaios, Location, Aitna, Katane, Aitna, Dio...</td>\n",
       "      <td>[Diod. 11.49.1, Diod. 11.49.1, Diod. 11.66.4, ...</td>\n",
       "    </tr>\n",
       "  </tbody>\n",
       "</table>\n",
       "</div>"
      ],
      "text/plain": [
       "                                                    Beschreibung       city  \\\n",
       "5. Abakainon   (Abakaininos) Map  47.  Lat. 38.05,long. 15.05...  bakainon    \n",
       "6. Adranon     (Adranites) Map  47.  Lat. 37.40,long.  14.50....    dranon    \n",
       "7. Agyrion     (Agyrinaios) Map  47.  Lat. 37.40,long.  14.30...    gyrion    \n",
       "8. Aitna       (Aitnaios) Map  47.Location  of  Aitna  I  as ...      itna    \n",
       "\n",
       "               city_index  Latitude  Longitude  \\\n",
       "5. Abakainon            5     38.05      15.05   \n",
       "6. Adranon              6     37.40      14.50   \n",
       "7. Agyrion              7     37.40      14.30   \n",
       "8. Aitna                8       NaN        NaN   \n",
       "\n",
       "                                                           Namen  \\\n",
       "5. Abakainon   [Abakaininos, Size, Type, Diod, Diod, Steph, D...   \n",
       "6. Adranon     [Adranites, Size, Type, Diod, Steph, Diod, Adr...   \n",
       "7. Agyrion     [Agyrinaios, Size, Type, Diod, Ptol, Geog, Ste...   \n",
       "8. Aitna       [Aitnaios, Location, Aitna, Katane, Aitna, Dio...   \n",
       "\n",
       "                                                         Quellen  \n",
       "5. Abakainon   [Diod. 14.90.3, Diod. 19.65.6, Diod. 14.78.5, ...  \n",
       "6. Adranon     [Diod. 14.37.5, Diod. 16.68.9, Diod. 14.37.5, ...  \n",
       "7. Agyrion     [Byz. 23.19), Diod. 16.82.4, Moggi  ( 1976), D...  \n",
       "8. Aitna       [Diod. 11.49.1, Diod. 11.49.1, Diod. 11.66.4, ...  "
      ]
     },
     "execution_count": 27,
     "metadata": {},
     "output_type": "execute_result"
    }
   ],
   "source": [
    "dfPoleis.head(4)"
   ]
  },
  {
   "cell_type": "code",
   "execution_count": 28,
   "metadata": {
    "collapsed": false,
    "hidden": true
   },
   "outputs": [],
   "source": [
    "#dfBesp = dfPoleis['Beschreibung'].str.replace('(','\\n(').str.replace(')',')\\n')"
   ]
  },
  {
   "cell_type": "code",
   "execution_count": 29,
   "metadata": {
    "collapsed": false,
    "hidden": true
   },
   "outputs": [],
   "source": [
    "#print(dfBesp.iloc[0])"
   ]
  },
  {
   "cell_type": "markdown",
   "metadata": {
    "heading_collapsed": true
   },
   "source": [
    "## Muster zur Erkennung von Namen\n",
    "\n",
    "Empedokles  ( 496)\n",
    "Theron  ( 476)\n",
    "Timoleon  c. 338"
   ]
  },
  {
   "cell_type": "code",
   "execution_count": 30,
   "metadata": {
    "collapsed": false,
    "hidden": true
   },
   "outputs": [],
   "source": [
    "# MALTE: RE für die Primärquellen; Sekundärquellen; Namen entwickeln und an df anhängen."
   ]
  },
  {
   "cell_type": "markdown",
   "metadata": {},
   "source": [
    "# Datenvalidierung"
   ]
  },
  {
   "cell_type": "markdown",
   "metadata": {},
   "source": [
    "## Wertverteilungen, Test auf Dopplungen"
   ]
  },
  {
   "cell_type": "markdown",
   "metadata": {},
   "source": [
    "Lese Werte der Spalte Quellen als Liste aus. "
   ]
  },
  {
   "cell_type": "code",
   "execution_count": 31,
   "metadata": {
    "collapsed": false
   },
   "outputs": [],
   "source": [
    "mainList = dfPoleis['Quellen'].values.tolist()"
   ]
  },
  {
   "cell_type": "markdown",
   "metadata": {},
   "source": [
    "Reduziere Unterlisten auf eine Gesamtliste."
   ]
  },
  {
   "cell_type": "code",
   "execution_count": 32,
   "metadata": {
    "collapsed": false
   },
   "outputs": [],
   "source": [
    "quellenListe = []\n",
    "for sublist in mainList:\n",
    "    if sublist:\n",
    "        for k in range(len(sublist)):\n",
    "            quellenListe.append(sublist[k])"
   ]
  },
  {
   "cell_type": "code",
   "execution_count": 33,
   "metadata": {
    "collapsed": false
   },
   "outputs": [
    {
     "data": {
      "text/plain": [
       "['Diod. 14.90.3',\n",
       " 'Diod. 19.65.6',\n",
       " 'Diod. 14.78.5',\n",
       " 'Diod. 14.90.3',\n",
       " 'Diod. 19.65.6',\n",
       " 'Diod. 19.110.4',\n",
       " 'Manni  ( 1976',\n",
       " 'Villard  ( 1954)',\n",
       " 'Spigo  ( 1997',\n",
       " 'Bertino  ( 1975)']"
      ]
     },
     "execution_count": 33,
     "metadata": {},
     "output_type": "execute_result"
    }
   ],
   "source": [
    "quellenListe[:10]"
   ]
  },
  {
   "cell_type": "markdown",
   "metadata": {},
   "source": [
    "Zähle die Häufigkeit der verschiedenen Quellen und speichere als Dictionary."
   ]
  },
  {
   "cell_type": "code",
   "execution_count": 34,
   "metadata": {
    "collapsed": false
   },
   "outputs": [
    {
     "data": {
      "text/plain": [
       "2"
      ]
     },
     "execution_count": 34,
     "metadata": {},
     "output_type": "execute_result"
    }
   ],
   "source": [
    "quellenVerteilung = {x:quellenListe.count(x) for x in quellenListe}\n",
    "quellenVerteilung['Diod. 14.90.3']"
   ]
  },
  {
   "cell_type": "markdown",
   "metadata": {},
   "source": [
    "Erzeuge DataFrame, mit neuem Index und Namen der Spalten. Sortiere diesen Nach der Häufigkeit der Quelle."
   ]
  },
  {
   "cell_type": "code",
   "execution_count": 35,
   "metadata": {
    "collapsed": false
   },
   "outputs": [],
   "source": [
    "dfQuellenVerteilung = pd.DataFrame([quellenVerteilung])"
   ]
  },
  {
   "cell_type": "code",
   "execution_count": 36,
   "metadata": {
    "collapsed": false
   },
   "outputs": [],
   "source": [
    "dfQuellenVerteilung = dfQuellenVerteilung.transpose().reset_index()"
   ]
  },
  {
   "cell_type": "code",
   "execution_count": 37,
   "metadata": {
    "collapsed": false
   },
   "outputs": [],
   "source": [
    "dfQuellenVerteilung = dfQuellenVerteilung.rename(columns={'index': 'Quelle', 0:'Häufigkeit'})"
   ]
  },
  {
   "cell_type": "code",
   "execution_count": 38,
   "metadata": {
    "collapsed": false
   },
   "outputs": [
    {
     "data": {
      "text/html": [
       "<div>\n",
       "<table border=\"1\" class=\"dataframe\">\n",
       "  <thead>\n",
       "    <tr style=\"text-align: right;\">\n",
       "      <th></th>\n",
       "      <th>Quelle</th>\n",
       "      <th>Häufigkeit</th>\n",
       "    </tr>\n",
       "  </thead>\n",
       "  <tbody>\n",
       "    <tr>\n",
       "      <th>382</th>\n",
       "      <td>Manganaro  ( 1996</td>\n",
       "      <td>15</td>\n",
       "    </tr>\n",
       "    <tr>\n",
       "      <th>331</th>\n",
       "      <td>Hinz  ( 1998)</td>\n",
       "      <td>13</td>\n",
       "    </tr>\n",
       "    <tr>\n",
       "      <th>509</th>\n",
       "      <td>Talbert  ( 1974)</td>\n",
       "      <td>13</td>\n",
       "    </tr>\n",
       "    <tr>\n",
       "      <th>83</th>\n",
       "      <td>Cavalier  ( 1991)</td>\n",
       "      <td>11</td>\n",
       "    </tr>\n",
       "    <tr>\n",
       "      <th>344</th>\n",
       "      <td>Karlsson  ( 1995)</td>\n",
       "      <td>9</td>\n",
       "    </tr>\n",
       "    <tr>\n",
       "      <th>226</th>\n",
       "      <td>Diod. 14.78.7</td>\n",
       "      <td>9</td>\n",
       "    </tr>\n",
       "    <tr>\n",
       "      <th>113</th>\n",
       "      <td>Diod. 11.49.2</td>\n",
       "      <td>9</td>\n",
       "    </tr>\n",
       "    <tr>\n",
       "      <th>47</th>\n",
       "      <td>Boehringer  ( 1998)</td>\n",
       "      <td>8</td>\n",
       "    </tr>\n",
       "    <tr>\n",
       "      <th>478</th>\n",
       "      <td>Rutter  ( 1997)</td>\n",
       "      <td>8</td>\n",
       "    </tr>\n",
       "    <tr>\n",
       "      <th>327</th>\n",
       "      <td>Hansen  ( 2000)</td>\n",
       "      <td>8</td>\n",
       "    </tr>\n",
       "  </tbody>\n",
       "</table>\n",
       "</div>"
      ],
      "text/plain": [
       "                  Quelle  Häufigkeit\n",
       "382    Manganaro  ( 1996          15\n",
       "331        Hinz  ( 1998)          13\n",
       "509     Talbert  ( 1974)          13\n",
       "83     Cavalier  ( 1991)          11\n",
       "344    Karlsson  ( 1995)           9\n",
       "226        Diod. 14.78.7           9\n",
       "113        Diod. 11.49.2           9\n",
       "47   Boehringer  ( 1998)           8\n",
       "478      Rutter  ( 1997)           8\n",
       "327      Hansen  ( 2000)           8"
      ]
     },
     "execution_count": 38,
     "metadata": {},
     "output_type": "execute_result"
    }
   ],
   "source": [
    "dfQuellenVerteilung.sort_values(by='Häufigkeit',ascending=False).head(10)"
   ]
  },
  {
   "cell_type": "markdown",
   "metadata": {},
   "source": [
    "## Visualisierungen"
   ]
  },
  {
   "cell_type": "markdown",
   "metadata": {},
   "source": [
    "Zeige die Verteilung der Häufigkeiten als Histogram. Um auch Häufigkeiten zu erkennen, die nicht so oft auftreten, kann man in die Darstellung zoomen. Das Haus-Symbol zeigt wieder den ursprünglichen Zustand der Figur."
   ]
  },
  {
   "cell_type": "code",
   "execution_count": 39,
   "metadata": {
    "collapsed": false
   },
   "outputs": [],
   "source": [
    "%matplotlib notebook"
   ]
  },
  {
   "cell_type": "code",
   "execution_count": 40,
   "metadata": {
    "collapsed": false
   },
   "outputs": [
    {
     "data": {
      "application/javascript": [
       "/* Put everything inside the global mpl namespace */\n",
       "window.mpl = {};\n",
       "\n",
       "mpl.get_websocket_type = function() {\n",
       "    if (typeof(WebSocket) !== 'undefined') {\n",
       "        return WebSocket;\n",
       "    } else if (typeof(MozWebSocket) !== 'undefined') {\n",
       "        return MozWebSocket;\n",
       "    } else {\n",
       "        alert('Your browser does not have WebSocket support.' +\n",
       "              'Please try Chrome, Safari or Firefox ≥ 6. ' +\n",
       "              'Firefox 4 and 5 are also supported but you ' +\n",
       "              'have to enable WebSockets in about:config.');\n",
       "    };\n",
       "}\n",
       "\n",
       "mpl.figure = function(figure_id, websocket, ondownload, parent_element) {\n",
       "    this.id = figure_id;\n",
       "\n",
       "    this.ws = websocket;\n",
       "\n",
       "    this.supports_binary = (this.ws.binaryType != undefined);\n",
       "\n",
       "    if (!this.supports_binary) {\n",
       "        var warnings = document.getElementById(\"mpl-warnings\");\n",
       "        if (warnings) {\n",
       "            warnings.style.display = 'block';\n",
       "            warnings.textContent = (\n",
       "                \"This browser does not support binary websocket messages. \" +\n",
       "                    \"Performance may be slow.\");\n",
       "        }\n",
       "    }\n",
       "\n",
       "    this.imageObj = new Image();\n",
       "\n",
       "    this.context = undefined;\n",
       "    this.message = undefined;\n",
       "    this.canvas = undefined;\n",
       "    this.rubberband_canvas = undefined;\n",
       "    this.rubberband_context = undefined;\n",
       "    this.format_dropdown = undefined;\n",
       "\n",
       "    this.image_mode = 'full';\n",
       "\n",
       "    this.root = $('<div/>');\n",
       "    this._root_extra_style(this.root)\n",
       "    this.root.attr('style', 'display: inline-block');\n",
       "\n",
       "    $(parent_element).append(this.root);\n",
       "\n",
       "    this._init_header(this);\n",
       "    this._init_canvas(this);\n",
       "    this._init_toolbar(this);\n",
       "\n",
       "    var fig = this;\n",
       "\n",
       "    this.waiting = false;\n",
       "\n",
       "    this.ws.onopen =  function () {\n",
       "            fig.send_message(\"supports_binary\", {value: fig.supports_binary});\n",
       "            fig.send_message(\"send_image_mode\", {});\n",
       "            fig.send_message(\"refresh\", {});\n",
       "        }\n",
       "\n",
       "    this.imageObj.onload = function() {\n",
       "            if (fig.image_mode == 'full') {\n",
       "                // Full images could contain transparency (where diff images\n",
       "                // almost always do), so we need to clear the canvas so that\n",
       "                // there is no ghosting.\n",
       "                fig.context.clearRect(0, 0, fig.canvas.width, fig.canvas.height);\n",
       "            }\n",
       "            fig.context.drawImage(fig.imageObj, 0, 0);\n",
       "        };\n",
       "\n",
       "    this.imageObj.onunload = function() {\n",
       "        this.ws.close();\n",
       "    }\n",
       "\n",
       "    this.ws.onmessage = this._make_on_message_function(this);\n",
       "\n",
       "    this.ondownload = ondownload;\n",
       "}\n",
       "\n",
       "mpl.figure.prototype._init_header = function() {\n",
       "    var titlebar = $(\n",
       "        '<div class=\"ui-dialog-titlebar ui-widget-header ui-corner-all ' +\n",
       "        'ui-helper-clearfix\"/>');\n",
       "    var titletext = $(\n",
       "        '<div class=\"ui-dialog-title\" style=\"width: 100%; ' +\n",
       "        'text-align: center; padding: 3px;\"/>');\n",
       "    titlebar.append(titletext)\n",
       "    this.root.append(titlebar);\n",
       "    this.header = titletext[0];\n",
       "}\n",
       "\n",
       "\n",
       "\n",
       "mpl.figure.prototype._canvas_extra_style = function(canvas_div) {\n",
       "\n",
       "}\n",
       "\n",
       "\n",
       "mpl.figure.prototype._root_extra_style = function(canvas_div) {\n",
       "\n",
       "}\n",
       "\n",
       "mpl.figure.prototype._init_canvas = function() {\n",
       "    var fig = this;\n",
       "\n",
       "    var canvas_div = $('<div/>');\n",
       "\n",
       "    canvas_div.attr('style', 'position: relative; clear: both; outline: 0');\n",
       "\n",
       "    function canvas_keyboard_event(event) {\n",
       "        return fig.key_event(event, event['data']);\n",
       "    }\n",
       "\n",
       "    canvas_div.keydown('key_press', canvas_keyboard_event);\n",
       "    canvas_div.keyup('key_release', canvas_keyboard_event);\n",
       "    this.canvas_div = canvas_div\n",
       "    this._canvas_extra_style(canvas_div)\n",
       "    this.root.append(canvas_div);\n",
       "\n",
       "    var canvas = $('<canvas/>');\n",
       "    canvas.addClass('mpl-canvas');\n",
       "    canvas.attr('style', \"left: 0; top: 0; z-index: 0; outline: 0\")\n",
       "\n",
       "    this.canvas = canvas[0];\n",
       "    this.context = canvas[0].getContext(\"2d\");\n",
       "\n",
       "    var rubberband = $('<canvas/>');\n",
       "    rubberband.attr('style', \"position: absolute; left: 0; top: 0; z-index: 1;\")\n",
       "\n",
       "    var pass_mouse_events = true;\n",
       "\n",
       "    canvas_div.resizable({\n",
       "        start: function(event, ui) {\n",
       "            pass_mouse_events = false;\n",
       "        },\n",
       "        resize: function(event, ui) {\n",
       "            fig.request_resize(ui.size.width, ui.size.height);\n",
       "        },\n",
       "        stop: function(event, ui) {\n",
       "            pass_mouse_events = true;\n",
       "            fig.request_resize(ui.size.width, ui.size.height);\n",
       "        },\n",
       "    });\n",
       "\n",
       "    function mouse_event_fn(event) {\n",
       "        if (pass_mouse_events)\n",
       "            return fig.mouse_event(event, event['data']);\n",
       "    }\n",
       "\n",
       "    rubberband.mousedown('button_press', mouse_event_fn);\n",
       "    rubberband.mouseup('button_release', mouse_event_fn);\n",
       "    // Throttle sequential mouse events to 1 every 20ms.\n",
       "    rubberband.mousemove('motion_notify', mouse_event_fn);\n",
       "\n",
       "    rubberband.mouseenter('figure_enter', mouse_event_fn);\n",
       "    rubberband.mouseleave('figure_leave', mouse_event_fn);\n",
       "\n",
       "    canvas_div.on(\"wheel\", function (event) {\n",
       "        event = event.originalEvent;\n",
       "        event['data'] = 'scroll'\n",
       "        if (event.deltaY < 0) {\n",
       "            event.step = 1;\n",
       "        } else {\n",
       "            event.step = -1;\n",
       "        }\n",
       "        mouse_event_fn(event);\n",
       "    });\n",
       "\n",
       "    canvas_div.append(canvas);\n",
       "    canvas_div.append(rubberband);\n",
       "\n",
       "    this.rubberband = rubberband;\n",
       "    this.rubberband_canvas = rubberband[0];\n",
       "    this.rubberband_context = rubberband[0].getContext(\"2d\");\n",
       "    this.rubberband_context.strokeStyle = \"#000000\";\n",
       "\n",
       "    this._resize_canvas = function(width, height) {\n",
       "        // Keep the size of the canvas, canvas container, and rubber band\n",
       "        // canvas in synch.\n",
       "        canvas_div.css('width', width)\n",
       "        canvas_div.css('height', height)\n",
       "\n",
       "        canvas.attr('width', width);\n",
       "        canvas.attr('height', height);\n",
       "\n",
       "        rubberband.attr('width', width);\n",
       "        rubberband.attr('height', height);\n",
       "    }\n",
       "\n",
       "    // Set the figure to an initial 600x600px, this will subsequently be updated\n",
       "    // upon first draw.\n",
       "    this._resize_canvas(600, 600);\n",
       "\n",
       "    // Disable right mouse context menu.\n",
       "    $(this.rubberband_canvas).bind(\"contextmenu\",function(e){\n",
       "        return false;\n",
       "    });\n",
       "\n",
       "    function set_focus () {\n",
       "        canvas.focus();\n",
       "        canvas_div.focus();\n",
       "    }\n",
       "\n",
       "    window.setTimeout(set_focus, 100);\n",
       "}\n",
       "\n",
       "mpl.figure.prototype._init_toolbar = function() {\n",
       "    var fig = this;\n",
       "\n",
       "    var nav_element = $('<div/>')\n",
       "    nav_element.attr('style', 'width: 100%');\n",
       "    this.root.append(nav_element);\n",
       "\n",
       "    // Define a callback function for later on.\n",
       "    function toolbar_event(event) {\n",
       "        return fig.toolbar_button_onclick(event['data']);\n",
       "    }\n",
       "    function toolbar_mouse_event(event) {\n",
       "        return fig.toolbar_button_onmouseover(event['data']);\n",
       "    }\n",
       "\n",
       "    for(var toolbar_ind in mpl.toolbar_items) {\n",
       "        var name = mpl.toolbar_items[toolbar_ind][0];\n",
       "        var tooltip = mpl.toolbar_items[toolbar_ind][1];\n",
       "        var image = mpl.toolbar_items[toolbar_ind][2];\n",
       "        var method_name = mpl.toolbar_items[toolbar_ind][3];\n",
       "\n",
       "        if (!name) {\n",
       "            // put a spacer in here.\n",
       "            continue;\n",
       "        }\n",
       "        var button = $('<button/>');\n",
       "        button.addClass('ui-button ui-widget ui-state-default ui-corner-all ' +\n",
       "                        'ui-button-icon-only');\n",
       "        button.attr('role', 'button');\n",
       "        button.attr('aria-disabled', 'false');\n",
       "        button.click(method_name, toolbar_event);\n",
       "        button.mouseover(tooltip, toolbar_mouse_event);\n",
       "\n",
       "        var icon_img = $('<span/>');\n",
       "        icon_img.addClass('ui-button-icon-primary ui-icon');\n",
       "        icon_img.addClass(image);\n",
       "        icon_img.addClass('ui-corner-all');\n",
       "\n",
       "        var tooltip_span = $('<span/>');\n",
       "        tooltip_span.addClass('ui-button-text');\n",
       "        tooltip_span.html(tooltip);\n",
       "\n",
       "        button.append(icon_img);\n",
       "        button.append(tooltip_span);\n",
       "\n",
       "        nav_element.append(button);\n",
       "    }\n",
       "\n",
       "    var fmt_picker_span = $('<span/>');\n",
       "\n",
       "    var fmt_picker = $('<select/>');\n",
       "    fmt_picker.addClass('mpl-toolbar-option ui-widget ui-widget-content');\n",
       "    fmt_picker_span.append(fmt_picker);\n",
       "    nav_element.append(fmt_picker_span);\n",
       "    this.format_dropdown = fmt_picker[0];\n",
       "\n",
       "    for (var ind in mpl.extensions) {\n",
       "        var fmt = mpl.extensions[ind];\n",
       "        var option = $(\n",
       "            '<option/>', {selected: fmt === mpl.default_extension}).html(fmt);\n",
       "        fmt_picker.append(option)\n",
       "    }\n",
       "\n",
       "    // Add hover states to the ui-buttons\n",
       "    $( \".ui-button\" ).hover(\n",
       "        function() { $(this).addClass(\"ui-state-hover\");},\n",
       "        function() { $(this).removeClass(\"ui-state-hover\");}\n",
       "    );\n",
       "\n",
       "    var status_bar = $('<span class=\"mpl-message\"/>');\n",
       "    nav_element.append(status_bar);\n",
       "    this.message = status_bar[0];\n",
       "}\n",
       "\n",
       "mpl.figure.prototype.request_resize = function(x_pixels, y_pixels) {\n",
       "    // Request matplotlib to resize the figure. Matplotlib will then trigger a resize in the client,\n",
       "    // which will in turn request a refresh of the image.\n",
       "    this.send_message('resize', {'width': x_pixels, 'height': y_pixels});\n",
       "}\n",
       "\n",
       "mpl.figure.prototype.send_message = function(type, properties) {\n",
       "    properties['type'] = type;\n",
       "    properties['figure_id'] = this.id;\n",
       "    this.ws.send(JSON.stringify(properties));\n",
       "}\n",
       "\n",
       "mpl.figure.prototype.send_draw_message = function() {\n",
       "    if (!this.waiting) {\n",
       "        this.waiting = true;\n",
       "        this.ws.send(JSON.stringify({type: \"draw\", figure_id: this.id}));\n",
       "    }\n",
       "}\n",
       "\n",
       "\n",
       "mpl.figure.prototype.handle_save = function(fig, msg) {\n",
       "    var format_dropdown = fig.format_dropdown;\n",
       "    var format = format_dropdown.options[format_dropdown.selectedIndex].value;\n",
       "    fig.ondownload(fig, format);\n",
       "}\n",
       "\n",
       "\n",
       "mpl.figure.prototype.handle_resize = function(fig, msg) {\n",
       "    var size = msg['size'];\n",
       "    if (size[0] != fig.canvas.width || size[1] != fig.canvas.height) {\n",
       "        fig._resize_canvas(size[0], size[1]);\n",
       "        fig.send_message(\"refresh\", {});\n",
       "    };\n",
       "}\n",
       "\n",
       "mpl.figure.prototype.handle_rubberband = function(fig, msg) {\n",
       "    var x0 = msg['x0'];\n",
       "    var y0 = fig.canvas.height - msg['y0'];\n",
       "    var x1 = msg['x1'];\n",
       "    var y1 = fig.canvas.height - msg['y1'];\n",
       "    x0 = Math.floor(x0) + 0.5;\n",
       "    y0 = Math.floor(y0) + 0.5;\n",
       "    x1 = Math.floor(x1) + 0.5;\n",
       "    y1 = Math.floor(y1) + 0.5;\n",
       "    var min_x = Math.min(x0, x1);\n",
       "    var min_y = Math.min(y0, y1);\n",
       "    var width = Math.abs(x1 - x0);\n",
       "    var height = Math.abs(y1 - y0);\n",
       "\n",
       "    fig.rubberband_context.clearRect(\n",
       "        0, 0, fig.canvas.width, fig.canvas.height);\n",
       "\n",
       "    fig.rubberband_context.strokeRect(min_x, min_y, width, height);\n",
       "}\n",
       "\n",
       "mpl.figure.prototype.handle_figure_label = function(fig, msg) {\n",
       "    // Updates the figure title.\n",
       "    fig.header.textContent = msg['label'];\n",
       "}\n",
       "\n",
       "mpl.figure.prototype.handle_cursor = function(fig, msg) {\n",
       "    var cursor = msg['cursor'];\n",
       "    switch(cursor)\n",
       "    {\n",
       "    case 0:\n",
       "        cursor = 'pointer';\n",
       "        break;\n",
       "    case 1:\n",
       "        cursor = 'default';\n",
       "        break;\n",
       "    case 2:\n",
       "        cursor = 'crosshair';\n",
       "        break;\n",
       "    case 3:\n",
       "        cursor = 'move';\n",
       "        break;\n",
       "    }\n",
       "    fig.rubberband_canvas.style.cursor = cursor;\n",
       "}\n",
       "\n",
       "mpl.figure.prototype.handle_message = function(fig, msg) {\n",
       "    fig.message.textContent = msg['message'];\n",
       "}\n",
       "\n",
       "mpl.figure.prototype.handle_draw = function(fig, msg) {\n",
       "    // Request the server to send over a new figure.\n",
       "    fig.send_draw_message();\n",
       "}\n",
       "\n",
       "mpl.figure.prototype.handle_image_mode = function(fig, msg) {\n",
       "    fig.image_mode = msg['mode'];\n",
       "}\n",
       "\n",
       "mpl.figure.prototype.updated_canvas_event = function() {\n",
       "    // Called whenever the canvas gets updated.\n",
       "    this.send_message(\"ack\", {});\n",
       "}\n",
       "\n",
       "// A function to construct a web socket function for onmessage handling.\n",
       "// Called in the figure constructor.\n",
       "mpl.figure.prototype._make_on_message_function = function(fig) {\n",
       "    return function socket_on_message(evt) {\n",
       "        if (evt.data instanceof Blob) {\n",
       "            /* FIXME: We get \"Resource interpreted as Image but\n",
       "             * transferred with MIME type text/plain:\" errors on\n",
       "             * Chrome.  But how to set the MIME type?  It doesn't seem\n",
       "             * to be part of the websocket stream */\n",
       "            evt.data.type = \"image/png\";\n",
       "\n",
       "            /* Free the memory for the previous frames */\n",
       "            if (fig.imageObj.src) {\n",
       "                (window.URL || window.webkitURL).revokeObjectURL(\n",
       "                    fig.imageObj.src);\n",
       "            }\n",
       "\n",
       "            fig.imageObj.src = (window.URL || window.webkitURL).createObjectURL(\n",
       "                evt.data);\n",
       "            fig.updated_canvas_event();\n",
       "            fig.waiting = false;\n",
       "            return;\n",
       "        }\n",
       "        else if (typeof evt.data === 'string' && evt.data.slice(0, 21) == \"data:image/png;base64\") {\n",
       "            fig.imageObj.src = evt.data;\n",
       "            fig.updated_canvas_event();\n",
       "            fig.waiting = false;\n",
       "            return;\n",
       "        }\n",
       "\n",
       "        var msg = JSON.parse(evt.data);\n",
       "        var msg_type = msg['type'];\n",
       "\n",
       "        // Call the  \"handle_{type}\" callback, which takes\n",
       "        // the figure and JSON message as its only arguments.\n",
       "        try {\n",
       "            var callback = fig[\"handle_\" + msg_type];\n",
       "        } catch (e) {\n",
       "            console.log(\"No handler for the '\" + msg_type + \"' message type: \", msg);\n",
       "            return;\n",
       "        }\n",
       "\n",
       "        if (callback) {\n",
       "            try {\n",
       "                // console.log(\"Handling '\" + msg_type + \"' message: \", msg);\n",
       "                callback(fig, msg);\n",
       "            } catch (e) {\n",
       "                console.log(\"Exception inside the 'handler_\" + msg_type + \"' callback:\", e, e.stack, msg);\n",
       "            }\n",
       "        }\n",
       "    };\n",
       "}\n",
       "\n",
       "// from http://stackoverflow.com/questions/1114465/getting-mouse-location-in-canvas\n",
       "mpl.findpos = function(e) {\n",
       "    //this section is from http://www.quirksmode.org/js/events_properties.html\n",
       "    var targ;\n",
       "    if (!e)\n",
       "        e = window.event;\n",
       "    if (e.target)\n",
       "        targ = e.target;\n",
       "    else if (e.srcElement)\n",
       "        targ = e.srcElement;\n",
       "    if (targ.nodeType == 3) // defeat Safari bug\n",
       "        targ = targ.parentNode;\n",
       "\n",
       "    // jQuery normalizes the pageX and pageY\n",
       "    // pageX,Y are the mouse positions relative to the document\n",
       "    // offset() returns the position of the element relative to the document\n",
       "    var x = e.pageX - $(targ).offset().left;\n",
       "    var y = e.pageY - $(targ).offset().top;\n",
       "\n",
       "    return {\"x\": x, \"y\": y};\n",
       "};\n",
       "\n",
       "/*\n",
       " * return a copy of an object with only non-object keys\n",
       " * we need this to avoid circular references\n",
       " * http://stackoverflow.com/a/24161582/3208463\n",
       " */\n",
       "function simpleKeys (original) {\n",
       "  return Object.keys(original).reduce(function (obj, key) {\n",
       "    if (typeof original[key] !== 'object')\n",
       "        obj[key] = original[key]\n",
       "    return obj;\n",
       "  }, {});\n",
       "}\n",
       "\n",
       "mpl.figure.prototype.mouse_event = function(event, name) {\n",
       "    var canvas_pos = mpl.findpos(event)\n",
       "\n",
       "    if (name === 'button_press')\n",
       "    {\n",
       "        this.canvas.focus();\n",
       "        this.canvas_div.focus();\n",
       "    }\n",
       "\n",
       "    var x = canvas_pos.x;\n",
       "    var y = canvas_pos.y;\n",
       "\n",
       "    this.send_message(name, {x: x, y: y, button: event.button,\n",
       "                             step: event.step,\n",
       "                             guiEvent: simpleKeys(event)});\n",
       "\n",
       "    /* This prevents the web browser from automatically changing to\n",
       "     * the text insertion cursor when the button is pressed.  We want\n",
       "     * to control all of the cursor setting manually through the\n",
       "     * 'cursor' event from matplotlib */\n",
       "    event.preventDefault();\n",
       "    return false;\n",
       "}\n",
       "\n",
       "mpl.figure.prototype._key_event_extra = function(event, name) {\n",
       "    // Handle any extra behaviour associated with a key event\n",
       "}\n",
       "\n",
       "mpl.figure.prototype.key_event = function(event, name) {\n",
       "\n",
       "    // Prevent repeat events\n",
       "    if (name == 'key_press')\n",
       "    {\n",
       "        if (event.which === this._key)\n",
       "            return;\n",
       "        else\n",
       "            this._key = event.which;\n",
       "    }\n",
       "    if (name == 'key_release')\n",
       "        this._key = null;\n",
       "\n",
       "    var value = '';\n",
       "    if (event.ctrlKey && event.which != 17)\n",
       "        value += \"ctrl+\";\n",
       "    if (event.altKey && event.which != 18)\n",
       "        value += \"alt+\";\n",
       "    if (event.shiftKey && event.which != 16)\n",
       "        value += \"shift+\";\n",
       "\n",
       "    value += 'k';\n",
       "    value += event.which.toString();\n",
       "\n",
       "    this._key_event_extra(event, name);\n",
       "\n",
       "    this.send_message(name, {key: value,\n",
       "                             guiEvent: simpleKeys(event)});\n",
       "    return false;\n",
       "}\n",
       "\n",
       "mpl.figure.prototype.toolbar_button_onclick = function(name) {\n",
       "    if (name == 'download') {\n",
       "        this.handle_save(this, null);\n",
       "    } else {\n",
       "        this.send_message(\"toolbar_button\", {name: name});\n",
       "    }\n",
       "};\n",
       "\n",
       "mpl.figure.prototype.toolbar_button_onmouseover = function(tooltip) {\n",
       "    this.message.textContent = tooltip;\n",
       "};\n",
       "mpl.toolbar_items = [[\"Home\", \"Reset original view\", \"fa fa-home icon-home\", \"home\"], [\"Back\", \"Back to  previous view\", \"fa fa-arrow-left icon-arrow-left\", \"back\"], [\"Forward\", \"Forward to next view\", \"fa fa-arrow-right icon-arrow-right\", \"forward\"], [\"\", \"\", \"\", \"\"], [\"Pan\", \"Pan axes with left mouse, zoom with right\", \"fa fa-arrows icon-move\", \"pan\"], [\"Zoom\", \"Zoom to rectangle\", \"fa fa-square-o icon-check-empty\", \"zoom\"], [\"\", \"\", \"\", \"\"], [\"Download\", \"Download plot\", \"fa fa-floppy-o icon-save\", \"download\"]];\n",
       "\n",
       "mpl.extensions = [\"eps\", \"jpeg\", \"pdf\", \"png\", \"ps\", \"raw\", \"svg\", \"tif\"];\n",
       "\n",
       "mpl.default_extension = \"png\";var comm_websocket_adapter = function(comm) {\n",
       "    // Create a \"websocket\"-like object which calls the given IPython comm\n",
       "    // object with the appropriate methods. Currently this is a non binary\n",
       "    // socket, so there is still some room for performance tuning.\n",
       "    var ws = {};\n",
       "\n",
       "    ws.close = function() {\n",
       "        comm.close()\n",
       "    };\n",
       "    ws.send = function(m) {\n",
       "        //console.log('sending', m);\n",
       "        comm.send(m);\n",
       "    };\n",
       "    // Register the callback with on_msg.\n",
       "    comm.on_msg(function(msg) {\n",
       "        //console.log('receiving', msg['content']['data'], msg);\n",
       "        // Pass the mpl event to the overriden (by mpl) onmessage function.\n",
       "        ws.onmessage(msg['content']['data'])\n",
       "    });\n",
       "    return ws;\n",
       "}\n",
       "\n",
       "mpl.mpl_figure_comm = function(comm, msg) {\n",
       "    // This is the function which gets called when the mpl process\n",
       "    // starts-up an IPython Comm through the \"matplotlib\" channel.\n",
       "\n",
       "    var id = msg.content.data.id;\n",
       "    // Get hold of the div created by the display call when the Comm\n",
       "    // socket was opened in Python.\n",
       "    var element = $(\"#\" + id);\n",
       "    var ws_proxy = comm_websocket_adapter(comm)\n",
       "\n",
       "    function ondownload(figure, format) {\n",
       "        window.open(figure.imageObj.src);\n",
       "    }\n",
       "\n",
       "    var fig = new mpl.figure(id, ws_proxy,\n",
       "                           ondownload,\n",
       "                           element.get(0));\n",
       "\n",
       "    // Call onopen now - mpl needs it, as it is assuming we've passed it a real\n",
       "    // web socket which is closed, not our websocket->open comm proxy.\n",
       "    ws_proxy.onopen();\n",
       "\n",
       "    fig.parent_element = element.get(0);\n",
       "    fig.cell_info = mpl.find_output_cell(\"<div id='\" + id + \"'></div>\");\n",
       "    if (!fig.cell_info) {\n",
       "        console.error(\"Failed to find cell for figure\", id, fig);\n",
       "        return;\n",
       "    }\n",
       "\n",
       "    var output_index = fig.cell_info[2]\n",
       "    var cell = fig.cell_info[0];\n",
       "\n",
       "};\n",
       "\n",
       "mpl.figure.prototype.handle_close = function(fig, msg) {\n",
       "    fig.root.unbind('remove')\n",
       "\n",
       "    // Update the output cell to use the data from the current canvas.\n",
       "    fig.push_to_output();\n",
       "    var dataURL = fig.canvas.toDataURL();\n",
       "    // Re-enable the keyboard manager in IPython - without this line, in FF,\n",
       "    // the notebook keyboard shortcuts fail.\n",
       "    IPython.keyboard_manager.enable()\n",
       "    $(fig.parent_element).html('<img src=\"' + dataURL + '\">');\n",
       "    fig.close_ws(fig, msg);\n",
       "}\n",
       "\n",
       "mpl.figure.prototype.close_ws = function(fig, msg){\n",
       "    fig.send_message('closing', msg);\n",
       "    // fig.ws.close()\n",
       "}\n",
       "\n",
       "mpl.figure.prototype.push_to_output = function(remove_interactive) {\n",
       "    // Turn the data on the canvas into data in the output cell.\n",
       "    var dataURL = this.canvas.toDataURL();\n",
       "    this.cell_info[1]['text/html'] = '<img src=\"' + dataURL + '\">';\n",
       "}\n",
       "\n",
       "mpl.figure.prototype.updated_canvas_event = function() {\n",
       "    // Tell IPython that the notebook contents must change.\n",
       "    IPython.notebook.set_dirty(true);\n",
       "    this.send_message(\"ack\", {});\n",
       "    var fig = this;\n",
       "    // Wait a second, then push the new image to the DOM so\n",
       "    // that it is saved nicely (might be nice to debounce this).\n",
       "    setTimeout(function () { fig.push_to_output() }, 1000);\n",
       "}\n",
       "\n",
       "mpl.figure.prototype._init_toolbar = function() {\n",
       "    var fig = this;\n",
       "\n",
       "    var nav_element = $('<div/>')\n",
       "    nav_element.attr('style', 'width: 100%');\n",
       "    this.root.append(nav_element);\n",
       "\n",
       "    // Define a callback function for later on.\n",
       "    function toolbar_event(event) {\n",
       "        return fig.toolbar_button_onclick(event['data']);\n",
       "    }\n",
       "    function toolbar_mouse_event(event) {\n",
       "        return fig.toolbar_button_onmouseover(event['data']);\n",
       "    }\n",
       "\n",
       "    for(var toolbar_ind in mpl.toolbar_items){\n",
       "        var name = mpl.toolbar_items[toolbar_ind][0];\n",
       "        var tooltip = mpl.toolbar_items[toolbar_ind][1];\n",
       "        var image = mpl.toolbar_items[toolbar_ind][2];\n",
       "        var method_name = mpl.toolbar_items[toolbar_ind][3];\n",
       "\n",
       "        if (!name) { continue; };\n",
       "\n",
       "        var button = $('<button class=\"btn btn-default\" href=\"#\" title=\"' + name + '\"><i class=\"fa ' + image + ' fa-lg\"></i></button>');\n",
       "        button.click(method_name, toolbar_event);\n",
       "        button.mouseover(tooltip, toolbar_mouse_event);\n",
       "        nav_element.append(button);\n",
       "    }\n",
       "\n",
       "    // Add the status bar.\n",
       "    var status_bar = $('<span class=\"mpl-message\" style=\"text-align:right; float: right;\"/>');\n",
       "    nav_element.append(status_bar);\n",
       "    this.message = status_bar[0];\n",
       "\n",
       "    // Add the close button to the window.\n",
       "    var buttongrp = $('<div class=\"btn-group inline pull-right\"></div>');\n",
       "    var button = $('<button class=\"btn btn-mini btn-primary\" href=\"#\" title=\"Stop Interaction\"><i class=\"fa fa-power-off icon-remove icon-large\"></i></button>');\n",
       "    button.click(function (evt) { fig.handle_close(fig, {}); } );\n",
       "    button.mouseover('Stop Interaction', toolbar_mouse_event);\n",
       "    buttongrp.append(button);\n",
       "    var titlebar = this.root.find($('.ui-dialog-titlebar'));\n",
       "    titlebar.prepend(buttongrp);\n",
       "}\n",
       "\n",
       "mpl.figure.prototype._root_extra_style = function(el){\n",
       "    var fig = this\n",
       "    el.on(\"remove\", function(){\n",
       "\tfig.close_ws(fig, {});\n",
       "    });\n",
       "}\n",
       "\n",
       "mpl.figure.prototype._canvas_extra_style = function(el){\n",
       "    // this is important to make the div 'focusable\n",
       "    el.attr('tabindex', 0)\n",
       "    // reach out to IPython and tell the keyboard manager to turn it's self\n",
       "    // off when our div gets focus\n",
       "\n",
       "    // location in version 3\n",
       "    if (IPython.notebook.keyboard_manager) {\n",
       "        IPython.notebook.keyboard_manager.register_events(el);\n",
       "    }\n",
       "    else {\n",
       "        // location in version 2\n",
       "        IPython.keyboard_manager.register_events(el);\n",
       "    }\n",
       "\n",
       "}\n",
       "\n",
       "mpl.figure.prototype._key_event_extra = function(event, name) {\n",
       "    var manager = IPython.notebook.keyboard_manager;\n",
       "    if (!manager)\n",
       "        manager = IPython.keyboard_manager;\n",
       "\n",
       "    // Check for shift+enter\n",
       "    if (event.shiftKey && event.which == 13) {\n",
       "        this.canvas_div.blur();\n",
       "        event.shiftKey = false;\n",
       "        // Send a \"J\" for go to next cell\n",
       "        event.which = 74;\n",
       "        event.keyCode = 74;\n",
       "        manager.command_mode();\n",
       "        manager.handle_keydown(event);\n",
       "    }\n",
       "}\n",
       "\n",
       "mpl.figure.prototype.handle_save = function(fig, msg) {\n",
       "    fig.ondownload(fig, null);\n",
       "}\n",
       "\n",
       "\n",
       "mpl.find_output_cell = function(html_output) {\n",
       "    // Return the cell and output element which can be found *uniquely* in the notebook.\n",
       "    // Note - this is a bit hacky, but it is done because the \"notebook_saving.Notebook\"\n",
       "    // IPython event is triggered only after the cells have been serialised, which for\n",
       "    // our purposes (turning an active figure into a static one), is too late.\n",
       "    var cells = IPython.notebook.get_cells();\n",
       "    var ncells = cells.length;\n",
       "    for (var i=0; i<ncells; i++) {\n",
       "        var cell = cells[i];\n",
       "        if (cell.cell_type === 'code'){\n",
       "            for (var j=0; j<cell.output_area.outputs.length; j++) {\n",
       "                var data = cell.output_area.outputs[j];\n",
       "                if (data.data) {\n",
       "                    // IPython >= 3 moved mimebundle to data attribute of output\n",
       "                    data = data.data;\n",
       "                }\n",
       "                if (data['text/html'] == html_output) {\n",
       "                    return [cell, data, j];\n",
       "                }\n",
       "            }\n",
       "        }\n",
       "    }\n",
       "}\n",
       "\n",
       "// Register the function which deals with the matplotlib target/channel.\n",
       "// The kernel may be null if the page has been refreshed.\n",
       "if (IPython.notebook.kernel != null) {\n",
       "    IPython.notebook.kernel.comm_manager.register_target('matplotlib', mpl.mpl_figure_comm);\n",
       "}\n"
      ],
      "text/plain": [
       "<IPython.core.display.Javascript object>"
      ]
     },
     "metadata": {},
     "output_type": "display_data"
    },
    {
     "data": {
      "text/html": [
       "<div id='14c453a4-1c72-4997-bbf4-b6755adb690e'></div>"
      ],
      "text/plain": [
       "<IPython.core.display.HTML object>"
      ]
     },
     "metadata": {},
     "output_type": "display_data"
    }
   ],
   "source": [
    "fig, ax = plt.subplots(figsize=(8,6))\n",
    "\n",
    "dfQuellenGrouped = dfQuellenVerteilung.groupby(by='Häufigkeit').plot(kind='hist', ax=ax, legend=False)"
   ]
  },
  {
   "cell_type": "code",
   "execution_count": 41,
   "metadata": {
    "collapsed": false
   },
   "outputs": [
    {
     "ename": "ImportError",
     "evalue": "No module named 'folium'",
     "output_type": "error",
     "traceback": [
      "\u001b[1;31m---------------------------------------------------------------------------\u001b[0m",
      "\u001b[1;31mImportError\u001b[0m                               Traceback (most recent call last)",
      "\u001b[1;32m<ipython-input-41-9eae33d69195>\u001b[0m in \u001b[0;36m<module>\u001b[1;34m()\u001b[0m\n\u001b[1;32m----> 1\u001b[1;33m \u001b[1;32mimport\u001b[0m \u001b[0mfolium\u001b[0m\u001b[1;33m\u001b[0m\u001b[0m\n\u001b[0m\u001b[0;32m      2\u001b[0m \u001b[1;32mfrom\u001b[0m \u001b[0mfolium\u001b[0m \u001b[1;32mimport\u001b[0m \u001b[0mplugins\u001b[0m\u001b[1;33m\u001b[0m\u001b[0m\n\u001b[0;32m      3\u001b[0m \u001b[1;32mfrom\u001b[0m \u001b[0mfolium\u001b[0m\u001b[1;33m.\u001b[0m\u001b[0mmap\u001b[0m \u001b[1;32mimport\u001b[0m \u001b[1;33m*\u001b[0m\u001b[1;33m\u001b[0m\u001b[0m\n",
      "\u001b[1;31mImportError\u001b[0m: No module named 'folium'"
     ]
    }
   ],
   "source": [
    "import folium\n",
    "from folium import plugins\n",
    "from folium.map import *"
   ]
  },
  {
   "cell_type": "markdown",
   "metadata": {},
   "source": [
    "Remove all entries where no latitude or longitude is given."
   ]
  },
  {
   "cell_type": "code",
   "execution_count": null,
   "metadata": {
    "collapsed": false
   },
   "outputs": [],
   "source": [
    "dfPoleisMap = dfPoleis.dropna(axis=0)"
   ]
  },
  {
   "cell_type": "code",
   "execution_count": null,
   "metadata": {
    "collapsed": false
   },
   "outputs": [],
   "source": [
    "poleis_map = folium.Map(location=[dfPoleisMap[\"Latitude\"][0],dfPoleisMap[\"Longitude\"][0]], zoom_start=8)\n",
    "\n",
    "marker = FeatureGroup(name='Poleis')\n",
    "\n",
    "marker_cluster = folium.MarkerCluster().add_to(marker)\n",
    "    \n",
    "for i in range(len(dfPoleisMap)):\n",
    "    folium.Marker([dfPoleisMap['Latitude'][i], dfPoleisMap['Longitude'][i]],popup='Cityname:' + str(dfPoleisMap[\"city\"][i]) + ' CityIndex:' + str(dfPoleisMap[\"city_index\"][i]),icon=folium.Icon(icon='ok')).add_to(marker_cluster)\n",
    "\n",
    "poleis_map.add_children(marker)\n",
    "\n",
    "poleis_map.add_children(folium.map.LayerControl())"
   ]
  },
  {
   "cell_type": "code",
   "execution_count": null,
   "metadata": {
    "collapsed": true
   },
   "outputs": [],
   "source": []
  }
 ],
 "metadata": {
  "anaconda-cloud": {},
  "kernelspec": {
   "display_name": "Python [Root]",
   "language": "python",
   "name": "Python [Root]"
  },
  "language_info": {
   "codemirror_mode": {
    "name": "ipython",
    "version": 3
   },
   "file_extension": ".py",
   "mimetype": "text/x-python",
   "name": "python",
   "nbconvert_exporter": "python",
   "pygments_lexer": "ipython3",
   "version": "3.5.2"
  },
  "latex_envs": {
   "bibliofile": "biblio.bib",
   "cite_by": "apalike",
   "current_citInitial": 1,
   "eqLabelWithNumbers": true,
   "eqNumInitial": 0
  },
  "nav_menu": {},
  "toc": {
   "navigate_menu": true,
   "number_sections": true,
   "sideBar": true,
   "threshold": 6,
   "toc_cell": false,
   "toc_section_display": "block",
   "toc_window_display": false
  }
 },
 "nbformat": 4,
 "nbformat_minor": 0
}
