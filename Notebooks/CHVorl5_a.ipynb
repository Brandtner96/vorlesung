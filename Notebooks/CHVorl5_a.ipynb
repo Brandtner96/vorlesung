{
 "cells": [
  {
   "cell_type": "markdown",
   "metadata": {
    "button": false,
    "deletable": true,
    "new_sheet": false,
    "run_control": {
     "read_only": false
    }
   },
   "source": [
    "# Vorlesung 4: Strukturen von Texten 2\n",
    "\n",
    "Reguläre Ausdrücke: http://www.regexe.de/hilfe.jsp\n",
    "                    https://pymotw.com/2/re\n",
    "\n",
    "Pandas: http://www.data-analysis-in-python.org/3_pandas.html\n",
    "      : https://bitbucket.org/hrojas/learn-pandas\n",
    "\n"
   ]
  },
  {
   "cell_type": "code",
   "execution_count": 1,
   "metadata": {
    "button": false,
    "collapsed": false,
    "deletable": true,
    "new_sheet": false,
    "run_control": {
     "read_only": false
    }
   },
   "outputs": [],
   "source": [
    "import json\n",
    "import pandas as pd\n",
    "import re\n",
    "import numpy as np\n",
    "import requests"
   ]
  },
  {
   "cell_type": "markdown",
   "metadata": {},
   "source": [
    "## Construct Dataframe from full Poleis data"
   ]
  },
  {
   "cell_type": "code",
   "execution_count": 2,
   "metadata": {
    "collapsed": false
   },
   "outputs": [
    {
     "data": {
      "text/plain": [
       "dict_keys(['Lesbos', 'Arkadia', 'Thrace from Axios to Strymon', 'Boiotia', 'The Saronic Gulf', 'The South Coast of Asia Minor (Pamphylia Kilikia)', 'Attika', 'Messenia', 'The Propontic Coast of Asia Minor', 'Spain and France (including Corsica)', 'Megaris, Korinthia, Sikyonia', 'Argolis', 'Thrace from Nestos to Hebros', 'Karia', 'Rhodos', 'Triphylia', 'Thracian Chersonesos', 'Akarnania and Adjacent Areas', 'Thrace from Strymon to Nestos', 'Cyprus', 'Propontic Thrace', 'Aiolis and South-western Mysia', 'The Aegean', 'Epeiros', 'Lykia', 'Italia and Kampania', 'Makedonia', 'Phokis', 'East Lokris', 'Doris', 'Crete', 'Sikelia', 'Troas', 'Lakedaimon', 'The Black Sea Area', 'West Lokris', 'Achaia', 'Euboia', 'Ionia', 'Aitolia', 'Elis', 'Thessalia and Adjacent Regions', 'Inland Thrace', 'The Adriatic'])"
      ]
     },
     "execution_count": 2,
     "metadata": {},
     "output_type": "execute_result"
    }
   ],
   "source": [
    "PoleisDataOnline2 = requests.get('http://repository.edition-topoi.org/MISC/ReposMISC/MISC00005/secondVersion.json')\n",
    "PoleisRawData2 = PoleisDataOnline2.json()\n",
    "PoleisRawData2.keys()"
   ]
  },
  {
   "cell_type": "code",
   "execution_count": 3,
   "metadata": {
    "collapsed": false
   },
   "outputs": [
    {
     "data": {
      "text/html": [
       "<div>\n",
       "<table border=\"1\" class=\"dataframe\">\n",
       "  <thead>\n",
       "    <tr style=\"text-align: right;\">\n",
       "      <th></th>\n",
       "      <th>Beschreibung</th>\n",
       "      <th>region</th>\n",
       "      <th>city</th>\n",
       "    </tr>\n",
       "  </thead>\n",
       "  <tbody>\n",
       "    <tr>\n",
       "      <th>0</th>\n",
       "      <td>Identifier: 233. , (Ascheieus) Unlocated.  Typ...</td>\n",
       "      <td>Achaia</td>\n",
       "      <td>Ascheion</td>\n",
       "    </tr>\n",
       "    <tr>\n",
       "      <th>1</th>\n",
       "      <td>Identifier: 235. , (Bourios) Map  58.  Lat. 38...</td>\n",
       "      <td>Achaia</td>\n",
       "      <td>Boura</td>\n",
       "    </tr>\n",
       "    <tr>\n",
       "      <th>2</th>\n",
       "      <td>Identifier: 236. , (Helikeus) Map  58.  Lat. 3...</td>\n",
       "      <td>Achaia</td>\n",
       "      <td>Helike</td>\n",
       "    </tr>\n",
       "    <tr>\n",
       "      <th>3</th>\n",
       "      <td>Identifier: 237. , (Keryneus) Map  58.  Lat. 3...</td>\n",
       "      <td>Achaia</td>\n",
       "      <td>Keryneia</td>\n",
       "    </tr>\n",
       "    <tr>\n",
       "      <th>4</th>\n",
       "      <td>Identifier: 238. , (Leontesios) Map  58.Lat.38...</td>\n",
       "      <td>Achaia</td>\n",
       "      <td>Leontion</td>\n",
       "    </tr>\n",
       "  </tbody>\n",
       "</table>\n",
       "</div>"
      ],
      "text/plain": [
       "                                        Beschreibung  region      city\n",
       "0  Identifier: 233. , (Ascheieus) Unlocated.  Typ...  Achaia  Ascheion\n",
       "1  Identifier: 235. , (Bourios) Map  58.  Lat. 38...  Achaia     Boura\n",
       "2  Identifier: 236. , (Helikeus) Map  58.  Lat. 3...  Achaia    Helike\n",
       "3  Identifier: 237. , (Keryneus) Map  58.  Lat. 3...  Achaia  Keryneia\n",
       "4  Identifier: 238. , (Leontesios) Map  58.Lat.38...  Achaia  Leontion"
      ]
     },
     "execution_count": 3,
     "metadata": {},
     "output_type": "execute_result"
    }
   ],
   "source": [
    "# Read Json into a normalized form, yields ~500 columns with region.city keys\n",
    "dfPoleisGesamt = pd.io.json.json_normalize(PoleisRawData2)\n",
    "\n",
    "# rotate and rename dataframe\n",
    "dfPoleisGesamt= dfPoleisGesamt.transpose()\n",
    "dfPoleisGesamt.columns=['Beschreibung']\n",
    "dfPoleisGesamt.head(4)\n",
    "\n",
    "# reset to new index, return old index as column 'index'\n",
    "dfPoleisGesamt= dfPoleisGesamt.reset_index()\n",
    "dfPoleisGesamt.head()\n",
    "\n",
    "# split entries in column 'index' into region and city part\n",
    "dfPoleisGesamt['indexSplit'] = dfPoleisGesamt['index'].str.split('.')\n",
    "\n",
    "# generate new columns out of split index\n",
    "dfPoleisGesamt['region'] = dfPoleisGesamt['indexSplit'].apply(lambda raw: raw[0])\n",
    "dfPoleisGesamt['city'] = dfPoleisGesamt['indexSplit'].apply(lambda raw: raw[1])\n",
    "dfPoleisGesamt.head()\n",
    "\n",
    "# remove columns 'index' and 'indexSplit', since they contain redundant information\n",
    "dfPoleisGesamt = dfPoleisGesamt.drop('index', 1)\n",
    "dfPoleisGesamt = dfPoleisGesamt.drop('indexSplit', 1)\n",
    "dfPoleisGesamt.head()"
   ]
  },
  {
   "cell_type": "markdown",
   "metadata": {},
   "source": [
    "# Konstruktion neuer Merkmale\n",
    "## Textmuster mit regulären Ausdrücken\n",
    "\n",
    "http://www.regexe.de/hilfe.jsp \n",
    "https://www.cheatography.com/davechild/cheat-sheets/regular-expressions/\n",
    "\n",
    "http://www.coli.uni-saarland.de/courses/python1-10/folien/PythonI10-07.pdf"
   ]
  },
  {
   "cell_type": "markdown",
   "metadata": {
    "heading_collapsed": true
   },
   "source": [
    "## Textmustersuche in der Beschreibung einer Polis"
   ]
  },
  {
   "cell_type": "markdown",
   "metadata": {
    "hidden": true
   },
   "source": [
    "### Geographische Koordinaten"
   ]
  },
  {
   "cell_type": "code",
   "execution_count": 4,
   "metadata": {
    "collapsed": false,
    "hidden": true
   },
   "outputs": [],
   "source": [
    "def ListePattern(string,pattern):\n",
    "    x = re.findall(pattern,string)\n",
    "    if x:\n",
    "        return(x)"
   ]
  },
  {
   "cell_type": "markdown",
   "metadata": {},
   "source": [
    "Example for geographical coordinates:\n",
    "\n",
    "- (?<=Lat\\.\\s)  Group (?...) Passive (non-capturing) group\n",
    "- ?<= Lookbehind assertion\n",
    "- Lat\\.\\s   das string muster: \"Lat. \" mit \".\" und \" \" als escape\n",
    "- \\s?\\d+\\.\\d+ : space[optional wegen ?]digit[1 oder 2 wegen +].[escaped]digit[1 oder 2]\n",
    "\n",
    "Code::\n",
    "\n",
    "    dfPoleisGesamt['Latitude'] = dfPoleisGesamt['Beschreibung'].apply(lambda raw: ListePattern(raw,\"(?<=Lat\\.\\s)\\d+\\.\\d+\"))"
   ]
  },
  {
   "cell_type": "markdown",
   "metadata": {
    "heading_collapsed": true,
    "hidden": true
   },
   "source": [
    "### Zitatnachweise, Namen, Jahreszahlen"
   ]
  },
  {
   "cell_type": "code",
   "execution_count": 5,
   "metadata": {
    "collapsed": false,
    "hidden": true
   },
   "outputs": [
    {
     "data": {
      "text/plain": [
       "\"Identifier: 236. , (Helikeus) Map  58.  Lat. 38.15,long.  22.10.  Size of  territory: 1  or 2.  Type:  A.  Paus. 7.24.5  locates  Helike  40 stades  from  Aigion  (no. 231),  while  Strabo  8.7.2  (following Herakleides)  places  it  12  stades  from  the  sea.  This  should  put it  between  the  rivers  Selinous  and  Kerynitis  (Morgan  and Hall ( 1996)  175;  Barr.).  The  city,  which  was  overwhelmed  by a  tidal  wave  occasioned  by  an  earthquake  in  373  (Diod. 15.48.1\\xad49.4;  Polyb. 2.41.7;Strabo 8.7.2;  Paus. 7.24.6;Ael.  NA 11.19),  was  normally  supposed  to  lie  under  water  (cf.  Ov. Met. 15.293\\xad95),  but  sonar  investigation  suggests  that  it  may actually  lie  inland  under  massive  sedimentary  deposits  in the  vicinity  of  Nea  Keryneia  (Petropoulos  ( 1983);  cf.  Ptol. Geog. 3.14.36,  who  lists  Helike  among  the  inland  cities  of Achaia).  However,  Rizakis  ( 1995)  203\\xad4  finds all candidates for  ancient  Helike  unconvincing.  The  toponym  is  usually `,  (Hom.  Il. 2.575;  SEG 36  718  (C 5e);  Hdt. 1.145)  or `  (Syll. ³90.12),  though  Theophr.  Phys.  Op. 12.122  cites a  verse  which  gives  the  toponym  as  `.  The  city- ethnic  is  `  (Diod. 15.49.3). Helike  is  called  a  polis  in  the  urban  sense  in  Heraclid. Pont.  fr. 46a  (r 373)  and  Theophr.  Phys.  op. 12.122  (r 373),but  is absent  from  Ps.-Skylax's  list  of  Achaian  poleis  ( 42),  which may  suggest  that  this  chapter  was  composed  after  373. Retrospective  evidence  is  provided  by  Polyb. 2.41.7  (rC 4), who  calls  it  a  polis  in  the  political  sense,  and  by  Diod. 15.48.3 (r 373),  who  describes  it  as  a  polis  in  the  urban  sense.  The internal  collective  use  of  the  city-ethnic  is  probably  found (abbreviated)  on  C 4  coins  (infra),  and  the  external  collective use  is  found  in  Diod. 15.49.3  (r  ante 373).  A  citizen  of  Helike served  as  Delphic  theorodokos  in  C 5l  (Syll. ³90.12).According to Polyb. 2.41.6\\xad7  (rC 4),  Helike  had  been  a  member  of  the Achaian  Confederacy. The  early  physical  existence  of  Helike  is  attested  in  Hom. Il. 2.575  and  in  a  C 5e  inscription  (SEG 36  718;  see  also  Soter and  Katsonopoulou  ( 1999)).  Archaeological  investigations have  revealed  the  foundations  of  two  small  temples,  one Archaic,  the  other  Classical,  at  Nea  Keryneia,  which  may possibly  be  associated  with  the  acropolis  of  ancient  Helike (Petropoulos  ( 1990)).  The  most  important  sanctuary  at Helike  was,  however,  that  of  Poseidon  Helikonios  (Hom.  Il. 8.203;Diod.  15.49.2\\xad3;Strabo  8.7.2;  Paus. 7.24.5\\xad6),  and  it  is quite  likely  that  this  sanctuary  acted  as  a  common  place  of union  for  the  Achaians  prior  to  the  destruction  of Helike,  when  that  function  was  assumed  by  the  sanctuary of  Zeus  Homarios  near  Aigion  (Morgan  and  Hall  ( 1996) 195\\xad96,  contra  Aymard  ( 1938)  286\\xad87,  293;  Walbank ( 2000)). According  to  Strabo  6.1.13,  Is  of  Helike  was  the  founder  of Sybaris  (no. 70)  in  South  Italy.  The  reading  (  '  &lt;...  &gt; `) is,  however,  unsure,  and Bérard  ( 1957)  141  n. 2  proposed  either  &lt; &gt;  or &lt; &gt;. A  series  of  bronze  coins,  dating  to  C 4f,  depicts  obv.  head of  Poseidon.  Legend: (retr.).  Rev.  trident  between dolphins  in  wreath  (Head,  HN ²414). 236. \""
      ]
     },
     "execution_count": 5,
     "metadata": {},
     "output_type": "execute_result"
    }
   ],
   "source": [
    "dfPoleisGesamt[\"Beschreibung\"].iloc[2] # icloc is a method to refer to local index position"
   ]
  },
  {
   "cell_type": "markdown",
   "metadata": {
    "heading_collapsed": true
   },
   "source": [
    "## Muster (Pattern) zur Erkennung der Literaturreferenzen\n",
    "\n",
    "- Primärquellen\n",
    "\n",
    "(Polyb. 1.18.2)\n",
    "(Diod. 13.85.4  (r 406))\n",
    "(Diod. 13.108.2)\n",
    "(Hdt. 7.165;  IGDS  no. 182a)\n",
    "(Pind.  Pyth. 6)\n",
    "(Thuc. 6.4.4: µµ  )\n",
    "(Xanthos  (FGrHist 765)  fr. 33;  Arist.  fr. 865)\n",
    "\n",
    "- Sekundärquellen\n",
    "\n",
    "(Karlsson  ( 1995)  161\n",
    "(Waele  ( 1971) 195;  Hinz  ( 1998)  79)\n",
    "\n",
    "- Jahreszahlen\n",
    "( dddd)"
   ]
  },
  {
   "cell_type": "markdown",
   "metadata": {},
   "source": [
    "### Mehrere reguläre Ausdrücke nötig, um alle Zitate zu finden"
   ]
  },
  {
   "cell_type": "markdown",
   "metadata": {
    "hidden": true
   },
   "source": [
    "Finde alle Ausdrücke wie oben, denen ein Punkt folgt, mit anschließenden Zifferfolgen der Form [Ziffern][Punkt][Ziffern][Punkt][Ziffern]"
   ]
  },
  {
   "cell_type": "code",
   "execution_count": 6,
   "metadata": {
    "collapsed": false,
    "hidden": true
   },
   "outputs": [
    {
     "data": {
      "text/plain": [
       "['Paus. 7.24.5',\n",
       " 'Diod. 15.48.1',\n",
       " 'Polyb. 2.41.7',\n",
       " 'Paus. 7.24.6',\n",
       " 'Geog. 3.14.36',\n",
       " 'Diod. 15.49.3',\n",
       " 'Polyb. 2.41.7',\n",
       " 'Diod. 15.48.3',\n",
       " 'Diod. 15.49.3',\n",
       " 'Polyb. 2.41.6',\n",
       " 'Paus. 7.24.5']"
      ]
     },
     "execution_count": 6,
     "metadata": {},
     "output_type": "execute_result"
    }
   ],
   "source": [
    "dfPoleisGesamt['Beschreibung'].apply(lambda raw: ListePattern(raw,'[A-Z][a-z]{1,10}\\. \\d{1,3}\\.\\d{1,3}\\.\\d{1,3}'))[2]"
   ]
  },
  {
   "cell_type": "markdown",
   "metadata": {
    "hidden": true
   },
   "source": [
    "Finde alle Ausdrücke wie oben, wobei statt des Punktes nach den kleinen Buchstaben zwei Leerzeichen und eine runde Klammer und vier Ziffern folgen können"
   ]
  },
  {
   "cell_type": "code",
   "execution_count": 7,
   "metadata": {
    "collapsed": false
   },
   "outputs": [
    {
     "data": {
      "text/plain": [
       "['Hall ( 1996)',\n",
       " 'Petropoulos  ( 1983)',\n",
       " 'Rizakis  ( 1995)',\n",
       " 'Katsonopoulou  ( 1999)',\n",
       " 'Petropoulos  ( 1990)',\n",
       " 'Hall  ( 1996)',\n",
       " 'Aymard  ( 1938)',\n",
       " 'Walbank ( 2000)']"
      ]
     },
     "execution_count": 7,
     "metadata": {},
     "output_type": "execute_result"
    }
   ],
   "source": [
    "dfPoleisGesamt['Beschreibung'].apply(lambda raw: ListePattern(raw,'[A-Z][a-z]{1,15}\\s{0,2}\\(\\s*\\d{4}\\)'))[2]"
   ]
  },
  {
   "cell_type": "markdown",
   "metadata": {},
   "source": [
    "Finde alle Authoren, gefolgt von einem oder mehreren Leerzeichen und ([Ziffer][Punkt][Ziffern][Punkt][Ziffern])"
   ]
  },
  {
   "cell_type": "code",
   "execution_count": 8,
   "metadata": {
    "collapsed": false
   },
   "outputs": [],
   "source": [
    "dfPoleisGesamt['Beschreibung'].apply(lambda raw: ListePattern(raw,'[A-Z][a-z]{1,15}\\s{0,2}\\(\\s*\\d{1,2}\\.\\d{1,2}\\.\\d{1,2}\\)'))[2]"
   ]
  },
  {
   "cell_type": "markdown",
   "metadata": {},
   "source": [
    "Wie oben nur ohne Klammern."
   ]
  },
  {
   "cell_type": "code",
   "execution_count": 9,
   "metadata": {
    "collapsed": false
   },
   "outputs": [
    {
     "data": {
      "text/plain": [
       "['Strabo  8.7.2', 'Strabo 8.7.2', 'Strabo  8.7.2', 'Strabo  6.1.13']"
      ]
     },
     "execution_count": 9,
     "metadata": {},
     "output_type": "execute_result"
    }
   ],
   "source": [
    "dfPoleisGesamt['Beschreibung'].apply(lambda raw: ListePattern(raw,'[A-Z][a-z]{1,15}\\s{0,2}\\s*\\d{1,2}\\.\\d{1,2}\\.\\d{1,2}'))[2]"
   ]
  },
  {
   "cell_type": "code",
   "execution_count": 10,
   "metadata": {
    "collapsed": false
   },
   "outputs": [
    {
     "data": {
      "text/plain": [
       "['Theophr.  Phys.  Op. 12.122', 'Theophr.  Phys.  op. 12.122']"
      ]
     },
     "execution_count": 10,
     "metadata": {},
     "output_type": "execute_result"
    }
   ],
   "source": [
    "dfPoleisGesamt['Beschreibung'].apply(lambda raw: ListePattern(raw,'[A-Z][a-z]{1,15}\\.\\s+[A-Z][a-z]{1,10}\\.\\s+[A-Za-z]{1,10}\\.\\s+\\d{1,3}\\.\\d{1,3}'))[2]"
   ]
  },
  {
   "cell_type": "code",
   "execution_count": 11,
   "metadata": {
    "collapsed": false
   },
   "outputs": [
    {
     "data": {
      "text/plain": [
       "['Ov. Met. 15.293',\n",
       " 'Ptol. Geog. 3.14',\n",
       " 'Hom.  Il. 2.575',\n",
       " 'Phys.  Op. 12.122',\n",
       " 'Hom. Il. 2.575',\n",
       " 'Hom.  Il. 8.203']"
      ]
     },
     "execution_count": 11,
     "metadata": {},
     "output_type": "execute_result"
    }
   ],
   "source": [
    "dfPoleisGesamt['Beschreibung'].apply(lambda raw: ListePattern(raw,'[A-Z][a-z]{1,15}\\.\\s+[A-Z][a-z]{1,10}\\.\\s+\\d{1,3}\\.\\d{1,3}'))[2]"
   ]
  },
  {
   "cell_type": "code",
   "execution_count": 12,
   "metadata": {
    "collapsed": false
   },
   "outputs": [
    {
     "data": {
      "text/plain": [
       "['Paus. 7.24.5',\n",
       " 'Strabo  8.7.2',\n",
       " 'Hall ( 1996)',\n",
       " 'Diod. 15.48.1',\n",
       " 'Polyb. 2.41.7',\n",
       " 'Strabo 8.7.2',\n",
       " 'Paus. 7.24.6',\n",
       " 'Ov. Met. 15.293',\n",
       " 'Petropoulos  ( 1983)',\n",
       " 'Ptol. Geog. 3.14',\n",
       " 'Rizakis  ( 1995)',\n",
       " 'Hom.  Il. 2.575',\n",
       " 'Theophr.  Phys.  Op. 12.122',\n",
       " 'Diod. 15.49.3',\n",
       " 'Theophr.  Phys.  op. 12.122',\n",
       " 'Polyb. 2.41.7',\n",
       " 'Diod. 15.48.3',\n",
       " 'Diod. 15.49.3',\n",
       " 'Polyb. 2.41.6',\n",
       " 'Hom. Il. 2.575',\n",
       " 'Katsonopoulou  ( 1999)',\n",
       " 'Petropoulos  ( 1990)',\n",
       " 'Hom.  Il. 8.203',\n",
       " 'Strabo  8.7.2',\n",
       " 'Paus. 7.24.5',\n",
       " 'Hall  ( 1996)',\n",
       " 'Aymard  ( 1938)',\n",
       " 'Walbank ( 2000)',\n",
       " 'Strabo  6.1.13']"
      ]
     },
     "execution_count": 12,
     "metadata": {},
     "output_type": "execute_result"
    }
   ],
   "source": [
    "# Zusammenfassen von zwei Bedingungen: kompilieren des regulären Ausdrucks beschleunigt den Suchprozess\n",
    "\n",
    "pat = re.compile('([A-Z][a-z]{1,10}\\. \\d{1,3}\\.\\d{1,3}\\.\\d{1,3}|[A-Z][a-z]{1,15}\\s{0,2}\\(\\s*\\d{4}\\)|[A-Z][a-z]{1,15}\\s{0,2}\\(\\s*\\d{1,2}\\.\\d{1,2}\\.\\d{1,2}\\)|[A-Z][a-z]{1,15}\\s{0,2}\\s*\\d{1,2}\\.\\d{1,2}\\.\\d{1,2}|[A-Z][a-z]{1,15}\\.\\s+[A-Z][a-z]{1,10}\\.\\s+[A-Za-z]{1,10}\\.\\s+\\d{1,3}\\.\\d{1,3}|[A-Z][a-z]{1,15}\\.\\s+[A-Z][a-z]{1,10}\\.\\s+\\d{1,3}\\.\\d{1,3})')\n",
    "\n",
    "dfPoleisGesamt['Beschreibung'].apply(lambda raw: ListePattern(raw,pat))[2]"
   ]
  },
  {
   "cell_type": "code",
   "execution_count": 13,
   "metadata": {
    "collapsed": false,
    "hidden": true
   },
   "outputs": [],
   "source": [
    "pat = re.compile('([A-Z][a-z]{1,10}\\. \\d{1,3}\\.\\d{1,3}\\.\\d{1,3}|[A-Z][a-z]{1,15}\\s{0,2}\\(\\s*\\d{4}\\)|[A-Z][a-z]{1,15}\\s{0,2}\\(\\s*\\d{1,2}\\.\\d{1,2}\\.\\d{1,2}\\)|[A-Z][a-z]{1,15}\\s{0,2}\\s*\\d{1,2}\\.\\d{1,2}\\.\\d{1,2}|[A-Z][a-z]{1,15}\\.\\s+[A-Z][a-z]{1,10}\\.\\s+[A-Za-z]{1,10}\\.\\s+\\d{1,3}\\.\\d{1,3}|[A-Z][a-z]{1,15}\\.\\s+[A-Z][a-z]{1,10}\\.\\s+\\d{1,3}\\.\\d{1,3}[A-Za-z]{1,10}.?\\s+[¹²³]\\d+\\.\\d+|[A-Za-z]{1,10}.?\\s+[¹²³]\\d+|[A-Za-z]{1,10}.?\\s+\\d+\\s+\\d+)')\n",
    "\n",
    "dfPoleisGesamt['Quellen'] = dfPoleisGesamt['Beschreibung'].apply(lambda raw: ListePattern(raw,pat))"
   ]
  },
  {
   "cell_type": "code",
   "execution_count": 14,
   "metadata": {
    "collapsed": false,
    "hidden": true
   },
   "outputs": [
    {
     "data": {
      "text/html": [
       "<div>\n",
       "<table border=\"1\" class=\"dataframe\">\n",
       "  <thead>\n",
       "    <tr style=\"text-align: right;\">\n",
       "      <th></th>\n",
       "      <th>Beschreibung</th>\n",
       "      <th>region</th>\n",
       "      <th>city</th>\n",
       "      <th>Quellen</th>\n",
       "    </tr>\n",
       "  </thead>\n",
       "  <tbody>\n",
       "    <tr>\n",
       "      <th>0</th>\n",
       "      <td>Identifier: 233. , (Ascheieus) Unlocated.  Typ...</td>\n",
       "      <td>Achaia</td>\n",
       "      <td>Ascheion</td>\n",
       "      <td>None</td>\n",
       "    </tr>\n",
       "    <tr>\n",
       "      <th>1</th>\n",
       "      <td>Identifier: 235. , (Bourios) Map  58.  Lat. 38...</td>\n",
       "      <td>Achaia</td>\n",
       "      <td>Boura</td>\n",
       "      <td>[Paus. 7.25.8, Strabo  8.7.5, Hall  ( 1996), R...</td>\n",
       "    </tr>\n",
       "    <tr>\n",
       "      <th>2</th>\n",
       "      <td>Identifier: 236. , (Helikeus) Map  58.  Lat. 3...</td>\n",
       "      <td>Achaia</td>\n",
       "      <td>Helike</td>\n",
       "      <td>[Paus. 7.24.5, Strabo  8.7.2, Hall ( 1996), Di...</td>\n",
       "    </tr>\n",
       "    <tr>\n",
       "      <th>3</th>\n",
       "      <td>Identifier: 237. , (Keryneus) Map  58.  Lat. 3...</td>\n",
       "      <td>Achaia</td>\n",
       "      <td>Keryneia</td>\n",
       "      <td>[Paus. 7.25.5, Rizakis  ( 1995), Paus. 7.25.5,...</td>\n",
       "    </tr>\n",
       "    <tr>\n",
       "      <th>4</th>\n",
       "      <td>Identifier: 238. , (Leontesios) Map  58.Lat.38...</td>\n",
       "      <td>Achaia</td>\n",
       "      <td>Leontion</td>\n",
       "      <td>[Lauffer  ( 1989), SEG 15  254, Polyb. 2.41.7,...</td>\n",
       "    </tr>\n",
       "    <tr>\n",
       "      <th>5</th>\n",
       "      <td>Identifier: 241. , (Olenios) Map  58.  Lat. 38...</td>\n",
       "      <td>Achaia</td>\n",
       "      <td>Olenos</td>\n",
       "      <td>[Paus. 7.18.1, Strabo  8.7.4, Rizakis  ( 1995)...</td>\n",
       "    </tr>\n",
       "    <tr>\n",
       "      <th>6</th>\n",
       "      <td>Identifier: 244. , (Pharaieus) Map  58.  Lat. ...</td>\n",
       "      <td>Achaia</td>\n",
       "      <td>Pharai</td>\n",
       "      <td>[Paus. 7.22.1, Rizakis ( 1995), Polyb. 2.41.8,...</td>\n",
       "    </tr>\n",
       "    <tr>\n",
       "      <th>7</th>\n",
       "      <td>Identifier: hall, (Tritaieus) Map  58.Lat.37.5...</td>\n",
       "      <td>Achaia</td>\n",
       "      <td>Tritaia</td>\n",
       "      <td>[Paus. 7.22.6, Rizakis  ( 1995), Polyb. 2.41.8...</td>\n",
       "    </tr>\n",
       "    <tr>\n",
       "      <th>8</th>\n",
       "      <td>Identifier: 801. , (Adramytenos) Map  56.  Lat...</td>\n",
       "      <td>Aiolis and South-western Mysia</td>\n",
       "      <td>Adramyttion</td>\n",
       "      <td>[Hdt. 7.42.1, An. 7.8.8, Thuc. 5.1.1, Fossey  ...</td>\n",
       "    </tr>\n",
       "    <tr>\n",
       "      <th>9</th>\n",
       "      <td>Identifier: 802. , (Aigaieus) Map  56.  Lat. 3...</td>\n",
       "      <td>Aiolis and South-western Mysia</td>\n",
       "      <td>Aigai(ai)</td>\n",
       "      <td>[Hdt. 1.149.1, Strabo 13.3.5, Hell. 4.8.5, HN ...</td>\n",
       "    </tr>\n",
       "  </tbody>\n",
       "</table>\n",
       "</div>"
      ],
      "text/plain": [
       "                                        Beschreibung  \\\n",
       "0  Identifier: 233. , (Ascheieus) Unlocated.  Typ...   \n",
       "1  Identifier: 235. , (Bourios) Map  58.  Lat. 38...   \n",
       "2  Identifier: 236. , (Helikeus) Map  58.  Lat. 3...   \n",
       "3  Identifier: 237. , (Keryneus) Map  58.  Lat. 3...   \n",
       "4  Identifier: 238. , (Leontesios) Map  58.Lat.38...   \n",
       "5  Identifier: 241. , (Olenios) Map  58.  Lat. 38...   \n",
       "6  Identifier: 244. , (Pharaieus) Map  58.  Lat. ...   \n",
       "7  Identifier: hall, (Tritaieus) Map  58.Lat.37.5...   \n",
       "8  Identifier: 801. , (Adramytenos) Map  56.  Lat...   \n",
       "9  Identifier: 802. , (Aigaieus) Map  56.  Lat. 3...   \n",
       "\n",
       "                           region         city  \\\n",
       "0                          Achaia     Ascheion   \n",
       "1                          Achaia        Boura   \n",
       "2                          Achaia       Helike   \n",
       "3                          Achaia     Keryneia   \n",
       "4                          Achaia     Leontion   \n",
       "5                          Achaia       Olenos   \n",
       "6                          Achaia       Pharai   \n",
       "7                          Achaia      Tritaia   \n",
       "8  Aiolis and South-western Mysia  Adramyttion   \n",
       "9  Aiolis and South-western Mysia    Aigai(ai)   \n",
       "\n",
       "                                             Quellen  \n",
       "0                                               None  \n",
       "1  [Paus. 7.25.8, Strabo  8.7.5, Hall  ( 1996), R...  \n",
       "2  [Paus. 7.24.5, Strabo  8.7.2, Hall ( 1996), Di...  \n",
       "3  [Paus. 7.25.5, Rizakis  ( 1995), Paus. 7.25.5,...  \n",
       "4  [Lauffer  ( 1989), SEG 15  254, Polyb. 2.41.7,...  \n",
       "5  [Paus. 7.18.1, Strabo  8.7.4, Rizakis  ( 1995)...  \n",
       "6  [Paus. 7.22.1, Rizakis ( 1995), Polyb. 2.41.8,...  \n",
       "7  [Paus. 7.22.6, Rizakis  ( 1995), Polyb. 2.41.8...  \n",
       "8  [Hdt. 7.42.1, An. 7.8.8, Thuc. 5.1.1, Fossey  ...  \n",
       "9  [Hdt. 1.149.1, Strabo 13.3.5, Hell. 4.8.5, HN ...  "
      ]
     },
     "execution_count": 14,
     "metadata": {},
     "output_type": "execute_result"
    }
   ],
   "source": [
    "dfPoleisGesamt.head(10)"
   ]
  },
  {
   "cell_type": "markdown",
   "metadata": {},
   "source": [
    "# Datenvalidierung"
   ]
  },
  {
   "cell_type": "markdown",
   "metadata": {},
   "source": [
    "## Bewertung des Modells mit Performanz- (Konfusions-)matrix"
   ]
  },
  {
   "cell_type": "markdown",
   "metadata": {},
   "source": [
    "Volle beschreibung für eine Stadt. Quellen per Hand markiert."
   ]
  },
  {
   "cell_type": "code",
   "execution_count": 15,
   "metadata": {
    "collapsed": false
   },
   "outputs": [],
   "source": [
    "#dfPoleisGesamt['Beschreibung'].iloc[2]"
   ]
  },
  {
   "cell_type": "markdown",
   "metadata": {},
   "source": [
    "\"Identifier: 236. , (Helikeus) Map  58.  Lat. 38.15,long.  22.10.  Size of  territory: 1  or 2.  Type:  A.  **Paus. 7.24.5**  locates  Helike  40 stades  from  Aigion  (no. 231),  while  **Strabo  8.7.2**  (following Herakleides)  places  it  12  stades  from  the  sea.  This  should  put it  between  the  rivers  Selinous  and  Kerynitis  (**Morgan  and Hall ( 1996)  175;  Barr.)**.  The  city,  which  was  overwhelmed  by a  tidal  wave  occasioned  by  an  earthquake  in  373  (**Diod. 15.48.1\\xad49.4;  Polyb. 2.41.7;Strabo 8.7.2;  Paus. 7.24.6;Ael.  NA 11.19**),  was  normally  supposed  to  lie  under  water  (cf.  **Ov. Met. 15.293\\xad95**),  but  sonar  investigation  suggests  that  it  may actually  lie  inland  under  massive  sedimentary  deposits  in the  vicinity  of  Nea  Keryneia  (**Petropoulos  ( 1983);  cf.  Ptol. Geog. 3.14.36**,  who  lists  Helike  among  the  inland  cities  of Achaia).  However,  **Rizakis  ( 1995)  203\\xad4**  finds all candidates for  ancient  Helike  unconvincing.  The  toponym  is  usually **`,  (Hom.  Il. 2.575;  SEG 36  718  (C 5e);  Hdt. 1.145)  or `  (Syll. ³90.12)**,  though  **Theophr.  Phys.  Op. 12.122**  cites a  verse  which  gives  the  toponym  as  `.  The  city- ethnic  is  `  **(Diod. 15.49.3)**. Helike  is  called  a  polis  in  the  urban  sense  in  **Heraclid. Pont.  fr. 46a  (r 373)**  and  **Theophr.  Phys.  op. 12.122  (r 373)**,but  is absent  from  Ps.-Skylax's  list  of  Achaian  poleis  ( 42),  which may  suggest  that  this  chapter  was  composed  after  373. Retrospective  evidence  is  provided  by  **Polyb. 2.41.7  (rC 4)**, who  calls  it  a  polis  in  the  political  sense,  and  by  **Diod. 15.48.3 (r 373)**,  who  describes  it  as  a  polis  in  the  urban  sense.  The internal  collective  use  of  the  city-ethnic  is  probably  found (abbreviated)  on  C 4  coins  (infra),  and  the  external  collective use  is  found  in  **Diod. 15.49.3**  (r  ante 373).  A  citizen  of  Helike served  as  Delphic  theorodokos  in  C 5l  **(Syll. ³90.12)**.According to **Polyb. 2.41.6\\xad7**  (rC 4),  Helike  had  been  a  member  of  the Achaian  Confederacy. The  early  physical  existence  of  Helike  is  attested  in  **Hom. Il. 2.575**  and  in  a  C 5e  inscription  (**SEG 36  718**;  see  also  **Soter and  Katsonopoulou  ( 1999)**).  Archaeological  investigations have  revealed  the  foundations  of  two  small  temples,  one Archaic,  the  other  Classical,  at  Nea  Keryneia,  which  may possibly  be  associated  with  the  acropolis  of  ancient  **Helike (Petropoulos  ( 1990)**).  The  most  important  sanctuary  at Helike  was,  however,  that  of  Poseidon  Helikonios  **(Hom.  Il. 8.203;Diod.  15.49.2\\xad3;Strabo  8.7.2;  Paus. 7.24.5\\xad6)**,  and  it  is quite  likely  that  this  sanctuary  acted  as  a  common  place  of union  for  the  Achaians  prior  to  the  destruction  of Helike,  when  that  function  was  assumed  by  the  sanctuary of  Zeus  Homarios  near  Aigion  **(Morgan  and  Hall  ( 1996) 195\\xad96,  contra  Aymard  ( 1938)  286\\xad87,  293;  Walbank ( 2000))**. According  to  **Strabo  6.1.13**,  Is  of  Helike  was  the  founder  of Sybaris  (no. 70)  in  South  Italy.  The  reading  (  '  &lt;...  &gt; ) is,  however,  unsure,  and **Bérard  ( 1957)**  141  n. 2  proposed  either  &lt; &gt;  or &lt; &gt;. A  series  of  bronze  coins,  dating  to  C 4f,  depicts  obv.  head of  Poseidon.  Legend: (retr.).  Rev.  trident  between dolphins  in  wreath  **(Head,  HN ²414)**. 236. \""
   ]
  },
  {
   "cell_type": "markdown",
   "metadata": {},
   "source": [
    "Gefundene Quellen"
   ]
  },
  {
   "cell_type": "code",
   "execution_count": 16,
   "metadata": {
    "collapsed": false
   },
   "outputs": [
    {
     "data": {
      "text/plain": [
       "['Paus. 7.24.5',\n",
       " 'Strabo  8.7.2',\n",
       " 'Hall ( 1996)',\n",
       " 'Diod. 15.48.1',\n",
       " 'Polyb. 2.41.7',\n",
       " 'Strabo 8.7.2',\n",
       " 'Paus. 7.24.6',\n",
       " 'Petropoulos  ( 1983)',\n",
       " 'Geog. 3.14.36',\n",
       " 'Rizakis  ( 1995)',\n",
       " 'SEG 36  718',\n",
       " 'Syll. ³90',\n",
       " 'Theophr.  Phys.  Op. 12.122',\n",
       " 'Diod. 15.49.3',\n",
       " 'Theophr.  Phys.  op. 12.122',\n",
       " 'Polyb. 2.41.7',\n",
       " 'Diod. 15.48.3',\n",
       " 'Diod. 15.49.3',\n",
       " 'Syll. ³90',\n",
       " 'Polyb. 2.41.6',\n",
       " 'SEG 36  718',\n",
       " 'Katsonopoulou  ( 1999)',\n",
       " 'Petropoulos  ( 1990)',\n",
       " 'Strabo  8.7.2',\n",
       " 'Paus. 7.24.5',\n",
       " 'Hall  ( 1996)',\n",
       " 'Aymard  ( 1938)',\n",
       " 'Walbank ( 2000)',\n",
       " 'Strabo  6.1.13',\n",
       " 'HN ²414']"
      ]
     },
     "execution_count": 16,
     "metadata": {},
     "output_type": "execute_result"
    }
   ],
   "source": [
    "dfPoleisGesamt['Quellen'].iloc[2]"
   ]
  },
  {
   "cell_type": "markdown",
   "metadata": {},
   "source": [
    "Diskussion der Performanzmatrix: vier Fälle\n",
    "- soll match vs. tatsächlicher match\n",
    "- nicht soll match vs. tatsächlich\n",
    "- soll match vs. nicht tatsächlich\n",
    "- nicht soll vs. nicht tatsächlich"
   ]
  },
  {
   "cell_type": "markdown",
   "metadata": {},
   "source": [
    "While 29 citations are found, 10 are neglected. \n",
    "Structures not yet captured are\n",
    "- citations with several capital letters (e.g. SEG 36  718)\n",
    "- citations with sepcial characters (e.g. Syll. ³90.12)"
   ]
  },
  {
   "cell_type": "markdown",
   "metadata": {},
   "source": [
    "2 Structures wrongly captured are\n",
    "- citations with several authors are captured under one name only"
   ]
  },
  {
   "cell_type": "markdown",
   "metadata": {},
   "source": [
    "To extend the search string, we used"
   ]
  },
  {
   "cell_type": "code",
   "execution_count": 17,
   "metadata": {
    "collapsed": false
   },
   "outputs": [
    {
     "data": {
      "text/plain": [
       "['SEG 36  718', 'Syll. ³90.12', 'Syll. ³90.12', 'SEG 36  718', 'HN ²414']"
      ]
     },
     "execution_count": 17,
     "metadata": {},
     "output_type": "execute_result"
    }
   ],
   "source": [
    "re.findall('([A-Za-z]{1,10}.?\\s+[¹²³]\\d+\\.\\d+|[A-Za-z]{1,10}.?\\s+[¹²³]\\d+|[A-Za-z]{1,10}.?\\s+\\d+\\s+\\d+)',dfPoleisGesamt['Beschreibung'].iloc[2])"
   ]
  },
  {
   "cell_type": "markdown",
   "metadata": {},
   "source": [
    "## Wertverteilungen, Test auf Dopplungen"
   ]
  },
  {
   "cell_type": "markdown",
   "metadata": {},
   "source": [
    "Lese Werte der Spalte Quellen als Liste aus und reduziere Unterlisten auf eine Gesamtliste. "
   ]
  },
  {
   "cell_type": "code",
   "execution_count": 18,
   "metadata": {
    "collapsed": false
   },
   "outputs": [],
   "source": [
    "mainList = dfPoleisGesamt['Quellen'].values.tolist()\n",
    "\n",
    "quellenListe = []\n",
    "for sublist in mainList:\n",
    "    if sublist:\n",
    "        for k in sublist:\n",
    "            quellenListe.append(k)"
   ]
  },
  {
   "cell_type": "code",
   "execution_count": 19,
   "metadata": {
    "collapsed": false
   },
   "outputs": [
    {
     "data": {
      "text/plain": [
       "['Paus. 7.25.8',\n",
       " 'Strabo  8.7.5',\n",
       " 'Hall  ( 1996)',\n",
       " 'Rizakis ( 1995)',\n",
       " 'Polyb. 2.41.13',\n",
       " 'Paus. 7.25.8',\n",
       " 'Theophr.  Phys.  op. 12.122',\n",
       " 'Polyb. 2.41.7',\n",
       " 'Diod. 15.48.3',\n",
       " 'Paus. 7.25.8']"
      ]
     },
     "execution_count": 19,
     "metadata": {},
     "output_type": "execute_result"
    }
   ],
   "source": [
    "quellenListe[:10]"
   ]
  },
  {
   "cell_type": "markdown",
   "metadata": {},
   "source": [
    "Zähle die Häufigkeit der verschiedenen Quellen und speichere als Dictionary."
   ]
  },
  {
   "cell_type": "code",
   "execution_count": 20,
   "metadata": {
    "collapsed": false
   },
   "outputs": [
    {
     "data": {
      "text/plain": [
       "2"
      ]
     },
     "execution_count": 20,
     "metadata": {},
     "output_type": "execute_result"
    }
   ],
   "source": [
    "quellenVerteilung = {x:quellenListe.count(x) for x in quellenListe}\n",
    "quellenVerteilung['Diod. 14.90.3']"
   ]
  },
  {
   "cell_type": "markdown",
   "metadata": {},
   "source": [
    "Erzeuge DataFrame, mit neuem Index und Namen der Spalten. Sortiere diesen Nach der Häufigkeit der Quelle."
   ]
  },
  {
   "cell_type": "code",
   "execution_count": 21,
   "metadata": {
    "collapsed": false
   },
   "outputs": [
    {
     "data": {
      "text/html": [
       "<div>\n",
       "<table border=\"1\" class=\"dataframe\">\n",
       "  <thead>\n",
       "    <tr style=\"text-align: right;\">\n",
       "      <th></th>\n",
       "      <th>Abmeier  ( 1990)</th>\n",
       "      <th>Accame  ( 1941)</th>\n",
       "      <th>Adamesteanu  ( 1970)</th>\n",
       "      <th>Adamesteanu  ( 1973)</th>\n",
       "      <th>Adamesteanu  ( 1974)</th>\n",
       "      <th>Adamesteanu  ( 1976)</th>\n",
       "      <th>Adamesteanu  ( 1979)</th>\n",
       "      <th>Adamesteanu  ( 1982)</th>\n",
       "      <th>Adamesteanu  ( 1986)</th>\n",
       "      <th>Adamesteanu ( 1979)</th>\n",
       "      <th>...</th>\n",
       "      <th>regions  695 4</th>\n",
       "      <th>regions  713 434</th>\n",
       "      <th>rhodos  1205 8</th>\n",
       "      <th>stoa, 6  26</th>\n",
       "      <th>strymon  829 578</th>\n",
       "      <th>strymon  841 607</th>\n",
       "      <th>suppl. 29  5</th>\n",
       "      <th>suppl. 29 5</th>\n",
       "      <th>xii  1  1036</th>\n",
       "      <th>xii  5 242</th>\n",
       "    </tr>\n",
       "  </thead>\n",
       "  <tbody>\n",
       "    <tr>\n",
       "      <th>0</th>\n",
       "      <td>1</td>\n",
       "      <td>1</td>\n",
       "      <td>3</td>\n",
       "      <td>1</td>\n",
       "      <td>4</td>\n",
       "      <td>1</td>\n",
       "      <td>1</td>\n",
       "      <td>1</td>\n",
       "      <td>1</td>\n",
       "      <td>1</td>\n",
       "      <td>...</td>\n",
       "      <td>1</td>\n",
       "      <td>1</td>\n",
       "      <td>1</td>\n",
       "      <td>1</td>\n",
       "      <td>1</td>\n",
       "      <td>1</td>\n",
       "      <td>1</td>\n",
       "      <td>1</td>\n",
       "      <td>1</td>\n",
       "      <td>1</td>\n",
       "    </tr>\n",
       "  </tbody>\n",
       "</table>\n",
       "<p>1 rows × 8283 columns</p>\n",
       "</div>"
      ],
      "text/plain": [
       "   Abmeier  ( 1990)  Accame  ( 1941)  Adamesteanu  ( 1970)  \\\n",
       "0                 1                1                     3   \n",
       "\n",
       "   Adamesteanu  ( 1973)  Adamesteanu  ( 1974)  Adamesteanu  ( 1976)  \\\n",
       "0                     1                     4                     1   \n",
       "\n",
       "   Adamesteanu  ( 1979)  Adamesteanu  ( 1982)  Adamesteanu  ( 1986)  \\\n",
       "0                     1                     1                     1   \n",
       "\n",
       "   Adamesteanu ( 1979)     ...      regions  695 4  regions  713 434  \\\n",
       "0                    1     ...                   1                 1   \n",
       "\n",
       "   rhodos  1205 8  stoa, 6  26  strymon  829 578  strymon  841 607  \\\n",
       "0               1            1                 1                 1   \n",
       "\n",
       "   suppl. 29  5  suppl. 29 5  xii  1  1036  xii  5 242  \n",
       "0             1            1             1           1  \n",
       "\n",
       "[1 rows x 8283 columns]"
      ]
     },
     "execution_count": 21,
     "metadata": {},
     "output_type": "execute_result"
    }
   ],
   "source": [
    "dfQuellenVerteilung = pd.DataFrame([quellenVerteilung])\n",
    "dfQuellenVerteilung"
   ]
  },
  {
   "cell_type": "code",
   "execution_count": 22,
   "metadata": {
    "collapsed": false
   },
   "outputs": [
    {
     "data": {
      "text/html": [
       "<div>\n",
       "<table border=\"1\" class=\"dataframe\">\n",
       "  <thead>\n",
       "    <tr style=\"text-align: right;\">\n",
       "      <th></th>\n",
       "      <th>index</th>\n",
       "      <th>0</th>\n",
       "    </tr>\n",
       "  </thead>\n",
       "  <tbody>\n",
       "    <tr>\n",
       "      <th>0</th>\n",
       "      <td>Abmeier  ( 1990)</td>\n",
       "      <td>1</td>\n",
       "    </tr>\n",
       "    <tr>\n",
       "      <th>1</th>\n",
       "      <td>Accame  ( 1941)</td>\n",
       "      <td>1</td>\n",
       "    </tr>\n",
       "    <tr>\n",
       "      <th>2</th>\n",
       "      <td>Adamesteanu  ( 1970)</td>\n",
       "      <td>3</td>\n",
       "    </tr>\n",
       "    <tr>\n",
       "      <th>3</th>\n",
       "      <td>Adamesteanu  ( 1973)</td>\n",
       "      <td>1</td>\n",
       "    </tr>\n",
       "    <tr>\n",
       "      <th>4</th>\n",
       "      <td>Adamesteanu  ( 1974)</td>\n",
       "      <td>4</td>\n",
       "    </tr>\n",
       "  </tbody>\n",
       "</table>\n",
       "</div>"
      ],
      "text/plain": [
       "                  index  0\n",
       "0      Abmeier  ( 1990)  1\n",
       "1       Accame  ( 1941)  1\n",
       "2  Adamesteanu  ( 1970)  3\n",
       "3  Adamesteanu  ( 1973)  1\n",
       "4  Adamesteanu  ( 1974)  4"
      ]
     },
     "execution_count": 22,
     "metadata": {},
     "output_type": "execute_result"
    }
   ],
   "source": [
    "dfQuellenVerteilung = dfQuellenVerteilung.transpose().reset_index()\n",
    "dfQuellenVerteilung.head()"
   ]
  },
  {
   "cell_type": "code",
   "execution_count": 23,
   "metadata": {
    "collapsed": false
   },
   "outputs": [
    {
     "data": {
      "text/html": [
       "<div>\n",
       "<table border=\"1\" class=\"dataframe\">\n",
       "  <thead>\n",
       "    <tr style=\"text-align: right;\">\n",
       "      <th></th>\n",
       "      <th>Quelle</th>\n",
       "      <th>Häufigkeit</th>\n",
       "    </tr>\n",
       "  </thead>\n",
       "  <tbody>\n",
       "    <tr>\n",
       "      <th>0</th>\n",
       "      <td>Abmeier  ( 1990)</td>\n",
       "      <td>1</td>\n",
       "    </tr>\n",
       "    <tr>\n",
       "      <th>1</th>\n",
       "      <td>Accame  ( 1941)</td>\n",
       "      <td>1</td>\n",
       "    </tr>\n",
       "    <tr>\n",
       "      <th>2</th>\n",
       "      <td>Adamesteanu  ( 1970)</td>\n",
       "      <td>3</td>\n",
       "    </tr>\n",
       "    <tr>\n",
       "      <th>3</th>\n",
       "      <td>Adamesteanu  ( 1973)</td>\n",
       "      <td>1</td>\n",
       "    </tr>\n",
       "    <tr>\n",
       "      <th>4</th>\n",
       "      <td>Adamesteanu  ( 1974)</td>\n",
       "      <td>4</td>\n",
       "    </tr>\n",
       "  </tbody>\n",
       "</table>\n",
       "</div>"
      ],
      "text/plain": [
       "                 Quelle  Häufigkeit\n",
       "0      Abmeier  ( 1990)           1\n",
       "1       Accame  ( 1941)           1\n",
       "2  Adamesteanu  ( 1970)           3\n",
       "3  Adamesteanu  ( 1973)           1\n",
       "4  Adamesteanu  ( 1974)           4"
      ]
     },
     "execution_count": 23,
     "metadata": {},
     "output_type": "execute_result"
    }
   ],
   "source": [
    "dfQuellenVerteilung = dfQuellenVerteilung.rename(columns={'index': 'Quelle', 0:'Häufigkeit'})\n",
    "dfQuellenVerteilung.head()"
   ]
  },
  {
   "cell_type": "code",
   "execution_count": 24,
   "metadata": {
    "collapsed": false
   },
   "outputs": [
    {
     "data": {
      "text/html": [
       "<div>\n",
       "<table border=\"1\" class=\"dataframe\">\n",
       "  <thead>\n",
       "    <tr style=\"text-align: right;\">\n",
       "      <th></th>\n",
       "      <th>Quelle</th>\n",
       "      <th>Häufigkeit</th>\n",
       "    </tr>\n",
       "  </thead>\n",
       "  <tbody>\n",
       "    <tr>\n",
       "      <th>3458</th>\n",
       "      <td>Jost  ( 1985)</td>\n",
       "      <td>71</td>\n",
       "    </tr>\n",
       "    <tr>\n",
       "      <th>3399</th>\n",
       "      <td>Isaac  ( 1986)</td>\n",
       "      <td>57</td>\n",
       "    </tr>\n",
       "    <tr>\n",
       "      <th>5328</th>\n",
       "      <td>Rider  ( 1966)</td>\n",
       "      <td>55</td>\n",
       "    </tr>\n",
       "    <tr>\n",
       "      <th>6999</th>\n",
       "      <td>Svoronos  ( 1890)</td>\n",
       "      <td>55</td>\n",
       "    </tr>\n",
       "    <tr>\n",
       "      <th>1776</th>\n",
       "      <td>Fossey  ( 1988)</td>\n",
       "      <td>52</td>\n",
       "    </tr>\n",
       "    <tr>\n",
       "      <th>2378</th>\n",
       "      <td>Hansen  ( 1996)</td>\n",
       "      <td>44</td>\n",
       "    </tr>\n",
       "    <tr>\n",
       "      <th>4880</th>\n",
       "      <td>Perlman  ( 2000)</td>\n",
       "      <td>42</td>\n",
       "    </tr>\n",
       "    <tr>\n",
       "      <th>5705</th>\n",
       "      <td>SEG 23  189</td>\n",
       "      <td>40</td>\n",
       "    </tr>\n",
       "    <tr>\n",
       "      <th>3647</th>\n",
       "      <td>Kraay  ( 1976)</td>\n",
       "      <td>37</td>\n",
       "    </tr>\n",
       "    <tr>\n",
       "      <th>3596</th>\n",
       "      <td>Knoepfler ( 1997)</td>\n",
       "      <td>36</td>\n",
       "    </tr>\n",
       "  </tbody>\n",
       "</table>\n",
       "</div>"
      ],
      "text/plain": [
       "                 Quelle  Häufigkeit\n",
       "3458      Jost  ( 1985)          71\n",
       "3399     Isaac  ( 1986)          57\n",
       "5328     Rider  ( 1966)          55\n",
       "6999  Svoronos  ( 1890)          55\n",
       "1776    Fossey  ( 1988)          52\n",
       "2378    Hansen  ( 1996)          44\n",
       "4880   Perlman  ( 2000)          42\n",
       "5705        SEG 23  189          40\n",
       "3647     Kraay  ( 1976)          37\n",
       "3596  Knoepfler ( 1997)          36"
      ]
     },
     "execution_count": 24,
     "metadata": {},
     "output_type": "execute_result"
    }
   ],
   "source": [
    "dfQuellenVerteilung.sort_values(by='Häufigkeit',ascending=False).head(10)"
   ]
  },
  {
   "cell_type": "markdown",
   "metadata": {},
   "source": [
    "# Größere Textblöcke, mit textblob, spacy and NLTK"
   ]
  },
  {
   "cell_type": "code",
   "execution_count": 25,
   "metadata": {
    "collapsed": false
   },
   "outputs": [],
   "source": [
    "%load_ext tikzmagic"
   ]
  },
  {
   "cell_type": "code",
   "execution_count": 26,
   "metadata": {
    "collapsed": false
   },
   "outputs": [
    {
     "data": {
      "image/svg+xml": [
       "<svg height=\"300px\" version=\"1.1\" viewBox=\"0 0 263.352 128.002\" width=\"600px\" xmlns=\"http://www.w3.org/2000/svg\" xmlns:xlink=\"http://www.w3.org/1999/xlink\">\n",
       "<defs>\n",
       "<g>\n",
       "<symbol id=\"glyph0-0\" overflow=\"visible\">\n",
       "<path d=\"\" style=\"stroke:none;\"/>\n",
       "</symbol>\n",
       "<symbol id=\"glyph0-1\" overflow=\"visible\">\n",
       "<path d=\"M 6.640625 -6.75 L 0.546875 -6.75 L 0.359375 -4.5 L 0.609375 -4.5 C 0.75 -6.109375 0.890625 -6.4375 2.40625 -6.4375 C 2.578125 -6.4375 2.84375 -6.4375 2.9375 -6.421875 C 3.15625 -6.375 3.15625 -6.265625 3.15625 -6.046875 L 3.15625 -0.78125 C 3.15625 -0.453125 3.15625 -0.3125 2.109375 -0.3125 L 1.703125 -0.3125 L 1.703125 0 C 2.109375 -0.03125 3.125 -0.03125 3.59375 -0.03125 C 4.046875 -0.03125 5.078125 -0.03125 5.484375 0 L 5.484375 -0.3125 L 5.078125 -0.3125 C 4.03125 -0.3125 4.03125 -0.453125 4.03125 -0.78125 L 4.03125 -6.046875 C 4.03125 -6.234375 4.03125 -6.375 4.21875 -6.421875 C 4.328125 -6.4375 4.59375 -6.4375 4.78125 -6.4375 C 6.296875 -6.4375 6.4375 -6.109375 6.578125 -4.5 L 6.828125 -4.5 Z M 6.640625 -6.75 \" style=\"stroke:none;\"/>\n",
       "</symbol>\n",
       "<symbol id=\"glyph0-2\" overflow=\"visible\">\n",
       "<path d=\"M 1.109375 -2.515625 C 1.171875 -4 2.015625 -4.25 2.359375 -4.25 C 3.375 -4.25 3.484375 -2.90625 3.484375 -2.515625 Z M 1.109375 -2.296875 L 3.890625 -2.296875 C 4.109375 -2.296875 4.140625 -2.296875 4.140625 -2.515625 C 4.140625 -3.5 3.59375 -4.46875 2.359375 -4.46875 C 1.203125 -4.46875 0.28125 -3.4375 0.28125 -2.1875 C 0.28125 -0.859375 1.328125 0.109375 2.46875 0.109375 C 3.6875 0.109375 4.140625 -1 4.140625 -1.1875 C 4.140625 -1.28125 4.0625 -1.3125 4 -1.3125 C 3.921875 -1.3125 3.890625 -1.25 3.875 -1.171875 C 3.53125 -0.140625 2.625 -0.140625 2.53125 -0.140625 C 2.03125 -0.140625 1.640625 -0.4375 1.40625 -0.8125 C 1.109375 -1.28125 1.109375 -1.9375 1.109375 -2.296875 Z M 1.109375 -2.296875 \" style=\"stroke:none;\"/>\n",
       "</symbol>\n",
       "<symbol id=\"glyph0-3\" overflow=\"visible\">\n",
       "<path d=\"M 2.859375 -2.34375 C 3.15625 -2.71875 3.53125 -3.203125 3.78125 -3.46875 C 4.09375 -3.828125 4.5 -3.984375 4.96875 -3.984375 L 4.96875 -4.296875 C 4.703125 -4.28125 4.40625 -4.265625 4.140625 -4.265625 C 3.84375 -4.265625 3.3125 -4.28125 3.1875 -4.296875 L 3.1875 -3.984375 C 3.40625 -3.96875 3.484375 -3.84375 3.484375 -3.671875 C 3.484375 -3.515625 3.375 -3.390625 3.328125 -3.328125 L 2.71875 -2.546875 L 1.9375 -3.5625 C 1.84375 -3.65625 1.84375 -3.671875 1.84375 -3.734375 C 1.84375 -3.890625 2 -3.984375 2.1875 -3.984375 L 2.1875 -4.296875 C 1.9375 -4.28125 1.28125 -4.265625 1.109375 -4.265625 C 0.90625 -4.265625 0.4375 -4.28125 0.171875 -4.296875 L 0.171875 -3.984375 C 0.875 -3.984375 0.875 -3.984375 1.34375 -3.375 L 2.328125 -2.09375 L 1.390625 -0.90625 C 0.921875 -0.328125 0.328125 -0.3125 0.125 -0.3125 L 0.125 0 C 0.375 -0.015625 0.6875 -0.03125 0.953125 -0.03125 C 1.234375 -0.03125 1.65625 -0.015625 1.890625 0 L 1.890625 -0.3125 C 1.671875 -0.34375 1.609375 -0.46875 1.609375 -0.625 C 1.609375 -0.84375 1.890625 -1.171875 2.5 -1.890625 L 3.265625 -0.890625 C 3.34375 -0.78125 3.46875 -0.625 3.46875 -0.5625 C 3.46875 -0.46875 3.375 -0.3125 3.109375 -0.3125 L 3.109375 0 C 3.40625 -0.015625 3.96875 -0.03125 4.1875 -0.03125 C 4.453125 -0.03125 4.84375 -0.015625 5.140625 0 L 5.140625 -0.3125 C 4.609375 -0.3125 4.421875 -0.328125 4.203125 -0.625 Z M 2.859375 -2.34375 \" style=\"stroke:none;\"/>\n",
       "</symbol>\n",
       "<symbol id=\"glyph0-4\" overflow=\"visible\">\n",
       "<path d=\"M 1.71875 -3.984375 L 3.15625 -3.984375 L 3.15625 -4.296875 L 1.71875 -4.296875 L 1.71875 -6.125 L 1.46875 -6.125 C 1.46875 -5.3125 1.171875 -4.25 0.1875 -4.203125 L 0.1875 -3.984375 L 1.03125 -3.984375 L 1.03125 -1.234375 C 1.03125 -0.015625 1.96875 0.109375 2.328125 0.109375 C 3.03125 0.109375 3.3125 -0.59375 3.3125 -1.234375 L 3.3125 -1.796875 L 3.0625 -1.796875 L 3.0625 -1.25 C 3.0625 -0.515625 2.765625 -0.140625 2.390625 -0.140625 C 1.71875 -0.140625 1.71875 -1.046875 1.71875 -1.21875 Z M 1.71875 -3.984375 \" style=\"stroke:none;\"/>\n",
       "</symbol>\n",
       "<symbol id=\"glyph0-5\" overflow=\"visible\">\n",
       "<path d=\"M 4.6875 -2.140625 C 4.6875 -3.40625 3.703125 -4.46875 2.5 -4.46875 C 1.25 -4.46875 0.28125 -3.375 0.28125 -2.140625 C 0.28125 -0.84375 1.3125 0.109375 2.484375 0.109375 C 3.6875 0.109375 4.6875 -0.875 4.6875 -2.140625 Z M 2.5 -0.140625 C 2.0625 -0.140625 1.625 -0.34375 1.359375 -0.8125 C 1.109375 -1.25 1.109375 -1.859375 1.109375 -2.21875 C 1.109375 -2.609375 1.109375 -3.140625 1.34375 -3.578125 C 1.609375 -4.03125 2.078125 -4.25 2.484375 -4.25 C 2.921875 -4.25 3.34375 -4.03125 3.609375 -3.59375 C 3.875 -3.171875 3.875 -2.59375 3.875 -2.21875 C 3.875 -1.859375 3.875 -1.3125 3.65625 -0.875 C 3.421875 -0.421875 2.984375 -0.140625 2.5 -0.140625 Z M 2.5 -0.140625 \" style=\"stroke:none;\"/>\n",
       "</symbol>\n",
       "<symbol id=\"glyph0-6\" overflow=\"visible\">\n",
       "<path d=\"M 1.71875 -3.75 L 1.71875 -4.40625 L 0.28125 -4.296875 L 0.28125 -3.984375 C 0.984375 -3.984375 1.0625 -3.921875 1.0625 -3.484375 L 1.0625 1.171875 C 1.0625 1.625 0.953125 1.625 0.28125 1.625 L 0.28125 1.9375 C 0.625 1.921875 1.140625 1.90625 1.390625 1.90625 C 1.671875 1.90625 2.171875 1.921875 2.515625 1.9375 L 2.515625 1.625 C 1.859375 1.625 1.75 1.625 1.75 1.171875 L 1.75 -0.59375 C 1.796875 -0.421875 2.21875 0.109375 2.96875 0.109375 C 4.15625 0.109375 5.1875 -0.875 5.1875 -2.15625 C 5.1875 -3.421875 4.234375 -4.40625 3.109375 -4.40625 C 2.328125 -4.40625 1.90625 -3.96875 1.71875 -3.75 Z M 1.75 -1.140625 L 1.75 -3.359375 C 2.03125 -3.875 2.515625 -4.15625 3.03125 -4.15625 C 3.765625 -4.15625 4.359375 -3.28125 4.359375 -2.15625 C 4.359375 -0.953125 3.671875 -0.109375 2.9375 -0.109375 C 2.53125 -0.109375 2.15625 -0.3125 1.890625 -0.71875 C 1.75 -0.921875 1.75 -0.9375 1.75 -1.140625 Z M 1.75 -1.140625 \" style=\"stroke:none;\"/>\n",
       "</symbol>\n",
       "<symbol id=\"glyph0-7\" overflow=\"visible\">\n",
       "<path d=\"M 1.765625 -4.40625 L 0.375 -4.296875 L 0.375 -3.984375 C 1.015625 -3.984375 1.109375 -3.921875 1.109375 -3.4375 L 1.109375 -0.75 C 1.109375 -0.3125 1 -0.3125 0.328125 -0.3125 L 0.328125 0 C 0.640625 -0.015625 1.1875 -0.03125 1.421875 -0.03125 C 1.78125 -0.03125 2.125 -0.015625 2.46875 0 L 2.46875 -0.3125 C 1.796875 -0.3125 1.765625 -0.359375 1.765625 -0.75 Z M 1.796875 -6.140625 C 1.796875 -6.453125 1.5625 -6.671875 1.28125 -6.671875 C 0.96875 -6.671875 0.75 -6.40625 0.75 -6.140625 C 0.75 -5.875 0.96875 -5.609375 1.28125 -5.609375 C 1.5625 -5.609375 1.796875 -5.828125 1.796875 -6.140625 Z M 1.796875 -6.140625 \" style=\"stroke:none;\"/>\n",
       "</symbol>\n",
       "<symbol id=\"glyph0-8\" overflow=\"visible\">\n",
       "<path d=\"M 1.171875 -2.171875 C 1.171875 -3.796875 1.984375 -4.21875 2.515625 -4.21875 C 2.609375 -4.21875 3.234375 -4.203125 3.578125 -3.84375 C 3.171875 -3.8125 3.109375 -3.515625 3.109375 -3.390625 C 3.109375 -3.125 3.296875 -2.9375 3.5625 -2.9375 C 3.828125 -2.9375 4.03125 -3.09375 4.03125 -3.40625 C 4.03125 -4.078125 3.265625 -4.46875 2.5 -4.46875 C 1.25 -4.46875 0.34375 -3.390625 0.34375 -2.15625 C 0.34375 -0.875 1.328125 0.109375 2.484375 0.109375 C 3.8125 0.109375 4.140625 -1.09375 4.140625 -1.1875 C 4.140625 -1.28125 4.03125 -1.28125 4 -1.28125 C 3.921875 -1.28125 3.890625 -1.25 3.875 -1.1875 C 3.59375 -0.265625 2.9375 -0.140625 2.578125 -0.140625 C 2.046875 -0.140625 1.171875 -0.5625 1.171875 -2.171875 Z M 1.171875 -2.171875 \" style=\"stroke:none;\"/>\n",
       "</symbol>\n",
       "<symbol id=\"glyph0-9\" overflow=\"visible\">\n",
       "<path d=\"M 2.21875 -1.71875 C 1.34375 -1.71875 1.34375 -2.71875 1.34375 -2.9375 C 1.34375 -3.203125 1.359375 -3.53125 1.5 -3.78125 C 1.578125 -3.890625 1.8125 -4.171875 2.21875 -4.171875 C 3.078125 -4.171875 3.078125 -3.1875 3.078125 -2.953125 C 3.078125 -2.6875 3.078125 -2.359375 2.921875 -2.109375 C 2.84375 -2 2.609375 -1.71875 2.21875 -1.71875 Z M 1.0625 -1.328125 C 1.0625 -1.359375 1.0625 -1.59375 1.21875 -1.796875 C 1.609375 -1.515625 2.03125 -1.484375 2.21875 -1.484375 C 3.140625 -1.484375 3.828125 -2.171875 3.828125 -2.9375 C 3.828125 -3.3125 3.671875 -3.671875 3.421875 -3.90625 C 3.78125 -4.25 4.140625 -4.296875 4.3125 -4.296875 C 4.34375 -4.296875 4.390625 -4.296875 4.421875 -4.28125 C 4.3125 -4.25 4.25 -4.140625 4.25 -4.015625 C 4.25 -3.84375 4.390625 -3.734375 4.546875 -3.734375 C 4.640625 -3.734375 4.828125 -3.796875 4.828125 -4.03125 C 4.828125 -4.203125 4.71875 -4.515625 4.328125 -4.515625 C 4.125 -4.515625 3.6875 -4.453125 3.265625 -4.046875 C 2.84375 -4.375 2.4375 -4.40625 2.21875 -4.40625 C 1.28125 -4.40625 0.59375 -3.71875 0.59375 -2.953125 C 0.59375 -2.515625 0.8125 -2.140625 1.0625 -1.921875 C 0.9375 -1.78125 0.75 -1.453125 0.75 -1.09375 C 0.75 -0.78125 0.890625 -0.40625 1.203125 -0.203125 C 0.59375 -0.046875 0.28125 0.390625 0.28125 0.78125 C 0.28125 1.5 1.265625 2.046875 2.484375 2.046875 C 3.65625 2.046875 4.6875 1.546875 4.6875 0.765625 C 4.6875 0.421875 4.5625 -0.09375 4.046875 -0.375 C 3.515625 -0.640625 2.9375 -0.640625 2.328125 -0.640625 C 2.078125 -0.640625 1.65625 -0.640625 1.578125 -0.65625 C 1.265625 -0.703125 1.0625 -1 1.0625 -1.328125 Z M 2.5 1.828125 C 1.484375 1.828125 0.796875 1.3125 0.796875 0.78125 C 0.796875 0.328125 1.171875 -0.046875 1.609375 -0.0625 L 2.203125 -0.0625 C 3.0625 -0.0625 4.171875 -0.0625 4.171875 0.78125 C 4.171875 1.328125 3.46875 1.828125 2.5 1.828125 Z M 2.5 1.828125 \" style=\"stroke:none;\"/>\n",
       "</symbol>\n",
       "<symbol id=\"glyph0-10\" overflow=\"visible\">\n",
       "<path d=\"M 1.09375 -3.421875 L 1.09375 -0.75 C 1.09375 -0.3125 0.984375 -0.3125 0.3125 -0.3125 L 0.3125 0 C 0.671875 -0.015625 1.171875 -0.03125 1.453125 -0.03125 C 1.703125 -0.03125 2.21875 -0.015625 2.5625 0 L 2.5625 -0.3125 C 1.890625 -0.3125 1.78125 -0.3125 1.78125 -0.75 L 1.78125 -2.59375 C 1.78125 -3.625 2.5 -4.1875 3.125 -4.1875 C 3.765625 -4.1875 3.875 -3.65625 3.875 -3.078125 L 3.875 -0.75 C 3.875 -0.3125 3.765625 -0.3125 3.09375 -0.3125 L 3.09375 0 C 3.4375 -0.015625 3.953125 -0.03125 4.21875 -0.03125 C 4.46875 -0.03125 5 -0.015625 5.328125 0 L 5.328125 -0.3125 C 4.8125 -0.3125 4.5625 -0.3125 4.5625 -0.609375 L 4.5625 -2.515625 C 4.5625 -3.375 4.5625 -3.671875 4.25 -4.03125 C 4.109375 -4.203125 3.78125 -4.40625 3.203125 -4.40625 C 2.46875 -4.40625 2 -3.984375 1.71875 -3.359375 L 1.71875 -4.40625 L 0.3125 -4.296875 L 0.3125 -3.984375 C 1.015625 -3.984375 1.09375 -3.921875 1.09375 -3.421875 Z M 1.09375 -3.421875 \" style=\"stroke:none;\"/>\n",
       "</symbol>\n",
       "<symbol id=\"glyph0-11\" overflow=\"visible\">\n",
       "<path d=\"M 1.90625 -0.53125 C 1.90625 -0.8125 1.671875 -1.0625 1.390625 -1.0625 C 1.09375 -1.0625 0.859375 -0.8125 0.859375 -0.53125 C 0.859375 -0.234375 1.09375 0 1.390625 0 C 1.671875 0 1.90625 -0.234375 1.90625 -0.53125 Z M 1.90625 -0.53125 \" style=\"stroke:none;\"/>\n",
       "</symbol>\n",
       "<symbol id=\"glyph0-12\" overflow=\"visible\">\n",
       "<path d=\"M 1.765625 -6.921875 L 0.328125 -6.8125 L 0.328125 -6.5 C 1.03125 -6.5 1.109375 -6.4375 1.109375 -5.9375 L 1.109375 -0.75 C 1.109375 -0.3125 1 -0.3125 0.328125 -0.3125 L 0.328125 0 C 0.65625 -0.015625 1.1875 -0.03125 1.4375 -0.03125 C 1.6875 -0.03125 2.171875 -0.015625 2.546875 0 L 2.546875 -0.3125 C 1.875 -0.3125 1.765625 -0.3125 1.765625 -0.75 Z M 1.765625 -6.921875 \" style=\"stroke:none;\"/>\n",
       "</symbol>\n",
       "<symbol id=\"glyph0-13\" overflow=\"visible\">\n",
       "<path d=\"M 3.3125 -0.75 C 3.359375 -0.359375 3.625 0.0625 4.09375 0.0625 C 4.3125 0.0625 4.921875 -0.078125 4.921875 -0.890625 L 4.921875 -1.453125 L 4.671875 -1.453125 L 4.671875 -0.890625 C 4.671875 -0.3125 4.421875 -0.25 4.3125 -0.25 C 3.984375 -0.25 3.9375 -0.703125 3.9375 -0.75 L 3.9375 -2.734375 C 3.9375 -3.15625 3.9375 -3.546875 3.578125 -3.921875 C 3.1875 -4.3125 2.6875 -4.46875 2.21875 -4.46875 C 1.390625 -4.46875 0.703125 -4 0.703125 -3.34375 C 0.703125 -3.046875 0.90625 -2.875 1.171875 -2.875 C 1.453125 -2.875 1.625 -3.078125 1.625 -3.328125 C 1.625 -3.453125 1.578125 -3.78125 1.109375 -3.78125 C 1.390625 -4.140625 1.875 -4.25 2.1875 -4.25 C 2.6875 -4.25 3.25 -3.859375 3.25 -2.96875 L 3.25 -2.609375 C 2.734375 -2.578125 2.046875 -2.546875 1.421875 -2.25 C 0.671875 -1.90625 0.421875 -1.390625 0.421875 -0.953125 C 0.421875 -0.140625 1.390625 0.109375 2.015625 0.109375 C 2.671875 0.109375 3.125 -0.296875 3.3125 -0.75 Z M 3.25 -2.390625 L 3.25 -1.390625 C 3.25 -0.453125 2.53125 -0.109375 2.078125 -0.109375 C 1.59375 -0.109375 1.1875 -0.453125 1.1875 -0.953125 C 1.1875 -1.5 1.609375 -2.328125 3.25 -2.390625 Z M 3.25 -2.390625 \" style=\"stroke:none;\"/>\n",
       "</symbol>\n",
       "<symbol id=\"glyph0-14\" overflow=\"visible\">\n",
       "<path d=\"M 2.078125 -1.9375 C 2.296875 -1.890625 3.109375 -1.734375 3.109375 -1.015625 C 3.109375 -0.515625 2.765625 -0.109375 1.984375 -0.109375 C 1.140625 -0.109375 0.78125 -0.671875 0.59375 -1.53125 C 0.5625 -1.65625 0.5625 -1.6875 0.453125 -1.6875 C 0.328125 -1.6875 0.328125 -1.625 0.328125 -1.453125 L 0.328125 -0.125 C 0.328125 0.046875 0.328125 0.109375 0.4375 0.109375 C 0.484375 0.109375 0.5 0.09375 0.6875 -0.09375 C 0.703125 -0.109375 0.703125 -0.125 0.890625 -0.3125 C 1.328125 0.09375 1.78125 0.109375 1.984375 0.109375 C 3.125 0.109375 3.59375 -0.5625 3.59375 -1.28125 C 3.59375 -1.796875 3.296875 -2.109375 3.171875 -2.21875 C 2.84375 -2.546875 2.453125 -2.625 2.03125 -2.703125 C 1.46875 -2.8125 0.8125 -2.9375 0.8125 -3.515625 C 0.8125 -3.875 1.0625 -4.28125 1.921875 -4.28125 C 3.015625 -4.28125 3.078125 -3.375 3.09375 -3.078125 C 3.09375 -2.984375 3.1875 -2.984375 3.203125 -2.984375 C 3.34375 -2.984375 3.34375 -3.03125 3.34375 -3.21875 L 3.34375 -4.234375 C 3.34375 -4.390625 3.34375 -4.46875 3.234375 -4.46875 C 3.1875 -4.46875 3.15625 -4.46875 3.03125 -4.34375 C 3 -4.3125 2.90625 -4.21875 2.859375 -4.1875 C 2.484375 -4.46875 2.078125 -4.46875 1.921875 -4.46875 C 0.703125 -4.46875 0.328125 -3.796875 0.328125 -3.234375 C 0.328125 -2.890625 0.484375 -2.609375 0.75 -2.390625 C 1.078125 -2.140625 1.359375 -2.078125 2.078125 -1.9375 Z M 2.078125 -1.9375 \" style=\"stroke:none;\"/>\n",
       "</symbol>\n",
       "<symbol id=\"glyph0-15\" overflow=\"visible\">\n",
       "<path d=\"M 1.671875 -3.3125 L 1.671875 -4.40625 L 0.28125 -4.296875 L 0.28125 -3.984375 C 0.984375 -3.984375 1.0625 -3.921875 1.0625 -3.421875 L 1.0625 -0.75 C 1.0625 -0.3125 0.953125 -0.3125 0.28125 -0.3125 L 0.28125 0 C 0.671875 -0.015625 1.140625 -0.03125 1.421875 -0.03125 C 1.8125 -0.03125 2.28125 -0.03125 2.6875 0 L 2.6875 -0.3125 L 2.46875 -0.3125 C 1.734375 -0.3125 1.71875 -0.421875 1.71875 -0.78125 L 1.71875 -2.3125 C 1.71875 -3.296875 2.140625 -4.1875 2.890625 -4.1875 C 2.953125 -4.1875 2.984375 -4.1875 3 -4.171875 C 2.96875 -4.171875 2.765625 -4.046875 2.765625 -3.78125 C 2.765625 -3.515625 2.984375 -3.359375 3.203125 -3.359375 C 3.375 -3.359375 3.625 -3.484375 3.625 -3.796875 C 3.625 -4.109375 3.3125 -4.40625 2.890625 -4.40625 C 2.15625 -4.40625 1.796875 -3.734375 1.671875 -3.3125 Z M 1.671875 -3.3125 \" style=\"stroke:none;\"/>\n",
       "</symbol>\n",
       "<symbol id=\"glyph0-16\" overflow=\"visible\">\n",
       "<path d=\"M 3.890625 -0.78125 L 3.890625 0.109375 L 5.328125 0 L 5.328125 -0.3125 C 4.640625 -0.3125 4.5625 -0.375 4.5625 -0.875 L 4.5625 -4.40625 L 3.09375 -4.296875 L 3.09375 -3.984375 C 3.78125 -3.984375 3.875 -3.921875 3.875 -3.421875 L 3.875 -1.65625 C 3.875 -0.78125 3.390625 -0.109375 2.65625 -0.109375 C 1.828125 -0.109375 1.78125 -0.578125 1.78125 -1.09375 L 1.78125 -4.40625 L 0.3125 -4.296875 L 0.3125 -3.984375 C 1.09375 -3.984375 1.09375 -3.953125 1.09375 -3.078125 L 1.09375 -1.578125 C 1.09375 -0.796875 1.09375 0.109375 2.609375 0.109375 C 3.171875 0.109375 3.609375 -0.171875 3.890625 -0.78125 Z M 3.890625 -0.78125 \" style=\"stroke:none;\"/>\n",
       "</symbol>\n",
       "<symbol id=\"glyph0-17\" overflow=\"visible\">\n",
       "<path d=\"M 1.90625 -3.765625 C 1.90625 -4.0625 1.671875 -4.296875 1.390625 -4.296875 C 1.09375 -4.296875 0.859375 -4.0625 0.859375 -3.765625 C 0.859375 -3.484375 1.09375 -3.234375 1.390625 -3.234375 C 1.671875 -3.234375 1.90625 -3.484375 1.90625 -3.765625 Z M 1.90625 -0.53125 C 1.90625 -0.8125 1.671875 -1.0625 1.390625 -1.0625 C 1.09375 -1.0625 0.859375 -0.8125 0.859375 -0.53125 C 0.859375 -0.234375 1.09375 0 1.390625 0 C 1.671875 0 1.90625 -0.234375 1.90625 -0.53125 Z M 1.90625 -0.53125 \" style=\"stroke:none;\"/>\n",
       "</symbol>\n",
       "<symbol id=\"glyph0-18\" overflow=\"visible\">\n",
       "<path d=\"M 2.75 -1.859375 L 2.75 -2.4375 L 0.109375 -2.4375 L 0.109375 -1.859375 Z M 2.75 -1.859375 \" style=\"stroke:none;\"/>\n",
       "</symbol>\n",
       "<symbol id=\"glyph0-19\" overflow=\"visible\">\n",
       "<path d=\"M 1.71875 -3.765625 L 1.71875 -6.921875 L 0.28125 -6.8125 L 0.28125 -6.5 C 0.984375 -6.5 1.0625 -6.4375 1.0625 -5.9375 L 1.0625 0 L 1.3125 0 C 1.3125 -0.015625 1.390625 -0.15625 1.671875 -0.625 C 1.8125 -0.390625 2.234375 0.109375 2.96875 0.109375 C 4.15625 0.109375 5.1875 -0.875 5.1875 -2.15625 C 5.1875 -3.421875 4.21875 -4.40625 3.078125 -4.40625 C 2.296875 -4.40625 1.875 -3.9375 1.71875 -3.765625 Z M 1.75 -1.140625 L 1.75 -3.1875 C 1.75 -3.375 1.75 -3.390625 1.859375 -3.546875 C 2.25 -4.109375 2.796875 -4.1875 3.03125 -4.1875 C 3.484375 -4.1875 3.84375 -3.921875 4.078125 -3.546875 C 4.34375 -3.140625 4.359375 -2.578125 4.359375 -2.15625 C 4.359375 -1.796875 4.34375 -1.203125 4.0625 -0.75 C 3.84375 -0.4375 3.46875 -0.109375 2.9375 -0.109375 C 2.484375 -0.109375 2.125 -0.34375 1.890625 -0.71875 C 1.75 -0.921875 1.75 -0.953125 1.75 -1.140625 Z M 1.75 -1.140625 \" style=\"stroke:none;\"/>\n",
       "</symbol>\n",
       "<symbol id=\"glyph0-20\" overflow=\"visible\">\n",
       "<path d=\"M 1.0625 -0.75 C 1.0625 -0.3125 0.953125 -0.3125 0.28125 -0.3125 L 0.28125 0 C 0.609375 -0.015625 1.078125 -0.03125 1.359375 -0.03125 C 1.671875 -0.03125 2.0625 -0.015625 2.46875 0 L 2.46875 -0.3125 C 1.796875 -0.3125 1.6875 -0.3125 1.6875 -0.75 L 1.6875 -1.78125 L 2.328125 -2.328125 C 3.09375 -1.28125 3.515625 -0.71875 3.515625 -0.53125 C 3.515625 -0.34375 3.34375 -0.3125 3.15625 -0.3125 L 3.15625 0 C 3.421875 -0.015625 4.015625 -0.03125 4.234375 -0.03125 C 4.515625 -0.03125 4.8125 -0.015625 5.09375 0 L 5.09375 -0.3125 C 4.71875 -0.3125 4.5 -0.3125 4.125 -0.84375 L 2.859375 -2.625 C 2.84375 -2.640625 2.796875 -2.703125 2.796875 -2.734375 C 2.796875 -2.765625 3.515625 -3.375 3.609375 -3.453125 C 4.234375 -3.953125 4.65625 -3.984375 4.859375 -3.984375 L 4.859375 -4.296875 C 4.578125 -4.265625 4.453125 -4.265625 4.171875 -4.265625 C 3.8125 -4.265625 3.1875 -4.28125 3.046875 -4.296875 L 3.046875 -3.984375 C 3.234375 -3.984375 3.34375 -3.875 3.34375 -3.734375 C 3.34375 -3.53125 3.203125 -3.421875 3.125 -3.34375 L 1.71875 -2.140625 L 1.71875 -6.921875 L 0.28125 -6.8125 L 0.28125 -6.5 C 0.984375 -6.5 1.0625 -6.4375 1.0625 -5.9375 Z M 1.0625 -0.75 \" style=\"stroke:none;\"/>\n",
       "</symbol>\n",
       "<symbol id=\"glyph0-21\" overflow=\"visible\">\n",
       "<path d=\"M 1.09375 -0.75 C 1.09375 -0.3125 0.984375 -0.3125 0.3125 -0.3125 L 0.3125 0 C 0.671875 -0.015625 1.171875 -0.03125 1.453125 -0.03125 C 1.703125 -0.03125 2.21875 -0.015625 2.5625 0 L 2.5625 -0.3125 C 1.890625 -0.3125 1.78125 -0.3125 1.78125 -0.75 L 1.78125 -2.59375 C 1.78125 -3.625 2.5 -4.1875 3.125 -4.1875 C 3.765625 -4.1875 3.875 -3.65625 3.875 -3.078125 L 3.875 -0.75 C 3.875 -0.3125 3.765625 -0.3125 3.09375 -0.3125 L 3.09375 0 C 3.4375 -0.015625 3.953125 -0.03125 4.21875 -0.03125 C 4.46875 -0.03125 5 -0.015625 5.328125 0 L 5.328125 -0.3125 C 4.8125 -0.3125 4.5625 -0.3125 4.5625 -0.609375 L 4.5625 -2.515625 C 4.5625 -3.375 4.5625 -3.671875 4.25 -4.03125 C 4.109375 -4.203125 3.78125 -4.40625 3.203125 -4.40625 C 2.359375 -4.40625 1.921875 -3.8125 1.75 -3.421875 L 1.75 -6.921875 L 0.3125 -6.8125 L 0.3125 -6.5 C 1.015625 -6.5 1.09375 -6.4375 1.09375 -5.9375 Z M 1.09375 -0.75 \" style=\"stroke:none;\"/>\n",
       "</symbol>\n",
       "<symbol id=\"glyph0-22\" overflow=\"visible\">\n",
       "<path d=\"M 1.09375 -3.421875 L 1.09375 -0.75 C 1.09375 -0.3125 0.984375 -0.3125 0.3125 -0.3125 L 0.3125 0 C 0.671875 -0.015625 1.171875 -0.03125 1.453125 -0.03125 C 1.703125 -0.03125 2.21875 -0.015625 2.5625 0 L 2.5625 -0.3125 C 1.890625 -0.3125 1.78125 -0.3125 1.78125 -0.75 L 1.78125 -2.59375 C 1.78125 -3.625 2.5 -4.1875 3.125 -4.1875 C 3.765625 -4.1875 3.875 -3.65625 3.875 -3.078125 L 3.875 -0.75 C 3.875 -0.3125 3.765625 -0.3125 3.09375 -0.3125 L 3.09375 0 C 3.4375 -0.015625 3.953125 -0.03125 4.21875 -0.03125 C 4.46875 -0.03125 5 -0.015625 5.328125 0 L 5.328125 -0.3125 C 4.671875 -0.3125 4.5625 -0.3125 4.5625 -0.75 L 4.5625 -2.59375 C 4.5625 -3.625 5.265625 -4.1875 5.90625 -4.1875 C 6.53125 -4.1875 6.640625 -3.65625 6.640625 -3.078125 L 6.640625 -0.75 C 6.640625 -0.3125 6.53125 -0.3125 5.859375 -0.3125 L 5.859375 0 C 6.203125 -0.015625 6.71875 -0.03125 6.984375 -0.03125 C 7.25 -0.03125 7.765625 -0.015625 8.109375 0 L 8.109375 -0.3125 C 7.59375 -0.3125 7.34375 -0.3125 7.328125 -0.609375 L 7.328125 -2.515625 C 7.328125 -3.375 7.328125 -3.671875 7.015625 -4.03125 C 6.875 -4.203125 6.546875 -4.40625 5.96875 -4.40625 C 5.140625 -4.40625 4.6875 -3.8125 4.53125 -3.421875 C 4.390625 -4.296875 3.65625 -4.40625 3.203125 -4.40625 C 2.46875 -4.40625 2 -3.984375 1.71875 -3.359375 L 1.71875 -4.40625 L 0.3125 -4.296875 L 0.3125 -3.984375 C 1.015625 -3.984375 1.09375 -3.921875 1.09375 -3.421875 Z M 1.09375 -3.421875 \" style=\"stroke:none;\"/>\n",
       "</symbol>\n",
       "<symbol id=\"glyph0-23\" overflow=\"visible\">\n",
       "<path d=\"M 6.171875 -3.34375 C 6.34375 -3.84375 6.65625 -3.984375 7.015625 -3.984375 L 7.015625 -4.296875 C 6.78125 -4.28125 6.5 -4.265625 6.28125 -4.265625 C 5.984375 -4.265625 5.546875 -4.28125 5.359375 -4.296875 L 5.359375 -3.984375 C 5.71875 -3.984375 5.9375 -3.796875 5.9375 -3.515625 C 5.9375 -3.453125 5.9375 -3.421875 5.875 -3.296875 L 4.96875 -0.75 L 3.984375 -3.53125 C 3.953125 -3.65625 3.9375 -3.671875 3.9375 -3.71875 C 3.9375 -3.984375 4.328125 -3.984375 4.53125 -3.984375 L 4.53125 -4.296875 C 4.234375 -4.28125 3.734375 -4.265625 3.484375 -4.265625 C 3.1875 -4.265625 2.90625 -4.28125 2.609375 -4.296875 L 2.609375 -3.984375 C 2.96875 -3.984375 3.125 -3.96875 3.234375 -3.84375 C 3.28125 -3.78125 3.390625 -3.484375 3.453125 -3.296875 L 2.609375 -0.875 L 1.65625 -3.53125 C 1.609375 -3.65625 1.609375 -3.671875 1.609375 -3.71875 C 1.609375 -3.984375 2 -3.984375 2.1875 -3.984375 L 2.1875 -4.296875 C 1.890625 -4.28125 1.328125 -4.265625 1.109375 -4.265625 C 1.0625 -4.265625 0.53125 -4.28125 0.171875 -4.296875 L 0.171875 -3.984375 C 0.671875 -3.984375 0.796875 -3.953125 0.921875 -3.640625 L 2.171875 -0.109375 C 2.21875 0.03125 2.25 0.109375 2.375 0.109375 C 2.515625 0.109375 2.53125 0.046875 2.578125 -0.09375 L 3.59375 -2.90625 L 4.609375 -0.078125 C 4.640625 0.03125 4.671875 0.109375 4.8125 0.109375 C 4.9375 0.109375 4.96875 0.015625 5 -0.078125 Z M 6.171875 -3.34375 \" style=\"stroke:none;\"/>\n",
       "</symbol>\n",
       "<symbol id=\"glyph0-24\" overflow=\"visible\">\n",
       "<path d=\"M 3.78125 -0.546875 L 3.78125 0.109375 L 5.25 0 L 5.25 -0.3125 C 4.5625 -0.3125 4.46875 -0.375 4.46875 -0.875 L 4.46875 -6.921875 L 3.046875 -6.8125 L 3.046875 -6.5 C 3.734375 -6.5 3.8125 -6.4375 3.8125 -5.9375 L 3.8125 -3.78125 C 3.53125 -4.140625 3.09375 -4.40625 2.5625 -4.40625 C 1.390625 -4.40625 0.34375 -3.421875 0.34375 -2.140625 C 0.34375 -0.875 1.3125 0.109375 2.453125 0.109375 C 3.09375 0.109375 3.53125 -0.234375 3.78125 -0.546875 Z M 3.78125 -3.21875 L 3.78125 -1.171875 C 3.78125 -1 3.78125 -0.984375 3.671875 -0.8125 C 3.375 -0.328125 2.9375 -0.109375 2.5 -0.109375 C 2.046875 -0.109375 1.6875 -0.375 1.453125 -0.75 C 1.203125 -1.15625 1.171875 -1.71875 1.171875 -2.140625 C 1.171875 -2.5 1.1875 -3.09375 1.46875 -3.546875 C 1.6875 -3.859375 2.0625 -4.1875 2.609375 -4.1875 C 2.953125 -4.1875 3.375 -4.03125 3.671875 -3.59375 C 3.78125 -3.421875 3.78125 -3.40625 3.78125 -3.21875 Z M 3.78125 -3.21875 \" style=\"stroke:none;\"/>\n",
       "</symbol>\n",
       "</g>\n",
       "</defs>\n",
       "<g id=\"surface1\">\n",
       "<path d=\"M 9.299688 6.725531 L -9.297969 6.725531 C -11.501094 6.725531 -13.282344 4.940375 -13.282344 2.741156 L -13.282344 -2.739312 C -13.282344 -4.938531 -11.501094 -6.723687 -9.297969 -6.723687 L 9.299688 -6.723687 C 11.498906 -6.723687 13.284063 -4.938531 13.284063 -2.739312 L 13.284063 2.741156 C 13.284063 4.940375 11.498906 6.725531 9.299688 6.725531 Z M 9.299688 6.725531 \" style=\"fill-rule:nonzero;fill:rgb(0%,100%,0%);fill-opacity:1;stroke-width:0.3985;stroke-linecap:butt;stroke-linejoin:miter;stroke:rgb(0%,0%,0%);stroke-opacity:1;stroke-miterlimit:10;\" transform=\"matrix(1,0,0,-1,24.38,63.956)\"/>\n",
       "<g style=\"fill:rgb(0%,0%,0%);fill-opacity:1;\">\n",
       "  <use x=\"14.418\" xlink:href=\"#glyph0-1\" y=\"67.36\"/>\n",
       "</g>\n",
       "<g style=\"fill:rgb(0%,0%,0%);fill-opacity:1;\">\n",
       "  <use x=\"20.786094\" xlink:href=\"#glyph0-2\" y=\"67.36\"/>\n",
       "  <use x=\"25.213473\" xlink:href=\"#glyph0-3\" y=\"67.36\"/>\n",
       "  <use x=\"30.471734\" xlink:href=\"#glyph0-4\" y=\"67.36\"/>\n",
       "</g>\n",
       "<path d=\"M 80.995 7.616156 L 60.737188 7.616156 C 58.537969 7.616156 56.752813 5.831 56.752813 3.631781 L 56.752813 -3.629937 C 56.752813 -5.833062 58.537969 -7.614312 60.737188 -7.614312 L 80.995 -7.614312 C 83.198125 -7.614312 84.979375 -5.833062 84.979375 -3.629937 L 84.979375 3.631781 C 84.979375 5.831 83.198125 7.616156 80.995 7.616156 Z M 80.995 7.616156 \" style=\"fill-rule:nonzero;fill:rgb(100%,100%,100%);fill-opacity:1;stroke-width:0.3985;stroke-linecap:butt;stroke-linejoin:miter;stroke:rgb(0%,0%,0%);stroke-opacity:1;stroke-miterlimit:10;\" transform=\"matrix(1,0,0,-1,24.38,63.956)\"/>\n",
       "<g style=\"fill:rgb(0%,0%,0%);fill-opacity:1;\">\n",
       "  <use x=\"84.454\" xlink:href=\"#glyph0-4\" y=\"66.314\"/>\n",
       "  <use x=\"88.328455\" xlink:href=\"#glyph0-5\" y=\"66.314\"/>\n",
       "  <use x=\"93.309755\" xlink:href=\"#glyph0-6\" y=\"66.314\"/>\n",
       "  <use x=\"98.844976\" xlink:href=\"#glyph0-7\" y=\"66.314\"/>\n",
       "  <use x=\"101.612586\" xlink:href=\"#glyph0-8\" y=\"66.314\"/>\n",
       "</g>\n",
       "<g style=\"fill:rgb(0%,0%,0%);fill-opacity:1;\">\n",
       "  <use x=\"137.332\" xlink:href=\"#glyph0-9\" y=\"66.447\"/>\n",
       "  <use x=\"142.3133\" xlink:href=\"#glyph0-2\" y=\"66.447\"/>\n",
       "  <use x=\"146.740679\" xlink:href=\"#glyph0-10\" y=\"66.447\"/>\n",
       "  <use x=\"152.2759\" xlink:href=\"#glyph0-11\" y=\"66.447\"/>\n",
       "</g>\n",
       "<g style=\"fill:rgb(0%,0%,0%);fill-opacity:1;\">\n",
       "  <use x=\"159.466905\" xlink:href=\"#glyph0-8\" y=\"66.447\"/>\n",
       "  <use x=\"163.894284\" xlink:href=\"#glyph0-12\" y=\"66.447\"/>\n",
       "  <use x=\"166.661894\" xlink:href=\"#glyph0-2\" y=\"66.447\"/>\n",
       "  <use x=\"171.089274\" xlink:href=\"#glyph0-13\" y=\"66.447\"/>\n",
       "  <use x=\"176.070574\" xlink:href=\"#glyph0-10\" y=\"66.447\"/>\n",
       "  <use x=\"181.605794\" xlink:href=\"#glyph0-7\" y=\"66.447\"/>\n",
       "  <use x=\"184.373405\" xlink:href=\"#glyph0-10\" y=\"66.447\"/>\n",
       "  <use x=\"189.908625\" xlink:href=\"#glyph0-9\" y=\"66.447\"/>\n",
       "</g>\n",
       "<path d=\"M 134.202031 8.2685 C 97.15125 44.760688 36.815313 44.303656 -0.00109375 6.92475 \" style=\"fill:none;stroke-width:0.3985;stroke-linecap:butt;stroke-linejoin:miter;stroke:rgb(0%,0%,0%);stroke-opacity:1;stroke-dasharray:2.98883,2.98883;stroke-miterlimit:10;\" transform=\"matrix(1,0,0,-1,24.38,63.956)\"/>\n",
       "<path d=\"M -1.195646 1.592973 C -1.095454 0.997065 -0.000102457 0.101561 0.296705 0.000122633 C 0.00113047 -0.0995873 -1.096755 -0.995024 -1.194976 -1.594941 \" style=\"fill:none;stroke-width:0.31879;stroke-linecap:round;stroke-linejoin:round;stroke:rgb(0%,0%,0%);stroke-opacity:1;stroke-miterlimit:10;\" transform=\"matrix(0.71422,0.70349,0.70349,-0.71422,158.58097,55.68589)\"/>\n",
       "<g style=\"fill:rgb(0%,0%,0%);fill-opacity:1;\">\n",
       "  <use x=\"213.926\" xlink:href=\"#glyph0-14\" y=\"67.02\"/>\n",
       "  <use x=\"217.855249\" xlink:href=\"#glyph0-4\" y=\"67.02\"/>\n",
       "  <use x=\"221.729705\" xlink:href=\"#glyph0-15\" y=\"67.02\"/>\n",
       "  <use x=\"225.632055\" xlink:href=\"#glyph0-16\" y=\"67.02\"/>\n",
       "  <use x=\"231.167276\" xlink:href=\"#glyph0-8\" y=\"67.02\"/>\n",
       "  <use x=\"235.594655\" xlink:href=\"#glyph0-4\" y=\"67.02\"/>\n",
       "  <use x=\"239.46911\" xlink:href=\"#glyph0-16\" y=\"67.02\"/>\n",
       "  <use x=\"245.004331\" xlink:href=\"#glyph0-15\" y=\"67.02\"/>\n",
       "  <use x=\"248.906681\" xlink:href=\"#glyph0-2\" y=\"67.02\"/>\n",
       "  <use x=\"253.334061\" xlink:href=\"#glyph0-14\" y=\"67.02\"/>\n",
       "  <use x=\"257.26331\" xlink:href=\"#glyph0-17\" y=\"67.02\"/>\n",
       "</g>\n",
       "<path d=\"M 206.116094 6.909125 C 149.608281 63.604438 57.018438 63.756781 -0.00109375 6.92475 \" style=\"fill:none;stroke-width:0.3985;stroke-linecap:butt;stroke-linejoin:miter;stroke:rgb(0%,0%,0%);stroke-opacity:1;stroke-dasharray:2.98883,2.98883;stroke-miterlimit:10;\" transform=\"matrix(1,0,0,-1,24.38,63.956)\"/>\n",
       "<path d=\"M -1.197891 1.593716 C -1.095064 0.996517 -0.000724394 0.0981205 0.296743 -0.000497378 C -0.000401735 -0.100083 -1.097325 -0.996541 -1.195459 -1.591314 \" style=\"fill:none;stroke-width:0.31879;stroke-linecap:round;stroke-linejoin:round;stroke:rgb(0%,0%,0%);stroke-opacity:1;stroke-miterlimit:10;\" transform=\"matrix(0.70834,0.71065,0.71065,-0.70834,230.49719,57.04658)\"/>\n",
       "<g style=\"fill:rgb(0%,0%,0%);fill-opacity:1;\">\n",
       "  <use x=\"217.427\" xlink:href=\"#glyph0-18\" y=\"81.589\"/>\n",
       "  <use x=\"220.747535\" xlink:href=\"#glyph0-19\" y=\"81.589\"/>\n",
       "  <use x=\"226.282755\" xlink:href=\"#glyph0-15\" y=\"81.589\"/>\n",
       "  <use x=\"230.185106\" xlink:href=\"#glyph0-13\" y=\"81.589\"/>\n",
       "  <use x=\"235.166406\" xlink:href=\"#glyph0-8\" y=\"81.589\"/>\n",
       "</g>\n",
       "<g style=\"fill:rgb(0%,0%,0%);fill-opacity:1;\">\n",
       "  <use x=\"239.314832\" xlink:href=\"#glyph0-20\" y=\"81.589\"/>\n",
       "</g>\n",
       "<g style=\"fill:rgb(0%,0%,0%);fill-opacity:1;\">\n",
       "  <use x=\"244.29414\" xlink:href=\"#glyph0-2\" y=\"81.589\"/>\n",
       "  <use x=\"248.721519\" xlink:href=\"#glyph0-4\" y=\"81.589\"/>\n",
       "  <use x=\"252.595974\" xlink:href=\"#glyph0-14\" y=\"81.589\"/>\n",
       "</g>\n",
       "<g style=\"fill:rgb(0%,0%,0%);fill-opacity:1;\">\n",
       "  <use x=\"217.15\" xlink:href=\"#glyph0-18\" y=\"94.793\"/>\n",
       "  <use x=\"220.470535\" xlink:href=\"#glyph0-8\" y=\"94.793\"/>\n",
       "</g>\n",
       "<g style=\"fill:rgb(0%,0%,0%);fill-opacity:1;\">\n",
       "  <use x=\"224.618961\" xlink:href=\"#glyph0-21\" y=\"94.793\"/>\n",
       "  <use x=\"230.154182\" xlink:href=\"#glyph0-13\" y=\"94.793\"/>\n",
       "  <use x=\"235.135482\" xlink:href=\"#glyph0-6\" y=\"94.793\"/>\n",
       "  <use x=\"240.670702\" xlink:href=\"#glyph0-4\" y=\"94.793\"/>\n",
       "  <use x=\"244.545157\" xlink:href=\"#glyph0-2\" y=\"94.793\"/>\n",
       "  <use x=\"248.972537\" xlink:href=\"#glyph0-15\" y=\"94.793\"/>\n",
       "  <use x=\"252.874887\" xlink:href=\"#glyph0-14\" y=\"94.793\"/>\n",
       "</g>\n",
       "<path d=\"M 19.455938 -21.961969 L -19.454219 -21.961969 C -21.657344 -21.961969 -23.438594 -23.747125 -23.438594 -25.946344 L -23.438594 -30.747125 C -23.438594 -32.946344 -21.657344 -34.7315 -19.454219 -34.7315 L 19.455938 -34.7315 C 21.655156 -34.7315 23.440313 -32.946344 23.440313 -30.747125 L 23.440313 -25.946344 C 23.440313 -23.747125 21.655156 -21.961969 19.455938 -21.961969 Z M 19.455938 -21.961969 \" style=\"fill-rule:nonzero;fill:rgb(100%,100%,100%);fill-opacity:1;stroke-width:0.3985;stroke-linecap:butt;stroke-linejoin:miter;stroke:rgb(0%,0%,0%);stroke-opacity:1;stroke-miterlimit:10;\" transform=\"matrix(1,0,0,-1,24.38,63.956)\"/>\n",
       "<g style=\"fill:rgb(0%,0%,0%);fill-opacity:1;\">\n",
       "  <use x=\"4.261\" xlink:href=\"#glyph0-14\" y=\"95.366\"/>\n",
       "  <use x=\"8.190249\" xlink:href=\"#glyph0-2\" y=\"95.366\"/>\n",
       "  <use x=\"12.617629\" xlink:href=\"#glyph0-10\" y=\"95.366\"/>\n",
       "</g>\n",
       "<g style=\"fill:rgb(0%,0%,0%);fill-opacity:1;\">\n",
       "  <use x=\"17.873897\" xlink:href=\"#glyph0-4\" y=\"95.366\"/>\n",
       "  <use x=\"21.748352\" xlink:href=\"#glyph0-2\" y=\"95.366\"/>\n",
       "  <use x=\"26.175731\" xlink:href=\"#glyph0-10\" y=\"95.366\"/>\n",
       "  <use x=\"31.710952\" xlink:href=\"#glyph0-8\" y=\"95.366\"/>\n",
       "  <use x=\"36.138331\" xlink:href=\"#glyph0-2\" y=\"95.366\"/>\n",
       "  <use x=\"40.565711\" xlink:href=\"#glyph0-14\" y=\"95.366\"/>\n",
       "</g>\n",
       "<g style=\"fill:rgb(0%,0%,0%);fill-opacity:1;\">\n",
       "  <use x=\"3.32\" xlink:href=\"#glyph0-14\" y=\"123.976\"/>\n",
       "  <use x=\"7.249249\" xlink:href=\"#glyph0-2\" y=\"123.976\"/>\n",
       "  <use x=\"11.676629\" xlink:href=\"#glyph0-10\" y=\"123.976\"/>\n",
       "</g>\n",
       "<g style=\"fill:rgb(0%,0%,0%);fill-opacity:1;\">\n",
       "  <use x=\"16.932897\" xlink:href=\"#glyph0-4\" y=\"123.976\"/>\n",
       "  <use x=\"20.807352\" xlink:href=\"#glyph0-7\" y=\"123.976\"/>\n",
       "  <use x=\"23.574962\" xlink:href=\"#glyph0-22\" y=\"123.976\"/>\n",
       "  <use x=\"31.876797\" xlink:href=\"#glyph0-2\" y=\"123.976\"/>\n",
       "  <use x=\"36.304176\" xlink:href=\"#glyph0-10\" y=\"123.976\"/>\n",
       "</g>\n",
       "<g style=\"fill:rgb(0%,0%,0%);fill-opacity:1;\">\n",
       "  <use x=\"41.570406\" xlink:href=\"#glyph0-4\" y=\"123.976\"/>\n",
       "</g>\n",
       "<path d=\"M 82.834844 -21.567437 L 58.897344 -21.567437 C 56.698125 -21.567437 54.912969 -23.352594 54.912969 -25.551812 L 54.912969 -31.141656 C 54.912969 -33.340875 56.698125 -35.126031 58.897344 -35.126031 L 82.834844 -35.126031 C 85.037969 -35.126031 86.819219 -33.340875 86.819219 -31.141656 L 86.819219 -25.551812 C 86.819219 -23.352594 85.037969 -21.567437 82.834844 -21.567437 Z M 82.834844 -21.567437 \" style=\"fill-rule:nonzero;fill:rgb(100%,100%,100%);fill-opacity:1;stroke-width:0.3985;stroke-linecap:butt;stroke-linejoin:miter;stroke:rgb(0%,0%,0%);stroke-opacity:1;stroke-miterlimit:10;\" transform=\"matrix(1,0,0,-1,24.38,63.956)\"/>\n",
       "<g style=\"fill:rgb(0%,0%,0%);fill-opacity:1;\">\n",
       "  <use x=\"82.613\" xlink:href=\"#glyph0-23\" y=\"95.762\"/>\n",
       "</g>\n",
       "<g style=\"fill:rgb(0%,0%,0%);fill-opacity:1;\">\n",
       "  <use x=\"89.529037\" xlink:href=\"#glyph0-5\" y=\"95.762\"/>\n",
       "  <use x=\"94.510337\" xlink:href=\"#glyph0-15\" y=\"95.762\"/>\n",
       "  <use x=\"98.412687\" xlink:href=\"#glyph0-24\" y=\"95.762\"/>\n",
       "  <use x=\"103.947908\" xlink:href=\"#glyph0-14\" y=\"95.762\"/>\n",
       "</g>\n",
       "<g style=\"fill:rgb(0%,0%,0%);fill-opacity:1;\">\n",
       "  <use x=\"61.595\" xlink:href=\"#glyph0-10\" y=\"124.108\"/>\n",
       "  <use x=\"67.130221\" xlink:href=\"#glyph0-13\" y=\"124.108\"/>\n",
       "  <use x=\"72.111521\" xlink:href=\"#glyph0-22\" y=\"124.108\"/>\n",
       "  <use x=\"80.413355\" xlink:href=\"#glyph0-2\" y=\"124.108\"/>\n",
       "  <use x=\"84.840735\" xlink:href=\"#glyph0-24\" y=\"124.108\"/>\n",
       "</g>\n",
       "<g style=\"fill:rgb(0%,0%,0%);fill-opacity:1;\">\n",
       "  <use x=\"93.693501\" xlink:href=\"#glyph0-2\" y=\"124.108\"/>\n",
       "  <use x=\"98.12088\" xlink:href=\"#glyph0-10\" y=\"124.108\"/>\n",
       "</g>\n",
       "<g style=\"fill:rgb(0%,0%,0%);fill-opacity:1;\">\n",
       "  <use x=\"103.387111\" xlink:href=\"#glyph0-4\" y=\"124.108\"/>\n",
       "  <use x=\"107.261566\" xlink:href=\"#glyph0-7\" y=\"124.108\"/>\n",
       "  <use x=\"110.029176\" xlink:href=\"#glyph0-4\" y=\"124.108\"/>\n",
       "  <use x=\"113.903631\" xlink:href=\"#glyph0-7\" y=\"124.108\"/>\n",
       "</g>\n",
       "<g style=\"fill:rgb(0%,0%,0%);fill-opacity:1;\">\n",
       "  <use x=\"116.661279\" xlink:href=\"#glyph0-4\" y=\"124.108\"/>\n",
       "  <use x=\"120.535734\" xlink:href=\"#glyph0-2\" y=\"124.108\"/>\n",
       "</g>\n",
       "<g style=\"fill:rgb(0%,0%,0%);fill-opacity:1;\">\n",
       "  <use x=\"124.973076\" xlink:href=\"#glyph0-14\" y=\"124.108\"/>\n",
       "</g>\n",
       "<g style=\"fill:rgb(0%,0%,0%);fill-opacity:1;\">\n",
       "  <use x=\"154.614\" xlink:href=\"#glyph0-15\" y=\"93.479\"/>\n",
       "  <use x=\"158.51635\" xlink:href=\"#glyph0-2\" y=\"93.479\"/>\n",
       "  <use x=\"162.94373\" xlink:href=\"#glyph0-9\" y=\"93.479\"/>\n",
       "  <use x=\"167.92503\" xlink:href=\"#glyph0-2\" y=\"93.479\"/>\n",
       "  <use x=\"172.352409\" xlink:href=\"#glyph0-3\" y=\"93.479\"/>\n",
       "</g>\n",
       "<g style=\"fill:rgb(0%,0%,0%);fill-opacity:1;\">\n",
       "  <use x=\"148.207\" xlink:href=\"#glyph0-6\" y=\"122.744\"/>\n",
       "</g>\n",
       "<g style=\"fill:rgb(0%,0%,0%);fill-opacity:1;\">\n",
       "  <use x=\"154.021173\" xlink:href=\"#glyph0-5\" y=\"122.744\"/>\n",
       "  <use x=\"159.002473\" xlink:href=\"#glyph0-14\" y=\"122.744\"/>\n",
       "</g>\n",
       "<g style=\"fill:rgb(0%,0%,0%);fill-opacity:1;\">\n",
       "  <use x=\"166.249269\" xlink:href=\"#glyph0-4\" y=\"122.744\"/>\n",
       "  <use x=\"170.123724\" xlink:href=\"#glyph0-13\" y=\"122.744\"/>\n",
       "  <use x=\"175.105024\" xlink:href=\"#glyph0-9\" y=\"122.744\"/>\n",
       "  <use x=\"180.086324\" xlink:href=\"#glyph0-14\" y=\"122.744\"/>\n",
       "</g>\n",
       "<path d=\"M 13.483281 -0.00103125 L 56.553594 -0.00103125 \" style=\"fill:none;stroke-width:0.3985;stroke-linecap:butt;stroke-linejoin:miter;stroke:rgb(0%,0%,0%);stroke-opacity:1;stroke-miterlimit:10;\" transform=\"matrix(1,0,0,-1,24.38,63.956)\"/>\n",
       "<path d=\"M 13.483281 -5.391656 L 54.71375 -21.88775 \" style=\"fill:none;stroke-width:0.3985;stroke-linecap:butt;stroke-linejoin:miter;stroke:rgb(0%,0%,0%);stroke-opacity:1;stroke-miterlimit:10;\" transform=\"matrix(1,0,0,-1,24.38,63.956)\"/>\n",
       "<path d=\"M 87.018438 -28.348687 L 126.71375 -28.348687 \" style=\"fill:none;stroke-width:0.3985;stroke-linecap:butt;stroke-linejoin:miter;stroke:rgb(0%,0%,0%);stroke-opacity:1;stroke-miterlimit:10;\" transform=\"matrix(1,0,0,-1,24.38,63.956)\"/>\n",
       "<path d=\"M 70.866094 -35.32525 L 70.866094 -49.715875 \" style=\"fill:none;stroke-width:0.3985;stroke-linecap:butt;stroke-linejoin:miter;stroke:rgb(0%,0%,0%);stroke-opacity:1;stroke-miterlimit:10;\" transform=\"matrix(1,0,0,-1,24.38,63.956)\"/>\n",
       "<path d=\"M 87.018438 -34.801812 L 122.854375 -49.141656 \" style=\"fill:none;stroke-width:0.3985;stroke-linecap:butt;stroke-linejoin:miter;stroke:rgb(0%,0%,0%);stroke-opacity:1;stroke-miterlimit:10;\" transform=\"matrix(1,0,0,-1,24.38,63.956)\"/>\n",
       "<path d=\"M -0.00109375 -6.922906 L -0.00109375 -21.76275 \" style=\"fill:none;stroke-width:0.3985;stroke-linecap:butt;stroke-linejoin:miter;stroke:rgb(0%,0%,0%);stroke-opacity:1;stroke-miterlimit:10;\" transform=\"matrix(1,0,0,-1,24.38,63.956)\"/>\n",
       "<path d=\"M -0.00109375 -34.930719 L -0.00109375 -49.848687 \" style=\"fill:none;stroke-width:0.3985;stroke-linecap:butt;stroke-linejoin:miter;stroke:rgb(0%,0%,0%);stroke-opacity:1;stroke-miterlimit:10;\" transform=\"matrix(1,0,0,-1,24.38,63.956)\"/>\n",
       "</g>\n",
       "</svg>"
      ]
     },
     "metadata": {
      "isolated": "true"
     },
     "output_type": "display_data"
    }
   ],
   "source": [
    "%%tikz --scale 2 --size 600,300 -f svg\n",
    "\\tikzset{boxed/.style={draw,rectangle,rounded corners, fill={#1}}}\n",
    "\\node[boxed=green] (text) {Text};\n",
    "%\n",
    "\\node[boxed=white,right of=text,node distance=2.5cm] (topic) {topic};\n",
    "\\node[right of=topic, node distance=2.5cm] (clean) {gen. cleaning}\n",
    "    edge[<-,dashed,draw,bend right=45] (text.north) ;\n",
    "%\n",
    "\\node[right of=clean,node distance=2.5cm] (other) {structures:}\n",
    "    edge[<-, dashed,draw,bend right = 45] (text.north);\n",
    "\\node[below of=other,node distance=0.5cm] (bra) {-brackets};\n",
    "\\node[below of=bra, node distance=0.5cm] (chp) {-chapters};\n",
    "%\n",
    "\\node[boxed=white,below of=text] (sentences) {sentences};\n",
    "\\node[below of=sentences] (sentiment) {sentiment};\n",
    "%\n",
    "\\node[boxed=white,below of=topic] (words) {words};\n",
    "\\node[below of=words] (ne) {named entitites};\n",
    "\\node[right of=words, node distance=2.5cm] (regex) {regex};\n",
    "\\node[below of=regex] (pos) {pos tags};\n",
    "%\n",
    "\\draw[] (text) -- (topic);\n",
    "%\n",
    "\\draw[] (text) -- (words);\n",
    "\\draw[] (words) -- (regex);\n",
    "\\draw[] (words) -- (ne);\n",
    "\\draw[] (words) -- (pos);\n",
    "%\n",
    "\\draw[] (text) -- (sentences);\n",
    "\\draw[] (sentences) -- (sentiment);"
   ]
  },
  {
   "cell_type": "markdown",
   "metadata": {},
   "source": [
    "## links\n",
    "\n",
    "- Multi-word-expressions: MWETokenizer\n",
    "- Vortrainierte sprachenabhängige tagger: NLTKTagger\n",
    "- Spacy: eigener Tagger in nlp\n",
    "- Klammern Tagger: SExprTokenizer\n",
    "- PunktSentenceTokenizer: erkennt Sätze, kann ohne Kontrolle trainiert werden."
   ]
  },
  {
   "cell_type": "code",
   "execution_count": 27,
   "metadata": {
    "collapsed": false
   },
   "outputs": [],
   "source": [
    "from textblob import TextBlob\n",
    "from textblob.taggers import NLTKTagger\n",
    "\n",
    "from nltk.tokenize import MWETokenizer\n",
    "\n",
    "import spacy\n",
    "nlp = spacy.en.English()\n",
    "\n",
    "from nltk.tokenize import SExprTokenizer # Klammer Erkennung\n",
    "nltk_tagger = NLTKTagger()\n",
    "\n",
    "import nltk.data\n",
    "from nltk import PunktSentenceTokenizer # Verbesserte Satzerkennung"
   ]
  },
  {
   "cell_type": "code",
   "execution_count": 28,
   "metadata": {
    "collapsed": false
   },
   "outputs": [],
   "source": [
    "text = dfPoleisGesamt['Beschreibung'].iloc[2]"
   ]
  },
  {
   "cell_type": "markdown",
   "metadata": {},
   "source": [
    "## Textblob\n",
    "\n",
    "Generate blob using TextBlob. This allows identifying different parts of a text  (words, sentences)  or tagging words with their type (noun,verb,etc)"
   ]
  },
  {
   "cell_type": "code",
   "execution_count": 29,
   "metadata": {
    "collapsed": false
   },
   "outputs": [],
   "source": [
    "blob = TextBlob(text)"
   ]
  },
  {
   "cell_type": "markdown",
   "metadata": {},
   "source": [
    "Return noun phrases that contain more than one word."
   ]
  },
  {
   "cell_type": "code",
   "execution_count": 30,
   "metadata": {
    "collapsed": false
   },
   "outputs": [
    {
     "data": {
      "text/plain": [
       "['a. paus',\n",
       " '7.24.5 locates',\n",
       " 'tidal wave',\n",
       " 'sonar investigation suggests',\n",
       " 'lie inland',\n",
       " 'massive sedimentary deposits',\n",
       " 'nea keryneia',\n",
       " 'inland cities',\n",
       " 'c 5e',\n",
       " 'urban sense',\n",
       " \"'s list\",\n",
       " 'political sense',\n",
       " 'urban sense',\n",
       " 'internal collective use',\n",
       " 'collective use',\n",
       " 'c 5l',\n",
       " 'early physical existence',\n",
       " 'c 5e inscription',\n",
       " 'small temples',\n",
       " 'nea keryneia',\n",
       " 'important sanctuary',\n",
       " 'poseidon helikonios',\n",
       " 'common place',\n",
       " 'zeus homarios',\n",
       " 'bronze coins',\n",
       " 'c 4f',\n",
       " 'depicts obv']"
      ]
     },
     "execution_count": 30,
     "metadata": {},
     "output_type": "execute_result"
    }
   ],
   "source": [
    "[x for x in blob.noun_phrases if ' ' in x]"
   ]
  },
  {
   "cell_type": "markdown",
   "metadata": {},
   "source": [
    "Return tags  of first 10 words, for definition see e.g. https://www.ling.upenn.edu/courses/Fall_2003/ling001/penn_treebank_pos.html"
   ]
  },
  {
   "cell_type": "code",
   "execution_count": 31,
   "metadata": {
    "collapsed": false
   },
   "outputs": [
    {
     "data": {
      "text/plain": [
       "[('Identifier', 'NN'),\n",
       " ('236.', 'CD'),\n",
       " ('Helikeus', 'NNP'),\n",
       " ('Map', 'NNP'),\n",
       " ('58', 'CD'),\n",
       " ('Lat', 'NNP'),\n",
       " ('38.15', 'CD'),\n",
       " ('long', 'RB'),\n",
       " ('22.10', 'CD'),\n",
       " ('Size', 'NN')]"
      ]
     },
     "execution_count": 31,
     "metadata": {},
     "output_type": "execute_result"
    }
   ],
   "source": [
    "blob.tags[:10]"
   ]
  },
  {
   "cell_type": "markdown",
   "metadata": {},
   "source": [
    "If we are interested in proper nouns only, we can return a list of NNP tagged words"
   ]
  },
  {
   "cell_type": "code",
   "execution_count": 32,
   "metadata": {
    "collapsed": false
   },
   "outputs": [
    {
     "data": {
      "text/plain": [
       "[('Helikeus', 'NNP'),\n",
       " ('Map', 'NNP'),\n",
       " ('Lat', 'NNP'),\n",
       " ('Paus', 'NNP'),\n",
       " ('Aigion', 'NNP'),\n",
       " ('Strabo', 'NNP'),\n",
       " ('Herakleides', 'NNP'),\n",
       " ('Selinous', 'NNP'),\n",
       " ('Kerynitis', 'NNP'),\n",
       " ('Morgan', 'NNP')]"
      ]
     },
     "execution_count": 32,
     "metadata": {},
     "output_type": "execute_result"
    }
   ],
   "source": [
    "[x for x in blob.tags if x[1]=='NNP'][:10]"
   ]
  },
  {
   "cell_type": "markdown",
   "metadata": {},
   "source": [
    "Another option is to tag words for Named Entites, e.g. organizations, geo-locations, persons. This can be done using the spacy package."
   ]
  },
  {
   "cell_type": "code",
   "execution_count": 33,
   "metadata": {
    "collapsed": false
   },
   "outputs": [],
   "source": [
    "doc = nlp(text)"
   ]
  },
  {
   "cell_type": "code",
   "execution_count": 34,
   "metadata": {
    "collapsed": false
   },
   "outputs": [
    {
     "name": "stdout",
     "output_type": "stream",
     "text": [
      "CARDINAL 236\n",
      "CARDINAL 58\n",
      "CARDINAL 22.10\n",
      "CARDINAL 1\n",
      "CARDINAL 2\n",
      "CARDINAL 40\n",
      "CARDINAL 231\n",
      "ORG Herakleides\n",
      "CARDINAL 12\n",
      "PERSON Hall\n",
      "DATE 1996\n",
      "CARDINAL 175\n",
      "PERSON Barr\n",
      "CARDINAL 373\n",
      "CARDINAL 2.41.7;Strabo 8.7.2\n",
      "CARDINAL 11.19\n",
      "DATE 1983\n",
      "DATE 1995\n",
      "CARDINAL 2.575\n",
      "CARDINAL 36\n"
     ]
    }
   ],
   "source": [
    "for ent in doc.ents[:20]:\n",
    "    print(ent.label_, ent.text)"
   ]
  },
  {
   "cell_type": "markdown",
   "metadata": {},
   "source": [
    "Return list of words"
   ]
  },
  {
   "cell_type": "code",
   "execution_count": 35,
   "metadata": {
    "collapsed": false
   },
   "outputs": [
    {
     "data": {
      "text/plain": [
       "WordList(['Identifier', '236', 'Helikeus', 'Map', '58', 'Lat', '38.15', 'long', '22.10', 'Size', 'of', 'territory', '1', 'or', '2', 'Type', 'A', 'Paus', '7.24.5', 'locates', 'Helike', '40', 'stades', 'from', 'Aigion', 'no', '231', 'while', 'Strabo', '8.7.2', 'following', 'Herakleides', 'places', 'it', '12', 'stades', 'from', 'the', 'sea', 'This', 'should', 'put', 'it', 'between', 'the', 'rivers', 'Selinous', 'and', 'Kerynitis', 'Morgan', 'and', 'Hall', '1996', '175', 'Barr', 'The', 'city', 'which', 'was', 'overwhelmed', 'by', 'a', 'tidal', 'wave', 'occasioned', 'by', 'an', 'earthquake', 'in', '373', 'Diod', '15.48.1\\xad49.4', 'Polyb', '2.41.7', 'Strabo', '8.7.2', 'Paus', '7.24.6', 'Ael', 'NA', '11.19', 'was', 'normally', 'supposed', 'to', 'lie', 'under', 'water', 'cf', 'Ov', 'Met', '15.293\\xad95', 'but', 'sonar', 'investigation', 'suggests', 'that', 'it', 'may', 'actually', 'lie', 'inland', 'under', 'massive', 'sedimentary', 'deposits', 'in', 'the', 'vicinity', 'of', 'Nea', 'Keryneia', 'Petropoulos', '1983', 'cf', 'Ptol', 'Geog', '3.14.36', 'who', 'lists', 'Helike', 'among', 'the', 'inland', 'cities', 'of', 'Achaia', 'However', 'Rizakis', '1995', '203\\xad4', 'finds', 'all', 'candidates', 'for', 'ancient', 'Helike', 'unconvincing', 'The', 'toponym', 'is', 'usually', 'Hom', 'Il', '2.575', 'SEG', '36', '718', 'C', '5e', 'Hdt', '1.145', 'or', 'Syll', '³90.12', 'though', 'Theophr', 'Phys', 'Op', '12.122', 'cites', 'a', 'verse', 'which', 'gives', 'the', 'toponym', 'as', 'The', 'city', 'ethnic', 'is', 'Diod', '15.49.3', 'Helike', 'is', 'called', 'a', 'polis', 'in', 'the', 'urban', 'sense', 'in', 'Heraclid', 'Pont', 'fr', '46a', 'r', '373', 'and', 'Theophr', 'Phys', 'op', '12.122', 'r', '373', 'but', 'is', 'absent', 'from', 'Ps.-Skylax', \"'s\", 'list', 'of', 'Achaian', 'poleis', '42', 'which', 'may', 'suggest', 'that', 'this', 'chapter', 'was', 'composed', 'after', '373', 'Retrospective', 'evidence', 'is', 'provided', 'by', 'Polyb', '2.41.7', 'rC', '4', 'who', 'calls', 'it', 'a', 'polis', 'in', 'the', 'political', 'sense', 'and', 'by', 'Diod', '15.48.3', 'r', '373', 'who', 'describes', 'it', 'as', 'a', 'polis', 'in', 'the', 'urban', 'sense', 'The', 'internal', 'collective', 'use', 'of', 'the', 'city-ethnic', 'is', 'probably', 'found', 'abbreviated', 'on', 'C', '4', 'coins', 'infra', 'and', 'the', 'external', 'collective', 'use', 'is', 'found', 'in', 'Diod', '15.49.3', 'r', 'ante', '373', 'A', 'citizen', 'of', 'Helike', 'served', 'as', 'Delphic', 'theorodokos', 'in', 'C', '5l', 'Syll', '³90.12', 'According', 'to', 'Polyb', '2.41.6\\xad7', 'rC', '4', 'Helike', 'had', 'been', 'a', 'member', 'of', 'the', 'Achaian', 'Confederacy', 'The', 'early', 'physical', 'existence', 'of', 'Helike', 'is', 'attested', 'in', 'Hom', 'Il', '2.575', 'and', 'in', 'a', 'C', '5e', 'inscription', 'SEG', '36', '718', 'see', 'also', 'Soter', 'and', 'Katsonopoulou', '1999', 'Archaeological', 'investigations', 'have', 'revealed', 'the', 'foundations', 'of', 'two', 'small', 'temples', 'one', 'Archaic', 'the', 'other', 'Classical', 'at', 'Nea', 'Keryneia', 'which', 'may', 'possibly', 'be', 'associated', 'with', 'the', 'acropolis', 'of', 'ancient', 'Helike', 'Petropoulos', '1990', 'The', 'most', 'important', 'sanctuary', 'at', 'Helike', 'was', 'however', 'that', 'of', 'Poseidon', 'Helikonios', 'Hom', 'Il', '8.203', 'Diod', '15.49.2\\xad3', 'Strabo', '8.7.2', 'Paus', '7.24.5\\xad6', 'and', 'it', 'is', 'quite', 'likely', 'that', 'this', 'sanctuary', 'acted', 'as', 'a', 'common', 'place', 'of', 'union', 'for', 'the', 'Achaians', 'prior', 'to', 'the', 'destruction', 'of', 'Helike', 'when', 'that', 'function', 'was', 'assumed', 'by', 'the', 'sanctuary', 'of', 'Zeus', 'Homarios', 'near', 'Aigion', 'Morgan', 'and', 'Hall', '1996', '195\\xad96', 'contra', 'Aymard', '1938', '286\\xad87', '293', 'Walbank', '2000', 'According', 'to', 'Strabo', '6.1.13', 'Is', 'of', 'Helike', 'was', 'the', 'founder', 'of', 'Sybaris', 'no', '70', 'in', 'South', 'Italy', 'The', 'reading', 'lt', 'gt', 'is', 'however', 'unsure', 'and', 'Bérard', '1957', '141', 'n', '2', 'proposed', 'either', 'lt', 'gt', 'or', 'lt', 'gt', 'A', 'series', 'of', 'bronze', 'coins', 'dating', 'to', 'C', '4f', 'depicts', 'obv', 'head', 'of', 'Poseidon', 'Legend', 'retr', 'Rev', 'trident', 'between', 'dolphins', 'in', 'wreath', 'Head', 'HN', '²414', '236'])"
      ]
     },
     "execution_count": 35,
     "metadata": {},
     "output_type": "execute_result"
    }
   ],
   "source": [
    "blob.words"
   ]
  },
  {
   "cell_type": "markdown",
   "metadata": {},
   "source": [
    "Return list of sentences"
   ]
  },
  {
   "cell_type": "code",
   "execution_count": 36,
   "metadata": {
    "collapsed": false
   },
   "outputs": [
    {
     "data": {
      "text/plain": [
       "[Sentence(\"Identifier: 236. , (Helikeus) Map  58.\"),\n",
       " Sentence(\"Lat.\"),\n",
       " Sentence(\"38.15,long.\"),\n",
       " Sentence(\"22.10.\"),\n",
       " Sentence(\"Size of  territory: 1  or 2.\"),\n",
       " Sentence(\"Type:  A.  Paus.\"),\n",
       " Sentence(\"7.24.5  locates  Helike  40 stades  from  Aigion  (no.\"),\n",
       " Sentence(\"231),  while  Strabo  8.7.2  (following Herakleides)  places  it  12  stades  from  the  sea.\"),\n",
       " Sentence(\"This  should  put it  between  the  rivers  Selinous  and  Kerynitis  (Morgan  and Hall ( 1996)  175;  Barr.).\"),\n",
       " Sentence(\"The  city,  which  was  overwhelmed  by a  tidal  wave  occasioned  by  an  earthquake  in  373  (Diod.\")]"
      ]
     },
     "execution_count": 36,
     "metadata": {},
     "output_type": "execute_result"
    }
   ],
   "source": [
    "blob.sentences[:10]"
   ]
  },
  {
   "cell_type": "markdown",
   "metadata": {},
   "source": [
    "## Training a tokenizer from NLTK"
   ]
  },
  {
   "cell_type": "markdown",
   "metadata": {},
   "source": [
    "Not all sentences are correct. We have to use a different tokenizer to improve this.\n",
    "\n",
    "By calling PunktSentenceTokenizer from the NLTK package with an input text, we can train the detection of sentences. \n",
    "\n",
    "This is usually a problem, since a lot of citations (parenthesis) or special characters hinder the detection of a sentence end."
   ]
  },
  {
   "cell_type": "markdown",
   "metadata": {},
   "source": [
    "To generate a text of all cities in most of the regions we can use"
   ]
  },
  {
   "cell_type": "code",
   "execution_count": 37,
   "metadata": {
    "collapsed": true
   },
   "outputs": [],
   "source": [
    "mainList = dfPoleisGesamt['Quellen'].values.tolist()\n",
    "\n",
    "quellenListe = []\n",
    "for sublist in mainList:\n",
    "    if sublist:\n",
    "        for k in sublist:\n",
    "            quellenListe.append(k)\n",
    "            \n",
    "uniqueSources = list(set(quellenListe))\n",
    "\n",
    "sourcesTrainingSet = ', '.join(uniqueSources)"
   ]
  },
  {
   "cell_type": "code",
   "execution_count": 38,
   "metadata": {
    "collapsed": false
   },
   "outputs": [],
   "source": [
    "mweTrainingSet = []\n",
    "for i in range(len(uniqueSources)):\n",
    "    tupTemp = tuple(uniqueSources[i].split())\n",
    "    mweTrainingSet.append(tupTemp)"
   ]
  },
  {
   "cell_type": "code",
   "execution_count": 39,
   "metadata": {
    "collapsed": true
   },
   "outputs": [],
   "source": [
    "linkedCitiesSet = dfPoleisGesamt['Beschreibung'].apply(lambda raw: re.findall(\"\\(no\\. \\d{1,4}\\)\", raw))\n",
    "linkedTrainingSet = ', '.join([y for x in linkedCitiesSet.values for y in x])"
   ]
  },
  {
   "cell_type": "code",
   "execution_count": 40,
   "metadata": {
    "collapsed": true
   },
   "outputs": [],
   "source": [
    "locationDataSet = dfPoleisGesamt['Beschreibung'].apply(lambda raw: re.findall(\"Lat\\.\\s\\d+\\.\\d+,long\\.\\s+\\d+\\.\\d+\", raw))\n",
    "locationTrainingSet = ', '.join([y for x in locationDataSet.values for y in x])"
   ]
  },
  {
   "cell_type": "code",
   "execution_count": 41,
   "metadata": {
    "collapsed": false
   },
   "outputs": [],
   "source": [
    "#learningText = ''\n",
    "#for x in list(PoleisRawData2.keys())[:40]:\n",
    "#    for subkey in PoleisRawData2[x]:\n",
    "#        learningText = learningText + PoleisRawData2[x][subkey] "
   ]
  },
  {
   "cell_type": "markdown",
   "metadata": {},
   "source": [
    "### Training of tokenizer"
   ]
  },
  {
   "cell_type": "markdown",
   "metadata": {},
   "source": [
    "Train the tokenizer with the sources, linked locations and the geocoordinates."
   ]
  },
  {
   "cell_type": "code",
   "execution_count": 42,
   "metadata": {
    "collapsed": false
   },
   "outputs": [],
   "source": [
    "trainedTokenizer = PunktSentenceTokenizer(linkedTrainingSet + sourcesTrainingSet)"
   ]
  },
  {
   "cell_type": "markdown",
   "metadata": {},
   "source": [
    "Another tokenizer is used to find multi-word expressions. It is trained using a list of the sources."
   ]
  },
  {
   "cell_type": "code",
   "execution_count": 43,
   "metadata": {
    "collapsed": false
   },
   "outputs": [],
   "source": [
    "tokenizerMultiWords = MWETokenizer(mweTrainingSet)"
   ]
  },
  {
   "cell_type": "markdown",
   "metadata": {},
   "source": [
    "To save the trained state, save tokenizer as pickled data."
   ]
  },
  {
   "cell_type": "code",
   "execution_count": 44,
   "metadata": {
    "collapsed": true
   },
   "outputs": [],
   "source": [
    "# Dump pickled tokenizer\n",
    "#import pickle\n",
    "#out = open(“tokenizerPoleis.pickle”,”wb”)\n",
    "#pickle.dump(trainedTokenizer, out)\n",
    "#out.close()"
   ]
  },
  {
   "cell_type": "markdown",
   "metadata": {},
   "source": [
    "Apply it and print the improved detection results."
   ]
  },
  {
   "cell_type": "markdown",
   "metadata": {
    "collapsed": false
   },
   "source": [
    "### Applying the trained tokenizers"
   ]
  },
  {
   "cell_type": "code",
   "execution_count": 45,
   "metadata": {
    "collapsed": false
   },
   "outputs": [],
   "source": [
    "mweExpressions = ' '.join(tokenizerMultiWords.tokenize(text.split()))"
   ]
  },
  {
   "cell_type": "code",
   "execution_count": 46,
   "metadata": {
    "collapsed": false
   },
   "outputs": [
    {
     "data": {
      "text/plain": [
       "\"Identifier: 236. , (Helikeus) Map 58. Lat. 38.15,long. 22.10. Size of territory: 1 or 2. Type: A. Paus._7.24.5 locates Helike 40 stades from Aigion (no. 231), while Strabo_8.7.2 (following Herakleides) places it 12 stades from the sea. This should put it between the rivers Selinous and Kerynitis (Morgan and Hall_(_1996) 175; Barr.). The city, which was overwhelmed by a tidal wave occasioned by an earthquake in 373 (Diod. 15.48.1\\xad49.4; Polyb. 2.41.7;Strabo 8.7.2; Paus. 7.24.6;Ael. NA 11.19), was normally supposed to lie under water (cf. Ov. Met. 15.293\\xad95), but sonar investigation suggests that it may actually lie inland under massive sedimentary deposits in the vicinity of Nea Keryneia (Petropoulos ( 1983); cf. Ptol. Geog. 3.14.36, who lists Helike among the inland cities of Achaia). However, Rizakis_(_1995) 203\\xad4 finds all candidates for ancient Helike unconvincing. The toponym is usually `, (Hom. Il. 2.575; SEG_36_718 (C 5e); Hdt. 1.145) or ` (Syll. ³90.12), though Theophr._Phys._Op._12.122 cites a verse which gives the toponym as `. The city- ethnic is ` (Diod. 15.49.3). Helike is called a polis in the urban sense in Heraclid. Pont. fr. 46a (r 373) and Theophr._Phys._op._12.122 (r 373),but is absent from Ps.-Skylax's list of Achaian poleis ( 42), which may suggest that this chapter was composed after 373. Retrospective evidence is provided by Polyb._2.41.7 (rC 4), who calls it a polis in the political sense, and by Diod._15.48.3 (r 373), who describes it as a polis in the urban sense. The internal collective use of the city-ethnic is probably found (abbreviated) on C 4 coins (infra), and the external collective use is found in Diod._15.49.3 (r ante 373). A citizen of Helike served as Delphic theorodokos in C 5l (Syll. ³90.12).According to Polyb. 2.41.6\\xad7 (rC 4), Helike had been a member of the Achaian Confederacy. The early physical existence of Helike is attested in Hom. Il. 2.575 and in a C 5e inscription (SEG 36 718; see also Soter and Katsonopoulou ( 1999)). Archaeological investigations have revealed the foundations of two small temples, one Archaic, the other Classical, at Nea Keryneia, which may possibly be associated with the acropolis of ancient Helike (Petropoulos ( 1990)). The most important sanctuary at Helike was, however, that of Poseidon Helikonios (Hom. Il. 8.203;Diod. 15.49.2\\xad3;Strabo 8.7.2; Paus. 7.24.5\\xad6), and it is quite likely that this sanctuary acted as a common place of union for the Achaians prior to the destruction of Helike, when that function was assumed by the sanctuary of Zeus Homarios near Aigion (Morgan and Hall_(_1996) 195\\xad96, contra Aymard_(_1938) 286\\xad87, 293; Walbank ( 2000)). According to Strabo 6.1.13, Is of Helike was the founder of Sybaris (no. 70) in South Italy. The reading ( ' &lt;... &gt; `) is, however, unsure, and Bérard ( 1957) 141 n. 2 proposed either &lt; &gt; or &lt; &gt;. A series of bronze coins, dating to C 4f, depicts obv. head of Poseidon. Legend: (retr.). Rev. trident between dolphins in wreath (Head, HN ²414). 236.\""
      ]
     },
     "execution_count": 46,
     "metadata": {},
     "output_type": "execute_result"
    }
   ],
   "source": [
    "mweExpressions"
   ]
  },
  {
   "cell_type": "code",
   "execution_count": 47,
   "metadata": {
    "collapsed": false
   },
   "outputs": [],
   "source": [
    "sentences = trainedTokenizer.tokenize(mweExpressions)"
   ]
  },
  {
   "cell_type": "code",
   "execution_count": 48,
   "metadata": {
    "collapsed": false
   },
   "outputs": [
    {
     "data": {
      "text/plain": [
       "['Identifier: 236. , (Helikeus) Map 58.',\n",
       " 'Lat.',\n",
       " '38.15,long.',\n",
       " '22.10.',\n",
       " 'Size of territory: 1 or 2.',\n",
       " 'Type: A. Paus._7.24.5 locates Helike 40 stades from Aigion (no. 231), while Strabo_8.7.2 (following Herakleides) places it 12 stades from the sea.',\n",
       " 'This should put it between the rivers Selinous and Kerynitis (Morgan and Hall_(_1996) 175; Barr.).',\n",
       " 'The city, which was overwhelmed by a tidal wave occasioned by an earthquake in 373 (Diod. 15.48.1\\xad49.4; Polyb. 2.41.7;Strabo 8.7.2; Paus.',\n",
       " '7.24.6;Ael.',\n",
       " 'NA 11.19), was normally supposed to lie under water (cf. Ov.',\n",
       " 'Met. 15.293\\xad95), but sonar investigation suggests that it may actually lie inland under massive sedimentary deposits in the vicinity of Nea Keryneia (Petropoulos ( 1983); cf. Ptol. Geog. 3.14.36, who lists Helike among the inland cities of Achaia).',\n",
       " 'However, Rizakis_(_1995) 203\\xad4 finds all candidates for ancient Helike unconvincing.',\n",
       " 'The toponym is usually `, (Hom.',\n",
       " 'Il. 2.575; SEG_36_718 (C 5e); Hdt. 1.145) or ` (Syll. ³90.12), though Theophr._Phys._Op._12.122 cites a verse which gives the toponym as `.',\n",
       " 'The city- ethnic is ` (Diod. 15.49.3).',\n",
       " 'Helike is called a polis in the urban sense in Heraclid.',\n",
       " 'Pont.',\n",
       " \"fr. 46a (r 373) and Theophr._Phys._op._12.122 (r 373),but is absent from Ps.-Skylax's list of Achaian poleis ( 42), which may suggest that this chapter was composed after 373.\",\n",
       " 'Retrospective evidence is provided by Polyb._2.41.7 (rC 4), who calls it a polis in the political sense, and by Diod._15.48.3 (r 373), who describes it as a polis in the urban sense.',\n",
       " 'The internal collective use of the city-ethnic is probably found (abbreviated) on C 4 coins (infra), and the external collective use is found in Diod._15.49.3 (r ante 373).',\n",
       " 'A citizen of Helike served as Delphic theorodokos in C 5l (Syll. ³90.12).According to Polyb. 2.41.6\\xad7 (rC 4), Helike had been a member of the Achaian Confederacy.',\n",
       " 'The early physical existence of Helike is attested in Hom.',\n",
       " 'Il. 2.575 and in a C 5e inscription (SEG 36 718; see also Soter and Katsonopoulou ( 1999)).',\n",
       " 'Archaeological investigations have revealed the foundations of two small temples, one Archaic, the other Classical, at Nea Keryneia, which may possibly be associated with the acropolis of ancient Helike (Petropoulos ( 1990)).',\n",
       " 'The most important sanctuary at Helike was, however, that of Poseidon Helikonios (Hom.',\n",
       " 'Il. 8.203;Diod. 15.49.2\\xad3;Strabo 8.7.2; Paus.',\n",
       " '7.24.5\\xad6), and it is quite likely that this sanctuary acted as a common place of union for the Achaians prior to the destruction of Helike, when that function was assumed by the sanctuary of Zeus Homarios near Aigion (Morgan and Hall_(_1996) 195\\xad96, contra Aymard_(_1938) 286\\xad87, 293; Walbank ( 2000)).',\n",
       " 'According to Strabo 6.1.13, Is of Helike was the founder of Sybaris (no. 70) in South Italy.',\n",
       " \"The reading ( ' &lt;... &gt; `) is, however, unsure, and Bérard ( 1957) 141 n.\",\n",
       " '2 proposed either &lt; &gt; or &lt; &gt;.',\n",
       " 'A series of bronze coins, dating to C 4f, depicts obv.',\n",
       " 'head of Poseidon.',\n",
       " 'Legend: (retr.).',\n",
       " 'Rev.',\n",
       " 'trident between dolphins in wreath (Head, HN ²414).',\n",
       " '236.']"
      ]
     },
     "execution_count": 48,
     "metadata": {},
     "output_type": "execute_result"
    }
   ],
   "source": [
    "sentences"
   ]
  },
  {
   "cell_type": "code",
   "execution_count": 49,
   "metadata": {
    "collapsed": false
   },
   "outputs": [
    {
     "data": {
      "text/plain": [
       "['Helike is called a polis in the urban sense in Heraclid.']"
      ]
     },
     "execution_count": 49,
     "metadata": {},
     "output_type": "execute_result"
    }
   ],
   "source": [
    "[x for x in sentences if \"Heraclid\" in x]"
   ]
  },
  {
   "cell_type": "code",
   "execution_count": 50,
   "metadata": {
    "collapsed": false
   },
   "outputs": [
    {
     "name": "stdout",
     "output_type": "stream",
     "text": [
      "Size of territory: 1 or 2.\n",
      "[('Size', 'NN'), ('of', 'IN'), ('territory', 'NN'), ('1', 'CD'), ('or', 'CC'), ('2', 'CD')]\n",
      "\n",
      "----\n",
      "Type: A. Paus._7.24.5 locates Helike 40 stades from Aigion (no. 231), while Strabo_8.7.2 (following Herakleides) places it 12 stades from the sea.\n",
      "[('Type', 'NN'), ('A.', 'NN'), ('Paus._7.24.5', 'NNP'), ('locates', 'VBZ'), ('Helike', 'NNP'), ('40', 'CD'), ('stades', 'NNS'), ('from', 'IN'), ('Aigion', 'NNP'), ('no', 'DT'), ('231', 'CD'), ('while', 'IN'), ('Strabo_8.7.2', 'NNP'), ('following', 'VBG'), ('Herakleides', 'NNP'), ('places', 'VBZ'), ('it', 'PRP'), ('12', 'CD'), ('stades', 'NNS'), ('from', 'IN'), ('the', 'DT'), ('sea', 'NN')]\n",
      "Aigion PERSON, Strabo_8.7.2 ORG, Herakleides ORG, \n",
      "----\n",
      "This should put it between the rivers Selinous and Kerynitis (Morgan and Hall_(_1996) 175; Barr.).\n",
      "[('This', 'DT'), ('should', 'MD'), ('put', 'VB'), ('it', 'PRP'), ('between', 'IN'), ('the', 'DT'), ('rivers', 'NNS'), ('Selinous', 'NNP'), ('and', 'CC'), ('Kerynitis', 'NNP'), ('Morgan', 'NNP'), ('and', 'CC'), ('Hall_', 'NNP'), ('_1996', 'NNP'), ('175', 'CD'), ('Barr', 'NNP')]\n",
      "Selinous GPE, Kerynitis GPE, Morgan ORG, Hall_(_1996 ORG, Barr PERSON, \n",
      "----\n",
      "The city, which was overwhelmed by a tidal wave occasioned by an earthquake in 373 (Diod. 15.48.1­49.4; Polyb. 2.41.7;Strabo 8.7.2; Paus.\n",
      "[('The', 'DT'), ('city', 'NN'), ('which', 'WDT'), ('was', 'VBD'), ('overwhelmed', 'VBN'), ('by', 'IN'), ('a', 'DT'), ('tidal', 'JJ'), ('wave', 'NN'), ('occasioned', 'VBN'), ('by', 'IN'), ('an', 'DT'), ('earthquake', 'NN'), ('in', 'IN'), ('373', 'CD'), ('Diod', 'NNP'), ('15.48.1\\xad49.4', 'CD'), ('Polyb', 'NNP'), ('2.41.7', 'CD'), ('Strabo', 'NNP'), ('8.7.2', 'CD'), ('Paus', 'NNP')]\n",
      "Polyb GPE, Paus GPE, \n",
      "----\n",
      "7.24.6;Ael.\n",
      "[('7.24.6', 'CD'), ('Ael', 'NNP')]\n",
      "\n",
      "----\n",
      "NA 11.19), was normally supposed to lie under water (cf. Ov.\n",
      "[('NA', 'NNP'), ('11.19', 'CD'), ('was', 'VBD'), ('normally', 'RB'), ('supposed', 'VBN'), ('to', 'TO'), ('lie', 'VB'), ('under', 'IN'), ('water', 'NN'), ('cf', 'NN'), ('Ov', 'NNP')]\n",
      "\n",
      "----\n",
      "Met. 15.293­95), but sonar investigation suggests that it may actually lie inland under massive sedimentary deposits in the vicinity of Nea Keryneia (Petropoulos ( 1983); cf. Ptol. Geog. 3.14.36, who lists Helike among the inland cities of Achaia).\n",
      "[('Met', 'NNP'), ('15.293\\xad95', 'CD'), ('but', 'CC'), ('sonar', 'JJ'), ('investigation', 'NN'), ('suggests', 'VBZ'), ('that', 'IN'), ('it', 'PRP'), ('may', 'MD'), ('actually', 'RB'), ('lie', 'VB'), ('inland', 'NN'), ('under', 'IN'), ('massive', 'JJ'), ('sedimentary', 'JJ'), ('deposits', 'NNS'), ('in', 'IN'), ('the', 'DT'), ('vicinity', 'NN'), ('of', 'IN'), ('Nea', 'NNP'), ('Keryneia', 'NNP'), ('Petropoulos', 'NNP'), ('1983', 'CD'), ('cf', 'NN'), ('Ptol', 'NNP'), ('Geog', 'NNP'), ('3.14.36', 'CD'), ('who', 'WP'), ('lists', 'VBZ'), ('Helike', 'NNP'), ('among', 'IN'), ('the', 'DT'), ('inland', 'NN'), ('cities', 'NNS'), ('of', 'IN'), ('Achaia', 'NNP')]\n",
      "Nea Keryneia PERSON, Helike PERSON, Achaia PERSON, \n",
      "----\n",
      "However, Rizakis_(_1995) 203­4 finds all candidates for ancient Helike unconvincing.\n",
      "[('However', 'RB'), ('Rizakis_', 'NNP'), ('_1995', 'NNP'), ('203\\xad4', 'CD'), ('finds', 'VBZ'), ('all', 'DT'), ('candidates', 'NNS'), ('for', 'IN'), ('ancient', 'NN'), ('Helike', 'NNP'), ('unconvincing', 'NN')]\n",
      "\n",
      "----\n",
      "The toponym is usually `, (Hom.\n",
      "[('The', 'DT'), ('toponym', 'NN'), ('is', 'VBZ'), ('usually', 'RB'), ('Hom', 'NNP')]\n",
      "\n",
      "----\n",
      "Il. 2.575; SEG_36_718 (C 5e); Hdt. 1.145) or ` (Syll. ³90.12), though Theophr._Phys._Op._12.122 cites a verse which gives the toponym as `.\n",
      "[('Il', 'NNP'), ('2.575', 'CD'), ('SEG_36_718', 'NNP'), ('C', 'NNP'), ('5e', 'CD'), ('Hdt', 'NNP'), ('1.145', 'CD'), ('or', 'CC'), ('Syll', 'NNP'), ('³90.12', 'CD'), ('though', 'IN'), ('Theophr._Phys._Op._12.122', 'NNP'), ('cites', 'VBZ'), ('a', 'DT'), ('verse', 'NN'), ('which', 'WDT'), ('gives', 'VBZ'), ('the', 'DT'), ('toponym', 'NN'), ('as', 'IN')]\n",
      "Theophr._Phys._Op._12.122 ORG, \n",
      "----\n",
      "The city- ethnic is ` (Diod. 15.49.3).\n",
      "[('The', 'DT'), ('city-', 'JJ'), ('ethnic', 'NN'), ('is', 'VBZ'), ('Diod', 'NNP'), ('15.49.3', 'CD')]\n",
      "\n",
      "----\n",
      "Helike is called a polis in the urban sense in Heraclid.\n",
      "[('Helike', 'NN'), ('is', 'VBZ'), ('called', 'VBN'), ('a', 'DT'), ('polis', 'NN'), ('in', 'IN'), ('the', 'DT'), ('urban', 'JJ'), ('sense', 'NN'), ('in', 'IN'), ('Heraclid', 'NNP')]\n",
      "Helike ORG, Heraclid GPE, \n",
      "----\n",
      "Pont.\n",
      "[('Pont', 'NNP')]\n",
      "\n",
      "----\n",
      "fr. 46a (r 373) and Theophr._Phys._op._12.122 (r 373),but is absent from Ps.-Skylax's list of Achaian poleis ( 42), which may suggest that this chapter was composed after 373.\n",
      "[('fr', 'NN'), ('46a', 'CD'), ('r', 'VB'), ('373', 'CD'), ('and', 'CC'), ('Theophr._Phys._op._12.122', 'NNP'), ('r', 'VB'), ('373', 'CD'), ('but', 'CC'), ('is', 'VBZ'), ('absent', 'JJ'), ('from', 'IN'), ('Ps.-Skylax', 'NNP'), (\"'s\", 'POS'), ('list', 'NN'), ('of', 'IN'), ('Achaian', 'JJ'), ('poleis', 'NN'), ('42', 'CD'), ('which', 'WDT'), ('may', 'MD'), ('suggest', 'VB'), ('that', 'IN'), ('this', 'DT'), ('chapter', 'NN'), ('was', 'VBD'), ('composed', 'VBN'), ('after', 'IN'), ('373', 'CD')]\n",
      "Ps.-Skylax ORG, \n",
      "----\n",
      "Retrospective evidence is provided by Polyb._2.41.7 (rC 4), who calls it a polis in the political sense, and by Diod._15.48.3 (r 373), who describes it as a polis in the urban sense.\n",
      "[('Retrospective', 'JJ'), ('evidence', 'NN'), ('is', 'VBZ'), ('provided', 'VBN'), ('by', 'IN'), ('Polyb._2.41.7', 'NNP'), ('rC', 'VB'), ('4', 'CD'), ('who', 'WP'), ('calls', 'VBZ'), ('it', 'PRP'), ('a', 'DT'), ('polis', 'NN'), ('in', 'IN'), ('the', 'DT'), ('political', 'JJ'), ('sense', 'NN'), ('and', 'CC'), ('by', 'IN'), ('Diod._15.48.3', 'NNP'), ('r', 'VB'), ('373', 'CD'), ('who', 'WP'), ('describes', 'VBZ'), ('it', 'PRP'), ('as', 'IN'), ('a', 'DT'), ('polis', 'NN'), ('in', 'IN'), ('the', 'DT'), ('urban', 'JJ'), ('sense', 'NN')]\n",
      "Diod._15.48.3 ORG, \n",
      "----\n",
      "The internal collective use of the city-ethnic is probably found (abbreviated) on C 4 coins (infra), and the external collective use is found in Diod._15.49.3 (r ante 373).\n",
      "[('The', 'DT'), ('internal', 'JJ'), ('collective', 'JJ'), ('use', 'NN'), ('of', 'IN'), ('the', 'DT'), ('city-ethnic', 'JJ'), ('is', 'VBZ'), ('probably', 'RB'), ('found', 'VBN'), ('abbreviated', 'VBN'), ('on', 'IN'), ('4', 'CD'), ('coins', 'NNS'), ('infra', 'NN'), ('and', 'CC'), ('the', 'DT'), ('external', 'JJ'), ('collective', 'NN'), ('use', 'NN'), ('is', 'VBZ'), ('found', 'VBN'), ('in', 'IN'), ('Diod._15.49.3', 'NNP'), ('r', 'VB'), ('ante', 'RB'), ('373', 'CD')]\n",
      "Diod._15.49.3 GPE, \n",
      "----\n",
      "A citizen of Helike served as Delphic theorodokos in C 5l (Syll. ³90.12).According to Polyb. 2.41.6­7 (rC 4), Helike had been a member of the Achaian Confederacy.\n",
      "[('A', 'DT'), ('citizen', 'NN'), ('of', 'IN'), ('Helike', 'NNP'), ('served', 'VBD'), ('as', 'IN'), ('Delphic', 'NNP'), ('theorodokos', 'NN'), ('in', 'IN'), ('C', 'NNP'), ('5l', 'CD'), ('Syll', 'NNP'), ('³90.12', 'CD'), ('.According', 'VBG'), ('to', 'TO'), ('Polyb', 'NNP'), ('2.41.6\\xad7', 'CD'), ('rC', 'VB'), ('4', 'CD'), ('Helike', 'NNP'), ('had', 'VBD'), ('been', 'VBN'), ('a', 'DT'), ('member', 'NN'), ('of', 'IN'), ('the', 'DT'), ('Achaian', 'JJ'), ('Confederacy', 'NNP')]\n",
      "Helike GPE, Polyb GPE, Helike GPE, \n",
      "----\n",
      "The early physical existence of Helike is attested in Hom.\n",
      "[('The', 'DT'), ('early', 'JJ'), ('physical', 'JJ'), ('existence', 'NN'), ('of', 'IN'), ('Helike', 'NNP'), ('is', 'VBZ'), ('attested', 'VBN'), ('in', 'IN'), ('Hom', 'NNP')]\n",
      "Helike GPE, Hom GPE, \n",
      "----\n",
      "Il. 2.575 and in a C 5e inscription (SEG 36 718; see also Soter and Katsonopoulou ( 1999)).\n",
      "[('Il', 'NNP'), ('2.575', 'CD'), ('and', 'CC'), ('in', 'IN'), ('a', 'DT'), ('C', 'NNP'), ('5e', 'CD'), ('inscription', 'NN'), ('SEG', 'NNP'), ('36', 'CD'), ('718', 'CD'), ('see', 'NN'), ('also', 'RB'), ('Soter', 'NNP'), ('and', 'CC'), ('Katsonopoulou', 'NNP'), ('1999', 'CD')]\n",
      "Soter PERSON, Katsonopoulou PERSON, \n",
      "----\n",
      "Archaeological investigations have revealed the foundations of two small temples, one Archaic, the other Classical, at Nea Keryneia, which may possibly be associated with the acropolis of ancient Helike (Petropoulos ( 1990)).\n",
      "[('Archaeological', 'JJ'), ('investigations', 'NNS'), ('have', 'VBP'), ('revealed', 'VBN'), ('the', 'DT'), ('foundations', 'NNS'), ('of', 'IN'), ('two', 'CD'), ('small', 'JJ'), ('temples', 'NNS'), ('one', 'CD'), ('Archaic', 'NNP'), ('the', 'DT'), ('other', 'JJ'), ('Classical', 'NNP'), ('at', 'IN'), ('Nea', 'NNP'), ('Keryneia', 'NNP'), ('which', 'WDT'), ('may', 'MD'), ('possibly', 'RB'), ('be', 'VB'), ('associated', 'VBN'), ('with', 'IN'), ('the', 'DT'), ('acropolis', 'NN'), ('of', 'IN'), ('ancient', 'NN'), ('Helike', 'NNP'), ('Petropoulos', 'NNP'), ('1990', 'CD')]\n",
      "Nea Keryneia ORG, Helike (Petropoulos ORG, \n",
      "----\n",
      "The most important sanctuary at Helike was, however, that of Poseidon Helikonios (Hom.\n",
      "[('The', 'DT'), ('most', 'RBS'), ('important', 'JJ'), ('sanctuary', 'NN'), ('at', 'IN'), ('Helike', 'NNP'), ('was', 'VBD'), ('however', 'RB'), ('that', 'IN'), ('of', 'IN'), ('Poseidon', 'NNP'), ('Helikonios', 'NNP'), ('Hom', 'NNP')]\n",
      "Helike GPE, Poseidon Helikonios ORG, \n",
      "----\n",
      "Il. 8.203;Diod. 15.49.2­3;Strabo 8.7.2; Paus.\n",
      "[('Il', 'NNP'), ('8.203', 'CD'), ('Diod', 'NNP'), ('15.49.2\\xad3', 'CD'), ('Strabo', 'NNP'), ('8.7.2', 'CD'), ('Paus', 'NNP')]\n",
      "\n",
      "----\n",
      "7.24.5­6), and it is quite likely that this sanctuary acted as a common place of union for the Achaians prior to the destruction of Helike, when that function was assumed by the sanctuary of Zeus Homarios near Aigion (Morgan and Hall_(_1996) 195­96, contra Aymard_(_1938) 286­87, 293; Walbank ( 2000)).\n",
      "[('7.24.5\\xad6', 'CD'), ('and', 'CC'), ('it', 'PRP'), ('is', 'VBZ'), ('quite', 'RB'), ('likely', 'JJ'), ('that', 'IN'), ('this', 'DT'), ('sanctuary', 'JJ'), ('acted', 'VBD'), ('as', 'IN'), ('a', 'DT'), ('common', 'JJ'), ('place', 'NN'), ('of', 'IN'), ('union', 'NN'), ('for', 'IN'), ('the', 'DT'), ('Achaians', 'NNPS'), ('prior', 'RB'), ('to', 'TO'), ('the', 'DT'), ('destruction', 'NN'), ('of', 'IN'), ('Helike', 'NNP'), ('when', 'WRB'), ('that', 'DT'), ('function', 'NN'), ('was', 'VBD'), ('assumed', 'VBN'), ('by', 'IN'), ('the', 'DT'), ('sanctuary', 'NN'), ('of', 'IN'), ('Zeus', 'NNP'), ('Homarios', 'NNP'), ('near', 'IN'), ('Aigion', 'NNP'), ('Morgan', 'NNP'), ('and', 'CC'), ('Hall_', 'NNP'), ('_1996', 'NNP'), ('195\\xad96', 'CD'), ('contra', 'JJ'), ('Aymard_', 'NNP'), ('_1938', 'NNP'), ('286\\xad87', 'CD'), ('293', 'CD'), ('Walbank', 'NNP'), ('2000', 'CD')]\n",
      "Helike ORG, Zeus Homarios PERSON, Aigion GPE, Morgan ORG, Walbank GPE, \n",
      "----\n",
      "According to Strabo 6.1.13, Is of Helike was the founder of Sybaris (no. 70) in South Italy.\n",
      "[('According', 'VBG'), ('to', 'TO'), ('Strabo', 'NNP'), ('6.1.13', 'CD'), ('Is', 'NNP'), ('of', 'IN'), ('Helike', 'NNP'), ('was', 'VBD'), ('the', 'DT'), ('founder', 'NN'), ('of', 'IN'), ('Sybaris', 'NNP'), ('no', 'DT'), ('70', 'CD'), ('in', 'IN'), ('South', 'NNP'), ('Italy', 'NNP')]\n",
      "Strabo 6.1.13 PERSON, Helike ORG, Sybaris PERSON, South Italy GPE, \n",
      "----\n",
      "The reading ( ' &lt;... &gt; `) is, however, unsure, and Bérard ( 1957) 141 n.\n",
      "[('The', 'DT'), ('reading', 'NN'), (\"'\", 'POS'), ('&', 'CC'), ('lt', 'NN'), ('&', 'CC'), ('gt', 'NN'), ('is', 'VBZ'), ('however', 'RB'), ('unsure', 'NN'), ('and', 'CC'), ('Bérard', 'NNP'), ('1957', 'CD'), ('141', 'CD'), ('n', 'NN')]\n",
      "\n",
      "----\n",
      "2 proposed either &lt; &gt; or &lt; &gt;.\n",
      "[('2', 'CD'), ('proposed', 'VBN'), ('either', 'CC'), ('&', 'CC'), ('lt', 'NN'), ('&', 'CC'), ('gt', 'NN'), ('or', 'CC'), ('&', 'CC'), ('lt', 'NN'), ('&', 'CC'), ('gt', 'NN')]\n",
      "\n",
      "----\n",
      "A series of bronze coins, dating to C 4f, depicts obv.\n",
      "[('A', 'DT'), ('series', 'NN'), ('of', 'IN'), ('bronze', 'JJ'), ('coins', 'NNS'), ('dating', 'VBG'), ('to', 'TO'), ('C', 'NNP'), ('4f', 'CD'), ('depicts', 'NNS'), ('obv', 'VBP')]\n",
      "\n",
      "----\n",
      "head of Poseidon.\n",
      "[('head', 'NN'), ('of', 'IN'), ('Poseidon', 'NNP')]\n",
      "Poseidon ORG, \n",
      "----\n",
      "Legend: (retr.).\n",
      "[('Legend', 'NN'), ('retr', 'VB')]\n",
      "\n",
      "----\n",
      "Rev.\n",
      "[('Rev', 'NNP')]\n",
      "\n",
      "----\n",
      "trident between dolphins in wreath (Head, HN ²414).\n",
      "[('trident', 'NN'), ('between', 'IN'), ('dolphins', 'NNS'), ('in', 'IN'), ('wreath', 'NN'), ('Head', 'NNP'), ('HN', 'NNP'), ('²414', 'CD')]\n",
      "\n",
      "----\n",
      "236.\n",
      "[('236', 'CD')]\n",
      "\n",
      "----\n"
     ]
    }
   ],
   "source": [
    "for item in sentences[4:]:\n",
    "    x = ''\n",
    "    doc = nlp(item)\n",
    "    blobs = TextBlob(item)\n",
    "    print(item)\n",
    "    print(blobs.tags)\n",
    "    #doc = nlp(item)\n",
    "    for ent in doc.ents:\n",
    "        if ent.label_ in ['ORG','PERSON','GPE']:\n",
    "            x = x + str(ent) + ' ' + str(ent.label_) + ', '\n",
    "    print(x)\n",
    "    print(\"----\")"
   ]
  },
  {
   "cell_type": "markdown",
   "metadata": {},
   "source": [
    "### Extracting relational information"
   ]
  },
  {
   "cell_type": "markdown",
   "metadata": {},
   "source": [
    "Example taken from NLTK book, http://www.nltk.org/book/ch07.html. Note, that NLTK expects a special structure of the POS tags. Therefore, the textblob tags can not simply be used."
   ]
  },
  {
   "cell_type": "markdown",
   "metadata": {},
   "source": [
    "The search string is defined by IN. The relation searches for [ORG] in [LOC] and uses a prepared corpus of New York Times articles. One has to take care of words like `learning`. Thus the negative lookahead `(?!\\b.+ing))`."
   ]
  },
  {
   "cell_type": "code",
   "execution_count": 71,
   "metadata": {
    "collapsed": false
   },
   "outputs": [
    {
     "name": "stdout",
     "output_type": "stream",
     "text": [
      "[ORG: 'WHYY'] 'in' [LOC: 'Philadelphia']\n",
      "[ORG: 'McGlashan &AMP; Sarrail'] 'firm in' [LOC: 'San Mateo']\n",
      "[ORG: 'Freedom Forum'] 'in' [LOC: 'Arlington']\n",
      "[ORG: 'Brookings Institution'] ', the research group in' [LOC: 'Washington']\n",
      "[ORG: 'Idealab'] ', a self-described business incubator based in' [LOC: 'Los Angeles']\n",
      "[ORG: 'Open Text'] ', based in' [LOC: 'Waterloo']\n",
      "[ORG: 'WGBH'] 'in' [LOC: 'Boston']\n",
      "[ORG: 'Bastille Opera'] 'in' [LOC: 'Paris']\n",
      "[ORG: 'Omnicom'] 'in' [LOC: 'New York']\n",
      "[ORG: 'DDB Needham'] 'in' [LOC: 'New York']\n",
      "[ORG: 'Kaplan Thaler Group'] 'in' [LOC: 'New York']\n",
      "[ORG: 'BBDO South'] 'in' [LOC: 'Atlanta']\n",
      "[ORG: 'Georgia-Pacific'] 'in' [LOC: 'Atlanta']\n"
     ]
    }
   ],
   "source": [
    "IN = re.compile(r'.*\\bin\\b(?!\\b.+ing)') \n",
    "\n",
    "for doc in nltk.corpus.ieer.parsed_docs('NYT_19980315'):\n",
    "    for rel in nltk.sem.extract_rels('ORG', 'LOC', doc,corpus='ieer', pattern = IN):\n",
    "         print(nltk.sem.rtuple(rel))"
   ]
  },
  {
   "cell_type": "markdown",
   "metadata": {},
   "source": [
    "### Other text structures"
   ]
  },
  {
   "cell_type": "markdown",
   "metadata": {},
   "source": [
    "For citations, we need to find matching brackets. This can be done using SExprTokenizer, a tokenizer to find parenthesized expressions. Non-parenthesized expressions are returned with separeted by white-space characters. Therefore, we need to reduce the output to expressions starting with a \"(\" onyl, See #1 below"
   ]
  },
  {
   "cell_type": "code",
   "execution_count": 52,
   "metadata": {
    "collapsed": false
   },
   "outputs": [
    {
     "name": "stdout",
     "output_type": "stream",
     "text": [
      "(Helikeus)\n",
      "(no. 231)\n",
      "(following Herakleides)\n",
      "(Morgan  and Hall ( 1996)  175;  Barr.)\n",
      "(Diod. 15.48.1­49.4;  Polyb. 2.41.7;Strabo 8.7.2;  Paus. 7.24.6;Ael.  NA 11.19)\n",
      "(cf.  Ov. Met. 15.293­95)\n",
      "(Petropoulos  ( 1983);  cf.  Ptol. Geog. 3.14.36,  who  lists  Helike  among  the  inland  cities  of Achaia)\n",
      "( 1995)\n",
      "(Hom.  Il. 2.575;  SEG 36  718  (C 5e);  Hdt. 1.145)\n",
      "(Syll. ³90.12)\n",
      "(Diod. 15.49.3)\n",
      "(r 373)\n",
      "(r 373)\n",
      "( 42)\n",
      "(rC 4)\n",
      "(r 373)\n",
      "(abbreviated)\n",
      "(infra)\n",
      "(r  ante 373)\n",
      "(Syll. ³90.12)\n",
      "(rC 4)\n",
      "(SEG 36  718;  see  also  Soter and  Katsonopoulou  ( 1999))\n",
      "(Petropoulos  ( 1990))\n",
      "(Hom.  Il. 8.203;Diod.  15.49.2­3;Strabo  8.7.2;  Paus. 7.24.5­6)\n",
      "(Morgan  and  Hall  ( 1996) 195­96,  contra  Aymard  ( 1938)  286­87,  293;  Walbank ( 2000))\n",
      "(no. 70)\n",
      "(  '  &lt;...  &gt; `)\n",
      "( 1957)\n",
      "(retr.)\n",
      "(Head,  HN ²414)\n"
     ]
    }
   ],
   "source": [
    "for i in SExprTokenizer(strict=False).tokenize(text):\n",
    "    if i[0]=='(': #1 \n",
    "        print(i)"
   ]
  },
  {
   "cell_type": "markdown",
   "metadata": {},
   "source": [
    "## Apply to full Poleis data\n",
    "\n",
    "To retrieve meaningful data from the full texts for each city, we apply regular expression, parenthesis detection, and POS tagging. "
   ]
  },
  {
   "cell_type": "markdown",
   "metadata": {},
   "source": [
    "### Get city identifier by RegEx\n",
    "\n",
    "Throughout the full text, cities are referenced by a running index. To make this information part of the dataframe, we extend it with an additional column.\n"
   ]
  },
  {
   "cell_type": "code",
   "execution_count": 53,
   "metadata": {
    "collapsed": false
   },
   "outputs": [],
   "source": [
    "def cityIDFinder(text):\n",
    "    '''\n",
    "    #1: Find all occurance of the string \"Identifier\" followed by a colon, a space and between one and four decimals.\n",
    "    #2: If there is a result, do the following\n",
    "    #3: Take the first result idList[0] (because the identifier is at the beginning of the text), \n",
    "        and split the string at the dot (to remove the dot at the end of the string). Then return the string from the 13. position.\n",
    "        This ensures, that only a number is returned, since it removes the word identifier, the colon, and the space. \n",
    "    '''\n",
    "    idList = re.findall(\"Identifier\\: \\d{1,4}\\.\", text) #1\n",
    "    if idList: #2\n",
    "        idCity = idList[0].split('.')[0][12:] #3\n",
    "        return idCity"
   ]
  },
  {
   "cell_type": "code",
   "execution_count": 54,
   "metadata": {
    "collapsed": false
   },
   "outputs": [],
   "source": [
    "dfPoleisGesamt['city_id'] = dfPoleisGesamt['Beschreibung'].apply(lambda row: cityIDFinder(row))"
   ]
  },
  {
   "cell_type": "markdown",
   "metadata": {},
   "source": [
    "### Collection of citations uding parenthesis detection\n",
    "\n",
    "To collect citations in the text for one city, we first use a tokenizer from NLTK. This tokenizer collects all parenthesis and is much easier to use, that regular expressions.\n",
    "\n",
    "The basic assumption for citations is: They are written in parenthesis, start with a capital letter, and contain at least one blank space (to separate the authors name from text pages, indices, or dates).\n"
   ]
  },
  {
   "cell_type": "code",
   "execution_count": 55,
   "metadata": {
    "collapsed": true
   },
   "outputs": [],
   "source": [
    "#pat = re.compile('([A-Z][a-z]{1,10}\\. \\d{1,3}\\.\\d{1,3}\\.\\d{1,3}|[A-Z][a-z]{1,15}\\s{0,2}\\(\\s*\\d{4}\\)|[A-Z][a-z]{1,15}\\s{0,2}\\(\\s*\\d{1,2}\\.\\d{1,2}\\.\\d{1,2}\\)|[A-Z][a-z]{1,15}\\s{0,2}\\s*\\d{1,2}\\.\\d{1,2}\\.\\d{1,2}|[A-Z][a-z]{1,15}\\.\\s+[A-Z][a-z]{1,10}\\.\\s+[A-Za-z]{1,10}\\.\\s+\\d{1,3}\\.\\d{1,3}|[A-Z][a-z]{1,15}\\.\\s+[A-Z][a-z]{1,10}\\.\\s+\\d{1,3}\\.\\d{1,3}[A-Za-z]{1,10}.?\\s+[¹²³]\\d+\\.\\d+|[A-Za-z]{1,10}.?\\s+[¹²³]\\d+|[A-Za-z]{1,10}.?\\s+\\d+\\s+\\d+)')\n"
   ]
  },
  {
   "cell_type": "code",
   "execution_count": 56,
   "metadata": {
    "collapsed": false
   },
   "outputs": [],
   "source": [
    "def citationFinder(text):\n",
    "    '''\n",
    "    #1: Generate a list of all capital letters\n",
    "    #2: Tokenize text to search for parenthesis, '( ... )' (this returns more accurate results, that using regular expression) \n",
    "        The option strict=False is necessary to prevent errors, when the text contains only an unmatched opening or closing paranthesis.\n",
    "    #3: The basic assumptions for citations are: \n",
    "        In parenthesis (first element is opening paranthesis), \n",
    "        start with a capital letter (second element is a capital letter), \n",
    "        and contain at least one blank space ' '\n",
    "    '''\n",
    "    import string\n",
    "    letters=[i for i in string.ascii_uppercase] #1\n",
    "    paranthesisTokenized = SExprTokenizer(strict=False).tokenize(text) #2\n",
    "    listCite = [x for x in paranthesisTokenized if x[0] == '(' and x[1] in letters and ' ' in x] #3\n",
    "    return listCite"
   ]
  },
  {
   "cell_type": "code",
   "execution_count": 57,
   "metadata": {
    "collapsed": false
   },
   "outputs": [],
   "source": [
    "dfPoleisGesamt['sources'] = dfPoleisGesamt['Beschreibung'].apply(lambda row: citationFinder(row))"
   ]
  },
  {
   "cell_type": "markdown",
   "metadata": {},
   "source": [
    "### Transformation of coordinates using RegEx\n",
    "\n",
    "A simple regular expression is enough to find all coordinates in the text. The coordinates are transformed from degrees/minutes to decimal to enable plotting on a map with common projection.\n"
   ]
  },
  {
   "cell_type": "code",
   "execution_count": 58,
   "metadata": {
    "collapsed": false
   },
   "outputs": [],
   "source": [
    "def coordinateFinder(value,pattern):\n",
    "    '''\n",
    "    #1: General function for finding regular expression pattern in a text.\n",
    "    #2: If patterns are found, do the following\n",
    "    #3: Take the last five values of the first string returned\n",
    "    #4: To convert angular in decimal coordinates: \n",
    "        Take the returned value, split it at the dot\n",
    "        convert the first part into a floating number (e.g. 36.0), \n",
    "        and the second part into a integer number (e.g. 34) and divide it by 60. \n",
    "        The sum the two results to return a coordinate in decimal system\n",
    "    '''\n",
    "    x = re.findall(pattern, value)                                             #1\n",
    "    if x:                                                                      #2  \n",
    "        coord = x[0][-5:]                                                      #3 \n",
    "        decCord = float(coord.split('.')[0]) +  int(coord.split('.')[-1])/60   #4\n",
    "        return decCord"
   ]
  },
  {
   "cell_type": "code",
   "execution_count": 59,
   "metadata": {
    "collapsed": false
   },
   "outputs": [],
   "source": [
    "dfPoleisGesamt['latitude'] = dfPoleisGesamt[\"Beschreibung\"].apply(coordinateFinder, pattern=\"Lat\\.\\s?\\d+\\.\\d+\")\n",
    "dfPoleisGesamt['longitude'] = dfPoleisGesamt[\"Beschreibung\"].apply(coordinateFinder, pattern=\"long\\.\\s*\\d+\\.\\d+\")"
   ]
  },
  {
   "cell_type": "markdown",
   "metadata": {},
   "source": [
    "###  Proper nouns using POS tagger\n",
    "\n",
    "To generate a list of all mentioned proper nouns for each city, we use TextBlob. TextBlob is a NLTK tool with parts-of-speech tagger. We are interessted in all parts that are 'NNP' and longer then 3 letters.\n",
    "\n",
    "This takes some time to process for the full dataframe. Behaviour can be tested by uncommenting the cell below.\n"
   ]
  },
  {
   "cell_type": "code",
   "execution_count": 60,
   "metadata": {
    "collapsed": false
   },
   "outputs": [],
   "source": [
    "def namesFinder(text):\n",
    "    '''\n",
    "    #1: Generate a blob out of the text \n",
    "    #2: Generate a list of all POS Tags, that are labeld as NNP(S) (Proper noun, singular (or plural)), and which are longer than 3 letters \n",
    "    '''\n",
    "    blobs = TextBlob(text)                                                                              #1\n",
    "    namesList = [x[0] for x in blobs.pos_tags if (x[1] == 'NNP') | (x[1] == 'NNPS') and len(x[0]) > 3]  #2\n",
    "    return namesList"
   ]
  },
  {
   "cell_type": "code",
   "execution_count": 61,
   "metadata": {
    "collapsed": false
   },
   "outputs": [
    {
     "data": {
      "text/plain": [
       "['Herodotos',\n",
       " 'Stein',\n",
       " 'Aigiroessa',\n",
       " 'Elaia',\n",
       " 'Herodotos',\n",
       " 'Elaia',\n",
       " 'Head',\n",
       " 'Cook',\n",
       " 'Aigiroessa',\n",
       " 'Belkahve']"
      ]
     },
     "execution_count": 61,
     "metadata": {},
     "output_type": "execute_result"
    }
   ],
   "source": [
    "# Uncomment to test routine. \n",
    "namesFinder(dfPoleisGesamt['Beschreibung'].iloc[10])"
   ]
  },
  {
   "cell_type": "code",
   "execution_count": 62,
   "metadata": {
    "collapsed": false
   },
   "outputs": [],
   "source": [
    "########################################\n",
    "# Careful: Takes some time to evalute! #\n",
    "########################################\n",
    "\n",
    "#dfPoleisGesamt['names'] = dfPoleisGesamt['Beschreibung'].apply(lambda row: namesFinder(row))"
   ]
  },
  {
   "cell_type": "markdown",
   "metadata": {},
   "source": [
    "###  Cross links to other cities\n",
    "\n",
    "Links to other cities are mentioned in the fulltext with reference to the index (e.g. '(no. 982)'). searching for these should give a link list.\n"
   ]
  },
  {
   "cell_type": "code",
   "execution_count": 63,
   "metadata": {
    "collapsed": false
   },
   "outputs": [],
   "source": [
    "def linksFinder(text):\n",
    "    '''\n",
    "    #1: Find all occurances of the string \"(no. 1234)\" with between one and four decimals\n",
    "    #2: If we have a result\n",
    "    #3: Generate a list, where every result:\n",
    "        is split at the space, take the last part, and only up to the last letter (this removes the closing paranthesis) \n",
    "    #4: For all these results, convert the entries into an integer number\n",
    "    '''\n",
    "    x = re.findall(\"\\(no\\. \\d{1,4}\\)\", text)               #1\n",
    "    if x:                                                  #2\n",
    "        links = [((z.split(' '))[-1])[:-1] for z in x]     #3\n",
    "        linksInt = [int(x) for x in links]                 #4\n",
    "        return linksInt"
   ]
  },
  {
   "cell_type": "code",
   "execution_count": 64,
   "metadata": {
    "collapsed": false
   },
   "outputs": [],
   "source": [
    "dfPoleisGesamt['linkedCities'] = dfPoleisGesamt['Beschreibung'].apply(lambda row: linksFinder(row))"
   ]
  },
  {
   "cell_type": "markdown",
   "metadata": {},
   "source": [
    "## Display dataframe"
   ]
  },
  {
   "cell_type": "code",
   "execution_count": 65,
   "metadata": {
    "collapsed": false
   },
   "outputs": [
    {
     "data": {
      "text/html": [
       "<div>\n",
       "<table border=\"1\" class=\"dataframe\">\n",
       "  <thead>\n",
       "    <tr style=\"text-align: right;\">\n",
       "      <th></th>\n",
       "      <th>Beschreibung</th>\n",
       "      <th>region</th>\n",
       "      <th>city</th>\n",
       "      <th>Quellen</th>\n",
       "      <th>city_id</th>\n",
       "      <th>sources</th>\n",
       "      <th>latitude</th>\n",
       "      <th>longitude</th>\n",
       "      <th>linkedCities</th>\n",
       "    </tr>\n",
       "  </thead>\n",
       "  <tbody>\n",
       "    <tr>\n",
       "      <th>0</th>\n",
       "      <td>Identifier: 233. , (Ascheieus) Unlocated.  Typ...</td>\n",
       "      <td>Achaia</td>\n",
       "      <td>Ascheion</td>\n",
       "      <td>None</td>\n",
       "      <td>233</td>\n",
       "      <td>[(CID ii  51.8  ( 339/8)), (BCH 45  ( 1921)  i...</td>\n",
       "      <td>NaN</td>\n",
       "      <td>NaN</td>\n",
       "      <td>None</td>\n",
       "    </tr>\n",
       "    <tr>\n",
       "      <th>1</th>\n",
       "      <td>Identifier: 235. , (Bourios) Map  58.  Lat. 38...</td>\n",
       "      <td>Achaia</td>\n",
       "      <td>Boura</td>\n",
       "      <td>[Paus. 7.25.8, Strabo  8.7.5, Hall  ( 1996), R...</td>\n",
       "      <td>235</td>\n",
       "      <td>[(Morgan  and  Hall  ( 1996)  175;  Barr.), (R...</td>\n",
       "      <td>38.166667</td>\n",
       "      <td>22.250000</td>\n",
       "      <td>[236, 235, 238, 251, 165, 148]</td>\n",
       "    </tr>\n",
       "    <tr>\n",
       "      <th>2</th>\n",
       "      <td>Identifier: 236. , (Helikeus) Map  58.  Lat. 3...</td>\n",
       "      <td>Achaia</td>\n",
       "      <td>Helike</td>\n",
       "      <td>[Paus. 7.24.5, Strabo  8.7.2, Hall ( 1996), Di...</td>\n",
       "      <td>236</td>\n",
       "      <td>[(Morgan  and Hall ( 1996)  175;  Barr.), (Dio...</td>\n",
       "      <td>38.250000</td>\n",
       "      <td>22.166667</td>\n",
       "      <td>[231, 70]</td>\n",
       "    </tr>\n",
       "    <tr>\n",
       "      <th>3</th>\n",
       "      <td>Identifier: 237. , (Keryneus) Map  58.  Lat. 3...</td>\n",
       "      <td>Achaia</td>\n",
       "      <td>Keryneia</td>\n",
       "      <td>[Paus. 7.25.5, Rizakis  ( 1995), Paus. 7.25.5,...</td>\n",
       "      <td>237</td>\n",
       "      <td>[(Rizakis  ( 1995)  206;  Barr.), (Paus. 7.25....</td>\n",
       "      <td>38.166667</td>\n",
       "      <td>22.166667</td>\n",
       "      <td>[353]</td>\n",
       "    </tr>\n",
       "  </tbody>\n",
       "</table>\n",
       "</div>"
      ],
      "text/plain": [
       "                                        Beschreibung  region      city  \\\n",
       "0  Identifier: 233. , (Ascheieus) Unlocated.  Typ...  Achaia  Ascheion   \n",
       "1  Identifier: 235. , (Bourios) Map  58.  Lat. 38...  Achaia     Boura   \n",
       "2  Identifier: 236. , (Helikeus) Map  58.  Lat. 3...  Achaia    Helike   \n",
       "3  Identifier: 237. , (Keryneus) Map  58.  Lat. 3...  Achaia  Keryneia   \n",
       "\n",
       "                                             Quellen city_id  \\\n",
       "0                                               None     233   \n",
       "1  [Paus. 7.25.8, Strabo  8.7.5, Hall  ( 1996), R...     235   \n",
       "2  [Paus. 7.24.5, Strabo  8.7.2, Hall ( 1996), Di...     236   \n",
       "3  [Paus. 7.25.5, Rizakis  ( 1995), Paus. 7.25.5,...     237   \n",
       "\n",
       "                                             sources   latitude  longitude  \\\n",
       "0  [(CID ii  51.8  ( 339/8)), (BCH 45  ( 1921)  i...        NaN        NaN   \n",
       "1  [(Morgan  and  Hall  ( 1996)  175;  Barr.), (R...  38.166667  22.250000   \n",
       "2  [(Morgan  and Hall ( 1996)  175;  Barr.), (Dio...  38.250000  22.166667   \n",
       "3  [(Rizakis  ( 1995)  206;  Barr.), (Paus. 7.25....  38.166667  22.166667   \n",
       "\n",
       "                     linkedCities  \n",
       "0                            None  \n",
       "1  [236, 235, 238, 251, 165, 148]  \n",
       "2                       [231, 70]  \n",
       "3                           [353]  "
      ]
     },
     "execution_count": 65,
     "metadata": {},
     "output_type": "execute_result"
    }
   ],
   "source": [
    "# Uncomment to display full dataframe\n",
    "#df\n",
    "dfPoleisGesamt.head(4)"
   ]
  }
 ],
 "metadata": {
  "anaconda-cloud": {},
  "kernelspec": {
   "display_name": "Python [Root]",
   "language": "python",
   "name": "Python [Root]"
  },
  "language_info": {
   "codemirror_mode": {
    "name": "ipython",
    "version": 3
   },
   "file_extension": ".py",
   "mimetype": "text/x-python",
   "name": "python",
   "nbconvert_exporter": "python",
   "pygments_lexer": "ipython3",
   "version": "3.5.2"
  },
  "latex_envs": {
   "bibliofile": "biblio.bib",
   "cite_by": "apalike",
   "current_citInitial": 1,
   "eqLabelWithNumbers": true,
   "eqNumInitial": 0
  },
  "nav_menu": {},
  "toc": {
   "navigate_menu": true,
   "number_sections": true,
   "sideBar": true,
   "threshold": 6,
   "toc_cell": false,
   "toc_section_display": "block",
   "toc_window_display": false
  }
 },
 "nbformat": 4,
 "nbformat_minor": 0
}
