{
 "cells": [
  {
   "cell_type": "markdown",
   "metadata": {},
   "source": [
    "# CH: CLTK mit lateinischem Text\n",
    "\n",
    "CLTK: http://docs.cltk.org/en/latest/latin.html"
   ]
  },
  {
   "cell_type": "markdown",
   "metadata": {},
   "source": [
    "## Vorbereitung des lateinischen Textes"
   ]
  },
  {
   "cell_type": "markdown",
   "metadata": {},
   "source": [
    "Einlesen der txt Datei zu Keplers Gesamtausgabe von 1938"
   ]
  },
  {
   "cell_type": "code",
   "execution_count": 10,
   "metadata": {
    "collapsed": true
   },
   "outputs": [],
   "source": [
    "with open('Kepler_ges_Werke_vol1.txt','r') as keplerVol1:\n",
    "    data=keplerVol1.read()"
   ]
  },
  {
   "cell_type": "markdown",
   "metadata": {},
   "source": [
    "Die Datei enthält reinen Text, Abschnitte werden mit Zeilenumbruch getrennt ('\\n')"
   ]
  },
  {
   "cell_type": "code",
   "execution_count": 11,
   "metadata": {
    "collapsed": false
   },
   "outputs": [
    {
     "name": "stdout",
     "output_type": "stream",
     "text": [
      "﻿JOHANNES KEPLER GESAMMELTE WERKE\n",
      "HERAUSGEGEBEN IM AUFTRAG\n",
      "DER DEUTSCHEN FORSCHUNGSGEMEINSCHAFT\n",
      "UND DER\n",
      "BAYERISCHEN AKADEMIE DER WISSENSCHAFTEN\n",
      "UNTER DER LEITUNG VON WALTHER VON DYCKf UND MAX CASPAR\n",
      "C. H. BECKSCHE VERLAGSBUCHHANDLUNG\n",
      "MÜNCHEN\n",
      "JOHANNES KEPLER GESAMMELTE WERKE\n",
      "BAND I\n",
      "MYSTERIUM COSMOGRAPH1CUM DE STELLA NOVA\n",
      "HERAUSGEGEBEN VON MAX CASPAR\n",
      "G EL BECK SCHE VERLAGSBUCHHANDLUNG MÜNCHEN MCMXXXVIII\n",
      "DAS TITELBILD IST EINE WIEDERGABE DES ZEITGENÖSSISCHEN STICHES VON JACOB VON HEYDEN\n",
      "ft\n",
      "EINLEITUNG\n",
      "Johannes Kepler, dessen gesammelte Werke in dieser Ausgabe der Welt vorgelegt werden, vollbrachte die Aufgabe, zu der ihn sein Genius berief, in einer an äußeren und inneren Spannungen reichen Zeit. Mit den letzten zwölf Jahren reichte sein Leben in den für unser Vaterland so unheilvollen Dreißigjährigen Krieg hinein, in dem weithin die Pflege der Wissenschaft in der allgemeinen Not erstickte. Es ist daher kein Wunder, daß seinem Lebenswerk in seinem Heimatland zunächst eine volle Auswirkung \n"
     ]
    }
   ],
   "source": [
    "print(data[:1000])"
   ]
  },
  {
   "cell_type": "markdown",
   "metadata": {},
   "source": [
    "Der Text wird an Zeilenumbrüchen getrennt und durchsucht nach dem Titel des Werks: 'MYSTERIVM COSMOGRAPHICVM', der immer als Seitenkopf in einer extra Zeile aufder rechten Seite vorkommt. Nachfolgende Zeilen enthalten also den Text. Insebesonder findet sich zwischen zwei vorkommen des Seitentitels der gesamte Text einer Doppelseite. "
   ]
  },
  {
   "cell_type": "code",
   "execution_count": 12,
   "metadata": {
    "collapsed": false
   },
   "outputs": [],
   "source": [
    "lines = data.splitlines()\n",
    "mystList=[]\n",
    "for x in range(len(lines)):\n",
    "    if 'MYSTERIVM COSMOGRAPHICVM' in lines[x]:\n",
    "        mystList.append(x+1)"
   ]
  },
  {
   "cell_type": "markdown",
   "metadata": {},
   "source": [
    "Den Text einer Doppelseite können wir also aus allen Spalten zusammensetzen"
   ]
  },
  {
   "cell_type": "code",
   "execution_count": 13,
   "metadata": {
    "collapsed": false
   },
   "outputs": [],
   "source": [
    "textKepler = ''\n",
    "for i in range(mystList[1],mystList[2]-1):\n",
    "    textKepler = textKepler + lines[i] + '\\n'"
   ]
  },
  {
   "cell_type": "code",
   "execution_count": 14,
   "metadata": {
    "collapsed": false
   },
   "outputs": [
    {
     "name": "stdout",
     "output_type": "stream",
     "text": [
      "eum Sol et Luna, etc. Quae vox coelo? quae stellis? qua Deum laudent t instar hominis? Nisi quod, dum argumenta suppeditant hominibus laudandi Dei, Deum ipsae laudare dicuntur. Quam vocem, coelis et Naturae rerum dum aperimus his pagellis, clarioremque efficimus: nemo nos vanitatis, aut inutiliter sumpti laboris arguat.\n",
      "Taceo, quöd haec materia, Creationis, quam negarunt Philosophi, magnum argumentum est: dum cernimus, vti Deus instar alicuius ex nostratibus Architectis, ordine et norma ad mundi molitionem accesserit, singulaque sit ita dimensus; quasi non ars naturam imitaretur, sed Deus ipse ad hominis futuri morem aedificandi, respexisset.\ti0\n",
      "Quanquam quid necessc est, diuinarum rerum vsus instar obsonij nummo aestimare? Nam quid quaeso prodest ventri famelico cognitio rerum naturalium, quid tota reliqua Astronomia? Neque tamen audiunt cordati homines illam barbariem, quae deserenda propterea ista studia clamitat. Pictores ferimus, qui oculos, Symphoniacos, qui aures oblectant: quamuis nullum rebus nostris emolumentum afferant. Et non tantum humana, sed etiam honesta censetur voluptas, quae ex vtrorum-que operibus capitur. Quae igi'tur inhumanitas, quae stultitia, menti ) suum inuiderc honestum gaudium, oculis et auribus non inuidere? Rerum naturae repugnat; qui cum his pugnat recreationibus. Nam qui t0 nihil in naturam introduxit, Creator optimus, cui non cum ad necessitatem, tum ad pulchritudinem et voluptatem abunde prospexerit: is mentem hominis, totius naturae dominam, suam ipsius imaginem, solam nulla voluptate beauerit? Imö vti non quaerimus, qua spe commodi cantillet auicula, cum sciamus inesse voluptatem in cantu, propterea, quia ad cantum istum facta est: ita nec hoc quaerendum, cur mens humana tantum sumat laboris in perquirendis hisce coelorum arcanis. Est enim ideo mens adiuncta sensibus ab Opifice nostro; non tantum vt seipsum homo sustentaret, quod longe solertius possunt vel brutae mentis ministerio multa animantium genera: sed etiam, vt ab ijs, quae, J0 quod sint, oculis cernimus, ad causas quare sint ct fiant, contenderemus: quamuis nihil aliud vtilitatis inde caperemus. Atque adeö vt animalia caetera, corpusque humanum cibo potuque sustentantur: sic animus ipse hominis, diuersum quiddam ab homine, vegetatur, augetur, et adolescit quodammodo, cognitionis isthoc pabulo: mortuoque, quam viuo similior est, si harum rerum desiderio nullo tangitur. Quare vti Naturae prouidentia pabulum animantibus nunquam deficit: ita non immerito dicere possumus, propterea tantam in rebus inesse varietatem, tamque reconditos in coelorum fabrica thesauros; vt nunquam deesset humanae menti recens pabulum, ne fastidiret obsoletum, neu quiesceret, 40 sed haberet in hoc mundo perpetuam exercendi sui officinam.\n",
      "EPISTOLA DEDICATORIA\n",
      "7\n",
      "Neque vero harum epularum, quas ex ditissimo Conditoris penu in hoc libello, velut in mensa depromo, propterea minor est nobilitas: quöd ä maxima vulgi parte vel non gustabuntur, vel respuentur. Anserem laudant plurcs, quam phasianum, quia ille communis est, iste rarior. Neque tamen vilius Apitij palatus hunc illi postponet. Sic huius materiae dignitas tanto maior erit; quo pauciores laudatores, intelligentes modo sint, 4 reperiet. Non eadem vul'go conucniunt et principibus: neque haec coelestia promiscue omnium, sed generosi saltem animi pabulum sunt: non meo voto, vel opera, non sua natura, non Dei inuidiä: sed pluri-io morum hominum vel stupiditate vel ignauia. Solent principes aliqua magni precij inter secundas habere mensas, quibus vtantur non nisi saturi, leuandi fastidij causa. Sic haec et huiusmodi studia generosissimo et sapientissimo cuique tum demum sapient, vbi e casa per pagos, oppida, prouincias, regna ad orbis imperium ascenderit, omnia probe perspexerit; neque, vt sunt humana, quicquam vllibi repererit beatum, diuturnum, et tale, quo finiri ct saturari queat eius appetitus. Tunc enim incipiet meliora quaerere, tunc ä terra huc in coelum ascendet, tum animum fessum curis inanibus ad hanc quietem transferet, tum dicet\n",
      "Felices animas, quibus haec cognoscere primum io\tInque domos superas scandere cura fuit,\n",
      "quare contemnere incipiet, quae olim praestantissima censuit, sola haec Dei opera magnifacict, atque meram et sinceram tandem voluptatem ex Itis contemplationibus capiet. Contemnant igitur haec et huiusmodi meletemata, quicunquc, quantumcunque volent, quaerantque sibi vn-diquaque commoda, diuitias, thesauros: Astronomis isthaec gloria sufficiat, quod Philosophis sua scribunt, non rabulis; Regibus non pastoribus. Praedico intrepidi, futuros tamen aliquos, qui suae sibi senectutis hinc comparent solatium; tales nempe, qui quoad Magistratus gesserunt, ita se gesserunt, vt liberi morsibus conscientiae, habiles esse possint 3° fruendis hisce dei ici js.\n",
      "Existet iterum Carolvs aliquis, qui, cum Europa, quoad imperauerit, non caperetur; fessus imperijs, exigua S. Iusti cellula capiatur: cuique inter tot spectacula, titulos, triumphos, tot diuitias, vrbes, regna; unica Turrianica, vel iam Copernicopythagoraea Sphaera Planetaria tantopere placeat, vt orbem terrarum, cum ea commutet, digitoque circulos, quäm t populos imperijs regere malit.\n",
      "Non haec eo dico, viri Amplissimi, vt nouum paradoxon, senes dis-j cipulos, in scenam, seu in scholas producam: sed vt appareat1 quodnam genuinum tempus sit messem de his studijs colligendi. Cur enim de\n",
      "lj) repetierit\n",
      "14) propi\n",
      "8\n",
      "\n"
     ]
    }
   ],
   "source": [
    "print(textKepler)"
   ]
  },
  {
   "cell_type": "markdown",
   "metadata": {},
   "source": [
    "## Einlesen der Pakete und Laden der Corpora und Modelle"
   ]
  },
  {
   "cell_type": "code",
   "execution_count": 105,
   "metadata": {
    "collapsed": false
   },
   "outputs": [],
   "source": [
    "import cltk\n",
    "#import cltk.tag.pos as PosTag"
   ]
  },
  {
   "cell_type": "markdown",
   "metadata": {},
   "source": [
    "Nach dem Installieren von cltk müssen die gewünschten Corpora geladen werden."
   ]
  },
  {
   "cell_type": "code",
   "execution_count": 15,
   "metadata": {
    "collapsed": false
   },
   "outputs": [
    {
     "data": {
      "text/plain": [
       "['latin_text_perseus',\n",
       " 'latin_treebank_perseus',\n",
       " 'latin_treebank_perseus',\n",
       " 'latin_text_latin_library',\n",
       " 'phi5',\n",
       " 'phi7',\n",
       " 'latin_proper_names_cltk',\n",
       " 'latin_models_cltk',\n",
       " 'latin_pos_lemmata_cltk',\n",
       " 'latin_treebank_index_thomisticus',\n",
       " 'latin_lexica_perseus',\n",
       " 'latin_training_set_sentence_cltk',\n",
       " 'latin_word2vec_cltk',\n",
       " 'latin_text_antique_digiliblt',\n",
       " 'latin_text_corpus_grammaticorum_latinorum']"
      ]
     },
     "execution_count": 15,
     "metadata": {},
     "output_type": "execute_result"
    }
   ],
   "source": [
    "from cltk.corpus.utils.importer import CorpusImporter\n",
    "corpus_importer = CorpusImporter('latin') \n",
    "corpus_importer.list_corpora"
   ]
  },
  {
   "cell_type": "code",
   "execution_count": 16,
   "metadata": {
    "collapsed": false
   },
   "outputs": [],
   "source": [
    "# Zum Beispiel die Modelle für lateinische Texte\n",
    "corpus_importer.import_corpus('latin_models_cltk')"
   ]
  },
  {
   "cell_type": "markdown",
   "metadata": {},
   "source": [
    "## Umwandlung von j und v \n",
    "\n",
    "In dieser Ausgabe des Gesamtwerkes Keplers sind u als v kodiert. Dies kann mit dem JVReplacer geändert werden."
   ]
  },
  {
   "cell_type": "code",
   "execution_count": 18,
   "metadata": {
    "collapsed": false
   },
   "outputs": [],
   "source": [
    "from cltk.stem.latin.j_v import JVReplacer\n",
    "\n",
    "j = JVReplacer()\n",
    "\n",
    "keplerNew = j.replace(textKepler)"
   ]
  },
  {
   "cell_type": "code",
   "execution_count": 19,
   "metadata": {
    "collapsed": false
   },
   "outputs": [
    {
     "name": "stdout",
     "output_type": "stream",
     "text": [
      "eum Sol et Luna, etc. Quae uox coelo? quae stellis? qua Deum laudent t instar hominis? Nisi quod, dum argumenta suppeditant hominibus laudandi Dei, Deum ipsae laudare dicuntur. Quam uocem, coelis et Naturae rerum dum aperimus his pagellis, clarioremque efficimus: nemo nos uanitatis, aut inutiliter sumpti laboris arguat.\n",
      "Taceo, quöd haec materia, Creationis, quam negarunt Philosophi, magnum argumentum est: dum cernimus, uti Deus instar alicuius ex nostratibus Architectis, ordine et norma ad mundi molitionem accesserit, singulaque sit ita dimensus; quasi non ars naturam imitaretur, sed Deus ipse ad hominis futuri morem aedificandi, respexisset.\ti0\n",
      "Quanquam quid necessc est, diuinarum rerum usus instar obsonii nummo aestimare? Nam quid quaeso prodest uentri famelico cognitio rerum naturalium, quid tota reliqua Astronomia? Neque tamen audiunt cordati homines illam barbariem, quae deserenda propterea ista studia clamitat. Pictores ferimus, qui oculos, Symphoniacos, qui aures oblectant: quam\n"
     ]
    }
   ],
   "source": [
    "print(keplerNew[:1000])"
   ]
  },
  {
   "cell_type": "markdown",
   "metadata": {},
   "source": [
    "## Lemmatization\n",
    "\n",
    "Die Grundform eines Wortes wird als Lemma bezeichnet. Für einen Text können wir den LemmaReplacer anwenden und so eine Liste aller Grundformen erhalten."
   ]
  },
  {
   "cell_type": "code",
   "execution_count": 20,
   "metadata": {
    "collapsed": false
   },
   "outputs": [
    {
     "data": {
      "text/plain": [
       "['is',\n",
       " 'sol',\n",
       " 'et',\n",
       " 'luno',\n",
       " ',',\n",
       " 'etc.',\n",
       " 'qui1',\n",
       " 'vox',\n",
       " 'caelum2',\n",
       " '?',\n",
       " 'qui1',\n",
       " 'stella',\n",
       " '?',\n",
       " 'qui1',\n",
       " 'deus',\n",
       " 'laudo',\n",
       " 't',\n",
       " 'instar',\n",
       " 'homo',\n",
       " '?']"
      ]
     },
     "execution_count": 20,
     "metadata": {},
     "output_type": "execute_result"
    }
   ],
   "source": [
    "from cltk.stem.lemma import LemmaReplacer\n",
    "\n",
    "textLower = keplerNew.lower()\n",
    "\n",
    "lemmatizer = LemmaReplacer('latin')\n",
    "\n",
    "lemmatizer.lemmatize(textLower)[:20]"
   ]
  },
  {
   "cell_type": "markdown",
   "metadata": {},
   "source": [
    "## Deklination\n",
    "\n",
    "Um die möglichen Deklinationen eines Wortes zu erhalten, muss die Grundform übergeben werden."
   ]
  },
  {
   "cell_type": "code",
   "execution_count": 21,
   "metadata": {
    "collapsed": false
   },
   "outputs": [
    {
     "name": "stdout",
     "output_type": "stream",
     "text": [
      "[('deus', '--s----n-'), ('deus', '--s----v-'), ('deum', '--s----a-'), ('dei', '--s----g-'), ('deo', '--s----d-'), ('deo', '--s----b-'), ('dei', '--p----n-'), ('dii', '--p----n-'), ('di', '--p----n-'), ('dei', '--p----v-'), ('dii', '--p----v-'), ('di', '--p----v-'), ('deos', '--p----a-'), ('deorum', '--p----g-'), ('deis', '--p----d-'), ('diis', '--p----d-'), ('dis', '--p----d-'), ('deis', '--p----b-'), ('diis', '--p----b-'), ('dis', '--p----b-')]\n"
     ]
    }
   ],
   "source": [
    "from cltk.stem.latin.declension import CollatinusDecliner\n",
    "\n",
    "decliner = CollatinusDecliner()\n",
    "\n",
    "print(decliner.decline(\"deus\"))"
   ]
  },
  {
   "cell_type": "code",
   "execution_count": 22,
   "metadata": {
    "collapsed": false
   },
   "outputs": [
    {
     "name": "stdout",
     "output_type": "stream",
     "text": [
      "['is', 'eum', 'ejus', 'ei', 'eo', 'ei', 'ii', 'eos', 'eorum', 'eis', 'iis', 'ea', 'eam', 'ejus', 'ei', 'ea', 'eae', 'eas', 'earum', 'eis', 'iis', 'id', 'id', 'ejus', 'ei', 'eo', 'ea', 'ea', 'eorum', 'eis', 'iis']\n"
     ]
    }
   ],
   "source": [
    "print(decliner.decline(\"is\", flatten=True))"
   ]
  },
  {
   "cell_type": "markdown",
   "metadata": {},
   "source": [
    "## Tokenizers"
   ]
  },
  {
   "cell_type": "markdown",
   "metadata": {},
   "source": [
    "### Wörter\n",
    "\n",
    "Die Trennung von Wörtern erfolgt durch nltk. Satzzeichen werden dadurch richtig von den Wörtern getrennt. "
   ]
  },
  {
   "cell_type": "code",
   "execution_count": 23,
   "metadata": {
    "collapsed": true
   },
   "outputs": [],
   "source": [
    "from cltk.tokenize.word import nltk_tokenize_words"
   ]
  },
  {
   "cell_type": "code",
   "execution_count": 24,
   "metadata": {
    "collapsed": false
   },
   "outputs": [
    {
     "data": {
      "text/plain": [
       "['eum',\n",
       " 'Sol',\n",
       " 'et',\n",
       " 'Luna',\n",
       " ',',\n",
       " 'etc',\n",
       " '.',\n",
       " 'Quae',\n",
       " 'uox',\n",
       " 'coelo',\n",
       " '?',\n",
       " 'quae',\n",
       " 'stellis',\n",
       " '?',\n",
       " 'qua',\n",
       " 'Deum',\n",
       " 'laudent',\n",
       " 't',\n",
       " 'instar',\n",
       " 'hominis']"
      ]
     },
     "execution_count": 24,
     "metadata": {},
     "output_type": "execute_result"
    }
   ],
   "source": [
    "nltk_tokenize_words(keplerNew)[:20]"
   ]
  },
  {
   "cell_type": "markdown",
   "metadata": {},
   "source": [
    "### Sätze \n",
    "\n",
    "Die Trennung von einzelnen Sätzen erfolgt relativ zuverlässig mit einem vortrainierten Modell. Doppelpunkte kennzeichnen in diesem Model bereits ein Satzende."
   ]
  },
  {
   "cell_type": "code",
   "execution_count": 25,
   "metadata": {
    "collapsed": false
   },
   "outputs": [],
   "source": [
    "from cltk.tokenize.sentence import TokenizeSentence\n",
    "\n",
    "tokenizer = TokenizeSentence('latin')\n",
    "\n",
    "sentences = tokenizer.tokenize_sentences(keplerNew)"
   ]
  },
  {
   "cell_type": "code",
   "execution_count": 26,
   "metadata": {
    "collapsed": false
   },
   "outputs": [
    {
     "name": "stdout",
     "output_type": "stream",
     "text": [
      "eum Sol et Luna, etc.\n",
      "---\n",
      "Quae uox coelo?\n",
      "---\n",
      "quae stellis?\n",
      "---\n",
      "qua Deum laudent t instar hominis?\n",
      "---\n",
      "Nisi quod, dum argumenta suppeditant hominibus laudandi Dei, Deum ipsae laudare dicuntur.\n",
      "---\n",
      "Quam uocem, coelis et Naturae rerum dum aperimus his pagellis, clarioremque efficimus:\n",
      "---\n",
      "nemo nos uanitatis, aut inutiliter sumpti laboris arguat.\n",
      "---\n",
      "Taceo, quöd haec materia, Creationis, quam negarunt Philosophi, magnum argumentum est:\n",
      "---\n",
      "dum cernimus, uti Deus instar alicuius ex nostratibus Architectis, ordine et norma ad mundi molitionem accesserit, singulaque sit ita dimensus; quasi non ars naturam imitaretur, sed Deus ipse ad hominis futuri morem aedificandi, respexisset.\n",
      "---\n",
      "i0\n",
      "Quanquam quid necessc est, diuinarum rerum usus instar obsonii nummo aestimare?\n",
      "---\n"
     ]
    }
   ],
   "source": [
    "for x in sentences[:10]:\n",
    "    print(x)\n",
    "    print('---')"
   ]
  },
  {
   "cell_type": "markdown",
   "metadata": {},
   "source": [
    "### POS Tags\n",
    "\n",
    "Auch POS Tags können für einen lateinischen Text gefunden werden. Hier scheint aber das bereits trainierte Model noch Lücken zu haben. Nicht gefundene Wörter werden mit None bzw Unk getaggt. "
   ]
  },
  {
   "cell_type": "code",
   "execution_count": 27,
   "metadata": {
    "collapsed": false
   },
   "outputs": [
    {
     "data": {
      "text/plain": [
       "[('Nisi', None),\n",
       " ('quod', 'C--------'),\n",
       " (',', 'U--------'),\n",
       " ('dum', 'C--------'),\n",
       " ('argumenta', None),\n",
       " ('suppeditant', None),\n",
       " ('hominibus', 'N-P---MB-'),\n",
       " ('laudandi', None),\n",
       " ('Dei', None),\n",
       " (',', 'U--------'),\n",
       " ('Deum', None),\n",
       " ('ipsae', None),\n",
       " ('laudare', 'V--PNA---'),\n",
       " ('dicuntur', 'V3PPIP---'),\n",
       " ('.', 'U--------')]"
      ]
     },
     "execution_count": 27,
     "metadata": {},
     "output_type": "execute_result"
    }
   ],
   "source": [
    "sent = sentences[4]\n",
    "\n",
    "from cltk.tag.pos import POSTag\n",
    "\n",
    "tagger = POSTag('latin')\n",
    "\n",
    "tagger.tag_ngram_123_backoff(sent)"
   ]
  },
  {
   "cell_type": "code",
   "execution_count": 28,
   "metadata": {
    "collapsed": false
   },
   "outputs": [
    {
     "data": {
      "text/plain": [
       "[('Nisi', 'Unk'),\n",
       " ('quod', 'C--------'),\n",
       " (',', 'U--------'),\n",
       " ('dum', 'C--------'),\n",
       " ('argumenta', 'Unk'),\n",
       " ('suppeditant', 'Unk'),\n",
       " ('hominibus', 'N-P---MB-'),\n",
       " ('laudandi', 'Unk'),\n",
       " ('Dei', 'Unk'),\n",
       " (',', 'U--------'),\n",
       " ('Deum', 'Unk'),\n",
       " ('ipsae', 'Unk'),\n",
       " ('laudare', 'V--PNA---'),\n",
       " ('dicuntur', 'V3PPIP---'),\n",
       " ('.', 'U--------')]"
      ]
     },
     "execution_count": 28,
     "metadata": {},
     "output_type": "execute_result"
    }
   ],
   "source": [
    "tagger.tag_tnt(sent)"
   ]
  },
  {
   "cell_type": "code",
   "execution_count": null,
   "metadata": {
    "collapsed": true
   },
   "outputs": [],
   "source": []
  }
 ],
 "metadata": {
  "anaconda-cloud": {},
  "kernelspec": {
   "display_name": "Python 3",
   "language": "python",
   "name": "python3"
  },
  "language_info": {
   "codemirror_mode": {
    "name": "ipython",
    "version": 3
   },
   "file_extension": ".py",
   "mimetype": "text/x-python",
   "name": "python",
   "nbconvert_exporter": "python",
   "pygments_lexer": "ipython3",
   "version": "3.5.2"
  },
  "latex_envs": {
   "bibliofile": "biblio.bib",
   "cite_by": "apalike",
   "current_citInitial": 1,
   "eqLabelWithNumbers": true,
   "eqNumInitial": 0
  },
  "nav_menu": {},
  "toc": {
   "navigate_menu": true,
   "number_sections": true,
   "sideBar": true,
   "threshold": 6,
   "toc_cell": false,
   "toc_section_display": "block",
   "toc_window_display": false
  }
 },
 "nbformat": 4,
 "nbformat_minor": 0
}
