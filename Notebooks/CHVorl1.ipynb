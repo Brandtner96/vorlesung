{
 "cells": [
  {
   "cell_type": "markdown",
   "metadata": {},
   "source": [
    "# Vorlesung 1: Python: Sprache für computational humanities\n",
    "\n",
    "Tutorial:\n",
    " - https://py-tutorial-de.readthedocs.io/de/python-3.3/index.html\n",
    "Lectures:\n",
    " - https://github.com/rajathkumarmp/Python-Lectures\n",
    " - https://www.hdm-stuttgart.de/~maucher/Python/html/"
   ]
  },
  {
   "cell_type": "markdown",
   "metadata": {},
   "source": [
    "## Grundelemente der Sprache\n",
    "### Module und Bibliotheken deklarieren\n",
    "https://www.hdm-stuttgart.de/~maucher/Python/html/Module.html"
   ]
  },
  {
   "cell_type": "code",
   "execution_count": 11,
   "metadata": {
    "collapsed": false
   },
   "outputs": [],
   "source": [
    "# importieren von Modulen/Bibliotheken"
   ]
  },
  {
   "cell_type": "markdown",
   "metadata": {},
   "source": [
    "### Objekte"
   ]
  },
  {
   "cell_type": "markdown",
   "metadata": {},
   "source": [
    "#### Typen von Daten\n",
    "https://www.hdm-stuttgart.de/~maucher/Python/html/Datentypen.html"
   ]
  },
  {
   "cell_type": "code",
   "execution_count": 12,
   "metadata": {
    "collapsed": false
   },
   "outputs": [
    {
     "data": {
      "text/plain": [
       "{'eins': 1, 'zwei': 2}"
      ]
     },
     "execution_count": 12,
     "metadata": {},
     "output_type": "execute_result"
    }
   ],
   "source": [
    "# strings\n",
    "\"Dieses ist eine Zeichenfolge\"\n",
    "'Auch dieses ist eine Zeichenfolge'\n",
    "# number\n",
    "2.12\n",
    "# Liste\n",
    "[\"Zeichen1\",\"Z2\",\"Z3\"]\n",
    "# dictionaries\n",
    "{\"eins\":1,\"zwei\":2}"
   ]
  },
  {
   "cell_type": "markdown",
   "metadata": {},
   "source": [
    "### Variablen als Namen\n",
    "\"=\" als Zuordnung"
   ]
  },
  {
   "cell_type": "code",
   "execution_count": 13,
   "metadata": {
    "collapsed": false
   },
   "outputs": [],
   "source": [
    "# strings\n",
    "a=\"Dieses ist eine Zeichenfolge\"\n",
    "# number\n",
    "b=2.12\n",
    "# Liste\n",
    "c=[\"Zeichen1\",\"Z2\",\"Z3\"]\n",
    "# dictionaries\n",
    "d={\"eins\":1,\"zwei\":2}"
   ]
  },
  {
   "cell_type": "code",
   "execution_count": 14,
   "metadata": {
    "collapsed": false
   },
   "outputs": [
    {
     "name": "stdout",
     "output_type": "stream",
     "text": [
      "{'eins': 1, 'zwei': 2}\n"
     ]
    }
   ],
   "source": [
    "print(d)"
   ]
  },
  {
   "cell_type": "code",
   "execution_count": 17,
   "metadata": {
    "collapsed": false
   },
   "outputs": [
    {
     "data": {
      "text/plain": [
       "7"
      ]
     },
     "execution_count": 17,
     "metadata": {},
     "output_type": "execute_result"
    }
   ],
   "source": [
    "a.count(\"e\")"
   ]
  },
  {
   "cell_type": "code",
   "execution_count": 18,
   "metadata": {
    "collapsed": false
   },
   "outputs": [
    {
     "data": {
      "text/plain": [
       "True"
      ]
     },
     "execution_count": 18,
     "metadata": {},
     "output_type": "execute_result"
    }
   ],
   "source": [
    "\"ie\" in a"
   ]
  },
  {
   "cell_type": "markdown",
   "metadata": {},
   "source": [
    "### Funktionen"
   ]
  },
  {
   "cell_type": "code",
   "execution_count": null,
   "metadata": {
    "collapsed": false
   },
   "outputs": [],
   "source": [
    "len(c)"
   ]
  },
  {
   "cell_type": "markdown",
   "metadata": {
    "code_folding": []
   },
   "source": [
    "### Methoden der Objekte"
   ]
  },
  {
   "cell_type": "code",
   "execution_count": null,
   "metadata": {
    "collapsed": false
   },
   "outputs": [],
   "source": [
    "# nutzen Sie TAB, um nach dem Punkt die zulässigen Methoden anzuzeigen\n",
    "d[\"eins\"]"
   ]
  },
  {
   "cell_type": "code",
   "execution_count": null,
   "metadata": {
    "collapsed": false
   },
   "outputs": [],
   "source": [
    "c.sort()\n",
    "c"
   ]
  },
  {
   "cell_type": "code",
   "execution_count": 16,
   "metadata": {
    "collapsed": true
   },
   "outputs": [],
   "source": [
    "import json\n",
    "import pandas as pd"
   ]
  },
  {
   "cell_type": "code",
   "execution_count": 10,
   "metadata": {
    "collapsed": false
   },
   "outputs": [],
   "source": [
    "with open('chapter1.json') as json_data:\n",
    "    PoleisRawData = json.load(json_data)\n",
    "PoleisKeyList = list(PoleisRawData)\n",
    "for i in PoleisKeyList:\n",
    "    if \"Megara\" in PoleisRawData[i]:\n",
    "        # Auskommentieren für langen Text-Ausdruck\n",
    "        #print(PoleisRawData[i])\n",
    "        pass"
   ]
  },
  {
   "cell_type": "code",
   "execution_count": 17,
   "metadata": {
    "collapsed": false
   },
   "outputs": [
    {
     "data": {
      "text/plain": [
       "dict"
      ]
     },
     "execution_count": 17,
     "metadata": {},
     "output_type": "execute_result"
    }
   ],
   "source": [
    "type(PoleisRawData)"
   ]
  },
  {
   "cell_type": "code",
   "execution_count": 107,
   "metadata": {
    "collapsed": false
   },
   "outputs": [],
   "source": [
    "# Liest das Dictionary als Dataframe ein. Namen der Poleis werden als Index benutzt.\n",
    "dfPoleis = pd.DataFrame.from_dict(PoleisRawData, orient='index')\n",
    "# Umnennen der Spalte von 0 zu 'full_text'\n",
    "dfPoleis = dfPoleis.rename(columns={0: 'full_text'})"
   ]
  },
  {
   "cell_type": "code",
   "execution_count": 108,
   "metadata": {
    "collapsed": false
   },
   "outputs": [],
   "source": [
    "# Extrahiere Name der Polis aus Index\n",
    "dfPoleis['city'] = [x[4:] for x in dfPoleis.index]\n",
    "\n",
    "# Extrahiere Nummer des Polis Eintrags\n",
    "dfPoleis['city_index'] = [int(re.findall('\\d{1,2}', x)[0]) for x in dfPoleis.index]\n",
    "\n",
    "# Nutze neuen Index (startet bei 0)\n",
    "dfPoleis = dfPoleis.reset_index(drop=True)"
   ]
  },
  {
   "cell_type": "code",
   "execution_count": 109,
   "metadata": {
    "collapsed": false
   },
   "outputs": [
    {
     "data": {
      "text/html": [
       "<div>\n",
       "<table border=\"1\" class=\"dataframe\">\n",
       "  <thead>\n",
       "    <tr style=\"text-align: right;\">\n",
       "      <th></th>\n",
       "      <th>full_text</th>\n",
       "      <th>city</th>\n",
       "      <th>city_index</th>\n",
       "    </tr>\n",
       "  </thead>\n",
       "  <tbody>\n",
       "    <tr>\n",
       "      <th>0</th>\n",
       "      <td>(Tauromenitas) Map  47.  Lat. 37.50, long. 15....</td>\n",
       "      <td>Tauromenion</td>\n",
       "      <td>48</td>\n",
       "    </tr>\n",
       "    <tr>\n",
       "      <th>1</th>\n",
       "      <td>(Megareus) Map  47.  Lat. 37.10,long.  15.10. ...</td>\n",
       "      <td>Megara</td>\n",
       "      <td>36</td>\n",
       "    </tr>\n",
       "    <tr>\n",
       "      <th>2</th>\n",
       "      <td>(Mytiseratinos) Map  47.  Lat. 37.35,long. 14....</td>\n",
       "      <td>Mytistratos</td>\n",
       "      <td>39</td>\n",
       "    </tr>\n",
       "    <tr>\n",
       "      <th>3</th>\n",
       "      <td>(Ailoros) Map  47.  Lat. 36.50,long.  15.05.  ...</td>\n",
       "      <td>Heloron</td>\n",
       "      <td>18</td>\n",
       "    </tr>\n",
       "    <tr>\n",
       "      <th>4</th>\n",
       "      <td>(Alaisinos) Map  47.  Lat. 38.00,long.  14.15....</td>\n",
       "      <td>Alaisa</td>\n",
       "      <td>11</td>\n",
       "    </tr>\n",
       "    <tr>\n",
       "      <th>5</th>\n",
       "      <td>Map 47.  Lat. 37.10,long.  14.55:  the  loca- ...</td>\n",
       "      <td>(Stielanaioi)</td>\n",
       "      <td>46</td>\n",
       "    </tr>\n",
       "    <tr>\n",
       "      <th>6</th>\n",
       "      <td>(Piakinos) Map  47.  Unlocated,  but  possibly...</td>\n",
       "      <td>Piakos</td>\n",
       "      <td>43</td>\n",
       "    </tr>\n",
       "    <tr>\n",
       "      <th>7</th>\n",
       "      <td>(Hennaios) Map  47.  Lat. 37.35,long.  14.15. ...</td>\n",
       "      <td>Henna</td>\n",
       "      <td>19</td>\n",
       "    </tr>\n",
       "    <tr>\n",
       "      <th>8</th>\n",
       "      <td>(Akragantinos) Map  47.  Lat. 37.20,long.  13....</td>\n",
       "      <td>kragas</td>\n",
       "      <td>9</td>\n",
       "    </tr>\n",
       "    <tr>\n",
       "      <th>9</th>\n",
       "      <td>(Abakaininos) Map  47.  Lat. 38.05,long. 15.05...</td>\n",
       "      <td>bakainon</td>\n",
       "      <td>5</td>\n",
       "    </tr>\n",
       "    <tr>\n",
       "      <th>10</th>\n",
       "      <td>(Agyrinaios) Map  47.  Lat. 37.40,long.  14.30...</td>\n",
       "      <td>gyrion</td>\n",
       "      <td>7</td>\n",
       "    </tr>\n",
       "    <tr>\n",
       "      <th>11</th>\n",
       "      <td>(Galarinos) Map  47.Unlocated  (Manni  ( 1981)...</td>\n",
       "      <td>Galeria</td>\n",
       "      <td>16</td>\n",
       "    </tr>\n",
       "    <tr>\n",
       "      <th>12</th>\n",
       "      <td>(Herakleotes) Map  47.  Lat. 37.25,long. 13.15...</td>\n",
       "      <td>Herakleia 1</td>\n",
       "      <td>20</td>\n",
       "    </tr>\n",
       "    <tr>\n",
       "      <th>13</th>\n",
       "      <td>(Kephaloiditas) Map  47.  Lat. 38.00, long. 14...</td>\n",
       "      <td>Kephaloidion</td>\n",
       "      <td>32</td>\n",
       "    </tr>\n",
       "    <tr>\n",
       "      <th>14</th>\n",
       "      <td>(Alontinos) Map  47.  Lat. 38.05,long.  14.40....</td>\n",
       "      <td>Alontion</td>\n",
       "      <td>12</td>\n",
       "    </tr>\n",
       "    <tr>\n",
       "      <th>15</th>\n",
       "      <td>(Hipanatas)  Map  47.  Lat. 37.40,long.  13.25...</td>\n",
       "      <td>Hippana</td>\n",
       "      <td>25</td>\n",
       "    </tr>\n",
       "    <tr>\n",
       "      <th>16</th>\n",
       "      <td>(Kasmenaios) Map  47.  Lat. 37.05,long. 14.50....</td>\n",
       "      <td>Kasmenai</td>\n",
       "      <td>29</td>\n",
       "    </tr>\n",
       "    <tr>\n",
       "      <th>17</th>\n",
       "      <td>(Katanaios) Map  47.  Lat. 37.30,long.  15.05....</td>\n",
       "      <td>Katane</td>\n",
       "      <td>30</td>\n",
       "    </tr>\n",
       "    <tr>\n",
       "      <th>18</th>\n",
       "      <td>Map 47.  Unlocated.  Type:  C: .The  Tyr- rhen...</td>\n",
       "      <td>(Tyrrhenoi)</td>\n",
       "      <td>50</td>\n",
       "    </tr>\n",
       "    <tr>\n",
       "      <th>19</th>\n",
       "      <td>(Kallipolites)  Map  47.  Unlocated.  Type:  A...</td>\n",
       "      <td>Kallipolis</td>\n",
       "      <td>27</td>\n",
       "    </tr>\n",
       "    <tr>\n",
       "      <th>20</th>\n",
       "      <td>(Selinousios) Map  47.  Lat. 37.35,long.  12.5...</td>\n",
       "      <td>Selinous</td>\n",
       "      <td>44</td>\n",
       "    </tr>\n",
       "    <tr>\n",
       "      <th>21</th>\n",
       "      <td>(Akraios) Map  47.  Lat. 37.05,long.  14.55.  ...</td>\n",
       "      <td>Akrai</td>\n",
       "      <td>10</td>\n",
       "    </tr>\n",
       "    <tr>\n",
       "      <th>22</th>\n",
       "      <td>(Engyinos)  Map  47.  Lat. 37.45,long.  14.35....</td>\n",
       "      <td>Engyon</td>\n",
       "      <td>14</td>\n",
       "    </tr>\n",
       "    <tr>\n",
       "      <th>23</th>\n",
       "      <td>(Syrakosios) Map  47.  Lat. 37.05,long. 15.15....</td>\n",
       "      <td>Syrakousai</td>\n",
       "      <td>47</td>\n",
       "    </tr>\n",
       "    <tr>\n",
       "      <th>24</th>\n",
       "      <td>(Kentoripinos) Map  47.  Lat. 37.35,long. 14.4...</td>\n",
       "      <td>Kentoripa</td>\n",
       "      <td>31</td>\n",
       "    </tr>\n",
       "    <tr>\n",
       "      <th>25</th>\n",
       "      <td>(Leontinos) Map  47.  Lat. 37.15,long.  15.00....</td>\n",
       "      <td>Leontinoi</td>\n",
       "      <td>33</td>\n",
       "    </tr>\n",
       "    <tr>\n",
       "      <th>26</th>\n",
       "      <td>(Tyndarites) Map  47.  Lat. 38.10,long.  15.05...</td>\n",
       "      <td>Tyndaris</td>\n",
       "      <td>49</td>\n",
       "    </tr>\n",
       "    <tr>\n",
       "      <th>27</th>\n",
       "      <td>(Apolloniates) Map  47.  Lat. 38.00,long. 14.3...</td>\n",
       "      <td>Apollonia</td>\n",
       "      <td>13</td>\n",
       "    </tr>\n",
       "    <tr>\n",
       "      <th>28</th>\n",
       "      <td>(Herbessinos) Map  47.  Unlocated,  but presum...</td>\n",
       "      <td>Herbes(s)os</td>\n",
       "      <td>22</td>\n",
       "    </tr>\n",
       "    <tr>\n",
       "      <th>29</th>\n",
       "      <td>(Imacharaios) Map  47.  Unlocated.  Barr. tent...</td>\n",
       "      <td>Imachara</td>\n",
       "      <td>26</td>\n",
       "    </tr>\n",
       "    <tr>\n",
       "      <th>30</th>\n",
       "      <td>(Naxios) Map  47.  Lat. 37.50,long.  15.15.  S...</td>\n",
       "      <td>Naxos</td>\n",
       "      <td>41</td>\n",
       "    </tr>\n",
       "    <tr>\n",
       "      <th>31</th>\n",
       "      <td>Map 47.  Unlocated  (cf.  Manni  ( 1981)  225)...</td>\n",
       "      <td>(Sileraioi)</td>\n",
       "      <td>45</td>\n",
       "    </tr>\n",
       "    <tr>\n",
       "      <th>32</th>\n",
       "      <td>(Liparaios) Map  47.  Lat. 38.30  long. 14.55....</td>\n",
       "      <td>Lipara</td>\n",
       "      <td>34</td>\n",
       "    </tr>\n",
       "    <tr>\n",
       "      <th>33</th>\n",
       "      <td>(Adranites) Map  47.  Lat. 37.40,long.  14.50....</td>\n",
       "      <td>dranon</td>\n",
       "      <td>6</td>\n",
       "    </tr>\n",
       "    <tr>\n",
       "      <th>34</th>\n",
       "      <td>(Geloios,  Geloaios) Map  47.  Lat. 37.05,long...</td>\n",
       "      <td>Gela</td>\n",
       "      <td>17</td>\n",
       "    </tr>\n",
       "    <tr>\n",
       "      <th>35</th>\n",
       "      <td>(Longenaios) Map  47.  Lat. 38.05,long. 15.10....</td>\n",
       "      <td>*Longane</td>\n",
       "      <td>35</td>\n",
       "    </tr>\n",
       "    <tr>\n",
       "      <th>36</th>\n",
       "      <td>(Kamarinaios) Map  47.  Lat. 36.50,long. 14.25...</td>\n",
       "      <td>Kamarina</td>\n",
       "      <td>28</td>\n",
       "    </tr>\n",
       "    <tr>\n",
       "      <th>37</th>\n",
       "      <td>(Himeraios) Map  47.  Lat. 37.55,long.  13.50....</td>\n",
       "      <td>Himera</td>\n",
       "      <td>24</td>\n",
       "    </tr>\n",
       "    <tr>\n",
       "      <th>38</th>\n",
       "      <td>(Euboeus)  Map  47.  Unlocated.  Type:  C: .Th...</td>\n",
       "      <td>Euboia</td>\n",
       "      <td>15</td>\n",
       "    </tr>\n",
       "    <tr>\n",
       "      <th>39</th>\n",
       "      <td>(Morgantinos) Map  47.  Lat. 37.25,long. 14.30...</td>\n",
       "      <td>Morgantina</td>\n",
       "      <td>37</td>\n",
       "    </tr>\n",
       "    <tr>\n",
       "      <th>40</th>\n",
       "      <td>(Aitnaios) Map  47.Location  of  Aitna  I  as ...</td>\n",
       "      <td>itna</td>\n",
       "      <td>8</td>\n",
       "    </tr>\n",
       "    <tr>\n",
       "      <th>41</th>\n",
       "      <td>(Zanklaios)/Messana</td>\n",
       "      <td>Zankle</td>\n",
       "      <td>51</td>\n",
       "    </tr>\n",
       "    <tr>\n",
       "      <th>42</th>\n",
       "      <td>(Mylaios) Map  47.  Lat. 38.15,  long  15.15. ...</td>\n",
       "      <td>Mylai</td>\n",
       "      <td>38</td>\n",
       "    </tr>\n",
       "    <tr>\n",
       "      <th>43</th>\n",
       "      <td>(Petrinos) Map  47.  Unlocated  (cf.  Bejor  (...</td>\n",
       "      <td>Petra</td>\n",
       "      <td>42</td>\n",
       "    </tr>\n",
       "    <tr>\n",
       "      <th>44</th>\n",
       "      <td>(Herbitaios) Map  47.Unlocated  (cf.  C.  Boeh...</td>\n",
       "      <td>Herbita</td>\n",
       "      <td>23</td>\n",
       "    </tr>\n",
       "    <tr>\n",
       "      <th>45</th>\n",
       "      <td>Map 47.Unlocated  site  in  western  Sicily, i...</td>\n",
       "      <td>Herakleia 2</td>\n",
       "      <td>21</td>\n",
       "    </tr>\n",
       "    <tr>\n",
       "      <th>46</th>\n",
       "      <td>(Nakonaios)  Map  47.  Unlocated  (Tegon ( 199...</td>\n",
       "      <td>Nakone</td>\n",
       "      <td>40</td>\n",
       "    </tr>\n",
       "  </tbody>\n",
       "</table>\n",
       "</div>"
      ],
      "text/plain": [
       "                                            full_text           city  \\\n",
       "0   (Tauromenitas) Map  47.  Lat. 37.50, long. 15....   Tauromenion    \n",
       "1   (Megareus) Map  47.  Lat. 37.10,long.  15.10. ...        Megara    \n",
       "2   (Mytiseratinos) Map  47.  Lat. 37.35,long. 14....   Mytistratos    \n",
       "3   (Ailoros) Map  47.  Lat. 36.50,long.  15.05.  ...       Heloron    \n",
       "4   (Alaisinos) Map  47.  Lat. 38.00,long.  14.15....        Alaisa    \n",
       "5   Map 47.  Lat. 37.10,long.  14.55:  the  loca- ...  (Stielanaioi)   \n",
       "6   (Piakinos) Map  47.  Unlocated,  but  possibly...        Piakos    \n",
       "7   (Hennaios) Map  47.  Lat. 37.35,long.  14.15. ...         Henna    \n",
       "8   (Akragantinos) Map  47.  Lat. 37.20,long.  13....        kragas    \n",
       "9   (Abakaininos) Map  47.  Lat. 38.05,long. 15.05...      bakainon    \n",
       "10  (Agyrinaios) Map  47.  Lat. 37.40,long.  14.30...        gyrion    \n",
       "11  (Galarinos) Map  47.Unlocated  (Manni  ( 1981)...       Galeria    \n",
       "12  (Herakleotes) Map  47.  Lat. 37.25,long. 13.15...    Herakleia 1   \n",
       "13  (Kephaloiditas) Map  47.  Lat. 38.00, long. 14...  Kephaloidion    \n",
       "14  (Alontinos) Map  47.  Lat. 38.05,long.  14.40....      Alontion    \n",
       "15  (Hipanatas)  Map  47.  Lat. 37.40,long.  13.25...       Hippana    \n",
       "16  (Kasmenaios) Map  47.  Lat. 37.05,long. 14.50....      Kasmenai    \n",
       "17  (Katanaios) Map  47.  Lat. 37.30,long.  15.05....        Katane    \n",
       "18  Map 47.  Unlocated.  Type:  C: .The  Tyr- rhen...    (Tyrrhenoi)   \n",
       "19  (Kallipolites)  Map  47.  Unlocated.  Type:  A...    Kallipolis    \n",
       "20  (Selinousios) Map  47.  Lat. 37.35,long.  12.5...      Selinous    \n",
       "21  (Akraios) Map  47.  Lat. 37.05,long.  14.55.  ...         Akrai    \n",
       "22  (Engyinos)  Map  47.  Lat. 37.45,long.  14.35....        Engyon    \n",
       "23  (Syrakosios) Map  47.  Lat. 37.05,long. 15.15....    Syrakousai    \n",
       "24  (Kentoripinos) Map  47.  Lat. 37.35,long. 14.4...     Kentoripa    \n",
       "25  (Leontinos) Map  47.  Lat. 37.15,long.  15.00....     Leontinoi    \n",
       "26  (Tyndarites) Map  47.  Lat. 38.10,long.  15.05...      Tyndaris    \n",
       "27  (Apolloniates) Map  47.  Lat. 38.00,long. 14.3...     Apollonia    \n",
       "28  (Herbessinos) Map  47.  Unlocated,  but presum...   Herbes(s)os    \n",
       "29  (Imacharaios) Map  47.  Unlocated.  Barr. tent...      Imachara    \n",
       "30  (Naxios) Map  47.  Lat. 37.50,long.  15.15.  S...         Naxos    \n",
       "31  Map 47.  Unlocated  (cf.  Manni  ( 1981)  225)...    (Sileraioi)   \n",
       "32  (Liparaios) Map  47.  Lat. 38.30  long. 14.55....        Lipara    \n",
       "33  (Adranites) Map  47.  Lat. 37.40,long.  14.50....        dranon    \n",
       "34  (Geloios,  Geloaios) Map  47.  Lat. 37.05,long...          Gela    \n",
       "35  (Longenaios) Map  47.  Lat. 38.05,long. 15.10....      *Longane    \n",
       "36  (Kamarinaios) Map  47.  Lat. 36.50,long. 14.25...      Kamarina    \n",
       "37  (Himeraios) Map  47.  Lat. 37.55,long.  13.50....        Himera    \n",
       "38  (Euboeus)  Map  47.  Unlocated.  Type:  C: .Th...        Euboia    \n",
       "39  (Morgantinos) Map  47.  Lat. 37.25,long. 14.30...    Morgantina    \n",
       "40  (Aitnaios) Map  47.Location  of  Aitna  I  as ...          itna    \n",
       "41                               (Zanklaios)/Messana         Zankle    \n",
       "42  (Mylaios) Map  47.  Lat. 38.15,  long  15.15. ...         Mylai    \n",
       "43  (Petrinos) Map  47.  Unlocated  (cf.  Bejor  (...         Petra    \n",
       "44  (Herbitaios) Map  47.Unlocated  (cf.  C.  Boeh...       Herbita    \n",
       "45  Map 47.Unlocated  site  in  western  Sicily, i...   Herakleia 2    \n",
       "46  (Nakonaios)  Map  47.  Unlocated  (Tegon ( 199...        Nakone    \n",
       "\n",
       "    city_index  \n",
       "0           48  \n",
       "1           36  \n",
       "2           39  \n",
       "3           18  \n",
       "4           11  \n",
       "5           46  \n",
       "6           43  \n",
       "7           19  \n",
       "8            9  \n",
       "9            5  \n",
       "10           7  \n",
       "11          16  \n",
       "12          20  \n",
       "13          32  \n",
       "14          12  \n",
       "15          25  \n",
       "16          29  \n",
       "17          30  \n",
       "18          50  \n",
       "19          27  \n",
       "20          44  \n",
       "21          10  \n",
       "22          14  \n",
       "23          47  \n",
       "24          31  \n",
       "25          33  \n",
       "26          49  \n",
       "27          13  \n",
       "28          22  \n",
       "29          26  \n",
       "30          41  \n",
       "31          45  \n",
       "32          34  \n",
       "33           6  \n",
       "34          17  \n",
       "35          35  \n",
       "36          28  \n",
       "37          24  \n",
       "38          15  \n",
       "39          37  \n",
       "40           8  \n",
       "41          51  \n",
       "42          38  \n",
       "43          42  \n",
       "44          23  \n",
       "45          21  \n",
       "46          40  "
      ]
     },
     "execution_count": 109,
     "metadata": {},
     "output_type": "execute_result"
    }
   ],
   "source": [
    "dfPoleis"
   ]
  },
  {
   "cell_type": "markdown",
   "metadata": {},
   "source": [
    "### Kontrollstrukturen der Verfahrensabläufe\n",
    "https://www.hdm-stuttgart.de/~maucher/Python/html/Kontrollstrukturen.html\n",
    "#### Iteratoren"
   ]
  },
  {
   "cell_type": "markdown",
   "metadata": {},
   "source": [
    "### Funktionen\n",
    "https://www.hdm-stuttgart.de/~maucher/Python/html/Funktionen.html"
   ]
  },
  {
   "cell_type": "code",
   "execution_count": null,
   "metadata": {
    "collapsed": false
   },
   "outputs": [],
   "source": [
    "### Klassen von Objekten\n",
    "https://www.hdm-stuttgart.de/~maucher/Python/html/Klassen.html"
   ]
  }
 ],
 "metadata": {
  "anaconda-cloud": {},
  "kernelspec": {
   "display_name": "Python 3",
   "language": "python",
   "name": "python3"
  },
  "language_info": {
   "codemirror_mode": {
    "name": "ipython",
    "version": 3
   },
   "file_extension": ".py",
   "mimetype": "text/x-python",
   "name": "python",
   "nbconvert_exporter": "python",
   "pygments_lexer": "ipython3",
   "version": "3.5.2"
  },
  "latex_envs": {
   "bibliofile": "biblio.bib",
   "cite_by": "apalike",
   "current_citInitial": 1,
   "eqLabelWithNumbers": true,
   "eqNumInitial": 0
  },
  "nav_menu": {},
  "toc": {
   "navigate_menu": true,
   "number_sections": true,
   "sideBar": true,
   "threshold": 6,
   "toc_cell": false,
   "toc_section_display": "block",
   "toc_window_display": false
  }
 },
 "nbformat": 4,
 "nbformat_minor": 0
}
