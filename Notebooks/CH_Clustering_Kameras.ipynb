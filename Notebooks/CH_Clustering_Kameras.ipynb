{
 "cells": [
  {
   "cell_type": "markdown",
   "metadata": {},
   "source": [
    "# Vorlesung: Clustering von Text-Daten\n",
    "\n",
    "Eingelesen wird eine Liste mit Beschreibungen von Kameras. Für die Daten zu Typ, Format, Baujahr und Objektiv-Typ, soll ein Merkmals-Vektor erzeugt werden. "
   ]
  },
  {
   "cell_type": "code",
   "execution_count": 52,
   "metadata": {
    "collapsed": true
   },
   "outputs": [],
   "source": [
    "import pandas as pd\n",
    "from sklearn.feature_extraction.text import CountVectorizer\n",
    "from sklearn.manifold import TSNE  \n",
    "from sklearn.decomposition import TruncatedSVD\n",
    "import matplotlib.pyplot as plt\n",
    "\n",
    "import hdbscan"
   ]
  },
  {
   "cell_type": "code",
   "execution_count": 49,
   "metadata": {
    "collapsed": true
   },
   "outputs": [],
   "source": [
    "%matplotlib inline"
   ]
  },
  {
   "cell_type": "code",
   "execution_count": 50,
   "metadata": {
    "collapsed": false
   },
   "outputs": [],
   "source": [
    "dfKameras= pd.read_excel('KameraKatalog.xls')"
   ]
  },
  {
   "cell_type": "code",
   "execution_count": 51,
   "metadata": {
    "collapsed": false
   },
   "outputs": [
    {
     "data": {
      "text/html": [
       "<div>\n",
       "<table border=\"1\" class=\"dataframe\">\n",
       "  <thead>\n",
       "    <tr style=\"text-align: right;\">\n",
       "      <th></th>\n",
       "      <th>Katalog-Nr.</th>\n",
       "      <th>Modellbezeichnung</th>\n",
       "      <th>Typ</th>\n",
       "      <th>Format</th>\n",
       "      <th>Baujahr</th>\n",
       "      <th>Baujahrende</th>\n",
       "      <th>Objektiv</th>\n",
       "      <th>Wechselobjektiv</th>\n",
       "      <th>Objektivanschluss</th>\n",
       "      <th>Verschluß</th>\n",
       "      <th>Verschlußbezeichnung</th>\n",
       "      <th>Verschlusszeit</th>\n",
       "      <th>Erläuterungen</th>\n",
       "      <th>US$</th>\n",
       "      <th>Unnamed: 43</th>\n",
       "      <th>Unnamed: 46</th>\n",
       "    </tr>\n",
       "  </thead>\n",
       "  <tbody>\n",
       "    <tr>\n",
       "      <th>0</th>\n",
       "      <td>SPZ0200</td>\n",
       "      <td>Bravolette Nr. 6580</td>\n",
       "      <td>Rollfilm</td>\n",
       "      <td>6x9</td>\n",
       "      <td>1908.0</td>\n",
       "      <td>NaN</td>\n",
       "      <td>Periskop</td>\n",
       "      <td>NaN</td>\n",
       "      <td>NaN</td>\n",
       "      <td>Einfach-Verschluss</td>\n",
       "      <td>Einfach-Verschluss</td>\n",
       "      <td>NaN</td>\n",
       "      <td>Met.-Box-Kamera, wie vor.</td>\n",
       "      <td>94</td>\n",
       "      <td>NaN</td>\n",
       "      <td>NaN</td>\n",
       "    </tr>\n",
       "    <tr>\n",
       "      <th>1</th>\n",
       "      <td>KOD2740</td>\n",
       "      <td>Flush Back Kodak No.3</td>\n",
       "      <td>Rollfilm</td>\n",
       "      <td>3 1/4x4 1/4</td>\n",
       "      <td>1909.0</td>\n",
       "      <td>1915.0</td>\n",
       "      <td>Rapid Rectilinear</td>\n",
       "      <td>NaN</td>\n",
       "      <td>NaN</td>\n",
       "      <td>B&amp;L Auto</td>\n",
       "      <td>B&amp;L Automat</td>\n",
       "      <td>NaN</td>\n",
       "      <td>Box-Falt-Kam, horiz. 48 Aufn, Platten od. Roll...</td>\n",
       "      <td>585</td>\n",
       "      <td>NaN</td>\n",
       "      <td>NaN</td>\n",
       "    </tr>\n",
       "    <tr>\n",
       "      <th>2</th>\n",
       "      <td>BRU0055</td>\n",
       "      <td>Paris Mod. II</td>\n",
       "      <td>Platten</td>\n",
       "      <td>13x18</td>\n",
       "      <td>1837.0</td>\n",
       "      <td>NaN</td>\n",
       "      <td>WO</td>\n",
       "      <td>Wechselobjektiv</td>\n",
       "      <td>NaN</td>\n",
       "      <td>NaN</td>\n",
       "      <td>NaN</td>\n",
       "      <td>NaN</td>\n",
       "      <td>Nußbaum, dopp. Ausz., kon.Balgen, Messing, Zah...</td>\n",
       "      <td>293</td>\n",
       "      <td>NaN</td>\n",
       "      <td>NaN</td>\n",
       "    </tr>\n",
       "    <tr>\n",
       "      <th>3</th>\n",
       "      <td>STH0050</td>\n",
       "      <td>Daguerreotypie-Kamera</td>\n",
       "      <td>Daguerreotypie</td>\n",
       "      <td>8x11</td>\n",
       "      <td>1839.0</td>\n",
       "      <td>NaN</td>\n",
       "      <td>Steinheil</td>\n",
       "      <td>NaN</td>\n",
       "      <td>NaN</td>\n",
       "      <td>NaN</td>\n",
       "      <td>NaN</td>\n",
       "      <td>NaN</td>\n",
       "      <td>Holz-Box-Kamera f0r Rollfilm, Geheimkamera    ...</td>\n",
       "      <td>749</td>\n",
       "      <td>NaN</td>\n",
       "      <td>NaN</td>\n",
       "    </tr>\n",
       "    <tr>\n",
       "      <th>4</th>\n",
       "      <td>CHE0005</td>\n",
       "      <td>Chevalier Daguerreotypie</td>\n",
       "      <td>Platten</td>\n",
       "      <td>8,2x19,8</td>\n",
       "      <td>1840.0</td>\n",
       "      <td>NaN</td>\n",
       "      <td>Chevalier Achromat</td>\n",
       "      <td>NaN</td>\n",
       "      <td>NaN</td>\n",
       "      <td>NaN</td>\n",
       "      <td>NaN</td>\n",
       "      <td>NaN</td>\n",
       "      <td>NaN</td>\n",
       "      <td>NaN</td>\n",
       "      <td>NaN</td>\n",
       "      <td>NaN</td>\n",
       "    </tr>\n",
       "  </tbody>\n",
       "</table>\n",
       "</div>"
      ],
      "text/plain": [
       "  Katalog-Nr.          Modellbezeichnung             Typ       Format  \\\n",
       "0      SPZ0200       Bravolette Nr. 6580        Rollfilm          6x9   \n",
       "1      KOD2740     Flush Back Kodak No.3        Rollfilm  3 1/4x4 1/4   \n",
       "2      BRU0055             Paris Mod. II         Platten        13x18   \n",
       "3      STH0050     Daguerreotypie-Kamera  Daguerreotypie         8x11   \n",
       "4      CHE0005  Chevalier Daguerreotypie         Platten     8,2x19,8   \n",
       "\n",
       "   Baujahr  Baujahrende            Objektiv  Wechselobjektiv  \\\n",
       "0   1908.0          NaN            Periskop              NaN   \n",
       "1   1909.0       1915.0   Rapid Rectilinear              NaN   \n",
       "2   1837.0          NaN                  WO  Wechselobjektiv   \n",
       "3   1839.0          NaN           Steinheil              NaN   \n",
       "4   1840.0          NaN  Chevalier Achromat              NaN   \n",
       "\n",
       "  Objektivanschluss           Verschluß Verschlußbezeichnung Verschlusszeit  \\\n",
       "0               NaN  Einfach-Verschluss   Einfach-Verschluss            NaN   \n",
       "1               NaN            B&L Auto          B&L Automat            NaN   \n",
       "2               NaN                 NaN                  NaN            NaN   \n",
       "3               NaN                 NaN                  NaN            NaN   \n",
       "4               NaN                 NaN                  NaN            NaN   \n",
       "\n",
       "                                       Erläuterungen  US$ Unnamed: 43  \\\n",
       "0                          Met.-Box-Kamera, wie vor.   94         NaN   \n",
       "1  Box-Falt-Kam, horiz. 48 Aufn, Platten od. Roll...  585         NaN   \n",
       "2  Nußbaum, dopp. Ausz., kon.Balgen, Messing, Zah...  293         NaN   \n",
       "3  Holz-Box-Kamera f0r Rollfilm, Geheimkamera    ...  749         NaN   \n",
       "4                                                NaN  NaN         NaN   \n",
       "\n",
       "  Unnamed: 46  \n",
       "0         NaN  \n",
       "1         NaN  \n",
       "2         NaN  \n",
       "3         NaN  \n",
       "4         NaN  "
      ]
     },
     "execution_count": 51,
     "metadata": {},
     "output_type": "execute_result"
    }
   ],
   "source": [
    "dfKameras.dropna(axis=1,how='all').head()"
   ]
  },
  {
   "cell_type": "markdown",
   "metadata": {},
   "source": [
    "Um den Dataframe zu reduzieren, wählen wir die gewünschten Spalten aus."
   ]
  },
  {
   "cell_type": "code",
   "execution_count": 7,
   "metadata": {
    "collapsed": true
   },
   "outputs": [],
   "source": [
    "dfKamRed = dfKameras[['Typ','Format','Baujahr','Objektiv']]"
   ]
  },
  {
   "cell_type": "code",
   "execution_count": 8,
   "metadata": {
    "collapsed": false
   },
   "outputs": [
    {
     "data": {
      "text/html": [
       "<div>\n",
       "<table border=\"1\" class=\"dataframe\">\n",
       "  <thead>\n",
       "    <tr style=\"text-align: right;\">\n",
       "      <th></th>\n",
       "      <th>Typ</th>\n",
       "      <th>Format</th>\n",
       "      <th>Baujahr</th>\n",
       "      <th>Objektiv</th>\n",
       "    </tr>\n",
       "  </thead>\n",
       "  <tbody>\n",
       "    <tr>\n",
       "      <th>0</th>\n",
       "      <td>Rollfilm</td>\n",
       "      <td>6x9</td>\n",
       "      <td>1908.0</td>\n",
       "      <td>Periskop</td>\n",
       "    </tr>\n",
       "    <tr>\n",
       "      <th>1</th>\n",
       "      <td>Rollfilm</td>\n",
       "      <td>3 1/4x4 1/4</td>\n",
       "      <td>1909.0</td>\n",
       "      <td>Rapid Rectilinear</td>\n",
       "    </tr>\n",
       "    <tr>\n",
       "      <th>2</th>\n",
       "      <td>Platten</td>\n",
       "      <td>13x18</td>\n",
       "      <td>1837.0</td>\n",
       "      <td>WO</td>\n",
       "    </tr>\n",
       "    <tr>\n",
       "      <th>3</th>\n",
       "      <td>Daguerreotypie</td>\n",
       "      <td>8x11</td>\n",
       "      <td>1839.0</td>\n",
       "      <td>Steinheil</td>\n",
       "    </tr>\n",
       "    <tr>\n",
       "      <th>4</th>\n",
       "      <td>Platten</td>\n",
       "      <td>8,2x19,8</td>\n",
       "      <td>1840.0</td>\n",
       "      <td>Chevalier Achromat</td>\n",
       "    </tr>\n",
       "  </tbody>\n",
       "</table>\n",
       "</div>"
      ],
      "text/plain": [
       "              Typ       Format  Baujahr            Objektiv\n",
       "0        Rollfilm          6x9   1908.0            Periskop\n",
       "1        Rollfilm  3 1/4x4 1/4   1909.0   Rapid Rectilinear\n",
       "2         Platten        13x18   1837.0                  WO\n",
       "3  Daguerreotypie         8x11   1839.0           Steinheil\n",
       "4         Platten     8,2x19,8   1840.0  Chevalier Achromat"
      ]
     },
     "execution_count": 8,
     "metadata": {},
     "output_type": "execute_result"
    }
   ],
   "source": [
    "dfKamRed.head()"
   ]
  },
  {
   "cell_type": "code",
   "execution_count": 64,
   "metadata": {
    "collapsed": false
   },
   "outputs": [],
   "source": [
    "dfKam1900 = dfKamRed[dfKamRed['Baujahr'] < 1900.0]"
   ]
  },
  {
   "cell_type": "markdown",
   "metadata": {},
   "source": [
    "## Erzeugen des Wort Vektors\n",
    "\n",
    "Das Paket scikit-learn bietet ein für unsere Zwecke passendes Tool: den CountVectorizer. Hiermit werden Listen von Sätzen nach den enthaltenen Wörtern in Zahlenreihen umgewandelt. Jeder Satz wird dann zu einer Zeile einer Matrix."
   ]
  },
  {
   "cell_type": "code",
   "execution_count": 55,
   "metadata": {
    "collapsed": true
   },
   "outputs": [],
   "source": [
    "vectorizer = CountVectorizer(max_features=300)"
   ]
  },
  {
   "cell_type": "markdown",
   "metadata": {},
   "source": [
    "Um die Funktion nutzen zu können, müssen wir erst NaN Einträge entfernen und alle Einträge in Strings umwandeln."
   ]
  },
  {
   "cell_type": "code",
   "execution_count": 65,
   "metadata": {
    "collapsed": true
   },
   "outputs": [],
   "source": [
    "dfKam = dfKam1900.dropna()"
   ]
  },
  {
   "cell_type": "code",
   "execution_count": 66,
   "metadata": {
    "collapsed": false
   },
   "outputs": [],
   "source": [
    "types = dfKam['Typ'].apply(str).values \n",
    "formats = dfKam['Format'].apply(str).values\n",
    "baujahre = dfKam['Baujahr'].apply(str).values\n",
    "objektive = dfKam['Objektiv'].apply(str).values"
   ]
  },
  {
   "cell_type": "markdown",
   "metadata": {},
   "source": [
    "Nun erzeugen wir künstlich Sätze, in dem wir für jede Zeile aus allen Einträgen der Spalten einen zusammenhängenden String bilden."
   ]
  },
  {
   "cell_type": "code",
   "execution_count": 67,
   "metadata": {
    "collapsed": false
   },
   "outputs": [],
   "source": [
    "corpus = [a + ' ' + b + ' ' + c + ' '+d for a,b,c,d in zip(types,formats,baujahre,objektive)]"
   ]
  },
  {
   "cell_type": "markdown",
   "metadata": {},
   "source": [
    "Aus dieser Satz-Liste können wir nun eine dünn besetzte Matrix bilden. Sonst würde durch die Menge der Datenpunkte der Speicherplatz nicht reichen. "
   ]
  },
  {
   "cell_type": "code",
   "execution_count": 68,
   "metadata": {
    "collapsed": false
   },
   "outputs": [],
   "source": [
    "X = vectorizer.fit_transform(corpus)"
   ]
  },
  {
   "cell_type": "code",
   "execution_count": 69,
   "metadata": {
    "collapsed": false
   },
   "outputs": [
    {
     "data": {
      "text/plain": [
       "<1204x300 sparse matrix of type '<class 'numpy.int64'>'\n",
       "\twith 5945 stored elements in Compressed Sparse Row format>"
      ]
     },
     "execution_count": 69,
     "metadata": {},
     "output_type": "execute_result"
    }
   ],
   "source": [
    "X"
   ]
  },
  {
   "cell_type": "markdown",
   "metadata": {},
   "source": [
    "## Clustering"
   ]
  },
  {
   "cell_type": "code",
   "execution_count": 70,
   "metadata": {
    "collapsed": false
   },
   "outputs": [
    {
     "data": {
      "text/plain": [
       "HDBSCAN(algorithm='best', allow_single_cluster=False, alpha=1.0,\n",
       "    approx_min_span_tree=True, core_dist_n_jobs=4, gen_min_span_tree=True,\n",
       "    leaf_size=40, match_reference_implementation=False,\n",
       "    memory=Memory(cachedir=None), metric='euclidean', min_cluster_size=5,\n",
       "    min_samples=5, p=None)"
      ]
     },
     "execution_count": 70,
     "metadata": {},
     "output_type": "execute_result"
    }
   ],
   "source": [
    "clusterer = hdbscan.HDBSCAN(metric='euclidean',min_cluster_size=5, min_samples=5, gen_min_span_tree=True)\n",
    "clusterer.fit(X)"
   ]
  },
  {
   "cell_type": "code",
   "execution_count": null,
   "metadata": {
    "collapsed": true
   },
   "outputs": [],
   "source": []
  }
 ],
 "metadata": {
  "anaconda-cloud": {},
  "kernelspec": {
   "display_name": "Python [Root]",
   "language": "python",
   "name": "Python [Root]"
  },
  "language_info": {
   "codemirror_mode": {
    "name": "ipython",
    "version": 3
   },
   "file_extension": ".py",
   "mimetype": "text/x-python",
   "name": "python",
   "nbconvert_exporter": "python",
   "pygments_lexer": "ipython3",
   "version": "3.5.2"
  },
  "latex_envs": {
   "bibliofile": "biblio.bib",
   "cite_by": "apalike",
   "current_citInitial": 1,
   "eqLabelWithNumbers": true,
   "eqNumInitial": 0
  },
  "nav_menu": {},
  "toc": {
   "navigate_menu": true,
   "number_sections": true,
   "sideBar": true,
   "threshold": 6,
   "toc_cell": false,
   "toc_section_display": "block",
   "toc_window_display": false
  }
 },
 "nbformat": 4,
 "nbformat_minor": 2
}
