{
 "cells": [
  {
   "cell_type": "markdown",
   "metadata": {
    "button": false,
    "deletable": true,
    "new_sheet": false,
    "run_control": {
     "read_only": false
    }
   },
   "source": [
    "# Vorlesung 4: Strukturen von Texten 2\n",
    "\n",
    "Reguläre Ausdrücke: http://www.regexe.de/hilfe.jsp\n",
    "                    https://pymotw.com/2/re\n",
    "\n",
    "Pandas: http://www.data-analysis-in-python.org/3_pandas.html\n",
    "      : https://bitbucket.org/hrojas/learn-pandas\n",
    "\n"
   ]
  },
  {
   "cell_type": "code",
   "execution_count": 1,
   "metadata": {
    "button": false,
    "collapsed": false,
    "deletable": true,
    "new_sheet": false,
    "run_control": {
     "read_only": false
    }
   },
   "outputs": [],
   "source": [
    "import json\n",
    "import pandas as pd\n",
    "import re\n",
    "import numpy as np"
   ]
  },
  {
   "cell_type": "markdown",
   "metadata": {},
   "source": [
    "## Text als Dataframe *Poleis*"
   ]
  },
  {
   "cell_type": "code",
   "execution_count": 2,
   "metadata": {
    "button": false,
    "collapsed": false,
    "deletable": true,
    "new_sheet": false,
    "run_control": {
     "read_only": false
    }
   },
   "outputs": [],
   "source": [
    "# json.load erzeugt ein dictionary der JSON Daten\n",
    "with open('chapter1.json') as json_data:\n",
    "    PoleisRawData = json.load(json_data)"
   ]
  },
  {
   "cell_type": "code",
   "execution_count": 3,
   "metadata": {
    "button": false,
    "collapsed": false,
    "deletable": true,
    "new_sheet": false,
    "run_control": {
     "read_only": false
    }
   },
   "outputs": [
    {
     "data": {
      "text/plain": [
       "['18. Heloron ',\n",
       " '41. Naxos ',\n",
       " '11. Alaisa ',\n",
       " '34. Lipara ',\n",
       " '23. Herbita ',\n",
       " '48. Tauromenion ',\n",
       " '25. Hippana ',\n",
       " '21. Herakleia 2 ',\n",
       " '29. Kasmenai ',\n",
       " '30. Katane ',\n",
       " '27. Kallipolis ',\n",
       " '42. Petra ',\n",
       " '37. Morgantina ',\n",
       " '9. Akragas ',\n",
       " '44. Selinous ',\n",
       " '24. Himera ',\n",
       " '13. Apollonia ',\n",
       " '17. Gela ',\n",
       " '8. Aitna ',\n",
       " '36. Megara ',\n",
       " '35. *Longane ',\n",
       " '33. Leontinoi ',\n",
       " '38. Mylai ',\n",
       " '49. Tyndaris ',\n",
       " '39. Mytistratos ',\n",
       " '12. Alontion ',\n",
       " '32. Kephaloidion ',\n",
       " '40. Nakone ',\n",
       " '26 *Imachara ',\n",
       " '19. Henna ',\n",
       " '14. Engyon ',\n",
       " '16. Galeria ',\n",
       " '47. Syrakousai ',\n",
       " '5. Abakainon ',\n",
       " '50. (Tyrrhenoi)',\n",
       " '22. Herbes(s)os ',\n",
       " '20. Herakleia 1',\n",
       " '6. Adranon ',\n",
       " '15. Euboia ',\n",
       " '31. Kentoripa ',\n",
       " '43. Piakos ',\n",
       " '7. Agyrion ',\n",
       " '10. Akrai ',\n",
       " '45. (Sileraioi)',\n",
       " '28. Kamarina ',\n",
       " '51. Zankle ',\n",
       " '46. (Stielanaioi)']"
      ]
     },
     "execution_count": 3,
     "metadata": {},
     "output_type": "execute_result"
    }
   ],
   "source": [
    "# list() erstellt eine Liste der keys\n",
    "PoleisKeyList = list(PoleisRawData.keys())\n",
    "PoleisKeyList"
   ]
  },
  {
   "cell_type": "code",
   "execution_count": 4,
   "metadata": {
    "button": false,
    "collapsed": false,
    "deletable": true,
    "new_sheet": false,
    "run_control": {
     "read_only": false
    }
   },
   "outputs": [
    {
     "name": "stdout",
     "output_type": "stream",
     "text": [
      "18. Heloron \n",
      "44. Selinous \n",
      "36. Megara \n",
      "33. Leontinoi \n",
      "47. Syrakousai \n",
      "15. Euboia \n",
      "46. (Stielanaioi)\n"
     ]
    }
   ],
   "source": [
    "#%%tutor --lang python3\n",
    "for i in PoleisKeyList:\n",
    "    if \"Megara\" in PoleisRawData[i]:\n",
    "        print(i)"
   ]
  },
  {
   "cell_type": "code",
   "execution_count": 5,
   "metadata": {
    "button": false,
    "collapsed": false,
    "deletable": true,
    "new_sheet": false,
    "run_control": {
     "read_only": false
    }
   },
   "outputs": [
    {
     "data": {
      "text/html": [
       "<div>\n",
       "<table border=\"1\" class=\"dataframe\">\n",
       "  <thead>\n",
       "    <tr style=\"text-align: right;\">\n",
       "      <th></th>\n",
       "      <th>Beschreibung</th>\n",
       "    </tr>\n",
       "  </thead>\n",
       "  <tbody>\n",
       "    <tr>\n",
       "      <th>10. Akrai</th>\n",
       "      <td>(Akraios) Map  47.  Lat. 37.05,long.  14.55.  ...</td>\n",
       "    </tr>\n",
       "    <tr>\n",
       "      <th>11. Alaisa</th>\n",
       "      <td>(Alaisinos) Map  47.  Lat. 38.00,long.  14.15....</td>\n",
       "    </tr>\n",
       "    <tr>\n",
       "      <th>12. Alontion</th>\n",
       "      <td>(Alontinos) Map  47.  Lat. 38.05,long.  14.40....</td>\n",
       "    </tr>\n",
       "    <tr>\n",
       "      <th>13. Apollonia</th>\n",
       "      <td>(Apolloniates) Map  47.  Lat. 38.00,long. 14.3...</td>\n",
       "    </tr>\n",
       "    <tr>\n",
       "      <th>14. Engyon</th>\n",
       "      <td>(Engyinos)  Map  47.  Lat. 37.45,long.  14.35....</td>\n",
       "    </tr>\n",
       "  </tbody>\n",
       "</table>\n",
       "</div>"
      ],
      "text/plain": [
       "                                                     Beschreibung\n",
       "10. Akrai       (Akraios) Map  47.  Lat. 37.05,long.  14.55.  ...\n",
       "11. Alaisa      (Alaisinos) Map  47.  Lat. 38.00,long.  14.15....\n",
       "12. Alontion    (Alontinos) Map  47.  Lat. 38.05,long.  14.40....\n",
       "13. Apollonia   (Apolloniates) Map  47.  Lat. 38.00,long. 14.3...\n",
       "14. Engyon      (Engyinos)  Map  47.  Lat. 37.45,long.  14.35...."
      ]
     },
     "execution_count": 5,
     "metadata": {},
     "output_type": "execute_result"
    }
   ],
   "source": [
    "# Liest das Dictionary als Dataframe ein. Namen der Poleis werden als Index benutzt.\n",
    "dfPoleis = pd.DataFrame([PoleisRawData]).transpose()\n",
    "dfPoleis = dfPoleis.rename(columns={0: 'Beschreibung'})\n",
    "dfPoleis.head()"
   ]
  },
  {
   "cell_type": "markdown",
   "metadata": {},
   "source": [
    "# Konstruktion neuer Merkmale\n",
    "## Textmuster mit regulären Ausdrücken\n",
    "\n",
    "http://www.regexe.de/hilfe.jsp \n",
    "https://www.cheatography.com/davechild/cheat-sheets/regular-expressions/\n",
    "\n",
    "http://www.coli.uni-saarland.de/courses/python1-10/folien/PythonI10-07.pdf"
   ]
  },
  {
   "cell_type": "code",
   "execution_count": 6,
   "metadata": {
    "collapsed": false
   },
   "outputs": [
    {
     "data": {
      "text/plain": [
       "['Akrai ',\n",
       " 'Alaisa ',\n",
       " 'Alontion ',\n",
       " 'Apollonia ',\n",
       " 'Engyon ',\n",
       " 'Euboia ',\n",
       " 'Galeria ',\n",
       " 'Gela ',\n",
       " 'Heloron ',\n",
       " 'Henna ',\n",
       " 'Herakleia 1',\n",
       " 'Herakleia 2 ',\n",
       " 'Herbes(s)os ',\n",
       " 'Herbita ',\n",
       " 'Himera ',\n",
       " 'Hippana ',\n",
       " 'Imachara ',\n",
       " 'Kallipolis ',\n",
       " 'Kamarina ',\n",
       " 'Kasmenai ',\n",
       " 'Katane ',\n",
       " 'Kentoripa ',\n",
       " 'Kephaloidion ',\n",
       " 'Leontinoi ',\n",
       " 'Lipara ',\n",
       " '*Longane ',\n",
       " 'Megara ',\n",
       " 'Morgantina ',\n",
       " 'Mylai ',\n",
       " 'Mytistratos ',\n",
       " 'Nakone ',\n",
       " 'Naxos ',\n",
       " 'Petra ',\n",
       " 'Piakos ',\n",
       " 'Selinous ',\n",
       " '(Sileraioi)',\n",
       " '(Stielanaioi)',\n",
       " 'Syrakousai ',\n",
       " 'Tauromenion ',\n",
       " 'Tyndaris ',\n",
       " 'bakainon ',\n",
       " '(Tyrrhenoi)',\n",
       " 'Zankle ',\n",
       " 'dranon ',\n",
       " 'gyrion ',\n",
       " 'itna ',\n",
       " 'kragas ']"
      ]
     },
     "execution_count": 6,
     "metadata": {},
     "output_type": "execute_result"
    }
   ],
   "source": [
    "# Konstruktion einer Liste mit sogenannten List-Comprehensions\n",
    "ListCities = [x[4:] for x in dfPoleis.index]\n",
    "ListCities"
   ]
  },
  {
   "cell_type": "code",
   "execution_count": 7,
   "metadata": {
    "collapsed": false
   },
   "outputs": [
    {
     "data": {
      "text/html": [
       "<div>\n",
       "<table border=\"1\" class=\"dataframe\">\n",
       "  <thead>\n",
       "    <tr style=\"text-align: right;\">\n",
       "      <th></th>\n",
       "      <th>Beschreibung</th>\n",
       "      <th>city</th>\n",
       "    </tr>\n",
       "  </thead>\n",
       "  <tbody>\n",
       "    <tr>\n",
       "      <th>10. Akrai</th>\n",
       "      <td>(Akraios) Map  47.  Lat. 37.05,long.  14.55.  ...</td>\n",
       "      <td>Akrai</td>\n",
       "    </tr>\n",
       "    <tr>\n",
       "      <th>11. Alaisa</th>\n",
       "      <td>(Alaisinos) Map  47.  Lat. 38.00,long.  14.15....</td>\n",
       "      <td>Alaisa</td>\n",
       "    </tr>\n",
       "    <tr>\n",
       "      <th>12. Alontion</th>\n",
       "      <td>(Alontinos) Map  47.  Lat. 38.05,long.  14.40....</td>\n",
       "      <td>Alontion</td>\n",
       "    </tr>\n",
       "    <tr>\n",
       "      <th>13. Apollonia</th>\n",
       "      <td>(Apolloniates) Map  47.  Lat. 38.00,long. 14.3...</td>\n",
       "      <td>Apollonia</td>\n",
       "    </tr>\n",
       "    <tr>\n",
       "      <th>14. Engyon</th>\n",
       "      <td>(Engyinos)  Map  47.  Lat. 37.45,long.  14.35....</td>\n",
       "      <td>Engyon</td>\n",
       "    </tr>\n",
       "  </tbody>\n",
       "</table>\n",
       "</div>"
      ],
      "text/plain": [
       "                                                     Beschreibung        city\n",
       "10. Akrai       (Akraios) Map  47.  Lat. 37.05,long.  14.55.  ...      Akrai \n",
       "11. Alaisa      (Alaisinos) Map  47.  Lat. 38.00,long.  14.15....     Alaisa \n",
       "12. Alontion    (Alontinos) Map  47.  Lat. 38.05,long.  14.40....   Alontion \n",
       "13. Apollonia   (Apolloniates) Map  47.  Lat. 38.00,long. 14.3...  Apollonia \n",
       "14. Engyon      (Engyinos)  Map  47.  Lat. 37.45,long.  14.35....     Engyon "
      ]
     },
     "execution_count": 7,
     "metadata": {},
     "output_type": "execute_result"
    }
   ],
   "source": [
    "# Extrahiere Name der Polis aus Index\n",
    "dfPoleis['city'] = [x[4:] for x in dfPoleis.index]\n",
    "dfPoleis.head()"
   ]
  },
  {
   "cell_type": "code",
   "execution_count": 9,
   "metadata": {
    "collapsed": false
   },
   "outputs": [
    {
     "data": {
      "text/plain": [
       "[['10'],\n",
       " ['11'],\n",
       " ['12'],\n",
       " ['13'],\n",
       " ['14'],\n",
       " ['15'],\n",
       " ['16'],\n",
       " ['17'],\n",
       " ['18'],\n",
       " ['19'],\n",
       " ['20', '1'],\n",
       " ['21', '2'],\n",
       " ['22'],\n",
       " ['23'],\n",
       " ['24'],\n",
       " ['25'],\n",
       " ['26'],\n",
       " ['27'],\n",
       " ['28'],\n",
       " ['29'],\n",
       " ['30'],\n",
       " ['31'],\n",
       " ['32'],\n",
       " ['33'],\n",
       " ['34'],\n",
       " ['35'],\n",
       " ['36'],\n",
       " ['37'],\n",
       " ['38'],\n",
       " ['39'],\n",
       " ['40'],\n",
       " ['41'],\n",
       " ['42'],\n",
       " ['43'],\n",
       " ['44'],\n",
       " ['45'],\n",
       " ['46'],\n",
       " ['47'],\n",
       " ['48'],\n",
       " ['49'],\n",
       " ['5'],\n",
       " ['50'],\n",
       " ['51'],\n",
       " ['6'],\n",
       " ['7'],\n",
       " ['8'],\n",
       " ['9']]"
      ]
     },
     "execution_count": 9,
     "metadata": {},
     "output_type": "execute_result"
    }
   ],
   "source": [
    "[re.findall(\"\\d{1,2}\",x) for x in dfPoleis.index]"
   ]
  },
  {
   "cell_type": "code",
   "execution_count": 10,
   "metadata": {
    "collapsed": false
   },
   "outputs": [
    {
     "data": {
      "text/html": [
       "<div>\n",
       "<table border=\"1\" class=\"dataframe\">\n",
       "  <thead>\n",
       "    <tr style=\"text-align: right;\">\n",
       "      <th></th>\n",
       "      <th>Beschreibung</th>\n",
       "      <th>city</th>\n",
       "      <th>city_index</th>\n",
       "    </tr>\n",
       "  </thead>\n",
       "  <tbody>\n",
       "    <tr>\n",
       "      <th>10. Akrai</th>\n",
       "      <td>(Akraios) Map  47.  Lat. 37.05,long.  14.55.  ...</td>\n",
       "      <td>Akrai</td>\n",
       "      <td>10</td>\n",
       "    </tr>\n",
       "    <tr>\n",
       "      <th>11. Alaisa</th>\n",
       "      <td>(Alaisinos) Map  47.  Lat. 38.00,long.  14.15....</td>\n",
       "      <td>Alaisa</td>\n",
       "      <td>11</td>\n",
       "    </tr>\n",
       "    <tr>\n",
       "      <th>12. Alontion</th>\n",
       "      <td>(Alontinos) Map  47.  Lat. 38.05,long.  14.40....</td>\n",
       "      <td>Alontion</td>\n",
       "      <td>12</td>\n",
       "    </tr>\n",
       "    <tr>\n",
       "      <th>13. Apollonia</th>\n",
       "      <td>(Apolloniates) Map  47.  Lat. 38.00,long. 14.3...</td>\n",
       "      <td>Apollonia</td>\n",
       "      <td>13</td>\n",
       "    </tr>\n",
       "    <tr>\n",
       "      <th>14. Engyon</th>\n",
       "      <td>(Engyinos)  Map  47.  Lat. 37.45,long.  14.35....</td>\n",
       "      <td>Engyon</td>\n",
       "      <td>14</td>\n",
       "    </tr>\n",
       "  </tbody>\n",
       "</table>\n",
       "</div>"
      ],
      "text/plain": [
       "                                                     Beschreibung        city  \\\n",
       "10. Akrai       (Akraios) Map  47.  Lat. 37.05,long.  14.55.  ...      Akrai    \n",
       "11. Alaisa      (Alaisinos) Map  47.  Lat. 38.00,long.  14.15....     Alaisa    \n",
       "12. Alontion    (Alontinos) Map  47.  Lat. 38.05,long.  14.40....   Alontion    \n",
       "13. Apollonia   (Apolloniates) Map  47.  Lat. 38.00,long. 14.3...  Apollonia    \n",
       "14. Engyon      (Engyinos)  Map  47.  Lat. 37.45,long.  14.35....     Engyon    \n",
       "\n",
       "                city_index  \n",
       "10. Akrai               10  \n",
       "11. Alaisa              11  \n",
       "12. Alontion            12  \n",
       "13. Apollonia           13  \n",
       "14. Engyon              14  "
      ]
     },
     "execution_count": 10,
     "metadata": {},
     "output_type": "execute_result"
    }
   ],
   "source": [
    "# Extrahiere Nummer des Polis Eintrags\n",
    "dfPoleis['city_index'] = [int(re.findall('\\d{1,2}', x)[0]) for x in dfPoleis.index]\n",
    "dfPoleis.head()"
   ]
  },
  {
   "cell_type": "code",
   "execution_count": 11,
   "metadata": {
    "collapsed": false
   },
   "outputs": [
    {
     "data": {
      "text/html": [
       "<div>\n",
       "<table border=\"1\" class=\"dataframe\">\n",
       "  <thead>\n",
       "    <tr style=\"text-align: right;\">\n",
       "      <th></th>\n",
       "      <th>Beschreibung</th>\n",
       "      <th>city</th>\n",
       "      <th>city_index</th>\n",
       "    </tr>\n",
       "  </thead>\n",
       "  <tbody>\n",
       "    <tr>\n",
       "      <th>5. Abakainon</th>\n",
       "      <td>(Abakaininos) Map  47.  Lat. 38.05,long. 15.05...</td>\n",
       "      <td>bakainon</td>\n",
       "      <td>5</td>\n",
       "    </tr>\n",
       "    <tr>\n",
       "      <th>6. Adranon</th>\n",
       "      <td>(Adranites) Map  47.  Lat. 37.40,long.  14.50....</td>\n",
       "      <td>dranon</td>\n",
       "      <td>6</td>\n",
       "    </tr>\n",
       "    <tr>\n",
       "      <th>7. Agyrion</th>\n",
       "      <td>(Agyrinaios) Map  47.  Lat. 37.40,long.  14.30...</td>\n",
       "      <td>gyrion</td>\n",
       "      <td>7</td>\n",
       "    </tr>\n",
       "    <tr>\n",
       "      <th>8. Aitna</th>\n",
       "      <td>(Aitnaios) Map  47.Location  of  Aitna  I  as ...</td>\n",
       "      <td>itna</td>\n",
       "      <td>8</td>\n",
       "    </tr>\n",
       "  </tbody>\n",
       "</table>\n",
       "</div>"
      ],
      "text/plain": [
       "                                                    Beschreibung       city  \\\n",
       "5. Abakainon   (Abakaininos) Map  47.  Lat. 38.05,long. 15.05...  bakainon    \n",
       "6. Adranon     (Adranites) Map  47.  Lat. 37.40,long.  14.50....    dranon    \n",
       "7. Agyrion     (Agyrinaios) Map  47.  Lat. 37.40,long.  14.30...    gyrion    \n",
       "8. Aitna       (Aitnaios) Map  47.Location  of  Aitna  I  as ...      itna    \n",
       "\n",
       "               city_index  \n",
       "5. Abakainon            5  \n",
       "6. Adranon              6  \n",
       "7. Agyrion              7  \n",
       "8. Aitna                8  "
      ]
     },
     "execution_count": 11,
     "metadata": {},
     "output_type": "execute_result"
    }
   ],
   "source": [
    "# Sortiere die Zeilen nach der Spalte \n",
    "dfPoleis = dfPoleis.sort_values(by='city_index')\n",
    "dfPoleis.head(4)"
   ]
  },
  {
   "cell_type": "markdown",
   "metadata": {
    "heading_collapsed": true
   },
   "source": [
    "## Textmustersuche in der Beschreibung einer Polis"
   ]
  },
  {
   "cell_type": "markdown",
   "metadata": {
    "hidden": true
   },
   "source": [
    "### Neue Funktionen"
   ]
  },
  {
   "cell_type": "code",
   "execution_count": 12,
   "metadata": {
    "collapsed": false
   },
   "outputs": [
    {
     "data": {
      "text/plain": [
       "5. Abakainon     bakainon \n",
       "6. Adranon         dranon \n",
       "7. Agyrion         gyrion \n",
       "8. Aitna             itna \n",
       "9. Akragas         kragas \n",
       "Name: city, dtype: object"
      ]
     },
     "execution_count": 12,
     "metadata": {},
     "output_type": "execute_result"
    }
   ],
   "source": [
    "nl=dfPoleis[\"city\"]\n",
    "nl.head()"
   ]
  },
  {
   "cell_type": "code",
   "execution_count": 13,
   "metadata": {
    "collapsed": false
   },
   "outputs": [
    {
     "data": {
      "text/plain": [
       "['bakainon ', 'dranon ', 'gyrion ']"
      ]
     },
     "execution_count": 13,
     "metadata": {},
     "output_type": "execute_result"
    }
   ],
   "source": [
    "lcity=list(dfPoleis[\"city\"])\n",
    "lcity[0:3]"
   ]
  },
  {
   "cell_type": "code",
   "execution_count": 14,
   "metadata": {
    "collapsed": false
   },
   "outputs": [
    {
     "name": "stdout",
     "output_type": "stream",
     "text": [
      "Euboia \n",
      "Kephaloidion \n",
      "Leontinoi \n",
      "(Sileraioi)\n",
      "(Stielanaioi)\n",
      "(Tyrrhenoi)\n"
     ]
    }
   ],
   "source": [
    "for i in lcity:\n",
    "    if re.search('oi',i):\n",
    "        print(i)"
   ]
  },
  {
   "cell_type": "code",
   "execution_count": 15,
   "metadata": {
    "collapsed": false
   },
   "outputs": [
    {
     "data": {
      "text/html": [
       "<div>\n",
       "<table border=\"1\" class=\"dataframe\">\n",
       "  <thead>\n",
       "    <tr style=\"text-align: right;\">\n",
       "      <th></th>\n",
       "      <th>Beschreibung</th>\n",
       "      <th>city</th>\n",
       "      <th>city_index</th>\n",
       "    </tr>\n",
       "  </thead>\n",
       "  <tbody>\n",
       "    <tr>\n",
       "      <th>9. Akragas</th>\n",
       "      <td>(Akragantinos) Map  47.  Lat. 37.20,long.  13....</td>\n",
       "      <td>kragas</td>\n",
       "      <td>9</td>\n",
       "    </tr>\n",
       "  </tbody>\n",
       "</table>\n",
       "</div>"
      ],
      "text/plain": [
       "                                                  Beschreibung     city  \\\n",
       "9. Akragas   (Akragantinos) Map  47.  Lat. 37.20,long.  13....  kragas    \n",
       "\n",
       "             city_index  \n",
       "9. Akragas            9  "
      ]
     },
     "execution_count": 15,
     "metadata": {},
     "output_type": "execute_result"
    }
   ],
   "source": [
    "dfPoleis[dfPoleis[\"city\"].str.contains(\"ag\")]"
   ]
  },
  {
   "cell_type": "code",
   "execution_count": 16,
   "metadata": {
    "collapsed": false
   },
   "outputs": [],
   "source": [
    "dfNeu=dfPoleis[dfPoleis[\"city\"].str.contains(\"ag\")]"
   ]
  },
  {
   "cell_type": "markdown",
   "metadata": {
    "hidden": true
   },
   "source": [
    "### Geographische Koordinaten"
   ]
  },
  {
   "cell_type": "code",
   "execution_count": 17,
   "metadata": {
    "collapsed": false,
    "hidden": true
   },
   "outputs": [],
   "source": [
    "def ListePattern(string,pattern):\n",
    "    x = re.findall(pattern,string)\n",
    "    if x:\n",
    "        return(x)"
   ]
  },
  {
   "cell_type": "markdown",
   "metadata": {},
   "source": [
    "- (?<=Lat\\.\\s)  Group (?...) Passive (non-capturing) group\n",
    "- ?<= Lookbehind assertion\n",
    "- Lat\\.\\s   das string muster: \"Lat. \" mit \".\" und \" \" als escape\n",
    "- \\s?\\d+\\.\\d+ : space[optional wegen ?]digit[1 oder 2 wegen +].[escaped]digit[1 oder 2]"
   ]
  },
  {
   "cell_type": "code",
   "execution_count": 18,
   "metadata": {
    "collapsed": false,
    "hidden": true
   },
   "outputs": [
    {
     "data": {
      "text/plain": [
       "['38.05']"
      ]
     },
     "execution_count": 18,
     "metadata": {},
     "output_type": "execute_result"
    }
   ],
   "source": [
    "ListePattern(dfPoleis[\"Beschreibung\"][0],\"(?<=Lat\\.\\s)\\s?\\d+\\.\\d+\")"
   ]
  },
  {
   "cell_type": "code",
   "execution_count": 19,
   "metadata": {
    "collapsed": false,
    "hidden": true
   },
   "outputs": [
    {
     "data": {
      "text/plain": [
       "['15.05']"
      ]
     },
     "execution_count": 19,
     "metadata": {},
     "output_type": "execute_result"
    }
   ],
   "source": [
    "# gleiches auch für long.\n",
    "listLong=ListePattern(dfPoleis['Beschreibung'][0],\"(?<=long\\.\\s)\\s?\\d+\\.\\d+\")\n",
    "listLong"
   ]
  },
  {
   "cell_type": "code",
   "execution_count": 20,
   "metadata": {
    "collapsed": false
   },
   "outputs": [
    {
     "data": {
      "text/plain": [
       "5. Abakainon         [38.05]\n",
       "6. Adranon           [37.40]\n",
       "7. Agyrion           [37.40]\n",
       "8. Aitna                None\n",
       "9. Akragas           [37.20]\n",
       "10. Akrai            [37.05]\n",
       "11. Alaisa           [38.00]\n",
       "12. Alontion         [38.05]\n",
       "13. Apollonia        [38.00]\n",
       "14. Engyon           [37.45]\n",
       "15. Euboia              None\n",
       "16. Galeria             None\n",
       "17. Gela             [37.05]\n",
       "18. Heloron          [36.50]\n",
       "19. Henna            [37.35]\n",
       "20. Herakleia 1      [37.25]\n",
       "21. Herakleia 2         None\n",
       "22. Herbes(s)os         None\n",
       "23. Herbita             None\n",
       "24. Himera           [37.55]\n",
       "25. Hippana          [37.40]\n",
       "26 *Imachara            None\n",
       "27. Kallipolis          None\n",
       "28. Kamarina         [36.50]\n",
       "29. Kasmenai         [37.05]\n",
       "30. Katane           [37.30]\n",
       "31. Kentoripa        [37.35]\n",
       "32. Kephaloidion     [38.00]\n",
       "33. Leontinoi        [37.15]\n",
       "34. Lipara           [38.30]\n",
       "35. *Longane         [38.05]\n",
       "36. Megara           [37.10]\n",
       "37. Morgantina       [37.25]\n",
       "38. Mylai            [38.15]\n",
       "39. Mytistratos      [37.35]\n",
       "40. Nakone              None\n",
       "41. Naxos            [37.50]\n",
       "42. Petra               None\n",
       "43. Piakos              None\n",
       "44. Selinous         [37.35]\n",
       "45. (Sileraioi)         None\n",
       "46. (Stielanaioi)    [37.10]\n",
       "47. Syrakousai       [37.05]\n",
       "48. Tauromenion      [37.50]\n",
       "49. Tyndaris         [38.10]\n",
       "50. (Tyrrhenoi)         None\n",
       "51. Zankle              None\n",
       "Name: Beschreibung, dtype: object"
      ]
     },
     "execution_count": 20,
     "metadata": {},
     "output_type": "execute_result"
    }
   ],
   "source": [
    "dfPoleis[\"Beschreibung\"].apply(lambda row: ListePattern(row,\"(?<=Lat\\.\\s)\\s?\\d+\\.\\d+\"))"
   ]
  },
  {
   "cell_type": "code",
   "execution_count": 21,
   "metadata": {
    "collapsed": false,
    "hidden": true
   },
   "outputs": [],
   "source": [
    "dfPoleis['Latitude'] = dfPoleis['Beschreibung'].apply(lambda raw: ListePattern(raw,\"(?<=Lat\\.\\s)\\d+\\.\\d+\"))\n",
    "\n",
    "dfPoleis['Longitude'] = dfPoleis['Beschreibung'].apply(lambda raw: ListePattern(raw,\"(?<=long\\.\\s)\\s*\\d{2}\\.\\d{2}\"))"
   ]
  },
  {
   "cell_type": "code",
   "execution_count": 22,
   "metadata": {
    "collapsed": false
   },
   "outputs": [
    {
     "data": {
      "text/html": [
       "<div>\n",
       "<table border=\"1\" class=\"dataframe\">\n",
       "  <thead>\n",
       "    <tr style=\"text-align: right;\">\n",
       "      <th></th>\n",
       "      <th>Beschreibung</th>\n",
       "      <th>city</th>\n",
       "      <th>city_index</th>\n",
       "      <th>Latitude</th>\n",
       "      <th>Longitude</th>\n",
       "    </tr>\n",
       "  </thead>\n",
       "  <tbody>\n",
       "    <tr>\n",
       "      <th>5. Abakainon</th>\n",
       "      <td>(Abakaininos) Map  47.  Lat. 38.05,long. 15.05...</td>\n",
       "      <td>bakainon</td>\n",
       "      <td>5</td>\n",
       "      <td>[38.05]</td>\n",
       "      <td>[15.05]</td>\n",
       "    </tr>\n",
       "    <tr>\n",
       "      <th>6. Adranon</th>\n",
       "      <td>(Adranites) Map  47.  Lat. 37.40,long.  14.50....</td>\n",
       "      <td>dranon</td>\n",
       "      <td>6</td>\n",
       "      <td>[37.40]</td>\n",
       "      <td>[ 14.50]</td>\n",
       "    </tr>\n",
       "    <tr>\n",
       "      <th>7. Agyrion</th>\n",
       "      <td>(Agyrinaios) Map  47.  Lat. 37.40,long.  14.30...</td>\n",
       "      <td>gyrion</td>\n",
       "      <td>7</td>\n",
       "      <td>[37.40]</td>\n",
       "      <td>[ 14.30]</td>\n",
       "    </tr>\n",
       "    <tr>\n",
       "      <th>8. Aitna</th>\n",
       "      <td>(Aitnaios) Map  47.Location  of  Aitna  I  as ...</td>\n",
       "      <td>itna</td>\n",
       "      <td>8</td>\n",
       "      <td>None</td>\n",
       "      <td>None</td>\n",
       "    </tr>\n",
       "  </tbody>\n",
       "</table>\n",
       "</div>"
      ],
      "text/plain": [
       "                                                    Beschreibung       city  \\\n",
       "5. Abakainon   (Abakaininos) Map  47.  Lat. 38.05,long. 15.05...  bakainon    \n",
       "6. Adranon     (Adranites) Map  47.  Lat. 37.40,long.  14.50....    dranon    \n",
       "7. Agyrion     (Agyrinaios) Map  47.  Lat. 37.40,long.  14.30...    gyrion    \n",
       "8. Aitna       (Aitnaios) Map  47.Location  of  Aitna  I  as ...      itna    \n",
       "\n",
       "               city_index Latitude Longitude  \n",
       "5. Abakainon            5  [38.05]   [15.05]  \n",
       "6. Adranon              6  [37.40]  [ 14.50]  \n",
       "7. Agyrion              7  [37.40]  [ 14.30]  \n",
       "8. Aitna                8     None      None  "
      ]
     },
     "execution_count": 22,
     "metadata": {},
     "output_type": "execute_result"
    }
   ],
   "source": [
    "dfPoleis.head(4)"
   ]
  },
  {
   "cell_type": "markdown",
   "metadata": {
    "heading_collapsed": true,
    "hidden": true
   },
   "source": [
    "### Zitatnachweise, Namen, Jahreszahlen"
   ]
  },
  {
   "cell_type": "code",
   "execution_count": 23,
   "metadata": {
    "collapsed": false,
    "hidden": true
   },
   "outputs": [
    {
     "data": {
      "text/plain": [
       "'(Abakaininos) Map  47.  Lat. 38.05,long. 15.05.  Size  of  territory:  ?  Type:  B: .  The  toponym  is ,  (Diod. 14.90.3)  or  ,  (Diod. 19.65.6;  Steph.  Byz. 2.11).  The  city-ethnic  is   (C 4s  coins,  infra;Diod. 14.78.5;  Steph.  Byz. 2.15). Abakainon  is  called  a  polis  in  the  urban  and  political  sens- es  at  Diod. 14.90.3  (r 393)  and  19.65.6  (r 315),  and  in  the  urban sense  at  14.90.4  (r 393).  The  passage  at  14.90.3  describes  it  as  a polis  symmachis  of  Magon,  and  in  a  later  period  it  was  part  of the  symmachia  of  Agathokles,  alongside  such  poleis  as Kamarina,  Leontinoi,  Katane  and  Messana  (Diod. 19.65.6 (r 315),  19.110.4  (r 311)).  The  internal  collective  use  of  the  city- ethnic  is  found  on  coins  struck  c. 400  (infra),  and  the  exter- nal  collective use  is  found  in  Diod. 19.110.4  (r 311). In 396,  Dionysios  I  deprived  Abakainon  of  a  part  of  its chora,  which  was  handed  over  to  his  new  foundation, Tyndaris  (no. 49;Diod.  14.77.5).  Abakainon  was  situated south-east  of  Tyndaris,  at  modern  Tripi.  The  ancient  city, destroyed  by  the  modern,  is  poorly  known.  However, Diodorus\\'  report  ( 14.90.3)  that  in  393  Carthaginian  troops ²²  For  an  analysis  of  the  conflicts,  see  Manni  ( 1976a)  201\\xad4. 182 fischer-hansen,  nielsen  and  ampolo defeated  by  Dionysios  took  refuge  in  the  city  (  ) suggests that by this date it was fortified.  There are  sporadic  Greek  remains  from  C 6,  and  substantial  Greek remains  from  C 4  (Villard  ( 1954));  the  investigation  of  the extensive  cemetery  north  of  the  city  has  brought  to  light  also monumental  C 4  tombs  of  the  type  known  from  Leontinoi (Bacci  and  Spigo  ( 1997\\xad98));  the  city  minted  a  Greek-style coinage  from  C 5m  (infra). Abakainon  struck  silver  coins  (litra,  hemilitron)  from c.C 5m:  obv.  laureate  head,  bearded  (an  indigenous  god assimilated  to  Zeus)  or  beardless  (assimilated  to  Apollo),  or, on  later  coinage,  female  head  (nymph,  or  Demeter  or Persephone);  rev.  wild  boar  and  acorn,  at  times  a  grain  of barley  or  sow  and  piglet,  legend: ,  (above acorn)  (below), (on  obv.) (on  rev.), (Head,  HN ²  118;  Bertino  ( 1975);  SNG Cop.  Sicily 1\\xad6).  In  C 4s,  the  city  struck  in  bronze:  ( 1) Probably  from  the  time  of  Timoleon:  obv.  female  head;  rev. forepart  of  bull,  or  forepart  of  man-headed  bull,  legend: ,  [],  (Head, HN ²  118;  Bertino  ( 1975)  124\\xad26;  SNG  Cop.  Sicily 7);  ( 2) c. 344\\xad338:  obv.  head  of  Dioskouros,  legend: ;  rev.\"free horse\",  legend: ;  the  obv.  type  may  indicate  influence from  the  mint  of  Tyndaris  or,  more  generally,  from  southern Italy  (Bertino  ( 1975)  124\\xad26).'"
      ]
     },
     "execution_count": 23,
     "metadata": {},
     "output_type": "execute_result"
    }
   ],
   "source": [
    "dfPoleis[\"Beschreibung\"].iloc[0] # icloc is a method to refer to local index position"
   ]
  },
  {
   "cell_type": "markdown",
   "metadata": {
    "heading_collapsed": true
   },
   "source": [
    "## Muster (Pattern) zur Erkennung der Literaturreferenzen\n",
    "\n",
    "- Primärquellen\n",
    "\n",
    "(Polyb. 1.18.2)\n",
    "(Diod. 13.85.4  (r 406))\n",
    "(Diod. 13.108.2)\n",
    "(Hdt. 7.165;  IGDS  no. 182a)\n",
    "(Pind.  Pyth. 6)\n",
    "(Thuc. 6.4.4: µµ  )\n",
    "(Xanthos  (FGrHist 765)  fr. 33;  Arist.  fr. 865)\n",
    "\n",
    "- Sekundärquellen\n",
    "\n",
    "(Karlsson  ( 1995)  161\n",
    "(Waele  ( 1971) 195;  Hinz  ( 1998)  79)\n",
    "\n",
    "- Jahreszahlen\n",
    "( dddd)"
   ]
  },
  {
   "cell_type": "markdown",
   "metadata": {
    "heading_collapsed": true,
    "hidden": true
   },
   "source": [
    "### Testen der regulären Ausdrücke"
   ]
  },
  {
   "cell_type": "markdown",
   "metadata": {
    "hidden": true
   },
   "source": [
    "Finde alle groß-geschriebenen Wörter mit mindestens 3 nachfolgenden kleinen Buchstaben."
   ]
  },
  {
   "cell_type": "code",
   "execution_count": 24,
   "metadata": {
    "collapsed": false,
    "hidden": true
   },
   "outputs": [
    {
     "data": {
      "text/plain": [
       "['Abakaininos',\n",
       " 'Size',\n",
       " 'Type',\n",
       " 'Diod',\n",
       " 'Diod',\n",
       " 'Steph',\n",
       " 'Diod',\n",
       " 'Steph',\n",
       " 'Abakainon',\n",
       " 'Diod',\n",
       " 'Magon',\n",
       " 'Agathokles',\n",
       " 'Kamarina',\n",
       " 'Leontinoi',\n",
       " 'Katane',\n",
       " 'Messana',\n",
       " 'Diod',\n",
       " 'Diod',\n",
       " 'Dionysios',\n",
       " 'Abakainon',\n",
       " 'Tyndaris',\n",
       " 'Diod',\n",
       " 'Abakainon',\n",
       " 'Tyndaris',\n",
       " 'Tripi',\n",
       " 'However',\n",
       " 'Diodorus',\n",
       " 'Carthaginia',\n",
       " 'Manni',\n",
       " 'Dionysios',\n",
       " 'There',\n",
       " 'Greek',\n",
       " 'Greek',\n",
       " 'Villard',\n",
       " 'Leontinoi',\n",
       " 'Bacci',\n",
       " 'Spigo',\n",
       " 'Greek',\n",
       " 'Abakainon',\n",
       " 'Zeus',\n",
       " 'Apollo',\n",
       " 'Demeter',\n",
       " 'Persephone',\n",
       " 'Head',\n",
       " 'Bertino',\n",
       " 'Sicily',\n",
       " 'Probably',\n",
       " 'Timoleon',\n",
       " 'Head',\n",
       " 'Bertino',\n",
       " 'Sicily',\n",
       " 'Dioskouros',\n",
       " 'Tyndaris',\n",
       " 'Italy',\n",
       " 'Bertino']"
      ]
     },
     "execution_count": 24,
     "metadata": {},
     "output_type": "execute_result"
    }
   ],
   "source": [
    "dfPoleis['Beschreibung'].apply(lambda raw: ListePattern(raw,'[A-Z][a-z]{3,10}'))[0]"
   ]
  },
  {
   "cell_type": "markdown",
   "metadata": {
    "hidden": true
   },
   "source": [
    "Finde alle Ausdrücke wie oben, denen ein Punkt folgt, mit anschließenden Zifferfolgen der Form [Ziffern][Punkt][Ziffern][Punkt][Ziffern]"
   ]
  },
  {
   "cell_type": "code",
   "execution_count": 27,
   "metadata": {
    "collapsed": false,
    "hidden": true
   },
   "outputs": [
    {
     "data": {
      "text/plain": [
       "['Diod. 14.90.3',\n",
       " 'Diod. 19.65.6',\n",
       " 'Diod. 14.78.5',\n",
       " 'Diod. 14.90.3',\n",
       " 'Diod. 19.65.6',\n",
       " 'Diod. 19.110.4']"
      ]
     },
     "execution_count": 27,
     "metadata": {},
     "output_type": "execute_result"
    }
   ],
   "source": [
    "dfPoleis['Beschreibung'].apply(lambda raw: ListePattern(raw,'[A-Z][a-z]{1,10}\\. \\d{1,3}\\.\\d{1,3}\\.\\d{1,3}'))[0]"
   ]
  },
  {
   "cell_type": "markdown",
   "metadata": {
    "hidden": true
   },
   "source": [
    "Finde alle Ausdrücke wie oben, wobei statt des Punktes nach den kleinen Buchstaben auch zwei Leerzeichen und eine runde Klammer folgen können"
   ]
  },
  {
   "cell_type": "markdown",
   "metadata": {
    "heading_collapsed": true
   },
   "source": [
    "## Muster zur Erkennung von Namen\n",
    "\n",
    "Empedokles  ( 496)\n",
    "Theron  ( 476)\n",
    "Timoleon  c. 338"
   ]
  },
  {
   "cell_type": "code",
   "execution_count": 28,
   "metadata": {
    "collapsed": false,
    "hidden": true
   },
   "outputs": [
    {
     "data": {
      "text/plain": [
       "['Diod. 14.90.3',\n",
       " 'Diod. 19.65.6',\n",
       " 'Diod. 14.78.5',\n",
       " 'Diod. 14.90.3',\n",
       " 'Diod. 19.65.6',\n",
       " 'Diod. 19.110.4',\n",
       " 'Manni  ( 1976',\n",
       " 'Villard  ( 1954)',\n",
       " 'Spigo  ( 1997',\n",
       " 'Bertino  ( 1975)',\n",
       " 'Bertino  ( 1975)',\n",
       " 'Bertino  ( 1975)']"
      ]
     },
     "execution_count": 28,
     "metadata": {},
     "output_type": "execute_result"
    }
   ],
   "source": [
    "dfPoleis['Beschreibung'].apply(lambda raw: ListePattern(raw,'[A-Z][a-z]{1,10}[\\.| ] [(|\\d{0,4}][\\d{1,4}| ][\\.|\\d{}]\\d{1,3}[\\.|\\d][\\d|)]'))[0]"
   ]
  },
  {
   "cell_type": "code",
   "execution_count": 29,
   "metadata": {
    "collapsed": false,
    "hidden": true
   },
   "outputs": [],
   "source": [
    "dfPoleis['Namen'] = dfPoleis['Beschreibung'].apply(lambda raw: ListePattern(raw,'[A-Z][a-z]{3,10}'))"
   ]
  },
  {
   "cell_type": "code",
   "execution_count": 30,
   "metadata": {
    "collapsed": false,
    "hidden": true
   },
   "outputs": [],
   "source": [
    "dfPoleis['Quellen'] = dfPoleis['Beschreibung'].apply(lambda raw: ListePattern(raw,'[A-Z][a-z]{1,10}[\\.| ] [(|\\d{0,4}][\\d{1,4}| ][\\.|\\d{}]\\d{1,3}[\\.|\\d][\\d|)]'))"
   ]
  },
  {
   "cell_type": "code",
   "execution_count": 31,
   "metadata": {
    "collapsed": false,
    "hidden": true
   },
   "outputs": [
    {
     "data": {
      "text/html": [
       "<div>\n",
       "<table border=\"1\" class=\"dataframe\">\n",
       "  <thead>\n",
       "    <tr style=\"text-align: right;\">\n",
       "      <th></th>\n",
       "      <th>Beschreibung</th>\n",
       "      <th>city</th>\n",
       "      <th>city_index</th>\n",
       "      <th>Latitude</th>\n",
       "      <th>Longitude</th>\n",
       "      <th>Namen</th>\n",
       "      <th>Quellen</th>\n",
       "    </tr>\n",
       "  </thead>\n",
       "  <tbody>\n",
       "    <tr>\n",
       "      <th>5. Abakainon</th>\n",
       "      <td>(Abakaininos) Map  47.  Lat. 38.05,long. 15.05...</td>\n",
       "      <td>bakainon</td>\n",
       "      <td>5</td>\n",
       "      <td>[38.05]</td>\n",
       "      <td>[15.05]</td>\n",
       "      <td>[Abakaininos, Size, Type, Diod, Diod, Steph, D...</td>\n",
       "      <td>[Diod. 14.90.3, Diod. 19.65.6, Diod. 14.78.5, ...</td>\n",
       "    </tr>\n",
       "    <tr>\n",
       "      <th>6. Adranon</th>\n",
       "      <td>(Adranites) Map  47.  Lat. 37.40,long.  14.50....</td>\n",
       "      <td>dranon</td>\n",
       "      <td>6</td>\n",
       "      <td>[37.40]</td>\n",
       "      <td>[ 14.50]</td>\n",
       "      <td>[Adranites, Size, Type, Diod, Steph, Diod, Adr...</td>\n",
       "      <td>[Diod. 14.37.5, Diod. 16.68.9, Diod. 14.37.5, ...</td>\n",
       "    </tr>\n",
       "    <tr>\n",
       "      <th>7. Agyrion</th>\n",
       "      <td>(Agyrinaios) Map  47.  Lat. 37.40,long.  14.30...</td>\n",
       "      <td>gyrion</td>\n",
       "      <td>7</td>\n",
       "      <td>[37.40]</td>\n",
       "      <td>[ 14.30]</td>\n",
       "      <td>[Agyrinaios, Size, Type, Diod, Ptol, Geog, Ste...</td>\n",
       "      <td>[Byz. 23.19), Diod. 16.82.4, Moggi  ( 1976), D...</td>\n",
       "    </tr>\n",
       "    <tr>\n",
       "      <th>8. Aitna</th>\n",
       "      <td>(Aitnaios) Map  47.Location  of  Aitna  I  as ...</td>\n",
       "      <td>itna</td>\n",
       "      <td>8</td>\n",
       "      <td>None</td>\n",
       "      <td>None</td>\n",
       "      <td>[Aitnaios, Location, Aitna, Katane, Aitna, Dio...</td>\n",
       "      <td>[Diod. 11.49.1, Diod. 11.49.1, Diod. 11.66.4, ...</td>\n",
       "    </tr>\n",
       "  </tbody>\n",
       "</table>\n",
       "</div>"
      ],
      "text/plain": [
       "                                                    Beschreibung       city  \\\n",
       "5. Abakainon   (Abakaininos) Map  47.  Lat. 38.05,long. 15.05...  bakainon    \n",
       "6. Adranon     (Adranites) Map  47.  Lat. 37.40,long.  14.50....    dranon    \n",
       "7. Agyrion     (Agyrinaios) Map  47.  Lat. 37.40,long.  14.30...    gyrion    \n",
       "8. Aitna       (Aitnaios) Map  47.Location  of  Aitna  I  as ...      itna    \n",
       "\n",
       "               city_index Latitude Longitude  \\\n",
       "5. Abakainon            5  [38.05]   [15.05]   \n",
       "6. Adranon              6  [37.40]  [ 14.50]   \n",
       "7. Agyrion              7  [37.40]  [ 14.30]   \n",
       "8. Aitna                8     None      None   \n",
       "\n",
       "                                                           Namen  \\\n",
       "5. Abakainon   [Abakaininos, Size, Type, Diod, Diod, Steph, D...   \n",
       "6. Adranon     [Adranites, Size, Type, Diod, Steph, Diod, Adr...   \n",
       "7. Agyrion     [Agyrinaios, Size, Type, Diod, Ptol, Geog, Ste...   \n",
       "8. Aitna       [Aitnaios, Location, Aitna, Katane, Aitna, Dio...   \n",
       "\n",
       "                                                         Quellen  \n",
       "5. Abakainon   [Diod. 14.90.3, Diod. 19.65.6, Diod. 14.78.5, ...  \n",
       "6. Adranon     [Diod. 14.37.5, Diod. 16.68.9, Diod. 14.37.5, ...  \n",
       "7. Agyrion     [Byz. 23.19), Diod. 16.82.4, Moggi  ( 1976), D...  \n",
       "8. Aitna       [Diod. 11.49.1, Diod. 11.49.1, Diod. 11.66.4, ...  "
      ]
     },
     "execution_count": 31,
     "metadata": {},
     "output_type": "execute_result"
    }
   ],
   "source": [
    "dfPoleis.head(4)"
   ]
  },
  {
   "cell_type": "markdown",
   "metadata": {},
   "source": [
    "# Datenvalidierung"
   ]
  },
  {
   "cell_type": "markdown",
   "metadata": {},
   "source": [
    "## Bewertung des Modells mit Performanz- (Konfusions-)matrix"
   ]
  },
  {
   "cell_type": "markdown",
   "metadata": {},
   "source": [
    "Diskussion der Performanzmatrix: vier Fälle\n",
    "- soll match vs. tatsächlicher match\n",
    "- nicht soll match vs. tatsächlich\n",
    "- soll match vs. nicht tatsächlich\n",
    "- nicht soll vs. nicht tatsächlich"
   ]
  },
  {
   "cell_type": "markdown",
   "metadata": {},
   "source": [
    "## Wertverteilungen, Test auf Dopplungen"
   ]
  },
  {
   "cell_type": "markdown",
   "metadata": {},
   "source": [
    "Lese Werte der Spalte Quellen als Liste aus. "
   ]
  },
  {
   "cell_type": "code",
   "execution_count": 32,
   "metadata": {
    "collapsed": false
   },
   "outputs": [
    {
     "data": {
      "text/plain": [
       "['Diod. 14.90.3',\n",
       " 'Diod. 19.65.6',\n",
       " 'Diod. 14.78.5',\n",
       " 'Diod. 14.90.3',\n",
       " 'Diod. 19.65.6',\n",
       " 'Diod. 19.110.4',\n",
       " 'Manni  ( 1976',\n",
       " 'Villard  ( 1954)',\n",
       " 'Spigo  ( 1997',\n",
       " 'Bertino  ( 1975)',\n",
       " 'Bertino  ( 1975)',\n",
       " 'Bertino  ( 1975)']"
      ]
     },
     "execution_count": 32,
     "metadata": {},
     "output_type": "execute_result"
    }
   ],
   "source": [
    "mainList = dfPoleis['Quellen'].values.tolist()\n",
    "mainList[0]"
   ]
  },
  {
   "cell_type": "markdown",
   "metadata": {},
   "source": [
    "Reduziere Unterlisten auf eine Gesamtliste."
   ]
  },
  {
   "cell_type": "code",
   "execution_count": 50,
   "metadata": {
    "collapsed": false
   },
   "outputs": [],
   "source": [
    "quellenListe = []\n",
    "for sublist in mainList:\n",
    "    if sublist:\n",
    "        for k in sublist:\n",
    "            quellenListe.append(k)"
   ]
  },
  {
   "cell_type": "code",
   "execution_count": 51,
   "metadata": {
    "collapsed": false
   },
   "outputs": [
    {
     "data": {
      "text/plain": [
       "['Diod. 14.90.3',\n",
       " 'Diod. 19.65.6',\n",
       " 'Diod. 14.78.5',\n",
       " 'Diod. 14.90.3',\n",
       " 'Diod. 19.65.6',\n",
       " 'Diod. 19.110.4',\n",
       " 'Manni  ( 1976',\n",
       " 'Villard  ( 1954)',\n",
       " 'Spigo  ( 1997',\n",
       " 'Bertino  ( 1975)']"
      ]
     },
     "execution_count": 51,
     "metadata": {},
     "output_type": "execute_result"
    }
   ],
   "source": [
    "quellenListe[:10]"
   ]
  },
  {
   "cell_type": "markdown",
   "metadata": {},
   "source": [
    "Zähle die Häufigkeit der verschiedenen Quellen und speichere als Dictionary."
   ]
  },
  {
   "cell_type": "code",
   "execution_count": 52,
   "metadata": {
    "collapsed": false
   },
   "outputs": [
    {
     "data": {
      "text/plain": [
       "2"
      ]
     },
     "execution_count": 52,
     "metadata": {},
     "output_type": "execute_result"
    }
   ],
   "source": [
    "quellenVerteilung = {x:quellenListe.count(x) for x in quellenListe}\n",
    "quellenVerteilung['Diod. 14.90.3']"
   ]
  },
  {
   "cell_type": "markdown",
   "metadata": {},
   "source": [
    "Erzeuge DataFrame, mit neuem Index und Namen der Spalten. Sortiere diesen Nach der Häufigkeit der Quelle."
   ]
  },
  {
   "cell_type": "code",
   "execution_count": 88,
   "metadata": {
    "collapsed": false
   },
   "outputs": [
    {
     "data": {
      "text/html": [
       "<div>\n",
       "<table border=\"1\" class=\"dataframe\">\n",
       "  <thead>\n",
       "    <tr style=\"text-align: right;\">\n",
       "      <th></th>\n",
       "      <th>Adamesteanu  ( 1986)</th>\n",
       "      <th>Adamesteanu  ( 1994</th>\n",
       "      <th>Agata  ( 1989)</th>\n",
       "      <th>Albini  ( 1964)</th>\n",
       "      <th>Allegro  ( 1991)</th>\n",
       "      <th>Allegro  ( 1997)</th>\n",
       "      <th>Angelis  ( 1994)</th>\n",
       "      <th>Anti  ( 1947)</th>\n",
       "      <th>Anti  ( 1981)</th>\n",
       "      <th>Antonaccio  ( 1997)</th>\n",
       "      <th>...</th>\n",
       "      <th>Westermark  ( 1998)</th>\n",
       "      <th>White  ( 1964)</th>\n",
       "      <th>Wilson  ( 1988)</th>\n",
       "      <th>Wilson  ( 1996)</th>\n",
       "      <th>Winter  ( 1963)</th>\n",
       "      <th>Winter  ( 1971)</th>\n",
       "      <th>Yalouris  ( 1980)</th>\n",
       "      <th>Zahrnt  ( 1993)</th>\n",
       "      <th>Ziegler  ( 1934)</th>\n",
       "      <th>Ziegler  ( 1943)</th>\n",
       "    </tr>\n",
       "  </thead>\n",
       "  <tbody>\n",
       "    <tr>\n",
       "      <th>0</th>\n",
       "      <td>1</td>\n",
       "      <td>1</td>\n",
       "      <td>2</td>\n",
       "      <td>1</td>\n",
       "      <td>2</td>\n",
       "      <td>1</td>\n",
       "      <td>2</td>\n",
       "      <td>1</td>\n",
       "      <td>3</td>\n",
       "      <td>4</td>\n",
       "      <td>...</td>\n",
       "      <td>2</td>\n",
       "      <td>1</td>\n",
       "      <td>1</td>\n",
       "      <td>1</td>\n",
       "      <td>1</td>\n",
       "      <td>1</td>\n",
       "      <td>2</td>\n",
       "      <td>2</td>\n",
       "      <td>3</td>\n",
       "      <td>1</td>\n",
       "    </tr>\n",
       "  </tbody>\n",
       "</table>\n",
       "<p>1 rows × 567 columns</p>\n",
       "</div>"
      ],
      "text/plain": [
       "   Adamesteanu  ( 1986)  Adamesteanu  ( 1994  Agata  ( 1989)  Albini  ( 1964)  \\\n",
       "0                     1                    1               2                1   \n",
       "\n",
       "   Allegro  ( 1991)  Allegro  ( 1997)  Angelis  ( 1994)  Anti  ( 1947)  \\\n",
       "0                 2                 1                 2              1   \n",
       "\n",
       "   Anti  ( 1981)  Antonaccio  ( 1997)        ...         Westermark  ( 1998)  \\\n",
       "0              3                    4        ...                           2   \n",
       "\n",
       "   White  ( 1964)  Wilson  ( 1988)  Wilson  ( 1996)  Winter  ( 1963)  \\\n",
       "0               1                1                1                1   \n",
       "\n",
       "   Winter  ( 1971)  Yalouris  ( 1980)  Zahrnt  ( 1993)  Ziegler  ( 1934)  \\\n",
       "0                1                  2                2                 3   \n",
       "\n",
       "   Ziegler  ( 1943)  \n",
       "0                 1  \n",
       "\n",
       "[1 rows x 567 columns]"
      ]
     },
     "execution_count": 88,
     "metadata": {},
     "output_type": "execute_result"
    }
   ],
   "source": [
    "dfQuellenVerteilung = pd.DataFrame([quellenVerteilung])\n",
    "dfQuellenVerteilung"
   ]
  },
  {
   "cell_type": "code",
   "execution_count": 89,
   "metadata": {
    "collapsed": false
   },
   "outputs": [
    {
     "data": {
      "text/html": [
       "<div>\n",
       "<table border=\"1\" class=\"dataframe\">\n",
       "  <thead>\n",
       "    <tr style=\"text-align: right;\">\n",
       "      <th></th>\n",
       "      <th>index</th>\n",
       "      <th>0</th>\n",
       "    </tr>\n",
       "  </thead>\n",
       "  <tbody>\n",
       "    <tr>\n",
       "      <th>0</th>\n",
       "      <td>Adamesteanu  ( 1986)</td>\n",
       "      <td>1</td>\n",
       "    </tr>\n",
       "    <tr>\n",
       "      <th>1</th>\n",
       "      <td>Adamesteanu  ( 1994</td>\n",
       "      <td>1</td>\n",
       "    </tr>\n",
       "    <tr>\n",
       "      <th>2</th>\n",
       "      <td>Agata  ( 1989)</td>\n",
       "      <td>2</td>\n",
       "    </tr>\n",
       "    <tr>\n",
       "      <th>3</th>\n",
       "      <td>Albini  ( 1964)</td>\n",
       "      <td>1</td>\n",
       "    </tr>\n",
       "    <tr>\n",
       "      <th>4</th>\n",
       "      <td>Allegro  ( 1991)</td>\n",
       "      <td>2</td>\n",
       "    </tr>\n",
       "  </tbody>\n",
       "</table>\n",
       "</div>"
      ],
      "text/plain": [
       "                  index  0\n",
       "0  Adamesteanu  ( 1986)  1\n",
       "1   Adamesteanu  ( 1994  1\n",
       "2        Agata  ( 1989)  2\n",
       "3       Albini  ( 1964)  1\n",
       "4      Allegro  ( 1991)  2"
      ]
     },
     "execution_count": 89,
     "metadata": {},
     "output_type": "execute_result"
    }
   ],
   "source": [
    "dfQuellenVerteilung = dfQuellenVerteilung.transpose().reset_index()\n",
    "dfQuellenVerteilung.head()"
   ]
  },
  {
   "cell_type": "code",
   "execution_count": 90,
   "metadata": {
    "collapsed": false
   },
   "outputs": [
    {
     "data": {
      "text/html": [
       "<div>\n",
       "<table border=\"1\" class=\"dataframe\">\n",
       "  <thead>\n",
       "    <tr style=\"text-align: right;\">\n",
       "      <th></th>\n",
       "      <th>Quelle</th>\n",
       "      <th>Häufigkeit</th>\n",
       "    </tr>\n",
       "  </thead>\n",
       "  <tbody>\n",
       "    <tr>\n",
       "      <th>0</th>\n",
       "      <td>Adamesteanu  ( 1986)</td>\n",
       "      <td>1</td>\n",
       "    </tr>\n",
       "    <tr>\n",
       "      <th>1</th>\n",
       "      <td>Adamesteanu  ( 1994</td>\n",
       "      <td>1</td>\n",
       "    </tr>\n",
       "    <tr>\n",
       "      <th>2</th>\n",
       "      <td>Agata  ( 1989)</td>\n",
       "      <td>2</td>\n",
       "    </tr>\n",
       "    <tr>\n",
       "      <th>3</th>\n",
       "      <td>Albini  ( 1964)</td>\n",
       "      <td>1</td>\n",
       "    </tr>\n",
       "    <tr>\n",
       "      <th>4</th>\n",
       "      <td>Allegro  ( 1991)</td>\n",
       "      <td>2</td>\n",
       "    </tr>\n",
       "  </tbody>\n",
       "</table>\n",
       "</div>"
      ],
      "text/plain": [
       "                 Quelle  Häufigkeit\n",
       "0  Adamesteanu  ( 1986)           1\n",
       "1   Adamesteanu  ( 1994           1\n",
       "2        Agata  ( 1989)           2\n",
       "3       Albini  ( 1964)           1\n",
       "4      Allegro  ( 1991)           2"
      ]
     },
     "execution_count": 90,
     "metadata": {},
     "output_type": "execute_result"
    }
   ],
   "source": [
    "dfQuellenVerteilung = dfQuellenVerteilung.rename(columns={'index': 'Quelle', 0:'Häufigkeit'})\n",
    "dfQuellenVerteilung.head()"
   ]
  },
  {
   "cell_type": "code",
   "execution_count": 56,
   "metadata": {
    "collapsed": false
   },
   "outputs": [
    {
     "data": {
      "text/html": [
       "<div>\n",
       "<table border=\"1\" class=\"dataframe\">\n",
       "  <thead>\n",
       "    <tr style=\"text-align: right;\">\n",
       "      <th></th>\n",
       "      <th>Quelle</th>\n",
       "      <th>Häufigkeit</th>\n",
       "    </tr>\n",
       "  </thead>\n",
       "  <tbody>\n",
       "    <tr>\n",
       "      <th>382</th>\n",
       "      <td>Manganaro  ( 1996</td>\n",
       "      <td>15</td>\n",
       "    </tr>\n",
       "    <tr>\n",
       "      <th>331</th>\n",
       "      <td>Hinz  ( 1998)</td>\n",
       "      <td>13</td>\n",
       "    </tr>\n",
       "    <tr>\n",
       "      <th>509</th>\n",
       "      <td>Talbert  ( 1974)</td>\n",
       "      <td>13</td>\n",
       "    </tr>\n",
       "    <tr>\n",
       "      <th>83</th>\n",
       "      <td>Cavalier  ( 1991)</td>\n",
       "      <td>11</td>\n",
       "    </tr>\n",
       "    <tr>\n",
       "      <th>344</th>\n",
       "      <td>Karlsson  ( 1995)</td>\n",
       "      <td>9</td>\n",
       "    </tr>\n",
       "    <tr>\n",
       "      <th>226</th>\n",
       "      <td>Diod. 14.78.7</td>\n",
       "      <td>9</td>\n",
       "    </tr>\n",
       "    <tr>\n",
       "      <th>113</th>\n",
       "      <td>Diod. 11.49.2</td>\n",
       "      <td>9</td>\n",
       "    </tr>\n",
       "    <tr>\n",
       "      <th>47</th>\n",
       "      <td>Boehringer  ( 1998)</td>\n",
       "      <td>8</td>\n",
       "    </tr>\n",
       "    <tr>\n",
       "      <th>478</th>\n",
       "      <td>Rutter  ( 1997)</td>\n",
       "      <td>8</td>\n",
       "    </tr>\n",
       "    <tr>\n",
       "      <th>327</th>\n",
       "      <td>Hansen  ( 2000)</td>\n",
       "      <td>8</td>\n",
       "    </tr>\n",
       "  </tbody>\n",
       "</table>\n",
       "</div>"
      ],
      "text/plain": [
       "                  Quelle  Häufigkeit\n",
       "382    Manganaro  ( 1996          15\n",
       "331        Hinz  ( 1998)          13\n",
       "509     Talbert  ( 1974)          13\n",
       "83     Cavalier  ( 1991)          11\n",
       "344    Karlsson  ( 1995)           9\n",
       "226        Diod. 14.78.7           9\n",
       "113        Diod. 11.49.2           9\n",
       "47   Boehringer  ( 1998)           8\n",
       "478      Rutter  ( 1997)           8\n",
       "327      Hansen  ( 2000)           8"
      ]
     },
     "execution_count": 56,
     "metadata": {},
     "output_type": "execute_result"
    }
   ],
   "source": [
    "dfQuellenVerteilung.sort_values(by='Häufigkeit',ascending=False).head(10)"
   ]
  },
  {
   "cell_type": "markdown",
   "metadata": {},
   "source": [
    "# Größere Textblöcke, mit textblob and NLTK"
   ]
  },
  {
   "cell_type": "code",
   "execution_count": 34,
   "metadata": {
    "collapsed": false
   },
   "outputs": [],
   "source": [
    "from textblob import TextBlob\n",
    "from textblob.taggers import NLTKTagger\n",
    "\n",
    "from nltk.tokenize import SExprTokenizer\n",
    "nltk_tagger = NLTKTagger()\n",
    "\n",
    "import json\n",
    "import pandas as pd\n",
    "import re\n",
    "    \n",
    "import nltk.data\n",
    "from nltk import PunktSentenceTokenizer"
   ]
  },
  {
   "cell_type": "markdown",
   "metadata": {},
   "source": [
    "## Alternative loading of data from online resources\n",
    " Laden der gesamt Poleis Quell-Datei"
   ]
  },
  {
   "cell_type": "code",
   "execution_count": 35,
   "metadata": {
    "collapsed": false
   },
   "outputs": [],
   "source": [
    "import requests # To communicate with websites"
   ]
  },
  {
   "cell_type": "markdown",
   "metadata": {},
   "source": [
    "### Github"
   ]
  },
  {
   "cell_type": "code",
   "execution_count": 36,
   "metadata": {
    "collapsed": false
   },
   "outputs": [
    {
     "data": {
      "text/plain": [
       "dict_keys(['Ionia', 'Doris', 'Rhodos', 'Troas', 'Italia and Kampania', 'The Propontic Coast of Asia Minor', 'The Aegean', 'Karia', 'Lesbos', 'Spain and France (including Corsica)', 'The Black Sea Area', 'The Adriatic', 'The Saronic Gulf', 'Boiotia', 'Thrace from Axios to Strymon', 'Achaia', 'Euboia', 'Megaris, Korinthia, Sikyonia', 'Thracian Chersonesos', 'Propontic Thrace', 'Lykia', 'West Lokris', 'Thrace from Strymon to Nestos', 'Inland Thrace', 'Attika', 'Elis', 'Argolis', 'Crete', 'Aiolis and South-western Mysia', 'Aitolia', 'Thrace from Nestos to Hebros', 'Epeiros', 'Cyprus', 'Sikelia', 'Triphylia', 'Thessalia and Adjacent Regions', 'East Lokris', 'Lakedaimon', 'Arkadia', 'Makedonia', 'Phokis', 'Messenia', 'The South Coast of Asia Minor (Pamphylia Kilikia)', 'Akarnania and Adjacent Areas'])"
      ]
     },
     "execution_count": 36,
     "metadata": {},
     "output_type": "execute_result"
    }
   ],
   "source": [
    "# The Github site for the lecture is public, therefore we can access the data in the following manner: \n",
    "PoleisDataOnline = requests.get('https://raw.githubusercontent.com/computational-humanities/vorlesung/master/Notebooks/secondVersion.json')\n",
    "PoleisRawData2 = PoleisDataOnline.json()\n",
    "PoleisRawData2.keys()"
   ]
  },
  {
   "cell_type": "markdown",
   "metadata": {},
   "source": [
    "### edition-topoi.org"
   ]
  },
  {
   "cell_type": "code",
   "execution_count": 37,
   "metadata": {
    "collapsed": false
   },
   "outputs": [
    {
     "data": {
      "text/plain": [
       "dict_keys(['Ionia', 'Doris', 'Rhodos', 'Troas', 'Italia and Kampania', 'The Propontic Coast of Asia Minor', 'The Aegean', 'Karia', 'Lesbos', 'Spain and France (including Corsica)', 'The Black Sea Area', 'The Adriatic', 'The Saronic Gulf', 'Boiotia', 'Thrace from Axios to Strymon', 'Achaia', 'Euboia', 'Megaris, Korinthia, Sikyonia', 'Thracian Chersonesos', 'Propontic Thrace', 'Lykia', 'West Lokris', 'Thrace from Strymon to Nestos', 'Inland Thrace', 'Attika', 'Elis', 'Argolis', 'Crete', 'Aiolis and South-western Mysia', 'Aitolia', 'Thrace from Nestos to Hebros', 'Epeiros', 'Cyprus', 'Sikelia', 'Triphylia', 'Thessalia and Adjacent Regions', 'East Lokris', 'Lakedaimon', 'Arkadia', 'Makedonia', 'Phokis', 'Messenia', 'The South Coast of Asia Minor (Pamphylia Kilikia)', 'Akarnania and Adjacent Areas'])"
      ]
     },
     "execution_count": 37,
     "metadata": {},
     "output_type": "execute_result"
    }
   ],
   "source": [
    "PoleisDataOnline2 = requests.get('http://repository.edition-topoi.org/MISC/ReposMISC/MISC00005/secondVersion.json')\n",
    "PoleisRawData3 = PoleisDataOnline2.json()\n",
    "PoleisRawData3.keys()"
   ]
  },
  {
   "cell_type": "markdown",
   "metadata": {},
   "source": [
    "## Eigenschaften des Datasets PoleisRawData2"
   ]
  },
  {
   "cell_type": "markdown",
   "metadata": {},
   "source": [
    "Each region contains the city names as second-level keys"
   ]
  },
  {
   "cell_type": "code",
   "execution_count": 38,
   "metadata": {
    "collapsed": false
   },
   "outputs": [
    {
     "data": {
      "text/plain": [
       "dict_keys(['Salmakis', 'Bolbai', 'Bargasa', 'Telemessos', 'Olymos', 'Telandros', 'Hydisos', 'Thydonos', 'Halikarnassos', 'Pidasa', 'Alabanda', 'Pladasa', 'Kasolaba', 'Passanda', 'Medmasos', 'Kalynda', 'Alinda', 'Naryandos', 'Aulai', 'Ouranion', 'Naxia', 'Kyrbissos', 'Amos', 'Myndos', 'Taramptos', 'Iasos', 'Euromos', 'Pedasa', 'Kindye', 'with', 'Lepsimandos', 'Chersonesos', 'Kyllandos', 'Arlissos', 'Idrias', 'Pyrnos', 'Pyrindos', 'Bargylia', 'Chios', 'Mylasa', 'Keramos', 'Kaunos', 'Knidos', 'Tralleis'])"
      ]
     },
     "execution_count": 38,
     "metadata": {},
     "output_type": "execute_result"
    }
   ],
   "source": [
    "PoleisRawData2['Karia'].keys()"
   ]
  },
  {
   "cell_type": "markdown",
   "metadata": {},
   "source": [
    "To access the text for a certain city, one has to use first and second level keys"
   ]
  },
  {
   "cell_type": "code",
   "execution_count": 39,
   "metadata": {
    "collapsed": false
   },
   "outputs": [],
   "source": [
    "hydisosText = PoleisRawData2['Karia']['Hydisos']"
   ]
  },
  {
   "cell_type": "code",
   "execution_count": 40,
   "metadata": {
    "collapsed": false
   },
   "outputs": [
    {
     "data": {
      "text/plain": [
       "'Identifier: 891. , (Hydisseus) Map  61.  Lat. 37.10,long.  27.50. Size  of  territory:  ?  Type:  B:?  The  toponym  is  ` (Steph.  Byz. 645.17).  The  earliest  attestation  of  the  toponym is  in  a  C 1  inscription  (I.Stratonikeia 508.10  (c. 81)): `, although  it  was  mentioned  by  Apollonius  Aphrodisiensis, whose may  be  dated  to  C 3  (FGrHist 740  fr. 4).  The city-ethnic  is  `  (IG i³  265.ii.51;Apollonius Aphrodisiensis  (FGrHist 740)  fr. 4  (perhaps  C 3))  or `  (I.Mylasa 401.8  (C 2\\xadC1)). Hydisos  was  a  member  of  the  Delian  League,  but  is  registered  only  twice,  in  448/7  (IG i³  264.iii.21,  restored: `[~]) and 447/6  (IG i³  265.ii.51,  restored: `[~]),  paying  a  phoros  of 1  tal. At  the  site  of  Hydisos  there  are  remains  of  city  walls  and towers,  probably  of  early  Hellenistic  date  (L.  Robert  ( 1935) 339\\xad40). 890.  (Hymisseis) Map 61,  unlocated,  but  possibly  situat- ed  between  Amyzon  (no. 874)  and  Mylasa  (no. 913)  (Pontani ( 1997)  7;  cf.  L.  Robert  ( 1955)  226).  Type:  C: .  A  toponym  is not  attested.  The  city-ethnic  is  `µ  (IG i³  262.iv.19; restored:  [h ]µ~) or `µ  (IG i³  71.ii.143;  IG xii suppl. 127.58  (C 3)).  The  collective  use  of  the  city-ethnic  is attested  externally  in  the  tribute  lists  and  in  the  assessment decree  of 425/4  (IG i³  71.ii.143). The  Hymisseis  were  members  of  the  Delian  League.  They are  recorded  three  times  in  the  lists  from  451/0  (IG i³ 262.iv.19)  to  447/6  (IG i³  265.ii.50),  paying  a  phoros  of 1,200 dr.  In  the  assessment  decree  of 425/4  they  form  a  syntely  with the  Edrieis  (no. 892)  and  Kyromeis,  and  the  three  together are  assessed  at  6  tal.  (IG i³  71.ii.143\\xad44).  A  Hymesseus  is recorded  in a C 3  list  of  proxenoi  from  Eresos  (no. 796)  (IG xii suppl. 127.58). 891. '"
      ]
     },
     "execution_count": 40,
     "metadata": {},
     "output_type": "execute_result"
    }
   ],
   "source": [
    "hydisosText"
   ]
  },
  {
   "cell_type": "markdown",
   "metadata": {},
   "source": [
    "### Textblob\n",
    "\n",
    "Generate blob using TextBlob. This allows identifying different parts of a text  (words, sentences)  or tagging words with their type (noun,verb,etc)"
   ]
  },
  {
   "cell_type": "code",
   "execution_count": 41,
   "metadata": {
    "collapsed": true
   },
   "outputs": [],
   "source": [
    "blob = TextBlob(hydisosText)"
   ]
  },
  {
   "cell_type": "markdown",
   "metadata": {},
   "source": [
    "Return noun phrases"
   ]
  },
  {
   "cell_type": "code",
   "execution_count": 45,
   "metadata": {
    "collapsed": false
   },
   "outputs": [
    {
     "data": {
      "text/plain": [
       "WordList(['identifier', 'hydisseus', 'lat', 'size', 'type', 'steph', 'byz', 'i.stratonikeia', 'apollonius aphrodisiensis', 'fgrhist', 'ig', 'i³ 265.ii.51', 'apollonius aphrodisiensis', 'fgrhist', 'i.mylasa', 'c 2\\xadc1', 'hydisos', 'delian', 'ig', 'i³ 264.iii.21', '` [ ~ ]', 'ig', 'i³ 265.ii.51', '` [ ~ ]', 'hydisos', 'city walls', 'hellenistic', 'l. robert', 'hymisseis', 'amyzon', 'mylasa', 'pontani', 'l. robert', 'type', 'ig', 'i³ 262.iv.19', '[ h ] µ~', 'ig', 'i³ 71.ii.143', 'ig', 'xii suppl', 'collective use', 'assessment decree', 'ig', 'i³ 71.ii.143', 'hymisseis', 'delian', 'ig', 'i³ 262.iv.19', 'ig', 'i³ 265.ii.50', 'assessment decree', 'edrieis', 'kyromeis', 'ig', 'i³ 71.ii.143\\xad44', 'hymesseus', 'eresos', 'ig', 'xii suppl'])"
      ]
     },
     "execution_count": 45,
     "metadata": {},
     "output_type": "execute_result"
    }
   ],
   "source": [
    "blob.noun_phrases"
   ]
  },
  {
   "cell_type": "markdown",
   "metadata": {},
   "source": [
    "Return tags  of first 10 words, for definition see e.g. https://www.ling.upenn.edu/courses/Fall_2003/ling001/penn_treebank_pos.html"
   ]
  },
  {
   "cell_type": "code",
   "execution_count": 46,
   "metadata": {
    "collapsed": false
   },
   "outputs": [
    {
     "data": {
      "text/plain": [
       "[('Identifier', 'NN'),\n",
       " ('891.', 'CD'),\n",
       " ('Hydisseus', 'NNP'),\n",
       " ('Map', 'NNP'),\n",
       " ('61', 'CD'),\n",
       " ('Lat', 'NNP'),\n",
       " ('37.10', 'CD'),\n",
       " ('long', 'RB'),\n",
       " ('27.50', 'CD'),\n",
       " ('Size', 'NN')]"
      ]
     },
     "execution_count": 46,
     "metadata": {},
     "output_type": "execute_result"
    }
   ],
   "source": [
    "blob.tags[:10]"
   ]
  },
  {
   "cell_type": "markdown",
   "metadata": {},
   "source": [
    "Return list of words"
   ]
  },
  {
   "cell_type": "code",
   "execution_count": 48,
   "metadata": {
    "collapsed": false
   },
   "outputs": [
    {
     "data": {
      "text/plain": [
       "WordList(['Identifier', '891', 'Hydisseus', 'Map', '61', 'Lat', '37.10', 'long', '27.50', 'Size', 'of', 'territory', 'Type', 'B', 'The', 'toponym', 'is', 'Steph', 'Byz', '645.17', 'The', 'earliest', 'attestation', 'of', 'the', 'toponym', 'is', 'in', 'a', 'C', '1', 'inscription', 'I.Stratonikeia', '508.10', 'c', '81', 'although', 'it', 'was', 'mentioned', 'by', 'Apollonius', 'Aphrodisiensis', 'whose', 'may', 'be', 'dated', 'to', 'C', '3', 'FGrHist', '740', 'fr', '4', 'The', 'city-ethnic', 'is', 'IG', 'i³', '265.ii.51', 'Apollonius', 'Aphrodisiensis', 'FGrHist', '740', 'fr', '4', 'perhaps', 'C', '3', 'or', 'I.Mylasa', '401.8', 'C', '2\\xadC1', 'Hydisos', 'was', 'a', 'member', 'of', 'the', 'Delian', 'League', 'but', 'is', 'registered', 'only', 'twice', 'in', '448/7', 'IG', 'i³', '264.iii.21', 'restored', 'and', '447/6', 'IG', 'i³', '265.ii.51', 'restored', 'paying', 'a', 'phoros', 'of', '1', 'tal', 'At', 'the', 'site', 'of', 'Hydisos', 'there', 'are', 'remains', 'of', 'city', 'walls', 'and', 'towers', 'probably', 'of', 'early', 'Hellenistic', 'date', 'L', 'Robert', '1935', '339\\xad40', '890', 'Hymisseis', 'Map', '61', 'unlocated', 'but', 'possibly', 'situat', 'ed', 'between', 'Amyzon', 'no', '874', 'and', 'Mylasa', 'no', '913', 'Pontani', '1997', '7', 'cf', 'L', 'Robert', '1955', '226', 'Type', 'C', 'A', 'toponym', 'is', 'not', 'attested', 'The', 'city-ethnic', 'is', 'µ', 'IG', 'i³', '262.iv.19', 'restored', 'h', 'µ', 'or', 'µ', 'IG', 'i³', '71.ii.143', 'IG', 'xii', 'suppl', '127.58', 'C', '3', 'The', 'collective', 'use', 'of', 'the', 'city-ethnic', 'is', 'attested', 'externally', 'in', 'the', 'tribute', 'lists', 'and', 'in', 'the', 'assessment', 'decree', 'of', '425/4', 'IG', 'i³', '71.ii.143', 'The', 'Hymisseis', 'were', 'members', 'of', 'the', 'Delian', 'League', 'They', 'are', 'recorded', 'three', 'times', 'in', 'the', 'lists', 'from', '451/0', 'IG', 'i³', '262.iv.19', 'to', '447/6', 'IG', 'i³', '265.ii.50', 'paying', 'a', 'phoros', 'of', '1,200', 'dr', 'In', 'the', 'assessment', 'decree', 'of', '425/4', 'they', 'form', 'a', 'syntely', 'with', 'the', 'Edrieis', 'no', '892', 'and', 'Kyromeis', 'and', 'the', 'three', 'together', 'are', 'assessed', 'at', '6', 'tal', 'IG', 'i³', '71.ii.143\\xad44', 'A', 'Hymesseus', 'is', 'recorded', 'in', 'a', 'C', '3', 'list', 'of', 'proxenoi', 'from', 'Eresos', 'no', '796', 'IG', 'xii', 'suppl', '127.58', '891'])"
      ]
     },
     "execution_count": 48,
     "metadata": {},
     "output_type": "execute_result"
    }
   ],
   "source": [
    "blob.words"
   ]
  },
  {
   "cell_type": "markdown",
   "metadata": {},
   "source": [
    "Return list of sentences"
   ]
  },
  {
   "cell_type": "code",
   "execution_count": 47,
   "metadata": {
    "collapsed": false
   },
   "outputs": [
    {
     "data": {
      "text/plain": [
       "[Sentence(\"Identifier: 891. , (Hydisseus) Map  61.\"),\n",
       " Sentence(\"Lat.\"),\n",
       " Sentence(\"37.10,long.\"),\n",
       " Sentence(\"27.50.\"),\n",
       " Sentence(\"Size  of  territory:  ?\"),\n",
       " Sentence(\"Type:  B:?\"),\n",
       " Sentence(\"The  toponym  is  ` (Steph.\"),\n",
       " Sentence(\"Byz.\"),\n",
       " Sentence(\"645.17).\"),\n",
       " Sentence(\"The  earliest  attestation  of  the  toponym is  in  a  C 1  inscription  (I.Stratonikeia 508.10  (c. 81)): `, although  it  was  mentioned  by  Apollonius  Aphrodisiensis, whose may  be  dated  to  C 3  (FGrHist 740  fr.\"),\n",
       " Sentence(\"4).\"),\n",
       " Sentence(\"The city-ethnic  is  `  (IG i³  265.ii.51;Apollonius Aphrodisiensis  (FGrHist 740)  fr.\"),\n",
       " Sentence(\"4  (perhaps  C 3))  or `  (I.Mylasa 401.8  (C 2­C1)).\"),\n",
       " Sentence(\"Hydisos  was  a  member  of  the  Delian  League,  but  is  registered  only  twice,  in  448/7  (IG i³  264.iii.21,  restored: `[~]) and 447/6  (IG i³  265.ii.51,  restored: `[~]),  paying  a  phoros  of 1  tal.\"),\n",
       " Sentence(\"At  the  site  of  Hydisos  there  are  remains  of  city  walls  and towers,  probably  of  early  Hellenistic  date  (L.  Robert  ( 1935) 339­40).\"),\n",
       " Sentence(\"890.\"),\n",
       " Sentence(\"(Hymisseis) Map 61,  unlocated,  but  possibly  situat- ed  between  Amyzon  (no.\"),\n",
       " Sentence(\"874)  and  Mylasa  (no.\"),\n",
       " Sentence(\"913)  (Pontani ( 1997)  7;  cf.\"),\n",
       " Sentence(\"L.  Robert  ( 1955)  226).\"),\n",
       " Sentence(\"Type:  C: .\"),\n",
       " Sentence(\"A  toponym  is not  attested.\"),\n",
       " Sentence(\"The  city-ethnic  is  `µ  (IG i³  262.iv.19; restored:  [h ]µ~) or `µ  (IG i³  71.ii.143;  IG xii suppl.\"),\n",
       " Sentence(\"127.58  (C 3)).\"),\n",
       " Sentence(\"The  collective  use  of  the  city-ethnic  is attested  externally  in  the  tribute  lists  and  in  the  assessment decree  of 425/4  (IG i³  71.ii.143).\"),\n",
       " Sentence(\"The  Hymisseis  were  members  of  the  Delian  League.\"),\n",
       " Sentence(\"They are  recorded  three  times  in  the  lists  from  451/0  (IG i³ 262.iv.19)  to  447/6  (IG i³  265.ii.50),  paying  a  phoros  of 1,200 dr.\"),\n",
       " Sentence(\"In  the  assessment  decree  of 425/4  they  form  a  syntely  with the  Edrieis  (no.\"),\n",
       " Sentence(\"892)  and  Kyromeis,  and  the  three  together are  assessed  at  6  tal.\"),\n",
       " Sentence(\"(IG i³  71.ii.143­44).\"),\n",
       " Sentence(\"A  Hymesseus  is recorded  in a C 3  list  of  proxenoi  from  Eresos  (no.\"),\n",
       " Sentence(\"796)  (IG xii suppl.\"),\n",
       " Sentence(\"127.58).\"),\n",
       " Sentence(\"891. \")]"
      ]
     },
     "execution_count": 47,
     "metadata": {},
     "output_type": "execute_result"
    }
   ],
   "source": [
    "blob.sentences"
   ]
  },
  {
   "cell_type": "markdown",
   "metadata": {},
   "source": [
    "Not all sentences are correct. We have to use a different tokenizer to improve this.\n",
    "\n",
    "By calling PunktSentenceTokenizer with an input text, we can train the detection of sentences. \n",
    "\n",
    "This is usually a problem, since a lot of citations (parenthesis) or special characters hinder the detection of a sentence end."
   ]
  },
  {
   "cell_type": "markdown",
   "metadata": {},
   "source": [
    "To generate a text of all cities in a region we can use"
   ]
  },
  {
   "cell_type": "code",
   "execution_count": 52,
   "metadata": {
    "collapsed": false
   },
   "outputs": [],
   "source": [
    "ioniaText = ''\n",
    "\n",
    "for key in PoleisRawData2['Ionia'].keys():\n",
    "    ioniaText = ioniaText + (PoleisRawData2['Ionia'][key])"
   ]
  },
  {
   "cell_type": "markdown",
   "metadata": {},
   "source": [
    "Train the tokenizer:"
   ]
  },
  {
   "cell_type": "code",
   "execution_count": 53,
   "metadata": {
    "collapsed": false
   },
   "outputs": [],
   "source": [
    "trainedTokenizer = PunktSentenceTokenizer(ioniaText)"
   ]
  },
  {
   "cell_type": "markdown",
   "metadata": {},
   "source": [
    "Apply it and print the results."
   ]
  },
  {
   "cell_type": "code",
   "execution_count": 54,
   "metadata": {
    "collapsed": false
   },
   "outputs": [
    {
     "name": "stdout",
     "output_type": "stream",
     "text": [
      "Identifier: 891. , (Hydisseus) Map  61.  Lat. 37.10,long.\n",
      "----\n",
      "27.50. Size  of  territory:  ?\n",
      "----\n",
      "Type:  B:?\n",
      "----\n",
      "The  toponym  is  ` (Steph.\n",
      "----\n",
      "Byz. 645.17).\n",
      "----\n",
      "The  earliest  attestation  of  the  toponym is  in  a  C 1  inscription  (I.Stratonikeia 508.10  (c. 81)): `, although  it  was  mentioned  by  Apollonius  Aphrodisiensis, whose may  be  dated  to  C 3  (FGrHist 740  fr. 4).\n",
      "----\n",
      "The city-ethnic  is  `  (IG i³  265.ii.51;Apollonius Aphrodisiensis  (FGrHist 740)  fr. 4  (perhaps  C 3))  or `  (I.Mylasa 401.8  (C 2­C1)).\n",
      "----\n",
      "Hydisos  was  a  member  of  the  Delian  League,  but  is  registered  only  twice,  in  448/7  (IG i³  264.iii.21,  restored: `[~]) and 447/6  (IG i³  265.ii.51,  restored: `[~]),  paying  a  phoros  of 1  tal.\n",
      "----\n",
      "At  the  site  of  Hydisos  there  are  remains  of  city  walls  and towers,  probably  of  early  Hellenistic  date  (L.  Robert  ( 1935) 339­40).\n",
      "----\n",
      "890.\n",
      "----\n",
      "(Hymisseis) Map 61,  unlocated,  but  possibly  situat- ed  between  Amyzon  (no.\n",
      "----\n",
      "874)  and  Mylasa  (no.\n",
      "----\n",
      "913)  (Pontani ( 1997)  7;  cf.\n",
      "----\n",
      "L.  Robert  ( 1955)  226).\n",
      "----\n",
      "Type:  C: .\n",
      "----\n",
      "A  toponym  is not  attested.\n",
      "----\n",
      "The  city-ethnic  is  `µ  (IG i³  262.iv.19; restored:  [h ]µ~) or `µ  (IG i³  71.ii.143;  IG xii suppl.\n",
      "----\n",
      "127.58  (C 3)).\n",
      "----\n",
      "The  collective  use  of  the  city-ethnic  is attested  externally  in  the  tribute  lists  and  in  the  assessment decree  of 425/4  (IG i³  71.ii.143).\n",
      "----\n",
      "The  Hymisseis  were  members  of  the  Delian  League.\n",
      "----\n",
      "They are  recorded  three  times  in  the  lists  from  451/0  (IG i³ 262.iv.19)  to  447/6  (IG i³  265.ii.50),  paying  a  phoros  of 1,200 dr.\n",
      "----\n",
      "In  the  assessment  decree  of 425/4  they  form  a  syntely  with the  Edrieis  (no.\n",
      "----\n",
      "892)  and  Kyromeis,  and  the  three  together are  assessed  at  6  tal.  (IG i³  71.ii.143­44).\n",
      "----\n",
      "A  Hymesseus  is recorded  in a C 3  list  of  proxenoi  from  Eresos  (no.\n",
      "----\n",
      "796)  (IG xii suppl.\n",
      "----\n",
      "127.58).\n",
      "----\n",
      "891. \n",
      "----\n"
     ]
    }
   ],
   "source": [
    "for item in trainedTokenizer.tokenize(hydisosText):\n",
    "    print(item)\n",
    "    print(\"----\")"
   ]
  },
  {
   "cell_type": "markdown",
   "metadata": {},
   "source": [
    "For citations, we need to find matching brackets. This can be done using SExprTokenizer."
   ]
  },
  {
   "cell_type": "code",
   "execution_count": 58,
   "metadata": {
    "collapsed": false
   },
   "outputs": [
    {
     "name": "stdout",
     "output_type": "stream",
     "text": [
      "(Hydisseus)\n",
      "(Steph.  Byz. 645.17)\n",
      "(I.Stratonikeia 508.10  (c. 81))\n",
      "(FGrHist 740  fr. 4)\n",
      "(IG i³  265.ii.51;Apollonius Aphrodisiensis  (FGrHist 740)  fr. 4  (perhaps  C 3))\n",
      "(I.Mylasa 401.8  (C 2­C1))\n",
      "(IG i³  264.iii.21,  restored: `[~])\n",
      "(IG i³  265.ii.51,  restored: `[~])\n",
      "(L.  Robert  ( 1935) 339­40)\n",
      "(Hymisseis)\n",
      "(no. 874)\n",
      "(no. 913)\n",
      "(Pontani ( 1997)  7;  cf.  L.  Robert  ( 1955)  226)\n",
      "(IG i³  262.iv.19; restored:  [h ]µ~)\n",
      "(IG i³  71.ii.143;  IG xii suppl. 127.58  (C 3))\n",
      "(IG i³  71.ii.143)\n",
      "(IG i³ 262.iv.19)\n",
      "(IG i³  265.ii.50)\n",
      "(no. 892)\n",
      "(IG i³  71.ii.143­44)\n",
      "(no. 796)\n",
      "(IG xii suppl. 127.58)\n"
     ]
    }
   ],
   "source": [
    "for i in SExprTokenizer(strict=False).tokenize(hydisosText):\n",
    "    if i[0]=='(':\n",
    "        print(i)"
   ]
  },
  {
   "cell_type": "markdown",
   "metadata": {},
   "source": [
    "## Create dataframe"
   ]
  },
  {
   "cell_type": "code",
   "execution_count": 119,
   "metadata": {
    "collapsed": true
   },
   "outputs": [],
   "source": [
    "dfPoleisGesamt = pd.io.json.json_normalize(PoleisRawData2)"
   ]
  },
  {
   "cell_type": "code",
   "execution_count": 120,
   "metadata": {
    "collapsed": false
   },
   "outputs": [
    {
     "data": {
      "text/html": [
       "<div>\n",
       "<table border=\"1\" class=\"dataframe\">\n",
       "  <thead>\n",
       "    <tr style=\"text-align: right;\">\n",
       "      <th></th>\n",
       "      <th>Beschreibung</th>\n",
       "    </tr>\n",
       "  </thead>\n",
       "  <tbody>\n",
       "    <tr>\n",
       "      <th>Achaia.Ascheion</th>\n",
       "      <td>Identifier: 233. , (Ascheieus) Unlocated.  Typ...</td>\n",
       "    </tr>\n",
       "    <tr>\n",
       "      <th>Achaia.Boura</th>\n",
       "      <td>Identifier: 235. , (Bourios) Map  58.  Lat. 38...</td>\n",
       "    </tr>\n",
       "    <tr>\n",
       "      <th>Achaia.Helike</th>\n",
       "      <td>Identifier: 236. , (Helikeus) Map  58.  Lat. 3...</td>\n",
       "    </tr>\n",
       "    <tr>\n",
       "      <th>Achaia.Keryneia</th>\n",
       "      <td>Identifier: 237. , (Keryneus) Map  58.  Lat. 3...</td>\n",
       "    </tr>\n",
       "  </tbody>\n",
       "</table>\n",
       "</div>"
      ],
      "text/plain": [
       "                                                      Beschreibung\n",
       "Achaia.Ascheion  Identifier: 233. , (Ascheieus) Unlocated.  Typ...\n",
       "Achaia.Boura     Identifier: 235. , (Bourios) Map  58.  Lat. 38...\n",
       "Achaia.Helike    Identifier: 236. , (Helikeus) Map  58.  Lat. 3...\n",
       "Achaia.Keryneia  Identifier: 237. , (Keryneus) Map  58.  Lat. 3..."
      ]
     },
     "execution_count": 120,
     "metadata": {},
     "output_type": "execute_result"
    }
   ],
   "source": [
    "dfPoleisGesamt= dfPoleisGesamt.transpose()\n",
    "dfPoleisGesamt.columns=['Beschreibung']\n",
    "dfPoleisGesamt.head(4)"
   ]
  },
  {
   "cell_type": "code",
   "execution_count": 121,
   "metadata": {
    "collapsed": false
   },
   "outputs": [
    {
     "data": {
      "text/html": [
       "<div>\n",
       "<table border=\"1\" class=\"dataframe\">\n",
       "  <thead>\n",
       "    <tr style=\"text-align: right;\">\n",
       "      <th></th>\n",
       "      <th>index</th>\n",
       "      <th>Beschreibung</th>\n",
       "    </tr>\n",
       "  </thead>\n",
       "  <tbody>\n",
       "    <tr>\n",
       "      <th>0</th>\n",
       "      <td>Achaia.Ascheion</td>\n",
       "      <td>Identifier: 233. , (Ascheieus) Unlocated.  Typ...</td>\n",
       "    </tr>\n",
       "    <tr>\n",
       "      <th>1</th>\n",
       "      <td>Achaia.Boura</td>\n",
       "      <td>Identifier: 235. , (Bourios) Map  58.  Lat. 38...</td>\n",
       "    </tr>\n",
       "    <tr>\n",
       "      <th>2</th>\n",
       "      <td>Achaia.Helike</td>\n",
       "      <td>Identifier: 236. , (Helikeus) Map  58.  Lat. 3...</td>\n",
       "    </tr>\n",
       "    <tr>\n",
       "      <th>3</th>\n",
       "      <td>Achaia.Keryneia</td>\n",
       "      <td>Identifier: 237. , (Keryneus) Map  58.  Lat. 3...</td>\n",
       "    </tr>\n",
       "    <tr>\n",
       "      <th>4</th>\n",
       "      <td>Achaia.Leontion</td>\n",
       "      <td>Identifier: 238. , (Leontesios) Map  58.Lat.38...</td>\n",
       "    </tr>\n",
       "  </tbody>\n",
       "</table>\n",
       "</div>"
      ],
      "text/plain": [
       "             index                                       Beschreibung\n",
       "0  Achaia.Ascheion  Identifier: 233. , (Ascheieus) Unlocated.  Typ...\n",
       "1     Achaia.Boura  Identifier: 235. , (Bourios) Map  58.  Lat. 38...\n",
       "2    Achaia.Helike  Identifier: 236. , (Helikeus) Map  58.  Lat. 3...\n",
       "3  Achaia.Keryneia  Identifier: 237. , (Keryneus) Map  58.  Lat. 3...\n",
       "4  Achaia.Leontion  Identifier: 238. , (Leontesios) Map  58.Lat.38..."
      ]
     },
     "execution_count": 121,
     "metadata": {},
     "output_type": "execute_result"
    }
   ],
   "source": [
    "dfPoleisGesamt= dfPoleisGesamt.reset_index()\n",
    "dfPoleisGesamt.head()"
   ]
  },
  {
   "cell_type": "code",
   "execution_count": 122,
   "metadata": {
    "collapsed": true
   },
   "outputs": [],
   "source": [
    "dfPoleisGesamt['indexSplit'] = dfPoleisGesamt['index'].str.split('.')"
   ]
  },
  {
   "cell_type": "code",
   "execution_count": 123,
   "metadata": {
    "collapsed": false
   },
   "outputs": [
    {
     "data": {
      "text/html": [
       "<div>\n",
       "<table border=\"1\" class=\"dataframe\">\n",
       "  <thead>\n",
       "    <tr style=\"text-align: right;\">\n",
       "      <th></th>\n",
       "      <th>index</th>\n",
       "      <th>Beschreibung</th>\n",
       "      <th>indexSplit</th>\n",
       "      <th>region</th>\n",
       "      <th>city</th>\n",
       "    </tr>\n",
       "  </thead>\n",
       "  <tbody>\n",
       "    <tr>\n",
       "      <th>0</th>\n",
       "      <td>Achaia.Ascheion</td>\n",
       "      <td>Identifier: 233. , (Ascheieus) Unlocated.  Typ...</td>\n",
       "      <td>[Achaia, Ascheion]</td>\n",
       "      <td>Achaia</td>\n",
       "      <td>Ascheion</td>\n",
       "    </tr>\n",
       "    <tr>\n",
       "      <th>1</th>\n",
       "      <td>Achaia.Boura</td>\n",
       "      <td>Identifier: 235. , (Bourios) Map  58.  Lat. 38...</td>\n",
       "      <td>[Achaia, Boura]</td>\n",
       "      <td>Achaia</td>\n",
       "      <td>Boura</td>\n",
       "    </tr>\n",
       "    <tr>\n",
       "      <th>2</th>\n",
       "      <td>Achaia.Helike</td>\n",
       "      <td>Identifier: 236. , (Helikeus) Map  58.  Lat. 3...</td>\n",
       "      <td>[Achaia, Helike]</td>\n",
       "      <td>Achaia</td>\n",
       "      <td>Helike</td>\n",
       "    </tr>\n",
       "    <tr>\n",
       "      <th>3</th>\n",
       "      <td>Achaia.Keryneia</td>\n",
       "      <td>Identifier: 237. , (Keryneus) Map  58.  Lat. 3...</td>\n",
       "      <td>[Achaia, Keryneia]</td>\n",
       "      <td>Achaia</td>\n",
       "      <td>Keryneia</td>\n",
       "    </tr>\n",
       "    <tr>\n",
       "      <th>4</th>\n",
       "      <td>Achaia.Leontion</td>\n",
       "      <td>Identifier: 238. , (Leontesios) Map  58.Lat.38...</td>\n",
       "      <td>[Achaia, Leontion]</td>\n",
       "      <td>Achaia</td>\n",
       "      <td>Leontion</td>\n",
       "    </tr>\n",
       "  </tbody>\n",
       "</table>\n",
       "</div>"
      ],
      "text/plain": [
       "             index                                       Beschreibung  \\\n",
       "0  Achaia.Ascheion  Identifier: 233. , (Ascheieus) Unlocated.  Typ...   \n",
       "1     Achaia.Boura  Identifier: 235. , (Bourios) Map  58.  Lat. 38...   \n",
       "2    Achaia.Helike  Identifier: 236. , (Helikeus) Map  58.  Lat. 3...   \n",
       "3  Achaia.Keryneia  Identifier: 237. , (Keryneus) Map  58.  Lat. 3...   \n",
       "4  Achaia.Leontion  Identifier: 238. , (Leontesios) Map  58.Lat.38...   \n",
       "\n",
       "           indexSplit  region      city  \n",
       "0  [Achaia, Ascheion]  Achaia  Ascheion  \n",
       "1     [Achaia, Boura]  Achaia     Boura  \n",
       "2    [Achaia, Helike]  Achaia    Helike  \n",
       "3  [Achaia, Keryneia]  Achaia  Keryneia  \n",
       "4  [Achaia, Leontion]  Achaia  Leontion  "
      ]
     },
     "execution_count": 123,
     "metadata": {},
     "output_type": "execute_result"
    }
   ],
   "source": [
    "dfPoleisGesamt['region'] = dfPoleisGesamt['indexSplit'].apply(lambda raw: raw[0])\n",
    "dfPoleisGesamt['city'] = dfPoleisGesamt['indexSplit'].apply(lambda raw: raw[1])\n",
    "dfPoleisGesamt.head()"
   ]
  },
  {
   "cell_type": "code",
   "execution_count": 124,
   "metadata": {
    "collapsed": false
   },
   "outputs": [
    {
     "data": {
      "text/html": [
       "<div>\n",
       "<table border=\"1\" class=\"dataframe\">\n",
       "  <thead>\n",
       "    <tr style=\"text-align: right;\">\n",
       "      <th></th>\n",
       "      <th>Beschreibung</th>\n",
       "      <th>region</th>\n",
       "      <th>city</th>\n",
       "    </tr>\n",
       "  </thead>\n",
       "  <tbody>\n",
       "    <tr>\n",
       "      <th>0</th>\n",
       "      <td>Identifier: 233. , (Ascheieus) Unlocated.  Typ...</td>\n",
       "      <td>Achaia</td>\n",
       "      <td>Ascheion</td>\n",
       "    </tr>\n",
       "    <tr>\n",
       "      <th>1</th>\n",
       "      <td>Identifier: 235. , (Bourios) Map  58.  Lat. 38...</td>\n",
       "      <td>Achaia</td>\n",
       "      <td>Boura</td>\n",
       "    </tr>\n",
       "    <tr>\n",
       "      <th>2</th>\n",
       "      <td>Identifier: 236. , (Helikeus) Map  58.  Lat. 3...</td>\n",
       "      <td>Achaia</td>\n",
       "      <td>Helike</td>\n",
       "    </tr>\n",
       "    <tr>\n",
       "      <th>3</th>\n",
       "      <td>Identifier: 237. , (Keryneus) Map  58.  Lat. 3...</td>\n",
       "      <td>Achaia</td>\n",
       "      <td>Keryneia</td>\n",
       "    </tr>\n",
       "    <tr>\n",
       "      <th>4</th>\n",
       "      <td>Identifier: 238. , (Leontesios) Map  58.Lat.38...</td>\n",
       "      <td>Achaia</td>\n",
       "      <td>Leontion</td>\n",
       "    </tr>\n",
       "  </tbody>\n",
       "</table>\n",
       "</div>"
      ],
      "text/plain": [
       "                                        Beschreibung  region      city\n",
       "0  Identifier: 233. , (Ascheieus) Unlocated.  Typ...  Achaia  Ascheion\n",
       "1  Identifier: 235. , (Bourios) Map  58.  Lat. 38...  Achaia     Boura\n",
       "2  Identifier: 236. , (Helikeus) Map  58.  Lat. 3...  Achaia    Helike\n",
       "3  Identifier: 237. , (Keryneus) Map  58.  Lat. 3...  Achaia  Keryneia\n",
       "4  Identifier: 238. , (Leontesios) Map  58.Lat.38...  Achaia  Leontion"
      ]
     },
     "execution_count": 124,
     "metadata": {},
     "output_type": "execute_result"
    }
   ],
   "source": [
    "dfPoleisGesamt = dfPoleisGesamt.drop('index', 1)\n",
    "dfPoleisGesamt = dfPoleisGesamt.drop('indexSplit', 1)\n",
    "dfPoleisGesamt.head()"
   ]
  },
  {
   "cell_type": "markdown",
   "metadata": {},
   "source": [
    "### Get city identifier\n",
    "\n",
    "Throughout the full text, cities are referenced by a running index. To make this information part of the dataframe, we extend it with an additional column.\n"
   ]
  },
  {
   "cell_type": "code",
   "execution_count": 125,
   "metadata": {
    "collapsed": false
   },
   "outputs": [],
   "source": [
    "def cityIDFinder(text):\n",
    "    '''\n",
    "    #1: Find all occurance of the string \"Identifier\" followed by a colon, a space and between one and four decimals.\n",
    "    #2: If there is a result, do the following\n",
    "    #3: Take the first result idList[0] (because the identifier is at the beginning of the text), \n",
    "        and split the string at the dot (to remove the dot at the end of the string). Then return the string from the 13. position.\n",
    "        This ensures, that only a number is returned, since it removes the word identifier, the colon, and the space. \n",
    "    '''\n",
    "    idList = re.findall(\"Identifier\\: \\d{1,4}\\.\", text) #1\n",
    "    if idList: #2\n",
    "        idCity = idList[0].split('.')[0][12:] #3\n",
    "        return idCity"
   ]
  },
  {
   "cell_type": "code",
   "execution_count": 126,
   "metadata": {
    "collapsed": false
   },
   "outputs": [],
   "source": [
    "dfPoleisGesamt['city_id'] = dfPoleisGesamt['Beschreibung'].apply(lambda row: cityIDFinder(row))"
   ]
  },
  {
   "cell_type": "markdown",
   "metadata": {},
   "source": [
    "### Collection of all citations\n",
    "\n",
    "To collect all citations in the text for one city, we first use a tokenizer from NLTK. This tokenizer collects all parenthesis and is much easier to use, that regular expressions.\n",
    "\n",
    "The basic assumption for citations is: They are written in parenthesis, start with a capital letter, and contain at least one blank space (to separate the authors name from text pages, indices, or dates).\n"
   ]
  },
  {
   "cell_type": "code",
   "execution_count": 127,
   "metadata": {
    "collapsed": false
   },
   "outputs": [],
   "source": [
    "def citationFinder(text):\n",
    "    '''\n",
    "    #1: Generate a list of all capital letters\n",
    "    #2: Tokenize text to search for parenthesis, '( ... )' (this returns more accurate results, that using regular expression) \n",
    "        The option strict=False is necessary to prevent errors, when the text contains only an unmatched opening or closing paranthesis.\n",
    "    #3: The basic assumptions for citations are: \n",
    "        In parenthesis (first element is opening paranthesis), \n",
    "        start with a capital letter (second element is a capital letter), \n",
    "        and contain at least one blank space ' '\n",
    "    '''\n",
    "    import string\n",
    "    letters=[i for i in string.ascii_uppercase] #1\n",
    "    paranthesisTokenized = SExprTokenizer(strict=False).tokenize(text) #2\n",
    "    listCite = [x for x in paranthesisTokenized if x[0] == '(' and x[1] in letters and ' ' in x] #3\n",
    "    return listCite"
   ]
  },
  {
   "cell_type": "code",
   "execution_count": 128,
   "metadata": {
    "collapsed": false
   },
   "outputs": [],
   "source": [
    "dfPoleisGesamt['sources'] = dfPoleisGesamt['Beschreibung'].apply(lambda row: citationFinder(row))"
   ]
  },
  {
   "cell_type": "markdown",
   "metadata": {},
   "source": [
    "### Transformation of coordinates\n",
    "\n",
    "A simple regular expression is enough to find all coordinates in the text. The coordinates are transformed from degrees/minutes to decimal to enable plotting on a map with common projection.\n"
   ]
  },
  {
   "cell_type": "code",
   "execution_count": 129,
   "metadata": {
    "collapsed": false
   },
   "outputs": [],
   "source": [
    "def coordinateFinder(value,pattern):\n",
    "    '''\n",
    "    #1: General function for finding regular expression pattern in a text.\n",
    "    #2: If patterns are found, do the following\n",
    "    #3: Take the last five values of the first string returned\n",
    "    #4: To convert angular in decimal coordinates: \n",
    "        Take the returned value, split it at the dot\n",
    "        convert the first part into a floating number (e.g. 36.0), \n",
    "        and the second part into a integer number (e.g. 34) and divide it by 60. \n",
    "        The sum the two results to return a coordinate in decimal system\n",
    "    '''\n",
    "    x = re.findall(pattern, value)                                             #1\n",
    "    if x:                                                                      #2  \n",
    "        coord = x[0][-5:]                                                      #3 \n",
    "        decCord = float(coord.split('.')[0]) +  int(coord.split('.')[-1])/60   #4\n",
    "        return decCord"
   ]
  },
  {
   "cell_type": "code",
   "execution_count": 130,
   "metadata": {
    "collapsed": false
   },
   "outputs": [],
   "source": [
    "dfPoleisGesamt['latitude'] = dfPoleisGesamt[\"Beschreibung\"].apply(coordinateFinder, pattern=\"Lat\\.\\s?\\d+\\.\\d+\")\n",
    "dfPoleisGesamt['longitude'] = dfPoleisGesamt[\"Beschreibung\"].apply(coordinateFinder, pattern=\"long\\.\\s*\\d+\\.\\d+\")"
   ]
  },
  {
   "cell_type": "markdown",
   "metadata": {},
   "source": [
    "###  Proper nouns\n",
    "\n",
    "To generate a list of all mentioned proper nouns for each city, we use TextBlob. TextBlob is a NLTK tool with parts-of-speech tagger. We are interessted in all parts that are 'NNP' and longer then 3 letters.\n",
    "\n",
    "This takes some time to process for the full dataframe. Behaviour can be tested by uncommenting the cell below.\n"
   ]
  },
  {
   "cell_type": "code",
   "execution_count": 131,
   "metadata": {
    "collapsed": false
   },
   "outputs": [],
   "source": [
    "def namesFinder(text):\n",
    "    '''\n",
    "    #1: Generate a blob out of the text \n",
    "    #2: Generate a list of all POS Tags, that are labeld as NNP(S) (Proper noun, singular (or plural)), and which are longer than 3 letters \n",
    "    '''\n",
    "    blobs = TextBlob(text)                                                                              #1\n",
    "    namesList = [x[0] for x in blobs.pos_tags if (x[1] == 'NNP') | (x[1] == 'NNPS') and len(x[0]) > 3]  #2\n",
    "    return namesList"
   ]
  },
  {
   "cell_type": "code",
   "execution_count": 134,
   "metadata": {
    "collapsed": false
   },
   "outputs": [
    {
     "data": {
      "text/plain": [
       "['Herodotos',\n",
       " 'Stein',\n",
       " 'Aigiroessa',\n",
       " 'Elaia',\n",
       " 'Herodotos',\n",
       " 'Elaia',\n",
       " 'Head',\n",
       " 'Cook',\n",
       " 'Aigiroessa',\n",
       " 'Belkahve']"
      ]
     },
     "execution_count": 134,
     "metadata": {},
     "output_type": "execute_result"
    }
   ],
   "source": [
    "# Uncomment to test routine. \n",
    "\n",
    "namesFinder(dfPoleisGesamt['Beschreibung'].iloc[10])"
   ]
  },
  {
   "cell_type": "code",
   "execution_count": 135,
   "metadata": {
    "collapsed": false
   },
   "outputs": [],
   "source": [
    "########################################\n",
    "# Careful: Takes some time to evalute! #\n",
    "########################################\n",
    "\n",
    "dfPoleisGesamt['names'] = dfPoleisGesamt['Beschreibung'].apply(lambda row: namesFinder(row))"
   ]
  },
  {
   "cell_type": "markdown",
   "metadata": {},
   "source": [
    "###  Cross links to other cities\n",
    "\n",
    "Links to other cities are mentioned in the fulltext with reference to the index (e.g. '(no. 982)'). searching for these should give a link list.\n"
   ]
  },
  {
   "cell_type": "code",
   "execution_count": 136,
   "metadata": {
    "collapsed": false
   },
   "outputs": [],
   "source": [
    "def linksFinder(text):\n",
    "    '''\n",
    "    #1: Find all occurances of the string \"(no. 1234)\" with between one and four decimals\n",
    "    #2: If we have a result\n",
    "    #3: Generate a list, where every result:\n",
    "        is split at the space, take the last part, and only up to the last letter (this removes the closing paranthesis) \n",
    "    #4: For all these results, convert the entries into an integer number\n",
    "    '''\n",
    "    x = re.findall(\"\\(no\\. \\d{1,4}\\)\", text)               #1\n",
    "    if x:                                                  #2\n",
    "        links = [((z.split(' '))[-1])[:-1] for z in x]     #3\n",
    "        linksInt = [int(x) for x in links]                 #4\n",
    "        return linksInt"
   ]
  },
  {
   "cell_type": "code",
   "execution_count": 137,
   "metadata": {
    "collapsed": false
   },
   "outputs": [],
   "source": [
    "dfPoleisGesamt['linkedCities'] = dfPoleisGesamt['Beschreibung'].apply(lambda row: linksFinder(row))"
   ]
  },
  {
   "cell_type": "markdown",
   "metadata": {},
   "source": [
    "## Display dataframe"
   ]
  },
  {
   "cell_type": "code",
   "execution_count": 138,
   "metadata": {
    "collapsed": false
   },
   "outputs": [
    {
     "data": {
      "text/html": [
       "<div>\n",
       "<table border=\"1\" class=\"dataframe\">\n",
       "  <thead>\n",
       "    <tr style=\"text-align: right;\">\n",
       "      <th></th>\n",
       "      <th>Beschreibung</th>\n",
       "      <th>region</th>\n",
       "      <th>city</th>\n",
       "      <th>city_id</th>\n",
       "      <th>sources</th>\n",
       "      <th>latitude</th>\n",
       "      <th>longitude</th>\n",
       "      <th>names</th>\n",
       "      <th>linkedCities</th>\n",
       "    </tr>\n",
       "  </thead>\n",
       "  <tbody>\n",
       "    <tr>\n",
       "      <th>0</th>\n",
       "      <td>Identifier: 233. , (Ascheieus) Unlocated.  Typ...</td>\n",
       "      <td>Achaia</td>\n",
       "      <td>Ascheion</td>\n",
       "      <td>233</td>\n",
       "      <td>[(CID ii  51.8  ( 339/8)), (BCH 45  ( 1921)  i...</td>\n",
       "      <td>NaN</td>\n",
       "      <td>NaN</td>\n",
       "      <td>[Ascheieus, F.Delphes, Delphic, F.Delphes, Asc...</td>\n",
       "      <td>None</td>\n",
       "    </tr>\n",
       "    <tr>\n",
       "      <th>1</th>\n",
       "      <td>Identifier: 235. , (Bourios) Map  58.  Lat. 38...</td>\n",
       "      <td>Achaia</td>\n",
       "      <td>Boura</td>\n",
       "      <td>235</td>\n",
       "      <td>[(Morgan  and  Hall  ( 1996)  175;  Barr.), (R...</td>\n",
       "      <td>38.166667</td>\n",
       "      <td>22.250000</td>\n",
       "      <td>[Bourios, Keryneia, Paus, Strabo, Boura, Diako...</td>\n",
       "      <td>[236, 235, 238, 251, 165, 148]</td>\n",
       "    </tr>\n",
       "    <tr>\n",
       "      <th>2</th>\n",
       "      <td>Identifier: 236. , (Helikeus) Map  58.  Lat. 3...</td>\n",
       "      <td>Achaia</td>\n",
       "      <td>Helike</td>\n",
       "      <td>236</td>\n",
       "      <td>[(Morgan  and Hall ( 1996)  175;  Barr.), (Dio...</td>\n",
       "      <td>38.250000</td>\n",
       "      <td>22.166667</td>\n",
       "      <td>[Helikeus, Paus, Aigion, Strabo, Herakleides, ...</td>\n",
       "      <td>[231, 70]</td>\n",
       "    </tr>\n",
       "    <tr>\n",
       "      <th>3</th>\n",
       "      <td>Identifier: 237. , (Keryneus) Map  58.  Lat. 3...</td>\n",
       "      <td>Achaia</td>\n",
       "      <td>Keryneia</td>\n",
       "      <td>237</td>\n",
       "      <td>[(Rizakis  ( 1995)  206;  Barr.), (Paus. 7.25....</td>\n",
       "      <td>38.166667</td>\n",
       "      <td>22.166667</td>\n",
       "      <td>[Keryneus, Paus, Keryneia, Mamousia, Derveni, ...</td>\n",
       "      <td>[353]</td>\n",
       "    </tr>\n",
       "  </tbody>\n",
       "</table>\n",
       "</div>"
      ],
      "text/plain": [
       "                                        Beschreibung  region      city  \\\n",
       "0  Identifier: 233. , (Ascheieus) Unlocated.  Typ...  Achaia  Ascheion   \n",
       "1  Identifier: 235. , (Bourios) Map  58.  Lat. 38...  Achaia     Boura   \n",
       "2  Identifier: 236. , (Helikeus) Map  58.  Lat. 3...  Achaia    Helike   \n",
       "3  Identifier: 237. , (Keryneus) Map  58.  Lat. 3...  Achaia  Keryneia   \n",
       "\n",
       "  city_id                                            sources   latitude  \\\n",
       "0     233  [(CID ii  51.8  ( 339/8)), (BCH 45  ( 1921)  i...        NaN   \n",
       "1     235  [(Morgan  and  Hall  ( 1996)  175;  Barr.), (R...  38.166667   \n",
       "2     236  [(Morgan  and Hall ( 1996)  175;  Barr.), (Dio...  38.250000   \n",
       "3     237  [(Rizakis  ( 1995)  206;  Barr.), (Paus. 7.25....  38.166667   \n",
       "\n",
       "   longitude                                              names  \\\n",
       "0        NaN  [Ascheieus, F.Delphes, Delphic, F.Delphes, Asc...   \n",
       "1  22.250000  [Bourios, Keryneia, Paus, Strabo, Boura, Diako...   \n",
       "2  22.166667  [Helikeus, Paus, Aigion, Strabo, Herakleides, ...   \n",
       "3  22.166667  [Keryneus, Paus, Keryneia, Mamousia, Derveni, ...   \n",
       "\n",
       "                     linkedCities  \n",
       "0                            None  \n",
       "1  [236, 235, 238, 251, 165, 148]  \n",
       "2                       [231, 70]  \n",
       "3                           [353]  "
      ]
     },
     "execution_count": 138,
     "metadata": {},
     "output_type": "execute_result"
    }
   ],
   "source": [
    "# Uncomment to display full dataframe\n",
    "#df\n",
    "dfPoleisGesamt.head(4)"
   ]
  }
 ],
 "metadata": {
  "anaconda-cloud": {},
  "kernelspec": {
   "display_name": "Python 3",
   "language": "python",
   "name": "python3"
  },
  "language_info": {
   "codemirror_mode": {
    "name": "ipython",
    "version": 3
   },
   "file_extension": ".py",
   "mimetype": "text/x-python",
   "name": "python",
   "nbconvert_exporter": "python",
   "pygments_lexer": "ipython3",
   "version": "3.5.2"
  },
  "latex_envs": {
   "bibliofile": "biblio.bib",
   "cite_by": "apalike",
   "current_citInitial": 1,
   "eqLabelWithNumbers": true,
   "eqNumInitial": 0
  },
  "nav_menu": {},
  "toc": {
   "navigate_menu": true,
   "number_sections": true,
   "sideBar": true,
   "threshold": 6,
   "toc_cell": false,
   "toc_section_display": "block",
   "toc_window_display": false
  }
 },
 "nbformat": 4,
 "nbformat_minor": 0
}
