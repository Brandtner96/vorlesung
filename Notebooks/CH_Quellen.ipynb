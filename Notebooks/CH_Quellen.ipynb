{
 "cells": [
  {
   "cell_type": "markdown",
   "metadata": {},
   "source": [
    "# Vorlesung: Arbeiten mit Daten-Quellen"
   ]
  },
  {
   "cell_type": "markdown",
   "metadata": {},
   "source": [
    "# Einlesen von lokal verfügbaren Dateien"
   ]
  },
  {
   "cell_type": "markdown",
   "metadata": {},
   "source": [
    "## Text (.txt) Dateien\n",
    "\n",
    "Text-Dateien kann Python von Haus aus lesen. Dazu wird die Datei mit Leserechten geöffnet open(file, 'r') und dann mit dem Befehl .read() in die Variable data eingelesen.\n",
    "Je nach Formatierung des Textdokuments muss dann eine Nachbearbeitung stattfinden. Zum Beispiel über die Spalten, Seiten, Kapitel, usw. "
   ]
  },
  {
   "cell_type": "code",
   "execution_count": 1,
   "metadata": {
    "collapsed": false
   },
   "outputs": [
    {
     "name": "stdout",
     "output_type": "stream",
     "text": [
      "﻿JOHANNES KEPLER GESAMMELTE WERKE\n",
      "HERAUSGEGEBEN IM AUFTRAG\n",
      "DER DEUTSCHEN FORSCHUNGSGEMEINSCHAFT\n",
      "UND DER\n",
      "BAYERISCHEN AKADEMIE DER WISSENSCHAFTEN\n",
      "UNTER DER LEITUNG VON WALTHER VON DYCKf UND MAX CASPAR\n",
      "C. H. BECKSCHE VERLAGSBUCHHANDLUNG\n",
      "MÜNCHEN\n",
      "JOHANNES KEPLER GESAMMELTE WERKE\n",
      "BAND I\n",
      "MYSTERIUM COSMOGRAPH1CUM DE STELLA NOVA\n",
      "HERAUSGEGEBEN VON MAX CASPAR\n",
      "G EL BECK SCHE VERLAGSBUCHHANDLUNG MÜNCHEN MCMXXXVIII\n",
      "DAS TITELBILD IST EINE WIEDERGABE DES ZEITGENÖSSISCHEN STICHES VON JACOB VON HEYDEN\n",
      "ft\n",
      "EINLEITUNG\n",
      "Johannes Kepler, dessen gesammelte Werke in dieser Ausgabe der Welt vorgelegt werden, vollbrachte die Aufgabe, zu der ihn sein Genius berief, in einer an äußeren und inneren Spannungen reichen Zeit. Mit den letzten zwölf Jahren reichte sein Leben in den für unser Vaterland so unheilvollen Dreißigjährigen Krieg hinein, in dem weithin die Pflege der Wissenschaft in der allgemeinen Not erstickte. Es ist daher kein Wunder, daß seinem Lebenswerk in seinem Heimatland zunächst eine volle Auswirkung \n"
     ]
    }
   ],
   "source": [
    "with open('Kepler_ges_Werke_vol1.txt','r') as keplerVol1:\n",
    "    data=keplerVol1.read()\n",
    "print(data[:1000])"
   ]
  },
  {
   "cell_type": "markdown",
   "metadata": {},
   "source": [
    "Der Text wird an Zeilenumbrüchen getrennt und durchsucht nach dem Titel des Werks: 'MYSTERIVM COSMOGRAPHICVM', der immer als Seitenkopf in einer extra Zeile aufder rechten Seite vorkommt. Nachfolgende Zeilen enthalten also den Text. Insebesonder findet sich zwischen zwei vorkommen des Seitentitels der gesamte Text einer Doppelseite. "
   ]
  },
  {
   "cell_type": "code",
   "execution_count": 2,
   "metadata": {
    "collapsed": true
   },
   "outputs": [],
   "source": [
    "lines = data.splitlines()\n",
    "mystList=[]\n",
    "for x in range(len(lines)):\n",
    "    if 'MYSTERIVM COSMOGRAPHICVM' in lines[x]:\n",
    "        mystList.append(x+1)"
   ]
  },
  {
   "cell_type": "markdown",
   "metadata": {},
   "source": [
    "Den Text einer Doppelseite können wir also aus allen Spalten zusammensetzen"
   ]
  },
  {
   "cell_type": "code",
   "execution_count": 4,
   "metadata": {
    "collapsed": false
   },
   "outputs": [],
   "source": [
    "textKepler = ''\n",
    "for i in range(mystList[1],mystList[2]-1):\n",
    "    textKepler = textKepler + lines[i] + '\\n'"
   ]
  },
  {
   "cell_type": "code",
   "execution_count": 5,
   "metadata": {
    "collapsed": false
   },
   "outputs": [
    {
     "name": "stdout",
     "output_type": "stream",
     "text": [
      "eum Sol et Luna, etc. Quae vox coelo? quae stellis? qua Deum laudent t instar hominis? Nisi quod, dum argumenta suppeditant hominibus laudandi Dei, Deum ipsae laudare dicuntur. Quam vocem, coelis et Naturae rerum dum aperimus his pagellis, clarioremque efficimus: nemo nos vanitatis, aut inutiliter sumpti laboris arguat.\n",
      "Taceo, quöd haec materia, Creationis, quam negarunt Philosophi, magnum argumentum est: dum cernimus, vti Deus instar alicuius ex nostratibus Architectis, ordine et norma ad mundi molitionem accesserit, singulaque sit ita dimensus; quasi non ars naturam imitaretur, sed Deus ipse ad hominis futuri morem aedificandi, respexisset.\ti0\n",
      "Quanquam quid necessc est, diuinarum rerum vsus instar obsonij nummo aestimare? Nam quid quaeso prodest ventri famelico cognitio rerum naturalium, quid tota reliqua Astronomia? Neque tamen audiunt cordati homines illam barbariem, quae deserenda propterea ista studia clamitat. Pictores ferimus, qui oculos, Symphoniacos, qui aures oblectant: quamuis nullum rebus nostris emolumentum afferant. Et non tantum humana, sed etiam honesta censetur voluptas, quae ex vtrorum-que operibus capitur. Quae igi'tur inhumanitas, quae stultitia, menti ) suum inuiderc honestum gaudium, oculis et auribus non inuidere? Rerum naturae repugnat; qui cum his pugnat recreationibus. Nam qui t0 nihil in naturam introduxit, Creator optimus, cui non cum ad necessitatem, tum ad pulchritudinem et voluptatem abunde prospexerit: is mentem hominis, totius naturae dominam, suam ipsius imaginem, solam nulla voluptate beauerit? Imö vti non quaerimus, qua spe commodi cantillet auicula, cum sciamus inesse voluptatem in cantu, propterea, quia ad cantum istum facta est: ita nec hoc quaerendum, cur mens humana tantum sumat laboris in perquirendis hisce coelorum arcanis. Est enim ideo mens adiuncta sensibus ab Opifice nostro; non tantum vt seipsum homo sustentaret, quod longe solertius possunt vel brutae mentis ministerio multa animantium genera: sed etiam, vt ab ijs, quae, J0 quod sint, oculis cernimus, ad causas quare sint ct fiant, contenderemus: quamuis nihil aliud vtilitatis inde caperemus. Atque adeö vt animalia caetera, corpusque humanum cibo potuque sustentantur: sic animus ipse hominis, diuersum quiddam ab homine, vegetatur, augetur, et adolescit quodammodo, cognitionis isthoc pabulo: mortuoque, quam viuo similior est, si harum rerum desiderio nullo tangitur. Quare vti Naturae prouidentia pabulum animantibus nunquam deficit: ita non immerito dicere possumus, propterea tantam in rebus inesse varietatem, tamque reconditos in coelorum fabrica thesauros; vt nunquam deesset humanae menti recens pabulum, ne fastidiret obsoletum, neu quiesceret, 40 sed haberet in hoc mundo perpetuam exercendi sui officinam.\n",
      "EPISTOLA DEDICATORIA\n",
      "7\n",
      "Neque vero harum epularum, quas ex ditissimo Conditoris penu in hoc libello, velut in mensa depromo, propterea minor est nobilitas: quöd ä maxima vulgi parte vel non gustabuntur, vel respuentur. Anserem laudant plurcs, quam phasianum, quia ille communis est, iste rarior. Neque tamen vilius Apitij palatus hunc illi postponet. Sic huius materiae dignitas tanto maior erit; quo pauciores laudatores, intelligentes modo sint, 4 reperiet. Non eadem vul'go conucniunt et principibus: neque haec coelestia promiscue omnium, sed generosi saltem animi pabulum sunt: non meo voto, vel opera, non sua natura, non Dei inuidiä: sed pluri-io morum hominum vel stupiditate vel ignauia. Solent principes aliqua magni precij inter secundas habere mensas, quibus vtantur non nisi saturi, leuandi fastidij causa. Sic haec et huiusmodi studia generosissimo et sapientissimo cuique tum demum sapient, vbi e casa per pagos, oppida, prouincias, regna ad orbis imperium ascenderit, omnia probe perspexerit; neque, vt sunt humana, quicquam vllibi repererit beatum, diuturnum, et tale, quo finiri ct saturari queat eius appetitus. Tunc enim incipiet meliora quaerere, tunc ä terra huc in coelum ascendet, tum animum fessum curis inanibus ad hanc quietem transferet, tum dicet\n",
      "Felices animas, quibus haec cognoscere primum io\tInque domos superas scandere cura fuit,\n",
      "quare contemnere incipiet, quae olim praestantissima censuit, sola haec Dei opera magnifacict, atque meram et sinceram tandem voluptatem ex Itis contemplationibus capiet. Contemnant igitur haec et huiusmodi meletemata, quicunquc, quantumcunque volent, quaerantque sibi vn-diquaque commoda, diuitias, thesauros: Astronomis isthaec gloria sufficiat, quod Philosophis sua scribunt, non rabulis; Regibus non pastoribus. Praedico intrepidi, futuros tamen aliquos, qui suae sibi senectutis hinc comparent solatium; tales nempe, qui quoad Magistratus gesserunt, ita se gesserunt, vt liberi morsibus conscientiae, habiles esse possint 3° fruendis hisce dei ici js.\n",
      "Existet iterum Carolvs aliquis, qui, cum Europa, quoad imperauerit, non caperetur; fessus imperijs, exigua S. Iusti cellula capiatur: cuique inter tot spectacula, titulos, triumphos, tot diuitias, vrbes, regna; unica Turrianica, vel iam Copernicopythagoraea Sphaera Planetaria tantopere placeat, vt orbem terrarum, cum ea commutet, digitoque circulos, quäm t populos imperijs regere malit.\n",
      "Non haec eo dico, viri Amplissimi, vt nouum paradoxon, senes dis-j cipulos, in scenam, seu in scholas producam: sed vt appareat1 quodnam genuinum tempus sit messem de his studijs colligendi. Cur enim de\n",
      "lj) repetierit\n",
      "14) propi\n",
      "8\n",
      "\n"
     ]
    }
   ],
   "source": [
    "print(textKepler)"
   ]
  },
  {
   "cell_type": "markdown",
   "metadata": {},
   "source": [
    "## JSON (.json) Dateien\n",
    "\n",
    "Für Json Dateien wird erst das json Paket importiert. Wieder wird die Datei mit `with open() as ...:` vom Dateisystem gelesen und dann mit dem Befehl `json.load(datei)` in die Variable gelesen. Auf diese Art gelesene Json Datein sind dann als Dictionary ansprechbar. `dict.keys()` gibt die verfügbaren Schlüssel aus. `dict[key]` (mit eckigen Klammern!) gibt den Wert für den Schlüssel key aus. Solch ein Wert kann wieder ein Dictionary mit eigenen Keys sein. Siehe unteres Beispiel."
   ]
  },
  {
   "cell_type": "code",
   "execution_count": 1,
   "metadata": {
    "collapsed": true
   },
   "outputs": [],
   "source": [
    "import json"
   ]
  },
  {
   "cell_type": "code",
   "execution_count": 2,
   "metadata": {
    "collapsed": false
   },
   "outputs": [
    {
     "data": {
      "text/plain": [
       "dict_keys(['Arkadia', 'Crete', 'Doris', 'Euboia', 'Attika', 'Rhodos', 'Sikelia', 'Messenia', 'Thrace from Strymon to Nestos', 'Megaris, Korinthia, Sikyonia', 'The South Coast of Asia Minor (Pamphylia Kilikia)', 'The Saronic Gulf', 'Lakedaimon', 'West Lokris', 'Thrace from Nestos to Hebros', 'Argolis', 'Ionia', 'Propontic Thrace', 'Elis', 'The Aegean', 'Epeiros', 'Inland Thrace', 'Troas', 'Cyprus', 'Achaia', 'Karia', 'Triphylia', 'The Adriatic', 'Thessalia and Adjacent Regions', 'The Black Sea Area', 'Thrace from Axios to Strymon', 'Spain and France (including Corsica)', 'Akarnania and Adjacent Areas', 'Makedonia', 'The Propontic Coast of Asia Minor', 'Lykia', 'Thracian Chersonesos', 'Aiolis and South-western Mysia', 'Lesbos', 'Italia and Kampania', 'Aitolia', 'East Lokris', 'Phokis', 'Boiotia'])"
      ]
     },
     "execution_count": 2,
     "metadata": {},
     "output_type": "execute_result"
    }
   ],
   "source": [
    "with open('secondVersion.json') as json_data:\n",
    "    PoleisRawData = json.load(json_data)\n",
    "PoleisRawData.keys()"
   ]
  },
  {
   "cell_type": "code",
   "execution_count": 3,
   "metadata": {
    "collapsed": false
   },
   "outputs": [
    {
     "data": {
      "text/plain": [
       "dict_keys(['Leontion', 'Keryneia', 'Tritaia', 'Ascheion', 'Boura', 'Olenos', 'Pharai', 'Helike'])"
      ]
     },
     "execution_count": 3,
     "metadata": {},
     "output_type": "execute_result"
    }
   ],
   "source": [
    "PoleisRawData['Achaia'].keys()"
   ]
  },
  {
   "cell_type": "code",
   "execution_count": 4,
   "metadata": {
    "collapsed": false
   },
   "outputs": [
    {
     "data": {
      "text/plain": [
       "\"Identifier: 236. , (Helikeus) Map  58.  Lat. 38.15,long.  22.10.  Size of  territory: 1  or 2.  Type:  A.  Paus. 7.24.5  locates  Helike  40 stades  from  Aigion  (no. 231),  while  Strabo  8.7.2  (following Herakleides)  places  it  12  stades  from  the  sea.  This  should  put it  between  the  rivers  Selinous  and  Kerynitis  (Morgan  and Hall ( 1996)  175;  Barr.).  The  city,  which  was  overwhelmed  by a  tidal  wave  occasioned  by  an  earthquake  in  373  (Diod. 15.48.1\\xad49.4;  Polyb. 2.41.7;Strabo 8.7.2;  Paus. 7.24.6;Ael.  NA 11.19),  was  normally  supposed  to  lie  under  water  (cf.  Ov. Met. 15.293\\xad95),  but  sonar  investigation  suggests  that  it  may actually  lie  inland  under  massive  sedimentary  deposits  in the  vicinity  of  Nea  Keryneia  (Petropoulos  ( 1983);  cf.  Ptol. Geog. 3.14.36,  who  lists  Helike  among  the  inland  cities  of Achaia).  However,  Rizakis  ( 1995)  203\\xad4  finds all candidates for  ancient  Helike  unconvincing.  The  toponym  is  usually `,  (Hom.  Il. 2.575;  SEG 36  718  (C 5e);  Hdt. 1.145)  or `  (Syll. ³90.12),  though  Theophr.  Phys.  Op. 12.122  cites a  verse  which  gives  the  toponym  as  `.  The  city- ethnic  is  `  (Diod. 15.49.3). Helike  is  called  a  polis  in  the  urban  sense  in  Heraclid. Pont.  fr. 46a  (r 373)  and  Theophr.  Phys.  op. 12.122  (r 373),but  is absent  from  Ps.-Skylax's  list  of  Achaian  poleis  ( 42),  which may  suggest  that  this  chapter  was  composed  after  373. Retrospective  evidence  is  provided  by  Polyb. 2.41.7  (rC 4), who  calls  it  a  polis  in  the  political  sense,  and  by  Diod. 15.48.3 (r 373),  who  describes  it  as  a  polis  in  the  urban  sense.  The internal  collective  use  of  the  city-ethnic  is  probably  found (abbreviated)  on  C 4  coins  (infra),  and  the  external  collective use  is  found  in  Diod. 15.49.3  (r  ante 373).  A  citizen  of  Helike served  as  Delphic  theorodokos  in  C 5l  (Syll. ³90.12).According to Polyb. 2.41.6\\xad7  (rC 4),  Helike  had  been  a  member  of  the Achaian  Confederacy. The  early  physical  existence  of  Helike  is  attested  in  Hom. Il. 2.575  and  in  a  C 5e  inscription  (SEG 36  718;  see  also  Soter and  Katsonopoulou  ( 1999)).  Archaeological  investigations have  revealed  the  foundations  of  two  small  temples,  one Archaic,  the  other  Classical,  at  Nea  Keryneia,  which  may possibly  be  associated  with  the  acropolis  of  ancient  Helike (Petropoulos  ( 1990)).  The  most  important  sanctuary  at Helike  was,  however,  that  of  Poseidon  Helikonios  (Hom.  Il. 8.203;Diod.  15.49.2\\xad3;Strabo  8.7.2;  Paus. 7.24.5\\xad6),  and  it  is quite  likely  that  this  sanctuary  acted  as  a  common  place  of union  for  the  Achaians  prior  to  the  destruction  of Helike,  when  that  function  was  assumed  by  the  sanctuary of  Zeus  Homarios  near  Aigion  (Morgan  and  Hall  ( 1996) 195\\xad96,  contra  Aymard  ( 1938)  286\\xad87,  293;  Walbank ( 2000)). According  to  Strabo  6.1.13,  Is  of  Helike  was  the  founder  of Sybaris  (no. 70)  in  South  Italy.  The  reading  (  '  &lt;...  &gt; `) is,  however,  unsure,  and Bérard  ( 1957)  141  n. 2  proposed  either  &lt; &gt;  or &lt; &gt;. A  series  of  bronze  coins,  dating  to  C 4f,  depicts  obv.  head of  Poseidon.  Legend: (retr.).  Rev.  trident  between dolphins  in  wreath  (Head,  HN ²414). 236. \""
      ]
     },
     "execution_count": 4,
     "metadata": {},
     "output_type": "execute_result"
    }
   ],
   "source": [
    "PoleisRawData['Achaia']['Helike']"
   ]
  },
  {
   "cell_type": "markdown",
   "metadata": {},
   "source": [
    "## PDF Dateien"
   ]
  },
  {
   "cell_type": "code",
   "execution_count": 14,
   "metadata": {
    "collapsed": false
   },
   "outputs": [],
   "source": [
    "import PyPDF2"
   ]
  },
  {
   "cell_type": "code",
   "execution_count": 20,
   "metadata": {
    "collapsed": false
   },
   "outputs": [
    {
     "name": "stdout",
     "output_type": "stream",
     "text": [
      "Number of pages: 930\n",
      "Text on page 499:\n",
      "\n"
     ]
    },
    {
     "data": {
      "text/plain": [
       "' \\nLAON\\n \\n19\\n \\nLAON\\n \\nBIBLIOTHQUE MLNICIP ALE\\n \\n2039 Ms. 4 (s. XII Notre\\n-\\nDame, 2r). Augustinus, De Genesi ad litteram (lib. 1\\n-\\n12).\\n \\n133 Bl.; 26,7 x 22,2 cm (19,7\\n-\\n20,2 x 14,5 cm); 34, 36 Z. Min. von mehreren Hden.;\\n \\nKzg.:\\n \\nejt. \\nR. Unz. R. u. schw. Rust. Vergr. Cap.formen. Glz. Korn. Mgg., \\n \\nz.T. von schmaler, enger Hd. Einzelne Tiron. N. (28v, 73v). Randzeichen: Chresimon,\\n \\nAnchora super\\nior (64r).\\n \\n\\n \\nWohl Nordostfrankreich, IX. ih. \\n \\n2040 Ms. 4bis (Laon, Notre\\n-\\nDame). Augustinus, De Genesi ad litteram (lib. 7\\n-\\n12).\\n \\n83 Bl. (Kalbpg.); 29x21 cm (21,5x15,7 cm); 27 Z. Gerade o. fast gerade kalligr. Min. \\nvon mehr als einer Hd. Satzcap.: \\nEg \\n(insul., in Lig., 75v); vergr. halbunz. \\na. 1v, 1. Z. \\nr. \\n\\nÜbernommene mg. Urteile und Hinweise in Rechtecken. Am Ende fehlende Zeilen\\n \\ns. XH/XIII erg.\\n \\nLIT.: Contreni, \\nCathedral School, \\nS. 45.\\n \\n\\n \\nVielleicht Niederrhein (?), Belgien (?), IX. Jh., ca. 1.12. Viertel \\n \\n2041 Ms. 6 (s. IX, 4. Viertel B. Dido an Laan, Kathedrale). Hrabanus Maurus, Commenta\\n-\\n \\nrius in Exodum.\\n \\n87 Bl.; 25x20 cm (ca. 20,5x15,2 cm); 36 Z, Sehr kleine Min. von mehreren Hden.,\\n \\nz.T. gleichm., z.T. sehr leicht u. schwankend; auch \\nP; \\nKzg.:\\n \\n\\n \\ngentes : ge, \\n-\\nb;\\n \\n(Komma tief). R. gern. Unz. \\n(Q; H \\nK\\n-\\nförmig 2v). Schw. gern. Rust. Tiron. N. 53v, 68r.\\n \\n65v Fp. s. IX/X.\\n \\nLIT.: Contreni, \\nCathedral School, \\nS. 44.\\n \\n\\n \\nWestliches Frankreich (?), IX. Jh., ca. 2. Viertel \\n \\n2042 Ms. 11. Origenes, Homiliae in Leviticum.\\n \\n195 BI.; 24,2x19,5 cm (16,8x12,6 cm); 20 Z. Von 3 Hden.: Ir\\n--\\n91v typische Reims\\n-\\nMin.; 92r\\n-\\n163v (von Contreni zu Unrecht Hartgar \\n\\n \\ns.u. \\n\\n \\nzugesehr.) mit scharfem \\nDuktus; 164r\\n-\\n195r im Wechsel dieser Hd. mit einem völlig anderen (ostfranz.?) Typ\\n \\n(Kzg.:\\n \\n\\nEXPLICANT\" (omeliae); Nachschr. Hartgars (Reimser Typ) über \\n \\n\\nMon.cap. Vergr. Cap.formen. Einige Mgg. u. Schnörkel neben Zitaten von Martinus\\n \\nScotus.\\n \\nLIT.: Contreni, \\nCathedral School, \\n\\n\\n \\nReimser Umkreis, IX, ih., 2. Viertel \\n \\n2043 Ms. 14 \\n(BI. \\n1\\n-\\n54) (Val\\n-\\nSaint\\n-\\nPierre). Psalterium cum glossis (unvollst.).\\n \\n54 BI.; 29 x 26,3 cm (24,5 x 23,8 cm); 3 Sp., Text (Bl, 1\\n-\\n46:) 23 Z., (BI. 47\\n-\\n54:) 27 Z., \\nGlossen: mehr als doppelt soviel. Min, mehrerer Hde. Bis 46v (LE) m. glz. Glossen. \\nScheitel von \\ng \\nliegt oft über dem Mittelband. R. Rust. Vergr. Cap.formen r. u. schw\\n. \\nFrz. über 2 Pkt.en (vgl. Saint\\n-\\nDenis). Ungewöhnlich großes Repertoire\\n \\n'"
      ]
     },
     "execution_count": 20,
     "metadata": {},
     "output_type": "execute_result"
    }
   ],
   "source": [
    "with open('Bischoff_2004.pdf','rb') as pdfDaten:\n",
    "    pdfReader = PyPDF2.PdfFileReader(pdfDaten)\n",
    "    print('Number of pages: {}'.format(pdfReader.numPages))\n",
    "    pageObj = pdfReader.getPage(499)\n",
    "    ts=pageObj.extractText()\n",
    "    print('Text on page 499:\\n')\n",
    "ts"
   ]
  },
  {
   "cell_type": "markdown",
   "metadata": {
    "collapsed": true
   },
   "source": [
    "# Einlesen von Online-Quellen\n",
    "\n",
    "Für das Einlesen von Daten aus Quellen im Internet benötigen wir das Paket `requests`. Durch einen GET Befehl erhält man eine Antwort (`response`), die als Json Datei ausgegeben werden kann (`response.json()`). \n",
    "\n",
    "Wie oben kann dann mit den Keys auf die Werte (=Texte oder Dictionaries) zugegriffen werden."
   ]
  },
  {
   "cell_type": "code",
   "execution_count": 10,
   "metadata": {
    "collapsed": true
   },
   "outputs": [],
   "source": [
    "import requests"
   ]
  },
  {
   "cell_type": "markdown",
   "metadata": {},
   "source": [
    "## Aus dem edition-Topoi repository"
   ]
  },
  {
   "cell_type": "code",
   "execution_count": 11,
   "metadata": {
    "collapsed": false
   },
   "outputs": [
    {
     "data": {
      "text/plain": [
       "dict_keys(['Arkadia', 'Crete', 'Doris', 'Euboia', 'Attika', 'Rhodos', 'Sikelia', 'Messenia', 'Thrace from Strymon to Nestos', 'Megaris, Korinthia, Sikyonia', 'The South Coast of Asia Minor (Pamphylia Kilikia)', 'The Saronic Gulf', 'Lakedaimon', 'West Lokris', 'Thrace from Nestos to Hebros', 'Argolis', 'Ionia', 'Propontic Thrace', 'Elis', 'The Aegean', 'Epeiros', 'Inland Thrace', 'Troas', 'Cyprus', 'Achaia', 'Karia', 'Triphylia', 'The Adriatic', 'Thessalia and Adjacent Regions', 'The Black Sea Area', 'Thrace from Axios to Strymon', 'Spain and France (including Corsica)', 'Akarnania and Adjacent Areas', 'Makedonia', 'The Propontic Coast of Asia Minor', 'Lykia', 'Thracian Chersonesos', 'Aiolis and South-western Mysia', 'Lesbos', 'Italia and Kampania', 'Aitolia', 'East Lokris', 'Phokis', 'Boiotia'])"
      ]
     },
     "execution_count": 11,
     "metadata": {},
     "output_type": "execute_result"
    }
   ],
   "source": [
    "response = requests.get('http://repository.edition-topoi.org/MISC/ReposMISC/MISC00005/secondVersion.json')\n",
    "PoleisData = response.json()\n",
    "PoleisData.keys()"
   ]
  },
  {
   "cell_type": "code",
   "execution_count": 12,
   "metadata": {
    "collapsed": false
   },
   "outputs": [
    {
     "data": {
      "text/plain": [
       "\"Identifier: 236. , (Helikeus) Map  58.  Lat. 38.15,long.  22.10.  Size of  territory: 1  or 2.  Type:  A.  Paus. 7.24.5  locates  Helike  40 stades  from  Aigion  (no. 231),  while  Strabo  8.7.2  (following Herakleides)  places  it  12  stades  from  the  sea.  This  should  put it  between  the  rivers  Selinous  and  Kerynitis  (Morgan  and Hall ( 1996)  175;  Barr.).  The  city,  which  was  overwhelmed  by a  tidal  wave  occasioned  by  an  earthquake  in  373  (Diod. 15.48.1\\xad49.4;  Polyb. 2.41.7;Strabo 8.7.2;  Paus. 7.24.6;Ael.  NA 11.19),  was  normally  supposed  to  lie  under  water  (cf.  Ov. Met. 15.293\\xad95),  but  sonar  investigation  suggests  that  it  may actually  lie  inland  under  massive  sedimentary  deposits  in the  vicinity  of  Nea  Keryneia  (Petropoulos  ( 1983);  cf.  Ptol. Geog. 3.14.36,  who  lists  Helike  among  the  inland  cities  of Achaia).  However,  Rizakis  ( 1995)  203\\xad4  finds all candidates for  ancient  Helike  unconvincing.  The  toponym  is  usually `,  (Hom.  Il. 2.575;  SEG 36  718  (C 5e);  Hdt. 1.145)  or `  (Syll. ³90.12),  though  Theophr.  Phys.  Op. 12.122  cites a  verse  which  gives  the  toponym  as  `.  The  city- ethnic  is  `  (Diod. 15.49.3). Helike  is  called  a  polis  in  the  urban  sense  in  Heraclid. Pont.  fr. 46a  (r 373)  and  Theophr.  Phys.  op. 12.122  (r 373),but  is absent  from  Ps.-Skylax's  list  of  Achaian  poleis  ( 42),  which may  suggest  that  this  chapter  was  composed  after  373. Retrospective  evidence  is  provided  by  Polyb. 2.41.7  (rC 4), who  calls  it  a  polis  in  the  political  sense,  and  by  Diod. 15.48.3 (r 373),  who  describes  it  as  a  polis  in  the  urban  sense.  The internal  collective  use  of  the  city-ethnic  is  probably  found (abbreviated)  on  C 4  coins  (infra),  and  the  external  collective use  is  found  in  Diod. 15.49.3  (r  ante 373).  A  citizen  of  Helike served  as  Delphic  theorodokos  in  C 5l  (Syll. ³90.12).According to Polyb. 2.41.6\\xad7  (rC 4),  Helike  had  been  a  member  of  the Achaian  Confederacy. The  early  physical  existence  of  Helike  is  attested  in  Hom. Il. 2.575  and  in  a  C 5e  inscription  (SEG 36  718;  see  also  Soter and  Katsonopoulou  ( 1999)).  Archaeological  investigations have  revealed  the  foundations  of  two  small  temples,  one Archaic,  the  other  Classical,  at  Nea  Keryneia,  which  may possibly  be  associated  with  the  acropolis  of  ancient  Helike (Petropoulos  ( 1990)).  The  most  important  sanctuary  at Helike  was,  however,  that  of  Poseidon  Helikonios  (Hom.  Il. 8.203;Diod.  15.49.2\\xad3;Strabo  8.7.2;  Paus. 7.24.5\\xad6),  and  it  is quite  likely  that  this  sanctuary  acted  as  a  common  place  of union  for  the  Achaians  prior  to  the  destruction  of Helike,  when  that  function  was  assumed  by  the  sanctuary of  Zeus  Homarios  near  Aigion  (Morgan  and  Hall  ( 1996) 195\\xad96,  contra  Aymard  ( 1938)  286\\xad87,  293;  Walbank ( 2000)). According  to  Strabo  6.1.13,  Is  of  Helike  was  the  founder  of Sybaris  (no. 70)  in  South  Italy.  The  reading  (  '  &lt;...  &gt; `) is,  however,  unsure,  and Bérard  ( 1957)  141  n. 2  proposed  either  &lt; &gt;  or &lt; &gt;. A  series  of  bronze  coins,  dating  to  C 4f,  depicts  obv.  head of  Poseidon.  Legend: (retr.).  Rev.  trident  between dolphins  in  wreath  (Head,  HN ²414). 236. \""
      ]
     },
     "execution_count": 12,
     "metadata": {},
     "output_type": "execute_result"
    }
   ],
   "source": [
    "PoleisData['Achaia']['Helike']"
   ]
  },
  {
   "cell_type": "markdown",
   "metadata": {},
   "source": [
    "## Aus einem Github repository\n",
    "\n",
    "Das Laden von Daten aus Github funktioniert für JSON files genau wie oben. Im unteren Beispiel wird ein CSV geladen, das sofort mit Pandas in einen Dataframe geschrieben werden kann. "
   ]
  },
  {
   "cell_type": "code",
   "execution_count": 18,
   "metadata": {
    "collapsed": false
   },
   "outputs": [],
   "source": [
    "import pandas as pd\n",
    "from io import BytesIO\n",
    "Auswertung_URL = 'https://raw.githubusercontent.com/computational-humanities/topoi/fkotschka/projects/sundials/DF_Auswertung_ver1.0.csv'\n",
    "dfAuswertung = pd.DataFrame.from_csv(BytesIO(requests.get(Auswertung_URL).content))"
   ]
  },
  {
   "cell_type": "code",
   "execution_count": 20,
   "metadata": {
    "collapsed": false
   },
   "outputs": [
    {
     "data": {
      "text/html": [
       "<div>\n",
       "<table border=\"1\" class=\"dataframe\">\n",
       "  <thead>\n",
       "    <tr style=\"text-align: right;\">\n",
       "      <th></th>\n",
       "      <th>Ang. Edge East</th>\n",
       "      <th>Ang. Edge West</th>\n",
       "      <th>Ang. Plane FUPT</th>\n",
       "      <th>ConeRad1</th>\n",
       "      <th>ConeRad2</th>\n",
       "      <th>G:S</th>\n",
       "      <th>Ge</th>\n",
       "      <th>Gw</th>\n",
       "      <th>HeightEast</th>\n",
       "      <th>HeightWest</th>\n",
       "      <th>...</th>\n",
       "      <th>WidthTF</th>\n",
       "      <th>aver. Width type</th>\n",
       "      <th>aver. Height</th>\n",
       "      <th>aver. Height type</th>\n",
       "      <th>aver. Width</th>\n",
       "      <th>cal. Lat. Edge East</th>\n",
       "      <th>cal. Lat. Edge West</th>\n",
       "      <th>cal. Lat. FUPT</th>\n",
       "      <th>opening Angle</th>\n",
       "      <th>opening Width</th>\n",
       "    </tr>\n",
       "  </thead>\n",
       "  <tbody>\n",
       "    <tr>\n",
       "      <th>0</th>\n",
       "      <td>53.9314</td>\n",
       "      <td>53.9314</td>\n",
       "      <td>53.9314</td>\n",
       "      <td>unknown</td>\n",
       "      <td>unknown</td>\n",
       "      <td>1 : 0.728373</td>\n",
       "      <td>124.42</td>\n",
       "      <td>133.728</td>\n",
       "      <td>195.826</td>\n",
       "      <td>196.484</td>\n",
       "      <td>...</td>\n",
       "      <td>196.454</td>\n",
       "      <td>calculated</td>\n",
       "      <td>196.155</td>\n",
       "      <td>calculated</td>\n",
       "      <td>195.027</td>\n",
       "      <td>36.0686</td>\n",
       "      <td>36.0686</td>\n",
       "      <td>36.0686</td>\n",
       "      <td>unknown</td>\n",
       "      <td>unknown</td>\n",
       "    </tr>\n",
       "    <tr>\n",
       "      <th>1</th>\n",
       "      <td>51.4909</td>\n",
       "      <td>51.4909</td>\n",
       "      <td>51.4909</td>\n",
       "      <td>unknown</td>\n",
       "      <td>unknown</td>\n",
       "      <td>1 : 0.795695</td>\n",
       "      <td>250.552</td>\n",
       "      <td>252.014</td>\n",
       "      <td>unknown</td>\n",
       "      <td>unknown</td>\n",
       "      <td>...</td>\n",
       "      <td>470.068</td>\n",
       "      <td>calculated</td>\n",
       "      <td>463.296</td>\n",
       "      <td>minimal</td>\n",
       "      <td>473.322</td>\n",
       "      <td>38.5091</td>\n",
       "      <td>38.5091</td>\n",
       "      <td>38.5091</td>\n",
       "      <td>27.5036</td>\n",
       "      <td>unknown</td>\n",
       "    </tr>\n",
       "    <tr>\n",
       "      <th>2</th>\n",
       "      <td>unknown</td>\n",
       "      <td>unknown</td>\n",
       "      <td>unknown</td>\n",
       "      <td>147.224</td>\n",
       "      <td>154.131</td>\n",
       "      <td>unknown</td>\n",
       "      <td>unknown</td>\n",
       "      <td>unknown</td>\n",
       "      <td>unknown</td>\n",
       "      <td>unknown</td>\n",
       "      <td>...</td>\n",
       "      <td>unknown</td>\n",
       "      <td>unknown</td>\n",
       "      <td>86.2587</td>\n",
       "      <td>minimal</td>\n",
       "      <td>unknown</td>\n",
       "      <td>unknown</td>\n",
       "      <td>unknown</td>\n",
       "      <td>unknown</td>\n",
       "      <td>9.56379</td>\n",
       "      <td>unknown</td>\n",
       "    </tr>\n",
       "    <tr>\n",
       "      <th>3</th>\n",
       "      <td>55.7468</td>\n",
       "      <td>55.7468</td>\n",
       "      <td>55.7468</td>\n",
       "      <td>unknown</td>\n",
       "      <td>unknown</td>\n",
       "      <td>1 : 0.680958</td>\n",
       "      <td>144.622</td>\n",
       "      <td>139.433</td>\n",
       "      <td>213.631</td>\n",
       "      <td>210.903</td>\n",
       "      <td>...</td>\n",
       "      <td>227.565</td>\n",
       "      <td>calculated</td>\n",
       "      <td>212.267</td>\n",
       "      <td>calculated</td>\n",
       "      <td>230.163</td>\n",
       "      <td>34.2532</td>\n",
       "      <td>34.2532</td>\n",
       "      <td>34.2532</td>\n",
       "      <td>unknown</td>\n",
       "      <td>unknown</td>\n",
       "    </tr>\n",
       "  </tbody>\n",
       "</table>\n",
       "<p>4 rows × 30 columns</p>\n",
       "</div>"
      ],
      "text/plain": [
       "  Ang. Edge East Ang. Edge West Ang. Plane FUPT ConeRad1 ConeRad2  \\\n",
       "0        53.9314        53.9314         53.9314  unknown  unknown   \n",
       "1        51.4909        51.4909         51.4909  unknown  unknown   \n",
       "2        unknown        unknown         unknown  147.224  154.131   \n",
       "3        55.7468        55.7468         55.7468  unknown  unknown   \n",
       "\n",
       "            G:S       Ge       Gw HeightEast HeightWest      ...       \\\n",
       "0  1 : 0.728373   124.42  133.728    195.826    196.484      ...        \n",
       "1  1 : 0.795695  250.552  252.014    unknown    unknown      ...        \n",
       "2       unknown  unknown  unknown    unknown    unknown      ...        \n",
       "3  1 : 0.680958  144.622  139.433    213.631    210.903      ...        \n",
       "\n",
       "   WidthTF aver. Width type aver. Height aver. Height type aver. Width  \\\n",
       "0  196.454       calculated      196.155        calculated     195.027   \n",
       "1  470.068       calculated      463.296           minimal     473.322   \n",
       "2  unknown          unknown      86.2587           minimal     unknown   \n",
       "3  227.565       calculated      212.267        calculated     230.163   \n",
       "\n",
       "  cal. Lat. Edge East cal. Lat. Edge West cal. Lat. FUPT opening Angle  \\\n",
       "0             36.0686             36.0686        36.0686       unknown   \n",
       "1             38.5091             38.5091        38.5091       27.5036   \n",
       "2             unknown             unknown        unknown       9.56379   \n",
       "3             34.2532             34.2532        34.2532       unknown   \n",
       "\n",
       "  opening Width  \n",
       "0       unknown  \n",
       "1       unknown  \n",
       "2       unknown  \n",
       "3       unknown  \n",
       "\n",
       "[4 rows x 30 columns]"
      ]
     },
     "execution_count": 20,
     "metadata": {},
     "output_type": "execute_result"
    }
   ],
   "source": [
    "dfAuswertung.head(4)"
   ]
  }
 ],
 "metadata": {
  "anaconda-cloud": {},
  "kernelspec": {
   "display_name": "Python 3",
   "language": "python",
   "name": "python3"
  },
  "language_info": {
   "codemirror_mode": {
    "name": "ipython",
    "version": 3
   },
   "file_extension": ".py",
   "mimetype": "text/x-python",
   "name": "python",
   "nbconvert_exporter": "python",
   "pygments_lexer": "ipython3",
   "version": "3.5.2"
  },
  "latex_envs": {
   "bibliofile": "biblio.bib",
   "cite_by": "apalike",
   "current_citInitial": 1,
   "eqLabelWithNumbers": true,
   "eqNumInitial": 0
  },
  "nav_menu": {},
  "toc": {
   "navigate_menu": true,
   "number_sections": true,
   "sideBar": true,
   "threshold": 6,
   "toc_cell": false,
   "toc_section_display": "block",
   "toc_window_display": false
  }
 },
 "nbformat": 4,
 "nbformat_minor": 0
}
