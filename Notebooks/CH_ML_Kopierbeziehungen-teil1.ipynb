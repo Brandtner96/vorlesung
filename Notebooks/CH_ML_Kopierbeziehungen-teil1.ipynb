{
 "cells": [
  {
   "cell_type": "markdown",
   "metadata": {},
   "source": [
    "# Vorlesung: Kopierbeziehungen und machine learning: Teil 1 Problemstellung\n"
   ]
  },
  {
   "cell_type": "code",
   "execution_count": 1,
   "metadata": {
    "collapsed": true
   },
   "outputs": [],
   "source": [
    "%matplotlib notebook"
   ]
  },
  {
   "cell_type": "code",
   "execution_count": 2,
   "metadata": {
    "collapsed": true
   },
   "outputs": [],
   "source": [
    "import pandas as pd\n",
    "import numpy as np\n",
    "from random import random,randrange\n",
    "import matplotlib.pyplot as plt \n",
    "import itertools\n",
    "from IPython.display import HTML\n",
    "import pygraphviz as pgv\n",
    "\n",
    "from sklearn.model_selection import train_test_split\n",
    "from sklearn import metrics\n",
    "from sklearn.model_selection import cross_val_score"
   ]
  },
  {
   "cell_type": "code",
   "execution_count": 3,
   "metadata": {
    "collapsed": true
   },
   "outputs": [],
   "source": [
    "def show2images(pnglist,width):\n",
    "    res = ''.join(['<iframe src={} width={}% height=400></iframe>'.format(png,width) for png in pnglist])\n",
    "    return HTML(res)"
   ]
  },
  {
   "cell_type": "code",
   "execution_count": 4,
   "metadata": {
    "collapsed": true
   },
   "outputs": [],
   "source": [
    "def crossProbabilities(model,source,node1,node2):\n",
    "    index1 = [key for key in index2kanten.keys() if (index2kanten[key][0] in [node1,node2]) & (index2kanten[key][1] in [node1,node2])]\n",
    "    index2 = [key for key in dictIndex.keys() if (dictIndex[key] in index1)]\n",
    "    comp_proba = model.predict_proba(source)\n",
    "    res = [comp_proba[x] for x in index2]\n",
    "    return res"
   ]
  },
  {
   "cell_type": "code",
   "execution_count": 5,
   "metadata": {
    "collapsed": true
   },
   "outputs": [],
   "source": [
    "def plot_confusion_matrix(cm, classes,\n",
    "                          normalize=False,\n",
    "                          title='Confusion matrix',\n",
    "                          cmap=plt.cm.Blues):\n",
    "    \"\"\"\n",
    "    This function prints and plots the confusion matrix.\n",
    "    Normalization can be applied by setting `normalize=True`.\n",
    "    \"\"\"\n",
    "    plt.imshow(cm, interpolation='nearest', cmap=cmap)\n",
    "    plt.title(title)\n",
    "    plt.colorbar()\n",
    "    tick_marks = np.arange(len(classes))\n",
    "    plt.xticks(tick_marks, classes, rotation=45)\n",
    "    plt.yticks(tick_marks, classes)\n",
    "\n",
    "    if normalize:\n",
    "        cm = cm.astype('float') / cm.sum(axis=1)[:, np.newaxis]\n",
    "        print(\"Normalized confusion matrix\")\n",
    "    else:\n",
    "        print('Confusion matrix, without normalization')\n",
    "\n",
    "    print(cm)\n",
    "\n",
    "    thresh = cm.max() / 2.\n",
    "    for i, j in itertools.product(range(cm.shape[0]), range(cm.shape[1])):\n",
    "        plt.text(j, i, cm[i, j],\n",
    "                 horizontalalignment=\"center\",\n",
    "                 color=\"white\" if cm[i, j] > thresh else \"black\")\n",
    "\n",
    "    plt.tight_layout()\n",
    "    plt.ylabel('True label')\n",
    "    plt.xlabel('Predicted label')"
   ]
  },
  {
   "cell_type": "markdown",
   "metadata": {},
   "source": [
    "# Konstruktion Kopierbaum\n",
    "\n",
    "## Initialisierung"
   ]
  },
  {
   "cell_type": "code",
   "execution_count": 6,
   "metadata": {
    "collapsed": true
   },
   "outputs": [],
   "source": [
    "NMerkmale=20\n",
    "NTexte=15"
   ]
  },
  {
   "cell_type": "markdown",
   "metadata": {},
   "source": [
    "Die Wurzel beschreibt die Merkmale der grundlegenden Kopiervorlage."
   ]
  },
  {
   "cell_type": "code",
   "execution_count": 7,
   "metadata": {
    "collapsed": false
   },
   "outputs": [
    {
     "data": {
      "text/plain": [
       "[1, 1, 0, 0, 0, 1, 1, 1, 1, 0, 0, 0, 1, 1, 0, 0, 1, 0, 0, 0]"
      ]
     },
     "execution_count": 7,
     "metadata": {},
     "output_type": "execute_result"
    }
   ],
   "source": [
    "def MWurzel(N):\n",
    "    return([randrange(2) for i in range(N)])\n",
    "NM=MWurzel(NMerkmale)\n",
    "NM"
   ]
  },
  {
   "cell_type": "code",
   "execution_count": 8,
   "metadata": {
    "collapsed": false
   },
   "outputs": [
    {
     "data": {
      "text/plain": [
       "[1, 0, 0, 0, 1, 1, 1, 0, 1, 1, 0, 1, 1, 1, 0, 1, 1, 0, 0, 0]"
      ]
     },
     "execution_count": 8,
     "metadata": {},
     "output_type": "execute_result"
    }
   ],
   "source": [
    "NM2=MWurzel(NMerkmale)\n",
    "NM2"
   ]
  },
  {
   "cell_type": "markdown",
   "metadata": {},
   "source": [
    "## Modell der Merkmalskopie\n",
    "\n",
    "Eingabe ist ein Vektor mit Merkmalen. Angegeben wird die Wahrscheinlichkeit, wie ein Merkmal mit binären Werten kopiert wird.\n",
    "\n",
    " Angenommen wird, dass die Wahrscheinlichkeit für die Umwandlung einer null in einer 1 p ist, während die Verwandlung von einem Merkmal mit eins in einen null mit der Häufigkeit q auftritt.\n",
    " \n",
    " http://stackoverflow.com/questions/10803135/weighted-choice-short-and-simple"
   ]
  },
  {
   "cell_type": "code",
   "execution_count": 9,
   "metadata": {
    "collapsed": false
   },
   "outputs": [],
   "source": [
    "# mit den wahrscheinlichkeiten p und q werden die Merkmale 0,1 verändert\n",
    "def Binaerkopie(m,p,q):\n",
    "    rd=random()\n",
    "    if m==0:\n",
    "        if rd<p:\n",
    "            w=1\n",
    "        else:\n",
    "            w=0\n",
    "    else:\n",
    "        if rd<q:\n",
    "            w=0\n",
    "        else:\n",
    "            w=1\n",
    "    return(w)"
   ]
  },
  {
   "cell_type": "code",
   "execution_count": 10,
   "metadata": {
    "collapsed": true
   },
   "outputs": [],
   "source": [
    "def ModelKopie(M,p,q):\n",
    "    copy=[Binaerkopie(M[i],p,q) for i in range(len(M))]\n",
    "    return(copy)"
   ]
  },
  {
   "cell_type": "code",
   "execution_count": 11,
   "metadata": {
    "collapsed": false
   },
   "outputs": [
    {
     "data": {
      "text/plain": [
       "[1, 0, 0, 0, 0, 1, 1, 1, 1, 0, 0, 0, 1, 0, 0, 0, 1, 0, 0, 0]"
      ]
     },
     "execution_count": 11,
     "metadata": {},
     "output_type": "execute_result"
    }
   ],
   "source": [
    "# Kopie aus dem Wurzelvektor, mit einer Wahrscheinlichkeit der Merkmalsveränderung von p=0.015 für das Merkmal 0 und prob=0.3 für 1 (Verhältnis: 1/95)\n",
    "p=0.015\n",
    "q=0.2\n",
    "ModelKopie(NM,p,q)"
   ]
  },
  {
   "cell_type": "markdown",
   "metadata": {},
   "source": [
    "# Generierung von Kopierbäumen, mit Aufzeichnung der Kopierpaare\n",
    "\n",
    "Baut einen direkted graph auf mittels NetworkX Bibliothek."
   ]
  },
  {
   "cell_type": "code",
   "execution_count": 12,
   "metadata": {
    "collapsed": false
   },
   "outputs": [],
   "source": [
    "def Make_Kopiergraph(IniVektor,NTexte):\n",
    "# dictionary mit allen objekten ID:Merkmalsvektor\n",
    "    d={0:IniVektor}\n",
    "    G=pgv.AGraph(compound=True,directed=True)  # Ein Kopierbaum wird als gerichteter Graph dargestellt\n",
    "    for i in range(1,NTexte):\n",
    "        # Zufallsauswahl eines Textes\n",
    "        pos=randrange(len(d))\n",
    "        Tsel=d[pos]\n",
    "        # Kopie des ausgewählen Textes, d[i] ist Merkmalsvektor des i-ten Objekts\n",
    "        d[i]=ModelKopie(Tsel,p,q)\n",
    "        # Kopierpaare werden in einen Graph eingetragen\n",
    "        G.add_edge(pos,i)\n",
    "    return(G,d)"
   ]
  },
  {
   "cell_type": "code",
   "execution_count": 13,
   "metadata": {
    "collapsed": false
   },
   "outputs": [
    {
     "data": {
      "text/plain": [
       "{0: [1, 1, 0, 0, 0, 1, 1, 1, 1, 0, 0, 0, 1, 1, 0, 0, 1, 0, 0, 0],\n",
       " 1: [1, 1, 0, 0, 0, 1, 1, 1, 0, 0, 0, 0, 1, 1, 0, 0, 1, 0, 0, 0],\n",
       " 2: [0, 1, 0, 0, 0, 1, 1, 0, 0, 0, 0, 0, 1, 1, 0, 0, 0, 0, 0, 0],\n",
       " 3: [0, 1, 0, 0, 0, 1, 0, 1, 1, 0, 0, 0, 1, 1, 0, 0, 1, 0, 0, 0],\n",
       " 4: [1, 1, 0, 0, 0, 1, 1, 1, 0, 0, 0, 0, 0, 1, 0, 0, 1, 0, 0, 0],\n",
       " 5: [1, 1, 0, 0, 0, 1, 1, 0, 0, 0, 0, 0, 1, 1, 0, 0, 1, 0, 0, 0],\n",
       " 6: [1, 1, 0, 0, 0, 0, 1, 1, 0, 0, 0, 0, 1, 0, 0, 1, 1, 0, 0, 0],\n",
       " 7: [0, 1, 0, 0, 0, 1, 0, 1, 1, 0, 0, 0, 1, 1, 0, 0, 0, 0, 0, 0],\n",
       " 8: [1, 1, 0, 0, 0, 1, 1, 1, 1, 0, 0, 0, 1, 1, 0, 0, 0, 0, 0, 0],\n",
       " 9: [1, 1, 0, 0, 0, 1, 1, 0, 1, 0, 0, 0, 1, 1, 0, 0, 0, 0, 0, 0]}"
      ]
     },
     "execution_count": 13,
     "metadata": {},
     "output_type": "execute_result"
    }
   ],
   "source": [
    "G,d=Make_Kopiergraph(NM,10)\n",
    "d"
   ]
  },
  {
   "cell_type": "markdown",
   "metadata": {
    "collapsed": true
   },
   "source": [
    "Um die trainierten Klassifizierer zu testen, generieren wir einen neuen Kopierbaum aus einer anderen Wurzel."
   ]
  },
  {
   "cell_type": "code",
   "execution_count": 14,
   "metadata": {
    "collapsed": false
   },
   "outputs": [
    {
     "data": {
      "text/plain": [
       "dict_keys([0, 1, 2, 3, 4, 5, 6, 7, 8, 9])"
      ]
     },
     "execution_count": 14,
     "metadata": {},
     "output_type": "execute_result"
    }
   ],
   "source": [
    "d.keys()"
   ]
  },
  {
   "cell_type": "code",
   "execution_count": 15,
   "metadata": {
    "collapsed": false
   },
   "outputs": [
    {
     "data": {
      "text/plain": [
       "[('0', '1'),\n",
       " ('0', '3'),\n",
       " ('0', '6'),\n",
       " ('0', '8'),\n",
       " ('0', '9'),\n",
       " ('1', '2'),\n",
       " ('1', '4'),\n",
       " ('1', '5'),\n",
       " ('3', '7')]"
      ]
     },
     "execution_count": 15,
     "metadata": {},
     "output_type": "execute_result"
    }
   ],
   "source": [
    "# die gerichteten Kanten sind\n",
    "Kanten=G.edges()\n",
    "Kanten"
   ]
  },
  {
   "cell_type": "code",
   "execution_count": 16,
   "metadata": {
    "collapsed": false
   },
   "outputs": [
    {
     "data": {
      "text/html": [
       "<iframe src=g.png width=50% height=400></iframe>"
      ],
      "text/plain": [
       "<IPython.core.display.HTML object>"
      ]
     },
     "execution_count": 16,
     "metadata": {},
     "output_type": "execute_result"
    }
   ],
   "source": [
    "G.draw('g.png',prog='dot')\n",
    "show2images(['g.png'],50)"
   ]
  },
  {
   "cell_type": "code",
   "execution_count": 17,
   "metadata": {
    "collapsed": false
   },
   "outputs": [
    {
     "data": {
      "text/plain": [
       "{0: [1, 0, 0, 0, 1, 1, 1, 0, 1, 1, 0, 1, 1, 1, 0, 1, 1, 0, 0, 0],\n",
       " 1: [1, 0, 0, 0, 1, 1, 1, 1, 1, 1, 1, 1, 1, 1, 0, 1, 1, 0, 0, 0],\n",
       " 2: [0, 0, 0, 0, 1, 1, 1, 0, 1, 1, 0, 1, 0, 1, 0, 1, 1, 0, 0, 0],\n",
       " 3: [1, 0, 0, 0, 0, 1, 0, 0, 1, 1, 0, 1, 1, 1, 0, 1, 1, 0, 0, 0],\n",
       " 4: [0, 0, 0, 0, 1, 1, 1, 0, 0, 1, 0, 1, 1, 1, 0, 0, 1, 0, 0, 0],\n",
       " 5: [0, 0, 0, 0, 1, 0, 1, 0, 0, 1, 0, 1, 1, 1, 0, 0, 1, 0, 0, 0],\n",
       " 6: [0, 0, 0, 0, 0, 1, 0, 1, 1, 0, 1, 1, 1, 1, 0, 0, 1, 0, 0, 0],\n",
       " 7: [0, 0, 0, 0, 1, 0, 1, 0, 0, 1, 0, 1, 1, 1, 0, 0, 1, 0, 0, 0],\n",
       " 8: [0, 0, 0, 0, 0, 0, 1, 0, 0, 1, 0, 1, 0, 1, 0, 0, 1, 0, 0, 0],\n",
       " 9: [1, 0, 0, 0, 0, 1, 1, 0, 1, 1, 0, 1, 1, 1, 0, 0, 0, 0, 0, 0]}"
      ]
     },
     "execution_count": 17,
     "metadata": {},
     "output_type": "execute_result"
    }
   ],
   "source": [
    "G_pruef,d_pruef=Make_Kopiergraph(NM2,10)\n",
    "d_pruef"
   ]
  },
  {
   "cell_type": "code",
   "execution_count": 18,
   "metadata": {
    "collapsed": true
   },
   "outputs": [],
   "source": [
    "Kanten_pruef=G_pruef.edges()"
   ]
  },
  {
   "cell_type": "code",
   "execution_count": 19,
   "metadata": {
    "collapsed": true
   },
   "outputs": [],
   "source": [
    "G_pruef.draw('g_test.png',prog='dot')"
   ]
  },
  {
   "cell_type": "code",
   "execution_count": 20,
   "metadata": {
    "collapsed": false
   },
   "outputs": [
    {
     "data": {
      "text/html": [
       "<iframe src=g.png width=50% height=400></iframe><iframe src=g_test.png width=50% height=400></iframe>"
      ],
      "text/plain": [
       "<IPython.core.display.HTML object>"
      ]
     },
     "execution_count": 20,
     "metadata": {},
     "output_type": "execute_result"
    }
   ],
   "source": [
    "show2images(['g.png','g_test.png'],50)"
   ]
  },
  {
   "cell_type": "markdown",
   "metadata": {},
   "source": [
    "# Klassifikationsaufgabe\n",
    "\n",
    "Klassifikationsaufgaben besteht darin, aus den möglichen Kombinationen aller Knoten die gerichteten Kanten zu identifizieren. Die Lernmenge für  die Klassifikation wird deshalb darin bestehen, aus der Menge der Kombinationen solche Label mit einer direkten Verbindung mit einer eins zu kennzeichnen, während alle anderen Kombinationen eine null erhalten.\n",
    "\n",
    "Die Merkmale für die Klassifikation besteht aus der Differenz der Merkmalvektor beider gerichteter Paare. Es ergeben sich insgesamt vier Werte, die für jedes Merkmal berechnet werden müssen.\n",
    "\n",
    "In der Liste Kanten sind alle Kanten. Die Merkmalliste der Objekte haben alle die gleiche Länge. Die Menge alle betrachteten möglichen Kopierpaare ist die Kombination der Objekte mit allen anderen ausser sich selbst. Bei n Objekten ergeben sich somit n*(n-1) Paare."
   ]
  },
  {
   "cell_type": "code",
   "execution_count": 21,
   "metadata": {
    "collapsed": true
   },
   "outputs": [],
   "source": [
    "def diffv(d,i,j): # vergleich zweier Merkmalsvektoren i und j\n",
    "    d1=d[i] # vektor des ersten objekts\n",
    "    d2=d[j] # vektor des zweiten objekts\n",
    "    diffv1=[]\n",
    "    for u in range(len(d1)): # vergleich der Vektoren\n",
    "        if d1[u]==0 and d2[u]==0:\n",
    "            dv=0\n",
    "        if d1[u]==1 and d2[u]==0:\n",
    "            dv=1\n",
    "        if d1[u]==0 and d2[u]==1:\n",
    "            dv=2\n",
    "        if d1[u]==1 and d2[u]==1:\n",
    "            dv=3\n",
    "        diffv1.append(dv)\n",
    "    return(diffv1)\n",
    "\n",
    "def categorie(i,j,Kanten):\n",
    "    if (str(i),str(j)) in Kanten:\n",
    "        res = 1\n",
    "    elif (str(j),str(i)) in Kanten:\n",
    "        res = 2\n",
    "    else:\n",
    "        res = 0\n",
    "    return res\n",
    "\n",
    "def Vergleich(d,i,j,Kanten): # vergleich zweier Objekte\n",
    "    dd=(i,j,diffv(d,i,j),categorie(i,j,Kanten))\n",
    "    return(dd)"
   ]
  },
  {
   "cell_type": "code",
   "execution_count": 22,
   "metadata": {
    "collapsed": false
   },
   "outputs": [
    {
     "data": {
      "text/plain": [
       "(0, 1, [3, 3, 0, 0, 0, 3, 3, 3, 1, 0, 0, 0, 3, 3, 0, 0, 3, 0, 0, 0], 1)"
      ]
     },
     "execution_count": 22,
     "metadata": {},
     "output_type": "execute_result"
    }
   ],
   "source": [
    "# Vergleich der ersten beiden Objekte\n",
    "Vergleich(d,0,1,Kanten)"
   ]
  },
  {
   "cell_type": "code",
   "execution_count": 23,
   "metadata": {
    "collapsed": false
   },
   "outputs": [
    {
     "data": {
      "text/plain": [
       "(0, 2, [1, 3, 0, 0, 0, 3, 3, 1, 1, 0, 0, 0, 3, 3, 0, 0, 1, 0, 0, 0], 0)"
      ]
     },
     "execution_count": 23,
     "metadata": {},
     "output_type": "execute_result"
    }
   ],
   "source": [
    "Vergleich(d,0,2,Kanten)"
   ]
  },
  {
   "cell_type": "code",
   "execution_count": 48,
   "metadata": {
    "collapsed": false
   },
   "outputs": [
    {
     "data": {
      "text/plain": [
       "(0, 3, [1, 3, 0, 0, 0, 3, 1, 3, 3, 0, 0, 0, 3, 3, 0, 0, 3, 0, 0, 0], 1)"
      ]
     },
     "execution_count": 48,
     "metadata": {},
     "output_type": "execute_result"
    }
   ],
   "source": [
    "Vergleich(d,0,3,Kanten)"
   ]
  },
  {
   "cell_type": "code",
   "execution_count": 49,
   "metadata": {
    "collapsed": false
   },
   "outputs": [
    {
     "data": {
      "text/plain": [
       "(1, 2, [1, 3, 0, 0, 0, 3, 3, 1, 0, 0, 0, 0, 3, 3, 0, 0, 1, 0, 0, 0], 1)"
      ]
     },
     "execution_count": 49,
     "metadata": {},
     "output_type": "execute_result"
    }
   ],
   "source": [
    "Vergleich(d,1,2,Kanten)"
   ]
  },
  {
   "cell_type": "code",
   "execution_count": 50,
   "metadata": {
    "collapsed": false
   },
   "outputs": [],
   "source": [
    "l=[]\n",
    "for j in range(len(d)):\n",
    "    for k in range(len(d)):\n",
    "        if k!=j:\n",
    "            l.append(Vergleich(d,j,k,Kanten))"
   ]
  },
  {
   "cell_type": "code",
   "execution_count": 51,
   "metadata": {
    "collapsed": false
   },
   "outputs": [
    {
     "data": {
      "text/plain": [
       "[(0, 1, [3, 3, 0, 0, 0, 3, 3, 3, 1, 0, 0, 0, 3, 3, 0, 0, 3, 0, 0, 0], 1),\n",
       " (0, 2, [1, 3, 0, 0, 0, 3, 3, 1, 1, 0, 0, 0, 3, 3, 0, 0, 1, 0, 0, 0], 0),\n",
       " (0, 3, [1, 3, 0, 0, 0, 3, 1, 3, 3, 0, 0, 0, 3, 3, 0, 0, 3, 0, 0, 0], 1),\n",
       " (0, 4, [3, 3, 0, 0, 0, 3, 3, 3, 1, 0, 0, 0, 1, 3, 0, 0, 3, 0, 0, 0], 0),\n",
       " (0, 5, [3, 3, 0, 0, 0, 3, 3, 1, 1, 0, 0, 0, 3, 3, 0, 0, 3, 0, 0, 0], 0),\n",
       " (0, 6, [3, 3, 0, 0, 0, 1, 3, 3, 1, 0, 0, 0, 3, 1, 0, 2, 3, 0, 0, 0], 1),\n",
       " (0, 7, [1, 3, 0, 0, 0, 3, 1, 3, 3, 0, 0, 0, 3, 3, 0, 0, 1, 0, 0, 0], 0),\n",
       " (0, 8, [3, 3, 0, 0, 0, 3, 3, 3, 3, 0, 0, 0, 3, 3, 0, 0, 1, 0, 0, 0], 1),\n",
       " (0, 9, [3, 3, 0, 0, 0, 3, 3, 1, 3, 0, 0, 0, 3, 3, 0, 0, 1, 0, 0, 0], 1),\n",
       " (1, 0, [3, 3, 0, 0, 0, 3, 3, 3, 2, 0, 0, 0, 3, 3, 0, 0, 3, 0, 0, 0], 2),\n",
       " (1, 2, [1, 3, 0, 0, 0, 3, 3, 1, 0, 0, 0, 0, 3, 3, 0, 0, 1, 0, 0, 0], 1),\n",
       " (1, 3, [1, 3, 0, 0, 0, 3, 1, 3, 2, 0, 0, 0, 3, 3, 0, 0, 3, 0, 0, 0], 0),\n",
       " (1, 4, [3, 3, 0, 0, 0, 3, 3, 3, 0, 0, 0, 0, 1, 3, 0, 0, 3, 0, 0, 0], 1),\n",
       " (1, 5, [3, 3, 0, 0, 0, 3, 3, 1, 0, 0, 0, 0, 3, 3, 0, 0, 3, 0, 0, 0], 1),\n",
       " (1, 6, [3, 3, 0, 0, 0, 1, 3, 3, 0, 0, 0, 0, 3, 1, 0, 2, 3, 0, 0, 0], 0),\n",
       " (1, 7, [1, 3, 0, 0, 0, 3, 1, 3, 2, 0, 0, 0, 3, 3, 0, 0, 1, 0, 0, 0], 0),\n",
       " (1, 8, [3, 3, 0, 0, 0, 3, 3, 3, 2, 0, 0, 0, 3, 3, 0, 0, 1, 0, 0, 0], 0),\n",
       " (1, 9, [3, 3, 0, 0, 0, 3, 3, 1, 2, 0, 0, 0, 3, 3, 0, 0, 1, 0, 0, 0], 0),\n",
       " (2, 0, [2, 3, 0, 0, 0, 3, 3, 2, 2, 0, 0, 0, 3, 3, 0, 0, 2, 0, 0, 0], 0),\n",
       " (2, 1, [2, 3, 0, 0, 0, 3, 3, 2, 0, 0, 0, 0, 3, 3, 0, 0, 2, 0, 0, 0], 2),\n",
       " (2, 3, [0, 3, 0, 0, 0, 3, 1, 2, 2, 0, 0, 0, 3, 3, 0, 0, 2, 0, 0, 0], 0),\n",
       " (2, 4, [2, 3, 0, 0, 0, 3, 3, 2, 0, 0, 0, 0, 1, 3, 0, 0, 2, 0, 0, 0], 0),\n",
       " (2, 5, [2, 3, 0, 0, 0, 3, 3, 0, 0, 0, 0, 0, 3, 3, 0, 0, 2, 0, 0, 0], 0),\n",
       " (2, 6, [2, 3, 0, 0, 0, 1, 3, 2, 0, 0, 0, 0, 3, 1, 0, 2, 2, 0, 0, 0], 0),\n",
       " (2, 7, [0, 3, 0, 0, 0, 3, 1, 2, 2, 0, 0, 0, 3, 3, 0, 0, 0, 0, 0, 0], 0),\n",
       " (2, 8, [2, 3, 0, 0, 0, 3, 3, 2, 2, 0, 0, 0, 3, 3, 0, 0, 0, 0, 0, 0], 0),\n",
       " (2, 9, [2, 3, 0, 0, 0, 3, 3, 0, 2, 0, 0, 0, 3, 3, 0, 0, 0, 0, 0, 0], 0),\n",
       " (3, 0, [2, 3, 0, 0, 0, 3, 2, 3, 3, 0, 0, 0, 3, 3, 0, 0, 3, 0, 0, 0], 2),\n",
       " (3, 1, [2, 3, 0, 0, 0, 3, 2, 3, 1, 0, 0, 0, 3, 3, 0, 0, 3, 0, 0, 0], 0),\n",
       " (3, 2, [0, 3, 0, 0, 0, 3, 2, 1, 1, 0, 0, 0, 3, 3, 0, 0, 1, 0, 0, 0], 0),\n",
       " (3, 4, [2, 3, 0, 0, 0, 3, 2, 3, 1, 0, 0, 0, 1, 3, 0, 0, 3, 0, 0, 0], 0),\n",
       " (3, 5, [2, 3, 0, 0, 0, 3, 2, 1, 1, 0, 0, 0, 3, 3, 0, 0, 3, 0, 0, 0], 0),\n",
       " (3, 6, [2, 3, 0, 0, 0, 1, 2, 3, 1, 0, 0, 0, 3, 1, 0, 2, 3, 0, 0, 0], 0),\n",
       " (3, 7, [0, 3, 0, 0, 0, 3, 0, 3, 3, 0, 0, 0, 3, 3, 0, 0, 1, 0, 0, 0], 1),\n",
       " (3, 8, [2, 3, 0, 0, 0, 3, 2, 3, 3, 0, 0, 0, 3, 3, 0, 0, 1, 0, 0, 0], 0),\n",
       " (3, 9, [2, 3, 0, 0, 0, 3, 2, 1, 3, 0, 0, 0, 3, 3, 0, 0, 1, 0, 0, 0], 0),\n",
       " (4, 0, [3, 3, 0, 0, 0, 3, 3, 3, 2, 0, 0, 0, 2, 3, 0, 0, 3, 0, 0, 0], 0),\n",
       " (4, 1, [3, 3, 0, 0, 0, 3, 3, 3, 0, 0, 0, 0, 2, 3, 0, 0, 3, 0, 0, 0], 2),\n",
       " (4, 2, [1, 3, 0, 0, 0, 3, 3, 1, 0, 0, 0, 0, 2, 3, 0, 0, 1, 0, 0, 0], 0),\n",
       " (4, 3, [1, 3, 0, 0, 0, 3, 1, 3, 2, 0, 0, 0, 2, 3, 0, 0, 3, 0, 0, 0], 0),\n",
       " (4, 5, [3, 3, 0, 0, 0, 3, 3, 1, 0, 0, 0, 0, 2, 3, 0, 0, 3, 0, 0, 0], 0),\n",
       " (4, 6, [3, 3, 0, 0, 0, 1, 3, 3, 0, 0, 0, 0, 2, 1, 0, 2, 3, 0, 0, 0], 0),\n",
       " (4, 7, [1, 3, 0, 0, 0, 3, 1, 3, 2, 0, 0, 0, 2, 3, 0, 0, 1, 0, 0, 0], 0),\n",
       " (4, 8, [3, 3, 0, 0, 0, 3, 3, 3, 2, 0, 0, 0, 2, 3, 0, 0, 1, 0, 0, 0], 0),\n",
       " (4, 9, [3, 3, 0, 0, 0, 3, 3, 1, 2, 0, 0, 0, 2, 3, 0, 0, 1, 0, 0, 0], 0),\n",
       " (5, 0, [3, 3, 0, 0, 0, 3, 3, 2, 2, 0, 0, 0, 3, 3, 0, 0, 3, 0, 0, 0], 0),\n",
       " (5, 1, [3, 3, 0, 0, 0, 3, 3, 2, 0, 0, 0, 0, 3, 3, 0, 0, 3, 0, 0, 0], 2),\n",
       " (5, 2, [1, 3, 0, 0, 0, 3, 3, 0, 0, 0, 0, 0, 3, 3, 0, 0, 1, 0, 0, 0], 0),\n",
       " (5, 3, [1, 3, 0, 0, 0, 3, 1, 2, 2, 0, 0, 0, 3, 3, 0, 0, 3, 0, 0, 0], 0),\n",
       " (5, 4, [3, 3, 0, 0, 0, 3, 3, 2, 0, 0, 0, 0, 1, 3, 0, 0, 3, 0, 0, 0], 0),\n",
       " (5, 6, [3, 3, 0, 0, 0, 1, 3, 2, 0, 0, 0, 0, 3, 1, 0, 2, 3, 0, 0, 0], 0),\n",
       " (5, 7, [1, 3, 0, 0, 0, 3, 1, 2, 2, 0, 0, 0, 3, 3, 0, 0, 1, 0, 0, 0], 0),\n",
       " (5, 8, [3, 3, 0, 0, 0, 3, 3, 2, 2, 0, 0, 0, 3, 3, 0, 0, 1, 0, 0, 0], 0),\n",
       " (5, 9, [3, 3, 0, 0, 0, 3, 3, 0, 2, 0, 0, 0, 3, 3, 0, 0, 1, 0, 0, 0], 0),\n",
       " (6, 0, [3, 3, 0, 0, 0, 2, 3, 3, 2, 0, 0, 0, 3, 2, 0, 1, 3, 0, 0, 0], 2),\n",
       " (6, 1, [3, 3, 0, 0, 0, 2, 3, 3, 0, 0, 0, 0, 3, 2, 0, 1, 3, 0, 0, 0], 0),\n",
       " (6, 2, [1, 3, 0, 0, 0, 2, 3, 1, 0, 0, 0, 0, 3, 2, 0, 1, 1, 0, 0, 0], 0),\n",
       " (6, 3, [1, 3, 0, 0, 0, 2, 1, 3, 2, 0, 0, 0, 3, 2, 0, 1, 3, 0, 0, 0], 0),\n",
       " (6, 4, [3, 3, 0, 0, 0, 2, 3, 3, 0, 0, 0, 0, 1, 2, 0, 1, 3, 0, 0, 0], 0),\n",
       " (6, 5, [3, 3, 0, 0, 0, 2, 3, 1, 0, 0, 0, 0, 3, 2, 0, 1, 3, 0, 0, 0], 0),\n",
       " (6, 7, [1, 3, 0, 0, 0, 2, 1, 3, 2, 0, 0, 0, 3, 2, 0, 1, 1, 0, 0, 0], 0),\n",
       " (6, 8, [3, 3, 0, 0, 0, 2, 3, 3, 2, 0, 0, 0, 3, 2, 0, 1, 1, 0, 0, 0], 0),\n",
       " (6, 9, [3, 3, 0, 0, 0, 2, 3, 1, 2, 0, 0, 0, 3, 2, 0, 1, 1, 0, 0, 0], 0),\n",
       " (7, 0, [2, 3, 0, 0, 0, 3, 2, 3, 3, 0, 0, 0, 3, 3, 0, 0, 2, 0, 0, 0], 0),\n",
       " (7, 1, [2, 3, 0, 0, 0, 3, 2, 3, 1, 0, 0, 0, 3, 3, 0, 0, 2, 0, 0, 0], 0),\n",
       " (7, 2, [0, 3, 0, 0, 0, 3, 2, 1, 1, 0, 0, 0, 3, 3, 0, 0, 0, 0, 0, 0], 0),\n",
       " (7, 3, [0, 3, 0, 0, 0, 3, 0, 3, 3, 0, 0, 0, 3, 3, 0, 0, 2, 0, 0, 0], 2),\n",
       " (7, 4, [2, 3, 0, 0, 0, 3, 2, 3, 1, 0, 0, 0, 1, 3, 0, 0, 2, 0, 0, 0], 0),\n",
       " (7, 5, [2, 3, 0, 0, 0, 3, 2, 1, 1, 0, 0, 0, 3, 3, 0, 0, 2, 0, 0, 0], 0),\n",
       " (7, 6, [2, 3, 0, 0, 0, 1, 2, 3, 1, 0, 0, 0, 3, 1, 0, 2, 2, 0, 0, 0], 0),\n",
       " (7, 8, [2, 3, 0, 0, 0, 3, 2, 3, 3, 0, 0, 0, 3, 3, 0, 0, 0, 0, 0, 0], 0),\n",
       " (7, 9, [2, 3, 0, 0, 0, 3, 2, 1, 3, 0, 0, 0, 3, 3, 0, 0, 0, 0, 0, 0], 0),\n",
       " (8, 0, [3, 3, 0, 0, 0, 3, 3, 3, 3, 0, 0, 0, 3, 3, 0, 0, 2, 0, 0, 0], 2),\n",
       " (8, 1, [3, 3, 0, 0, 0, 3, 3, 3, 1, 0, 0, 0, 3, 3, 0, 0, 2, 0, 0, 0], 0),\n",
       " (8, 2, [1, 3, 0, 0, 0, 3, 3, 1, 1, 0, 0, 0, 3, 3, 0, 0, 0, 0, 0, 0], 0),\n",
       " (8, 3, [1, 3, 0, 0, 0, 3, 1, 3, 3, 0, 0, 0, 3, 3, 0, 0, 2, 0, 0, 0], 0),\n",
       " (8, 4, [3, 3, 0, 0, 0, 3, 3, 3, 1, 0, 0, 0, 1, 3, 0, 0, 2, 0, 0, 0], 0),\n",
       " (8, 5, [3, 3, 0, 0, 0, 3, 3, 1, 1, 0, 0, 0, 3, 3, 0, 0, 2, 0, 0, 0], 0),\n",
       " (8, 6, [3, 3, 0, 0, 0, 1, 3, 3, 1, 0, 0, 0, 3, 1, 0, 2, 2, 0, 0, 0], 0),\n",
       " (8, 7, [1, 3, 0, 0, 0, 3, 1, 3, 3, 0, 0, 0, 3, 3, 0, 0, 0, 0, 0, 0], 0),\n",
       " (8, 9, [3, 3, 0, 0, 0, 3, 3, 1, 3, 0, 0, 0, 3, 3, 0, 0, 0, 0, 0, 0], 0),\n",
       " (9, 0, [3, 3, 0, 0, 0, 3, 3, 2, 3, 0, 0, 0, 3, 3, 0, 0, 2, 0, 0, 0], 2),\n",
       " (9, 1, [3, 3, 0, 0, 0, 3, 3, 2, 1, 0, 0, 0, 3, 3, 0, 0, 2, 0, 0, 0], 0),\n",
       " (9, 2, [1, 3, 0, 0, 0, 3, 3, 0, 1, 0, 0, 0, 3, 3, 0, 0, 0, 0, 0, 0], 0),\n",
       " (9, 3, [1, 3, 0, 0, 0, 3, 1, 2, 3, 0, 0, 0, 3, 3, 0, 0, 2, 0, 0, 0], 0),\n",
       " (9, 4, [3, 3, 0, 0, 0, 3, 3, 2, 1, 0, 0, 0, 1, 3, 0, 0, 2, 0, 0, 0], 0),\n",
       " (9, 5, [3, 3, 0, 0, 0, 3, 3, 0, 1, 0, 0, 0, 3, 3, 0, 0, 2, 0, 0, 0], 0),\n",
       " (9, 6, [3, 3, 0, 0, 0, 1, 3, 2, 1, 0, 0, 0, 3, 1, 0, 2, 2, 0, 0, 0], 0),\n",
       " (9, 7, [1, 3, 0, 0, 0, 3, 1, 2, 3, 0, 0, 0, 3, 3, 0, 0, 0, 0, 0, 0], 0),\n",
       " (9, 8, [3, 3, 0, 0, 0, 3, 3, 2, 3, 0, 0, 0, 3, 3, 0, 0, 0, 0, 0, 0], 0)]"
      ]
     },
     "execution_count": 51,
     "metadata": {},
     "output_type": "execute_result"
    }
   ],
   "source": [
    "l"
   ]
  },
  {
   "cell_type": "code",
   "execution_count": 26,
   "metadata": {
    "collapsed": false
   },
   "outputs": [
    {
     "data": {
      "text/plain": [
       "[{0: 11, 1: 1, 3: 8},\n",
       " {0: 11, 1: 4, 3: 5},\n",
       " {0: 11, 1: 2, 3: 7},\n",
       " {0: 11, 1: 2, 3: 7},\n",
       " {0: 11, 1: 2, 3: 7},\n",
       " {0: 10, 1: 3, 2: 1, 3: 6},\n",
       " {0: 11, 1: 3, 3: 6},\n",
       " {0: 11, 1: 1, 3: 8},\n",
       " {0: 11, 1: 2, 3: 7},\n",
       " {0: 11, 2: 1, 3: 8}]"
      ]
     },
     "execution_count": 26,
     "metadata": {},
     "output_type": "execute_result"
    }
   ],
   "source": [
    "from collections import Counter\n",
    "\n",
    "countL = [dict(Counter(x[2])) for x in l]\n",
    "countL[:10]"
   ]
  },
  {
   "cell_type": "markdown",
   "metadata": {},
   "source": [
    "# ML\n",
    "\n",
    "* Aufteilung der Simulationsklasse\n",
    "* Lernen\n",
    "* Vorhersagen\n",
    "* Bewerten\n",
    "* Crossvalidation"
   ]
  },
  {
   "cell_type": "markdown",
   "metadata": {},
   "source": [
    "## Trainings-Datensatz erstellen\n"
   ]
  },
  {
   "cell_type": "code",
   "execution_count": 27,
   "metadata": {
    "collapsed": false
   },
   "outputs": [
    {
     "data": {
      "text/html": [
       "<div>\n",
       "<table border=\"1\" class=\"dataframe\">\n",
       "  <thead>\n",
       "    <tr style=\"text-align: right;\">\n",
       "      <th></th>\n",
       "      <th>dia1</th>\n",
       "      <th>dia2</th>\n",
       "      <th>diff</th>\n",
       "      <th>kopie</th>\n",
       "    </tr>\n",
       "  </thead>\n",
       "  <tbody>\n",
       "    <tr>\n",
       "      <th>0</th>\n",
       "      <td>0</td>\n",
       "      <td>1</td>\n",
       "      <td>[3, 3, 0, 0, 0, 3, 3, 3, 1, 0, 0, 0, 3, 3, 0, ...</td>\n",
       "      <td>1</td>\n",
       "    </tr>\n",
       "    <tr>\n",
       "      <th>1</th>\n",
       "      <td>0</td>\n",
       "      <td>2</td>\n",
       "      <td>[1, 3, 0, 0, 0, 3, 3, 1, 1, 0, 0, 0, 3, 3, 0, ...</td>\n",
       "      <td>0</td>\n",
       "    </tr>\n",
       "    <tr>\n",
       "      <th>2</th>\n",
       "      <td>0</td>\n",
       "      <td>3</td>\n",
       "      <td>[1, 3, 0, 0, 0, 3, 1, 3, 3, 0, 0, 0, 3, 3, 0, ...</td>\n",
       "      <td>1</td>\n",
       "    </tr>\n",
       "  </tbody>\n",
       "</table>\n",
       "</div>"
      ],
      "text/plain": [
       "   dia1  dia2                                               diff  kopie\n",
       "0     0     1  [3, 3, 0, 0, 0, 3, 3, 3, 1, 0, 0, 0, 3, 3, 0, ...      1\n",
       "1     0     2  [1, 3, 0, 0, 0, 3, 3, 1, 1, 0, 0, 0, 3, 3, 0, ...      0\n",
       "2     0     3  [1, 3, 0, 0, 0, 3, 1, 3, 3, 0, 0, 0, 3, 3, 0, ...      1"
      ]
     },
     "execution_count": 27,
     "metadata": {},
     "output_type": "execute_result"
    }
   ],
   "source": [
    "df = pd.DataFrame(l)\n",
    "df = df.rename(columns={0:'dia1',1:'dia2',2:'diff', 3:'kopie'})\n",
    "df.head(3)"
   ]
  },
  {
   "cell_type": "code",
   "execution_count": 28,
   "metadata": {
    "collapsed": false
   },
   "outputs": [
    {
     "data": {
      "text/html": [
       "<div>\n",
       "<table border=\"1\" class=\"dataframe\">\n",
       "  <thead>\n",
       "    <tr style=\"text-align: right;\">\n",
       "      <th></th>\n",
       "      <th>0</th>\n",
       "      <th>1</th>\n",
       "      <th>2</th>\n",
       "      <th>3</th>\n",
       "    </tr>\n",
       "  </thead>\n",
       "  <tbody>\n",
       "    <tr>\n",
       "      <th>0</th>\n",
       "      <td>11.0</td>\n",
       "      <td>1.0</td>\n",
       "      <td>0.0</td>\n",
       "      <td>8.0</td>\n",
       "    </tr>\n",
       "    <tr>\n",
       "      <th>1</th>\n",
       "      <td>11.0</td>\n",
       "      <td>4.0</td>\n",
       "      <td>0.0</td>\n",
       "      <td>5.0</td>\n",
       "    </tr>\n",
       "    <tr>\n",
       "      <th>2</th>\n",
       "      <td>11.0</td>\n",
       "      <td>2.0</td>\n",
       "      <td>0.0</td>\n",
       "      <td>7.0</td>\n",
       "    </tr>\n",
       "  </tbody>\n",
       "</table>\n",
       "</div>"
      ],
      "text/plain": [
       "      0    1    2    3\n",
       "0  11.0  1.0  0.0  8.0\n",
       "1  11.0  4.0  0.0  5.0\n",
       "2  11.0  2.0  0.0  7.0"
      ]
     },
     "execution_count": 28,
     "metadata": {},
     "output_type": "execute_result"
    }
   ],
   "source": [
    "serDiff_train = df['diff'].apply(lambda r: Counter(r))\n",
    "\n",
    "diff = pd.DataFrame(serDiff_train.to_dict()).transpose().fillna(0)\n",
    "diff.head(3)"
   ]
  },
  {
   "cell_type": "code",
   "execution_count": 29,
   "metadata": {
    "collapsed": false
   },
   "outputs": [
    {
     "data": {
      "text/html": [
       "<div>\n",
       "<table border=\"1\" class=\"dataframe\">\n",
       "  <thead>\n",
       "    <tr style=\"text-align: right;\">\n",
       "      <th></th>\n",
       "      <th>dia1</th>\n",
       "      <th>dia2</th>\n",
       "      <th>kopie</th>\n",
       "      <th>0</th>\n",
       "      <th>1</th>\n",
       "      <th>2</th>\n",
       "      <th>3</th>\n",
       "    </tr>\n",
       "  </thead>\n",
       "  <tbody>\n",
       "    <tr>\n",
       "      <th>0</th>\n",
       "      <td>0</td>\n",
       "      <td>1</td>\n",
       "      <td>1</td>\n",
       "      <td>11.0</td>\n",
       "      <td>1.0</td>\n",
       "      <td>0.0</td>\n",
       "      <td>8.0</td>\n",
       "    </tr>\n",
       "    <tr>\n",
       "      <th>1</th>\n",
       "      <td>0</td>\n",
       "      <td>2</td>\n",
       "      <td>0</td>\n",
       "      <td>11.0</td>\n",
       "      <td>4.0</td>\n",
       "      <td>0.0</td>\n",
       "      <td>5.0</td>\n",
       "    </tr>\n",
       "    <tr>\n",
       "      <th>2</th>\n",
       "      <td>0</td>\n",
       "      <td>3</td>\n",
       "      <td>1</td>\n",
       "      <td>11.0</td>\n",
       "      <td>2.0</td>\n",
       "      <td>0.0</td>\n",
       "      <td>7.0</td>\n",
       "    </tr>\n",
       "    <tr>\n",
       "      <th>3</th>\n",
       "      <td>0</td>\n",
       "      <td>4</td>\n",
       "      <td>0</td>\n",
       "      <td>11.0</td>\n",
       "      <td>2.0</td>\n",
       "      <td>0.0</td>\n",
       "      <td>7.0</td>\n",
       "    </tr>\n",
       "    <tr>\n",
       "      <th>4</th>\n",
       "      <td>0</td>\n",
       "      <td>5</td>\n",
       "      <td>0</td>\n",
       "      <td>11.0</td>\n",
       "      <td>2.0</td>\n",
       "      <td>0.0</td>\n",
       "      <td>7.0</td>\n",
       "    </tr>\n",
       "  </tbody>\n",
       "</table>\n",
       "</div>"
      ],
      "text/plain": [
       "   dia1  dia2  kopie     0    1    2    3\n",
       "0     0     1      1  11.0  1.0  0.0  8.0\n",
       "1     0     2      0  11.0  4.0  0.0  5.0\n",
       "2     0     3      1  11.0  2.0  0.0  7.0\n",
       "3     0     4      0  11.0  2.0  0.0  7.0\n",
       "4     0     5      0  11.0  2.0  0.0  7.0"
      ]
     },
     "execution_count": 29,
     "metadata": {},
     "output_type": "execute_result"
    }
   ],
   "source": [
    "dfTrain = df.merge(diff,left_index=True, right_index=True, how='outer')\n",
    "dfTrain = dfTrain.drop('diff',axis=1)\n",
    "dfTrain.head(5)"
   ]
  },
  {
   "cell_type": "markdown",
   "metadata": {},
   "source": [
    "Zur Rekonstruktion der Baumstruktur generieren wir ein Dict aller möglicher Kanten. Später wird das mit den vorhergesagten Kanten verglichen und daraus eine Baumdarstellung generiert. "
   ]
  },
  {
   "cell_type": "code",
   "execution_count": 30,
   "metadata": {
    "collapsed": false
   },
   "outputs": [],
   "source": [
    "dfKan= list(zip(dfTrain['dia1'],dfTrain['dia2']))\n",
    "dfKan = pd.DataFrame([dfKan]).transpose().rename(columns={0:'Kanten'})\n",
    "pre = dfKan.to_dict()\n",
    "index2kanten = pre['Kanten']"
   ]
  },
  {
   "cell_type": "markdown",
   "metadata": {},
   "source": [
    "Das Ziel des Trainings ist es, zu entscheiden, ob eine Kopierbeziehung vorliegt oder nicht. Daher trennen wir die Spalte mit der Einordnung ob eine Kopie vorliegt oder nicht, als Label-Vektor ab."
   ]
  },
  {
   "cell_type": "code",
   "execution_count": 31,
   "metadata": {
    "collapsed": false
   },
   "outputs": [
    {
     "data": {
      "text/plain": [
       "0    1\n",
       "1    0\n",
       "2    1\n",
       "3    0\n",
       "4    0\n",
       "Name: kopie, dtype: int64"
      ]
     },
     "execution_count": 31,
     "metadata": {},
     "output_type": "execute_result"
    }
   ],
   "source": [
    "y_train = dfTrain['kopie']\n",
    "y_train.head()"
   ]
  },
  {
   "cell_type": "markdown",
   "metadata": {},
   "source": [
    "Da die Namen der Vektoren für die Klassifizierung nicht von Bedeutung sind, schneiden wir diese Spalten ab."
   ]
  },
  {
   "cell_type": "code",
   "execution_count": 32,
   "metadata": {
    "collapsed": false
   },
   "outputs": [
    {
     "data": {
      "text/html": [
       "<div>\n",
       "<table border=\"1\" class=\"dataframe\">\n",
       "  <thead>\n",
       "    <tr style=\"text-align: right;\">\n",
       "      <th></th>\n",
       "      <th>0</th>\n",
       "      <th>1</th>\n",
       "      <th>2</th>\n",
       "      <th>3</th>\n",
       "    </tr>\n",
       "  </thead>\n",
       "  <tbody>\n",
       "    <tr>\n",
       "      <th>0</th>\n",
       "      <td>11.0</td>\n",
       "      <td>1.0</td>\n",
       "      <td>0.0</td>\n",
       "      <td>8.0</td>\n",
       "    </tr>\n",
       "    <tr>\n",
       "      <th>1</th>\n",
       "      <td>11.0</td>\n",
       "      <td>4.0</td>\n",
       "      <td>0.0</td>\n",
       "      <td>5.0</td>\n",
       "    </tr>\n",
       "    <tr>\n",
       "      <th>2</th>\n",
       "      <td>11.0</td>\n",
       "      <td>2.0</td>\n",
       "      <td>0.0</td>\n",
       "      <td>7.0</td>\n",
       "    </tr>\n",
       "  </tbody>\n",
       "</table>\n",
       "</div>"
      ],
      "text/plain": [
       "      0    1    2    3\n",
       "0  11.0  1.0  0.0  8.0\n",
       "1  11.0  4.0  0.0  5.0\n",
       "2  11.0  2.0  0.0  7.0"
      ]
     },
     "execution_count": 32,
     "metadata": {},
     "output_type": "execute_result"
    }
   ],
   "source": [
    "X_train = dfTrain.drop('kopie',axis=1).drop('dia1',axis=1).drop('dia2',axis=1)\n",
    "X_train.head(3)"
   ]
  }
 ],
 "metadata": {
  "anaconda-cloud": {},
  "kernelspec": {
   "display_name": "Python 3",
   "language": "python",
   "name": "python3"
  },
  "language_info": {
   "codemirror_mode": {
    "name": "ipython",
    "version": 3
   },
   "file_extension": ".py",
   "mimetype": "text/x-python",
   "name": "python",
   "nbconvert_exporter": "python",
   "pygments_lexer": "ipython3",
   "version": "3.5.2"
  },
  "latex_envs": {
   "bibliofile": "biblio.bib",
   "cite_by": "apalike",
   "current_citInitial": 1,
   "eqLabelWithNumbers": true,
   "eqNumInitial": 0
  },
  "nav_menu": {},
  "toc": {
   "navigate_menu": true,
   "number_sections": true,
   "sideBar": true,
   "threshold": 6,
   "toc_cell": false,
   "toc_section_display": "block",
   "toc_window_display": false
  }
 },
 "nbformat": 4,
 "nbformat_minor": 0
}
