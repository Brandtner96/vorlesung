{
 "cells": [
  {
   "cell_type": "markdown",
   "metadata": {},
   "source": [
    "# Vorlesung: Von Ähnlichkeiten zu Kopierbeziehungen"
   ]
  },
  {
   "cell_type": "code",
   "execution_count": 1,
   "metadata": {
    "collapsed": true
   },
   "outputs": [],
   "source": [
    "import pandas as pd\n",
    "import numpy as np\n",
    "import requests\n",
    "\n",
    "from medDiaJson import diaAttrCheck\n",
    "from IPython.display import HTML"
   ]
  },
  {
   "cell_type": "markdown",
   "metadata": {},
   "source": [
    "## Beschreibung der Attribute\n",
    "\n",
    "Diese Vorlesung bezieht sich auf eine Sammlung mittelalterlicher Diagramme mit dem thematischen Fokus auf der Bewegung von Planeten. Jedes Diagramm wurde gescannt und in Unterkategorien eingeordnet. Jeder Diagramm-Typ wurde dann auf das vorhanden-sein oder fehlen von spezifischen Merkmalen untersucht. So entstand eine Datenbank mit Kategorien für Diagramm-Typ, Diagramm-Attributen, usw. Auf diese Datenbank können wir über Github zugreifen. "
   ]
  },
  {
   "cell_type": "code",
   "execution_count": 2,
   "metadata": {
    "collapsed": false
   },
   "outputs": [],
   "source": [
    "url = 'https://raw.githubusercontent.com/computational-humanities/topoi/master/projects/medievaldiagrams/data/diaattr.json'\n",
    "diagrams = pd.read_json(url)"
   ]
  },
  {
   "cell_type": "markdown",
   "metadata": {},
   "source": [
    "Um zusätzlich die Beschreibung der Merkmale und der Diagramm Typen zu erhalten, laden wir eine weitere Datenbank, welche diese enthält."
   ]
  },
  {
   "cell_type": "code",
   "execution_count": 3,
   "metadata": {
    "collapsed": false
   },
   "outputs": [],
   "source": [
    "url2 = 'https://raw.githubusercontent.com/computational-humanities/topoi/master/projects/medievaldiagrams/data/MedievalDiagrams_DB.json'\n",
    "res = requests.get(url2)\n",
    "data = res.json()"
   ]
  },
  {
   "cell_type": "code",
   "execution_count": 4,
   "metadata": {
    "collapsed": false
   },
   "outputs": [
    {
     "data": {
      "text/html": [
       "<div>\n",
       "<table border=\"1\" class=\"dataframe\">\n",
       "  <thead>\n",
       "    <tr style=\"text-align: right;\">\n",
       "      <th></th>\n",
       "      <th>AttributeID</th>\n",
       "      <th>AttributeText</th>\n",
       "      <th>AttributeURL</th>\n",
       "    </tr>\n",
       "  </thead>\n",
       "  <tbody>\n",
       "    <tr>\n",
       "      <th>0</th>\n",
       "      <td>M1.1</td>\n",
       "      <td>gleiche Anzahl von Schriftzügen an denselben P...</td>\n",
       "      <td>http://repository.edition-topoi.org/digilib/di...</td>\n",
       "    </tr>\n",
       "    <tr>\n",
       "      <th>1</th>\n",
       "      <td>M1.2</td>\n",
       "      <td>Schriftzüge longitudo/latitudo an den gleichen...</td>\n",
       "      <td>http://repository.edition-topoi.org/digilib/di...</td>\n",
       "    </tr>\n",
       "    <tr>\n",
       "      <th>2</th>\n",
       "      <td>M1.3</td>\n",
       "      <td>kreuzförmiger Anfang der Mond- und Venusbahn</td>\n",
       "      <td>http://repository.edition-topoi.org/digilib/di...</td>\n",
       "    </tr>\n",
       "    <tr>\n",
       "      <th>3</th>\n",
       "      <td>M1.4</td>\n",
       "      <td>waagerechte Position</td>\n",
       "      <td>http://repository.edition-topoi.org/digilib/di...</td>\n",
       "    </tr>\n",
       "    <tr>\n",
       "      <th>4</th>\n",
       "      <td>M1.5</td>\n",
       "      <td>\"Schneekristall\" - Sternform der Planeten</td>\n",
       "      <td>http://repository.edition-topoi.org/digilib/di...</td>\n",
       "    </tr>\n",
       "  </tbody>\n",
       "</table>\n",
       "</div>"
      ],
      "text/plain": [
       "  AttributeID                                      AttributeText  \\\n",
       "0        M1.1  gleiche Anzahl von Schriftzügen an denselben P...   \n",
       "1        M1.2  Schriftzüge longitudo/latitudo an den gleichen...   \n",
       "2        M1.3       kreuzförmiger Anfang der Mond- und Venusbahn   \n",
       "3        M1.4                              waagerechte Position    \n",
       "4        M1.5          \"Schneekristall\" - Sternform der Planeten   \n",
       "\n",
       "                                        AttributeURL  \n",
       "0  http://repository.edition-topoi.org/digilib/di...  \n",
       "1  http://repository.edition-topoi.org/digilib/di...  \n",
       "2  http://repository.edition-topoi.org/digilib/di...  \n",
       "3  http://repository.edition-topoi.org/digilib/di...  \n",
       "4  http://repository.edition-topoi.org/digilib/di...  "
      ]
     },
     "execution_count": 4,
     "metadata": {},
     "output_type": "execute_result"
    }
   ],
   "source": [
    "dfAttrDescr = pd.DataFrame(data['instances']['attributes'])\n",
    "dfAttrDescr.head()"
   ]
  },
  {
   "cell_type": "code",
   "execution_count": 5,
   "metadata": {
    "collapsed": false
   },
   "outputs": [
    {
     "data": {
      "text/html": [
       "<div>\n",
       "<table border=\"1\" class=\"dataframe\">\n",
       "  <thead>\n",
       "    <tr style=\"text-align: right;\">\n",
       "      <th></th>\n",
       "      <th>diaDescription</th>\n",
       "      <th>diaName</th>\n",
       "      <th>diaTyp</th>\n",
       "      <th>diagramURL</th>\n",
       "    </tr>\n",
       "  </thead>\n",
       "  <tbody>\n",
       "    <tr>\n",
       "      <th>0</th>\n",
       "      <td>The rectangular presentation of latitudes occu...</td>\n",
       "      <td>Latitudes Rectangular (Höhen-Diagramm (Rechteck))</td>\n",
       "      <td>1.0</td>\n",
       "      <td>/Mq_27&amp;wx=0.0336&amp;wy=0.3027&amp;ww=0.4897&amp;wh=0.5887</td>\n",
       "    </tr>\n",
       "    <tr>\n",
       "      <th>1</th>\n",
       "      <td>The circular presentation of planetary latitud...</td>\n",
       "      <td>Latitudes Circular (Höhen-Diagramm (Kreis))</td>\n",
       "      <td>2.0</td>\n",
       "      <td>/Ej_138&amp;wx=.1089&amp;wy=0.7155&amp;ww=0.3618&amp;wh=0.2149</td>\n",
       "    </tr>\n",
       "    <tr>\n",
       "      <th>2</th>\n",
       "      <td>A diagram for planetary absides is the only pl...</td>\n",
       "      <td>Apsides (Apsidendiagram (normal))</td>\n",
       "      <td>3.0</td>\n",
       "      <td>/Rb_313&amp;wx=.527&amp;wy=00.0849&amp;ww=0.3547&amp;wh=0.4644</td>\n",
       "    </tr>\n",
       "    <tr>\n",
       "      <th>3</th>\n",
       "      <td>The Plinian diagram for planetary order is ext...</td>\n",
       "      <td>Planetary Order Circular (Planetenordnung-Diag...</td>\n",
       "      <td>4.0</td>\n",
       "      <td>/Mp_2189&amp;wx=.4793&amp;wy=0.1503&amp;ww=0.4192&amp;wh=0.596</td>\n",
       "    </tr>\n",
       "    <tr>\n",
       "      <th>4</th>\n",
       "      <td>The Plinian diagram for planetary order that a...</td>\n",
       "      <td>Planetary Order List (Planetenordnung-Diagramm...</td>\n",
       "      <td>5.0</td>\n",
       "      <td>/Ej_138&amp;wx=.1089&amp;wy=0.7155&amp;ww=0.3618&amp;wh=0.2149</td>\n",
       "    </tr>\n",
       "  </tbody>\n",
       "</table>\n",
       "</div>"
      ],
      "text/plain": [
       "                                      diaDescription  \\\n",
       "0  The rectangular presentation of latitudes occu...   \n",
       "1  The circular presentation of planetary latitud...   \n",
       "2  A diagram for planetary absides is the only pl...   \n",
       "3  The Plinian diagram for planetary order is ext...   \n",
       "4  The Plinian diagram for planetary order that a...   \n",
       "\n",
       "                                             diaName  diaTyp  \\\n",
       "0  Latitudes Rectangular (Höhen-Diagramm (Rechteck))     1.0   \n",
       "1        Latitudes Circular (Höhen-Diagramm (Kreis))     2.0   \n",
       "2                  Apsides (Apsidendiagram (normal))     3.0   \n",
       "3  Planetary Order Circular (Planetenordnung-Diag...     4.0   \n",
       "4  Planetary Order List (Planetenordnung-Diagramm...     5.0   \n",
       "\n",
       "                                       diagramURL  \n",
       "0  /Mq_27&wx=0.0336&wy=0.3027&ww=0.4897&wh=0.5887  \n",
       "1  /Ej_138&wx=.1089&wy=0.7155&ww=0.3618&wh=0.2149  \n",
       "2  /Rb_313&wx=.527&wy=00.0849&ww=0.3547&wh=0.4644  \n",
       "3  /Mp_2189&wx=.4793&wy=0.1503&ww=0.4192&wh=0.596  \n",
       "4  /Ej_138&wx=.1089&wy=0.7155&ww=0.3618&wh=0.2149  "
      ]
     },
     "execution_count": 5,
     "metadata": {},
     "output_type": "execute_result"
    }
   ],
   "source": [
    "dfTypDescr = pd.DataFrame(data['instances']['diaTyp'])\n",
    "dfTypDescr.head()"
   ]
  },
  {
   "cell_type": "markdown",
   "metadata": {},
   "source": [
    "## Welche Typen von Diagrammen finden sich bei Martianus Capella?"
   ]
  },
  {
   "cell_type": "markdown",
   "metadata": {},
   "source": [
    "Wir reduzieren die Datenbank auf den Authors Martianus Capella und lassen uns alle möglichen Diagramm Typen anzeigen."
   ]
  },
  {
   "cell_type": "code",
   "execution_count": 6,
   "metadata": {
    "collapsed": false
   },
   "outputs": [
    {
     "data": {
      "text/plain": [
       "array([22.0, 20.0, 21.0, 19.0, 25.0, 26.0, 28.0, 29.0, 30.0, 18.0, 23.0,\n",
       "       24.0, 27.0, 31.0, 0.0, ''], dtype=object)"
      ]
     },
     "execution_count": 6,
     "metadata": {},
     "output_type": "execute_result"
    }
   ],
   "source": [
    "dfCapella = diagrams[(diagrams['author']=='Capella')]\n",
    "dfCapella['diaTyp'].unique()"
   ]
  },
  {
   "cell_type": "markdown",
   "metadata": {},
   "source": [
    "Wir finden Diagramm Typen von 18 bis 31. Klassifizierungen mit 0 oder '' sind noch weiter zu untersuchen."
   ]
  },
  {
   "cell_type": "markdown",
   "metadata": {},
   "source": [
    "## Anwendung auf einen Diagramm Typ\n",
    "\n",
    "Wir betrachten nun die Merkmale für den Typ 22. Die Beschreibung des Typs selbst finden wir auf folgende Weise"
   ]
  },
  {
   "cell_type": "code",
   "execution_count": 7,
   "metadata": {
    "collapsed": false
   },
   "outputs": [
    {
     "name": "stdout",
     "output_type": "stream",
     "text": [
      "Circumsolar Intersecting (Circumsolar intersecting)\n",
      "\n",
      "An arrangement with Venus and Mercury on intersecting circles around the Sun. In this type of diagram Venus usually appears on the outermost circle in the pattern, producing the resultant planetary sequence from the Moon outward: Mercury -- Venus - Sun -- Mercury -- Venus. The two intersecting circles are usually about the same size, although the circle of Venus may be significantly larger than that of Mercury. The Sun may appear either on an arc or on its full circle. The earth may or may not appear as the body around which the Sun revolves. This diagram may or may not include further planetary circles or the zodiacal circle. The diagram is not connected to any other planetary diagram in the way that the elements of the \"Three versions\" are connected. See description and text for \"Three versions\" (above).\n"
     ]
    }
   ],
   "source": [
    "dfDesc22 = dfTypDescr[dfTypDescr['diaTyp'] == 22]\n",
    "print(dfDesc22['diaName'].values[0])\n",
    "print()\n",
    "print(dfDesc22['diaDescription'].values[0])"
   ]
  },
  {
   "cell_type": "markdown",
   "metadata": {},
   "source": [
    "Für die Attribute Beschreibungen nutzen wir den Attribute Dataframe."
   ]
  },
  {
   "cell_type": "code",
   "execution_count": 8,
   "metadata": {
    "collapsed": false
   },
   "outputs": [
    {
     "name": "stdout",
     "output_type": "stream",
     "text": [
      "M22.1\n",
      "das Diagramm besteht aus zwei Kreisen und einer Geraden in der Mitte der Schnittfläche\n",
      "M22.2\n",
      "die Anordnung der Himmelskörper, sowie der drei Kreise ist etwa identisch zu Cape42_43\n",
      "M22.3\n",
      "Sol ist nicht als Himmelskörper dargetellt\n",
      "M22.4\n",
      "es sind überhaupt keine Himmelskörper dargestellt\n",
      "M22.5\n",
      "Sol liegt auf voll abgebildeter Kreisbahn\n",
      "M22.6\n",
      "das Diagramm ist in ein größeres mit Tierkreiszeichen integriert\n"
     ]
    }
   ],
   "source": [
    "dfAttr22 = dfAttrDescr[dfAttrDescr['AttributeID'].str[1:3] == '22']\n",
    "for i in dfAttr22.index:\n",
    "    print(dfAttr22['AttributeID'][i])\n",
    "    print(dfAttr22['AttributeText'][i])"
   ]
  },
  {
   "cell_type": "markdown",
   "metadata": {},
   "source": [
    "Die Beschreibung der Attribute bezieht sich zum Teil auf ältere Bezeichnungen für die Diagramme. Für das Übersetzen der Namen exisitert die Spalte \"altID\"."
   ]
  },
  {
   "cell_type": "code",
   "execution_count": 9,
   "metadata": {
    "collapsed": false
   },
   "outputs": [
    {
     "data": {
      "text/plain": [
       "'MAPD0406'"
      ]
     },
     "execution_count": 9,
     "metadata": {},
     "output_type": "execute_result"
    }
   ],
   "source": [
    "(diagrams[diagrams['altID'] == 'Cape42']['diaID']).iloc[0]"
   ]
  },
  {
   "cell_type": "markdown",
   "metadata": {},
   "source": [
    "Einen reduzierten Dataframe erhalten wir wie gehabt. Zusätzlich erweiteren wir den Dataframe mit den Werten der Attribute, und entfernen Diagramme mit unklarer Klassifizierung ('?')."
   ]
  },
  {
   "cell_type": "code",
   "execution_count": 10,
   "metadata": {
    "collapsed": false
   },
   "outputs": [
    {
     "data": {
      "text/html": [
       "<div>\n",
       "<table border=\"1\" class=\"dataframe\">\n",
       "  <thead>\n",
       "    <tr style=\"text-align: right;\">\n",
       "      <th></th>\n",
       "      <th>altID</th>\n",
       "      <th>author</th>\n",
       "      <th>biblio</th>\n",
       "      <th>diaAttr</th>\n",
       "      <th>diaID</th>\n",
       "      <th>diaTyp</th>\n",
       "      <th>diaURL</th>\n",
       "      <th>foliopage</th>\n",
       "      <th>manID</th>\n",
       "      <th>manURL</th>\n",
       "      <th>textID</th>\n",
       "      <th>textURL</th>\n",
       "      <th>year</th>\n",
       "      <th>M22.1</th>\n",
       "      <th>M22.2</th>\n",
       "      <th>M22.3</th>\n",
       "      <th>M22.4</th>\n",
       "      <th>M22.5</th>\n",
       "      <th>M22.6</th>\n",
       "    </tr>\n",
       "  </thead>\n",
       "  <tbody>\n",
       "    <tr>\n",
       "      <th>0</th>\n",
       "      <td>Cape149</td>\n",
       "      <td>Capella</td>\n",
       "      <td>Leiden UB, Ms BPL 64</td>\n",
       "      <td>[{'M22.6': 0, 'M22.5': 1, 'M22.2': 1, 'M22.1':...</td>\n",
       "      <td>MAPD0345</td>\n",
       "      <td>22</td>\n",
       "      <td>Lk_1&amp;pn=92&amp;dw=1858&amp;dh=901&amp;ww=0.7615&amp;wh=0.3906&amp;...</td>\n",
       "      <td>46v</td>\n",
       "      <td>LK(1)</td>\n",
       "      <td>Lk_1&amp;pn=1</td>\n",
       "      <td>LK(1)_B</td>\n",
       "      <td></td>\n",
       "      <td>XI</td>\n",
       "      <td>0</td>\n",
       "      <td>1</td>\n",
       "      <td>0</td>\n",
       "      <td>0</td>\n",
       "      <td>1</td>\n",
       "      <td>0</td>\n",
       "    </tr>\n",
       "    <tr>\n",
       "      <th>1</th>\n",
       "      <td>Cape34</td>\n",
       "      <td>Capella</td>\n",
       "      <td>Vaticano BAV, Ms Regin. lat. 1987</td>\n",
       "      <td>[{'M22.6': 0, 'M22.5': 0, 'M22.2': 0, 'M22.1':...</td>\n",
       "      <td>MAPD0397</td>\n",
       "      <td>22</td>\n",
       "      <td>Ay_3&amp;pn=122&amp;dw=1858&amp;dh=901&amp;ww=0.062&amp;wh=0.1081&amp;...</td>\n",
       "      <td>128r</td>\n",
       "      <td>AY(3)</td>\n",
       "      <td>Ay_3&amp;pn=1</td>\n",
       "      <td>AY(3)_A</td>\n",
       "      <td></td>\n",
       "      <td>IX(ex)</td>\n",
       "      <td>1</td>\n",
       "      <td>0</td>\n",
       "      <td>1</td>\n",
       "      <td>1</td>\n",
       "      <td>0</td>\n",
       "      <td>0</td>\n",
       "    </tr>\n",
       "    <tr>\n",
       "      <th>2</th>\n",
       "      <td>Cape39</td>\n",
       "      <td>Capella</td>\n",
       "      <td>Erfurt StB, Ms Amplon. Q.351</td>\n",
       "      <td>[{'M22.6': 1, 'M22.5': 0, 'M22.2': 0, 'M22.1':...</td>\n",
       "      <td>MAPD0402</td>\n",
       "      <td>22</td>\n",
       "      <td>Bn_3&amp;pn=15&amp;dw=1858&amp;dh=901&amp;ww=0.1803&amp;wh=0.2756&amp;...</td>\n",
       "      <td>13v</td>\n",
       "      <td>BN(3)</td>\n",
       "      <td>Bn_3&amp;pn=1</td>\n",
       "      <td>BN(3)_A</td>\n",
       "      <td></td>\n",
       "      <td>XII</td>\n",
       "      <td>0</td>\n",
       "      <td>0</td>\n",
       "      <td>1</td>\n",
       "      <td>1</td>\n",
       "      <td>0</td>\n",
       "      <td>1</td>\n",
       "    </tr>\n",
       "    <tr>\n",
       "      <th>3</th>\n",
       "      <td>Cape35</td>\n",
       "      <td>Capella</td>\n",
       "      <td>Leiden UB, BPL, 88</td>\n",
       "      <td>[{'M22.6': 0, 'M22.5': 0, 'M22.2': 0, 'M22.1':...</td>\n",
       "      <td>MAPD0398</td>\n",
       "      <td>22</td>\n",
       "      <td>Ba_2&amp;pn=323&amp;dw=1858&amp;dh=901&amp;ww=0.1131&amp;wh=0.1007...</td>\n",
       "      <td>162v</td>\n",
       "      <td>BA(2)</td>\n",
       "      <td>Ba_2&amp;pn=1</td>\n",
       "      <td>BA(2)_A</td>\n",
       "      <td></td>\n",
       "      <td>IX</td>\n",
       "      <td>1</td>\n",
       "      <td>0</td>\n",
       "      <td>1</td>\n",
       "      <td>1</td>\n",
       "      <td>0</td>\n",
       "      <td>0</td>\n",
       "    </tr>\n",
       "    <tr>\n",
       "      <th>4</th>\n",
       "      <td>Cape36</td>\n",
       "      <td>Capella</td>\n",
       "      <td>Leiden UB, BPL, 87</td>\n",
       "      <td>[{'M22.6': 0, 'M22.5': 0, 'M22.2': 0, 'M22.1':...</td>\n",
       "      <td>MAPD0399</td>\n",
       "      <td>22</td>\n",
       "      <td>Ba_3&amp;pn=126&amp;dw=1858&amp;dh=901&amp;ww=0.1108&amp;wh=0.2035...</td>\n",
       "      <td>124v</td>\n",
       "      <td>BA(3)</td>\n",
       "      <td>Ba_3&amp;pn=1</td>\n",
       "      <td>BA(3)_A</td>\n",
       "      <td></td>\n",
       "      <td>IX</td>\n",
       "      <td>1</td>\n",
       "      <td>0</td>\n",
       "      <td>1</td>\n",
       "      <td>0</td>\n",
       "      <td>0</td>\n",
       "      <td>0</td>\n",
       "    </tr>\n",
       "  </tbody>\n",
       "</table>\n",
       "</div>"
      ],
      "text/plain": [
       "     altID   author                             biblio  \\\n",
       "0  Cape149  Capella               Leiden UB, Ms BPL 64   \n",
       "1   Cape34  Capella  Vaticano BAV, Ms Regin. lat. 1987   \n",
       "2   Cape39  Capella       Erfurt StB, Ms Amplon. Q.351   \n",
       "3   Cape35  Capella                 Leiden UB, BPL, 88   \n",
       "4   Cape36  Capella                 Leiden UB, BPL, 87   \n",
       "\n",
       "                                             diaAttr     diaID diaTyp  \\\n",
       "0  [{'M22.6': 0, 'M22.5': 1, 'M22.2': 1, 'M22.1':...  MAPD0345     22   \n",
       "1  [{'M22.6': 0, 'M22.5': 0, 'M22.2': 0, 'M22.1':...  MAPD0397     22   \n",
       "2  [{'M22.6': 1, 'M22.5': 0, 'M22.2': 0, 'M22.1':...  MAPD0402     22   \n",
       "3  [{'M22.6': 0, 'M22.5': 0, 'M22.2': 0, 'M22.1':...  MAPD0398     22   \n",
       "4  [{'M22.6': 0, 'M22.5': 0, 'M22.2': 0, 'M22.1':...  MAPD0399     22   \n",
       "\n",
       "                                              diaURL foliopage  manID  \\\n",
       "0  Lk_1&pn=92&dw=1858&dh=901&ww=0.7615&wh=0.3906&...       46v  LK(1)   \n",
       "1  Ay_3&pn=122&dw=1858&dh=901&ww=0.062&wh=0.1081&...      128r  AY(3)   \n",
       "2  Bn_3&pn=15&dw=1858&dh=901&ww=0.1803&wh=0.2756&...       13v  BN(3)   \n",
       "3  Ba_2&pn=323&dw=1858&dh=901&ww=0.1131&wh=0.1007...      162v  BA(2)   \n",
       "4  Ba_3&pn=126&dw=1858&dh=901&ww=0.1108&wh=0.2035...      124v  BA(3)   \n",
       "\n",
       "      manURL   textID textURL    year M22.1 M22.2 M22.3 M22.4 M22.5 M22.6  \n",
       "0  Lk_1&pn=1  LK(1)_B              XI     0     1     0     0     1     0  \n",
       "1  Ay_3&pn=1  AY(3)_A          IX(ex)     1     0     1     1     0     0  \n",
       "2  Bn_3&pn=1  BN(3)_A             XII     0     0     1     1     0     1  \n",
       "3  Ba_2&pn=1  BA(2)_A              IX     1     0     1     1     0     0  \n",
       "4  Ba_3&pn=1  BA(3)_A              IX     1     0     1     0     0     0  "
      ]
     },
     "execution_count": 10,
     "metadata": {},
     "output_type": "execute_result"
    }
   ],
   "source": [
    "dfCapella22 = diagrams[(diagrams['author']=='Capella') & (diagrams['diaTyp']==22)].reset_index(drop=True)\n",
    "dfAttr = pd.DataFrame(dict(dfCapella22['diaAttr'].apply(lambda row: row[0]))).transpose()\n",
    "dfCapellaAttr = dfCapella22.join(dfAttr)\n",
    "dfCapellaAttr = dfCapellaAttr[dfCapellaAttr['M22.1'] != '?']\n",
    "dfCapellaAttr.head()"
   ]
  },
  {
   "cell_type": "markdown",
   "metadata": {},
   "source": [
    "Zum Überprüfen der vorhandenen Attribute, können wir eine Grid-Darstellung nutzen. Neben dem Namen des Diagramms, sind die Attribute verzeichnet. Schwebt der Maus-Zeiger über einer Attributes-Nummer erscheint die Beschreibung."
   ]
  },
  {
   "cell_type": "code",
   "execution_count": 11,
   "metadata": {
    "collapsed": false,
    "scrolled": false
   },
   "outputs": [
    {
     "data": {
      "text/html": [
       "<table style=\"width:100%\"><tr><th width=\"33%\">Diagrams of type 22 from author Capella </th><th width=\"33%\"></th><th width=\"33%\"></th></tr><tr><td><img src=http://repository.edition-topoi.org/CitableHandler/MAPD/file/0345/circumsolar_intersecting_1-2-345.jpg?getDigitalFormat + width=100%/></td><td><img src=http://repository.edition-topoi.org/CitableHandler/MAPD/file/0397/circumsolar_intersecting_1-2-397.jpg?getDigitalFormat + width=100%/></td><td><img src=http://repository.edition-topoi.org/CitableHandler/MAPD/file/0402/circumsolar_intersecting_1-2-402.jpg?getDigitalFormat + width=100%/></td></tr><tr><td><a target=\"_blank\" href=http://repository.edition-topoi.org/digilib/digilib.html?fn=/MAPD/ReposMAPD/EastwoodCollection/Lk_1&pn=92&dw=1858&dh=901&ww=0.7615&wh=0.3906&wx=0.1567&wy=0.4087>MAPD0345</a>, Attr:<span title=\"Sol ist nicht als Himmelskörper dargetellt\">M22.3</span>: 0, <span title=\"Sol liegt auf voll abgebildeter Kreisbahn\">M22.5</span>: 1, <span title=\"das Diagramm besteht aus zwei Kreisen und einer Geraden in der Mitte der Schnittfläche\">M22.1</span>: 0, <span title=\"das Diagramm ist in ein größeres mit Tierkreiszeichen integriert\">M22.6</span>: 0, <span title=\"die Anordnung der Himmelskörper, sowie der drei Kreise ist etwa identisch zu Cape42_43\">M22.2</span>: 1, <span title=\"es sind überhaupt keine Himmelskörper dargestellt\">M22.4</span>: 0</td><td><a target=\"_blank\" href=http://repository.edition-topoi.org/digilib/digilib.html?fn=/MAPD/ReposMAPD/EastwoodCollection/Ay_3&pn=122&dw=1858&dh=901&ww=0.062&wh=0.1081&wx=0.9445&wy=0.6602>MAPD0397</a>, Attr:<span title=\"Sol ist nicht als Himmelskörper dargetellt\">M22.3</span>: 1, <span title=\"Sol liegt auf voll abgebildeter Kreisbahn\">M22.5</span>: 0, <span title=\"das Diagramm besteht aus zwei Kreisen und einer Geraden in der Mitte der Schnittfläche\">M22.1</span>: 1, <span title=\"das Diagramm ist in ein größeres mit Tierkreiszeichen integriert\">M22.6</span>: 0, <span title=\"die Anordnung der Himmelskörper, sowie der drei Kreise ist etwa identisch zu Cape42_43\">M22.2</span>: 0, <span title=\"es sind überhaupt keine Himmelskörper dargestellt\">M22.4</span>: 1</td><td><a target=\"_blank\" href=http://repository.edition-topoi.org/digilib/digilib.html?fn=/MAPD/ReposMAPD/EastwoodCollection/Bn_3&pn=15&dw=1858&dh=901&ww=0.1803&wh=0.2756&wx=0.1629&wy=0.5543>MAPD0402</a>, Attr:<span title=\"Sol ist nicht als Himmelskörper dargetellt\">M22.3</span>: 1, <span title=\"Sol liegt auf voll abgebildeter Kreisbahn\">M22.5</span>: 0, <span title=\"das Diagramm besteht aus zwei Kreisen und einer Geraden in der Mitte der Schnittfläche\">M22.1</span>: 0, <span title=\"das Diagramm ist in ein größeres mit Tierkreiszeichen integriert\">M22.6</span>: 1, <span title=\"die Anordnung der Himmelskörper, sowie der drei Kreise ist etwa identisch zu Cape42_43\">M22.2</span>: 0, <span title=\"es sind überhaupt keine Himmelskörper dargestellt\">M22.4</span>: 1</td></tr><tr><td><img src=http://repository.edition-topoi.org/CitableHandler/MAPD/file/0398/circumsolar_intersecting_1-2-398.jpg?getDigitalFormat + width=100%/></td><td><img src=http://repository.edition-topoi.org/CitableHandler/MAPD/file/0399/circumsolar_intersecting_1-2-399.jpg?getDigitalFormat + width=100%/></td><td><img src=http://repository.edition-topoi.org/CitableHandler/MAPD/file/0401/circumsolar_intersecting_1-2-401.jpg?getDigitalFormat + width=100%/></td></tr><tr><td><a target=\"_blank\" href=http://repository.edition-topoi.org/digilib/digilib.html?fn=/MAPD/ReposMAPD/EastwoodCollection/Ba_2&pn=323&dw=1858&dh=901&ww=0.1131&wh=0.1007&wx=0.0882&wy=0.6916>MAPD0398</a>, Attr:<span title=\"Sol ist nicht als Himmelskörper dargetellt\">M22.3</span>: 1, <span title=\"Sol liegt auf voll abgebildeter Kreisbahn\">M22.5</span>: 0, <span title=\"das Diagramm besteht aus zwei Kreisen und einer Geraden in der Mitte der Schnittfläche\">M22.1</span>: 1, <span title=\"das Diagramm ist in ein größeres mit Tierkreiszeichen integriert\">M22.6</span>: 0, <span title=\"die Anordnung der Himmelskörper, sowie der drei Kreise ist etwa identisch zu Cape42_43\">M22.2</span>: 0, <span title=\"es sind überhaupt keine Himmelskörper dargestellt\">M22.4</span>: 1</td><td><a target=\"_blank\" href=http://repository.edition-topoi.org/digilib/digilib.html?fn=/MAPD/ReposMAPD/EastwoodCollection/Ba_3&pn=126&dw=1858&dh=901&ww=0.1108&wh=0.2035&wx=0.0844&wy=0.519>MAPD0399</a>, Attr:<span title=\"Sol ist nicht als Himmelskörper dargetellt\">M22.3</span>: 1, <span title=\"Sol liegt auf voll abgebildeter Kreisbahn\">M22.5</span>: 0, <span title=\"das Diagramm besteht aus zwei Kreisen und einer Geraden in der Mitte der Schnittfläche\">M22.1</span>: 1, <span title=\"das Diagramm ist in ein größeres mit Tierkreiszeichen integriert\">M22.6</span>: 0, <span title=\"die Anordnung der Himmelskörper, sowie der drei Kreise ist etwa identisch zu Cape42_43\">M22.2</span>: 0, <span title=\"es sind überhaupt keine Himmelskörper dargestellt\">M22.4</span>: 0</td><td><a target=\"_blank\" href=http://repository.edition-topoi.org/digilib/digilib.html?fn=/MAPD/ReposMAPD/EastwoodCollection/Bn_1&pn=35&dw=1858&dh=901&ww=0.4673&wh=0.6274&wx=0.4684&wy=0.0361>MAPD0401</a>, Attr:<span title=\"Sol ist nicht als Himmelskörper dargetellt\">M22.3</span>: 0, <span title=\"Sol liegt auf voll abgebildeter Kreisbahn\">M22.5</span>: 1, <span title=\"das Diagramm besteht aus zwei Kreisen und einer Geraden in der Mitte der Schnittfläche\">M22.1</span>: 0, <span title=\"das Diagramm ist in ein größeres mit Tierkreiszeichen integriert\">M22.6</span>: 1, <span title=\"die Anordnung der Himmelskörper, sowie der drei Kreise ist etwa identisch zu Cape42_43\">M22.2</span>: 0, <span title=\"es sind überhaupt keine Himmelskörper dargestellt\">M22.4</span>: 0</td></tr><tr><td><img src=http://repository.edition-topoi.org/CitableHandler/MAPD/file/0405/circumsolar_intersecting_1-2-405.jpg?getDigitalFormat + width=100%/></td><td><img src=http://repository.edition-topoi.org/CitableHandler/MAPD/file/0406/circumsolar_intersecting_1-2-406.jpg?getDigitalFormat + width=100%/></td><td><img src=http://repository.edition-topoi.org/CitableHandler/MAPD/file/0407/circumsolar_intersecting_1-2-407.jpg?getDigitalFormat + width=100%/></td></tr><tr><td><a target=\"_blank\" href=http://repository.edition-topoi.org/digilib/digilib.html?fn=/MAPD/ReposMAPD/EastwoodCollection/Lh_2&pn=80&dw=1858&dh=901&ww=0.0963&wh=0.1369&wx=0.0712&wy=0.4908>MAPD0405</a>, Attr:<span title=\"Sol ist nicht als Himmelskörper dargetellt\">M22.3</span>: 0, <span title=\"Sol liegt auf voll abgebildeter Kreisbahn\">M22.5</span>: 0, <span title=\"das Diagramm besteht aus zwei Kreisen und einer Geraden in der Mitte der Schnittfläche\">M22.1</span>: 0, <span title=\"das Diagramm ist in ein größeres mit Tierkreiszeichen integriert\">M22.6</span>: 0, <span title=\"die Anordnung der Himmelskörper, sowie der drei Kreise ist etwa identisch zu Cape42_43\">M22.2</span>: 0, <span title=\"es sind überhaupt keine Himmelskörper dargestellt\">M22.4</span>: 0</td><td><a target=\"_blank\" href=http://repository.edition-topoi.org/digilib/digilib.html?fn=/MAPD/ReposMAPD/EastwoodCollection/Nk_1&pn=44&dw=1858&dh=901&ww=0.1134&wh=0.1482&wx=0.0606&wy=0.372>MAPD0406</a>, Attr:<span title=\"Sol ist nicht als Himmelskörper dargetellt\">M22.3</span>: 0, <span title=\"Sol liegt auf voll abgebildeter Kreisbahn\">M22.5</span>: 1, <span title=\"das Diagramm besteht aus zwei Kreisen und einer Geraden in der Mitte der Schnittfläche\">M22.1</span>: 0, <span title=\"das Diagramm ist in ein größeres mit Tierkreiszeichen integriert\">M22.6</span>: 0, <span title=\"die Anordnung der Himmelskörper, sowie der drei Kreise ist etwa identisch zu Cape42_43\">M22.2</span>: 1, <span title=\"es sind überhaupt keine Himmelskörper dargestellt\">M22.4</span>: 0</td><td><a target=\"_blank\" href=http://repository.edition-topoi.org/digilib/digilib.html?fn=/MAPD/ReposMAPD/EastwoodCollection/Nq_2&pn=11&dw=1858&dh=901&ww=0.1312&wh=0.2141&wx=0.0108&wy=0.3122>MAPD0407</a>, Attr:<span title=\"Sol ist nicht als Himmelskörper dargetellt\">M22.3</span>: 0, <span title=\"Sol liegt auf voll abgebildeter Kreisbahn\">M22.5</span>: 1, <span title=\"das Diagramm besteht aus zwei Kreisen und einer Geraden in der Mitte der Schnittfläche\">M22.1</span>: 0, <span title=\"das Diagramm ist in ein größeres mit Tierkreiszeichen integriert\">M22.6</span>: 0, <span title=\"die Anordnung der Himmelskörper, sowie der drei Kreise ist etwa identisch zu Cape42_43\">M22.2</span>: 1, <span title=\"es sind überhaupt keine Himmelskörper dargestellt\">M22.4</span>: 0</td></tr><tr><td><img src=http://repository.edition-topoi.org/CitableHandler/MAPD/file/0351/circumsolar_intersecting_1-2-351.jpg?getDigitalFormat + width=100%/></td><td><img src=http://repository.edition-topoi.org/CitableHandler/MAPD/file/0408/circumsolar_intersecting_1-2-408.jpg?getDigitalFormat + width=100%/></td><td><img src=http://repository.edition-topoi.org/CitableHandler/MAPD/file/0409/circumsolar_intersecting_1-2-409.jpg?getDigitalFormat + width=100%/></td></tr><tr><td><a target=\"_blank\" href=http://repository.edition-topoi.org/digilib/digilib.html?fn=/MAPD/ReposMAPD/EastwoodCollection/Rb_2&pn=46&dw=1858&dh=901&ww=0.176&wh=0.2024&wx=0.314&wy=0.5145>MAPD0351</a>, Attr:<span title=\"Sol ist nicht als Himmelskörper dargetellt\">M22.3</span>: 0, <span title=\"Sol liegt auf voll abgebildeter Kreisbahn\">M22.5</span>: 1, <span title=\"das Diagramm besteht aus zwei Kreisen und einer Geraden in der Mitte der Schnittfläche\">M22.1</span>: 0, <span title=\"das Diagramm ist in ein größeres mit Tierkreiszeichen integriert\">M22.6</span>: 0, <span title=\"die Anordnung der Himmelskörper, sowie der drei Kreise ist etwa identisch zu Cape42_43\">M22.2</span>: 0, <span title=\"es sind überhaupt keine Himmelskörper dargestellt\">M22.4</span>: 0</td><td><a target=\"_blank\" href=http://repository.edition-topoi.org/digilib/digilib.html?fn=/MAPD/ReposMAPD/EastwoodCollection/Zz_6&pn=213&dw=1858&dh=901&ww=0.1034&wh=0.1466&wx=0.5413&wy=0.79>MAPD0408</a>, Attr:<span title=\"Sol ist nicht als Himmelskörper dargetellt\">M22.3</span>: 1, <span title=\"Sol liegt auf voll abgebildeter Kreisbahn\">M22.5</span>: 0, <span title=\"das Diagramm besteht aus zwei Kreisen und einer Geraden in der Mitte der Schnittfläche\">M22.1</span>: 1, <span title=\"das Diagramm ist in ein größeres mit Tierkreiszeichen integriert\">M22.6</span>: 0, <span title=\"die Anordnung der Himmelskörper, sowie der drei Kreise ist etwa identisch zu Cape42_43\">M22.2</span>: 0, <span title=\"es sind überhaupt keine Himmelskörper dargestellt\">M22.4</span>: 0</td><td><a target=\"_blank\" href=http://repository.edition-topoi.org/digilib/digilib.html?fn=/MAPD/ReposMAPD/EastwoodCollection/Zz_4&pn=126&dw=1858&dh=901&ww=0.1266&wh=0.2638&wx=0.3654&wy=0.4642>MAPD0409</a>, Attr:<span title=\"Sol ist nicht als Himmelskörper dargetellt\">M22.3</span>: 1, <span title=\"Sol liegt auf voll abgebildeter Kreisbahn\">M22.5</span>: 0, <span title=\"das Diagramm besteht aus zwei Kreisen und einer Geraden in der Mitte der Schnittfläche\">M22.1</span>: 1, <span title=\"das Diagramm ist in ein größeres mit Tierkreiszeichen integriert\">M22.6</span>: 0, <span title=\"die Anordnung der Himmelskörper, sowie der drei Kreise ist etwa identisch zu Cape42_43\">M22.2</span>: 0, <span title=\"es sind überhaupt keine Himmelskörper dargestellt\">M22.4</span>: 0</td></tr></table>"
      ],
      "text/plain": [
       "<IPython.core.display.HTML object>"
      ]
     },
     "execution_count": 11,
     "metadata": {},
     "output_type": "execute_result"
    }
   ],
   "source": [
    "diaAttrCheck(dfCapellaAttr,'Capella',22)"
   ]
  },
  {
   "cell_type": "markdown",
   "metadata": {},
   "source": [
    "# Untersuchung besonders ähnlicher Diagramme\n",
    "\n",
    "Im obigen Grid der Diagramme des Typs 22 finden sich drei besonders ähnliche Abbildungen. Die Diagramme MAPD 345, 406 und 407 werden nun näher untersucht. \n",
    "\n",
    "Zum Darstellen der Diagramme neben einander nutzen wir folgende Funktion, die auf die Datenbank der edition-topoi zugreift."
   ]
  },
  {
   "cell_type": "code",
   "execution_count": 12,
   "metadata": {
    "collapsed": true
   },
   "outputs": [],
   "source": [
    "def idx2image(dataframe, diaList):\n",
    "    url_start = 'http://repository.edition-topoi.org/digilib/digilib.html?fn=/MAPD/ReposMAPD/EastwoodCollection/'\n",
    "    url_end = []\n",
    "    for dia in diaList:\n",
    "        urlTemp= dataframe[dataframe['diaID']==dia]['diaURL'].iloc[0]\n",
    "        url_end.append(urlTemp)\n",
    "    res = ''.join(['<iframe src={}{} width=400 height=400></iframe>'.format(url_start,url) for url in url_end])\n",
    "    return HTML(res)"
   ]
  },
  {
   "cell_type": "code",
   "execution_count": 13,
   "metadata": {
    "collapsed": false
   },
   "outputs": [
    {
     "data": {
      "text/html": [
       "<iframe src=http://repository.edition-topoi.org/digilib/digilib.html?fn=/MAPD/ReposMAPD/EastwoodCollection/Lk_1&pn=92&dw=1858&dh=901&ww=0.7615&wh=0.3906&wx=0.1567&wy=0.4087 width=400 height=400></iframe><iframe src=http://repository.edition-topoi.org/digilib/digilib.html?fn=/MAPD/ReposMAPD/EastwoodCollection/Nk_1&pn=44&dw=1858&dh=901&ww=0.1134&wh=0.1482&wx=0.0606&wy=0.372 width=400 height=400></iframe><iframe src=http://repository.edition-topoi.org/digilib/digilib.html?fn=/MAPD/ReposMAPD/EastwoodCollection/Nq_2&pn=11&dw=1858&dh=901&ww=0.1312&wh=0.2141&wx=0.0108&wy=0.3122 width=400 height=400></iframe>"
      ],
      "text/plain": [
       "<IPython.core.display.HTML object>"
      ]
     },
     "execution_count": 13,
     "metadata": {},
     "output_type": "execute_result"
    }
   ],
   "source": [
    "idx2image(dfCapella22,['MAPD0345','MAPD0406','MAPD0407'])"
   ]
  },
  {
   "cell_type": "markdown",
   "metadata": {},
   "source": [
    "# Kopierbeziehungen von Diagrammen\n",
    "\n",
    "## Kopierbeziehungen\n",
    "\n",
    "Drei mögliche Szenarien treten für die Kopierbeziehungen zwischen zwei Diagrammen A und B auf. A kann eine Kopie von B sein, oder B eine Kopie von A, wenn beide Diagramme eine direkte Verwandschaftsbeziehung haben. Natürlich könnten auch beide Diagramme von einer gemeinsamen Vorlage C kopiert worden sein, die z.B. verloren gegangen ist.\n",
    "\n",
    "Zum Festlegen einer Kopierbeziehung nutzen wir die Merkmale der Diagramme. Bei einem Kopiervorgang will ein Kopist alle Merkmale einer Vorlage übernehmen.  Durch Fehler können zufällig Merkmale verloren gehen. Es ist aber eher unwahrscheinlich, dass ein Kopist Merkmale hinzufügt, die in einer Vorlage nicht vorhanden waren. \n",
    "\n",
    "Diese Kopierbeziehungen können durch eine einfache Anweisung kodiert werden. Wir vergleichen alle Stellen eines Beschreibungsvektors für ein Diagramm A mit einem anderen Diagramm B. Ist in A ein Merkmal vorhanden, aber in B nicht (1->0), weißen wir diesem Kopiervorgang eine Wahrscheinlichkeit von 0.9 zu. Das heißt es ist wahrscheinlich zufällige Fehler zu machen. Ist in A hingegen ein Merkmal nicht vorhanden, in B aber schon (0->1), ordnen wir diesem Vorgang die Wahrscheinlichkeit 0.1 zu, wie oben argumentiert. "
   ]
  },
  {
   "cell_type": "markdown",
   "metadata": {},
   "source": [
    "Mit der Funktion zip(u,v) können wir die Merkmalsvektoren zweier Diagramme verknüpfen. Gleiche Stellen des Vektors werden zu einem Tupel, einer nicht veränderbaren Gruppe, zusammengefasst. Für jedem Eintrag des Tupels prüfen wir, ob der Eintrag von A größer, kleiner oder gleich dem Eintrag von B ist. Aus der so entstanden Vergleichsliste für alle Stellen des Merkmalsvektors bilden wir dann das Produkt, welches die Gesamtwahrscheinlichkeit der Kopierbeziehung beschreibt. "
   ]
  },
  {
   "cell_type": "code",
   "execution_count": 14,
   "metadata": {
    "collapsed": true
   },
   "outputs": [],
   "source": [
    "def kopierbeziehung(u,v):\n",
    "    war = np.product([0.1 if i[0] < i[1] else 0.9 if i[0] > i[1] else 1 for i in zip(u,v)])\n",
    "    return war"
   ]
  },
  {
   "cell_type": "markdown",
   "metadata": {},
   "source": [
    "Für zwei hypothetische Diagramme A und B haben wir folgende Merkmale verzeichnet."
   ]
  },
  {
   "cell_type": "code",
   "execution_count": 15,
   "metadata": {
    "collapsed": true
   },
   "outputs": [],
   "source": [
    "A = [1,1,1,1,1]\n",
    "B = [1,1,0,0,0]"
   ]
  },
  {
   "cell_type": "markdown",
   "metadata": {},
   "source": [
    "Nun testen wir, welche Kopierfolge wahrscheinlicher ist."
   ]
  },
  {
   "cell_type": "code",
   "execution_count": 16,
   "metadata": {
    "collapsed": false
   },
   "outputs": [
    {
     "data": {
      "text/plain": [
       "0.72900000000000009"
      ]
     },
     "execution_count": 16,
     "metadata": {},
     "output_type": "execute_result"
    }
   ],
   "source": [
    "kopierbeziehung(A,B)"
   ]
  },
  {
   "cell_type": "code",
   "execution_count": 17,
   "metadata": {
    "collapsed": false
   },
   "outputs": [
    {
     "data": {
      "text/plain": [
       "0.0010000000000000002"
      ]
     },
     "execution_count": 17,
     "metadata": {},
     "output_type": "execute_result"
    }
   ],
   "source": [
    "kopierbeziehung(B,A)"
   ]
  },
  {
   "cell_type": "markdown",
   "metadata": {},
   "source": [
    "Wie zuvor festgelegt, ist ein Verlust zweier Merkmale deutlich wahrscheinlicher, als das Hinzufügen. Daher ist B wahrscheinlich eine Kopie von A. \n",
    "\n",
    "Das Testen der dritten Hypothese ist mit den vorhandenen Merkmalen nicht einfach möglich. Eventuell müssen wir neue Merkmale hinzufügen."
   ]
  },
  {
   "cell_type": "markdown",
   "metadata": {},
   "source": [
    "## Neues Attribut anlegen\n",
    "\n",
    "Soll für einen bestehenden Diagramm-Typ ein neues Merkmal hinzugefügt werden, so kann dies erstmal mit einem Dataframe protokolliert werden. \n",
    "Die Beschreibung des Attributes erfolgt analog zu den bestehenden."
   ]
  },
  {
   "cell_type": "markdown",
   "metadata": {},
   "source": [
    "Das Merkmal 'M22.7' beschreibt: TEXT HIER"
   ]
  },
  {
   "cell_type": "markdown",
   "metadata": {},
   "source": [
    "In einem ersten Bearbeitungsschritt wurde eine Liste erstellt, welches Diagramm das neue Merkmal besitzt und welches nicht. Diese Liste wird in ein dictionary geschrieben, dass die Neuerungen kodiert.  "
   ]
  },
  {
   "cell_type": "code",
   "execution_count": 18,
   "metadata": {
    "collapsed": false
   },
   "outputs": [],
   "source": [
    "mapDict = {a:b for a,b in zip(dfCapellaAttr['diaID'],[1,0,0,1,1,0,0,0,1,0,1,0])}"
   ]
  },
  {
   "cell_type": "markdown",
   "metadata": {},
   "source": [
    "Mit Hilfe dieses Mappings schreiben wir nun in jede Zeile die aktuallisierte Attributs-Beschreibung."
   ]
  },
  {
   "cell_type": "code",
   "execution_count": 19,
   "metadata": {
    "collapsed": false
   },
   "outputs": [],
   "source": [
    "for x in range(len(dfCapellaAttr['diaAttr'])):\n",
    "    dc = dfCapellaAttr['diaAttr'].iloc[x][0]\n",
    "    dc['M22.7'] = mapDict[dfCapellaAttr['diaID'].iloc[x]]\n",
    "    dfCapellaAttr['diaAttr'].iloc[x] = [dc]"
   ]
  },
  {
   "cell_type": "markdown",
   "metadata": {},
   "source": [
    "Wir überprüfen, ob die neuen Merkmale übernommen wurden."
   ]
  },
  {
   "cell_type": "code",
   "execution_count": 20,
   "metadata": {
    "collapsed": false
   },
   "outputs": [
    {
     "data": {
      "text/plain": [
       "[{'M22.1': 0,\n",
       "  'M22.2': 1,\n",
       "  'M22.3': 0,\n",
       "  'M22.4': 0,\n",
       "  'M22.5': 1,\n",
       "  'M22.6': 0,\n",
       "  'M22.7': 1}]"
      ]
     },
     "execution_count": 20,
     "metadata": {},
     "output_type": "execute_result"
    }
   ],
   "source": [
    "dfCapellaAttr['diaAttr'].iloc[0]"
   ]
  },
  {
   "cell_type": "markdown",
   "metadata": {},
   "source": [
    "Wird anschließend obiges Grid neu ausgeführt, so sind die neu hinzugefügten Merkmale verzeichnet. "
   ]
  },
  {
   "cell_type": "markdown",
   "metadata": {},
   "source": [
    "## Attribut entfernen"
   ]
  },
  {
   "cell_type": "markdown",
   "metadata": {},
   "source": [
    "Sollte ein Schlüssel fehlerhaft vergeben worden sein, kann er mit dict.pop() aus dem dictionary entfernt werden (der Befehl gibt den Wert zu dem Schlüssel aus). Das bereinigte dictionary kann dann wieder der diaAttr Spalte zugewiesen werden und im obigen Grid sollte das Merkmal nicht mehr vorhanden sein. "
   ]
  },
  {
   "cell_type": "code",
   "execution_count": 21,
   "metadata": {
    "collapsed": false
   },
   "outputs": [],
   "source": [
    "#for x in range(len(dfCapella22['diaAttr'])):\n",
    "#    dc = dfCapella22['diaAttr'].iloc[x][0]\n",
    "#    try:\n",
    "#        dc.pop('M22.7');\n",
    "#    except KeyError:\n",
    "#        raise\n",
    "#    dfCapella22['diaAttr'].iloc[x] = [dc]"
   ]
  },
  {
   "cell_type": "markdown",
   "metadata": {},
   "source": [
    "## Merkmale als JSON-Datei dauerhaft abspeichern"
   ]
  },
  {
   "cell_type": "markdown",
   "metadata": {},
   "source": [
    "Um die bearbeiteten Merkmale in ein JSON zu speichern, nutzen wir "
   ]
  },
  {
   "cell_type": "code",
   "execution_count": 22,
   "metadata": {
    "collapsed": false
   },
   "outputs": [],
   "source": [
    "# Kommentar entfernen um Änderungen zu speichern\n",
    "#dfCapella22.to_json('./Capella22newAttr.json')"
   ]
  },
  {
   "cell_type": "code",
   "execution_count": 23,
   "metadata": {
    "collapsed": false
   },
   "outputs": [],
   "source": [
    "# Geänderte Daten werden mit diesem Befehl eingelesen und überprüft\n",
    "#with open('./Capella22newAttr.json') as json_data:\n",
    "#    data = json.load(json_data)\n",
    "#pd.DataFrame(data).iloc[1,3]"
   ]
  }
 ],
 "metadata": {
  "anaconda-cloud": {},
  "kernelspec": {
   "display_name": "Python 3",
   "language": "python",
   "name": "python3"
  },
  "language_info": {
   "codemirror_mode": {
    "name": "ipython",
    "version": 3
   },
   "file_extension": ".py",
   "mimetype": "text/x-python",
   "name": "python",
   "nbconvert_exporter": "python",
   "pygments_lexer": "ipython3",
   "version": "3.5.2"
  },
  "latex_envs": {
   "bibliofile": "biblio.bib",
   "cite_by": "apalike",
   "current_citInitial": 1,
   "eqLabelWithNumbers": true,
   "eqNumInitial": 0
  },
  "nav_menu": {},
  "toc": {
   "navigate_menu": true,
   "number_sections": true,
   "sideBar": true,
   "threshold": 6,
   "toc_cell": false,
   "toc_section_display": "block",
   "toc_window_display": false
  }
 },
 "nbformat": 4,
 "nbformat_minor": 2
}
