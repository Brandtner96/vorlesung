{
 "cells": [
  {
   "cell_type": "markdown",
   "metadata": {
    "button": false,
    "deletable": true,
    "new_sheet": false,
    "run_control": {
     "read_only": false
    }
   },
   "source": [
    "# Vorlesung 3: Strukturen und Heuristiken der Konstruktion\n",
    "\n",
    "Reguläre Ausdrücke: http://www.regexe.de/hilfe.jsp\n",
    "                    https://pymotw.com/2/re\n",
    "\n",
    "Pandas: http://www.data-analysis-in-python.org/3_pandas.html\n",
    "      : https://bitbucket.org/hrojas/learn-pandas\n",
    "\n"
   ]
  },
  {
   "cell_type": "markdown",
   "metadata": {
    "button": false,
    "deletable": true,
    "new_sheet": false,
    "run_control": {
     "read_only": false
    }
   },
   "source": [
    "## Pandas Dataframes"
   ]
  },
  {
   "cell_type": "code",
   "execution_count": 2,
   "metadata": {
    "button": false,
    "collapsed": false,
    "deletable": true,
    "new_sheet": false,
    "run_control": {
     "read_only": false
    }
   },
   "outputs": [],
   "source": [
    "import json\n",
    "import pandas as pd\n",
    "import re\n",
    "import numpy as np\n",
    "import matplotlib.pyplot as plt"
   ]
  },
  {
   "cell_type": "code",
   "execution_count": 3,
   "metadata": {
    "button": false,
    "collapsed": false,
    "deletable": true,
    "new_sheet": false,
    "run_control": {
     "read_only": false
    }
   },
   "outputs": [
    {
     "data": {
      "text/plain": [
       "dict"
      ]
     },
     "execution_count": 3,
     "metadata": {},
     "output_type": "execute_result"
    }
   ],
   "source": [
    "# json.load erzeugt ein dictionary der JSON Daten\n",
    "with open('chapter1.json') as json_data:\n",
    "    PoleisRawData = json.load(json_data)\n",
    "    \n",
    "type(PoleisRawData)"
   ]
  },
  {
   "cell_type": "code",
   "execution_count": 4,
   "metadata": {
    "button": false,
    "collapsed": false,
    "deletable": true,
    "new_sheet": false,
    "run_control": {
     "read_only": false
    }
   },
   "outputs": [
    {
     "data": {
      "text/plain": [
       "['21. Herakleia 2 ',\n",
       " '17. Gela ',\n",
       " '35. *Longane ',\n",
       " '23. Herbita ',\n",
       " '45. (Sileraioi)',\n",
       " '18. Heloron ',\n",
       " '41. Naxos ',\n",
       " '16. Galeria ',\n",
       " '30. Katane ',\n",
       " '36. Megara ',\n",
       " '32. Kephaloidion ',\n",
       " '5. Abakainon ',\n",
       " '26 *Imachara ',\n",
       " '15. Euboia ',\n",
       " '34. Lipara ',\n",
       " '47. Syrakousai ',\n",
       " '19. Henna ',\n",
       " '49. Tyndaris ',\n",
       " '33. Leontinoi ',\n",
       " '20. Herakleia 1',\n",
       " '39. Mytistratos ',\n",
       " '29. Kasmenai ',\n",
       " '9. Akragas ',\n",
       " '38. Mylai ',\n",
       " '14. Engyon ',\n",
       " '13. Apollonia ',\n",
       " '24. Himera ',\n",
       " '12. Alontion ',\n",
       " '50. (Tyrrhenoi)',\n",
       " '7. Agyrion ',\n",
       " '48. Tauromenion ',\n",
       " '37. Morgantina ',\n",
       " '40. Nakone ',\n",
       " '28. Kamarina ',\n",
       " '6. Adranon ',\n",
       " '43. Piakos ',\n",
       " '22. Herbes(s)os ',\n",
       " '51. Zankle ',\n",
       " '44. Selinous ',\n",
       " '27. Kallipolis ',\n",
       " '10. Akrai ',\n",
       " '25. Hippana ',\n",
       " '46. (Stielanaioi)',\n",
       " '31. Kentoripa ',\n",
       " '42. Petra ',\n",
       " '11. Alaisa ',\n",
       " '8. Aitna ']"
      ]
     },
     "execution_count": 4,
     "metadata": {},
     "output_type": "execute_result"
    }
   ],
   "source": [
    "# list() erstellt eine Liste der keys\n",
    "PoleisKeyList = list(PoleisRawData.keys())\n",
    "PoleisKeyList"
   ]
  },
  {
   "cell_type": "code",
   "execution_count": 5,
   "metadata": {
    "button": false,
    "collapsed": false,
    "deletable": true,
    "new_sheet": false,
    "run_control": {
     "read_only": false
    }
   },
   "outputs": [
    {
     "data": {
      "text/plain": [
       "'17. Gela '"
      ]
     },
     "execution_count": 5,
     "metadata": {},
     "output_type": "execute_result"
    }
   ],
   "source": [
    "# Listenelemente werden mit eckigen Klammern ausgewählt. Eine Index-Zahl gibt die n-Stelle der Liste aus\n",
    "PoleisKeyList[1]"
   ]
  },
  {
   "cell_type": "code",
   "execution_count": 6,
   "metadata": {
    "collapsed": false
   },
   "outputs": [
    {
     "data": {
      "text/plain": [
       "\"(Alaisinos) Map  47.  Lat. 38.00,long.  14.15.  Size of  territory:? Type:B: .  The  toponym  is  ,  (Diod. 14.16.2,  4).  The  city-ethnic  is  (C 4m  coins,  infra; Diod. 23.4.1). According  to Diod. 14.16.2,  Alaisa  was  founded  by Archonides  of  Herbita  in  403/2,  in  order  to house  veteran mercenaries,  a  symmikton  ochlon  that  the  war  against Dionysios  had  brought  to  the  city,  as  well  as  poor  citizens  of Herbita  (no. 23)  itself;  in  the  report  of  the  foundation,  Alaisa is  called  a  polis  (       ),  presumably  in both  the  urban  and  the  political  sense.  Another  tradition held  that  it  was  a  foundation  by  Himilkon  of  Carthage (Diod. 14.16.4).In  the  Roman  period,  however,  the  Herbitan origin  of  the  city  was  considered  a  disgrace  by  its  citizens (Diod. 14.16.3),  and  this  may  explain  the  variant  tradition. The  internal  collective  use  of  the  city-ethnic  is  found  on  C 4s coins  (infra),  and  the  external  collective use  in  Diod. 23.4.1 (r 263). Alaisa  was  member  of  Timoleon's symmachia  (cf.  Diod. 16.73.2  (r 342/1)),  as  can  be  inferred  from  its  minting  of Timoleontic  symmachia  coins  (infra). Alaisa  is  identified w ith  Castel  di  Tusa  on  the  north  coast of  Sicily,  where  there  are  substantial  remains  of  an  ancient urban  site:  habitation  structures  that  reveal  an  orthogonal layout  with  an  agora;  a  circuit  wall  in  ashlar  technique;  a monumental  stoa;  and  remains  of  two  temples,  of  which one  must  have  been  of  Apollo  (infra),  all  Hellenistic (Scibona  ( 1976b)).  The  epiklesis  of  Apollo--Archagetas (infra)--is t estimony  to  the  importance  of  his  cult. Alaisa  struck  Greek-style  bronze  coins  from  the  time  of Timoleon's symmachia  (c. 340):  obv.  Apollo,  legend: ;  rev.  torch  and  stalks  of  barley,  legend: (SNG  Cop.  Sicily 132);  also  Zeus Eleutherios  type:  obv.  head  of  Zeus  Eleutherios  with  short hair,  legend:  ;  rev.  torch  between ears  of  corn,  legend:  . Other  types  depict  Apollo  (legend: ) and the  nymph  Sikelia  (legend: ).  Lower  bronze denominations  have obv.  griffin,  rev.  free  horse,  legend: (SNG  Cop.  Sicily 132\\xad34).  See  Head,  HN ²125\\xad26; Talbert  ( 1974)  188\\xad89;  Bernabò  Brea  ( 1975)  21;  Karlsson ( 1995)  150,  165  n. 3  with  refs.\""
      ]
     },
     "execution_count": 6,
     "metadata": {},
     "output_type": "execute_result"
    }
   ],
   "source": [
    "PoleisRawData['11. Alaisa '] # mit tab Ergänzung der Index keys"
   ]
  },
  {
   "cell_type": "code",
   "execution_count": 7,
   "metadata": {
    "button": false,
    "collapsed": false,
    "deletable": true,
    "new_sheet": false,
    "run_control": {
     "read_only": false
    }
   },
   "outputs": [
    {
     "name": "stdout",
     "output_type": "stream",
     "text": [
      "18. Heloron \n",
      "36. Megara \n",
      "15. Euboia \n",
      "47. Syrakousai \n",
      "33. Leontinoi \n",
      "44. Selinous \n",
      "46. (Stielanaioi)\n"
     ]
    }
   ],
   "source": [
    "for i in PoleisKeyList:\n",
    "    if \"Megara\" in PoleisRawData[i]:\n",
    "        print(i)"
   ]
  },
  {
   "cell_type": "code",
   "execution_count": 8,
   "metadata": {
    "button": false,
    "collapsed": false,
    "deletable": true,
    "new_sheet": false,
    "run_control": {
     "read_only": false
    }
   },
   "outputs": [
    {
     "data": {
      "text/plain": [
       "'Map 47.  Unlocated  (cf.  Manni  ( 1981)  225). Type:  C: .The  Sileraioi  are  known exclusively  from  their rare C 4s  Greek-style  bronze  coinage:  obv.  forepart  of man-headed  bull,  legend: (retrograde);  rev. naked  warrior,  legend: (retrograde)  (Head,  HN ² 169\\xad70;  Talbert  ( 1974)  181;  SNG  Cop.  Sicily 607).'"
      ]
     },
     "execution_count": 8,
     "metadata": {},
     "output_type": "execute_result"
    }
   ],
   "source": [
    "# Der key in eckigen Klammern gibt den Wert des Elements mit dem Key aus\n",
    "PoleisRawData[PoleisKeyList[4]]"
   ]
  },
  {
   "cell_type": "code",
   "execution_count": 9,
   "metadata": {
    "button": false,
    "collapsed": false,
    "deletable": true,
    "new_sheet": false,
    "run_control": {
     "read_only": false
    }
   },
   "outputs": [
    {
     "data": {
      "text/html": [
       "<div>\n",
       "<table border=\"1\" class=\"dataframe\">\n",
       "  <thead>\n",
       "    <tr style=\"text-align: right;\">\n",
       "      <th></th>\n",
       "      <th>Beschreibung</th>\n",
       "    </tr>\n",
       "  </thead>\n",
       "  <tbody>\n",
       "    <tr>\n",
       "      <th>10. Akrai</th>\n",
       "      <td>(Akraios) Map  47.  Lat. 37.05,long.  14.55.  ...</td>\n",
       "    </tr>\n",
       "    <tr>\n",
       "      <th>11. Alaisa</th>\n",
       "      <td>(Alaisinos) Map  47.  Lat. 38.00,long.  14.15....</td>\n",
       "    </tr>\n",
       "    <tr>\n",
       "      <th>12. Alontion</th>\n",
       "      <td>(Alontinos) Map  47.  Lat. 38.05,long.  14.40....</td>\n",
       "    </tr>\n",
       "    <tr>\n",
       "      <th>13. Apollonia</th>\n",
       "      <td>(Apolloniates) Map  47.  Lat. 38.00,long. 14.3...</td>\n",
       "    </tr>\n",
       "  </tbody>\n",
       "</table>\n",
       "</div>"
      ],
      "text/plain": [
       "                                                     Beschreibung\n",
       "10. Akrai       (Akraios) Map  47.  Lat. 37.05,long.  14.55.  ...\n",
       "11. Alaisa      (Alaisinos) Map  47.  Lat. 38.00,long.  14.15....\n",
       "12. Alontion    (Alontinos) Map  47.  Lat. 38.05,long.  14.40....\n",
       "13. Apollonia   (Apolloniates) Map  47.  Lat. 38.00,long. 14.3..."
      ]
     },
     "execution_count": 9,
     "metadata": {},
     "output_type": "execute_result"
    }
   ],
   "source": [
    "# Liest das Dictionary als Dataframe ein. Namen der Poleis werden als Index benutzt.\n",
    "dfPoleis = pd.DataFrame([PoleisRawData]).transpose()\n",
    "dfPoleis = dfPoleis.rename(columns={0: 'Beschreibung'})\n",
    "dfPoleis.head(4)"
   ]
  },
  {
   "cell_type": "markdown",
   "metadata": {},
   "source": [
    "# Konstruktion neuer Merkmale\n",
    "## Textmuster mit regulären Ausdrücken\n",
    "\n",
    "http://www.regexe.de/hilfe.jsp \n",
    "https://www.cheatography.com/davechild/cheat-sheets/regular-expressions/\n",
    "\n",
    "http://www.coli.uni-saarland.de/courses/python1-10/folien/PythonI10-07.pdf"
   ]
  },
  {
   "cell_type": "code",
   "execution_count": 10,
   "metadata": {
    "collapsed": false
   },
   "outputs": [
    {
     "data": {
      "text/plain": [
       "['Akrai ',\n",
       " 'Alaisa ',\n",
       " 'Alontion ',\n",
       " 'Apollonia ',\n",
       " 'Engyon ',\n",
       " 'Euboia ',\n",
       " 'Galeria ',\n",
       " 'Gela ',\n",
       " 'Heloron ',\n",
       " 'Henna ',\n",
       " 'Herakleia 1',\n",
       " 'Herakleia 2 ',\n",
       " 'Herbes(s)os ',\n",
       " 'Herbita ',\n",
       " 'Himera ',\n",
       " 'Hippana ',\n",
       " 'Imachara ',\n",
       " 'Kallipolis ',\n",
       " 'Kamarina ',\n",
       " 'Kasmenai ',\n",
       " 'Katane ',\n",
       " 'Kentoripa ',\n",
       " 'Kephaloidion ',\n",
       " 'Leontinoi ',\n",
       " 'Lipara ',\n",
       " '*Longane ',\n",
       " 'Megara ',\n",
       " 'Morgantina ',\n",
       " 'Mylai ',\n",
       " 'Mytistratos ',\n",
       " 'Nakone ',\n",
       " 'Naxos ',\n",
       " 'Petra ',\n",
       " 'Piakos ',\n",
       " 'Selinous ',\n",
       " '(Sileraioi)',\n",
       " '(Stielanaioi)',\n",
       " 'Syrakousai ',\n",
       " 'Tauromenion ',\n",
       " 'Tyndaris ',\n",
       " 'bakainon ',\n",
       " '(Tyrrhenoi)',\n",
       " 'Zankle ',\n",
       " 'dranon ',\n",
       " 'gyrion ',\n",
       " 'itna ',\n",
       " 'kragas ']"
      ]
     },
     "execution_count": 10,
     "metadata": {},
     "output_type": "execute_result"
    }
   ],
   "source": [
    "# Konstruktion einer Liste mit sogenannten List-Comprehensions\n",
    "ListCities = [x[4:] for x in dfPoleis.index]\n",
    "ListCities"
   ]
  },
  {
   "cell_type": "code",
   "execution_count": 11,
   "metadata": {
    "collapsed": false
   },
   "outputs": [
    {
     "data": {
      "text/html": [
       "<div>\n",
       "<table border=\"1\" class=\"dataframe\">\n",
       "  <thead>\n",
       "    <tr style=\"text-align: right;\">\n",
       "      <th></th>\n",
       "      <th>Beschreibung</th>\n",
       "      <th>city</th>\n",
       "    </tr>\n",
       "  </thead>\n",
       "  <tbody>\n",
       "    <tr>\n",
       "      <th>10. Akrai</th>\n",
       "      <td>(Akraios) Map  47.  Lat. 37.05,long.  14.55.  ...</td>\n",
       "      <td>Akrai</td>\n",
       "    </tr>\n",
       "    <tr>\n",
       "      <th>11. Alaisa</th>\n",
       "      <td>(Alaisinos) Map  47.  Lat. 38.00,long.  14.15....</td>\n",
       "      <td>Alaisa</td>\n",
       "    </tr>\n",
       "    <tr>\n",
       "      <th>12. Alontion</th>\n",
       "      <td>(Alontinos) Map  47.  Lat. 38.05,long.  14.40....</td>\n",
       "      <td>Alontion</td>\n",
       "    </tr>\n",
       "    <tr>\n",
       "      <th>13. Apollonia</th>\n",
       "      <td>(Apolloniates) Map  47.  Lat. 38.00,long. 14.3...</td>\n",
       "      <td>Apollonia</td>\n",
       "    </tr>\n",
       "    <tr>\n",
       "      <th>14. Engyon</th>\n",
       "      <td>(Engyinos)  Map  47.  Lat. 37.45,long.  14.35....</td>\n",
       "      <td>Engyon</td>\n",
       "    </tr>\n",
       "  </tbody>\n",
       "</table>\n",
       "</div>"
      ],
      "text/plain": [
       "                                                     Beschreibung        city\n",
       "10. Akrai       (Akraios) Map  47.  Lat. 37.05,long.  14.55.  ...      Akrai \n",
       "11. Alaisa      (Alaisinos) Map  47.  Lat. 38.00,long.  14.15....     Alaisa \n",
       "12. Alontion    (Alontinos) Map  47.  Lat. 38.05,long.  14.40....   Alontion \n",
       "13. Apollonia   (Apolloniates) Map  47.  Lat. 38.00,long. 14.3...  Apollonia \n",
       "14. Engyon      (Engyinos)  Map  47.  Lat. 37.45,long.  14.35....     Engyon "
      ]
     },
     "execution_count": 11,
     "metadata": {},
     "output_type": "execute_result"
    }
   ],
   "source": [
    "# Extrahiere Name der Polis aus Index\n",
    "dfPoleis['city'] = [x[4:] for x in dfPoleis.index]\n",
    "dfPoleis.head()"
   ]
  },
  {
   "cell_type": "code",
   "execution_count": 12,
   "metadata": {
    "collapsed": false
   },
   "outputs": [
    {
     "data": {
      "text/plain": [
       "\"Map 47.Unlocated  site  in  western  Sicily, in  the  region  of  Eryx.  Type:  C: .  The  toponym  is `,  (Hdt. 5.43)  and  `,  (Diod. 4.23.3). A  city-ethnic  is  not  attested. Following  the  advice  of  Antichares  of  Eleon  and  the  affir- mation  of  the  Delphic  oracle  that  he  would  succeed,  Dorieus of  Sparta,  who  was  of  royal  and  so  Heraklid  descent,  set  out to  found  a  colony  in  the  region  of  Eryx  (Hdt. 5.43),  which, according  to  Antichares,  belonged  to  the  descendants  of Herakles  (Hdt. 5.43;  cf.  Paus. 3.16.5).  However,  Dorieus' expeditionary  force  was  severely  defeated  by  an  alliance  of Phoenicians  and  Egestans  (Hdt. 5.46.1;  cf.  Diod. 4.23.3  and Paus. 3.16.5).  In  the  aftermath  of  the  disaster  Euryleon,  the sole  survivor  of  the  synktistai,  and  the  remnants  of  the  expe- dition  captured  Herakleia  Minoa  (no. 20)  and  ousted  the tyrant  Peithagoras  of  Selinous  (Hdt. 4.46.2).  Referring  to the  death  of  Dorieus  as  a  thing  of  the  past,  Herodotos  dates the  defeat  of  the  expedition  prior  to c. 481/80  ( 7.158),  or  to 491/90  as  argued  by  some  scholars  (Merante  ( 1970a));  the beginning  of  the  expedition  is  connected  with  the  destruc- tion  of  Sybaris  (no. 70)  by  Kroton  (no. 56)  in  c. 510  (Hdt. 5.45; cf.  Merante  ( 1970a),  ( 1970b)  131\\xad33,  who  argues  for  an  earli- er  chronology).  According  to  Diod. 4.23.3,  Dorieus  did  in fact  succeed  in  taking  back  the  land  of  the  Herakleidai, and  founded  a  polis  named  Herakleia  ( `) which prospered for a period before being razed  to  the  ground  by  the  Carthaginians.  Thus,  it  cannot  be ruled  out  that  a  Spartan  settlement  did  exist  for  a  period  and was  then  destroyed  by  the  Phoenicians  (cf.  Bérard  ( 1957) 260\\xad66;  Stauffenberg  ( 1960)  esp. 189\\xad98;  De  Vido  ( 1989) sikelia  197 with  further  refs.;  Asheri  ( 1988)  for  an  analysis  of  the  rela- tionship  between  Greeks,  Phoenicians  and  Elymians).\""
      ]
     },
     "execution_count": 12,
     "metadata": {},
     "output_type": "execute_result"
    }
   ],
   "source": [
    "PoleisRawData[\"21. Herakleia 2 \"]"
   ]
  },
  {
   "cell_type": "code",
   "execution_count": 13,
   "metadata": {
    "collapsed": false
   },
   "outputs": [
    {
     "data": {
      "text/plain": [
       "[['10'],\n",
       " ['11'],\n",
       " ['12'],\n",
       " ['13'],\n",
       " ['14'],\n",
       " ['15'],\n",
       " ['16'],\n",
       " ['17'],\n",
       " ['18'],\n",
       " ['19'],\n",
       " ['20', '1'],\n",
       " ['21', '2'],\n",
       " ['22'],\n",
       " ['23'],\n",
       " ['24'],\n",
       " ['25'],\n",
       " ['26'],\n",
       " ['27'],\n",
       " ['28'],\n",
       " ['29'],\n",
       " ['30'],\n",
       " ['31'],\n",
       " ['32'],\n",
       " ['33'],\n",
       " ['34'],\n",
       " ['35'],\n",
       " ['36'],\n",
       " ['37'],\n",
       " ['38'],\n",
       " ['39'],\n",
       " ['40'],\n",
       " ['41'],\n",
       " ['42'],\n",
       " ['43'],\n",
       " ['44'],\n",
       " ['45'],\n",
       " ['46'],\n",
       " ['47'],\n",
       " ['48'],\n",
       " ['49'],\n",
       " ['5'],\n",
       " ['50'],\n",
       " ['51'],\n",
       " ['6'],\n",
       " ['7'],\n",
       " ['8'],\n",
       " ['9']]"
      ]
     },
     "execution_count": 13,
     "metadata": {},
     "output_type": "execute_result"
    }
   ],
   "source": [
    "[re.findall(\"\\d{1,2}\",x) for x in dfPoleis.index]"
   ]
  },
  {
   "cell_type": "code",
   "execution_count": 14,
   "metadata": {
    "collapsed": false
   },
   "outputs": [
    {
     "data": {
      "text/html": [
       "<div>\n",
       "<table border=\"1\" class=\"dataframe\">\n",
       "  <thead>\n",
       "    <tr style=\"text-align: right;\">\n",
       "      <th></th>\n",
       "      <th>Beschreibung</th>\n",
       "      <th>city</th>\n",
       "      <th>city_index</th>\n",
       "    </tr>\n",
       "  </thead>\n",
       "  <tbody>\n",
       "    <tr>\n",
       "      <th>10. Akrai</th>\n",
       "      <td>(Akraios) Map  47.  Lat. 37.05,long.  14.55.  ...</td>\n",
       "      <td>Akrai</td>\n",
       "      <td>10</td>\n",
       "    </tr>\n",
       "    <tr>\n",
       "      <th>11. Alaisa</th>\n",
       "      <td>(Alaisinos) Map  47.  Lat. 38.00,long.  14.15....</td>\n",
       "      <td>Alaisa</td>\n",
       "      <td>11</td>\n",
       "    </tr>\n",
       "    <tr>\n",
       "      <th>12. Alontion</th>\n",
       "      <td>(Alontinos) Map  47.  Lat. 38.05,long.  14.40....</td>\n",
       "      <td>Alontion</td>\n",
       "      <td>12</td>\n",
       "    </tr>\n",
       "    <tr>\n",
       "      <th>13. Apollonia</th>\n",
       "      <td>(Apolloniates) Map  47.  Lat. 38.00,long. 14.3...</td>\n",
       "      <td>Apollonia</td>\n",
       "      <td>13</td>\n",
       "    </tr>\n",
       "    <tr>\n",
       "      <th>14. Engyon</th>\n",
       "      <td>(Engyinos)  Map  47.  Lat. 37.45,long.  14.35....</td>\n",
       "      <td>Engyon</td>\n",
       "      <td>14</td>\n",
       "    </tr>\n",
       "  </tbody>\n",
       "</table>\n",
       "</div>"
      ],
      "text/plain": [
       "                                                     Beschreibung        city  \\\n",
       "10. Akrai       (Akraios) Map  47.  Lat. 37.05,long.  14.55.  ...      Akrai    \n",
       "11. Alaisa      (Alaisinos) Map  47.  Lat. 38.00,long.  14.15....     Alaisa    \n",
       "12. Alontion    (Alontinos) Map  47.  Lat. 38.05,long.  14.40....   Alontion    \n",
       "13. Apollonia   (Apolloniates) Map  47.  Lat. 38.00,long. 14.3...  Apollonia    \n",
       "14. Engyon      (Engyinos)  Map  47.  Lat. 37.45,long.  14.35....     Engyon    \n",
       "\n",
       "                city_index  \n",
       "10. Akrai               10  \n",
       "11. Alaisa              11  \n",
       "12. Alontion            12  \n",
       "13. Apollonia           13  \n",
       "14. Engyon              14  "
      ]
     },
     "execution_count": 14,
     "metadata": {},
     "output_type": "execute_result"
    }
   ],
   "source": [
    "# Extrahiere Nummer des Polis Eintrags\n",
    "dfPoleis['city_index'] = [int(re.findall('\\d{1,2}', x)[0]) for x in dfPoleis.index]\n",
    "dfPoleis.head()"
   ]
  },
  {
   "cell_type": "code",
   "execution_count": 15,
   "metadata": {
    "collapsed": false
   },
   "outputs": [
    {
     "data": {
      "text/html": [
       "<div>\n",
       "<table border=\"1\" class=\"dataframe\">\n",
       "  <thead>\n",
       "    <tr style=\"text-align: right;\">\n",
       "      <th></th>\n",
       "      <th>Beschreibung</th>\n",
       "      <th>city</th>\n",
       "      <th>city_index</th>\n",
       "    </tr>\n",
       "  </thead>\n",
       "  <tbody>\n",
       "    <tr>\n",
       "      <th>5. Abakainon</th>\n",
       "      <td>(Abakaininos) Map  47.  Lat. 38.05,long. 15.05...</td>\n",
       "      <td>bakainon</td>\n",
       "      <td>5</td>\n",
       "    </tr>\n",
       "    <tr>\n",
       "      <th>6. Adranon</th>\n",
       "      <td>(Adranites) Map  47.  Lat. 37.40,long.  14.50....</td>\n",
       "      <td>dranon</td>\n",
       "      <td>6</td>\n",
       "    </tr>\n",
       "    <tr>\n",
       "      <th>7. Agyrion</th>\n",
       "      <td>(Agyrinaios) Map  47.  Lat. 37.40,long.  14.30...</td>\n",
       "      <td>gyrion</td>\n",
       "      <td>7</td>\n",
       "    </tr>\n",
       "    <tr>\n",
       "      <th>8. Aitna</th>\n",
       "      <td>(Aitnaios) Map  47.Location  of  Aitna  I  as ...</td>\n",
       "      <td>itna</td>\n",
       "      <td>8</td>\n",
       "    </tr>\n",
       "  </tbody>\n",
       "</table>\n",
       "</div>"
      ],
      "text/plain": [
       "                                                    Beschreibung       city  \\\n",
       "5. Abakainon   (Abakaininos) Map  47.  Lat. 38.05,long. 15.05...  bakainon    \n",
       "6. Adranon     (Adranites) Map  47.  Lat. 37.40,long.  14.50....    dranon    \n",
       "7. Agyrion     (Agyrinaios) Map  47.  Lat. 37.40,long.  14.30...    gyrion    \n",
       "8. Aitna       (Aitnaios) Map  47.Location  of  Aitna  I  as ...      itna    \n",
       "\n",
       "               city_index  \n",
       "5. Abakainon            5  \n",
       "6. Adranon              6  \n",
       "7. Agyrion              7  \n",
       "8. Aitna                8  "
      ]
     },
     "execution_count": 15,
     "metadata": {},
     "output_type": "execute_result"
    }
   ],
   "source": [
    "# Sortiere die Zeilen nach der Spalte \n",
    "dfPoleis = dfPoleis.sort_values(by='city_index')\n",
    "dfPoleis.head(4)"
   ]
  },
  {
   "cell_type": "markdown",
   "metadata": {
    "heading_collapsed": true
   },
   "source": [
    "## Textmustersuche in der Beschreibung einer Polis"
   ]
  },
  {
   "cell_type": "markdown",
   "metadata": {
    "hidden": true
   },
   "source": [
    "### Neue Funktionen"
   ]
  },
  {
   "cell_type": "code",
   "execution_count": 16,
   "metadata": {
    "collapsed": false
   },
   "outputs": [
    {
     "data": {
      "text/plain": [
       "5. Abakainon     bakainon \n",
       "6. Adranon         dranon \n",
       "7. Agyrion         gyrion \n",
       "8. Aitna             itna \n",
       "9. Akragas         kragas \n",
       "Name: city, dtype: object"
      ]
     },
     "execution_count": 16,
     "metadata": {},
     "output_type": "execute_result"
    }
   ],
   "source": [
    "nl=dfPoleis[\"city\"]\n",
    "nl.head()"
   ]
  },
  {
   "cell_type": "code",
   "execution_count": 17,
   "metadata": {
    "collapsed": false
   },
   "outputs": [
    {
     "data": {
      "text/plain": [
       "['bakainon ', 'dranon ', 'gyrion ']"
      ]
     },
     "execution_count": 17,
     "metadata": {},
     "output_type": "execute_result"
    }
   ],
   "source": [
    "lcity=list(dfPoleis[\"city\"])\n",
    "lcity[0:3]"
   ]
  },
  {
   "cell_type": "code",
   "execution_count": 18,
   "metadata": {
    "collapsed": false
   },
   "outputs": [
    {
     "name": "stdout",
     "output_type": "stream",
     "text": [
      "dranon \n",
      "Kephaloidion \n",
      "Tyndaris \n"
     ]
    }
   ],
   "source": [
    "for i in lcity:\n",
    "    if re.search('dr*',i):\n",
    "        print(i)"
   ]
  },
  {
   "cell_type": "code",
   "execution_count": 19,
   "metadata": {
    "collapsed": false
   },
   "outputs": [
    {
     "data": {
      "text/html": [
       "<div>\n",
       "<table border=\"1\" class=\"dataframe\">\n",
       "  <thead>\n",
       "    <tr style=\"text-align: right;\">\n",
       "      <th></th>\n",
       "      <th>Beschreibung</th>\n",
       "      <th>city</th>\n",
       "      <th>city_index</th>\n",
       "    </tr>\n",
       "  </thead>\n",
       "  <tbody>\n",
       "    <tr>\n",
       "      <th>9. Akragas</th>\n",
       "      <td>(Akragantinos) Map  47.  Lat. 37.20,long.  13....</td>\n",
       "      <td>kragas</td>\n",
       "      <td>9</td>\n",
       "    </tr>\n",
       "  </tbody>\n",
       "</table>\n",
       "</div>"
      ],
      "text/plain": [
       "                                                  Beschreibung     city  \\\n",
       "9. Akragas   (Akragantinos) Map  47.  Lat. 37.20,long.  13....  kragas    \n",
       "\n",
       "             city_index  \n",
       "9. Akragas            9  "
      ]
     },
     "execution_count": 19,
     "metadata": {},
     "output_type": "execute_result"
    }
   ],
   "source": [
    "dfPoleis[dfPoleis[\"city\"].str.contains(\"ag\")]"
   ]
  },
  {
   "cell_type": "code",
   "execution_count": 20,
   "metadata": {
    "collapsed": true
   },
   "outputs": [],
   "source": [
    "dfNeu=dfPoleis[dfPoleis[\"city\"].str.contains(\"ag\")]"
   ]
  },
  {
   "cell_type": "markdown",
   "metadata": {
    "hidden": true
   },
   "source": [
    "### Geographische Koordinaten"
   ]
  },
  {
   "cell_type": "code",
   "execution_count": 21,
   "metadata": {
    "collapsed": false,
    "hidden": true
   },
   "outputs": [],
   "source": [
    "def ListePattern(string,pattern):\n",
    "    x = re.findall(pattern,string)\n",
    "    if x:\n",
    "        return(x[0][-5:])"
   ]
  },
  {
   "cell_type": "code",
   "execution_count": 22,
   "metadata": {
    "collapsed": false,
    "hidden": true
   },
   "outputs": [
    {
     "data": {
      "text/plain": [
       "'38.05'"
      ]
     },
     "execution_count": 22,
     "metadata": {},
     "output_type": "execute_result"
    }
   ],
   "source": [
    "ListePattern(dfPoleis[\"Beschreibung\"][0],\"Lat\\.\\s?\\d+\\.\\d+\")"
   ]
  },
  {
   "cell_type": "code",
   "execution_count": 23,
   "metadata": {
    "collapsed": false,
    "hidden": true
   },
   "outputs": [
    {
     "data": {
      "text/plain": [
       "'15.05'"
      ]
     },
     "execution_count": 23,
     "metadata": {},
     "output_type": "execute_result"
    }
   ],
   "source": [
    "# gleiches auch für long.\n",
    "listLong=ListePattern(dfPoleis['Beschreibung'][0],\"long\\.\\s*\\d+\\.\\d+\")\n",
    "listLong"
   ]
  },
  {
   "cell_type": "code",
   "execution_count": 24,
   "metadata": {
    "collapsed": false
   },
   "outputs": [
    {
     "data": {
      "text/plain": [
       "5. Abakainon         38.05\n",
       "6. Adranon           37.40\n",
       "7. Agyrion           37.40\n",
       "8. Aitna              None\n",
       "9. Akragas           37.20\n",
       "10. Akrai            37.05\n",
       "11. Alaisa           38.00\n",
       "12. Alontion         38.05\n",
       "13. Apollonia        38.00\n",
       "14. Engyon           37.45\n",
       "15. Euboia            None\n",
       "16. Galeria           None\n",
       "17. Gela             37.05\n",
       "18. Heloron          36.50\n",
       "19. Henna            37.35\n",
       "20. Herakleia 1      37.25\n",
       "21. Herakleia 2       None\n",
       "22. Herbes(s)os       None\n",
       "23. Herbita           None\n",
       "24. Himera           37.55\n",
       "25. Hippana          37.40\n",
       "26 *Imachara          None\n",
       "27. Kallipolis        None\n",
       "28. Kamarina         36.50\n",
       "29. Kasmenai         37.05\n",
       "30. Katane           37.30\n",
       "31. Kentoripa        37.35\n",
       "32. Kephaloidion     38.00\n",
       "33. Leontinoi        37.15\n",
       "34. Lipara           38.30\n",
       "35. *Longane         38.05\n",
       "36. Megara           37.10\n",
       "37. Morgantina       37.25\n",
       "38. Mylai            38.15\n",
       "39. Mytistratos      37.35\n",
       "40. Nakone            None\n",
       "41. Naxos            37.50\n",
       "42. Petra             None\n",
       "43. Piakos            None\n",
       "44. Selinous         37.35\n",
       "45. (Sileraioi)       None\n",
       "46. (Stielanaioi)    37.10\n",
       "47. Syrakousai       37.05\n",
       "48. Tauromenion      37.50\n",
       "49. Tyndaris         38.10\n",
       "50. (Tyrrhenoi)       None\n",
       "51. Zankle            None\n",
       "Name: Beschreibung, dtype: object"
      ]
     },
     "execution_count": 24,
     "metadata": {},
     "output_type": "execute_result"
    }
   ],
   "source": [
    "dfPoleis[\"Beschreibung\"].apply(lambda row: ListePattern(row,\"Lat\\.\\s?\\d+\\.\\d+\"))"
   ]
  },
  {
   "cell_type": "code",
   "execution_count": 25,
   "metadata": {
    "collapsed": false,
    "hidden": true
   },
   "outputs": [],
   "source": [
    "dfPoleis['Latitude'] = dfPoleis['Beschreibung'].apply(lambda raw: ListePattern(raw,\"Lat\\.\\s?\\d+\\.\\d+\"))\n",
    "\n",
    "dfPoleis['Longitude'] = dfPoleis['Beschreibung'].apply(lambda raw: ListePattern(raw,\"long\\.\\s*\\d+\\.\\d+\"))"
   ]
  },
  {
   "cell_type": "code",
   "execution_count": 26,
   "metadata": {
    "collapsed": false,
    "hidden": true
   },
   "outputs": [
    {
     "data": {
      "text/html": [
       "<div>\n",
       "<table border=\"1\" class=\"dataframe\">\n",
       "  <thead>\n",
       "    <tr style=\"text-align: right;\">\n",
       "      <th></th>\n",
       "      <th>Beschreibung</th>\n",
       "      <th>city</th>\n",
       "      <th>city_index</th>\n",
       "      <th>Latitude</th>\n",
       "      <th>Longitude</th>\n",
       "    </tr>\n",
       "  </thead>\n",
       "  <tbody>\n",
       "    <tr>\n",
       "      <th>5. Abakainon</th>\n",
       "      <td>(Abakaininos) Map  47.  Lat. 38.05,long. 15.05...</td>\n",
       "      <td>bakainon</td>\n",
       "      <td>5</td>\n",
       "      <td>38.05</td>\n",
       "      <td>15.05</td>\n",
       "    </tr>\n",
       "    <tr>\n",
       "      <th>6. Adranon</th>\n",
       "      <td>(Adranites) Map  47.  Lat. 37.40,long.  14.50....</td>\n",
       "      <td>dranon</td>\n",
       "      <td>6</td>\n",
       "      <td>37.40</td>\n",
       "      <td>14.50</td>\n",
       "    </tr>\n",
       "    <tr>\n",
       "      <th>7. Agyrion</th>\n",
       "      <td>(Agyrinaios) Map  47.  Lat. 37.40,long.  14.30...</td>\n",
       "      <td>gyrion</td>\n",
       "      <td>7</td>\n",
       "      <td>37.40</td>\n",
       "      <td>14.30</td>\n",
       "    </tr>\n",
       "    <tr>\n",
       "      <th>8. Aitna</th>\n",
       "      <td>(Aitnaios) Map  47.Location  of  Aitna  I  as ...</td>\n",
       "      <td>itna</td>\n",
       "      <td>8</td>\n",
       "      <td>None</td>\n",
       "      <td>None</td>\n",
       "    </tr>\n",
       "    <tr>\n",
       "      <th>9. Akragas</th>\n",
       "      <td>(Akragantinos) Map  47.  Lat. 37.20,long.  13....</td>\n",
       "      <td>kragas</td>\n",
       "      <td>9</td>\n",
       "      <td>37.20</td>\n",
       "      <td>13.35</td>\n",
       "    </tr>\n",
       "    <tr>\n",
       "      <th>10. Akrai</th>\n",
       "      <td>(Akraios) Map  47.  Lat. 37.05,long.  14.55.  ...</td>\n",
       "      <td>Akrai</td>\n",
       "      <td>10</td>\n",
       "      <td>37.05</td>\n",
       "      <td>14.55</td>\n",
       "    </tr>\n",
       "    <tr>\n",
       "      <th>11. Alaisa</th>\n",
       "      <td>(Alaisinos) Map  47.  Lat. 38.00,long.  14.15....</td>\n",
       "      <td>Alaisa</td>\n",
       "      <td>11</td>\n",
       "      <td>38.00</td>\n",
       "      <td>14.15</td>\n",
       "    </tr>\n",
       "    <tr>\n",
       "      <th>12. Alontion</th>\n",
       "      <td>(Alontinos) Map  47.  Lat. 38.05,long.  14.40....</td>\n",
       "      <td>Alontion</td>\n",
       "      <td>12</td>\n",
       "      <td>38.05</td>\n",
       "      <td>14.40</td>\n",
       "    </tr>\n",
       "    <tr>\n",
       "      <th>13. Apollonia</th>\n",
       "      <td>(Apolloniates) Map  47.  Lat. 38.00,long. 14.3...</td>\n",
       "      <td>Apollonia</td>\n",
       "      <td>13</td>\n",
       "      <td>38.00</td>\n",
       "      <td>14.35</td>\n",
       "    </tr>\n",
       "    <tr>\n",
       "      <th>14. Engyon</th>\n",
       "      <td>(Engyinos)  Map  47.  Lat. 37.45,long.  14.35....</td>\n",
       "      <td>Engyon</td>\n",
       "      <td>14</td>\n",
       "      <td>37.45</td>\n",
       "      <td>14.35</td>\n",
       "    </tr>\n",
       "    <tr>\n",
       "      <th>15. Euboia</th>\n",
       "      <td>(Euboeus)  Map  47.  Unlocated.  Type:  C: .Th...</td>\n",
       "      <td>Euboia</td>\n",
       "      <td>15</td>\n",
       "      <td>None</td>\n",
       "      <td>None</td>\n",
       "    </tr>\n",
       "    <tr>\n",
       "      <th>16. Galeria</th>\n",
       "      <td>(Galarinos) Map  47.Unlocated  (Manni  ( 1981)...</td>\n",
       "      <td>Galeria</td>\n",
       "      <td>16</td>\n",
       "      <td>None</td>\n",
       "      <td>None</td>\n",
       "    </tr>\n",
       "    <tr>\n",
       "      <th>17. Gela</th>\n",
       "      <td>(Geloios,  Geloaios) Map  47.  Lat. 37.05,long...</td>\n",
       "      <td>Gela</td>\n",
       "      <td>17</td>\n",
       "      <td>37.05</td>\n",
       "      <td>14.15</td>\n",
       "    </tr>\n",
       "    <tr>\n",
       "      <th>18. Heloron</th>\n",
       "      <td>(Ailoros) Map  47.  Lat. 36.50,long.  15.05.  ...</td>\n",
       "      <td>Heloron</td>\n",
       "      <td>18</td>\n",
       "      <td>36.50</td>\n",
       "      <td>15.05</td>\n",
       "    </tr>\n",
       "    <tr>\n",
       "      <th>19. Henna</th>\n",
       "      <td>(Hennaios) Map  47.  Lat. 37.35,long.  14.15. ...</td>\n",
       "      <td>Henna</td>\n",
       "      <td>19</td>\n",
       "      <td>37.35</td>\n",
       "      <td>14.15</td>\n",
       "    </tr>\n",
       "    <tr>\n",
       "      <th>20. Herakleia 1</th>\n",
       "      <td>(Herakleotes) Map  47.  Lat. 37.25,long. 13.15...</td>\n",
       "      <td>Herakleia 1</td>\n",
       "      <td>20</td>\n",
       "      <td>37.25</td>\n",
       "      <td>13.15</td>\n",
       "    </tr>\n",
       "    <tr>\n",
       "      <th>21. Herakleia 2</th>\n",
       "      <td>Map 47.Unlocated  site  in  western  Sicily, i...</td>\n",
       "      <td>Herakleia 2</td>\n",
       "      <td>21</td>\n",
       "      <td>None</td>\n",
       "      <td>None</td>\n",
       "    </tr>\n",
       "    <tr>\n",
       "      <th>22. Herbes(s)os</th>\n",
       "      <td>(Herbessinos) Map  47.  Unlocated,  but presum...</td>\n",
       "      <td>Herbes(s)os</td>\n",
       "      <td>22</td>\n",
       "      <td>None</td>\n",
       "      <td>None</td>\n",
       "    </tr>\n",
       "    <tr>\n",
       "      <th>23. Herbita</th>\n",
       "      <td>(Herbitaios) Map  47.Unlocated  (cf.  C.  Boeh...</td>\n",
       "      <td>Herbita</td>\n",
       "      <td>23</td>\n",
       "      <td>None</td>\n",
       "      <td>None</td>\n",
       "    </tr>\n",
       "    <tr>\n",
       "      <th>24. Himera</th>\n",
       "      <td>(Himeraios) Map  47.  Lat. 37.55,long.  13.50....</td>\n",
       "      <td>Himera</td>\n",
       "      <td>24</td>\n",
       "      <td>37.55</td>\n",
       "      <td>13.50</td>\n",
       "    </tr>\n",
       "    <tr>\n",
       "      <th>25. Hippana</th>\n",
       "      <td>(Hipanatas)  Map  47.  Lat. 37.40,long.  13.25...</td>\n",
       "      <td>Hippana</td>\n",
       "      <td>25</td>\n",
       "      <td>37.40</td>\n",
       "      <td>13.25</td>\n",
       "    </tr>\n",
       "    <tr>\n",
       "      <th>26 *Imachara</th>\n",
       "      <td>(Imacharaios) Map  47.  Unlocated.  Barr. tent...</td>\n",
       "      <td>Imachara</td>\n",
       "      <td>26</td>\n",
       "      <td>None</td>\n",
       "      <td>14.20</td>\n",
       "    </tr>\n",
       "    <tr>\n",
       "      <th>27. Kallipolis</th>\n",
       "      <td>(Kallipolites)  Map  47.  Unlocated.  Type:  A...</td>\n",
       "      <td>Kallipolis</td>\n",
       "      <td>27</td>\n",
       "      <td>None</td>\n",
       "      <td>None</td>\n",
       "    </tr>\n",
       "    <tr>\n",
       "      <th>28. Kamarina</th>\n",
       "      <td>(Kamarinaios) Map  47.  Lat. 36.50,long. 14.25...</td>\n",
       "      <td>Kamarina</td>\n",
       "      <td>28</td>\n",
       "      <td>36.50</td>\n",
       "      <td>14.25</td>\n",
       "    </tr>\n",
       "    <tr>\n",
       "      <th>29. Kasmenai</th>\n",
       "      <td>(Kasmenaios) Map  47.  Lat. 37.05,long. 14.50....</td>\n",
       "      <td>Kasmenai</td>\n",
       "      <td>29</td>\n",
       "      <td>37.05</td>\n",
       "      <td>14.50</td>\n",
       "    </tr>\n",
       "    <tr>\n",
       "      <th>30. Katane</th>\n",
       "      <td>(Katanaios) Map  47.  Lat. 37.30,long.  15.05....</td>\n",
       "      <td>Katane</td>\n",
       "      <td>30</td>\n",
       "      <td>37.30</td>\n",
       "      <td>15.05</td>\n",
       "    </tr>\n",
       "    <tr>\n",
       "      <th>31. Kentoripa</th>\n",
       "      <td>(Kentoripinos) Map  47.  Lat. 37.35,long. 14.4...</td>\n",
       "      <td>Kentoripa</td>\n",
       "      <td>31</td>\n",
       "      <td>37.35</td>\n",
       "      <td>14.45</td>\n",
       "    </tr>\n",
       "    <tr>\n",
       "      <th>32. Kephaloidion</th>\n",
       "      <td>(Kephaloiditas) Map  47.  Lat. 38.00, long. 14...</td>\n",
       "      <td>Kephaloidion</td>\n",
       "      <td>32</td>\n",
       "      <td>38.00</td>\n",
       "      <td>14.00</td>\n",
       "    </tr>\n",
       "    <tr>\n",
       "      <th>33. Leontinoi</th>\n",
       "      <td>(Leontinos) Map  47.  Lat. 37.15,long.  15.00....</td>\n",
       "      <td>Leontinoi</td>\n",
       "      <td>33</td>\n",
       "      <td>37.15</td>\n",
       "      <td>15.00</td>\n",
       "    </tr>\n",
       "    <tr>\n",
       "      <th>34. Lipara</th>\n",
       "      <td>(Liparaios) Map  47.  Lat. 38.30  long. 14.55....</td>\n",
       "      <td>Lipara</td>\n",
       "      <td>34</td>\n",
       "      <td>38.30</td>\n",
       "      <td>14.55</td>\n",
       "    </tr>\n",
       "    <tr>\n",
       "      <th>35. *Longane</th>\n",
       "      <td>(Longenaios) Map  47.  Lat. 38.05,long. 15.10....</td>\n",
       "      <td>*Longane</td>\n",
       "      <td>35</td>\n",
       "      <td>38.05</td>\n",
       "      <td>15.10</td>\n",
       "    </tr>\n",
       "    <tr>\n",
       "      <th>36. Megara</th>\n",
       "      <td>(Megareus) Map  47.  Lat. 37.10,long.  15.10. ...</td>\n",
       "      <td>Megara</td>\n",
       "      <td>36</td>\n",
       "      <td>37.10</td>\n",
       "      <td>15.10</td>\n",
       "    </tr>\n",
       "    <tr>\n",
       "      <th>37. Morgantina</th>\n",
       "      <td>(Morgantinos) Map  47.  Lat. 37.25,long. 14.30...</td>\n",
       "      <td>Morgantina</td>\n",
       "      <td>37</td>\n",
       "      <td>37.25</td>\n",
       "      <td>14.30</td>\n",
       "    </tr>\n",
       "    <tr>\n",
       "      <th>38. Mylai</th>\n",
       "      <td>(Mylaios) Map  47.  Lat. 38.15,  long  15.15. ...</td>\n",
       "      <td>Mylai</td>\n",
       "      <td>38</td>\n",
       "      <td>38.15</td>\n",
       "      <td>None</td>\n",
       "    </tr>\n",
       "    <tr>\n",
       "      <th>39. Mytistratos</th>\n",
       "      <td>(Mytiseratinos) Map  47.  Lat. 37.35,long. 14....</td>\n",
       "      <td>Mytistratos</td>\n",
       "      <td>39</td>\n",
       "      <td>37.35</td>\n",
       "      <td>14.00</td>\n",
       "    </tr>\n",
       "    <tr>\n",
       "      <th>40. Nakone</th>\n",
       "      <td>(Nakonaios)  Map  47.  Unlocated  (Tegon ( 199...</td>\n",
       "      <td>Nakone</td>\n",
       "      <td>40</td>\n",
       "      <td>None</td>\n",
       "      <td>None</td>\n",
       "    </tr>\n",
       "    <tr>\n",
       "      <th>41. Naxos</th>\n",
       "      <td>(Naxios) Map  47.  Lat. 37.50,long.  15.15.  S...</td>\n",
       "      <td>Naxos</td>\n",
       "      <td>41</td>\n",
       "      <td>37.50</td>\n",
       "      <td>15.15</td>\n",
       "    </tr>\n",
       "    <tr>\n",
       "      <th>42. Petra</th>\n",
       "      <td>(Petrinos) Map  47.  Unlocated  (cf.  Bejor  (...</td>\n",
       "      <td>Petra</td>\n",
       "      <td>42</td>\n",
       "      <td>None</td>\n",
       "      <td>None</td>\n",
       "    </tr>\n",
       "    <tr>\n",
       "      <th>43. Piakos</th>\n",
       "      <td>(Piakinos) Map  47.  Unlocated,  but  possibly...</td>\n",
       "      <td>Piakos</td>\n",
       "      <td>43</td>\n",
       "      <td>None</td>\n",
       "      <td>None</td>\n",
       "    </tr>\n",
       "    <tr>\n",
       "      <th>44. Selinous</th>\n",
       "      <td>(Selinousios) Map  47.  Lat. 37.35,long.  12.5...</td>\n",
       "      <td>Selinous</td>\n",
       "      <td>44</td>\n",
       "      <td>37.35</td>\n",
       "      <td>12.50</td>\n",
       "    </tr>\n",
       "    <tr>\n",
       "      <th>45. (Sileraioi)</th>\n",
       "      <td>Map 47.  Unlocated  (cf.  Manni  ( 1981)  225)...</td>\n",
       "      <td>(Sileraioi)</td>\n",
       "      <td>45</td>\n",
       "      <td>None</td>\n",
       "      <td>None</td>\n",
       "    </tr>\n",
       "    <tr>\n",
       "      <th>46. (Stielanaioi)</th>\n",
       "      <td>Map 47.  Lat. 37.10,long.  14.55:  the  loca- ...</td>\n",
       "      <td>(Stielanaioi)</td>\n",
       "      <td>46</td>\n",
       "      <td>37.10</td>\n",
       "      <td>14.55</td>\n",
       "    </tr>\n",
       "    <tr>\n",
       "      <th>47. Syrakousai</th>\n",
       "      <td>(Syrakosios) Map  47.  Lat. 37.05,long. 15.15....</td>\n",
       "      <td>Syrakousai</td>\n",
       "      <td>47</td>\n",
       "      <td>37.05</td>\n",
       "      <td>15.15</td>\n",
       "    </tr>\n",
       "    <tr>\n",
       "      <th>48. Tauromenion</th>\n",
       "      <td>(Tauromenitas) Map  47.  Lat. 37.50, long. 15....</td>\n",
       "      <td>Tauromenion</td>\n",
       "      <td>48</td>\n",
       "      <td>37.50</td>\n",
       "      <td>15.15</td>\n",
       "    </tr>\n",
       "    <tr>\n",
       "      <th>49. Tyndaris</th>\n",
       "      <td>(Tyndarites) Map  47.  Lat. 38.10,long.  15.05...</td>\n",
       "      <td>Tyndaris</td>\n",
       "      <td>49</td>\n",
       "      <td>38.10</td>\n",
       "      <td>15.05</td>\n",
       "    </tr>\n",
       "    <tr>\n",
       "      <th>50. (Tyrrhenoi)</th>\n",
       "      <td>Map 47.  Unlocated.  Type:  C: .The  Tyr- rhen...</td>\n",
       "      <td>(Tyrrhenoi)</td>\n",
       "      <td>50</td>\n",
       "      <td>None</td>\n",
       "      <td>None</td>\n",
       "    </tr>\n",
       "    <tr>\n",
       "      <th>51. Zankle</th>\n",
       "      <td>(Zanklaios)/Messana</td>\n",
       "      <td>Zankle</td>\n",
       "      <td>51</td>\n",
       "      <td>None</td>\n",
       "      <td>None</td>\n",
       "    </tr>\n",
       "  </tbody>\n",
       "</table>\n",
       "</div>"
      ],
      "text/plain": [
       "                                                        Beschreibung  \\\n",
       "5. Abakainon       (Abakaininos) Map  47.  Lat. 38.05,long. 15.05...   \n",
       "6. Adranon         (Adranites) Map  47.  Lat. 37.40,long.  14.50....   \n",
       "7. Agyrion         (Agyrinaios) Map  47.  Lat. 37.40,long.  14.30...   \n",
       "8. Aitna           (Aitnaios) Map  47.Location  of  Aitna  I  as ...   \n",
       "9. Akragas         (Akragantinos) Map  47.  Lat. 37.20,long.  13....   \n",
       "10. Akrai          (Akraios) Map  47.  Lat. 37.05,long.  14.55.  ...   \n",
       "11. Alaisa         (Alaisinos) Map  47.  Lat. 38.00,long.  14.15....   \n",
       "12. Alontion       (Alontinos) Map  47.  Lat. 38.05,long.  14.40....   \n",
       "13. Apollonia      (Apolloniates) Map  47.  Lat. 38.00,long. 14.3...   \n",
       "14. Engyon         (Engyinos)  Map  47.  Lat. 37.45,long.  14.35....   \n",
       "15. Euboia         (Euboeus)  Map  47.  Unlocated.  Type:  C: .Th...   \n",
       "16. Galeria        (Galarinos) Map  47.Unlocated  (Manni  ( 1981)...   \n",
       "17. Gela           (Geloios,  Geloaios) Map  47.  Lat. 37.05,long...   \n",
       "18. Heloron        (Ailoros) Map  47.  Lat. 36.50,long.  15.05.  ...   \n",
       "19. Henna          (Hennaios) Map  47.  Lat. 37.35,long.  14.15. ...   \n",
       "20. Herakleia 1    (Herakleotes) Map  47.  Lat. 37.25,long. 13.15...   \n",
       "21. Herakleia 2    Map 47.Unlocated  site  in  western  Sicily, i...   \n",
       "22. Herbes(s)os    (Herbessinos) Map  47.  Unlocated,  but presum...   \n",
       "23. Herbita        (Herbitaios) Map  47.Unlocated  (cf.  C.  Boeh...   \n",
       "24. Himera         (Himeraios) Map  47.  Lat. 37.55,long.  13.50....   \n",
       "25. Hippana        (Hipanatas)  Map  47.  Lat. 37.40,long.  13.25...   \n",
       "26 *Imachara       (Imacharaios) Map  47.  Unlocated.  Barr. tent...   \n",
       "27. Kallipolis     (Kallipolites)  Map  47.  Unlocated.  Type:  A...   \n",
       "28. Kamarina       (Kamarinaios) Map  47.  Lat. 36.50,long. 14.25...   \n",
       "29. Kasmenai       (Kasmenaios) Map  47.  Lat. 37.05,long. 14.50....   \n",
       "30. Katane         (Katanaios) Map  47.  Lat. 37.30,long.  15.05....   \n",
       "31. Kentoripa      (Kentoripinos) Map  47.  Lat. 37.35,long. 14.4...   \n",
       "32. Kephaloidion   (Kephaloiditas) Map  47.  Lat. 38.00, long. 14...   \n",
       "33. Leontinoi      (Leontinos) Map  47.  Lat. 37.15,long.  15.00....   \n",
       "34. Lipara         (Liparaios) Map  47.  Lat. 38.30  long. 14.55....   \n",
       "35. *Longane       (Longenaios) Map  47.  Lat. 38.05,long. 15.10....   \n",
       "36. Megara         (Megareus) Map  47.  Lat. 37.10,long.  15.10. ...   \n",
       "37. Morgantina     (Morgantinos) Map  47.  Lat. 37.25,long. 14.30...   \n",
       "38. Mylai          (Mylaios) Map  47.  Lat. 38.15,  long  15.15. ...   \n",
       "39. Mytistratos    (Mytiseratinos) Map  47.  Lat. 37.35,long. 14....   \n",
       "40. Nakone         (Nakonaios)  Map  47.  Unlocated  (Tegon ( 199...   \n",
       "41. Naxos          (Naxios) Map  47.  Lat. 37.50,long.  15.15.  S...   \n",
       "42. Petra          (Petrinos) Map  47.  Unlocated  (cf.  Bejor  (...   \n",
       "43. Piakos         (Piakinos) Map  47.  Unlocated,  but  possibly...   \n",
       "44. Selinous       (Selinousios) Map  47.  Lat. 37.35,long.  12.5...   \n",
       "45. (Sileraioi)    Map 47.  Unlocated  (cf.  Manni  ( 1981)  225)...   \n",
       "46. (Stielanaioi)  Map 47.  Lat. 37.10,long.  14.55:  the  loca- ...   \n",
       "47. Syrakousai     (Syrakosios) Map  47.  Lat. 37.05,long. 15.15....   \n",
       "48. Tauromenion    (Tauromenitas) Map  47.  Lat. 37.50, long. 15....   \n",
       "49. Tyndaris       (Tyndarites) Map  47.  Lat. 38.10,long.  15.05...   \n",
       "50. (Tyrrhenoi)    Map 47.  Unlocated.  Type:  C: .The  Tyr- rhen...   \n",
       "51. Zankle                                      (Zanklaios)/Messana    \n",
       "\n",
       "                            city  city_index Latitude Longitude  \n",
       "5. Abakainon           bakainon            5    38.05     15.05  \n",
       "6. Adranon               dranon            6    37.40     14.50  \n",
       "7. Agyrion               gyrion            7    37.40     14.30  \n",
       "8. Aitna                   itna            8     None      None  \n",
       "9. Akragas               kragas            9    37.20     13.35  \n",
       "10. Akrai                 Akrai           10    37.05     14.55  \n",
       "11. Alaisa               Alaisa           11    38.00     14.15  \n",
       "12. Alontion           Alontion           12    38.05     14.40  \n",
       "13. Apollonia         Apollonia           13    38.00     14.35  \n",
       "14. Engyon               Engyon           14    37.45     14.35  \n",
       "15. Euboia               Euboia           15     None      None  \n",
       "16. Galeria             Galeria           16     None      None  \n",
       "17. Gela                   Gela           17    37.05     14.15  \n",
       "18. Heloron             Heloron           18    36.50     15.05  \n",
       "19. Henna                 Henna           19    37.35     14.15  \n",
       "20. Herakleia 1      Herakleia 1          20    37.25     13.15  \n",
       "21. Herakleia 2     Herakleia 2           21     None      None  \n",
       "22. Herbes(s)os     Herbes(s)os           22     None      None  \n",
       "23. Herbita             Herbita           23     None      None  \n",
       "24. Himera               Himera           24    37.55     13.50  \n",
       "25. Hippana             Hippana           25    37.40     13.25  \n",
       "26 *Imachara           Imachara           26     None     14.20  \n",
       "27. Kallipolis       Kallipolis           27     None      None  \n",
       "28. Kamarina           Kamarina           28    36.50     14.25  \n",
       "29. Kasmenai           Kasmenai           29    37.05     14.50  \n",
       "30. Katane               Katane           30    37.30     15.05  \n",
       "31. Kentoripa         Kentoripa           31    37.35     14.45  \n",
       "32. Kephaloidion   Kephaloidion           32    38.00     14.00  \n",
       "33. Leontinoi         Leontinoi           33    37.15     15.00  \n",
       "34. Lipara               Lipara           34    38.30     14.55  \n",
       "35. *Longane           *Longane           35    38.05     15.10  \n",
       "36. Megara               Megara           36    37.10     15.10  \n",
       "37. Morgantina       Morgantina           37    37.25     14.30  \n",
       "38. Mylai                 Mylai           38    38.15      None  \n",
       "39. Mytistratos     Mytistratos           39    37.35     14.00  \n",
       "40. Nakone               Nakone           40     None      None  \n",
       "41. Naxos                 Naxos           41    37.50     15.15  \n",
       "42. Petra                 Petra           42     None      None  \n",
       "43. Piakos               Piakos           43     None      None  \n",
       "44. Selinous           Selinous           44    37.35     12.50  \n",
       "45. (Sileraioi)      (Sileraioi)          45     None      None  \n",
       "46. (Stielanaioi)  (Stielanaioi)          46    37.10     14.55  \n",
       "47. Syrakousai       Syrakousai           47    37.05     15.15  \n",
       "48. Tauromenion     Tauromenion           48    37.50     15.15  \n",
       "49. Tyndaris           Tyndaris           49    38.10     15.05  \n",
       "50. (Tyrrhenoi)      (Tyrrhenoi)          50     None      None  \n",
       "51. Zankle               Zankle           51     None      None  "
      ]
     },
     "execution_count": 26,
     "metadata": {},
     "output_type": "execute_result"
    }
   ],
   "source": [
    "dfPoleis"
   ]
  },
  {
   "cell_type": "markdown",
   "metadata": {
    "heading_collapsed": true,
    "hidden": true
   },
   "source": [
    "### Zitatnachweise, Namen, Jahreszahlen"
   ]
  },
  {
   "cell_type": "code",
   "execution_count": 27,
   "metadata": {
    "collapsed": false,
    "hidden": true
   },
   "outputs": [
    {
     "data": {
      "text/plain": [
       "'(Abakaininos) Map  47.  Lat. 38.05,long. 15.05.  Size  of  territory:  ?  Type:  B: .  The  toponym  is ,  (Diod. 14.90.3)  or  ,  (Diod. 19.65.6;  Steph.  Byz. 2.11).  The  city-ethnic  is   (C 4s  coins,  infra;Diod. 14.78.5;  Steph.  Byz. 2.15). Abakainon  is  called  a  polis  in  the  urban  and  political  sens- es  at  Diod. 14.90.3  (r 393)  and  19.65.6  (r 315),  and  in  the  urban sense  at  14.90.4  (r 393).  The  passage  at  14.90.3  describes  it  as  a polis  symmachis  of  Magon,  and  in  a  later  period  it  was  part  of the  symmachia  of  Agathokles,  alongside  such  poleis  as Kamarina,  Leontinoi,  Katane  and  Messana  (Diod. 19.65.6 (r 315),  19.110.4  (r 311)).  The  internal  collective  use  of  the  city- ethnic  is  found  on  coins  struck  c. 400  (infra),  and  the  exter- nal  collective use  is  found  in  Diod. 19.110.4  (r 311). In 396,  Dionysios  I  deprived  Abakainon  of  a  part  of  its chora,  which  was  handed  over  to  his  new  foundation, Tyndaris  (no. 49;Diod.  14.77.5).  Abakainon  was  situated south-east  of  Tyndaris,  at  modern  Tripi.  The  ancient  city, destroyed  by  the  modern,  is  poorly  known.  However, Diodorus\\'  report  ( 14.90.3)  that  in  393  Carthaginian  troops ²²  For  an  analysis  of  the  conflicts,  see  Manni  ( 1976a)  201\\xad4. 182 fischer-hansen,  nielsen  and  ampolo defeated  by  Dionysios  took  refuge  in  the  city  (  ) suggests that by this date it was fortified.  There are  sporadic  Greek  remains  from  C 6,  and  substantial  Greek remains  from  C 4  (Villard  ( 1954));  the  investigation  of  the extensive  cemetery  north  of  the  city  has  brought  to  light  also monumental  C 4  tombs  of  the  type  known  from  Leontinoi (Bacci  and  Spigo  ( 1997\\xad98));  the  city  minted  a  Greek-style coinage  from  C 5m  (infra). Abakainon  struck  silver  coins  (litra,  hemilitron)  from c.C 5m:  obv.  laureate  head,  bearded  (an  indigenous  god assimilated  to  Zeus)  or  beardless  (assimilated  to  Apollo),  or, on  later  coinage,  female  head  (nymph,  or  Demeter  or Persephone);  rev.  wild  boar  and  acorn,  at  times  a  grain  of barley  or  sow  and  piglet,  legend: ,  (above acorn)  (below), (on  obv.) (on  rev.), (Head,  HN ²  118;  Bertino  ( 1975);  SNG Cop.  Sicily 1\\xad6).  In  C 4s,  the  city  struck  in  bronze:  ( 1) Probably  from  the  time  of  Timoleon:  obv.  female  head;  rev. forepart  of  bull,  or  forepart  of  man-headed  bull,  legend: ,  [],  (Head, HN ²  118;  Bertino  ( 1975)  124\\xad26;  SNG  Cop.  Sicily 7);  ( 2) c. 344\\xad338:  obv.  head  of  Dioskouros,  legend: ;  rev.\"free horse\",  legend: ;  the  obv.  type  may  indicate  influence from  the  mint  of  Tyndaris  or,  more  generally,  from  southern Italy  (Bertino  ( 1975)  124\\xad26).'"
      ]
     },
     "execution_count": 27,
     "metadata": {},
     "output_type": "execute_result"
    }
   ],
   "source": [
    "dfPoleis[\"Beschreibung\"].iloc[0] # icloc is a method to refer to local index position"
   ]
  },
  {
   "cell_type": "markdown",
   "metadata": {
    "heading_collapsed": true
   },
   "source": [
    "## Muster (Pattern) zur Erkennung der Literaturreferenzen\n",
    "\n",
    "- Primärquellen\n",
    "\n",
    "(Polyb. 1.18.2)\n",
    "(Diod. 13.85.4  (r 406))\n",
    "(Diod. 13.108.2)\n",
    "(Hdt. 7.165;  IGDS  no. 182a)\n",
    "(Pind.  Pyth. 6)\n",
    "(Thuc. 6.4.4: µµ  )\n",
    "(Xanthos  (FGrHist 765)  fr. 33;  Arist.  fr. 865)\n",
    "\n",
    "- Sekundärquellen\n",
    "\n",
    "(Karlsson  ( 1995)  161\n",
    "(Waele  ( 1971) 195;  Hinz  ( 1998)  79)\n",
    "\n",
    "- Jahreszahlen\n",
    "( dddd)"
   ]
  },
  {
   "cell_type": "code",
   "execution_count": 28,
   "metadata": {
    "collapsed": false,
    "hidden": true
   },
   "outputs": [],
   "source": [
    "# Definiere Funktion die reguläre Ausdrücke auf den DataFrame anwendet.\n",
    "def ListePatternFull(value,pattern):\n",
    "    x = re.findall(pattern, value)\n",
    "    if x:\n",
    "        return(x)"
   ]
  },
  {
   "cell_type": "markdown",
   "metadata": {
    "heading_collapsed": true,
    "hidden": true
   },
   "source": [
    "### Testen der regulären Ausdrücke"
   ]
  },
  {
   "cell_type": "markdown",
   "metadata": {
    "hidden": true
   },
   "source": [
    "Finde alle groß-geschriebenen Wörter mit mindestens 3 nachfolgenden kleinen Buchstaben."
   ]
  },
  {
   "cell_type": "code",
   "execution_count": 29,
   "metadata": {
    "collapsed": false,
    "hidden": true
   },
   "outputs": [
    {
     "data": {
      "text/plain": [
       "['Abakaininos',\n",
       " 'Size',\n",
       " 'Type',\n",
       " 'Diod',\n",
       " 'Diod',\n",
       " 'Steph',\n",
       " 'Diod',\n",
       " 'Steph',\n",
       " 'Abakainon',\n",
       " 'Diod',\n",
       " 'Magon',\n",
       " 'Agathokles',\n",
       " 'Kamarina',\n",
       " 'Leontinoi',\n",
       " 'Katane',\n",
       " 'Messana',\n",
       " 'Diod',\n",
       " 'Diod',\n",
       " 'Dionysios',\n",
       " 'Abakainon',\n",
       " 'Tyndaris',\n",
       " 'Diod',\n",
       " 'Abakainon',\n",
       " 'Tyndaris',\n",
       " 'Tripi',\n",
       " 'However',\n",
       " 'Diodorus',\n",
       " 'Carthaginia',\n",
       " 'Manni',\n",
       " 'Dionysios',\n",
       " 'There',\n",
       " 'Greek',\n",
       " 'Greek',\n",
       " 'Villard',\n",
       " 'Leontinoi',\n",
       " 'Bacci',\n",
       " 'Spigo',\n",
       " 'Greek',\n",
       " 'Abakainon',\n",
       " 'Zeus',\n",
       " 'Apollo',\n",
       " 'Demeter',\n",
       " 'Persephone',\n",
       " 'Head',\n",
       " 'Bertino',\n",
       " 'Sicily',\n",
       " 'Probably',\n",
       " 'Timoleon',\n",
       " 'Head',\n",
       " 'Bertino',\n",
       " 'Sicily',\n",
       " 'Dioskouros',\n",
       " 'Tyndaris',\n",
       " 'Italy',\n",
       " 'Bertino']"
      ]
     },
     "execution_count": 29,
     "metadata": {},
     "output_type": "execute_result"
    }
   ],
   "source": [
    "re.findall('[A-Z][a-z]{3,10}',dfPoleis['Beschreibung'].iloc[0])"
   ]
  },
  {
   "cell_type": "markdown",
   "metadata": {
    "hidden": true
   },
   "source": [
    "Finde alle Ausdrücke wie oben, denen ein Punkt folgt, mit anschließenden Zifferfolgen der Form [Ziffern][Punkt][Ziffern][Punkt][Ziffern]"
   ]
  },
  {
   "cell_type": "code",
   "execution_count": 30,
   "metadata": {
    "collapsed": false,
    "hidden": true
   },
   "outputs": [
    {
     "data": {
      "text/plain": [
       "['Diod. 14.90.3',\n",
       " 'Diod. 19.65.6',\n",
       " 'Diod. 14.78.5',\n",
       " 'Diod. 14.90.3',\n",
       " 'Diod. 19.65.6',\n",
       " 'Diod. 19.110.4']"
      ]
     },
     "execution_count": 30,
     "metadata": {},
     "output_type": "execute_result"
    }
   ],
   "source": [
    "re.findall('[A-Z][a-z]{1,10}\\. \\d{1,3}\\.\\d{1,3}\\.\\d{1,3}',dfPoleis['Beschreibung'].iloc[0])"
   ]
  },
  {
   "cell_type": "markdown",
   "metadata": {
    "hidden": true
   },
   "source": [
    "Finde alle Ausdrücke wie oben, wobei statt des Punktes nach den kleinen Buchstaben auch zwei Leerzeichen und eine runde Klammer folgen können"
   ]
  },
  {
   "cell_type": "markdown",
   "metadata": {
    "heading_collapsed": true
   },
   "source": [
    "## Muster zur Erkennung von Namen\n",
    "\n",
    "Empedokles  ( 496)\n",
    "Theron  ( 476)\n",
    "Timoleon  c. 338"
   ]
  },
  {
   "cell_type": "code",
   "execution_count": 31,
   "metadata": {
    "collapsed": false,
    "hidden": true
   },
   "outputs": [
    {
     "data": {
      "text/plain": [
       "['Diod. 14.90.3',\n",
       " 'Diod. 19.65.6',\n",
       " 'Diod. 14.78.5',\n",
       " 'Diod. 14.90.3',\n",
       " 'Diod. 19.65.6',\n",
       " 'Diod. 19.110.4',\n",
       " 'Manni  ( 1976',\n",
       " 'Villard  ( 1954)',\n",
       " 'Spigo  ( 1997',\n",
       " 'Bertino  ( 1975)',\n",
       " 'Bertino  ( 1975)',\n",
       " 'Bertino  ( 1975)']"
      ]
     },
     "execution_count": 31,
     "metadata": {},
     "output_type": "execute_result"
    }
   ],
   "source": [
    "re.findall('[A-Z][a-z]{1,10}[\\.| ] [(|\\d{0,4}][\\d{1,4}| ][\\.|\\d{}]\\d{1,3}[\\.|\\d][\\d|)]',dfPoleis['Beschreibung'].iloc[0])"
   ]
  },
  {
   "cell_type": "code",
   "execution_count": 32,
   "metadata": {
    "collapsed": false,
    "hidden": true
   },
   "outputs": [],
   "source": [
    "dfPoleis['Namen'] = dfPoleis['Beschreibung'].apply(lambda raw: ListePatternFull(raw,'[A-Z][a-z]{3,10}'))"
   ]
  },
  {
   "cell_type": "code",
   "execution_count": 33,
   "metadata": {
    "collapsed": false,
    "hidden": true
   },
   "outputs": [],
   "source": [
    "dfPoleis['Quellen'] = dfPoleis['Beschreibung'].apply(lambda raw: ListePatternFull(raw,'[A-Z][a-z]{1,10}[\\.| ] [(|\\d{0,4}][\\d{1,4}| ][\\.|\\d{}]\\d{1,3}[\\.|\\d][\\d|)]'))"
   ]
  },
  {
   "cell_type": "code",
   "execution_count": 34,
   "metadata": {
    "collapsed": false,
    "hidden": true
   },
   "outputs": [
    {
     "data": {
      "text/html": [
       "<div>\n",
       "<table border=\"1\" class=\"dataframe\">\n",
       "  <thead>\n",
       "    <tr style=\"text-align: right;\">\n",
       "      <th></th>\n",
       "      <th>Beschreibung</th>\n",
       "      <th>city</th>\n",
       "      <th>city_index</th>\n",
       "      <th>Latitude</th>\n",
       "      <th>Longitude</th>\n",
       "      <th>Namen</th>\n",
       "      <th>Quellen</th>\n",
       "    </tr>\n",
       "  </thead>\n",
       "  <tbody>\n",
       "    <tr>\n",
       "      <th>5. Abakainon</th>\n",
       "      <td>(Abakaininos) Map  47.  Lat. 38.05,long. 15.05...</td>\n",
       "      <td>bakainon</td>\n",
       "      <td>5</td>\n",
       "      <td>38.05</td>\n",
       "      <td>15.05</td>\n",
       "      <td>[Abakaininos, Size, Type, Diod, Diod, Steph, D...</td>\n",
       "      <td>[Diod. 14.90.3, Diod. 19.65.6, Diod. 14.78.5, ...</td>\n",
       "    </tr>\n",
       "    <tr>\n",
       "      <th>6. Adranon</th>\n",
       "      <td>(Adranites) Map  47.  Lat. 37.40,long.  14.50....</td>\n",
       "      <td>dranon</td>\n",
       "      <td>6</td>\n",
       "      <td>37.40</td>\n",
       "      <td>14.50</td>\n",
       "      <td>[Adranites, Size, Type, Diod, Steph, Diod, Adr...</td>\n",
       "      <td>[Diod. 14.37.5, Diod. 16.68.9, Diod. 14.37.5, ...</td>\n",
       "    </tr>\n",
       "    <tr>\n",
       "      <th>7. Agyrion</th>\n",
       "      <td>(Agyrinaios) Map  47.  Lat. 37.40,long.  14.30...</td>\n",
       "      <td>gyrion</td>\n",
       "      <td>7</td>\n",
       "      <td>37.40</td>\n",
       "      <td>14.30</td>\n",
       "      <td>[Agyrinaios, Size, Type, Diod, Ptol, Geog, Ste...</td>\n",
       "      <td>[Byz. 23.19), Diod. 16.82.4, Moggi  ( 1976), D...</td>\n",
       "    </tr>\n",
       "    <tr>\n",
       "      <th>8. Aitna</th>\n",
       "      <td>(Aitnaios) Map  47.Location  of  Aitna  I  as ...</td>\n",
       "      <td>itna</td>\n",
       "      <td>8</td>\n",
       "      <td>None</td>\n",
       "      <td>None</td>\n",
       "      <td>[Aitnaios, Location, Aitna, Katane, Aitna, Dio...</td>\n",
       "      <td>[Diod. 11.49.1, Diod. 11.49.1, Diod. 11.66.4, ...</td>\n",
       "    </tr>\n",
       "  </tbody>\n",
       "</table>\n",
       "</div>"
      ],
      "text/plain": [
       "                                                    Beschreibung       city  \\\n",
       "5. Abakainon   (Abakaininos) Map  47.  Lat. 38.05,long. 15.05...  bakainon    \n",
       "6. Adranon     (Adranites) Map  47.  Lat. 37.40,long.  14.50....    dranon    \n",
       "7. Agyrion     (Agyrinaios) Map  47.  Lat. 37.40,long.  14.30...    gyrion    \n",
       "8. Aitna       (Aitnaios) Map  47.Location  of  Aitna  I  as ...      itna    \n",
       "\n",
       "               city_index Latitude Longitude  \\\n",
       "5. Abakainon            5    38.05     15.05   \n",
       "6. Adranon              6    37.40     14.50   \n",
       "7. Agyrion              7    37.40     14.30   \n",
       "8. Aitna                8     None      None   \n",
       "\n",
       "                                                           Namen  \\\n",
       "5. Abakainon   [Abakaininos, Size, Type, Diod, Diod, Steph, D...   \n",
       "6. Adranon     [Adranites, Size, Type, Diod, Steph, Diod, Adr...   \n",
       "7. Agyrion     [Agyrinaios, Size, Type, Diod, Ptol, Geog, Ste...   \n",
       "8. Aitna       [Aitnaios, Location, Aitna, Katane, Aitna, Dio...   \n",
       "\n",
       "                                                         Quellen  \n",
       "5. Abakainon   [Diod. 14.90.3, Diod. 19.65.6, Diod. 14.78.5, ...  \n",
       "6. Adranon     [Diod. 14.37.5, Diod. 16.68.9, Diod. 14.37.5, ...  \n",
       "7. Agyrion     [Byz. 23.19), Diod. 16.82.4, Moggi  ( 1976), D...  \n",
       "8. Aitna       [Diod. 11.49.1, Diod. 11.49.1, Diod. 11.66.4, ...  "
      ]
     },
     "execution_count": 34,
     "metadata": {},
     "output_type": "execute_result"
    }
   ],
   "source": [
    "dfPoleis.head(4)"
   ]
  },
  {
   "cell_type": "markdown",
   "metadata": {},
   "source": [
    "# Datenvalidierung"
   ]
  },
  {
   "cell_type": "markdown",
   "metadata": {},
   "source": [
    "## Wertverteilungen, Test auf Dopplungen"
   ]
  },
  {
   "cell_type": "markdown",
   "metadata": {},
   "source": [
    "Lese Werte der Spalte Quellen als Liste aus. "
   ]
  },
  {
   "cell_type": "code",
   "execution_count": 35,
   "metadata": {
    "collapsed": false
   },
   "outputs": [],
   "source": [
    "mainList = dfPoleis['Quellen'].values.tolist()"
   ]
  },
  {
   "cell_type": "markdown",
   "metadata": {},
   "source": [
    "Reduziere Unterlisten auf eine Gesamtliste."
   ]
  },
  {
   "cell_type": "code",
   "execution_count": 47,
   "metadata": {
    "collapsed": false
   },
   "outputs": [],
   "source": [
    "quellenListe = []\n",
    "for sublist in mainList:\n",
    "    if sublist:\n",
    "        for k in range(len(sublist)):\n",
    "            quellenListe.append(sublist[k])"
   ]
  },
  {
   "cell_type": "code",
   "execution_count": 48,
   "metadata": {
    "collapsed": false
   },
   "outputs": [
    {
     "data": {
      "text/plain": [
       "['Diod. 14.90.3',\n",
       " 'Diod. 19.65.6',\n",
       " 'Diod. 14.78.5',\n",
       " 'Diod. 14.90.3',\n",
       " 'Diod. 19.65.6',\n",
       " 'Diod. 19.110.4',\n",
       " 'Manni  ( 1976',\n",
       " 'Villard  ( 1954)',\n",
       " 'Spigo  ( 1997',\n",
       " 'Bertino  ( 1975)']"
      ]
     },
     "execution_count": 48,
     "metadata": {},
     "output_type": "execute_result"
    }
   ],
   "source": [
    "quellenListe[:10]"
   ]
  },
  {
   "cell_type": "markdown",
   "metadata": {},
   "source": [
    "Zähle die Häufigkeit der verschiedenen Quellen und speichere als Dictionary."
   ]
  },
  {
   "cell_type": "code",
   "execution_count": 49,
   "metadata": {
    "collapsed": false
   },
   "outputs": [
    {
     "data": {
      "text/plain": [
       "2"
      ]
     },
     "execution_count": 49,
     "metadata": {},
     "output_type": "execute_result"
    }
   ],
   "source": [
    "quellenVerteilung = {x:quellenListe.count(x) for x in quellenListe}\n",
    "quellenVerteilung['Diod. 14.90.3']"
   ]
  },
  {
   "cell_type": "markdown",
   "metadata": {},
   "source": [
    "Erzeuge DataFrame, mit neuem Index und Namen der Spalten. Sortiere diesen Nach der Häufigkeit der Quelle."
   ]
  },
  {
   "cell_type": "code",
   "execution_count": 50,
   "metadata": {
    "collapsed": false
   },
   "outputs": [],
   "source": [
    "dfQuellenVerteilung = pd.DataFrame([quellenVerteilung])"
   ]
  },
  {
   "cell_type": "code",
   "execution_count": 51,
   "metadata": {
    "collapsed": false
   },
   "outputs": [],
   "source": [
    "dfQuellenVerteilung = dfQuellenVerteilung.transpose().reset_index()"
   ]
  },
  {
   "cell_type": "code",
   "execution_count": 52,
   "metadata": {
    "collapsed": false
   },
   "outputs": [],
   "source": [
    "dfQuellenVerteilung = dfQuellenVerteilung.rename(columns={'index': 'Quelle', 0:'Häufigkeit'})"
   ]
  },
  {
   "cell_type": "code",
   "execution_count": 53,
   "metadata": {
    "collapsed": false
   },
   "outputs": [
    {
     "data": {
      "text/html": [
       "<div>\n",
       "<table border=\"1\" class=\"dataframe\">\n",
       "  <thead>\n",
       "    <tr style=\"text-align: right;\">\n",
       "      <th></th>\n",
       "      <th>Quelle</th>\n",
       "      <th>Häufigkeit</th>\n",
       "    </tr>\n",
       "  </thead>\n",
       "  <tbody>\n",
       "    <tr>\n",
       "      <th>382</th>\n",
       "      <td>Manganaro  ( 1996</td>\n",
       "      <td>15</td>\n",
       "    </tr>\n",
       "    <tr>\n",
       "      <th>331</th>\n",
       "      <td>Hinz  ( 1998)</td>\n",
       "      <td>13</td>\n",
       "    </tr>\n",
       "    <tr>\n",
       "      <th>509</th>\n",
       "      <td>Talbert  ( 1974)</td>\n",
       "      <td>13</td>\n",
       "    </tr>\n",
       "    <tr>\n",
       "      <th>83</th>\n",
       "      <td>Cavalier  ( 1991)</td>\n",
       "      <td>11</td>\n",
       "    </tr>\n",
       "    <tr>\n",
       "      <th>344</th>\n",
       "      <td>Karlsson  ( 1995)</td>\n",
       "      <td>9</td>\n",
       "    </tr>\n",
       "    <tr>\n",
       "      <th>226</th>\n",
       "      <td>Diod. 14.78.7</td>\n",
       "      <td>9</td>\n",
       "    </tr>\n",
       "    <tr>\n",
       "      <th>113</th>\n",
       "      <td>Diod. 11.49.2</td>\n",
       "      <td>9</td>\n",
       "    </tr>\n",
       "    <tr>\n",
       "      <th>47</th>\n",
       "      <td>Boehringer  ( 1998)</td>\n",
       "      <td>8</td>\n",
       "    </tr>\n",
       "    <tr>\n",
       "      <th>478</th>\n",
       "      <td>Rutter  ( 1997)</td>\n",
       "      <td>8</td>\n",
       "    </tr>\n",
       "    <tr>\n",
       "      <th>327</th>\n",
       "      <td>Hansen  ( 2000)</td>\n",
       "      <td>8</td>\n",
       "    </tr>\n",
       "  </tbody>\n",
       "</table>\n",
       "</div>"
      ],
      "text/plain": [
       "                  Quelle  Häufigkeit\n",
       "382    Manganaro  ( 1996          15\n",
       "331        Hinz  ( 1998)          13\n",
       "509     Talbert  ( 1974)          13\n",
       "83     Cavalier  ( 1991)          11\n",
       "344    Karlsson  ( 1995)           9\n",
       "226        Diod. 14.78.7           9\n",
       "113        Diod. 11.49.2           9\n",
       "47   Boehringer  ( 1998)           8\n",
       "478      Rutter  ( 1997)           8\n",
       "327      Hansen  ( 2000)           8"
      ]
     },
     "execution_count": 53,
     "metadata": {},
     "output_type": "execute_result"
    }
   ],
   "source": [
    "dfQuellenVerteilung.sort_values(by='Häufigkeit',ascending=False).head(10)"
   ]
  },
  {
   "cell_type": "code",
   "execution_count": null,
   "metadata": {
    "collapsed": true
   },
   "outputs": [],
   "source": []
  }
 ],
 "metadata": {
  "anaconda-cloud": {},
  "kernelspec": {
   "display_name": "Python 3",
   "language": "python",
   "name": "python3"
  },
  "language_info": {
   "codemirror_mode": {
    "name": "ipython",
    "version": 3
   },
   "file_extension": ".py",
   "mimetype": "text/x-python",
   "name": "python",
   "nbconvert_exporter": "python",
   "pygments_lexer": "ipython3",
   "version": "3.5.2"
  },
  "latex_envs": {
   "bibliofile": "biblio.bib",
   "cite_by": "apalike",
   "current_citInitial": 1,
   "eqLabelWithNumbers": true,
   "eqNumInitial": 0
  },
  "nav_menu": {},
  "toc": {
   "navigate_menu": true,
   "number_sections": true,
   "sideBar": true,
   "threshold": 6,
   "toc_cell": false,
   "toc_section_display": "block",
   "toc_window_display": false
  }
 },
 "nbformat": 4,
 "nbformat_minor": 0
}
