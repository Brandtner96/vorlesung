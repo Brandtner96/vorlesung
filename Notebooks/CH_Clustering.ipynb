{
 "cells": [
  {
   "cell_type": "markdown",
   "metadata": {},
   "source": [
    "# Vorlesung: Clustering"
   ]
  },
  {
   "cell_type": "code",
   "execution_count": 1,
   "metadata": {
    "collapsed": false
   },
   "outputs": [],
   "source": [
    "import pandas as pd\n",
    "import numpy as np\n",
    "import seaborn as sns\n",
    "import matplotlib.pyplot as plt\n",
    "import networkx as nx\n",
    "from sklearn.manifold import TSNE  \n",
    "\n",
    "import hdbscan"
   ]
  },
  {
   "cell_type": "code",
   "execution_count": 2,
   "metadata": {
    "collapsed": false
   },
   "outputs": [],
   "source": [
    "from ipywidgets import *\n",
    "from io import BytesIO\n",
    "from skimage import io\n",
    "from medDiaJson import getFileBinary"
   ]
  },
  {
   "cell_type": "code",
   "execution_count": 3,
   "metadata": {
    "collapsed": true
   },
   "outputs": [],
   "source": [
    "%matplotlib inline"
   ]
  },
  {
   "cell_type": "markdown",
   "metadata": {},
   "source": [
    "# Clustering mittelalterlicher Diagramme"
   ]
  },
  {
   "cell_type": "markdown",
   "metadata": {},
   "source": [
    "Die Datenbank mittelalterlicher Diagramme wird von Github eingelesen und in einen Dataframe geschrieben."
   ]
  },
  {
   "cell_type": "code",
   "execution_count": 4,
   "metadata": {
    "collapsed": false
   },
   "outputs": [
    {
     "data": {
      "text/html": [
       "<div>\n",
       "<table border=\"1\" class=\"dataframe\">\n",
       "  <thead>\n",
       "    <tr style=\"text-align: right;\">\n",
       "      <th></th>\n",
       "      <th>altID</th>\n",
       "      <th>author</th>\n",
       "      <th>biblio</th>\n",
       "      <th>diaAttr</th>\n",
       "      <th>diaID</th>\n",
       "      <th>diaTyp</th>\n",
       "      <th>diaURL</th>\n",
       "      <th>foliopage</th>\n",
       "      <th>manID</th>\n",
       "      <th>manURL</th>\n",
       "      <th>textID</th>\n",
       "      <th>textURL</th>\n",
       "      <th>year</th>\n",
       "    </tr>\n",
       "  </thead>\n",
       "  <tbody>\n",
       "    <tr>\n",
       "      <th>0</th>\n",
       "      <td>Plin4</td>\n",
       "      <td>Plinius</td>\n",
       "      <td>Vaticano BAV, Ross. 247</td>\n",
       "      <td>[{'M2.12': 0, 'M2.2': 1, 'M2.3': 1, 'M2.6': 1,...</td>\n",
       "      <td>MAPD0668</td>\n",
       "      <td>2</td>\n",
       "      <td>Dl_1&amp;pn=396&amp;dw=1858&amp;dh=901&amp;ww=0.8926&amp;wh=0.6552...</td>\n",
       "      <td>200v</td>\n",
       "      <td>DL(1)</td>\n",
       "      <td>Dl_1&amp;pn=1</td>\n",
       "      <td>DL(1)_A</td>\n",
       "      <td></td>\n",
       "      <td>IX</td>\n",
       "    </tr>\n",
       "    <tr>\n",
       "      <th>1</th>\n",
       "      <td>Plin41</td>\n",
       "      <td>Plinius</td>\n",
       "      <td>Vaticano BAV, Ross. 247</td>\n",
       "      <td>[{'M3.22': 0, 'M3.23': 0, 'M3.6': 1, 'M3.17': ...</td>\n",
       "      <td>MAPD0670</td>\n",
       "      <td>3</td>\n",
       "      <td>Dl_1&amp;pn=395&amp;dw=1858&amp;dh=901&amp;ww=0.9617&amp;wh=0.7723...</td>\n",
       "      <td>200r</td>\n",
       "      <td>DL(1)</td>\n",
       "      <td>Dl_1&amp;pn=1</td>\n",
       "      <td>DL(1)_A</td>\n",
       "      <td></td>\n",
       "      <td>IX</td>\n",
       "    </tr>\n",
       "    <tr>\n",
       "      <th>2</th>\n",
       "      <td>Plin67</td>\n",
       "      <td>Plinius</td>\n",
       "      <td>Vaticano BAV, Ross. 247</td>\n",
       "      <td>[{'M4.3': '?', 'M4.4': 0, 'M4.1': 0, 'M4.7': 0...</td>\n",
       "      <td>MAPD0698</td>\n",
       "      <td>4</td>\n",
       "      <td>Dl_1&amp;pn=414&amp;dw=1858&amp;dh=901&amp;ww=0.9085&amp;wh=0.6452...</td>\n",
       "      <td>209v</td>\n",
       "      <td>DL(1)</td>\n",
       "      <td>Dl_1&amp;pn=1</td>\n",
       "      <td>DL(1)_A</td>\n",
       "      <td></td>\n",
       "      <td>IX</td>\n",
       "    </tr>\n",
       "    <tr>\n",
       "      <th>3</th>\n",
       "      <td>Plin82</td>\n",
       "      <td>Plinius</td>\n",
       "      <td>Vaticano BAV, Ross. 247</td>\n",
       "      <td>[{'M6.12': 1, 'M6.4': 1, 'M6.18': 0, 'M6.9': 0...</td>\n",
       "      <td>MAPD0714</td>\n",
       "      <td>6</td>\n",
       "      <td>Dl_1&amp;pn=393&amp;dw=1858&amp;dh=901&amp;ww=0.8255&amp;wh=0.62&amp;w...</td>\n",
       "      <td>199r</td>\n",
       "      <td>DL(1)</td>\n",
       "      <td>Dl_1&amp;pn=1</td>\n",
       "      <td>DL(1)_A</td>\n",
       "      <td></td>\n",
       "      <td>IX</td>\n",
       "    </tr>\n",
       "    <tr>\n",
       "      <th>4</th>\n",
       "      <td>Plin6</td>\n",
       "      <td>Plinius</td>\n",
       "      <td>Paris BN, 11130</td>\n",
       "      <td>[{'M2.12': 0, 'M2.2': 1, 'M2.3': 1, 'M2.6': 1,...</td>\n",
       "      <td>MAPD0690</td>\n",
       "      <td>2</td>\n",
       "      <td>Jk_2&amp;pn=1&amp;dw=1858&amp;dh=901&amp;ww=1&amp;wh=1&amp;wx=0&amp;wy=0</td>\n",
       "      <td>74v</td>\n",
       "      <td>JK(2)</td>\n",
       "      <td>Jk_2&amp;pn=1</td>\n",
       "      <td>JK(2)_A</td>\n",
       "      <td></td>\n",
       "      <td>XII</td>\n",
       "    </tr>\n",
       "  </tbody>\n",
       "</table>\n",
       "</div>"
      ],
      "text/plain": [
       "    altID   author                   biblio  \\\n",
       "0   Plin4  Plinius  Vaticano BAV, Ross. 247   \n",
       "1  Plin41  Plinius  Vaticano BAV, Ross. 247   \n",
       "2  Plin67  Plinius  Vaticano BAV, Ross. 247   \n",
       "3  Plin82  Plinius  Vaticano BAV, Ross. 247   \n",
       "4   Plin6  Plinius          Paris BN, 11130   \n",
       "\n",
       "                                             diaAttr     diaID diaTyp  \\\n",
       "0  [{'M2.12': 0, 'M2.2': 1, 'M2.3': 1, 'M2.6': 1,...  MAPD0668      2   \n",
       "1  [{'M3.22': 0, 'M3.23': 0, 'M3.6': 1, 'M3.17': ...  MAPD0670      3   \n",
       "2  [{'M4.3': '?', 'M4.4': 0, 'M4.1': 0, 'M4.7': 0...  MAPD0698      4   \n",
       "3  [{'M6.12': 1, 'M6.4': 1, 'M6.18': 0, 'M6.9': 0...  MAPD0714      6   \n",
       "4  [{'M2.12': 0, 'M2.2': 1, 'M2.3': 1, 'M2.6': 1,...  MAPD0690      2   \n",
       "\n",
       "                                              diaURL foliopage  manID  \\\n",
       "0  Dl_1&pn=396&dw=1858&dh=901&ww=0.8926&wh=0.6552...      200v  DL(1)   \n",
       "1  Dl_1&pn=395&dw=1858&dh=901&ww=0.9617&wh=0.7723...      200r  DL(1)   \n",
       "2  Dl_1&pn=414&dw=1858&dh=901&ww=0.9085&wh=0.6452...      209v  DL(1)   \n",
       "3  Dl_1&pn=393&dw=1858&dh=901&ww=0.8255&wh=0.62&w...      199r  DL(1)   \n",
       "4       Jk_2&pn=1&dw=1858&dh=901&ww=1&wh=1&wx=0&wy=0       74v  JK(2)   \n",
       "\n",
       "      manURL   textID textURL year  \n",
       "0  Dl_1&pn=1  DL(1)_A           IX  \n",
       "1  Dl_1&pn=1  DL(1)_A           IX  \n",
       "2  Dl_1&pn=1  DL(1)_A           IX  \n",
       "3  Dl_1&pn=1  DL(1)_A           IX  \n",
       "4  Jk_2&pn=1  JK(2)_A          XII  "
      ]
     },
     "execution_count": 4,
     "metadata": {},
     "output_type": "execute_result"
    }
   ],
   "source": [
    "url = 'https://raw.githubusercontent.com/grasshoff/ComputationalHistoryScience/master/diaattr.json'\n",
    "diagrams = pd.read_json(url)\n",
    "diagrams.head()"
   ]
  },
  {
   "cell_type": "markdown",
   "metadata": {},
   "source": [
    "Die Diagramme sind nach Merkmalen in Diagramm-Typen vor-kategorisiert. Es gibt 27 verschiedene Diagramm-Typen, mit jeweils etwa 30 Merkmalen. Jedes Diagramm kann die spezifischen Merkmale haben (=1) oder nicht haben (=0). Merkmale anderer Diagramm-Typen werden auf Null gesetzt, nicht vorhandene oder unklare Merkmalsattribute werden mit dem Wert 0.5 beschrieben. \n",
    "\n",
    "Um ein Clustering der Diagramme nach Merkmalen durchzuführen, erzeugen wir als erstes einen Dataframe, welcher nur die ID des Diagramms und seine Merkmale enthält. "
   ]
  },
  {
   "cell_type": "code",
   "execution_count": 5,
   "metadata": {
    "collapsed": false
   },
   "outputs": [
    {
     "data": {
      "text/html": [
       "<div>\n",
       "<table border=\"1\" class=\"dataframe\">\n",
       "  <thead>\n",
       "    <tr style=\"text-align: right;\">\n",
       "      <th></th>\n",
       "      <th>author</th>\n",
       "      <th>diaID</th>\n",
       "      <th>diaAttr</th>\n",
       "    </tr>\n",
       "  </thead>\n",
       "  <tbody>\n",
       "    <tr>\n",
       "      <th>0</th>\n",
       "      <td>Plinius</td>\n",
       "      <td>MAPD0668</td>\n",
       "      <td>[{'M2.12': 0, 'M2.2': 1, 'M2.3': 1, 'M2.6': 1,...</td>\n",
       "    </tr>\n",
       "    <tr>\n",
       "      <th>1</th>\n",
       "      <td>Plinius</td>\n",
       "      <td>MAPD0670</td>\n",
       "      <td>[{'M3.22': 0, 'M3.23': 0, 'M3.6': 1, 'M3.17': ...</td>\n",
       "    </tr>\n",
       "    <tr>\n",
       "      <th>2</th>\n",
       "      <td>Plinius</td>\n",
       "      <td>MAPD0698</td>\n",
       "      <td>[{'M4.3': '?', 'M4.4': 0, 'M4.1': 0, 'M4.7': 0...</td>\n",
       "    </tr>\n",
       "    <tr>\n",
       "      <th>3</th>\n",
       "      <td>Plinius</td>\n",
       "      <td>MAPD0714</td>\n",
       "      <td>[{'M6.12': 1, 'M6.4': 1, 'M6.18': 0, 'M6.9': 0...</td>\n",
       "    </tr>\n",
       "    <tr>\n",
       "      <th>4</th>\n",
       "      <td>Plinius</td>\n",
       "      <td>MAPD0690</td>\n",
       "      <td>[{'M2.12': 0, 'M2.2': 1, 'M2.3': 1, 'M2.6': 1,...</td>\n",
       "    </tr>\n",
       "  </tbody>\n",
       "</table>\n",
       "</div>"
      ],
      "text/plain": [
       "    author     diaID                                            diaAttr\n",
       "0  Plinius  MAPD0668  [{'M2.12': 0, 'M2.2': 1, 'M2.3': 1, 'M2.6': 1,...\n",
       "1  Plinius  MAPD0670  [{'M3.22': 0, 'M3.23': 0, 'M3.6': 1, 'M3.17': ...\n",
       "2  Plinius  MAPD0698  [{'M4.3': '?', 'M4.4': 0, 'M4.1': 0, 'M4.7': 0...\n",
       "3  Plinius  MAPD0714  [{'M6.12': 1, 'M6.4': 1, 'M6.18': 0, 'M6.9': 0...\n",
       "4  Plinius  MAPD0690  [{'M2.12': 0, 'M2.2': 1, 'M2.3': 1, 'M2.6': 1,..."
      ]
     },
     "execution_count": 5,
     "metadata": {},
     "output_type": "execute_result"
    }
   ],
   "source": [
    "merkmaleV=diagrams[[\"author\",\"diaID\",\"diaAttr\"]].reset_index(drop=True)\n",
    "merkmaleV.head()"
   ]
  },
  {
   "cell_type": "markdown",
   "metadata": {},
   "source": [
    "Der Übersichtlichkeit halber, werden die Diagramme eines einzelnen Authors ausgewählt. "
   ]
  },
  {
   "cell_type": "code",
   "execution_count": 6,
   "metadata": {
    "collapsed": false
   },
   "outputs": [
    {
     "data": {
      "text/plain": [
       "{'Calcidius', 'Capella', 'Macrobius', 'Plinius'}"
      ]
     },
     "execution_count": 6,
     "metadata": {},
     "output_type": "execute_result"
    }
   ],
   "source": [
    "set(merkmaleV['author'].values)"
   ]
  },
  {
   "cell_type": "code",
   "execution_count": 7,
   "metadata": {
    "collapsed": false
   },
   "outputs": [
    {
     "data": {
      "text/html": [
       "<div>\n",
       "<table border=\"1\" class=\"dataframe\">\n",
       "  <thead>\n",
       "    <tr style=\"text-align: right;\">\n",
       "      <th></th>\n",
       "      <th>author</th>\n",
       "      <th>diaID</th>\n",
       "      <th>diaAttr</th>\n",
       "    </tr>\n",
       "  </thead>\n",
       "  <tbody>\n",
       "    <tr>\n",
       "      <th>314</th>\n",
       "      <td>Capella</td>\n",
       "      <td>MAPD0345</td>\n",
       "      <td>[{'M22.1': 0, 'M22.3': 0, 'M22.5': 1, 'M22.6':...</td>\n",
       "    </tr>\n",
       "    <tr>\n",
       "      <th>411</th>\n",
       "      <td>Capella</td>\n",
       "      <td>MAPD0347</td>\n",
       "      <td>[{'M20.2': 0, 'M20.4': 0, 'M20.5': 0, 'M20.1':...</td>\n",
       "    </tr>\n",
       "    <tr>\n",
       "      <th>466</th>\n",
       "      <td>Capella</td>\n",
       "      <td>MAPD0386</td>\n",
       "      <td>[{'M21.1': 0, 'M21.4': 1, 'M21.6': 0, 'M21.3':...</td>\n",
       "    </tr>\n",
       "    <tr>\n",
       "      <th>467</th>\n",
       "      <td>Capella</td>\n",
       "      <td>MAPD0397</td>\n",
       "      <td>[{'M22.1': 1, 'M22.3': 1, 'M22.5': 0, 'M22.6':...</td>\n",
       "    </tr>\n",
       "    <tr>\n",
       "      <th>519</th>\n",
       "      <td>Capella</td>\n",
       "      <td>MAPD0292</td>\n",
       "      <td>[{'M19.1': 1, 'M19.2': 1, 'M19.5': 0, 'M19.3':...</td>\n",
       "    </tr>\n",
       "  </tbody>\n",
       "</table>\n",
       "</div>"
      ],
      "text/plain": [
       "      author     diaID                                            diaAttr\n",
       "314  Capella  MAPD0345  [{'M22.1': 0, 'M22.3': 0, 'M22.5': 1, 'M22.6':...\n",
       "411  Capella  MAPD0347  [{'M20.2': 0, 'M20.4': 0, 'M20.5': 0, 'M20.1':...\n",
       "466  Capella  MAPD0386  [{'M21.1': 0, 'M21.4': 1, 'M21.6': 0, 'M21.3':...\n",
       "467  Capella  MAPD0397  [{'M22.1': 1, 'M22.3': 1, 'M22.5': 0, 'M22.6':...\n",
       "519  Capella  MAPD0292  [{'M19.1': 1, 'M19.2': 1, 'M19.5': 0, 'M19.3':..."
      ]
     },
     "execution_count": 7,
     "metadata": {},
     "output_type": "execute_result"
    }
   ],
   "source": [
    "merkmaleCapella = merkmaleV[merkmaleV['author']=='Capella']\n",
    "merkmaleCapella.head()"
   ]
  },
  {
   "cell_type": "markdown",
   "metadata": {},
   "source": [
    "Da der Attribute-Wert als Liste gepseichert ist, erzeugen wir für jedes Diagram einen neuen Dataframe und schreiben diesen in eine Liste."
   ]
  },
  {
   "cell_type": "code",
   "execution_count": 8,
   "metadata": {
    "collapsed": true
   },
   "outputs": [],
   "source": [
    "frames=[]\n",
    "for i in range(len(merkmaleCapella)):\n",
    "    j=pd.DataFrame(merkmaleCapella[\"diaAttr\"].iloc[i])\n",
    "    j['diaID'] = merkmaleCapella['diaID'].iloc[i]\n",
    "    frames.append(j)   "
   ]
  },
  {
   "cell_type": "markdown",
   "metadata": {},
   "source": [
    "Aus dieser Liste erzeugen wir mit pd.concat einen neuen Dataframe, der sämtliche Informationen enthält. Nicht vorhande Werte werden durch Null dargestellt. Sonst würde Pandas NaN (Not a Number) Werte setzen, mit denen die Clustering-Algorithmen nicht umgehen können."
   ]
  },
  {
   "cell_type": "code",
   "execution_count": 9,
   "metadata": {
    "collapsed": true
   },
   "outputs": [],
   "source": [
    "rplNaN = 0\n",
    "    \n",
    "MerkmaleDia=pd.concat(frames,ignore_index=True).fillna(rplNaN)"
   ]
  },
  {
   "cell_type": "markdown",
   "metadata": {},
   "source": [
    "Die Daten müssten weiter bereinigt werden, wenn es noch andere Werte außer Zahlen gibt. Hiervon sind die Diagramm-IDs ausgenommen (beginnend mit MAPD)."
   ]
  },
  {
   "cell_type": "code",
   "execution_count": 10,
   "metadata": {
    "collapsed": false
   },
   "outputs": [
    {
     "data": {
      "text/plain": [
       "[0, 1, '?', 'no attributes']"
      ]
     },
     "execution_count": 10,
     "metadata": {},
     "output_type": "execute_result"
    }
   ],
   "source": [
    "vlList = list(pd.unique(MerkmaleDia.values.ravel()))\n",
    "[x for x in vlList if 'MAPD' not in str(x)]"
   ]
  },
  {
   "cell_type": "markdown",
   "metadata": {},
   "source": [
    "Mit dieser Liste könne Ersetzungs-Regeln definiert werden. Um die ambivalente Kodierung zu erhalten, wird mit dem Wert 0.5 ersetzt."
   ]
  },
  {
   "cell_type": "code",
   "execution_count": 11,
   "metadata": {
    "collapsed": true
   },
   "outputs": [],
   "source": [
    "rplBy = 0.5\n",
    "\n",
    "if '?' in vlList:\n",
    "    MerkmaleDia.replace(['?'],[rplBy],inplace=True)\n",
    "if 'no attributes' in vlList:\n",
    "    MerkmaleDia.replace(['no attributes'],[rplBy],inplace=True)\n",
    "if '' in vlList:\n",
    "    MerkmaleDia.replace([''],[rplBy],inplace=True)"
   ]
  },
  {
   "cell_type": "code",
   "execution_count": 12,
   "metadata": {
    "collapsed": false
   },
   "outputs": [
    {
     "data": {
      "text/html": [
       "<div>\n",
       "<table border=\"1\" class=\"dataframe\">\n",
       "  <thead>\n",
       "    <tr style=\"text-align: right;\">\n",
       "      <th></th>\n",
       "      <th>M0</th>\n",
       "      <th>M18.1</th>\n",
       "      <th>M18.2</th>\n",
       "      <th>M18.3</th>\n",
       "      <th>M18.4</th>\n",
       "      <th>M18.5</th>\n",
       "      <th>M19.1</th>\n",
       "      <th>M19.2</th>\n",
       "      <th>M19.3</th>\n",
       "      <th>M19.4</th>\n",
       "      <th>...</th>\n",
       "      <th>M31.19</th>\n",
       "      <th>M31.2</th>\n",
       "      <th>M31.3</th>\n",
       "      <th>M31.4</th>\n",
       "      <th>M31.5</th>\n",
       "      <th>M31.6</th>\n",
       "      <th>M31.7</th>\n",
       "      <th>M31.8</th>\n",
       "      <th>M31.9</th>\n",
       "      <th>diaID</th>\n",
       "    </tr>\n",
       "  </thead>\n",
       "  <tbody>\n",
       "    <tr>\n",
       "      <th>0</th>\n",
       "      <td>0.0</td>\n",
       "      <td>0.0</td>\n",
       "      <td>0.0</td>\n",
       "      <td>0.0</td>\n",
       "      <td>0.0</td>\n",
       "      <td>0.0</td>\n",
       "      <td>0.0</td>\n",
       "      <td>0.0</td>\n",
       "      <td>0.0</td>\n",
       "      <td>0.0</td>\n",
       "      <td>...</td>\n",
       "      <td>0.0</td>\n",
       "      <td>0.0</td>\n",
       "      <td>0.0</td>\n",
       "      <td>0.0</td>\n",
       "      <td>0.0</td>\n",
       "      <td>0.0</td>\n",
       "      <td>0.0</td>\n",
       "      <td>0.0</td>\n",
       "      <td>0.0</td>\n",
       "      <td>MAPD0345</td>\n",
       "    </tr>\n",
       "    <tr>\n",
       "      <th>1</th>\n",
       "      <td>0.0</td>\n",
       "      <td>0.0</td>\n",
       "      <td>0.0</td>\n",
       "      <td>0.0</td>\n",
       "      <td>0.0</td>\n",
       "      <td>0.0</td>\n",
       "      <td>0.0</td>\n",
       "      <td>0.0</td>\n",
       "      <td>0.0</td>\n",
       "      <td>0.0</td>\n",
       "      <td>...</td>\n",
       "      <td>0.0</td>\n",
       "      <td>0.0</td>\n",
       "      <td>0.0</td>\n",
       "      <td>0.0</td>\n",
       "      <td>0.0</td>\n",
       "      <td>0.0</td>\n",
       "      <td>0.0</td>\n",
       "      <td>0.0</td>\n",
       "      <td>0.0</td>\n",
       "      <td>MAPD0347</td>\n",
       "    </tr>\n",
       "    <tr>\n",
       "      <th>2</th>\n",
       "      <td>0.0</td>\n",
       "      <td>0.0</td>\n",
       "      <td>0.0</td>\n",
       "      <td>0.0</td>\n",
       "      <td>0.0</td>\n",
       "      <td>0.0</td>\n",
       "      <td>0.0</td>\n",
       "      <td>0.0</td>\n",
       "      <td>0.0</td>\n",
       "      <td>0.0</td>\n",
       "      <td>...</td>\n",
       "      <td>0.0</td>\n",
       "      <td>0.0</td>\n",
       "      <td>0.0</td>\n",
       "      <td>0.0</td>\n",
       "      <td>0.0</td>\n",
       "      <td>0.0</td>\n",
       "      <td>0.0</td>\n",
       "      <td>0.0</td>\n",
       "      <td>0.0</td>\n",
       "      <td>MAPD0386</td>\n",
       "    </tr>\n",
       "    <tr>\n",
       "      <th>3</th>\n",
       "      <td>0.0</td>\n",
       "      <td>0.0</td>\n",
       "      <td>0.0</td>\n",
       "      <td>0.0</td>\n",
       "      <td>0.0</td>\n",
       "      <td>0.0</td>\n",
       "      <td>0.0</td>\n",
       "      <td>0.0</td>\n",
       "      <td>0.0</td>\n",
       "      <td>0.0</td>\n",
       "      <td>...</td>\n",
       "      <td>0.0</td>\n",
       "      <td>0.0</td>\n",
       "      <td>0.0</td>\n",
       "      <td>0.0</td>\n",
       "      <td>0.0</td>\n",
       "      <td>0.0</td>\n",
       "      <td>0.0</td>\n",
       "      <td>0.0</td>\n",
       "      <td>0.0</td>\n",
       "      <td>MAPD0397</td>\n",
       "    </tr>\n",
       "    <tr>\n",
       "      <th>4</th>\n",
       "      <td>0.0</td>\n",
       "      <td>0.0</td>\n",
       "      <td>0.0</td>\n",
       "      <td>0.0</td>\n",
       "      <td>0.0</td>\n",
       "      <td>0.0</td>\n",
       "      <td>1.0</td>\n",
       "      <td>1.0</td>\n",
       "      <td>0.0</td>\n",
       "      <td>0.0</td>\n",
       "      <td>...</td>\n",
       "      <td>0.0</td>\n",
       "      <td>0.0</td>\n",
       "      <td>0.0</td>\n",
       "      <td>0.0</td>\n",
       "      <td>0.0</td>\n",
       "      <td>0.0</td>\n",
       "      <td>0.0</td>\n",
       "      <td>0.0</td>\n",
       "      <td>0.0</td>\n",
       "      <td>MAPD0292</td>\n",
       "    </tr>\n",
       "  </tbody>\n",
       "</table>\n",
       "<p>5 rows × 103 columns</p>\n",
       "</div>"
      ],
      "text/plain": [
       "    M0  M18.1  M18.2  M18.3  M18.4  M18.5  M19.1  M19.2  M19.3  M19.4  \\\n",
       "0  0.0    0.0    0.0    0.0    0.0    0.0    0.0    0.0    0.0    0.0   \n",
       "1  0.0    0.0    0.0    0.0    0.0    0.0    0.0    0.0    0.0    0.0   \n",
       "2  0.0    0.0    0.0    0.0    0.0    0.0    0.0    0.0    0.0    0.0   \n",
       "3  0.0    0.0    0.0    0.0    0.0    0.0    0.0    0.0    0.0    0.0   \n",
       "4  0.0    0.0    0.0    0.0    0.0    0.0    1.0    1.0    0.0    0.0   \n",
       "\n",
       "     ...     M31.19  M31.2  M31.3  M31.4  M31.5  M31.6  M31.7  M31.8  M31.9  \\\n",
       "0    ...        0.0    0.0    0.0    0.0    0.0    0.0    0.0    0.0    0.0   \n",
       "1    ...        0.0    0.0    0.0    0.0    0.0    0.0    0.0    0.0    0.0   \n",
       "2    ...        0.0    0.0    0.0    0.0    0.0    0.0    0.0    0.0    0.0   \n",
       "3    ...        0.0    0.0    0.0    0.0    0.0    0.0    0.0    0.0    0.0   \n",
       "4    ...        0.0    0.0    0.0    0.0    0.0    0.0    0.0    0.0    0.0   \n",
       "\n",
       "      diaID  \n",
       "0  MAPD0345  \n",
       "1  MAPD0347  \n",
       "2  MAPD0386  \n",
       "3  MAPD0397  \n",
       "4  MAPD0292  \n",
       "\n",
       "[5 rows x 103 columns]"
      ]
     },
     "execution_count": 12,
     "metadata": {},
     "output_type": "execute_result"
    }
   ],
   "source": [
    "MerkmaleDia.head()"
   ]
  },
  {
   "cell_type": "markdown",
   "metadata": {},
   "source": [
    "Eine Matrix erhält man durch den df.values Befehl."
   ]
  },
  {
   "cell_type": "code",
   "execution_count": 13,
   "metadata": {
    "collapsed": false
   },
   "outputs": [],
   "source": [
    "X = MerkmaleDia.values"
   ]
  },
  {
   "cell_type": "markdown",
   "metadata": {},
   "source": [
    "Über die Diagramm-ID kann das Bild des Diagramms aus dem edition-topoi repository geladen werden."
   ]
  },
  {
   "cell_type": "code",
   "execution_count": 14,
   "metadata": {
    "collapsed": false
   },
   "outputs": [],
   "source": [
    "diaIDs = dict(MerkmaleDia['diaID'])"
   ]
  },
  {
   "cell_type": "code",
   "execution_count": 16,
   "metadata": {
    "collapsed": false
   },
   "outputs": [
    {
     "data": {
      "text/plain": [
       "'MAPD0345'"
      ]
     },
     "execution_count": 16,
     "metadata": {},
     "output_type": "execute_result"
    }
   ],
   "source": [
    "diaIDs[0]"
   ]
  },
  {
   "cell_type": "code",
   "execution_count": 17,
   "metadata": {
    "collapsed": false
   },
   "outputs": [],
   "source": [
    "def imgShow(index):\n",
    "    diaID = int(index)\n",
    "    file = getFileBinary(diaIDs[diaID])\n",
    "    if type(file) == str:\n",
    "        image = np.ones((10,3,3))\n",
    "        pass\n",
    "    else:\n",
    "        image = io.imread(BytesIO(file))\n",
    "\n",
    "    fig, axs = plt.subplots(1, 1, sharex=False, sharey=False)\n",
    "    axs.axis('off')\n",
    "    print(diaIDs[diaID])\n",
    "    img = axs.imshow(image);\n",
    "    return img"
   ]
  },
  {
   "cell_type": "code",
   "execution_count": 18,
   "metadata": {
    "collapsed": false
   },
   "outputs": [
    {
     "name": "stdout",
     "output_type": "stream",
     "text": [
      "MAPD0345\n"
     ]
    },
    {
     "data": {
      "text/plain": [
       "<matplotlib.image.AxesImage at 0x7f4ff0d81f28>"
      ]
     },
     "metadata": {},
     "output_type": "display_data"
    },
    {
     "data": {
      "image/png": "[encoded data removed]",
      "text/plain": [
       "<matplotlib.figure.Figure at 0x7f4ff0e02dd8>"
      ]
     },
     "metadata": {},
     "output_type": "display_data"
    }
   ],
   "source": [
    "j = widgets.interactive(imgShow, index=list(diaIDs.keys()))\n",
    "HBox([j])"
   ]
  },
  {
   "cell_type": "markdown",
   "metadata": {},
   "source": [
    "Die Spalte mit den Diagramm-IDs wird nun erstmal fallen gelassen. Später kann über den Index die zugehörige Diagramm-ID ausgelesen werden."
   ]
  },
  {
   "cell_type": "code",
   "execution_count": 19,
   "metadata": {
    "collapsed": false
   },
   "outputs": [
    {
     "data": {
      "text/plain": [
       "array([[0.0, 0.0, 0.0, ..., 0.0, 0.0, 0.0],\n",
       "       [0.0, 0.0, 0.0, ..., 0.0, 0.0, 0.0],\n",
       "       [0.0, 0.0, 0.0, ..., 0.0, 0.0, 0.0],\n",
       "       ..., \n",
       "       [0.0, 0.0, 0.0, ..., 0.0, 0.0, 0.0],\n",
       "       [0.0, 1.0, 0.0, ..., 0.0, 0.0, 0.0],\n",
       "       [0.0, 0.0, 0.0, ..., 0.0, 0.0, 0.0]], dtype=object)"
      ]
     },
     "execution_count": 19,
     "metadata": {},
     "output_type": "execute_result"
    }
   ],
   "source": [
    "data = np.delete(X,-1,axis=1)\n",
    "data"
   ]
  },
  {
   "cell_type": "markdown",
   "metadata": {},
   "source": [
    "## Projektion des Merkmal-Raums auf 2D"
   ]
  },
  {
   "cell_type": "markdown",
   "metadata": {},
   "source": [
    "Für eine 2D Darstellung muss eine Projektion verwendet werden, da die Daten selbst die Dimensionen 721 (Diagramme) x 585 (Merkmale) haben. \n",
    "Hierfür bietet sich TSNE aus dem Paket sklearn an. Die Beschreibung der Funktionsweise findet sich unter http://scikit-learn.org/stable/modules/generated/sklearn.manifold.TSNE.html\n",
    "\n",
    "Diese Projektion ist stochastisch, das heißt bei einem neuen Aufruf kann sich eine andere Verteilung ergeben. Die Projektion dient nur zur Darstellung, zB für verschiedene Cluster-Größen oder Abstandsmaße. "
   ]
  },
  {
   "cell_type": "code",
   "execution_count": 20,
   "metadata": {
    "collapsed": false
   },
   "outputs": [],
   "source": [
    "projection = TSNE().fit_transform(data)"
   ]
  },
  {
   "cell_type": "code",
   "execution_count": 21,
   "metadata": {
    "collapsed": false
   },
   "outputs": [
    {
     "data": {
      "text/plain": [
       "<matplotlib.collections.PathCollection at 0x7f4ff0ce37f0>"
      ]
     },
     "execution_count": 21,
     "metadata": {},
     "output_type": "execute_result"
    },
    {
     "data": {
      "image/png": "[encoded data removed]",
      "text/plain": [
       "<matplotlib.figure.Figure at 0x7f4ff0d22a90>"
      ]
     },
     "metadata": {},
     "output_type": "display_data"
    }
   ],
   "source": [
    "plt.scatter(*projection.T)"
   ]
  },
  {
   "cell_type": "markdown",
   "metadata": {},
   "source": [
    "## Clustering"
   ]
  },
  {
   "cell_type": "markdown",
   "metadata": {},
   "source": [
    "Als Clustering-Algorithmus verwenden wir HDBSCAN, eine Weiterentwicklung im Umfeld des Scikit-Learn Pakets https://github.com/scikit-learn-contrib/hdbscan \n",
    "\n",
    "Erst wird der Clusterer initialisiert. Ein Aufruf mit `cluster.fit(data)` führt dann das Clustering durch. In der Ausgabe sieht man, welche Parameter als Standard benutzt werden."
   ]
  },
  {
   "cell_type": "code",
   "execution_count": 22,
   "metadata": {
    "collapsed": false
   },
   "outputs": [
    {
     "data": {
      "text/plain": [
       "HDBSCAN(algorithm='best', allow_single_cluster=False, alpha=1.0,\n",
       "    approx_min_span_tree=True, core_dist_n_jobs=4, gen_min_span_tree=True,\n",
       "    leaf_size=40, match_reference_implementation=False,\n",
       "    memory=Memory(cachedir=None), metric='euclidean', min_cluster_size=4,\n",
       "    min_samples=2, p=None)"
      ]
     },
     "execution_count": 22,
     "metadata": {},
     "output_type": "execute_result"
    }
   ],
   "source": [
    "clusterer = hdbscan.HDBSCAN(metric='euclidean',min_cluster_size=4, min_samples=2, gen_min_span_tree=True)\n",
    "clusterer.fit(data)"
   ]
  },
  {
   "cell_type": "markdown",
   "metadata": {},
   "source": [
    "Jedes Diagramm wird einem Cluster zugeordnet, in Abhängigkeit seiner \"Entfernung\" zu anderen Diagrammen. Als Entfernungsmaße können verschiedene Algorithmen zum Einsatz kommen. Dazu später mehr. \n",
    "\n",
    "Die Zuordnung eines Diagrammes zu einem Cluster erhält man über den Befehl `clusterer.labels_`. Diagramme, die einem zu kleinen Cluster zugeordnet werden (kleiner als 4) erhalten das Label -1."
   ]
  },
  {
   "cell_type": "code",
   "execution_count": 23,
   "metadata": {
    "collapsed": false
   },
   "outputs": [
    {
     "data": {
      "text/plain": [
       "array([-1, 13, -1,  6, 10, -1, -1, -1,  8, -1,  8,  1, -1, 11,  1, -1,  6,\n",
       "        1,  8, -1])"
      ]
     },
     "execution_count": 23,
     "metadata": {},
     "output_type": "execute_result"
    }
   ],
   "source": [
    "clusterer.labels_[:20]"
   ]
  },
  {
   "cell_type": "markdown",
   "metadata": {},
   "source": [
    "Es gibt 16 verschiedene Cluster."
   ]
  },
  {
   "cell_type": "code",
   "execution_count": 24,
   "metadata": {
    "collapsed": false
   },
   "outputs": [
    {
     "data": {
      "text/plain": [
       "16"
      ]
     },
     "execution_count": 24,
     "metadata": {},
     "output_type": "execute_result"
    }
   ],
   "source": [
    "clusterer.labels_.max()"
   ]
  },
  {
   "cell_type": "markdown",
   "metadata": {},
   "source": [
    "Die Nähe zu einem Cluster-Kern wird mit `clusterer.probabilities_` beschrieben."
   ]
  },
  {
   "cell_type": "code",
   "execution_count": 25,
   "metadata": {
    "collapsed": false
   },
   "outputs": [
    {
     "data": {
      "text/plain": [
       "array([ 0.        ,  1.        ,  0.        ,  1.        ,  1.        ,\n",
       "        0.        ,  0.        ,  0.        ,  1.        ,  0.        ,\n",
       "        1.        ,  1.        ,  0.        ,  1.        ,  1.        ,\n",
       "        0.        ,  0.81649658,  1.        ,  1.        ,  0.        ,\n",
       "        1.        ,  0.        ,  1.        ,  1.        ,  0.        ,\n",
       "        0.        ,  0.        ,  0.        ,  1.        ,  1.        ,\n",
       "        1.        ,  1.        ,  1.        ,  1.        ,  0.        ,\n",
       "        1.        ,  0.        ,  0.        ,  0.        ,  1.        ])"
      ]
     },
     "execution_count": 25,
     "metadata": {},
     "output_type": "execute_result"
    }
   ],
   "source": [
    "clusterer.probabilities_[:40]"
   ]
  },
  {
   "cell_type": "markdown",
   "metadata": {},
   "source": [
    "## Grundlage des Algorithmus\n",
    "\n",
    "Die grundlegende Idee des HDBSCAN Clusteres ist, ein gewichtetes Abstandsmaß für die Daten einzuführen, welches erlaubt Daten von Rauschen zu trennen. Anschaulich wird um jeden Datenpunkt ein Kreis gezogen, der `min_sample`=4 Punkte enthält. Der Radius zweier Punkte wird mit ihrem Abstand, berechnet je nach gewünschter Metrik, verglichen und der größte Wert wird als Entfernung der zwei Datenpunkte definiert. \n",
    "\n",
    "Ausgehend von diesen Abstandsdaten wird nun ein zufälliger Datenpunkt ausgewählt und eine Verbindung zu dem Datenpunkt mit dem geringsten Abstand gezogen. Dies wird so lange fortgesetzt, bis alle Datenpunkte verknüpft sind. Dieses neue Netzwerk bezeichnet man als Minimal Spanning Tree. \n",
    "\n",
    "Schließlich kann für die Erzeugung eines Dendrogramms wieder die Entfernung genutzt werden. Ausgehend von der geringsten Entfernung werden Cluster zusammengefügt, bis nur noch ein Cluster existiert. Diese neuen Cluster erhalten neue Indices, sodass zB für die Diagramme neue Cluster bei 722 starten."
   ]
  },
  {
   "cell_type": "markdown",
   "metadata": {},
   "source": [
    "In der Erzeugung des Minimal Spanning Trees gibt es leider einen Fehler in dem Paket, da der Parameter der die Erzeugung steuert nicht richtig übergeben wird."
   ]
  },
  {
   "cell_type": "code",
   "execution_count": 26,
   "metadata": {
    "collapsed": false
   },
   "outputs": [],
   "source": [
    "#clusterer.minimum_spanning_tree_.plot()"
   ]
  },
  {
   "cell_type": "code",
   "execution_count": 27,
   "metadata": {
    "collapsed": false
   },
   "outputs": [
    {
     "data": {
      "text/plain": [
       "True"
      ]
     },
     "execution_count": 27,
     "metadata": {},
     "output_type": "execute_result"
    }
   ],
   "source": [
    "clusterer.gen_min_span_tree"
   ]
  },
  {
   "cell_type": "markdown",
   "metadata": {},
   "source": [
    "## Dendrogramm Darstellung"
   ]
  },
  {
   "cell_type": "markdown",
   "metadata": {},
   "source": [
    "Die Hierachie der Cluster kann mit einem Dendrogramm dargestellt werden. Um die Übersichtlichkeit zu erhöhen, werden nur die 15 letzten Level dargestellt. Die Breite der Linie und ihre Farbe kodieren die Anzahl der Diagramme pro Cluster. "
   ]
  },
  {
   "cell_type": "code",
   "execution_count": 28,
   "metadata": {
    "collapsed": false
   },
   "outputs": [
    {
     "data": {
      "text/plain": [
       "<matplotlib.axes._subplots.AxesSubplot at 0x7f4ff0cea3c8>"
      ]
     },
     "execution_count": 28,
     "metadata": {},
     "output_type": "execute_result"
    },
    {
     "data": {
      "image/png": "[encoded data removed]",
      "text/plain": [
       "<matplotlib.figure.Figure at 0x7f4ff0d05c18>"
      ]
     },
     "metadata": {},
     "output_type": "display_data"
    }
   ],
   "source": [
    "clusterer.single_linkage_tree_.plot(truncate_mode='lastp',p=15,cmap='viridis', colorbar=True)"
   ]
  },
  {
   "cell_type": "markdown",
   "metadata": {},
   "source": [
    "Eine reduzierte Ansicht erhält man mit dem Condesed Tree. Hier werden nach und nach Verbindungen aus dem Haupt-Cluster entfernt. Knoten-Punkte die unter die minimale Cluster-Größe fallen, werden nicht mehr dargestellt.  "
   ]
  },
  {
   "cell_type": "code",
   "execution_count": 29,
   "metadata": {
    "collapsed": false
   },
   "outputs": [
    {
     "data": {
      "text/plain": [
       "<matplotlib.axes._subplots.AxesSubplot at 0x7f4ff0c23e48>"
      ]
     },
     "execution_count": 29,
     "metadata": {},
     "output_type": "execute_result"
    },
    {
     "data": {
      "image/png": "[encoded data removed]",
      "text/plain": [
       "<matplotlib.figure.Figure at 0x7f4fe77de908>"
      ]
     },
     "metadata": {},
     "output_type": "display_data"
    }
   ],
   "source": [
    "clusterer.condensed_tree_.plot()"
   ]
  },
  {
   "cell_type": "markdown",
   "metadata": {},
   "source": [
    "Die Information in diesem Dendrogramm kann direkt als Dataframe ausgegeben werden. "
   ]
  },
  {
   "cell_type": "code",
   "execution_count": 30,
   "metadata": {
    "collapsed": false
   },
   "outputs": [
    {
     "data": {
      "text/html": [
       "<div>\n",
       "<table border=\"1\" class=\"dataframe\">\n",
       "  <thead>\n",
       "    <tr style=\"text-align: right;\">\n",
       "      <th></th>\n",
       "      <th>parent</th>\n",
       "      <th>child</th>\n",
       "      <th>lambda_val</th>\n",
       "      <th>child_size</th>\n",
       "    </tr>\n",
       "  </thead>\n",
       "  <tbody>\n",
       "    <tr>\n",
       "      <th>0</th>\n",
       "      <td>174</td>\n",
       "      <td>133</td>\n",
       "      <td>0.447214</td>\n",
       "      <td>1</td>\n",
       "    </tr>\n",
       "    <tr>\n",
       "      <th>1</th>\n",
       "      <td>174</td>\n",
       "      <td>24</td>\n",
       "      <td>0.447214</td>\n",
       "      <td>1</td>\n",
       "    </tr>\n",
       "    <tr>\n",
       "      <th>2</th>\n",
       "      <td>174</td>\n",
       "      <td>15</td>\n",
       "      <td>0.447214</td>\n",
       "      <td>1</td>\n",
       "    </tr>\n",
       "    <tr>\n",
       "      <th>3</th>\n",
       "      <td>174</td>\n",
       "      <td>52</td>\n",
       "      <td>0.485071</td>\n",
       "      <td>1</td>\n",
       "    </tr>\n",
       "    <tr>\n",
       "      <th>4</th>\n",
       "      <td>174</td>\n",
       "      <td>78</td>\n",
       "      <td>0.485071</td>\n",
       "      <td>1</td>\n",
       "    </tr>\n",
       "  </tbody>\n",
       "</table>\n",
       "</div>"
      ],
      "text/plain": [
       "   parent  child  lambda_val  child_size\n",
       "0     174    133    0.447214           1\n",
       "1     174     24    0.447214           1\n",
       "2     174     15    0.447214           1\n",
       "3     174     52    0.485071           1\n",
       "4     174     78    0.485071           1"
      ]
     },
     "execution_count": 30,
     "metadata": {},
     "output_type": "execute_result"
    }
   ],
   "source": [
    "dfClusterCond = clusterer.condensed_tree_.to_pandas()\n",
    "dfClusterCond.head()"
   ]
  },
  {
   "cell_type": "markdown",
   "metadata": {},
   "source": [
    "## Einfluss verschiedener Parameter auf Cluster Erzeugung"
   ]
  },
  {
   "cell_type": "markdown",
   "metadata": {},
   "source": [
    "### Minimale Cluster Größe"
   ]
  },
  {
   "cell_type": "markdown",
   "metadata": {},
   "source": [
    "Die minimale Cluster Größe hat einen großen Einfluss auf die Cluster-Bildung. Dies kann am besten mit einer Projektion in 2D dargestellt werden. "
   ]
  },
  {
   "cell_type": "code",
   "execution_count": 31,
   "metadata": {
    "collapsed": false
   },
   "outputs": [
    {
     "data": {
      "text/plain": [
       "<matplotlib.collections.PathCollection at 0x7f4fe73a2f60>"
      ]
     },
     "execution_count": 31,
     "metadata": {},
     "output_type": "execute_result"
    },
    {
     "data": {
      "image/png": "[encoded data removed]",
      "text/plain": [
       "<matplotlib.figure.Figure at 0x7f4fe73d7d30>"
      ]
     },
     "metadata": {},
     "output_type": "display_data"
    }
   ],
   "source": [
    "clusterer = hdbscan.HDBSCAN(min_cluster_size=5,min_samples=1).fit(data)\n",
    "color_palette = sns.color_palette('Paired', 48)\n",
    "cluster_colors = [color_palette[x] if x >= 0\n",
    "                  else (0.5, 0.5, 0.5)\n",
    "                  for x in clusterer.labels_]\n",
    "cluster_member_colors = [sns.desaturate(x, p) for x, p in\n",
    "                         zip(cluster_colors, clusterer.probabilities_)]\n",
    "plt.scatter(*projection.T, s=50, linewidth=0, c=cluster_member_colors, alpha=0.25)"
   ]
  },
  {
   "cell_type": "code",
   "execution_count": 32,
   "metadata": {
    "collapsed": false
   },
   "outputs": [
    {
     "data": {
      "text/plain": [
       "<matplotlib.collections.PathCollection at 0x7f4fe731f4a8>"
      ]
     },
     "execution_count": 32,
     "metadata": {},
     "output_type": "execute_result"
    },
    {
     "data": {
      "image/png": "[encoded data removed]",
      "text/plain": [
       "<matplotlib.figure.Figure at 0x7f4fe761c828>"
      ]
     },
     "metadata": {},
     "output_type": "display_data"
    }
   ],
   "source": [
    "clusterer = hdbscan.HDBSCAN(min_cluster_size=10,min_samples=1).fit(data)\n",
    "color_palette = sns.color_palette('Paired', 48)\n",
    "cluster_colors = [color_palette[x] if x >= 0\n",
    "                  else (0.5, 0.5, 0.5)\n",
    "                  for x in clusterer.labels_]\n",
    "cluster_member_colors = [sns.desaturate(x, p) for x, p in\n",
    "                         zip(cluster_colors, clusterer.probabilities_)]\n",
    "plt.scatter(*projection.T, s=50, linewidth=0, c=cluster_member_colors, alpha=0.25)"
   ]
  },
  {
   "cell_type": "code",
   "execution_count": 33,
   "metadata": {
    "collapsed": false
   },
   "outputs": [
    {
     "data": {
      "text/plain": [
       "<matplotlib.collections.PathCollection at 0x7f4fe7291668>"
      ]
     },
     "execution_count": 33,
     "metadata": {},
     "output_type": "execute_result"
    },
    {
     "data": {
      "image/png": "[encoded data removed]",
      "text/plain": [
       "<matplotlib.figure.Figure at 0x7f4fe7335048>"
      ]
     },
     "metadata": {},
     "output_type": "display_data"
    }
   ],
   "source": [
    "clusterer = hdbscan.HDBSCAN(min_cluster_size=15,min_samples=1).fit(data)\n",
    "color_palette = sns.color_palette('Paired', 48)\n",
    "cluster_colors = [color_palette[x] if x >= 0\n",
    "                  else (0.5, 0.5, 0.5)\n",
    "                  for x in clusterer.labels_]\n",
    "cluster_member_colors = [sns.desaturate(x, p) for x, p in\n",
    "                         zip(cluster_colors, clusterer.probabilities_)]\n",
    "plt.scatter(*projection.T, s=50, linewidth=0, c=cluster_member_colors, alpha=0.25)"
   ]
  },
  {
   "cell_type": "markdown",
   "metadata": {},
   "source": [
    "### Metrik\n",
    "\n",
    "Die Auswahl der Metrik bestimmt, welches Entfernungsmaß für die Attribut-Beschreibung verwendet werden soll. Es gibt drei grundlegend unterschiedliche Gruppen von Maßen, je nachdem welche Werte die Beschreibungs-Vektoren annehmen können:\n",
    "\n",
    "    reelle Zahlen: zB euclidean, minkowski, chebyshev\n",
    "    ganze Zahlen: Hamming, Canberra, Braycurtis\n",
    "    boolsche Werte (True/False): jaccard, dice (Für reelle Zahlen werden Werte ungleich null als True gesetzt.)"
   ]
  },
  {
   "cell_type": "markdown",
   "metadata": {},
   "source": [
    "Die Liste aller möglichen Metriken erhält man wie unten, die Beschreibung der Mathematik dahinter findet sich im Quelltext https://github.com/scikit-learn-contrib/hdbscan/blob/master/hdbscan/dist_metrics.pyx"
   ]
  },
  {
   "cell_type": "code",
   "execution_count": 34,
   "metadata": {
    "collapsed": false
   },
   "outputs": [
    {
     "data": {
      "text/plain": [
       "{'arccos': hdbscan.dist_metrics.ArccosDistance,\n",
       " 'braycurtis': hdbscan.dist_metrics.BrayCurtisDistance,\n",
       " 'canberra': hdbscan.dist_metrics.CanberraDistance,\n",
       " 'chebyshev': hdbscan.dist_metrics.ChebyshevDistance,\n",
       " 'cityblock': hdbscan.dist_metrics.ManhattanDistance,\n",
       " 'cosine': hdbscan.dist_metrics.ArccosDistance,\n",
       " 'dice': hdbscan.dist_metrics.DiceDistance,\n",
       " 'euclidean': hdbscan.dist_metrics.EuclideanDistance,\n",
       " 'hamming': hdbscan.dist_metrics.HammingDistance,\n",
       " 'haversine': hdbscan.dist_metrics.HaversineDistance,\n",
       " 'infinity': hdbscan.dist_metrics.ChebyshevDistance,\n",
       " 'jaccard': hdbscan.dist_metrics.JaccardDistance,\n",
       " 'kulsinski': hdbscan.dist_metrics.KulsinskiDistance,\n",
       " 'l1': hdbscan.dist_metrics.ManhattanDistance,\n",
       " 'l2': hdbscan.dist_metrics.EuclideanDistance,\n",
       " 'mahalanobis': hdbscan.dist_metrics.MahalanobisDistance,\n",
       " 'manhattan': hdbscan.dist_metrics.ManhattanDistance,\n",
       " 'matching': hdbscan.dist_metrics.MatchingDistance,\n",
       " 'minkowski': hdbscan.dist_metrics.MinkowskiDistance,\n",
       " 'p': hdbscan.dist_metrics.MinkowskiDistance,\n",
       " 'pyfunc': hdbscan.dist_metrics.PyFuncDistance,\n",
       " 'rogerstanimoto': hdbscan.dist_metrics.RogersTanimotoDistance,\n",
       " 'russellrao': hdbscan.dist_metrics.RussellRaoDistance,\n",
       " 'seuclidean': hdbscan.dist_metrics.SEuclideanDistance,\n",
       " 'sokalmichener': hdbscan.dist_metrics.SokalMichenerDistance,\n",
       " 'sokalsneath': hdbscan.dist_metrics.SokalSneathDistance,\n",
       " 'wminkowski': hdbscan.dist_metrics.WMinkowskiDistance}"
      ]
     },
     "execution_count": 34,
     "metadata": {},
     "output_type": "execute_result"
    }
   ],
   "source": [
    "hdbscan.dist_metrics.METRIC_MAPPING"
   ]
  },
  {
   "cell_type": "code",
   "execution_count": 35,
   "metadata": {
    "collapsed": true
   },
   "outputs": [],
   "source": [
    "clusterer = hdbscan.HDBSCAN(metric='minkowski',p=3,min_cluster_size=5,min_samples=3)\n",
    "clusterer1 = hdbscan.HDBSCAN(metric='hamming',min_cluster_size=5,min_samples=3)\n",
    "clusterer2 = hdbscan.HDBSCAN(metric='braycurtis',min_cluster_size=5,min_samples=3)"
   ]
  },
  {
   "cell_type": "code",
   "execution_count": 36,
   "metadata": {
    "collapsed": false
   },
   "outputs": [
    {
     "data": {
      "text/plain": [
       "HDBSCAN(algorithm='best', allow_single_cluster=False, alpha=1.0,\n",
       "    approx_min_span_tree=True, core_dist_n_jobs=4, gen_min_span_tree=False,\n",
       "    leaf_size=40, match_reference_implementation=False,\n",
       "    memory=Memory(cachedir=None), metric='braycurtis', min_cluster_size=5,\n",
       "    min_samples=3, p=None)"
      ]
     },
     "execution_count": 36,
     "metadata": {},
     "output_type": "execute_result"
    }
   ],
   "source": [
    "clusterer.fit(data)\n",
    "clusterer1.fit(data)\n",
    "clusterer2.fit(data)"
   ]
  },
  {
   "cell_type": "code",
   "execution_count": 37,
   "metadata": {
    "collapsed": false
   },
   "outputs": [],
   "source": [
    "color_palette = sns.color_palette('Paired', 50)\n",
    "\n",
    "cluster_colors = [color_palette[x] if x >= 0 else (0.5, 0.5, 0.5) for x in clusterer.labels_]\n",
    "cluster_member_colors = [sns.desaturate(x, p) for x, p in zip(cluster_colors, clusterer.probabilities_)]\n",
    "\n",
    "cluster_colors1 = [color_palette[x] if x >= 0 else (0.5, 0.5, 0.5) for x in clusterer1.labels_]\n",
    "cluster_member_colors1 = [sns.desaturate(x, p) for x, p in zip(cluster_colors1, clusterer1.probabilities_)]\n",
    "\n",
    "cluster_colors2 = [color_palette[x] if x >= 0 else (0.5, 0.5, 0.5) for x in clusterer2.labels_]\n",
    "cluster_member_colors2 = [sns.desaturate(x, p) for x, p in zip(cluster_colors2, clusterer2.probabilities_)]"
   ]
  },
  {
   "cell_type": "code",
   "execution_count": 38,
   "metadata": {
    "collapsed": false
   },
   "outputs": [
    {
     "data": {
      "image/png": "[encoded data removed]",
      "text/plain": [
       "<matplotlib.figure.Figure at 0x7f4fe729b898>"
      ]
     },
     "metadata": {},
     "output_type": "display_data"
    }
   ],
   "source": [
    "fig = plt.figure(figsize=(12,4))\n",
    "\n",
    "ax1 = fig.add_subplot(131)\n",
    "ax2 = fig.add_subplot(132)\n",
    "ax3 = fig.add_subplot(133)\n",
    "\n",
    "ax1.scatter(*projection.T, s=50, linewidth=0, c=cluster_member_colors, alpha=0.25)\n",
    "ax2.scatter(*projection.T, s=50, linewidth=0, c=cluster_member_colors1, alpha=0.25)\n",
    "ax3.scatter(*projection.T, s=50, linewidth=0, c=cluster_member_colors2, alpha=0.25)\n",
    "\n",
    "plt.tight_layout()"
   ]
  },
  {
   "cell_type": "code",
   "execution_count": 39,
   "metadata": {
    "collapsed": false
   },
   "outputs": [
    {
     "data": {
      "image/png": "[encoded data removed]",
      "text/plain": [
       "<matplotlib.figure.Figure at 0x7f4fe72f74e0>"
      ]
     },
     "metadata": {},
     "output_type": "display_data"
    }
   ],
   "source": [
    "#fig = plt.figure(,sharey=True)\n",
    "fig, ax = plt.subplots(1, 3, figsize=(12,4), sharex=False, sharey=False)\n",
    "\n",
    "clusterer.single_linkage_tree_.plot(truncate_mode='lastp',p=10,cmap='viridis', colorbar=False, axis=ax[0])\n",
    "clusterer1.single_linkage_tree_.plot(truncate_mode='lastp',p=10,cmap='viridis', colorbar=False, axis=ax[1])\n",
    "clusterer2.single_linkage_tree_.plot(truncate_mode='lastp',p=10,cmap='viridis', colorbar=True, axis=ax[2])\n",
    "\n",
    "plt.tight_layout()"
   ]
  },
  {
   "cell_type": "markdown",
   "metadata": {},
   "source": [
    "### Selbst definierte Metriken\n",
    "\n",
    "Über die Auswahl von pyfunc soll auch das definieren eigener Metriken möglich sein. Diese könnte spezielles Wissen über die Daten beinhalten. So sollte es zB schwerer sein, ein Merkmal bei dem Kopieren von Diagrammen hinzuzufügen als wegzulassen. Daher sollte die \"Entfernung\" von 0 zu 1 größer sein als 1 zu 0. Damit wäre die so definierte Entfernung keine eigentliche Metrik mehr, da für diese immer Symmetrie ( d(x,y) = d(y,x) ) gelten muss."
   ]
  },
  {
   "cell_type": "code",
   "execution_count": 40,
   "metadata": {
    "collapsed": true
   },
   "outputs": [],
   "source": [
    "def weightedattributes(u,v):\n",
    "    dist = np.sqrt((1/(u+1)*(u-v)**2).sum())\n",
    "    return dist"
   ]
  },
  {
   "cell_type": "markdown",
   "metadata": {},
   "source": [
    "# Clustering von Texten"
   ]
  },
  {
   "cell_type": "code",
   "execution_count": 41,
   "metadata": {
    "collapsed": false
   },
   "outputs": [
    {
     "data": {
      "text/html": [
       "<div>\n",
       "<table border=\"1\" class=\"dataframe\">\n",
       "  <thead>\n",
       "    <tr style=\"text-align: right;\">\n",
       "      <th></th>\n",
       "      <th>author</th>\n",
       "      <th>diaID</th>\n",
       "      <th>diaAttr</th>\n",
       "      <th>textID</th>\n",
       "    </tr>\n",
       "  </thead>\n",
       "  <tbody>\n",
       "    <tr>\n",
       "      <th>314</th>\n",
       "      <td>Capella</td>\n",
       "      <td>MAPD0345</td>\n",
       "      <td>[{'M22.1': 0, 'M22.3': 0, 'M22.5': 1, 'M22.6':...</td>\n",
       "      <td>LK(1)_B</td>\n",
       "    </tr>\n",
       "    <tr>\n",
       "      <th>411</th>\n",
       "      <td>Capella</td>\n",
       "      <td>MAPD0347</td>\n",
       "      <td>[{'M20.2': 0, 'M20.4': 0, 'M20.5': 0, 'M20.1':...</td>\n",
       "      <td>NW(2)_A</td>\n",
       "    </tr>\n",
       "    <tr>\n",
       "      <th>466</th>\n",
       "      <td>Capella</td>\n",
       "      <td>MAPD0386</td>\n",
       "      <td>[{'M21.1': 0, 'M21.4': 1, 'M21.6': 0, 'M21.3':...</td>\n",
       "      <td>AY(3)_A</td>\n",
       "    </tr>\n",
       "    <tr>\n",
       "      <th>467</th>\n",
       "      <td>Capella</td>\n",
       "      <td>MAPD0397</td>\n",
       "      <td>[{'M22.1': 1, 'M22.3': 1, 'M22.5': 0, 'M22.6':...</td>\n",
       "      <td>AY(3)_A</td>\n",
       "    </tr>\n",
       "    <tr>\n",
       "      <th>519</th>\n",
       "      <td>Capella</td>\n",
       "      <td>MAPD0292</td>\n",
       "      <td>[{'M19.1': 1, 'M19.2': 1, 'M19.5': 0, 'M19.3':...</td>\n",
       "      <td>AY(1)_A</td>\n",
       "    </tr>\n",
       "  </tbody>\n",
       "</table>\n",
       "</div>"
      ],
      "text/plain": [
       "      author     diaID                                            diaAttr  \\\n",
       "314  Capella  MAPD0345  [{'M22.1': 0, 'M22.3': 0, 'M22.5': 1, 'M22.6':...   \n",
       "411  Capella  MAPD0347  [{'M20.2': 0, 'M20.4': 0, 'M20.5': 0, 'M20.1':...   \n",
       "466  Capella  MAPD0386  [{'M21.1': 0, 'M21.4': 1, 'M21.6': 0, 'M21.3':...   \n",
       "467  Capella  MAPD0397  [{'M22.1': 1, 'M22.3': 1, 'M22.5': 0, 'M22.6':...   \n",
       "519  Capella  MAPD0292  [{'M19.1': 1, 'M19.2': 1, 'M19.5': 0, 'M19.3':...   \n",
       "\n",
       "      textID  \n",
       "314  LK(1)_B  \n",
       "411  NW(2)_A  \n",
       "466  AY(3)_A  \n",
       "467  AY(3)_A  \n",
       "519  AY(1)_A  "
      ]
     },
     "execution_count": 41,
     "metadata": {},
     "output_type": "execute_result"
    }
   ],
   "source": [
    "textMerkmale=diagrams[[\"author\",\"diaID\",\"diaAttr\",\"textID\"]].reset_index(drop=True)\n",
    "dfCapella = textMerkmale[textMerkmale['author']=='Capella']\n",
    "dfCapella.head()"
   ]
  },
  {
   "cell_type": "code",
   "execution_count": 42,
   "metadata": {
    "collapsed": false
   },
   "outputs": [],
   "source": [
    "dfList = []\n",
    "for text in dfCapella['textID']:\n",
    "    dfTemp = dfCapella[dfCapella['textID']==text]\n",
    "    subList = []\n",
    "    for i in range(len(dfTemp)):\n",
    "        j = pd.DataFrame(dfTemp['diaAttr'].iloc[i])\n",
    "        subList.append(j)\n",
    "    dfTemp2 = pd.concat(subList,axis=1).fillna(0)\n",
    "    dfList.append(dfTemp2)  "
   ]
  },
  {
   "cell_type": "code",
   "execution_count": 43,
   "metadata": {
    "collapsed": false
   },
   "outputs": [
    {
     "data": {
      "text/plain": [
       "174"
      ]
     },
     "execution_count": 43,
     "metadata": {},
     "output_type": "execute_result"
    }
   ],
   "source": [
    "len(dfList)"
   ]
  },
  {
   "cell_type": "code",
   "execution_count": 44,
   "metadata": {
    "collapsed": false
   },
   "outputs": [
    {
     "data": {
      "text/html": [
       "<div>\n",
       "<table border=\"1\" class=\"dataframe\">\n",
       "  <thead>\n",
       "    <tr style=\"text-align: right;\">\n",
       "      <th></th>\n",
       "      <th>M0</th>\n",
       "      <th>M18.1</th>\n",
       "      <th>M18.2</th>\n",
       "      <th>M18.3</th>\n",
       "      <th>M18.4</th>\n",
       "      <th>M18.5</th>\n",
       "      <th>M19.1</th>\n",
       "      <th>M19.2</th>\n",
       "      <th>M19.3</th>\n",
       "      <th>M19.4</th>\n",
       "      <th>...</th>\n",
       "      <th>M31.18</th>\n",
       "      <th>M31.19</th>\n",
       "      <th>M31.2</th>\n",
       "      <th>M31.3</th>\n",
       "      <th>M31.4</th>\n",
       "      <th>M31.5</th>\n",
       "      <th>M31.6</th>\n",
       "      <th>M31.7</th>\n",
       "      <th>M31.8</th>\n",
       "      <th>M31.9</th>\n",
       "    </tr>\n",
       "  </thead>\n",
       "  <tbody>\n",
       "    <tr>\n",
       "      <th>0</th>\n",
       "      <td>0</td>\n",
       "      <td>0.0</td>\n",
       "      <td>0.0</td>\n",
       "      <td>0</td>\n",
       "      <td>0.0</td>\n",
       "      <td>0.0</td>\n",
       "      <td>0.0</td>\n",
       "      <td>0.0</td>\n",
       "      <td>0.0</td>\n",
       "      <td>0.0</td>\n",
       "      <td>...</td>\n",
       "      <td>0.0</td>\n",
       "      <td>0.0</td>\n",
       "      <td>0.0</td>\n",
       "      <td>0.0</td>\n",
       "      <td>0</td>\n",
       "      <td>0.0</td>\n",
       "      <td>0.0</td>\n",
       "      <td>0.0</td>\n",
       "      <td>0.0</td>\n",
       "      <td>0.0</td>\n",
       "    </tr>\n",
       "    <tr>\n",
       "      <th>0</th>\n",
       "      <td>0</td>\n",
       "      <td>0.0</td>\n",
       "      <td>0.0</td>\n",
       "      <td>0</td>\n",
       "      <td>0.0</td>\n",
       "      <td>0.0</td>\n",
       "      <td>0.0</td>\n",
       "      <td>0.0</td>\n",
       "      <td>0.0</td>\n",
       "      <td>0.0</td>\n",
       "      <td>...</td>\n",
       "      <td>0.0</td>\n",
       "      <td>0.0</td>\n",
       "      <td>0.0</td>\n",
       "      <td>0.0</td>\n",
       "      <td>0</td>\n",
       "      <td>0.0</td>\n",
       "      <td>0.0</td>\n",
       "      <td>0.0</td>\n",
       "      <td>0.0</td>\n",
       "      <td>0.0</td>\n",
       "    </tr>\n",
       "    <tr>\n",
       "      <th>0</th>\n",
       "      <td>0</td>\n",
       "      <td>0.0</td>\n",
       "      <td>0.0</td>\n",
       "      <td>0</td>\n",
       "      <td>0.0</td>\n",
       "      <td>0.0</td>\n",
       "      <td>0.0</td>\n",
       "      <td>0.0</td>\n",
       "      <td>0.0</td>\n",
       "      <td>0.0</td>\n",
       "      <td>...</td>\n",
       "      <td>0.0</td>\n",
       "      <td>0.0</td>\n",
       "      <td>0.0</td>\n",
       "      <td>0.0</td>\n",
       "      <td>0</td>\n",
       "      <td>0.0</td>\n",
       "      <td>0.0</td>\n",
       "      <td>0.0</td>\n",
       "      <td>0.0</td>\n",
       "      <td>0.0</td>\n",
       "    </tr>\n",
       "    <tr>\n",
       "      <th>0</th>\n",
       "      <td>0</td>\n",
       "      <td>0.0</td>\n",
       "      <td>0.0</td>\n",
       "      <td>0</td>\n",
       "      <td>0.0</td>\n",
       "      <td>0.0</td>\n",
       "      <td>0.0</td>\n",
       "      <td>0.0</td>\n",
       "      <td>0.0</td>\n",
       "      <td>0.0</td>\n",
       "      <td>...</td>\n",
       "      <td>0.0</td>\n",
       "      <td>0.0</td>\n",
       "      <td>0.0</td>\n",
       "      <td>0.0</td>\n",
       "      <td>0</td>\n",
       "      <td>0.0</td>\n",
       "      <td>0.0</td>\n",
       "      <td>0.0</td>\n",
       "      <td>0.0</td>\n",
       "      <td>0.0</td>\n",
       "    </tr>\n",
       "    <tr>\n",
       "      <th>0</th>\n",
       "      <td>0</td>\n",
       "      <td>0.0</td>\n",
       "      <td>0.0</td>\n",
       "      <td>0</td>\n",
       "      <td>1.0</td>\n",
       "      <td>1.0</td>\n",
       "      <td>1.0</td>\n",
       "      <td>1.0</td>\n",
       "      <td>0.0</td>\n",
       "      <td>0.0</td>\n",
       "      <td>...</td>\n",
       "      <td>0.0</td>\n",
       "      <td>0.0</td>\n",
       "      <td>0.0</td>\n",
       "      <td>0.0</td>\n",
       "      <td>0</td>\n",
       "      <td>0.0</td>\n",
       "      <td>1.0</td>\n",
       "      <td>1.0</td>\n",
       "      <td>1.0</td>\n",
       "      <td>0.0</td>\n",
       "    </tr>\n",
       "  </tbody>\n",
       "</table>\n",
       "<p>5 rows × 102 columns</p>\n",
       "</div>"
      ],
      "text/plain": [
       "  M0  M18.1  M18.2 M18.3  M18.4  M18.5  M19.1  M19.2  M19.3  M19.4  ...    \\\n",
       "0  0    0.0    0.0     0    0.0    0.0    0.0    0.0    0.0    0.0  ...     \n",
       "0  0    0.0    0.0     0    0.0    0.0    0.0    0.0    0.0    0.0  ...     \n",
       "0  0    0.0    0.0     0    0.0    0.0    0.0    0.0    0.0    0.0  ...     \n",
       "0  0    0.0    0.0     0    0.0    0.0    0.0    0.0    0.0    0.0  ...     \n",
       "0  0    0.0    0.0     0    1.0    1.0    1.0    1.0    0.0    0.0  ...     \n",
       "\n",
       "   M31.18  M31.19  M31.2  M31.3  M31.4  M31.5  M31.6  M31.7  M31.8  M31.9  \n",
       "0     0.0     0.0    0.0    0.0      0    0.0    0.0    0.0    0.0    0.0  \n",
       "0     0.0     0.0    0.0    0.0      0    0.0    0.0    0.0    0.0    0.0  \n",
       "0     0.0     0.0    0.0    0.0      0    0.0    0.0    0.0    0.0    0.0  \n",
       "0     0.0     0.0    0.0    0.0      0    0.0    0.0    0.0    0.0    0.0  \n",
       "0     0.0     0.0    0.0    0.0      0    0.0    1.0    1.0    1.0    0.0  \n",
       "\n",
       "[5 rows x 102 columns]"
      ]
     },
     "execution_count": 44,
     "metadata": {},
     "output_type": "execute_result"
    }
   ],
   "source": [
    "dfTexte = pd.concat(dfList[:100]).fillna(0)\n",
    "dfTexte.head()"
   ]
  },
  {
   "cell_type": "code",
   "execution_count": 45,
   "metadata": {
    "collapsed": false
   },
   "outputs": [],
   "source": [
    "dfTexte = dfTexte.drop('M0',1)"
   ]
  },
  {
   "cell_type": "code",
   "execution_count": 46,
   "metadata": {
    "collapsed": false
   },
   "outputs": [
    {
     "data": {
      "text/html": [
       "<div>\n",
       "<table border=\"1\" class=\"dataframe\">\n",
       "  <thead>\n",
       "    <tr style=\"text-align: right;\">\n",
       "      <th></th>\n",
       "      <th>M18.1</th>\n",
       "      <th>M18.2</th>\n",
       "      <th>M18.3</th>\n",
       "      <th>M18.4</th>\n",
       "      <th>M18.5</th>\n",
       "      <th>M19.1</th>\n",
       "      <th>M19.2</th>\n",
       "      <th>M19.3</th>\n",
       "      <th>M19.4</th>\n",
       "      <th>M19.5</th>\n",
       "      <th>...</th>\n",
       "      <th>M31.18</th>\n",
       "      <th>M31.19</th>\n",
       "      <th>M31.2</th>\n",
       "      <th>M31.3</th>\n",
       "      <th>M31.4</th>\n",
       "      <th>M31.5</th>\n",
       "      <th>M31.6</th>\n",
       "      <th>M31.7</th>\n",
       "      <th>M31.8</th>\n",
       "      <th>M31.9</th>\n",
       "    </tr>\n",
       "  </thead>\n",
       "  <tbody>\n",
       "    <tr>\n",
       "      <th>0</th>\n",
       "      <td>0.0</td>\n",
       "      <td>0.0</td>\n",
       "      <td>0</td>\n",
       "      <td>0.0</td>\n",
       "      <td>0.0</td>\n",
       "      <td>0.0</td>\n",
       "      <td>0.0</td>\n",
       "      <td>0.0</td>\n",
       "      <td>0.0</td>\n",
       "      <td>0.0</td>\n",
       "      <td>...</td>\n",
       "      <td>0.0</td>\n",
       "      <td>0.0</td>\n",
       "      <td>0.0</td>\n",
       "      <td>0.0</td>\n",
       "      <td>0</td>\n",
       "      <td>0.0</td>\n",
       "      <td>0.0</td>\n",
       "      <td>0.0</td>\n",
       "      <td>0.0</td>\n",
       "      <td>0.0</td>\n",
       "    </tr>\n",
       "    <tr>\n",
       "      <th>0</th>\n",
       "      <td>0.0</td>\n",
       "      <td>0.0</td>\n",
       "      <td>0</td>\n",
       "      <td>0.0</td>\n",
       "      <td>0.0</td>\n",
       "      <td>0.0</td>\n",
       "      <td>0.0</td>\n",
       "      <td>0.0</td>\n",
       "      <td>0.0</td>\n",
       "      <td>0.0</td>\n",
       "      <td>...</td>\n",
       "      <td>0.0</td>\n",
       "      <td>0.0</td>\n",
       "      <td>0.0</td>\n",
       "      <td>0.0</td>\n",
       "      <td>0</td>\n",
       "      <td>0.0</td>\n",
       "      <td>0.0</td>\n",
       "      <td>0.0</td>\n",
       "      <td>0.0</td>\n",
       "      <td>0.0</td>\n",
       "    </tr>\n",
       "    <tr>\n",
       "      <th>0</th>\n",
       "      <td>0.0</td>\n",
       "      <td>0.0</td>\n",
       "      <td>0</td>\n",
       "      <td>0.0</td>\n",
       "      <td>0.0</td>\n",
       "      <td>0.0</td>\n",
       "      <td>0.0</td>\n",
       "      <td>0.0</td>\n",
       "      <td>0.0</td>\n",
       "      <td>0.0</td>\n",
       "      <td>...</td>\n",
       "      <td>0.0</td>\n",
       "      <td>0.0</td>\n",
       "      <td>0.0</td>\n",
       "      <td>0.0</td>\n",
       "      <td>0</td>\n",
       "      <td>0.0</td>\n",
       "      <td>0.0</td>\n",
       "      <td>0.0</td>\n",
       "      <td>0.0</td>\n",
       "      <td>0.0</td>\n",
       "    </tr>\n",
       "    <tr>\n",
       "      <th>0</th>\n",
       "      <td>0.0</td>\n",
       "      <td>0.0</td>\n",
       "      <td>0</td>\n",
       "      <td>0.0</td>\n",
       "      <td>0.0</td>\n",
       "      <td>0.0</td>\n",
       "      <td>0.0</td>\n",
       "      <td>0.0</td>\n",
       "      <td>0.0</td>\n",
       "      <td>0.0</td>\n",
       "      <td>...</td>\n",
       "      <td>0.0</td>\n",
       "      <td>0.0</td>\n",
       "      <td>0.0</td>\n",
       "      <td>0.0</td>\n",
       "      <td>0</td>\n",
       "      <td>0.0</td>\n",
       "      <td>0.0</td>\n",
       "      <td>0.0</td>\n",
       "      <td>0.0</td>\n",
       "      <td>0.0</td>\n",
       "    </tr>\n",
       "    <tr>\n",
       "      <th>0</th>\n",
       "      <td>0.0</td>\n",
       "      <td>0.0</td>\n",
       "      <td>0</td>\n",
       "      <td>1.0</td>\n",
       "      <td>1.0</td>\n",
       "      <td>1.0</td>\n",
       "      <td>1.0</td>\n",
       "      <td>0.0</td>\n",
       "      <td>0.0</td>\n",
       "      <td>0.0</td>\n",
       "      <td>...</td>\n",
       "      <td>0.0</td>\n",
       "      <td>0.0</td>\n",
       "      <td>0.0</td>\n",
       "      <td>0.0</td>\n",
       "      <td>0</td>\n",
       "      <td>0.0</td>\n",
       "      <td>1.0</td>\n",
       "      <td>1.0</td>\n",
       "      <td>1.0</td>\n",
       "      <td>0.0</td>\n",
       "    </tr>\n",
       "  </tbody>\n",
       "</table>\n",
       "<p>5 rows × 101 columns</p>\n",
       "</div>"
      ],
      "text/plain": [
       "   M18.1  M18.2 M18.3  M18.4  M18.5  M19.1  M19.2  M19.3  M19.4  M19.5  ...    \\\n",
       "0    0.0    0.0     0    0.0    0.0    0.0    0.0    0.0    0.0    0.0  ...     \n",
       "0    0.0    0.0     0    0.0    0.0    0.0    0.0    0.0    0.0    0.0  ...     \n",
       "0    0.0    0.0     0    0.0    0.0    0.0    0.0    0.0    0.0    0.0  ...     \n",
       "0    0.0    0.0     0    0.0    0.0    0.0    0.0    0.0    0.0    0.0  ...     \n",
       "0    0.0    0.0     0    1.0    1.0    1.0    1.0    0.0    0.0    0.0  ...     \n",
       "\n",
       "   M31.18  M31.19  M31.2  M31.3  M31.4  M31.5  M31.6  M31.7  M31.8  M31.9  \n",
       "0     0.0     0.0    0.0    0.0      0    0.0    0.0    0.0    0.0    0.0  \n",
       "0     0.0     0.0    0.0    0.0      0    0.0    0.0    0.0    0.0    0.0  \n",
       "0     0.0     0.0    0.0    0.0      0    0.0    0.0    0.0    0.0    0.0  \n",
       "0     0.0     0.0    0.0    0.0      0    0.0    0.0    0.0    0.0    0.0  \n",
       "0     0.0     0.0    0.0    0.0      0    0.0    1.0    1.0    1.0    0.0  \n",
       "\n",
       "[5 rows x 101 columns]"
      ]
     },
     "execution_count": 46,
     "metadata": {},
     "output_type": "execute_result"
    }
   ],
   "source": [
    "dfTexte.head()"
   ]
  },
  {
   "cell_type": "code",
   "execution_count": 47,
   "metadata": {
    "collapsed": false
   },
   "outputs": [
    {
     "data": {
      "text/plain": [
       "[0.0, 1, '?']"
      ]
     },
     "execution_count": 47,
     "metadata": {},
     "output_type": "execute_result"
    }
   ],
   "source": [
    "vlList = list(pd.unique(dfTexte.values.ravel()))\n",
    "[x for x in vlList if 'MAPD' not in str(x)]"
   ]
  },
  {
   "cell_type": "code",
   "execution_count": 48,
   "metadata": {
    "collapsed": false
   },
   "outputs": [],
   "source": [
    "rplBy = 0.5\n",
    "\n",
    "if '?' in vlList:\n",
    "    dfTexte.replace(['?'],[rplBy],inplace=True)\n",
    "if 'no attributes' in vlList:\n",
    "    dfTexte.replace(['no attributes'],[rplBy],inplace=True)\n",
    "if '' in vlList:\n",
    "    dfTexte.replace([''],[rplBy],inplace=True)"
   ]
  },
  {
   "cell_type": "code",
   "execution_count": 49,
   "metadata": {
    "collapsed": false
   },
   "outputs": [
    {
     "data": {
      "text/plain": [
       "array([[ 0.,  0.,  0., ...,  0.,  0.,  0.],\n",
       "       [ 0.,  0.,  0., ...,  0.,  0.,  0.],\n",
       "       [ 0.,  0.,  0., ...,  0.,  0.,  0.],\n",
       "       ..., \n",
       "       [ 0.,  0.,  0., ...,  0.,  0.,  0.],\n",
       "       [ 0.,  0.,  0., ...,  0.,  0.,  0.],\n",
       "       [ 0.,  0.,  0., ...,  0.,  0.,  0.]])"
      ]
     },
     "execution_count": 49,
     "metadata": {},
     "output_type": "execute_result"
    }
   ],
   "source": [
    "dataTexte = dfTexte.values\n",
    "dataTexte"
   ]
  },
  {
   "cell_type": "code",
   "execution_count": 50,
   "metadata": {
    "collapsed": true
   },
   "outputs": [],
   "source": [
    "projectionTexte = TSNE().fit_transform(dataTexte)"
   ]
  },
  {
   "cell_type": "code",
   "execution_count": 51,
   "metadata": {
    "collapsed": false
   },
   "outputs": [
    {
     "data": {
      "text/plain": [
       "<matplotlib.collections.PathCollection at 0x7f4fe6df87f0>"
      ]
     },
     "execution_count": 51,
     "metadata": {},
     "output_type": "execute_result"
    },
    {
     "data": {
      "image/png": "[encoded data removed]",
      "text/plain": [
       "<matplotlib.figure.Figure at 0x7f4fe6e69080>"
      ]
     },
     "metadata": {},
     "output_type": "display_data"
    }
   ],
   "source": [
    "plt.scatter(*projectionTexte.T)"
   ]
  },
  {
   "cell_type": "code",
   "execution_count": 52,
   "metadata": {
    "collapsed": false
   },
   "outputs": [],
   "source": [
    "clustererTexte = hdbscan.HDBSCAN(metric='minkowski',p=3,min_cluster_size=5,min_samples=3)\n",
    "clustererTexte1 = hdbscan.HDBSCAN(metric='hamming',min_cluster_size=5,min_samples=3)\n",
    "clustererTexte2 = hdbscan.HDBSCAN(metric='braycurtis',min_cluster_size=5,min_samples=3)"
   ]
  },
  {
   "cell_type": "code",
   "execution_count": 53,
   "metadata": {
    "collapsed": false
   },
   "outputs": [
    {
     "data": {
      "text/plain": [
       "HDBSCAN(algorithm='best', allow_single_cluster=False, alpha=1.0,\n",
       "    approx_min_span_tree=True, core_dist_n_jobs=4, gen_min_span_tree=False,\n",
       "    leaf_size=40, match_reference_implementation=False,\n",
       "    memory=Memory(cachedir=None), metric='braycurtis', min_cluster_size=5,\n",
       "    min_samples=3, p=None)"
      ]
     },
     "execution_count": 53,
     "metadata": {},
     "output_type": "execute_result"
    }
   ],
   "source": [
    "clustererTexte.fit(dataTexte)\n",
    "clustererTexte1.fit(dataTexte)\n",
    "clustererTexte2.fit(dataTexte)"
   ]
  },
  {
   "cell_type": "code",
   "execution_count": 54,
   "metadata": {
    "collapsed": false
   },
   "outputs": [
    {
     "data": {
      "image/png": "[encoded data removed]",
      "text/plain": [
       "<matplotlib.figure.Figure at 0x7f4fe6d93940>"
      ]
     },
     "metadata": {},
     "output_type": "display_data"
    }
   ],
   "source": [
    "fig, ax = plt.subplots(1, 3, figsize=(12,4), sharex=False, sharey=False)\n",
    "\n",
    "clustererTexte.single_linkage_tree_.plot(truncate_mode='lastp',p=10,cmap='viridis', colorbar=False, axis=ax[0])\n",
    "clustererTexte1.single_linkage_tree_.plot(truncate_mode='lastp',p=10,cmap='viridis', colorbar=False, axis=ax[1])\n",
    "clustererTexte2.single_linkage_tree_.plot(truncate_mode='lastp',p=10,cmap='viridis', colorbar=True, axis=ax[2])\n",
    "\n",
    "plt.tight_layout()"
   ]
  },
  {
   "cell_type": "code",
   "execution_count": 55,
   "metadata": {
    "collapsed": true
   },
   "outputs": [],
   "source": [
    "color_palette = sns.color_palette('Paired', 50)\n",
    "\n",
    "cluster_colors = [color_palette[x] if x >= 0 else (0.5, 0.5, 0.5) for x in clustererTexte.labels_]\n",
    "cluster_member_colors = [sns.desaturate(x, p) for x, p in zip(cluster_colors, clustererTexte.probabilities_)]\n",
    "\n",
    "cluster_colors1 = [color_palette[x] if x >= 0 else (0.5, 0.5, 0.5) for x in clustererTexte1.labels_]\n",
    "cluster_member_colors1 = [sns.desaturate(x, p) for x, p in zip(cluster_colors1, clustererTexte1.probabilities_)]\n",
    "\n",
    "cluster_colors2 = [color_palette[x] if x >= 0 else (0.5, 0.5, 0.5) for x in clustererTexte2.labels_]\n",
    "cluster_member_colors2 = [sns.desaturate(x, p) for x, p in zip(cluster_colors2, clustererTexte2.probabilities_)]"
   ]
  },
  {
   "cell_type": "code",
   "execution_count": 56,
   "metadata": {
    "collapsed": false
   },
   "outputs": [
    {
     "data": {
      "image/png": "[encoded data removed]",
      "text/plain": [
       "<matplotlib.figure.Figure at 0x7f4fe71b7f60>"
      ]
     },
     "metadata": {},
     "output_type": "display_data"
    }
   ],
   "source": [
    "fig = plt.figure(figsize=(12,4))\n",
    "\n",
    "ax1 = fig.add_subplot(131)\n",
    "ax2 = fig.add_subplot(132)\n",
    "ax3 = fig.add_subplot(133)\n",
    "\n",
    "ax1.scatter(*projectionTexte.T, s=50, linewidth=0, c=cluster_member_colors, alpha=0.25)\n",
    "ax2.scatter(*projectionTexte.T, s=50, linewidth=0, c=cluster_member_colors1, alpha=0.25)\n",
    "ax3.scatter(*projectionTexte.T, s=50, linewidth=0, c=cluster_member_colors2, alpha=0.25)\n",
    "\n",
    "plt.tight_layout()"
   ]
  },
  {
   "cell_type": "code",
   "execution_count": null,
   "metadata": {
    "collapsed": true
   },
   "outputs": [],
   "source": []
  }
 ],
 "metadata": {
  "anaconda-cloud": {},
  "kernelspec": {
   "display_name": "Python [Root]",
   "language": "python",
   "name": "Python [Root]"
  },
  "language_info": {
   "codemirror_mode": {
    "name": "ipython",
    "version": 3
   },
   "file_extension": ".py",
   "mimetype": "text/x-python",
   "name": "python",
   "nbconvert_exporter": "python",
   "pygments_lexer": "ipython3",
   "version": "3.5.2"
  },
  "latex_envs": {
   "bibliofile": "biblio.bib",
   "cite_by": "apalike",
   "current_citInitial": 1,
   "eqLabelWithNumbers": true,
   "eqNumInitial": 0
  },
  "nav_menu": {},
  "toc": {
   "navigate_menu": true,
   "number_sections": true,
   "sideBar": true,
   "threshold": 6,
   "toc_cell": false,
   "toc_section_display": "block",
   "toc_window_display": false
  }
 },
 "nbformat": 4,
 "nbformat_minor": 2
}
