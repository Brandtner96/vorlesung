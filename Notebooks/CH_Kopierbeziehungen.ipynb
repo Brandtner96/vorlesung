{
 "cells": [
  {
   "cell_type": "code",
   "execution_count": 1,
   "metadata": {
    "collapsed": true
   },
   "outputs": [],
   "source": [
    "import pandas as pd\n",
    "import numpy as np\n",
    "\n",
    "from itertools import combinations_with_replacement as combrep\n",
    "from itertools import permutations\n",
    "\n",
    "import seaborn as sns"
   ]
  },
  {
   "cell_type": "markdown",
   "metadata": {},
   "source": [
    "# Vorlesung: Kopierbeziehungen von Diagrammen\n",
    "\n",
    "## Kopierbeziehungen\n",
    "\n",
    "Drei mögliche Szenarien treten für die Kopierbeziehungen zwischen zwei Diagrammen A und B auf. A kann eine Kopie von B sein, oder B eine Kopie von A, wenn beide Diagramme eine direkte Verwandschaftsbeziehung haben. Natürlich könnten auch beide Diagramme von einer gemeinsamen Vorlage C kopiert worden sein, die z.B. verloren gegangen ist.\n",
    "\n",
    "Zum Festlegen einer Kopierbeziehung nutzen wir die Merkmale der Diagramme. Bei einem Kopiervorgang will ein Kopist alle Merkmale einer Vorlage übernehmen.  Durch Fehler können zufällig Merkmale verloren gehen. Es ist aber eher unwahrscheinlich, dass ein Kopist Merkmale hinzufügt, die in einer Vorlage nicht vorhanden waren. "
   ]
  },
  {
   "cell_type": "markdown",
   "metadata": {},
   "source": [
    "Diese Kopierbeziehungen können durch eine einfache Anweisung kodiert werden. Wir vergleichen alle Stellen eines Beschreibungsvektors für ein Diagramm A mit einem anderen Diagramm B. Ist in A ein Merkmal vorhanden, aber in B nicht (1->0), weisen wir diesem Kopiervorgang eine Wahrscheinlichkeit von P zu. Das heißt es ist wahrscheinlich zufällige Fehler zu machen. Ist in A hingegen ein Merkmal nicht vorhanden, in B aber schon (0->1), ordnen wir diesem Vorgang die Wahrscheinlichkeit P(1-P) zu, wie oben argumentiert. Auch der wenn sich in A und B jeweils das selbe Merkmal finden (1->1), ordnen wir eine Wahrscheinlichkeit zu (1-P), da nicht immer ideale Kopien gemacht werden. "
   ]
  },
  {
   "cell_type": "code",
   "execution_count": 2,
   "metadata": {
    "collapsed": false
   },
   "outputs": [],
   "source": [
    "def kopierbeziehungen(p,u,v):                # p ist die Wahrscheinlichkeit für einen fehlerfreien Kopierprozess, u und v sind Merkmalsvektoren\n",
    "    prop = []\n",
    "    for i in range(len(u)):                  # für jedes Paar von Merkmalseinträgen überprüfen wir die Kopierbeziehung\n",
    "        if u[i] > v[i]:                      # Wahrscheinlichkeit für irgendeinen Fehler ist P = (1-p) \n",
    "            prop.append((1-p))\n",
    "        elif u[i] < v[i]:                    # Wahrsch. zufällig ein bestimmtes Merkmal hinzuzufügen ist P=p(1-p)^(Anzahl der Merkmale)\n",
    "            prop.append(p*(1-p)**(len(u)-1))\n",
    "        elif u[i] == v[i]:                   # Wahrsch. eine Kopie ohne Fehler herzustellen ist P=p\n",
    "            prop.append(p)\n",
    "        else:\n",
    "            pass\n",
    "    res = np.product(prop)                   # Die gesamte Wahrscheinlichkeit für eine Kopierbeziehung von u -> v ist das Produkt aller Teil-Wahrscheinlichkeiten \n",
    "    return print('{} -> {}: p='.format(u,v),res)"
   ]
  },
  {
   "cell_type": "markdown",
   "metadata": {},
   "source": [
    "Mit der Funktion zip(u,v) können wir die Merkmalsvektoren zweier Diagramme verknüpfen. Gleiche Stellen des Vektors werden zu einem Tupel, einer nicht veränderbaren Gruppe, zusammengefasst. Für jedem Eintrag des Tupels prüfen wir, ob der Eintrag von A größer, kleiner oder gleich dem Eintrag von B ist. Aus der so entstanden Vergleichsliste für alle Stellen des Merkmalsvektors bilden wir dann das Produkt, welches die Gesamtwahrscheinlichkeit der Kopierbeziehung beschreibt. "
   ]
  },
  {
   "cell_type": "markdown",
   "metadata": {},
   "source": [
    "Für zwei hypothetische Diagramme A und B haben wir folgende Merkmale verzeichnet."
   ]
  },
  {
   "cell_type": "code",
   "execution_count": 3,
   "metadata": {
    "collapsed": true
   },
   "outputs": [],
   "source": [
    "A = [1,1,1]\n",
    "B = [0,1,1]\n",
    "C = [1,1,0]"
   ]
  },
  {
   "cell_type": "markdown",
   "metadata": {},
   "source": [
    "Nun testen wir, welche Kopierfolge wahrscheinlicher ist."
   ]
  },
  {
   "cell_type": "code",
   "execution_count": 4,
   "metadata": {
    "collapsed": false
   },
   "outputs": [
    {
     "name": "stdout",
     "output_type": "stream",
     "text": [
      "[1, 1, 1] -> [0, 1, 1]: p= 0.00107407407407\n"
     ]
    }
   ],
   "source": [
    "kopierbeziehungen(p=1/30,u=A,v=B)"
   ]
  },
  {
   "cell_type": "code",
   "execution_count": 5,
   "metadata": {
    "collapsed": false
   },
   "outputs": [
    {
     "name": "stdout",
     "output_type": "stream",
     "text": [
      "[0, 1, 1] -> [1, 1, 1]: p= 3.46090534979e-05\n"
     ]
    }
   ],
   "source": [
    "kopierbeziehungen(p=1/30,u=B,v=A)"
   ]
  },
  {
   "cell_type": "markdown",
   "metadata": {},
   "source": [
    "Wie zuvor festgelegt, ist ein Verlust zweier Merkmale deutlich wahrscheinlicher, als das Hinzufügen. Daher ist B wahrscheinlich eine Kopie von A. \n",
    "\n",
    "Das Testen der dritten Hypothese ist mit den zwei Merkmalsvektoren nicht möglich. Hier für müssen wir Informationen über alle möglichen anderen Vektoren haben. Dies erfolgt im nächsten Abschnitt."
   ]
  },
  {
   "cell_type": "markdown",
   "metadata": {},
   "source": [
    "## Testen aller möglichen Kopierbeziehungen\n",
    "\n",
    "Um die Möglichkeit einer gemeinsamen Kopiervorlage zu überprüfen, konstruieren wir als erstes alle `2^N` = 8 möglichen Ausprägungen des Merkmalsvektors. Bei drei Merkmalen gibt es je eine Konfiguration mit allen bzw. keinen vorhandenden Merkmalen. Ein oder zwei Merkmale können auf je 3 verschiedene Arten auftreten. Diese Möglichkeiten sind durch die Binomialverteilung beschrieben (Länge des Vektors über Anzahl vorhandener Merkmale)."
   ]
  },
  {
   "cell_type": "code",
   "execution_count": 6,
   "metadata": {
    "collapsed": false
   },
   "outputs": [
    {
     "data": {
      "text/plain": [
       "[[(0, 0, 0)],\n",
       " [(1, 0, 0)],\n",
       " [(0, 1, 0)],\n",
       " [(0, 0, 1)],\n",
       " [(0, 1, 1)],\n",
       " [(1, 1, 0)],\n",
       " [(1, 0, 1)],\n",
       " [(1, 1, 1)]]"
      ]
     },
     "execution_count": 6,
     "metadata": {},
     "output_type": "execute_result"
    }
   ],
   "source": [
    "l = [list(set(permutations(x))) for x in combrep(range(2),3)]\n",
    "ll = [[x] for y in l for x in y]\n",
    "ll"
   ]
  },
  {
   "cell_type": "markdown",
   "metadata": {},
   "source": [
    "Für die Erzeugung des Dataframes übergeben wir die Liste mit dem gewünschtem Spaltennamen."
   ]
  },
  {
   "cell_type": "code",
   "execution_count": 7,
   "metadata": {
    "collapsed": false
   },
   "outputs": [
    {
     "data": {
      "text/html": [
       "<div>\n",
       "<table border=\"1\" class=\"dataframe\">\n",
       "  <thead>\n",
       "    <tr style=\"text-align: right;\">\n",
       "      <th></th>\n",
       "      <th>vek</th>\n",
       "    </tr>\n",
       "  </thead>\n",
       "  <tbody>\n",
       "    <tr>\n",
       "      <th>0</th>\n",
       "      <td>[0, 0, 0]</td>\n",
       "    </tr>\n",
       "    <tr>\n",
       "      <th>1</th>\n",
       "      <td>[1, 0, 0]</td>\n",
       "    </tr>\n",
       "  </tbody>\n",
       "</table>\n",
       "</div>"
      ],
      "text/plain": [
       "         vek\n",
       "0  [0, 0, 0]\n",
       "1  [1, 0, 0]"
      ]
     },
     "execution_count": 7,
     "metadata": {},
     "output_type": "execute_result"
    }
   ],
   "source": [
    "dfSimulation = pd.DataFrame(ll,columns=['vek'])\n",
    "dfSimulation['vek'] = dfSimulation['vek'].apply(lambda r: list(r))\n",
    "dfSimulation.head(2)"
   ]
  },
  {
   "cell_type": "code",
   "execution_count": 8,
   "metadata": {
    "collapsed": true
   },
   "outputs": [],
   "source": [
    "def kopierbez(p, u, v):\n",
    "    res = np.product([(1-p) if i[0] > i[1] else (p)*(1-p)**(len(u)-1) if i[0] < i[1] else (p) for i in zip(u,v)])\n",
    "    return res"
   ]
  },
  {
   "cell_type": "markdown",
   "metadata": {},
   "source": [
    "Um die Kopierbeziehung zweier Vektoren zu erhalten, wenden wir die oben definierte Funktion auf die Spalte 'vek' an. Für jeden möglichen Vektor j fügen wir eine neue Spalte mit Namen 'j' zu dem Dataframe hinzu, deren Elemente `a_ij` die Wahrscheinlichkeit beschreiben, dass j eine Kopie von i ist. "
   ]
  },
  {
   "cell_type": "code",
   "execution_count": 9,
   "metadata": {
    "collapsed": false
   },
   "outputs": [
    {
     "data": {
      "text/html": [
       "<div>\n",
       "<table border=\"1\" class=\"dataframe\">\n",
       "  <thead>\n",
       "    <tr style=\"text-align: right;\">\n",
       "      <th></th>\n",
       "      <th>vek</th>\n",
       "      <th>0: [0, 0, 0]</th>\n",
       "      <th>1: [1, 0, 0]</th>\n",
       "      <th>2: [0, 1, 0]</th>\n",
       "      <th>3: [0, 0, 1]</th>\n",
       "      <th>4: [0, 1, 1]</th>\n",
       "      <th>5: [1, 1, 0]</th>\n",
       "      <th>6: [1, 0, 1]</th>\n",
       "      <th>7: [1, 1, 1]</th>\n",
       "    </tr>\n",
       "  </thead>\n",
       "  <tbody>\n",
       "    <tr>\n",
       "      <th>0</th>\n",
       "      <td>[0, 0, 0]</td>\n",
       "      <td>0.037037</td>\n",
       "      <td>0.016461</td>\n",
       "      <td>0.016461</td>\n",
       "      <td>0.016461</td>\n",
       "      <td>0.007316</td>\n",
       "      <td>0.007316</td>\n",
       "      <td>0.007316</td>\n",
       "      <td>0.003252</td>\n",
       "    </tr>\n",
       "    <tr>\n",
       "      <th>1</th>\n",
       "      <td>[1, 0, 0]</td>\n",
       "      <td>0.074074</td>\n",
       "      <td>0.037037</td>\n",
       "      <td>0.032922</td>\n",
       "      <td>0.032922</td>\n",
       "      <td>0.014632</td>\n",
       "      <td>0.016461</td>\n",
       "      <td>0.016461</td>\n",
       "      <td>0.007316</td>\n",
       "    </tr>\n",
       "  </tbody>\n",
       "</table>\n",
       "</div>"
      ],
      "text/plain": [
       "         vek  0: [0, 0, 0]  1: [1, 0, 0]  2: [0, 1, 0]  3: [0, 0, 1]  \\\n",
       "0  [0, 0, 0]      0.037037      0.016461      0.016461      0.016461   \n",
       "1  [1, 0, 0]      0.074074      0.037037      0.032922      0.032922   \n",
       "\n",
       "   4: [0, 1, 1]  5: [1, 1, 0]  6: [1, 0, 1]  7: [1, 1, 1]  \n",
       "0      0.007316      0.007316      0.007316      0.003252  \n",
       "1      0.014632      0.016461      0.016461      0.007316  "
      ]
     },
     "execution_count": 9,
     "metadata": {},
     "output_type": "execute_result"
    }
   ],
   "source": [
    "for x in dfSimulation.index:\n",
    "    dfSimulation['{}: {}'.format(x,dfSimulation['vek'].iloc[x])] = dfSimulation['vek'].apply(lambda r: kopierbez(1/3,r, dfSimulation['vek'].iloc[x]))\n",
    "dfSimulation.head(2)"
   ]
  },
  {
   "cell_type": "markdown",
   "metadata": {},
   "source": [
    "Wir setzen nun den Merkmalsvektor als neuen Index und wenden einen Filter auf die Einträge an. Wahrscheinlichkeit die kleiner als 0.05 sind, werden 0 gesetzt. "
   ]
  },
  {
   "cell_type": "code",
   "execution_count": 10,
   "metadata": {
    "collapsed": true
   },
   "outputs": [],
   "source": [
    "dfSimulation = dfSimulation.set_index('vek')"
   ]
  },
  {
   "cell_type": "code",
   "execution_count": 11,
   "metadata": {
    "collapsed": false
   },
   "outputs": [
    {
     "data": {
      "text/html": [
       "<div>\n",
       "<table border=\"1\" class=\"dataframe\">\n",
       "  <thead>\n",
       "    <tr style=\"text-align: right;\">\n",
       "      <th></th>\n",
       "      <th>0: [0, 0, 0]</th>\n",
       "      <th>1: [1, 0, 0]</th>\n",
       "      <th>2: [0, 1, 0]</th>\n",
       "      <th>3: [0, 0, 1]</th>\n",
       "      <th>4: [0, 1, 1]</th>\n",
       "      <th>5: [1, 1, 0]</th>\n",
       "      <th>6: [1, 0, 1]</th>\n",
       "      <th>7: [1, 1, 1]</th>\n",
       "    </tr>\n",
       "    <tr>\n",
       "      <th>vek</th>\n",
       "      <th></th>\n",
       "      <th></th>\n",
       "      <th></th>\n",
       "      <th></th>\n",
       "      <th></th>\n",
       "      <th></th>\n",
       "      <th></th>\n",
       "      <th></th>\n",
       "    </tr>\n",
       "  </thead>\n",
       "  <tbody>\n",
       "    <tr>\n",
       "      <th>[0, 0, 0]</th>\n",
       "      <td>0.037037</td>\n",
       "      <td>0.016461</td>\n",
       "      <td>0.016461</td>\n",
       "      <td>0.016461</td>\n",
       "      <td>0.0</td>\n",
       "      <td>0.000000</td>\n",
       "      <td>0.000000</td>\n",
       "      <td>0.0</td>\n",
       "    </tr>\n",
       "    <tr>\n",
       "      <th>[1, 0, 0]</th>\n",
       "      <td>0.074074</td>\n",
       "      <td>0.037037</td>\n",
       "      <td>0.032922</td>\n",
       "      <td>0.032922</td>\n",
       "      <td>0.0</td>\n",
       "      <td>0.016461</td>\n",
       "      <td>0.016461</td>\n",
       "      <td>0.0</td>\n",
       "    </tr>\n",
       "  </tbody>\n",
       "</table>\n",
       "</div>"
      ],
      "text/plain": [
       "           0: [0, 0, 0]  1: [1, 0, 0]  2: [0, 1, 0]  3: [0, 0, 1]  \\\n",
       "vek                                                                 \n",
       "[0, 0, 0]      0.037037      0.016461      0.016461      0.016461   \n",
       "[1, 0, 0]      0.074074      0.037037      0.032922      0.032922   \n",
       "\n",
       "           4: [0, 1, 1]  5: [1, 1, 0]  6: [1, 0, 1]  7: [1, 1, 1]  \n",
       "vek                                                                \n",
       "[0, 0, 0]           0.0      0.000000      0.000000           0.0  \n",
       "[1, 0, 0]           0.0      0.016461      0.016461           0.0  "
      ]
     },
     "execution_count": 11,
     "metadata": {},
     "output_type": "execute_result"
    }
   ],
   "source": [
    "dfSimulation = dfSimulation.applymap(lambda x: x if (x > 0.015) else 0)\n",
    "dfSimulation.head(2)"
   ]
  },
  {
   "cell_type": "markdown",
   "metadata": {},
   "source": [
    "Der Dataframe dfSimulation beschreibt nun alle möglichen Kopierbeziehungen. "
   ]
  },
  {
   "cell_type": "markdown",
   "metadata": {},
   "source": [
    "## Untersuchung zu Epiphänomenen\n",
    "\n",
    "Um mögliche gemeinsame Kopiervorlagen zu suchen, konzentrieren wir uns auf die zwei Merkmalsvektoren (1,1,0) und (1,0,1). Um die hohen Wahrscheinlichkeiten besser sichtbar zu machen, unterlegen wir die Zellen in Abhängigkeit ihres Wertes farblich. \n",
    "\n",
    "Da wir mögliche Vorlagen suche, von denen zwei Vektoren Kopien sind, müssen wir die Spalten der \"Ziel\"-Merkmalsvektoren auswählen. "
   ]
  },
  {
   "cell_type": "code",
   "execution_count": 12,
   "metadata": {
    "collapsed": false
   },
   "outputs": [
    {
     "data": {
      "text/html": [
       "\n",
       "        <style  type=\"text/css\" >\n",
       "        \n",
       "        \n",
       "            #T_c48aba36_e39e_11e6_ad78_52540071b085row0_col1 {\n",
       "            \n",
       "                background-color:  #ebf8f9;\n",
       "            \n",
       "            }\n",
       "        \n",
       "            #T_c48aba36_e39e_11e6_ad78_52540071b085row0_col2 {\n",
       "            \n",
       "                background-color:  #ebf8f9;\n",
       "            \n",
       "            }\n",
       "        \n",
       "            #T_c48aba36_e39e_11e6_ad78_52540071b085row1_col1 {\n",
       "            \n",
       "                background-color:  #c2e4e9;\n",
       "            \n",
       "            }\n",
       "        \n",
       "            #T_c48aba36_e39e_11e6_ad78_52540071b085row1_col2 {\n",
       "            \n",
       "                background-color:  #c2e4e9;\n",
       "            \n",
       "            }\n",
       "        \n",
       "            #T_c48aba36_e39e_11e6_ad78_52540071b085row2_col1 {\n",
       "            \n",
       "                background-color:  #c2e4e9;\n",
       "            \n",
       "            }\n",
       "        \n",
       "            #T_c48aba36_e39e_11e6_ad78_52540071b085row2_col2 {\n",
       "            \n",
       "                background-color:  #ebf8f9;\n",
       "            \n",
       "            }\n",
       "        \n",
       "            #T_c48aba36_e39e_11e6_ad78_52540071b085row3_col1 {\n",
       "            \n",
       "                background-color:  #ebf8f9;\n",
       "            \n",
       "            }\n",
       "        \n",
       "            #T_c48aba36_e39e_11e6_ad78_52540071b085row3_col2 {\n",
       "            \n",
       "                background-color:  #c2e4e9;\n",
       "            \n",
       "            }\n",
       "        \n",
       "            #T_c48aba36_e39e_11e6_ad78_52540071b085row4_col1 {\n",
       "            \n",
       "                background-color:  #98d0d8;\n",
       "            \n",
       "            }\n",
       "        \n",
       "            #T_c48aba36_e39e_11e6_ad78_52540071b085row4_col2 {\n",
       "            \n",
       "                background-color:  #98d0d8;\n",
       "            \n",
       "            }\n",
       "        \n",
       "            #T_c48aba36_e39e_11e6_ad78_52540071b085row5_col1 {\n",
       "            \n",
       "                background-color:  #8ecbd4;\n",
       "            \n",
       "            }\n",
       "        \n",
       "            #T_c48aba36_e39e_11e6_ad78_52540071b085row5_col2 {\n",
       "            \n",
       "                background-color:  #98d0d8;\n",
       "            \n",
       "            }\n",
       "        \n",
       "            #T_c48aba36_e39e_11e6_ad78_52540071b085row6_col1 {\n",
       "            \n",
       "                background-color:  #98d0d8;\n",
       "            \n",
       "            }\n",
       "        \n",
       "            #T_c48aba36_e39e_11e6_ad78_52540071b085row6_col2 {\n",
       "            \n",
       "                background-color:  #8dcbd4;\n",
       "            \n",
       "            }\n",
       "        \n",
       "            #T_c48aba36_e39e_11e6_ad78_52540071b085row7_col1 {\n",
       "            \n",
       "                background-color:  #309eaf;\n",
       "            \n",
       "            }\n",
       "        \n",
       "            #T_c48aba36_e39e_11e6_ad78_52540071b085row7_col2 {\n",
       "            \n",
       "                background-color:  #309eaf;\n",
       "            \n",
       "            }\n",
       "        \n",
       "        </style>\n",
       "\n",
       "        <table id=\"T_c48aba36_e39e_11e6_ad78_52540071b085\" None>\n",
       "        \n",
       "\n",
       "        <thead>\n",
       "            \n",
       "            <tr>\n",
       "                \n",
       "                \n",
       "                <th class=\"blank level0\" >\n",
       "                  \n",
       "                \n",
       "                \n",
       "                \n",
       "                <th class=\"col_heading level0 col0\" colspan=1>\n",
       "                  vek\n",
       "                \n",
       "                \n",
       "                \n",
       "                <th class=\"col_heading level0 col1\" colspan=1>\n",
       "                  5: [1, 1, 0]\n",
       "                \n",
       "                \n",
       "                \n",
       "                <th class=\"col_heading level0 col2\" colspan=1>\n",
       "                  6: [1, 0, 1]\n",
       "                \n",
       "                \n",
       "            </tr>\n",
       "            \n",
       "        </thead>\n",
       "        <tbody>\n",
       "            \n",
       "            <tr>\n",
       "                \n",
       "                \n",
       "                <th id=\"T_c48aba36_e39e_11e6_ad78_52540071b085\"\n",
       "                 class=\"row_heading level0 row0\" rowspan=1>\n",
       "                    0\n",
       "                \n",
       "                \n",
       "                \n",
       "                <td id=\"T_c48aba36_e39e_11e6_ad78_52540071b085row0_col0\"\n",
       "                 class=\"data row0 col0\" >\n",
       "                    [0, 0, 0]\n",
       "                \n",
       "                \n",
       "                \n",
       "                <td id=\"T_c48aba36_e39e_11e6_ad78_52540071b085row0_col1\"\n",
       "                 class=\"data row0 col1\" >\n",
       "                    0\n",
       "                \n",
       "                \n",
       "                \n",
       "                <td id=\"T_c48aba36_e39e_11e6_ad78_52540071b085row0_col2\"\n",
       "                 class=\"data row0 col2\" >\n",
       "                    0\n",
       "                \n",
       "                \n",
       "            </tr>\n",
       "            \n",
       "            <tr>\n",
       "                \n",
       "                \n",
       "                <th id=\"T_c48aba36_e39e_11e6_ad78_52540071b085\"\n",
       "                 class=\"row_heading level0 row1\" rowspan=1>\n",
       "                    1\n",
       "                \n",
       "                \n",
       "                \n",
       "                <td id=\"T_c48aba36_e39e_11e6_ad78_52540071b085row1_col0\"\n",
       "                 class=\"data row1 col0\" >\n",
       "                    [1, 0, 0]\n",
       "                \n",
       "                \n",
       "                \n",
       "                <td id=\"T_c48aba36_e39e_11e6_ad78_52540071b085row1_col1\"\n",
       "                 class=\"data row1 col1\" >\n",
       "                    0.0164609\n",
       "                \n",
       "                \n",
       "                \n",
       "                <td id=\"T_c48aba36_e39e_11e6_ad78_52540071b085row1_col2\"\n",
       "                 class=\"data row1 col2\" >\n",
       "                    0.0164609\n",
       "                \n",
       "                \n",
       "            </tr>\n",
       "            \n",
       "            <tr>\n",
       "                \n",
       "                \n",
       "                <th id=\"T_c48aba36_e39e_11e6_ad78_52540071b085\"\n",
       "                 class=\"row_heading level0 row2\" rowspan=1>\n",
       "                    2\n",
       "                \n",
       "                \n",
       "                \n",
       "                <td id=\"T_c48aba36_e39e_11e6_ad78_52540071b085row2_col0\"\n",
       "                 class=\"data row2 col0\" >\n",
       "                    [0, 1, 0]\n",
       "                \n",
       "                \n",
       "                \n",
       "                <td id=\"T_c48aba36_e39e_11e6_ad78_52540071b085row2_col1\"\n",
       "                 class=\"data row2 col1\" >\n",
       "                    0.0164609\n",
       "                \n",
       "                \n",
       "                \n",
       "                <td id=\"T_c48aba36_e39e_11e6_ad78_52540071b085row2_col2\"\n",
       "                 class=\"data row2 col2\" >\n",
       "                    0\n",
       "                \n",
       "                \n",
       "            </tr>\n",
       "            \n",
       "            <tr>\n",
       "                \n",
       "                \n",
       "                <th id=\"T_c48aba36_e39e_11e6_ad78_52540071b085\"\n",
       "                 class=\"row_heading level0 row3\" rowspan=1>\n",
       "                    3\n",
       "                \n",
       "                \n",
       "                \n",
       "                <td id=\"T_c48aba36_e39e_11e6_ad78_52540071b085row3_col0\"\n",
       "                 class=\"data row3 col0\" >\n",
       "                    [0, 0, 1]\n",
       "                \n",
       "                \n",
       "                \n",
       "                <td id=\"T_c48aba36_e39e_11e6_ad78_52540071b085row3_col1\"\n",
       "                 class=\"data row3 col1\" >\n",
       "                    0\n",
       "                \n",
       "                \n",
       "                \n",
       "                <td id=\"T_c48aba36_e39e_11e6_ad78_52540071b085row3_col2\"\n",
       "                 class=\"data row3 col2\" >\n",
       "                    0.0164609\n",
       "                \n",
       "                \n",
       "            </tr>\n",
       "            \n",
       "            <tr>\n",
       "                \n",
       "                \n",
       "                <th id=\"T_c48aba36_e39e_11e6_ad78_52540071b085\"\n",
       "                 class=\"row_heading level0 row4\" rowspan=1>\n",
       "                    4\n",
       "                \n",
       "                \n",
       "                \n",
       "                <td id=\"T_c48aba36_e39e_11e6_ad78_52540071b085row4_col0\"\n",
       "                 class=\"data row4 col0\" >\n",
       "                    [0, 1, 1]\n",
       "                \n",
       "                \n",
       "                \n",
       "                <td id=\"T_c48aba36_e39e_11e6_ad78_52540071b085row4_col1\"\n",
       "                 class=\"data row4 col1\" >\n",
       "                    0.0329218\n",
       "                \n",
       "                \n",
       "                \n",
       "                <td id=\"T_c48aba36_e39e_11e6_ad78_52540071b085row4_col2\"\n",
       "                 class=\"data row4 col2\" >\n",
       "                    0.0329218\n",
       "                \n",
       "                \n",
       "            </tr>\n",
       "            \n",
       "            <tr>\n",
       "                \n",
       "                \n",
       "                <th id=\"T_c48aba36_e39e_11e6_ad78_52540071b085\"\n",
       "                 class=\"row_heading level0 row5\" rowspan=1>\n",
       "                    5\n",
       "                \n",
       "                \n",
       "                \n",
       "                <td id=\"T_c48aba36_e39e_11e6_ad78_52540071b085row5_col0\"\n",
       "                 class=\"data row5 col0\" >\n",
       "                    [1, 1, 0]\n",
       "                \n",
       "                \n",
       "                \n",
       "                <td id=\"T_c48aba36_e39e_11e6_ad78_52540071b085row5_col1\"\n",
       "                 class=\"data row5 col1\" >\n",
       "                    0.037037\n",
       "                \n",
       "                \n",
       "                \n",
       "                <td id=\"T_c48aba36_e39e_11e6_ad78_52540071b085row5_col2\"\n",
       "                 class=\"data row5 col2\" >\n",
       "                    0.0329218\n",
       "                \n",
       "                \n",
       "            </tr>\n",
       "            \n",
       "            <tr>\n",
       "                \n",
       "                \n",
       "                <th id=\"T_c48aba36_e39e_11e6_ad78_52540071b085\"\n",
       "                 class=\"row_heading level0 row6\" rowspan=1>\n",
       "                    6\n",
       "                \n",
       "                \n",
       "                \n",
       "                <td id=\"T_c48aba36_e39e_11e6_ad78_52540071b085row6_col0\"\n",
       "                 class=\"data row6 col0\" >\n",
       "                    [1, 0, 1]\n",
       "                \n",
       "                \n",
       "                \n",
       "                <td id=\"T_c48aba36_e39e_11e6_ad78_52540071b085row6_col1\"\n",
       "                 class=\"data row6 col1\" >\n",
       "                    0.0329218\n",
       "                \n",
       "                \n",
       "                \n",
       "                <td id=\"T_c48aba36_e39e_11e6_ad78_52540071b085row6_col2\"\n",
       "                 class=\"data row6 col2\" >\n",
       "                    0.037037\n",
       "                \n",
       "                \n",
       "            </tr>\n",
       "            \n",
       "            <tr>\n",
       "                \n",
       "                \n",
       "                <th id=\"T_c48aba36_e39e_11e6_ad78_52540071b085\"\n",
       "                 class=\"row_heading level0 row7\" rowspan=1>\n",
       "                    7\n",
       "                \n",
       "                \n",
       "                \n",
       "                <td id=\"T_c48aba36_e39e_11e6_ad78_52540071b085row7_col0\"\n",
       "                 class=\"data row7 col0\" >\n",
       "                    [1, 1, 1]\n",
       "                \n",
       "                \n",
       "                \n",
       "                <td id=\"T_c48aba36_e39e_11e6_ad78_52540071b085row7_col1\"\n",
       "                 class=\"data row7 col1\" >\n",
       "                    0.0740741\n",
       "                \n",
       "                \n",
       "                \n",
       "                <td id=\"T_c48aba36_e39e_11e6_ad78_52540071b085row7_col2\"\n",
       "                 class=\"data row7 col2\" >\n",
       "                    0.0740741\n",
       "                \n",
       "                \n",
       "            </tr>\n",
       "            \n",
       "        </tbody>\n",
       "        </table>\n",
       "        "
      ],
      "text/plain": [
       "<pandas.formats.style.Styler at 0x7f5402c03f98>"
      ]
     },
     "execution_count": 12,
     "metadata": {},
     "output_type": "execute_result"
    }
   ],
   "source": [
    "cm = sns.light_palette((210, 90, 60), input=\"husl\", as_cmap=True)\n",
    "\n",
    "s = dfSimulation[['5: [1, 1, 0]','6: [1, 0, 1]']].reset_index().style.background_gradient(cmap=cm)\n",
    "s"
   ]
  },
  {
   "cell_type": "markdown",
   "metadata": {},
   "source": [
    "Die Wahrscheinlichkeit, dass (1,1,0) eine Kopie von (1,0,1) ist, oder auch andersrum, ist gering. \n",
    "\n",
    "Wir suchen einen Merkmalsvektor, von dem beide Ziel-Vektoren mit genügend hoher Wahrscheinlichkeit Kopien sein können. Die bei weitem höchste Wahrscheinlichkeit führt hier auf den Vektor (1,1,1).\n",
    "\n",
    "Die Vermutung wäre daher, dass die beiden durch die Merkmalsvektoren beschriebenen Diagramme nicht direkt voneinander kopiert wurden, sondern von einer gemeinsamen Vorlage."
   ]
  }
 ],
 "metadata": {
  "anaconda-cloud": {},
  "kernelspec": {
   "display_name": "Python 3",
   "language": "python",
   "name": "python3"
  },
  "language_info": {
   "codemirror_mode": {
    "name": "ipython",
    "version": 3
   },
   "file_extension": ".py",
   "mimetype": "text/x-python",
   "name": "python",
   "nbconvert_exporter": "python",
   "pygments_lexer": "ipython3",
   "version": "3.5.2"
  },
  "latex_envs": {
   "bibliofile": "biblio.bib",
   "cite_by": "apalike",
   "current_citInitial": 1,
   "eqLabelWithNumbers": true,
   "eqNumInitial": 0
  },
  "nav_menu": {},
  "toc": {
   "navigate_menu": true,
   "number_sections": true,
   "sideBar": true,
   "threshold": 6,
   "toc_cell": false,
   "toc_section_display": "block",
   "toc_window_display": false
  }
 },
 "nbformat": 4,
 "nbformat_minor": 2
}
