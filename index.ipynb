{
 "cells": [
  {
   "cell_type": "markdown",
   "metadata": {},
   "source": [
    "# Wissenschaftstheoretische Aspekte der Digital Humanities\n",
    "\n",
    " "
   ]
  },
  {
   "cell_type": "markdown",
   "metadata": {},
   "source": [
    "Die Notebooks zu den jeweiligen Vorlesungen können in einer gestarteten Binder-Instanz unter folgenden Links bearbeitet werden. \n",
    "\n",
    "Die Instanzen werden nach einer Stunde ohne Aktivität wieder gelöscht. Änderungen müssen daher auf dem eigenen Rechner, USB-Stick, Google Driver o.ä. gespeichert werden. Dazu im obigen Menü (nur sichtbar in der Binder-Umgebung) *File* auswählen, dann *Download as* und *Notebook*. \n",
    "\n",
    "Die gespeicherten Notebooks können später wieder in einer neuen Instanz hochgeladen und bearbeitet werden. Dazu im *File* Menü auf *Open* klicken und in dem sich öffnenden Browserfenster auf den Knopf *Upload* drücken.\n"
   ]
  },
  {
   "cell_type": "markdown",
   "metadata": {},
   "source": [
    "## Thematische Notebooks"
   ]
  },
  {
   "cell_type": "markdown",
   "metadata": {},
   "source": [
    "[CH Quellen](./Notebooks/CH_Quellen.ipynb) Arbeiten mit Datenquellen"
   ]
  },
  {
   "cell_type": "markdown",
   "metadata": {},
   "source": [
    "[CH Dataframes](./Notebooks/CH_Dataframes.ipynb) Pandas Dataframes"
   ]
  },
  {
   "cell_type": "markdown",
   "metadata": {},
   "source": [
    "[CH NLTK](./Notebooks/CH_NLTK.ipynb) Natural Language ToolKit"
   ]
  },
  {
   "cell_type": "markdown",
   "metadata": {},
   "source": [
    "[CH CLTK](./Notebooks/CH_CLTK_Latin.ipynb) Classical Language Toolkit für Latein"
   ]
  },
  {
   "cell_type": "markdown",
   "metadata": {},
   "source": [
    "[CH_Webseiten_als_Quellen](./Notebooks/CH_Webseiten_als_Quellen.ipynb) Scraping von Webseiten als wissenschaftliche Quelle"
   ]
  },
  {
   "cell_type": "markdown",
   "metadata": {},
   "source": [
    "[CH_Clustering](./Notebooks/CH_Clustering_v2.ipynb) Cluster-Analyse von Texten und [Diagrammen](./Notebooks/CH_Clustering_DiagrammTyp.ipynb)"
   ]
  },
  {
   "cell_type": "markdown",
   "metadata": {},
   "source": [
    "[CH_Abstammungsbeziehungen](./Notebooks/CH_Abstammungsbeziehungen.ipynb) von Diagrammen"
   ]
  },
  {
   "cell_type": "markdown",
   "metadata": {},
   "source": [
    "[CH_Kopierbeziehungen](./Notebooks/CH_Kopierbeziehungen.ipynb) Wahrscheinlichkeiten und Kopierbeziehungen "
   ]
  },
  {
   "cell_type": "markdown",
   "metadata": {},
   "source": [
    "[CH_Machine_Learning_Kopierbeziehungen I](./Notebooks/CH_ML_Kopierbeziehungen-teil1.ipynb) Machinelles Lernen von Kopierbeziehungen: Problemstellung"
   ]
  },
  {
   "cell_type": "markdown",
   "metadata": {},
   "source": [
    "[CH_Machine_Learning_Kopierbeziehungen II](./Notebooks/CH_ML_Kopierbeziehungen-teil2.ipynb) Machinelles Lernen von Kopierbeziehungen: Anwendung"
   ]
  },
  {
   "cell_type": "markdown",
   "metadata": {},
   "source": [
    " "
   ]
  },
  {
   "cell_type": "markdown",
   "metadata": {},
   "source": [
    "[Exkurs](./Notebooks/Schelling/analysis.ipynb): Schellings Model der Segregation als Agenten-basierte Simulation"
   ]
  }
 ],
 "metadata": {
  "anaconda-cloud": {},
  "kernelspec": {
   "display_name": "Python 3",
   "language": "python",
   "name": "python3"
  },
  "language_info": {
   "codemirror_mode": {
    "name": "ipython",
    "version": 3
   },
   "file_extension": ".py",
   "mimetype": "text/x-python",
   "name": "python",
   "nbconvert_exporter": "python",
   "pygments_lexer": "ipython3",
   "version": "3.5.2"
  },
  "latex_envs": {
   "bibliofile": "biblio.bib",
   "cite_by": "apalike",
   "current_citInitial": 1,
   "eqLabelWithNumbers": true,
   "eqNumInitial": 0
  },
  "nav_menu": {},
  "toc": {
   "navigate_menu": true,
   "number_sections": true,
   "sideBar": true,
   "threshold": 6,
   "toc_cell": false,
   "toc_section_display": "block",
   "toc_window_display": false
  }
 },
 "nbformat": 4,
 "nbformat_minor": 0
}
